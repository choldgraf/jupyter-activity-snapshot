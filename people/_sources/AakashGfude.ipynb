{
 "cells": [
  {
   "cell_type": "markdown",
   "id": "b854c0f5",
   "metadata": {
    "papermill": {
     "duration": 0.017673,
     "end_time": "2021-11-10T01:34:25.109616",
     "exception": false,
     "start_time": "2021-11-10T01:34:25.091943",
     "status": "completed"
    },
    "tags": []
   },
   "source": [
    "# Report for AakashGfude"
   ]
  },
  {
   "cell_type": "code",
   "execution_count": 1,
   "id": "653d789e",
   "metadata": {
    "execution": {
     "iopub.execute_input": "2021-11-10T01:34:25.156778Z",
     "iopub.status.busy": "2021-11-10T01:34:25.156075Z",
     "iopub.status.idle": "2021-11-10T01:34:26.302244Z",
     "shell.execute_reply": "2021-11-10T01:34:26.301584Z"
    },
    "papermill": {
     "duration": 1.174294,
     "end_time": "2021-11-10T01:34:26.302429",
     "exception": false,
     "start_time": "2021-11-10T01:34:25.128135",
     "status": "completed"
    },
    "tags": [
     "remove_cell"
    ]
   },
   "outputs": [],
   "source": [
    "import seaborn as sns\n",
    "import pandas as pd\n",
    "import numpy as np\n",
    "import altair as alt\n",
    "from markdown import markdown\n",
    "from IPython.display import Markdown\n",
    "from ipywidgets.widgets import HTML, Tab\n",
    "from ipywidgets import widgets\n",
    "from datetime import timedelta\n",
    "from matplotlib import pyplot as plt\n",
    "import os.path as op\n",
    "\n",
    "from mycode import alt_theme\n",
    "from warnings import simplefilter\n",
    "simplefilter('ignore')"
   ]
  },
  {
   "cell_type": "code",
   "execution_count": 2,
   "id": "bbc98ee7",
   "metadata": {
    "execution": {
     "iopub.execute_input": "2021-11-10T01:34:26.343333Z",
     "iopub.status.busy": "2021-11-10T01:34:26.341846Z",
     "iopub.status.idle": "2021-11-10T01:34:26.345983Z",
     "shell.execute_reply": "2021-11-10T01:34:26.345425Z"
    },
    "papermill": {
     "duration": 0.025913,
     "end_time": "2021-11-10T01:34:26.346145",
     "exception": false,
     "start_time": "2021-11-10T01:34:26.320232",
     "status": "completed"
    },
    "tags": [
     "remove_cell"
    ]
   },
   "outputs": [],
   "source": [
    "def author_url(author):\n",
    "    return f\"https://github.com/{author}\""
   ]
  },
  {
   "cell_type": "code",
   "execution_count": 3,
   "id": "338382db",
   "metadata": {
    "execution": {
     "iopub.execute_input": "2021-11-10T01:34:26.384387Z",
     "iopub.status.busy": "2021-11-10T01:34:26.383676Z",
     "iopub.status.idle": "2021-11-10T01:34:26.387233Z",
     "shell.execute_reply": "2021-11-10T01:34:26.386536Z"
    },
    "papermill": {
     "duration": 0.025627,
     "end_time": "2021-11-10T01:34:26.387401",
     "exception": false,
     "start_time": "2021-11-10T01:34:26.361774",
     "status": "completed"
    },
    "tags": [
     "parameters",
     "hide_input"
    ]
   },
   "outputs": [],
   "source": [
    "# Parameters\n",
    "fmt_date = \"{:%Y-%m-%d}\"\n",
    "\n",
    "n_days = 30 * 2\n",
    "start_date = fmt_date.format(pd.datetime.today() - timedelta(days=n_days))\n",
    "end_date = fmt_date.format(pd.datetime.today())\n",
    "\n",
    "renderer = \"html\"\n",
    "person = \"jasongrout\""
   ]
  },
  {
   "cell_type": "code",
   "execution_count": 4,
   "id": "799371a7",
   "metadata": {
    "execution": {
     "iopub.execute_input": "2021-11-10T01:34:26.426614Z",
     "iopub.status.busy": "2021-11-10T01:34:26.425888Z",
     "iopub.status.idle": "2021-11-10T01:34:26.428566Z",
     "shell.execute_reply": "2021-11-10T01:34:26.427847Z"
    },
    "papermill": {
     "duration": 0.024217,
     "end_time": "2021-11-10T01:34:26.428729",
     "exception": false,
     "start_time": "2021-11-10T01:34:26.404512",
     "status": "completed"
    },
    "tags": [
     "injected-parameters",
     "remove-cell"
    ]
   },
   "outputs": [],
   "source": [
    "# Parameters\n",
    "person = \"AakashGfude\"\n",
    "n_days = 90\n"
   ]
  },
  {
   "cell_type": "code",
   "execution_count": 5,
   "id": "965bd351",
   "metadata": {
    "execution": {
     "iopub.execute_input": "2021-11-10T01:34:26.470471Z",
     "iopub.status.busy": "2021-11-10T01:34:26.469769Z",
     "iopub.status.idle": "2021-11-10T01:34:26.478468Z",
     "shell.execute_reply": "2021-11-10T01:34:26.479039Z"
    },
    "papermill": {
     "duration": 0.031481,
     "end_time": "2021-11-10T01:34:26.479225",
     "exception": false,
     "start_time": "2021-11-10T01:34:26.447744",
     "status": "completed"
    },
    "tags": [
     "remove_cell"
    ]
   },
   "outputs": [
    {
     "data": {
      "text/plain": [
       "ThemeRegistry.enable('my_theme')"
      ]
     },
     "execution_count": 5,
     "metadata": {},
     "output_type": "execute_result"
    }
   ],
   "source": [
    "alt.renderers.enable(renderer);\n",
    "alt.themes.register('my_theme', alt_theme)\n",
    "alt.themes.enable(\"my_theme\")"
   ]
  },
  {
   "cell_type": "markdown",
   "id": "f262f96a",
   "metadata": {
    "papermill": {
     "duration": 0.017375,
     "end_time": "2021-11-10T01:34:26.514056",
     "exception": false,
     "start_time": "2021-11-10T01:34:26.496681",
     "status": "completed"
    },
    "tags": []
   },
   "source": [
    "## Load data"
   ]
  },
  {
   "cell_type": "code",
   "execution_count": 6,
   "id": "144ea82c",
   "metadata": {
    "execution": {
     "iopub.execute_input": "2021-11-10T01:34:26.553787Z",
     "iopub.status.busy": "2021-11-10T01:34:26.552971Z",
     "iopub.status.idle": "2021-11-10T01:34:26.679532Z",
     "shell.execute_reply": "2021-11-10T01:34:26.678998Z"
    },
    "papermill": {
     "duration": 0.148938,
     "end_time": "2021-11-10T01:34:26.679704",
     "exception": false,
     "start_time": "2021-11-10T01:34:26.530766",
     "status": "completed"
    },
    "tags": [
     "remove_cell"
    ]
   },
   "outputs": [],
   "source": [
    "from pathlib import Path\n",
    "path_data = Path(\"./\")\n",
    "comments = pd.read_csv(path_data.joinpath('../data/comments.csv'), index_col=0)\n",
    "issues = pd.read_csv(path_data.joinpath('../data/issues.csv'), index_col=0)\n",
    "prs = pd.read_csv(path_data.joinpath('../data/prs.csv'), index_col=0)\n",
    "\n",
    "comments = comments.query('author == @person').drop_duplicates()\n",
    "issues = issues.query('author == @person').drop_duplicates()\n",
    "closed_by = prs.query('mergedBy == @person')\n",
    "prs = prs.query('author == @person').drop_duplicates()"
   ]
  },
  {
   "cell_type": "code",
   "execution_count": 7,
   "id": "cb8a3184",
   "metadata": {
    "execution": {
     "iopub.execute_input": "2021-11-10T01:34:26.719037Z",
     "iopub.status.busy": "2021-11-10T01:34:26.718356Z",
     "iopub.status.idle": "2021-11-10T01:34:26.776663Z",
     "shell.execute_reply": "2021-11-10T01:34:26.775972Z"
    },
    "papermill": {
     "duration": 0.079123,
     "end_time": "2021-11-10T01:34:26.776841",
     "exception": false,
     "start_time": "2021-11-10T01:34:26.697718",
     "status": "completed"
    },
    "tags": [
     "remove_cell"
    ]
   },
   "outputs": [],
   "source": [
    "# Time columns\n",
    "# Also drop dates outside of our range\n",
    "time_columns = ['updatedAt', 'createdAt', 'closedAt']\n",
    "for col in time_columns:\n",
    "    for item in [comments, issues, prs, closed_by]:\n",
    "        if col not in item.columns:\n",
    "            continue\n",
    "        dt = pd.to_datetime(item[col]).dt.tz_localize(None)\n",
    "        item[col] = dt\n",
    "        item.query(\"updatedAt < @end_date and updatedAt > @start_date\", inplace=True)"
   ]
  },
  {
   "cell_type": "markdown",
   "id": "61131dc4",
   "metadata": {
    "papermill": {
     "duration": 0.015674,
     "end_time": "2021-11-10T01:34:26.809532",
     "exception": false,
     "start_time": "2021-11-10T01:34:26.793858",
     "status": "completed"
    },
    "tags": []
   },
   "source": [
    "## Repository summaries"
   ]
  },
  {
   "cell_type": "code",
   "execution_count": 8,
   "id": "ac0c975d",
   "metadata": {
    "execution": {
     "iopub.execute_input": "2021-11-10T01:34:26.853663Z",
     "iopub.status.busy": "2021-11-10T01:34:26.852747Z",
     "iopub.status.idle": "2021-11-10T01:34:26.870423Z",
     "shell.execute_reply": "2021-11-10T01:34:26.870965Z"
    },
    "papermill": {
     "duration": 0.043197,
     "end_time": "2021-11-10T01:34:26.871141",
     "exception": false,
     "start_time": "2021-11-10T01:34:26.827944",
     "status": "completed"
    },
    "tags": [
     "remove_cell"
    ]
   },
   "outputs": [],
   "source": [
    "summaries = []\n",
    "for idata, name in [(issues, 'issues'), (prs, 'prs'), (comments, 'comments')]:\n",
    "    idata = idata.groupby([\"repo\", \"org\"]).agg({'id': \"count\"}).reset_index().rename(columns={'id': 'count'})\n",
    "    idata[\"kind\"] = name\n",
    "    summaries.append(idata)\n",
    "summaries = pd.concat(summaries)"
   ]
  },
  {
   "cell_type": "code",
   "execution_count": 9,
   "id": "b226fe63",
   "metadata": {
    "execution": {
     "iopub.execute_input": "2021-11-10T01:34:26.908981Z",
     "iopub.status.busy": "2021-11-10T01:34:26.908257Z",
     "iopub.status.idle": "2021-11-10T01:34:26.921185Z",
     "shell.execute_reply": "2021-11-10T01:34:26.920543Z"
    },
    "papermill": {
     "duration": 0.032774,
     "end_time": "2021-11-10T01:34:26.921327",
     "exception": false,
     "start_time": "2021-11-10T01:34:26.888553",
     "status": "completed"
    },
    "tags": [
     "remove_cell"
    ]
   },
   "outputs": [],
   "source": [
    "repo_summaries = summaries.groupby([\"repo\", \"kind\"]).agg({\"count\": \"sum\"}).reset_index()\n",
    "org_summaries = summaries.groupby([\"org\", \"kind\"]).agg({\"count\": \"sum\"}).reset_index()"
   ]
  },
  {
   "cell_type": "code",
   "execution_count": 10,
   "id": "8e360ea6",
   "metadata": {
    "execution": {
     "iopub.execute_input": "2021-11-10T01:34:26.964807Z",
     "iopub.status.busy": "2021-11-10T01:34:26.964078Z",
     "iopub.status.idle": "2021-11-10T01:34:26.966513Z",
     "shell.execute_reply": "2021-11-10T01:34:26.966974Z"
    },
    "papermill": {
     "duration": 0.026996,
     "end_time": "2021-11-10T01:34:26.967191",
     "exception": false,
     "start_time": "2021-11-10T01:34:26.940195",
     "status": "completed"
    },
    "tags": [
     "remove_cell"
    ]
   },
   "outputs": [],
   "source": [
    "repo_summaries['logcount'] = np.log(repo_summaries[\"count\"])"
   ]
  },
  {
   "cell_type": "code",
   "execution_count": 11,
   "id": "5fcbec1b",
   "metadata": {
    "execution": {
     "iopub.execute_input": "2021-11-10T01:34:27.008620Z",
     "iopub.status.busy": "2021-11-10T01:34:27.005787Z",
     "iopub.status.idle": "2021-11-10T01:34:27.061949Z",
     "shell.execute_reply": "2021-11-10T01:34:27.062661Z"
    },
    "papermill": {
     "duration": 0.078722,
     "end_time": "2021-11-10T01:34:27.062874",
     "exception": false,
     "start_time": "2021-11-10T01:34:26.984152",
     "status": "completed"
    },
    "tags": [
     "hide_input"
    ]
   },
   "outputs": [
    {
     "data": {
      "text/html": [
       "\n",
       "<div id=\"altair-viz-7c6f39d4602d46418c58b5370e74068c\"></div>\n",
       "<script type=\"text/javascript\">\n",
       "  (function(spec, embedOpt){\n",
       "    let outputDiv = document.currentScript.previousElementSibling;\n",
       "    if (outputDiv.id !== \"altair-viz-7c6f39d4602d46418c58b5370e74068c\") {\n",
       "      outputDiv = document.getElementById(\"altair-viz-7c6f39d4602d46418c58b5370e74068c\");\n",
       "    }\n",
       "    const paths = {\n",
       "      \"vega\": \"https://cdn.jsdelivr.net/npm//vega@5?noext\",\n",
       "      \"vega-lib\": \"https://cdn.jsdelivr.net/npm//vega-lib?noext\",\n",
       "      \"vega-lite\": \"https://cdn.jsdelivr.net/npm//vega-lite@4.8.1?noext\",\n",
       "      \"vega-embed\": \"https://cdn.jsdelivr.net/npm//vega-embed@6?noext\",\n",
       "    };\n",
       "\n",
       "    function loadScript(lib) {\n",
       "      return new Promise(function(resolve, reject) {\n",
       "        var s = document.createElement('script');\n",
       "        s.src = paths[lib];\n",
       "        s.async = true;\n",
       "        s.onload = () => resolve(paths[lib]);\n",
       "        s.onerror = () => reject(`Error loading script: ${paths[lib]}`);\n",
       "        document.getElementsByTagName(\"head\")[0].appendChild(s);\n",
       "      });\n",
       "    }\n",
       "\n",
       "    function showError(err) {\n",
       "      outputDiv.innerHTML = `<div class=\"error\" style=\"color:red;\">${err}</div>`;\n",
       "      throw err;\n",
       "    }\n",
       "\n",
       "    function displayChart(vegaEmbed) {\n",
       "      vegaEmbed(outputDiv, spec, embedOpt)\n",
       "        .catch(err => showError(`Javascript Error: ${err.message}<br>This usually means there's a typo in your chart specification. See the javascript console for the full traceback.`));\n",
       "    }\n",
       "\n",
       "    if(typeof define === \"function\" && define.amd) {\n",
       "      requirejs.config({paths});\n",
       "      require([\"vega-embed\"], displayChart, err => showError(`Error loading script: ${err.message}`));\n",
       "    } else if (typeof vegaEmbed === \"function\") {\n",
       "      displayChart(vegaEmbed);\n",
       "    } else {\n",
       "      loadScript(\"vega\")\n",
       "        .then(() => loadScript(\"vega-lite\"))\n",
       "        .then(() => loadScript(\"vega-embed\"))\n",
       "        .catch(showError)\n",
       "        .then(() => displayChart(vegaEmbed));\n",
       "    }\n",
       "  })({\"config\": {\"axisLeft\": {\"labelFontSize\": 15}, \"axisBottom\": {\"labelFontSize\": 15}}, \"hconcat\": [{\"mark\": \"bar\", \"encoding\": {\"color\": {\"type\": \"nominal\", \"field\": \"kind\"}, \"tooltip\": {\"type\": \"nominal\", \"field\": \"kind\"}, \"x\": {\"type\": \"nominal\", \"field\": \"repo\"}, \"y\": {\"type\": \"quantitative\", \"field\": \"count\"}}, \"title\": \"Activity per repository\", \"width\": 600}, {\"mark\": \"bar\", \"encoding\": {\"color\": {\"type\": \"nominal\", \"field\": \"kind\"}, \"tooltip\": {\"type\": \"nominal\", \"field\": \"kind\"}, \"x\": {\"type\": \"nominal\", \"field\": \"repo\"}, \"y\": {\"type\": \"quantitative\", \"field\": \"logcount\"}}, \"title\": \"Log activity per repository\", \"width\": 600}], \"data\": {\"name\": \"data-a791b2bb856ef5a61f8fee979e897d15\"}, \"$schema\": \"https://vega.github.io/schema/vega-lite/v4.8.1.json\", \"datasets\": {\"data-a791b2bb856ef5a61f8fee979e897d15\": [{\"repo\": \"MyST-NB\", \"kind\": \"comments\", \"count\": 3, \"logcount\": 1.0986122886681098}, {\"repo\": \"MyST-NB\", \"kind\": \"issues\", \"count\": 1, \"logcount\": 0.0}, {\"repo\": \"MyST-NB\", \"kind\": \"prs\", \"count\": 1, \"logcount\": 0.0}, {\"repo\": \"jupyter-book\", \"kind\": \"comments\", \"count\": 9, \"logcount\": 2.1972245773362196}, {\"repo\": \"sphinx-exercise\", \"kind\": \"comments\", \"count\": 7, \"logcount\": 1.9459101490553132}, {\"repo\": \"sphinx-exercise\", \"kind\": \"prs\", \"count\": 3, \"logcount\": 1.0986122886681098}, {\"repo\": \"sphinx-jupyterbook-latex\", \"kind\": \"comments\", \"count\": 9, \"logcount\": 2.1972245773362196}, {\"repo\": \"sphinx-jupyterbook-latex\", \"kind\": \"prs\", \"count\": 7, \"logcount\": 1.9459101490553132}, {\"repo\": \"sphinx-proof\", \"kind\": \"issues\", \"count\": 1, \"logcount\": 0.0}, {\"repo\": \"sphinx-proof\", \"kind\": \"prs\", \"count\": 4, \"logcount\": 1.3862943611198906}]}}, {\"mode\": \"vega-lite\"});\n",
       "</script>"
      ],
      "text/plain": [
       "alt.HConcatChart(...)"
      ]
     },
     "execution_count": 11,
     "metadata": {},
     "output_type": "execute_result"
    }
   ],
   "source": [
    "ch1 = alt.Chart(repo_summaries, width=600, title=\"Activity per repository\").mark_bar().encode(\n",
    "    x='repo',\n",
    "    y='count',\n",
    "    color='kind',\n",
    "    tooltip=\"kind\"\n",
    ")\n",
    "\n",
    "ch2 = alt.Chart(repo_summaries, width=600, title=\"Log activity per repository\").mark_bar().encode(\n",
    "    x='repo',\n",
    "    y='logcount',\n",
    "    color='kind',\n",
    "    tooltip=\"kind\"\n",
    ")\n",
    "\n",
    "ch1 | ch2"
   ]
  },
  {
   "cell_type": "code",
   "execution_count": 12,
   "id": "bd723352",
   "metadata": {
    "execution": {
     "iopub.execute_input": "2021-11-10T01:34:27.107533Z",
     "iopub.status.busy": "2021-11-10T01:34:27.106711Z",
     "iopub.status.idle": "2021-11-10T01:34:27.139625Z",
     "shell.execute_reply": "2021-11-10T01:34:27.140268Z"
    },
    "papermill": {
     "duration": 0.057495,
     "end_time": "2021-11-10T01:34:27.140514",
     "exception": false,
     "start_time": "2021-11-10T01:34:27.083019",
     "status": "completed"
    },
    "tags": [
     "hide_input"
    ]
   },
   "outputs": [
    {
     "data": {
      "text/html": [
       "\n",
       "<div id=\"altair-viz-1bf15737ce294af68d8937639995498c\"></div>\n",
       "<script type=\"text/javascript\">\n",
       "  (function(spec, embedOpt){\n",
       "    let outputDiv = document.currentScript.previousElementSibling;\n",
       "    if (outputDiv.id !== \"altair-viz-1bf15737ce294af68d8937639995498c\") {\n",
       "      outputDiv = document.getElementById(\"altair-viz-1bf15737ce294af68d8937639995498c\");\n",
       "    }\n",
       "    const paths = {\n",
       "      \"vega\": \"https://cdn.jsdelivr.net/npm//vega@5?noext\",\n",
       "      \"vega-lib\": \"https://cdn.jsdelivr.net/npm//vega-lib?noext\",\n",
       "      \"vega-lite\": \"https://cdn.jsdelivr.net/npm//vega-lite@4.8.1?noext\",\n",
       "      \"vega-embed\": \"https://cdn.jsdelivr.net/npm//vega-embed@6?noext\",\n",
       "    };\n",
       "\n",
       "    function loadScript(lib) {\n",
       "      return new Promise(function(resolve, reject) {\n",
       "        var s = document.createElement('script');\n",
       "        s.src = paths[lib];\n",
       "        s.async = true;\n",
       "        s.onload = () => resolve(paths[lib]);\n",
       "        s.onerror = () => reject(`Error loading script: ${paths[lib]}`);\n",
       "        document.getElementsByTagName(\"head\")[0].appendChild(s);\n",
       "      });\n",
       "    }\n",
       "\n",
       "    function showError(err) {\n",
       "      outputDiv.innerHTML = `<div class=\"error\" style=\"color:red;\">${err}</div>`;\n",
       "      throw err;\n",
       "    }\n",
       "\n",
       "    function displayChart(vegaEmbed) {\n",
       "      vegaEmbed(outputDiv, spec, embedOpt)\n",
       "        .catch(err => showError(`Javascript Error: ${err.message}<br>This usually means there's a typo in your chart specification. See the javascript console for the full traceback.`));\n",
       "    }\n",
       "\n",
       "    if(typeof define === \"function\" && define.amd) {\n",
       "      requirejs.config({paths});\n",
       "      require([\"vega-embed\"], displayChart, err => showError(`Error loading script: ${err.message}`));\n",
       "    } else if (typeof vegaEmbed === \"function\") {\n",
       "      displayChart(vegaEmbed);\n",
       "    } else {\n",
       "      loadScript(\"vega\")\n",
       "        .then(() => loadScript(\"vega-lite\"))\n",
       "        .then(() => loadScript(\"vega-embed\"))\n",
       "        .catch(showError)\n",
       "        .then(() => displayChart(vegaEmbed));\n",
       "    }\n",
       "  })({\"config\": {\"axisLeft\": {\"labelFontSize\": 15}, \"axisBottom\": {\"labelFontSize\": 15}}, \"data\": {\"name\": \"data-1762b7140540f6691c150d23c97a2179\"}, \"mark\": \"bar\", \"encoding\": {\"color\": {\"type\": \"nominal\", \"field\": \"kind\"}, \"tooltip\": {\"type\": \"nominal\", \"field\": \"org\"}, \"x\": {\"type\": \"nominal\", \"field\": \"org\"}, \"y\": {\"type\": \"quantitative\", \"field\": \"count\"}}, \"width\": 600, \"$schema\": \"https://vega.github.io/schema/vega-lite/v4.8.1.json\", \"datasets\": {\"data-1762b7140540f6691c150d23c97a2179\": [{\"org\": \"executablebooks\", \"kind\": \"comments\", \"count\": 28}, {\"org\": \"executablebooks\", \"kind\": \"issues\", \"count\": 2}, {\"org\": \"executablebooks\", \"kind\": \"prs\", \"count\": 15}]}}, {\"mode\": \"vega-lite\"});\n",
       "</script>"
      ],
      "text/plain": [
       "alt.Chart(...)"
      ]
     },
     "execution_count": 12,
     "metadata": {},
     "output_type": "execute_result"
    }
   ],
   "source": [
    "alt.Chart(org_summaries, width=600).mark_bar().encode(\n",
    "    x='org',\n",
    "    y='count',\n",
    "    color='kind',\n",
    "    tooltip=\"org\"\n",
    ")"
   ]
  },
  {
   "cell_type": "markdown",
   "id": "c20b1ddd",
   "metadata": {
    "papermill": {
     "duration": 0.017931,
     "end_time": "2021-11-10T01:34:27.178570",
     "exception": false,
     "start_time": "2021-11-10T01:34:27.160639",
     "status": "completed"
    },
    "tags": []
   },
   "source": [
    "## By repository over time"
   ]
  },
  {
   "cell_type": "markdown",
   "id": "d4e03e96",
   "metadata": {
    "papermill": {
     "duration": 0.019378,
     "end_time": "2021-11-10T01:34:27.216815",
     "exception": false,
     "start_time": "2021-11-10T01:34:27.197437",
     "status": "completed"
    },
    "tags": []
   },
   "source": [
    "### Comments"
   ]
  },
  {
   "cell_type": "code",
   "execution_count": 13,
   "id": "ee162e11",
   "metadata": {
    "execution": {
     "iopub.execute_input": "2021-11-10T01:34:27.263383Z",
     "iopub.status.busy": "2021-11-10T01:34:27.262451Z",
     "iopub.status.idle": "2021-11-10T01:34:27.330220Z",
     "shell.execute_reply": "2021-11-10T01:34:27.330743Z"
    },
    "papermill": {
     "duration": 0.092827,
     "end_time": "2021-11-10T01:34:27.330939",
     "exception": false,
     "start_time": "2021-11-10T01:34:27.238112",
     "status": "completed"
    },
    "tags": [
     "hide_input"
    ]
   },
   "outputs": [
    {
     "data": {
      "text/html": [
       "\n",
       "<div id=\"altair-viz-c15d3ab96753483db3f535bb2eade3bc\"></div>\n",
       "<script type=\"text/javascript\">\n",
       "  (function(spec, embedOpt){\n",
       "    let outputDiv = document.currentScript.previousElementSibling;\n",
       "    if (outputDiv.id !== \"altair-viz-c15d3ab96753483db3f535bb2eade3bc\") {\n",
       "      outputDiv = document.getElementById(\"altair-viz-c15d3ab96753483db3f535bb2eade3bc\");\n",
       "    }\n",
       "    const paths = {\n",
       "      \"vega\": \"https://cdn.jsdelivr.net/npm//vega@5?noext\",\n",
       "      \"vega-lib\": \"https://cdn.jsdelivr.net/npm//vega-lib?noext\",\n",
       "      \"vega-lite\": \"https://cdn.jsdelivr.net/npm//vega-lite@4.8.1?noext\",\n",
       "      \"vega-embed\": \"https://cdn.jsdelivr.net/npm//vega-embed@6?noext\",\n",
       "    };\n",
       "\n",
       "    function loadScript(lib) {\n",
       "      return new Promise(function(resolve, reject) {\n",
       "        var s = document.createElement('script');\n",
       "        s.src = paths[lib];\n",
       "        s.async = true;\n",
       "        s.onload = () => resolve(paths[lib]);\n",
       "        s.onerror = () => reject(`Error loading script: ${paths[lib]}`);\n",
       "        document.getElementsByTagName(\"head\")[0].appendChild(s);\n",
       "      });\n",
       "    }\n",
       "\n",
       "    function showError(err) {\n",
       "      outputDiv.innerHTML = `<div class=\"error\" style=\"color:red;\">${err}</div>`;\n",
       "      throw err;\n",
       "    }\n",
       "\n",
       "    function displayChart(vegaEmbed) {\n",
       "      vegaEmbed(outputDiv, spec, embedOpt)\n",
       "        .catch(err => showError(`Javascript Error: ${err.message}<br>This usually means there's a typo in your chart specification. See the javascript console for the full traceback.`));\n",
       "    }\n",
       "\n",
       "    if(typeof define === \"function\" && define.amd) {\n",
       "      requirejs.config({paths});\n",
       "      require([\"vega-embed\"], displayChart, err => showError(`Error loading script: ${err.message}`));\n",
       "    } else if (typeof vegaEmbed === \"function\") {\n",
       "      displayChart(vegaEmbed);\n",
       "    } else {\n",
       "      loadScript(\"vega\")\n",
       "        .then(() => loadScript(\"vega-lite\"))\n",
       "        .then(() => loadScript(\"vega-embed\"))\n",
       "        .catch(showError)\n",
       "        .then(() => displayChart(vegaEmbed));\n",
       "    }\n",
       "  })({\"config\": {\"axisLeft\": {\"labelFontSize\": 15}, \"axisBottom\": {\"labelFontSize\": 15}}, \"layer\": [{\"data\": {\"name\": \"data-0623607b672ef82fe6176330433c301a\"}, \"mark\": \"line\", \"encoding\": {\"color\": {\"type\": \"nominal\", \"field\": \"repo\"}, \"tooltip\": {\"type\": \"nominal\", \"field\": \"repo\"}, \"x\": {\"type\": \"temporal\", \"field\": \"createdAt\"}, \"y\": {\"type\": \"quantitative\", \"field\": \"count\"}}, \"width\": 600}, {\"data\": {\"name\": \"data-856bb833ef39b6b132ea3f01dab16861\"}, \"mark\": {\"type\": \"line\", \"color\": \"black\"}, \"encoding\": {\"x\": {\"type\": \"temporal\", \"field\": \"createdAt\"}, \"y\": {\"type\": \"quantitative\", \"field\": \"count\"}}, \"width\": 600}], \"$schema\": \"https://vega.github.io/schema/vega-lite/v4.8.1.json\", \"datasets\": {\"data-0623607b672ef82fe6176330433c301a\": [{\"repo\": \"MyST-NB\", \"createdAt\": \"2021-10-24T00:00:00\", \"count\": 2}, {\"repo\": \"MyST-NB\", \"createdAt\": \"2021-10-31T00:00:00\", \"count\": 1}, {\"repo\": \"jupyter-book\", \"createdAt\": \"2021-10-17T00:00:00\", \"count\": 8}, {\"repo\": \"jupyter-book\", \"createdAt\": \"2021-10-24T00:00:00\", \"count\": 1}, {\"repo\": \"sphinx-exercise\", \"createdAt\": \"2021-09-26T00:00:00\", \"count\": 3}, {\"repo\": \"sphinx-exercise\", \"createdAt\": \"2021-10-03T00:00:00\", \"count\": 1}, {\"repo\": \"sphinx-exercise\", \"createdAt\": \"2021-10-10T00:00:00\", \"count\": 3}, {\"repo\": \"sphinx-jupyterbook-latex\", \"createdAt\": \"2021-09-26T00:00:00\", \"count\": 1}, {\"repo\": \"sphinx-jupyterbook-latex\", \"createdAt\": \"2021-10-03T00:00:00\", \"count\": 0}, {\"repo\": \"sphinx-jupyterbook-latex\", \"createdAt\": \"2021-10-10T00:00:00\", \"count\": 0}, {\"repo\": \"sphinx-jupyterbook-latex\", \"createdAt\": \"2021-10-17T00:00:00\", \"count\": 1}, {\"repo\": \"sphinx-jupyterbook-latex\", \"createdAt\": \"2021-10-24T00:00:00\", \"count\": 0}, {\"repo\": \"sphinx-jupyterbook-latex\", \"createdAt\": \"2021-10-31T00:00:00\", \"count\": 0}, {\"repo\": \"sphinx-jupyterbook-latex\", \"createdAt\": \"2021-11-07T00:00:00\", \"count\": 7}], \"data-856bb833ef39b6b132ea3f01dab16861\": [{\"createdAt\": \"2021-09-26T00:00:00\", \"count\": 4}, {\"createdAt\": \"2021-10-03T00:00:00\", \"count\": 1}, {\"createdAt\": \"2021-10-10T00:00:00\", \"count\": 3}, {\"createdAt\": \"2021-10-17T00:00:00\", \"count\": 9}, {\"createdAt\": \"2021-10-24T00:00:00\", \"count\": 3}, {\"createdAt\": \"2021-10-31T00:00:00\", \"count\": 1}, {\"createdAt\": \"2021-11-07T00:00:00\", \"count\": 7}]}}, {\"mode\": \"vega-lite\"});\n",
       "</script>"
      ],
      "text/plain": [
       "alt.LayerChart(...)"
      ]
     },
     "execution_count": 13,
     "metadata": {},
     "output_type": "execute_result"
    }
   ],
   "source": [
    "comments_time = comments.groupby('repo').resample('W', on='createdAt').count()['author'].reset_index()\n",
    "comments_time = comments_time.rename(columns={'author': 'count'})\n",
    "comments_time_total = comments_time.groupby('createdAt').agg({\"count\": \"sum\"}).reset_index()\n",
    "ch1 = alt.Chart(comments_time, width=600).mark_line().encode(\n",
    "    x='createdAt',\n",
    "    y='count',\n",
    "    color='repo',\n",
    "    tooltip=\"repo\"\n",
    ")\n",
    "\n",
    "ch2 = alt.Chart(comments_time_total, width=600).mark_line(color=\"black\").encode(\n",
    "    x='createdAt',\n",
    "    y='count',\n",
    ")\n",
    "\n",
    "ch1 + ch2"
   ]
  },
  {
   "cell_type": "markdown",
   "id": "56e660e5",
   "metadata": {
    "papermill": {
     "duration": 0.019115,
     "end_time": "2021-11-10T01:34:27.370897",
     "exception": false,
     "start_time": "2021-11-10T01:34:27.351782",
     "status": "completed"
    },
    "tags": []
   },
   "source": [
    "### PRs"
   ]
  },
  {
   "cell_type": "code",
   "execution_count": 14,
   "id": "2cd44f1a",
   "metadata": {
    "execution": {
     "iopub.execute_input": "2021-11-10T01:34:27.410832Z",
     "iopub.status.busy": "2021-11-10T01:34:27.410001Z",
     "iopub.status.idle": "2021-11-10T01:34:27.484024Z",
     "shell.execute_reply": "2021-11-10T01:34:27.484627Z"
    },
    "papermill": {
     "duration": 0.095772,
     "end_time": "2021-11-10T01:34:27.484864",
     "exception": false,
     "start_time": "2021-11-10T01:34:27.389092",
     "status": "completed"
    },
    "tags": [
     "hide_input"
    ]
   },
   "outputs": [
    {
     "data": {
      "text/html": [
       "\n",
       "<div id=\"altair-viz-4bfc0ec3b0844cd280accc7c968b8bbd\"></div>\n",
       "<script type=\"text/javascript\">\n",
       "  (function(spec, embedOpt){\n",
       "    let outputDiv = document.currentScript.previousElementSibling;\n",
       "    if (outputDiv.id !== \"altair-viz-4bfc0ec3b0844cd280accc7c968b8bbd\") {\n",
       "      outputDiv = document.getElementById(\"altair-viz-4bfc0ec3b0844cd280accc7c968b8bbd\");\n",
       "    }\n",
       "    const paths = {\n",
       "      \"vega\": \"https://cdn.jsdelivr.net/npm//vega@5?noext\",\n",
       "      \"vega-lib\": \"https://cdn.jsdelivr.net/npm//vega-lib?noext\",\n",
       "      \"vega-lite\": \"https://cdn.jsdelivr.net/npm//vega-lite@4.8.1?noext\",\n",
       "      \"vega-embed\": \"https://cdn.jsdelivr.net/npm//vega-embed@6?noext\",\n",
       "    };\n",
       "\n",
       "    function loadScript(lib) {\n",
       "      return new Promise(function(resolve, reject) {\n",
       "        var s = document.createElement('script');\n",
       "        s.src = paths[lib];\n",
       "        s.async = true;\n",
       "        s.onload = () => resolve(paths[lib]);\n",
       "        s.onerror = () => reject(`Error loading script: ${paths[lib]}`);\n",
       "        document.getElementsByTagName(\"head\")[0].appendChild(s);\n",
       "      });\n",
       "    }\n",
       "\n",
       "    function showError(err) {\n",
       "      outputDiv.innerHTML = `<div class=\"error\" style=\"color:red;\">${err}</div>`;\n",
       "      throw err;\n",
       "    }\n",
       "\n",
       "    function displayChart(vegaEmbed) {\n",
       "      vegaEmbed(outputDiv, spec, embedOpt)\n",
       "        .catch(err => showError(`Javascript Error: ${err.message}<br>This usually means there's a typo in your chart specification. See the javascript console for the full traceback.`));\n",
       "    }\n",
       "\n",
       "    if(typeof define === \"function\" && define.amd) {\n",
       "      requirejs.config({paths});\n",
       "      require([\"vega-embed\"], displayChart, err => showError(`Error loading script: ${err.message}`));\n",
       "    } else if (typeof vegaEmbed === \"function\") {\n",
       "      displayChart(vegaEmbed);\n",
       "    } else {\n",
       "      loadScript(\"vega\")\n",
       "        .then(() => loadScript(\"vega-lite\"))\n",
       "        .then(() => loadScript(\"vega-embed\"))\n",
       "        .catch(showError)\n",
       "        .then(() => displayChart(vegaEmbed));\n",
       "    }\n",
       "  })({\"config\": {\"axisLeft\": {\"labelFontSize\": 15}, \"axisBottom\": {\"labelFontSize\": 15}}, \"layer\": [{\"data\": {\"name\": \"data-226b7bcce94154c70a96d703be6aa5c5\"}, \"mark\": \"line\", \"encoding\": {\"color\": {\"type\": \"nominal\", \"field\": \"repo\"}, \"tooltip\": {\"type\": \"nominal\", \"field\": \"repo\"}, \"x\": {\"type\": \"temporal\", \"field\": \"createdAt\"}, \"y\": {\"type\": \"quantitative\", \"field\": \"count\"}}, \"width\": 600}, {\"data\": {\"name\": \"data-99ece2a9ea7fd90de5aeb5a56b3bd599\"}, \"mark\": {\"type\": \"line\", \"color\": \"black\"}, \"encoding\": {\"x\": {\"type\": \"temporal\", \"field\": \"createdAt\"}, \"y\": {\"type\": \"quantitative\", \"field\": \"count\"}}, \"width\": 600}], \"$schema\": \"https://vega.github.io/schema/vega-lite/v4.8.1.json\", \"datasets\": {\"data-226b7bcce94154c70a96d703be6aa5c5\": [{\"repo\": \"MyST-NB\", \"createdAt\": \"2021-10-24T00:00:00\", \"count\": 1}, {\"repo\": \"sphinx-exercise\", \"createdAt\": \"2021-09-12T00:00:00\", \"count\": 1}, {\"repo\": \"sphinx-exercise\", \"createdAt\": \"2021-09-19T00:00:00\", \"count\": 0}, {\"repo\": \"sphinx-exercise\", \"createdAt\": \"2021-09-26T00:00:00\", \"count\": 1}, {\"repo\": \"sphinx-exercise\", \"createdAt\": \"2021-10-03T00:00:00\", \"count\": 0}, {\"repo\": \"sphinx-exercise\", \"createdAt\": \"2021-10-10T00:00:00\", \"count\": 1}, {\"repo\": \"sphinx-jupyterbook-latex\", \"createdAt\": \"2021-10-24T00:00:00\", \"count\": 2}, {\"repo\": \"sphinx-jupyterbook-latex\", \"createdAt\": \"2021-10-31T00:00:00\", \"count\": 1}, {\"repo\": \"sphinx-jupyterbook-latex\", \"createdAt\": \"2021-11-07T00:00:00\", \"count\": 4}, {\"repo\": \"sphinx-proof\", \"createdAt\": \"2021-10-17T00:00:00\", \"count\": 4}], \"data-99ece2a9ea7fd90de5aeb5a56b3bd599\": [{\"createdAt\": \"2021-09-12T00:00:00\", \"count\": 1}, {\"createdAt\": \"2021-09-19T00:00:00\", \"count\": 0}, {\"createdAt\": \"2021-09-26T00:00:00\", \"count\": 1}, {\"createdAt\": \"2021-10-03T00:00:00\", \"count\": 0}, {\"createdAt\": \"2021-10-10T00:00:00\", \"count\": 1}, {\"createdAt\": \"2021-10-17T00:00:00\", \"count\": 4}, {\"createdAt\": \"2021-10-24T00:00:00\", \"count\": 3}, {\"createdAt\": \"2021-10-31T00:00:00\", \"count\": 1}, {\"createdAt\": \"2021-11-07T00:00:00\", \"count\": 4}]}}, {\"mode\": \"vega-lite\"});\n",
       "</script>"
      ],
      "text/plain": [
       "alt.LayerChart(...)"
      ]
     },
     "execution_count": 14,
     "metadata": {},
     "output_type": "execute_result"
    }
   ],
   "source": [
    "prs_time = prs.groupby('repo').resample('W', on='createdAt').count()['author'].reset_index()\n",
    "prs_time = prs_time.rename(columns={'author': 'count'})\n",
    "prs_time_total = prs_time.groupby('createdAt').agg({\"count\": \"sum\"}).reset_index()\n",
    "\n",
    "ch1 = alt.Chart(prs_time, width=600).mark_line().encode(\n",
    "    x='createdAt',\n",
    "    y='count',\n",
    "    color='repo',\n",
    "    tooltip=\"repo\"\n",
    ")\n",
    "\n",
    "ch2 = alt.Chart(prs_time_total, width=600).mark_line(color=\"black\").encode(\n",
    "    x='createdAt',\n",
    "    y='count',\n",
    ")\n",
    "\n",
    "ch1 + ch2"
   ]
  },
  {
   "cell_type": "code",
   "execution_count": 15,
   "id": "1c01c0ca",
   "metadata": {
    "execution": {
     "iopub.execute_input": "2021-11-10T01:34:27.542901Z",
     "iopub.status.busy": "2021-11-10T01:34:27.542250Z",
     "iopub.status.idle": "2021-11-10T01:34:27.590081Z",
     "shell.execute_reply": "2021-11-10T01:34:27.590692Z"
    },
    "papermill": {
     "duration": 0.083189,
     "end_time": "2021-11-10T01:34:27.590895",
     "exception": false,
     "start_time": "2021-11-10T01:34:27.507706",
     "status": "completed"
    },
    "tags": [
     "hide_input"
    ]
   },
   "outputs": [
    {
     "data": {
      "text/html": [
       "\n",
       "<div id=\"altair-viz-0699c6c909aa498d963bee1208947932\"></div>\n",
       "<script type=\"text/javascript\">\n",
       "  (function(spec, embedOpt){\n",
       "    let outputDiv = document.currentScript.previousElementSibling;\n",
       "    if (outputDiv.id !== \"altair-viz-0699c6c909aa498d963bee1208947932\") {\n",
       "      outputDiv = document.getElementById(\"altair-viz-0699c6c909aa498d963bee1208947932\");\n",
       "    }\n",
       "    const paths = {\n",
       "      \"vega\": \"https://cdn.jsdelivr.net/npm//vega@5?noext\",\n",
       "      \"vega-lib\": \"https://cdn.jsdelivr.net/npm//vega-lib?noext\",\n",
       "      \"vega-lite\": \"https://cdn.jsdelivr.net/npm//vega-lite@4.8.1?noext\",\n",
       "      \"vega-embed\": \"https://cdn.jsdelivr.net/npm//vega-embed@6?noext\",\n",
       "    };\n",
       "\n",
       "    function loadScript(lib) {\n",
       "      return new Promise(function(resolve, reject) {\n",
       "        var s = document.createElement('script');\n",
       "        s.src = paths[lib];\n",
       "        s.async = true;\n",
       "        s.onload = () => resolve(paths[lib]);\n",
       "        s.onerror = () => reject(`Error loading script: ${paths[lib]}`);\n",
       "        document.getElementsByTagName(\"head\")[0].appendChild(s);\n",
       "      });\n",
       "    }\n",
       "\n",
       "    function showError(err) {\n",
       "      outputDiv.innerHTML = `<div class=\"error\" style=\"color:red;\">${err}</div>`;\n",
       "      throw err;\n",
       "    }\n",
       "\n",
       "    function displayChart(vegaEmbed) {\n",
       "      vegaEmbed(outputDiv, spec, embedOpt)\n",
       "        .catch(err => showError(`Javascript Error: ${err.message}<br>This usually means there's a typo in your chart specification. See the javascript console for the full traceback.`));\n",
       "    }\n",
       "\n",
       "    if(typeof define === \"function\" && define.amd) {\n",
       "      requirejs.config({paths});\n",
       "      require([\"vega-embed\"], displayChart, err => showError(`Error loading script: ${err.message}`));\n",
       "    } else if (typeof vegaEmbed === \"function\") {\n",
       "      displayChart(vegaEmbed);\n",
       "    } else {\n",
       "      loadScript(\"vega\")\n",
       "        .then(() => loadScript(\"vega-lite\"))\n",
       "        .then(() => loadScript(\"vega-embed\"))\n",
       "        .catch(showError)\n",
       "        .then(() => displayChart(vegaEmbed));\n",
       "    }\n",
       "  })({\"config\": {\"axisLeft\": {\"labelFontSize\": 15}, \"axisBottom\": {\"labelFontSize\": 15}}, \"data\": {\"name\": \"data-0b7f6dffd08e51c43c69f2d33ce5c3ca\"}, \"mark\": \"line\", \"encoding\": {\"color\": {\"type\": \"nominal\", \"field\": \"repo\"}, \"tooltip\": {\"type\": \"nominal\", \"field\": \"repo\"}, \"x\": {\"type\": \"temporal\", \"field\": \"closedAt\"}, \"y\": {\"type\": \"quantitative\", \"field\": \"count\"}}, \"width\": 600, \"$schema\": \"https://vega.github.io/schema/vega-lite/v4.8.1.json\", \"datasets\": {\"data-0b7f6dffd08e51c43c69f2d33ce5c3ca\": [{\"repo\": \"MyST-NB\", \"closedAt\": \"2021-10-24T00:00:00\", \"count\": 1}, {\"repo\": \"sphinx-exercise\", \"closedAt\": \"2021-09-26T00:00:00\", \"count\": 1}, {\"repo\": \"sphinx-exercise\", \"closedAt\": \"2021-10-03T00:00:00\", \"count\": 0}, {\"repo\": \"sphinx-exercise\", \"closedAt\": \"2021-10-10T00:00:00\", \"count\": 2}, {\"repo\": \"sphinx-jupyterbook-latex\", \"closedAt\": \"2021-10-24T00:00:00\", \"count\": 2}, {\"repo\": \"sphinx-jupyterbook-latex\", \"closedAt\": \"2021-10-31T00:00:00\", \"count\": 0}, {\"repo\": \"sphinx-jupyterbook-latex\", \"closedAt\": \"2021-11-07T00:00:00\", \"count\": 5}, {\"repo\": \"sphinx-proof\", \"closedAt\": \"2021-10-17T00:00:00\", \"count\": 4}]}}, {\"mode\": \"vega-lite\"});\n",
       "</script>"
      ],
      "text/plain": [
       "alt.Chart(...)"
      ]
     },
     "execution_count": 15,
     "metadata": {},
     "output_type": "execute_result"
    }
   ],
   "source": [
    "closed_by_time = closed_by.groupby('repo').resample('W', on='closedAt').count()['author'].reset_index()\n",
    "closed_by_time = closed_by_time.rename(columns={'author': 'count'})\n",
    "\n",
    "alt.Chart(closed_by_time, width=600).mark_line().encode(\n",
    "    x='closedAt',\n",
    "    y='count',\n",
    "    color='repo',\n",
    "    tooltip=\"repo\"\n",
    ")"
   ]
  },
  {
   "cell_type": "markdown",
   "id": "0480050a",
   "metadata": {
    "papermill": {
     "duration": 0.02156,
     "end_time": "2021-11-10T01:34:27.632721",
     "exception": false,
     "start_time": "2021-11-10T01:34:27.611161",
     "status": "completed"
    },
    "tags": []
   },
   "source": [
    "## By type over time"
   ]
  },
  {
   "cell_type": "code",
   "execution_count": 16,
   "id": "4f19426e",
   "metadata": {
    "execution": {
     "iopub.execute_input": "2021-11-10T01:34:27.689318Z",
     "iopub.status.busy": "2021-11-10T01:34:27.688621Z",
     "iopub.status.idle": "2021-11-10T01:34:27.702335Z",
     "shell.execute_reply": "2021-11-10T01:34:27.701776Z"
    },
    "papermill": {
     "duration": 0.048601,
     "end_time": "2021-11-10T01:34:27.702487",
     "exception": false,
     "start_time": "2021-11-10T01:34:27.653886",
     "status": "completed"
    },
    "tags": [
     "remove_cell"
    ]
   },
   "outputs": [],
   "source": [
    "prs_time = prs[['author', 'createdAt']].resample('W', on='createdAt').count()['author'].reset_index()\n",
    "prs_time = prs_time.rename(columns={'author': 'prs'})\n",
    "comments_time = comments[['author', 'createdAt']].resample('W', on='createdAt').count()['author'].reset_index()\n",
    "comments_time = comments_time.rename(columns={'author': 'comments'})\n",
    "\n",
    "total_time = pd.merge(prs_time, comments_time, on='createdAt', how='outer')\n",
    "total_time = total_time.melt(id_vars='createdAt', var_name=\"kind\", value_name=\"count\")\n"
   ]
  },
  {
   "cell_type": "code",
   "execution_count": 17,
   "id": "ad07e94a",
   "metadata": {
    "execution": {
     "iopub.execute_input": "2021-11-10T01:34:27.755727Z",
     "iopub.status.busy": "2021-11-10T01:34:27.750386Z",
     "iopub.status.idle": "2021-11-10T01:34:27.777308Z",
     "shell.execute_reply": "2021-11-10T01:34:27.776714Z"
    },
    "papermill": {
     "duration": 0.055233,
     "end_time": "2021-11-10T01:34:27.777477",
     "exception": false,
     "start_time": "2021-11-10T01:34:27.722244",
     "status": "completed"
    },
    "tags": [
     "hide_input"
    ]
   },
   "outputs": [
    {
     "data": {
      "text/html": [
       "\n",
       "<div id=\"altair-viz-fe1328f8fd9d4bd0be3e8b911dcef1fc\"></div>\n",
       "<script type=\"text/javascript\">\n",
       "  (function(spec, embedOpt){\n",
       "    let outputDiv = document.currentScript.previousElementSibling;\n",
       "    if (outputDiv.id !== \"altair-viz-fe1328f8fd9d4bd0be3e8b911dcef1fc\") {\n",
       "      outputDiv = document.getElementById(\"altair-viz-fe1328f8fd9d4bd0be3e8b911dcef1fc\");\n",
       "    }\n",
       "    const paths = {\n",
       "      \"vega\": \"https://cdn.jsdelivr.net/npm//vega@5?noext\",\n",
       "      \"vega-lib\": \"https://cdn.jsdelivr.net/npm//vega-lib?noext\",\n",
       "      \"vega-lite\": \"https://cdn.jsdelivr.net/npm//vega-lite@4.8.1?noext\",\n",
       "      \"vega-embed\": \"https://cdn.jsdelivr.net/npm//vega-embed@6?noext\",\n",
       "    };\n",
       "\n",
       "    function loadScript(lib) {\n",
       "      return new Promise(function(resolve, reject) {\n",
       "        var s = document.createElement('script');\n",
       "        s.src = paths[lib];\n",
       "        s.async = true;\n",
       "        s.onload = () => resolve(paths[lib]);\n",
       "        s.onerror = () => reject(`Error loading script: ${paths[lib]}`);\n",
       "        document.getElementsByTagName(\"head\")[0].appendChild(s);\n",
       "      });\n",
       "    }\n",
       "\n",
       "    function showError(err) {\n",
       "      outputDiv.innerHTML = `<div class=\"error\" style=\"color:red;\">${err}</div>`;\n",
       "      throw err;\n",
       "    }\n",
       "\n",
       "    function displayChart(vegaEmbed) {\n",
       "      vegaEmbed(outputDiv, spec, embedOpt)\n",
       "        .catch(err => showError(`Javascript Error: ${err.message}<br>This usually means there's a typo in your chart specification. See the javascript console for the full traceback.`));\n",
       "    }\n",
       "\n",
       "    if(typeof define === \"function\" && define.amd) {\n",
       "      requirejs.config({paths});\n",
       "      require([\"vega-embed\"], displayChart, err => showError(`Error loading script: ${err.message}`));\n",
       "    } else if (typeof vegaEmbed === \"function\") {\n",
       "      displayChart(vegaEmbed);\n",
       "    } else {\n",
       "      loadScript(\"vega\")\n",
       "        .then(() => loadScript(\"vega-lite\"))\n",
       "        .then(() => loadScript(\"vega-embed\"))\n",
       "        .catch(showError)\n",
       "        .then(() => displayChart(vegaEmbed));\n",
       "    }\n",
       "  })({\"config\": {\"axisLeft\": {\"labelFontSize\": 15}, \"axisBottom\": {\"labelFontSize\": 15}}, \"data\": {\"name\": \"data-88375cf8f242fbcefbdea0a72e291bce\"}, \"mark\": \"line\", \"encoding\": {\"color\": {\"type\": \"nominal\", \"field\": \"kind\"}, \"x\": {\"type\": \"temporal\", \"field\": \"createdAt\"}, \"y\": {\"type\": \"quantitative\", \"field\": \"count\"}}, \"width\": 600, \"$schema\": \"https://vega.github.io/schema/vega-lite/v4.8.1.json\", \"datasets\": {\"data-88375cf8f242fbcefbdea0a72e291bce\": [{\"createdAt\": \"2021-09-12T00:00:00\", \"kind\": \"prs\", \"count\": 1.0}, {\"createdAt\": \"2021-09-19T00:00:00\", \"kind\": \"prs\", \"count\": 0.0}, {\"createdAt\": \"2021-09-26T00:00:00\", \"kind\": \"prs\", \"count\": 1.0}, {\"createdAt\": \"2021-10-03T00:00:00\", \"kind\": \"prs\", \"count\": 0.0}, {\"createdAt\": \"2021-10-10T00:00:00\", \"kind\": \"prs\", \"count\": 1.0}, {\"createdAt\": \"2021-10-17T00:00:00\", \"kind\": \"prs\", \"count\": 4.0}, {\"createdAt\": \"2021-10-24T00:00:00\", \"kind\": \"prs\", \"count\": 3.0}, {\"createdAt\": \"2021-10-31T00:00:00\", \"kind\": \"prs\", \"count\": 1.0}, {\"createdAt\": \"2021-11-07T00:00:00\", \"kind\": \"prs\", \"count\": 4.0}, {\"createdAt\": \"2021-09-12T00:00:00\", \"kind\": \"comments\", \"count\": null}, {\"createdAt\": \"2021-09-19T00:00:00\", \"kind\": \"comments\", \"count\": null}, {\"createdAt\": \"2021-09-26T00:00:00\", \"kind\": \"comments\", \"count\": 4.0}, {\"createdAt\": \"2021-10-03T00:00:00\", \"kind\": \"comments\", \"count\": 1.0}, {\"createdAt\": \"2021-10-10T00:00:00\", \"kind\": \"comments\", \"count\": 3.0}, {\"createdAt\": \"2021-10-17T00:00:00\", \"kind\": \"comments\", \"count\": 9.0}, {\"createdAt\": \"2021-10-24T00:00:00\", \"kind\": \"comments\", \"count\": 3.0}, {\"createdAt\": \"2021-10-31T00:00:00\", \"kind\": \"comments\", \"count\": 1.0}, {\"createdAt\": \"2021-11-07T00:00:00\", \"kind\": \"comments\", \"count\": 7.0}]}}, {\"mode\": \"vega-lite\"});\n",
       "</script>"
      ],
      "text/plain": [
       "alt.Chart(...)"
      ]
     },
     "execution_count": 17,
     "metadata": {},
     "output_type": "execute_result"
    }
   ],
   "source": [
    "alt.Chart(total_time, width=600).mark_line().encode(\n",
    "    x='createdAt',\n",
    "    y='count',\n",
    "    color='kind'\n",
    ")"
   ]
  }
 ],
 "metadata": {
  "kernelspec": {
   "display_name": "Python 3 (ipykernel)",
   "language": "python",
   "name": "python3"
  },
  "language_info": {
   "codemirror_mode": {
    "name": "ipython",
    "version": 3
   },
   "file_extension": ".py",
   "mimetype": "text/x-python",
   "name": "python",
   "nbconvert_exporter": "python",
   "pygments_lexer": "ipython3",
   "version": "3.7.12"
  },
  "papermill": {
   "default_parameters": {},
   "duration": 4.117137,
   "end_time": "2021-11-10T01:34:28.112672",
   "environment_variables": {},
   "exception": null,
   "input_path": "./templates/person_report.ipynb",
   "output_path": "generated/people/AakashGfude.ipynb",
   "parameters": {
    "n_days": 90,
    "person": "AakashGfude"
   },
   "start_time": "2021-11-10T01:34:23.995535",
   "version": "2.3.3"
  },
  "widgets": {
   "application/vnd.jupyter.widget-state+json": {
    "state": {},
    "version_major": 2,
    "version_minor": 0
   }
  }
 },
 "nbformat": 4,
 "nbformat_minor": 5
}