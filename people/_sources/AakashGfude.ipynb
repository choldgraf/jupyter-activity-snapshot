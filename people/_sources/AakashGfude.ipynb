{
 "cells": [
  {
   "cell_type": "markdown",
   "id": "cfd07bef",
   "metadata": {
    "papermill": {
     "duration": 0.018535,
     "end_time": "2021-10-28T01:34:17.225380",
     "exception": false,
     "start_time": "2021-10-28T01:34:17.206845",
     "status": "completed"
    },
    "tags": []
   },
   "source": [
    "# Report for AakashGfude"
   ]
  },
  {
   "cell_type": "code",
   "execution_count": 1,
   "id": "c5d580b8",
   "metadata": {
    "execution": {
     "iopub.execute_input": "2021-10-28T01:34:17.276237Z",
     "iopub.status.busy": "2021-10-28T01:34:17.275507Z",
     "iopub.status.idle": "2021-10-28T01:34:18.613675Z",
     "shell.execute_reply": "2021-10-28T01:34:18.614235Z"
    },
    "papermill": {
     "duration": 1.370082,
     "end_time": "2021-10-28T01:34:18.614522",
     "exception": false,
     "start_time": "2021-10-28T01:34:17.244440",
     "status": "completed"
    },
    "tags": [
     "remove_cell"
    ]
   },
   "outputs": [],
   "source": [
    "import seaborn as sns\n",
    "import pandas as pd\n",
    "import numpy as np\n",
    "import altair as alt\n",
    "from markdown import markdown\n",
    "from IPython.display import Markdown\n",
    "from ipywidgets.widgets import HTML, Tab\n",
    "from ipywidgets import widgets\n",
    "from datetime import timedelta\n",
    "from matplotlib import pyplot as plt\n",
    "import os.path as op\n",
    "\n",
    "from mycode import alt_theme\n",
    "from warnings import simplefilter\n",
    "simplefilter('ignore')"
   ]
  },
  {
   "cell_type": "code",
   "execution_count": 2,
   "id": "7f97f3ce",
   "metadata": {
    "execution": {
     "iopub.execute_input": "2021-10-28T01:34:18.658729Z",
     "iopub.status.busy": "2021-10-28T01:34:18.657889Z",
     "iopub.status.idle": "2021-10-28T01:34:18.660829Z",
     "shell.execute_reply": "2021-10-28T01:34:18.660156Z"
    },
    "papermill": {
     "duration": 0.02791,
     "end_time": "2021-10-28T01:34:18.660998",
     "exception": false,
     "start_time": "2021-10-28T01:34:18.633088",
     "status": "completed"
    },
    "tags": [
     "remove_cell"
    ]
   },
   "outputs": [],
   "source": [
    "def author_url(author):\n",
    "    return f\"https://github.com/{author}\""
   ]
  },
  {
   "cell_type": "code",
   "execution_count": 3,
   "id": "2956054a",
   "metadata": {
    "execution": {
     "iopub.execute_input": "2021-10-28T01:34:18.711788Z",
     "iopub.status.busy": "2021-10-28T01:34:18.711006Z",
     "iopub.status.idle": "2021-10-28T01:34:18.713160Z",
     "shell.execute_reply": "2021-10-28T01:34:18.713740Z"
    },
    "papermill": {
     "duration": 0.036149,
     "end_time": "2021-10-28T01:34:18.713950",
     "exception": false,
     "start_time": "2021-10-28T01:34:18.677801",
     "status": "completed"
    },
    "tags": [
     "parameters",
     "hide_input"
    ]
   },
   "outputs": [],
   "source": [
    "# Parameters\n",
    "fmt_date = \"{:%Y-%m-%d}\"\n",
    "\n",
    "n_days = 30 * 2\n",
    "start_date = fmt_date.format(pd.datetime.today() - timedelta(days=n_days))\n",
    "end_date = fmt_date.format(pd.datetime.today())\n",
    "\n",
    "renderer = \"html\"\n",
    "person = \"jasongrout\""
   ]
  },
  {
   "cell_type": "code",
   "execution_count": 4,
   "id": "cf3cd379",
   "metadata": {
    "execution": {
     "iopub.execute_input": "2021-10-28T01:34:18.759536Z",
     "iopub.status.busy": "2021-10-28T01:34:18.758726Z",
     "iopub.status.idle": "2021-10-28T01:34:18.761610Z",
     "shell.execute_reply": "2021-10-28T01:34:18.760831Z"
    },
    "papermill": {
     "duration": 0.027912,
     "end_time": "2021-10-28T01:34:18.761769",
     "exception": false,
     "start_time": "2021-10-28T01:34:18.733857",
     "status": "completed"
    },
    "tags": [
     "injected-parameters",
     "remove-cell"
    ]
   },
   "outputs": [],
   "source": [
    "# Parameters\n",
    "person = \"AakashGfude\"\n",
    "n_days = 90\n"
   ]
  },
  {
   "cell_type": "code",
   "execution_count": 5,
   "id": "5621d452",
   "metadata": {
    "execution": {
     "iopub.execute_input": "2021-10-28T01:34:18.806140Z",
     "iopub.status.busy": "2021-10-28T01:34:18.805468Z",
     "iopub.status.idle": "2021-10-28T01:34:18.808402Z",
     "shell.execute_reply": "2021-10-28T01:34:18.808990Z"
    },
    "papermill": {
     "duration": 0.030437,
     "end_time": "2021-10-28T01:34:18.809293",
     "exception": false,
     "start_time": "2021-10-28T01:34:18.778856",
     "status": "completed"
    },
    "tags": [
     "remove_cell"
    ]
   },
   "outputs": [
    {
     "data": {
      "text/plain": [
       "ThemeRegistry.enable('my_theme')"
      ]
     },
     "execution_count": 5,
     "metadata": {},
     "output_type": "execute_result"
    }
   ],
   "source": [
    "alt.renderers.enable(renderer);\n",
    "alt.themes.register('my_theme', alt_theme)\n",
    "alt.themes.enable(\"my_theme\")"
   ]
  },
  {
   "cell_type": "markdown",
   "id": "292ac65a",
   "metadata": {
    "papermill": {
     "duration": 0.022574,
     "end_time": "2021-10-28T01:34:18.864518",
     "exception": false,
     "start_time": "2021-10-28T01:34:18.841944",
     "status": "completed"
    },
    "tags": []
   },
   "source": [
    "## Load data"
   ]
  },
  {
   "cell_type": "code",
   "execution_count": 6,
   "id": "dc1aa5a6",
   "metadata": {
    "execution": {
     "iopub.execute_input": "2021-10-28T01:34:18.910041Z",
     "iopub.status.busy": "2021-10-28T01:34:18.909347Z",
     "iopub.status.idle": "2021-10-28T01:34:19.045327Z",
     "shell.execute_reply": "2021-10-28T01:34:19.044730Z"
    },
    "papermill": {
     "duration": 0.161621,
     "end_time": "2021-10-28T01:34:19.045517",
     "exception": false,
     "start_time": "2021-10-28T01:34:18.883896",
     "status": "completed"
    },
    "tags": [
     "remove_cell"
    ]
   },
   "outputs": [],
   "source": [
    "from pathlib import Path\n",
    "path_data = Path(\"./\")\n",
    "comments = pd.read_csv(path_data.joinpath('../data/comments.csv'), index_col=0)\n",
    "issues = pd.read_csv(path_data.joinpath('../data/issues.csv'), index_col=0)\n",
    "prs = pd.read_csv(path_data.joinpath('../data/prs.csv'), index_col=0)\n",
    "\n",
    "comments = comments.query('author == @person').drop_duplicates()\n",
    "issues = issues.query('author == @person').drop_duplicates()\n",
    "closed_by = prs.query('mergedBy == @person')\n",
    "prs = prs.query('author == @person').drop_duplicates()"
   ]
  },
  {
   "cell_type": "code",
   "execution_count": 7,
   "id": "703d22db",
   "metadata": {
    "execution": {
     "iopub.execute_input": "2021-10-28T01:34:19.096940Z",
     "iopub.status.busy": "2021-10-28T01:34:19.096267Z",
     "iopub.status.idle": "2021-10-28T01:34:19.155659Z",
     "shell.execute_reply": "2021-10-28T01:34:19.155025Z"
    },
    "papermill": {
     "duration": 0.089167,
     "end_time": "2021-10-28T01:34:19.155843",
     "exception": false,
     "start_time": "2021-10-28T01:34:19.066676",
     "status": "completed"
    },
    "tags": [
     "remove_cell"
    ]
   },
   "outputs": [],
   "source": [
    "# Time columns\n",
    "# Also drop dates outside of our range\n",
    "time_columns = ['updatedAt', 'createdAt', 'closedAt']\n",
    "for col in time_columns:\n",
    "    for item in [comments, issues, prs, closed_by]:\n",
    "        if col not in item.columns:\n",
    "            continue\n",
    "        dt = pd.to_datetime(item[col]).dt.tz_localize(None)\n",
    "        item[col] = dt\n",
    "        item.query(\"updatedAt < @end_date and updatedAt > @start_date\", inplace=True)"
   ]
  },
  {
   "cell_type": "markdown",
   "id": "aa7e6c27",
   "metadata": {
    "papermill": {
     "duration": 0.017514,
     "end_time": "2021-10-28T01:34:19.193193",
     "exception": false,
     "start_time": "2021-10-28T01:34:19.175679",
     "status": "completed"
    },
    "tags": []
   },
   "source": [
    "## Repository summaries"
   ]
  },
  {
   "cell_type": "code",
   "execution_count": 8,
   "id": "6161db37",
   "metadata": {
    "execution": {
     "iopub.execute_input": "2021-10-28T01:34:19.253286Z",
     "iopub.status.busy": "2021-10-28T01:34:19.250528Z",
     "iopub.status.idle": "2021-10-28T01:34:19.263897Z",
     "shell.execute_reply": "2021-10-28T01:34:19.263233Z"
    },
    "papermill": {
     "duration": 0.050927,
     "end_time": "2021-10-28T01:34:19.264109",
     "exception": false,
     "start_time": "2021-10-28T01:34:19.213182",
     "status": "completed"
    },
    "tags": [
     "remove_cell"
    ]
   },
   "outputs": [],
   "source": [
    "summaries = []\n",
    "for idata, name in [(issues, 'issues'), (prs, 'prs'), (comments, 'comments')]:\n",
    "    idata = idata.groupby([\"repo\", \"org\"]).agg({'id': \"count\"}).reset_index().rename(columns={'id': 'count'})\n",
    "    idata[\"kind\"] = name\n",
    "    summaries.append(idata)\n",
    "summaries = pd.concat(summaries)"
   ]
  },
  {
   "cell_type": "code",
   "execution_count": 9,
   "id": "1fa11a41",
   "metadata": {
    "execution": {
     "iopub.execute_input": "2021-10-28T01:34:19.318042Z",
     "iopub.status.busy": "2021-10-28T01:34:19.307998Z",
     "iopub.status.idle": "2021-10-28T01:34:19.322485Z",
     "shell.execute_reply": "2021-10-28T01:34:19.321814Z"
    },
    "papermill": {
     "duration": 0.037418,
     "end_time": "2021-10-28T01:34:19.322672",
     "exception": false,
     "start_time": "2021-10-28T01:34:19.285254",
     "status": "completed"
    },
    "tags": [
     "remove_cell"
    ]
   },
   "outputs": [],
   "source": [
    "repo_summaries = summaries.groupby([\"repo\", \"kind\"]).agg({\"count\": \"sum\"}).reset_index()\n",
    "org_summaries = summaries.groupby([\"org\", \"kind\"]).agg({\"count\": \"sum\"}).reset_index()"
   ]
  },
  {
   "cell_type": "code",
   "execution_count": 10,
   "id": "ccfcfd21",
   "metadata": {
    "execution": {
     "iopub.execute_input": "2021-10-28T01:34:19.372773Z",
     "iopub.status.busy": "2021-10-28T01:34:19.372090Z",
     "iopub.status.idle": "2021-10-28T01:34:19.374865Z",
     "shell.execute_reply": "2021-10-28T01:34:19.375435Z"
    },
    "papermill": {
     "duration": 0.031896,
     "end_time": "2021-10-28T01:34:19.375643",
     "exception": false,
     "start_time": "2021-10-28T01:34:19.343747",
     "status": "completed"
    },
    "tags": [
     "remove_cell"
    ]
   },
   "outputs": [],
   "source": [
    "repo_summaries['logcount'] = np.log(repo_summaries[\"count\"])"
   ]
  },
  {
   "cell_type": "code",
   "execution_count": 11,
   "id": "32f3e397",
   "metadata": {
    "execution": {
     "iopub.execute_input": "2021-10-28T01:34:19.438482Z",
     "iopub.status.busy": "2021-10-28T01:34:19.433322Z",
     "iopub.status.idle": "2021-10-28T01:34:19.488039Z",
     "shell.execute_reply": "2021-10-28T01:34:19.487376Z"
    },
    "papermill": {
     "duration": 0.093693,
     "end_time": "2021-10-28T01:34:19.488246",
     "exception": false,
     "start_time": "2021-10-28T01:34:19.394553",
     "status": "completed"
    },
    "tags": [
     "hide_input"
    ]
   },
   "outputs": [
    {
     "data": {
      "text/html": [
       "\n",
       "<div id=\"altair-viz-d78ca598edeb4dc4bda0ae7e07766ece\"></div>\n",
       "<script type=\"text/javascript\">\n",
       "  (function(spec, embedOpt){\n",
       "    let outputDiv = document.currentScript.previousElementSibling;\n",
       "    if (outputDiv.id !== \"altair-viz-d78ca598edeb4dc4bda0ae7e07766ece\") {\n",
       "      outputDiv = document.getElementById(\"altair-viz-d78ca598edeb4dc4bda0ae7e07766ece\");\n",
       "    }\n",
       "    const paths = {\n",
       "      \"vega\": \"https://cdn.jsdelivr.net/npm//vega@5?noext\",\n",
       "      \"vega-lib\": \"https://cdn.jsdelivr.net/npm//vega-lib?noext\",\n",
       "      \"vega-lite\": \"https://cdn.jsdelivr.net/npm//vega-lite@4.8.1?noext\",\n",
       "      \"vega-embed\": \"https://cdn.jsdelivr.net/npm//vega-embed@6?noext\",\n",
       "    };\n",
       "\n",
       "    function loadScript(lib) {\n",
       "      return new Promise(function(resolve, reject) {\n",
       "        var s = document.createElement('script');\n",
       "        s.src = paths[lib];\n",
       "        s.async = true;\n",
       "        s.onload = () => resolve(paths[lib]);\n",
       "        s.onerror = () => reject(`Error loading script: ${paths[lib]}`);\n",
       "        document.getElementsByTagName(\"head\")[0].appendChild(s);\n",
       "      });\n",
       "    }\n",
       "\n",
       "    function showError(err) {\n",
       "      outputDiv.innerHTML = `<div class=\"error\" style=\"color:red;\">${err}</div>`;\n",
       "      throw err;\n",
       "    }\n",
       "\n",
       "    function displayChart(vegaEmbed) {\n",
       "      vegaEmbed(outputDiv, spec, embedOpt)\n",
       "        .catch(err => showError(`Javascript Error: ${err.message}<br>This usually means there's a typo in your chart specification. See the javascript console for the full traceback.`));\n",
       "    }\n",
       "\n",
       "    if(typeof define === \"function\" && define.amd) {\n",
       "      requirejs.config({paths});\n",
       "      require([\"vega-embed\"], displayChart, err => showError(`Error loading script: ${err.message}`));\n",
       "    } else if (typeof vegaEmbed === \"function\") {\n",
       "      displayChart(vegaEmbed);\n",
       "    } else {\n",
       "      loadScript(\"vega\")\n",
       "        .then(() => loadScript(\"vega-lite\"))\n",
       "        .then(() => loadScript(\"vega-embed\"))\n",
       "        .catch(showError)\n",
       "        .then(() => displayChart(vegaEmbed));\n",
       "    }\n",
       "  })({\"config\": {\"axisLeft\": {\"labelFontSize\": 15}, \"axisBottom\": {\"labelFontSize\": 15}}, \"hconcat\": [{\"mark\": \"bar\", \"encoding\": {\"color\": {\"type\": \"nominal\", \"field\": \"kind\"}, \"tooltip\": {\"type\": \"nominal\", \"field\": \"kind\"}, \"x\": {\"type\": \"nominal\", \"field\": \"repo\"}, \"y\": {\"type\": \"quantitative\", \"field\": \"count\"}}, \"title\": \"Activity per repository\", \"width\": 600}, {\"mark\": \"bar\", \"encoding\": {\"color\": {\"type\": \"nominal\", \"field\": \"kind\"}, \"tooltip\": {\"type\": \"nominal\", \"field\": \"kind\"}, \"x\": {\"type\": \"nominal\", \"field\": \"repo\"}, \"y\": {\"type\": \"quantitative\", \"field\": \"logcount\"}}, \"title\": \"Log activity per repository\", \"width\": 600}], \"data\": {\"name\": \"data-5fab04b4cf25270655ad62c453d216ea\"}, \"$schema\": \"https://vega.github.io/schema/vega-lite/v4.8.1.json\", \"datasets\": {\"data-5fab04b4cf25270655ad62c453d216ea\": [{\"repo\": \"MyST-NB\", \"kind\": \"comments\", \"count\": 2, \"logcount\": 0.6931471805599453}, {\"repo\": \"MyST-NB\", \"kind\": \"issues\", \"count\": 1, \"logcount\": 0.0}, {\"repo\": \"MyST-NB\", \"kind\": \"prs\", \"count\": 1, \"logcount\": 0.0}, {\"repo\": \"jupyter-book\", \"kind\": \"comments\", \"count\": 9, \"logcount\": 2.1972245773362196}, {\"repo\": \"jupyter-book\", \"kind\": \"prs\", \"count\": 1, \"logcount\": 0.0}, {\"repo\": \"sphinx-exercise\", \"kind\": \"comments\", \"count\": 8, \"logcount\": 2.0794415416798357}, {\"repo\": \"sphinx-exercise\", \"kind\": \"prs\", \"count\": 3, \"logcount\": 1.0986122886681098}, {\"repo\": \"sphinx-jupyterbook-latex\", \"kind\": \"comments\", \"count\": 1, \"logcount\": 0.0}, {\"repo\": \"sphinx-jupyterbook-latex\", \"kind\": \"prs\", \"count\": 2, \"logcount\": 0.6931471805599453}, {\"repo\": \"sphinx-proof\", \"kind\": \"issues\", \"count\": 1, \"logcount\": 0.0}, {\"repo\": \"sphinx-proof\", \"kind\": \"prs\", \"count\": 4, \"logcount\": 1.3862943611198906}]}}, {\"mode\": \"vega-lite\"});\n",
       "</script>"
      ],
      "text/plain": [
       "alt.HConcatChart(...)"
      ]
     },
     "execution_count": 11,
     "metadata": {},
     "output_type": "execute_result"
    }
   ],
   "source": [
    "ch1 = alt.Chart(repo_summaries, width=600, title=\"Activity per repository\").mark_bar().encode(\n",
    "    x='repo',\n",
    "    y='count',\n",
    "    color='kind',\n",
    "    tooltip=\"kind\"\n",
    ")\n",
    "\n",
    "ch2 = alt.Chart(repo_summaries, width=600, title=\"Log activity per repository\").mark_bar().encode(\n",
    "    x='repo',\n",
    "    y='logcount',\n",
    "    color='kind',\n",
    "    tooltip=\"kind\"\n",
    ")\n",
    "\n",
    "ch1 | ch2"
   ]
  },
  {
   "cell_type": "code",
   "execution_count": 12,
   "id": "f1ed3f10",
   "metadata": {
    "execution": {
     "iopub.execute_input": "2021-10-28T01:34:19.569877Z",
     "iopub.status.busy": "2021-10-28T01:34:19.568400Z",
     "iopub.status.idle": "2021-10-28T01:34:19.572262Z",
     "shell.execute_reply": "2021-10-28T01:34:19.572818Z"
    },
    "papermill": {
     "duration": 0.062694,
     "end_time": "2021-10-28T01:34:19.573025",
     "exception": false,
     "start_time": "2021-10-28T01:34:19.510331",
     "status": "completed"
    },
    "tags": [
     "hide_input"
    ]
   },
   "outputs": [
    {
     "data": {
      "text/html": [
       "\n",
       "<div id=\"altair-viz-21043339274147d79bce39a73f223a9e\"></div>\n",
       "<script type=\"text/javascript\">\n",
       "  (function(spec, embedOpt){\n",
       "    let outputDiv = document.currentScript.previousElementSibling;\n",
       "    if (outputDiv.id !== \"altair-viz-21043339274147d79bce39a73f223a9e\") {\n",
       "      outputDiv = document.getElementById(\"altair-viz-21043339274147d79bce39a73f223a9e\");\n",
       "    }\n",
       "    const paths = {\n",
       "      \"vega\": \"https://cdn.jsdelivr.net/npm//vega@5?noext\",\n",
       "      \"vega-lib\": \"https://cdn.jsdelivr.net/npm//vega-lib?noext\",\n",
       "      \"vega-lite\": \"https://cdn.jsdelivr.net/npm//vega-lite@4.8.1?noext\",\n",
       "      \"vega-embed\": \"https://cdn.jsdelivr.net/npm//vega-embed@6?noext\",\n",
       "    };\n",
       "\n",
       "    function loadScript(lib) {\n",
       "      return new Promise(function(resolve, reject) {\n",
       "        var s = document.createElement('script');\n",
       "        s.src = paths[lib];\n",
       "        s.async = true;\n",
       "        s.onload = () => resolve(paths[lib]);\n",
       "        s.onerror = () => reject(`Error loading script: ${paths[lib]}`);\n",
       "        document.getElementsByTagName(\"head\")[0].appendChild(s);\n",
       "      });\n",
       "    }\n",
       "\n",
       "    function showError(err) {\n",
       "      outputDiv.innerHTML = `<div class=\"error\" style=\"color:red;\">${err}</div>`;\n",
       "      throw err;\n",
       "    }\n",
       "\n",
       "    function displayChart(vegaEmbed) {\n",
       "      vegaEmbed(outputDiv, spec, embedOpt)\n",
       "        .catch(err => showError(`Javascript Error: ${err.message}<br>This usually means there's a typo in your chart specification. See the javascript console for the full traceback.`));\n",
       "    }\n",
       "\n",
       "    if(typeof define === \"function\" && define.amd) {\n",
       "      requirejs.config({paths});\n",
       "      require([\"vega-embed\"], displayChart, err => showError(`Error loading script: ${err.message}`));\n",
       "    } else if (typeof vegaEmbed === \"function\") {\n",
       "      displayChart(vegaEmbed);\n",
       "    } else {\n",
       "      loadScript(\"vega\")\n",
       "        .then(() => loadScript(\"vega-lite\"))\n",
       "        .then(() => loadScript(\"vega-embed\"))\n",
       "        .catch(showError)\n",
       "        .then(() => displayChart(vegaEmbed));\n",
       "    }\n",
       "  })({\"config\": {\"axisLeft\": {\"labelFontSize\": 15}, \"axisBottom\": {\"labelFontSize\": 15}}, \"data\": {\"name\": \"data-c3afc090497854f6f4133e9444a62a20\"}, \"mark\": \"bar\", \"encoding\": {\"color\": {\"type\": \"nominal\", \"field\": \"kind\"}, \"tooltip\": {\"type\": \"nominal\", \"field\": \"org\"}, \"x\": {\"type\": \"nominal\", \"field\": \"org\"}, \"y\": {\"type\": \"quantitative\", \"field\": \"count\"}}, \"width\": 600, \"$schema\": \"https://vega.github.io/schema/vega-lite/v4.8.1.json\", \"datasets\": {\"data-c3afc090497854f6f4133e9444a62a20\": [{\"org\": \"executablebooks\", \"kind\": \"comments\", \"count\": 20}, {\"org\": \"executablebooks\", \"kind\": \"issues\", \"count\": 2}, {\"org\": \"executablebooks\", \"kind\": \"prs\", \"count\": 11}]}}, {\"mode\": \"vega-lite\"});\n",
       "</script>"
      ],
      "text/plain": [
       "alt.Chart(...)"
      ]
     },
     "execution_count": 12,
     "metadata": {},
     "output_type": "execute_result"
    }
   ],
   "source": [
    "alt.Chart(org_summaries, width=600).mark_bar().encode(\n",
    "    x='org',\n",
    "    y='count',\n",
    "    color='kind',\n",
    "    tooltip=\"org\"\n",
    ")"
   ]
  },
  {
   "cell_type": "markdown",
   "id": "9a1b0ac3",
   "metadata": {
    "papermill": {
     "duration": 0.019973,
     "end_time": "2021-10-28T01:34:19.614176",
     "exception": false,
     "start_time": "2021-10-28T01:34:19.594203",
     "status": "completed"
    },
    "tags": []
   },
   "source": [
    "## By repository over time"
   ]
  },
  {
   "cell_type": "markdown",
   "id": "cf854a8b",
   "metadata": {
    "papermill": {
     "duration": 0.019325,
     "end_time": "2021-10-28T01:34:19.661774",
     "exception": false,
     "start_time": "2021-10-28T01:34:19.642449",
     "status": "completed"
    },
    "tags": []
   },
   "source": [
    "### Comments"
   ]
  },
  {
   "cell_type": "code",
   "execution_count": 13,
   "id": "06525f9c",
   "metadata": {
    "execution": {
     "iopub.execute_input": "2021-10-28T01:34:19.708734Z",
     "iopub.status.busy": "2021-10-28T01:34:19.708004Z",
     "iopub.status.idle": "2021-10-28T01:34:19.781392Z",
     "shell.execute_reply": "2021-10-28T01:34:19.782103Z"
    },
    "papermill": {
     "duration": 0.100367,
     "end_time": "2021-10-28T01:34:19.782383",
     "exception": false,
     "start_time": "2021-10-28T01:34:19.682016",
     "status": "completed"
    },
    "tags": [
     "hide_input"
    ]
   },
   "outputs": [
    {
     "data": {
      "text/html": [
       "\n",
       "<div id=\"altair-viz-cf797f23a390440eaf16e312208ca207\"></div>\n",
       "<script type=\"text/javascript\">\n",
       "  (function(spec, embedOpt){\n",
       "    let outputDiv = document.currentScript.previousElementSibling;\n",
       "    if (outputDiv.id !== \"altair-viz-cf797f23a390440eaf16e312208ca207\") {\n",
       "      outputDiv = document.getElementById(\"altair-viz-cf797f23a390440eaf16e312208ca207\");\n",
       "    }\n",
       "    const paths = {\n",
       "      \"vega\": \"https://cdn.jsdelivr.net/npm//vega@5?noext\",\n",
       "      \"vega-lib\": \"https://cdn.jsdelivr.net/npm//vega-lib?noext\",\n",
       "      \"vega-lite\": \"https://cdn.jsdelivr.net/npm//vega-lite@4.8.1?noext\",\n",
       "      \"vega-embed\": \"https://cdn.jsdelivr.net/npm//vega-embed@6?noext\",\n",
       "    };\n",
       "\n",
       "    function loadScript(lib) {\n",
       "      return new Promise(function(resolve, reject) {\n",
       "        var s = document.createElement('script');\n",
       "        s.src = paths[lib];\n",
       "        s.async = true;\n",
       "        s.onload = () => resolve(paths[lib]);\n",
       "        s.onerror = () => reject(`Error loading script: ${paths[lib]}`);\n",
       "        document.getElementsByTagName(\"head\")[0].appendChild(s);\n",
       "      });\n",
       "    }\n",
       "\n",
       "    function showError(err) {\n",
       "      outputDiv.innerHTML = `<div class=\"error\" style=\"color:red;\">${err}</div>`;\n",
       "      throw err;\n",
       "    }\n",
       "\n",
       "    function displayChart(vegaEmbed) {\n",
       "      vegaEmbed(outputDiv, spec, embedOpt)\n",
       "        .catch(err => showError(`Javascript Error: ${err.message}<br>This usually means there's a typo in your chart specification. See the javascript console for the full traceback.`));\n",
       "    }\n",
       "\n",
       "    if(typeof define === \"function\" && define.amd) {\n",
       "      requirejs.config({paths});\n",
       "      require([\"vega-embed\"], displayChart, err => showError(`Error loading script: ${err.message}`));\n",
       "    } else if (typeof vegaEmbed === \"function\") {\n",
       "      displayChart(vegaEmbed);\n",
       "    } else {\n",
       "      loadScript(\"vega\")\n",
       "        .then(() => loadScript(\"vega-lite\"))\n",
       "        .then(() => loadScript(\"vega-embed\"))\n",
       "        .catch(showError)\n",
       "        .then(() => displayChart(vegaEmbed));\n",
       "    }\n",
       "  })({\"config\": {\"axisLeft\": {\"labelFontSize\": 15}, \"axisBottom\": {\"labelFontSize\": 15}}, \"layer\": [{\"data\": {\"name\": \"data-1d50b9f6a77cc48127ac2c0accb7db19\"}, \"mark\": \"line\", \"encoding\": {\"color\": {\"type\": \"nominal\", \"field\": \"repo\"}, \"tooltip\": {\"type\": \"nominal\", \"field\": \"repo\"}, \"x\": {\"type\": \"temporal\", \"field\": \"createdAt\"}, \"y\": {\"type\": \"quantitative\", \"field\": \"count\"}}, \"width\": 600}, {\"data\": {\"name\": \"data-c159dcbcd5d72a28fbe02b3fac0f2b78\"}, \"mark\": {\"type\": \"line\", \"color\": \"black\"}, \"encoding\": {\"x\": {\"type\": \"temporal\", \"field\": \"createdAt\"}, \"y\": {\"type\": \"quantitative\", \"field\": \"count\"}}, \"width\": 600}], \"$schema\": \"https://vega.github.io/schema/vega-lite/v4.8.1.json\", \"datasets\": {\"data-1d50b9f6a77cc48127ac2c0accb7db19\": [{\"repo\": \"MyST-NB\", \"createdAt\": \"2021-10-24T00:00:00\", \"count\": 2}, {\"repo\": \"jupyter-book\", \"createdAt\": \"2021-10-17T00:00:00\", \"count\": 8}, {\"repo\": \"jupyter-book\", \"createdAt\": \"2021-10-24T00:00:00\", \"count\": 1}, {\"repo\": \"sphinx-exercise\", \"createdAt\": \"2021-09-12T00:00:00\", \"count\": 1}, {\"repo\": \"sphinx-exercise\", \"createdAt\": \"2021-09-19T00:00:00\", \"count\": 0}, {\"repo\": \"sphinx-exercise\", \"createdAt\": \"2021-09-26T00:00:00\", \"count\": 3}, {\"repo\": \"sphinx-exercise\", \"createdAt\": \"2021-10-03T00:00:00\", \"count\": 1}, {\"repo\": \"sphinx-exercise\", \"createdAt\": \"2021-10-10T00:00:00\", \"count\": 3}, {\"repo\": \"sphinx-jupyterbook-latex\", \"createdAt\": \"2021-09-26T00:00:00\", \"count\": 1}], \"data-c159dcbcd5d72a28fbe02b3fac0f2b78\": [{\"createdAt\": \"2021-09-12T00:00:00\", \"count\": 1}, {\"createdAt\": \"2021-09-19T00:00:00\", \"count\": 0}, {\"createdAt\": \"2021-09-26T00:00:00\", \"count\": 4}, {\"createdAt\": \"2021-10-03T00:00:00\", \"count\": 1}, {\"createdAt\": \"2021-10-10T00:00:00\", \"count\": 3}, {\"createdAt\": \"2021-10-17T00:00:00\", \"count\": 8}, {\"createdAt\": \"2021-10-24T00:00:00\", \"count\": 3}]}}, {\"mode\": \"vega-lite\"});\n",
       "</script>"
      ],
      "text/plain": [
       "alt.LayerChart(...)"
      ]
     },
     "execution_count": 13,
     "metadata": {},
     "output_type": "execute_result"
    }
   ],
   "source": [
    "comments_time = comments.groupby('repo').resample('W', on='createdAt').count()['author'].reset_index()\n",
    "comments_time = comments_time.rename(columns={'author': 'count'})\n",
    "comments_time_total = comments_time.groupby('createdAt').agg({\"count\": \"sum\"}).reset_index()\n",
    "ch1 = alt.Chart(comments_time, width=600).mark_line().encode(\n",
    "    x='createdAt',\n",
    "    y='count',\n",
    "    color='repo',\n",
    "    tooltip=\"repo\"\n",
    ")\n",
    "\n",
    "ch2 = alt.Chart(comments_time_total, width=600).mark_line(color=\"black\").encode(\n",
    "    x='createdAt',\n",
    "    y='count',\n",
    ")\n",
    "\n",
    "ch1 + ch2"
   ]
  },
  {
   "cell_type": "markdown",
   "id": "8137e62f",
   "metadata": {
    "papermill": {
     "duration": 0.021383,
     "end_time": "2021-10-28T01:34:19.826711",
     "exception": false,
     "start_time": "2021-10-28T01:34:19.805328",
     "status": "completed"
    },
    "tags": []
   },
   "source": [
    "### PRs"
   ]
  },
  {
   "cell_type": "code",
   "execution_count": 14,
   "id": "a024adfa",
   "metadata": {
    "execution": {
     "iopub.execute_input": "2021-10-28T01:34:19.888002Z",
     "iopub.status.busy": "2021-10-28T01:34:19.884239Z",
     "iopub.status.idle": "2021-10-28T01:34:19.955165Z",
     "shell.execute_reply": "2021-10-28T01:34:19.955770Z"
    },
    "papermill": {
     "duration": 0.108615,
     "end_time": "2021-10-28T01:34:19.956010",
     "exception": false,
     "start_time": "2021-10-28T01:34:19.847395",
     "status": "completed"
    },
    "tags": [
     "hide_input"
    ]
   },
   "outputs": [
    {
     "data": {
      "text/html": [
       "\n",
       "<div id=\"altair-viz-df8c46f6849143fbaf68d7263736e347\"></div>\n",
       "<script type=\"text/javascript\">\n",
       "  (function(spec, embedOpt){\n",
       "    let outputDiv = document.currentScript.previousElementSibling;\n",
       "    if (outputDiv.id !== \"altair-viz-df8c46f6849143fbaf68d7263736e347\") {\n",
       "      outputDiv = document.getElementById(\"altair-viz-df8c46f6849143fbaf68d7263736e347\");\n",
       "    }\n",
       "    const paths = {\n",
       "      \"vega\": \"https://cdn.jsdelivr.net/npm//vega@5?noext\",\n",
       "      \"vega-lib\": \"https://cdn.jsdelivr.net/npm//vega-lib?noext\",\n",
       "      \"vega-lite\": \"https://cdn.jsdelivr.net/npm//vega-lite@4.8.1?noext\",\n",
       "      \"vega-embed\": \"https://cdn.jsdelivr.net/npm//vega-embed@6?noext\",\n",
       "    };\n",
       "\n",
       "    function loadScript(lib) {\n",
       "      return new Promise(function(resolve, reject) {\n",
       "        var s = document.createElement('script');\n",
       "        s.src = paths[lib];\n",
       "        s.async = true;\n",
       "        s.onload = () => resolve(paths[lib]);\n",
       "        s.onerror = () => reject(`Error loading script: ${paths[lib]}`);\n",
       "        document.getElementsByTagName(\"head\")[0].appendChild(s);\n",
       "      });\n",
       "    }\n",
       "\n",
       "    function showError(err) {\n",
       "      outputDiv.innerHTML = `<div class=\"error\" style=\"color:red;\">${err}</div>`;\n",
       "      throw err;\n",
       "    }\n",
       "\n",
       "    function displayChart(vegaEmbed) {\n",
       "      vegaEmbed(outputDiv, spec, embedOpt)\n",
       "        .catch(err => showError(`Javascript Error: ${err.message}<br>This usually means there's a typo in your chart specification. See the javascript console for the full traceback.`));\n",
       "    }\n",
       "\n",
       "    if(typeof define === \"function\" && define.amd) {\n",
       "      requirejs.config({paths});\n",
       "      require([\"vega-embed\"], displayChart, err => showError(`Error loading script: ${err.message}`));\n",
       "    } else if (typeof vegaEmbed === \"function\") {\n",
       "      displayChart(vegaEmbed);\n",
       "    } else {\n",
       "      loadScript(\"vega\")\n",
       "        .then(() => loadScript(\"vega-lite\"))\n",
       "        .then(() => loadScript(\"vega-embed\"))\n",
       "        .catch(showError)\n",
       "        .then(() => displayChart(vegaEmbed));\n",
       "    }\n",
       "  })({\"config\": {\"axisLeft\": {\"labelFontSize\": 15}, \"axisBottom\": {\"labelFontSize\": 15}}, \"layer\": [{\"data\": {\"name\": \"data-b8e318977f7e2a1136176ef9be0d41e4\"}, \"mark\": \"line\", \"encoding\": {\"color\": {\"type\": \"nominal\", \"field\": \"repo\"}, \"tooltip\": {\"type\": \"nominal\", \"field\": \"repo\"}, \"x\": {\"type\": \"temporal\", \"field\": \"createdAt\"}, \"y\": {\"type\": \"quantitative\", \"field\": \"count\"}}, \"width\": 600}, {\"data\": {\"name\": \"data-12ec323b28453dce8f3226c939a22b80\"}, \"mark\": {\"type\": \"line\", \"color\": \"black\"}, \"encoding\": {\"x\": {\"type\": \"temporal\", \"field\": \"createdAt\"}, \"y\": {\"type\": \"quantitative\", \"field\": \"count\"}}, \"width\": 600}], \"$schema\": \"https://vega.github.io/schema/vega-lite/v4.8.1.json\", \"datasets\": {\"data-b8e318977f7e2a1136176ef9be0d41e4\": [{\"repo\": \"MyST-NB\", \"createdAt\": \"2021-10-24T00:00:00\", \"count\": 1}, {\"repo\": \"jupyter-book\", \"createdAt\": \"2020-08-02T00:00:00\", \"count\": 1}, {\"repo\": \"sphinx-exercise\", \"createdAt\": \"2021-09-12T00:00:00\", \"count\": 1}, {\"repo\": \"sphinx-exercise\", \"createdAt\": \"2021-09-19T00:00:00\", \"count\": 0}, {\"repo\": \"sphinx-exercise\", \"createdAt\": \"2021-09-26T00:00:00\", \"count\": 1}, {\"repo\": \"sphinx-exercise\", \"createdAt\": \"2021-10-03T00:00:00\", \"count\": 0}, {\"repo\": \"sphinx-exercise\", \"createdAt\": \"2021-10-10T00:00:00\", \"count\": 1}, {\"repo\": \"sphinx-jupyterbook-latex\", \"createdAt\": \"2021-10-24T00:00:00\", \"count\": 2}, {\"repo\": \"sphinx-proof\", \"createdAt\": \"2021-10-17T00:00:00\", \"count\": 4}], \"data-12ec323b28453dce8f3226c939a22b80\": [{\"createdAt\": \"2020-08-02T00:00:00\", \"count\": 1}, {\"createdAt\": \"2021-09-12T00:00:00\", \"count\": 1}, {\"createdAt\": \"2021-09-19T00:00:00\", \"count\": 0}, {\"createdAt\": \"2021-09-26T00:00:00\", \"count\": 1}, {\"createdAt\": \"2021-10-03T00:00:00\", \"count\": 0}, {\"createdAt\": \"2021-10-10T00:00:00\", \"count\": 1}, {\"createdAt\": \"2021-10-17T00:00:00\", \"count\": 4}, {\"createdAt\": \"2021-10-24T00:00:00\", \"count\": 3}]}}, {\"mode\": \"vega-lite\"});\n",
       "</script>"
      ],
      "text/plain": [
       "alt.LayerChart(...)"
      ]
     },
     "execution_count": 14,
     "metadata": {},
     "output_type": "execute_result"
    }
   ],
   "source": [
    "prs_time = prs.groupby('repo').resample('W', on='createdAt').count()['author'].reset_index()\n",
    "prs_time = prs_time.rename(columns={'author': 'count'})\n",
    "prs_time_total = prs_time.groupby('createdAt').agg({\"count\": \"sum\"}).reset_index()\n",
    "\n",
    "ch1 = alt.Chart(prs_time, width=600).mark_line().encode(\n",
    "    x='createdAt',\n",
    "    y='count',\n",
    "    color='repo',\n",
    "    tooltip=\"repo\"\n",
    ")\n",
    "\n",
    "ch2 = alt.Chart(prs_time_total, width=600).mark_line(color=\"black\").encode(\n",
    "    x='createdAt',\n",
    "    y='count',\n",
    ")\n",
    "\n",
    "ch1 + ch2"
   ]
  },
  {
   "cell_type": "code",
   "execution_count": 15,
   "id": "bcc3e4d5",
   "metadata": {
    "execution": {
     "iopub.execute_input": "2021-10-28T01:34:20.022806Z",
     "iopub.status.busy": "2021-10-28T01:34:20.020615Z",
     "iopub.status.idle": "2021-10-28T01:34:20.079814Z",
     "shell.execute_reply": "2021-10-28T01:34:20.078344Z"
    },
    "papermill": {
     "duration": 0.100927,
     "end_time": "2021-10-28T01:34:20.079993",
     "exception": false,
     "start_time": "2021-10-28T01:34:19.979066",
     "status": "completed"
    },
    "tags": [
     "hide_input"
    ]
   },
   "outputs": [
    {
     "data": {
      "text/html": [
       "\n",
       "<div id=\"altair-viz-9febb55942724db3b9e77e3efd1f6e69\"></div>\n",
       "<script type=\"text/javascript\">\n",
       "  (function(spec, embedOpt){\n",
       "    let outputDiv = document.currentScript.previousElementSibling;\n",
       "    if (outputDiv.id !== \"altair-viz-9febb55942724db3b9e77e3efd1f6e69\") {\n",
       "      outputDiv = document.getElementById(\"altair-viz-9febb55942724db3b9e77e3efd1f6e69\");\n",
       "    }\n",
       "    const paths = {\n",
       "      \"vega\": \"https://cdn.jsdelivr.net/npm//vega@5?noext\",\n",
       "      \"vega-lib\": \"https://cdn.jsdelivr.net/npm//vega-lib?noext\",\n",
       "      \"vega-lite\": \"https://cdn.jsdelivr.net/npm//vega-lite@4.8.1?noext\",\n",
       "      \"vega-embed\": \"https://cdn.jsdelivr.net/npm//vega-embed@6?noext\",\n",
       "    };\n",
       "\n",
       "    function loadScript(lib) {\n",
       "      return new Promise(function(resolve, reject) {\n",
       "        var s = document.createElement('script');\n",
       "        s.src = paths[lib];\n",
       "        s.async = true;\n",
       "        s.onload = () => resolve(paths[lib]);\n",
       "        s.onerror = () => reject(`Error loading script: ${paths[lib]}`);\n",
       "        document.getElementsByTagName(\"head\")[0].appendChild(s);\n",
       "      });\n",
       "    }\n",
       "\n",
       "    function showError(err) {\n",
       "      outputDiv.innerHTML = `<div class=\"error\" style=\"color:red;\">${err}</div>`;\n",
       "      throw err;\n",
       "    }\n",
       "\n",
       "    function displayChart(vegaEmbed) {\n",
       "      vegaEmbed(outputDiv, spec, embedOpt)\n",
       "        .catch(err => showError(`Javascript Error: ${err.message}<br>This usually means there's a typo in your chart specification. See the javascript console for the full traceback.`));\n",
       "    }\n",
       "\n",
       "    if(typeof define === \"function\" && define.amd) {\n",
       "      requirejs.config({paths});\n",
       "      require([\"vega-embed\"], displayChart, err => showError(`Error loading script: ${err.message}`));\n",
       "    } else if (typeof vegaEmbed === \"function\") {\n",
       "      displayChart(vegaEmbed);\n",
       "    } else {\n",
       "      loadScript(\"vega\")\n",
       "        .then(() => loadScript(\"vega-lite\"))\n",
       "        .then(() => loadScript(\"vega-embed\"))\n",
       "        .catch(showError)\n",
       "        .then(() => displayChart(vegaEmbed));\n",
       "    }\n",
       "  })({\"config\": {\"axisLeft\": {\"labelFontSize\": 15}, \"axisBottom\": {\"labelFontSize\": 15}}, \"data\": {\"name\": \"data-211dcefdd36327d1cf95b0ad77903609\"}, \"mark\": \"line\", \"encoding\": {\"color\": {\"type\": \"nominal\", \"field\": \"repo\"}, \"tooltip\": {\"type\": \"nominal\", \"field\": \"repo\"}, \"x\": {\"type\": \"temporal\", \"field\": \"closedAt\"}, \"y\": {\"type\": \"quantitative\", \"field\": \"count\"}}, \"width\": 600, \"$schema\": \"https://vega.github.io/schema/vega-lite/v4.8.1.json\", \"datasets\": {\"data-211dcefdd36327d1cf95b0ad77903609\": [{\"repo\": \"MyST-NB\", \"closedAt\": \"2021-10-24T00:00:00\", \"count\": 1}, {\"repo\": \"sphinx-exercise\", \"closedAt\": \"2021-09-26T00:00:00\", \"count\": 1}, {\"repo\": \"sphinx-exercise\", \"closedAt\": \"2021-10-03T00:00:00\", \"count\": 0}, {\"repo\": \"sphinx-exercise\", \"closedAt\": \"2021-10-10T00:00:00\", \"count\": 2}, {\"repo\": \"sphinx-jupyterbook-latex\", \"closedAt\": \"2021-10-24T00:00:00\", \"count\": 2}, {\"repo\": \"sphinx-proof\", \"closedAt\": \"2021-10-17T00:00:00\", \"count\": 4}]}}, {\"mode\": \"vega-lite\"});\n",
       "</script>"
      ],
      "text/plain": [
       "alt.Chart(...)"
      ]
     },
     "execution_count": 15,
     "metadata": {},
     "output_type": "execute_result"
    }
   ],
   "source": [
    "closed_by_time = closed_by.groupby('repo').resample('W', on='closedAt').count()['author'].reset_index()\n",
    "closed_by_time = closed_by_time.rename(columns={'author': 'count'})\n",
    "\n",
    "alt.Chart(closed_by_time, width=600).mark_line().encode(\n",
    "    x='closedAt',\n",
    "    y='count',\n",
    "    color='repo',\n",
    "    tooltip=\"repo\"\n",
    ")"
   ]
  },
  {
   "cell_type": "markdown",
   "id": "676a8384",
   "metadata": {
    "papermill": {
     "duration": 0.023559,
     "end_time": "2021-10-28T01:34:20.126243",
     "exception": false,
     "start_time": "2021-10-28T01:34:20.102684",
     "status": "completed"
    },
    "tags": []
   },
   "source": [
    "## By type over time"
   ]
  },
  {
   "cell_type": "code",
   "execution_count": 16,
   "id": "58ffdce0",
   "metadata": {
    "execution": {
     "iopub.execute_input": "2021-10-28T01:34:20.200130Z",
     "iopub.status.busy": "2021-10-28T01:34:20.183648Z",
     "iopub.status.idle": "2021-10-28T01:34:20.211227Z",
     "shell.execute_reply": "2021-10-28T01:34:20.210194Z"
    },
    "papermill": {
     "duration": 0.060456,
     "end_time": "2021-10-28T01:34:20.211407",
     "exception": false,
     "start_time": "2021-10-28T01:34:20.150951",
     "status": "completed"
    },
    "tags": [
     "remove_cell"
    ]
   },
   "outputs": [],
   "source": [
    "prs_time = prs[['author', 'createdAt']].resample('W', on='createdAt').count()['author'].reset_index()\n",
    "prs_time = prs_time.rename(columns={'author': 'prs'})\n",
    "comments_time = comments[['author', 'createdAt']].resample('W', on='createdAt').count()['author'].reset_index()\n",
    "comments_time = comments_time.rename(columns={'author': 'comments'})\n",
    "\n",
    "total_time = pd.merge(prs_time, comments_time, on='createdAt', how='outer')\n",
    "total_time = total_time.melt(id_vars='createdAt', var_name=\"kind\", value_name=\"count\")\n"
   ]
  },
  {
   "cell_type": "code",
   "execution_count": 17,
   "id": "49537468",
   "metadata": {
    "execution": {
     "iopub.execute_input": "2021-10-28T01:34:20.293508Z",
     "iopub.status.busy": "2021-10-28T01:34:20.292428Z",
     "iopub.status.idle": "2021-10-28T01:34:20.296146Z",
     "shell.execute_reply": "2021-10-28T01:34:20.296737Z"
    },
    "papermill": {
     "duration": 0.060339,
     "end_time": "2021-10-28T01:34:20.296961",
     "exception": false,
     "start_time": "2021-10-28T01:34:20.236622",
     "status": "completed"
    },
    "tags": [
     "hide_input"
    ]
   },
   "outputs": [
    {
     "data": {
      "text/html": [
       "\n",
       "<div id=\"altair-viz-df5870bee6cc4c35a97802f84f664caf\"></div>\n",
       "<script type=\"text/javascript\">\n",
       "  (function(spec, embedOpt){\n",
       "    let outputDiv = document.currentScript.previousElementSibling;\n",
       "    if (outputDiv.id !== \"altair-viz-df5870bee6cc4c35a97802f84f664caf\") {\n",
       "      outputDiv = document.getElementById(\"altair-viz-df5870bee6cc4c35a97802f84f664caf\");\n",
       "    }\n",
       "    const paths = {\n",
       "      \"vega\": \"https://cdn.jsdelivr.net/npm//vega@5?noext\",\n",
       "      \"vega-lib\": \"https://cdn.jsdelivr.net/npm//vega-lib?noext\",\n",
       "      \"vega-lite\": \"https://cdn.jsdelivr.net/npm//vega-lite@4.8.1?noext\",\n",
       "      \"vega-embed\": \"https://cdn.jsdelivr.net/npm//vega-embed@6?noext\",\n",
       "    };\n",
       "\n",
       "    function loadScript(lib) {\n",
       "      return new Promise(function(resolve, reject) {\n",
       "        var s = document.createElement('script');\n",
       "        s.src = paths[lib];\n",
       "        s.async = true;\n",
       "        s.onload = () => resolve(paths[lib]);\n",
       "        s.onerror = () => reject(`Error loading script: ${paths[lib]}`);\n",
       "        document.getElementsByTagName(\"head\")[0].appendChild(s);\n",
       "      });\n",
       "    }\n",
       "\n",
       "    function showError(err) {\n",
       "      outputDiv.innerHTML = `<div class=\"error\" style=\"color:red;\">${err}</div>`;\n",
       "      throw err;\n",
       "    }\n",
       "\n",
       "    function displayChart(vegaEmbed) {\n",
       "      vegaEmbed(outputDiv, spec, embedOpt)\n",
       "        .catch(err => showError(`Javascript Error: ${err.message}<br>This usually means there's a typo in your chart specification. See the javascript console for the full traceback.`));\n",
       "    }\n",
       "\n",
       "    if(typeof define === \"function\" && define.amd) {\n",
       "      requirejs.config({paths});\n",
       "      require([\"vega-embed\"], displayChart, err => showError(`Error loading script: ${err.message}`));\n",
       "    } else if (typeof vegaEmbed === \"function\") {\n",
       "      displayChart(vegaEmbed);\n",
       "    } else {\n",
       "      loadScript(\"vega\")\n",
       "        .then(() => loadScript(\"vega-lite\"))\n",
       "        .then(() => loadScript(\"vega-embed\"))\n",
       "        .catch(showError)\n",
       "        .then(() => displayChart(vegaEmbed));\n",
       "    }\n",
       "  })({\"config\": {\"axisLeft\": {\"labelFontSize\": 15}, \"axisBottom\": {\"labelFontSize\": 15}}, \"data\": {\"name\": \"data-40c226d891be71f655305158503bbe6f\"}, \"mark\": \"line\", \"encoding\": {\"color\": {\"type\": \"nominal\", \"field\": \"kind\"}, \"x\": {\"type\": \"temporal\", \"field\": \"createdAt\"}, \"y\": {\"type\": \"quantitative\", \"field\": \"count\"}}, \"width\": 600, \"$schema\": \"https://vega.github.io/schema/vega-lite/v4.8.1.json\", \"datasets\": {\"data-40c226d891be71f655305158503bbe6f\": [{\"createdAt\": \"2020-08-02T00:00:00\", \"kind\": \"prs\", \"count\": 1.0}, {\"createdAt\": \"2020-08-09T00:00:00\", \"kind\": \"prs\", \"count\": 0.0}, {\"createdAt\": \"2020-08-16T00:00:00\", \"kind\": \"prs\", \"count\": 0.0}, {\"createdAt\": \"2020-08-23T00:00:00\", \"kind\": \"prs\", \"count\": 0.0}, {\"createdAt\": \"2020-08-30T00:00:00\", \"kind\": \"prs\", \"count\": 0.0}, {\"createdAt\": \"2020-09-06T00:00:00\", \"kind\": \"prs\", \"count\": 0.0}, {\"createdAt\": \"2020-09-13T00:00:00\", \"kind\": \"prs\", \"count\": 0.0}, {\"createdAt\": \"2020-09-20T00:00:00\", \"kind\": \"prs\", \"count\": 0.0}, {\"createdAt\": \"2020-09-27T00:00:00\", \"kind\": \"prs\", \"count\": 0.0}, {\"createdAt\": \"2020-10-04T00:00:00\", \"kind\": \"prs\", \"count\": 0.0}, {\"createdAt\": \"2020-10-11T00:00:00\", \"kind\": \"prs\", \"count\": 0.0}, {\"createdAt\": \"2020-10-18T00:00:00\", \"kind\": \"prs\", \"count\": 0.0}, {\"createdAt\": \"2020-10-25T00:00:00\", \"kind\": \"prs\", \"count\": 0.0}, {\"createdAt\": \"2020-11-01T00:00:00\", \"kind\": \"prs\", \"count\": 0.0}, {\"createdAt\": \"2020-11-08T00:00:00\", \"kind\": \"prs\", \"count\": 0.0}, {\"createdAt\": \"2020-11-15T00:00:00\", \"kind\": \"prs\", \"count\": 0.0}, {\"createdAt\": \"2020-11-22T00:00:00\", \"kind\": \"prs\", \"count\": 0.0}, {\"createdAt\": \"2020-11-29T00:00:00\", \"kind\": \"prs\", \"count\": 0.0}, {\"createdAt\": \"2020-12-06T00:00:00\", \"kind\": \"prs\", \"count\": 0.0}, {\"createdAt\": \"2020-12-13T00:00:00\", \"kind\": \"prs\", \"count\": 0.0}, {\"createdAt\": \"2020-12-20T00:00:00\", \"kind\": \"prs\", \"count\": 0.0}, {\"createdAt\": \"2020-12-27T00:00:00\", \"kind\": \"prs\", \"count\": 0.0}, {\"createdAt\": \"2021-01-03T00:00:00\", \"kind\": \"prs\", \"count\": 0.0}, {\"createdAt\": \"2021-01-10T00:00:00\", \"kind\": \"prs\", \"count\": 0.0}, {\"createdAt\": \"2021-01-17T00:00:00\", \"kind\": \"prs\", \"count\": 0.0}, {\"createdAt\": \"2021-01-24T00:00:00\", \"kind\": \"prs\", \"count\": 0.0}, {\"createdAt\": \"2021-01-31T00:00:00\", \"kind\": \"prs\", \"count\": 0.0}, {\"createdAt\": \"2021-02-07T00:00:00\", \"kind\": \"prs\", \"count\": 0.0}, {\"createdAt\": \"2021-02-14T00:00:00\", \"kind\": \"prs\", \"count\": 0.0}, {\"createdAt\": \"2021-02-21T00:00:00\", \"kind\": \"prs\", \"count\": 0.0}, {\"createdAt\": \"2021-02-28T00:00:00\", \"kind\": \"prs\", \"count\": 0.0}, {\"createdAt\": \"2021-03-07T00:00:00\", \"kind\": \"prs\", \"count\": 0.0}, {\"createdAt\": \"2021-03-14T00:00:00\", \"kind\": \"prs\", \"count\": 0.0}, {\"createdAt\": \"2021-03-21T00:00:00\", \"kind\": \"prs\", \"count\": 0.0}, {\"createdAt\": \"2021-03-28T00:00:00\", \"kind\": \"prs\", \"count\": 0.0}, {\"createdAt\": \"2021-04-04T00:00:00\", \"kind\": \"prs\", \"count\": 0.0}, {\"createdAt\": \"2021-04-11T00:00:00\", \"kind\": \"prs\", \"count\": 0.0}, {\"createdAt\": \"2021-04-18T00:00:00\", \"kind\": \"prs\", \"count\": 0.0}, {\"createdAt\": \"2021-04-25T00:00:00\", \"kind\": \"prs\", \"count\": 0.0}, {\"createdAt\": \"2021-05-02T00:00:00\", \"kind\": \"prs\", \"count\": 0.0}, {\"createdAt\": \"2021-05-09T00:00:00\", \"kind\": \"prs\", \"count\": 0.0}, {\"createdAt\": \"2021-05-16T00:00:00\", \"kind\": \"prs\", \"count\": 0.0}, {\"createdAt\": \"2021-05-23T00:00:00\", \"kind\": \"prs\", \"count\": 0.0}, {\"createdAt\": \"2021-05-30T00:00:00\", \"kind\": \"prs\", \"count\": 0.0}, {\"createdAt\": \"2021-06-06T00:00:00\", \"kind\": \"prs\", \"count\": 0.0}, {\"createdAt\": \"2021-06-13T00:00:00\", \"kind\": \"prs\", \"count\": 0.0}, {\"createdAt\": \"2021-06-20T00:00:00\", \"kind\": \"prs\", \"count\": 0.0}, {\"createdAt\": \"2021-06-27T00:00:00\", \"kind\": \"prs\", \"count\": 0.0}, {\"createdAt\": \"2021-07-04T00:00:00\", \"kind\": \"prs\", \"count\": 0.0}, {\"createdAt\": \"2021-07-11T00:00:00\", \"kind\": \"prs\", \"count\": 0.0}, {\"createdAt\": \"2021-07-18T00:00:00\", \"kind\": \"prs\", \"count\": 0.0}, {\"createdAt\": \"2021-07-25T00:00:00\", \"kind\": \"prs\", \"count\": 0.0}, {\"createdAt\": \"2021-08-01T00:00:00\", \"kind\": \"prs\", \"count\": 0.0}, {\"createdAt\": \"2021-08-08T00:00:00\", \"kind\": \"prs\", \"count\": 0.0}, {\"createdAt\": \"2021-08-15T00:00:00\", \"kind\": \"prs\", \"count\": 0.0}, {\"createdAt\": \"2021-08-22T00:00:00\", \"kind\": \"prs\", \"count\": 0.0}, {\"createdAt\": \"2021-08-29T00:00:00\", \"kind\": \"prs\", \"count\": 0.0}, {\"createdAt\": \"2021-09-05T00:00:00\", \"kind\": \"prs\", \"count\": 0.0}, {\"createdAt\": \"2021-09-12T00:00:00\", \"kind\": \"prs\", \"count\": 1.0}, {\"createdAt\": \"2021-09-19T00:00:00\", \"kind\": \"prs\", \"count\": 0.0}, {\"createdAt\": \"2021-09-26T00:00:00\", \"kind\": \"prs\", \"count\": 1.0}, {\"createdAt\": \"2021-10-03T00:00:00\", \"kind\": \"prs\", \"count\": 0.0}, {\"createdAt\": \"2021-10-10T00:00:00\", \"kind\": \"prs\", \"count\": 1.0}, {\"createdAt\": \"2021-10-17T00:00:00\", \"kind\": \"prs\", \"count\": 4.0}, {\"createdAt\": \"2021-10-24T00:00:00\", \"kind\": \"prs\", \"count\": 3.0}, {\"createdAt\": \"2020-08-02T00:00:00\", \"kind\": \"comments\", \"count\": null}, {\"createdAt\": \"2020-08-09T00:00:00\", \"kind\": \"comments\", \"count\": null}, {\"createdAt\": \"2020-08-16T00:00:00\", \"kind\": \"comments\", \"count\": null}, {\"createdAt\": \"2020-08-23T00:00:00\", \"kind\": \"comments\", \"count\": null}, {\"createdAt\": \"2020-08-30T00:00:00\", \"kind\": \"comments\", \"count\": null}, {\"createdAt\": \"2020-09-06T00:00:00\", \"kind\": \"comments\", \"count\": null}, {\"createdAt\": \"2020-09-13T00:00:00\", \"kind\": \"comments\", \"count\": null}, {\"createdAt\": \"2020-09-20T00:00:00\", \"kind\": \"comments\", \"count\": null}, {\"createdAt\": \"2020-09-27T00:00:00\", \"kind\": \"comments\", \"count\": null}, {\"createdAt\": \"2020-10-04T00:00:00\", \"kind\": \"comments\", \"count\": null}, {\"createdAt\": \"2020-10-11T00:00:00\", \"kind\": \"comments\", \"count\": null}, {\"createdAt\": \"2020-10-18T00:00:00\", \"kind\": \"comments\", \"count\": null}, {\"createdAt\": \"2020-10-25T00:00:00\", \"kind\": \"comments\", \"count\": null}, {\"createdAt\": \"2020-11-01T00:00:00\", \"kind\": \"comments\", \"count\": null}, {\"createdAt\": \"2020-11-08T00:00:00\", \"kind\": \"comments\", \"count\": null}, {\"createdAt\": \"2020-11-15T00:00:00\", \"kind\": \"comments\", \"count\": null}, {\"createdAt\": \"2020-11-22T00:00:00\", \"kind\": \"comments\", \"count\": null}, {\"createdAt\": \"2020-11-29T00:00:00\", \"kind\": \"comments\", \"count\": null}, {\"createdAt\": \"2020-12-06T00:00:00\", \"kind\": \"comments\", \"count\": null}, {\"createdAt\": \"2020-12-13T00:00:00\", \"kind\": \"comments\", \"count\": null}, {\"createdAt\": \"2020-12-20T00:00:00\", \"kind\": \"comments\", \"count\": null}, {\"createdAt\": \"2020-12-27T00:00:00\", \"kind\": \"comments\", \"count\": null}, {\"createdAt\": \"2021-01-03T00:00:00\", \"kind\": \"comments\", \"count\": null}, {\"createdAt\": \"2021-01-10T00:00:00\", \"kind\": \"comments\", \"count\": null}, {\"createdAt\": \"2021-01-17T00:00:00\", \"kind\": \"comments\", \"count\": null}, {\"createdAt\": \"2021-01-24T00:00:00\", \"kind\": \"comments\", \"count\": null}, {\"createdAt\": \"2021-01-31T00:00:00\", \"kind\": \"comments\", \"count\": null}, {\"createdAt\": \"2021-02-07T00:00:00\", \"kind\": \"comments\", \"count\": null}, {\"createdAt\": \"2021-02-14T00:00:00\", \"kind\": \"comments\", \"count\": null}, {\"createdAt\": \"2021-02-21T00:00:00\", \"kind\": \"comments\", \"count\": null}, {\"createdAt\": \"2021-02-28T00:00:00\", \"kind\": \"comments\", \"count\": null}, {\"createdAt\": \"2021-03-07T00:00:00\", \"kind\": \"comments\", \"count\": null}, {\"createdAt\": \"2021-03-14T00:00:00\", \"kind\": \"comments\", \"count\": null}, {\"createdAt\": \"2021-03-21T00:00:00\", \"kind\": \"comments\", \"count\": null}, {\"createdAt\": \"2021-03-28T00:00:00\", \"kind\": \"comments\", \"count\": null}, {\"createdAt\": \"2021-04-04T00:00:00\", \"kind\": \"comments\", \"count\": null}, {\"createdAt\": \"2021-04-11T00:00:00\", \"kind\": \"comments\", \"count\": null}, {\"createdAt\": \"2021-04-18T00:00:00\", \"kind\": \"comments\", \"count\": null}, {\"createdAt\": \"2021-04-25T00:00:00\", \"kind\": \"comments\", \"count\": null}, {\"createdAt\": \"2021-05-02T00:00:00\", \"kind\": \"comments\", \"count\": null}, {\"createdAt\": \"2021-05-09T00:00:00\", \"kind\": \"comments\", \"count\": null}, {\"createdAt\": \"2021-05-16T00:00:00\", \"kind\": \"comments\", \"count\": null}, {\"createdAt\": \"2021-05-23T00:00:00\", \"kind\": \"comments\", \"count\": null}, {\"createdAt\": \"2021-05-30T00:00:00\", \"kind\": \"comments\", \"count\": null}, {\"createdAt\": \"2021-06-06T00:00:00\", \"kind\": \"comments\", \"count\": null}, {\"createdAt\": \"2021-06-13T00:00:00\", \"kind\": \"comments\", \"count\": null}, {\"createdAt\": \"2021-06-20T00:00:00\", \"kind\": \"comments\", \"count\": null}, {\"createdAt\": \"2021-06-27T00:00:00\", \"kind\": \"comments\", \"count\": null}, {\"createdAt\": \"2021-07-04T00:00:00\", \"kind\": \"comments\", \"count\": null}, {\"createdAt\": \"2021-07-11T00:00:00\", \"kind\": \"comments\", \"count\": null}, {\"createdAt\": \"2021-07-18T00:00:00\", \"kind\": \"comments\", \"count\": null}, {\"createdAt\": \"2021-07-25T00:00:00\", \"kind\": \"comments\", \"count\": null}, {\"createdAt\": \"2021-08-01T00:00:00\", \"kind\": \"comments\", \"count\": null}, {\"createdAt\": \"2021-08-08T00:00:00\", \"kind\": \"comments\", \"count\": null}, {\"createdAt\": \"2021-08-15T00:00:00\", \"kind\": \"comments\", \"count\": null}, {\"createdAt\": \"2021-08-22T00:00:00\", \"kind\": \"comments\", \"count\": null}, {\"createdAt\": \"2021-08-29T00:00:00\", \"kind\": \"comments\", \"count\": null}, {\"createdAt\": \"2021-09-05T00:00:00\", \"kind\": \"comments\", \"count\": null}, {\"createdAt\": \"2021-09-12T00:00:00\", \"kind\": \"comments\", \"count\": 1.0}, {\"createdAt\": \"2021-09-19T00:00:00\", \"kind\": \"comments\", \"count\": 0.0}, {\"createdAt\": \"2021-09-26T00:00:00\", \"kind\": \"comments\", \"count\": 4.0}, {\"createdAt\": \"2021-10-03T00:00:00\", \"kind\": \"comments\", \"count\": 1.0}, {\"createdAt\": \"2021-10-10T00:00:00\", \"kind\": \"comments\", \"count\": 3.0}, {\"createdAt\": \"2021-10-17T00:00:00\", \"kind\": \"comments\", \"count\": 8.0}, {\"createdAt\": \"2021-10-24T00:00:00\", \"kind\": \"comments\", \"count\": 3.0}]}}, {\"mode\": \"vega-lite\"});\n",
       "</script>"
      ],
      "text/plain": [
       "alt.Chart(...)"
      ]
     },
     "execution_count": 17,
     "metadata": {},
     "output_type": "execute_result"
    }
   ],
   "source": [
    "alt.Chart(total_time, width=600).mark_line().encode(\n",
    "    x='createdAt',\n",
    "    y='count',\n",
    "    color='kind'\n",
    ")"
   ]
  }
 ],
 "metadata": {
  "kernelspec": {
   "display_name": "Python 3 (ipykernel)",
   "language": "python",
   "name": "python3"
  },
  "language_info": {
   "codemirror_mode": {
    "name": "ipython",
    "version": 3
   },
   "file_extension": ".py",
   "mimetype": "text/x-python",
   "name": "python",
   "nbconvert_exporter": "python",
   "pygments_lexer": "ipython3",
   "version": "3.7.12"
  },
  "papermill": {
   "default_parameters": {},
   "duration": 4.793462,
   "end_time": "2021-10-28T01:34:20.731148",
   "environment_variables": {},
   "exception": null,
   "input_path": "./templates/person_report.ipynb",
   "output_path": "generated/people/AakashGfude.ipynb",
   "parameters": {
    "n_days": 90,
    "person": "AakashGfude"
   },
   "start_time": "2021-10-28T01:34:15.937686",
   "version": "2.3.3"
  },
  "widgets": {
   "application/vnd.jupyter.widget-state+json": {
    "state": {},
    "version_major": 2,
    "version_minor": 0
   }
  }
 },
 "nbformat": 4,
 "nbformat_minor": 5
}