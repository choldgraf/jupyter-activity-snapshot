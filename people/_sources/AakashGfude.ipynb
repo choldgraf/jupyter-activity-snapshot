{
 "cells": [
  {
   "cell_type": "markdown",
   "id": "spiritual-therapist",
   "metadata": {
    "papermill": {
     "duration": 0.016156,
     "end_time": "2021-02-23T01:43:45.932794",
     "exception": false,
     "start_time": "2021-02-23T01:43:45.916638",
     "status": "completed"
    },
    "tags": []
   },
   "source": [
    "# Report for AakashGfude"
   ]
  },
  {
   "cell_type": "code",
   "execution_count": 1,
   "id": "solid-extreme",
   "metadata": {
    "execution": {
     "iopub.execute_input": "2021-02-23T01:43:45.968648Z",
     "iopub.status.busy": "2021-02-23T01:43:45.968019Z",
     "iopub.status.idle": "2021-02-23T01:43:46.988191Z",
     "shell.execute_reply": "2021-02-23T01:43:46.987557Z"
    },
    "papermill": {
     "duration": 1.039122,
     "end_time": "2021-02-23T01:43:46.988765",
     "exception": false,
     "start_time": "2021-02-23T01:43:45.949643",
     "status": "completed"
    },
    "tags": [
     "remove_cell"
    ]
   },
   "outputs": [],
   "source": [
    "import seaborn as sns\n",
    "import pandas as pd\n",
    "import numpy as np\n",
    "import altair as alt\n",
    "from markdown import markdown\n",
    "from IPython.display import Markdown\n",
    "from ipywidgets.widgets import HTML, Tab\n",
    "from ipywidgets import widgets\n",
    "from datetime import timedelta\n",
    "from matplotlib import pyplot as plt\n",
    "import os.path as op\n",
    "\n",
    "from mycode import alt_theme\n",
    "from warnings import simplefilter\n",
    "simplefilter('ignore')"
   ]
  },
  {
   "cell_type": "code",
   "execution_count": 2,
   "id": "productive-hawaii",
   "metadata": {
    "execution": {
     "iopub.execute_input": "2021-02-23T01:43:47.029874Z",
     "iopub.status.busy": "2021-02-23T01:43:47.029248Z",
     "iopub.status.idle": "2021-02-23T01:43:47.031757Z",
     "shell.execute_reply": "2021-02-23T01:43:47.031185Z"
    },
    "papermill": {
     "duration": 0.026032,
     "end_time": "2021-02-23T01:43:47.031910",
     "exception": false,
     "start_time": "2021-02-23T01:43:47.005878",
     "status": "completed"
    },
    "tags": [
     "remove_cell"
    ]
   },
   "outputs": [],
   "source": [
    "def author_url(author):\n",
    "    return f\"https://github.com/{author}\""
   ]
  },
  {
   "cell_type": "code",
   "execution_count": 3,
   "id": "civic-charm",
   "metadata": {
    "execution": {
     "iopub.execute_input": "2021-02-23T01:43:47.068681Z",
     "iopub.status.busy": "2021-02-23T01:43:47.068011Z",
     "iopub.status.idle": "2021-02-23T01:43:47.070462Z",
     "shell.execute_reply": "2021-02-23T01:43:47.069895Z"
    },
    "papermill": {
     "duration": 0.02334,
     "end_time": "2021-02-23T01:43:47.070625",
     "exception": false,
     "start_time": "2021-02-23T01:43:47.047285",
     "status": "completed"
    },
    "tags": [
     "parameters",
     "hide_input"
    ]
   },
   "outputs": [],
   "source": [
    "# Parameters\n",
    "fmt_date = \"{:%Y-%m-%d}\"\n",
    "\n",
    "n_days = 30 * 2\n",
    "start_date = fmt_date.format(pd.datetime.today() - timedelta(days=n_days))\n",
    "end_date = fmt_date.format(pd.datetime.today())\n",
    "\n",
    "renderer = \"html\"\n",
    "person = \"jasongrout\""
   ]
  },
  {
   "cell_type": "code",
   "execution_count": 4,
   "id": "beginning-delta",
   "metadata": {
    "execution": {
     "iopub.execute_input": "2021-02-23T01:43:47.108055Z",
     "iopub.status.busy": "2021-02-23T01:43:47.107362Z",
     "iopub.status.idle": "2021-02-23T01:43:47.109166Z",
     "shell.execute_reply": "2021-02-23T01:43:47.109780Z"
    },
    "papermill": {
     "duration": 0.022827,
     "end_time": "2021-02-23T01:43:47.109975",
     "exception": false,
     "start_time": "2021-02-23T01:43:47.087148",
     "status": "completed"
    },
    "tags": [
     "injected-parameters",
     "remove-cell"
    ]
   },
   "outputs": [],
   "source": [
    "# Parameters\n",
    "person = \"AakashGfude\"\n",
    "n_days = 60\n"
   ]
  },
  {
   "cell_type": "code",
   "execution_count": 5,
   "id": "quick-building",
   "metadata": {
    "execution": {
     "iopub.execute_input": "2021-02-23T01:43:47.153103Z",
     "iopub.status.busy": "2021-02-23T01:43:47.152457Z",
     "iopub.status.idle": "2021-02-23T01:43:47.155300Z",
     "shell.execute_reply": "2021-02-23T01:43:47.155919Z"
    },
    "papermill": {
     "duration": 0.027071,
     "end_time": "2021-02-23T01:43:47.156104",
     "exception": false,
     "start_time": "2021-02-23T01:43:47.129033",
     "status": "completed"
    },
    "tags": [
     "remove_cell"
    ]
   },
   "outputs": [
    {
     "data": {
      "text/plain": [
       "ThemeRegistry.enable('my_theme')"
      ]
     },
     "execution_count": 5,
     "metadata": {},
     "output_type": "execute_result"
    }
   ],
   "source": [
    "alt.renderers.enable(renderer);\n",
    "alt.themes.register('my_theme', alt_theme)\n",
    "alt.themes.enable(\"my_theme\")"
   ]
  },
  {
   "cell_type": "markdown",
   "id": "phantom-candle",
   "metadata": {
    "papermill": {
     "duration": 0.01589,
     "end_time": "2021-02-23T01:43:47.188703",
     "exception": false,
     "start_time": "2021-02-23T01:43:47.172813",
     "status": "completed"
    },
    "tags": []
   },
   "source": [
    "## Load data"
   ]
  },
  {
   "cell_type": "code",
   "execution_count": 6,
   "id": "answering-cannon",
   "metadata": {
    "execution": {
     "iopub.execute_input": "2021-02-23T01:43:47.227099Z",
     "iopub.status.busy": "2021-02-23T01:43:47.226466Z",
     "iopub.status.idle": "2021-02-23T01:43:47.416730Z",
     "shell.execute_reply": "2021-02-23T01:43:47.416151Z"
    },
    "papermill": {
     "duration": 0.211704,
     "end_time": "2021-02-23T01:43:47.416907",
     "exception": false,
     "start_time": "2021-02-23T01:43:47.205203",
     "status": "completed"
    },
    "tags": [
     "remove_cell"
    ]
   },
   "outputs": [],
   "source": [
    "from pathlib import Path\n",
    "path_data = Path(\"./\")\n",
    "comments = pd.read_csv(path_data.joinpath('comments.csv'), index_col=0)\n",
    "issues = pd.read_csv(path_data.joinpath('issues.csv'), index_col=0)\n",
    "prs = pd.read_csv(path_data.joinpath('prs.csv'), index_col=0)\n",
    "\n",
    "comments = comments.query('author == @person').drop_duplicates()\n",
    "issues = issues.query('author == @person').drop_duplicates()\n",
    "closed_by = prs.query('mergedBy == @person')\n",
    "prs = prs.query('author == @person').drop_duplicates()"
   ]
  },
  {
   "cell_type": "code",
   "execution_count": 7,
   "id": "shaped-vehicle",
   "metadata": {
    "execution": {
     "iopub.execute_input": "2021-02-23T01:43:47.483436Z",
     "iopub.status.busy": "2021-02-23T01:43:47.480284Z",
     "iopub.status.idle": "2021-02-23T01:43:47.520147Z",
     "shell.execute_reply": "2021-02-23T01:43:47.518419Z"
    },
    "papermill": {
     "duration": 0.085407,
     "end_time": "2021-02-23T01:43:47.520323",
     "exception": false,
     "start_time": "2021-02-23T01:43:47.434916",
     "status": "completed"
    },
    "tags": [
     "remove_cell"
    ]
   },
   "outputs": [],
   "source": [
    "# Time columns\n",
    "# Also drop dates outside of our range\n",
    "time_columns = ['updatedAt', 'createdAt', 'closedAt']\n",
    "for col in time_columns:\n",
    "    for item in [comments, issues, prs, closed_by]:\n",
    "        if col not in item.columns:\n",
    "            continue\n",
    "        dt = pd.to_datetime(item[col]).dt.tz_localize(None)\n",
    "        item[col] = dt\n",
    "        item.query(\"updatedAt < @end_date and updatedAt > @start_date\", inplace=True)"
   ]
  },
  {
   "cell_type": "markdown",
   "id": "excessive-deposit",
   "metadata": {
    "papermill": {
     "duration": 0.016598,
     "end_time": "2021-02-23T01:43:47.553532",
     "exception": false,
     "start_time": "2021-02-23T01:43:47.536934",
     "status": "completed"
    },
    "tags": []
   },
   "source": [
    "## Repository summaries"
   ]
  },
  {
   "cell_type": "code",
   "execution_count": 8,
   "id": "athletic-volume",
   "metadata": {
    "execution": {
     "iopub.execute_input": "2021-02-23T01:43:47.592899Z",
     "iopub.status.busy": "2021-02-23T01:43:47.592254Z",
     "iopub.status.idle": "2021-02-23T01:43:47.618359Z",
     "shell.execute_reply": "2021-02-23T01:43:47.617782Z"
    },
    "papermill": {
     "duration": 0.046526,
     "end_time": "2021-02-23T01:43:47.618599",
     "exception": false,
     "start_time": "2021-02-23T01:43:47.572073",
     "status": "completed"
    },
    "tags": [
     "remove_cell"
    ]
   },
   "outputs": [],
   "source": [
    "summaries = []\n",
    "for idata, name in [(issues, 'issues'), (prs, 'prs'), (comments, 'comments')]:\n",
    "    idata = idata.groupby([\"repo\", \"org\"]).agg({'id': \"count\"}).reset_index().rename(columns={'id': 'count'})\n",
    "    idata[\"kind\"] = name\n",
    "    summaries.append(idata)\n",
    "summaries = pd.concat(summaries)"
   ]
  },
  {
   "cell_type": "code",
   "execution_count": 9,
   "id": "exciting-behavior",
   "metadata": {
    "execution": {
     "iopub.execute_input": "2021-02-23T01:43:47.666276Z",
     "iopub.status.busy": "2021-02-23T01:43:47.665618Z",
     "iopub.status.idle": "2021-02-23T01:43:47.671335Z",
     "shell.execute_reply": "2021-02-23T01:43:47.671840Z"
    },
    "papermill": {
     "duration": 0.035583,
     "end_time": "2021-02-23T01:43:47.672017",
     "exception": false,
     "start_time": "2021-02-23T01:43:47.636434",
     "status": "completed"
    },
    "tags": [
     "remove_cell"
    ]
   },
   "outputs": [],
   "source": [
    "repo_summaries = summaries.groupby([\"repo\", \"kind\"]).agg({\"count\": \"sum\"}).reset_index()\n",
    "org_summaries = summaries.groupby([\"org\", \"kind\"]).agg({\"count\": \"sum\"}).reset_index()"
   ]
  },
  {
   "cell_type": "code",
   "execution_count": 10,
   "id": "working-trading",
   "metadata": {
    "execution": {
     "iopub.execute_input": "2021-02-23T01:43:47.714260Z",
     "iopub.status.busy": "2021-02-23T01:43:47.713616Z",
     "iopub.status.idle": "2021-02-23T01:43:47.716311Z",
     "shell.execute_reply": "2021-02-23T01:43:47.715778Z"
    },
    "papermill": {
     "duration": 0.025783,
     "end_time": "2021-02-23T01:43:47.716466",
     "exception": false,
     "start_time": "2021-02-23T01:43:47.690683",
     "status": "completed"
    },
    "tags": [
     "remove_cell"
    ]
   },
   "outputs": [],
   "source": [
    "repo_summaries['logcount'] = np.log(repo_summaries[\"count\"])"
   ]
  },
  {
   "cell_type": "code",
   "execution_count": 11,
   "id": "recorded-inflation",
   "metadata": {
    "execution": {
     "iopub.execute_input": "2021-02-23T01:43:47.767011Z",
     "iopub.status.busy": "2021-02-23T01:43:47.761849Z",
     "iopub.status.idle": "2021-02-23T01:43:47.807563Z",
     "shell.execute_reply": "2021-02-23T01:43:47.808095Z"
    },
    "papermill": {
     "duration": 0.075252,
     "end_time": "2021-02-23T01:43:47.808297",
     "exception": false,
     "start_time": "2021-02-23T01:43:47.733045",
     "status": "completed"
    },
    "tags": [
     "hide_input"
    ]
   },
   "outputs": [
    {
     "data": {
      "text/html": [
       "\n",
       "<div id=\"altair-viz-8cd4b6c1c12243d5a77c2c0c7ee544dd\"></div>\n",
       "<script type=\"text/javascript\">\n",
       "  (function(spec, embedOpt){\n",
       "    let outputDiv = document.currentScript.previousElementSibling;\n",
       "    if (outputDiv.id !== \"altair-viz-8cd4b6c1c12243d5a77c2c0c7ee544dd\") {\n",
       "      outputDiv = document.getElementById(\"altair-viz-8cd4b6c1c12243d5a77c2c0c7ee544dd\");\n",
       "    }\n",
       "    const paths = {\n",
       "      \"vega\": \"https://cdn.jsdelivr.net/npm//vega@5?noext\",\n",
       "      \"vega-lib\": \"https://cdn.jsdelivr.net/npm//vega-lib?noext\",\n",
       "      \"vega-lite\": \"https://cdn.jsdelivr.net/npm//vega-lite@4.8.1?noext\",\n",
       "      \"vega-embed\": \"https://cdn.jsdelivr.net/npm//vega-embed@6?noext\",\n",
       "    };\n",
       "\n",
       "    function loadScript(lib) {\n",
       "      return new Promise(function(resolve, reject) {\n",
       "        var s = document.createElement('script');\n",
       "        s.src = paths[lib];\n",
       "        s.async = true;\n",
       "        s.onload = () => resolve(paths[lib]);\n",
       "        s.onerror = () => reject(`Error loading script: ${paths[lib]}`);\n",
       "        document.getElementsByTagName(\"head\")[0].appendChild(s);\n",
       "      });\n",
       "    }\n",
       "\n",
       "    function showError(err) {\n",
       "      outputDiv.innerHTML = `<div class=\"error\" style=\"color:red;\">${err}</div>`;\n",
       "      throw err;\n",
       "    }\n",
       "\n",
       "    function displayChart(vegaEmbed) {\n",
       "      vegaEmbed(outputDiv, spec, embedOpt)\n",
       "        .catch(err => showError(`Javascript Error: ${err.message}<br>This usually means there's a typo in your chart specification. See the javascript console for the full traceback.`));\n",
       "    }\n",
       "\n",
       "    if(typeof define === \"function\" && define.amd) {\n",
       "      requirejs.config({paths});\n",
       "      require([\"vega-embed\"], displayChart, err => showError(`Error loading script: ${err.message}`));\n",
       "    } else if (typeof vegaEmbed === \"function\") {\n",
       "      displayChart(vegaEmbed);\n",
       "    } else {\n",
       "      loadScript(\"vega\")\n",
       "        .then(() => loadScript(\"vega-lite\"))\n",
       "        .then(() => loadScript(\"vega-embed\"))\n",
       "        .catch(showError)\n",
       "        .then(() => displayChart(vegaEmbed));\n",
       "    }\n",
       "  })({\"config\": {\"axisLeft\": {\"labelFontSize\": 15}, \"axisBottom\": {\"labelFontSize\": 15}}, \"hconcat\": [{\"mark\": \"bar\", \"encoding\": {\"color\": {\"type\": \"nominal\", \"field\": \"kind\"}, \"tooltip\": {\"type\": \"nominal\", \"field\": \"kind\"}, \"x\": {\"type\": \"nominal\", \"field\": \"repo\"}, \"y\": {\"type\": \"quantitative\", \"field\": \"count\"}}, \"title\": \"Activity per repository\", \"width\": 600}, {\"mark\": \"bar\", \"encoding\": {\"color\": {\"type\": \"nominal\", \"field\": \"kind\"}, \"tooltip\": {\"type\": \"nominal\", \"field\": \"kind\"}, \"x\": {\"type\": \"nominal\", \"field\": \"repo\"}, \"y\": {\"type\": \"quantitative\", \"field\": \"logcount\"}}, \"title\": \"Log activity per repository\", \"width\": 600}], \"data\": {\"name\": \"data-745a484d8cbc1f50c753d90ff7b37736\"}, \"$schema\": \"https://vega.github.io/schema/vega-lite/v4.8.1.json\", \"datasets\": {\"data-745a484d8cbc1f50c753d90ff7b37736\": [{\"repo\": \"MyST-NB\", \"kind\": \"comments\", \"count\": 4, \"logcount\": 1.3862943611198906}, {\"repo\": \"MyST-Parser\", \"kind\": \"comments\", \"count\": 1, \"logcount\": 0.0}, {\"repo\": \"jupyter-book\", \"kind\": \"comments\", \"count\": 11, \"logcount\": 2.3978952727983707}, {\"repo\": \"jupyter-book\", \"kind\": \"issues\", \"count\": 1, \"logcount\": 0.0}, {\"repo\": \"jupyter-book\", \"kind\": \"prs\", \"count\": 2, \"logcount\": 0.6931471805599453}, {\"repo\": \"jupyterbook-latex\", \"kind\": \"comments\", \"count\": 5, \"logcount\": 1.6094379124341003}, {\"repo\": \"jupyterbook-latex\", \"kind\": \"prs\", \"count\": 11, \"logcount\": 2.3978952727983707}, {\"repo\": \"sphinx-multitoc-numbering\", \"kind\": \"comments\", \"count\": 1, \"logcount\": 0.0}]}}, {\"mode\": \"vega-lite\"});\n",
       "</script>"
      ],
      "text/plain": [
       "alt.HConcatChart(...)"
      ]
     },
     "execution_count": 11,
     "metadata": {},
     "output_type": "execute_result"
    }
   ],
   "source": [
    "ch1 = alt.Chart(repo_summaries, width=600, title=\"Activity per repository\").mark_bar().encode(\n",
    "    x='repo',\n",
    "    y='count',\n",
    "    color='kind',\n",
    "    tooltip=\"kind\"\n",
    ")\n",
    "\n",
    "ch2 = alt.Chart(repo_summaries, width=600, title=\"Log activity per repository\").mark_bar().encode(\n",
    "    x='repo',\n",
    "    y='logcount',\n",
    "    color='kind',\n",
    "    tooltip=\"kind\"\n",
    ")\n",
    "\n",
    "ch1 | ch2"
   ]
  },
  {
   "cell_type": "code",
   "execution_count": 12,
   "id": "double-growing",
   "metadata": {
    "execution": {
     "iopub.execute_input": "2021-02-23T01:43:47.850808Z",
     "iopub.status.busy": "2021-02-23T01:43:47.850179Z",
     "iopub.status.idle": "2021-02-23T01:43:47.877785Z",
     "shell.execute_reply": "2021-02-23T01:43:47.877159Z"
    },
    "papermill": {
     "duration": 0.049232,
     "end_time": "2021-02-23T01:43:47.877936",
     "exception": false,
     "start_time": "2021-02-23T01:43:47.828704",
     "status": "completed"
    },
    "tags": [
     "hide_input"
    ]
   },
   "outputs": [
    {
     "data": {
      "text/html": [
       "\n",
       "<div id=\"altair-viz-88902743699c4fb59ca2efdcbee15f15\"></div>\n",
       "<script type=\"text/javascript\">\n",
       "  (function(spec, embedOpt){\n",
       "    let outputDiv = document.currentScript.previousElementSibling;\n",
       "    if (outputDiv.id !== \"altair-viz-88902743699c4fb59ca2efdcbee15f15\") {\n",
       "      outputDiv = document.getElementById(\"altair-viz-88902743699c4fb59ca2efdcbee15f15\");\n",
       "    }\n",
       "    const paths = {\n",
       "      \"vega\": \"https://cdn.jsdelivr.net/npm//vega@5?noext\",\n",
       "      \"vega-lib\": \"https://cdn.jsdelivr.net/npm//vega-lib?noext\",\n",
       "      \"vega-lite\": \"https://cdn.jsdelivr.net/npm//vega-lite@4.8.1?noext\",\n",
       "      \"vega-embed\": \"https://cdn.jsdelivr.net/npm//vega-embed@6?noext\",\n",
       "    };\n",
       "\n",
       "    function loadScript(lib) {\n",
       "      return new Promise(function(resolve, reject) {\n",
       "        var s = document.createElement('script');\n",
       "        s.src = paths[lib];\n",
       "        s.async = true;\n",
       "        s.onload = () => resolve(paths[lib]);\n",
       "        s.onerror = () => reject(`Error loading script: ${paths[lib]}`);\n",
       "        document.getElementsByTagName(\"head\")[0].appendChild(s);\n",
       "      });\n",
       "    }\n",
       "\n",
       "    function showError(err) {\n",
       "      outputDiv.innerHTML = `<div class=\"error\" style=\"color:red;\">${err}</div>`;\n",
       "      throw err;\n",
       "    }\n",
       "\n",
       "    function displayChart(vegaEmbed) {\n",
       "      vegaEmbed(outputDiv, spec, embedOpt)\n",
       "        .catch(err => showError(`Javascript Error: ${err.message}<br>This usually means there's a typo in your chart specification. See the javascript console for the full traceback.`));\n",
       "    }\n",
       "\n",
       "    if(typeof define === \"function\" && define.amd) {\n",
       "      requirejs.config({paths});\n",
       "      require([\"vega-embed\"], displayChart, err => showError(`Error loading script: ${err.message}`));\n",
       "    } else if (typeof vegaEmbed === \"function\") {\n",
       "      displayChart(vegaEmbed);\n",
       "    } else {\n",
       "      loadScript(\"vega\")\n",
       "        .then(() => loadScript(\"vega-lite\"))\n",
       "        .then(() => loadScript(\"vega-embed\"))\n",
       "        .catch(showError)\n",
       "        .then(() => displayChart(vegaEmbed));\n",
       "    }\n",
       "  })({\"config\": {\"axisLeft\": {\"labelFontSize\": 15}, \"axisBottom\": {\"labelFontSize\": 15}}, \"data\": {\"name\": \"data-f2906770d6d848146319d41940b03ccb\"}, \"mark\": \"bar\", \"encoding\": {\"color\": {\"type\": \"nominal\", \"field\": \"kind\"}, \"tooltip\": {\"type\": \"nominal\", \"field\": \"org\"}, \"x\": {\"type\": \"nominal\", \"field\": \"org\"}, \"y\": {\"type\": \"quantitative\", \"field\": \"count\"}}, \"width\": 600, \"$schema\": \"https://vega.github.io/schema/vega-lite/v4.8.1.json\", \"datasets\": {\"data-f2906770d6d848146319d41940b03ccb\": [{\"org\": \"executablebooks\", \"kind\": \"comments\", \"count\": 22}, {\"org\": \"executablebooks\", \"kind\": \"issues\", \"count\": 1}, {\"org\": \"executablebooks\", \"kind\": \"prs\", \"count\": 13}]}}, {\"mode\": \"vega-lite\"});\n",
       "</script>"
      ],
      "text/plain": [
       "alt.Chart(...)"
      ]
     },
     "execution_count": 12,
     "metadata": {},
     "output_type": "execute_result"
    }
   ],
   "source": [
    "alt.Chart(org_summaries, width=600).mark_bar().encode(\n",
    "    x='org',\n",
    "    y='count',\n",
    "    color='kind',\n",
    "    tooltip=\"org\"\n",
    ")"
   ]
  },
  {
   "cell_type": "markdown",
   "id": "immediate-treasury",
   "metadata": {
    "papermill": {
     "duration": 0.017629,
     "end_time": "2021-02-23T01:43:47.914587",
     "exception": false,
     "start_time": "2021-02-23T01:43:47.896958",
     "status": "completed"
    },
    "tags": []
   },
   "source": [
    "## By repository over time"
   ]
  },
  {
   "cell_type": "markdown",
   "id": "joined-paradise",
   "metadata": {
    "papermill": {
     "duration": 0.018068,
     "end_time": "2021-02-23T01:43:47.951744",
     "exception": false,
     "start_time": "2021-02-23T01:43:47.933676",
     "status": "completed"
    },
    "tags": []
   },
   "source": [
    "### Comments"
   ]
  },
  {
   "cell_type": "code",
   "execution_count": 13,
   "id": "touched-cement",
   "metadata": {
    "execution": {
     "iopub.execute_input": "2021-02-23T01:43:47.994033Z",
     "iopub.status.busy": "2021-02-23T01:43:47.993404Z",
     "iopub.status.idle": "2021-02-23T01:43:48.067236Z",
     "shell.execute_reply": "2021-02-23T01:43:48.067788Z"
    },
    "papermill": {
     "duration": 0.098859,
     "end_time": "2021-02-23T01:43:48.067989",
     "exception": false,
     "start_time": "2021-02-23T01:43:47.969130",
     "status": "completed"
    },
    "tags": [
     "hide_input"
    ]
   },
   "outputs": [
    {
     "data": {
      "text/html": [
       "\n",
       "<div id=\"altair-viz-8ec7a3780c654628bf3424bd755a7898\"></div>\n",
       "<script type=\"text/javascript\">\n",
       "  (function(spec, embedOpt){\n",
       "    let outputDiv = document.currentScript.previousElementSibling;\n",
       "    if (outputDiv.id !== \"altair-viz-8ec7a3780c654628bf3424bd755a7898\") {\n",
       "      outputDiv = document.getElementById(\"altair-viz-8ec7a3780c654628bf3424bd755a7898\");\n",
       "    }\n",
       "    const paths = {\n",
       "      \"vega\": \"https://cdn.jsdelivr.net/npm//vega@5?noext\",\n",
       "      \"vega-lib\": \"https://cdn.jsdelivr.net/npm//vega-lib?noext\",\n",
       "      \"vega-lite\": \"https://cdn.jsdelivr.net/npm//vega-lite@4.8.1?noext\",\n",
       "      \"vega-embed\": \"https://cdn.jsdelivr.net/npm//vega-embed@6?noext\",\n",
       "    };\n",
       "\n",
       "    function loadScript(lib) {\n",
       "      return new Promise(function(resolve, reject) {\n",
       "        var s = document.createElement('script');\n",
       "        s.src = paths[lib];\n",
       "        s.async = true;\n",
       "        s.onload = () => resolve(paths[lib]);\n",
       "        s.onerror = () => reject(`Error loading script: ${paths[lib]}`);\n",
       "        document.getElementsByTagName(\"head\")[0].appendChild(s);\n",
       "      });\n",
       "    }\n",
       "\n",
       "    function showError(err) {\n",
       "      outputDiv.innerHTML = `<div class=\"error\" style=\"color:red;\">${err}</div>`;\n",
       "      throw err;\n",
       "    }\n",
       "\n",
       "    function displayChart(vegaEmbed) {\n",
       "      vegaEmbed(outputDiv, spec, embedOpt)\n",
       "        .catch(err => showError(`Javascript Error: ${err.message}<br>This usually means there's a typo in your chart specification. See the javascript console for the full traceback.`));\n",
       "    }\n",
       "\n",
       "    if(typeof define === \"function\" && define.amd) {\n",
       "      requirejs.config({paths});\n",
       "      require([\"vega-embed\"], displayChart, err => showError(`Error loading script: ${err.message}`));\n",
       "    } else if (typeof vegaEmbed === \"function\") {\n",
       "      displayChart(vegaEmbed);\n",
       "    } else {\n",
       "      loadScript(\"vega\")\n",
       "        .then(() => loadScript(\"vega-lite\"))\n",
       "        .then(() => loadScript(\"vega-embed\"))\n",
       "        .catch(showError)\n",
       "        .then(() => displayChart(vegaEmbed));\n",
       "    }\n",
       "  })({\"config\": {\"axisLeft\": {\"labelFontSize\": 15}, \"axisBottom\": {\"labelFontSize\": 15}}, \"layer\": [{\"data\": {\"name\": \"data-c413529f9e896694f89f2eb8978c0411\"}, \"mark\": \"line\", \"encoding\": {\"color\": {\"type\": \"nominal\", \"field\": \"repo\"}, \"tooltip\": {\"type\": \"nominal\", \"field\": \"repo\"}, \"x\": {\"type\": \"temporal\", \"field\": \"createdAt\"}, \"y\": {\"type\": \"quantitative\", \"field\": \"count\"}}, \"width\": 600}, {\"data\": {\"name\": \"data-b4265bb27e7a719afb984e964eb719db\"}, \"mark\": {\"type\": \"line\", \"color\": \"black\"}, \"encoding\": {\"x\": {\"type\": \"temporal\", \"field\": \"createdAt\"}, \"y\": {\"type\": \"quantitative\", \"field\": \"count\"}}, \"width\": 600}], \"$schema\": \"https://vega.github.io/schema/vega-lite/v4.8.1.json\", \"datasets\": {\"data-c413529f9e896694f89f2eb8978c0411\": [{\"repo\": \"MyST-NB\", \"createdAt\": \"2021-01-31T00:00:00\", \"count\": 1}, {\"repo\": \"MyST-NB\", \"createdAt\": \"2021-02-07T00:00:00\", \"count\": 1}, {\"repo\": \"MyST-NB\", \"createdAt\": \"2021-02-14T00:00:00\", \"count\": 1}, {\"repo\": \"MyST-NB\", \"createdAt\": \"2021-02-21T00:00:00\", \"count\": 0}, {\"repo\": \"MyST-NB\", \"createdAt\": \"2021-02-28T00:00:00\", \"count\": 1}, {\"repo\": \"MyST-Parser\", \"createdAt\": \"2021-02-21T00:00:00\", \"count\": 1}, {\"repo\": \"jupyter-book\", \"createdAt\": \"2021-01-10T00:00:00\", \"count\": 1}, {\"repo\": \"jupyter-book\", \"createdAt\": \"2021-01-17T00:00:00\", \"count\": 0}, {\"repo\": \"jupyter-book\", \"createdAt\": \"2021-01-24T00:00:00\", \"count\": 0}, {\"repo\": \"jupyter-book\", \"createdAt\": \"2021-01-31T00:00:00\", \"count\": 0}, {\"repo\": \"jupyter-book\", \"createdAt\": \"2021-02-07T00:00:00\", \"count\": 2}, {\"repo\": \"jupyter-book\", \"createdAt\": \"2021-02-14T00:00:00\", \"count\": 3}, {\"repo\": \"jupyter-book\", \"createdAt\": \"2021-02-21T00:00:00\", \"count\": 4}, {\"repo\": \"jupyter-book\", \"createdAt\": \"2021-02-28T00:00:00\", \"count\": 1}, {\"repo\": \"jupyterbook-latex\", \"createdAt\": \"2021-02-07T00:00:00\", \"count\": 3}, {\"repo\": \"jupyterbook-latex\", \"createdAt\": \"2021-02-14T00:00:00\", \"count\": 2}, {\"repo\": \"sphinx-multitoc-numbering\", \"createdAt\": \"2021-01-10T00:00:00\", \"count\": 1}], \"data-b4265bb27e7a719afb984e964eb719db\": [{\"createdAt\": \"2021-01-10T00:00:00\", \"count\": 2}, {\"createdAt\": \"2021-01-17T00:00:00\", \"count\": 0}, {\"createdAt\": \"2021-01-24T00:00:00\", \"count\": 0}, {\"createdAt\": \"2021-01-31T00:00:00\", \"count\": 1}, {\"createdAt\": \"2021-02-07T00:00:00\", \"count\": 6}, {\"createdAt\": \"2021-02-14T00:00:00\", \"count\": 6}, {\"createdAt\": \"2021-02-21T00:00:00\", \"count\": 5}, {\"createdAt\": \"2021-02-28T00:00:00\", \"count\": 2}]}}, {\"mode\": \"vega-lite\"});\n",
       "</script>"
      ],
      "text/plain": [
       "alt.LayerChart(...)"
      ]
     },
     "execution_count": 13,
     "metadata": {},
     "output_type": "execute_result"
    }
   ],
   "source": [
    "comments_time = comments.groupby('repo').resample('W', on='createdAt').count()['author'].reset_index()\n",
    "comments_time = comments_time.rename(columns={'author': 'count'})\n",
    "comments_time_total = comments_time.groupby('createdAt').agg({\"count\": \"sum\"}).reset_index()\n",
    "ch1 = alt.Chart(comments_time, width=600).mark_line().encode(\n",
    "    x='createdAt',\n",
    "    y='count',\n",
    "    color='repo',\n",
    "    tooltip=\"repo\"\n",
    ")\n",
    "\n",
    "ch2 = alt.Chart(comments_time_total, width=600).mark_line(color=\"black\").encode(\n",
    "    x='createdAt',\n",
    "    y='count',\n",
    ")\n",
    "\n",
    "ch1 + ch2"
   ]
  },
  {
   "cell_type": "markdown",
   "id": "roman-glasgow",
   "metadata": {
    "papermill": {
     "duration": 0.023274,
     "end_time": "2021-02-23T01:43:48.117307",
     "exception": false,
     "start_time": "2021-02-23T01:43:48.094033",
     "status": "completed"
    },
    "tags": []
   },
   "source": [
    "### PRs"
   ]
  },
  {
   "cell_type": "code",
   "execution_count": 14,
   "id": "wrong-timothy",
   "metadata": {
    "execution": {
     "iopub.execute_input": "2021-02-23T01:43:48.172430Z",
     "iopub.status.busy": "2021-02-23T01:43:48.171801Z",
     "iopub.status.idle": "2021-02-23T01:43:48.225705Z",
     "shell.execute_reply": "2021-02-23T01:43:48.226229Z"
    },
    "papermill": {
     "duration": 0.090934,
     "end_time": "2021-02-23T01:43:48.226427",
     "exception": false,
     "start_time": "2021-02-23T01:43:48.135493",
     "status": "completed"
    },
    "tags": [
     "hide_input"
    ]
   },
   "outputs": [
    {
     "data": {
      "text/html": [
       "\n",
       "<div id=\"altair-viz-01710ce735ea4d379fc285657bb4f3af\"></div>\n",
       "<script type=\"text/javascript\">\n",
       "  (function(spec, embedOpt){\n",
       "    let outputDiv = document.currentScript.previousElementSibling;\n",
       "    if (outputDiv.id !== \"altair-viz-01710ce735ea4d379fc285657bb4f3af\") {\n",
       "      outputDiv = document.getElementById(\"altair-viz-01710ce735ea4d379fc285657bb4f3af\");\n",
       "    }\n",
       "    const paths = {\n",
       "      \"vega\": \"https://cdn.jsdelivr.net/npm//vega@5?noext\",\n",
       "      \"vega-lib\": \"https://cdn.jsdelivr.net/npm//vega-lib?noext\",\n",
       "      \"vega-lite\": \"https://cdn.jsdelivr.net/npm//vega-lite@4.8.1?noext\",\n",
       "      \"vega-embed\": \"https://cdn.jsdelivr.net/npm//vega-embed@6?noext\",\n",
       "    };\n",
       "\n",
       "    function loadScript(lib) {\n",
       "      return new Promise(function(resolve, reject) {\n",
       "        var s = document.createElement('script');\n",
       "        s.src = paths[lib];\n",
       "        s.async = true;\n",
       "        s.onload = () => resolve(paths[lib]);\n",
       "        s.onerror = () => reject(`Error loading script: ${paths[lib]}`);\n",
       "        document.getElementsByTagName(\"head\")[0].appendChild(s);\n",
       "      });\n",
       "    }\n",
       "\n",
       "    function showError(err) {\n",
       "      outputDiv.innerHTML = `<div class=\"error\" style=\"color:red;\">${err}</div>`;\n",
       "      throw err;\n",
       "    }\n",
       "\n",
       "    function displayChart(vegaEmbed) {\n",
       "      vegaEmbed(outputDiv, spec, embedOpt)\n",
       "        .catch(err => showError(`Javascript Error: ${err.message}<br>This usually means there's a typo in your chart specification. See the javascript console for the full traceback.`));\n",
       "    }\n",
       "\n",
       "    if(typeof define === \"function\" && define.amd) {\n",
       "      requirejs.config({paths});\n",
       "      require([\"vega-embed\"], displayChart, err => showError(`Error loading script: ${err.message}`));\n",
       "    } else if (typeof vegaEmbed === \"function\") {\n",
       "      displayChart(vegaEmbed);\n",
       "    } else {\n",
       "      loadScript(\"vega\")\n",
       "        .then(() => loadScript(\"vega-lite\"))\n",
       "        .then(() => loadScript(\"vega-embed\"))\n",
       "        .catch(showError)\n",
       "        .then(() => displayChart(vegaEmbed));\n",
       "    }\n",
       "  })({\"config\": {\"axisLeft\": {\"labelFontSize\": 15}, \"axisBottom\": {\"labelFontSize\": 15}}, \"layer\": [{\"data\": {\"name\": \"data-e7f11b224d07b836de4c8c9bb6dccec2\"}, \"mark\": \"line\", \"encoding\": {\"color\": {\"type\": \"nominal\", \"field\": \"repo\"}, \"tooltip\": {\"type\": \"nominal\", \"field\": \"repo\"}, \"x\": {\"type\": \"temporal\", \"field\": \"createdAt\"}, \"y\": {\"type\": \"quantitative\", \"field\": \"count\"}}, \"width\": 600}, {\"data\": {\"name\": \"data-583220487129c44f5742854f49da6653\"}, \"mark\": {\"type\": \"line\", \"color\": \"black\"}, \"encoding\": {\"x\": {\"type\": \"temporal\", \"field\": \"createdAt\"}, \"y\": {\"type\": \"quantitative\", \"field\": \"count\"}}, \"width\": 600}], \"$schema\": \"https://vega.github.io/schema/vega-lite/v4.8.1.json\", \"datasets\": {\"data-e7f11b224d07b836de4c8c9bb6dccec2\": [{\"repo\": \"jupyter-book\", \"createdAt\": \"2020-12-06T00:00:00\", \"count\": 1}, {\"repo\": \"jupyter-book\", \"createdAt\": \"2020-12-13T00:00:00\", \"count\": 0}, {\"repo\": \"jupyter-book\", \"createdAt\": \"2020-12-20T00:00:00\", \"count\": 0}, {\"repo\": \"jupyter-book\", \"createdAt\": \"2020-12-27T00:00:00\", \"count\": 0}, {\"repo\": \"jupyter-book\", \"createdAt\": \"2021-01-03T00:00:00\", \"count\": 0}, {\"repo\": \"jupyter-book\", \"createdAt\": \"2021-01-10T00:00:00\", \"count\": 0}, {\"repo\": \"jupyter-book\", \"createdAt\": \"2021-01-17T00:00:00\", \"count\": 0}, {\"repo\": \"jupyter-book\", \"createdAt\": \"2021-01-24T00:00:00\", \"count\": 0}, {\"repo\": \"jupyter-book\", \"createdAt\": \"2021-01-31T00:00:00\", \"count\": 0}, {\"repo\": \"jupyter-book\", \"createdAt\": \"2021-02-07T00:00:00\", \"count\": 0}, {\"repo\": \"jupyter-book\", \"createdAt\": \"2021-02-14T00:00:00\", \"count\": 0}, {\"repo\": \"jupyter-book\", \"createdAt\": \"2021-02-21T00:00:00\", \"count\": 1}, {\"repo\": \"jupyterbook-latex\", \"createdAt\": \"2021-01-31T00:00:00\", \"count\": 2}, {\"repo\": \"jupyterbook-latex\", \"createdAt\": \"2021-02-07T00:00:00\", \"count\": 3}, {\"repo\": \"jupyterbook-latex\", \"createdAt\": \"2021-02-14T00:00:00\", \"count\": 4}, {\"repo\": \"jupyterbook-latex\", \"createdAt\": \"2021-02-21T00:00:00\", \"count\": 1}, {\"repo\": \"jupyterbook-latex\", \"createdAt\": \"2021-02-28T00:00:00\", \"count\": 1}], \"data-583220487129c44f5742854f49da6653\": [{\"createdAt\": \"2020-12-06T00:00:00\", \"count\": 1}, {\"createdAt\": \"2020-12-13T00:00:00\", \"count\": 0}, {\"createdAt\": \"2020-12-20T00:00:00\", \"count\": 0}, {\"createdAt\": \"2020-12-27T00:00:00\", \"count\": 0}, {\"createdAt\": \"2021-01-03T00:00:00\", \"count\": 0}, {\"createdAt\": \"2021-01-10T00:00:00\", \"count\": 0}, {\"createdAt\": \"2021-01-17T00:00:00\", \"count\": 0}, {\"createdAt\": \"2021-01-24T00:00:00\", \"count\": 0}, {\"createdAt\": \"2021-01-31T00:00:00\", \"count\": 2}, {\"createdAt\": \"2021-02-07T00:00:00\", \"count\": 3}, {\"createdAt\": \"2021-02-14T00:00:00\", \"count\": 4}, {\"createdAt\": \"2021-02-21T00:00:00\", \"count\": 2}, {\"createdAt\": \"2021-02-28T00:00:00\", \"count\": 1}]}}, {\"mode\": \"vega-lite\"});\n",
       "</script>"
      ],
      "text/plain": [
       "alt.LayerChart(...)"
      ]
     },
     "execution_count": 14,
     "metadata": {},
     "output_type": "execute_result"
    }
   ],
   "source": [
    "prs_time = prs.groupby('repo').resample('W', on='createdAt').count()['author'].reset_index()\n",
    "prs_time = prs_time.rename(columns={'author': 'count'})\n",
    "prs_time_total = prs_time.groupby('createdAt').agg({\"count\": \"sum\"}).reset_index()\n",
    "\n",
    "ch1 = alt.Chart(prs_time, width=600).mark_line().encode(\n",
    "    x='createdAt',\n",
    "    y='count',\n",
    "    color='repo',\n",
    "    tooltip=\"repo\"\n",
    ")\n",
    "\n",
    "ch2 = alt.Chart(prs_time_total, width=600).mark_line(color=\"black\").encode(\n",
    "    x='createdAt',\n",
    "    y='count',\n",
    ")\n",
    "\n",
    "ch1 + ch2"
   ]
  },
  {
   "cell_type": "code",
   "execution_count": 15,
   "id": "economic-lafayette",
   "metadata": {
    "execution": {
     "iopub.execute_input": "2021-02-23T01:43:48.286401Z",
     "iopub.status.busy": "2021-02-23T01:43:48.284260Z",
     "iopub.status.idle": "2021-02-23T01:43:48.315097Z",
     "shell.execute_reply": "2021-02-23T01:43:48.315636Z"
    },
    "papermill": {
     "duration": 0.068555,
     "end_time": "2021-02-23T01:43:48.315832",
     "exception": false,
     "start_time": "2021-02-23T01:43:48.247277",
     "status": "completed"
    },
    "tags": [
     "hide_input"
    ]
   },
   "outputs": [
    {
     "data": {
      "text/html": [
       "\n",
       "<div id=\"altair-viz-a01af21eaef143d2b5cd4d461f344ded\"></div>\n",
       "<script type=\"text/javascript\">\n",
       "  (function(spec, embedOpt){\n",
       "    let outputDiv = document.currentScript.previousElementSibling;\n",
       "    if (outputDiv.id !== \"altair-viz-a01af21eaef143d2b5cd4d461f344ded\") {\n",
       "      outputDiv = document.getElementById(\"altair-viz-a01af21eaef143d2b5cd4d461f344ded\");\n",
       "    }\n",
       "    const paths = {\n",
       "      \"vega\": \"https://cdn.jsdelivr.net/npm//vega@5?noext\",\n",
       "      \"vega-lib\": \"https://cdn.jsdelivr.net/npm//vega-lib?noext\",\n",
       "      \"vega-lite\": \"https://cdn.jsdelivr.net/npm//vega-lite@4.8.1?noext\",\n",
       "      \"vega-embed\": \"https://cdn.jsdelivr.net/npm//vega-embed@6?noext\",\n",
       "    };\n",
       "\n",
       "    function loadScript(lib) {\n",
       "      return new Promise(function(resolve, reject) {\n",
       "        var s = document.createElement('script');\n",
       "        s.src = paths[lib];\n",
       "        s.async = true;\n",
       "        s.onload = () => resolve(paths[lib]);\n",
       "        s.onerror = () => reject(`Error loading script: ${paths[lib]}`);\n",
       "        document.getElementsByTagName(\"head\")[0].appendChild(s);\n",
       "      });\n",
       "    }\n",
       "\n",
       "    function showError(err) {\n",
       "      outputDiv.innerHTML = `<div class=\"error\" style=\"color:red;\">${err}</div>`;\n",
       "      throw err;\n",
       "    }\n",
       "\n",
       "    function displayChart(vegaEmbed) {\n",
       "      vegaEmbed(outputDiv, spec, embedOpt)\n",
       "        .catch(err => showError(`Javascript Error: ${err.message}<br>This usually means there's a typo in your chart specification. See the javascript console for the full traceback.`));\n",
       "    }\n",
       "\n",
       "    if(typeof define === \"function\" && define.amd) {\n",
       "      requirejs.config({paths});\n",
       "      require([\"vega-embed\"], displayChart, err => showError(`Error loading script: ${err.message}`));\n",
       "    } else if (typeof vegaEmbed === \"function\") {\n",
       "      displayChart(vegaEmbed);\n",
       "    } else {\n",
       "      loadScript(\"vega\")\n",
       "        .then(() => loadScript(\"vega-lite\"))\n",
       "        .then(() => loadScript(\"vega-embed\"))\n",
       "        .catch(showError)\n",
       "        .then(() => displayChart(vegaEmbed));\n",
       "    }\n",
       "  })({\"config\": {\"axisLeft\": {\"labelFontSize\": 15}, \"axisBottom\": {\"labelFontSize\": 15}}, \"data\": {\"name\": \"data-313d8bbfb18b70860469832b614705a8\"}, \"mark\": \"line\", \"encoding\": {\"color\": {\"type\": \"nominal\", \"field\": \"repo\"}, \"tooltip\": {\"type\": \"nominal\", \"field\": \"repo\"}, \"x\": {\"type\": \"temporal\", \"field\": \"closedAt\"}, \"y\": {\"type\": \"quantitative\", \"field\": \"count\"}}, \"width\": 600, \"$schema\": \"https://vega.github.io/schema/vega-lite/v4.8.1.json\", \"datasets\": {\"data-313d8bbfb18b70860469832b614705a8\": [{\"repo\": \"jupyter-book\", \"closedAt\": \"2021-02-21T00:00:00\", \"count\": 1}, {\"repo\": \"jupyterbook-latex\", \"closedAt\": \"2021-01-31T00:00:00\", \"count\": 3}, {\"repo\": \"jupyterbook-latex\", \"closedAt\": \"2021-02-07T00:00:00\", \"count\": 1}, {\"repo\": \"jupyterbook-latex\", \"closedAt\": \"2021-02-14T00:00:00\", \"count\": 5}, {\"repo\": \"jupyterbook-latex\", \"closedAt\": \"2021-02-21T00:00:00\", \"count\": 1}, {\"repo\": \"jupyterbook-latex\", \"closedAt\": \"2021-02-28T00:00:00\", \"count\": 1}]}}, {\"mode\": \"vega-lite\"});\n",
       "</script>"
      ],
      "text/plain": [
       "alt.Chart(...)"
      ]
     },
     "execution_count": 15,
     "metadata": {},
     "output_type": "execute_result"
    }
   ],
   "source": [
    "closed_by_time = closed_by.groupby('repo').resample('W', on='closedAt').count()['author'].reset_index()\n",
    "closed_by_time = closed_by_time.rename(columns={'author': 'count'})\n",
    "\n",
    "alt.Chart(closed_by_time, width=600).mark_line().encode(\n",
    "    x='closedAt',\n",
    "    y='count',\n",
    "    color='repo',\n",
    "    tooltip=\"repo\"\n",
    ")"
   ]
  },
  {
   "cell_type": "markdown",
   "id": "completed-leeds",
   "metadata": {
    "papermill": {
     "duration": 0.019355,
     "end_time": "2021-02-23T01:43:48.355672",
     "exception": false,
     "start_time": "2021-02-23T01:43:48.336317",
     "status": "completed"
    },
    "tags": []
   },
   "source": [
    "## By type over time"
   ]
  },
  {
   "cell_type": "code",
   "execution_count": 16,
   "id": "legislative-example",
   "metadata": {
    "execution": {
     "iopub.execute_input": "2021-02-23T01:43:48.415844Z",
     "iopub.status.busy": "2021-02-23T01:43:48.415160Z",
     "iopub.status.idle": "2021-02-23T01:43:48.424365Z",
     "shell.execute_reply": "2021-02-23T01:43:48.423814Z"
    },
    "papermill": {
     "duration": 0.048185,
     "end_time": "2021-02-23T01:43:48.424521",
     "exception": false,
     "start_time": "2021-02-23T01:43:48.376336",
     "status": "completed"
    },
    "tags": [
     "remove_cell"
    ]
   },
   "outputs": [],
   "source": [
    "prs_time = prs[['author', 'createdAt']].resample('W', on='createdAt').count()['author'].reset_index()\n",
    "prs_time = prs_time.rename(columns={'author': 'prs'})\n",
    "comments_time = comments[['author', 'createdAt']].resample('W', on='createdAt').count()['author'].reset_index()\n",
    "comments_time = comments_time.rename(columns={'author': 'comments'})\n",
    "\n",
    "total_time = pd.merge(prs_time, comments_time, on='createdAt', how='outer')\n",
    "total_time = total_time.melt(id_vars='createdAt', var_name=\"kind\", value_name=\"count\")\n"
   ]
  },
  {
   "cell_type": "code",
   "execution_count": 17,
   "id": "difficult-strength",
   "metadata": {
    "execution": {
     "iopub.execute_input": "2021-02-23T01:43:48.490446Z",
     "iopub.status.busy": "2021-02-23T01:43:48.489819Z",
     "iopub.status.idle": "2021-02-23T01:43:48.492224Z",
     "shell.execute_reply": "2021-02-23T01:43:48.492775Z"
    },
    "papermill": {
     "duration": 0.048267,
     "end_time": "2021-02-23T01:43:48.492960",
     "exception": false,
     "start_time": "2021-02-23T01:43:48.444693",
     "status": "completed"
    },
    "tags": [
     "hide_input"
    ]
   },
   "outputs": [
    {
     "data": {
      "text/html": [
       "\n",
       "<div id=\"altair-viz-ad4ee13c8633409c8ad8a0175ceb5877\"></div>\n",
       "<script type=\"text/javascript\">\n",
       "  (function(spec, embedOpt){\n",
       "    let outputDiv = document.currentScript.previousElementSibling;\n",
       "    if (outputDiv.id !== \"altair-viz-ad4ee13c8633409c8ad8a0175ceb5877\") {\n",
       "      outputDiv = document.getElementById(\"altair-viz-ad4ee13c8633409c8ad8a0175ceb5877\");\n",
       "    }\n",
       "    const paths = {\n",
       "      \"vega\": \"https://cdn.jsdelivr.net/npm//vega@5?noext\",\n",
       "      \"vega-lib\": \"https://cdn.jsdelivr.net/npm//vega-lib?noext\",\n",
       "      \"vega-lite\": \"https://cdn.jsdelivr.net/npm//vega-lite@4.8.1?noext\",\n",
       "      \"vega-embed\": \"https://cdn.jsdelivr.net/npm//vega-embed@6?noext\",\n",
       "    };\n",
       "\n",
       "    function loadScript(lib) {\n",
       "      return new Promise(function(resolve, reject) {\n",
       "        var s = document.createElement('script');\n",
       "        s.src = paths[lib];\n",
       "        s.async = true;\n",
       "        s.onload = () => resolve(paths[lib]);\n",
       "        s.onerror = () => reject(`Error loading script: ${paths[lib]}`);\n",
       "        document.getElementsByTagName(\"head\")[0].appendChild(s);\n",
       "      });\n",
       "    }\n",
       "\n",
       "    function showError(err) {\n",
       "      outputDiv.innerHTML = `<div class=\"error\" style=\"color:red;\">${err}</div>`;\n",
       "      throw err;\n",
       "    }\n",
       "\n",
       "    function displayChart(vegaEmbed) {\n",
       "      vegaEmbed(outputDiv, spec, embedOpt)\n",
       "        .catch(err => showError(`Javascript Error: ${err.message}<br>This usually means there's a typo in your chart specification. See the javascript console for the full traceback.`));\n",
       "    }\n",
       "\n",
       "    if(typeof define === \"function\" && define.amd) {\n",
       "      requirejs.config({paths});\n",
       "      require([\"vega-embed\"], displayChart, err => showError(`Error loading script: ${err.message}`));\n",
       "    } else if (typeof vegaEmbed === \"function\") {\n",
       "      displayChart(vegaEmbed);\n",
       "    } else {\n",
       "      loadScript(\"vega\")\n",
       "        .then(() => loadScript(\"vega-lite\"))\n",
       "        .then(() => loadScript(\"vega-embed\"))\n",
       "        .catch(showError)\n",
       "        .then(() => displayChart(vegaEmbed));\n",
       "    }\n",
       "  })({\"config\": {\"axisLeft\": {\"labelFontSize\": 15}, \"axisBottom\": {\"labelFontSize\": 15}}, \"data\": {\"name\": \"data-f1f374e5c4f0a5075cb03dbaedb703af\"}, \"mark\": \"line\", \"encoding\": {\"color\": {\"type\": \"nominal\", \"field\": \"kind\"}, \"x\": {\"type\": \"temporal\", \"field\": \"createdAt\"}, \"y\": {\"type\": \"quantitative\", \"field\": \"count\"}}, \"width\": 600, \"$schema\": \"https://vega.github.io/schema/vega-lite/v4.8.1.json\", \"datasets\": {\"data-f1f374e5c4f0a5075cb03dbaedb703af\": [{\"createdAt\": \"2020-12-06T00:00:00\", \"kind\": \"prs\", \"count\": 1.0}, {\"createdAt\": \"2020-12-13T00:00:00\", \"kind\": \"prs\", \"count\": 0.0}, {\"createdAt\": \"2020-12-20T00:00:00\", \"kind\": \"prs\", \"count\": 0.0}, {\"createdAt\": \"2020-12-27T00:00:00\", \"kind\": \"prs\", \"count\": 0.0}, {\"createdAt\": \"2021-01-03T00:00:00\", \"kind\": \"prs\", \"count\": 0.0}, {\"createdAt\": \"2021-01-10T00:00:00\", \"kind\": \"prs\", \"count\": 0.0}, {\"createdAt\": \"2021-01-17T00:00:00\", \"kind\": \"prs\", \"count\": 0.0}, {\"createdAt\": \"2021-01-24T00:00:00\", \"kind\": \"prs\", \"count\": 0.0}, {\"createdAt\": \"2021-01-31T00:00:00\", \"kind\": \"prs\", \"count\": 2.0}, {\"createdAt\": \"2021-02-07T00:00:00\", \"kind\": \"prs\", \"count\": 3.0}, {\"createdAt\": \"2021-02-14T00:00:00\", \"kind\": \"prs\", \"count\": 4.0}, {\"createdAt\": \"2021-02-21T00:00:00\", \"kind\": \"prs\", \"count\": 2.0}, {\"createdAt\": \"2021-02-28T00:00:00\", \"kind\": \"prs\", \"count\": 1.0}, {\"createdAt\": \"2020-12-06T00:00:00\", \"kind\": \"comments\", \"count\": null}, {\"createdAt\": \"2020-12-13T00:00:00\", \"kind\": \"comments\", \"count\": null}, {\"createdAt\": \"2020-12-20T00:00:00\", \"kind\": \"comments\", \"count\": null}, {\"createdAt\": \"2020-12-27T00:00:00\", \"kind\": \"comments\", \"count\": null}, {\"createdAt\": \"2021-01-03T00:00:00\", \"kind\": \"comments\", \"count\": null}, {\"createdAt\": \"2021-01-10T00:00:00\", \"kind\": \"comments\", \"count\": 2.0}, {\"createdAt\": \"2021-01-17T00:00:00\", \"kind\": \"comments\", \"count\": 0.0}, {\"createdAt\": \"2021-01-24T00:00:00\", \"kind\": \"comments\", \"count\": 0.0}, {\"createdAt\": \"2021-01-31T00:00:00\", \"kind\": \"comments\", \"count\": 1.0}, {\"createdAt\": \"2021-02-07T00:00:00\", \"kind\": \"comments\", \"count\": 6.0}, {\"createdAt\": \"2021-02-14T00:00:00\", \"kind\": \"comments\", \"count\": 6.0}, {\"createdAt\": \"2021-02-21T00:00:00\", \"kind\": \"comments\", \"count\": 5.0}, {\"createdAt\": \"2021-02-28T00:00:00\", \"kind\": \"comments\", \"count\": 2.0}]}}, {\"mode\": \"vega-lite\"});\n",
       "</script>"
      ],
      "text/plain": [
       "alt.Chart(...)"
      ]
     },
     "execution_count": 17,
     "metadata": {},
     "output_type": "execute_result"
    }
   ],
   "source": [
    "alt.Chart(total_time, width=600).mark_line().encode(\n",
    "    x='createdAt',\n",
    "    y='count',\n",
    "    color='kind'\n",
    ")"
   ]
  }
 ],
 "metadata": {
  "kernelspec": {
   "display_name": "Python 3",
   "language": "python",
   "name": "python3"
  },
  "language_info": {
   "codemirror_mode": {
    "name": "ipython",
    "version": 3
   },
   "file_extension": ".py",
   "mimetype": "text/x-python",
   "name": "python",
   "nbconvert_exporter": "python",
   "pygments_lexer": "ipython3",
   "version": "3.7.9"
  },
  "papermill": {
   "default_parameters": {},
   "duration": 3.785617,
   "end_time": "2021-02-23T01:43:48.923980",
   "environment_variables": {},
   "exception": null,
   "input_path": "./person.ipynb",
   "output_path": "people/AakashGfude.ipynb",
   "parameters": {
    "n_days": 60,
    "person": "AakashGfude"
   },
   "start_time": "2021-02-23T01:43:45.138363",
   "version": "2.3.2"
  },
  "widgets": {
   "application/vnd.jupyter.widget-state+json": {
    "state": {},
    "version_major": 2,
    "version_minor": 0
   }
  }
 },
 "nbformat": 4,
 "nbformat_minor": 5
}