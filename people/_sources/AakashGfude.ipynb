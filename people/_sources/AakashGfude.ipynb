{
 "cells": [
  {
   "cell_type": "markdown",
   "id": "8709b1dc",
   "metadata": {
    "papermill": {
     "duration": 0.005303,
     "end_time": "2023-03-06T14:44:37.055716",
     "exception": false,
     "start_time": "2023-03-06T14:44:37.050413",
     "status": "completed"
    },
    "tags": []
   },
   "source": [
    "# Report for AakashGfude"
   ]
  },
  {
   "cell_type": "code",
   "execution_count": 1,
   "id": "cad42daf",
   "metadata": {
    "execution": {
     "iopub.execute_input": "2023-03-06T14:44:37.067600Z",
     "iopub.status.busy": "2023-03-06T14:44:37.067297Z",
     "iopub.status.idle": "2023-03-06T14:44:37.905309Z",
     "shell.execute_reply": "2023-03-06T14:44:37.904542Z"
    },
    "papermill": {
     "duration": 0.846361,
     "end_time": "2023-03-06T14:44:37.907796",
     "exception": false,
     "start_time": "2023-03-06T14:44:37.061435",
     "status": "completed"
    },
    "tags": [
     "remove_cell"
    ]
   },
   "outputs": [],
   "source": [
    "import seaborn as sns\n",
    "import pandas as pd\n",
    "import numpy as np\n",
    "import altair as alt\n",
    "from markdown import markdown\n",
    "from IPython.display import Markdown\n",
    "from ipywidgets.widgets import HTML, Tab\n",
    "from ipywidgets import widgets\n",
    "from datetime import timedelta\n",
    "from matplotlib import pyplot as plt\n",
    "import os.path as op\n",
    "\n",
    "from mycode import alt_theme\n",
    "from warnings import simplefilter\n",
    "simplefilter('ignore')"
   ]
  },
  {
   "cell_type": "code",
   "execution_count": 2,
   "id": "7dc55534",
   "metadata": {
    "execution": {
     "iopub.execute_input": "2023-03-06T14:44:37.919118Z",
     "iopub.status.busy": "2023-03-06T14:44:37.918754Z",
     "iopub.status.idle": "2023-03-06T14:44:37.922471Z",
     "shell.execute_reply": "2023-03-06T14:44:37.921781Z"
    },
    "papermill": {
     "duration": 0.010951,
     "end_time": "2023-03-06T14:44:37.924308",
     "exception": false,
     "start_time": "2023-03-06T14:44:37.913357",
     "status": "completed"
    },
    "tags": [
     "remove_cell"
    ]
   },
   "outputs": [],
   "source": [
    "def author_url(author):\n",
    "    return f\"https://github.com/{author}\""
   ]
  },
  {
   "cell_type": "code",
   "execution_count": 3,
   "id": "58931cf9",
   "metadata": {
    "execution": {
     "iopub.execute_input": "2023-03-06T14:44:37.933905Z",
     "iopub.status.busy": "2023-03-06T14:44:37.933279Z",
     "iopub.status.idle": "2023-03-06T14:44:37.937222Z",
     "shell.execute_reply": "2023-03-06T14:44:37.936712Z"
    },
    "papermill": {
     "duration": 0.010179,
     "end_time": "2023-03-06T14:44:37.938739",
     "exception": false,
     "start_time": "2023-03-06T14:44:37.928560",
     "status": "completed"
    },
    "tags": [
     "parameters",
     "hide_input"
    ]
   },
   "outputs": [],
   "source": [
    "# Parameters\n",
    "fmt_date = \"{:%Y-%m-%d}\"\n",
    "\n",
    "n_days = 30 * 60\n",
    "start_date = fmt_date.format(pd.datetime.today() - timedelta(days=n_days))\n",
    "end_date = fmt_date.format(pd.datetime.today())\n",
    "\n",
    "renderer = \"html\"\n",
    "person = \"damianavila\""
   ]
  },
  {
   "cell_type": "code",
   "execution_count": 4,
   "id": "bdddb8f5",
   "metadata": {
    "execution": {
     "iopub.execute_input": "2023-03-06T14:44:37.947696Z",
     "iopub.status.busy": "2023-03-06T14:44:37.947263Z",
     "iopub.status.idle": "2023-03-06T14:44:37.950422Z",
     "shell.execute_reply": "2023-03-06T14:44:37.949741Z"
    },
    "papermill": {
     "duration": 0.009275,
     "end_time": "2023-03-06T14:44:37.951863",
     "exception": false,
     "start_time": "2023-03-06T14:44:37.942588",
     "status": "completed"
    },
    "tags": [
     "injected-parameters",
     "remove-cell"
    ]
   },
   "outputs": [],
   "source": [
    "# Parameters\n",
    "person = \"AakashGfude\"\n",
    "n_days = 90\n"
   ]
  },
  {
   "cell_type": "code",
   "execution_count": 5,
   "id": "70bc6814",
   "metadata": {
    "execution": {
     "iopub.execute_input": "2023-03-06T14:44:37.960924Z",
     "iopub.status.busy": "2023-03-06T14:44:37.960497Z",
     "iopub.status.idle": "2023-03-06T14:44:37.967640Z",
     "shell.execute_reply": "2023-03-06T14:44:37.967137Z"
    },
    "papermill": {
     "duration": 0.01319,
     "end_time": "2023-03-06T14:44:37.969032",
     "exception": false,
     "start_time": "2023-03-06T14:44:37.955842",
     "status": "completed"
    },
    "tags": [
     "remove_cell"
    ]
   },
   "outputs": [
    {
     "data": {
      "text/plain": [
       "ThemeRegistry.enable('my_theme')"
      ]
     },
     "execution_count": 5,
     "metadata": {},
     "output_type": "execute_result"
    }
   ],
   "source": [
    "alt.renderers.enable(renderer);\n",
    "alt.themes.register('my_theme', alt_theme)\n",
    "alt.themes.enable(\"my_theme\")"
   ]
  },
  {
   "cell_type": "markdown",
   "id": "8874d6ae",
   "metadata": {
    "papermill": {
     "duration": 0.004004,
     "end_time": "2023-03-06T14:44:37.977067",
     "exception": false,
     "start_time": "2023-03-06T14:44:37.973063",
     "status": "completed"
    },
    "tags": []
   },
   "source": [
    "## Load data"
   ]
  },
  {
   "cell_type": "code",
   "execution_count": 6,
   "id": "3532c074",
   "metadata": {
    "execution": {
     "iopub.execute_input": "2023-03-06T14:44:37.986570Z",
     "iopub.status.busy": "2023-03-06T14:44:37.986094Z",
     "iopub.status.idle": "2023-03-06T14:44:38.110742Z",
     "shell.execute_reply": "2023-03-06T14:44:38.110013Z"
    },
    "papermill": {
     "duration": 0.131705,
     "end_time": "2023-03-06T14:44:38.112870",
     "exception": false,
     "start_time": "2023-03-06T14:44:37.981165",
     "status": "completed"
    },
    "tags": [
     "remove_cell"
    ]
   },
   "outputs": [],
   "source": [
    "from pathlib import Path\n",
    "path_data = Path(\"./\")\n",
    "comments = pd.read_csv(path_data.joinpath('../data/comments.csv'), index_col=0)\n",
    "issues = pd.read_csv(path_data.joinpath('../data/issues.csv'), index_col=0)\n",
    "prs = pd.read_csv(path_data.joinpath('../data/prs.csv'), index_col=0)\n",
    "\n",
    "comments = comments.query('author == @person').drop_duplicates()\n",
    "issues = issues.query('author == @person').drop_duplicates()\n",
    "closed_by = prs.query('mergedBy == @person')\n",
    "prs = prs.query('author == @person').drop_duplicates()"
   ]
  },
  {
   "cell_type": "code",
   "execution_count": 7,
   "id": "8e8cb552",
   "metadata": {
    "execution": {
     "iopub.execute_input": "2023-03-06T14:44:38.126797Z",
     "iopub.status.busy": "2023-03-06T14:44:38.126138Z",
     "iopub.status.idle": "2023-03-06T14:44:38.130980Z",
     "shell.execute_reply": "2023-03-06T14:44:38.130388Z"
    },
    "papermill": {
     "duration": 0.01412,
     "end_time": "2023-03-06T14:44:38.132637",
     "exception": false,
     "start_time": "2023-03-06T14:44:38.118517",
     "status": "completed"
    },
    "tags": []
   },
   "outputs": [],
   "source": [
    "if len(prs) == 0:\n",
    "    import sys\n",
    "    print(f\"Empty data for {person}, skipping...\")\n",
    "    sys.exit(0)"
   ]
  },
  {
   "cell_type": "code",
   "execution_count": 8,
   "id": "d72ee55a",
   "metadata": {
    "execution": {
     "iopub.execute_input": "2023-03-06T14:44:38.142547Z",
     "iopub.status.busy": "2023-03-06T14:44:38.141999Z",
     "iopub.status.idle": "2023-03-06T14:44:38.193163Z",
     "shell.execute_reply": "2023-03-06T14:44:38.192433Z"
    },
    "papermill": {
     "duration": 0.057987,
     "end_time": "2023-03-06T14:44:38.194861",
     "exception": false,
     "start_time": "2023-03-06T14:44:38.136874",
     "status": "completed"
    },
    "tags": [
     "remove_cell"
    ]
   },
   "outputs": [],
   "source": [
    "# Time columns\n",
    "# Also drop dates outside of our range\n",
    "time_columns = ['updatedAt', 'createdAt', 'closedAt']\n",
    "for col in time_columns:\n",
    "    for item in [comments, issues, prs, closed_by]:\n",
    "        if col not in item.columns:\n",
    "            continue\n",
    "        dt = pd.to_datetime(item[col]).dt.tz_localize(None)\n",
    "        item.loc[:, col] = dt\n",
    "        item.query(\"updatedAt < @end_date and updatedAt > @start_date\", inplace=True)"
   ]
  },
  {
   "cell_type": "markdown",
   "id": "2f415ca1",
   "metadata": {
    "papermill": {
     "duration": 0.004164,
     "end_time": "2023-03-06T14:44:38.203360",
     "exception": false,
     "start_time": "2023-03-06T14:44:38.199196",
     "status": "completed"
    },
    "tags": []
   },
   "source": [
    "## Repository summaries"
   ]
  },
  {
   "cell_type": "code",
   "execution_count": 9,
   "id": "8eaaeb6f",
   "metadata": {
    "execution": {
     "iopub.execute_input": "2023-03-06T14:44:38.213348Z",
     "iopub.status.busy": "2023-03-06T14:44:38.212689Z",
     "iopub.status.idle": "2023-03-06T14:44:38.227552Z",
     "shell.execute_reply": "2023-03-06T14:44:38.226928Z"
    },
    "papermill": {
     "duration": 0.021599,
     "end_time": "2023-03-06T14:44:38.229145",
     "exception": false,
     "start_time": "2023-03-06T14:44:38.207546",
     "status": "completed"
    },
    "tags": [
     "remove_cell"
    ]
   },
   "outputs": [],
   "source": [
    "summaries = []\n",
    "for idata, name in [(issues, 'issues'), (prs, 'prs'), (comments, 'comments')]:\n",
    "    idata = idata.groupby([\"repo\", \"org\"]).agg({'id': \"count\"}).reset_index().rename(columns={'id': 'count'})\n",
    "    idata[\"kind\"] = name\n",
    "    summaries.append(idata)\n",
    "summaries = pd.concat(summaries)"
   ]
  },
  {
   "cell_type": "code",
   "execution_count": 10,
   "id": "9d8b9d33",
   "metadata": {
    "execution": {
     "iopub.execute_input": "2023-03-06T14:44:38.242476Z",
     "iopub.status.busy": "2023-03-06T14:44:38.242023Z",
     "iopub.status.idle": "2023-03-06T14:44:38.252075Z",
     "shell.execute_reply": "2023-03-06T14:44:38.251361Z"
    },
    "papermill": {
     "duration": 0.019736,
     "end_time": "2023-03-06T14:44:38.253872",
     "exception": false,
     "start_time": "2023-03-06T14:44:38.234136",
     "status": "completed"
    },
    "tags": [
     "remove_cell"
    ]
   },
   "outputs": [],
   "source": [
    "repo_summaries = summaries.groupby([\"repo\", \"kind\"]).agg({\"count\": \"sum\"}).reset_index()\n",
    "org_summaries = summaries.groupby([\"org\", \"kind\"]).agg({\"count\": \"sum\"}).reset_index()"
   ]
  },
  {
   "cell_type": "code",
   "execution_count": 11,
   "id": "62312e9a",
   "metadata": {
    "execution": {
     "iopub.execute_input": "2023-03-06T14:44:38.264187Z",
     "iopub.status.busy": "2023-03-06T14:44:38.263679Z",
     "iopub.status.idle": "2023-03-06T14:44:38.268023Z",
     "shell.execute_reply": "2023-03-06T14:44:38.267351Z"
    },
    "papermill": {
     "duration": 0.011251,
     "end_time": "2023-03-06T14:44:38.269591",
     "exception": false,
     "start_time": "2023-03-06T14:44:38.258340",
     "status": "completed"
    },
    "tags": [
     "remove_cell"
    ]
   },
   "outputs": [],
   "source": [
    "repo_summaries['logcount'] = np.log(repo_summaries[\"count\"])"
   ]
  },
  {
   "cell_type": "code",
   "execution_count": 12,
   "id": "59f43102",
   "metadata": {
    "execution": {
     "iopub.execute_input": "2023-03-06T14:44:38.279546Z",
     "iopub.status.busy": "2023-03-06T14:44:38.279085Z",
     "iopub.status.idle": "2023-03-06T14:44:38.365272Z",
     "shell.execute_reply": "2023-03-06T14:44:38.364476Z"
    },
    "papermill": {
     "duration": 0.093835,
     "end_time": "2023-03-06T14:44:38.367679",
     "exception": false,
     "start_time": "2023-03-06T14:44:38.273844",
     "status": "completed"
    },
    "tags": [
     "hide_input"
    ]
   },
   "outputs": [
    {
     "data": {
      "text/html": [
       "\n",
       "<div id=\"altair-viz-34ea859def5d4ce8bf3831877f530e6e\"></div>\n",
       "<script type=\"text/javascript\">\n",
       "  var VEGA_DEBUG = (typeof VEGA_DEBUG == \"undefined\") ? {} : VEGA_DEBUG;\n",
       "  (function(spec, embedOpt){\n",
       "    let outputDiv = document.currentScript.previousElementSibling;\n",
       "    if (outputDiv.id !== \"altair-viz-34ea859def5d4ce8bf3831877f530e6e\") {\n",
       "      outputDiv = document.getElementById(\"altair-viz-34ea859def5d4ce8bf3831877f530e6e\");\n",
       "    }\n",
       "    const paths = {\n",
       "      \"vega\": \"https://cdn.jsdelivr.net/npm//vega@5?noext\",\n",
       "      \"vega-lib\": \"https://cdn.jsdelivr.net/npm//vega-lib?noext\",\n",
       "      \"vega-lite\": \"https://cdn.jsdelivr.net/npm//vega-lite@4.17.0?noext\",\n",
       "      \"vega-embed\": \"https://cdn.jsdelivr.net/npm//vega-embed@6?noext\",\n",
       "    };\n",
       "\n",
       "    function maybeLoadScript(lib, version) {\n",
       "      var key = `${lib.replace(\"-\", \"\")}_version`;\n",
       "      return (VEGA_DEBUG[key] == version) ?\n",
       "        Promise.resolve(paths[lib]) :\n",
       "        new Promise(function(resolve, reject) {\n",
       "          var s = document.createElement('script');\n",
       "          document.getElementsByTagName(\"head\")[0].appendChild(s);\n",
       "          s.async = true;\n",
       "          s.onload = () => {\n",
       "            VEGA_DEBUG[key] = version;\n",
       "            return resolve(paths[lib]);\n",
       "          };\n",
       "          s.onerror = () => reject(`Error loading script: ${paths[lib]}`);\n",
       "          s.src = paths[lib];\n",
       "        });\n",
       "    }\n",
       "\n",
       "    function showError(err) {\n",
       "      outputDiv.innerHTML = `<div class=\"error\" style=\"color:red;\">${err}</div>`;\n",
       "      throw err;\n",
       "    }\n",
       "\n",
       "    function displayChart(vegaEmbed) {\n",
       "      vegaEmbed(outputDiv, spec, embedOpt)\n",
       "        .catch(err => showError(`Javascript Error: ${err.message}<br>This usually means there's a typo in your chart specification. See the javascript console for the full traceback.`));\n",
       "    }\n",
       "\n",
       "    if(typeof define === \"function\" && define.amd) {\n",
       "      requirejs.config({paths});\n",
       "      require([\"vega-embed\"], displayChart, err => showError(`Error loading script: ${err.message}`));\n",
       "    } else {\n",
       "      maybeLoadScript(\"vega\", \"5\")\n",
       "        .then(() => maybeLoadScript(\"vega-lite\", \"4.17.0\"))\n",
       "        .then(() => maybeLoadScript(\"vega-embed\", \"6\"))\n",
       "        .catch(showError)\n",
       "        .then(() => displayChart(vegaEmbed));\n",
       "    }\n",
       "  })({\"config\": {\"axisLeft\": {\"labelFontSize\": 15}, \"axisBottom\": {\"labelFontSize\": 15}}, \"hconcat\": [{\"mark\": \"bar\", \"encoding\": {\"color\": {\"field\": \"kind\", \"type\": \"nominal\"}, \"tooltip\": {\"field\": \"kind\", \"type\": \"nominal\"}, \"x\": {\"field\": \"repo\", \"type\": \"nominal\"}, \"y\": {\"field\": \"count\", \"type\": \"quantitative\"}}, \"title\": \"Activity per repository\", \"width\": 600}, {\"mark\": \"bar\", \"encoding\": {\"color\": {\"field\": \"kind\", \"type\": \"nominal\"}, \"tooltip\": {\"field\": \"kind\", \"type\": \"nominal\"}, \"x\": {\"field\": \"repo\", \"type\": \"nominal\"}, \"y\": {\"field\": \"logcount\", \"type\": \"quantitative\"}}, \"title\": \"Log activity per repository\", \"width\": 600}], \"data\": {\"name\": \"data-4e7d70da08eaedc6e20566a5e9092da4\"}, \"$schema\": \"https://vega.github.io/schema/vega-lite/v4.17.0.json\", \"datasets\": {\"data-4e7d70da08eaedc6e20566a5e9092da4\": [{\"repo\": \"jupyter-book\", \"kind\": \"comments\", \"count\": 10, \"logcount\": 2.3025850929940455}, {\"repo\": \"meta\", \"kind\": \"comments\", \"count\": 3, \"logcount\": 1.0986122886681096}, {\"repo\": \"sphinx-book-theme\", \"kind\": \"comments\", \"count\": 31, \"logcount\": 3.4339872044851463}, {\"repo\": \"sphinx-book-theme\", \"kind\": \"prs\", \"count\": 2, \"logcount\": 0.6931471805599453}, {\"repo\": \"sphinx-exercise\", \"kind\": \"comments\", \"count\": 4, \"logcount\": 1.3862943611198906}, {\"repo\": \"sphinx-exercise\", \"kind\": \"prs\", \"count\": 2, \"logcount\": 0.6931471805599453}]}}, {\"mode\": \"vega-lite\"});\n",
       "</script>"
      ],
      "text/plain": [
       "alt.HConcatChart(...)"
      ]
     },
     "execution_count": 12,
     "metadata": {},
     "output_type": "execute_result"
    }
   ],
   "source": [
    "ch1 = alt.Chart(repo_summaries, width=600, title=\"Activity per repository\").mark_bar().encode(\n",
    "    x='repo',\n",
    "    y='count',\n",
    "    color='kind',\n",
    "    tooltip=\"kind\"\n",
    ")\n",
    "\n",
    "ch2 = alt.Chart(repo_summaries, width=600, title=\"Log activity per repository\").mark_bar().encode(\n",
    "    x='repo',\n",
    "    y='logcount',\n",
    "    color='kind',\n",
    "    tooltip=\"kind\"\n",
    ")\n",
    "\n",
    "ch1 | ch2"
   ]
  },
  {
   "cell_type": "code",
   "execution_count": 13,
   "id": "150fe1ab",
   "metadata": {
    "execution": {
     "iopub.execute_input": "2023-03-06T14:44:38.382499Z",
     "iopub.status.busy": "2023-03-06T14:44:38.381810Z",
     "iopub.status.idle": "2023-03-06T14:44:38.428245Z",
     "shell.execute_reply": "2023-03-06T14:44:38.427406Z"
    },
    "papermill": {
     "duration": 0.056839,
     "end_time": "2023-03-06T14:44:38.430673",
     "exception": false,
     "start_time": "2023-03-06T14:44:38.373834",
     "status": "completed"
    },
    "tags": [
     "hide_input"
    ]
   },
   "outputs": [
    {
     "data": {
      "text/html": [
       "\n",
       "<div id=\"altair-viz-9aa22d33a1554a858e191bdc5b5bdf34\"></div>\n",
       "<script type=\"text/javascript\">\n",
       "  var VEGA_DEBUG = (typeof VEGA_DEBUG == \"undefined\") ? {} : VEGA_DEBUG;\n",
       "  (function(spec, embedOpt){\n",
       "    let outputDiv = document.currentScript.previousElementSibling;\n",
       "    if (outputDiv.id !== \"altair-viz-9aa22d33a1554a858e191bdc5b5bdf34\") {\n",
       "      outputDiv = document.getElementById(\"altair-viz-9aa22d33a1554a858e191bdc5b5bdf34\");\n",
       "    }\n",
       "    const paths = {\n",
       "      \"vega\": \"https://cdn.jsdelivr.net/npm//vega@5?noext\",\n",
       "      \"vega-lib\": \"https://cdn.jsdelivr.net/npm//vega-lib?noext\",\n",
       "      \"vega-lite\": \"https://cdn.jsdelivr.net/npm//vega-lite@4.17.0?noext\",\n",
       "      \"vega-embed\": \"https://cdn.jsdelivr.net/npm//vega-embed@6?noext\",\n",
       "    };\n",
       "\n",
       "    function maybeLoadScript(lib, version) {\n",
       "      var key = `${lib.replace(\"-\", \"\")}_version`;\n",
       "      return (VEGA_DEBUG[key] == version) ?\n",
       "        Promise.resolve(paths[lib]) :\n",
       "        new Promise(function(resolve, reject) {\n",
       "          var s = document.createElement('script');\n",
       "          document.getElementsByTagName(\"head\")[0].appendChild(s);\n",
       "          s.async = true;\n",
       "          s.onload = () => {\n",
       "            VEGA_DEBUG[key] = version;\n",
       "            return resolve(paths[lib]);\n",
       "          };\n",
       "          s.onerror = () => reject(`Error loading script: ${paths[lib]}`);\n",
       "          s.src = paths[lib];\n",
       "        });\n",
       "    }\n",
       "\n",
       "    function showError(err) {\n",
       "      outputDiv.innerHTML = `<div class=\"error\" style=\"color:red;\">${err}</div>`;\n",
       "      throw err;\n",
       "    }\n",
       "\n",
       "    function displayChart(vegaEmbed) {\n",
       "      vegaEmbed(outputDiv, spec, embedOpt)\n",
       "        .catch(err => showError(`Javascript Error: ${err.message}<br>This usually means there's a typo in your chart specification. See the javascript console for the full traceback.`));\n",
       "    }\n",
       "\n",
       "    if(typeof define === \"function\" && define.amd) {\n",
       "      requirejs.config({paths});\n",
       "      require([\"vega-embed\"], displayChart, err => showError(`Error loading script: ${err.message}`));\n",
       "    } else {\n",
       "      maybeLoadScript(\"vega\", \"5\")\n",
       "        .then(() => maybeLoadScript(\"vega-lite\", \"4.17.0\"))\n",
       "        .then(() => maybeLoadScript(\"vega-embed\", \"6\"))\n",
       "        .catch(showError)\n",
       "        .then(() => displayChart(vegaEmbed));\n",
       "    }\n",
       "  })({\"config\": {\"axisLeft\": {\"labelFontSize\": 15}, \"axisBottom\": {\"labelFontSize\": 15}}, \"data\": {\"name\": \"data-c29727af0221603dcd4ed3446c893478\"}, \"mark\": \"bar\", \"encoding\": {\"color\": {\"field\": \"kind\", \"type\": \"nominal\"}, \"tooltip\": {\"field\": \"org\", \"type\": \"nominal\"}, \"x\": {\"field\": \"org\", \"type\": \"nominal\"}, \"y\": {\"field\": \"count\", \"type\": \"quantitative\"}}, \"width\": 600, \"$schema\": \"https://vega.github.io/schema/vega-lite/v4.17.0.json\", \"datasets\": {\"data-c29727af0221603dcd4ed3446c893478\": [{\"org\": \"executablebooks\", \"kind\": \"comments\", \"count\": 48}, {\"org\": \"executablebooks\", \"kind\": \"prs\", \"count\": 4}]}}, {\"mode\": \"vega-lite\"});\n",
       "</script>"
      ],
      "text/plain": [
       "alt.Chart(...)"
      ]
     },
     "execution_count": 13,
     "metadata": {},
     "output_type": "execute_result"
    }
   ],
   "source": [
    "alt.Chart(org_summaries, width=600).mark_bar().encode(\n",
    "    x='org',\n",
    "    y='count',\n",
    "    color='kind',\n",
    "    tooltip=\"org\"\n",
    ")"
   ]
  },
  {
   "cell_type": "markdown",
   "id": "09bc7688",
   "metadata": {
    "papermill": {
     "duration": 0.004773,
     "end_time": "2023-03-06T14:44:38.440677",
     "exception": false,
     "start_time": "2023-03-06T14:44:38.435904",
     "status": "completed"
    },
    "tags": []
   },
   "source": [
    "## By repository over time"
   ]
  },
  {
   "cell_type": "markdown",
   "id": "09789f23",
   "metadata": {
    "papermill": {
     "duration": 0.004645,
     "end_time": "2023-03-06T14:44:38.450124",
     "exception": false,
     "start_time": "2023-03-06T14:44:38.445479",
     "status": "completed"
    },
    "tags": []
   },
   "source": [
    "### Comments"
   ]
  },
  {
   "cell_type": "code",
   "execution_count": 14,
   "id": "5290541c",
   "metadata": {
    "execution": {
     "iopub.execute_input": "2023-03-06T14:44:38.461220Z",
     "iopub.status.busy": "2023-03-06T14:44:38.460631Z",
     "iopub.status.idle": "2023-03-06T14:44:38.556826Z",
     "shell.execute_reply": "2023-03-06T14:44:38.556058Z"
    },
    "papermill": {
     "duration": 0.104196,
     "end_time": "2023-03-06T14:44:38.558947",
     "exception": false,
     "start_time": "2023-03-06T14:44:38.454751",
     "status": "completed"
    },
    "tags": [
     "hide_input"
    ]
   },
   "outputs": [
    {
     "data": {
      "text/html": [
       "\n",
       "<div id=\"altair-viz-6d152471945947c5b9e7676d99bbee3a\"></div>\n",
       "<script type=\"text/javascript\">\n",
       "  var VEGA_DEBUG = (typeof VEGA_DEBUG == \"undefined\") ? {} : VEGA_DEBUG;\n",
       "  (function(spec, embedOpt){\n",
       "    let outputDiv = document.currentScript.previousElementSibling;\n",
       "    if (outputDiv.id !== \"altair-viz-6d152471945947c5b9e7676d99bbee3a\") {\n",
       "      outputDiv = document.getElementById(\"altair-viz-6d152471945947c5b9e7676d99bbee3a\");\n",
       "    }\n",
       "    const paths = {\n",
       "      \"vega\": \"https://cdn.jsdelivr.net/npm//vega@5?noext\",\n",
       "      \"vega-lib\": \"https://cdn.jsdelivr.net/npm//vega-lib?noext\",\n",
       "      \"vega-lite\": \"https://cdn.jsdelivr.net/npm//vega-lite@4.17.0?noext\",\n",
       "      \"vega-embed\": \"https://cdn.jsdelivr.net/npm//vega-embed@6?noext\",\n",
       "    };\n",
       "\n",
       "    function maybeLoadScript(lib, version) {\n",
       "      var key = `${lib.replace(\"-\", \"\")}_version`;\n",
       "      return (VEGA_DEBUG[key] == version) ?\n",
       "        Promise.resolve(paths[lib]) :\n",
       "        new Promise(function(resolve, reject) {\n",
       "          var s = document.createElement('script');\n",
       "          document.getElementsByTagName(\"head\")[0].appendChild(s);\n",
       "          s.async = true;\n",
       "          s.onload = () => {\n",
       "            VEGA_DEBUG[key] = version;\n",
       "            return resolve(paths[lib]);\n",
       "          };\n",
       "          s.onerror = () => reject(`Error loading script: ${paths[lib]}`);\n",
       "          s.src = paths[lib];\n",
       "        });\n",
       "    }\n",
       "\n",
       "    function showError(err) {\n",
       "      outputDiv.innerHTML = `<div class=\"error\" style=\"color:red;\">${err}</div>`;\n",
       "      throw err;\n",
       "    }\n",
       "\n",
       "    function displayChart(vegaEmbed) {\n",
       "      vegaEmbed(outputDiv, spec, embedOpt)\n",
       "        .catch(err => showError(`Javascript Error: ${err.message}<br>This usually means there's a typo in your chart specification. See the javascript console for the full traceback.`));\n",
       "    }\n",
       "\n",
       "    if(typeof define === \"function\" && define.amd) {\n",
       "      requirejs.config({paths});\n",
       "      require([\"vega-embed\"], displayChart, err => showError(`Error loading script: ${err.message}`));\n",
       "    } else {\n",
       "      maybeLoadScript(\"vega\", \"5\")\n",
       "        .then(() => maybeLoadScript(\"vega-lite\", \"4.17.0\"))\n",
       "        .then(() => maybeLoadScript(\"vega-embed\", \"6\"))\n",
       "        .catch(showError)\n",
       "        .then(() => displayChart(vegaEmbed));\n",
       "    }\n",
       "  })({\"config\": {\"axisLeft\": {\"labelFontSize\": 15}, \"axisBottom\": {\"labelFontSize\": 15}}, \"layer\": [{\"data\": {\"name\": \"data-4dc24a48b67d6e8b8ccdb6dff93215a7\"}, \"mark\": \"line\", \"encoding\": {\"color\": {\"field\": \"repo\", \"type\": \"nominal\"}, \"tooltip\": {\"field\": \"repo\", \"type\": \"nominal\"}, \"x\": {\"field\": \"createdAt\", \"type\": \"temporal\"}, \"y\": {\"field\": \"count\", \"type\": \"quantitative\"}}, \"width\": 600}, {\"data\": {\"name\": \"data-bf08006cf5f8b48feab1bb647b297f25\"}, \"mark\": {\"type\": \"line\", \"color\": \"black\"}, \"encoding\": {\"x\": {\"field\": \"createdAt\", \"type\": \"temporal\"}, \"y\": {\"field\": \"count\", \"type\": \"quantitative\"}}, \"width\": 600}], \"$schema\": \"https://vega.github.io/schema/vega-lite/v4.17.0.json\", \"datasets\": {\"data-4dc24a48b67d6e8b8ccdb6dff93215a7\": [{\"repo\": \"jupyter-book\", \"createdAt\": \"2022-07-24T00:00:00\", \"count\": 1}, {\"repo\": \"jupyter-book\", \"createdAt\": \"2022-07-31T00:00:00\", \"count\": 0}, {\"repo\": \"jupyter-book\", \"createdAt\": \"2022-08-07T00:00:00\", \"count\": 0}, {\"repo\": \"jupyter-book\", \"createdAt\": \"2022-08-14T00:00:00\", \"count\": 0}, {\"repo\": \"jupyter-book\", \"createdAt\": \"2022-08-21T00:00:00\", \"count\": 0}, {\"repo\": \"jupyter-book\", \"createdAt\": \"2022-08-28T00:00:00\", \"count\": 0}, {\"repo\": \"jupyter-book\", \"createdAt\": \"2022-09-04T00:00:00\", \"count\": 0}, {\"repo\": \"jupyter-book\", \"createdAt\": \"2022-09-11T00:00:00\", \"count\": 0}, {\"repo\": \"jupyter-book\", \"createdAt\": \"2022-09-18T00:00:00\", \"count\": 0}, {\"repo\": \"jupyter-book\", \"createdAt\": \"2022-09-25T00:00:00\", \"count\": 0}, {\"repo\": \"jupyter-book\", \"createdAt\": \"2022-10-02T00:00:00\", \"count\": 0}, {\"repo\": \"jupyter-book\", \"createdAt\": \"2022-10-09T00:00:00\", \"count\": 4}, {\"repo\": \"jupyter-book\", \"createdAt\": \"2022-10-16T00:00:00\", \"count\": 1}, {\"repo\": \"jupyter-book\", \"createdAt\": \"2022-10-23T00:00:00\", \"count\": 0}, {\"repo\": \"jupyter-book\", \"createdAt\": \"2022-10-30T00:00:00\", \"count\": 0}, {\"repo\": \"jupyter-book\", \"createdAt\": \"2022-11-06T00:00:00\", \"count\": 0}, {\"repo\": \"jupyter-book\", \"createdAt\": \"2022-11-13T00:00:00\", \"count\": 1}, {\"repo\": \"jupyter-book\", \"createdAt\": \"2022-11-20T00:00:00\", \"count\": 1}, {\"repo\": \"jupyter-book\", \"createdAt\": \"2022-11-27T00:00:00\", \"count\": 0}, {\"repo\": \"jupyter-book\", \"createdAt\": \"2022-12-04T00:00:00\", \"count\": 0}, {\"repo\": \"jupyter-book\", \"createdAt\": \"2022-12-11T00:00:00\", \"count\": 0}, {\"repo\": \"jupyter-book\", \"createdAt\": \"2022-12-18T00:00:00\", \"count\": 0}, {\"repo\": \"jupyter-book\", \"createdAt\": \"2022-12-25T00:00:00\", \"count\": 0}, {\"repo\": \"jupyter-book\", \"createdAt\": \"2023-01-01T00:00:00\", \"count\": 0}, {\"repo\": \"jupyter-book\", \"createdAt\": \"2023-01-08T00:00:00\", \"count\": 0}, {\"repo\": \"jupyter-book\", \"createdAt\": \"2023-01-15T00:00:00\", \"count\": 2}, {\"repo\": \"meta\", \"createdAt\": \"2020-02-23T00:00:00\", \"count\": 2}, {\"repo\": \"meta\", \"createdAt\": \"2020-03-01T00:00:00\", \"count\": 0}, {\"repo\": \"meta\", \"createdAt\": \"2020-03-08T00:00:00\", \"count\": 0}, {\"repo\": \"meta\", \"createdAt\": \"2020-03-15T00:00:00\", \"count\": 0}, {\"repo\": \"meta\", \"createdAt\": \"2020-03-22T00:00:00\", \"count\": 0}, {\"repo\": \"meta\", \"createdAt\": \"2020-03-29T00:00:00\", \"count\": 0}, {\"repo\": \"meta\", \"createdAt\": \"2020-04-05T00:00:00\", \"count\": 0}, {\"repo\": \"meta\", \"createdAt\": \"2020-04-12T00:00:00\", \"count\": 0}, {\"repo\": \"meta\", \"createdAt\": \"2020-04-19T00:00:00\", \"count\": 0}, {\"repo\": \"meta\", \"createdAt\": \"2020-04-26T00:00:00\", \"count\": 0}, {\"repo\": \"meta\", \"createdAt\": \"2020-05-03T00:00:00\", \"count\": 0}, {\"repo\": \"meta\", \"createdAt\": \"2020-05-10T00:00:00\", \"count\": 0}, {\"repo\": \"meta\", \"createdAt\": \"2020-05-17T00:00:00\", \"count\": 0}, {\"repo\": \"meta\", \"createdAt\": \"2020-05-24T00:00:00\", \"count\": 0}, {\"repo\": \"meta\", \"createdAt\": \"2020-05-31T00:00:00\", \"count\": 0}, {\"repo\": \"meta\", \"createdAt\": \"2020-06-07T00:00:00\", \"count\": 0}, {\"repo\": \"meta\", \"createdAt\": \"2020-06-14T00:00:00\", \"count\": 0}, {\"repo\": \"meta\", \"createdAt\": \"2020-06-21T00:00:00\", \"count\": 0}, {\"repo\": \"meta\", \"createdAt\": \"2020-06-28T00:00:00\", \"count\": 0}, {\"repo\": \"meta\", \"createdAt\": \"2020-07-05T00:00:00\", \"count\": 0}, {\"repo\": \"meta\", \"createdAt\": \"2020-07-12T00:00:00\", \"count\": 0}, {\"repo\": \"meta\", \"createdAt\": \"2020-07-19T00:00:00\", \"count\": 0}, {\"repo\": \"meta\", \"createdAt\": \"2020-07-26T00:00:00\", \"count\": 0}, {\"repo\": \"meta\", \"createdAt\": \"2020-08-02T00:00:00\", \"count\": 0}, {\"repo\": \"meta\", \"createdAt\": \"2020-08-09T00:00:00\", \"count\": 0}, {\"repo\": \"meta\", \"createdAt\": \"2020-08-16T00:00:00\", \"count\": 0}, {\"repo\": \"meta\", \"createdAt\": \"2020-08-23T00:00:00\", \"count\": 0}, {\"repo\": \"meta\", \"createdAt\": \"2020-08-30T00:00:00\", \"count\": 0}, {\"repo\": \"meta\", \"createdAt\": \"2020-09-06T00:00:00\", \"count\": 0}, {\"repo\": \"meta\", \"createdAt\": \"2020-09-13T00:00:00\", \"count\": 0}, {\"repo\": \"meta\", \"createdAt\": \"2020-09-20T00:00:00\", \"count\": 0}, {\"repo\": \"meta\", \"createdAt\": \"2020-09-27T00:00:00\", \"count\": 0}, {\"repo\": \"meta\", \"createdAt\": \"2020-10-04T00:00:00\", \"count\": 0}, {\"repo\": \"meta\", \"createdAt\": \"2020-10-11T00:00:00\", \"count\": 0}, {\"repo\": \"meta\", \"createdAt\": \"2020-10-18T00:00:00\", \"count\": 0}, {\"repo\": \"meta\", \"createdAt\": \"2020-10-25T00:00:00\", \"count\": 0}, {\"repo\": \"meta\", \"createdAt\": \"2020-11-01T00:00:00\", \"count\": 0}, {\"repo\": \"meta\", \"createdAt\": \"2020-11-08T00:00:00\", \"count\": 0}, {\"repo\": \"meta\", \"createdAt\": \"2020-11-15T00:00:00\", \"count\": 0}, {\"repo\": \"meta\", \"createdAt\": \"2020-11-22T00:00:00\", \"count\": 0}, {\"repo\": \"meta\", \"createdAt\": \"2020-11-29T00:00:00\", \"count\": 0}, {\"repo\": \"meta\", \"createdAt\": \"2020-12-06T00:00:00\", \"count\": 0}, {\"repo\": \"meta\", \"createdAt\": \"2020-12-13T00:00:00\", \"count\": 0}, {\"repo\": \"meta\", \"createdAt\": \"2020-12-20T00:00:00\", \"count\": 0}, {\"repo\": \"meta\", \"createdAt\": \"2020-12-27T00:00:00\", \"count\": 0}, {\"repo\": \"meta\", \"createdAt\": \"2021-01-03T00:00:00\", \"count\": 0}, {\"repo\": \"meta\", \"createdAt\": \"2021-01-10T00:00:00\", \"count\": 0}, {\"repo\": \"meta\", \"createdAt\": \"2021-01-17T00:00:00\", \"count\": 0}, {\"repo\": \"meta\", \"createdAt\": \"2021-01-24T00:00:00\", \"count\": 0}, {\"repo\": \"meta\", \"createdAt\": \"2021-01-31T00:00:00\", \"count\": 0}, {\"repo\": \"meta\", \"createdAt\": \"2021-02-07T00:00:00\", \"count\": 0}, {\"repo\": \"meta\", \"createdAt\": \"2021-02-14T00:00:00\", \"count\": 0}, {\"repo\": \"meta\", \"createdAt\": \"2021-02-21T00:00:00\", \"count\": 0}, {\"repo\": \"meta\", \"createdAt\": \"2021-02-28T00:00:00\", \"count\": 0}, {\"repo\": \"meta\", \"createdAt\": \"2021-03-07T00:00:00\", \"count\": 0}, {\"repo\": \"meta\", \"createdAt\": \"2021-03-14T00:00:00\", \"count\": 0}, {\"repo\": \"meta\", \"createdAt\": \"2021-03-21T00:00:00\", \"count\": 0}, {\"repo\": \"meta\", \"createdAt\": \"2021-03-28T00:00:00\", \"count\": 0}, {\"repo\": \"meta\", \"createdAt\": \"2021-04-04T00:00:00\", \"count\": 0}, {\"repo\": \"meta\", \"createdAt\": \"2021-04-11T00:00:00\", \"count\": 0}, {\"repo\": \"meta\", \"createdAt\": \"2021-04-18T00:00:00\", \"count\": 0}, {\"repo\": \"meta\", \"createdAt\": \"2021-04-25T00:00:00\", \"count\": 0}, {\"repo\": \"meta\", \"createdAt\": \"2021-05-02T00:00:00\", \"count\": 0}, {\"repo\": \"meta\", \"createdAt\": \"2021-05-09T00:00:00\", \"count\": 0}, {\"repo\": \"meta\", \"createdAt\": \"2021-05-16T00:00:00\", \"count\": 0}, {\"repo\": \"meta\", \"createdAt\": \"2021-05-23T00:00:00\", \"count\": 0}, {\"repo\": \"meta\", \"createdAt\": \"2021-05-30T00:00:00\", \"count\": 0}, {\"repo\": \"meta\", \"createdAt\": \"2021-06-06T00:00:00\", \"count\": 0}, {\"repo\": \"meta\", \"createdAt\": \"2021-06-13T00:00:00\", \"count\": 0}, {\"repo\": \"meta\", \"createdAt\": \"2021-06-20T00:00:00\", \"count\": 0}, {\"repo\": \"meta\", \"createdAt\": \"2021-06-27T00:00:00\", \"count\": 0}, {\"repo\": \"meta\", \"createdAt\": \"2021-07-04T00:00:00\", \"count\": 0}, {\"repo\": \"meta\", \"createdAt\": \"2021-07-11T00:00:00\", \"count\": 0}, {\"repo\": \"meta\", \"createdAt\": \"2021-07-18T00:00:00\", \"count\": 0}, {\"repo\": \"meta\", \"createdAt\": \"2021-07-25T00:00:00\", \"count\": 0}, {\"repo\": \"meta\", \"createdAt\": \"2021-08-01T00:00:00\", \"count\": 1}, {\"repo\": \"sphinx-book-theme\", \"createdAt\": \"2022-11-13T00:00:00\", \"count\": 2}, {\"repo\": \"sphinx-book-theme\", \"createdAt\": \"2022-11-20T00:00:00\", \"count\": 0}, {\"repo\": \"sphinx-book-theme\", \"createdAt\": \"2022-11-27T00:00:00\", \"count\": 5}, {\"repo\": \"sphinx-book-theme\", \"createdAt\": \"2022-12-04T00:00:00\", \"count\": 6}, {\"repo\": \"sphinx-book-theme\", \"createdAt\": \"2022-12-11T00:00:00\", \"count\": 4}, {\"repo\": \"sphinx-book-theme\", \"createdAt\": \"2022-12-18T00:00:00\", \"count\": 1}, {\"repo\": \"sphinx-book-theme\", \"createdAt\": \"2022-12-25T00:00:00\", \"count\": 2}, {\"repo\": \"sphinx-book-theme\", \"createdAt\": \"2023-01-01T00:00:00\", \"count\": 0}, {\"repo\": \"sphinx-book-theme\", \"createdAt\": \"2023-01-08T00:00:00\", \"count\": 1}, {\"repo\": \"sphinx-book-theme\", \"createdAt\": \"2023-01-15T00:00:00\", \"count\": 1}, {\"repo\": \"sphinx-book-theme\", \"createdAt\": \"2023-01-22T00:00:00\", \"count\": 0}, {\"repo\": \"sphinx-book-theme\", \"createdAt\": \"2023-01-29T00:00:00\", \"count\": 2}, {\"repo\": \"sphinx-book-theme\", \"createdAt\": \"2023-02-05T00:00:00\", \"count\": 1}, {\"repo\": \"sphinx-book-theme\", \"createdAt\": \"2023-02-12T00:00:00\", \"count\": 1}, {\"repo\": \"sphinx-book-theme\", \"createdAt\": \"2023-02-19T00:00:00\", \"count\": 5}, {\"repo\": \"sphinx-exercise\", \"createdAt\": \"2023-01-22T00:00:00\", \"count\": 4}], \"data-bf08006cf5f8b48feab1bb647b297f25\": [{\"createdAt\": \"2020-02-23T00:00:00\", \"count\": 2}, {\"createdAt\": \"2020-03-01T00:00:00\", \"count\": 0}, {\"createdAt\": \"2020-03-08T00:00:00\", \"count\": 0}, {\"createdAt\": \"2020-03-15T00:00:00\", \"count\": 0}, {\"createdAt\": \"2020-03-22T00:00:00\", \"count\": 0}, {\"createdAt\": \"2020-03-29T00:00:00\", \"count\": 0}, {\"createdAt\": \"2020-04-05T00:00:00\", \"count\": 0}, {\"createdAt\": \"2020-04-12T00:00:00\", \"count\": 0}, {\"createdAt\": \"2020-04-19T00:00:00\", \"count\": 0}, {\"createdAt\": \"2020-04-26T00:00:00\", \"count\": 0}, {\"createdAt\": \"2020-05-03T00:00:00\", \"count\": 0}, {\"createdAt\": \"2020-05-10T00:00:00\", \"count\": 0}, {\"createdAt\": \"2020-05-17T00:00:00\", \"count\": 0}, {\"createdAt\": \"2020-05-24T00:00:00\", \"count\": 0}, {\"createdAt\": \"2020-05-31T00:00:00\", \"count\": 0}, {\"createdAt\": \"2020-06-07T00:00:00\", \"count\": 0}, {\"createdAt\": \"2020-06-14T00:00:00\", \"count\": 0}, {\"createdAt\": \"2020-06-21T00:00:00\", \"count\": 0}, {\"createdAt\": \"2020-06-28T00:00:00\", \"count\": 0}, {\"createdAt\": \"2020-07-05T00:00:00\", \"count\": 0}, {\"createdAt\": \"2020-07-12T00:00:00\", \"count\": 0}, {\"createdAt\": \"2020-07-19T00:00:00\", \"count\": 0}, {\"createdAt\": \"2020-07-26T00:00:00\", \"count\": 0}, {\"createdAt\": \"2020-08-02T00:00:00\", \"count\": 0}, {\"createdAt\": \"2020-08-09T00:00:00\", \"count\": 0}, {\"createdAt\": \"2020-08-16T00:00:00\", \"count\": 0}, {\"createdAt\": \"2020-08-23T00:00:00\", \"count\": 0}, {\"createdAt\": \"2020-08-30T00:00:00\", \"count\": 0}, {\"createdAt\": \"2020-09-06T00:00:00\", \"count\": 0}, {\"createdAt\": \"2020-09-13T00:00:00\", \"count\": 0}, {\"createdAt\": \"2020-09-20T00:00:00\", \"count\": 0}, {\"createdAt\": \"2020-09-27T00:00:00\", \"count\": 0}, {\"createdAt\": \"2020-10-04T00:00:00\", \"count\": 0}, {\"createdAt\": \"2020-10-11T00:00:00\", \"count\": 0}, {\"createdAt\": \"2020-10-18T00:00:00\", \"count\": 0}, {\"createdAt\": \"2020-10-25T00:00:00\", \"count\": 0}, {\"createdAt\": \"2020-11-01T00:00:00\", \"count\": 0}, {\"createdAt\": \"2020-11-08T00:00:00\", \"count\": 0}, {\"createdAt\": \"2020-11-15T00:00:00\", \"count\": 0}, {\"createdAt\": \"2020-11-22T00:00:00\", \"count\": 0}, {\"createdAt\": \"2020-11-29T00:00:00\", \"count\": 0}, {\"createdAt\": \"2020-12-06T00:00:00\", \"count\": 0}, {\"createdAt\": \"2020-12-13T00:00:00\", \"count\": 0}, {\"createdAt\": \"2020-12-20T00:00:00\", \"count\": 0}, {\"createdAt\": \"2020-12-27T00:00:00\", \"count\": 0}, {\"createdAt\": \"2021-01-03T00:00:00\", \"count\": 0}, {\"createdAt\": \"2021-01-10T00:00:00\", \"count\": 0}, {\"createdAt\": \"2021-01-17T00:00:00\", \"count\": 0}, {\"createdAt\": \"2021-01-24T00:00:00\", \"count\": 0}, {\"createdAt\": \"2021-01-31T00:00:00\", \"count\": 0}, {\"createdAt\": \"2021-02-07T00:00:00\", \"count\": 0}, {\"createdAt\": \"2021-02-14T00:00:00\", \"count\": 0}, {\"createdAt\": \"2021-02-21T00:00:00\", \"count\": 0}, {\"createdAt\": \"2021-02-28T00:00:00\", \"count\": 0}, {\"createdAt\": \"2021-03-07T00:00:00\", \"count\": 0}, {\"createdAt\": \"2021-03-14T00:00:00\", \"count\": 0}, {\"createdAt\": \"2021-03-21T00:00:00\", \"count\": 0}, {\"createdAt\": \"2021-03-28T00:00:00\", \"count\": 0}, {\"createdAt\": \"2021-04-04T00:00:00\", \"count\": 0}, {\"createdAt\": \"2021-04-11T00:00:00\", \"count\": 0}, {\"createdAt\": \"2021-04-18T00:00:00\", \"count\": 0}, {\"createdAt\": \"2021-04-25T00:00:00\", \"count\": 0}, {\"createdAt\": \"2021-05-02T00:00:00\", \"count\": 0}, {\"createdAt\": \"2021-05-09T00:00:00\", \"count\": 0}, {\"createdAt\": \"2021-05-16T00:00:00\", \"count\": 0}, {\"createdAt\": \"2021-05-23T00:00:00\", \"count\": 0}, {\"createdAt\": \"2021-05-30T00:00:00\", \"count\": 0}, {\"createdAt\": \"2021-06-06T00:00:00\", \"count\": 0}, {\"createdAt\": \"2021-06-13T00:00:00\", \"count\": 0}, {\"createdAt\": \"2021-06-20T00:00:00\", \"count\": 0}, {\"createdAt\": \"2021-06-27T00:00:00\", \"count\": 0}, {\"createdAt\": \"2021-07-04T00:00:00\", \"count\": 0}, {\"createdAt\": \"2021-07-11T00:00:00\", \"count\": 0}, {\"createdAt\": \"2021-07-18T00:00:00\", \"count\": 0}, {\"createdAt\": \"2021-07-25T00:00:00\", \"count\": 0}, {\"createdAt\": \"2021-08-01T00:00:00\", \"count\": 1}, {\"createdAt\": \"2022-07-24T00:00:00\", \"count\": 1}, {\"createdAt\": \"2022-07-31T00:00:00\", \"count\": 0}, {\"createdAt\": \"2022-08-07T00:00:00\", \"count\": 0}, {\"createdAt\": \"2022-08-14T00:00:00\", \"count\": 0}, {\"createdAt\": \"2022-08-21T00:00:00\", \"count\": 0}, {\"createdAt\": \"2022-08-28T00:00:00\", \"count\": 0}, {\"createdAt\": \"2022-09-04T00:00:00\", \"count\": 0}, {\"createdAt\": \"2022-09-11T00:00:00\", \"count\": 0}, {\"createdAt\": \"2022-09-18T00:00:00\", \"count\": 0}, {\"createdAt\": \"2022-09-25T00:00:00\", \"count\": 0}, {\"createdAt\": \"2022-10-02T00:00:00\", \"count\": 0}, {\"createdAt\": \"2022-10-09T00:00:00\", \"count\": 4}, {\"createdAt\": \"2022-10-16T00:00:00\", \"count\": 1}, {\"createdAt\": \"2022-10-23T00:00:00\", \"count\": 0}, {\"createdAt\": \"2022-10-30T00:00:00\", \"count\": 0}, {\"createdAt\": \"2022-11-06T00:00:00\", \"count\": 0}, {\"createdAt\": \"2022-11-13T00:00:00\", \"count\": 3}, {\"createdAt\": \"2022-11-20T00:00:00\", \"count\": 1}, {\"createdAt\": \"2022-11-27T00:00:00\", \"count\": 5}, {\"createdAt\": \"2022-12-04T00:00:00\", \"count\": 6}, {\"createdAt\": \"2022-12-11T00:00:00\", \"count\": 4}, {\"createdAt\": \"2022-12-18T00:00:00\", \"count\": 1}, {\"createdAt\": \"2022-12-25T00:00:00\", \"count\": 2}, {\"createdAt\": \"2023-01-01T00:00:00\", \"count\": 0}, {\"createdAt\": \"2023-01-08T00:00:00\", \"count\": 1}, {\"createdAt\": \"2023-01-15T00:00:00\", \"count\": 3}, {\"createdAt\": \"2023-01-22T00:00:00\", \"count\": 4}, {\"createdAt\": \"2023-01-29T00:00:00\", \"count\": 2}, {\"createdAt\": \"2023-02-05T00:00:00\", \"count\": 1}, {\"createdAt\": \"2023-02-12T00:00:00\", \"count\": 1}, {\"createdAt\": \"2023-02-19T00:00:00\", \"count\": 5}]}}, {\"mode\": \"vega-lite\"});\n",
       "</script>"
      ],
      "text/plain": [
       "alt.LayerChart(...)"
      ]
     },
     "execution_count": 14,
     "metadata": {},
     "output_type": "execute_result"
    }
   ],
   "source": [
    "comments_time = comments.groupby('repo').resample('W', on='createdAt').count()['author'].reset_index()\n",
    "comments_time = comments_time.rename(columns={'author': 'count'})\n",
    "comments_time_total = comments_time.groupby('createdAt').agg({\"count\": \"sum\"}).reset_index()\n",
    "ch1 = alt.Chart(comments_time, width=600).mark_line().encode(\n",
    "    x='createdAt',\n",
    "    y='count',\n",
    "    color='repo',\n",
    "    tooltip=\"repo\"\n",
    ")\n",
    "\n",
    "ch2 = alt.Chart(comments_time_total, width=600).mark_line(color=\"black\").encode(\n",
    "    x='createdAt',\n",
    "    y='count',\n",
    ")\n",
    "\n",
    "ch1 + ch2"
   ]
  },
  {
   "cell_type": "markdown",
   "id": "5b677258",
   "metadata": {
    "papermill": {
     "duration": 0.007588,
     "end_time": "2023-03-06T14:44:38.572695",
     "exception": false,
     "start_time": "2023-03-06T14:44:38.565107",
     "status": "completed"
    },
    "tags": []
   },
   "source": [
    "### PRs"
   ]
  },
  {
   "cell_type": "code",
   "execution_count": 15,
   "id": "bd1e67f1",
   "metadata": {
    "execution": {
     "iopub.execute_input": "2023-03-06T14:44:38.584383Z",
     "iopub.status.busy": "2023-03-06T14:44:38.583714Z",
     "iopub.status.idle": "2023-03-06T14:44:38.670685Z",
     "shell.execute_reply": "2023-03-06T14:44:38.670104Z"
    },
    "papermill": {
     "duration": 0.094692,
     "end_time": "2023-03-06T14:44:38.672429",
     "exception": false,
     "start_time": "2023-03-06T14:44:38.577737",
     "status": "completed"
    },
    "tags": [
     "hide_input"
    ]
   },
   "outputs": [
    {
     "data": {
      "text/html": [
       "\n",
       "<div id=\"altair-viz-0d762f3ca6c84bb2b3c0b7e4a4c66b31\"></div>\n",
       "<script type=\"text/javascript\">\n",
       "  var VEGA_DEBUG = (typeof VEGA_DEBUG == \"undefined\") ? {} : VEGA_DEBUG;\n",
       "  (function(spec, embedOpt){\n",
       "    let outputDiv = document.currentScript.previousElementSibling;\n",
       "    if (outputDiv.id !== \"altair-viz-0d762f3ca6c84bb2b3c0b7e4a4c66b31\") {\n",
       "      outputDiv = document.getElementById(\"altair-viz-0d762f3ca6c84bb2b3c0b7e4a4c66b31\");\n",
       "    }\n",
       "    const paths = {\n",
       "      \"vega\": \"https://cdn.jsdelivr.net/npm//vega@5?noext\",\n",
       "      \"vega-lib\": \"https://cdn.jsdelivr.net/npm//vega-lib?noext\",\n",
       "      \"vega-lite\": \"https://cdn.jsdelivr.net/npm//vega-lite@4.17.0?noext\",\n",
       "      \"vega-embed\": \"https://cdn.jsdelivr.net/npm//vega-embed@6?noext\",\n",
       "    };\n",
       "\n",
       "    function maybeLoadScript(lib, version) {\n",
       "      var key = `${lib.replace(\"-\", \"\")}_version`;\n",
       "      return (VEGA_DEBUG[key] == version) ?\n",
       "        Promise.resolve(paths[lib]) :\n",
       "        new Promise(function(resolve, reject) {\n",
       "          var s = document.createElement('script');\n",
       "          document.getElementsByTagName(\"head\")[0].appendChild(s);\n",
       "          s.async = true;\n",
       "          s.onload = () => {\n",
       "            VEGA_DEBUG[key] = version;\n",
       "            return resolve(paths[lib]);\n",
       "          };\n",
       "          s.onerror = () => reject(`Error loading script: ${paths[lib]}`);\n",
       "          s.src = paths[lib];\n",
       "        });\n",
       "    }\n",
       "\n",
       "    function showError(err) {\n",
       "      outputDiv.innerHTML = `<div class=\"error\" style=\"color:red;\">${err}</div>`;\n",
       "      throw err;\n",
       "    }\n",
       "\n",
       "    function displayChart(vegaEmbed) {\n",
       "      vegaEmbed(outputDiv, spec, embedOpt)\n",
       "        .catch(err => showError(`Javascript Error: ${err.message}<br>This usually means there's a typo in your chart specification. See the javascript console for the full traceback.`));\n",
       "    }\n",
       "\n",
       "    if(typeof define === \"function\" && define.amd) {\n",
       "      requirejs.config({paths});\n",
       "      require([\"vega-embed\"], displayChart, err => showError(`Error loading script: ${err.message}`));\n",
       "    } else {\n",
       "      maybeLoadScript(\"vega\", \"5\")\n",
       "        .then(() => maybeLoadScript(\"vega-lite\", \"4.17.0\"))\n",
       "        .then(() => maybeLoadScript(\"vega-embed\", \"6\"))\n",
       "        .catch(showError)\n",
       "        .then(() => displayChart(vegaEmbed));\n",
       "    }\n",
       "  })({\"config\": {\"axisLeft\": {\"labelFontSize\": 15}, \"axisBottom\": {\"labelFontSize\": 15}}, \"layer\": [{\"data\": {\"name\": \"data-daa800451db05d054b364a92f2ee783d\"}, \"mark\": \"line\", \"encoding\": {\"color\": {\"field\": \"repo\", \"type\": \"nominal\"}, \"tooltip\": {\"field\": \"repo\", \"type\": \"nominal\"}, \"x\": {\"field\": \"createdAt\", \"type\": \"temporal\"}, \"y\": {\"field\": \"count\", \"type\": \"quantitative\"}}, \"width\": 600}, {\"data\": {\"name\": \"data-b2c4b435db4c841f2930ed509c50bfb5\"}, \"mark\": {\"type\": \"line\", \"color\": \"black\"}, \"encoding\": {\"x\": {\"field\": \"createdAt\", \"type\": \"temporal\"}, \"y\": {\"field\": \"count\", \"type\": \"quantitative\"}}, \"width\": 600}], \"$schema\": \"https://vega.github.io/schema/vega-lite/v4.17.0.json\", \"datasets\": {\"data-daa800451db05d054b364a92f2ee783d\": [{\"repo\": \"sphinx-book-theme\", \"createdAt\": \"2023-02-19T00:00:00\", \"count\": 2}, {\"repo\": \"sphinx-exercise\", \"createdAt\": \"2023-01-22T00:00:00\", \"count\": 1}, {\"repo\": \"sphinx-exercise\", \"createdAt\": \"2023-01-29T00:00:00\", \"count\": 1}], \"data-b2c4b435db4c841f2930ed509c50bfb5\": [{\"createdAt\": \"2023-01-22T00:00:00\", \"count\": 1}, {\"createdAt\": \"2023-01-29T00:00:00\", \"count\": 1}, {\"createdAt\": \"2023-02-19T00:00:00\", \"count\": 2}]}}, {\"mode\": \"vega-lite\"});\n",
       "</script>"
      ],
      "text/plain": [
       "alt.LayerChart(...)"
      ]
     },
     "execution_count": 15,
     "metadata": {},
     "output_type": "execute_result"
    }
   ],
   "source": [
    "prs_time = prs.groupby('repo').resample('W', on='createdAt').count()['author'].reset_index()\n",
    "prs_time = prs_time.rename(columns={'author': 'count'})\n",
    "prs_time_total = prs_time.groupby('createdAt').agg({\"count\": \"sum\"}).reset_index()\n",
    "\n",
    "ch1 = alt.Chart(prs_time, width=600).mark_line().encode(\n",
    "    x='createdAt',\n",
    "    y='count',\n",
    "    color='repo',\n",
    "    tooltip=\"repo\"\n",
    ")\n",
    "\n",
    "ch2 = alt.Chart(prs_time_total, width=600).mark_line(color=\"black\").encode(\n",
    "    x='createdAt',\n",
    "    y='count',\n",
    ")\n",
    "\n",
    "ch1 + ch2"
   ]
  },
  {
   "cell_type": "code",
   "execution_count": 16,
   "id": "c44442b5",
   "metadata": {
    "execution": {
     "iopub.execute_input": "2023-03-06T14:44:38.685468Z",
     "iopub.status.busy": "2023-03-06T14:44:38.685046Z",
     "iopub.status.idle": "2023-03-06T14:44:38.738516Z",
     "shell.execute_reply": "2023-03-06T14:44:38.737755Z"
    },
    "papermill": {
     "duration": 0.06186,
     "end_time": "2023-03-06T14:44:38.740591",
     "exception": false,
     "start_time": "2023-03-06T14:44:38.678731",
     "status": "completed"
    },
    "tags": [
     "hide_input"
    ]
   },
   "outputs": [
    {
     "data": {
      "text/html": [
       "\n",
       "<div id=\"altair-viz-fd619f413301474e978d03484b668080\"></div>\n",
       "<script type=\"text/javascript\">\n",
       "  var VEGA_DEBUG = (typeof VEGA_DEBUG == \"undefined\") ? {} : VEGA_DEBUG;\n",
       "  (function(spec, embedOpt){\n",
       "    let outputDiv = document.currentScript.previousElementSibling;\n",
       "    if (outputDiv.id !== \"altair-viz-fd619f413301474e978d03484b668080\") {\n",
       "      outputDiv = document.getElementById(\"altair-viz-fd619f413301474e978d03484b668080\");\n",
       "    }\n",
       "    const paths = {\n",
       "      \"vega\": \"https://cdn.jsdelivr.net/npm//vega@5?noext\",\n",
       "      \"vega-lib\": \"https://cdn.jsdelivr.net/npm//vega-lib?noext\",\n",
       "      \"vega-lite\": \"https://cdn.jsdelivr.net/npm//vega-lite@4.17.0?noext\",\n",
       "      \"vega-embed\": \"https://cdn.jsdelivr.net/npm//vega-embed@6?noext\",\n",
       "    };\n",
       "\n",
       "    function maybeLoadScript(lib, version) {\n",
       "      var key = `${lib.replace(\"-\", \"\")}_version`;\n",
       "      return (VEGA_DEBUG[key] == version) ?\n",
       "        Promise.resolve(paths[lib]) :\n",
       "        new Promise(function(resolve, reject) {\n",
       "          var s = document.createElement('script');\n",
       "          document.getElementsByTagName(\"head\")[0].appendChild(s);\n",
       "          s.async = true;\n",
       "          s.onload = () => {\n",
       "            VEGA_DEBUG[key] = version;\n",
       "            return resolve(paths[lib]);\n",
       "          };\n",
       "          s.onerror = () => reject(`Error loading script: ${paths[lib]}`);\n",
       "          s.src = paths[lib];\n",
       "        });\n",
       "    }\n",
       "\n",
       "    function showError(err) {\n",
       "      outputDiv.innerHTML = `<div class=\"error\" style=\"color:red;\">${err}</div>`;\n",
       "      throw err;\n",
       "    }\n",
       "\n",
       "    function displayChart(vegaEmbed) {\n",
       "      vegaEmbed(outputDiv, spec, embedOpt)\n",
       "        .catch(err => showError(`Javascript Error: ${err.message}<br>This usually means there's a typo in your chart specification. See the javascript console for the full traceback.`));\n",
       "    }\n",
       "\n",
       "    if(typeof define === \"function\" && define.amd) {\n",
       "      requirejs.config({paths});\n",
       "      require([\"vega-embed\"], displayChart, err => showError(`Error loading script: ${err.message}`));\n",
       "    } else {\n",
       "      maybeLoadScript(\"vega\", \"5\")\n",
       "        .then(() => maybeLoadScript(\"vega-lite\", \"4.17.0\"))\n",
       "        .then(() => maybeLoadScript(\"vega-embed\", \"6\"))\n",
       "        .catch(showError)\n",
       "        .then(() => displayChart(vegaEmbed));\n",
       "    }\n",
       "  })({\"config\": {\"axisLeft\": {\"labelFontSize\": 15}, \"axisBottom\": {\"labelFontSize\": 15}}, \"data\": {\"name\": \"data-71cfa82363279779687341e3b94be8b8\"}, \"mark\": \"line\", \"encoding\": {\"color\": {\"field\": \"repo\", \"type\": \"nominal\"}, \"tooltip\": {\"field\": \"repo\", \"type\": \"nominal\"}, \"x\": {\"field\": \"closedAt\", \"type\": \"temporal\"}, \"y\": {\"field\": \"count\", \"type\": \"quantitative\"}}, \"width\": 600, \"$schema\": \"https://vega.github.io/schema/vega-lite/v4.17.0.json\", \"datasets\": {\"data-71cfa82363279779687341e3b94be8b8\": [{\"repo\": \"sphinx-exercise\", \"closedAt\": \"2023-01-22T00:00:00\", \"count\": 1}, {\"repo\": \"sphinx-exercise\", \"closedAt\": \"2023-01-29T00:00:00\", \"count\": 1}]}}, {\"mode\": \"vega-lite\"});\n",
       "</script>"
      ],
      "text/plain": [
       "alt.Chart(...)"
      ]
     },
     "execution_count": 16,
     "metadata": {},
     "output_type": "execute_result"
    }
   ],
   "source": [
    "closed_by_time = closed_by.groupby('repo').resample('W', on='closedAt').count()['author'].reset_index()\n",
    "closed_by_time = closed_by_time.rename(columns={'author': 'count'})\n",
    "\n",
    "alt.Chart(closed_by_time, width=600).mark_line().encode(\n",
    "    x='closedAt',\n",
    "    y='count',\n",
    "    color='repo',\n",
    "    tooltip=\"repo\"\n",
    ")"
   ]
  },
  {
   "cell_type": "markdown",
   "id": "c527fea3",
   "metadata": {
    "papermill": {
     "duration": 0.005899,
     "end_time": "2023-03-06T14:44:38.752743",
     "exception": false,
     "start_time": "2023-03-06T14:44:38.746844",
     "status": "completed"
    },
    "tags": []
   },
   "source": [
    "## By type over time"
   ]
  },
  {
   "cell_type": "code",
   "execution_count": 17,
   "id": "646025b0",
   "metadata": {
    "execution": {
     "iopub.execute_input": "2023-03-06T14:44:38.764953Z",
     "iopub.status.busy": "2023-03-06T14:44:38.764467Z",
     "iopub.status.idle": "2023-03-06T14:44:38.785006Z",
     "shell.execute_reply": "2023-03-06T14:44:38.784351Z"
    },
    "papermill": {
     "duration": 0.028401,
     "end_time": "2023-03-06T14:44:38.786559",
     "exception": false,
     "start_time": "2023-03-06T14:44:38.758158",
     "status": "completed"
    },
    "tags": [
     "remove_cell"
    ]
   },
   "outputs": [],
   "source": [
    "prs_time = prs[['author', 'createdAt']].resample('W', on='createdAt').count()['author'].reset_index()\n",
    "prs_time = prs_time.rename(columns={'author': 'prs'})\n",
    "comments_time = comments[['author', 'createdAt']].resample('W', on='createdAt').count()['author'].reset_index()\n",
    "comments_time = comments_time.rename(columns={'author': 'comments'})\n",
    "\n",
    "total_time = pd.merge(prs_time, comments_time, on='createdAt', how='outer')\n",
    "total_time = total_time.melt(id_vars='createdAt', var_name=\"kind\", value_name=\"count\")\n"
   ]
  },
  {
   "cell_type": "code",
   "execution_count": 18,
   "id": "e967acff",
   "metadata": {
    "execution": {
     "iopub.execute_input": "2023-03-06T14:44:38.798913Z",
     "iopub.status.busy": "2023-03-06T14:44:38.798308Z",
     "iopub.status.idle": "2023-03-06T14:44:38.842586Z",
     "shell.execute_reply": "2023-03-06T14:44:38.841925Z"
    },
    "papermill": {
     "duration": 0.052227,
     "end_time": "2023-03-06T14:44:38.844222",
     "exception": false,
     "start_time": "2023-03-06T14:44:38.791995",
     "status": "completed"
    },
    "tags": [
     "hide_input"
    ]
   },
   "outputs": [
    {
     "data": {
      "text/html": [
       "\n",
       "<div id=\"altair-viz-8006e8bcd8534025aafaa5f4f19ed933\"></div>\n",
       "<script type=\"text/javascript\">\n",
       "  var VEGA_DEBUG = (typeof VEGA_DEBUG == \"undefined\") ? {} : VEGA_DEBUG;\n",
       "  (function(spec, embedOpt){\n",
       "    let outputDiv = document.currentScript.previousElementSibling;\n",
       "    if (outputDiv.id !== \"altair-viz-8006e8bcd8534025aafaa5f4f19ed933\") {\n",
       "      outputDiv = document.getElementById(\"altair-viz-8006e8bcd8534025aafaa5f4f19ed933\");\n",
       "    }\n",
       "    const paths = {\n",
       "      \"vega\": \"https://cdn.jsdelivr.net/npm//vega@5?noext\",\n",
       "      \"vega-lib\": \"https://cdn.jsdelivr.net/npm//vega-lib?noext\",\n",
       "      \"vega-lite\": \"https://cdn.jsdelivr.net/npm//vega-lite@4.17.0?noext\",\n",
       "      \"vega-embed\": \"https://cdn.jsdelivr.net/npm//vega-embed@6?noext\",\n",
       "    };\n",
       "\n",
       "    function maybeLoadScript(lib, version) {\n",
       "      var key = `${lib.replace(\"-\", \"\")}_version`;\n",
       "      return (VEGA_DEBUG[key] == version) ?\n",
       "        Promise.resolve(paths[lib]) :\n",
       "        new Promise(function(resolve, reject) {\n",
       "          var s = document.createElement('script');\n",
       "          document.getElementsByTagName(\"head\")[0].appendChild(s);\n",
       "          s.async = true;\n",
       "          s.onload = () => {\n",
       "            VEGA_DEBUG[key] = version;\n",
       "            return resolve(paths[lib]);\n",
       "          };\n",
       "          s.onerror = () => reject(`Error loading script: ${paths[lib]}`);\n",
       "          s.src = paths[lib];\n",
       "        });\n",
       "    }\n",
       "\n",
       "    function showError(err) {\n",
       "      outputDiv.innerHTML = `<div class=\"error\" style=\"color:red;\">${err}</div>`;\n",
       "      throw err;\n",
       "    }\n",
       "\n",
       "    function displayChart(vegaEmbed) {\n",
       "      vegaEmbed(outputDiv, spec, embedOpt)\n",
       "        .catch(err => showError(`Javascript Error: ${err.message}<br>This usually means there's a typo in your chart specification. See the javascript console for the full traceback.`));\n",
       "    }\n",
       "\n",
       "    if(typeof define === \"function\" && define.amd) {\n",
       "      requirejs.config({paths});\n",
       "      require([\"vega-embed\"], displayChart, err => showError(`Error loading script: ${err.message}`));\n",
       "    } else {\n",
       "      maybeLoadScript(\"vega\", \"5\")\n",
       "        .then(() => maybeLoadScript(\"vega-lite\", \"4.17.0\"))\n",
       "        .then(() => maybeLoadScript(\"vega-embed\", \"6\"))\n",
       "        .catch(showError)\n",
       "        .then(() => displayChart(vegaEmbed));\n",
       "    }\n",
       "  })({\"config\": {\"axisLeft\": {\"labelFontSize\": 15}, \"axisBottom\": {\"labelFontSize\": 15}}, \"data\": {\"name\": \"data-f3a6c6e06baed4bad8966bde4956c1bf\"}, \"mark\": \"line\", \"encoding\": {\"color\": {\"field\": \"kind\", \"type\": \"nominal\"}, \"x\": {\"field\": \"createdAt\", \"type\": \"temporal\"}, \"y\": {\"field\": \"count\", \"type\": \"quantitative\"}}, \"width\": 600, \"$schema\": \"https://vega.github.io/schema/vega-lite/v4.17.0.json\", \"datasets\": {\"data-f3a6c6e06baed4bad8966bde4956c1bf\": [{\"createdAt\": \"2023-01-22T00:00:00\", \"kind\": \"prs\", \"count\": 1.0}, {\"createdAt\": \"2023-01-29T00:00:00\", \"kind\": \"prs\", \"count\": 1.0}, {\"createdAt\": \"2023-02-05T00:00:00\", \"kind\": \"prs\", \"count\": 0.0}, {\"createdAt\": \"2023-02-12T00:00:00\", \"kind\": \"prs\", \"count\": 0.0}, {\"createdAt\": \"2023-02-19T00:00:00\", \"kind\": \"prs\", \"count\": 2.0}, {\"createdAt\": \"2020-02-23T00:00:00\", \"kind\": \"prs\", \"count\": null}, {\"createdAt\": \"2020-03-01T00:00:00\", \"kind\": \"prs\", \"count\": null}, {\"createdAt\": \"2020-03-08T00:00:00\", \"kind\": \"prs\", \"count\": null}, {\"createdAt\": \"2020-03-15T00:00:00\", \"kind\": \"prs\", \"count\": null}, {\"createdAt\": \"2020-03-22T00:00:00\", \"kind\": \"prs\", \"count\": null}, {\"createdAt\": \"2020-03-29T00:00:00\", \"kind\": \"prs\", \"count\": null}, {\"createdAt\": \"2020-04-05T00:00:00\", \"kind\": \"prs\", \"count\": null}, {\"createdAt\": \"2020-04-12T00:00:00\", \"kind\": \"prs\", \"count\": null}, {\"createdAt\": \"2020-04-19T00:00:00\", \"kind\": \"prs\", \"count\": null}, {\"createdAt\": \"2020-04-26T00:00:00\", \"kind\": \"prs\", \"count\": null}, {\"createdAt\": \"2020-05-03T00:00:00\", \"kind\": \"prs\", \"count\": null}, {\"createdAt\": \"2020-05-10T00:00:00\", \"kind\": \"prs\", \"count\": null}, {\"createdAt\": \"2020-05-17T00:00:00\", \"kind\": \"prs\", \"count\": null}, {\"createdAt\": \"2020-05-24T00:00:00\", \"kind\": \"prs\", \"count\": null}, {\"createdAt\": \"2020-05-31T00:00:00\", \"kind\": \"prs\", \"count\": null}, {\"createdAt\": \"2020-06-07T00:00:00\", \"kind\": \"prs\", \"count\": null}, {\"createdAt\": \"2020-06-14T00:00:00\", \"kind\": \"prs\", \"count\": null}, {\"createdAt\": \"2020-06-21T00:00:00\", \"kind\": \"prs\", \"count\": null}, {\"createdAt\": \"2020-06-28T00:00:00\", \"kind\": \"prs\", \"count\": null}, {\"createdAt\": \"2020-07-05T00:00:00\", \"kind\": \"prs\", \"count\": null}, {\"createdAt\": \"2020-07-12T00:00:00\", \"kind\": \"prs\", \"count\": null}, {\"createdAt\": \"2020-07-19T00:00:00\", \"kind\": \"prs\", \"count\": null}, {\"createdAt\": \"2020-07-26T00:00:00\", \"kind\": \"prs\", \"count\": null}, {\"createdAt\": \"2020-08-02T00:00:00\", \"kind\": \"prs\", \"count\": null}, {\"createdAt\": \"2020-08-09T00:00:00\", \"kind\": \"prs\", \"count\": null}, {\"createdAt\": \"2020-08-16T00:00:00\", \"kind\": \"prs\", \"count\": null}, {\"createdAt\": \"2020-08-23T00:00:00\", \"kind\": \"prs\", \"count\": null}, {\"createdAt\": \"2020-08-30T00:00:00\", \"kind\": \"prs\", \"count\": null}, {\"createdAt\": \"2020-09-06T00:00:00\", \"kind\": \"prs\", \"count\": null}, {\"createdAt\": \"2020-09-13T00:00:00\", \"kind\": \"prs\", \"count\": null}, {\"createdAt\": \"2020-09-20T00:00:00\", \"kind\": \"prs\", \"count\": null}, {\"createdAt\": \"2020-09-27T00:00:00\", \"kind\": \"prs\", \"count\": null}, {\"createdAt\": \"2020-10-04T00:00:00\", \"kind\": \"prs\", \"count\": null}, {\"createdAt\": \"2020-10-11T00:00:00\", \"kind\": \"prs\", \"count\": null}, {\"createdAt\": \"2020-10-18T00:00:00\", \"kind\": \"prs\", \"count\": null}, {\"createdAt\": \"2020-10-25T00:00:00\", \"kind\": \"prs\", \"count\": null}, {\"createdAt\": \"2020-11-01T00:00:00\", \"kind\": \"prs\", \"count\": null}, {\"createdAt\": \"2020-11-08T00:00:00\", \"kind\": \"prs\", \"count\": null}, {\"createdAt\": \"2020-11-15T00:00:00\", \"kind\": \"prs\", \"count\": null}, {\"createdAt\": \"2020-11-22T00:00:00\", \"kind\": \"prs\", \"count\": null}, {\"createdAt\": \"2020-11-29T00:00:00\", \"kind\": \"prs\", \"count\": null}, {\"createdAt\": \"2020-12-06T00:00:00\", \"kind\": \"prs\", \"count\": null}, {\"createdAt\": \"2020-12-13T00:00:00\", \"kind\": \"prs\", \"count\": null}, {\"createdAt\": \"2020-12-20T00:00:00\", \"kind\": \"prs\", \"count\": null}, {\"createdAt\": \"2020-12-27T00:00:00\", \"kind\": \"prs\", \"count\": null}, {\"createdAt\": \"2021-01-03T00:00:00\", \"kind\": \"prs\", \"count\": null}, {\"createdAt\": \"2021-01-10T00:00:00\", \"kind\": \"prs\", \"count\": null}, {\"createdAt\": \"2021-01-17T00:00:00\", \"kind\": \"prs\", \"count\": null}, {\"createdAt\": \"2021-01-24T00:00:00\", \"kind\": \"prs\", \"count\": null}, {\"createdAt\": \"2021-01-31T00:00:00\", \"kind\": \"prs\", \"count\": null}, {\"createdAt\": \"2021-02-07T00:00:00\", \"kind\": \"prs\", \"count\": null}, {\"createdAt\": \"2021-02-14T00:00:00\", \"kind\": \"prs\", \"count\": null}, {\"createdAt\": \"2021-02-21T00:00:00\", \"kind\": \"prs\", \"count\": null}, {\"createdAt\": \"2021-02-28T00:00:00\", \"kind\": \"prs\", \"count\": null}, {\"createdAt\": \"2021-03-07T00:00:00\", \"kind\": \"prs\", \"count\": null}, {\"createdAt\": \"2021-03-14T00:00:00\", \"kind\": \"prs\", \"count\": null}, {\"createdAt\": \"2021-03-21T00:00:00\", \"kind\": \"prs\", \"count\": null}, {\"createdAt\": \"2021-03-28T00:00:00\", \"kind\": \"prs\", \"count\": null}, {\"createdAt\": \"2021-04-04T00:00:00\", \"kind\": \"prs\", \"count\": null}, {\"createdAt\": \"2021-04-11T00:00:00\", \"kind\": \"prs\", \"count\": null}, {\"createdAt\": \"2021-04-18T00:00:00\", \"kind\": \"prs\", \"count\": null}, {\"createdAt\": \"2021-04-25T00:00:00\", \"kind\": \"prs\", \"count\": null}, {\"createdAt\": \"2021-05-02T00:00:00\", \"kind\": \"prs\", \"count\": null}, {\"createdAt\": \"2021-05-09T00:00:00\", \"kind\": \"prs\", \"count\": null}, {\"createdAt\": \"2021-05-16T00:00:00\", \"kind\": \"prs\", \"count\": null}, {\"createdAt\": \"2021-05-23T00:00:00\", \"kind\": \"prs\", \"count\": null}, {\"createdAt\": \"2021-05-30T00:00:00\", \"kind\": \"prs\", \"count\": null}, {\"createdAt\": \"2021-06-06T00:00:00\", \"kind\": \"prs\", \"count\": null}, {\"createdAt\": \"2021-06-13T00:00:00\", \"kind\": \"prs\", \"count\": null}, {\"createdAt\": \"2021-06-20T00:00:00\", \"kind\": \"prs\", \"count\": null}, {\"createdAt\": \"2021-06-27T00:00:00\", \"kind\": \"prs\", \"count\": null}, {\"createdAt\": \"2021-07-04T00:00:00\", \"kind\": \"prs\", \"count\": null}, {\"createdAt\": \"2021-07-11T00:00:00\", \"kind\": \"prs\", \"count\": null}, {\"createdAt\": \"2021-07-18T00:00:00\", \"kind\": \"prs\", \"count\": null}, {\"createdAt\": \"2021-07-25T00:00:00\", \"kind\": \"prs\", \"count\": null}, {\"createdAt\": \"2021-08-01T00:00:00\", \"kind\": \"prs\", \"count\": null}, {\"createdAt\": \"2021-08-08T00:00:00\", \"kind\": \"prs\", \"count\": null}, {\"createdAt\": \"2021-08-15T00:00:00\", \"kind\": \"prs\", \"count\": null}, {\"createdAt\": \"2021-08-22T00:00:00\", \"kind\": \"prs\", \"count\": null}, {\"createdAt\": \"2021-08-29T00:00:00\", \"kind\": \"prs\", \"count\": null}, {\"createdAt\": \"2021-09-05T00:00:00\", \"kind\": \"prs\", \"count\": null}, {\"createdAt\": \"2021-09-12T00:00:00\", \"kind\": \"prs\", \"count\": null}, {\"createdAt\": \"2021-09-19T00:00:00\", \"kind\": \"prs\", \"count\": null}, {\"createdAt\": \"2021-09-26T00:00:00\", \"kind\": \"prs\", \"count\": null}, {\"createdAt\": \"2021-10-03T00:00:00\", \"kind\": \"prs\", \"count\": null}, {\"createdAt\": \"2021-10-10T00:00:00\", \"kind\": \"prs\", \"count\": null}, {\"createdAt\": \"2021-10-17T00:00:00\", \"kind\": \"prs\", \"count\": null}, {\"createdAt\": \"2021-10-24T00:00:00\", \"kind\": \"prs\", \"count\": null}, {\"createdAt\": \"2021-10-31T00:00:00\", \"kind\": \"prs\", \"count\": null}, {\"createdAt\": \"2021-11-07T00:00:00\", \"kind\": \"prs\", \"count\": null}, {\"createdAt\": \"2021-11-14T00:00:00\", \"kind\": \"prs\", \"count\": null}, {\"createdAt\": \"2021-11-21T00:00:00\", \"kind\": \"prs\", \"count\": null}, {\"createdAt\": \"2021-11-28T00:00:00\", \"kind\": \"prs\", \"count\": null}, {\"createdAt\": \"2021-12-05T00:00:00\", \"kind\": \"prs\", \"count\": null}, {\"createdAt\": \"2021-12-12T00:00:00\", \"kind\": \"prs\", \"count\": null}, {\"createdAt\": \"2021-12-19T00:00:00\", \"kind\": \"prs\", \"count\": null}, {\"createdAt\": \"2021-12-26T00:00:00\", \"kind\": \"prs\", \"count\": null}, {\"createdAt\": \"2022-01-02T00:00:00\", \"kind\": \"prs\", \"count\": null}, {\"createdAt\": \"2022-01-09T00:00:00\", \"kind\": \"prs\", \"count\": null}, {\"createdAt\": \"2022-01-16T00:00:00\", \"kind\": \"prs\", \"count\": null}, {\"createdAt\": \"2022-01-23T00:00:00\", \"kind\": \"prs\", \"count\": null}, {\"createdAt\": \"2022-01-30T00:00:00\", \"kind\": \"prs\", \"count\": null}, {\"createdAt\": \"2022-02-06T00:00:00\", \"kind\": \"prs\", \"count\": null}, {\"createdAt\": \"2022-02-13T00:00:00\", \"kind\": \"prs\", \"count\": null}, {\"createdAt\": \"2022-02-20T00:00:00\", \"kind\": \"prs\", \"count\": null}, {\"createdAt\": \"2022-02-27T00:00:00\", \"kind\": \"prs\", \"count\": null}, {\"createdAt\": \"2022-03-06T00:00:00\", \"kind\": \"prs\", \"count\": null}, {\"createdAt\": \"2022-03-13T00:00:00\", \"kind\": \"prs\", \"count\": null}, {\"createdAt\": \"2022-03-20T00:00:00\", \"kind\": \"prs\", \"count\": null}, {\"createdAt\": \"2022-03-27T00:00:00\", \"kind\": \"prs\", \"count\": null}, {\"createdAt\": \"2022-04-03T00:00:00\", \"kind\": \"prs\", \"count\": null}, {\"createdAt\": \"2022-04-10T00:00:00\", \"kind\": \"prs\", \"count\": null}, {\"createdAt\": \"2022-04-17T00:00:00\", \"kind\": \"prs\", \"count\": null}, {\"createdAt\": \"2022-04-24T00:00:00\", \"kind\": \"prs\", \"count\": null}, {\"createdAt\": \"2022-05-01T00:00:00\", \"kind\": \"prs\", \"count\": null}, {\"createdAt\": \"2022-05-08T00:00:00\", \"kind\": \"prs\", \"count\": null}, {\"createdAt\": \"2022-05-15T00:00:00\", \"kind\": \"prs\", \"count\": null}, {\"createdAt\": \"2022-05-22T00:00:00\", \"kind\": \"prs\", \"count\": null}, {\"createdAt\": \"2022-05-29T00:00:00\", \"kind\": \"prs\", \"count\": null}, {\"createdAt\": \"2022-06-05T00:00:00\", \"kind\": \"prs\", \"count\": null}, {\"createdAt\": \"2022-06-12T00:00:00\", \"kind\": \"prs\", \"count\": null}, {\"createdAt\": \"2022-06-19T00:00:00\", \"kind\": \"prs\", \"count\": null}, {\"createdAt\": \"2022-06-26T00:00:00\", \"kind\": \"prs\", \"count\": null}, {\"createdAt\": \"2022-07-03T00:00:00\", \"kind\": \"prs\", \"count\": null}, {\"createdAt\": \"2022-07-10T00:00:00\", \"kind\": \"prs\", \"count\": null}, {\"createdAt\": \"2022-07-17T00:00:00\", \"kind\": \"prs\", \"count\": null}, {\"createdAt\": \"2022-07-24T00:00:00\", \"kind\": \"prs\", \"count\": null}, {\"createdAt\": \"2022-07-31T00:00:00\", \"kind\": \"prs\", \"count\": null}, {\"createdAt\": \"2022-08-07T00:00:00\", \"kind\": \"prs\", \"count\": null}, {\"createdAt\": \"2022-08-14T00:00:00\", \"kind\": \"prs\", \"count\": null}, {\"createdAt\": \"2022-08-21T00:00:00\", \"kind\": \"prs\", \"count\": null}, {\"createdAt\": \"2022-08-28T00:00:00\", \"kind\": \"prs\", \"count\": null}, {\"createdAt\": \"2022-09-04T00:00:00\", \"kind\": \"prs\", \"count\": null}, {\"createdAt\": \"2022-09-11T00:00:00\", \"kind\": \"prs\", \"count\": null}, {\"createdAt\": \"2022-09-18T00:00:00\", \"kind\": \"prs\", \"count\": null}, {\"createdAt\": \"2022-09-25T00:00:00\", \"kind\": \"prs\", \"count\": null}, {\"createdAt\": \"2022-10-02T00:00:00\", \"kind\": \"prs\", \"count\": null}, {\"createdAt\": \"2022-10-09T00:00:00\", \"kind\": \"prs\", \"count\": null}, {\"createdAt\": \"2022-10-16T00:00:00\", \"kind\": \"prs\", \"count\": null}, {\"createdAt\": \"2022-10-23T00:00:00\", \"kind\": \"prs\", \"count\": null}, {\"createdAt\": \"2022-10-30T00:00:00\", \"kind\": \"prs\", \"count\": null}, {\"createdAt\": \"2022-11-06T00:00:00\", \"kind\": \"prs\", \"count\": null}, {\"createdAt\": \"2022-11-13T00:00:00\", \"kind\": \"prs\", \"count\": null}, {\"createdAt\": \"2022-11-20T00:00:00\", \"kind\": \"prs\", \"count\": null}, {\"createdAt\": \"2022-11-27T00:00:00\", \"kind\": \"prs\", \"count\": null}, {\"createdAt\": \"2022-12-04T00:00:00\", \"kind\": \"prs\", \"count\": null}, {\"createdAt\": \"2022-12-11T00:00:00\", \"kind\": \"prs\", \"count\": null}, {\"createdAt\": \"2022-12-18T00:00:00\", \"kind\": \"prs\", \"count\": null}, {\"createdAt\": \"2022-12-25T00:00:00\", \"kind\": \"prs\", \"count\": null}, {\"createdAt\": \"2023-01-01T00:00:00\", \"kind\": \"prs\", \"count\": null}, {\"createdAt\": \"2023-01-08T00:00:00\", \"kind\": \"prs\", \"count\": null}, {\"createdAt\": \"2023-01-15T00:00:00\", \"kind\": \"prs\", \"count\": null}, {\"createdAt\": \"2023-01-22T00:00:00\", \"kind\": \"comments\", \"count\": 4.0}, {\"createdAt\": \"2023-01-29T00:00:00\", \"kind\": \"comments\", \"count\": 2.0}, {\"createdAt\": \"2023-02-05T00:00:00\", \"kind\": \"comments\", \"count\": 1.0}, {\"createdAt\": \"2023-02-12T00:00:00\", \"kind\": \"comments\", \"count\": 1.0}, {\"createdAt\": \"2023-02-19T00:00:00\", \"kind\": \"comments\", \"count\": 5.0}, {\"createdAt\": \"2020-02-23T00:00:00\", \"kind\": \"comments\", \"count\": 2.0}, {\"createdAt\": \"2020-03-01T00:00:00\", \"kind\": \"comments\", \"count\": 0.0}, {\"createdAt\": \"2020-03-08T00:00:00\", \"kind\": \"comments\", \"count\": 0.0}, {\"createdAt\": \"2020-03-15T00:00:00\", \"kind\": \"comments\", \"count\": 0.0}, {\"createdAt\": \"2020-03-22T00:00:00\", \"kind\": \"comments\", \"count\": 0.0}, {\"createdAt\": \"2020-03-29T00:00:00\", \"kind\": \"comments\", \"count\": 0.0}, {\"createdAt\": \"2020-04-05T00:00:00\", \"kind\": \"comments\", \"count\": 0.0}, {\"createdAt\": \"2020-04-12T00:00:00\", \"kind\": \"comments\", \"count\": 0.0}, {\"createdAt\": \"2020-04-19T00:00:00\", \"kind\": \"comments\", \"count\": 0.0}, {\"createdAt\": \"2020-04-26T00:00:00\", \"kind\": \"comments\", \"count\": 0.0}, {\"createdAt\": \"2020-05-03T00:00:00\", \"kind\": \"comments\", \"count\": 0.0}, {\"createdAt\": \"2020-05-10T00:00:00\", \"kind\": \"comments\", \"count\": 0.0}, {\"createdAt\": \"2020-05-17T00:00:00\", \"kind\": \"comments\", \"count\": 0.0}, {\"createdAt\": \"2020-05-24T00:00:00\", \"kind\": \"comments\", \"count\": 0.0}, {\"createdAt\": \"2020-05-31T00:00:00\", \"kind\": \"comments\", \"count\": 0.0}, {\"createdAt\": \"2020-06-07T00:00:00\", \"kind\": \"comments\", \"count\": 0.0}, {\"createdAt\": \"2020-06-14T00:00:00\", \"kind\": \"comments\", \"count\": 0.0}, {\"createdAt\": \"2020-06-21T00:00:00\", \"kind\": \"comments\", \"count\": 0.0}, {\"createdAt\": \"2020-06-28T00:00:00\", \"kind\": \"comments\", \"count\": 0.0}, {\"createdAt\": \"2020-07-05T00:00:00\", \"kind\": \"comments\", \"count\": 0.0}, {\"createdAt\": \"2020-07-12T00:00:00\", \"kind\": \"comments\", \"count\": 0.0}, {\"createdAt\": \"2020-07-19T00:00:00\", \"kind\": \"comments\", \"count\": 0.0}, {\"createdAt\": \"2020-07-26T00:00:00\", \"kind\": \"comments\", \"count\": 0.0}, {\"createdAt\": \"2020-08-02T00:00:00\", \"kind\": \"comments\", \"count\": 0.0}, {\"createdAt\": \"2020-08-09T00:00:00\", \"kind\": \"comments\", \"count\": 0.0}, {\"createdAt\": \"2020-08-16T00:00:00\", \"kind\": \"comments\", \"count\": 0.0}, {\"createdAt\": \"2020-08-23T00:00:00\", \"kind\": \"comments\", \"count\": 0.0}, {\"createdAt\": \"2020-08-30T00:00:00\", \"kind\": \"comments\", \"count\": 0.0}, {\"createdAt\": \"2020-09-06T00:00:00\", \"kind\": \"comments\", \"count\": 0.0}, {\"createdAt\": \"2020-09-13T00:00:00\", \"kind\": \"comments\", \"count\": 0.0}, {\"createdAt\": \"2020-09-20T00:00:00\", \"kind\": \"comments\", \"count\": 0.0}, {\"createdAt\": \"2020-09-27T00:00:00\", \"kind\": \"comments\", \"count\": 0.0}, {\"createdAt\": \"2020-10-04T00:00:00\", \"kind\": \"comments\", \"count\": 0.0}, {\"createdAt\": \"2020-10-11T00:00:00\", \"kind\": \"comments\", \"count\": 0.0}, {\"createdAt\": \"2020-10-18T00:00:00\", \"kind\": \"comments\", \"count\": 0.0}, {\"createdAt\": \"2020-10-25T00:00:00\", \"kind\": \"comments\", \"count\": 0.0}, {\"createdAt\": \"2020-11-01T00:00:00\", \"kind\": \"comments\", \"count\": 0.0}, {\"createdAt\": \"2020-11-08T00:00:00\", \"kind\": \"comments\", \"count\": 0.0}, {\"createdAt\": \"2020-11-15T00:00:00\", \"kind\": \"comments\", \"count\": 0.0}, {\"createdAt\": \"2020-11-22T00:00:00\", \"kind\": \"comments\", \"count\": 0.0}, {\"createdAt\": \"2020-11-29T00:00:00\", \"kind\": \"comments\", \"count\": 0.0}, {\"createdAt\": \"2020-12-06T00:00:00\", \"kind\": \"comments\", \"count\": 0.0}, {\"createdAt\": \"2020-12-13T00:00:00\", \"kind\": \"comments\", \"count\": 0.0}, {\"createdAt\": \"2020-12-20T00:00:00\", \"kind\": \"comments\", \"count\": 0.0}, {\"createdAt\": \"2020-12-27T00:00:00\", \"kind\": \"comments\", \"count\": 0.0}, {\"createdAt\": \"2021-01-03T00:00:00\", \"kind\": \"comments\", \"count\": 0.0}, {\"createdAt\": \"2021-01-10T00:00:00\", \"kind\": \"comments\", \"count\": 0.0}, {\"createdAt\": \"2021-01-17T00:00:00\", \"kind\": \"comments\", \"count\": 0.0}, {\"createdAt\": \"2021-01-24T00:00:00\", \"kind\": \"comments\", \"count\": 0.0}, {\"createdAt\": \"2021-01-31T00:00:00\", \"kind\": \"comments\", \"count\": 0.0}, {\"createdAt\": \"2021-02-07T00:00:00\", \"kind\": \"comments\", \"count\": 0.0}, {\"createdAt\": \"2021-02-14T00:00:00\", \"kind\": \"comments\", \"count\": 0.0}, {\"createdAt\": \"2021-02-21T00:00:00\", \"kind\": \"comments\", \"count\": 0.0}, {\"createdAt\": \"2021-02-28T00:00:00\", \"kind\": \"comments\", \"count\": 0.0}, {\"createdAt\": \"2021-03-07T00:00:00\", \"kind\": \"comments\", \"count\": 0.0}, {\"createdAt\": \"2021-03-14T00:00:00\", \"kind\": \"comments\", \"count\": 0.0}, {\"createdAt\": \"2021-03-21T00:00:00\", \"kind\": \"comments\", \"count\": 0.0}, {\"createdAt\": \"2021-03-28T00:00:00\", \"kind\": \"comments\", \"count\": 0.0}, {\"createdAt\": \"2021-04-04T00:00:00\", \"kind\": \"comments\", \"count\": 0.0}, {\"createdAt\": \"2021-04-11T00:00:00\", \"kind\": \"comments\", \"count\": 0.0}, {\"createdAt\": \"2021-04-18T00:00:00\", \"kind\": \"comments\", \"count\": 0.0}, {\"createdAt\": \"2021-04-25T00:00:00\", \"kind\": \"comments\", \"count\": 0.0}, {\"createdAt\": \"2021-05-02T00:00:00\", \"kind\": \"comments\", \"count\": 0.0}, {\"createdAt\": \"2021-05-09T00:00:00\", \"kind\": \"comments\", \"count\": 0.0}, {\"createdAt\": \"2021-05-16T00:00:00\", \"kind\": \"comments\", \"count\": 0.0}, {\"createdAt\": \"2021-05-23T00:00:00\", \"kind\": \"comments\", \"count\": 0.0}, {\"createdAt\": \"2021-05-30T00:00:00\", \"kind\": \"comments\", \"count\": 0.0}, {\"createdAt\": \"2021-06-06T00:00:00\", \"kind\": \"comments\", \"count\": 0.0}, {\"createdAt\": \"2021-06-13T00:00:00\", \"kind\": \"comments\", \"count\": 0.0}, {\"createdAt\": \"2021-06-20T00:00:00\", \"kind\": \"comments\", \"count\": 0.0}, {\"createdAt\": \"2021-06-27T00:00:00\", \"kind\": \"comments\", \"count\": 0.0}, {\"createdAt\": \"2021-07-04T00:00:00\", \"kind\": \"comments\", \"count\": 0.0}, {\"createdAt\": \"2021-07-11T00:00:00\", \"kind\": \"comments\", \"count\": 0.0}, {\"createdAt\": \"2021-07-18T00:00:00\", \"kind\": \"comments\", \"count\": 0.0}, {\"createdAt\": \"2021-07-25T00:00:00\", \"kind\": \"comments\", \"count\": 0.0}, {\"createdAt\": \"2021-08-01T00:00:00\", \"kind\": \"comments\", \"count\": 1.0}, {\"createdAt\": \"2021-08-08T00:00:00\", \"kind\": \"comments\", \"count\": 0.0}, {\"createdAt\": \"2021-08-15T00:00:00\", \"kind\": \"comments\", \"count\": 0.0}, {\"createdAt\": \"2021-08-22T00:00:00\", \"kind\": \"comments\", \"count\": 0.0}, {\"createdAt\": \"2021-08-29T00:00:00\", \"kind\": \"comments\", \"count\": 0.0}, {\"createdAt\": \"2021-09-05T00:00:00\", \"kind\": \"comments\", \"count\": 0.0}, {\"createdAt\": \"2021-09-12T00:00:00\", \"kind\": \"comments\", \"count\": 0.0}, {\"createdAt\": \"2021-09-19T00:00:00\", \"kind\": \"comments\", \"count\": 0.0}, {\"createdAt\": \"2021-09-26T00:00:00\", \"kind\": \"comments\", \"count\": 0.0}, {\"createdAt\": \"2021-10-03T00:00:00\", \"kind\": \"comments\", \"count\": 0.0}, {\"createdAt\": \"2021-10-10T00:00:00\", \"kind\": \"comments\", \"count\": 0.0}, {\"createdAt\": \"2021-10-17T00:00:00\", \"kind\": \"comments\", \"count\": 0.0}, {\"createdAt\": \"2021-10-24T00:00:00\", \"kind\": \"comments\", \"count\": 0.0}, {\"createdAt\": \"2021-10-31T00:00:00\", \"kind\": \"comments\", \"count\": 0.0}, {\"createdAt\": \"2021-11-07T00:00:00\", \"kind\": \"comments\", \"count\": 0.0}, {\"createdAt\": \"2021-11-14T00:00:00\", \"kind\": \"comments\", \"count\": 0.0}, {\"createdAt\": \"2021-11-21T00:00:00\", \"kind\": \"comments\", \"count\": 0.0}, {\"createdAt\": \"2021-11-28T00:00:00\", \"kind\": \"comments\", \"count\": 0.0}, {\"createdAt\": \"2021-12-05T00:00:00\", \"kind\": \"comments\", \"count\": 0.0}, {\"createdAt\": \"2021-12-12T00:00:00\", \"kind\": \"comments\", \"count\": 0.0}, {\"createdAt\": \"2021-12-19T00:00:00\", \"kind\": \"comments\", \"count\": 0.0}, {\"createdAt\": \"2021-12-26T00:00:00\", \"kind\": \"comments\", \"count\": 0.0}, {\"createdAt\": \"2022-01-02T00:00:00\", \"kind\": \"comments\", \"count\": 0.0}, {\"createdAt\": \"2022-01-09T00:00:00\", \"kind\": \"comments\", \"count\": 0.0}, {\"createdAt\": \"2022-01-16T00:00:00\", \"kind\": \"comments\", \"count\": 0.0}, {\"createdAt\": \"2022-01-23T00:00:00\", \"kind\": \"comments\", \"count\": 0.0}, {\"createdAt\": \"2022-01-30T00:00:00\", \"kind\": \"comments\", \"count\": 0.0}, {\"createdAt\": \"2022-02-06T00:00:00\", \"kind\": \"comments\", \"count\": 0.0}, {\"createdAt\": \"2022-02-13T00:00:00\", \"kind\": \"comments\", \"count\": 0.0}, {\"createdAt\": \"2022-02-20T00:00:00\", \"kind\": \"comments\", \"count\": 0.0}, {\"createdAt\": \"2022-02-27T00:00:00\", \"kind\": \"comments\", \"count\": 0.0}, {\"createdAt\": \"2022-03-06T00:00:00\", \"kind\": \"comments\", \"count\": 0.0}, {\"createdAt\": \"2022-03-13T00:00:00\", \"kind\": \"comments\", \"count\": 0.0}, {\"createdAt\": \"2022-03-20T00:00:00\", \"kind\": \"comments\", \"count\": 0.0}, {\"createdAt\": \"2022-03-27T00:00:00\", \"kind\": \"comments\", \"count\": 0.0}, {\"createdAt\": \"2022-04-03T00:00:00\", \"kind\": \"comments\", \"count\": 0.0}, {\"createdAt\": \"2022-04-10T00:00:00\", \"kind\": \"comments\", \"count\": 0.0}, {\"createdAt\": \"2022-04-17T00:00:00\", \"kind\": \"comments\", \"count\": 0.0}, {\"createdAt\": \"2022-04-24T00:00:00\", \"kind\": \"comments\", \"count\": 0.0}, {\"createdAt\": \"2022-05-01T00:00:00\", \"kind\": \"comments\", \"count\": 0.0}, {\"createdAt\": \"2022-05-08T00:00:00\", \"kind\": \"comments\", \"count\": 0.0}, {\"createdAt\": \"2022-05-15T00:00:00\", \"kind\": \"comments\", \"count\": 0.0}, {\"createdAt\": \"2022-05-22T00:00:00\", \"kind\": \"comments\", \"count\": 0.0}, {\"createdAt\": \"2022-05-29T00:00:00\", \"kind\": \"comments\", \"count\": 0.0}, {\"createdAt\": \"2022-06-05T00:00:00\", \"kind\": \"comments\", \"count\": 0.0}, {\"createdAt\": \"2022-06-12T00:00:00\", \"kind\": \"comments\", \"count\": 0.0}, {\"createdAt\": \"2022-06-19T00:00:00\", \"kind\": \"comments\", \"count\": 0.0}, {\"createdAt\": \"2022-06-26T00:00:00\", \"kind\": \"comments\", \"count\": 0.0}, {\"createdAt\": \"2022-07-03T00:00:00\", \"kind\": \"comments\", \"count\": 0.0}, {\"createdAt\": \"2022-07-10T00:00:00\", \"kind\": \"comments\", \"count\": 0.0}, {\"createdAt\": \"2022-07-17T00:00:00\", \"kind\": \"comments\", \"count\": 0.0}, {\"createdAt\": \"2022-07-24T00:00:00\", \"kind\": \"comments\", \"count\": 1.0}, {\"createdAt\": \"2022-07-31T00:00:00\", \"kind\": \"comments\", \"count\": 0.0}, {\"createdAt\": \"2022-08-07T00:00:00\", \"kind\": \"comments\", \"count\": 0.0}, {\"createdAt\": \"2022-08-14T00:00:00\", \"kind\": \"comments\", \"count\": 0.0}, {\"createdAt\": \"2022-08-21T00:00:00\", \"kind\": \"comments\", \"count\": 0.0}, {\"createdAt\": \"2022-08-28T00:00:00\", \"kind\": \"comments\", \"count\": 0.0}, {\"createdAt\": \"2022-09-04T00:00:00\", \"kind\": \"comments\", \"count\": 0.0}, {\"createdAt\": \"2022-09-11T00:00:00\", \"kind\": \"comments\", \"count\": 0.0}, {\"createdAt\": \"2022-09-18T00:00:00\", \"kind\": \"comments\", \"count\": 0.0}, {\"createdAt\": \"2022-09-25T00:00:00\", \"kind\": \"comments\", \"count\": 0.0}, {\"createdAt\": \"2022-10-02T00:00:00\", \"kind\": \"comments\", \"count\": 0.0}, {\"createdAt\": \"2022-10-09T00:00:00\", \"kind\": \"comments\", \"count\": 4.0}, {\"createdAt\": \"2022-10-16T00:00:00\", \"kind\": \"comments\", \"count\": 1.0}, {\"createdAt\": \"2022-10-23T00:00:00\", \"kind\": \"comments\", \"count\": 0.0}, {\"createdAt\": \"2022-10-30T00:00:00\", \"kind\": \"comments\", \"count\": 0.0}, {\"createdAt\": \"2022-11-06T00:00:00\", \"kind\": \"comments\", \"count\": 0.0}, {\"createdAt\": \"2022-11-13T00:00:00\", \"kind\": \"comments\", \"count\": 3.0}, {\"createdAt\": \"2022-11-20T00:00:00\", \"kind\": \"comments\", \"count\": 1.0}, {\"createdAt\": \"2022-11-27T00:00:00\", \"kind\": \"comments\", \"count\": 5.0}, {\"createdAt\": \"2022-12-04T00:00:00\", \"kind\": \"comments\", \"count\": 6.0}, {\"createdAt\": \"2022-12-11T00:00:00\", \"kind\": \"comments\", \"count\": 4.0}, {\"createdAt\": \"2022-12-18T00:00:00\", \"kind\": \"comments\", \"count\": 1.0}, {\"createdAt\": \"2022-12-25T00:00:00\", \"kind\": \"comments\", \"count\": 2.0}, {\"createdAt\": \"2023-01-01T00:00:00\", \"kind\": \"comments\", \"count\": 0.0}, {\"createdAt\": \"2023-01-08T00:00:00\", \"kind\": \"comments\", \"count\": 1.0}, {\"createdAt\": \"2023-01-15T00:00:00\", \"kind\": \"comments\", \"count\": 3.0}]}}, {\"mode\": \"vega-lite\"});\n",
       "</script>"
      ],
      "text/plain": [
       "alt.Chart(...)"
      ]
     },
     "execution_count": 18,
     "metadata": {},
     "output_type": "execute_result"
    }
   ],
   "source": [
    "alt.Chart(total_time, width=600).mark_line().encode(\n",
    "    x='createdAt',\n",
    "    y='count',\n",
    "    color='kind'\n",
    ")"
   ]
  },
  {
   "cell_type": "code",
   "execution_count": null,
   "id": "986216ba",
   "metadata": {
    "papermill": {
     "duration": 0.008267,
     "end_time": "2023-03-06T14:44:38.859430",
     "exception": false,
     "start_time": "2023-03-06T14:44:38.851163",
     "status": "completed"
    },
    "tags": []
   },
   "outputs": [],
   "source": []
  },
  {
   "cell_type": "code",
   "execution_count": null,
   "id": "7333addb",
   "metadata": {
    "papermill": {
     "duration": 0.005751,
     "end_time": "2023-03-06T14:44:38.870913",
     "exception": false,
     "start_time": "2023-03-06T14:44:38.865162",
     "status": "completed"
    },
    "tags": []
   },
   "outputs": [],
   "source": []
  }
 ],
 "metadata": {
  "kernelspec": {
   "display_name": "Python 3 (ipykernel)",
   "language": "python",
   "name": "python3"
  },
  "language_info": {
   "codemirror_mode": {
    "name": "ipython",
    "version": 3
   },
   "file_extension": ".py",
   "mimetype": "text/x-python",
   "name": "python",
   "nbconvert_exporter": "python",
   "pygments_lexer": "ipython3",
   "version": "3.9.16"
  },
  "papermill": {
   "default_parameters": {},
   "duration": 3.101312,
   "end_time": "2023-03-06T14:44:39.296175",
   "environment_variables": {},
   "exception": null,
   "input_path": "./templates/person_report.ipynb",
   "output_path": "generated/people/AakashGfude.ipynb",
   "parameters": {
    "n_days": 90,
    "person": "AakashGfude"
   },
   "start_time": "2023-03-06T14:44:36.194863",
   "version": "2.4.0"
  },
  "widgets": {
   "application/vnd.jupyter.widget-state+json": {
    "state": {},
    "version_major": 2,
    "version_minor": 0
   }
  }
 },
 "nbformat": 4,
 "nbformat_minor": 5
}