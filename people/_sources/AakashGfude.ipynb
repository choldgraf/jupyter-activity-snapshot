{
 "cells": [
  {
   "cell_type": "markdown",
   "id": "89094838",
   "metadata": {
    "papermill": {
     "duration": 0.015786,
     "end_time": "2021-09-28T01:33:11.269861",
     "exception": false,
     "start_time": "2021-09-28T01:33:11.254075",
     "status": "completed"
    },
    "tags": []
   },
   "source": [
    "# Report for AakashGfude"
   ]
  },
  {
   "cell_type": "code",
   "execution_count": 1,
   "id": "09b1556f",
   "metadata": {
    "execution": {
     "iopub.execute_input": "2021-09-28T01:33:11.312884Z",
     "iopub.status.busy": "2021-09-28T01:33:11.312315Z",
     "iopub.status.idle": "2021-09-28T01:33:12.427932Z",
     "shell.execute_reply": "2021-09-28T01:33:12.426984Z"
    },
    "papermill": {
     "duration": 1.140873,
     "end_time": "2021-09-28T01:33:12.428149",
     "exception": false,
     "start_time": "2021-09-28T01:33:11.287276",
     "status": "completed"
    },
    "tags": [
     "remove_cell"
    ]
   },
   "outputs": [],
   "source": [
    "import seaborn as sns\n",
    "import pandas as pd\n",
    "import numpy as np\n",
    "import altair as alt\n",
    "from markdown import markdown\n",
    "from IPython.display import Markdown\n",
    "from ipywidgets.widgets import HTML, Tab\n",
    "from ipywidgets import widgets\n",
    "from datetime import timedelta\n",
    "from matplotlib import pyplot as plt\n",
    "import os.path as op\n",
    "\n",
    "from mycode import alt_theme\n",
    "from warnings import simplefilter\n",
    "simplefilter('ignore')"
   ]
  },
  {
   "cell_type": "code",
   "execution_count": 2,
   "id": "506ab209",
   "metadata": {
    "execution": {
     "iopub.execute_input": "2021-09-28T01:33:12.467007Z",
     "iopub.status.busy": "2021-09-28T01:33:12.466404Z",
     "iopub.status.idle": "2021-09-28T01:33:12.469221Z",
     "shell.execute_reply": "2021-09-28T01:33:12.468578Z"
    },
    "papermill": {
     "duration": 0.022948,
     "end_time": "2021-09-28T01:33:12.469414",
     "exception": false,
     "start_time": "2021-09-28T01:33:12.446466",
     "status": "completed"
    },
    "tags": [
     "remove_cell"
    ]
   },
   "outputs": [],
   "source": [
    "def author_url(author):\n",
    "    return f\"https://github.com/{author}\""
   ]
  },
  {
   "cell_type": "code",
   "execution_count": 3,
   "id": "7913f2ef",
   "metadata": {
    "execution": {
     "iopub.execute_input": "2021-09-28T01:33:12.506717Z",
     "iopub.status.busy": "2021-09-28T01:33:12.505991Z",
     "iopub.status.idle": "2021-09-28T01:33:12.509038Z",
     "shell.execute_reply": "2021-09-28T01:33:12.509599Z"
    },
    "papermill": {
     "duration": 0.02511,
     "end_time": "2021-09-28T01:33:12.509916",
     "exception": false,
     "start_time": "2021-09-28T01:33:12.484806",
     "status": "completed"
    },
    "tags": [
     "parameters",
     "hide_input"
    ]
   },
   "outputs": [],
   "source": [
    "# Parameters\n",
    "fmt_date = \"{:%Y-%m-%d}\"\n",
    "\n",
    "n_days = 30 * 2\n",
    "start_date = fmt_date.format(pd.datetime.today() - timedelta(days=n_days))\n",
    "end_date = fmt_date.format(pd.datetime.today())\n",
    "\n",
    "renderer = \"html\"\n",
    "person = \"jasongrout\""
   ]
  },
  {
   "cell_type": "code",
   "execution_count": 4,
   "id": "af2c849d",
   "metadata": {
    "execution": {
     "iopub.execute_input": "2021-09-28T01:33:12.550372Z",
     "iopub.status.busy": "2021-09-28T01:33:12.549629Z",
     "iopub.status.idle": "2021-09-28T01:33:12.553735Z",
     "shell.execute_reply": "2021-09-28T01:33:12.554264Z"
    },
    "papermill": {
     "duration": 0.02807,
     "end_time": "2021-09-28T01:33:12.554498",
     "exception": false,
     "start_time": "2021-09-28T01:33:12.526428",
     "status": "completed"
    },
    "tags": [
     "injected-parameters",
     "remove-cell"
    ]
   },
   "outputs": [],
   "source": [
    "# Parameters\n",
    "person = \"AakashGfude\"\n",
    "n_days = 60\n"
   ]
  },
  {
   "cell_type": "code",
   "execution_count": 5,
   "id": "6b6a81aa",
   "metadata": {
    "execution": {
     "iopub.execute_input": "2021-09-28T01:33:12.598991Z",
     "iopub.status.busy": "2021-09-28T01:33:12.598199Z",
     "iopub.status.idle": "2021-09-28T01:33:12.601569Z",
     "shell.execute_reply": "2021-09-28T01:33:12.602302Z"
    },
    "papermill": {
     "duration": 0.028816,
     "end_time": "2021-09-28T01:33:12.602496",
     "exception": false,
     "start_time": "2021-09-28T01:33:12.573680",
     "status": "completed"
    },
    "tags": [
     "remove_cell"
    ]
   },
   "outputs": [
    {
     "data": {
      "text/plain": [
       "ThemeRegistry.enable('my_theme')"
      ]
     },
     "execution_count": 5,
     "metadata": {},
     "output_type": "execute_result"
    }
   ],
   "source": [
    "alt.renderers.enable(renderer);\n",
    "alt.themes.register('my_theme', alt_theme)\n",
    "alt.themes.enable(\"my_theme\")"
   ]
  },
  {
   "cell_type": "markdown",
   "id": "fe94d187",
   "metadata": {
    "papermill": {
     "duration": 0.017108,
     "end_time": "2021-09-28T01:33:12.636521",
     "exception": false,
     "start_time": "2021-09-28T01:33:12.619413",
     "status": "completed"
    },
    "tags": []
   },
   "source": [
    "## Load data"
   ]
  },
  {
   "cell_type": "code",
   "execution_count": 6,
   "id": "c4d4a91a",
   "metadata": {
    "execution": {
     "iopub.execute_input": "2021-09-28T01:33:12.675204Z",
     "iopub.status.busy": "2021-09-28T01:33:12.674498Z",
     "iopub.status.idle": "2021-09-28T01:33:12.865868Z",
     "shell.execute_reply": "2021-09-28T01:33:12.865265Z"
    },
    "papermill": {
     "duration": 0.211731,
     "end_time": "2021-09-28T01:33:12.866062",
     "exception": false,
     "start_time": "2021-09-28T01:33:12.654331",
     "status": "completed"
    },
    "tags": [
     "remove_cell"
    ]
   },
   "outputs": [],
   "source": [
    "from pathlib import Path\n",
    "path_data = Path(\"./\")\n",
    "comments = pd.read_csv(path_data.joinpath('comments.csv'), index_col=0)\n",
    "issues = pd.read_csv(path_data.joinpath('issues.csv'), index_col=0)\n",
    "prs = pd.read_csv(path_data.joinpath('prs.csv'), index_col=0)\n",
    "\n",
    "comments = comments.query('author == @person').drop_duplicates()\n",
    "issues = issues.query('author == @person').drop_duplicates()\n",
    "closed_by = prs.query('mergedBy == @person')\n",
    "prs = prs.query('author == @person').drop_duplicates()"
   ]
  },
  {
   "cell_type": "code",
   "execution_count": 7,
   "id": "a3b6db6e",
   "metadata": {
    "execution": {
     "iopub.execute_input": "2021-09-28T01:33:12.960007Z",
     "iopub.status.busy": "2021-09-28T01:33:12.948516Z",
     "iopub.status.idle": "2021-09-28T01:33:12.969478Z",
     "shell.execute_reply": "2021-09-28T01:33:12.968670Z"
    },
    "papermill": {
     "duration": 0.084909,
     "end_time": "2021-09-28T01:33:12.969684",
     "exception": false,
     "start_time": "2021-09-28T01:33:12.884775",
     "status": "completed"
    },
    "tags": [
     "remove_cell"
    ]
   },
   "outputs": [],
   "source": [
    "# Time columns\n",
    "# Also drop dates outside of our range\n",
    "time_columns = ['updatedAt', 'createdAt', 'closedAt']\n",
    "for col in time_columns:\n",
    "    for item in [comments, issues, prs, closed_by]:\n",
    "        if col not in item.columns:\n",
    "            continue\n",
    "        dt = pd.to_datetime(item[col]).dt.tz_localize(None)\n",
    "        item[col] = dt\n",
    "        item.query(\"updatedAt < @end_date and updatedAt > @start_date\", inplace=True)"
   ]
  },
  {
   "cell_type": "markdown",
   "id": "c7ff0891",
   "metadata": {
    "papermill": {
     "duration": 0.017474,
     "end_time": "2021-09-28T01:33:13.004567",
     "exception": false,
     "start_time": "2021-09-28T01:33:12.987093",
     "status": "completed"
    },
    "tags": []
   },
   "source": [
    "## Repository summaries"
   ]
  },
  {
   "cell_type": "code",
   "execution_count": 8,
   "id": "e090b28d",
   "metadata": {
    "execution": {
     "iopub.execute_input": "2021-09-28T01:33:13.057087Z",
     "iopub.status.busy": "2021-09-28T01:33:13.053438Z",
     "iopub.status.idle": "2021-09-28T01:33:13.070207Z",
     "shell.execute_reply": "2021-09-28T01:33:13.070738Z"
    },
    "papermill": {
     "duration": 0.047499,
     "end_time": "2021-09-28T01:33:13.070938",
     "exception": false,
     "start_time": "2021-09-28T01:33:13.023439",
     "status": "completed"
    },
    "tags": [
     "remove_cell"
    ]
   },
   "outputs": [],
   "source": [
    "summaries = []\n",
    "for idata, name in [(issues, 'issues'), (prs, 'prs'), (comments, 'comments')]:\n",
    "    idata = idata.groupby([\"repo\", \"org\"]).agg({'id': \"count\"}).reset_index().rename(columns={'id': 'count'})\n",
    "    idata[\"kind\"] = name\n",
    "    summaries.append(idata)\n",
    "summaries = pd.concat(summaries)"
   ]
  },
  {
   "cell_type": "code",
   "execution_count": 9,
   "id": "f53772fb",
   "metadata": {
    "execution": {
     "iopub.execute_input": "2021-09-28T01:33:13.110801Z",
     "iopub.status.busy": "2021-09-28T01:33:13.109957Z",
     "iopub.status.idle": "2021-09-28T01:33:13.123807Z",
     "shell.execute_reply": "2021-09-28T01:33:13.124415Z"
    },
    "papermill": {
     "duration": 0.036084,
     "end_time": "2021-09-28T01:33:13.124607",
     "exception": false,
     "start_time": "2021-09-28T01:33:13.088523",
     "status": "completed"
    },
    "tags": [
     "remove_cell"
    ]
   },
   "outputs": [],
   "source": [
    "repo_summaries = summaries.groupby([\"repo\", \"kind\"]).agg({\"count\": \"sum\"}).reset_index()\n",
    "org_summaries = summaries.groupby([\"org\", \"kind\"]).agg({\"count\": \"sum\"}).reset_index()"
   ]
  },
  {
   "cell_type": "code",
   "execution_count": 10,
   "id": "bfd9fd50",
   "metadata": {
    "execution": {
     "iopub.execute_input": "2021-09-28T01:33:13.169852Z",
     "iopub.status.busy": "2021-09-28T01:33:13.166208Z",
     "iopub.status.idle": "2021-09-28T01:33:13.171987Z",
     "shell.execute_reply": "2021-09-28T01:33:13.172534Z"
    },
    "papermill": {
     "duration": 0.028967,
     "end_time": "2021-09-28T01:33:13.172701",
     "exception": false,
     "start_time": "2021-09-28T01:33:13.143734",
     "status": "completed"
    },
    "tags": [
     "remove_cell"
    ]
   },
   "outputs": [],
   "source": [
    "repo_summaries['logcount'] = np.log(repo_summaries[\"count\"])"
   ]
  },
  {
   "cell_type": "code",
   "execution_count": 11,
   "id": "1432b633",
   "metadata": {
    "execution": {
     "iopub.execute_input": "2021-09-28T01:33:13.223570Z",
     "iopub.status.busy": "2021-09-28T01:33:13.218260Z",
     "iopub.status.idle": "2021-09-28T01:33:13.266171Z",
     "shell.execute_reply": "2021-09-28T01:33:13.267032Z"
    },
    "papermill": {
     "duration": 0.078353,
     "end_time": "2021-09-28T01:33:13.267200",
     "exception": false,
     "start_time": "2021-09-28T01:33:13.188847",
     "status": "completed"
    },
    "tags": [
     "hide_input"
    ]
   },
   "outputs": [
    {
     "data": {
      "text/html": [
       "\n",
       "<div id=\"altair-viz-8bfc5175c22b4f68888a6573d5b77576\"></div>\n",
       "<script type=\"text/javascript\">\n",
       "  (function(spec, embedOpt){\n",
       "    let outputDiv = document.currentScript.previousElementSibling;\n",
       "    if (outputDiv.id !== \"altair-viz-8bfc5175c22b4f68888a6573d5b77576\") {\n",
       "      outputDiv = document.getElementById(\"altair-viz-8bfc5175c22b4f68888a6573d5b77576\");\n",
       "    }\n",
       "    const paths = {\n",
       "      \"vega\": \"https://cdn.jsdelivr.net/npm//vega@5?noext\",\n",
       "      \"vega-lib\": \"https://cdn.jsdelivr.net/npm//vega-lib?noext\",\n",
       "      \"vega-lite\": \"https://cdn.jsdelivr.net/npm//vega-lite@4.8.1?noext\",\n",
       "      \"vega-embed\": \"https://cdn.jsdelivr.net/npm//vega-embed@6?noext\",\n",
       "    };\n",
       "\n",
       "    function loadScript(lib) {\n",
       "      return new Promise(function(resolve, reject) {\n",
       "        var s = document.createElement('script');\n",
       "        s.src = paths[lib];\n",
       "        s.async = true;\n",
       "        s.onload = () => resolve(paths[lib]);\n",
       "        s.onerror = () => reject(`Error loading script: ${paths[lib]}`);\n",
       "        document.getElementsByTagName(\"head\")[0].appendChild(s);\n",
       "      });\n",
       "    }\n",
       "\n",
       "    function showError(err) {\n",
       "      outputDiv.innerHTML = `<div class=\"error\" style=\"color:red;\">${err}</div>`;\n",
       "      throw err;\n",
       "    }\n",
       "\n",
       "    function displayChart(vegaEmbed) {\n",
       "      vegaEmbed(outputDiv, spec, embedOpt)\n",
       "        .catch(err => showError(`Javascript Error: ${err.message}<br>This usually means there's a typo in your chart specification. See the javascript console for the full traceback.`));\n",
       "    }\n",
       "\n",
       "    if(typeof define === \"function\" && define.amd) {\n",
       "      requirejs.config({paths});\n",
       "      require([\"vega-embed\"], displayChart, err => showError(`Error loading script: ${err.message}`));\n",
       "    } else if (typeof vegaEmbed === \"function\") {\n",
       "      displayChart(vegaEmbed);\n",
       "    } else {\n",
       "      loadScript(\"vega\")\n",
       "        .then(() => loadScript(\"vega-lite\"))\n",
       "        .then(() => loadScript(\"vega-embed\"))\n",
       "        .catch(showError)\n",
       "        .then(() => displayChart(vegaEmbed));\n",
       "    }\n",
       "  })({\"config\": {\"axisLeft\": {\"labelFontSize\": 15}, \"axisBottom\": {\"labelFontSize\": 15}}, \"hconcat\": [{\"mark\": \"bar\", \"encoding\": {\"color\": {\"type\": \"nominal\", \"field\": \"kind\"}, \"tooltip\": {\"type\": \"nominal\", \"field\": \"kind\"}, \"x\": {\"type\": \"nominal\", \"field\": \"repo\"}, \"y\": {\"type\": \"quantitative\", \"field\": \"count\"}}, \"title\": \"Activity per repository\", \"width\": 600}, {\"mark\": \"bar\", \"encoding\": {\"color\": {\"type\": \"nominal\", \"field\": \"kind\"}, \"tooltip\": {\"type\": \"nominal\", \"field\": \"kind\"}, \"x\": {\"type\": \"nominal\", \"field\": \"repo\"}, \"y\": {\"type\": \"quantitative\", \"field\": \"logcount\"}}, \"title\": \"Log activity per repository\", \"width\": 600}], \"data\": {\"name\": \"data-2439a941743c1676e27d6847830d18cf\"}, \"$schema\": \"https://vega.github.io/schema/vega-lite/v4.8.1.json\", \"datasets\": {\"data-2439a941743c1676e27d6847830d18cf\": [{\"repo\": \"jupyter-book\", \"kind\": \"prs\", \"count\": 1, \"logcount\": 0.0}, {\"repo\": \"sphinx-exercise\", \"kind\": \"comments\", \"count\": 4, \"logcount\": 1.3862943611198906}, {\"repo\": \"sphinx-exercise\", \"kind\": \"prs\", \"count\": 2, \"logcount\": 0.6931471805599453}, {\"repo\": \"sphinx-jupyterbook-latex\", \"kind\": \"comments\", \"count\": 1, \"logcount\": 0.0}, {\"repo\": \"sphinx-proof\", \"kind\": \"comments\", \"count\": 4, \"logcount\": 1.3862943611198906}, {\"repo\": \"sphinx-proof\", \"kind\": \"issues\", \"count\": 1, \"logcount\": 0.0}, {\"repo\": \"sphinx-proof\", \"kind\": \"prs\", \"count\": 2, \"logcount\": 0.6931471805599453}]}}, {\"mode\": \"vega-lite\"});\n",
       "</script>"
      ],
      "text/plain": [
       "alt.HConcatChart(...)"
      ]
     },
     "execution_count": 11,
     "metadata": {},
     "output_type": "execute_result"
    }
   ],
   "source": [
    "ch1 = alt.Chart(repo_summaries, width=600, title=\"Activity per repository\").mark_bar().encode(\n",
    "    x='repo',\n",
    "    y='count',\n",
    "    color='kind',\n",
    "    tooltip=\"kind\"\n",
    ")\n",
    "\n",
    "ch2 = alt.Chart(repo_summaries, width=600, title=\"Log activity per repository\").mark_bar().encode(\n",
    "    x='repo',\n",
    "    y='logcount',\n",
    "    color='kind',\n",
    "    tooltip=\"kind\"\n",
    ")\n",
    "\n",
    "ch1 | ch2"
   ]
  },
  {
   "cell_type": "code",
   "execution_count": 12,
   "id": "9932f032",
   "metadata": {
    "execution": {
     "iopub.execute_input": "2021-09-28T01:33:13.334660Z",
     "iopub.status.busy": "2021-09-28T01:33:13.321987Z",
     "iopub.status.idle": "2021-09-28T01:33:13.337454Z",
     "shell.execute_reply": "2021-09-28T01:33:13.338067Z"
    },
    "papermill": {
     "duration": 0.052759,
     "end_time": "2021-09-28T01:33:13.338228",
     "exception": false,
     "start_time": "2021-09-28T01:33:13.285469",
     "status": "completed"
    },
    "tags": [
     "hide_input"
    ]
   },
   "outputs": [
    {
     "data": {
      "text/html": [
       "\n",
       "<div id=\"altair-viz-323eebd273e848daa833e925b24d0e0c\"></div>\n",
       "<script type=\"text/javascript\">\n",
       "  (function(spec, embedOpt){\n",
       "    let outputDiv = document.currentScript.previousElementSibling;\n",
       "    if (outputDiv.id !== \"altair-viz-323eebd273e848daa833e925b24d0e0c\") {\n",
       "      outputDiv = document.getElementById(\"altair-viz-323eebd273e848daa833e925b24d0e0c\");\n",
       "    }\n",
       "    const paths = {\n",
       "      \"vega\": \"https://cdn.jsdelivr.net/npm//vega@5?noext\",\n",
       "      \"vega-lib\": \"https://cdn.jsdelivr.net/npm//vega-lib?noext\",\n",
       "      \"vega-lite\": \"https://cdn.jsdelivr.net/npm//vega-lite@4.8.1?noext\",\n",
       "      \"vega-embed\": \"https://cdn.jsdelivr.net/npm//vega-embed@6?noext\",\n",
       "    };\n",
       "\n",
       "    function loadScript(lib) {\n",
       "      return new Promise(function(resolve, reject) {\n",
       "        var s = document.createElement('script');\n",
       "        s.src = paths[lib];\n",
       "        s.async = true;\n",
       "        s.onload = () => resolve(paths[lib]);\n",
       "        s.onerror = () => reject(`Error loading script: ${paths[lib]}`);\n",
       "        document.getElementsByTagName(\"head\")[0].appendChild(s);\n",
       "      });\n",
       "    }\n",
       "\n",
       "    function showError(err) {\n",
       "      outputDiv.innerHTML = `<div class=\"error\" style=\"color:red;\">${err}</div>`;\n",
       "      throw err;\n",
       "    }\n",
       "\n",
       "    function displayChart(vegaEmbed) {\n",
       "      vegaEmbed(outputDiv, spec, embedOpt)\n",
       "        .catch(err => showError(`Javascript Error: ${err.message}<br>This usually means there's a typo in your chart specification. See the javascript console for the full traceback.`));\n",
       "    }\n",
       "\n",
       "    if(typeof define === \"function\" && define.amd) {\n",
       "      requirejs.config({paths});\n",
       "      require([\"vega-embed\"], displayChart, err => showError(`Error loading script: ${err.message}`));\n",
       "    } else if (typeof vegaEmbed === \"function\") {\n",
       "      displayChart(vegaEmbed);\n",
       "    } else {\n",
       "      loadScript(\"vega\")\n",
       "        .then(() => loadScript(\"vega-lite\"))\n",
       "        .then(() => loadScript(\"vega-embed\"))\n",
       "        .catch(showError)\n",
       "        .then(() => displayChart(vegaEmbed));\n",
       "    }\n",
       "  })({\"config\": {\"axisLeft\": {\"labelFontSize\": 15}, \"axisBottom\": {\"labelFontSize\": 15}}, \"data\": {\"name\": \"data-bfc0e68261291907d45541e9ca5cd61c\"}, \"mark\": \"bar\", \"encoding\": {\"color\": {\"type\": \"nominal\", \"field\": \"kind\"}, \"tooltip\": {\"type\": \"nominal\", \"field\": \"org\"}, \"x\": {\"type\": \"nominal\", \"field\": \"org\"}, \"y\": {\"type\": \"quantitative\", \"field\": \"count\"}}, \"width\": 600, \"$schema\": \"https://vega.github.io/schema/vega-lite/v4.8.1.json\", \"datasets\": {\"data-bfc0e68261291907d45541e9ca5cd61c\": [{\"org\": \"executablebooks\", \"kind\": \"comments\", \"count\": 9}, {\"org\": \"executablebooks\", \"kind\": \"issues\", \"count\": 1}, {\"org\": \"executablebooks\", \"kind\": \"prs\", \"count\": 5}]}}, {\"mode\": \"vega-lite\"});\n",
       "</script>"
      ],
      "text/plain": [
       "alt.Chart(...)"
      ]
     },
     "execution_count": 12,
     "metadata": {},
     "output_type": "execute_result"
    }
   ],
   "source": [
    "alt.Chart(org_summaries, width=600).mark_bar().encode(\n",
    "    x='org',\n",
    "    y='count',\n",
    "    color='kind',\n",
    "    tooltip=\"org\"\n",
    ")"
   ]
  },
  {
   "cell_type": "markdown",
   "id": "c8b2c415",
   "metadata": {
    "papermill": {
     "duration": 0.018014,
     "end_time": "2021-09-28T01:33:13.373072",
     "exception": false,
     "start_time": "2021-09-28T01:33:13.355058",
     "status": "completed"
    },
    "tags": []
   },
   "source": [
    "## By repository over time"
   ]
  },
  {
   "cell_type": "markdown",
   "id": "1902e6f9",
   "metadata": {
    "papermill": {
     "duration": 0.0157,
     "end_time": "2021-09-28T01:33:13.406391",
     "exception": false,
     "start_time": "2021-09-28T01:33:13.390691",
     "status": "completed"
    },
    "tags": []
   },
   "source": [
    "### Comments"
   ]
  },
  {
   "cell_type": "code",
   "execution_count": 13,
   "id": "ac074367",
   "metadata": {
    "execution": {
     "iopub.execute_input": "2021-09-28T01:33:13.448115Z",
     "iopub.status.busy": "2021-09-28T01:33:13.446360Z",
     "iopub.status.idle": "2021-09-28T01:33:13.511448Z",
     "shell.execute_reply": "2021-09-28T01:33:13.511980Z"
    },
    "papermill": {
     "duration": 0.088689,
     "end_time": "2021-09-28T01:33:13.512210",
     "exception": false,
     "start_time": "2021-09-28T01:33:13.423521",
     "status": "completed"
    },
    "tags": [
     "hide_input"
    ]
   },
   "outputs": [
    {
     "data": {
      "text/html": [
       "\n",
       "<div id=\"altair-viz-f9df7c95464d4dbca770c812666d2dbe\"></div>\n",
       "<script type=\"text/javascript\">\n",
       "  (function(spec, embedOpt){\n",
       "    let outputDiv = document.currentScript.previousElementSibling;\n",
       "    if (outputDiv.id !== \"altair-viz-f9df7c95464d4dbca770c812666d2dbe\") {\n",
       "      outputDiv = document.getElementById(\"altair-viz-f9df7c95464d4dbca770c812666d2dbe\");\n",
       "    }\n",
       "    const paths = {\n",
       "      \"vega\": \"https://cdn.jsdelivr.net/npm//vega@5?noext\",\n",
       "      \"vega-lib\": \"https://cdn.jsdelivr.net/npm//vega-lib?noext\",\n",
       "      \"vega-lite\": \"https://cdn.jsdelivr.net/npm//vega-lite@4.8.1?noext\",\n",
       "      \"vega-embed\": \"https://cdn.jsdelivr.net/npm//vega-embed@6?noext\",\n",
       "    };\n",
       "\n",
       "    function loadScript(lib) {\n",
       "      return new Promise(function(resolve, reject) {\n",
       "        var s = document.createElement('script');\n",
       "        s.src = paths[lib];\n",
       "        s.async = true;\n",
       "        s.onload = () => resolve(paths[lib]);\n",
       "        s.onerror = () => reject(`Error loading script: ${paths[lib]}`);\n",
       "        document.getElementsByTagName(\"head\")[0].appendChild(s);\n",
       "      });\n",
       "    }\n",
       "\n",
       "    function showError(err) {\n",
       "      outputDiv.innerHTML = `<div class=\"error\" style=\"color:red;\">${err}</div>`;\n",
       "      throw err;\n",
       "    }\n",
       "\n",
       "    function displayChart(vegaEmbed) {\n",
       "      vegaEmbed(outputDiv, spec, embedOpt)\n",
       "        .catch(err => showError(`Javascript Error: ${err.message}<br>This usually means there's a typo in your chart specification. See the javascript console for the full traceback.`));\n",
       "    }\n",
       "\n",
       "    if(typeof define === \"function\" && define.amd) {\n",
       "      requirejs.config({paths});\n",
       "      require([\"vega-embed\"], displayChart, err => showError(`Error loading script: ${err.message}`));\n",
       "    } else if (typeof vegaEmbed === \"function\") {\n",
       "      displayChart(vegaEmbed);\n",
       "    } else {\n",
       "      loadScript(\"vega\")\n",
       "        .then(() => loadScript(\"vega-lite\"))\n",
       "        .then(() => loadScript(\"vega-embed\"))\n",
       "        .catch(showError)\n",
       "        .then(() => displayChart(vegaEmbed));\n",
       "    }\n",
       "  })({\"config\": {\"axisLeft\": {\"labelFontSize\": 15}, \"axisBottom\": {\"labelFontSize\": 15}}, \"layer\": [{\"data\": {\"name\": \"data-86db36ce91012da3518f53cc98428ef5\"}, \"mark\": \"line\", \"encoding\": {\"color\": {\"type\": \"nominal\", \"field\": \"repo\"}, \"tooltip\": {\"type\": \"nominal\", \"field\": \"repo\"}, \"x\": {\"type\": \"temporal\", \"field\": \"createdAt\"}, \"y\": {\"type\": \"quantitative\", \"field\": \"count\"}}, \"width\": 600}, {\"data\": {\"name\": \"data-1729eaeddefd6db31455ee32323246ca\"}, \"mark\": {\"type\": \"line\", \"color\": \"black\"}, \"encoding\": {\"x\": {\"type\": \"temporal\", \"field\": \"createdAt\"}, \"y\": {\"type\": \"quantitative\", \"field\": \"count\"}}, \"width\": 600}], \"$schema\": \"https://vega.github.io/schema/vega-lite/v4.8.1.json\", \"datasets\": {\"data-86db36ce91012da3518f53cc98428ef5\": [{\"repo\": \"sphinx-exercise\", \"createdAt\": \"2021-09-12T00:00:00\", \"count\": 1}, {\"repo\": \"sphinx-exercise\", \"createdAt\": \"2021-09-19T00:00:00\", \"count\": 0}, {\"repo\": \"sphinx-exercise\", \"createdAt\": \"2021-09-26T00:00:00\", \"count\": 3}, {\"repo\": \"sphinx-jupyterbook-latex\", \"createdAt\": \"2021-09-26T00:00:00\", \"count\": 1}, {\"repo\": \"sphinx-proof\", \"createdAt\": \"2021-08-01T00:00:00\", \"count\": 2}, {\"repo\": \"sphinx-proof\", \"createdAt\": \"2021-08-08T00:00:00\", \"count\": 0}, {\"repo\": \"sphinx-proof\", \"createdAt\": \"2021-08-15T00:00:00\", \"count\": 0}, {\"repo\": \"sphinx-proof\", \"createdAt\": \"2021-08-22T00:00:00\", \"count\": 2}], \"data-1729eaeddefd6db31455ee32323246ca\": [{\"createdAt\": \"2021-08-01T00:00:00\", \"count\": 2}, {\"createdAt\": \"2021-08-08T00:00:00\", \"count\": 0}, {\"createdAt\": \"2021-08-15T00:00:00\", \"count\": 0}, {\"createdAt\": \"2021-08-22T00:00:00\", \"count\": 2}, {\"createdAt\": \"2021-09-12T00:00:00\", \"count\": 1}, {\"createdAt\": \"2021-09-19T00:00:00\", \"count\": 0}, {\"createdAt\": \"2021-09-26T00:00:00\", \"count\": 4}]}}, {\"mode\": \"vega-lite\"});\n",
       "</script>"
      ],
      "text/plain": [
       "alt.LayerChart(...)"
      ]
     },
     "execution_count": 13,
     "metadata": {},
     "output_type": "execute_result"
    }
   ],
   "source": [
    "comments_time = comments.groupby('repo').resample('W', on='createdAt').count()['author'].reset_index()\n",
    "comments_time = comments_time.rename(columns={'author': 'count'})\n",
    "comments_time_total = comments_time.groupby('createdAt').agg({\"count\": \"sum\"}).reset_index()\n",
    "ch1 = alt.Chart(comments_time, width=600).mark_line().encode(\n",
    "    x='createdAt',\n",
    "    y='count',\n",
    "    color='repo',\n",
    "    tooltip=\"repo\"\n",
    ")\n",
    "\n",
    "ch2 = alt.Chart(comments_time_total, width=600).mark_line(color=\"black\").encode(\n",
    "    x='createdAt',\n",
    "    y='count',\n",
    ")\n",
    "\n",
    "ch1 + ch2"
   ]
  },
  {
   "cell_type": "markdown",
   "id": "ad23c3f1",
   "metadata": {
    "papermill": {
     "duration": 0.020889,
     "end_time": "2021-09-28T01:33:13.554856",
     "exception": false,
     "start_time": "2021-09-28T01:33:13.533967",
     "status": "completed"
    },
    "tags": []
   },
   "source": [
    "### PRs"
   ]
  },
  {
   "cell_type": "code",
   "execution_count": 14,
   "id": "8dede473",
   "metadata": {
    "execution": {
     "iopub.execute_input": "2021-09-28T01:33:13.606245Z",
     "iopub.status.busy": "2021-09-28T01:33:13.598819Z",
     "iopub.status.idle": "2021-09-28T01:33:13.661386Z",
     "shell.execute_reply": "2021-09-28T01:33:13.661952Z"
    },
    "papermill": {
     "duration": 0.08797,
     "end_time": "2021-09-28T01:33:13.662197",
     "exception": false,
     "start_time": "2021-09-28T01:33:13.574227",
     "status": "completed"
    },
    "tags": [
     "hide_input"
    ]
   },
   "outputs": [
    {
     "data": {
      "text/html": [
       "\n",
       "<div id=\"altair-viz-ad90df36507946eabbc1bfaec9ed4b17\"></div>\n",
       "<script type=\"text/javascript\">\n",
       "  (function(spec, embedOpt){\n",
       "    let outputDiv = document.currentScript.previousElementSibling;\n",
       "    if (outputDiv.id !== \"altair-viz-ad90df36507946eabbc1bfaec9ed4b17\") {\n",
       "      outputDiv = document.getElementById(\"altair-viz-ad90df36507946eabbc1bfaec9ed4b17\");\n",
       "    }\n",
       "    const paths = {\n",
       "      \"vega\": \"https://cdn.jsdelivr.net/npm//vega@5?noext\",\n",
       "      \"vega-lib\": \"https://cdn.jsdelivr.net/npm//vega-lib?noext\",\n",
       "      \"vega-lite\": \"https://cdn.jsdelivr.net/npm//vega-lite@4.8.1?noext\",\n",
       "      \"vega-embed\": \"https://cdn.jsdelivr.net/npm//vega-embed@6?noext\",\n",
       "    };\n",
       "\n",
       "    function loadScript(lib) {\n",
       "      return new Promise(function(resolve, reject) {\n",
       "        var s = document.createElement('script');\n",
       "        s.src = paths[lib];\n",
       "        s.async = true;\n",
       "        s.onload = () => resolve(paths[lib]);\n",
       "        s.onerror = () => reject(`Error loading script: ${paths[lib]}`);\n",
       "        document.getElementsByTagName(\"head\")[0].appendChild(s);\n",
       "      });\n",
       "    }\n",
       "\n",
       "    function showError(err) {\n",
       "      outputDiv.innerHTML = `<div class=\"error\" style=\"color:red;\">${err}</div>`;\n",
       "      throw err;\n",
       "    }\n",
       "\n",
       "    function displayChart(vegaEmbed) {\n",
       "      vegaEmbed(outputDiv, spec, embedOpt)\n",
       "        .catch(err => showError(`Javascript Error: ${err.message}<br>This usually means there's a typo in your chart specification. See the javascript console for the full traceback.`));\n",
       "    }\n",
       "\n",
       "    if(typeof define === \"function\" && define.amd) {\n",
       "      requirejs.config({paths});\n",
       "      require([\"vega-embed\"], displayChart, err => showError(`Error loading script: ${err.message}`));\n",
       "    } else if (typeof vegaEmbed === \"function\") {\n",
       "      displayChart(vegaEmbed);\n",
       "    } else {\n",
       "      loadScript(\"vega\")\n",
       "        .then(() => loadScript(\"vega-lite\"))\n",
       "        .then(() => loadScript(\"vega-embed\"))\n",
       "        .catch(showError)\n",
       "        .then(() => displayChart(vegaEmbed));\n",
       "    }\n",
       "  })({\"config\": {\"axisLeft\": {\"labelFontSize\": 15}, \"axisBottom\": {\"labelFontSize\": 15}}, \"layer\": [{\"data\": {\"name\": \"data-876d0a5791d1889a0e56db8c899838f6\"}, \"mark\": \"line\", \"encoding\": {\"color\": {\"type\": \"nominal\", \"field\": \"repo\"}, \"tooltip\": {\"type\": \"nominal\", \"field\": \"repo\"}, \"x\": {\"type\": \"temporal\", \"field\": \"createdAt\"}, \"y\": {\"type\": \"quantitative\", \"field\": \"count\"}}, \"width\": 600}, {\"data\": {\"name\": \"data-7b44328357ade8f950ecc84bdb097352\"}, \"mark\": {\"type\": \"line\", \"color\": \"black\"}, \"encoding\": {\"x\": {\"type\": \"temporal\", \"field\": \"createdAt\"}, \"y\": {\"type\": \"quantitative\", \"field\": \"count\"}}, \"width\": 600}], \"$schema\": \"https://vega.github.io/schema/vega-lite/v4.8.1.json\", \"datasets\": {\"data-876d0a5791d1889a0e56db8c899838f6\": [{\"repo\": \"jupyter-book\", \"createdAt\": \"2020-08-02T00:00:00\", \"count\": 1}, {\"repo\": \"sphinx-exercise\", \"createdAt\": \"2021-09-12T00:00:00\", \"count\": 1}, {\"repo\": \"sphinx-exercise\", \"createdAt\": \"2021-09-19T00:00:00\", \"count\": 0}, {\"repo\": \"sphinx-exercise\", \"createdAt\": \"2021-09-26T00:00:00\", \"count\": 1}, {\"repo\": \"sphinx-proof\", \"createdAt\": \"2021-08-22T00:00:00\", \"count\": 2}], \"data-7b44328357ade8f950ecc84bdb097352\": [{\"createdAt\": \"2020-08-02T00:00:00\", \"count\": 1}, {\"createdAt\": \"2021-08-22T00:00:00\", \"count\": 2}, {\"createdAt\": \"2021-09-12T00:00:00\", \"count\": 1}, {\"createdAt\": \"2021-09-19T00:00:00\", \"count\": 0}, {\"createdAt\": \"2021-09-26T00:00:00\", \"count\": 1}]}}, {\"mode\": \"vega-lite\"});\n",
       "</script>"
      ],
      "text/plain": [
       "alt.LayerChart(...)"
      ]
     },
     "execution_count": 14,
     "metadata": {},
     "output_type": "execute_result"
    }
   ],
   "source": [
    "prs_time = prs.groupby('repo').resample('W', on='createdAt').count()['author'].reset_index()\n",
    "prs_time = prs_time.rename(columns={'author': 'count'})\n",
    "prs_time_total = prs_time.groupby('createdAt').agg({\"count\": \"sum\"}).reset_index()\n",
    "\n",
    "ch1 = alt.Chart(prs_time, width=600).mark_line().encode(\n",
    "    x='createdAt',\n",
    "    y='count',\n",
    "    color='repo',\n",
    "    tooltip=\"repo\"\n",
    ")\n",
    "\n",
    "ch2 = alt.Chart(prs_time_total, width=600).mark_line(color=\"black\").encode(\n",
    "    x='createdAt',\n",
    "    y='count',\n",
    ")\n",
    "\n",
    "ch1 + ch2"
   ]
  },
  {
   "cell_type": "code",
   "execution_count": 15,
   "id": "63e86a11",
   "metadata": {
    "execution": {
     "iopub.execute_input": "2021-09-28T01:33:13.723177Z",
     "iopub.status.busy": "2021-09-28T01:33:13.716914Z",
     "iopub.status.idle": "2021-09-28T01:33:13.756530Z",
     "shell.execute_reply": "2021-09-28T01:33:13.755602Z"
    },
    "papermill": {
     "duration": 0.07348,
     "end_time": "2021-09-28T01:33:13.756691",
     "exception": false,
     "start_time": "2021-09-28T01:33:13.683211",
     "status": "completed"
    },
    "tags": [
     "hide_input"
    ]
   },
   "outputs": [
    {
     "data": {
      "text/html": [
       "\n",
       "<div id=\"altair-viz-74226a5ca2404aa3953659cdc24297aa\"></div>\n",
       "<script type=\"text/javascript\">\n",
       "  (function(spec, embedOpt){\n",
       "    let outputDiv = document.currentScript.previousElementSibling;\n",
       "    if (outputDiv.id !== \"altair-viz-74226a5ca2404aa3953659cdc24297aa\") {\n",
       "      outputDiv = document.getElementById(\"altair-viz-74226a5ca2404aa3953659cdc24297aa\");\n",
       "    }\n",
       "    const paths = {\n",
       "      \"vega\": \"https://cdn.jsdelivr.net/npm//vega@5?noext\",\n",
       "      \"vega-lib\": \"https://cdn.jsdelivr.net/npm//vega-lib?noext\",\n",
       "      \"vega-lite\": \"https://cdn.jsdelivr.net/npm//vega-lite@4.8.1?noext\",\n",
       "      \"vega-embed\": \"https://cdn.jsdelivr.net/npm//vega-embed@6?noext\",\n",
       "    };\n",
       "\n",
       "    function loadScript(lib) {\n",
       "      return new Promise(function(resolve, reject) {\n",
       "        var s = document.createElement('script');\n",
       "        s.src = paths[lib];\n",
       "        s.async = true;\n",
       "        s.onload = () => resolve(paths[lib]);\n",
       "        s.onerror = () => reject(`Error loading script: ${paths[lib]}`);\n",
       "        document.getElementsByTagName(\"head\")[0].appendChild(s);\n",
       "      });\n",
       "    }\n",
       "\n",
       "    function showError(err) {\n",
       "      outputDiv.innerHTML = `<div class=\"error\" style=\"color:red;\">${err}</div>`;\n",
       "      throw err;\n",
       "    }\n",
       "\n",
       "    function displayChart(vegaEmbed) {\n",
       "      vegaEmbed(outputDiv, spec, embedOpt)\n",
       "        .catch(err => showError(`Javascript Error: ${err.message}<br>This usually means there's a typo in your chart specification. See the javascript console for the full traceback.`));\n",
       "    }\n",
       "\n",
       "    if(typeof define === \"function\" && define.amd) {\n",
       "      requirejs.config({paths});\n",
       "      require([\"vega-embed\"], displayChart, err => showError(`Error loading script: ${err.message}`));\n",
       "    } else if (typeof vegaEmbed === \"function\") {\n",
       "      displayChart(vegaEmbed);\n",
       "    } else {\n",
       "      loadScript(\"vega\")\n",
       "        .then(() => loadScript(\"vega-lite\"))\n",
       "        .then(() => loadScript(\"vega-embed\"))\n",
       "        .catch(showError)\n",
       "        .then(() => displayChart(vegaEmbed));\n",
       "    }\n",
       "  })({\"config\": {\"axisLeft\": {\"labelFontSize\": 15}, \"axisBottom\": {\"labelFontSize\": 15}}, \"data\": {\"name\": \"data-3a4066a9916a356634ee2d36378c4704\"}, \"mark\": \"line\", \"encoding\": {\"color\": {\"type\": \"nominal\", \"field\": \"repo\"}, \"tooltip\": {\"type\": \"nominal\", \"field\": \"repo\"}, \"x\": {\"type\": \"temporal\", \"field\": \"closedAt\"}, \"y\": {\"type\": \"quantitative\", \"field\": \"count\"}}, \"width\": 600, \"$schema\": \"https://vega.github.io/schema/vega-lite/v4.8.1.json\", \"datasets\": {\"data-3a4066a9916a356634ee2d36378c4704\": [{\"repo\": \"sphinx-exercise\", \"closedAt\": \"2021-09-26T00:00:00\", \"count\": 1}, {\"repo\": \"sphinx-proof\", \"closedAt\": \"2021-08-01T00:00:00\", \"count\": 1}, {\"repo\": \"sphinx-proof\", \"closedAt\": \"2021-08-08T00:00:00\", \"count\": 0}, {\"repo\": \"sphinx-proof\", \"closedAt\": \"2021-08-15T00:00:00\", \"count\": 0}, {\"repo\": \"sphinx-proof\", \"closedAt\": \"2021-08-22T00:00:00\", \"count\": 2}]}}, {\"mode\": \"vega-lite\"});\n",
       "</script>"
      ],
      "text/plain": [
       "alt.Chart(...)"
      ]
     },
     "execution_count": 15,
     "metadata": {},
     "output_type": "execute_result"
    }
   ],
   "source": [
    "closed_by_time = closed_by.groupby('repo').resample('W', on='closedAt').count()['author'].reset_index()\n",
    "closed_by_time = closed_by_time.rename(columns={'author': 'count'})\n",
    "\n",
    "alt.Chart(closed_by_time, width=600).mark_line().encode(\n",
    "    x='closedAt',\n",
    "    y='count',\n",
    "    color='repo',\n",
    "    tooltip=\"repo\"\n",
    ")"
   ]
  },
  {
   "cell_type": "markdown",
   "id": "c7eed05a",
   "metadata": {
    "papermill": {
     "duration": 0.021171,
     "end_time": "2021-09-28T01:33:13.798441",
     "exception": false,
     "start_time": "2021-09-28T01:33:13.777270",
     "status": "completed"
    },
    "tags": []
   },
   "source": [
    "## By type over time"
   ]
  },
  {
   "cell_type": "code",
   "execution_count": 16,
   "id": "d7be82ac",
   "metadata": {
    "execution": {
     "iopub.execute_input": "2021-09-28T01:33:13.844568Z",
     "iopub.status.busy": "2021-09-28T01:33:13.843805Z",
     "iopub.status.idle": "2021-09-28T01:33:13.869564Z",
     "shell.execute_reply": "2021-09-28T01:33:13.868864Z"
    },
    "papermill": {
     "duration": 0.049874,
     "end_time": "2021-09-28T01:33:13.869776",
     "exception": false,
     "start_time": "2021-09-28T01:33:13.819902",
     "status": "completed"
    },
    "tags": [
     "remove_cell"
    ]
   },
   "outputs": [],
   "source": [
    "prs_time = prs[['author', 'createdAt']].resample('W', on='createdAt').count()['author'].reset_index()\n",
    "prs_time = prs_time.rename(columns={'author': 'prs'})\n",
    "comments_time = comments[['author', 'createdAt']].resample('W', on='createdAt').count()['author'].reset_index()\n",
    "comments_time = comments_time.rename(columns={'author': 'comments'})\n",
    "\n",
    "total_time = pd.merge(prs_time, comments_time, on='createdAt', how='outer')\n",
    "total_time = total_time.melt(id_vars='createdAt', var_name=\"kind\", value_name=\"count\")\n"
   ]
  },
  {
   "cell_type": "code",
   "execution_count": 17,
   "id": "8bd0b0db",
   "metadata": {
    "execution": {
     "iopub.execute_input": "2021-09-28T01:33:13.942339Z",
     "iopub.status.busy": "2021-09-28T01:33:13.941548Z",
     "iopub.status.idle": "2021-09-28T01:33:13.945515Z",
     "shell.execute_reply": "2021-09-28T01:33:13.946062Z"
    },
    "papermill": {
     "duration": 0.056101,
     "end_time": "2021-09-28T01:33:13.946256",
     "exception": false,
     "start_time": "2021-09-28T01:33:13.890155",
     "status": "completed"
    },
    "tags": [
     "hide_input"
    ]
   },
   "outputs": [
    {
     "data": {
      "text/html": [
       "\n",
       "<div id=\"altair-viz-a8597146141f449390a3789519374073\"></div>\n",
       "<script type=\"text/javascript\">\n",
       "  (function(spec, embedOpt){\n",
       "    let outputDiv = document.currentScript.previousElementSibling;\n",
       "    if (outputDiv.id !== \"altair-viz-a8597146141f449390a3789519374073\") {\n",
       "      outputDiv = document.getElementById(\"altair-viz-a8597146141f449390a3789519374073\");\n",
       "    }\n",
       "    const paths = {\n",
       "      \"vega\": \"https://cdn.jsdelivr.net/npm//vega@5?noext\",\n",
       "      \"vega-lib\": \"https://cdn.jsdelivr.net/npm//vega-lib?noext\",\n",
       "      \"vega-lite\": \"https://cdn.jsdelivr.net/npm//vega-lite@4.8.1?noext\",\n",
       "      \"vega-embed\": \"https://cdn.jsdelivr.net/npm//vega-embed@6?noext\",\n",
       "    };\n",
       "\n",
       "    function loadScript(lib) {\n",
       "      return new Promise(function(resolve, reject) {\n",
       "        var s = document.createElement('script');\n",
       "        s.src = paths[lib];\n",
       "        s.async = true;\n",
       "        s.onload = () => resolve(paths[lib]);\n",
       "        s.onerror = () => reject(`Error loading script: ${paths[lib]}`);\n",
       "        document.getElementsByTagName(\"head\")[0].appendChild(s);\n",
       "      });\n",
       "    }\n",
       "\n",
       "    function showError(err) {\n",
       "      outputDiv.innerHTML = `<div class=\"error\" style=\"color:red;\">${err}</div>`;\n",
       "      throw err;\n",
       "    }\n",
       "\n",
       "    function displayChart(vegaEmbed) {\n",
       "      vegaEmbed(outputDiv, spec, embedOpt)\n",
       "        .catch(err => showError(`Javascript Error: ${err.message}<br>This usually means there's a typo in your chart specification. See the javascript console for the full traceback.`));\n",
       "    }\n",
       "\n",
       "    if(typeof define === \"function\" && define.amd) {\n",
       "      requirejs.config({paths});\n",
       "      require([\"vega-embed\"], displayChart, err => showError(`Error loading script: ${err.message}`));\n",
       "    } else if (typeof vegaEmbed === \"function\") {\n",
       "      displayChart(vegaEmbed);\n",
       "    } else {\n",
       "      loadScript(\"vega\")\n",
       "        .then(() => loadScript(\"vega-lite\"))\n",
       "        .then(() => loadScript(\"vega-embed\"))\n",
       "        .catch(showError)\n",
       "        .then(() => displayChart(vegaEmbed));\n",
       "    }\n",
       "  })({\"config\": {\"axisLeft\": {\"labelFontSize\": 15}, \"axisBottom\": {\"labelFontSize\": 15}}, \"data\": {\"name\": \"data-1b18aea5ba8dd05fb19775b8709a708d\"}, \"mark\": \"line\", \"encoding\": {\"color\": {\"type\": \"nominal\", \"field\": \"kind\"}, \"x\": {\"type\": \"temporal\", \"field\": \"createdAt\"}, \"y\": {\"type\": \"quantitative\", \"field\": \"count\"}}, \"width\": 600, \"$schema\": \"https://vega.github.io/schema/vega-lite/v4.8.1.json\", \"datasets\": {\"data-1b18aea5ba8dd05fb19775b8709a708d\": [{\"createdAt\": \"2020-08-02T00:00:00\", \"kind\": \"prs\", \"count\": 1.0}, {\"createdAt\": \"2020-08-09T00:00:00\", \"kind\": \"prs\", \"count\": 0.0}, {\"createdAt\": \"2020-08-16T00:00:00\", \"kind\": \"prs\", \"count\": 0.0}, {\"createdAt\": \"2020-08-23T00:00:00\", \"kind\": \"prs\", \"count\": 0.0}, {\"createdAt\": \"2020-08-30T00:00:00\", \"kind\": \"prs\", \"count\": 0.0}, {\"createdAt\": \"2020-09-06T00:00:00\", \"kind\": \"prs\", \"count\": 0.0}, {\"createdAt\": \"2020-09-13T00:00:00\", \"kind\": \"prs\", \"count\": 0.0}, {\"createdAt\": \"2020-09-20T00:00:00\", \"kind\": \"prs\", \"count\": 0.0}, {\"createdAt\": \"2020-09-27T00:00:00\", \"kind\": \"prs\", \"count\": 0.0}, {\"createdAt\": \"2020-10-04T00:00:00\", \"kind\": \"prs\", \"count\": 0.0}, {\"createdAt\": \"2020-10-11T00:00:00\", \"kind\": \"prs\", \"count\": 0.0}, {\"createdAt\": \"2020-10-18T00:00:00\", \"kind\": \"prs\", \"count\": 0.0}, {\"createdAt\": \"2020-10-25T00:00:00\", \"kind\": \"prs\", \"count\": 0.0}, {\"createdAt\": \"2020-11-01T00:00:00\", \"kind\": \"prs\", \"count\": 0.0}, {\"createdAt\": \"2020-11-08T00:00:00\", \"kind\": \"prs\", \"count\": 0.0}, {\"createdAt\": \"2020-11-15T00:00:00\", \"kind\": \"prs\", \"count\": 0.0}, {\"createdAt\": \"2020-11-22T00:00:00\", \"kind\": \"prs\", \"count\": 0.0}, {\"createdAt\": \"2020-11-29T00:00:00\", \"kind\": \"prs\", \"count\": 0.0}, {\"createdAt\": \"2020-12-06T00:00:00\", \"kind\": \"prs\", \"count\": 0.0}, {\"createdAt\": \"2020-12-13T00:00:00\", \"kind\": \"prs\", \"count\": 0.0}, {\"createdAt\": \"2020-12-20T00:00:00\", \"kind\": \"prs\", \"count\": 0.0}, {\"createdAt\": \"2020-12-27T00:00:00\", \"kind\": \"prs\", \"count\": 0.0}, {\"createdAt\": \"2021-01-03T00:00:00\", \"kind\": \"prs\", \"count\": 0.0}, {\"createdAt\": \"2021-01-10T00:00:00\", \"kind\": \"prs\", \"count\": 0.0}, {\"createdAt\": \"2021-01-17T00:00:00\", \"kind\": \"prs\", \"count\": 0.0}, {\"createdAt\": \"2021-01-24T00:00:00\", \"kind\": \"prs\", \"count\": 0.0}, {\"createdAt\": \"2021-01-31T00:00:00\", \"kind\": \"prs\", \"count\": 0.0}, {\"createdAt\": \"2021-02-07T00:00:00\", \"kind\": \"prs\", \"count\": 0.0}, {\"createdAt\": \"2021-02-14T00:00:00\", \"kind\": \"prs\", \"count\": 0.0}, {\"createdAt\": \"2021-02-21T00:00:00\", \"kind\": \"prs\", \"count\": 0.0}, {\"createdAt\": \"2021-02-28T00:00:00\", \"kind\": \"prs\", \"count\": 0.0}, {\"createdAt\": \"2021-03-07T00:00:00\", \"kind\": \"prs\", \"count\": 0.0}, {\"createdAt\": \"2021-03-14T00:00:00\", \"kind\": \"prs\", \"count\": 0.0}, {\"createdAt\": \"2021-03-21T00:00:00\", \"kind\": \"prs\", \"count\": 0.0}, {\"createdAt\": \"2021-03-28T00:00:00\", \"kind\": \"prs\", \"count\": 0.0}, {\"createdAt\": \"2021-04-04T00:00:00\", \"kind\": \"prs\", \"count\": 0.0}, {\"createdAt\": \"2021-04-11T00:00:00\", \"kind\": \"prs\", \"count\": 0.0}, {\"createdAt\": \"2021-04-18T00:00:00\", \"kind\": \"prs\", \"count\": 0.0}, {\"createdAt\": \"2021-04-25T00:00:00\", \"kind\": \"prs\", \"count\": 0.0}, {\"createdAt\": \"2021-05-02T00:00:00\", \"kind\": \"prs\", \"count\": 0.0}, {\"createdAt\": \"2021-05-09T00:00:00\", \"kind\": \"prs\", \"count\": 0.0}, {\"createdAt\": \"2021-05-16T00:00:00\", \"kind\": \"prs\", \"count\": 0.0}, {\"createdAt\": \"2021-05-23T00:00:00\", \"kind\": \"prs\", \"count\": 0.0}, {\"createdAt\": \"2021-05-30T00:00:00\", \"kind\": \"prs\", \"count\": 0.0}, {\"createdAt\": \"2021-06-06T00:00:00\", \"kind\": \"prs\", \"count\": 0.0}, {\"createdAt\": \"2021-06-13T00:00:00\", \"kind\": \"prs\", \"count\": 0.0}, {\"createdAt\": \"2021-06-20T00:00:00\", \"kind\": \"prs\", \"count\": 0.0}, {\"createdAt\": \"2021-06-27T00:00:00\", \"kind\": \"prs\", \"count\": 0.0}, {\"createdAt\": \"2021-07-04T00:00:00\", \"kind\": \"prs\", \"count\": 0.0}, {\"createdAt\": \"2021-07-11T00:00:00\", \"kind\": \"prs\", \"count\": 0.0}, {\"createdAt\": \"2021-07-18T00:00:00\", \"kind\": \"prs\", \"count\": 0.0}, {\"createdAt\": \"2021-07-25T00:00:00\", \"kind\": \"prs\", \"count\": 0.0}, {\"createdAt\": \"2021-08-01T00:00:00\", \"kind\": \"prs\", \"count\": 0.0}, {\"createdAt\": \"2021-08-08T00:00:00\", \"kind\": \"prs\", \"count\": 0.0}, {\"createdAt\": \"2021-08-15T00:00:00\", \"kind\": \"prs\", \"count\": 0.0}, {\"createdAt\": \"2021-08-22T00:00:00\", \"kind\": \"prs\", \"count\": 2.0}, {\"createdAt\": \"2021-08-29T00:00:00\", \"kind\": \"prs\", \"count\": 0.0}, {\"createdAt\": \"2021-09-05T00:00:00\", \"kind\": \"prs\", \"count\": 0.0}, {\"createdAt\": \"2021-09-12T00:00:00\", \"kind\": \"prs\", \"count\": 1.0}, {\"createdAt\": \"2021-09-19T00:00:00\", \"kind\": \"prs\", \"count\": 0.0}, {\"createdAt\": \"2021-09-26T00:00:00\", \"kind\": \"prs\", \"count\": 1.0}, {\"createdAt\": \"2020-08-02T00:00:00\", \"kind\": \"comments\", \"count\": null}, {\"createdAt\": \"2020-08-09T00:00:00\", \"kind\": \"comments\", \"count\": null}, {\"createdAt\": \"2020-08-16T00:00:00\", \"kind\": \"comments\", \"count\": null}, {\"createdAt\": \"2020-08-23T00:00:00\", \"kind\": \"comments\", \"count\": null}, {\"createdAt\": \"2020-08-30T00:00:00\", \"kind\": \"comments\", \"count\": null}, {\"createdAt\": \"2020-09-06T00:00:00\", \"kind\": \"comments\", \"count\": null}, {\"createdAt\": \"2020-09-13T00:00:00\", \"kind\": \"comments\", \"count\": null}, {\"createdAt\": \"2020-09-20T00:00:00\", \"kind\": \"comments\", \"count\": null}, {\"createdAt\": \"2020-09-27T00:00:00\", \"kind\": \"comments\", \"count\": null}, {\"createdAt\": \"2020-10-04T00:00:00\", \"kind\": \"comments\", \"count\": null}, {\"createdAt\": \"2020-10-11T00:00:00\", \"kind\": \"comments\", \"count\": null}, {\"createdAt\": \"2020-10-18T00:00:00\", \"kind\": \"comments\", \"count\": null}, {\"createdAt\": \"2020-10-25T00:00:00\", \"kind\": \"comments\", \"count\": null}, {\"createdAt\": \"2020-11-01T00:00:00\", \"kind\": \"comments\", \"count\": null}, {\"createdAt\": \"2020-11-08T00:00:00\", \"kind\": \"comments\", \"count\": null}, {\"createdAt\": \"2020-11-15T00:00:00\", \"kind\": \"comments\", \"count\": null}, {\"createdAt\": \"2020-11-22T00:00:00\", \"kind\": \"comments\", \"count\": null}, {\"createdAt\": \"2020-11-29T00:00:00\", \"kind\": \"comments\", \"count\": null}, {\"createdAt\": \"2020-12-06T00:00:00\", \"kind\": \"comments\", \"count\": null}, {\"createdAt\": \"2020-12-13T00:00:00\", \"kind\": \"comments\", \"count\": null}, {\"createdAt\": \"2020-12-20T00:00:00\", \"kind\": \"comments\", \"count\": null}, {\"createdAt\": \"2020-12-27T00:00:00\", \"kind\": \"comments\", \"count\": null}, {\"createdAt\": \"2021-01-03T00:00:00\", \"kind\": \"comments\", \"count\": null}, {\"createdAt\": \"2021-01-10T00:00:00\", \"kind\": \"comments\", \"count\": null}, {\"createdAt\": \"2021-01-17T00:00:00\", \"kind\": \"comments\", \"count\": null}, {\"createdAt\": \"2021-01-24T00:00:00\", \"kind\": \"comments\", \"count\": null}, {\"createdAt\": \"2021-01-31T00:00:00\", \"kind\": \"comments\", \"count\": null}, {\"createdAt\": \"2021-02-07T00:00:00\", \"kind\": \"comments\", \"count\": null}, {\"createdAt\": \"2021-02-14T00:00:00\", \"kind\": \"comments\", \"count\": null}, {\"createdAt\": \"2021-02-21T00:00:00\", \"kind\": \"comments\", \"count\": null}, {\"createdAt\": \"2021-02-28T00:00:00\", \"kind\": \"comments\", \"count\": null}, {\"createdAt\": \"2021-03-07T00:00:00\", \"kind\": \"comments\", \"count\": null}, {\"createdAt\": \"2021-03-14T00:00:00\", \"kind\": \"comments\", \"count\": null}, {\"createdAt\": \"2021-03-21T00:00:00\", \"kind\": \"comments\", \"count\": null}, {\"createdAt\": \"2021-03-28T00:00:00\", \"kind\": \"comments\", \"count\": null}, {\"createdAt\": \"2021-04-04T00:00:00\", \"kind\": \"comments\", \"count\": null}, {\"createdAt\": \"2021-04-11T00:00:00\", \"kind\": \"comments\", \"count\": null}, {\"createdAt\": \"2021-04-18T00:00:00\", \"kind\": \"comments\", \"count\": null}, {\"createdAt\": \"2021-04-25T00:00:00\", \"kind\": \"comments\", \"count\": null}, {\"createdAt\": \"2021-05-02T00:00:00\", \"kind\": \"comments\", \"count\": null}, {\"createdAt\": \"2021-05-09T00:00:00\", \"kind\": \"comments\", \"count\": null}, {\"createdAt\": \"2021-05-16T00:00:00\", \"kind\": \"comments\", \"count\": null}, {\"createdAt\": \"2021-05-23T00:00:00\", \"kind\": \"comments\", \"count\": null}, {\"createdAt\": \"2021-05-30T00:00:00\", \"kind\": \"comments\", \"count\": null}, {\"createdAt\": \"2021-06-06T00:00:00\", \"kind\": \"comments\", \"count\": null}, {\"createdAt\": \"2021-06-13T00:00:00\", \"kind\": \"comments\", \"count\": null}, {\"createdAt\": \"2021-06-20T00:00:00\", \"kind\": \"comments\", \"count\": null}, {\"createdAt\": \"2021-06-27T00:00:00\", \"kind\": \"comments\", \"count\": null}, {\"createdAt\": \"2021-07-04T00:00:00\", \"kind\": \"comments\", \"count\": null}, {\"createdAt\": \"2021-07-11T00:00:00\", \"kind\": \"comments\", \"count\": null}, {\"createdAt\": \"2021-07-18T00:00:00\", \"kind\": \"comments\", \"count\": null}, {\"createdAt\": \"2021-07-25T00:00:00\", \"kind\": \"comments\", \"count\": null}, {\"createdAt\": \"2021-08-01T00:00:00\", \"kind\": \"comments\", \"count\": 2.0}, {\"createdAt\": \"2021-08-08T00:00:00\", \"kind\": \"comments\", \"count\": 0.0}, {\"createdAt\": \"2021-08-15T00:00:00\", \"kind\": \"comments\", \"count\": 0.0}, {\"createdAt\": \"2021-08-22T00:00:00\", \"kind\": \"comments\", \"count\": 2.0}, {\"createdAt\": \"2021-08-29T00:00:00\", \"kind\": \"comments\", \"count\": 0.0}, {\"createdAt\": \"2021-09-05T00:00:00\", \"kind\": \"comments\", \"count\": 0.0}, {\"createdAt\": \"2021-09-12T00:00:00\", \"kind\": \"comments\", \"count\": 1.0}, {\"createdAt\": \"2021-09-19T00:00:00\", \"kind\": \"comments\", \"count\": 0.0}, {\"createdAt\": \"2021-09-26T00:00:00\", \"kind\": \"comments\", \"count\": 4.0}]}}, {\"mode\": \"vega-lite\"});\n",
       "</script>"
      ],
      "text/plain": [
       "alt.Chart(...)"
      ]
     },
     "execution_count": 17,
     "metadata": {},
     "output_type": "execute_result"
    }
   ],
   "source": [
    "alt.Chart(total_time, width=600).mark_line().encode(\n",
    "    x='createdAt',\n",
    "    y='count',\n",
    "    color='kind'\n",
    ")"
   ]
  }
 ],
 "metadata": {
  "kernelspec": {
   "display_name": "Python 3",
   "language": "python",
   "name": "python3"
  },
  "language_info": {
   "codemirror_mode": {
    "name": "ipython",
    "version": 3
   },
   "file_extension": ".py",
   "mimetype": "text/x-python",
   "name": "python",
   "nbconvert_exporter": "python",
   "pygments_lexer": "ipython3",
   "version": "3.7.12"
  },
  "papermill": {
   "default_parameters": {},
   "duration": 4.154077,
   "end_time": "2021-09-28T01:33:14.278408",
   "environment_variables": {},
   "exception": null,
   "input_path": "./person.ipynb",
   "output_path": "people/AakashGfude.ipynb",
   "parameters": {
    "n_days": 60,
    "person": "AakashGfude"
   },
   "start_time": "2021-09-28T01:33:10.124331",
   "version": "2.3.3"
  },
  "widgets": {
   "application/vnd.jupyter.widget-state+json": {
    "state": {},
    "version_major": 2,
    "version_minor": 0
   }
  }
 },
 "nbformat": 4,
 "nbformat_minor": 5
}