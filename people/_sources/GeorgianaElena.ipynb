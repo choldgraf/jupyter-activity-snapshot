{
 "cells": [
  {
   "cell_type": "markdown",
   "id": "posted-sandwich",
   "metadata": {
    "papermill": {
     "duration": 0.018439,
     "end_time": "2021-01-26T01:59:11.278269",
     "exception": false,
     "start_time": "2021-01-26T01:59:11.259830",
     "status": "completed"
    },
    "tags": []
   },
   "source": [
    "# Report for GeorgianaElena"
   ]
  },
  {
   "cell_type": "code",
   "execution_count": 1,
   "id": "abstract-jerusalem",
   "metadata": {
    "execution": {
     "iopub.execute_input": "2021-01-26T01:59:11.319635Z",
     "iopub.status.busy": "2021-01-26T01:59:11.319059Z",
     "iopub.status.idle": "2021-01-26T01:59:12.292616Z",
     "shell.execute_reply": "2021-01-26T01:59:12.291590Z"
    },
    "papermill": {
     "duration": 0.997274,
     "end_time": "2021-01-26T01:59:12.292898",
     "exception": false,
     "start_time": "2021-01-26T01:59:11.295624",
     "status": "completed"
    },
    "tags": [
     "remove_cell"
    ]
   },
   "outputs": [],
   "source": [
    "import seaborn as sns\n",
    "import pandas as pd\n",
    "import numpy as np\n",
    "import altair as alt\n",
    "from markdown import markdown\n",
    "from IPython.display import Markdown\n",
    "from ipywidgets.widgets import HTML, Tab\n",
    "from ipywidgets import widgets\n",
    "from datetime import timedelta\n",
    "from matplotlib import pyplot as plt\n",
    "import os.path as op\n",
    "\n",
    "from mycode import alt_theme\n",
    "from warnings import simplefilter\n",
    "simplefilter('ignore')"
   ]
  },
  {
   "cell_type": "code",
   "execution_count": 2,
   "id": "faced-north",
   "metadata": {
    "execution": {
     "iopub.execute_input": "2021-01-26T01:59:12.328435Z",
     "iopub.status.busy": "2021-01-26T01:59:12.327873Z",
     "iopub.status.idle": "2021-01-26T01:59:12.330056Z",
     "shell.execute_reply": "2021-01-26T01:59:12.329592Z"
    },
    "papermill": {
     "duration": 0.021478,
     "end_time": "2021-01-26T01:59:12.330200",
     "exception": false,
     "start_time": "2021-01-26T01:59:12.308722",
     "status": "completed"
    },
    "tags": [
     "remove_cell"
    ]
   },
   "outputs": [],
   "source": [
    "def author_url(author):\n",
    "    return f\"https://github.com/{author}\""
   ]
  },
  {
   "cell_type": "code",
   "execution_count": 3,
   "id": "faced-packet",
   "metadata": {
    "execution": {
     "iopub.execute_input": "2021-01-26T01:59:12.364624Z",
     "iopub.status.busy": "2021-01-26T01:59:12.363884Z",
     "iopub.status.idle": "2021-01-26T01:59:12.366689Z",
     "shell.execute_reply": "2021-01-26T01:59:12.366219Z"
    },
    "papermill": {
     "duration": 0.02135,
     "end_time": "2021-01-26T01:59:12.366875",
     "exception": false,
     "start_time": "2021-01-26T01:59:12.345525",
     "status": "completed"
    },
    "tags": [
     "parameters",
     "hide_input"
    ]
   },
   "outputs": [],
   "source": [
    "# Parameters\n",
    "fmt_date = \"{:%Y-%m-%d}\"\n",
    "\n",
    "n_days = 30 * 2\n",
    "start_date = fmt_date.format(pd.datetime.today() - timedelta(days=n_days))\n",
    "end_date = fmt_date.format(pd.datetime.today())\n",
    "\n",
    "renderer = \"html\"\n",
    "person = \"jasongrout\""
   ]
  },
  {
   "cell_type": "code",
   "execution_count": 4,
   "id": "cross-standard",
   "metadata": {
    "execution": {
     "iopub.execute_input": "2021-01-26T01:59:12.399216Z",
     "iopub.status.busy": "2021-01-26T01:59:12.398451Z",
     "iopub.status.idle": "2021-01-26T01:59:12.400495Z",
     "shell.execute_reply": "2021-01-26T01:59:12.400976Z"
    },
    "papermill": {
     "duration": 0.019342,
     "end_time": "2021-01-26T01:59:12.401166",
     "exception": false,
     "start_time": "2021-01-26T01:59:12.381824",
     "status": "completed"
    },
    "tags": [
     "injected-parameters",
     "remove-cell"
    ]
   },
   "outputs": [],
   "source": [
    "# Parameters\n",
    "person = \"GeorgianaElena\"\n",
    "n_days = 60\n"
   ]
  },
  {
   "cell_type": "code",
   "execution_count": 5,
   "id": "european-chicago",
   "metadata": {
    "execution": {
     "iopub.execute_input": "2021-01-26T01:59:12.442678Z",
     "iopub.status.busy": "2021-01-26T01:59:12.442074Z",
     "iopub.status.idle": "2021-01-26T01:59:12.445589Z",
     "shell.execute_reply": "2021-01-26T01:59:12.445060Z"
    },
    "papermill": {
     "duration": 0.027084,
     "end_time": "2021-01-26T01:59:12.445734",
     "exception": false,
     "start_time": "2021-01-26T01:59:12.418650",
     "status": "completed"
    },
    "tags": [
     "remove_cell"
    ]
   },
   "outputs": [
    {
     "data": {
      "text/plain": [
       "ThemeRegistry.enable('my_theme')"
      ]
     },
     "execution_count": 5,
     "metadata": {},
     "output_type": "execute_result"
    }
   ],
   "source": [
    "alt.renderers.enable(renderer);\n",
    "alt.themes.register('my_theme', alt_theme)\n",
    "alt.themes.enable(\"my_theme\")"
   ]
  },
  {
   "cell_type": "markdown",
   "id": "ranking-silly",
   "metadata": {
    "papermill": {
     "duration": 0.017039,
     "end_time": "2021-01-26T01:59:12.476846",
     "exception": false,
     "start_time": "2021-01-26T01:59:12.459807",
     "status": "completed"
    },
    "tags": []
   },
   "source": [
    "## Load data"
   ]
  },
  {
   "cell_type": "code",
   "execution_count": 6,
   "id": "combined-swaziland",
   "metadata": {
    "execution": {
     "iopub.execute_input": "2021-01-26T01:59:12.515126Z",
     "iopub.status.busy": "2021-01-26T01:59:12.514379Z",
     "iopub.status.idle": "2021-01-26T01:59:12.686884Z",
     "shell.execute_reply": "2021-01-26T01:59:12.686400Z"
    },
    "papermill": {
     "duration": 0.193959,
     "end_time": "2021-01-26T01:59:12.687049",
     "exception": false,
     "start_time": "2021-01-26T01:59:12.493090",
     "status": "completed"
    },
    "tags": [
     "remove_cell"
    ]
   },
   "outputs": [],
   "source": [
    "from pathlib import Path\n",
    "path_data = Path(\"./\")\n",
    "comments = pd.read_csv(path_data.joinpath('comments.csv'), index_col=0)\n",
    "issues = pd.read_csv(path_data.joinpath('issues.csv'), index_col=0)\n",
    "prs = pd.read_csv(path_data.joinpath('prs.csv'), index_col=0)\n",
    "\n",
    "comments = comments.query('author == @person').drop_duplicates()\n",
    "issues = issues.query('author == @person').drop_duplicates()\n",
    "closed_by = prs.query('mergedBy == @person')\n",
    "prs = prs.query('author == @person').drop_duplicates()"
   ]
  },
  {
   "cell_type": "code",
   "execution_count": 7,
   "id": "integrated-jesus",
   "metadata": {
    "execution": {
     "iopub.execute_input": "2021-01-26T01:59:12.767433Z",
     "iopub.status.busy": "2021-01-26T01:59:12.756085Z",
     "iopub.status.idle": "2021-01-26T01:59:12.785289Z",
     "shell.execute_reply": "2021-01-26T01:59:12.785833Z"
    },
    "papermill": {
     "duration": 0.081798,
     "end_time": "2021-01-26T01:59:12.786015",
     "exception": false,
     "start_time": "2021-01-26T01:59:12.704217",
     "status": "completed"
    },
    "tags": [
     "remove_cell"
    ]
   },
   "outputs": [],
   "source": [
    "# Time columns\n",
    "# Also drop dates outside of our range\n",
    "time_columns = ['updatedAt', 'createdAt', 'closedAt']\n",
    "for col in time_columns:\n",
    "    for item in [comments, issues, prs, closed_by]:\n",
    "        if col not in item.columns:\n",
    "            continue\n",
    "        dt = pd.to_datetime(item[col]).dt.tz_localize(None)\n",
    "        item[col] = dt\n",
    "        item.query(\"updatedAt < @end_date and updatedAt > @start_date\", inplace=True)"
   ]
  },
  {
   "cell_type": "markdown",
   "id": "ranking-antique",
   "metadata": {
    "papermill": {
     "duration": 0.014736,
     "end_time": "2021-01-26T01:59:12.816040",
     "exception": false,
     "start_time": "2021-01-26T01:59:12.801304",
     "status": "completed"
    },
    "tags": []
   },
   "source": [
    "## Repository summaries"
   ]
  },
  {
   "cell_type": "code",
   "execution_count": 8,
   "id": "married-shopper",
   "metadata": {
    "execution": {
     "iopub.execute_input": "2021-01-26T01:59:12.855714Z",
     "iopub.status.busy": "2021-01-26T01:59:12.855005Z",
     "iopub.status.idle": "2021-01-26T01:59:12.876654Z",
     "shell.execute_reply": "2021-01-26T01:59:12.877148Z"
    },
    "papermill": {
     "duration": 0.044374,
     "end_time": "2021-01-26T01:59:12.877464",
     "exception": false,
     "start_time": "2021-01-26T01:59:12.833090",
     "status": "completed"
    },
    "tags": [
     "remove_cell"
    ]
   },
   "outputs": [],
   "source": [
    "summaries = []\n",
    "for idata, name in [(issues, 'issues'), (prs, 'prs'), (comments, 'comments')]:\n",
    "    idata = idata.groupby([\"repo\", \"org\"]).agg({'id': \"count\"}).reset_index().rename(columns={'id': 'count'})\n",
    "    idata[\"kind\"] = name\n",
    "    summaries.append(idata)\n",
    "summaries = pd.concat(summaries)"
   ]
  },
  {
   "cell_type": "code",
   "execution_count": 9,
   "id": "saving-large",
   "metadata": {
    "execution": {
     "iopub.execute_input": "2021-01-26T01:59:12.926929Z",
     "iopub.status.busy": "2021-01-26T01:59:12.926299Z",
     "iopub.status.idle": "2021-01-26T01:59:12.929859Z",
     "shell.execute_reply": "2021-01-26T01:59:12.929229Z"
    },
    "papermill": {
     "duration": 0.037115,
     "end_time": "2021-01-26T01:59:12.930018",
     "exception": false,
     "start_time": "2021-01-26T01:59:12.892903",
     "status": "completed"
    },
    "tags": [
     "remove_cell"
    ]
   },
   "outputs": [],
   "source": [
    "repo_summaries = summaries.groupby([\"repo\", \"kind\"]).agg({\"count\": \"sum\"}).reset_index()\n",
    "org_summaries = summaries.groupby([\"org\", \"kind\"]).agg({\"count\": \"sum\"}).reset_index()"
   ]
  },
  {
   "cell_type": "code",
   "execution_count": 10,
   "id": "exposed-optics",
   "metadata": {
    "execution": {
     "iopub.execute_input": "2021-01-26T01:59:12.971869Z",
     "iopub.status.busy": "2021-01-26T01:59:12.971281Z",
     "iopub.status.idle": "2021-01-26T01:59:12.974175Z",
     "shell.execute_reply": "2021-01-26T01:59:12.973396Z"
    },
    "papermill": {
     "duration": 0.026573,
     "end_time": "2021-01-26T01:59:12.974415",
     "exception": false,
     "start_time": "2021-01-26T01:59:12.947842",
     "status": "completed"
    },
    "tags": [
     "remove_cell"
    ]
   },
   "outputs": [],
   "source": [
    "repo_summaries['logcount'] = np.log(repo_summaries[\"count\"])"
   ]
  },
  {
   "cell_type": "code",
   "execution_count": 11,
   "id": "threatened-opposition",
   "metadata": {
    "execution": {
     "iopub.execute_input": "2021-01-26T01:59:13.029103Z",
     "iopub.status.busy": "2021-01-26T01:59:13.018619Z",
     "iopub.status.idle": "2021-01-26T01:59:13.068198Z",
     "shell.execute_reply": "2021-01-26T01:59:13.067320Z"
    },
    "papermill": {
     "duration": 0.077962,
     "end_time": "2021-01-26T01:59:13.068365",
     "exception": false,
     "start_time": "2021-01-26T01:59:12.990403",
     "status": "completed"
    },
    "tags": [
     "hide_input"
    ]
   },
   "outputs": [
    {
     "data": {
      "text/html": [
       "\n",
       "<div id=\"altair-viz-95006e9348f04b4e882148f66355e1f6\"></div>\n",
       "<script type=\"text/javascript\">\n",
       "  (function(spec, embedOpt){\n",
       "    let outputDiv = document.currentScript.previousElementSibling;\n",
       "    if (outputDiv.id !== \"altair-viz-95006e9348f04b4e882148f66355e1f6\") {\n",
       "      outputDiv = document.getElementById(\"altair-viz-95006e9348f04b4e882148f66355e1f6\");\n",
       "    }\n",
       "    const paths = {\n",
       "      \"vega\": \"https://cdn.jsdelivr.net/npm//vega@5?noext\",\n",
       "      \"vega-lib\": \"https://cdn.jsdelivr.net/npm//vega-lib?noext\",\n",
       "      \"vega-lite\": \"https://cdn.jsdelivr.net/npm//vega-lite@4.8.1?noext\",\n",
       "      \"vega-embed\": \"https://cdn.jsdelivr.net/npm//vega-embed@6?noext\",\n",
       "    };\n",
       "\n",
       "    function loadScript(lib) {\n",
       "      return new Promise(function(resolve, reject) {\n",
       "        var s = document.createElement('script');\n",
       "        s.src = paths[lib];\n",
       "        s.async = true;\n",
       "        s.onload = () => resolve(paths[lib]);\n",
       "        s.onerror = () => reject(`Error loading script: ${paths[lib]}`);\n",
       "        document.getElementsByTagName(\"head\")[0].appendChild(s);\n",
       "      });\n",
       "    }\n",
       "\n",
       "    function showError(err) {\n",
       "      outputDiv.innerHTML = `<div class=\"error\" style=\"color:red;\">${err}</div>`;\n",
       "      throw err;\n",
       "    }\n",
       "\n",
       "    function displayChart(vegaEmbed) {\n",
       "      vegaEmbed(outputDiv, spec, embedOpt)\n",
       "        .catch(err => showError(`Javascript Error: ${err.message}<br>This usually means there's a typo in your chart specification. See the javascript console for the full traceback.`));\n",
       "    }\n",
       "\n",
       "    if(typeof define === \"function\" && define.amd) {\n",
       "      requirejs.config({paths});\n",
       "      require([\"vega-embed\"], displayChart, err => showError(`Error loading script: ${err.message}`));\n",
       "    } else if (typeof vegaEmbed === \"function\") {\n",
       "      displayChart(vegaEmbed);\n",
       "    } else {\n",
       "      loadScript(\"vega\")\n",
       "        .then(() => loadScript(\"vega-lite\"))\n",
       "        .then(() => loadScript(\"vega-embed\"))\n",
       "        .catch(showError)\n",
       "        .then(() => displayChart(vegaEmbed));\n",
       "    }\n",
       "  })({\"config\": {\"axisLeft\": {\"labelFontSize\": 15}, \"axisBottom\": {\"labelFontSize\": 15}}, \"hconcat\": [{\"mark\": \"bar\", \"encoding\": {\"color\": {\"type\": \"nominal\", \"field\": \"kind\"}, \"tooltip\": {\"type\": \"nominal\", \"field\": \"kind\"}, \"x\": {\"type\": \"nominal\", \"field\": \"repo\"}, \"y\": {\"type\": \"quantitative\", \"field\": \"count\"}}, \"title\": \"Activity per repository\", \"width\": 600}, {\"mark\": \"bar\", \"encoding\": {\"color\": {\"type\": \"nominal\", \"field\": \"kind\"}, \"tooltip\": {\"type\": \"nominal\", \"field\": \"kind\"}, \"x\": {\"type\": \"nominal\", \"field\": \"repo\"}, \"y\": {\"type\": \"quantitative\", \"field\": \"logcount\"}}, \"title\": \"Log activity per repository\", \"width\": 600}], \"data\": {\"name\": \"data-9b68986c5b3d06b8aeb3e77e39e5928e\"}, \"$schema\": \"https://vega.github.io/schema/vega-lite/v4.8.1.json\", \"datasets\": {\"data-9b68986c5b3d06b8aeb3e77e39e5928e\": [{\"repo\": \"nbgitpuller\", \"kind\": \"comments\", \"count\": 1, \"logcount\": 0.0}, {\"repo\": \"the-littlest-jupyterhub\", \"kind\": \"comments\", \"count\": 5, \"logcount\": 1.6094379124341003}, {\"repo\": \"the-littlest-jupyterhub\", \"kind\": \"issues\", \"count\": 1, \"logcount\": 0.0}, {\"repo\": \"the-littlest-jupyterhub\", \"kind\": \"prs\", \"count\": 3, \"logcount\": 1.0986122886681098}, {\"repo\": \"traefik-proxy\", \"kind\": \"comments\", \"count\": 1, \"logcount\": 0.0}]}}, {\"mode\": \"vega-lite\"});\n",
       "</script>"
      ],
      "text/plain": [
       "alt.HConcatChart(...)"
      ]
     },
     "execution_count": 11,
     "metadata": {},
     "output_type": "execute_result"
    }
   ],
   "source": [
    "ch1 = alt.Chart(repo_summaries, width=600, title=\"Activity per repository\").mark_bar().encode(\n",
    "    x='repo',\n",
    "    y='count',\n",
    "    color='kind',\n",
    "    tooltip=\"kind\"\n",
    ")\n",
    "\n",
    "ch2 = alt.Chart(repo_summaries, width=600, title=\"Log activity per repository\").mark_bar().encode(\n",
    "    x='repo',\n",
    "    y='logcount',\n",
    "    color='kind',\n",
    "    tooltip=\"kind\"\n",
    ")\n",
    "\n",
    "ch1 | ch2"
   ]
  },
  {
   "cell_type": "code",
   "execution_count": 12,
   "id": "racial-century",
   "metadata": {
    "execution": {
     "iopub.execute_input": "2021-01-26T01:59:13.133154Z",
     "iopub.status.busy": "2021-01-26T01:59:13.119312Z",
     "iopub.status.idle": "2021-01-26T01:59:13.137456Z",
     "shell.execute_reply": "2021-01-26T01:59:13.136914Z"
    },
    "papermill": {
     "duration": 0.048906,
     "end_time": "2021-01-26T01:59:13.137614",
     "exception": false,
     "start_time": "2021-01-26T01:59:13.088708",
     "status": "completed"
    },
    "tags": [
     "hide_input"
    ]
   },
   "outputs": [
    {
     "data": {
      "text/html": [
       "\n",
       "<div id=\"altair-viz-920d21e4470940d9a5162c532473c6ee\"></div>\n",
       "<script type=\"text/javascript\">\n",
       "  (function(spec, embedOpt){\n",
       "    let outputDiv = document.currentScript.previousElementSibling;\n",
       "    if (outputDiv.id !== \"altair-viz-920d21e4470940d9a5162c532473c6ee\") {\n",
       "      outputDiv = document.getElementById(\"altair-viz-920d21e4470940d9a5162c532473c6ee\");\n",
       "    }\n",
       "    const paths = {\n",
       "      \"vega\": \"https://cdn.jsdelivr.net/npm//vega@5?noext\",\n",
       "      \"vega-lib\": \"https://cdn.jsdelivr.net/npm//vega-lib?noext\",\n",
       "      \"vega-lite\": \"https://cdn.jsdelivr.net/npm//vega-lite@4.8.1?noext\",\n",
       "      \"vega-embed\": \"https://cdn.jsdelivr.net/npm//vega-embed@6?noext\",\n",
       "    };\n",
       "\n",
       "    function loadScript(lib) {\n",
       "      return new Promise(function(resolve, reject) {\n",
       "        var s = document.createElement('script');\n",
       "        s.src = paths[lib];\n",
       "        s.async = true;\n",
       "        s.onload = () => resolve(paths[lib]);\n",
       "        s.onerror = () => reject(`Error loading script: ${paths[lib]}`);\n",
       "        document.getElementsByTagName(\"head\")[0].appendChild(s);\n",
       "      });\n",
       "    }\n",
       "\n",
       "    function showError(err) {\n",
       "      outputDiv.innerHTML = `<div class=\"error\" style=\"color:red;\">${err}</div>`;\n",
       "      throw err;\n",
       "    }\n",
       "\n",
       "    function displayChart(vegaEmbed) {\n",
       "      vegaEmbed(outputDiv, spec, embedOpt)\n",
       "        .catch(err => showError(`Javascript Error: ${err.message}<br>This usually means there's a typo in your chart specification. See the javascript console for the full traceback.`));\n",
       "    }\n",
       "\n",
       "    if(typeof define === \"function\" && define.amd) {\n",
       "      requirejs.config({paths});\n",
       "      require([\"vega-embed\"], displayChart, err => showError(`Error loading script: ${err.message}`));\n",
       "    } else if (typeof vegaEmbed === \"function\") {\n",
       "      displayChart(vegaEmbed);\n",
       "    } else {\n",
       "      loadScript(\"vega\")\n",
       "        .then(() => loadScript(\"vega-lite\"))\n",
       "        .then(() => loadScript(\"vega-embed\"))\n",
       "        .catch(showError)\n",
       "        .then(() => displayChart(vegaEmbed));\n",
       "    }\n",
       "  })({\"config\": {\"axisLeft\": {\"labelFontSize\": 15}, \"axisBottom\": {\"labelFontSize\": 15}}, \"data\": {\"name\": \"data-98ff69868f0df57d83da0e3b206e1d4c\"}, \"mark\": \"bar\", \"encoding\": {\"color\": {\"type\": \"nominal\", \"field\": \"kind\"}, \"tooltip\": {\"type\": \"nominal\", \"field\": \"org\"}, \"x\": {\"type\": \"nominal\", \"field\": \"org\"}, \"y\": {\"type\": \"quantitative\", \"field\": \"count\"}}, \"width\": 600, \"$schema\": \"https://vega.github.io/schema/vega-lite/v4.8.1.json\", \"datasets\": {\"data-98ff69868f0df57d83da0e3b206e1d4c\": [{\"org\": \"jupyterhub\", \"kind\": \"comments\", \"count\": 7}, {\"org\": \"jupyterhub\", \"kind\": \"issues\", \"count\": 1}, {\"org\": \"jupyterhub\", \"kind\": \"prs\", \"count\": 3}]}}, {\"mode\": \"vega-lite\"});\n",
       "</script>"
      ],
      "text/plain": [
       "alt.Chart(...)"
      ]
     },
     "execution_count": 12,
     "metadata": {},
     "output_type": "execute_result"
    }
   ],
   "source": [
    "alt.Chart(org_summaries, width=600).mark_bar().encode(\n",
    "    x='org',\n",
    "    y='count',\n",
    "    color='kind',\n",
    "    tooltip=\"org\"\n",
    ")"
   ]
  },
  {
   "cell_type": "markdown",
   "id": "random-comparative",
   "metadata": {
    "papermill": {
     "duration": 0.017091,
     "end_time": "2021-01-26T01:59:13.171708",
     "exception": false,
     "start_time": "2021-01-26T01:59:13.154617",
     "status": "completed"
    },
    "tags": []
   },
   "source": [
    "## By repository over time"
   ]
  },
  {
   "cell_type": "markdown",
   "id": "signed-gasoline",
   "metadata": {
    "papermill": {
     "duration": 0.017542,
     "end_time": "2021-01-26T01:59:13.210510",
     "exception": false,
     "start_time": "2021-01-26T01:59:13.192968",
     "status": "completed"
    },
    "tags": []
   },
   "source": [
    "### Comments"
   ]
  },
  {
   "cell_type": "code",
   "execution_count": 13,
   "id": "differential-prevention",
   "metadata": {
    "execution": {
     "iopub.execute_input": "2021-01-26T01:59:13.250887Z",
     "iopub.status.busy": "2021-01-26T01:59:13.250278Z",
     "iopub.status.idle": "2021-01-26T01:59:13.310169Z",
     "shell.execute_reply": "2021-01-26T01:59:13.310647Z"
    },
    "papermill": {
     "duration": 0.083187,
     "end_time": "2021-01-26T01:59:13.310871",
     "exception": false,
     "start_time": "2021-01-26T01:59:13.227684",
     "status": "completed"
    },
    "tags": [
     "hide_input"
    ]
   },
   "outputs": [
    {
     "data": {
      "text/html": [
       "\n",
       "<div id=\"altair-viz-76e08f8ef8e143fea27898ff4598f127\"></div>\n",
       "<script type=\"text/javascript\">\n",
       "  (function(spec, embedOpt){\n",
       "    let outputDiv = document.currentScript.previousElementSibling;\n",
       "    if (outputDiv.id !== \"altair-viz-76e08f8ef8e143fea27898ff4598f127\") {\n",
       "      outputDiv = document.getElementById(\"altair-viz-76e08f8ef8e143fea27898ff4598f127\");\n",
       "    }\n",
       "    const paths = {\n",
       "      \"vega\": \"https://cdn.jsdelivr.net/npm//vega@5?noext\",\n",
       "      \"vega-lib\": \"https://cdn.jsdelivr.net/npm//vega-lib?noext\",\n",
       "      \"vega-lite\": \"https://cdn.jsdelivr.net/npm//vega-lite@4.8.1?noext\",\n",
       "      \"vega-embed\": \"https://cdn.jsdelivr.net/npm//vega-embed@6?noext\",\n",
       "    };\n",
       "\n",
       "    function loadScript(lib) {\n",
       "      return new Promise(function(resolve, reject) {\n",
       "        var s = document.createElement('script');\n",
       "        s.src = paths[lib];\n",
       "        s.async = true;\n",
       "        s.onload = () => resolve(paths[lib]);\n",
       "        s.onerror = () => reject(`Error loading script: ${paths[lib]}`);\n",
       "        document.getElementsByTagName(\"head\")[0].appendChild(s);\n",
       "      });\n",
       "    }\n",
       "\n",
       "    function showError(err) {\n",
       "      outputDiv.innerHTML = `<div class=\"error\" style=\"color:red;\">${err}</div>`;\n",
       "      throw err;\n",
       "    }\n",
       "\n",
       "    function displayChart(vegaEmbed) {\n",
       "      vegaEmbed(outputDiv, spec, embedOpt)\n",
       "        .catch(err => showError(`Javascript Error: ${err.message}<br>This usually means there's a typo in your chart specification. See the javascript console for the full traceback.`));\n",
       "    }\n",
       "\n",
       "    if(typeof define === \"function\" && define.amd) {\n",
       "      requirejs.config({paths});\n",
       "      require([\"vega-embed\"], displayChart, err => showError(`Error loading script: ${err.message}`));\n",
       "    } else if (typeof vegaEmbed === \"function\") {\n",
       "      displayChart(vegaEmbed);\n",
       "    } else {\n",
       "      loadScript(\"vega\")\n",
       "        .then(() => loadScript(\"vega-lite\"))\n",
       "        .then(() => loadScript(\"vega-embed\"))\n",
       "        .catch(showError)\n",
       "        .then(() => displayChart(vegaEmbed));\n",
       "    }\n",
       "  })({\"config\": {\"axisLeft\": {\"labelFontSize\": 15}, \"axisBottom\": {\"labelFontSize\": 15}}, \"layer\": [{\"data\": {\"name\": \"data-40f0784dc03d757280b7fd8b65e5031e\"}, \"mark\": \"line\", \"encoding\": {\"color\": {\"type\": \"nominal\", \"field\": \"repo\"}, \"tooltip\": {\"type\": \"nominal\", \"field\": \"repo\"}, \"x\": {\"type\": \"temporal\", \"field\": \"createdAt\"}, \"y\": {\"type\": \"quantitative\", \"field\": \"count\"}}, \"width\": 600}, {\"data\": {\"name\": \"data-03fd167e6b3bf563c6898299dd993e40\"}, \"mark\": {\"type\": \"line\", \"color\": \"black\"}, \"encoding\": {\"x\": {\"type\": \"temporal\", \"field\": \"createdAt\"}, \"y\": {\"type\": \"quantitative\", \"field\": \"count\"}}, \"width\": 600}], \"$schema\": \"https://vega.github.io/schema/vega-lite/v4.8.1.json\", \"datasets\": {\"data-40f0784dc03d757280b7fd8b65e5031e\": [{\"repo\": \"nbgitpuller\", \"createdAt\": \"2020-12-20T00:00:00\", \"count\": 1}, {\"repo\": \"the-littlest-jupyterhub\", \"createdAt\": \"2020-12-20T00:00:00\", \"count\": 3}, {\"repo\": \"the-littlest-jupyterhub\", \"createdAt\": \"2020-12-27T00:00:00\", \"count\": 1}, {\"repo\": \"the-littlest-jupyterhub\", \"createdAt\": \"2021-01-03T00:00:00\", \"count\": 1}, {\"repo\": \"traefik-proxy\", \"createdAt\": \"2020-12-06T00:00:00\", \"count\": 1}], \"data-03fd167e6b3bf563c6898299dd993e40\": [{\"createdAt\": \"2020-12-06T00:00:00\", \"count\": 1}, {\"createdAt\": \"2020-12-20T00:00:00\", \"count\": 4}, {\"createdAt\": \"2020-12-27T00:00:00\", \"count\": 1}, {\"createdAt\": \"2021-01-03T00:00:00\", \"count\": 1}]}}, {\"mode\": \"vega-lite\"});\n",
       "</script>"
      ],
      "text/plain": [
       "alt.LayerChart(...)"
      ]
     },
     "execution_count": 13,
     "metadata": {},
     "output_type": "execute_result"
    }
   ],
   "source": [
    "comments_time = comments.groupby('repo').resample('W', on='createdAt').count()['author'].reset_index()\n",
    "comments_time = comments_time.rename(columns={'author': 'count'})\n",
    "comments_time_total = comments_time.groupby('createdAt').agg({\"count\": \"sum\"}).reset_index()\n",
    "ch1 = alt.Chart(comments_time, width=600).mark_line().encode(\n",
    "    x='createdAt',\n",
    "    y='count',\n",
    "    color='repo',\n",
    "    tooltip=\"repo\"\n",
    ")\n",
    "\n",
    "ch2 = alt.Chart(comments_time_total, width=600).mark_line(color=\"black\").encode(\n",
    "    x='createdAt',\n",
    "    y='count',\n",
    ")\n",
    "\n",
    "ch1 + ch2"
   ]
  },
  {
   "cell_type": "markdown",
   "id": "purple-event",
   "metadata": {
    "papermill": {
     "duration": 0.018594,
     "end_time": "2021-01-26T01:59:13.348534",
     "exception": false,
     "start_time": "2021-01-26T01:59:13.329940",
     "status": "completed"
    },
    "tags": []
   },
   "source": [
    "### PRs"
   ]
  },
  {
   "cell_type": "code",
   "execution_count": 14,
   "id": "brazilian-group",
   "metadata": {
    "execution": {
     "iopub.execute_input": "2021-01-26T01:59:13.395677Z",
     "iopub.status.busy": "2021-01-26T01:59:13.395035Z",
     "iopub.status.idle": "2021-01-26T01:59:13.443713Z",
     "shell.execute_reply": "2021-01-26T01:59:13.444175Z"
    },
    "papermill": {
     "duration": 0.07914,
     "end_time": "2021-01-26T01:59:13.444348",
     "exception": false,
     "start_time": "2021-01-26T01:59:13.365208",
     "status": "completed"
    },
    "tags": [
     "hide_input"
    ]
   },
   "outputs": [
    {
     "data": {
      "text/html": [
       "\n",
       "<div id=\"altair-viz-d4cba89d5fe54dd884a66da484da87dd\"></div>\n",
       "<script type=\"text/javascript\">\n",
       "  (function(spec, embedOpt){\n",
       "    let outputDiv = document.currentScript.previousElementSibling;\n",
       "    if (outputDiv.id !== \"altair-viz-d4cba89d5fe54dd884a66da484da87dd\") {\n",
       "      outputDiv = document.getElementById(\"altair-viz-d4cba89d5fe54dd884a66da484da87dd\");\n",
       "    }\n",
       "    const paths = {\n",
       "      \"vega\": \"https://cdn.jsdelivr.net/npm//vega@5?noext\",\n",
       "      \"vega-lib\": \"https://cdn.jsdelivr.net/npm//vega-lib?noext\",\n",
       "      \"vega-lite\": \"https://cdn.jsdelivr.net/npm//vega-lite@4.8.1?noext\",\n",
       "      \"vega-embed\": \"https://cdn.jsdelivr.net/npm//vega-embed@6?noext\",\n",
       "    };\n",
       "\n",
       "    function loadScript(lib) {\n",
       "      return new Promise(function(resolve, reject) {\n",
       "        var s = document.createElement('script');\n",
       "        s.src = paths[lib];\n",
       "        s.async = true;\n",
       "        s.onload = () => resolve(paths[lib]);\n",
       "        s.onerror = () => reject(`Error loading script: ${paths[lib]}`);\n",
       "        document.getElementsByTagName(\"head\")[0].appendChild(s);\n",
       "      });\n",
       "    }\n",
       "\n",
       "    function showError(err) {\n",
       "      outputDiv.innerHTML = `<div class=\"error\" style=\"color:red;\">${err}</div>`;\n",
       "      throw err;\n",
       "    }\n",
       "\n",
       "    function displayChart(vegaEmbed) {\n",
       "      vegaEmbed(outputDiv, spec, embedOpt)\n",
       "        .catch(err => showError(`Javascript Error: ${err.message}<br>This usually means there's a typo in your chart specification. See the javascript console for the full traceback.`));\n",
       "    }\n",
       "\n",
       "    if(typeof define === \"function\" && define.amd) {\n",
       "      requirejs.config({paths});\n",
       "      require([\"vega-embed\"], displayChart, err => showError(`Error loading script: ${err.message}`));\n",
       "    } else if (typeof vegaEmbed === \"function\") {\n",
       "      displayChart(vegaEmbed);\n",
       "    } else {\n",
       "      loadScript(\"vega\")\n",
       "        .then(() => loadScript(\"vega-lite\"))\n",
       "        .then(() => loadScript(\"vega-embed\"))\n",
       "        .catch(showError)\n",
       "        .then(() => displayChart(vegaEmbed));\n",
       "    }\n",
       "  })({\"config\": {\"axisLeft\": {\"labelFontSize\": 15}, \"axisBottom\": {\"labelFontSize\": 15}}, \"layer\": [{\"data\": {\"name\": \"data-46d5e75a5afbf9f1e1d262ee521d30da\"}, \"mark\": \"line\", \"encoding\": {\"color\": {\"type\": \"nominal\", \"field\": \"repo\"}, \"tooltip\": {\"type\": \"nominal\", \"field\": \"repo\"}, \"x\": {\"type\": \"temporal\", \"field\": \"createdAt\"}, \"y\": {\"type\": \"quantitative\", \"field\": \"count\"}}, \"width\": 600}, {\"data\": {\"name\": \"data-8e8f8ba9a85221a8b09ae34be80bc4ab\"}, \"mark\": {\"type\": \"line\", \"color\": \"black\"}, \"encoding\": {\"x\": {\"type\": \"temporal\", \"field\": \"createdAt\"}, \"y\": {\"type\": \"quantitative\", \"field\": \"count\"}}, \"width\": 600}], \"$schema\": \"https://vega.github.io/schema/vega-lite/v4.8.1.json\", \"datasets\": {\"data-46d5e75a5afbf9f1e1d262ee521d30da\": [{\"repo\": \"the-littlest-jupyterhub\", \"createdAt\": \"2020-11-29T00:00:00\", \"count\": 1}, {\"repo\": \"the-littlest-jupyterhub\", \"createdAt\": \"2020-12-06T00:00:00\", \"count\": 0}, {\"repo\": \"the-littlest-jupyterhub\", \"createdAt\": \"2020-12-13T00:00:00\", \"count\": 0}, {\"repo\": \"the-littlest-jupyterhub\", \"createdAt\": \"2020-12-20T00:00:00\", \"count\": 0}, {\"repo\": \"the-littlest-jupyterhub\", \"createdAt\": \"2020-12-27T00:00:00\", \"count\": 1}, {\"repo\": \"the-littlest-jupyterhub\", \"createdAt\": \"2021-01-03T00:00:00\", \"count\": 1}], \"data-8e8f8ba9a85221a8b09ae34be80bc4ab\": [{\"createdAt\": \"2020-11-29T00:00:00\", \"count\": 1}, {\"createdAt\": \"2020-12-06T00:00:00\", \"count\": 0}, {\"createdAt\": \"2020-12-13T00:00:00\", \"count\": 0}, {\"createdAt\": \"2020-12-20T00:00:00\", \"count\": 0}, {\"createdAt\": \"2020-12-27T00:00:00\", \"count\": 1}, {\"createdAt\": \"2021-01-03T00:00:00\", \"count\": 1}]}}, {\"mode\": \"vega-lite\"});\n",
       "</script>"
      ],
      "text/plain": [
       "alt.LayerChart(...)"
      ]
     },
     "execution_count": 14,
     "metadata": {},
     "output_type": "execute_result"
    }
   ],
   "source": [
    "prs_time = prs.groupby('repo').resample('W', on='createdAt').count()['author'].reset_index()\n",
    "prs_time = prs_time.rename(columns={'author': 'count'})\n",
    "prs_time_total = prs_time.groupby('createdAt').agg({\"count\": \"sum\"}).reset_index()\n",
    "\n",
    "ch1 = alt.Chart(prs_time, width=600).mark_line().encode(\n",
    "    x='createdAt',\n",
    "    y='count',\n",
    "    color='repo',\n",
    "    tooltip=\"repo\"\n",
    ")\n",
    "\n",
    "ch2 = alt.Chart(prs_time_total, width=600).mark_line(color=\"black\").encode(\n",
    "    x='createdAt',\n",
    "    y='count',\n",
    ")\n",
    "\n",
    "ch1 + ch2"
   ]
  },
  {
   "cell_type": "code",
   "execution_count": 15,
   "id": "tough-nightmare",
   "metadata": {
    "execution": {
     "iopub.execute_input": "2021-01-26T01:59:13.487225Z",
     "iopub.status.busy": "2021-01-26T01:59:13.486607Z",
     "iopub.status.idle": "2021-01-26T01:59:13.530975Z",
     "shell.execute_reply": "2021-01-26T01:59:13.531478Z"
    },
    "papermill": {
     "duration": 0.067895,
     "end_time": "2021-01-26T01:59:13.531724",
     "exception": false,
     "start_time": "2021-01-26T01:59:13.463829",
     "status": "completed"
    },
    "tags": [
     "hide_input"
    ]
   },
   "outputs": [
    {
     "data": {
      "text/html": [
       "\n",
       "<div id=\"altair-viz-a89a24bbdd4e42d9838c9fab2e438a6b\"></div>\n",
       "<script type=\"text/javascript\">\n",
       "  (function(spec, embedOpt){\n",
       "    let outputDiv = document.currentScript.previousElementSibling;\n",
       "    if (outputDiv.id !== \"altair-viz-a89a24bbdd4e42d9838c9fab2e438a6b\") {\n",
       "      outputDiv = document.getElementById(\"altair-viz-a89a24bbdd4e42d9838c9fab2e438a6b\");\n",
       "    }\n",
       "    const paths = {\n",
       "      \"vega\": \"https://cdn.jsdelivr.net/npm//vega@5?noext\",\n",
       "      \"vega-lib\": \"https://cdn.jsdelivr.net/npm//vega-lib?noext\",\n",
       "      \"vega-lite\": \"https://cdn.jsdelivr.net/npm//vega-lite@4.8.1?noext\",\n",
       "      \"vega-embed\": \"https://cdn.jsdelivr.net/npm//vega-embed@6?noext\",\n",
       "    };\n",
       "\n",
       "    function loadScript(lib) {\n",
       "      return new Promise(function(resolve, reject) {\n",
       "        var s = document.createElement('script');\n",
       "        s.src = paths[lib];\n",
       "        s.async = true;\n",
       "        s.onload = () => resolve(paths[lib]);\n",
       "        s.onerror = () => reject(`Error loading script: ${paths[lib]}`);\n",
       "        document.getElementsByTagName(\"head\")[0].appendChild(s);\n",
       "      });\n",
       "    }\n",
       "\n",
       "    function showError(err) {\n",
       "      outputDiv.innerHTML = `<div class=\"error\" style=\"color:red;\">${err}</div>`;\n",
       "      throw err;\n",
       "    }\n",
       "\n",
       "    function displayChart(vegaEmbed) {\n",
       "      vegaEmbed(outputDiv, spec, embedOpt)\n",
       "        .catch(err => showError(`Javascript Error: ${err.message}<br>This usually means there's a typo in your chart specification. See the javascript console for the full traceback.`));\n",
       "    }\n",
       "\n",
       "    if(typeof define === \"function\" && define.amd) {\n",
       "      requirejs.config({paths});\n",
       "      require([\"vega-embed\"], displayChart, err => showError(`Error loading script: ${err.message}`));\n",
       "    } else if (typeof vegaEmbed === \"function\") {\n",
       "      displayChart(vegaEmbed);\n",
       "    } else {\n",
       "      loadScript(\"vega\")\n",
       "        .then(() => loadScript(\"vega-lite\"))\n",
       "        .then(() => loadScript(\"vega-embed\"))\n",
       "        .catch(showError)\n",
       "        .then(() => displayChart(vegaEmbed));\n",
       "    }\n",
       "  })({\"config\": {\"axisLeft\": {\"labelFontSize\": 15}, \"axisBottom\": {\"labelFontSize\": 15}}, \"data\": {\"name\": \"data-1149031fdacd8047019d21fad8ed3624\"}, \"mark\": \"line\", \"encoding\": {\"color\": {\"type\": \"nominal\", \"field\": \"repo\"}, \"tooltip\": {\"type\": \"nominal\", \"field\": \"repo\"}, \"x\": {\"type\": \"temporal\", \"field\": \"closedAt\"}, \"y\": {\"type\": \"quantitative\", \"field\": \"count\"}}, \"width\": 600, \"$schema\": \"https://vega.github.io/schema/vega-lite/v4.8.1.json\", \"datasets\": {\"data-1149031fdacd8047019d21fad8ed3624\": [{\"repo\": \"the-littlest-jupyterhub\", \"closedAt\": \"2020-12-06T00:00:00\", \"count\": 1}, {\"repo\": \"the-littlest-jupyterhub\", \"closedAt\": \"2020-12-13T00:00:00\", \"count\": 0}, {\"repo\": \"the-littlest-jupyterhub\", \"closedAt\": \"2020-12-20T00:00:00\", \"count\": 1}, {\"repo\": \"the-littlest-jupyterhub\", \"closedAt\": \"2020-12-27T00:00:00\", \"count\": 0}, {\"repo\": \"the-littlest-jupyterhub\", \"closedAt\": \"2021-01-03T00:00:00\", \"count\": 2}, {\"repo\": \"traefik-proxy\", \"closedAt\": \"2020-12-06T00:00:00\", \"count\": 1}]}}, {\"mode\": \"vega-lite\"});\n",
       "</script>"
      ],
      "text/plain": [
       "alt.Chart(...)"
      ]
     },
     "execution_count": 15,
     "metadata": {},
     "output_type": "execute_result"
    }
   ],
   "source": [
    "closed_by_time = closed_by.groupby('repo').resample('W', on='closedAt').count()['author'].reset_index()\n",
    "closed_by_time = closed_by_time.rename(columns={'author': 'count'})\n",
    "\n",
    "alt.Chart(closed_by_time, width=600).mark_line().encode(\n",
    "    x='closedAt',\n",
    "    y='count',\n",
    "    color='repo',\n",
    "    tooltip=\"repo\"\n",
    ")"
   ]
  },
  {
   "cell_type": "markdown",
   "id": "plastic-adaptation",
   "metadata": {
    "papermill": {
     "duration": 0.019543,
     "end_time": "2021-01-26T01:59:13.570827",
     "exception": false,
     "start_time": "2021-01-26T01:59:13.551284",
     "status": "completed"
    },
    "tags": []
   },
   "source": [
    "## By type over time"
   ]
  },
  {
   "cell_type": "code",
   "execution_count": 16,
   "id": "rising-hayes",
   "metadata": {
    "execution": {
     "iopub.execute_input": "2021-01-26T01:59:13.624194Z",
     "iopub.status.busy": "2021-01-26T01:59:13.623413Z",
     "iopub.status.idle": "2021-01-26T01:59:13.639691Z",
     "shell.execute_reply": "2021-01-26T01:59:13.640250Z"
    },
    "papermill": {
     "duration": 0.048287,
     "end_time": "2021-01-26T01:59:13.640438",
     "exception": false,
     "start_time": "2021-01-26T01:59:13.592151",
     "status": "completed"
    },
    "tags": [
     "remove_cell"
    ]
   },
   "outputs": [],
   "source": [
    "prs_time = prs[['author', 'createdAt']].resample('W', on='createdAt').count()['author'].reset_index()\n",
    "prs_time = prs_time.rename(columns={'author': 'prs'})\n",
    "comments_time = comments[['author', 'createdAt']].resample('W', on='createdAt').count()['author'].reset_index()\n",
    "comments_time = comments_time.rename(columns={'author': 'comments'})\n",
    "\n",
    "total_time = pd.merge(prs_time, comments_time, on='createdAt', how='outer')\n",
    "total_time = total_time.melt(id_vars='createdAt', var_name=\"kind\", value_name=\"count\")\n"
   ]
  },
  {
   "cell_type": "code",
   "execution_count": 17,
   "id": "innovative-creature",
   "metadata": {
    "execution": {
     "iopub.execute_input": "2021-01-26T01:59:13.681049Z",
     "iopub.status.busy": "2021-01-26T01:59:13.680471Z",
     "iopub.status.idle": "2021-01-26T01:59:13.705035Z",
     "shell.execute_reply": "2021-01-26T01:59:13.704544Z"
    },
    "papermill": {
     "duration": 0.046507,
     "end_time": "2021-01-26T01:59:13.705178",
     "exception": false,
     "start_time": "2021-01-26T01:59:13.658671",
     "status": "completed"
    },
    "tags": [
     "hide_input"
    ]
   },
   "outputs": [
    {
     "data": {
      "text/html": [
       "\n",
       "<div id=\"altair-viz-ad4b657c6b9841efab38be62d14b18f7\"></div>\n",
       "<script type=\"text/javascript\">\n",
       "  (function(spec, embedOpt){\n",
       "    let outputDiv = document.currentScript.previousElementSibling;\n",
       "    if (outputDiv.id !== \"altair-viz-ad4b657c6b9841efab38be62d14b18f7\") {\n",
       "      outputDiv = document.getElementById(\"altair-viz-ad4b657c6b9841efab38be62d14b18f7\");\n",
       "    }\n",
       "    const paths = {\n",
       "      \"vega\": \"https://cdn.jsdelivr.net/npm//vega@5?noext\",\n",
       "      \"vega-lib\": \"https://cdn.jsdelivr.net/npm//vega-lib?noext\",\n",
       "      \"vega-lite\": \"https://cdn.jsdelivr.net/npm//vega-lite@4.8.1?noext\",\n",
       "      \"vega-embed\": \"https://cdn.jsdelivr.net/npm//vega-embed@6?noext\",\n",
       "    };\n",
       "\n",
       "    function loadScript(lib) {\n",
       "      return new Promise(function(resolve, reject) {\n",
       "        var s = document.createElement('script');\n",
       "        s.src = paths[lib];\n",
       "        s.async = true;\n",
       "        s.onload = () => resolve(paths[lib]);\n",
       "        s.onerror = () => reject(`Error loading script: ${paths[lib]}`);\n",
       "        document.getElementsByTagName(\"head\")[0].appendChild(s);\n",
       "      });\n",
       "    }\n",
       "\n",
       "    function showError(err) {\n",
       "      outputDiv.innerHTML = `<div class=\"error\" style=\"color:red;\">${err}</div>`;\n",
       "      throw err;\n",
       "    }\n",
       "\n",
       "    function displayChart(vegaEmbed) {\n",
       "      vegaEmbed(outputDiv, spec, embedOpt)\n",
       "        .catch(err => showError(`Javascript Error: ${err.message}<br>This usually means there's a typo in your chart specification. See the javascript console for the full traceback.`));\n",
       "    }\n",
       "\n",
       "    if(typeof define === \"function\" && define.amd) {\n",
       "      requirejs.config({paths});\n",
       "      require([\"vega-embed\"], displayChart, err => showError(`Error loading script: ${err.message}`));\n",
       "    } else if (typeof vegaEmbed === \"function\") {\n",
       "      displayChart(vegaEmbed);\n",
       "    } else {\n",
       "      loadScript(\"vega\")\n",
       "        .then(() => loadScript(\"vega-lite\"))\n",
       "        .then(() => loadScript(\"vega-embed\"))\n",
       "        .catch(showError)\n",
       "        .then(() => displayChart(vegaEmbed));\n",
       "    }\n",
       "  })({\"config\": {\"axisLeft\": {\"labelFontSize\": 15}, \"axisBottom\": {\"labelFontSize\": 15}}, \"data\": {\"name\": \"data-cc2cdde493e148536db9e00b428f8adc\"}, \"mark\": \"line\", \"encoding\": {\"color\": {\"type\": \"nominal\", \"field\": \"kind\"}, \"x\": {\"type\": \"temporal\", \"field\": \"createdAt\"}, \"y\": {\"type\": \"quantitative\", \"field\": \"count\"}}, \"width\": 600, \"$schema\": \"https://vega.github.io/schema/vega-lite/v4.8.1.json\", \"datasets\": {\"data-cc2cdde493e148536db9e00b428f8adc\": [{\"createdAt\": \"2020-11-29T00:00:00\", \"kind\": \"prs\", \"count\": 1.0}, {\"createdAt\": \"2020-12-06T00:00:00\", \"kind\": \"prs\", \"count\": 0.0}, {\"createdAt\": \"2020-12-13T00:00:00\", \"kind\": \"prs\", \"count\": 0.0}, {\"createdAt\": \"2020-12-20T00:00:00\", \"kind\": \"prs\", \"count\": 0.0}, {\"createdAt\": \"2020-12-27T00:00:00\", \"kind\": \"prs\", \"count\": 1.0}, {\"createdAt\": \"2021-01-03T00:00:00\", \"kind\": \"prs\", \"count\": 1.0}, {\"createdAt\": \"2020-11-29T00:00:00\", \"kind\": \"comments\", \"count\": null}, {\"createdAt\": \"2020-12-06T00:00:00\", \"kind\": \"comments\", \"count\": 1.0}, {\"createdAt\": \"2020-12-13T00:00:00\", \"kind\": \"comments\", \"count\": 0.0}, {\"createdAt\": \"2020-12-20T00:00:00\", \"kind\": \"comments\", \"count\": 4.0}, {\"createdAt\": \"2020-12-27T00:00:00\", \"kind\": \"comments\", \"count\": 1.0}, {\"createdAt\": \"2021-01-03T00:00:00\", \"kind\": \"comments\", \"count\": 1.0}]}}, {\"mode\": \"vega-lite\"});\n",
       "</script>"
      ],
      "text/plain": [
       "alt.Chart(...)"
      ]
     },
     "execution_count": 17,
     "metadata": {},
     "output_type": "execute_result"
    }
   ],
   "source": [
    "alt.Chart(total_time, width=600).mark_line().encode(\n",
    "    x='createdAt',\n",
    "    y='count',\n",
    "    color='kind'\n",
    ")"
   ]
  }
 ],
 "metadata": {
  "kernelspec": {
   "display_name": "Python 3",
   "language": "python",
   "name": "python3"
  },
  "language_info": {
   "codemirror_mode": {
    "name": "ipython",
    "version": 3
   },
   "file_extension": ".py",
   "mimetype": "text/x-python",
   "name": "python",
   "nbconvert_exporter": "python",
   "pygments_lexer": "ipython3",
   "version": "3.7.9"
  },
  "papermill": {
   "default_parameters": {},
   "duration": 3.80268,
   "end_time": "2021-01-26T01:59:14.133609",
   "environment_variables": {},
   "exception": null,
   "input_path": "./person.ipynb",
   "output_path": "people/GeorgianaElena.ipynb",
   "parameters": {
    "n_days": 60,
    "person": "GeorgianaElena"
   },
   "start_time": "2021-01-26T01:59:10.330929",
   "version": "2.3.1"
  },
  "widgets": {
   "application/vnd.jupyter.widget-state+json": {
    "state": {},
    "version_major": 2,
    "version_minor": 0
   }
  }
 },
 "nbformat": 4,
 "nbformat_minor": 5
}