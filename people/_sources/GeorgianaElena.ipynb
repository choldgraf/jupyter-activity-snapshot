{
 "cells": [
  {
   "cell_type": "markdown",
   "id": "8aee829e",
   "metadata": {
    "papermill": {
     "duration": 0.013811,
     "end_time": "2021-10-16T01:34:23.349898",
     "exception": false,
     "start_time": "2021-10-16T01:34:23.336087",
     "status": "completed"
    },
    "tags": []
   },
   "source": [
    "# Report for GeorgianaElena"
   ]
  },
  {
   "cell_type": "code",
   "execution_count": 1,
   "id": "71df813d",
   "metadata": {
    "execution": {
     "iopub.execute_input": "2021-10-16T01:34:23.387887Z",
     "iopub.status.busy": "2021-10-16T01:34:23.387307Z",
     "iopub.status.idle": "2021-10-16T01:34:24.290419Z",
     "shell.execute_reply": "2021-10-16T01:34:24.289805Z"
    },
    "papermill": {
     "duration": 0.926552,
     "end_time": "2021-10-16T01:34:24.290592",
     "exception": false,
     "start_time": "2021-10-16T01:34:23.364040",
     "status": "completed"
    },
    "tags": [
     "remove_cell"
    ]
   },
   "outputs": [],
   "source": [
    "import seaborn as sns\n",
    "import pandas as pd\n",
    "import numpy as np\n",
    "import altair as alt\n",
    "from markdown import markdown\n",
    "from IPython.display import Markdown\n",
    "from ipywidgets.widgets import HTML, Tab\n",
    "from ipywidgets import widgets\n",
    "from datetime import timedelta\n",
    "from matplotlib import pyplot as plt\n",
    "import os.path as op\n",
    "\n",
    "from mycode import alt_theme\n",
    "from warnings import simplefilter\n",
    "simplefilter('ignore')"
   ]
  },
  {
   "cell_type": "code",
   "execution_count": 2,
   "id": "c927eab7",
   "metadata": {
    "execution": {
     "iopub.execute_input": "2021-10-16T01:34:24.324410Z",
     "iopub.status.busy": "2021-10-16T01:34:24.323893Z",
     "iopub.status.idle": "2021-10-16T01:34:24.326302Z",
     "shell.execute_reply": "2021-10-16T01:34:24.325894Z"
    },
    "papermill": {
     "duration": 0.020676,
     "end_time": "2021-10-16T01:34:24.326428",
     "exception": false,
     "start_time": "2021-10-16T01:34:24.305752",
     "status": "completed"
    },
    "tags": [
     "remove_cell"
    ]
   },
   "outputs": [],
   "source": [
    "def author_url(author):\n",
    "    return f\"https://github.com/{author}\""
   ]
  },
  {
   "cell_type": "code",
   "execution_count": 3,
   "id": "5e660503",
   "metadata": {
    "execution": {
     "iopub.execute_input": "2021-10-16T01:34:24.356513Z",
     "iopub.status.busy": "2021-10-16T01:34:24.356012Z",
     "iopub.status.idle": "2021-10-16T01:34:24.358134Z",
     "shell.execute_reply": "2021-10-16T01:34:24.357732Z"
    },
    "papermill": {
     "duration": 0.019098,
     "end_time": "2021-10-16T01:34:24.358255",
     "exception": false,
     "start_time": "2021-10-16T01:34:24.339157",
     "status": "completed"
    },
    "tags": [
     "parameters",
     "hide_input"
    ]
   },
   "outputs": [],
   "source": [
    "# Parameters\n",
    "fmt_date = \"{:%Y-%m-%d}\"\n",
    "\n",
    "n_days = 30 * 2\n",
    "start_date = fmt_date.format(pd.datetime.today() - timedelta(days=n_days))\n",
    "end_date = fmt_date.format(pd.datetime.today())\n",
    "\n",
    "renderer = \"html\"\n",
    "person = \"jasongrout\""
   ]
  },
  {
   "cell_type": "code",
   "execution_count": 4,
   "id": "4ba5e926",
   "metadata": {
    "execution": {
     "iopub.execute_input": "2021-10-16T01:34:24.388880Z",
     "iopub.status.busy": "2021-10-16T01:34:24.388379Z",
     "iopub.status.idle": "2021-10-16T01:34:24.390111Z",
     "shell.execute_reply": "2021-10-16T01:34:24.390512Z"
    },
    "papermill": {
     "duration": 0.018392,
     "end_time": "2021-10-16T01:34:24.390658",
     "exception": false,
     "start_time": "2021-10-16T01:34:24.372266",
     "status": "completed"
    },
    "tags": [
     "injected-parameters",
     "remove-cell"
    ]
   },
   "outputs": [],
   "source": [
    "# Parameters\n",
    "person = \"GeorgianaElena\"\n",
    "n_days = 60\n"
   ]
  },
  {
   "cell_type": "code",
   "execution_count": 5,
   "id": "170630fb",
   "metadata": {
    "execution": {
     "iopub.execute_input": "2021-10-16T01:34:24.423155Z",
     "iopub.status.busy": "2021-10-16T01:34:24.422567Z",
     "iopub.status.idle": "2021-10-16T01:34:24.425501Z",
     "shell.execute_reply": "2021-10-16T01:34:24.425069Z"
    },
    "papermill": {
     "duration": 0.022244,
     "end_time": "2021-10-16T01:34:24.425626",
     "exception": false,
     "start_time": "2021-10-16T01:34:24.403382",
     "status": "completed"
    },
    "tags": [
     "remove_cell"
    ]
   },
   "outputs": [
    {
     "data": {
      "text/plain": [
       "ThemeRegistry.enable('my_theme')"
      ]
     },
     "execution_count": 5,
     "metadata": {},
     "output_type": "execute_result"
    }
   ],
   "source": [
    "alt.renderers.enable(renderer);\n",
    "alt.themes.register('my_theme', alt_theme)\n",
    "alt.themes.enable(\"my_theme\")"
   ]
  },
  {
   "cell_type": "markdown",
   "id": "d5dffa6e",
   "metadata": {
    "papermill": {
     "duration": 0.013374,
     "end_time": "2021-10-16T01:34:24.453305",
     "exception": false,
     "start_time": "2021-10-16T01:34:24.439931",
     "status": "completed"
    },
    "tags": []
   },
   "source": [
    "## Load data"
   ]
  },
  {
   "cell_type": "code",
   "execution_count": 6,
   "id": "d32663b8",
   "metadata": {
    "execution": {
     "iopub.execute_input": "2021-10-16T01:34:24.485609Z",
     "iopub.status.busy": "2021-10-16T01:34:24.485101Z",
     "iopub.status.idle": "2021-10-16T01:34:24.644436Z",
     "shell.execute_reply": "2021-10-16T01:34:24.643897Z"
    },
    "papermill": {
     "duration": 0.177945,
     "end_time": "2021-10-16T01:34:24.644600",
     "exception": false,
     "start_time": "2021-10-16T01:34:24.466655",
     "status": "completed"
    },
    "tags": [
     "remove_cell"
    ]
   },
   "outputs": [],
   "source": [
    "from pathlib import Path\n",
    "path_data = Path(\"./\")\n",
    "comments = pd.read_csv(path_data.joinpath('comments.csv'), index_col=0)\n",
    "issues = pd.read_csv(path_data.joinpath('issues.csv'), index_col=0)\n",
    "prs = pd.read_csv(path_data.joinpath('prs.csv'), index_col=0)\n",
    "\n",
    "comments = comments.query('author == @person').drop_duplicates()\n",
    "issues = issues.query('author == @person').drop_duplicates()\n",
    "closed_by = prs.query('mergedBy == @person')\n",
    "prs = prs.query('author == @person').drop_duplicates()"
   ]
  },
  {
   "cell_type": "code",
   "execution_count": 7,
   "id": "e140d72d",
   "metadata": {
    "execution": {
     "iopub.execute_input": "2021-10-16T01:34:24.705606Z",
     "iopub.status.busy": "2021-10-16T01:34:24.701609Z",
     "iopub.status.idle": "2021-10-16T01:34:24.722478Z",
     "shell.execute_reply": "2021-10-16T01:34:24.722028Z"
    },
    "papermill": {
     "duration": 0.063166,
     "end_time": "2021-10-16T01:34:24.722622",
     "exception": false,
     "start_time": "2021-10-16T01:34:24.659456",
     "status": "completed"
    },
    "tags": [
     "remove_cell"
    ]
   },
   "outputs": [],
   "source": [
    "# Time columns\n",
    "# Also drop dates outside of our range\n",
    "time_columns = ['updatedAt', 'createdAt', 'closedAt']\n",
    "for col in time_columns:\n",
    "    for item in [comments, issues, prs, closed_by]:\n",
    "        if col not in item.columns:\n",
    "            continue\n",
    "        dt = pd.to_datetime(item[col]).dt.tz_localize(None)\n",
    "        item[col] = dt\n",
    "        item.query(\"updatedAt < @end_date and updatedAt > @start_date\", inplace=True)"
   ]
  },
  {
   "cell_type": "markdown",
   "id": "7bfad3f0",
   "metadata": {
    "papermill": {
     "duration": 0.013424,
     "end_time": "2021-10-16T01:34:24.749605",
     "exception": false,
     "start_time": "2021-10-16T01:34:24.736181",
     "status": "completed"
    },
    "tags": []
   },
   "source": [
    "## Repository summaries"
   ]
  },
  {
   "cell_type": "code",
   "execution_count": 8,
   "id": "25181518",
   "metadata": {
    "execution": {
     "iopub.execute_input": "2021-10-16T01:34:24.781955Z",
     "iopub.status.busy": "2021-10-16T01:34:24.781418Z",
     "iopub.status.idle": "2021-10-16T01:34:24.798475Z",
     "shell.execute_reply": "2021-10-16T01:34:24.797966Z"
    },
    "papermill": {
     "duration": 0.034344,
     "end_time": "2021-10-16T01:34:24.798625",
     "exception": false,
     "start_time": "2021-10-16T01:34:24.764281",
     "status": "completed"
    },
    "tags": [
     "remove_cell"
    ]
   },
   "outputs": [],
   "source": [
    "summaries = []\n",
    "for idata, name in [(issues, 'issues'), (prs, 'prs'), (comments, 'comments')]:\n",
    "    idata = idata.groupby([\"repo\", \"org\"]).agg({'id': \"count\"}).reset_index().rename(columns={'id': 'count'})\n",
    "    idata[\"kind\"] = name\n",
    "    summaries.append(idata)\n",
    "summaries = pd.concat(summaries)"
   ]
  },
  {
   "cell_type": "code",
   "execution_count": 9,
   "id": "33fc60b7",
   "metadata": {
    "execution": {
     "iopub.execute_input": "2021-10-16T01:34:24.833457Z",
     "iopub.status.busy": "2021-10-16T01:34:24.832941Z",
     "iopub.status.idle": "2021-10-16T01:34:24.839860Z",
     "shell.execute_reply": "2021-10-16T01:34:24.840254Z"
    },
    "papermill": {
     "duration": 0.027051,
     "end_time": "2021-10-16T01:34:24.840410",
     "exception": false,
     "start_time": "2021-10-16T01:34:24.813359",
     "status": "completed"
    },
    "tags": [
     "remove_cell"
    ]
   },
   "outputs": [],
   "source": [
    "repo_summaries = summaries.groupby([\"repo\", \"kind\"]).agg({\"count\": \"sum\"}).reset_index()\n",
    "org_summaries = summaries.groupby([\"org\", \"kind\"]).agg({\"count\": \"sum\"}).reset_index()"
   ]
  },
  {
   "cell_type": "code",
   "execution_count": 10,
   "id": "78fa2a48",
   "metadata": {
    "execution": {
     "iopub.execute_input": "2021-10-16T01:34:24.872229Z",
     "iopub.status.busy": "2021-10-16T01:34:24.871715Z",
     "iopub.status.idle": "2021-10-16T01:34:24.873464Z",
     "shell.execute_reply": "2021-10-16T01:34:24.873845Z"
    },
    "papermill": {
     "duration": 0.020077,
     "end_time": "2021-10-16T01:34:24.873993",
     "exception": false,
     "start_time": "2021-10-16T01:34:24.853916",
     "status": "completed"
    },
    "tags": [
     "remove_cell"
    ]
   },
   "outputs": [],
   "source": [
    "repo_summaries['logcount'] = np.log(repo_summaries[\"count\"])"
   ]
  },
  {
   "cell_type": "code",
   "execution_count": 11,
   "id": "bf3eb994",
   "metadata": {
    "execution": {
     "iopub.execute_input": "2021-10-16T01:34:24.937659Z",
     "iopub.status.busy": "2021-10-16T01:34:24.926580Z",
     "iopub.status.idle": "2021-10-16T01:34:24.955654Z",
     "shell.execute_reply": "2021-10-16T01:34:24.955181Z"
    },
    "papermill": {
     "duration": 0.066878,
     "end_time": "2021-10-16T01:34:24.955799",
     "exception": false,
     "start_time": "2021-10-16T01:34:24.888921",
     "status": "completed"
    },
    "tags": [
     "hide_input"
    ]
   },
   "outputs": [
    {
     "data": {
      "text/html": [
       "\n",
       "<div id=\"altair-viz-91e4c2415acc4ceaa733025b3be0dfdf\"></div>\n",
       "<script type=\"text/javascript\">\n",
       "  (function(spec, embedOpt){\n",
       "    let outputDiv = document.currentScript.previousElementSibling;\n",
       "    if (outputDiv.id !== \"altair-viz-91e4c2415acc4ceaa733025b3be0dfdf\") {\n",
       "      outputDiv = document.getElementById(\"altair-viz-91e4c2415acc4ceaa733025b3be0dfdf\");\n",
       "    }\n",
       "    const paths = {\n",
       "      \"vega\": \"https://cdn.jsdelivr.net/npm//vega@5?noext\",\n",
       "      \"vega-lib\": \"https://cdn.jsdelivr.net/npm//vega-lib?noext\",\n",
       "      \"vega-lite\": \"https://cdn.jsdelivr.net/npm//vega-lite@4.8.1?noext\",\n",
       "      \"vega-embed\": \"https://cdn.jsdelivr.net/npm//vega-embed@6?noext\",\n",
       "    };\n",
       "\n",
       "    function loadScript(lib) {\n",
       "      return new Promise(function(resolve, reject) {\n",
       "        var s = document.createElement('script');\n",
       "        s.src = paths[lib];\n",
       "        s.async = true;\n",
       "        s.onload = () => resolve(paths[lib]);\n",
       "        s.onerror = () => reject(`Error loading script: ${paths[lib]}`);\n",
       "        document.getElementsByTagName(\"head\")[0].appendChild(s);\n",
       "      });\n",
       "    }\n",
       "\n",
       "    function showError(err) {\n",
       "      outputDiv.innerHTML = `<div class=\"error\" style=\"color:red;\">${err}</div>`;\n",
       "      throw err;\n",
       "    }\n",
       "\n",
       "    function displayChart(vegaEmbed) {\n",
       "      vegaEmbed(outputDiv, spec, embedOpt)\n",
       "        .catch(err => showError(`Javascript Error: ${err.message}<br>This usually means there's a typo in your chart specification. See the javascript console for the full traceback.`));\n",
       "    }\n",
       "\n",
       "    if(typeof define === \"function\" && define.amd) {\n",
       "      requirejs.config({paths});\n",
       "      require([\"vega-embed\"], displayChart, err => showError(`Error loading script: ${err.message}`));\n",
       "    } else if (typeof vegaEmbed === \"function\") {\n",
       "      displayChart(vegaEmbed);\n",
       "    } else {\n",
       "      loadScript(\"vega\")\n",
       "        .then(() => loadScript(\"vega-lite\"))\n",
       "        .then(() => loadScript(\"vega-embed\"))\n",
       "        .catch(showError)\n",
       "        .then(() => displayChart(vegaEmbed));\n",
       "    }\n",
       "  })({\"config\": {\"axisLeft\": {\"labelFontSize\": 15}, \"axisBottom\": {\"labelFontSize\": 15}}, \"hconcat\": [{\"mark\": \"bar\", \"encoding\": {\"color\": {\"type\": \"nominal\", \"field\": \"kind\"}, \"tooltip\": {\"type\": \"nominal\", \"field\": \"kind\"}, \"x\": {\"type\": \"nominal\", \"field\": \"repo\"}, \"y\": {\"type\": \"quantitative\", \"field\": \"count\"}}, \"title\": \"Activity per repository\", \"width\": 600}, {\"mark\": \"bar\", \"encoding\": {\"color\": {\"type\": \"nominal\", \"field\": \"kind\"}, \"tooltip\": {\"type\": \"nominal\", \"field\": \"kind\"}, \"x\": {\"type\": \"nominal\", \"field\": \"repo\"}, \"y\": {\"type\": \"quantitative\", \"field\": \"logcount\"}}, \"title\": \"Log activity per repository\", \"width\": 600}], \"data\": {\"name\": \"data-feb45d6f3e610adad21186ece7ca65ac\"}, \"$schema\": \"https://vega.github.io/schema/vega-lite/v4.8.1.json\", \"datasets\": {\"data-feb45d6f3e610adad21186ece7ca65ac\": [{\"repo\": \"nbgitpuller\", \"kind\": \"comments\", \"count\": 3, \"logcount\": 1.0986122886681098}, {\"repo\": \"nbgitpuller\", \"kind\": \"prs\", \"count\": 3, \"logcount\": 1.0986122886681098}, {\"repo\": \"repo2docker-action\", \"kind\": \"comments\", \"count\": 2, \"logcount\": 0.6931471805599453}, {\"repo\": \"repo2docker-action\", \"kind\": \"prs\", \"count\": 2, \"logcount\": 0.6931471805599453}]}}, {\"mode\": \"vega-lite\"});\n",
       "</script>"
      ],
      "text/plain": [
       "alt.HConcatChart(...)"
      ]
     },
     "execution_count": 11,
     "metadata": {},
     "output_type": "execute_result"
    }
   ],
   "source": [
    "ch1 = alt.Chart(repo_summaries, width=600, title=\"Activity per repository\").mark_bar().encode(\n",
    "    x='repo',\n",
    "    y='count',\n",
    "    color='kind',\n",
    "    tooltip=\"kind\"\n",
    ")\n",
    "\n",
    "ch2 = alt.Chart(repo_summaries, width=600, title=\"Log activity per repository\").mark_bar().encode(\n",
    "    x='repo',\n",
    "    y='logcount',\n",
    "    color='kind',\n",
    "    tooltip=\"kind\"\n",
    ")\n",
    "\n",
    "ch1 | ch2"
   ]
  },
  {
   "cell_type": "code",
   "execution_count": 12,
   "id": "7d92e68c",
   "metadata": {
    "execution": {
     "iopub.execute_input": "2021-10-16T01:34:25.011264Z",
     "iopub.status.busy": "2021-10-16T01:34:25.010352Z",
     "iopub.status.idle": "2021-10-16T01:34:25.013533Z",
     "shell.execute_reply": "2021-10-16T01:34:25.013090Z"
    },
    "papermill": {
     "duration": 0.043355,
     "end_time": "2021-10-16T01:34:25.013662",
     "exception": false,
     "start_time": "2021-10-16T01:34:24.970307",
     "status": "completed"
    },
    "tags": [
     "hide_input"
    ]
   },
   "outputs": [
    {
     "data": {
      "text/html": [
       "\n",
       "<div id=\"altair-viz-069a560a793040458bed63e5182fa28c\"></div>\n",
       "<script type=\"text/javascript\">\n",
       "  (function(spec, embedOpt){\n",
       "    let outputDiv = document.currentScript.previousElementSibling;\n",
       "    if (outputDiv.id !== \"altair-viz-069a560a793040458bed63e5182fa28c\") {\n",
       "      outputDiv = document.getElementById(\"altair-viz-069a560a793040458bed63e5182fa28c\");\n",
       "    }\n",
       "    const paths = {\n",
       "      \"vega\": \"https://cdn.jsdelivr.net/npm//vega@5?noext\",\n",
       "      \"vega-lib\": \"https://cdn.jsdelivr.net/npm//vega-lib?noext\",\n",
       "      \"vega-lite\": \"https://cdn.jsdelivr.net/npm//vega-lite@4.8.1?noext\",\n",
       "      \"vega-embed\": \"https://cdn.jsdelivr.net/npm//vega-embed@6?noext\",\n",
       "    };\n",
       "\n",
       "    function loadScript(lib) {\n",
       "      return new Promise(function(resolve, reject) {\n",
       "        var s = document.createElement('script');\n",
       "        s.src = paths[lib];\n",
       "        s.async = true;\n",
       "        s.onload = () => resolve(paths[lib]);\n",
       "        s.onerror = () => reject(`Error loading script: ${paths[lib]}`);\n",
       "        document.getElementsByTagName(\"head\")[0].appendChild(s);\n",
       "      });\n",
       "    }\n",
       "\n",
       "    function showError(err) {\n",
       "      outputDiv.innerHTML = `<div class=\"error\" style=\"color:red;\">${err}</div>`;\n",
       "      throw err;\n",
       "    }\n",
       "\n",
       "    function displayChart(vegaEmbed) {\n",
       "      vegaEmbed(outputDiv, spec, embedOpt)\n",
       "        .catch(err => showError(`Javascript Error: ${err.message}<br>This usually means there's a typo in your chart specification. See the javascript console for the full traceback.`));\n",
       "    }\n",
       "\n",
       "    if(typeof define === \"function\" && define.amd) {\n",
       "      requirejs.config({paths});\n",
       "      require([\"vega-embed\"], displayChart, err => showError(`Error loading script: ${err.message}`));\n",
       "    } else if (typeof vegaEmbed === \"function\") {\n",
       "      displayChart(vegaEmbed);\n",
       "    } else {\n",
       "      loadScript(\"vega\")\n",
       "        .then(() => loadScript(\"vega-lite\"))\n",
       "        .then(() => loadScript(\"vega-embed\"))\n",
       "        .catch(showError)\n",
       "        .then(() => displayChart(vegaEmbed));\n",
       "    }\n",
       "  })({\"config\": {\"axisLeft\": {\"labelFontSize\": 15}, \"axisBottom\": {\"labelFontSize\": 15}}, \"data\": {\"name\": \"data-d355dc8cc7c7b2d0753a207ed2c3b0ce\"}, \"mark\": \"bar\", \"encoding\": {\"color\": {\"type\": \"nominal\", \"field\": \"kind\"}, \"tooltip\": {\"type\": \"nominal\", \"field\": \"org\"}, \"x\": {\"type\": \"nominal\", \"field\": \"org\"}, \"y\": {\"type\": \"quantitative\", \"field\": \"count\"}}, \"width\": 600, \"$schema\": \"https://vega.github.io/schema/vega-lite/v4.8.1.json\", \"datasets\": {\"data-d355dc8cc7c7b2d0753a207ed2c3b0ce\": [{\"org\": \"jupyterhub\", \"kind\": \"comments\", \"count\": 5}, {\"org\": \"jupyterhub\", \"kind\": \"prs\", \"count\": 5}]}}, {\"mode\": \"vega-lite\"});\n",
       "</script>"
      ],
      "text/plain": [
       "alt.Chart(...)"
      ]
     },
     "execution_count": 12,
     "metadata": {},
     "output_type": "execute_result"
    }
   ],
   "source": [
    "alt.Chart(org_summaries, width=600).mark_bar().encode(\n",
    "    x='org',\n",
    "    y='count',\n",
    "    color='kind',\n",
    "    tooltip=\"org\"\n",
    ")"
   ]
  },
  {
   "cell_type": "markdown",
   "id": "55147d77",
   "metadata": {
    "papermill": {
     "duration": 0.014975,
     "end_time": "2021-10-16T01:34:25.044662",
     "exception": false,
     "start_time": "2021-10-16T01:34:25.029687",
     "status": "completed"
    },
    "tags": []
   },
   "source": [
    "## By repository over time"
   ]
  },
  {
   "cell_type": "markdown",
   "id": "833bc80e",
   "metadata": {
    "papermill": {
     "duration": 0.014675,
     "end_time": "2021-10-16T01:34:25.074598",
     "exception": false,
     "start_time": "2021-10-16T01:34:25.059923",
     "status": "completed"
    },
    "tags": []
   },
   "source": [
    "### Comments"
   ]
  },
  {
   "cell_type": "code",
   "execution_count": 13,
   "id": "d35fe853",
   "metadata": {
    "execution": {
     "iopub.execute_input": "2021-10-16T01:34:25.111022Z",
     "iopub.status.busy": "2021-10-16T01:34:25.110502Z",
     "iopub.status.idle": "2021-10-16T01:34:25.158414Z",
     "shell.execute_reply": "2021-10-16T01:34:25.158877Z"
    },
    "papermill": {
     "duration": 0.069283,
     "end_time": "2021-10-16T01:34:25.159055",
     "exception": false,
     "start_time": "2021-10-16T01:34:25.089772",
     "status": "completed"
    },
    "tags": [
     "hide_input"
    ]
   },
   "outputs": [
    {
     "data": {
      "text/html": [
       "\n",
       "<div id=\"altair-viz-bf7e06fb192e461ab54eb49ed766ad80\"></div>\n",
       "<script type=\"text/javascript\">\n",
       "  (function(spec, embedOpt){\n",
       "    let outputDiv = document.currentScript.previousElementSibling;\n",
       "    if (outputDiv.id !== \"altair-viz-bf7e06fb192e461ab54eb49ed766ad80\") {\n",
       "      outputDiv = document.getElementById(\"altair-viz-bf7e06fb192e461ab54eb49ed766ad80\");\n",
       "    }\n",
       "    const paths = {\n",
       "      \"vega\": \"https://cdn.jsdelivr.net/npm//vega@5?noext\",\n",
       "      \"vega-lib\": \"https://cdn.jsdelivr.net/npm//vega-lib?noext\",\n",
       "      \"vega-lite\": \"https://cdn.jsdelivr.net/npm//vega-lite@4.8.1?noext\",\n",
       "      \"vega-embed\": \"https://cdn.jsdelivr.net/npm//vega-embed@6?noext\",\n",
       "    };\n",
       "\n",
       "    function loadScript(lib) {\n",
       "      return new Promise(function(resolve, reject) {\n",
       "        var s = document.createElement('script');\n",
       "        s.src = paths[lib];\n",
       "        s.async = true;\n",
       "        s.onload = () => resolve(paths[lib]);\n",
       "        s.onerror = () => reject(`Error loading script: ${paths[lib]}`);\n",
       "        document.getElementsByTagName(\"head\")[0].appendChild(s);\n",
       "      });\n",
       "    }\n",
       "\n",
       "    function showError(err) {\n",
       "      outputDiv.innerHTML = `<div class=\"error\" style=\"color:red;\">${err}</div>`;\n",
       "      throw err;\n",
       "    }\n",
       "\n",
       "    function displayChart(vegaEmbed) {\n",
       "      vegaEmbed(outputDiv, spec, embedOpt)\n",
       "        .catch(err => showError(`Javascript Error: ${err.message}<br>This usually means there's a typo in your chart specification. See the javascript console for the full traceback.`));\n",
       "    }\n",
       "\n",
       "    if(typeof define === \"function\" && define.amd) {\n",
       "      requirejs.config({paths});\n",
       "      require([\"vega-embed\"], displayChart, err => showError(`Error loading script: ${err.message}`));\n",
       "    } else if (typeof vegaEmbed === \"function\") {\n",
       "      displayChart(vegaEmbed);\n",
       "    } else {\n",
       "      loadScript(\"vega\")\n",
       "        .then(() => loadScript(\"vega-lite\"))\n",
       "        .then(() => loadScript(\"vega-embed\"))\n",
       "        .catch(showError)\n",
       "        .then(() => displayChart(vegaEmbed));\n",
       "    }\n",
       "  })({\"config\": {\"axisLeft\": {\"labelFontSize\": 15}, \"axisBottom\": {\"labelFontSize\": 15}}, \"layer\": [{\"data\": {\"name\": \"data-b973f8d5fff70f450794ddc28bf306ad\"}, \"mark\": \"line\", \"encoding\": {\"color\": {\"type\": \"nominal\", \"field\": \"repo\"}, \"tooltip\": {\"type\": \"nominal\", \"field\": \"repo\"}, \"x\": {\"type\": \"temporal\", \"field\": \"createdAt\"}, \"y\": {\"type\": \"quantitative\", \"field\": \"count\"}}, \"width\": 600}, {\"data\": {\"name\": \"data-b93dcb8489fe714b30ad66dce0da44e5\"}, \"mark\": {\"type\": \"line\", \"color\": \"black\"}, \"encoding\": {\"x\": {\"type\": \"temporal\", \"field\": \"createdAt\"}, \"y\": {\"type\": \"quantitative\", \"field\": \"count\"}}, \"width\": 600}], \"$schema\": \"https://vega.github.io/schema/vega-lite/v4.8.1.json\", \"datasets\": {\"data-b973f8d5fff70f450794ddc28bf306ad\": [{\"repo\": \"nbgitpuller\", \"createdAt\": \"2021-08-29T00:00:00\", \"count\": 1}, {\"repo\": \"nbgitpuller\", \"createdAt\": \"2021-09-05T00:00:00\", \"count\": 2}, {\"repo\": \"repo2docker-action\", \"createdAt\": \"2021-09-12T00:00:00\", \"count\": 1}, {\"repo\": \"repo2docker-action\", \"createdAt\": \"2021-09-19T00:00:00\", \"count\": 1}], \"data-b93dcb8489fe714b30ad66dce0da44e5\": [{\"createdAt\": \"2021-08-29T00:00:00\", \"count\": 1}, {\"createdAt\": \"2021-09-05T00:00:00\", \"count\": 2}, {\"createdAt\": \"2021-09-12T00:00:00\", \"count\": 1}, {\"createdAt\": \"2021-09-19T00:00:00\", \"count\": 1}]}}, {\"mode\": \"vega-lite\"});\n",
       "</script>"
      ],
      "text/plain": [
       "alt.LayerChart(...)"
      ]
     },
     "execution_count": 13,
     "metadata": {},
     "output_type": "execute_result"
    }
   ],
   "source": [
    "comments_time = comments.groupby('repo').resample('W', on='createdAt').count()['author'].reset_index()\n",
    "comments_time = comments_time.rename(columns={'author': 'count'})\n",
    "comments_time_total = comments_time.groupby('createdAt').agg({\"count\": \"sum\"}).reset_index()\n",
    "ch1 = alt.Chart(comments_time, width=600).mark_line().encode(\n",
    "    x='createdAt',\n",
    "    y='count',\n",
    "    color='repo',\n",
    "    tooltip=\"repo\"\n",
    ")\n",
    "\n",
    "ch2 = alt.Chart(comments_time_total, width=600).mark_line(color=\"black\").encode(\n",
    "    x='createdAt',\n",
    "    y='count',\n",
    ")\n",
    "\n",
    "ch1 + ch2"
   ]
  },
  {
   "cell_type": "markdown",
   "id": "5345d467",
   "metadata": {
    "papermill": {
     "duration": 0.015496,
     "end_time": "2021-10-16T01:34:25.191664",
     "exception": false,
     "start_time": "2021-10-16T01:34:25.176168",
     "status": "completed"
    },
    "tags": []
   },
   "source": [
    "### PRs"
   ]
  },
  {
   "cell_type": "code",
   "execution_count": 14,
   "id": "315d1c01",
   "metadata": {
    "execution": {
     "iopub.execute_input": "2021-10-16T01:34:25.224978Z",
     "iopub.status.busy": "2021-10-16T01:34:25.224464Z",
     "iopub.status.idle": "2021-10-16T01:34:25.274863Z",
     "shell.execute_reply": "2021-10-16T01:34:25.275327Z"
    },
    "papermill": {
     "duration": 0.068571,
     "end_time": "2021-10-16T01:34:25.275502",
     "exception": false,
     "start_time": "2021-10-16T01:34:25.206931",
     "status": "completed"
    },
    "tags": [
     "hide_input"
    ]
   },
   "outputs": [
    {
     "data": {
      "text/html": [
       "\n",
       "<div id=\"altair-viz-ab53ed27c97043c39f1ecfebf8802f6f\"></div>\n",
       "<script type=\"text/javascript\">\n",
       "  (function(spec, embedOpt){\n",
       "    let outputDiv = document.currentScript.previousElementSibling;\n",
       "    if (outputDiv.id !== \"altair-viz-ab53ed27c97043c39f1ecfebf8802f6f\") {\n",
       "      outputDiv = document.getElementById(\"altair-viz-ab53ed27c97043c39f1ecfebf8802f6f\");\n",
       "    }\n",
       "    const paths = {\n",
       "      \"vega\": \"https://cdn.jsdelivr.net/npm//vega@5?noext\",\n",
       "      \"vega-lib\": \"https://cdn.jsdelivr.net/npm//vega-lib?noext\",\n",
       "      \"vega-lite\": \"https://cdn.jsdelivr.net/npm//vega-lite@4.8.1?noext\",\n",
       "      \"vega-embed\": \"https://cdn.jsdelivr.net/npm//vega-embed@6?noext\",\n",
       "    };\n",
       "\n",
       "    function loadScript(lib) {\n",
       "      return new Promise(function(resolve, reject) {\n",
       "        var s = document.createElement('script');\n",
       "        s.src = paths[lib];\n",
       "        s.async = true;\n",
       "        s.onload = () => resolve(paths[lib]);\n",
       "        s.onerror = () => reject(`Error loading script: ${paths[lib]}`);\n",
       "        document.getElementsByTagName(\"head\")[0].appendChild(s);\n",
       "      });\n",
       "    }\n",
       "\n",
       "    function showError(err) {\n",
       "      outputDiv.innerHTML = `<div class=\"error\" style=\"color:red;\">${err}</div>`;\n",
       "      throw err;\n",
       "    }\n",
       "\n",
       "    function displayChart(vegaEmbed) {\n",
       "      vegaEmbed(outputDiv, spec, embedOpt)\n",
       "        .catch(err => showError(`Javascript Error: ${err.message}<br>This usually means there's a typo in your chart specification. See the javascript console for the full traceback.`));\n",
       "    }\n",
       "\n",
       "    if(typeof define === \"function\" && define.amd) {\n",
       "      requirejs.config({paths});\n",
       "      require([\"vega-embed\"], displayChart, err => showError(`Error loading script: ${err.message}`));\n",
       "    } else if (typeof vegaEmbed === \"function\") {\n",
       "      displayChart(vegaEmbed);\n",
       "    } else {\n",
       "      loadScript(\"vega\")\n",
       "        .then(() => loadScript(\"vega-lite\"))\n",
       "        .then(() => loadScript(\"vega-embed\"))\n",
       "        .catch(showError)\n",
       "        .then(() => displayChart(vegaEmbed));\n",
       "    }\n",
       "  })({\"config\": {\"axisLeft\": {\"labelFontSize\": 15}, \"axisBottom\": {\"labelFontSize\": 15}}, \"layer\": [{\"data\": {\"name\": \"data-0cd048a32c5f826d76b81677ca9871f1\"}, \"mark\": \"line\", \"encoding\": {\"color\": {\"type\": \"nominal\", \"field\": \"repo\"}, \"tooltip\": {\"type\": \"nominal\", \"field\": \"repo\"}, \"x\": {\"type\": \"temporal\", \"field\": \"createdAt\"}, \"y\": {\"type\": \"quantitative\", \"field\": \"count\"}}, \"width\": 600}, {\"data\": {\"name\": \"data-c9e31332c1f4cc8a0b43a3f6594c5faa\"}, \"mark\": {\"type\": \"line\", \"color\": \"black\"}, \"encoding\": {\"x\": {\"type\": \"temporal\", \"field\": \"createdAt\"}, \"y\": {\"type\": \"quantitative\", \"field\": \"count\"}}, \"width\": 600}], \"$schema\": \"https://vega.github.io/schema/vega-lite/v4.8.1.json\", \"datasets\": {\"data-0cd048a32c5f826d76b81677ca9871f1\": [{\"repo\": \"nbgitpuller\", \"createdAt\": \"2021-07-11T00:00:00\", \"count\": 1}, {\"repo\": \"nbgitpuller\", \"createdAt\": \"2021-07-18T00:00:00\", \"count\": 0}, {\"repo\": \"nbgitpuller\", \"createdAt\": \"2021-07-25T00:00:00\", \"count\": 0}, {\"repo\": \"nbgitpuller\", \"createdAt\": \"2021-08-01T00:00:00\", \"count\": 0}, {\"repo\": \"nbgitpuller\", \"createdAt\": \"2021-08-08T00:00:00\", \"count\": 0}, {\"repo\": \"nbgitpuller\", \"createdAt\": \"2021-08-15T00:00:00\", \"count\": 0}, {\"repo\": \"nbgitpuller\", \"createdAt\": \"2021-08-22T00:00:00\", \"count\": 1}, {\"repo\": \"nbgitpuller\", \"createdAt\": \"2021-08-29T00:00:00\", \"count\": 1}, {\"repo\": \"repo2docker-action\", \"createdAt\": \"2021-09-12T00:00:00\", \"count\": 1}, {\"repo\": \"repo2docker-action\", \"createdAt\": \"2021-09-19T00:00:00\", \"count\": 1}], \"data-c9e31332c1f4cc8a0b43a3f6594c5faa\": [{\"createdAt\": \"2021-07-11T00:00:00\", \"count\": 1}, {\"createdAt\": \"2021-07-18T00:00:00\", \"count\": 0}, {\"createdAt\": \"2021-07-25T00:00:00\", \"count\": 0}, {\"createdAt\": \"2021-08-01T00:00:00\", \"count\": 0}, {\"createdAt\": \"2021-08-08T00:00:00\", \"count\": 0}, {\"createdAt\": \"2021-08-15T00:00:00\", \"count\": 0}, {\"createdAt\": \"2021-08-22T00:00:00\", \"count\": 1}, {\"createdAt\": \"2021-08-29T00:00:00\", \"count\": 1}, {\"createdAt\": \"2021-09-12T00:00:00\", \"count\": 1}, {\"createdAt\": \"2021-09-19T00:00:00\", \"count\": 1}]}}, {\"mode\": \"vega-lite\"});\n",
       "</script>"
      ],
      "text/plain": [
       "alt.LayerChart(...)"
      ]
     },
     "execution_count": 14,
     "metadata": {},
     "output_type": "execute_result"
    }
   ],
   "source": [
    "prs_time = prs.groupby('repo').resample('W', on='createdAt').count()['author'].reset_index()\n",
    "prs_time = prs_time.rename(columns={'author': 'count'})\n",
    "prs_time_total = prs_time.groupby('createdAt').agg({\"count\": \"sum\"}).reset_index()\n",
    "\n",
    "ch1 = alt.Chart(prs_time, width=600).mark_line().encode(\n",
    "    x='createdAt',\n",
    "    y='count',\n",
    "    color='repo',\n",
    "    tooltip=\"repo\"\n",
    ")\n",
    "\n",
    "ch2 = alt.Chart(prs_time_total, width=600).mark_line(color=\"black\").encode(\n",
    "    x='createdAt',\n",
    "    y='count',\n",
    ")\n",
    "\n",
    "ch1 + ch2"
   ]
  },
  {
   "cell_type": "code",
   "execution_count": 15,
   "id": "66453398",
   "metadata": {
    "execution": {
     "iopub.execute_input": "2021-10-16T01:34:25.320443Z",
     "iopub.status.busy": "2021-10-16T01:34:25.319926Z",
     "iopub.status.idle": "2021-10-16T01:34:25.348485Z",
     "shell.execute_reply": "2021-10-16T01:34:25.348897Z"
    },
    "papermill": {
     "duration": 0.056513,
     "end_time": "2021-10-16T01:34:25.349050",
     "exception": false,
     "start_time": "2021-10-16T01:34:25.292537",
     "status": "completed"
    },
    "tags": [
     "hide_input"
    ]
   },
   "outputs": [
    {
     "data": {
      "text/html": [
       "\n",
       "<div id=\"altair-viz-3cec692bde58473d90a896b8c2b15096\"></div>\n",
       "<script type=\"text/javascript\">\n",
       "  (function(spec, embedOpt){\n",
       "    let outputDiv = document.currentScript.previousElementSibling;\n",
       "    if (outputDiv.id !== \"altair-viz-3cec692bde58473d90a896b8c2b15096\") {\n",
       "      outputDiv = document.getElementById(\"altair-viz-3cec692bde58473d90a896b8c2b15096\");\n",
       "    }\n",
       "    const paths = {\n",
       "      \"vega\": \"https://cdn.jsdelivr.net/npm//vega@5?noext\",\n",
       "      \"vega-lib\": \"https://cdn.jsdelivr.net/npm//vega-lib?noext\",\n",
       "      \"vega-lite\": \"https://cdn.jsdelivr.net/npm//vega-lite@4.8.1?noext\",\n",
       "      \"vega-embed\": \"https://cdn.jsdelivr.net/npm//vega-embed@6?noext\",\n",
       "    };\n",
       "\n",
       "    function loadScript(lib) {\n",
       "      return new Promise(function(resolve, reject) {\n",
       "        var s = document.createElement('script');\n",
       "        s.src = paths[lib];\n",
       "        s.async = true;\n",
       "        s.onload = () => resolve(paths[lib]);\n",
       "        s.onerror = () => reject(`Error loading script: ${paths[lib]}`);\n",
       "        document.getElementsByTagName(\"head\")[0].appendChild(s);\n",
       "      });\n",
       "    }\n",
       "\n",
       "    function showError(err) {\n",
       "      outputDiv.innerHTML = `<div class=\"error\" style=\"color:red;\">${err}</div>`;\n",
       "      throw err;\n",
       "    }\n",
       "\n",
       "    function displayChart(vegaEmbed) {\n",
       "      vegaEmbed(outputDiv, spec, embedOpt)\n",
       "        .catch(err => showError(`Javascript Error: ${err.message}<br>This usually means there's a typo in your chart specification. See the javascript console for the full traceback.`));\n",
       "    }\n",
       "\n",
       "    if(typeof define === \"function\" && define.amd) {\n",
       "      requirejs.config({paths});\n",
       "      require([\"vega-embed\"], displayChart, err => showError(`Error loading script: ${err.message}`));\n",
       "    } else if (typeof vegaEmbed === \"function\") {\n",
       "      displayChart(vegaEmbed);\n",
       "    } else {\n",
       "      loadScript(\"vega\")\n",
       "        .then(() => loadScript(\"vega-lite\"))\n",
       "        .then(() => loadScript(\"vega-embed\"))\n",
       "        .catch(showError)\n",
       "        .then(() => displayChart(vegaEmbed));\n",
       "    }\n",
       "  })({\"config\": {\"axisLeft\": {\"labelFontSize\": 15}, \"axisBottom\": {\"labelFontSize\": 15}}, \"data\": {\"name\": \"data-e0969396d7b480a00f7651f0081b7d63\"}, \"mark\": \"line\", \"encoding\": {\"color\": {\"type\": \"nominal\", \"field\": \"repo\"}, \"tooltip\": {\"type\": \"nominal\", \"field\": \"repo\"}, \"x\": {\"type\": \"temporal\", \"field\": \"closedAt\"}, \"y\": {\"type\": \"quantitative\", \"field\": \"count\"}}, \"width\": 600, \"$schema\": \"https://vega.github.io/schema/vega-lite/v4.8.1.json\", \"datasets\": {\"data-e0969396d7b480a00f7651f0081b7d63\": [{\"repo\": \"nbgitpuller\", \"closedAt\": \"2021-09-05T00:00:00\", \"count\": 1}, {\"repo\": \"repo2docker-action\", \"closedAt\": \"2021-09-19T00:00:00\", \"count\": 1}, {\"repo\": \"repo2docker-action\", \"closedAt\": \"2021-09-26T00:00:00\", \"count\": 1}]}}, {\"mode\": \"vega-lite\"});\n",
       "</script>"
      ],
      "text/plain": [
       "alt.Chart(...)"
      ]
     },
     "execution_count": 15,
     "metadata": {},
     "output_type": "execute_result"
    }
   ],
   "source": [
    "closed_by_time = closed_by.groupby('repo').resample('W', on='closedAt').count()['author'].reset_index()\n",
    "closed_by_time = closed_by_time.rename(columns={'author': 'count'})\n",
    "\n",
    "alt.Chart(closed_by_time, width=600).mark_line().encode(\n",
    "    x='closedAt',\n",
    "    y='count',\n",
    "    color='repo',\n",
    "    tooltip=\"repo\"\n",
    ")"
   ]
  },
  {
   "cell_type": "markdown",
   "id": "f9bc278f",
   "metadata": {
    "papermill": {
     "duration": 0.016312,
     "end_time": "2021-10-16T01:34:25.381576",
     "exception": false,
     "start_time": "2021-10-16T01:34:25.365264",
     "status": "completed"
    },
    "tags": []
   },
   "source": [
    "## By type over time"
   ]
  },
  {
   "cell_type": "code",
   "execution_count": 16,
   "id": "6d1af6e6",
   "metadata": {
    "execution": {
     "iopub.execute_input": "2021-10-16T01:34:25.418864Z",
     "iopub.status.busy": "2021-10-16T01:34:25.418341Z",
     "iopub.status.idle": "2021-10-16T01:34:25.435997Z",
     "shell.execute_reply": "2021-10-16T01:34:25.435541Z"
    },
    "papermill": {
     "duration": 0.036972,
     "end_time": "2021-10-16T01:34:25.436131",
     "exception": false,
     "start_time": "2021-10-16T01:34:25.399159",
     "status": "completed"
    },
    "tags": [
     "remove_cell"
    ]
   },
   "outputs": [],
   "source": [
    "prs_time = prs[['author', 'createdAt']].resample('W', on='createdAt').count()['author'].reset_index()\n",
    "prs_time = prs_time.rename(columns={'author': 'prs'})\n",
    "comments_time = comments[['author', 'createdAt']].resample('W', on='createdAt').count()['author'].reset_index()\n",
    "comments_time = comments_time.rename(columns={'author': 'comments'})\n",
    "\n",
    "total_time = pd.merge(prs_time, comments_time, on='createdAt', how='outer')\n",
    "total_time = total_time.melt(id_vars='createdAt', var_name=\"kind\", value_name=\"count\")\n"
   ]
  },
  {
   "cell_type": "code",
   "execution_count": 17,
   "id": "87f175d4",
   "metadata": {
    "execution": {
     "iopub.execute_input": "2021-10-16T01:34:25.492389Z",
     "iopub.status.busy": "2021-10-16T01:34:25.491749Z",
     "iopub.status.idle": "2021-10-16T01:34:25.494222Z",
     "shell.execute_reply": "2021-10-16T01:34:25.494684Z"
    },
    "papermill": {
     "duration": 0.042447,
     "end_time": "2021-10-16T01:34:25.494864",
     "exception": false,
     "start_time": "2021-10-16T01:34:25.452417",
     "status": "completed"
    },
    "tags": [
     "hide_input"
    ]
   },
   "outputs": [
    {
     "data": {
      "text/html": [
       "\n",
       "<div id=\"altair-viz-500bcef9d9e647feadab3ac18dfd2fb6\"></div>\n",
       "<script type=\"text/javascript\">\n",
       "  (function(spec, embedOpt){\n",
       "    let outputDiv = document.currentScript.previousElementSibling;\n",
       "    if (outputDiv.id !== \"altair-viz-500bcef9d9e647feadab3ac18dfd2fb6\") {\n",
       "      outputDiv = document.getElementById(\"altair-viz-500bcef9d9e647feadab3ac18dfd2fb6\");\n",
       "    }\n",
       "    const paths = {\n",
       "      \"vega\": \"https://cdn.jsdelivr.net/npm//vega@5?noext\",\n",
       "      \"vega-lib\": \"https://cdn.jsdelivr.net/npm//vega-lib?noext\",\n",
       "      \"vega-lite\": \"https://cdn.jsdelivr.net/npm//vega-lite@4.8.1?noext\",\n",
       "      \"vega-embed\": \"https://cdn.jsdelivr.net/npm//vega-embed@6?noext\",\n",
       "    };\n",
       "\n",
       "    function loadScript(lib) {\n",
       "      return new Promise(function(resolve, reject) {\n",
       "        var s = document.createElement('script');\n",
       "        s.src = paths[lib];\n",
       "        s.async = true;\n",
       "        s.onload = () => resolve(paths[lib]);\n",
       "        s.onerror = () => reject(`Error loading script: ${paths[lib]}`);\n",
       "        document.getElementsByTagName(\"head\")[0].appendChild(s);\n",
       "      });\n",
       "    }\n",
       "\n",
       "    function showError(err) {\n",
       "      outputDiv.innerHTML = `<div class=\"error\" style=\"color:red;\">${err}</div>`;\n",
       "      throw err;\n",
       "    }\n",
       "\n",
       "    function displayChart(vegaEmbed) {\n",
       "      vegaEmbed(outputDiv, spec, embedOpt)\n",
       "        .catch(err => showError(`Javascript Error: ${err.message}<br>This usually means there's a typo in your chart specification. See the javascript console for the full traceback.`));\n",
       "    }\n",
       "\n",
       "    if(typeof define === \"function\" && define.amd) {\n",
       "      requirejs.config({paths});\n",
       "      require([\"vega-embed\"], displayChart, err => showError(`Error loading script: ${err.message}`));\n",
       "    } else if (typeof vegaEmbed === \"function\") {\n",
       "      displayChart(vegaEmbed);\n",
       "    } else {\n",
       "      loadScript(\"vega\")\n",
       "        .then(() => loadScript(\"vega-lite\"))\n",
       "        .then(() => loadScript(\"vega-embed\"))\n",
       "        .catch(showError)\n",
       "        .then(() => displayChart(vegaEmbed));\n",
       "    }\n",
       "  })({\"config\": {\"axisLeft\": {\"labelFontSize\": 15}, \"axisBottom\": {\"labelFontSize\": 15}}, \"data\": {\"name\": \"data-811a00f8ea35b507e2f5f01b6ca0da94\"}, \"mark\": \"line\", \"encoding\": {\"color\": {\"type\": \"nominal\", \"field\": \"kind\"}, \"x\": {\"type\": \"temporal\", \"field\": \"createdAt\"}, \"y\": {\"type\": \"quantitative\", \"field\": \"count\"}}, \"width\": 600, \"$schema\": \"https://vega.github.io/schema/vega-lite/v4.8.1.json\", \"datasets\": {\"data-811a00f8ea35b507e2f5f01b6ca0da94\": [{\"createdAt\": \"2021-07-11T00:00:00\", \"kind\": \"prs\", \"count\": 1.0}, {\"createdAt\": \"2021-07-18T00:00:00\", \"kind\": \"prs\", \"count\": 0.0}, {\"createdAt\": \"2021-07-25T00:00:00\", \"kind\": \"prs\", \"count\": 0.0}, {\"createdAt\": \"2021-08-01T00:00:00\", \"kind\": \"prs\", \"count\": 0.0}, {\"createdAt\": \"2021-08-08T00:00:00\", \"kind\": \"prs\", \"count\": 0.0}, {\"createdAt\": \"2021-08-15T00:00:00\", \"kind\": \"prs\", \"count\": 0.0}, {\"createdAt\": \"2021-08-22T00:00:00\", \"kind\": \"prs\", \"count\": 1.0}, {\"createdAt\": \"2021-08-29T00:00:00\", \"kind\": \"prs\", \"count\": 1.0}, {\"createdAt\": \"2021-09-05T00:00:00\", \"kind\": \"prs\", \"count\": 0.0}, {\"createdAt\": \"2021-09-12T00:00:00\", \"kind\": \"prs\", \"count\": 1.0}, {\"createdAt\": \"2021-09-19T00:00:00\", \"kind\": \"prs\", \"count\": 1.0}, {\"createdAt\": \"2021-07-11T00:00:00\", \"kind\": \"comments\", \"count\": null}, {\"createdAt\": \"2021-07-18T00:00:00\", \"kind\": \"comments\", \"count\": null}, {\"createdAt\": \"2021-07-25T00:00:00\", \"kind\": \"comments\", \"count\": null}, {\"createdAt\": \"2021-08-01T00:00:00\", \"kind\": \"comments\", \"count\": null}, {\"createdAt\": \"2021-08-08T00:00:00\", \"kind\": \"comments\", \"count\": null}, {\"createdAt\": \"2021-08-15T00:00:00\", \"kind\": \"comments\", \"count\": null}, {\"createdAt\": \"2021-08-22T00:00:00\", \"kind\": \"comments\", \"count\": null}, {\"createdAt\": \"2021-08-29T00:00:00\", \"kind\": \"comments\", \"count\": 1.0}, {\"createdAt\": \"2021-09-05T00:00:00\", \"kind\": \"comments\", \"count\": 2.0}, {\"createdAt\": \"2021-09-12T00:00:00\", \"kind\": \"comments\", \"count\": 1.0}, {\"createdAt\": \"2021-09-19T00:00:00\", \"kind\": \"comments\", \"count\": 1.0}]}}, {\"mode\": \"vega-lite\"});\n",
       "</script>"
      ],
      "text/plain": [
       "alt.Chart(...)"
      ]
     },
     "execution_count": 17,
     "metadata": {},
     "output_type": "execute_result"
    }
   ],
   "source": [
    "alt.Chart(total_time, width=600).mark_line().encode(\n",
    "    x='createdAt',\n",
    "    y='count',\n",
    "    color='kind'\n",
    ")"
   ]
  }
 ],
 "metadata": {
  "kernelspec": {
   "display_name": "Python 3",
   "language": "python",
   "name": "python3"
  },
  "language_info": {
   "codemirror_mode": {
    "name": "ipython",
    "version": 3
   },
   "file_extension": ".py",
   "mimetype": "text/x-python",
   "name": "python",
   "nbconvert_exporter": "python",
   "pygments_lexer": "ipython3",
   "version": "3.7.12"
  },
  "papermill": {
   "default_parameters": {},
   "duration": 3.428307,
   "end_time": "2021-10-16T01:34:25.821898",
   "environment_variables": {},
   "exception": null,
   "input_path": "./person.ipynb",
   "output_path": "people/GeorgianaElena.ipynb",
   "parameters": {
    "n_days": 60,
    "person": "GeorgianaElena"
   },
   "start_time": "2021-10-16T01:34:22.393591",
   "version": "2.3.3"
  },
  "widgets": {
   "application/vnd.jupyter.widget-state+json": {
    "state": {},
    "version_major": 2,
    "version_minor": 0
   }
  }
 },
 "nbformat": 4,
 "nbformat_minor": 5
}