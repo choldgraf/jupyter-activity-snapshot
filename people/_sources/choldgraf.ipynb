{
 "cells": [
  {
   "cell_type": "markdown",
   "id": "bcd575af",
   "metadata": {
    "papermill": {
     "duration": 0.013803,
     "end_time": "2021-10-21T01:36:38.818528",
     "exception": false,
     "start_time": "2021-10-21T01:36:38.804725",
     "status": "completed"
    },
    "tags": []
   },
   "source": [
    "# Report for choldgraf"
   ]
  },
  {
   "cell_type": "code",
   "execution_count": 1,
   "id": "d0474737",
   "metadata": {
    "execution": {
     "iopub.execute_input": "2021-10-21T01:36:38.855001Z",
     "iopub.status.busy": "2021-10-21T01:36:38.854455Z",
     "iopub.status.idle": "2021-10-21T01:36:39.790919Z",
     "shell.execute_reply": "2021-10-21T01:36:39.790267Z"
    },
    "papermill": {
     "duration": 0.958386,
     "end_time": "2021-10-21T01:36:39.791103",
     "exception": false,
     "start_time": "2021-10-21T01:36:38.832717",
     "status": "completed"
    },
    "tags": [
     "remove_cell"
    ]
   },
   "outputs": [],
   "source": [
    "import seaborn as sns\n",
    "import pandas as pd\n",
    "import numpy as np\n",
    "import altair as alt\n",
    "from markdown import markdown\n",
    "from IPython.display import Markdown\n",
    "from ipywidgets.widgets import HTML, Tab\n",
    "from ipywidgets import widgets\n",
    "from datetime import timedelta\n",
    "from matplotlib import pyplot as plt\n",
    "import os.path as op\n",
    "\n",
    "from mycode import alt_theme\n",
    "from warnings import simplefilter\n",
    "simplefilter('ignore')"
   ]
  },
  {
   "cell_type": "code",
   "execution_count": 2,
   "id": "056cfd0d",
   "metadata": {
    "execution": {
     "iopub.execute_input": "2021-10-21T01:36:39.825168Z",
     "iopub.status.busy": "2021-10-21T01:36:39.824643Z",
     "iopub.status.idle": "2021-10-21T01:36:39.826875Z",
     "shell.execute_reply": "2021-10-21T01:36:39.826404Z"
    },
    "papermill": {
     "duration": 0.0209,
     "end_time": "2021-10-21T01:36:39.827007",
     "exception": false,
     "start_time": "2021-10-21T01:36:39.806107",
     "status": "completed"
    },
    "tags": [
     "remove_cell"
    ]
   },
   "outputs": [],
   "source": [
    "def author_url(author):\n",
    "    return f\"https://github.com/{author}\""
   ]
  },
  {
   "cell_type": "code",
   "execution_count": 3,
   "id": "4cb4112d",
   "metadata": {
    "execution": {
     "iopub.execute_input": "2021-10-21T01:36:39.856904Z",
     "iopub.status.busy": "2021-10-21T01:36:39.856389Z",
     "iopub.status.idle": "2021-10-21T01:36:39.858528Z",
     "shell.execute_reply": "2021-10-21T01:36:39.858081Z"
    },
    "papermill": {
     "duration": 0.019163,
     "end_time": "2021-10-21T01:36:39.858653",
     "exception": false,
     "start_time": "2021-10-21T01:36:39.839490",
     "status": "completed"
    },
    "tags": [
     "parameters",
     "hide_input"
    ]
   },
   "outputs": [],
   "source": [
    "# Parameters\n",
    "fmt_date = \"{:%Y-%m-%d}\"\n",
    "\n",
    "n_days = 30 * 2\n",
    "start_date = fmt_date.format(pd.datetime.today() - timedelta(days=n_days))\n",
    "end_date = fmt_date.format(pd.datetime.today())\n",
    "\n",
    "renderer = \"html\"\n",
    "person = \"jasongrout\""
   ]
  },
  {
   "cell_type": "code",
   "execution_count": 4,
   "id": "c19527a9",
   "metadata": {
    "execution": {
     "iopub.execute_input": "2021-10-21T01:36:39.887685Z",
     "iopub.status.busy": "2021-10-21T01:36:39.887175Z",
     "iopub.status.idle": "2021-10-21T01:36:39.888851Z",
     "shell.execute_reply": "2021-10-21T01:36:39.889260Z"
    },
    "papermill": {
     "duration": 0.018203,
     "end_time": "2021-10-21T01:36:39.889401",
     "exception": false,
     "start_time": "2021-10-21T01:36:39.871198",
     "status": "completed"
    },
    "tags": [
     "injected-parameters",
     "remove-cell"
    ]
   },
   "outputs": [],
   "source": [
    "# Parameters\n",
    "person = \"choldgraf\"\n",
    "n_days = 90\n"
   ]
  },
  {
   "cell_type": "code",
   "execution_count": 5,
   "id": "a0ca0c05",
   "metadata": {
    "execution": {
     "iopub.execute_input": "2021-10-21T01:36:39.921569Z",
     "iopub.status.busy": "2021-10-21T01:36:39.921060Z",
     "iopub.status.idle": "2021-10-21T01:36:39.923729Z",
     "shell.execute_reply": "2021-10-21T01:36:39.923287Z"
    },
    "papermill": {
     "duration": 0.02175,
     "end_time": "2021-10-21T01:36:39.923850",
     "exception": false,
     "start_time": "2021-10-21T01:36:39.902100",
     "status": "completed"
    },
    "tags": [
     "remove_cell"
    ]
   },
   "outputs": [
    {
     "data": {
      "text/plain": [
       "ThemeRegistry.enable('my_theme')"
      ]
     },
     "execution_count": 5,
     "metadata": {},
     "output_type": "execute_result"
    }
   ],
   "source": [
    "alt.renderers.enable(renderer);\n",
    "alt.themes.register('my_theme', alt_theme)\n",
    "alt.themes.enable(\"my_theme\")"
   ]
  },
  {
   "cell_type": "markdown",
   "id": "d68f9bf3",
   "metadata": {
    "papermill": {
     "duration": 0.013433,
     "end_time": "2021-10-21T01:36:39.951639",
     "exception": false,
     "start_time": "2021-10-21T01:36:39.938206",
     "status": "completed"
    },
    "tags": []
   },
   "source": [
    "## Load data"
   ]
  },
  {
   "cell_type": "code",
   "execution_count": 6,
   "id": "1700f58f",
   "metadata": {
    "execution": {
     "iopub.execute_input": "2021-10-21T01:36:39.984597Z",
     "iopub.status.busy": "2021-10-21T01:36:39.984081Z",
     "iopub.status.idle": "2021-10-21T01:36:40.088779Z",
     "shell.execute_reply": "2021-10-21T01:36:40.088233Z"
    },
    "papermill": {
     "duration": 0.123861,
     "end_time": "2021-10-21T01:36:40.088952",
     "exception": false,
     "start_time": "2021-10-21T01:36:39.965091",
     "status": "completed"
    },
    "tags": [
     "remove_cell"
    ]
   },
   "outputs": [],
   "source": [
    "from pathlib import Path\n",
    "path_data = Path(\"./\")\n",
    "comments = pd.read_csv(path_data.joinpath('../data/comments.csv'), index_col=0)\n",
    "issues = pd.read_csv(path_data.joinpath('../data/issues.csv'), index_col=0)\n",
    "prs = pd.read_csv(path_data.joinpath('../data/prs.csv'), index_col=0)\n",
    "\n",
    "comments = comments.query('author == @person').drop_duplicates()\n",
    "issues = issues.query('author == @person').drop_duplicates()\n",
    "closed_by = prs.query('mergedBy == @person')\n",
    "prs = prs.query('author == @person').drop_duplicates()"
   ]
  },
  {
   "cell_type": "code",
   "execution_count": 7,
   "id": "2c54f2a5",
   "metadata": {
    "execution": {
     "iopub.execute_input": "2021-10-21T01:36:40.128852Z",
     "iopub.status.busy": "2021-10-21T01:36:40.122283Z",
     "iopub.status.idle": "2021-10-21T01:36:40.169283Z",
     "shell.execute_reply": "2021-10-21T01:36:40.169762Z"
    },
    "papermill": {
     "duration": 0.065881,
     "end_time": "2021-10-21T01:36:40.169972",
     "exception": false,
     "start_time": "2021-10-21T01:36:40.104091",
     "status": "completed"
    },
    "tags": [
     "remove_cell"
    ]
   },
   "outputs": [],
   "source": [
    "# Time columns\n",
    "# Also drop dates outside of our range\n",
    "time_columns = ['updatedAt', 'createdAt', 'closedAt']\n",
    "for col in time_columns:\n",
    "    for item in [comments, issues, prs, closed_by]:\n",
    "        if col not in item.columns:\n",
    "            continue\n",
    "        dt = pd.to_datetime(item[col]).dt.tz_localize(None)\n",
    "        item[col] = dt\n",
    "        item.query(\"updatedAt < @end_date and updatedAt > @start_date\", inplace=True)"
   ]
  },
  {
   "cell_type": "markdown",
   "id": "32dfc1c0",
   "metadata": {
    "papermill": {
     "duration": 0.013225,
     "end_time": "2021-10-21T01:36:40.196767",
     "exception": false,
     "start_time": "2021-10-21T01:36:40.183542",
     "status": "completed"
    },
    "tags": []
   },
   "source": [
    "## Repository summaries"
   ]
  },
  {
   "cell_type": "code",
   "execution_count": 8,
   "id": "b5a671d3",
   "metadata": {
    "execution": {
     "iopub.execute_input": "2021-10-21T01:36:40.228630Z",
     "iopub.status.busy": "2021-10-21T01:36:40.228038Z",
     "iopub.status.idle": "2021-10-21T01:36:40.243866Z",
     "shell.execute_reply": "2021-10-21T01:36:40.243446Z"
    },
    "papermill": {
     "duration": 0.032787,
     "end_time": "2021-10-21T01:36:40.243995",
     "exception": false,
     "start_time": "2021-10-21T01:36:40.211208",
     "status": "completed"
    },
    "tags": [
     "remove_cell"
    ]
   },
   "outputs": [],
   "source": [
    "summaries = []\n",
    "for idata, name in [(issues, 'issues'), (prs, 'prs'), (comments, 'comments')]:\n",
    "    idata = idata.groupby([\"repo\", \"org\"]).agg({'id': \"count\"}).reset_index().rename(columns={'id': 'count'})\n",
    "    idata[\"kind\"] = name\n",
    "    summaries.append(idata)\n",
    "summaries = pd.concat(summaries)"
   ]
  },
  {
   "cell_type": "code",
   "execution_count": 9,
   "id": "80cf33f4",
   "metadata": {
    "execution": {
     "iopub.execute_input": "2021-10-21T01:36:40.279634Z",
     "iopub.status.busy": "2021-10-21T01:36:40.275037Z",
     "iopub.status.idle": "2021-10-21T01:36:40.285087Z",
     "shell.execute_reply": "2021-10-21T01:36:40.284231Z"
    },
    "papermill": {
     "duration": 0.027868,
     "end_time": "2021-10-21T01:36:40.285218",
     "exception": false,
     "start_time": "2021-10-21T01:36:40.257350",
     "status": "completed"
    },
    "tags": [
     "remove_cell"
    ]
   },
   "outputs": [],
   "source": [
    "repo_summaries = summaries.groupby([\"repo\", \"kind\"]).agg({\"count\": \"sum\"}).reset_index()\n",
    "org_summaries = summaries.groupby([\"org\", \"kind\"]).agg({\"count\": \"sum\"}).reset_index()"
   ]
  },
  {
   "cell_type": "code",
   "execution_count": 10,
   "id": "ab8c6a90",
   "metadata": {
    "execution": {
     "iopub.execute_input": "2021-10-21T01:36:40.316961Z",
     "iopub.status.busy": "2021-10-21T01:36:40.316446Z",
     "iopub.status.idle": "2021-10-21T01:36:40.318596Z",
     "shell.execute_reply": "2021-10-21T01:36:40.318177Z"
    },
    "papermill": {
     "duration": 0.020043,
     "end_time": "2021-10-21T01:36:40.318728",
     "exception": false,
     "start_time": "2021-10-21T01:36:40.298685",
     "status": "completed"
    },
    "tags": [
     "remove_cell"
    ]
   },
   "outputs": [],
   "source": [
    "repo_summaries['logcount'] = np.log(repo_summaries[\"count\"])"
   ]
  },
  {
   "cell_type": "code",
   "execution_count": 11,
   "id": "24c9c30c",
   "metadata": {
    "execution": {
     "iopub.execute_input": "2021-10-21T01:36:40.377068Z",
     "iopub.status.busy": "2021-10-21T01:36:40.366562Z",
     "iopub.status.idle": "2021-10-21T01:36:40.400899Z",
     "shell.execute_reply": "2021-10-21T01:36:40.400210Z"
    },
    "papermill": {
     "duration": 0.067411,
     "end_time": "2021-10-21T01:36:40.401045",
     "exception": false,
     "start_time": "2021-10-21T01:36:40.333634",
     "status": "completed"
    },
    "tags": [
     "hide_input"
    ]
   },
   "outputs": [
    {
     "data": {
      "text/html": [
       "\n",
       "<div id=\"altair-viz-ea44c1a8a2fe4634aaef3b682bfd3712\"></div>\n",
       "<script type=\"text/javascript\">\n",
       "  (function(spec, embedOpt){\n",
       "    let outputDiv = document.currentScript.previousElementSibling;\n",
       "    if (outputDiv.id !== \"altair-viz-ea44c1a8a2fe4634aaef3b682bfd3712\") {\n",
       "      outputDiv = document.getElementById(\"altair-viz-ea44c1a8a2fe4634aaef3b682bfd3712\");\n",
       "    }\n",
       "    const paths = {\n",
       "      \"vega\": \"https://cdn.jsdelivr.net/npm//vega@5?noext\",\n",
       "      \"vega-lib\": \"https://cdn.jsdelivr.net/npm//vega-lib?noext\",\n",
       "      \"vega-lite\": \"https://cdn.jsdelivr.net/npm//vega-lite@4.8.1?noext\",\n",
       "      \"vega-embed\": \"https://cdn.jsdelivr.net/npm//vega-embed@6?noext\",\n",
       "    };\n",
       "\n",
       "    function loadScript(lib) {\n",
       "      return new Promise(function(resolve, reject) {\n",
       "        var s = document.createElement('script');\n",
       "        s.src = paths[lib];\n",
       "        s.async = true;\n",
       "        s.onload = () => resolve(paths[lib]);\n",
       "        s.onerror = () => reject(`Error loading script: ${paths[lib]}`);\n",
       "        document.getElementsByTagName(\"head\")[0].appendChild(s);\n",
       "      });\n",
       "    }\n",
       "\n",
       "    function showError(err) {\n",
       "      outputDiv.innerHTML = `<div class=\"error\" style=\"color:red;\">${err}</div>`;\n",
       "      throw err;\n",
       "    }\n",
       "\n",
       "    function displayChart(vegaEmbed) {\n",
       "      vegaEmbed(outputDiv, spec, embedOpt)\n",
       "        .catch(err => showError(`Javascript Error: ${err.message}<br>This usually means there's a typo in your chart specification. See the javascript console for the full traceback.`));\n",
       "    }\n",
       "\n",
       "    if(typeof define === \"function\" && define.amd) {\n",
       "      requirejs.config({paths});\n",
       "      require([\"vega-embed\"], displayChart, err => showError(`Error loading script: ${err.message}`));\n",
       "    } else if (typeof vegaEmbed === \"function\") {\n",
       "      displayChart(vegaEmbed);\n",
       "    } else {\n",
       "      loadScript(\"vega\")\n",
       "        .then(() => loadScript(\"vega-lite\"))\n",
       "        .then(() => loadScript(\"vega-embed\"))\n",
       "        .catch(showError)\n",
       "        .then(() => displayChart(vegaEmbed));\n",
       "    }\n",
       "  })({\"config\": {\"axisLeft\": {\"labelFontSize\": 15}, \"axisBottom\": {\"labelFontSize\": 15}}, \"hconcat\": [{\"mark\": \"bar\", \"encoding\": {\"color\": {\"type\": \"nominal\", \"field\": \"kind\"}, \"tooltip\": {\"type\": \"nominal\", \"field\": \"kind\"}, \"x\": {\"type\": \"nominal\", \"field\": \"repo\"}, \"y\": {\"type\": \"quantitative\", \"field\": \"count\"}}, \"title\": \"Activity per repository\", \"width\": 600}, {\"mark\": \"bar\", \"encoding\": {\"color\": {\"type\": \"nominal\", \"field\": \"kind\"}, \"tooltip\": {\"type\": \"nominal\", \"field\": \"kind\"}, \"x\": {\"type\": \"nominal\", \"field\": \"repo\"}, \"y\": {\"type\": \"quantitative\", \"field\": \"logcount\"}}, \"title\": \"Log activity per repository\", \"width\": 600}], \"data\": {\"name\": \"data-fc166cc5bca1f8138bceaf02b404dbc5\"}, \"$schema\": \"https://vega.github.io/schema/vega-lite/v4.8.1.json\", \"datasets\": {\"data-fc166cc5bca1f8138bceaf02b404dbc5\": [{\"repo\": \".github\", \"kind\": \"comments\", \"count\": 1, \"logcount\": 0.0}, {\"repo\": \".github\", \"kind\": \"prs\", \"count\": 3, \"logcount\": 1.0986122886681098}, {\"repo\": \"MyST-NB\", \"kind\": \"comments\", \"count\": 12, \"logcount\": 2.4849066497880004}, {\"repo\": \"MyST-NB\", \"kind\": \"prs\", \"count\": 1, \"logcount\": 0.0}, {\"repo\": \"MyST-Parser\", \"kind\": \"comments\", \"count\": 9, \"logcount\": 2.1972245773362196}, {\"repo\": \"MyST-Parser\", \"kind\": \"issues\", \"count\": 2, \"logcount\": 0.6931471805599453}, {\"repo\": \"accessibility\", \"kind\": \"comments\", \"count\": 2, \"logcount\": 0.6931471805599453}, {\"repo\": \"binder\", \"kind\": \"comments\", \"count\": 1, \"logcount\": 0.0}, {\"repo\": \"binderhub\", \"kind\": \"comments\", \"count\": 10, \"logcount\": 2.302585092994046}, {\"repo\": \"binderhub\", \"kind\": \"issues\", \"count\": 15, \"logcount\": 2.70805020110221}, {\"repo\": \"design\", \"kind\": \"comments\", \"count\": 1, \"logcount\": 0.0}, {\"repo\": \"design\", \"kind\": \"prs\", \"count\": 1, \"logcount\": 0.0}, {\"repo\": \"enhancement-proposals\", \"kind\": \"comments\", \"count\": 2, \"logcount\": 0.6931471805599453}, {\"repo\": \"github-activity\", \"kind\": \"comments\", \"count\": 2, \"logcount\": 0.6931471805599453}, {\"repo\": \"github-activity\", \"kind\": \"prs\", \"count\": 1, \"logcount\": 0.0}, {\"repo\": \"governance\", \"kind\": \"comments\", \"count\": 3, \"logcount\": 1.0986122886681098}, {\"repo\": \"governance\", \"kind\": \"issues\", \"count\": 1, \"logcount\": 0.0}, {\"repo\": \"governance\", \"kind\": \"prs\", \"count\": 2, \"logcount\": 0.6931471805599453}, {\"repo\": \"grafana-dashboards\", \"kind\": \"comments\", \"count\": 1, \"logcount\": 0.0}, {\"repo\": \"jupyter-book\", \"kind\": \"comments\", \"count\": 77, \"logcount\": 4.343805421853684}, {\"repo\": \"jupyter-book\", \"kind\": \"issues\", \"count\": 7, \"logcount\": 1.9459101490553132}, {\"repo\": \"jupyter-book\", \"kind\": \"prs\", \"count\": 8, \"logcount\": 2.0794415416798357}, {\"repo\": \"jupyter-cache\", \"kind\": \"comments\", \"count\": 2, \"logcount\": 0.6931471805599453}, {\"repo\": \"jupyter-cache\", \"kind\": \"prs\", \"count\": 1, \"logcount\": 0.0}, {\"repo\": \"jupyterhub\", \"kind\": \"comments\", \"count\": 4, \"logcount\": 1.3862943611198906}, {\"repo\": \"jupyterlab-desktop\", \"kind\": \"comments\", \"count\": 1, \"logcount\": 0.0}, {\"repo\": \"mdit-py-plugins\", \"kind\": \"issues\", \"count\": 1, \"logcount\": 0.0}, {\"repo\": \"meta\", \"kind\": \"comments\", \"count\": 8, \"logcount\": 2.0794415416798357}, {\"repo\": \"meta\", \"kind\": \"issues\", \"count\": 5, \"logcount\": 1.6094379124341003}, {\"repo\": \"meta\", \"kind\": \"prs\", \"count\": 2, \"logcount\": 0.6931471805599453}, {\"repo\": \"mybinder.org-deploy\", \"kind\": \"comments\", \"count\": 6, \"logcount\": 1.791759469228055}, {\"repo\": \"nbclient\", \"kind\": \"comments\", \"count\": 3, \"logcount\": 1.0986122886681098}, {\"repo\": \"nbclient\", \"kind\": \"issues\", \"count\": 1, \"logcount\": 0.0}, {\"repo\": \"notebook\", \"kind\": \"comments\", \"count\": 10, \"logcount\": 2.302585092994046}, {\"repo\": \"notebook\", \"kind\": \"issues\", \"count\": 1, \"logcount\": 0.0}, {\"repo\": \"papermill\", \"kind\": \"prs\", \"count\": 1, \"logcount\": 0.0}, {\"repo\": \"repo2docker\", \"kind\": \"comments\", \"count\": 4, \"logcount\": 1.3862943611198906}, {\"repo\": \"repo2docker\", \"kind\": \"issues\", \"count\": 1, \"logcount\": 0.0}, {\"repo\": \"repo2docker\", \"kind\": \"prs\", \"count\": 2, \"logcount\": 0.6931471805599453}, {\"repo\": \"repo2docker-action\", \"kind\": \"comments\", \"count\": 3, \"logcount\": 1.0986122886681098}, {\"repo\": \"repo2docker-action\", \"kind\": \"issues\", \"count\": 1, \"logcount\": 0.0}, {\"repo\": \"security\", \"kind\": \"comments\", \"count\": 1, \"logcount\": 0.0}, {\"repo\": \"sloan_grant_administration\", \"kind\": \"comments\", \"count\": 4, \"logcount\": 1.3862943611198906}, {\"repo\": \"sloan_grant_administration\", \"kind\": \"prs\", \"count\": 1, \"logcount\": 0.0}, {\"repo\": \"sphinx-book-theme\", \"kind\": \"comments\", \"count\": 44, \"logcount\": 3.784189633918261}, {\"repo\": \"sphinx-book-theme\", \"kind\": \"issues\", \"count\": 5, \"logcount\": 1.6094379124341003}, {\"repo\": \"sphinx-book-theme\", \"kind\": \"prs\", \"count\": 17, \"logcount\": 2.833213344056216}, {\"repo\": \"sphinx-copybutton\", \"kind\": \"comments\", \"count\": 3, \"logcount\": 1.0986122886681098}, {\"repo\": \"sphinx-copybutton\", \"kind\": \"prs\", \"count\": 2, \"logcount\": 0.6931471805599453}, {\"repo\": \"sphinx-design\", \"kind\": \"issues\", \"count\": 1, \"logcount\": 0.0}, {\"repo\": \"sphinx-external-toc\", \"kind\": \"issues\", \"count\": 1, \"logcount\": 0.0}, {\"repo\": \"sphinx-external-toc\", \"kind\": \"prs\", \"count\": 1, \"logcount\": 0.0}, {\"repo\": \"sphinx-jupyterbook-latex\", \"kind\": \"comments\", \"count\": 1, \"logcount\": 0.0}, {\"repo\": \"sphinx-panels\", \"kind\": \"comments\", \"count\": 1, \"logcount\": 0.0}, {\"repo\": \"sphinx-panels\", \"kind\": \"prs\", \"count\": 1, \"logcount\": 0.0}, {\"repo\": \"sphinx-remove-toctrees\", \"kind\": \"comments\", \"count\": 5, \"logcount\": 1.6094379124341003}, {\"repo\": \"sphinx-remove-toctrees\", \"kind\": \"issues\", \"count\": 1, \"logcount\": 0.0}, {\"repo\": \"sphinx-thebe\", \"kind\": \"comments\", \"count\": 12, \"logcount\": 2.4849066497880004}, {\"repo\": \"sphinx-thebe\", \"kind\": \"issues\", \"count\": 3, \"logcount\": 1.0986122886681098}, {\"repo\": \"sphinx-thebe\", \"kind\": \"prs\", \"count\": 5, \"logcount\": 1.6094379124341003}, {\"repo\": \"sphinx-togglebutton\", \"kind\": \"issues\", \"count\": 1, \"logcount\": 0.0}, {\"repo\": \"team-compass\", \"kind\": \"comments\", \"count\": 18, \"logcount\": 2.8903717578961645}, {\"repo\": \"team-compass\", \"kind\": \"issues\", \"count\": 5, \"logcount\": 1.6094379124341003}, {\"repo\": \"team-compass\", \"kind\": \"prs\", \"count\": 1, \"logcount\": 0.0}, {\"repo\": \"thebe\", \"kind\": \"comments\", \"count\": 15, \"logcount\": 2.70805020110221}, {\"repo\": \"thebe\", \"kind\": \"issues\", \"count\": 1, \"logcount\": 0.0}, {\"repo\": \"thebe\", \"kind\": \"prs\", \"count\": 1, \"logcount\": 0.0}, {\"repo\": \"voila\", \"kind\": \"comments\", \"count\": 2, \"logcount\": 0.6931471805599453}, {\"repo\": \"web-compile\", \"kind\": \"comments\", \"count\": 1, \"logcount\": 0.0}, {\"repo\": \"web-compile\", \"kind\": \"prs\", \"count\": 1, \"logcount\": 0.0}]}}, {\"mode\": \"vega-lite\"});\n",
       "</script>"
      ],
      "text/plain": [
       "alt.HConcatChart(...)"
      ]
     },
     "execution_count": 11,
     "metadata": {},
     "output_type": "execute_result"
    }
   ],
   "source": [
    "ch1 = alt.Chart(repo_summaries, width=600, title=\"Activity per repository\").mark_bar().encode(\n",
    "    x='repo',\n",
    "    y='count',\n",
    "    color='kind',\n",
    "    tooltip=\"kind\"\n",
    ")\n",
    "\n",
    "ch2 = alt.Chart(repo_summaries, width=600, title=\"Log activity per repository\").mark_bar().encode(\n",
    "    x='repo',\n",
    "    y='logcount',\n",
    "    color='kind',\n",
    "    tooltip=\"kind\"\n",
    ")\n",
    "\n",
    "ch1 | ch2"
   ]
  },
  {
   "cell_type": "code",
   "execution_count": 12,
   "id": "80c54a32",
   "metadata": {
    "execution": {
     "iopub.execute_input": "2021-10-21T01:36:40.454762Z",
     "iopub.status.busy": "2021-10-21T01:36:40.442522Z",
     "iopub.status.idle": "2021-10-21T01:36:40.458970Z",
     "shell.execute_reply": "2021-10-21T01:36:40.459385Z"
    },
    "papermill": {
     "duration": 0.044056,
     "end_time": "2021-10-21T01:36:40.459545",
     "exception": false,
     "start_time": "2021-10-21T01:36:40.415489",
     "status": "completed"
    },
    "tags": [
     "hide_input"
    ]
   },
   "outputs": [
    {
     "data": {
      "text/html": [
       "\n",
       "<div id=\"altair-viz-c92ea7b37b054d3cb1c8215194c6fd76\"></div>\n",
       "<script type=\"text/javascript\">\n",
       "  (function(spec, embedOpt){\n",
       "    let outputDiv = document.currentScript.previousElementSibling;\n",
       "    if (outputDiv.id !== \"altair-viz-c92ea7b37b054d3cb1c8215194c6fd76\") {\n",
       "      outputDiv = document.getElementById(\"altair-viz-c92ea7b37b054d3cb1c8215194c6fd76\");\n",
       "    }\n",
       "    const paths = {\n",
       "      \"vega\": \"https://cdn.jsdelivr.net/npm//vega@5?noext\",\n",
       "      \"vega-lib\": \"https://cdn.jsdelivr.net/npm//vega-lib?noext\",\n",
       "      \"vega-lite\": \"https://cdn.jsdelivr.net/npm//vega-lite@4.8.1?noext\",\n",
       "      \"vega-embed\": \"https://cdn.jsdelivr.net/npm//vega-embed@6?noext\",\n",
       "    };\n",
       "\n",
       "    function loadScript(lib) {\n",
       "      return new Promise(function(resolve, reject) {\n",
       "        var s = document.createElement('script');\n",
       "        s.src = paths[lib];\n",
       "        s.async = true;\n",
       "        s.onload = () => resolve(paths[lib]);\n",
       "        s.onerror = () => reject(`Error loading script: ${paths[lib]}`);\n",
       "        document.getElementsByTagName(\"head\")[0].appendChild(s);\n",
       "      });\n",
       "    }\n",
       "\n",
       "    function showError(err) {\n",
       "      outputDiv.innerHTML = `<div class=\"error\" style=\"color:red;\">${err}</div>`;\n",
       "      throw err;\n",
       "    }\n",
       "\n",
       "    function displayChart(vegaEmbed) {\n",
       "      vegaEmbed(outputDiv, spec, embedOpt)\n",
       "        .catch(err => showError(`Javascript Error: ${err.message}<br>This usually means there's a typo in your chart specification. See the javascript console for the full traceback.`));\n",
       "    }\n",
       "\n",
       "    if(typeof define === \"function\" && define.amd) {\n",
       "      requirejs.config({paths});\n",
       "      require([\"vega-embed\"], displayChart, err => showError(`Error loading script: ${err.message}`));\n",
       "    } else if (typeof vegaEmbed === \"function\") {\n",
       "      displayChart(vegaEmbed);\n",
       "    } else {\n",
       "      loadScript(\"vega\")\n",
       "        .then(() => loadScript(\"vega-lite\"))\n",
       "        .then(() => loadScript(\"vega-embed\"))\n",
       "        .catch(showError)\n",
       "        .then(() => displayChart(vegaEmbed));\n",
       "    }\n",
       "  })({\"config\": {\"axisLeft\": {\"labelFontSize\": 15}, \"axisBottom\": {\"labelFontSize\": 15}}, \"data\": {\"name\": \"data-15af5c82fba6a49d622fec7ea351d888\"}, \"mark\": \"bar\", \"encoding\": {\"color\": {\"type\": \"nominal\", \"field\": \"kind\"}, \"tooltip\": {\"type\": \"nominal\", \"field\": \"org\"}, \"x\": {\"type\": \"nominal\", \"field\": \"org\"}, \"y\": {\"type\": \"quantitative\", \"field\": \"count\"}}, \"width\": 600, \"$schema\": \"https://vega.github.io/schema/vega-lite/v4.8.1.json\", \"datasets\": {\"data-15af5c82fba6a49d622fec7ea351d888\": [{\"org\": \"executablebooks\", \"kind\": \"comments\", \"count\": 197}, {\"org\": \"executablebooks\", \"kind\": \"issues\", \"count\": 28}, {\"org\": \"executablebooks\", \"kind\": \"prs\", \"count\": 45}, {\"org\": \"jupyter\", \"kind\": \"comments\", \"count\": 22}, {\"org\": \"jupyter\", \"kind\": \"issues\", \"count\": 3}, {\"org\": \"jupyter\", \"kind\": \"prs\", \"count\": 3}, {\"org\": \"jupyterhub\", \"kind\": \"comments\", \"count\": 47}, {\"org\": \"jupyterhub\", \"kind\": \"issues\", \"count\": 22}, {\"org\": \"jupyterhub\", \"kind\": \"prs\", \"count\": 3}, {\"org\": \"jupyterlab\", \"kind\": \"comments\", \"count\": 1}, {\"org\": \"nteract\", \"kind\": \"prs\", \"count\": 1}, {\"org\": \"voila-dashboards\", \"kind\": \"comments\", \"count\": 2}]}}, {\"mode\": \"vega-lite\"});\n",
       "</script>"
      ],
      "text/plain": [
       "alt.Chart(...)"
      ]
     },
     "execution_count": 12,
     "metadata": {},
     "output_type": "execute_result"
    }
   ],
   "source": [
    "alt.Chart(org_summaries, width=600).mark_bar().encode(\n",
    "    x='org',\n",
    "    y='count',\n",
    "    color='kind',\n",
    "    tooltip=\"org\"\n",
    ")"
   ]
  },
  {
   "cell_type": "markdown",
   "id": "c4eec967",
   "metadata": {
    "papermill": {
     "duration": 0.015,
     "end_time": "2021-10-21T01:36:40.490616",
     "exception": false,
     "start_time": "2021-10-21T01:36:40.475616",
     "status": "completed"
    },
    "tags": []
   },
   "source": [
    "## By repository over time"
   ]
  },
  {
   "cell_type": "markdown",
   "id": "ccd6c7e3",
   "metadata": {
    "papermill": {
     "duration": 0.014593,
     "end_time": "2021-10-21T01:36:40.520113",
     "exception": false,
     "start_time": "2021-10-21T01:36:40.505520",
     "status": "completed"
    },
    "tags": []
   },
   "source": [
    "### Comments"
   ]
  },
  {
   "cell_type": "code",
   "execution_count": 13,
   "id": "4cc28a61",
   "metadata": {
    "execution": {
     "iopub.execute_input": "2021-10-21T01:36:40.560880Z",
     "iopub.status.busy": "2021-10-21T01:36:40.555275Z",
     "iopub.status.idle": "2021-10-21T01:36:40.673002Z",
     "shell.execute_reply": "2021-10-21T01:36:40.672527Z"
    },
    "papermill": {
     "duration": 0.138401,
     "end_time": "2021-10-21T01:36:40.673147",
     "exception": false,
     "start_time": "2021-10-21T01:36:40.534746",
     "status": "completed"
    },
    "tags": [
     "hide_input"
    ]
   },
   "outputs": [
    {
     "data": {
      "text/html": [
       "\n",
       "<div id=\"altair-viz-2ff2156ae315457281a049509ba2b683\"></div>\n",
       "<script type=\"text/javascript\">\n",
       "  (function(spec, embedOpt){\n",
       "    let outputDiv = document.currentScript.previousElementSibling;\n",
       "    if (outputDiv.id !== \"altair-viz-2ff2156ae315457281a049509ba2b683\") {\n",
       "      outputDiv = document.getElementById(\"altair-viz-2ff2156ae315457281a049509ba2b683\");\n",
       "    }\n",
       "    const paths = {\n",
       "      \"vega\": \"https://cdn.jsdelivr.net/npm//vega@5?noext\",\n",
       "      \"vega-lib\": \"https://cdn.jsdelivr.net/npm//vega-lib?noext\",\n",
       "      \"vega-lite\": \"https://cdn.jsdelivr.net/npm//vega-lite@4.8.1?noext\",\n",
       "      \"vega-embed\": \"https://cdn.jsdelivr.net/npm//vega-embed@6?noext\",\n",
       "    };\n",
       "\n",
       "    function loadScript(lib) {\n",
       "      return new Promise(function(resolve, reject) {\n",
       "        var s = document.createElement('script');\n",
       "        s.src = paths[lib];\n",
       "        s.async = true;\n",
       "        s.onload = () => resolve(paths[lib]);\n",
       "        s.onerror = () => reject(`Error loading script: ${paths[lib]}`);\n",
       "        document.getElementsByTagName(\"head\")[0].appendChild(s);\n",
       "      });\n",
       "    }\n",
       "\n",
       "    function showError(err) {\n",
       "      outputDiv.innerHTML = `<div class=\"error\" style=\"color:red;\">${err}</div>`;\n",
       "      throw err;\n",
       "    }\n",
       "\n",
       "    function displayChart(vegaEmbed) {\n",
       "      vegaEmbed(outputDiv, spec, embedOpt)\n",
       "        .catch(err => showError(`Javascript Error: ${err.message}<br>This usually means there's a typo in your chart specification. See the javascript console for the full traceback.`));\n",
       "    }\n",
       "\n",
       "    if(typeof define === \"function\" && define.amd) {\n",
       "      requirejs.config({paths});\n",
       "      require([\"vega-embed\"], displayChart, err => showError(`Error loading script: ${err.message}`));\n",
       "    } else if (typeof vegaEmbed === \"function\") {\n",
       "      displayChart(vegaEmbed);\n",
       "    } else {\n",
       "      loadScript(\"vega\")\n",
       "        .then(() => loadScript(\"vega-lite\"))\n",
       "        .then(() => loadScript(\"vega-embed\"))\n",
       "        .catch(showError)\n",
       "        .then(() => displayChart(vegaEmbed));\n",
       "    }\n",
       "  })({\"config\": {\"axisLeft\": {\"labelFontSize\": 15}, \"axisBottom\": {\"labelFontSize\": 15}}, \"layer\": [{\"data\": {\"name\": \"data-01b4ed9f8ae0b9b80b9d97db3873868b\"}, \"mark\": \"line\", \"encoding\": {\"color\": {\"type\": \"nominal\", \"field\": \"repo\"}, \"tooltip\": {\"type\": \"nominal\", \"field\": \"repo\"}, \"x\": {\"type\": \"temporal\", \"field\": \"createdAt\"}, \"y\": {\"type\": \"quantitative\", \"field\": \"count\"}}, \"width\": 600}, {\"data\": {\"name\": \"data-5735f3d2e008d46c012d9200009fd89c\"}, \"mark\": {\"type\": \"line\", \"color\": \"black\"}, \"encoding\": {\"x\": {\"type\": \"temporal\", \"field\": \"createdAt\"}, \"y\": {\"type\": \"quantitative\", \"field\": \"count\"}}, \"width\": 600}], \"$schema\": \"https://vega.github.io/schema/vega-lite/v4.8.1.json\", \"datasets\": {\"data-01b4ed9f8ae0b9b80b9d97db3873868b\": [{\"repo\": \".github\", \"createdAt\": \"2021-09-12T00:00:00\", \"count\": 1}, {\"repo\": \"MyST-NB\", \"createdAt\": \"2021-08-29T00:00:00\", \"count\": 6}, {\"repo\": \"MyST-NB\", \"createdAt\": \"2021-09-05T00:00:00\", \"count\": 4}, {\"repo\": \"MyST-NB\", \"createdAt\": \"2021-09-12T00:00:00\", \"count\": 0}, {\"repo\": \"MyST-NB\", \"createdAt\": \"2021-09-19T00:00:00\", \"count\": 1}, {\"repo\": \"MyST-NB\", \"createdAt\": \"2021-09-26T00:00:00\", \"count\": 0}, {\"repo\": \"MyST-NB\", \"createdAt\": \"2021-10-03T00:00:00\", \"count\": 0}, {\"repo\": \"MyST-NB\", \"createdAt\": \"2021-10-10T00:00:00\", \"count\": 0}, {\"repo\": \"MyST-NB\", \"createdAt\": \"2021-10-17T00:00:00\", \"count\": 1}, {\"repo\": \"MyST-Parser\", \"createdAt\": \"2021-08-22T00:00:00\", \"count\": 1}, {\"repo\": \"MyST-Parser\", \"createdAt\": \"2021-08-29T00:00:00\", \"count\": 2}, {\"repo\": \"MyST-Parser\", \"createdAt\": \"2021-09-05T00:00:00\", \"count\": 1}, {\"repo\": \"MyST-Parser\", \"createdAt\": \"2021-09-12T00:00:00\", \"count\": 0}, {\"repo\": \"MyST-Parser\", \"createdAt\": \"2021-09-19T00:00:00\", \"count\": 0}, {\"repo\": \"MyST-Parser\", \"createdAt\": \"2021-09-26T00:00:00\", \"count\": 1}, {\"repo\": \"MyST-Parser\", \"createdAt\": \"2021-10-03T00:00:00\", \"count\": 1}, {\"repo\": \"MyST-Parser\", \"createdAt\": \"2021-10-10T00:00:00\", \"count\": 2}, {\"repo\": \"MyST-Parser\", \"createdAt\": \"2021-10-17T00:00:00\", \"count\": 1}, {\"repo\": \"accessibility\", \"createdAt\": \"2021-08-29T00:00:00\", \"count\": 2}, {\"repo\": \"binder\", \"createdAt\": \"2021-09-19T00:00:00\", \"count\": 1}, {\"repo\": \"binderhub\", \"createdAt\": \"2021-09-26T00:00:00\", \"count\": 8}, {\"repo\": \"binderhub\", \"createdAt\": \"2021-10-03T00:00:00\", \"count\": 0}, {\"repo\": \"binderhub\", \"createdAt\": \"2021-10-10T00:00:00\", \"count\": 2}, {\"repo\": \"design\", \"createdAt\": \"2021-08-29T00:00:00\", \"count\": 1}, {\"repo\": \"enhancement-proposals\", \"createdAt\": \"2021-10-10T00:00:00\", \"count\": 2}, {\"repo\": \"github-activity\", \"createdAt\": \"2021-10-10T00:00:00\", \"count\": 1}, {\"repo\": \"github-activity\", \"createdAt\": \"2021-10-17T00:00:00\", \"count\": 1}, {\"repo\": \"governance\", \"createdAt\": \"2021-09-19T00:00:00\", \"count\": 2}, {\"repo\": \"governance\", \"createdAt\": \"2021-09-26T00:00:00\", \"count\": 0}, {\"repo\": \"governance\", \"createdAt\": \"2021-10-03T00:00:00\", \"count\": 0}, {\"repo\": \"governance\", \"createdAt\": \"2021-10-10T00:00:00\", \"count\": 0}, {\"repo\": \"governance\", \"createdAt\": \"2021-10-17T00:00:00\", \"count\": 1}, {\"repo\": \"grafana-dashboards\", \"createdAt\": \"2021-08-29T00:00:00\", \"count\": 1}, {\"repo\": \"jupyter-book\", \"createdAt\": \"2021-08-22T00:00:00\", \"count\": 1}, {\"repo\": \"jupyter-book\", \"createdAt\": \"2021-08-29T00:00:00\", \"count\": 22}, {\"repo\": \"jupyter-book\", \"createdAt\": \"2021-09-05T00:00:00\", \"count\": 6}, {\"repo\": \"jupyter-book\", \"createdAt\": \"2021-09-12T00:00:00\", \"count\": 3}, {\"repo\": \"jupyter-book\", \"createdAt\": \"2021-09-19T00:00:00\", \"count\": 1}, {\"repo\": \"jupyter-book\", \"createdAt\": \"2021-09-26T00:00:00\", \"count\": 5}, {\"repo\": \"jupyter-book\", \"createdAt\": \"2021-10-03T00:00:00\", \"count\": 7}, {\"repo\": \"jupyter-book\", \"createdAt\": \"2021-10-10T00:00:00\", \"count\": 6}, {\"repo\": \"jupyter-book\", \"createdAt\": \"2021-10-17T00:00:00\", \"count\": 24}, {\"repo\": \"jupyter-book\", \"createdAt\": \"2021-10-24T00:00:00\", \"count\": 2}, {\"repo\": \"jupyter-cache\", \"createdAt\": \"2021-08-29T00:00:00\", \"count\": 2}, {\"repo\": \"jupyterhub\", \"createdAt\": \"2021-08-29T00:00:00\", \"count\": 4}, {\"repo\": \"jupyterlab-desktop\", \"createdAt\": \"2021-09-26T00:00:00\", \"count\": 1}, {\"repo\": \"meta\", \"createdAt\": \"2021-08-22T00:00:00\", \"count\": 1}, {\"repo\": \"meta\", \"createdAt\": \"2021-08-29T00:00:00\", \"count\": 0}, {\"repo\": \"meta\", \"createdAt\": \"2021-09-05T00:00:00\", \"count\": 0}, {\"repo\": \"meta\", \"createdAt\": \"2021-09-12T00:00:00\", \"count\": 0}, {\"repo\": \"meta\", \"createdAt\": \"2021-09-19T00:00:00\", \"count\": 0}, {\"repo\": \"meta\", \"createdAt\": \"2021-09-26T00:00:00\", \"count\": 1}, {\"repo\": \"meta\", \"createdAt\": \"2021-10-03T00:00:00\", \"count\": 1}, {\"repo\": \"meta\", \"createdAt\": \"2021-10-10T00:00:00\", \"count\": 3}, {\"repo\": \"meta\", \"createdAt\": \"2021-10-17T00:00:00\", \"count\": 2}, {\"repo\": \"mybinder.org-deploy\", \"createdAt\": \"2021-09-12T00:00:00\", \"count\": 1}, {\"repo\": \"mybinder.org-deploy\", \"createdAt\": \"2021-09-19T00:00:00\", \"count\": 1}, {\"repo\": \"mybinder.org-deploy\", \"createdAt\": \"2021-09-26T00:00:00\", \"count\": 2}, {\"repo\": \"mybinder.org-deploy\", \"createdAt\": \"2021-10-03T00:00:00\", \"count\": 1}, {\"repo\": \"mybinder.org-deploy\", \"createdAt\": \"2021-10-10T00:00:00\", \"count\": 1}, {\"repo\": \"nbclient\", \"createdAt\": \"2021-09-19T00:00:00\", \"count\": 2}, {\"repo\": \"nbclient\", \"createdAt\": \"2021-09-26T00:00:00\", \"count\": 0}, {\"repo\": \"nbclient\", \"createdAt\": \"2021-10-03T00:00:00\", \"count\": 1}, {\"repo\": \"notebook\", \"createdAt\": \"2021-10-10T00:00:00\", \"count\": 2}, {\"repo\": \"notebook\", \"createdAt\": \"2021-10-17T00:00:00\", \"count\": 8}, {\"repo\": \"repo2docker\", \"createdAt\": \"2021-09-12T00:00:00\", \"count\": 1}, {\"repo\": \"repo2docker\", \"createdAt\": \"2021-09-19T00:00:00\", \"count\": 3}, {\"repo\": \"repo2docker-action\", \"createdAt\": \"2021-08-29T00:00:00\", \"count\": 2}, {\"repo\": \"repo2docker-action\", \"createdAt\": \"2021-09-05T00:00:00\", \"count\": 0}, {\"repo\": \"repo2docker-action\", \"createdAt\": \"2021-09-12T00:00:00\", \"count\": 0}, {\"repo\": \"repo2docker-action\", \"createdAt\": \"2021-09-19T00:00:00\", \"count\": 1}, {\"repo\": \"security\", \"createdAt\": \"2021-10-03T00:00:00\", \"count\": 1}, {\"repo\": \"sloan_grant_administration\", \"createdAt\": \"2021-10-10T00:00:00\", \"count\": 4}, {\"repo\": \"sphinx-book-theme\", \"createdAt\": \"2021-08-22T00:00:00\", \"count\": 3}, {\"repo\": \"sphinx-book-theme\", \"createdAt\": \"2021-08-29T00:00:00\", \"count\": 4}, {\"repo\": \"sphinx-book-theme\", \"createdAt\": \"2021-09-05T00:00:00\", \"count\": 14}, {\"repo\": \"sphinx-book-theme\", \"createdAt\": \"2021-09-12T00:00:00\", \"count\": 1}, {\"repo\": \"sphinx-book-theme\", \"createdAt\": \"2021-09-19T00:00:00\", \"count\": 2}, {\"repo\": \"sphinx-book-theme\", \"createdAt\": \"2021-09-26T00:00:00\", \"count\": 3}, {\"repo\": \"sphinx-book-theme\", \"createdAt\": \"2021-10-03T00:00:00\", \"count\": 6}, {\"repo\": \"sphinx-book-theme\", \"createdAt\": \"2021-10-10T00:00:00\", \"count\": 1}, {\"repo\": \"sphinx-book-theme\", \"createdAt\": \"2021-10-17T00:00:00\", \"count\": 9}, {\"repo\": \"sphinx-book-theme\", \"createdAt\": \"2021-10-24T00:00:00\", \"count\": 1}, {\"repo\": \"sphinx-copybutton\", \"createdAt\": \"2021-10-17T00:00:00\", \"count\": 3}, {\"repo\": \"sphinx-jupyterbook-latex\", \"createdAt\": \"2021-10-03T00:00:00\", \"count\": 1}, {\"repo\": \"sphinx-panels\", \"createdAt\": \"2021-08-29T00:00:00\", \"count\": 1}, {\"repo\": \"sphinx-remove-toctrees\", \"createdAt\": \"2021-10-10T00:00:00\", \"count\": 4}, {\"repo\": \"sphinx-remove-toctrees\", \"createdAt\": \"2021-10-17T00:00:00\", \"count\": 1}, {\"repo\": \"sphinx-thebe\", \"createdAt\": \"2021-08-29T00:00:00\", \"count\": 11}, {\"repo\": \"sphinx-thebe\", \"createdAt\": \"2021-09-05T00:00:00\", \"count\": 1}, {\"repo\": \"team-compass\", \"createdAt\": \"2021-09-12T00:00:00\", \"count\": 2}, {\"repo\": \"team-compass\", \"createdAt\": \"2021-09-19T00:00:00\", \"count\": 2}, {\"repo\": \"team-compass\", \"createdAt\": \"2021-09-26T00:00:00\", \"count\": 5}, {\"repo\": \"team-compass\", \"createdAt\": \"2021-10-03T00:00:00\", \"count\": 3}, {\"repo\": \"team-compass\", \"createdAt\": \"2021-10-10T00:00:00\", \"count\": 1}, {\"repo\": \"team-compass\", \"createdAt\": \"2021-10-17T00:00:00\", \"count\": 3}, {\"repo\": \"team-compass\", \"createdAt\": \"2021-10-24T00:00:00\", \"count\": 2}, {\"repo\": \"thebe\", \"createdAt\": \"2021-08-29T00:00:00\", \"count\": 5}, {\"repo\": \"thebe\", \"createdAt\": \"2021-09-05T00:00:00\", \"count\": 3}, {\"repo\": \"thebe\", \"createdAt\": \"2021-09-12T00:00:00\", \"count\": 1}, {\"repo\": \"thebe\", \"createdAt\": \"2021-09-19T00:00:00\", \"count\": 0}, {\"repo\": \"thebe\", \"createdAt\": \"2021-09-26T00:00:00\", \"count\": 1}, {\"repo\": \"thebe\", \"createdAt\": \"2021-10-03T00:00:00\", \"count\": 3}, {\"repo\": \"thebe\", \"createdAt\": \"2021-10-10T00:00:00\", \"count\": 0}, {\"repo\": \"thebe\", \"createdAt\": \"2021-10-17T00:00:00\", \"count\": 2}, {\"repo\": \"voila\", \"createdAt\": \"2021-09-12T00:00:00\", \"count\": 2}, {\"repo\": \"web-compile\", \"createdAt\": \"2021-09-26T00:00:00\", \"count\": 1}], \"data-5735f3d2e008d46c012d9200009fd89c\": [{\"createdAt\": \"2021-08-22T00:00:00\", \"count\": 6}, {\"createdAt\": \"2021-08-29T00:00:00\", \"count\": 63}, {\"createdAt\": \"2021-09-05T00:00:00\", \"count\": 29}, {\"createdAt\": \"2021-09-12T00:00:00\", \"count\": 12}, {\"createdAt\": \"2021-09-19T00:00:00\", \"count\": 16}, {\"createdAt\": \"2021-09-26T00:00:00\", \"count\": 28}, {\"createdAt\": \"2021-10-03T00:00:00\", \"count\": 25}, {\"createdAt\": \"2021-10-10T00:00:00\", \"count\": 29}, {\"createdAt\": \"2021-10-17T00:00:00\", \"count\": 56}, {\"createdAt\": \"2021-10-24T00:00:00\", \"count\": 5}]}}, {\"mode\": \"vega-lite\"});\n",
       "</script>"
      ],
      "text/plain": [
       "alt.LayerChart(...)"
      ]
     },
     "execution_count": 13,
     "metadata": {},
     "output_type": "execute_result"
    }
   ],
   "source": [
    "comments_time = comments.groupby('repo').resample('W', on='createdAt').count()['author'].reset_index()\n",
    "comments_time = comments_time.rename(columns={'author': 'count'})\n",
    "comments_time_total = comments_time.groupby('createdAt').agg({\"count\": \"sum\"}).reset_index()\n",
    "ch1 = alt.Chart(comments_time, width=600).mark_line().encode(\n",
    "    x='createdAt',\n",
    "    y='count',\n",
    "    color='repo',\n",
    "    tooltip=\"repo\"\n",
    ")\n",
    "\n",
    "ch2 = alt.Chart(comments_time_total, width=600).mark_line(color=\"black\").encode(\n",
    "    x='createdAt',\n",
    "    y='count',\n",
    ")\n",
    "\n",
    "ch1 + ch2"
   ]
  },
  {
   "cell_type": "markdown",
   "id": "38e062be",
   "metadata": {
    "papermill": {
     "duration": 0.015892,
     "end_time": "2021-10-21T01:36:40.705841",
     "exception": false,
     "start_time": "2021-10-21T01:36:40.689949",
     "status": "completed"
    },
    "tags": []
   },
   "source": [
    "### PRs"
   ]
  },
  {
   "cell_type": "code",
   "execution_count": 14,
   "id": "18f33f2f",
   "metadata": {
    "execution": {
     "iopub.execute_input": "2021-10-21T01:36:40.753828Z",
     "iopub.status.busy": "2021-10-21T01:36:40.750326Z",
     "iopub.status.idle": "2021-10-21T01:36:40.845132Z",
     "shell.execute_reply": "2021-10-21T01:36:40.844327Z"
    },
    "papermill": {
     "duration": 0.123581,
     "end_time": "2021-10-21T01:36:40.845283",
     "exception": false,
     "start_time": "2021-10-21T01:36:40.721702",
     "status": "completed"
    },
    "tags": [
     "hide_input"
    ]
   },
   "outputs": [
    {
     "data": {
      "text/html": [
       "\n",
       "<div id=\"altair-viz-3528bb66dacb406cbd72373c83f4de49\"></div>\n",
       "<script type=\"text/javascript\">\n",
       "  (function(spec, embedOpt){\n",
       "    let outputDiv = document.currentScript.previousElementSibling;\n",
       "    if (outputDiv.id !== \"altair-viz-3528bb66dacb406cbd72373c83f4de49\") {\n",
       "      outputDiv = document.getElementById(\"altair-viz-3528bb66dacb406cbd72373c83f4de49\");\n",
       "    }\n",
       "    const paths = {\n",
       "      \"vega\": \"https://cdn.jsdelivr.net/npm//vega@5?noext\",\n",
       "      \"vega-lib\": \"https://cdn.jsdelivr.net/npm//vega-lib?noext\",\n",
       "      \"vega-lite\": \"https://cdn.jsdelivr.net/npm//vega-lite@4.8.1?noext\",\n",
       "      \"vega-embed\": \"https://cdn.jsdelivr.net/npm//vega-embed@6?noext\",\n",
       "    };\n",
       "\n",
       "    function loadScript(lib) {\n",
       "      return new Promise(function(resolve, reject) {\n",
       "        var s = document.createElement('script');\n",
       "        s.src = paths[lib];\n",
       "        s.async = true;\n",
       "        s.onload = () => resolve(paths[lib]);\n",
       "        s.onerror = () => reject(`Error loading script: ${paths[lib]}`);\n",
       "        document.getElementsByTagName(\"head\")[0].appendChild(s);\n",
       "      });\n",
       "    }\n",
       "\n",
       "    function showError(err) {\n",
       "      outputDiv.innerHTML = `<div class=\"error\" style=\"color:red;\">${err}</div>`;\n",
       "      throw err;\n",
       "    }\n",
       "\n",
       "    function displayChart(vegaEmbed) {\n",
       "      vegaEmbed(outputDiv, spec, embedOpt)\n",
       "        .catch(err => showError(`Javascript Error: ${err.message}<br>This usually means there's a typo in your chart specification. See the javascript console for the full traceback.`));\n",
       "    }\n",
       "\n",
       "    if(typeof define === \"function\" && define.amd) {\n",
       "      requirejs.config({paths});\n",
       "      require([\"vega-embed\"], displayChart, err => showError(`Error loading script: ${err.message}`));\n",
       "    } else if (typeof vegaEmbed === \"function\") {\n",
       "      displayChart(vegaEmbed);\n",
       "    } else {\n",
       "      loadScript(\"vega\")\n",
       "        .then(() => loadScript(\"vega-lite\"))\n",
       "        .then(() => loadScript(\"vega-embed\"))\n",
       "        .catch(showError)\n",
       "        .then(() => displayChart(vegaEmbed));\n",
       "    }\n",
       "  })({\"config\": {\"axisLeft\": {\"labelFontSize\": 15}, \"axisBottom\": {\"labelFontSize\": 15}}, \"layer\": [{\"data\": {\"name\": \"data-e783666ceb8e38d15bf06aefd392fb14\"}, \"mark\": \"line\", \"encoding\": {\"color\": {\"type\": \"nominal\", \"field\": \"repo\"}, \"tooltip\": {\"type\": \"nominal\", \"field\": \"repo\"}, \"x\": {\"type\": \"temporal\", \"field\": \"createdAt\"}, \"y\": {\"type\": \"quantitative\", \"field\": \"count\"}}, \"width\": 600}, {\"data\": {\"name\": \"data-8fc734689b017bcf8c39a67ec4c888f9\"}, \"mark\": {\"type\": \"line\", \"color\": \"black\"}, \"encoding\": {\"x\": {\"type\": \"temporal\", \"field\": \"createdAt\"}, \"y\": {\"type\": \"quantitative\", \"field\": \"count\"}}, \"width\": 600}], \"$schema\": \"https://vega.github.io/schema/vega-lite/v4.8.1.json\", \"datasets\": {\"data-e783666ceb8e38d15bf06aefd392fb14\": [{\"repo\": \".github\", \"createdAt\": \"2021-08-29T00:00:00\", \"count\": 2}, {\"repo\": \".github\", \"createdAt\": \"2021-09-05T00:00:00\", \"count\": 1}, {\"repo\": \"MyST-NB\", \"createdAt\": \"2021-10-10T00:00:00\", \"count\": 1}, {\"repo\": \"design\", \"createdAt\": \"2019-11-03T00:00:00\", \"count\": 1}, {\"repo\": \"github-activity\", \"createdAt\": \"2021-04-04T00:00:00\", \"count\": 1}, {\"repo\": \"governance\", \"createdAt\": \"2021-09-19T00:00:00\", \"count\": 2}, {\"repo\": \"jupyter-book\", \"createdAt\": \"2021-08-29T00:00:00\", \"count\": 1}, {\"repo\": \"jupyter-book\", \"createdAt\": \"2021-09-05T00:00:00\", \"count\": 0}, {\"repo\": \"jupyter-book\", \"createdAt\": \"2021-09-12T00:00:00\", \"count\": 0}, {\"repo\": \"jupyter-book\", \"createdAt\": \"2021-09-19T00:00:00\", \"count\": 0}, {\"repo\": \"jupyter-book\", \"createdAt\": \"2021-09-26T00:00:00\", \"count\": 3}, {\"repo\": \"jupyter-book\", \"createdAt\": \"2021-10-03T00:00:00\", \"count\": 0}, {\"repo\": \"jupyter-book\", \"createdAt\": \"2021-10-10T00:00:00\", \"count\": 1}, {\"repo\": \"jupyter-book\", \"createdAt\": \"2021-10-17T00:00:00\", \"count\": 3}, {\"repo\": \"jupyter-cache\", \"createdAt\": \"2020-05-17T00:00:00\", \"count\": 1}, {\"repo\": \"meta\", \"createdAt\": \"2021-08-22T00:00:00\", \"count\": 1}, {\"repo\": \"meta\", \"createdAt\": \"2021-08-29T00:00:00\", \"count\": 0}, {\"repo\": \"meta\", \"createdAt\": \"2021-09-05T00:00:00\", \"count\": 0}, {\"repo\": \"meta\", \"createdAt\": \"2021-09-12T00:00:00\", \"count\": 0}, {\"repo\": \"meta\", \"createdAt\": \"2021-09-19T00:00:00\", \"count\": 0}, {\"repo\": \"meta\", \"createdAt\": \"2021-09-26T00:00:00\", \"count\": 0}, {\"repo\": \"meta\", \"createdAt\": \"2021-10-03T00:00:00\", \"count\": 0}, {\"repo\": \"meta\", \"createdAt\": \"2021-10-10T00:00:00\", \"count\": 1}, {\"repo\": \"papermill\", \"createdAt\": \"2021-08-29T00:00:00\", \"count\": 1}, {\"repo\": \"repo2docker\", \"createdAt\": \"2021-09-12T00:00:00\", \"count\": 1}, {\"repo\": \"repo2docker\", \"createdAt\": \"2021-09-19T00:00:00\", \"count\": 1}, {\"repo\": \"sloan_grant_administration\", \"createdAt\": \"2021-10-10T00:00:00\", \"count\": 1}, {\"repo\": \"sphinx-book-theme\", \"createdAt\": \"2021-05-30T00:00:00\", \"count\": 1}, {\"repo\": \"sphinx-book-theme\", \"createdAt\": \"2021-06-06T00:00:00\", \"count\": 0}, {\"repo\": \"sphinx-book-theme\", \"createdAt\": \"2021-06-13T00:00:00\", \"count\": 0}, {\"repo\": \"sphinx-book-theme\", \"createdAt\": \"2021-06-20T00:00:00\", \"count\": 0}, {\"repo\": \"sphinx-book-theme\", \"createdAt\": \"2021-06-27T00:00:00\", \"count\": 0}, {\"repo\": \"sphinx-book-theme\", \"createdAt\": \"2021-07-04T00:00:00\", \"count\": 0}, {\"repo\": \"sphinx-book-theme\", \"createdAt\": \"2021-07-11T00:00:00\", \"count\": 0}, {\"repo\": \"sphinx-book-theme\", \"createdAt\": \"2021-07-18T00:00:00\", \"count\": 0}, {\"repo\": \"sphinx-book-theme\", \"createdAt\": \"2021-07-25T00:00:00\", \"count\": 0}, {\"repo\": \"sphinx-book-theme\", \"createdAt\": \"2021-08-01T00:00:00\", \"count\": 0}, {\"repo\": \"sphinx-book-theme\", \"createdAt\": \"2021-08-08T00:00:00\", \"count\": 1}, {\"repo\": \"sphinx-book-theme\", \"createdAt\": \"2021-08-15T00:00:00\", \"count\": 0}, {\"repo\": \"sphinx-book-theme\", \"createdAt\": \"2021-08-22T00:00:00\", \"count\": 1}, {\"repo\": \"sphinx-book-theme\", \"createdAt\": \"2021-08-29T00:00:00\", \"count\": 4}, {\"repo\": \"sphinx-book-theme\", \"createdAt\": \"2021-09-05T00:00:00\", \"count\": 0}, {\"repo\": \"sphinx-book-theme\", \"createdAt\": \"2021-09-12T00:00:00\", \"count\": 0}, {\"repo\": \"sphinx-book-theme\", \"createdAt\": \"2021-09-19T00:00:00\", \"count\": 0}, {\"repo\": \"sphinx-book-theme\", \"createdAt\": \"2021-09-26T00:00:00\", \"count\": 2}, {\"repo\": \"sphinx-book-theme\", \"createdAt\": \"2021-10-03T00:00:00\", \"count\": 2}, {\"repo\": \"sphinx-book-theme\", \"createdAt\": \"2021-10-10T00:00:00\", \"count\": 1}, {\"repo\": \"sphinx-book-theme\", \"createdAt\": \"2021-10-17T00:00:00\", \"count\": 5}, {\"repo\": \"sphinx-copybutton\", \"createdAt\": \"2021-10-17T00:00:00\", \"count\": 2}, {\"repo\": \"sphinx-external-toc\", \"createdAt\": \"2021-09-19T00:00:00\", \"count\": 1}, {\"repo\": \"sphinx-panels\", \"createdAt\": \"2020-10-25T00:00:00\", \"count\": 1}, {\"repo\": \"sphinx-thebe\", \"createdAt\": \"2020-10-11T00:00:00\", \"count\": 1}, {\"repo\": \"sphinx-thebe\", \"createdAt\": \"2020-10-18T00:00:00\", \"count\": 0}, {\"repo\": \"sphinx-thebe\", \"createdAt\": \"2020-10-25T00:00:00\", \"count\": 0}, {\"repo\": \"sphinx-thebe\", \"createdAt\": \"2020-11-01T00:00:00\", \"count\": 0}, {\"repo\": \"sphinx-thebe\", \"createdAt\": \"2020-11-08T00:00:00\", \"count\": 0}, {\"repo\": \"sphinx-thebe\", \"createdAt\": \"2020-11-15T00:00:00\", \"count\": 0}, {\"repo\": \"sphinx-thebe\", \"createdAt\": \"2020-11-22T00:00:00\", \"count\": 0}, {\"repo\": \"sphinx-thebe\", \"createdAt\": \"2020-11-29T00:00:00\", \"count\": 0}, {\"repo\": \"sphinx-thebe\", \"createdAt\": \"2020-12-06T00:00:00\", \"count\": 0}, {\"repo\": \"sphinx-thebe\", \"createdAt\": \"2020-12-13T00:00:00\", \"count\": 0}, {\"repo\": \"sphinx-thebe\", \"createdAt\": \"2020-12-20T00:00:00\", \"count\": 0}, {\"repo\": \"sphinx-thebe\", \"createdAt\": \"2020-12-27T00:00:00\", \"count\": 0}, {\"repo\": \"sphinx-thebe\", \"createdAt\": \"2021-01-03T00:00:00\", \"count\": 0}, {\"repo\": \"sphinx-thebe\", \"createdAt\": \"2021-01-10T00:00:00\", \"count\": 0}, {\"repo\": \"sphinx-thebe\", \"createdAt\": \"2021-01-17T00:00:00\", \"count\": 0}, {\"repo\": \"sphinx-thebe\", \"createdAt\": \"2021-01-24T00:00:00\", \"count\": 0}, {\"repo\": \"sphinx-thebe\", \"createdAt\": \"2021-01-31T00:00:00\", \"count\": 0}, {\"repo\": \"sphinx-thebe\", \"createdAt\": \"2021-02-07T00:00:00\", \"count\": 0}, {\"repo\": \"sphinx-thebe\", \"createdAt\": \"2021-02-14T00:00:00\", \"count\": 0}, {\"repo\": \"sphinx-thebe\", \"createdAt\": \"2021-02-21T00:00:00\", \"count\": 0}, {\"repo\": \"sphinx-thebe\", \"createdAt\": \"2021-02-28T00:00:00\", \"count\": 0}, {\"repo\": \"sphinx-thebe\", \"createdAt\": \"2021-03-07T00:00:00\", \"count\": 0}, {\"repo\": \"sphinx-thebe\", \"createdAt\": \"2021-03-14T00:00:00\", \"count\": 0}, {\"repo\": \"sphinx-thebe\", \"createdAt\": \"2021-03-21T00:00:00\", \"count\": 0}, {\"repo\": \"sphinx-thebe\", \"createdAt\": \"2021-03-28T00:00:00\", \"count\": 0}, {\"repo\": \"sphinx-thebe\", \"createdAt\": \"2021-04-04T00:00:00\", \"count\": 0}, {\"repo\": \"sphinx-thebe\", \"createdAt\": \"2021-04-11T00:00:00\", \"count\": 0}, {\"repo\": \"sphinx-thebe\", \"createdAt\": \"2021-04-18T00:00:00\", \"count\": 0}, {\"repo\": \"sphinx-thebe\", \"createdAt\": \"2021-04-25T00:00:00\", \"count\": 0}, {\"repo\": \"sphinx-thebe\", \"createdAt\": \"2021-05-02T00:00:00\", \"count\": 0}, {\"repo\": \"sphinx-thebe\", \"createdAt\": \"2021-05-09T00:00:00\", \"count\": 0}, {\"repo\": \"sphinx-thebe\", \"createdAt\": \"2021-05-16T00:00:00\", \"count\": 0}, {\"repo\": \"sphinx-thebe\", \"createdAt\": \"2021-05-23T00:00:00\", \"count\": 0}, {\"repo\": \"sphinx-thebe\", \"createdAt\": \"2021-05-30T00:00:00\", \"count\": 0}, {\"repo\": \"sphinx-thebe\", \"createdAt\": \"2021-06-06T00:00:00\", \"count\": 0}, {\"repo\": \"sphinx-thebe\", \"createdAt\": \"2021-06-13T00:00:00\", \"count\": 0}, {\"repo\": \"sphinx-thebe\", \"createdAt\": \"2021-06-20T00:00:00\", \"count\": 0}, {\"repo\": \"sphinx-thebe\", \"createdAt\": \"2021-06-27T00:00:00\", \"count\": 0}, {\"repo\": \"sphinx-thebe\", \"createdAt\": \"2021-07-04T00:00:00\", \"count\": 0}, {\"repo\": \"sphinx-thebe\", \"createdAt\": \"2021-07-11T00:00:00\", \"count\": 0}, {\"repo\": \"sphinx-thebe\", \"createdAt\": \"2021-07-18T00:00:00\", \"count\": 0}, {\"repo\": \"sphinx-thebe\", \"createdAt\": \"2021-07-25T00:00:00\", \"count\": 0}, {\"repo\": \"sphinx-thebe\", \"createdAt\": \"2021-08-01T00:00:00\", \"count\": 0}, {\"repo\": \"sphinx-thebe\", \"createdAt\": \"2021-08-08T00:00:00\", \"count\": 0}, {\"repo\": \"sphinx-thebe\", \"createdAt\": \"2021-08-15T00:00:00\", \"count\": 0}, {\"repo\": \"sphinx-thebe\", \"createdAt\": \"2021-08-22T00:00:00\", \"count\": 0}, {\"repo\": \"sphinx-thebe\", \"createdAt\": \"2021-08-29T00:00:00\", \"count\": 4}, {\"repo\": \"team-compass\", \"createdAt\": \"2021-09-26T00:00:00\", \"count\": 1}, {\"repo\": \"thebe\", \"createdAt\": \"2020-11-01T00:00:00\", \"count\": 1}, {\"repo\": \"web-compile\", \"createdAt\": \"2021-09-26T00:00:00\", \"count\": 1}], \"data-8fc734689b017bcf8c39a67ec4c888f9\": [{\"createdAt\": \"2019-11-03T00:00:00\", \"count\": 1}, {\"createdAt\": \"2020-05-17T00:00:00\", \"count\": 1}, {\"createdAt\": \"2020-10-11T00:00:00\", \"count\": 1}, {\"createdAt\": \"2020-10-18T00:00:00\", \"count\": 0}, {\"createdAt\": \"2020-10-25T00:00:00\", \"count\": 1}, {\"createdAt\": \"2020-11-01T00:00:00\", \"count\": 1}, {\"createdAt\": \"2020-11-08T00:00:00\", \"count\": 0}, {\"createdAt\": \"2020-11-15T00:00:00\", \"count\": 0}, {\"createdAt\": \"2020-11-22T00:00:00\", \"count\": 0}, {\"createdAt\": \"2020-11-29T00:00:00\", \"count\": 0}, {\"createdAt\": \"2020-12-06T00:00:00\", \"count\": 0}, {\"createdAt\": \"2020-12-13T00:00:00\", \"count\": 0}, {\"createdAt\": \"2020-12-20T00:00:00\", \"count\": 0}, {\"createdAt\": \"2020-12-27T00:00:00\", \"count\": 0}, {\"createdAt\": \"2021-01-03T00:00:00\", \"count\": 0}, {\"createdAt\": \"2021-01-10T00:00:00\", \"count\": 0}, {\"createdAt\": \"2021-01-17T00:00:00\", \"count\": 0}, {\"createdAt\": \"2021-01-24T00:00:00\", \"count\": 0}, {\"createdAt\": \"2021-01-31T00:00:00\", \"count\": 0}, {\"createdAt\": \"2021-02-07T00:00:00\", \"count\": 0}, {\"createdAt\": \"2021-02-14T00:00:00\", \"count\": 0}, {\"createdAt\": \"2021-02-21T00:00:00\", \"count\": 0}, {\"createdAt\": \"2021-02-28T00:00:00\", \"count\": 0}, {\"createdAt\": \"2021-03-07T00:00:00\", \"count\": 0}, {\"createdAt\": \"2021-03-14T00:00:00\", \"count\": 0}, {\"createdAt\": \"2021-03-21T00:00:00\", \"count\": 0}, {\"createdAt\": \"2021-03-28T00:00:00\", \"count\": 0}, {\"createdAt\": \"2021-04-04T00:00:00\", \"count\": 1}, {\"createdAt\": \"2021-04-11T00:00:00\", \"count\": 0}, {\"createdAt\": \"2021-04-18T00:00:00\", \"count\": 0}, {\"createdAt\": \"2021-04-25T00:00:00\", \"count\": 0}, {\"createdAt\": \"2021-05-02T00:00:00\", \"count\": 0}, {\"createdAt\": \"2021-05-09T00:00:00\", \"count\": 0}, {\"createdAt\": \"2021-05-16T00:00:00\", \"count\": 0}, {\"createdAt\": \"2021-05-23T00:00:00\", \"count\": 0}, {\"createdAt\": \"2021-05-30T00:00:00\", \"count\": 1}, {\"createdAt\": \"2021-06-06T00:00:00\", \"count\": 0}, {\"createdAt\": \"2021-06-13T00:00:00\", \"count\": 0}, {\"createdAt\": \"2021-06-20T00:00:00\", \"count\": 0}, {\"createdAt\": \"2021-06-27T00:00:00\", \"count\": 0}, {\"createdAt\": \"2021-07-04T00:00:00\", \"count\": 0}, {\"createdAt\": \"2021-07-11T00:00:00\", \"count\": 0}, {\"createdAt\": \"2021-07-18T00:00:00\", \"count\": 0}, {\"createdAt\": \"2021-07-25T00:00:00\", \"count\": 0}, {\"createdAt\": \"2021-08-01T00:00:00\", \"count\": 0}, {\"createdAt\": \"2021-08-08T00:00:00\", \"count\": 1}, {\"createdAt\": \"2021-08-15T00:00:00\", \"count\": 0}, {\"createdAt\": \"2021-08-22T00:00:00\", \"count\": 2}, {\"createdAt\": \"2021-08-29T00:00:00\", \"count\": 12}, {\"createdAt\": \"2021-09-05T00:00:00\", \"count\": 1}, {\"createdAt\": \"2021-09-12T00:00:00\", \"count\": 1}, {\"createdAt\": \"2021-09-19T00:00:00\", \"count\": 4}, {\"createdAt\": \"2021-09-26T00:00:00\", \"count\": 7}, {\"createdAt\": \"2021-10-03T00:00:00\", \"count\": 2}, {\"createdAt\": \"2021-10-10T00:00:00\", \"count\": 5}, {\"createdAt\": \"2021-10-17T00:00:00\", \"count\": 10}]}}, {\"mode\": \"vega-lite\"});\n",
       "</script>"
      ],
      "text/plain": [
       "alt.LayerChart(...)"
      ]
     },
     "execution_count": 14,
     "metadata": {},
     "output_type": "execute_result"
    }
   ],
   "source": [
    "prs_time = prs.groupby('repo').resample('W', on='createdAt').count()['author'].reset_index()\n",
    "prs_time = prs_time.rename(columns={'author': 'count'})\n",
    "prs_time_total = prs_time.groupby('createdAt').agg({\"count\": \"sum\"}).reset_index()\n",
    "\n",
    "ch1 = alt.Chart(prs_time, width=600).mark_line().encode(\n",
    "    x='createdAt',\n",
    "    y='count',\n",
    "    color='repo',\n",
    "    tooltip=\"repo\"\n",
    ")\n",
    "\n",
    "ch2 = alt.Chart(prs_time_total, width=600).mark_line(color=\"black\").encode(\n",
    "    x='createdAt',\n",
    "    y='count',\n",
    ")\n",
    "\n",
    "ch1 + ch2"
   ]
  },
  {
   "cell_type": "code",
   "execution_count": 15,
   "id": "136e3fe7",
   "metadata": {
    "execution": {
     "iopub.execute_input": "2021-10-21T01:36:40.890454Z",
     "iopub.status.busy": "2021-10-21T01:36:40.886776Z",
     "iopub.status.idle": "2021-10-21T01:36:40.957676Z",
     "shell.execute_reply": "2021-10-21T01:36:40.958116Z"
    },
    "papermill": {
     "duration": 0.095566,
     "end_time": "2021-10-21T01:36:40.958306",
     "exception": false,
     "start_time": "2021-10-21T01:36:40.862740",
     "status": "completed"
    },
    "tags": [
     "hide_input"
    ]
   },
   "outputs": [
    {
     "data": {
      "text/html": [
       "\n",
       "<div id=\"altair-viz-ab57cf0e2752417aab419d98ae7a1554\"></div>\n",
       "<script type=\"text/javascript\">\n",
       "  (function(spec, embedOpt){\n",
       "    let outputDiv = document.currentScript.previousElementSibling;\n",
       "    if (outputDiv.id !== \"altair-viz-ab57cf0e2752417aab419d98ae7a1554\") {\n",
       "      outputDiv = document.getElementById(\"altair-viz-ab57cf0e2752417aab419d98ae7a1554\");\n",
       "    }\n",
       "    const paths = {\n",
       "      \"vega\": \"https://cdn.jsdelivr.net/npm//vega@5?noext\",\n",
       "      \"vega-lib\": \"https://cdn.jsdelivr.net/npm//vega-lib?noext\",\n",
       "      \"vega-lite\": \"https://cdn.jsdelivr.net/npm//vega-lite@4.8.1?noext\",\n",
       "      \"vega-embed\": \"https://cdn.jsdelivr.net/npm//vega-embed@6?noext\",\n",
       "    };\n",
       "\n",
       "    function loadScript(lib) {\n",
       "      return new Promise(function(resolve, reject) {\n",
       "        var s = document.createElement('script');\n",
       "        s.src = paths[lib];\n",
       "        s.async = true;\n",
       "        s.onload = () => resolve(paths[lib]);\n",
       "        s.onerror = () => reject(`Error loading script: ${paths[lib]}`);\n",
       "        document.getElementsByTagName(\"head\")[0].appendChild(s);\n",
       "      });\n",
       "    }\n",
       "\n",
       "    function showError(err) {\n",
       "      outputDiv.innerHTML = `<div class=\"error\" style=\"color:red;\">${err}</div>`;\n",
       "      throw err;\n",
       "    }\n",
       "\n",
       "    function displayChart(vegaEmbed) {\n",
       "      vegaEmbed(outputDiv, spec, embedOpt)\n",
       "        .catch(err => showError(`Javascript Error: ${err.message}<br>This usually means there's a typo in your chart specification. See the javascript console for the full traceback.`));\n",
       "    }\n",
       "\n",
       "    if(typeof define === \"function\" && define.amd) {\n",
       "      requirejs.config({paths});\n",
       "      require([\"vega-embed\"], displayChart, err => showError(`Error loading script: ${err.message}`));\n",
       "    } else if (typeof vegaEmbed === \"function\") {\n",
       "      displayChart(vegaEmbed);\n",
       "    } else {\n",
       "      loadScript(\"vega\")\n",
       "        .then(() => loadScript(\"vega-lite\"))\n",
       "        .then(() => loadScript(\"vega-embed\"))\n",
       "        .catch(showError)\n",
       "        .then(() => displayChart(vegaEmbed));\n",
       "    }\n",
       "  })({\"config\": {\"axisLeft\": {\"labelFontSize\": 15}, \"axisBottom\": {\"labelFontSize\": 15}}, \"data\": {\"name\": \"data-6d7f8eaeabe88ea484bcc468e5a8c350\"}, \"mark\": \"line\", \"encoding\": {\"color\": {\"type\": \"nominal\", \"field\": \"repo\"}, \"tooltip\": {\"type\": \"nominal\", \"field\": \"repo\"}, \"x\": {\"type\": \"temporal\", \"field\": \"closedAt\"}, \"y\": {\"type\": \"quantitative\", \"field\": \"count\"}}, \"width\": 600, \"$schema\": \"https://vega.github.io/schema/vega-lite/v4.8.1.json\", \"datasets\": {\"data-6d7f8eaeabe88ea484bcc468e5a8c350\": [{\"repo\": \".github\", \"closedAt\": \"2021-08-29T00:00:00\", \"count\": 1}, {\"repo\": \".github\", \"closedAt\": \"2021-09-05T00:00:00\", \"count\": 0}, {\"repo\": \".github\", \"closedAt\": \"2021-09-12T00:00:00\", \"count\": 3}, {\"repo\": \"MyST-Parser\", \"closedAt\": \"2021-09-26T00:00:00\", \"count\": 1}, {\"repo\": \"accessibility\", \"closedAt\": \"2021-08-29T00:00:00\", \"count\": 2}, {\"repo\": \"enhancement-proposals\", \"closedAt\": \"2021-10-10T00:00:00\", \"count\": 1}, {\"repo\": \"jupyter-book\", \"closedAt\": \"2021-08-29T00:00:00\", \"count\": 1}, {\"repo\": \"jupyter-book\", \"closedAt\": \"2021-09-05T00:00:00\", \"count\": 1}, {\"repo\": \"jupyter-book\", \"closedAt\": \"2021-09-12T00:00:00\", \"count\": 1}, {\"repo\": \"jupyter-book\", \"closedAt\": \"2021-09-19T00:00:00\", \"count\": 1}, {\"repo\": \"jupyter-book\", \"closedAt\": \"2021-09-26T00:00:00\", \"count\": 2}, {\"repo\": \"jupyter-book\", \"closedAt\": \"2021-10-03T00:00:00\", \"count\": 2}, {\"repo\": \"jupyter-book\", \"closedAt\": \"2021-10-10T00:00:00\", \"count\": 1}, {\"repo\": \"jupyter-book\", \"closedAt\": \"2021-10-17T00:00:00\", \"count\": 3}, {\"repo\": \"meta\", \"closedAt\": \"2021-08-22T00:00:00\", \"count\": 1}, {\"repo\": \"meta\", \"closedAt\": \"2021-08-29T00:00:00\", \"count\": 0}, {\"repo\": \"meta\", \"closedAt\": \"2021-09-05T00:00:00\", \"count\": 0}, {\"repo\": \"meta\", \"closedAt\": \"2021-09-12T00:00:00\", \"count\": 0}, {\"repo\": \"meta\", \"closedAt\": \"2021-09-19T00:00:00\", \"count\": 0}, {\"repo\": \"meta\", \"closedAt\": \"2021-09-26T00:00:00\", \"count\": 0}, {\"repo\": \"meta\", \"closedAt\": \"2021-10-03T00:00:00\", \"count\": 0}, {\"repo\": \"meta\", \"closedAt\": \"2021-10-10T00:00:00\", \"count\": 1}, {\"repo\": \"nbclient\", \"closedAt\": \"2021-09-19T00:00:00\", \"count\": 1}, {\"repo\": \"repo2docker\", \"closedAt\": \"2021-09-19T00:00:00\", \"count\": 1}, {\"repo\": \"sloan_grant_administration\", \"closedAt\": \"2021-10-10T00:00:00\", \"count\": 1}, {\"repo\": \"sphinx-book-theme\", \"closedAt\": \"2021-08-22T00:00:00\", \"count\": 1}, {\"repo\": \"sphinx-book-theme\", \"closedAt\": \"2021-08-29T00:00:00\", \"count\": 4}, {\"repo\": \"sphinx-book-theme\", \"closedAt\": \"2021-09-05T00:00:00\", \"count\": 1}, {\"repo\": \"sphinx-book-theme\", \"closedAt\": \"2021-09-12T00:00:00\", \"count\": 0}, {\"repo\": \"sphinx-book-theme\", \"closedAt\": \"2021-09-19T00:00:00\", \"count\": 1}, {\"repo\": \"sphinx-book-theme\", \"closedAt\": \"2021-09-26T00:00:00\", \"count\": 2}, {\"repo\": \"sphinx-book-theme\", \"closedAt\": \"2021-10-03T00:00:00\", \"count\": 3}, {\"repo\": \"sphinx-book-theme\", \"closedAt\": \"2021-10-10T00:00:00\", \"count\": 0}, {\"repo\": \"sphinx-book-theme\", \"closedAt\": \"2021-10-17T00:00:00\", \"count\": 5}, {\"repo\": \"sphinx-copybutton\", \"closedAt\": \"2021-10-17T00:00:00\", \"count\": 1}, {\"repo\": \"sphinx-copybutton\", \"closedAt\": \"2021-10-24T00:00:00\", \"count\": 1}, {\"repo\": \"sphinx-thebe\", \"closedAt\": \"2021-08-29T00:00:00\", \"count\": 5}, {\"repo\": \"team-compass\", \"closedAt\": \"2021-10-17T00:00:00\", \"count\": 1}, {\"repo\": \"thebe\", \"closedAt\": \"2021-08-08T00:00:00\", \"count\": 1}, {\"repo\": \"thebe\", \"closedAt\": \"2021-08-15T00:00:00\", \"count\": 0}, {\"repo\": \"thebe\", \"closedAt\": \"2021-08-22T00:00:00\", \"count\": 0}, {\"repo\": \"thebe\", \"closedAt\": \"2021-08-29T00:00:00\", \"count\": 1}, {\"repo\": \"web-compile\", \"closedAt\": \"2021-09-26T00:00:00\", \"count\": 1}]}}, {\"mode\": \"vega-lite\"});\n",
       "</script>"
      ],
      "text/plain": [
       "alt.Chart(...)"
      ]
     },
     "execution_count": 15,
     "metadata": {},
     "output_type": "execute_result"
    }
   ],
   "source": [
    "closed_by_time = closed_by.groupby('repo').resample('W', on='closedAt').count()['author'].reset_index()\n",
    "closed_by_time = closed_by_time.rename(columns={'author': 'count'})\n",
    "\n",
    "alt.Chart(closed_by_time, width=600).mark_line().encode(\n",
    "    x='closedAt',\n",
    "    y='count',\n",
    "    color='repo',\n",
    "    tooltip=\"repo\"\n",
    ")"
   ]
  },
  {
   "cell_type": "markdown",
   "id": "83891aa1",
   "metadata": {
    "papermill": {
     "duration": 0.016618,
     "end_time": "2021-10-21T01:36:40.991475",
     "exception": false,
     "start_time": "2021-10-21T01:36:40.974857",
     "status": "completed"
    },
    "tags": []
   },
   "source": [
    "## By type over time"
   ]
  },
  {
   "cell_type": "code",
   "execution_count": 16,
   "id": "69d76228",
   "metadata": {
    "execution": {
     "iopub.execute_input": "2021-10-21T01:36:41.047746Z",
     "iopub.status.busy": "2021-10-21T01:36:41.041461Z",
     "iopub.status.idle": "2021-10-21T01:36:41.050123Z",
     "shell.execute_reply": "2021-10-21T01:36:41.049630Z"
    },
    "papermill": {
     "duration": 0.041275,
     "end_time": "2021-10-21T01:36:41.050267",
     "exception": false,
     "start_time": "2021-10-21T01:36:41.008992",
     "status": "completed"
    },
    "tags": [
     "remove_cell"
    ]
   },
   "outputs": [],
   "source": [
    "prs_time = prs[['author', 'createdAt']].resample('W', on='createdAt').count()['author'].reset_index()\n",
    "prs_time = prs_time.rename(columns={'author': 'prs'})\n",
    "comments_time = comments[['author', 'createdAt']].resample('W', on='createdAt').count()['author'].reset_index()\n",
    "comments_time = comments_time.rename(columns={'author': 'comments'})\n",
    "\n",
    "total_time = pd.merge(prs_time, comments_time, on='createdAt', how='outer')\n",
    "total_time = total_time.melt(id_vars='createdAt', var_name=\"kind\", value_name=\"count\")\n"
   ]
  },
  {
   "cell_type": "code",
   "execution_count": 17,
   "id": "6f6a2879",
   "metadata": {
    "execution": {
     "iopub.execute_input": "2021-10-21T01:36:41.106370Z",
     "iopub.status.busy": "2021-10-21T01:36:41.090683Z",
     "iopub.status.idle": "2021-10-21T01:36:41.112555Z",
     "shell.execute_reply": "2021-10-21T01:36:41.112975Z"
    },
    "papermill": {
     "duration": 0.04598,
     "end_time": "2021-10-21T01:36:41.113158",
     "exception": false,
     "start_time": "2021-10-21T01:36:41.067178",
     "status": "completed"
    },
    "tags": [
     "hide_input"
    ]
   },
   "outputs": [
    {
     "data": {
      "text/html": [
       "\n",
       "<div id=\"altair-viz-c6383f487150464382f94d6a973b3902\"></div>\n",
       "<script type=\"text/javascript\">\n",
       "  (function(spec, embedOpt){\n",
       "    let outputDiv = document.currentScript.previousElementSibling;\n",
       "    if (outputDiv.id !== \"altair-viz-c6383f487150464382f94d6a973b3902\") {\n",
       "      outputDiv = document.getElementById(\"altair-viz-c6383f487150464382f94d6a973b3902\");\n",
       "    }\n",
       "    const paths = {\n",
       "      \"vega\": \"https://cdn.jsdelivr.net/npm//vega@5?noext\",\n",
       "      \"vega-lib\": \"https://cdn.jsdelivr.net/npm//vega-lib?noext\",\n",
       "      \"vega-lite\": \"https://cdn.jsdelivr.net/npm//vega-lite@4.8.1?noext\",\n",
       "      \"vega-embed\": \"https://cdn.jsdelivr.net/npm//vega-embed@6?noext\",\n",
       "    };\n",
       "\n",
       "    function loadScript(lib) {\n",
       "      return new Promise(function(resolve, reject) {\n",
       "        var s = document.createElement('script');\n",
       "        s.src = paths[lib];\n",
       "        s.async = true;\n",
       "        s.onload = () => resolve(paths[lib]);\n",
       "        s.onerror = () => reject(`Error loading script: ${paths[lib]}`);\n",
       "        document.getElementsByTagName(\"head\")[0].appendChild(s);\n",
       "      });\n",
       "    }\n",
       "\n",
       "    function showError(err) {\n",
       "      outputDiv.innerHTML = `<div class=\"error\" style=\"color:red;\">${err}</div>`;\n",
       "      throw err;\n",
       "    }\n",
       "\n",
       "    function displayChart(vegaEmbed) {\n",
       "      vegaEmbed(outputDiv, spec, embedOpt)\n",
       "        .catch(err => showError(`Javascript Error: ${err.message}<br>This usually means there's a typo in your chart specification. See the javascript console for the full traceback.`));\n",
       "    }\n",
       "\n",
       "    if(typeof define === \"function\" && define.amd) {\n",
       "      requirejs.config({paths});\n",
       "      require([\"vega-embed\"], displayChart, err => showError(`Error loading script: ${err.message}`));\n",
       "    } else if (typeof vegaEmbed === \"function\") {\n",
       "      displayChart(vegaEmbed);\n",
       "    } else {\n",
       "      loadScript(\"vega\")\n",
       "        .then(() => loadScript(\"vega-lite\"))\n",
       "        .then(() => loadScript(\"vega-embed\"))\n",
       "        .catch(showError)\n",
       "        .then(() => displayChart(vegaEmbed));\n",
       "    }\n",
       "  })({\"config\": {\"axisLeft\": {\"labelFontSize\": 15}, \"axisBottom\": {\"labelFontSize\": 15}}, \"data\": {\"name\": \"data-e5ff5f1527f2b8a66a145bae14536623\"}, \"mark\": \"line\", \"encoding\": {\"color\": {\"type\": \"nominal\", \"field\": \"kind\"}, \"x\": {\"type\": \"temporal\", \"field\": \"createdAt\"}, \"y\": {\"type\": \"quantitative\", \"field\": \"count\"}}, \"width\": 600, \"$schema\": \"https://vega.github.io/schema/vega-lite/v4.8.1.json\", \"datasets\": {\"data-e5ff5f1527f2b8a66a145bae14536623\": [{\"createdAt\": \"2019-11-03T00:00:00\", \"kind\": \"prs\", \"count\": 1.0}, {\"createdAt\": \"2019-11-10T00:00:00\", \"kind\": \"prs\", \"count\": 0.0}, {\"createdAt\": \"2019-11-17T00:00:00\", \"kind\": \"prs\", \"count\": 0.0}, {\"createdAt\": \"2019-11-24T00:00:00\", \"kind\": \"prs\", \"count\": 0.0}, {\"createdAt\": \"2019-12-01T00:00:00\", \"kind\": \"prs\", \"count\": 0.0}, {\"createdAt\": \"2019-12-08T00:00:00\", \"kind\": \"prs\", \"count\": 0.0}, {\"createdAt\": \"2019-12-15T00:00:00\", \"kind\": \"prs\", \"count\": 0.0}, {\"createdAt\": \"2019-12-22T00:00:00\", \"kind\": \"prs\", \"count\": 0.0}, {\"createdAt\": \"2019-12-29T00:00:00\", \"kind\": \"prs\", \"count\": 0.0}, {\"createdAt\": \"2020-01-05T00:00:00\", \"kind\": \"prs\", \"count\": 0.0}, {\"createdAt\": \"2020-01-12T00:00:00\", \"kind\": \"prs\", \"count\": 0.0}, {\"createdAt\": \"2020-01-19T00:00:00\", \"kind\": \"prs\", \"count\": 0.0}, {\"createdAt\": \"2020-01-26T00:00:00\", \"kind\": \"prs\", \"count\": 0.0}, {\"createdAt\": \"2020-02-02T00:00:00\", \"kind\": \"prs\", \"count\": 0.0}, {\"createdAt\": \"2020-02-09T00:00:00\", \"kind\": \"prs\", \"count\": 0.0}, {\"createdAt\": \"2020-02-16T00:00:00\", \"kind\": \"prs\", \"count\": 0.0}, {\"createdAt\": \"2020-02-23T00:00:00\", \"kind\": \"prs\", \"count\": 0.0}, {\"createdAt\": \"2020-03-01T00:00:00\", \"kind\": \"prs\", \"count\": 0.0}, {\"createdAt\": \"2020-03-08T00:00:00\", \"kind\": \"prs\", \"count\": 0.0}, {\"createdAt\": \"2020-03-15T00:00:00\", \"kind\": \"prs\", \"count\": 0.0}, {\"createdAt\": \"2020-03-22T00:00:00\", \"kind\": \"prs\", \"count\": 0.0}, {\"createdAt\": \"2020-03-29T00:00:00\", \"kind\": \"prs\", \"count\": 0.0}, {\"createdAt\": \"2020-04-05T00:00:00\", \"kind\": \"prs\", \"count\": 0.0}, {\"createdAt\": \"2020-04-12T00:00:00\", \"kind\": \"prs\", \"count\": 0.0}, {\"createdAt\": \"2020-04-19T00:00:00\", \"kind\": \"prs\", \"count\": 0.0}, {\"createdAt\": \"2020-04-26T00:00:00\", \"kind\": \"prs\", \"count\": 0.0}, {\"createdAt\": \"2020-05-03T00:00:00\", \"kind\": \"prs\", \"count\": 0.0}, {\"createdAt\": \"2020-05-10T00:00:00\", \"kind\": \"prs\", \"count\": 0.0}, {\"createdAt\": \"2020-05-17T00:00:00\", \"kind\": \"prs\", \"count\": 1.0}, {\"createdAt\": \"2020-05-24T00:00:00\", \"kind\": \"prs\", \"count\": 0.0}, {\"createdAt\": \"2020-05-31T00:00:00\", \"kind\": \"prs\", \"count\": 0.0}, {\"createdAt\": \"2020-06-07T00:00:00\", \"kind\": \"prs\", \"count\": 0.0}, {\"createdAt\": \"2020-06-14T00:00:00\", \"kind\": \"prs\", \"count\": 0.0}, {\"createdAt\": \"2020-06-21T00:00:00\", \"kind\": \"prs\", \"count\": 0.0}, {\"createdAt\": \"2020-06-28T00:00:00\", \"kind\": \"prs\", \"count\": 0.0}, {\"createdAt\": \"2020-07-05T00:00:00\", \"kind\": \"prs\", \"count\": 0.0}, {\"createdAt\": \"2020-07-12T00:00:00\", \"kind\": \"prs\", \"count\": 0.0}, {\"createdAt\": \"2020-07-19T00:00:00\", \"kind\": \"prs\", \"count\": 0.0}, {\"createdAt\": \"2020-07-26T00:00:00\", \"kind\": \"prs\", \"count\": 0.0}, {\"createdAt\": \"2020-08-02T00:00:00\", \"kind\": \"prs\", \"count\": 0.0}, {\"createdAt\": \"2020-08-09T00:00:00\", \"kind\": \"prs\", \"count\": 0.0}, {\"createdAt\": \"2020-08-16T00:00:00\", \"kind\": \"prs\", \"count\": 0.0}, {\"createdAt\": \"2020-08-23T00:00:00\", \"kind\": \"prs\", \"count\": 0.0}, {\"createdAt\": \"2020-08-30T00:00:00\", \"kind\": \"prs\", \"count\": 0.0}, {\"createdAt\": \"2020-09-06T00:00:00\", \"kind\": \"prs\", \"count\": 0.0}, {\"createdAt\": \"2020-09-13T00:00:00\", \"kind\": \"prs\", \"count\": 0.0}, {\"createdAt\": \"2020-09-20T00:00:00\", \"kind\": \"prs\", \"count\": 0.0}, {\"createdAt\": \"2020-09-27T00:00:00\", \"kind\": \"prs\", \"count\": 0.0}, {\"createdAt\": \"2020-10-04T00:00:00\", \"kind\": \"prs\", \"count\": 0.0}, {\"createdAt\": \"2020-10-11T00:00:00\", \"kind\": \"prs\", \"count\": 1.0}, {\"createdAt\": \"2020-10-18T00:00:00\", \"kind\": \"prs\", \"count\": 0.0}, {\"createdAt\": \"2020-10-25T00:00:00\", \"kind\": \"prs\", \"count\": 1.0}, {\"createdAt\": \"2020-11-01T00:00:00\", \"kind\": \"prs\", \"count\": 1.0}, {\"createdAt\": \"2020-11-08T00:00:00\", \"kind\": \"prs\", \"count\": 0.0}, {\"createdAt\": \"2020-11-15T00:00:00\", \"kind\": \"prs\", \"count\": 0.0}, {\"createdAt\": \"2020-11-22T00:00:00\", \"kind\": \"prs\", \"count\": 0.0}, {\"createdAt\": \"2020-11-29T00:00:00\", \"kind\": \"prs\", \"count\": 0.0}, {\"createdAt\": \"2020-12-06T00:00:00\", \"kind\": \"prs\", \"count\": 0.0}, {\"createdAt\": \"2020-12-13T00:00:00\", \"kind\": \"prs\", \"count\": 0.0}, {\"createdAt\": \"2020-12-20T00:00:00\", \"kind\": \"prs\", \"count\": 0.0}, {\"createdAt\": \"2020-12-27T00:00:00\", \"kind\": \"prs\", \"count\": 0.0}, {\"createdAt\": \"2021-01-03T00:00:00\", \"kind\": \"prs\", \"count\": 0.0}, {\"createdAt\": \"2021-01-10T00:00:00\", \"kind\": \"prs\", \"count\": 0.0}, {\"createdAt\": \"2021-01-17T00:00:00\", \"kind\": \"prs\", \"count\": 0.0}, {\"createdAt\": \"2021-01-24T00:00:00\", \"kind\": \"prs\", \"count\": 0.0}, {\"createdAt\": \"2021-01-31T00:00:00\", \"kind\": \"prs\", \"count\": 0.0}, {\"createdAt\": \"2021-02-07T00:00:00\", \"kind\": \"prs\", \"count\": 0.0}, {\"createdAt\": \"2021-02-14T00:00:00\", \"kind\": \"prs\", \"count\": 0.0}, {\"createdAt\": \"2021-02-21T00:00:00\", \"kind\": \"prs\", \"count\": 0.0}, {\"createdAt\": \"2021-02-28T00:00:00\", \"kind\": \"prs\", \"count\": 0.0}, {\"createdAt\": \"2021-03-07T00:00:00\", \"kind\": \"prs\", \"count\": 0.0}, {\"createdAt\": \"2021-03-14T00:00:00\", \"kind\": \"prs\", \"count\": 0.0}, {\"createdAt\": \"2021-03-21T00:00:00\", \"kind\": \"prs\", \"count\": 0.0}, {\"createdAt\": \"2021-03-28T00:00:00\", \"kind\": \"prs\", \"count\": 0.0}, {\"createdAt\": \"2021-04-04T00:00:00\", \"kind\": \"prs\", \"count\": 1.0}, {\"createdAt\": \"2021-04-11T00:00:00\", \"kind\": \"prs\", \"count\": 0.0}, {\"createdAt\": \"2021-04-18T00:00:00\", \"kind\": \"prs\", \"count\": 0.0}, {\"createdAt\": \"2021-04-25T00:00:00\", \"kind\": \"prs\", \"count\": 0.0}, {\"createdAt\": \"2021-05-02T00:00:00\", \"kind\": \"prs\", \"count\": 0.0}, {\"createdAt\": \"2021-05-09T00:00:00\", \"kind\": \"prs\", \"count\": 0.0}, {\"createdAt\": \"2021-05-16T00:00:00\", \"kind\": \"prs\", \"count\": 0.0}, {\"createdAt\": \"2021-05-23T00:00:00\", \"kind\": \"prs\", \"count\": 0.0}, {\"createdAt\": \"2021-05-30T00:00:00\", \"kind\": \"prs\", \"count\": 1.0}, {\"createdAt\": \"2021-06-06T00:00:00\", \"kind\": \"prs\", \"count\": 0.0}, {\"createdAt\": \"2021-06-13T00:00:00\", \"kind\": \"prs\", \"count\": 0.0}, {\"createdAt\": \"2021-06-20T00:00:00\", \"kind\": \"prs\", \"count\": 0.0}, {\"createdAt\": \"2021-06-27T00:00:00\", \"kind\": \"prs\", \"count\": 0.0}, {\"createdAt\": \"2021-07-04T00:00:00\", \"kind\": \"prs\", \"count\": 0.0}, {\"createdAt\": \"2021-07-11T00:00:00\", \"kind\": \"prs\", \"count\": 0.0}, {\"createdAt\": \"2021-07-18T00:00:00\", \"kind\": \"prs\", \"count\": 0.0}, {\"createdAt\": \"2021-07-25T00:00:00\", \"kind\": \"prs\", \"count\": 0.0}, {\"createdAt\": \"2021-08-01T00:00:00\", \"kind\": \"prs\", \"count\": 0.0}, {\"createdAt\": \"2021-08-08T00:00:00\", \"kind\": \"prs\", \"count\": 1.0}, {\"createdAt\": \"2021-08-15T00:00:00\", \"kind\": \"prs\", \"count\": 0.0}, {\"createdAt\": \"2021-08-22T00:00:00\", \"kind\": \"prs\", \"count\": 2.0}, {\"createdAt\": \"2021-08-29T00:00:00\", \"kind\": \"prs\", \"count\": 12.0}, {\"createdAt\": \"2021-09-05T00:00:00\", \"kind\": \"prs\", \"count\": 1.0}, {\"createdAt\": \"2021-09-12T00:00:00\", \"kind\": \"prs\", \"count\": 1.0}, {\"createdAt\": \"2021-09-19T00:00:00\", \"kind\": \"prs\", \"count\": 4.0}, {\"createdAt\": \"2021-09-26T00:00:00\", \"kind\": \"prs\", \"count\": 7.0}, {\"createdAt\": \"2021-10-03T00:00:00\", \"kind\": \"prs\", \"count\": 2.0}, {\"createdAt\": \"2021-10-10T00:00:00\", \"kind\": \"prs\", \"count\": 5.0}, {\"createdAt\": \"2021-10-17T00:00:00\", \"kind\": \"prs\", \"count\": 10.0}, {\"createdAt\": \"2021-10-24T00:00:00\", \"kind\": \"prs\", \"count\": null}, {\"createdAt\": \"2019-11-03T00:00:00\", \"kind\": \"comments\", \"count\": null}, {\"createdAt\": \"2019-11-10T00:00:00\", \"kind\": \"comments\", \"count\": null}, {\"createdAt\": \"2019-11-17T00:00:00\", \"kind\": \"comments\", \"count\": null}, {\"createdAt\": \"2019-11-24T00:00:00\", \"kind\": \"comments\", \"count\": null}, {\"createdAt\": \"2019-12-01T00:00:00\", \"kind\": \"comments\", \"count\": null}, {\"createdAt\": \"2019-12-08T00:00:00\", \"kind\": \"comments\", \"count\": null}, {\"createdAt\": \"2019-12-15T00:00:00\", \"kind\": \"comments\", \"count\": null}, {\"createdAt\": \"2019-12-22T00:00:00\", \"kind\": \"comments\", \"count\": null}, {\"createdAt\": \"2019-12-29T00:00:00\", \"kind\": \"comments\", \"count\": null}, {\"createdAt\": \"2020-01-05T00:00:00\", \"kind\": \"comments\", \"count\": null}, {\"createdAt\": \"2020-01-12T00:00:00\", \"kind\": \"comments\", \"count\": null}, {\"createdAt\": \"2020-01-19T00:00:00\", \"kind\": \"comments\", \"count\": null}, {\"createdAt\": \"2020-01-26T00:00:00\", \"kind\": \"comments\", \"count\": null}, {\"createdAt\": \"2020-02-02T00:00:00\", \"kind\": \"comments\", \"count\": null}, {\"createdAt\": \"2020-02-09T00:00:00\", \"kind\": \"comments\", \"count\": null}, {\"createdAt\": \"2020-02-16T00:00:00\", \"kind\": \"comments\", \"count\": null}, {\"createdAt\": \"2020-02-23T00:00:00\", \"kind\": \"comments\", \"count\": null}, {\"createdAt\": \"2020-03-01T00:00:00\", \"kind\": \"comments\", \"count\": null}, {\"createdAt\": \"2020-03-08T00:00:00\", \"kind\": \"comments\", \"count\": null}, {\"createdAt\": \"2020-03-15T00:00:00\", \"kind\": \"comments\", \"count\": null}, {\"createdAt\": \"2020-03-22T00:00:00\", \"kind\": \"comments\", \"count\": null}, {\"createdAt\": \"2020-03-29T00:00:00\", \"kind\": \"comments\", \"count\": null}, {\"createdAt\": \"2020-04-05T00:00:00\", \"kind\": \"comments\", \"count\": null}, {\"createdAt\": \"2020-04-12T00:00:00\", \"kind\": \"comments\", \"count\": null}, {\"createdAt\": \"2020-04-19T00:00:00\", \"kind\": \"comments\", \"count\": null}, {\"createdAt\": \"2020-04-26T00:00:00\", \"kind\": \"comments\", \"count\": null}, {\"createdAt\": \"2020-05-03T00:00:00\", \"kind\": \"comments\", \"count\": null}, {\"createdAt\": \"2020-05-10T00:00:00\", \"kind\": \"comments\", \"count\": null}, {\"createdAt\": \"2020-05-17T00:00:00\", \"kind\": \"comments\", \"count\": null}, {\"createdAt\": \"2020-05-24T00:00:00\", \"kind\": \"comments\", \"count\": null}, {\"createdAt\": \"2020-05-31T00:00:00\", \"kind\": \"comments\", \"count\": null}, {\"createdAt\": \"2020-06-07T00:00:00\", \"kind\": \"comments\", \"count\": null}, {\"createdAt\": \"2020-06-14T00:00:00\", \"kind\": \"comments\", \"count\": null}, {\"createdAt\": \"2020-06-21T00:00:00\", \"kind\": \"comments\", \"count\": null}, {\"createdAt\": \"2020-06-28T00:00:00\", \"kind\": \"comments\", \"count\": null}, {\"createdAt\": \"2020-07-05T00:00:00\", \"kind\": \"comments\", \"count\": null}, {\"createdAt\": \"2020-07-12T00:00:00\", \"kind\": \"comments\", \"count\": null}, {\"createdAt\": \"2020-07-19T00:00:00\", \"kind\": \"comments\", \"count\": null}, {\"createdAt\": \"2020-07-26T00:00:00\", \"kind\": \"comments\", \"count\": null}, {\"createdAt\": \"2020-08-02T00:00:00\", \"kind\": \"comments\", \"count\": null}, {\"createdAt\": \"2020-08-09T00:00:00\", \"kind\": \"comments\", \"count\": null}, {\"createdAt\": \"2020-08-16T00:00:00\", \"kind\": \"comments\", \"count\": null}, {\"createdAt\": \"2020-08-23T00:00:00\", \"kind\": \"comments\", \"count\": null}, {\"createdAt\": \"2020-08-30T00:00:00\", \"kind\": \"comments\", \"count\": null}, {\"createdAt\": \"2020-09-06T00:00:00\", \"kind\": \"comments\", \"count\": null}, {\"createdAt\": \"2020-09-13T00:00:00\", \"kind\": \"comments\", \"count\": null}, {\"createdAt\": \"2020-09-20T00:00:00\", \"kind\": \"comments\", \"count\": null}, {\"createdAt\": \"2020-09-27T00:00:00\", \"kind\": \"comments\", \"count\": null}, {\"createdAt\": \"2020-10-04T00:00:00\", \"kind\": \"comments\", \"count\": null}, {\"createdAt\": \"2020-10-11T00:00:00\", \"kind\": \"comments\", \"count\": null}, {\"createdAt\": \"2020-10-18T00:00:00\", \"kind\": \"comments\", \"count\": null}, {\"createdAt\": \"2020-10-25T00:00:00\", \"kind\": \"comments\", \"count\": null}, {\"createdAt\": \"2020-11-01T00:00:00\", \"kind\": \"comments\", \"count\": null}, {\"createdAt\": \"2020-11-08T00:00:00\", \"kind\": \"comments\", \"count\": null}, {\"createdAt\": \"2020-11-15T00:00:00\", \"kind\": \"comments\", \"count\": null}, {\"createdAt\": \"2020-11-22T00:00:00\", \"kind\": \"comments\", \"count\": null}, {\"createdAt\": \"2020-11-29T00:00:00\", \"kind\": \"comments\", \"count\": null}, {\"createdAt\": \"2020-12-06T00:00:00\", \"kind\": \"comments\", \"count\": null}, {\"createdAt\": \"2020-12-13T00:00:00\", \"kind\": \"comments\", \"count\": null}, {\"createdAt\": \"2020-12-20T00:00:00\", \"kind\": \"comments\", \"count\": null}, {\"createdAt\": \"2020-12-27T00:00:00\", \"kind\": \"comments\", \"count\": null}, {\"createdAt\": \"2021-01-03T00:00:00\", \"kind\": \"comments\", \"count\": null}, {\"createdAt\": \"2021-01-10T00:00:00\", \"kind\": \"comments\", \"count\": null}, {\"createdAt\": \"2021-01-17T00:00:00\", \"kind\": \"comments\", \"count\": null}, {\"createdAt\": \"2021-01-24T00:00:00\", \"kind\": \"comments\", \"count\": null}, {\"createdAt\": \"2021-01-31T00:00:00\", \"kind\": \"comments\", \"count\": null}, {\"createdAt\": \"2021-02-07T00:00:00\", \"kind\": \"comments\", \"count\": null}, {\"createdAt\": \"2021-02-14T00:00:00\", \"kind\": \"comments\", \"count\": null}, {\"createdAt\": \"2021-02-21T00:00:00\", \"kind\": \"comments\", \"count\": null}, {\"createdAt\": \"2021-02-28T00:00:00\", \"kind\": \"comments\", \"count\": null}, {\"createdAt\": \"2021-03-07T00:00:00\", \"kind\": \"comments\", \"count\": null}, {\"createdAt\": \"2021-03-14T00:00:00\", \"kind\": \"comments\", \"count\": null}, {\"createdAt\": \"2021-03-21T00:00:00\", \"kind\": \"comments\", \"count\": null}, {\"createdAt\": \"2021-03-28T00:00:00\", \"kind\": \"comments\", \"count\": null}, {\"createdAt\": \"2021-04-04T00:00:00\", \"kind\": \"comments\", \"count\": null}, {\"createdAt\": \"2021-04-11T00:00:00\", \"kind\": \"comments\", \"count\": null}, {\"createdAt\": \"2021-04-18T00:00:00\", \"kind\": \"comments\", \"count\": null}, {\"createdAt\": \"2021-04-25T00:00:00\", \"kind\": \"comments\", \"count\": null}, {\"createdAt\": \"2021-05-02T00:00:00\", \"kind\": \"comments\", \"count\": null}, {\"createdAt\": \"2021-05-09T00:00:00\", \"kind\": \"comments\", \"count\": null}, {\"createdAt\": \"2021-05-16T00:00:00\", \"kind\": \"comments\", \"count\": null}, {\"createdAt\": \"2021-05-23T00:00:00\", \"kind\": \"comments\", \"count\": null}, {\"createdAt\": \"2021-05-30T00:00:00\", \"kind\": \"comments\", \"count\": null}, {\"createdAt\": \"2021-06-06T00:00:00\", \"kind\": \"comments\", \"count\": null}, {\"createdAt\": \"2021-06-13T00:00:00\", \"kind\": \"comments\", \"count\": null}, {\"createdAt\": \"2021-06-20T00:00:00\", \"kind\": \"comments\", \"count\": null}, {\"createdAt\": \"2021-06-27T00:00:00\", \"kind\": \"comments\", \"count\": null}, {\"createdAt\": \"2021-07-04T00:00:00\", \"kind\": \"comments\", \"count\": null}, {\"createdAt\": \"2021-07-11T00:00:00\", \"kind\": \"comments\", \"count\": null}, {\"createdAt\": \"2021-07-18T00:00:00\", \"kind\": \"comments\", \"count\": null}, {\"createdAt\": \"2021-07-25T00:00:00\", \"kind\": \"comments\", \"count\": null}, {\"createdAt\": \"2021-08-01T00:00:00\", \"kind\": \"comments\", \"count\": null}, {\"createdAt\": \"2021-08-08T00:00:00\", \"kind\": \"comments\", \"count\": null}, {\"createdAt\": \"2021-08-15T00:00:00\", \"kind\": \"comments\", \"count\": null}, {\"createdAt\": \"2021-08-22T00:00:00\", \"kind\": \"comments\", \"count\": 6.0}, {\"createdAt\": \"2021-08-29T00:00:00\", \"kind\": \"comments\", \"count\": 63.0}, {\"createdAt\": \"2021-09-05T00:00:00\", \"kind\": \"comments\", \"count\": 29.0}, {\"createdAt\": \"2021-09-12T00:00:00\", \"kind\": \"comments\", \"count\": 12.0}, {\"createdAt\": \"2021-09-19T00:00:00\", \"kind\": \"comments\", \"count\": 16.0}, {\"createdAt\": \"2021-09-26T00:00:00\", \"kind\": \"comments\", \"count\": 28.0}, {\"createdAt\": \"2021-10-03T00:00:00\", \"kind\": \"comments\", \"count\": 25.0}, {\"createdAt\": \"2021-10-10T00:00:00\", \"kind\": \"comments\", \"count\": 29.0}, {\"createdAt\": \"2021-10-17T00:00:00\", \"kind\": \"comments\", \"count\": 56.0}, {\"createdAt\": \"2021-10-24T00:00:00\", \"kind\": \"comments\", \"count\": 5.0}]}}, {\"mode\": \"vega-lite\"});\n",
       "</script>"
      ],
      "text/plain": [
       "alt.Chart(...)"
      ]
     },
     "execution_count": 17,
     "metadata": {},
     "output_type": "execute_result"
    }
   ],
   "source": [
    "alt.Chart(total_time, width=600).mark_line().encode(\n",
    "    x='createdAt',\n",
    "    y='count',\n",
    "    color='kind'\n",
    ")"
   ]
  }
 ],
 "metadata": {
  "kernelspec": {
   "display_name": "Python 3 (ipykernel)",
   "language": "python",
   "name": "python3"
  },
  "language_info": {
   "codemirror_mode": {
    "name": "ipython",
    "version": 3
   },
   "file_extension": ".py",
   "mimetype": "text/x-python",
   "name": "python",
   "nbconvert_exporter": "python",
   "pygments_lexer": "ipython3",
   "version": "3.7.12"
  },
  "papermill": {
   "default_parameters": {},
   "duration": 3.586557,
   "end_time": "2021-10-21T01:36:41.542492",
   "environment_variables": {},
   "exception": null,
   "input_path": "./templates/person_report.ipynb",
   "output_path": "generated/people/choldgraf.ipynb",
   "parameters": {
    "n_days": 90,
    "person": "choldgraf"
   },
   "start_time": "2021-10-21T01:36:37.955935",
   "version": "2.3.3"
  },
  "widgets": {
   "application/vnd.jupyter.widget-state+json": {
    "state": {},
    "version_major": 2,
    "version_minor": 0
   }
  }
 },
 "nbformat": 4,
 "nbformat_minor": 5
}