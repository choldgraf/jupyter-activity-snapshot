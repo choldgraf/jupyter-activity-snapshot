{
 "cells": [
  {
   "cell_type": "markdown",
   "id": "committed-difference",
   "metadata": {
    "papermill": {
     "duration": 0.019076,
     "end_time": "2021-02-19T01:41:31.386152",
     "exception": false,
     "start_time": "2021-02-19T01:41:31.367076",
     "status": "completed"
    },
    "tags": []
   },
   "source": [
    "# Report for choldgraf"
   ]
  },
  {
   "cell_type": "code",
   "execution_count": 1,
   "id": "supported-intermediate",
   "metadata": {
    "execution": {
     "iopub.execute_input": "2021-02-19T01:41:31.425232Z",
     "iopub.status.busy": "2021-02-19T01:41:31.423302Z",
     "iopub.status.idle": "2021-02-19T01:41:32.441941Z",
     "shell.execute_reply": "2021-02-19T01:41:32.441313Z"
    },
    "papermill": {
     "duration": 1.03922,
     "end_time": "2021-02-19T01:41:32.442115",
     "exception": false,
     "start_time": "2021-02-19T01:41:31.402895",
     "status": "completed"
    },
    "tags": [
     "remove_cell"
    ]
   },
   "outputs": [],
   "source": [
    "import seaborn as sns\n",
    "import pandas as pd\n",
    "import numpy as np\n",
    "import altair as alt\n",
    "from markdown import markdown\n",
    "from IPython.display import Markdown\n",
    "from ipywidgets.widgets import HTML, Tab\n",
    "from ipywidgets import widgets\n",
    "from datetime import timedelta\n",
    "from matplotlib import pyplot as plt\n",
    "import os.path as op\n",
    "\n",
    "from mycode import alt_theme\n",
    "from warnings import simplefilter\n",
    "simplefilter('ignore')"
   ]
  },
  {
   "cell_type": "code",
   "execution_count": 2,
   "id": "conscious-charger",
   "metadata": {
    "execution": {
     "iopub.execute_input": "2021-02-19T01:41:32.482281Z",
     "iopub.status.busy": "2021-02-19T01:41:32.481657Z",
     "iopub.status.idle": "2021-02-19T01:41:32.483922Z",
     "shell.execute_reply": "2021-02-19T01:41:32.484367Z"
    },
    "papermill": {
     "duration": 0.025922,
     "end_time": "2021-02-19T01:41:32.484558",
     "exception": false,
     "start_time": "2021-02-19T01:41:32.458636",
     "status": "completed"
    },
    "tags": [
     "remove_cell"
    ]
   },
   "outputs": [],
   "source": [
    "def author_url(author):\n",
    "    return f\"https://github.com/{author}\""
   ]
  },
  {
   "cell_type": "code",
   "execution_count": 3,
   "id": "express-clone",
   "metadata": {
    "execution": {
     "iopub.execute_input": "2021-02-19T01:41:32.521325Z",
     "iopub.status.busy": "2021-02-19T01:41:32.520673Z",
     "iopub.status.idle": "2021-02-19T01:41:32.521943Z",
     "shell.execute_reply": "2021-02-19T01:41:32.522393Z"
    },
    "papermill": {
     "duration": 0.023749,
     "end_time": "2021-02-19T01:41:32.522569",
     "exception": false,
     "start_time": "2021-02-19T01:41:32.498820",
     "status": "completed"
    },
    "tags": [
     "parameters",
     "hide_input"
    ]
   },
   "outputs": [],
   "source": [
    "# Parameters\n",
    "fmt_date = \"{:%Y-%m-%d}\"\n",
    "\n",
    "n_days = 30 * 2\n",
    "start_date = fmt_date.format(pd.datetime.today() - timedelta(days=n_days))\n",
    "end_date = fmt_date.format(pd.datetime.today())\n",
    "\n",
    "renderer = \"html\"\n",
    "person = \"jasongrout\""
   ]
  },
  {
   "cell_type": "code",
   "execution_count": 4,
   "id": "emotional-composer",
   "metadata": {
    "execution": {
     "iopub.execute_input": "2021-02-19T01:41:32.557274Z",
     "iopub.status.busy": "2021-02-19T01:41:32.556323Z",
     "iopub.status.idle": "2021-02-19T01:41:32.558286Z",
     "shell.execute_reply": "2021-02-19T01:41:32.559076Z"
    },
    "papermill": {
     "duration": 0.022333,
     "end_time": "2021-02-19T01:41:32.559347",
     "exception": false,
     "start_time": "2021-02-19T01:41:32.537014",
     "status": "completed"
    },
    "tags": [
     "injected-parameters",
     "remove-cell"
    ]
   },
   "outputs": [],
   "source": [
    "# Parameters\n",
    "person = \"choldgraf\"\n",
    "n_days = 60\n"
   ]
  },
  {
   "cell_type": "code",
   "execution_count": 5,
   "id": "joined-athletics",
   "metadata": {
    "execution": {
     "iopub.execute_input": "2021-02-19T01:41:32.598036Z",
     "iopub.status.busy": "2021-02-19T01:41:32.597454Z",
     "iopub.status.idle": "2021-02-19T01:41:32.599996Z",
     "shell.execute_reply": "2021-02-19T01:41:32.600504Z"
    },
    "papermill": {
     "duration": 0.025044,
     "end_time": "2021-02-19T01:41:32.600677",
     "exception": false,
     "start_time": "2021-02-19T01:41:32.575633",
     "status": "completed"
    },
    "tags": [
     "remove_cell"
    ]
   },
   "outputs": [
    {
     "data": {
      "text/plain": [
       "ThemeRegistry.enable('my_theme')"
      ]
     },
     "execution_count": 5,
     "metadata": {},
     "output_type": "execute_result"
    }
   ],
   "source": [
    "alt.renderers.enable(renderer);\n",
    "alt.themes.register('my_theme', alt_theme)\n",
    "alt.themes.enable(\"my_theme\")"
   ]
  },
  {
   "cell_type": "markdown",
   "id": "moved-commonwealth",
   "metadata": {
    "papermill": {
     "duration": 0.015555,
     "end_time": "2021-02-19T01:41:32.631134",
     "exception": false,
     "start_time": "2021-02-19T01:41:32.615579",
     "status": "completed"
    },
    "tags": []
   },
   "source": [
    "## Load data"
   ]
  },
  {
   "cell_type": "code",
   "execution_count": 6,
   "id": "functional-lithuania",
   "metadata": {
    "execution": {
     "iopub.execute_input": "2021-02-19T01:41:32.667667Z",
     "iopub.status.busy": "2021-02-19T01:41:32.667080Z",
     "iopub.status.idle": "2021-02-19T01:41:32.882696Z",
     "shell.execute_reply": "2021-02-19T01:41:32.881723Z"
    },
    "papermill": {
     "duration": 0.236915,
     "end_time": "2021-02-19T01:41:32.882971",
     "exception": false,
     "start_time": "2021-02-19T01:41:32.646056",
     "status": "completed"
    },
    "tags": [
     "remove_cell"
    ]
   },
   "outputs": [],
   "source": [
    "from pathlib import Path\n",
    "path_data = Path(\"./\")\n",
    "comments = pd.read_csv(path_data.joinpath('comments.csv'), index_col=0)\n",
    "issues = pd.read_csv(path_data.joinpath('issues.csv'), index_col=0)\n",
    "prs = pd.read_csv(path_data.joinpath('prs.csv'), index_col=0)\n",
    "\n",
    "comments = comments.query('author == @person').drop_duplicates()\n",
    "issues = issues.query('author == @person').drop_duplicates()\n",
    "closed_by = prs.query('mergedBy == @person')\n",
    "prs = prs.query('author == @person').drop_duplicates()"
   ]
  },
  {
   "cell_type": "code",
   "execution_count": 7,
   "id": "deadly-dividend",
   "metadata": {
    "execution": {
     "iopub.execute_input": "2021-02-19T01:41:32.921345Z",
     "iopub.status.busy": "2021-02-19T01:41:32.920751Z",
     "iopub.status.idle": "2021-02-19T01:41:32.987542Z",
     "shell.execute_reply": "2021-02-19T01:41:32.988020Z"
    },
    "papermill": {
     "duration": 0.086736,
     "end_time": "2021-02-19T01:41:32.988219",
     "exception": false,
     "start_time": "2021-02-19T01:41:32.901483",
     "status": "completed"
    },
    "tags": [
     "remove_cell"
    ]
   },
   "outputs": [],
   "source": [
    "# Time columns\n",
    "# Also drop dates outside of our range\n",
    "time_columns = ['updatedAt', 'createdAt', 'closedAt']\n",
    "for col in time_columns:\n",
    "    for item in [comments, issues, prs, closed_by]:\n",
    "        if col not in item.columns:\n",
    "            continue\n",
    "        dt = pd.to_datetime(item[col]).dt.tz_localize(None)\n",
    "        item[col] = dt\n",
    "        item.query(\"updatedAt < @end_date and updatedAt > @start_date\", inplace=True)"
   ]
  },
  {
   "cell_type": "markdown",
   "id": "periodic-thomson",
   "metadata": {
    "papermill": {
     "duration": 0.01505,
     "end_time": "2021-02-19T01:41:33.018915",
     "exception": false,
     "start_time": "2021-02-19T01:41:33.003865",
     "status": "completed"
    },
    "tags": []
   },
   "source": [
    "## Repository summaries"
   ]
  },
  {
   "cell_type": "code",
   "execution_count": 8,
   "id": "varied-hollow",
   "metadata": {
    "execution": {
     "iopub.execute_input": "2021-02-19T01:41:33.068316Z",
     "iopub.status.busy": "2021-02-19T01:41:33.067718Z",
     "iopub.status.idle": "2021-02-19T01:41:33.081462Z",
     "shell.execute_reply": "2021-02-19T01:41:33.080815Z"
    },
    "papermill": {
     "duration": 0.045619,
     "end_time": "2021-02-19T01:41:33.081649",
     "exception": false,
     "start_time": "2021-02-19T01:41:33.036030",
     "status": "completed"
    },
    "tags": [
     "remove_cell"
    ]
   },
   "outputs": [],
   "source": [
    "summaries = []\n",
    "for idata, name in [(issues, 'issues'), (prs, 'prs'), (comments, 'comments')]:\n",
    "    idata = idata.groupby([\"repo\", \"org\"]).agg({'id': \"count\"}).reset_index().rename(columns={'id': 'count'})\n",
    "    idata[\"kind\"] = name\n",
    "    summaries.append(idata)\n",
    "summaries = pd.concat(summaries)"
   ]
  },
  {
   "cell_type": "code",
   "execution_count": 9,
   "id": "prerequisite-wichita",
   "metadata": {
    "execution": {
     "iopub.execute_input": "2021-02-19T01:41:33.127313Z",
     "iopub.status.busy": "2021-02-19T01:41:33.126711Z",
     "iopub.status.idle": "2021-02-19T01:41:33.132192Z",
     "shell.execute_reply": "2021-02-19T01:41:33.131722Z"
    },
    "papermill": {
     "duration": 0.033552,
     "end_time": "2021-02-19T01:41:33.132332",
     "exception": false,
     "start_time": "2021-02-19T01:41:33.098780",
     "status": "completed"
    },
    "tags": [
     "remove_cell"
    ]
   },
   "outputs": [],
   "source": [
    "repo_summaries = summaries.groupby([\"repo\", \"kind\"]).agg({\"count\": \"sum\"}).reset_index()\n",
    "org_summaries = summaries.groupby([\"org\", \"kind\"]).agg({\"count\": \"sum\"}).reset_index()"
   ]
  },
  {
   "cell_type": "code",
   "execution_count": 10,
   "id": "early-evidence",
   "metadata": {
    "execution": {
     "iopub.execute_input": "2021-02-19T01:41:33.173282Z",
     "iopub.status.busy": "2021-02-19T01:41:33.172666Z",
     "iopub.status.idle": "2021-02-19T01:41:33.175296Z",
     "shell.execute_reply": "2021-02-19T01:41:33.174801Z"
    },
    "papermill": {
     "duration": 0.026167,
     "end_time": "2021-02-19T01:41:33.175451",
     "exception": false,
     "start_time": "2021-02-19T01:41:33.149284",
     "status": "completed"
    },
    "tags": [
     "remove_cell"
    ]
   },
   "outputs": [],
   "source": [
    "repo_summaries['logcount'] = np.log(repo_summaries[\"count\"])"
   ]
  },
  {
   "cell_type": "code",
   "execution_count": 11,
   "id": "annoying-handling",
   "metadata": {
    "execution": {
     "iopub.execute_input": "2021-02-19T01:41:33.247222Z",
     "iopub.status.busy": "2021-02-19T01:41:33.224676Z",
     "iopub.status.idle": "2021-02-19T01:41:33.265363Z",
     "shell.execute_reply": "2021-02-19T01:41:33.265943Z"
    },
    "papermill": {
     "duration": 0.075062,
     "end_time": "2021-02-19T01:41:33.266164",
     "exception": false,
     "start_time": "2021-02-19T01:41:33.191102",
     "status": "completed"
    },
    "tags": [
     "hide_input"
    ]
   },
   "outputs": [
    {
     "data": {
      "text/html": [
       "\n",
       "<div id=\"altair-viz-72b66642cdc74f7eb9f704c189dbe8cf\"></div>\n",
       "<script type=\"text/javascript\">\n",
       "  (function(spec, embedOpt){\n",
       "    let outputDiv = document.currentScript.previousElementSibling;\n",
       "    if (outputDiv.id !== \"altair-viz-72b66642cdc74f7eb9f704c189dbe8cf\") {\n",
       "      outputDiv = document.getElementById(\"altair-viz-72b66642cdc74f7eb9f704c189dbe8cf\");\n",
       "    }\n",
       "    const paths = {\n",
       "      \"vega\": \"https://cdn.jsdelivr.net/npm//vega@5?noext\",\n",
       "      \"vega-lib\": \"https://cdn.jsdelivr.net/npm//vega-lib?noext\",\n",
       "      \"vega-lite\": \"https://cdn.jsdelivr.net/npm//vega-lite@4.8.1?noext\",\n",
       "      \"vega-embed\": \"https://cdn.jsdelivr.net/npm//vega-embed@6?noext\",\n",
       "    };\n",
       "\n",
       "    function loadScript(lib) {\n",
       "      return new Promise(function(resolve, reject) {\n",
       "        var s = document.createElement('script');\n",
       "        s.src = paths[lib];\n",
       "        s.async = true;\n",
       "        s.onload = () => resolve(paths[lib]);\n",
       "        s.onerror = () => reject(`Error loading script: ${paths[lib]}`);\n",
       "        document.getElementsByTagName(\"head\")[0].appendChild(s);\n",
       "      });\n",
       "    }\n",
       "\n",
       "    function showError(err) {\n",
       "      outputDiv.innerHTML = `<div class=\"error\" style=\"color:red;\">${err}</div>`;\n",
       "      throw err;\n",
       "    }\n",
       "\n",
       "    function displayChart(vegaEmbed) {\n",
       "      vegaEmbed(outputDiv, spec, embedOpt)\n",
       "        .catch(err => showError(`Javascript Error: ${err.message}<br>This usually means there's a typo in your chart specification. See the javascript console for the full traceback.`));\n",
       "    }\n",
       "\n",
       "    if(typeof define === \"function\" && define.amd) {\n",
       "      requirejs.config({paths});\n",
       "      require([\"vega-embed\"], displayChart, err => showError(`Error loading script: ${err.message}`));\n",
       "    } else if (typeof vegaEmbed === \"function\") {\n",
       "      displayChart(vegaEmbed);\n",
       "    } else {\n",
       "      loadScript(\"vega\")\n",
       "        .then(() => loadScript(\"vega-lite\"))\n",
       "        .then(() => loadScript(\"vega-embed\"))\n",
       "        .catch(showError)\n",
       "        .then(() => displayChart(vegaEmbed));\n",
       "    }\n",
       "  })({\"config\": {\"axisLeft\": {\"labelFontSize\": 15}, \"axisBottom\": {\"labelFontSize\": 15}}, \"hconcat\": [{\"mark\": \"bar\", \"encoding\": {\"color\": {\"type\": \"nominal\", \"field\": \"kind\"}, \"tooltip\": {\"type\": \"nominal\", \"field\": \"kind\"}, \"x\": {\"type\": \"nominal\", \"field\": \"repo\"}, \"y\": {\"type\": \"quantitative\", \"field\": \"count\"}}, \"title\": \"Activity per repository\", \"width\": 600}, {\"mark\": \"bar\", \"encoding\": {\"color\": {\"type\": \"nominal\", \"field\": \"kind\"}, \"tooltip\": {\"type\": \"nominal\", \"field\": \"kind\"}, \"x\": {\"type\": \"nominal\", \"field\": \"repo\"}, \"y\": {\"type\": \"quantitative\", \"field\": \"logcount\"}}, \"title\": \"Log activity per repository\", \"width\": 600}], \"data\": {\"name\": \"data-58862dcf1829c5f495101c55845920ef\"}, \"$schema\": \"https://vega.github.io/schema/vega-lite/v4.8.1.json\", \"datasets\": {\"data-58862dcf1829c5f495101c55845920ef\": [{\"repo\": \"MyST-NB\", \"kind\": \"comments\", \"count\": 14, \"logcount\": 2.6390573296152584}, {\"repo\": \"MyST-NB\", \"kind\": \"issues\", \"count\": 1, \"logcount\": 0.0}, {\"repo\": \"MyST-Parser\", \"kind\": \"comments\", \"count\": 17, \"logcount\": 2.833213344056216}, {\"repo\": \"MyST-Parser\", \"kind\": \"issues\", \"count\": 3, \"logcount\": 1.0986122886681098}, {\"repo\": \"binder\", \"kind\": \"comments\", \"count\": 1, \"logcount\": 0.0}, {\"repo\": \"design\", \"kind\": \"issues\", \"count\": 1, \"logcount\": 0.0}, {\"repo\": \"github-activity\", \"kind\": \"comments\", \"count\": 2, \"logcount\": 0.6931471805599453}, {\"repo\": \"governance\", \"kind\": \"comments\", \"count\": 1, \"logcount\": 0.0}, {\"repo\": \"ipywidgets\", \"kind\": \"issues\", \"count\": 1, \"logcount\": 0.0}, {\"repo\": \"jupyter\", \"kind\": \"comments\", \"count\": 3, \"logcount\": 1.0986122886681098}, {\"repo\": \"jupyter-book\", \"kind\": \"comments\", \"count\": 72, \"logcount\": 4.276666119016055}, {\"repo\": \"jupyter-book\", \"kind\": \"issues\", \"count\": 6, \"logcount\": 1.791759469228055}, {\"repo\": \"jupyter-book\", \"kind\": \"prs\", \"count\": 7, \"logcount\": 1.9459101490553132}, {\"repo\": \"jupyter.github.io\", \"kind\": \"comments\", \"count\": 8, \"logcount\": 2.0794415416798357}, {\"repo\": \"jupyterbook-latex\", \"kind\": \"comments\", \"count\": 2, \"logcount\": 0.6931471805599453}, {\"repo\": \"jupyterhub\", \"kind\": \"issues\", \"count\": 1, \"logcount\": 0.0}, {\"repo\": \"jupyterlab\", \"kind\": \"comments\", \"count\": 1, \"logcount\": 0.0}, {\"repo\": \"jupyterlab-demo\", \"kind\": \"issues\", \"count\": 1, \"logcount\": 0.0}, {\"repo\": \"mdit-py-plugins\", \"kind\": \"comments\", \"count\": 1, \"logcount\": 0.0}, {\"repo\": \"meta\", \"kind\": \"comments\", \"count\": 15, \"logcount\": 2.70805020110221}, {\"repo\": \"meta\", \"kind\": \"prs\", \"count\": 1, \"logcount\": 0.0}, {\"repo\": \"mybinder.org-deploy\", \"kind\": \"comments\", \"count\": 7, \"logcount\": 1.9459101490553132}, {\"repo\": \"nbclient\", \"kind\": \"comments\", \"count\": 3, \"logcount\": 1.0986122886681098}, {\"repo\": \"nbgitpuller\", \"kind\": \"comments\", \"count\": 2, \"logcount\": 0.6931471805599453}, {\"repo\": \"repo2docker\", \"kind\": \"comments\", \"count\": 5, \"logcount\": 1.6094379124341003}, {\"repo\": \"repo2docker\", \"kind\": \"issues\", \"count\": 2, \"logcount\": 0.6931471805599453}, {\"repo\": \"rst-to-myst\", \"kind\": \"comments\", \"count\": 1, \"logcount\": 0.0}, {\"repo\": \"rst-to-myst\", \"kind\": \"issues\", \"count\": 1, \"logcount\": 0.0}, {\"repo\": \"sphinx-book-theme\", \"kind\": \"comments\", \"count\": 11, \"logcount\": 2.3978952727983707}, {\"repo\": \"sphinx-book-theme\", \"kind\": \"issues\", \"count\": 1, \"logcount\": 0.0}, {\"repo\": \"sphinx-book-theme\", \"kind\": \"prs\", \"count\": 2, \"logcount\": 0.6931471805599453}, {\"repo\": \"sphinx-copybutton\", \"kind\": \"comments\", \"count\": 2, \"logcount\": 0.6931471805599453}, {\"repo\": \"team-compass\", \"kind\": \"comments\", \"count\": 10, \"logcount\": 2.302585092994046}, {\"repo\": \"team-compass\", \"kind\": \"issues\", \"count\": 4, \"logcount\": 1.3862943611198906}, {\"repo\": \"thebe\", \"kind\": \"comments\", \"count\": 7, \"logcount\": 1.9459101490553132}, {\"repo\": \"zero-to-jupyterhub-k8s\", \"kind\": \"comments\", \"count\": 5, \"logcount\": 1.6094379124341003}, {\"repo\": \"zero-to-jupyterhub-k8s\", \"kind\": \"issues\", \"count\": 1, \"logcount\": 0.0}]}}, {\"mode\": \"vega-lite\"});\n",
       "</script>"
      ],
      "text/plain": [
       "alt.HConcatChart(...)"
      ]
     },
     "execution_count": 11,
     "metadata": {},
     "output_type": "execute_result"
    }
   ],
   "source": [
    "ch1 = alt.Chart(repo_summaries, width=600, title=\"Activity per repository\").mark_bar().encode(\n",
    "    x='repo',\n",
    "    y='count',\n",
    "    color='kind',\n",
    "    tooltip=\"kind\"\n",
    ")\n",
    "\n",
    "ch2 = alt.Chart(repo_summaries, width=600, title=\"Log activity per repository\").mark_bar().encode(\n",
    "    x='repo',\n",
    "    y='logcount',\n",
    "    color='kind',\n",
    "    tooltip=\"kind\"\n",
    ")\n",
    "\n",
    "ch1 | ch2"
   ]
  },
  {
   "cell_type": "code",
   "execution_count": 12,
   "id": "passive-exchange",
   "metadata": {
    "execution": {
     "iopub.execute_input": "2021-02-19T01:41:33.307132Z",
     "iopub.status.busy": "2021-02-19T01:41:33.306515Z",
     "iopub.status.idle": "2021-02-19T01:41:33.337732Z",
     "shell.execute_reply": "2021-02-19T01:41:33.338415Z"
    },
    "papermill": {
     "duration": 0.052783,
     "end_time": "2021-02-19T01:41:33.338693",
     "exception": false,
     "start_time": "2021-02-19T01:41:33.285910",
     "status": "completed"
    },
    "tags": [
     "hide_input"
    ]
   },
   "outputs": [
    {
     "data": {
      "text/html": [
       "\n",
       "<div id=\"altair-viz-b591ab3e6df24ef2949dde59754cbf35\"></div>\n",
       "<script type=\"text/javascript\">\n",
       "  (function(spec, embedOpt){\n",
       "    let outputDiv = document.currentScript.previousElementSibling;\n",
       "    if (outputDiv.id !== \"altair-viz-b591ab3e6df24ef2949dde59754cbf35\") {\n",
       "      outputDiv = document.getElementById(\"altair-viz-b591ab3e6df24ef2949dde59754cbf35\");\n",
       "    }\n",
       "    const paths = {\n",
       "      \"vega\": \"https://cdn.jsdelivr.net/npm//vega@5?noext\",\n",
       "      \"vega-lib\": \"https://cdn.jsdelivr.net/npm//vega-lib?noext\",\n",
       "      \"vega-lite\": \"https://cdn.jsdelivr.net/npm//vega-lite@4.8.1?noext\",\n",
       "      \"vega-embed\": \"https://cdn.jsdelivr.net/npm//vega-embed@6?noext\",\n",
       "    };\n",
       "\n",
       "    function loadScript(lib) {\n",
       "      return new Promise(function(resolve, reject) {\n",
       "        var s = document.createElement('script');\n",
       "        s.src = paths[lib];\n",
       "        s.async = true;\n",
       "        s.onload = () => resolve(paths[lib]);\n",
       "        s.onerror = () => reject(`Error loading script: ${paths[lib]}`);\n",
       "        document.getElementsByTagName(\"head\")[0].appendChild(s);\n",
       "      });\n",
       "    }\n",
       "\n",
       "    function showError(err) {\n",
       "      outputDiv.innerHTML = `<div class=\"error\" style=\"color:red;\">${err}</div>`;\n",
       "      throw err;\n",
       "    }\n",
       "\n",
       "    function displayChart(vegaEmbed) {\n",
       "      vegaEmbed(outputDiv, spec, embedOpt)\n",
       "        .catch(err => showError(`Javascript Error: ${err.message}<br>This usually means there's a typo in your chart specification. See the javascript console for the full traceback.`));\n",
       "    }\n",
       "\n",
       "    if(typeof define === \"function\" && define.amd) {\n",
       "      requirejs.config({paths});\n",
       "      require([\"vega-embed\"], displayChart, err => showError(`Error loading script: ${err.message}`));\n",
       "    } else if (typeof vegaEmbed === \"function\") {\n",
       "      displayChart(vegaEmbed);\n",
       "    } else {\n",
       "      loadScript(\"vega\")\n",
       "        .then(() => loadScript(\"vega-lite\"))\n",
       "        .then(() => loadScript(\"vega-embed\"))\n",
       "        .catch(showError)\n",
       "        .then(() => displayChart(vegaEmbed));\n",
       "    }\n",
       "  })({\"config\": {\"axisLeft\": {\"labelFontSize\": 15}, \"axisBottom\": {\"labelFontSize\": 15}}, \"data\": {\"name\": \"data-16dc4f807e9d3998e49dbf9919e03d1a\"}, \"mark\": \"bar\", \"encoding\": {\"color\": {\"type\": \"nominal\", \"field\": \"kind\"}, \"tooltip\": {\"type\": \"nominal\", \"field\": \"org\"}, \"x\": {\"type\": \"nominal\", \"field\": \"org\"}, \"y\": {\"type\": \"quantitative\", \"field\": \"count\"}}, \"width\": 600, \"$schema\": \"https://vega.github.io/schema/vega-lite/v4.8.1.json\", \"datasets\": {\"data-16dc4f807e9d3998e49dbf9919e03d1a\": [{\"org\": \"executablebooks\", \"kind\": \"comments\", \"count\": 144}, {\"org\": \"executablebooks\", \"kind\": \"issues\", \"count\": 12}, {\"org\": \"executablebooks\", \"kind\": \"prs\", \"count\": 10}, {\"org\": \"jupyter\", \"kind\": \"comments\", \"count\": 15}, {\"org\": \"jupyter\", \"kind\": \"issues\", \"count\": 1}, {\"org\": \"jupyter-widgets\", \"kind\": \"issues\", \"count\": 1}, {\"org\": \"jupyterhub\", \"kind\": \"comments\", \"count\": 29}, {\"org\": \"jupyterhub\", \"kind\": \"issues\", \"count\": 8}, {\"org\": \"jupyterlab\", \"kind\": \"comments\", \"count\": 2}, {\"org\": \"jupyterlab\", \"kind\": \"issues\", \"count\": 1}]}}, {\"mode\": \"vega-lite\"});\n",
       "</script>"
      ],
      "text/plain": [
       "alt.Chart(...)"
      ]
     },
     "execution_count": 12,
     "metadata": {},
     "output_type": "execute_result"
    }
   ],
   "source": [
    "alt.Chart(org_summaries, width=600).mark_bar().encode(\n",
    "    x='org',\n",
    "    y='count',\n",
    "    color='kind',\n",
    "    tooltip=\"org\"\n",
    ")"
   ]
  },
  {
   "cell_type": "markdown",
   "id": "sweet-custody",
   "metadata": {
    "papermill": {
     "duration": 0.016115,
     "end_time": "2021-02-19T01:41:33.372759",
     "exception": false,
     "start_time": "2021-02-19T01:41:33.356644",
     "status": "completed"
    },
    "tags": []
   },
   "source": [
    "## By repository over time"
   ]
  },
  {
   "cell_type": "markdown",
   "id": "deadly-enterprise",
   "metadata": {
    "papermill": {
     "duration": 0.017696,
     "end_time": "2021-02-19T01:41:33.409961",
     "exception": false,
     "start_time": "2021-02-19T01:41:33.392265",
     "status": "completed"
    },
    "tags": []
   },
   "source": [
    "### Comments"
   ]
  },
  {
   "cell_type": "code",
   "execution_count": 13,
   "id": "unauthorized-browse",
   "metadata": {
    "execution": {
     "iopub.execute_input": "2021-02-19T01:41:33.453105Z",
     "iopub.status.busy": "2021-02-19T01:41:33.452501Z",
     "iopub.status.idle": "2021-02-19T01:41:33.564697Z",
     "shell.execute_reply": "2021-02-19T01:41:33.565454Z"
    },
    "papermill": {
     "duration": 0.138991,
     "end_time": "2021-02-19T01:41:33.565632",
     "exception": false,
     "start_time": "2021-02-19T01:41:33.426641",
     "status": "completed"
    },
    "tags": [
     "hide_input"
    ]
   },
   "outputs": [
    {
     "data": {
      "text/html": [
       "\n",
       "<div id=\"altair-viz-a3f987754a2f4ba69e46740346dde613\"></div>\n",
       "<script type=\"text/javascript\">\n",
       "  (function(spec, embedOpt){\n",
       "    let outputDiv = document.currentScript.previousElementSibling;\n",
       "    if (outputDiv.id !== \"altair-viz-a3f987754a2f4ba69e46740346dde613\") {\n",
       "      outputDiv = document.getElementById(\"altair-viz-a3f987754a2f4ba69e46740346dde613\");\n",
       "    }\n",
       "    const paths = {\n",
       "      \"vega\": \"https://cdn.jsdelivr.net/npm//vega@5?noext\",\n",
       "      \"vega-lib\": \"https://cdn.jsdelivr.net/npm//vega-lib?noext\",\n",
       "      \"vega-lite\": \"https://cdn.jsdelivr.net/npm//vega-lite@4.8.1?noext\",\n",
       "      \"vega-embed\": \"https://cdn.jsdelivr.net/npm//vega-embed@6?noext\",\n",
       "    };\n",
       "\n",
       "    function loadScript(lib) {\n",
       "      return new Promise(function(resolve, reject) {\n",
       "        var s = document.createElement('script');\n",
       "        s.src = paths[lib];\n",
       "        s.async = true;\n",
       "        s.onload = () => resolve(paths[lib]);\n",
       "        s.onerror = () => reject(`Error loading script: ${paths[lib]}`);\n",
       "        document.getElementsByTagName(\"head\")[0].appendChild(s);\n",
       "      });\n",
       "    }\n",
       "\n",
       "    function showError(err) {\n",
       "      outputDiv.innerHTML = `<div class=\"error\" style=\"color:red;\">${err}</div>`;\n",
       "      throw err;\n",
       "    }\n",
       "\n",
       "    function displayChart(vegaEmbed) {\n",
       "      vegaEmbed(outputDiv, spec, embedOpt)\n",
       "        .catch(err => showError(`Javascript Error: ${err.message}<br>This usually means there's a typo in your chart specification. See the javascript console for the full traceback.`));\n",
       "    }\n",
       "\n",
       "    if(typeof define === \"function\" && define.amd) {\n",
       "      requirejs.config({paths});\n",
       "      require([\"vega-embed\"], displayChart, err => showError(`Error loading script: ${err.message}`));\n",
       "    } else if (typeof vegaEmbed === \"function\") {\n",
       "      displayChart(vegaEmbed);\n",
       "    } else {\n",
       "      loadScript(\"vega\")\n",
       "        .then(() => loadScript(\"vega-lite\"))\n",
       "        .then(() => loadScript(\"vega-embed\"))\n",
       "        .catch(showError)\n",
       "        .then(() => displayChart(vegaEmbed));\n",
       "    }\n",
       "  })({\"config\": {\"axisLeft\": {\"labelFontSize\": 15}, \"axisBottom\": {\"labelFontSize\": 15}}, \"layer\": [{\"data\": {\"name\": \"data-6a48414a69abcab56c0703cd38c66898\"}, \"mark\": \"line\", \"encoding\": {\"color\": {\"type\": \"nominal\", \"field\": \"repo\"}, \"tooltip\": {\"type\": \"nominal\", \"field\": \"repo\"}, \"x\": {\"type\": \"temporal\", \"field\": \"createdAt\"}, \"y\": {\"type\": \"quantitative\", \"field\": \"count\"}}, \"width\": 600}, {\"data\": {\"name\": \"data-6f137e6217c07afffb41e5b73a74cd7e\"}, \"mark\": {\"type\": \"line\", \"color\": \"black\"}, \"encoding\": {\"x\": {\"type\": \"temporal\", \"field\": \"createdAt\"}, \"y\": {\"type\": \"quantitative\", \"field\": \"count\"}}, \"width\": 600}], \"$schema\": \"https://vega.github.io/schema/vega-lite/v4.8.1.json\", \"datasets\": {\"data-6a48414a69abcab56c0703cd38c66898\": [{\"repo\": \"MyST-NB\", \"createdAt\": \"2021-01-03T00:00:00\", \"count\": 1}, {\"repo\": \"MyST-NB\", \"createdAt\": \"2021-01-10T00:00:00\", \"count\": 2}, {\"repo\": \"MyST-NB\", \"createdAt\": \"2021-01-17T00:00:00\", \"count\": 5}, {\"repo\": \"MyST-NB\", \"createdAt\": \"2021-01-24T00:00:00\", \"count\": 3}, {\"repo\": \"MyST-NB\", \"createdAt\": \"2021-01-31T00:00:00\", \"count\": 1}, {\"repo\": \"MyST-NB\", \"createdAt\": \"2021-02-07T00:00:00\", \"count\": 0}, {\"repo\": \"MyST-NB\", \"createdAt\": \"2021-02-14T00:00:00\", \"count\": 0}, {\"repo\": \"MyST-NB\", \"createdAt\": \"2021-02-21T00:00:00\", \"count\": 2}, {\"repo\": \"MyST-Parser\", \"createdAt\": \"2021-01-03T00:00:00\", \"count\": 6}, {\"repo\": \"MyST-Parser\", \"createdAt\": \"2021-01-10T00:00:00\", \"count\": 2}, {\"repo\": \"MyST-Parser\", \"createdAt\": \"2021-01-17T00:00:00\", \"count\": 4}, {\"repo\": \"MyST-Parser\", \"createdAt\": \"2021-01-24T00:00:00\", \"count\": 0}, {\"repo\": \"MyST-Parser\", \"createdAt\": \"2021-01-31T00:00:00\", \"count\": 0}, {\"repo\": \"MyST-Parser\", \"createdAt\": \"2021-02-07T00:00:00\", \"count\": 2}, {\"repo\": \"MyST-Parser\", \"createdAt\": \"2021-02-14T00:00:00\", \"count\": 3}, {\"repo\": \"binder\", \"createdAt\": \"2021-01-31T00:00:00\", \"count\": 1}, {\"repo\": \"github-activity\", \"createdAt\": \"2021-01-17T00:00:00\", \"count\": 2}, {\"repo\": \"governance\", \"createdAt\": \"2021-01-24T00:00:00\", \"count\": 1}, {\"repo\": \"jupyter\", \"createdAt\": \"2021-01-17T00:00:00\", \"count\": 1}, {\"repo\": \"jupyter\", \"createdAt\": \"2021-01-24T00:00:00\", \"count\": 1}, {\"repo\": \"jupyter\", \"createdAt\": \"2021-01-31T00:00:00\", \"count\": 1}, {\"repo\": \"jupyter-book\", \"createdAt\": \"2020-12-27T00:00:00\", \"count\": 7}, {\"repo\": \"jupyter-book\", \"createdAt\": \"2021-01-03T00:00:00\", \"count\": 6}, {\"repo\": \"jupyter-book\", \"createdAt\": \"2021-01-10T00:00:00\", \"count\": 6}, {\"repo\": \"jupyter-book\", \"createdAt\": \"2021-01-17T00:00:00\", \"count\": 7}, {\"repo\": \"jupyter-book\", \"createdAt\": \"2021-01-24T00:00:00\", \"count\": 12}, {\"repo\": \"jupyter-book\", \"createdAt\": \"2021-01-31T00:00:00\", \"count\": 5}, {\"repo\": \"jupyter-book\", \"createdAt\": \"2021-02-07T00:00:00\", \"count\": 11}, {\"repo\": \"jupyter-book\", \"createdAt\": \"2021-02-14T00:00:00\", \"count\": 15}, {\"repo\": \"jupyter-book\", \"createdAt\": \"2021-02-21T00:00:00\", \"count\": 3}, {\"repo\": \"jupyter.github.io\", \"createdAt\": \"2021-01-10T00:00:00\", \"count\": 2}, {\"repo\": \"jupyter.github.io\", \"createdAt\": \"2021-01-17T00:00:00\", \"count\": 0}, {\"repo\": \"jupyter.github.io\", \"createdAt\": \"2021-01-24T00:00:00\", \"count\": 3}, {\"repo\": \"jupyter.github.io\", \"createdAt\": \"2021-01-31T00:00:00\", \"count\": 1}, {\"repo\": \"jupyter.github.io\", \"createdAt\": \"2021-02-07T00:00:00\", \"count\": 1}, {\"repo\": \"jupyter.github.io\", \"createdAt\": \"2021-02-14T00:00:00\", \"count\": 0}, {\"repo\": \"jupyter.github.io\", \"createdAt\": \"2021-02-21T00:00:00\", \"count\": 1}, {\"repo\": \"jupyterbook-latex\", \"createdAt\": \"2021-02-07T00:00:00\", \"count\": 2}, {\"repo\": \"jupyterlab\", \"createdAt\": \"2021-02-07T00:00:00\", \"count\": 1}, {\"repo\": \"mdit-py-plugins\", \"createdAt\": \"2021-02-07T00:00:00\", \"count\": 1}, {\"repo\": \"meta\", \"createdAt\": \"2020-12-27T00:00:00\", \"count\": 3}, {\"repo\": \"meta\", \"createdAt\": \"2021-01-03T00:00:00\", \"count\": 0}, {\"repo\": \"meta\", \"createdAt\": \"2021-01-10T00:00:00\", \"count\": 2}, {\"repo\": \"meta\", \"createdAt\": \"2021-01-17T00:00:00\", \"count\": 0}, {\"repo\": \"meta\", \"createdAt\": \"2021-01-24T00:00:00\", \"count\": 1}, {\"repo\": \"meta\", \"createdAt\": \"2021-01-31T00:00:00\", \"count\": 3}, {\"repo\": \"meta\", \"createdAt\": \"2021-02-07T00:00:00\", \"count\": 1}, {\"repo\": \"meta\", \"createdAt\": \"2021-02-14T00:00:00\", \"count\": 5}, {\"repo\": \"mybinder.org-deploy\", \"createdAt\": \"2021-01-10T00:00:00\", \"count\": 2}, {\"repo\": \"mybinder.org-deploy\", \"createdAt\": \"2021-01-17T00:00:00\", \"count\": 2}, {\"repo\": \"mybinder.org-deploy\", \"createdAt\": \"2021-01-24T00:00:00\", \"count\": 0}, {\"repo\": \"mybinder.org-deploy\", \"createdAt\": \"2021-01-31T00:00:00\", \"count\": 2}, {\"repo\": \"mybinder.org-deploy\", \"createdAt\": \"2021-02-07T00:00:00\", \"count\": 0}, {\"repo\": \"mybinder.org-deploy\", \"createdAt\": \"2021-02-14T00:00:00\", \"count\": 0}, {\"repo\": \"mybinder.org-deploy\", \"createdAt\": \"2021-02-21T00:00:00\", \"count\": 1}, {\"repo\": \"nbclient\", \"createdAt\": \"2021-02-14T00:00:00\", \"count\": 3}, {\"repo\": \"nbgitpuller\", \"createdAt\": \"2021-01-10T00:00:00\", \"count\": 2}, {\"repo\": \"repo2docker\", \"createdAt\": \"2021-01-24T00:00:00\", \"count\": 4}, {\"repo\": \"repo2docker\", \"createdAt\": \"2021-01-31T00:00:00\", \"count\": 0}, {\"repo\": \"repo2docker\", \"createdAt\": \"2021-02-07T00:00:00\", \"count\": 0}, {\"repo\": \"repo2docker\", \"createdAt\": \"2021-02-14T00:00:00\", \"count\": 0}, {\"repo\": \"repo2docker\", \"createdAt\": \"2021-02-21T00:00:00\", \"count\": 1}, {\"repo\": \"rst-to-myst\", \"createdAt\": \"2021-01-03T00:00:00\", \"count\": 1}, {\"repo\": \"sphinx-book-theme\", \"createdAt\": \"2021-01-10T00:00:00\", \"count\": 1}, {\"repo\": \"sphinx-book-theme\", \"createdAt\": \"2021-01-17T00:00:00\", \"count\": 1}, {\"repo\": \"sphinx-book-theme\", \"createdAt\": \"2021-01-24T00:00:00\", \"count\": 3}, {\"repo\": \"sphinx-book-theme\", \"createdAt\": \"2021-01-31T00:00:00\", \"count\": 0}, {\"repo\": \"sphinx-book-theme\", \"createdAt\": \"2021-02-07T00:00:00\", \"count\": 2}, {\"repo\": \"sphinx-book-theme\", \"createdAt\": \"2021-02-14T00:00:00\", \"count\": 4}, {\"repo\": \"sphinx-copybutton\", \"createdAt\": \"2020-12-27T00:00:00\", \"count\": 1}, {\"repo\": \"sphinx-copybutton\", \"createdAt\": \"2021-01-03T00:00:00\", \"count\": 1}, {\"repo\": \"team-compass\", \"createdAt\": \"2021-01-31T00:00:00\", \"count\": 1}, {\"repo\": \"team-compass\", \"createdAt\": \"2021-02-07T00:00:00\", \"count\": 5}, {\"repo\": \"team-compass\", \"createdAt\": \"2021-02-14T00:00:00\", \"count\": 1}, {\"repo\": \"team-compass\", \"createdAt\": \"2021-02-21T00:00:00\", \"count\": 3}, {\"repo\": \"thebe\", \"createdAt\": \"2020-12-27T00:00:00\", \"count\": 4}, {\"repo\": \"thebe\", \"createdAt\": \"2021-01-03T00:00:00\", \"count\": 0}, {\"repo\": \"thebe\", \"createdAt\": \"2021-01-10T00:00:00\", \"count\": 2}, {\"repo\": \"thebe\", \"createdAt\": \"2021-01-17T00:00:00\", \"count\": 0}, {\"repo\": \"thebe\", \"createdAt\": \"2021-01-24T00:00:00\", \"count\": 1}, {\"repo\": \"zero-to-jupyterhub-k8s\", \"createdAt\": \"2020-12-27T00:00:00\", \"count\": 1}, {\"repo\": \"zero-to-jupyterhub-k8s\", \"createdAt\": \"2021-01-03T00:00:00\", \"count\": 1}, {\"repo\": \"zero-to-jupyterhub-k8s\", \"createdAt\": \"2021-01-10T00:00:00\", \"count\": 1}, {\"repo\": \"zero-to-jupyterhub-k8s\", \"createdAt\": \"2021-01-17T00:00:00\", \"count\": 1}, {\"repo\": \"zero-to-jupyterhub-k8s\", \"createdAt\": \"2021-01-24T00:00:00\", \"count\": 0}, {\"repo\": \"zero-to-jupyterhub-k8s\", \"createdAt\": \"2021-01-31T00:00:00\", \"count\": 1}], \"data-6f137e6217c07afffb41e5b73a74cd7e\": [{\"createdAt\": \"2020-12-27T00:00:00\", \"count\": 16}, {\"createdAt\": \"2021-01-03T00:00:00\", \"count\": 16}, {\"createdAt\": \"2021-01-10T00:00:00\", \"count\": 22}, {\"createdAt\": \"2021-01-17T00:00:00\", \"count\": 23}, {\"createdAt\": \"2021-01-24T00:00:00\", \"count\": 29}, {\"createdAt\": \"2021-01-31T00:00:00\", \"count\": 16}, {\"createdAt\": \"2021-02-07T00:00:00\", \"count\": 26}, {\"createdAt\": \"2021-02-14T00:00:00\", \"count\": 31}, {\"createdAt\": \"2021-02-21T00:00:00\", \"count\": 11}]}}, {\"mode\": \"vega-lite\"});\n",
       "</script>"
      ],
      "text/plain": [
       "alt.LayerChart(...)"
      ]
     },
     "execution_count": 13,
     "metadata": {},
     "output_type": "execute_result"
    }
   ],
   "source": [
    "comments_time = comments.groupby('repo').resample('W', on='createdAt').count()['author'].reset_index()\n",
    "comments_time = comments_time.rename(columns={'author': 'count'})\n",
    "comments_time_total = comments_time.groupby('createdAt').agg({\"count\": \"sum\"}).reset_index()\n",
    "ch1 = alt.Chart(comments_time, width=600).mark_line().encode(\n",
    "    x='createdAt',\n",
    "    y='count',\n",
    "    color='repo',\n",
    "    tooltip=\"repo\"\n",
    ")\n",
    "\n",
    "ch2 = alt.Chart(comments_time_total, width=600).mark_line(color=\"black\").encode(\n",
    "    x='createdAt',\n",
    "    y='count',\n",
    ")\n",
    "\n",
    "ch1 + ch2"
   ]
  },
  {
   "cell_type": "markdown",
   "id": "imported-america",
   "metadata": {
    "papermill": {
     "duration": 0.018076,
     "end_time": "2021-02-19T01:41:33.602441",
     "exception": false,
     "start_time": "2021-02-19T01:41:33.584365",
     "status": "completed"
    },
    "tags": []
   },
   "source": [
    "### PRs"
   ]
  },
  {
   "cell_type": "code",
   "execution_count": 14,
   "id": "hired-niagara",
   "metadata": {
    "execution": {
     "iopub.execute_input": "2021-02-19T01:41:33.652437Z",
     "iopub.status.busy": "2021-02-19T01:41:33.651823Z",
     "iopub.status.idle": "2021-02-19T01:41:33.706283Z",
     "shell.execute_reply": "2021-02-19T01:41:33.707124Z"
    },
    "papermill": {
     "duration": 0.086627,
     "end_time": "2021-02-19T01:41:33.707319",
     "exception": false,
     "start_time": "2021-02-19T01:41:33.620692",
     "status": "completed"
    },
    "tags": [
     "hide_input"
    ]
   },
   "outputs": [
    {
     "data": {
      "text/html": [
       "\n",
       "<div id=\"altair-viz-ccf4a3db4a12456bab0646e2004bfd2c\"></div>\n",
       "<script type=\"text/javascript\">\n",
       "  (function(spec, embedOpt){\n",
       "    let outputDiv = document.currentScript.previousElementSibling;\n",
       "    if (outputDiv.id !== \"altair-viz-ccf4a3db4a12456bab0646e2004bfd2c\") {\n",
       "      outputDiv = document.getElementById(\"altair-viz-ccf4a3db4a12456bab0646e2004bfd2c\");\n",
       "    }\n",
       "    const paths = {\n",
       "      \"vega\": \"https://cdn.jsdelivr.net/npm//vega@5?noext\",\n",
       "      \"vega-lib\": \"https://cdn.jsdelivr.net/npm//vega-lib?noext\",\n",
       "      \"vega-lite\": \"https://cdn.jsdelivr.net/npm//vega-lite@4.8.1?noext\",\n",
       "      \"vega-embed\": \"https://cdn.jsdelivr.net/npm//vega-embed@6?noext\",\n",
       "    };\n",
       "\n",
       "    function loadScript(lib) {\n",
       "      return new Promise(function(resolve, reject) {\n",
       "        var s = document.createElement('script');\n",
       "        s.src = paths[lib];\n",
       "        s.async = true;\n",
       "        s.onload = () => resolve(paths[lib]);\n",
       "        s.onerror = () => reject(`Error loading script: ${paths[lib]}`);\n",
       "        document.getElementsByTagName(\"head\")[0].appendChild(s);\n",
       "      });\n",
       "    }\n",
       "\n",
       "    function showError(err) {\n",
       "      outputDiv.innerHTML = `<div class=\"error\" style=\"color:red;\">${err}</div>`;\n",
       "      throw err;\n",
       "    }\n",
       "\n",
       "    function displayChart(vegaEmbed) {\n",
       "      vegaEmbed(outputDiv, spec, embedOpt)\n",
       "        .catch(err => showError(`Javascript Error: ${err.message}<br>This usually means there's a typo in your chart specification. See the javascript console for the full traceback.`));\n",
       "    }\n",
       "\n",
       "    if(typeof define === \"function\" && define.amd) {\n",
       "      requirejs.config({paths});\n",
       "      require([\"vega-embed\"], displayChart, err => showError(`Error loading script: ${err.message}`));\n",
       "    } else if (typeof vegaEmbed === \"function\") {\n",
       "      displayChart(vegaEmbed);\n",
       "    } else {\n",
       "      loadScript(\"vega\")\n",
       "        .then(() => loadScript(\"vega-lite\"))\n",
       "        .then(() => loadScript(\"vega-embed\"))\n",
       "        .catch(showError)\n",
       "        .then(() => displayChart(vegaEmbed));\n",
       "    }\n",
       "  })({\"config\": {\"axisLeft\": {\"labelFontSize\": 15}, \"axisBottom\": {\"labelFontSize\": 15}}, \"layer\": [{\"data\": {\"name\": \"data-4b481512029de57ed2dbe07dfef283a0\"}, \"mark\": \"line\", \"encoding\": {\"color\": {\"type\": \"nominal\", \"field\": \"repo\"}, \"tooltip\": {\"type\": \"nominal\", \"field\": \"repo\"}, \"x\": {\"type\": \"temporal\", \"field\": \"createdAt\"}, \"y\": {\"type\": \"quantitative\", \"field\": \"count\"}}, \"width\": 600}, {\"data\": {\"name\": \"data-ea533b109bf164220687c140559b4514\"}, \"mark\": {\"type\": \"line\", \"color\": \"black\"}, \"encoding\": {\"x\": {\"type\": \"temporal\", \"field\": \"createdAt\"}, \"y\": {\"type\": \"quantitative\", \"field\": \"count\"}}, \"width\": 600}], \"$schema\": \"https://vega.github.io/schema/vega-lite/v4.8.1.json\", \"datasets\": {\"data-4b481512029de57ed2dbe07dfef283a0\": [{\"repo\": \"jupyter-book\", \"createdAt\": \"2020-12-27T00:00:00\", \"count\": 1}, {\"repo\": \"jupyter-book\", \"createdAt\": \"2021-01-03T00:00:00\", \"count\": 0}, {\"repo\": \"jupyter-book\", \"createdAt\": \"2021-01-10T00:00:00\", \"count\": 0}, {\"repo\": \"jupyter-book\", \"createdAt\": \"2021-01-17T00:00:00\", \"count\": 0}, {\"repo\": \"jupyter-book\", \"createdAt\": \"2021-01-24T00:00:00\", \"count\": 3}, {\"repo\": \"jupyter-book\", \"createdAt\": \"2021-01-31T00:00:00\", \"count\": 0}, {\"repo\": \"jupyter-book\", \"createdAt\": \"2021-02-07T00:00:00\", \"count\": 1}, {\"repo\": \"jupyter-book\", \"createdAt\": \"2021-02-14T00:00:00\", \"count\": 2}, {\"repo\": \"meta\", \"createdAt\": \"2021-01-24T00:00:00\", \"count\": 1}, {\"repo\": \"sphinx-book-theme\", \"createdAt\": \"2021-02-14T00:00:00\", \"count\": 2}], \"data-ea533b109bf164220687c140559b4514\": [{\"createdAt\": \"2020-12-27T00:00:00\", \"count\": 1}, {\"createdAt\": \"2021-01-03T00:00:00\", \"count\": 0}, {\"createdAt\": \"2021-01-10T00:00:00\", \"count\": 0}, {\"createdAt\": \"2021-01-17T00:00:00\", \"count\": 0}, {\"createdAt\": \"2021-01-24T00:00:00\", \"count\": 4}, {\"createdAt\": \"2021-01-31T00:00:00\", \"count\": 0}, {\"createdAt\": \"2021-02-07T00:00:00\", \"count\": 1}, {\"createdAt\": \"2021-02-14T00:00:00\", \"count\": 4}]}}, {\"mode\": \"vega-lite\"});\n",
       "</script>"
      ],
      "text/plain": [
       "alt.LayerChart(...)"
      ]
     },
     "execution_count": 14,
     "metadata": {},
     "output_type": "execute_result"
    }
   ],
   "source": [
    "prs_time = prs.groupby('repo').resample('W', on='createdAt').count()['author'].reset_index()\n",
    "prs_time = prs_time.rename(columns={'author': 'count'})\n",
    "prs_time_total = prs_time.groupby('createdAt').agg({\"count\": \"sum\"}).reset_index()\n",
    "\n",
    "ch1 = alt.Chart(prs_time, width=600).mark_line().encode(\n",
    "    x='createdAt',\n",
    "    y='count',\n",
    "    color='repo',\n",
    "    tooltip=\"repo\"\n",
    ")\n",
    "\n",
    "ch2 = alt.Chart(prs_time_total, width=600).mark_line(color=\"black\").encode(\n",
    "    x='createdAt',\n",
    "    y='count',\n",
    ")\n",
    "\n",
    "ch1 + ch2"
   ]
  },
  {
   "cell_type": "code",
   "execution_count": 15,
   "id": "cubic-poetry",
   "metadata": {
    "execution": {
     "iopub.execute_input": "2021-02-19T01:41:33.765221Z",
     "iopub.status.busy": "2021-02-19T01:41:33.764513Z",
     "iopub.status.idle": "2021-02-19T01:41:33.819957Z",
     "shell.execute_reply": "2021-02-19T01:41:33.820432Z"
    },
    "papermill": {
     "duration": 0.09246,
     "end_time": "2021-02-19T01:41:33.820621",
     "exception": false,
     "start_time": "2021-02-19T01:41:33.728161",
     "status": "completed"
    },
    "tags": [
     "hide_input"
    ]
   },
   "outputs": [
    {
     "data": {
      "text/html": [
       "\n",
       "<div id=\"altair-viz-5622a6fdf4ef456d8f15fcdee8e3de09\"></div>\n",
       "<script type=\"text/javascript\">\n",
       "  (function(spec, embedOpt){\n",
       "    let outputDiv = document.currentScript.previousElementSibling;\n",
       "    if (outputDiv.id !== \"altair-viz-5622a6fdf4ef456d8f15fcdee8e3de09\") {\n",
       "      outputDiv = document.getElementById(\"altair-viz-5622a6fdf4ef456d8f15fcdee8e3de09\");\n",
       "    }\n",
       "    const paths = {\n",
       "      \"vega\": \"https://cdn.jsdelivr.net/npm//vega@5?noext\",\n",
       "      \"vega-lib\": \"https://cdn.jsdelivr.net/npm//vega-lib?noext\",\n",
       "      \"vega-lite\": \"https://cdn.jsdelivr.net/npm//vega-lite@4.8.1?noext\",\n",
       "      \"vega-embed\": \"https://cdn.jsdelivr.net/npm//vega-embed@6?noext\",\n",
       "    };\n",
       "\n",
       "    function loadScript(lib) {\n",
       "      return new Promise(function(resolve, reject) {\n",
       "        var s = document.createElement('script');\n",
       "        s.src = paths[lib];\n",
       "        s.async = true;\n",
       "        s.onload = () => resolve(paths[lib]);\n",
       "        s.onerror = () => reject(`Error loading script: ${paths[lib]}`);\n",
       "        document.getElementsByTagName(\"head\")[0].appendChild(s);\n",
       "      });\n",
       "    }\n",
       "\n",
       "    function showError(err) {\n",
       "      outputDiv.innerHTML = `<div class=\"error\" style=\"color:red;\">${err}</div>`;\n",
       "      throw err;\n",
       "    }\n",
       "\n",
       "    function displayChart(vegaEmbed) {\n",
       "      vegaEmbed(outputDiv, spec, embedOpt)\n",
       "        .catch(err => showError(`Javascript Error: ${err.message}<br>This usually means there's a typo in your chart specification. See the javascript console for the full traceback.`));\n",
       "    }\n",
       "\n",
       "    if(typeof define === \"function\" && define.amd) {\n",
       "      requirejs.config({paths});\n",
       "      require([\"vega-embed\"], displayChart, err => showError(`Error loading script: ${err.message}`));\n",
       "    } else if (typeof vegaEmbed === \"function\") {\n",
       "      displayChart(vegaEmbed);\n",
       "    } else {\n",
       "      loadScript(\"vega\")\n",
       "        .then(() => loadScript(\"vega-lite\"))\n",
       "        .then(() => loadScript(\"vega-embed\"))\n",
       "        .catch(showError)\n",
       "        .then(() => displayChart(vegaEmbed));\n",
       "    }\n",
       "  })({\"config\": {\"axisLeft\": {\"labelFontSize\": 15}, \"axisBottom\": {\"labelFontSize\": 15}}, \"data\": {\"name\": \"data-d60f7242aa6b3bd46497233ac2e68dab\"}, \"mark\": \"line\", \"encoding\": {\"color\": {\"type\": \"nominal\", \"field\": \"repo\"}, \"tooltip\": {\"type\": \"nominal\", \"field\": \"repo\"}, \"x\": {\"type\": \"temporal\", \"field\": \"closedAt\"}, \"y\": {\"type\": \"quantitative\", \"field\": \"count\"}}, \"width\": 600, \"$schema\": \"https://vega.github.io/schema/vega-lite/v4.8.1.json\", \"datasets\": {\"data-d60f7242aa6b3bd46497233ac2e68dab\": [{\"repo\": \"MyST-Parser\", \"closedAt\": \"2021-01-03T00:00:00\", \"count\": 1}, {\"repo\": \"MyST-Parser\", \"closedAt\": \"2021-01-10T00:00:00\", \"count\": 0}, {\"repo\": \"MyST-Parser\", \"closedAt\": \"2021-01-17T00:00:00\", \"count\": 1}, {\"repo\": \"binder\", \"closedAt\": \"2021-01-31T00:00:00\", \"count\": 1}, {\"repo\": \"github-activity\", \"closedAt\": \"2021-01-17T00:00:00\", \"count\": 1}, {\"repo\": \"jupyter\", \"closedAt\": \"2021-01-17T00:00:00\", \"count\": 1}, {\"repo\": \"jupyter\", \"closedAt\": \"2021-01-24T00:00:00\", \"count\": 1}, {\"repo\": \"jupyter\", \"closedAt\": \"2021-01-31T00:00:00\", \"count\": 1}, {\"repo\": \"jupyter-book\", \"closedAt\": \"2020-12-27T00:00:00\", \"count\": 1}, {\"repo\": \"jupyter-book\", \"closedAt\": \"2021-01-03T00:00:00\", \"count\": 1}, {\"repo\": \"jupyter-book\", \"closedAt\": \"2021-01-10T00:00:00\", \"count\": 1}, {\"repo\": \"jupyter-book\", \"closedAt\": \"2021-01-17T00:00:00\", \"count\": 0}, {\"repo\": \"jupyter-book\", \"closedAt\": \"2021-01-24T00:00:00\", \"count\": 0}, {\"repo\": \"jupyter-book\", \"closedAt\": \"2021-01-31T00:00:00\", \"count\": 1}, {\"repo\": \"jupyter-book\", \"closedAt\": \"2021-02-07T00:00:00\", \"count\": 4}, {\"repo\": \"jupyter-book\", \"closedAt\": \"2021-02-14T00:00:00\", \"count\": 4}, {\"repo\": \"jupyter.github.io\", \"closedAt\": \"2021-02-07T00:00:00\", \"count\": 1}, {\"repo\": \"meta\", \"closedAt\": \"2020-12-27T00:00:00\", \"count\": 3}, {\"repo\": \"meta\", \"closedAt\": \"2021-01-03T00:00:00\", \"count\": 0}, {\"repo\": \"meta\", \"closedAt\": \"2021-01-10T00:00:00\", \"count\": 1}, {\"repo\": \"meta\", \"closedAt\": \"2021-01-17T00:00:00\", \"count\": 0}, {\"repo\": \"meta\", \"closedAt\": \"2021-01-24T00:00:00\", \"count\": 1}, {\"repo\": \"meta\", \"closedAt\": \"2021-01-31T00:00:00\", \"count\": 3}, {\"repo\": \"meta\", \"closedAt\": \"2021-02-07T00:00:00\", \"count\": 1}, {\"repo\": \"meta\", \"closedAt\": \"2021-02-14T00:00:00\", \"count\": 1}, {\"repo\": \"mybinder.org-deploy\", \"closedAt\": \"2021-01-10T00:00:00\", \"count\": 1}, {\"repo\": \"mybinder.org-deploy\", \"closedAt\": \"2021-01-17T00:00:00\", \"count\": 0}, {\"repo\": \"mybinder.org-deploy\", \"closedAt\": \"2021-01-24T00:00:00\", \"count\": 0}, {\"repo\": \"mybinder.org-deploy\", \"closedAt\": \"2021-01-31T00:00:00\", \"count\": 1}, {\"repo\": \"repo2docker\", \"closedAt\": \"2021-01-24T00:00:00\", \"count\": 1}, {\"repo\": \"sphinx-book-theme\", \"closedAt\": \"2021-01-24T00:00:00\", \"count\": 1}, {\"repo\": \"sphinx-book-theme\", \"closedAt\": \"2021-01-31T00:00:00\", \"count\": 0}, {\"repo\": \"sphinx-book-theme\", \"closedAt\": \"2021-02-07T00:00:00\", \"count\": 0}, {\"repo\": \"sphinx-book-theme\", \"closedAt\": \"2021-02-14T00:00:00\", \"count\": 1}, {\"repo\": \"sphinx-copybutton\", \"closedAt\": \"2021-01-03T00:00:00\", \"count\": 1}, {\"repo\": \"thebe\", \"closedAt\": \"2020-12-27T00:00:00\", \"count\": 2}, {\"repo\": \"thebe\", \"closedAt\": \"2021-01-03T00:00:00\", \"count\": 0}, {\"repo\": \"thebe\", \"closedAt\": \"2021-01-10T00:00:00\", \"count\": 1}]}}, {\"mode\": \"vega-lite\"});\n",
       "</script>"
      ],
      "text/plain": [
       "alt.Chart(...)"
      ]
     },
     "execution_count": 15,
     "metadata": {},
     "output_type": "execute_result"
    }
   ],
   "source": [
    "closed_by_time = closed_by.groupby('repo').resample('W', on='closedAt').count()['author'].reset_index()\n",
    "closed_by_time = closed_by_time.rename(columns={'author': 'count'})\n",
    "\n",
    "alt.Chart(closed_by_time, width=600).mark_line().encode(\n",
    "    x='closedAt',\n",
    "    y='count',\n",
    "    color='repo',\n",
    "    tooltip=\"repo\"\n",
    ")"
   ]
  },
  {
   "cell_type": "markdown",
   "id": "aboriginal-handle",
   "metadata": {
    "papermill": {
     "duration": 0.018808,
     "end_time": "2021-02-19T01:41:33.858228",
     "exception": false,
     "start_time": "2021-02-19T01:41:33.839420",
     "status": "completed"
    },
    "tags": []
   },
   "source": [
    "## By type over time"
   ]
  },
  {
   "cell_type": "code",
   "execution_count": 16,
   "id": "legendary-trade",
   "metadata": {
    "execution": {
     "iopub.execute_input": "2021-02-19T01:41:33.900405Z",
     "iopub.status.busy": "2021-02-19T01:41:33.899816Z",
     "iopub.status.idle": "2021-02-19T01:41:33.923464Z",
     "shell.execute_reply": "2021-02-19T01:41:33.922900Z"
    },
    "papermill": {
     "duration": 0.045819,
     "end_time": "2021-02-19T01:41:33.923641",
     "exception": false,
     "start_time": "2021-02-19T01:41:33.877822",
     "status": "completed"
    },
    "tags": [
     "remove_cell"
    ]
   },
   "outputs": [],
   "source": [
    "prs_time = prs[['author', 'createdAt']].resample('W', on='createdAt').count()['author'].reset_index()\n",
    "prs_time = prs_time.rename(columns={'author': 'prs'})\n",
    "comments_time = comments[['author', 'createdAt']].resample('W', on='createdAt').count()['author'].reset_index()\n",
    "comments_time = comments_time.rename(columns={'author': 'comments'})\n",
    "\n",
    "total_time = pd.merge(prs_time, comments_time, on='createdAt', how='outer')\n",
    "total_time = total_time.melt(id_vars='createdAt', var_name=\"kind\", value_name=\"count\")\n"
   ]
  },
  {
   "cell_type": "code",
   "execution_count": 17,
   "id": "outstanding-myanmar",
   "metadata": {
    "execution": {
     "iopub.execute_input": "2021-02-19T01:41:33.980688Z",
     "iopub.status.busy": "2021-02-19T01:41:33.980055Z",
     "iopub.status.idle": "2021-02-19T01:41:33.991513Z",
     "shell.execute_reply": "2021-02-19T01:41:33.991021Z"
    },
    "papermill": {
     "duration": 0.046568,
     "end_time": "2021-02-19T01:41:33.991679",
     "exception": false,
     "start_time": "2021-02-19T01:41:33.945111",
     "status": "completed"
    },
    "tags": [
     "hide_input"
    ]
   },
   "outputs": [
    {
     "data": {
      "text/html": [
       "\n",
       "<div id=\"altair-viz-4f24b24cd20e436d99fb471dd6a17f37\"></div>\n",
       "<script type=\"text/javascript\">\n",
       "  (function(spec, embedOpt){\n",
       "    let outputDiv = document.currentScript.previousElementSibling;\n",
       "    if (outputDiv.id !== \"altair-viz-4f24b24cd20e436d99fb471dd6a17f37\") {\n",
       "      outputDiv = document.getElementById(\"altair-viz-4f24b24cd20e436d99fb471dd6a17f37\");\n",
       "    }\n",
       "    const paths = {\n",
       "      \"vega\": \"https://cdn.jsdelivr.net/npm//vega@5?noext\",\n",
       "      \"vega-lib\": \"https://cdn.jsdelivr.net/npm//vega-lib?noext\",\n",
       "      \"vega-lite\": \"https://cdn.jsdelivr.net/npm//vega-lite@4.8.1?noext\",\n",
       "      \"vega-embed\": \"https://cdn.jsdelivr.net/npm//vega-embed@6?noext\",\n",
       "    };\n",
       "\n",
       "    function loadScript(lib) {\n",
       "      return new Promise(function(resolve, reject) {\n",
       "        var s = document.createElement('script');\n",
       "        s.src = paths[lib];\n",
       "        s.async = true;\n",
       "        s.onload = () => resolve(paths[lib]);\n",
       "        s.onerror = () => reject(`Error loading script: ${paths[lib]}`);\n",
       "        document.getElementsByTagName(\"head\")[0].appendChild(s);\n",
       "      });\n",
       "    }\n",
       "\n",
       "    function showError(err) {\n",
       "      outputDiv.innerHTML = `<div class=\"error\" style=\"color:red;\">${err}</div>`;\n",
       "      throw err;\n",
       "    }\n",
       "\n",
       "    function displayChart(vegaEmbed) {\n",
       "      vegaEmbed(outputDiv, spec, embedOpt)\n",
       "        .catch(err => showError(`Javascript Error: ${err.message}<br>This usually means there's a typo in your chart specification. See the javascript console for the full traceback.`));\n",
       "    }\n",
       "\n",
       "    if(typeof define === \"function\" && define.amd) {\n",
       "      requirejs.config({paths});\n",
       "      require([\"vega-embed\"], displayChart, err => showError(`Error loading script: ${err.message}`));\n",
       "    } else if (typeof vegaEmbed === \"function\") {\n",
       "      displayChart(vegaEmbed);\n",
       "    } else {\n",
       "      loadScript(\"vega\")\n",
       "        .then(() => loadScript(\"vega-lite\"))\n",
       "        .then(() => loadScript(\"vega-embed\"))\n",
       "        .catch(showError)\n",
       "        .then(() => displayChart(vegaEmbed));\n",
       "    }\n",
       "  })({\"config\": {\"axisLeft\": {\"labelFontSize\": 15}, \"axisBottom\": {\"labelFontSize\": 15}}, \"data\": {\"name\": \"data-a82c7b6c51358e6ab119d662b7950d1b\"}, \"mark\": \"line\", \"encoding\": {\"color\": {\"type\": \"nominal\", \"field\": \"kind\"}, \"x\": {\"type\": \"temporal\", \"field\": \"createdAt\"}, \"y\": {\"type\": \"quantitative\", \"field\": \"count\"}}, \"width\": 600, \"$schema\": \"https://vega.github.io/schema/vega-lite/v4.8.1.json\", \"datasets\": {\"data-a82c7b6c51358e6ab119d662b7950d1b\": [{\"createdAt\": \"2020-12-27T00:00:00\", \"kind\": \"prs\", \"count\": 1.0}, {\"createdAt\": \"2021-01-03T00:00:00\", \"kind\": \"prs\", \"count\": 0.0}, {\"createdAt\": \"2021-01-10T00:00:00\", \"kind\": \"prs\", \"count\": 0.0}, {\"createdAt\": \"2021-01-17T00:00:00\", \"kind\": \"prs\", \"count\": 0.0}, {\"createdAt\": \"2021-01-24T00:00:00\", \"kind\": \"prs\", \"count\": 4.0}, {\"createdAt\": \"2021-01-31T00:00:00\", \"kind\": \"prs\", \"count\": 0.0}, {\"createdAt\": \"2021-02-07T00:00:00\", \"kind\": \"prs\", \"count\": 1.0}, {\"createdAt\": \"2021-02-14T00:00:00\", \"kind\": \"prs\", \"count\": 4.0}, {\"createdAt\": \"2021-02-21T00:00:00\", \"kind\": \"prs\", \"count\": null}, {\"createdAt\": \"2020-12-27T00:00:00\", \"kind\": \"comments\", \"count\": 16.0}, {\"createdAt\": \"2021-01-03T00:00:00\", \"kind\": \"comments\", \"count\": 16.0}, {\"createdAt\": \"2021-01-10T00:00:00\", \"kind\": \"comments\", \"count\": 22.0}, {\"createdAt\": \"2021-01-17T00:00:00\", \"kind\": \"comments\", \"count\": 23.0}, {\"createdAt\": \"2021-01-24T00:00:00\", \"kind\": \"comments\", \"count\": 29.0}, {\"createdAt\": \"2021-01-31T00:00:00\", \"kind\": \"comments\", \"count\": 16.0}, {\"createdAt\": \"2021-02-07T00:00:00\", \"kind\": \"comments\", \"count\": 26.0}, {\"createdAt\": \"2021-02-14T00:00:00\", \"kind\": \"comments\", \"count\": 31.0}, {\"createdAt\": \"2021-02-21T00:00:00\", \"kind\": \"comments\", \"count\": 11.0}]}}, {\"mode\": \"vega-lite\"});\n",
       "</script>"
      ],
      "text/plain": [
       "alt.Chart(...)"
      ]
     },
     "execution_count": 17,
     "metadata": {},
     "output_type": "execute_result"
    }
   ],
   "source": [
    "alt.Chart(total_time, width=600).mark_line().encode(\n",
    "    x='createdAt',\n",
    "    y='count',\n",
    "    color='kind'\n",
    ")"
   ]
  }
 ],
 "metadata": {
  "kernelspec": {
   "display_name": "Python 3",
   "language": "python",
   "name": "python3"
  },
  "language_info": {
   "codemirror_mode": {
    "name": "ipython",
    "version": 3
   },
   "file_extension": ".py",
   "mimetype": "text/x-python",
   "name": "python",
   "nbconvert_exporter": "python",
   "pygments_lexer": "ipython3",
   "version": "3.7.9"
  },
  "papermill": {
   "default_parameters": {},
   "duration": 3.74078,
   "end_time": "2021-02-19T01:41:34.425263",
   "environment_variables": {},
   "exception": null,
   "input_path": "./person.ipynb",
   "output_path": "people/choldgraf.ipynb",
   "parameters": {
    "n_days": 60,
    "person": "choldgraf"
   },
   "start_time": "2021-02-19T01:41:30.684483",
   "version": "2.3.2"
  },
  "widgets": {
   "application/vnd.jupyter.widget-state+json": {
    "state": {},
    "version_major": 2,
    "version_minor": 0
   }
  }
 },
 "nbformat": 4,
 "nbformat_minor": 5
}