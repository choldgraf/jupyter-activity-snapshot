{
 "cells": [
  {
   "cell_type": "markdown",
   "metadata": {
    "papermill": {
     "duration": 0.027714,
     "end_time": "2020-08-09T15:25:13.137244",
     "exception": false,
     "start_time": "2020-08-09T15:25:13.109530",
     "status": "completed"
    },
    "tags": []
   },
   "source": [
    "# Report for choldgraf"
   ]
  },
  {
   "cell_type": "code",
   "execution_count": 1,
   "metadata": {
    "execution": {
     "iopub.execute_input": "2020-08-09T15:25:13.170305Z",
     "iopub.status.busy": "2020-08-09T15:25:13.169771Z",
     "iopub.status.idle": "2020-08-09T15:25:14.066952Z",
     "shell.execute_reply": "2020-08-09T15:25:14.066394Z"
    },
    "papermill": {
     "duration": 0.916277,
     "end_time": "2020-08-09T15:25:14.067110",
     "exception": false,
     "start_time": "2020-08-09T15:25:13.150833",
     "status": "completed"
    },
    "tags": [
     "remove_cell"
    ]
   },
   "outputs": [],
   "source": [
    "import seaborn as sns\n",
    "import pandas as pd\n",
    "import numpy as np\n",
    "import altair as alt\n",
    "from markdown import markdown\n",
    "from IPython.display import Markdown\n",
    "from ipywidgets.widgets import HTML, Tab\n",
    "from ipywidgets import widgets\n",
    "from datetime import timedelta\n",
    "from matplotlib import pyplot as plt\n",
    "import os.path as op\n",
    "\n",
    "from mycode import alt_theme\n",
    "from warnings import simplefilter\n",
    "simplefilter('ignore')"
   ]
  },
  {
   "cell_type": "code",
   "execution_count": 2,
   "metadata": {
    "execution": {
     "iopub.execute_input": "2020-08-09T15:25:14.099698Z",
     "iopub.status.busy": "2020-08-09T15:25:14.098543Z",
     "iopub.status.idle": "2020-08-09T15:25:14.103735Z",
     "shell.execute_reply": "2020-08-09T15:25:14.104167Z"
    },
    "papermill": {
     "duration": 0.022796,
     "end_time": "2020-08-09T15:25:14.104325",
     "exception": false,
     "start_time": "2020-08-09T15:25:14.081529",
     "status": "completed"
    },
    "tags": [
     "remove_cell"
    ]
   },
   "outputs": [],
   "source": [
    "def author_url(author):\n",
    "    return f\"https://github.com/{author}\""
   ]
  },
  {
   "cell_type": "code",
   "execution_count": 3,
   "metadata": {
    "execution": {
     "iopub.execute_input": "2020-08-09T15:25:14.134355Z",
     "iopub.status.busy": "2020-08-09T15:25:14.133812Z",
     "iopub.status.idle": "2020-08-09T15:25:14.135377Z",
     "shell.execute_reply": "2020-08-09T15:25:14.135885Z"
    },
    "papermill": {
     "duration": 0.019206,
     "end_time": "2020-08-09T15:25:14.136023",
     "exception": false,
     "start_time": "2020-08-09T15:25:14.116817",
     "status": "completed"
    },
    "tags": [
     "parameters",
     "hide_input"
    ]
   },
   "outputs": [],
   "source": [
    "# Parameters\n",
    "fmt_date = \"{:%Y-%m-%d}\"\n",
    "\n",
    "n_days = 30 * 2\n",
    "start_date = fmt_date.format(pd.datetime.today() - timedelta(days=n_days))\n",
    "end_date = fmt_date.format(pd.datetime.today())\n",
    "\n",
    "renderer = \"html\"\n",
    "person = \"jasongrout\""
   ]
  },
  {
   "cell_type": "code",
   "execution_count": 4,
   "metadata": {
    "execution": {
     "iopub.execute_input": "2020-08-09T15:25:14.165519Z",
     "iopub.status.busy": "2020-08-09T15:25:14.164836Z",
     "iopub.status.idle": "2020-08-09T15:25:14.166302Z",
     "shell.execute_reply": "2020-08-09T15:25:14.166968Z"
    },
    "papermill": {
     "duration": 0.018037,
     "end_time": "2020-08-09T15:25:14.167139",
     "exception": false,
     "start_time": "2020-08-09T15:25:14.149102",
     "status": "completed"
    },
    "tags": [
     "injected-parameters",
     "remove-cell"
    ]
   },
   "outputs": [],
   "source": [
    "# Parameters\n",
    "person = \"choldgraf\"\n",
    "n_days = 60\n"
   ]
  },
  {
   "cell_type": "code",
   "execution_count": 5,
   "metadata": {
    "execution": {
     "iopub.execute_input": "2020-08-09T15:25:14.200486Z",
     "iopub.status.busy": "2020-08-09T15:25:14.199966Z",
     "iopub.status.idle": "2020-08-09T15:25:14.202185Z",
     "shell.execute_reply": "2020-08-09T15:25:14.203027Z"
    },
    "papermill": {
     "duration": 0.021231,
     "end_time": "2020-08-09T15:25:14.203290",
     "exception": false,
     "start_time": "2020-08-09T15:25:14.182059",
     "status": "completed"
    },
    "tags": [
     "remove_cell"
    ]
   },
   "outputs": [
    {
     "data": {
      "text/plain": [
       "ThemeRegistry.enable('my_theme')"
      ]
     },
     "execution_count": 5,
     "metadata": {},
     "output_type": "execute_result"
    }
   ],
   "source": [
    "alt.renderers.enable(renderer);\n",
    "alt.themes.register('my_theme', alt_theme)\n",
    "alt.themes.enable(\"my_theme\")"
   ]
  },
  {
   "cell_type": "markdown",
   "metadata": {
    "papermill": {
     "duration": 0.012708,
     "end_time": "2020-08-09T15:25:14.231028",
     "exception": false,
     "start_time": "2020-08-09T15:25:14.218320",
     "status": "completed"
    },
    "tags": []
   },
   "source": [
    "## Load data"
   ]
  },
  {
   "cell_type": "code",
   "execution_count": 6,
   "metadata": {
    "execution": {
     "iopub.execute_input": "2020-08-09T15:25:14.263171Z",
     "iopub.status.busy": "2020-08-09T15:25:14.262660Z",
     "iopub.status.idle": "2020-08-09T15:25:14.430674Z",
     "shell.execute_reply": "2020-08-09T15:25:14.429794Z"
    },
    "papermill": {
     "duration": 0.186419,
     "end_time": "2020-08-09T15:25:14.430878",
     "exception": false,
     "start_time": "2020-08-09T15:25:14.244459",
     "status": "completed"
    },
    "tags": [
     "remove_cell"
    ]
   },
   "outputs": [],
   "source": [
    "from pathlib import Path\n",
    "path_data = Path(\"./\")\n",
    "comments = pd.read_csv(path_data.joinpath('comments.csv'), index_col=0)\n",
    "issues = pd.read_csv(path_data.joinpath('issues.csv'), index_col=0)\n",
    "prs = pd.read_csv(path_data.joinpath('prs.csv'), index_col=0)\n",
    "\n",
    "comments = comments.query('author == @person').drop_duplicates()\n",
    "issues = issues.query('author == @person').drop_duplicates()\n",
    "closed_by = prs.query('mergedBy == @person')\n",
    "prs = prs.query('author == @person').drop_duplicates()"
   ]
  },
  {
   "cell_type": "code",
   "execution_count": 7,
   "metadata": {
    "execution": {
     "iopub.execute_input": "2020-08-09T15:25:14.469818Z",
     "iopub.status.busy": "2020-08-09T15:25:14.467131Z",
     "iopub.status.idle": "2020-08-09T15:25:14.512212Z",
     "shell.execute_reply": "2020-08-09T15:25:14.512627Z"
    },
    "papermill": {
     "duration": 0.067386,
     "end_time": "2020-08-09T15:25:14.512805",
     "exception": false,
     "start_time": "2020-08-09T15:25:14.445419",
     "status": "completed"
    },
    "tags": [
     "remove_cell"
    ]
   },
   "outputs": [],
   "source": [
    "# Time columns\n",
    "# Also drop dates outside of our range\n",
    "time_columns = ['updatedAt', 'createdAt', 'closedAt']\n",
    "for col in time_columns:\n",
    "    for item in [comments, issues, prs, closed_by]:\n",
    "        if col not in item.columns:\n",
    "            continue\n",
    "        dt = pd.to_datetime(item[col]).dt.tz_localize(None)\n",
    "        item[col] = dt\n",
    "        item.query(\"updatedAt < @end_date and updatedAt > @start_date\", inplace=True)"
   ]
  },
  {
   "cell_type": "markdown",
   "metadata": {
    "papermill": {
     "duration": 0.013014,
     "end_time": "2020-08-09T15:25:14.538525",
     "exception": false,
     "start_time": "2020-08-09T15:25:14.525511",
     "status": "completed"
    },
    "tags": []
   },
   "source": [
    "# Repository summaries"
   ]
  },
  {
   "cell_type": "code",
   "execution_count": 8,
   "metadata": {
    "execution": {
     "iopub.execute_input": "2020-08-09T15:25:14.570582Z",
     "iopub.status.busy": "2020-08-09T15:25:14.570053Z",
     "iopub.status.idle": "2020-08-09T15:25:14.589266Z",
     "shell.execute_reply": "2020-08-09T15:25:14.588726Z"
    },
    "papermill": {
     "duration": 0.036571,
     "end_time": "2020-08-09T15:25:14.589382",
     "exception": false,
     "start_time": "2020-08-09T15:25:14.552811",
     "status": "completed"
    },
    "tags": [
     "remove_cell"
    ]
   },
   "outputs": [],
   "source": [
    "summaries = []\n",
    "for idata, name in [(issues, 'issues'), (prs, 'prs'), (comments, 'comments')]:\n",
    "    idata = idata.groupby([\"repo\", \"org\"]).agg({'id': \"count\"}).reset_index().rename(columns={'id': 'count'})\n",
    "    idata[\"kind\"] = name\n",
    "    summaries.append(idata)\n",
    "summaries = pd.concat(summaries)"
   ]
  },
  {
   "cell_type": "code",
   "execution_count": 9,
   "metadata": {
    "execution": {
     "iopub.execute_input": "2020-08-09T15:25:14.620154Z",
     "iopub.status.busy": "2020-08-09T15:25:14.619602Z",
     "iopub.status.idle": "2020-08-09T15:25:14.629842Z",
     "shell.execute_reply": "2020-08-09T15:25:14.628975Z"
    },
    "papermill": {
     "duration": 0.028075,
     "end_time": "2020-08-09T15:25:14.630033",
     "exception": false,
     "start_time": "2020-08-09T15:25:14.601958",
     "status": "completed"
    },
    "tags": [
     "remove_cell"
    ]
   },
   "outputs": [],
   "source": [
    "repo_summaries = summaries.groupby([\"repo\", \"kind\"]).agg({\"count\": \"sum\"}).reset_index()\n",
    "org_summaries = summaries.groupby([\"org\", \"kind\"]).agg({\"count\": \"sum\"}).reset_index()"
   ]
  },
  {
   "cell_type": "code",
   "execution_count": 10,
   "metadata": {
    "execution": {
     "iopub.execute_input": "2020-08-09T15:25:14.664580Z",
     "iopub.status.busy": "2020-08-09T15:25:14.664035Z",
     "iopub.status.idle": "2020-08-09T15:25:14.665663Z",
     "shell.execute_reply": "2020-08-09T15:25:14.666162Z"
    },
    "papermill": {
     "duration": 0.019865,
     "end_time": "2020-08-09T15:25:14.666291",
     "exception": false,
     "start_time": "2020-08-09T15:25:14.646426",
     "status": "completed"
    },
    "tags": [
     "remove_cell"
    ]
   },
   "outputs": [],
   "source": [
    "repo_summaries['logcount'] = np.log(repo_summaries[\"count\"])"
   ]
  },
  {
   "cell_type": "code",
   "execution_count": 11,
   "metadata": {
    "execution": {
     "iopub.execute_input": "2020-08-09T15:25:14.698045Z",
     "iopub.status.busy": "2020-08-09T15:25:14.697523Z",
     "iopub.status.idle": "2020-08-09T15:25:14.751051Z",
     "shell.execute_reply": "2020-08-09T15:25:14.752059Z"
    },
    "papermill": {
     "duration": 0.071277,
     "end_time": "2020-08-09T15:25:14.752302",
     "exception": false,
     "start_time": "2020-08-09T15:25:14.681025",
     "status": "completed"
    },
    "tags": [
     "hide_input"
    ]
   },
   "outputs": [
    {
     "data": {
      "text/html": [
       "\n",
       "<div id=\"altair-viz-d8c95eb384c647899cc248fbce59fb53\"></div>\n",
       "<script type=\"text/javascript\">\n",
       "  (function(spec, embedOpt){\n",
       "    let outputDiv = document.currentScript.previousElementSibling;\n",
       "    if (outputDiv.id !== \"altair-viz-d8c95eb384c647899cc248fbce59fb53\") {\n",
       "      outputDiv = document.getElementById(\"altair-viz-d8c95eb384c647899cc248fbce59fb53\");\n",
       "    }\n",
       "    const paths = {\n",
       "      \"vega\": \"https://cdn.jsdelivr.net/npm//vega@5?noext\",\n",
       "      \"vega-lib\": \"https://cdn.jsdelivr.net/npm//vega-lib?noext\",\n",
       "      \"vega-lite\": \"https://cdn.jsdelivr.net/npm//vega-lite@4.8.1?noext\",\n",
       "      \"vega-embed\": \"https://cdn.jsdelivr.net/npm//vega-embed@6?noext\",\n",
       "    };\n",
       "\n",
       "    function loadScript(lib) {\n",
       "      return new Promise(function(resolve, reject) {\n",
       "        var s = document.createElement('script');\n",
       "        s.src = paths[lib];\n",
       "        s.async = true;\n",
       "        s.onload = () => resolve(paths[lib]);\n",
       "        s.onerror = () => reject(`Error loading script: ${paths[lib]}`);\n",
       "        document.getElementsByTagName(\"head\")[0].appendChild(s);\n",
       "      });\n",
       "    }\n",
       "\n",
       "    function showError(err) {\n",
       "      outputDiv.innerHTML = `<div class=\"error\" style=\"color:red;\">${err}</div>`;\n",
       "      throw err;\n",
       "    }\n",
       "\n",
       "    function displayChart(vegaEmbed) {\n",
       "      vegaEmbed(outputDiv, spec, embedOpt)\n",
       "        .catch(err => showError(`Javascript Error: ${err.message}<br>This usually means there's a typo in your chart specification. See the javascript console for the full traceback.`));\n",
       "    }\n",
       "\n",
       "    if(typeof define === \"function\" && define.amd) {\n",
       "      requirejs.config({paths});\n",
       "      require([\"vega-embed\"], displayChart, err => showError(`Error loading script: ${err.message}`));\n",
       "    } else if (typeof vegaEmbed === \"function\") {\n",
       "      displayChart(vegaEmbed);\n",
       "    } else {\n",
       "      loadScript(\"vega\")\n",
       "        .then(() => loadScript(\"vega-lite\"))\n",
       "        .then(() => loadScript(\"vega-embed\"))\n",
       "        .catch(showError)\n",
       "        .then(() => displayChart(vegaEmbed));\n",
       "    }\n",
       "  })({\"config\": {\"axisLeft\": {\"labelFontSize\": 15}, \"axisBottom\": {\"labelFontSize\": 15}}, \"hconcat\": [{\"mark\": \"bar\", \"encoding\": {\"color\": {\"type\": \"nominal\", \"field\": \"kind\"}, \"tooltip\": {\"type\": \"nominal\", \"field\": \"kind\"}, \"x\": {\"type\": \"nominal\", \"field\": \"repo\"}, \"y\": {\"type\": \"quantitative\", \"field\": \"count\"}}, \"title\": \"Activity per repository\", \"width\": 600}, {\"mark\": \"bar\", \"encoding\": {\"color\": {\"type\": \"nominal\", \"field\": \"kind\"}, \"tooltip\": {\"type\": \"nominal\", \"field\": \"kind\"}, \"x\": {\"type\": \"nominal\", \"field\": \"repo\"}, \"y\": {\"type\": \"quantitative\", \"field\": \"logcount\"}}, \"title\": \"Log activity per repository\", \"width\": 600}], \"data\": {\"name\": \"data-c758ef20dd784647135d2d96845f144f\"}, \"$schema\": \"https://vega.github.io/schema/vega-lite/v4.8.1.json\", \"datasets\": {\"data-c758ef20dd784647135d2d96845f144f\": [{\"repo\": \".github\", \"kind\": \"comments\", \"count\": 7, \"logcount\": 1.9459101490553132}, {\"repo\": \".github\", \"kind\": \"prs\", \"count\": 2, \"logcount\": 0.6931471805599453}, {\"repo\": \"MyST-NB\", \"kind\": \"comments\", \"count\": 37, \"logcount\": 3.6109179126442243}, {\"repo\": \"MyST-NB\", \"kind\": \"issues\", \"count\": 5, \"logcount\": 1.6094379124341003}, {\"repo\": \"MyST-NB\", \"kind\": \"prs\", \"count\": 9, \"logcount\": 2.1972245773362196}, {\"repo\": \"MyST-Parser\", \"kind\": \"comments\", \"count\": 46, \"logcount\": 3.828641396489095}, {\"repo\": \"MyST-Parser\", \"kind\": \"issues\", \"count\": 2, \"logcount\": 0.6931471805599453}, {\"repo\": \"MyST-Parser\", \"kind\": \"prs\", \"count\": 6, \"logcount\": 1.791759469228055}, {\"repo\": \"accessibility\", \"kind\": \"comments\", \"count\": 2, \"logcount\": 0.6931471805599453}, {\"repo\": \"accessibility\", \"kind\": \"issues\", \"count\": 1, \"logcount\": 0.0}, {\"repo\": \"binder\", \"kind\": \"comments\", \"count\": 10, \"logcount\": 2.302585092994046}, {\"repo\": \"binder\", \"kind\": \"issues\", \"count\": 2, \"logcount\": 0.6931471805599453}, {\"repo\": \"binder\", \"kind\": \"prs\", \"count\": 1, \"logcount\": 0.0}, {\"repo\": \"binder-data\", \"kind\": \"prs\", \"count\": 1, \"logcount\": 0.0}, {\"repo\": \"dockerspawner\", \"kind\": \"comments\", \"count\": 3, \"logcount\": 1.0986122886681098}, {\"repo\": \"enhancement-proposals\", \"kind\": \"comments\", \"count\": 11, \"logcount\": 2.3978952727983707}, {\"repo\": \"enhancement-proposals\", \"kind\": \"prs\", \"count\": 3, \"logcount\": 1.0986122886681098}, {\"repo\": \"governance\", \"kind\": \"comments\", \"count\": 6, \"logcount\": 1.791759469228055}, {\"repo\": \"governance\", \"kind\": \"prs\", \"count\": 1, \"logcount\": 0.0}, {\"repo\": \"jupyter\", \"kind\": \"comments\", \"count\": 32, \"logcount\": 3.4657359027997265}, {\"repo\": \"jupyter\", \"kind\": \"issues\", \"count\": 1, \"logcount\": 0.0}, {\"repo\": \"jupyter\", \"kind\": \"prs\", \"count\": 3, \"logcount\": 1.0986122886681098}, {\"repo\": \"jupyter-book\", \"kind\": \"comments\", \"count\": 323, \"logcount\": 5.777652323222656}, {\"repo\": \"jupyter-book\", \"kind\": \"issues\", \"count\": 10, \"logcount\": 2.302585092994046}, {\"repo\": \"jupyter-book\", \"kind\": \"prs\", \"count\": 21, \"logcount\": 3.044522437723423}, {\"repo\": \"jupyter-cache\", \"kind\": \"comments\", \"count\": 4, \"logcount\": 1.3862943611198906}, {\"repo\": \"jupyter-cache\", \"kind\": \"issues\", \"count\": 1, \"logcount\": 0.0}, {\"repo\": \"jupyter-sphinx\", \"kind\": \"comments\", \"count\": 3, \"logcount\": 1.0986122886681098}, {\"repo\": \"jupyter-sphinx\", \"kind\": \"issues\", \"count\": 1, \"logcount\": 0.0}, {\"repo\": \"jupyter-sphinx\", \"kind\": \"prs\", \"count\": 1, \"logcount\": 0.0}, {\"repo\": \"jupyter.github.io\", \"kind\": \"comments\", \"count\": 9, \"logcount\": 2.1972245773362196}, {\"repo\": \"jupyterhub\", \"kind\": \"comments\", \"count\": 6, \"logcount\": 1.791759469228055}, {\"repo\": \"jupyterhub\", \"kind\": \"issues\", \"count\": 2, \"logcount\": 0.6931471805599453}, {\"repo\": \"jupyterlab\", \"kind\": \"comments\", \"count\": 10, \"logcount\": 2.302585092994046}, {\"repo\": \"jupyterlab\", \"kind\": \"issues\", \"count\": 2, \"logcount\": 0.6931471805599453}, {\"repo\": \"jupyterlab\", \"kind\": \"prs\", \"count\": 1, \"logcount\": 0.0}, {\"repo\": \"jupyterlab-latex\", \"kind\": \"issues\", \"count\": 1, \"logcount\": 0.0}, {\"repo\": \"jupyterlab-module-federation\", \"kind\": \"comments\", \"count\": 2, \"logcount\": 0.6931471805599453}, {\"repo\": \"markdown-it-myst\", \"kind\": \"comments\", \"count\": 15, \"logcount\": 2.70805020110221}, {\"repo\": \"markdown-it-myst\", \"kind\": \"issues\", \"count\": 1, \"logcount\": 0.0}, {\"repo\": \"markdown-it-py\", \"kind\": \"comments\", \"count\": 3, \"logcount\": 1.0986122886681098}, {\"repo\": \"meta\", \"kind\": \"comments\", \"count\": 53, \"logcount\": 3.970291913552122}, {\"repo\": \"meta\", \"kind\": \"issues\", \"count\": 6, \"logcount\": 1.791759469228055}, {\"repo\": \"meta\", \"kind\": \"prs\", \"count\": 3, \"logcount\": 1.0986122886681098}, {\"repo\": \"mybinder.org-deploy\", \"kind\": \"comments\", \"count\": 22, \"logcount\": 3.091042453358316}, {\"repo\": \"mybinder.org-deploy\", \"kind\": \"issues\", \"count\": 3, \"logcount\": 1.0986122886681098}, {\"repo\": \"mybinder.org-deploy\", \"kind\": \"prs\", \"count\": 1, \"logcount\": 0.0}, {\"repo\": \"myst-language-support\", \"kind\": \"issues\", \"count\": 1, \"logcount\": 0.0}, {\"repo\": \"nb2kg\", \"kind\": \"issues\", \"count\": 1, \"logcount\": 0.0}, {\"repo\": \"nbclient\", \"kind\": \"comments\", \"count\": 9, \"logcount\": 2.1972245773362196}, {\"repo\": \"nbclient\", \"kind\": \"issues\", \"count\": 1, \"logcount\": 0.0}, {\"repo\": \"nbconvert\", \"kind\": \"comments\", \"count\": 2, \"logcount\": 0.6931471805599453}, {\"repo\": \"nbconvert\", \"kind\": \"issues\", \"count\": 1, \"logcount\": 0.0}, {\"repo\": \"nbgitpuller\", \"kind\": \"comments\", \"count\": 13, \"logcount\": 2.5649493574615367}, {\"repo\": \"nbgitpuller\", \"kind\": \"issues\", \"count\": 4, \"logcount\": 1.3862943611198906}, {\"repo\": \"nbgitpuller\", \"kind\": \"prs\", \"count\": 3, \"logcount\": 1.0986122886681098}, {\"repo\": \"nbgrader\", \"kind\": \"comments\", \"count\": 3, \"logcount\": 1.0986122886681098}, {\"repo\": \"quantecon-example\", \"kind\": \"comments\", \"count\": 1, \"logcount\": 0.0}, {\"repo\": \"quantecon-mini-example\", \"kind\": \"comments\", \"count\": 1, \"logcount\": 0.0}, {\"repo\": \"repo2docker\", \"kind\": \"comments\", \"count\": 9, \"logcount\": 2.1972245773362196}, {\"repo\": \"repo2docker\", \"kind\": \"issues\", \"count\": 2, \"logcount\": 0.6931471805599453}, {\"repo\": \"repo2docker-action\", \"kind\": \"comments\", \"count\": 11, \"logcount\": 2.3978952727983707}, {\"repo\": \"repo2docker-action\", \"kind\": \"issues\", \"count\": 1, \"logcount\": 0.0}, {\"repo\": \"rtc\", \"kind\": \"comments\", \"count\": 1, \"logcount\": 0.0}, {\"repo\": \"sphinx-book-theme\", \"kind\": \"comments\", \"count\": 73, \"logcount\": 4.290459441148391}, {\"repo\": \"sphinx-book-theme\", \"kind\": \"issues\", \"count\": 1, \"logcount\": 0.0}, {\"repo\": \"sphinx-book-theme\", \"kind\": \"prs\", \"count\": 15, \"logcount\": 2.70805020110221}, {\"repo\": \"sphinx-copybutton\", \"kind\": \"comments\", \"count\": 23, \"logcount\": 3.1354942159291497}, {\"repo\": \"sphinx-panels\", \"kind\": \"issues\", \"count\": 1, \"logcount\": 0.0}, {\"repo\": \"sphinx-thebe\", \"kind\": \"comments\", \"count\": 18, \"logcount\": 2.8903717578961645}, {\"repo\": \"sphinx-thebe\", \"kind\": \"issues\", \"count\": 1, \"logcount\": 0.0}, {\"repo\": \"sphinx-thebe\", \"kind\": \"prs\", \"count\": 5, \"logcount\": 1.6094379124341003}, {\"repo\": \"sphinx-togglebutton\", \"kind\": \"comments\", \"count\": 1, \"logcount\": 0.0}, {\"repo\": \"sphinx-togglebutton\", \"kind\": \"prs\", \"count\": 3, \"logcount\": 1.0986122886681098}, {\"repo\": \"team-compass\", \"kind\": \"comments\", \"count\": 56, \"logcount\": 4.02535169073515}, {\"repo\": \"team-compass\", \"kind\": \"issues\", \"count\": 7, \"logcount\": 1.9459101490553132}, {\"repo\": \"team-compass\", \"kind\": \"prs\", \"count\": 2, \"logcount\": 0.6931471805599453}, {\"repo\": \"thebe\", \"kind\": \"comments\", \"count\": 18, \"logcount\": 2.8903717578961645}, {\"repo\": \"thebe\", \"kind\": \"issues\", \"count\": 4, \"logcount\": 1.3862943611198906}, {\"repo\": \"thebe\", \"kind\": \"prs\", \"count\": 2, \"logcount\": 0.6931471805599453}, {\"repo\": \"zero-to-jupyterhub-k8s\", \"kind\": \"comments\", \"count\": 4, \"logcount\": 1.3862943611198906}, {\"repo\": \"zero-to-jupyterhub-k8s\", \"kind\": \"issues\", \"count\": 7, \"logcount\": 1.9459101490553132}, {\"repo\": \"zero-to-jupyterhub-k8s\", \"kind\": \"prs\", \"count\": 1, \"logcount\": 0.0}]}}, {\"mode\": \"vega-lite\"});\n",
       "</script>"
      ],
      "text/plain": [
       "alt.HConcatChart(...)"
      ]
     },
     "execution_count": 11,
     "metadata": {},
     "output_type": "execute_result"
    }
   ],
   "source": [
    "ch1 = alt.Chart(repo_summaries, width=600, title=\"Activity per repository\").mark_bar().encode(\n",
    "    x='repo',\n",
    "    y='count',\n",
    "    color='kind',\n",
    "    tooltip=\"kind\"\n",
    ")\n",
    "\n",
    "ch2 = alt.Chart(repo_summaries, width=600, title=\"Log activity per repository\").mark_bar().encode(\n",
    "    x='repo',\n",
    "    y='logcount',\n",
    "    color='kind',\n",
    "    tooltip=\"kind\"\n",
    ")\n",
    "\n",
    "ch1 | ch2"
   ]
  },
  {
   "cell_type": "code",
   "execution_count": 12,
   "metadata": {
    "execution": {
     "iopub.execute_input": "2020-08-09T15:25:14.806498Z",
     "iopub.status.busy": "2020-08-09T15:25:14.793195Z",
     "iopub.status.idle": "2020-08-09T15:25:14.808645Z",
     "shell.execute_reply": "2020-08-09T15:25:14.809216Z"
    },
    "papermill": {
     "duration": 0.042585,
     "end_time": "2020-08-09T15:25:14.809360",
     "exception": false,
     "start_time": "2020-08-09T15:25:14.766775",
     "status": "completed"
    },
    "tags": [
     "hide_input"
    ]
   },
   "outputs": [
    {
     "data": {
      "text/html": [
       "\n",
       "<div id=\"altair-viz-ee56d91943004349a5fa51136abc7831\"></div>\n",
       "<script type=\"text/javascript\">\n",
       "  (function(spec, embedOpt){\n",
       "    let outputDiv = document.currentScript.previousElementSibling;\n",
       "    if (outputDiv.id !== \"altair-viz-ee56d91943004349a5fa51136abc7831\") {\n",
       "      outputDiv = document.getElementById(\"altair-viz-ee56d91943004349a5fa51136abc7831\");\n",
       "    }\n",
       "    const paths = {\n",
       "      \"vega\": \"https://cdn.jsdelivr.net/npm//vega@5?noext\",\n",
       "      \"vega-lib\": \"https://cdn.jsdelivr.net/npm//vega-lib?noext\",\n",
       "      \"vega-lite\": \"https://cdn.jsdelivr.net/npm//vega-lite@4.8.1?noext\",\n",
       "      \"vega-embed\": \"https://cdn.jsdelivr.net/npm//vega-embed@6?noext\",\n",
       "    };\n",
       "\n",
       "    function loadScript(lib) {\n",
       "      return new Promise(function(resolve, reject) {\n",
       "        var s = document.createElement('script');\n",
       "        s.src = paths[lib];\n",
       "        s.async = true;\n",
       "        s.onload = () => resolve(paths[lib]);\n",
       "        s.onerror = () => reject(`Error loading script: ${paths[lib]}`);\n",
       "        document.getElementsByTagName(\"head\")[0].appendChild(s);\n",
       "      });\n",
       "    }\n",
       "\n",
       "    function showError(err) {\n",
       "      outputDiv.innerHTML = `<div class=\"error\" style=\"color:red;\">${err}</div>`;\n",
       "      throw err;\n",
       "    }\n",
       "\n",
       "    function displayChart(vegaEmbed) {\n",
       "      vegaEmbed(outputDiv, spec, embedOpt)\n",
       "        .catch(err => showError(`Javascript Error: ${err.message}<br>This usually means there's a typo in your chart specification. See the javascript console for the full traceback.`));\n",
       "    }\n",
       "\n",
       "    if(typeof define === \"function\" && define.amd) {\n",
       "      requirejs.config({paths});\n",
       "      require([\"vega-embed\"], displayChart, err => showError(`Error loading script: ${err.message}`));\n",
       "    } else if (typeof vegaEmbed === \"function\") {\n",
       "      displayChart(vegaEmbed);\n",
       "    } else {\n",
       "      loadScript(\"vega\")\n",
       "        .then(() => loadScript(\"vega-lite\"))\n",
       "        .then(() => loadScript(\"vega-embed\"))\n",
       "        .catch(showError)\n",
       "        .then(() => displayChart(vegaEmbed));\n",
       "    }\n",
       "  })({\"config\": {\"axisLeft\": {\"labelFontSize\": 15}, \"axisBottom\": {\"labelFontSize\": 15}}, \"data\": {\"name\": \"data-456533a4c3ac655d3d418c2a4de21a90\"}, \"mark\": \"bar\", \"encoding\": {\"color\": {\"type\": \"nominal\", \"field\": \"kind\"}, \"tooltip\": {\"type\": \"nominal\", \"field\": \"org\"}, \"x\": {\"type\": \"nominal\", \"field\": \"org\"}, \"y\": {\"type\": \"quantitative\", \"field\": \"count\"}}, \"width\": 600, \"$schema\": \"https://vega.github.io/schema/vega-lite/v4.8.1.json\", \"datasets\": {\"data-456533a4c3ac655d3d418c2a4de21a90\": [{\"org\": \"executablebooks\", \"kind\": \"comments\", \"count\": 620}, {\"org\": \"executablebooks\", \"kind\": \"issues\", \"count\": 33}, {\"org\": \"executablebooks\", \"kind\": \"prs\", \"count\": 65}, {\"org\": \"jupyter\", \"kind\": \"comments\", \"count\": 86}, {\"org\": \"jupyter\", \"kind\": \"issues\", \"count\": 8}, {\"org\": \"jupyter\", \"kind\": \"prs\", \"count\": 8}, {\"org\": \"jupyterhub\", \"kind\": \"comments\", \"count\": 120}, {\"org\": \"jupyterhub\", \"kind\": \"issues\", \"count\": 26}, {\"org\": \"jupyterhub\", \"kind\": \"prs\", \"count\": 10}, {\"org\": \"jupyterlab\", \"kind\": \"comments\", \"count\": 21}, {\"org\": \"jupyterlab\", \"kind\": \"issues\", \"count\": 3}, {\"org\": \"jupyterlab\", \"kind\": \"prs\", \"count\": 1}]}}, {\"mode\": \"vega-lite\"});\n",
       "</script>"
      ],
      "text/plain": [
       "alt.Chart(...)"
      ]
     },
     "execution_count": 12,
     "metadata": {},
     "output_type": "execute_result"
    }
   ],
   "source": [
    "alt.Chart(org_summaries, width=600).mark_bar().encode(\n",
    "    x='org',\n",
    "    y='count',\n",
    "    color='kind',\n",
    "    tooltip=\"org\"\n",
    ")"
   ]
  },
  {
   "cell_type": "markdown",
   "metadata": {
    "papermill": {
     "duration": 0.014455,
     "end_time": "2020-08-09T15:25:14.839580",
     "exception": false,
     "start_time": "2020-08-09T15:25:14.825125",
     "status": "completed"
    },
    "tags": []
   },
   "source": [
    "# By repository over time"
   ]
  },
  {
   "cell_type": "markdown",
   "metadata": {
    "papermill": {
     "duration": 0.0145,
     "end_time": "2020-08-09T15:25:14.868649",
     "exception": false,
     "start_time": "2020-08-09T15:25:14.854149",
     "status": "completed"
    },
    "tags": []
   },
   "source": [
    "## Comments"
   ]
  },
  {
   "cell_type": "code",
   "execution_count": 13,
   "metadata": {
    "execution": {
     "iopub.execute_input": "2020-08-09T15:25:14.904876Z",
     "iopub.status.busy": "2020-08-09T15:25:14.904330Z",
     "iopub.status.idle": "2020-08-09T15:25:15.037405Z",
     "shell.execute_reply": "2020-08-09T15:25:15.038308Z"
    },
    "papermill": {
     "duration": 0.155832,
     "end_time": "2020-08-09T15:25:15.038459",
     "exception": false,
     "start_time": "2020-08-09T15:25:14.882627",
     "status": "completed"
    },
    "tags": [
     "hide_input"
    ]
   },
   "outputs": [
    {
     "data": {
      "text/html": [
       "\n",
       "<div id=\"altair-viz-ffaaa9d4ff074029b2021895b2600962\"></div>\n",
       "<script type=\"text/javascript\">\n",
       "  (function(spec, embedOpt){\n",
       "    let outputDiv = document.currentScript.previousElementSibling;\n",
       "    if (outputDiv.id !== \"altair-viz-ffaaa9d4ff074029b2021895b2600962\") {\n",
       "      outputDiv = document.getElementById(\"altair-viz-ffaaa9d4ff074029b2021895b2600962\");\n",
       "    }\n",
       "    const paths = {\n",
       "      \"vega\": \"https://cdn.jsdelivr.net/npm//vega@5?noext\",\n",
       "      \"vega-lib\": \"https://cdn.jsdelivr.net/npm//vega-lib?noext\",\n",
       "      \"vega-lite\": \"https://cdn.jsdelivr.net/npm//vega-lite@4.8.1?noext\",\n",
       "      \"vega-embed\": \"https://cdn.jsdelivr.net/npm//vega-embed@6?noext\",\n",
       "    };\n",
       "\n",
       "    function loadScript(lib) {\n",
       "      return new Promise(function(resolve, reject) {\n",
       "        var s = document.createElement('script');\n",
       "        s.src = paths[lib];\n",
       "        s.async = true;\n",
       "        s.onload = () => resolve(paths[lib]);\n",
       "        s.onerror = () => reject(`Error loading script: ${paths[lib]}`);\n",
       "        document.getElementsByTagName(\"head\")[0].appendChild(s);\n",
       "      });\n",
       "    }\n",
       "\n",
       "    function showError(err) {\n",
       "      outputDiv.innerHTML = `<div class=\"error\" style=\"color:red;\">${err}</div>`;\n",
       "      throw err;\n",
       "    }\n",
       "\n",
       "    function displayChart(vegaEmbed) {\n",
       "      vegaEmbed(outputDiv, spec, embedOpt)\n",
       "        .catch(err => showError(`Javascript Error: ${err.message}<br>This usually means there's a typo in your chart specification. See the javascript console for the full traceback.`));\n",
       "    }\n",
       "\n",
       "    if(typeof define === \"function\" && define.amd) {\n",
       "      requirejs.config({paths});\n",
       "      require([\"vega-embed\"], displayChart, err => showError(`Error loading script: ${err.message}`));\n",
       "    } else if (typeof vegaEmbed === \"function\") {\n",
       "      displayChart(vegaEmbed);\n",
       "    } else {\n",
       "      loadScript(\"vega\")\n",
       "        .then(() => loadScript(\"vega-lite\"))\n",
       "        .then(() => loadScript(\"vega-embed\"))\n",
       "        .catch(showError)\n",
       "        .then(() => displayChart(vegaEmbed));\n",
       "    }\n",
       "  })({\"config\": {\"axisLeft\": {\"labelFontSize\": 15}, \"axisBottom\": {\"labelFontSize\": 15}}, \"layer\": [{\"data\": {\"name\": \"data-c99ba666e7ea3f62cc006742c60e9e8a\"}, \"mark\": \"line\", \"encoding\": {\"color\": {\"type\": \"nominal\", \"field\": \"repo\"}, \"tooltip\": {\"type\": \"nominal\", \"field\": \"repo\"}, \"x\": {\"type\": \"temporal\", \"field\": \"createdAt\"}, \"y\": {\"type\": \"quantitative\", \"field\": \"count\"}}, \"width\": 600}, {\"data\": {\"name\": \"data-6e408b4514ae556f23558a641bc55a8a\"}, \"mark\": {\"type\": \"line\", \"color\": \"black\"}, \"encoding\": {\"x\": {\"type\": \"temporal\", \"field\": \"createdAt\"}, \"y\": {\"type\": \"quantitative\", \"field\": \"count\"}}, \"width\": 600}], \"$schema\": \"https://vega.github.io/schema/vega-lite/v4.8.1.json\", \"datasets\": {\"data-c99ba666e7ea3f62cc006742c60e9e8a\": [{\"repo\": \".github\", \"createdAt\": \"2020-06-14T00:00:00\", \"count\": 1}, {\"repo\": \".github\", \"createdAt\": \"2020-06-21T00:00:00\", \"count\": 1}, {\"repo\": \".github\", \"createdAt\": \"2020-06-28T00:00:00\", \"count\": 0}, {\"repo\": \".github\", \"createdAt\": \"2020-07-05T00:00:00\", \"count\": 1}, {\"repo\": \".github\", \"createdAt\": \"2020-07-12T00:00:00\", \"count\": 0}, {\"repo\": \".github\", \"createdAt\": \"2020-07-19T00:00:00\", \"count\": 0}, {\"repo\": \".github\", \"createdAt\": \"2020-07-26T00:00:00\", \"count\": 0}, {\"repo\": \".github\", \"createdAt\": \"2020-08-02T00:00:00\", \"count\": 1}, {\"repo\": \".github\", \"createdAt\": \"2020-08-09T00:00:00\", \"count\": 3}, {\"repo\": \"MyST-NB\", \"createdAt\": \"2020-06-14T00:00:00\", \"count\": 4}, {\"repo\": \"MyST-NB\", \"createdAt\": \"2020-06-21T00:00:00\", \"count\": 8}, {\"repo\": \"MyST-NB\", \"createdAt\": \"2020-06-28T00:00:00\", \"count\": 0}, {\"repo\": \"MyST-NB\", \"createdAt\": \"2020-07-05T00:00:00\", \"count\": 4}, {\"repo\": \"MyST-NB\", \"createdAt\": \"2020-07-12T00:00:00\", \"count\": 5}, {\"repo\": \"MyST-NB\", \"createdAt\": \"2020-07-19T00:00:00\", \"count\": 5}, {\"repo\": \"MyST-NB\", \"createdAt\": \"2020-07-26T00:00:00\", \"count\": 1}, {\"repo\": \"MyST-NB\", \"createdAt\": \"2020-08-02T00:00:00\", \"count\": 3}, {\"repo\": \"MyST-NB\", \"createdAt\": \"2020-08-09T00:00:00\", \"count\": 7}, {\"repo\": \"MyST-Parser\", \"createdAt\": \"2020-06-14T00:00:00\", \"count\": 13}, {\"repo\": \"MyST-Parser\", \"createdAt\": \"2020-06-21T00:00:00\", \"count\": 3}, {\"repo\": \"MyST-Parser\", \"createdAt\": \"2020-06-28T00:00:00\", \"count\": 14}, {\"repo\": \"MyST-Parser\", \"createdAt\": \"2020-07-05T00:00:00\", \"count\": 0}, {\"repo\": \"MyST-Parser\", \"createdAt\": \"2020-07-12T00:00:00\", \"count\": 3}, {\"repo\": \"MyST-Parser\", \"createdAt\": \"2020-07-19T00:00:00\", \"count\": 8}, {\"repo\": \"MyST-Parser\", \"createdAt\": \"2020-07-26T00:00:00\", \"count\": 1}, {\"repo\": \"MyST-Parser\", \"createdAt\": \"2020-08-02T00:00:00\", \"count\": 0}, {\"repo\": \"MyST-Parser\", \"createdAt\": \"2020-08-09T00:00:00\", \"count\": 4}, {\"repo\": \"accessibility\", \"createdAt\": \"2020-08-02T00:00:00\", \"count\": 1}, {\"repo\": \"accessibility\", \"createdAt\": \"2020-08-09T00:00:00\", \"count\": 1}, {\"repo\": \"binder\", \"createdAt\": \"2020-06-21T00:00:00\", \"count\": 1}, {\"repo\": \"binder\", \"createdAt\": \"2020-06-28T00:00:00\", \"count\": 0}, {\"repo\": \"binder\", \"createdAt\": \"2020-07-05T00:00:00\", \"count\": 0}, {\"repo\": \"binder\", \"createdAt\": \"2020-07-12T00:00:00\", \"count\": 0}, {\"repo\": \"binder\", \"createdAt\": \"2020-07-19T00:00:00\", \"count\": 5}, {\"repo\": \"binder\", \"createdAt\": \"2020-07-26T00:00:00\", \"count\": 1}, {\"repo\": \"binder\", \"createdAt\": \"2020-08-02T00:00:00\", \"count\": 0}, {\"repo\": \"binder\", \"createdAt\": \"2020-08-09T00:00:00\", \"count\": 3}, {\"repo\": \"dockerspawner\", \"createdAt\": \"2020-06-21T00:00:00\", \"count\": 1}, {\"repo\": \"dockerspawner\", \"createdAt\": \"2020-06-28T00:00:00\", \"count\": 2}, {\"repo\": \"enhancement-proposals\", \"createdAt\": \"2020-06-14T00:00:00\", \"count\": 2}, {\"repo\": \"enhancement-proposals\", \"createdAt\": \"2020-06-21T00:00:00\", \"count\": 8}, {\"repo\": \"enhancement-proposals\", \"createdAt\": \"2020-06-28T00:00:00\", \"count\": 1}, {\"repo\": \"governance\", \"createdAt\": \"2020-06-28T00:00:00\", \"count\": 3}, {\"repo\": \"governance\", \"createdAt\": \"2020-07-05T00:00:00\", \"count\": 1}, {\"repo\": \"governance\", \"createdAt\": \"2020-07-12T00:00:00\", \"count\": 0}, {\"repo\": \"governance\", \"createdAt\": \"2020-07-19T00:00:00\", \"count\": 1}, {\"repo\": \"governance\", \"createdAt\": \"2020-07-26T00:00:00\", \"count\": 0}, {\"repo\": \"governance\", \"createdAt\": \"2020-08-02T00:00:00\", \"count\": 0}, {\"repo\": \"governance\", \"createdAt\": \"2020-08-09T00:00:00\", \"count\": 1}, {\"repo\": \"jupyter\", \"createdAt\": \"2020-06-14T00:00:00\", \"count\": 1}, {\"repo\": \"jupyter\", \"createdAt\": \"2020-06-21T00:00:00\", \"count\": 4}, {\"repo\": \"jupyter\", \"createdAt\": \"2020-06-28T00:00:00\", \"count\": 3}, {\"repo\": \"jupyter\", \"createdAt\": \"2020-07-05T00:00:00\", \"count\": 11}, {\"repo\": \"jupyter\", \"createdAt\": \"2020-07-12T00:00:00\", \"count\": 6}, {\"repo\": \"jupyter\", \"createdAt\": \"2020-07-19T00:00:00\", \"count\": 6}, {\"repo\": \"jupyter\", \"createdAt\": \"2020-07-26T00:00:00\", \"count\": 1}, {\"repo\": \"jupyter-book\", \"createdAt\": \"2020-06-14T00:00:00\", \"count\": 22}, {\"repo\": \"jupyter-book\", \"createdAt\": \"2020-06-21T00:00:00\", \"count\": 15}, {\"repo\": \"jupyter-book\", \"createdAt\": \"2020-06-28T00:00:00\", \"count\": 22}, {\"repo\": \"jupyter-book\", \"createdAt\": \"2020-07-05T00:00:00\", \"count\": 26}, {\"repo\": \"jupyter-book\", \"createdAt\": \"2020-07-12T00:00:00\", \"count\": 36}, {\"repo\": \"jupyter-book\", \"createdAt\": \"2020-07-19T00:00:00\", \"count\": 44}, {\"repo\": \"jupyter-book\", \"createdAt\": \"2020-07-26T00:00:00\", \"count\": 42}, {\"repo\": \"jupyter-book\", \"createdAt\": \"2020-08-02T00:00:00\", \"count\": 65}, {\"repo\": \"jupyter-book\", \"createdAt\": \"2020-08-09T00:00:00\", \"count\": 51}, {\"repo\": \"jupyter-cache\", \"createdAt\": \"2020-06-21T00:00:00\", \"count\": 3}, {\"repo\": \"jupyter-cache\", \"createdAt\": \"2020-06-28T00:00:00\", \"count\": 1}, {\"repo\": \"jupyter-sphinx\", \"createdAt\": \"2020-06-28T00:00:00\", \"count\": 1}, {\"repo\": \"jupyter-sphinx\", \"createdAt\": \"2020-07-05T00:00:00\", \"count\": 2}, {\"repo\": \"jupyter.github.io\", \"createdAt\": \"2020-06-21T00:00:00\", \"count\": 3}, {\"repo\": \"jupyter.github.io\", \"createdAt\": \"2020-06-28T00:00:00\", \"count\": 1}, {\"repo\": \"jupyter.github.io\", \"createdAt\": \"2020-07-05T00:00:00\", \"count\": 1}, {\"repo\": \"jupyter.github.io\", \"createdAt\": \"2020-07-12T00:00:00\", \"count\": 0}, {\"repo\": \"jupyter.github.io\", \"createdAt\": \"2020-07-19T00:00:00\", \"count\": 1}, {\"repo\": \"jupyter.github.io\", \"createdAt\": \"2020-07-26T00:00:00\", \"count\": 3}, {\"repo\": \"jupyterhub\", \"createdAt\": \"2020-06-21T00:00:00\", \"count\": 3}, {\"repo\": \"jupyterhub\", \"createdAt\": \"2020-06-28T00:00:00\", \"count\": 0}, {\"repo\": \"jupyterhub\", \"createdAt\": \"2020-07-05T00:00:00\", \"count\": 2}, {\"repo\": \"jupyterhub\", \"createdAt\": \"2020-07-12T00:00:00\", \"count\": 1}, {\"repo\": \"jupyterlab\", \"createdAt\": \"2020-06-21T00:00:00\", \"count\": 1}, {\"repo\": \"jupyterlab\", \"createdAt\": \"2020-06-28T00:00:00\", \"count\": 0}, {\"repo\": \"jupyterlab\", \"createdAt\": \"2020-07-05T00:00:00\", \"count\": 1}, {\"repo\": \"jupyterlab\", \"createdAt\": \"2020-07-12T00:00:00\", \"count\": 4}, {\"repo\": \"jupyterlab\", \"createdAt\": \"2020-07-19T00:00:00\", \"count\": 4}, {\"repo\": \"jupyterlab-module-federation\", \"createdAt\": \"2020-07-19T00:00:00\", \"count\": 2}, {\"repo\": \"markdown-it-myst\", \"createdAt\": \"2020-07-26T00:00:00\", \"count\": 4}, {\"repo\": \"markdown-it-myst\", \"createdAt\": \"2020-08-02T00:00:00\", \"count\": 7}, {\"repo\": \"markdown-it-myst\", \"createdAt\": \"2020-08-09T00:00:00\", \"count\": 4}, {\"repo\": \"markdown-it-py\", \"createdAt\": \"2020-08-09T00:00:00\", \"count\": 3}, {\"repo\": \"meta\", \"createdAt\": \"2020-06-21T00:00:00\", \"count\": 1}, {\"repo\": \"meta\", \"createdAt\": \"2020-06-28T00:00:00\", \"count\": 4}, {\"repo\": \"meta\", \"createdAt\": \"2020-07-05T00:00:00\", \"count\": 0}, {\"repo\": \"meta\", \"createdAt\": \"2020-07-12T00:00:00\", \"count\": 0}, {\"repo\": \"meta\", \"createdAt\": \"2020-07-19T00:00:00\", \"count\": 7}, {\"repo\": \"meta\", \"createdAt\": \"2020-07-26T00:00:00\", \"count\": 20}, {\"repo\": \"meta\", \"createdAt\": \"2020-08-02T00:00:00\", \"count\": 15}, {\"repo\": \"meta\", \"createdAt\": \"2020-08-09T00:00:00\", \"count\": 6}, {\"repo\": \"mybinder.org-deploy\", \"createdAt\": \"2020-06-21T00:00:00\", \"count\": 3}, {\"repo\": \"mybinder.org-deploy\", \"createdAt\": \"2020-06-28T00:00:00\", \"count\": 3}, {\"repo\": \"mybinder.org-deploy\", \"createdAt\": \"2020-07-05T00:00:00\", \"count\": 5}, {\"repo\": \"mybinder.org-deploy\", \"createdAt\": \"2020-07-12T00:00:00\", \"count\": 2}, {\"repo\": \"mybinder.org-deploy\", \"createdAt\": \"2020-07-19T00:00:00\", \"count\": 8}, {\"repo\": \"mybinder.org-deploy\", \"createdAt\": \"2020-07-26T00:00:00\", \"count\": 1}, {\"repo\": \"nbclient\", \"createdAt\": \"2020-06-14T00:00:00\", \"count\": 1}, {\"repo\": \"nbclient\", \"createdAt\": \"2020-06-21T00:00:00\", \"count\": 6}, {\"repo\": \"nbclient\", \"createdAt\": \"2020-06-28T00:00:00\", \"count\": 1}, {\"repo\": \"nbclient\", \"createdAt\": \"2020-07-05T00:00:00\", \"count\": 0}, {\"repo\": \"nbclient\", \"createdAt\": \"2020-07-12T00:00:00\", \"count\": 1}, {\"repo\": \"nbconvert\", \"createdAt\": \"2020-06-21T00:00:00\", \"count\": 1}, {\"repo\": \"nbconvert\", \"createdAt\": \"2020-06-28T00:00:00\", \"count\": 0}, {\"repo\": \"nbconvert\", \"createdAt\": \"2020-07-05T00:00:00\", \"count\": 1}, {\"repo\": \"nbgitpuller\", \"createdAt\": \"2020-06-28T00:00:00\", \"count\": 4}, {\"repo\": \"nbgitpuller\", \"createdAt\": \"2020-07-05T00:00:00\", \"count\": 8}, {\"repo\": \"nbgitpuller\", \"createdAt\": \"2020-07-12T00:00:00\", \"count\": 1}, {\"repo\": \"nbgrader\", \"createdAt\": \"2020-06-28T00:00:00\", \"count\": 1}, {\"repo\": \"nbgrader\", \"createdAt\": \"2020-07-05T00:00:00\", \"count\": 0}, {\"repo\": \"nbgrader\", \"createdAt\": \"2020-07-12T00:00:00\", \"count\": 0}, {\"repo\": \"nbgrader\", \"createdAt\": \"2020-07-19T00:00:00\", \"count\": 0}, {\"repo\": \"nbgrader\", \"createdAt\": \"2020-07-26T00:00:00\", \"count\": 1}, {\"repo\": \"nbgrader\", \"createdAt\": \"2020-08-02T00:00:00\", \"count\": 0}, {\"repo\": \"nbgrader\", \"createdAt\": \"2020-08-09T00:00:00\", \"count\": 1}, {\"repo\": \"quantecon-example\", \"createdAt\": \"2020-08-02T00:00:00\", \"count\": 1}, {\"repo\": \"quantecon-mini-example\", \"createdAt\": \"2020-06-21T00:00:00\", \"count\": 1}, {\"repo\": \"repo2docker\", \"createdAt\": \"2020-06-14T00:00:00\", \"count\": 2}, {\"repo\": \"repo2docker\", \"createdAt\": \"2020-06-21T00:00:00\", \"count\": 0}, {\"repo\": \"repo2docker\", \"createdAt\": \"2020-06-28T00:00:00\", \"count\": 2}, {\"repo\": \"repo2docker\", \"createdAt\": \"2020-07-05T00:00:00\", \"count\": 0}, {\"repo\": \"repo2docker\", \"createdAt\": \"2020-07-12T00:00:00\", \"count\": 3}, {\"repo\": \"repo2docker\", \"createdAt\": \"2020-07-19T00:00:00\", \"count\": 0}, {\"repo\": \"repo2docker\", \"createdAt\": \"2020-07-26T00:00:00\", \"count\": 1}, {\"repo\": \"repo2docker\", \"createdAt\": \"2020-08-02T00:00:00\", \"count\": 1}, {\"repo\": \"repo2docker-action\", \"createdAt\": \"2020-06-28T00:00:00\", \"count\": 2}, {\"repo\": \"repo2docker-action\", \"createdAt\": \"2020-07-05T00:00:00\", \"count\": 0}, {\"repo\": \"repo2docker-action\", \"createdAt\": \"2020-07-12T00:00:00\", \"count\": 0}, {\"repo\": \"repo2docker-action\", \"createdAt\": \"2020-07-19T00:00:00\", \"count\": 2}, {\"repo\": \"repo2docker-action\", \"createdAt\": \"2020-07-26T00:00:00\", \"count\": 5}, {\"repo\": \"repo2docker-action\", \"createdAt\": \"2020-08-02T00:00:00\", \"count\": 2}, {\"repo\": \"rtc\", \"createdAt\": \"2020-07-19T00:00:00\", \"count\": 1}, {\"repo\": \"sphinx-book-theme\", \"createdAt\": \"2020-06-14T00:00:00\", \"count\": 4}, {\"repo\": \"sphinx-book-theme\", \"createdAt\": \"2020-06-21T00:00:00\", \"count\": 4}, {\"repo\": \"sphinx-book-theme\", \"createdAt\": \"2020-06-28T00:00:00\", \"count\": 9}, {\"repo\": \"sphinx-book-theme\", \"createdAt\": \"2020-07-05T00:00:00\", \"count\": 0}, {\"repo\": \"sphinx-book-theme\", \"createdAt\": \"2020-07-12T00:00:00\", \"count\": 0}, {\"repo\": \"sphinx-book-theme\", \"createdAt\": \"2020-07-19T00:00:00\", \"count\": 5}, {\"repo\": \"sphinx-book-theme\", \"createdAt\": \"2020-07-26T00:00:00\", \"count\": 1}, {\"repo\": \"sphinx-book-theme\", \"createdAt\": \"2020-08-02T00:00:00\", \"count\": 12}, {\"repo\": \"sphinx-book-theme\", \"createdAt\": \"2020-08-09T00:00:00\", \"count\": 38}, {\"repo\": \"sphinx-copybutton\", \"createdAt\": \"2020-06-21T00:00:00\", \"count\": 4}, {\"repo\": \"sphinx-copybutton\", \"createdAt\": \"2020-06-28T00:00:00\", \"count\": 1}, {\"repo\": \"sphinx-copybutton\", \"createdAt\": \"2020-07-05T00:00:00\", \"count\": 0}, {\"repo\": \"sphinx-copybutton\", \"createdAt\": \"2020-07-12T00:00:00\", \"count\": 0}, {\"repo\": \"sphinx-copybutton\", \"createdAt\": \"2020-07-19T00:00:00\", \"count\": 2}, {\"repo\": \"sphinx-copybutton\", \"createdAt\": \"2020-07-26T00:00:00\", \"count\": 15}, {\"repo\": \"sphinx-copybutton\", \"createdAt\": \"2020-08-02T00:00:00\", \"count\": 1}, {\"repo\": \"sphinx-thebe\", \"createdAt\": \"2020-06-21T00:00:00\", \"count\": 8}, {\"repo\": \"sphinx-thebe\", \"createdAt\": \"2020-06-28T00:00:00\", \"count\": 3}, {\"repo\": \"sphinx-thebe\", \"createdAt\": \"2020-07-05T00:00:00\", \"count\": 6}, {\"repo\": \"sphinx-thebe\", \"createdAt\": \"2020-07-12T00:00:00\", \"count\": 1}, {\"repo\": \"sphinx-togglebutton\", \"createdAt\": \"2020-07-26T00:00:00\", \"count\": 1}, {\"repo\": \"team-compass\", \"createdAt\": \"2020-06-14T00:00:00\", \"count\": 4}, {\"repo\": \"team-compass\", \"createdAt\": \"2020-06-21T00:00:00\", \"count\": 3}, {\"repo\": \"team-compass\", \"createdAt\": \"2020-06-28T00:00:00\", \"count\": 2}, {\"repo\": \"team-compass\", \"createdAt\": \"2020-07-05T00:00:00\", \"count\": 3}, {\"repo\": \"team-compass\", \"createdAt\": \"2020-07-12T00:00:00\", \"count\": 4}, {\"repo\": \"team-compass\", \"createdAt\": \"2020-07-19T00:00:00\", \"count\": 14}, {\"repo\": \"team-compass\", \"createdAt\": \"2020-07-26T00:00:00\", \"count\": 14}, {\"repo\": \"team-compass\", \"createdAt\": \"2020-08-02T00:00:00\", \"count\": 7}, {\"repo\": \"team-compass\", \"createdAt\": \"2020-08-09T00:00:00\", \"count\": 5}, {\"repo\": \"thebe\", \"createdAt\": \"2020-06-21T00:00:00\", \"count\": 2}, {\"repo\": \"thebe\", \"createdAt\": \"2020-06-28T00:00:00\", \"count\": 3}, {\"repo\": \"thebe\", \"createdAt\": \"2020-07-05T00:00:00\", \"count\": 4}, {\"repo\": \"thebe\", \"createdAt\": \"2020-07-12T00:00:00\", \"count\": 6}, {\"repo\": \"thebe\", \"createdAt\": \"2020-07-19T00:00:00\", \"count\": 0}, {\"repo\": \"thebe\", \"createdAt\": \"2020-07-26T00:00:00\", \"count\": 2}, {\"repo\": \"thebe\", \"createdAt\": \"2020-08-02T00:00:00\", \"count\": 1}, {\"repo\": \"zero-to-jupyterhub-k8s\", \"createdAt\": \"2020-06-14T00:00:00\", \"count\": 2}, {\"repo\": \"zero-to-jupyterhub-k8s\", \"createdAt\": \"2020-06-21T00:00:00\", \"count\": 0}, {\"repo\": \"zero-to-jupyterhub-k8s\", \"createdAt\": \"2020-06-28T00:00:00\", \"count\": 0}, {\"repo\": \"zero-to-jupyterhub-k8s\", \"createdAt\": \"2020-07-05T00:00:00\", \"count\": 2}], \"data-6e408b4514ae556f23558a641bc55a8a\": [{\"createdAt\": \"2020-06-14T00:00:00\", \"count\": 56}, {\"createdAt\": \"2020-06-21T00:00:00\", \"count\": 84}, {\"createdAt\": \"2020-06-28T00:00:00\", \"count\": 83}, {\"createdAt\": \"2020-07-05T00:00:00\", \"count\": 78}, {\"createdAt\": \"2020-07-12T00:00:00\", \"count\": 73}, {\"createdAt\": \"2020-07-19T00:00:00\", \"count\": 115}, {\"createdAt\": \"2020-07-26T00:00:00\", \"count\": 114}, {\"createdAt\": \"2020-08-02T00:00:00\", \"count\": 117}, {\"createdAt\": \"2020-08-09T00:00:00\", \"count\": 127}]}}, {\"mode\": \"vega-lite\"});\n",
       "</script>"
      ],
      "text/plain": [
       "alt.LayerChart(...)"
      ]
     },
     "execution_count": 13,
     "metadata": {},
     "output_type": "execute_result"
    }
   ],
   "source": [
    "comments_time = comments.groupby('repo').resample('W', on='createdAt').count()['author'].reset_index()\n",
    "comments_time = comments_time.rename(columns={'author': 'count'})\n",
    "comments_time_total = comments_time.groupby('createdAt').agg({\"count\": \"sum\"}).reset_index()\n",
    "ch1 = alt.Chart(comments_time, width=600).mark_line().encode(\n",
    "    x='createdAt',\n",
    "    y='count',\n",
    "    color='repo',\n",
    "    tooltip=\"repo\"\n",
    ")\n",
    "\n",
    "ch2 = alt.Chart(comments_time_total, width=600).mark_line(color=\"black\").encode(\n",
    "    x='createdAt',\n",
    "    y='count',\n",
    ")\n",
    "\n",
    "ch1 + ch2"
   ]
  },
  {
   "cell_type": "markdown",
   "metadata": {
    "papermill": {
     "duration": 0.0152,
     "end_time": "2020-08-09T15:25:15.070056",
     "exception": false,
     "start_time": "2020-08-09T15:25:15.054856",
     "status": "completed"
    },
    "tags": []
   },
   "source": [
    "## PRs"
   ]
  },
  {
   "cell_type": "code",
   "execution_count": 14,
   "metadata": {
    "execution": {
     "iopub.execute_input": "2020-08-09T15:25:15.109769Z",
     "iopub.status.busy": "2020-08-09T15:25:15.109256Z",
     "iopub.status.idle": "2020-08-09T15:25:15.202327Z",
     "shell.execute_reply": "2020-08-09T15:25:15.202930Z"
    },
    "papermill": {
     "duration": 0.118107,
     "end_time": "2020-08-09T15:25:15.203097",
     "exception": false,
     "start_time": "2020-08-09T15:25:15.084990",
     "status": "completed"
    },
    "tags": [
     "hide_input"
    ]
   },
   "outputs": [
    {
     "data": {
      "text/html": [
       "\n",
       "<div id=\"altair-viz-7ca86b1a475740b29361a84353544b4f\"></div>\n",
       "<script type=\"text/javascript\">\n",
       "  (function(spec, embedOpt){\n",
       "    let outputDiv = document.currentScript.previousElementSibling;\n",
       "    if (outputDiv.id !== \"altair-viz-7ca86b1a475740b29361a84353544b4f\") {\n",
       "      outputDiv = document.getElementById(\"altair-viz-7ca86b1a475740b29361a84353544b4f\");\n",
       "    }\n",
       "    const paths = {\n",
       "      \"vega\": \"https://cdn.jsdelivr.net/npm//vega@5?noext\",\n",
       "      \"vega-lib\": \"https://cdn.jsdelivr.net/npm//vega-lib?noext\",\n",
       "      \"vega-lite\": \"https://cdn.jsdelivr.net/npm//vega-lite@4.8.1?noext\",\n",
       "      \"vega-embed\": \"https://cdn.jsdelivr.net/npm//vega-embed@6?noext\",\n",
       "    };\n",
       "\n",
       "    function loadScript(lib) {\n",
       "      return new Promise(function(resolve, reject) {\n",
       "        var s = document.createElement('script');\n",
       "        s.src = paths[lib];\n",
       "        s.async = true;\n",
       "        s.onload = () => resolve(paths[lib]);\n",
       "        s.onerror = () => reject(`Error loading script: ${paths[lib]}`);\n",
       "        document.getElementsByTagName(\"head\")[0].appendChild(s);\n",
       "      });\n",
       "    }\n",
       "\n",
       "    function showError(err) {\n",
       "      outputDiv.innerHTML = `<div class=\"error\" style=\"color:red;\">${err}</div>`;\n",
       "      throw err;\n",
       "    }\n",
       "\n",
       "    function displayChart(vegaEmbed) {\n",
       "      vegaEmbed(outputDiv, spec, embedOpt)\n",
       "        .catch(err => showError(`Javascript Error: ${err.message}<br>This usually means there's a typo in your chart specification. See the javascript console for the full traceback.`));\n",
       "    }\n",
       "\n",
       "    if(typeof define === \"function\" && define.amd) {\n",
       "      requirejs.config({paths});\n",
       "      require([\"vega-embed\"], displayChart, err => showError(`Error loading script: ${err.message}`));\n",
       "    } else if (typeof vegaEmbed === \"function\") {\n",
       "      displayChart(vegaEmbed);\n",
       "    } else {\n",
       "      loadScript(\"vega\")\n",
       "        .then(() => loadScript(\"vega-lite\"))\n",
       "        .then(() => loadScript(\"vega-embed\"))\n",
       "        .catch(showError)\n",
       "        .then(() => displayChart(vegaEmbed));\n",
       "    }\n",
       "  })({\"config\": {\"axisLeft\": {\"labelFontSize\": 15}, \"axisBottom\": {\"labelFontSize\": 15}}, \"layer\": [{\"data\": {\"name\": \"data-201416db7492456f24dd276772ff029b\"}, \"mark\": \"line\", \"encoding\": {\"color\": {\"type\": \"nominal\", \"field\": \"repo\"}, \"tooltip\": {\"type\": \"nominal\", \"field\": \"repo\"}, \"x\": {\"type\": \"temporal\", \"field\": \"createdAt\"}, \"y\": {\"type\": \"quantitative\", \"field\": \"count\"}}, \"width\": 600}, {\"data\": {\"name\": \"data-6c54747201ba7c4a9ad2cd19fe2eab46\"}, \"mark\": {\"type\": \"line\", \"color\": \"black\"}, \"encoding\": {\"x\": {\"type\": \"temporal\", \"field\": \"createdAt\"}, \"y\": {\"type\": \"quantitative\", \"field\": \"count\"}}, \"width\": 600}], \"$schema\": \"https://vega.github.io/schema/vega-lite/v4.8.1.json\", \"datasets\": {\"data-201416db7492456f24dd276772ff029b\": [{\"repo\": \".github\", \"createdAt\": \"2020-08-02T00:00:00\", \"count\": 2}, {\"repo\": \"MyST-NB\", \"createdAt\": \"2020-05-31T00:00:00\", \"count\": 1}, {\"repo\": \"MyST-NB\", \"createdAt\": \"2020-06-07T00:00:00\", \"count\": 1}, {\"repo\": \"MyST-NB\", \"createdAt\": \"2020-06-14T00:00:00\", \"count\": 4}, {\"repo\": \"MyST-NB\", \"createdAt\": \"2020-06-21T00:00:00\", \"count\": 0}, {\"repo\": \"MyST-NB\", \"createdAt\": \"2020-06-28T00:00:00\", \"count\": 1}, {\"repo\": \"MyST-NB\", \"createdAt\": \"2020-07-05T00:00:00\", \"count\": 1}, {\"repo\": \"MyST-NB\", \"createdAt\": \"2020-07-12T00:00:00\", \"count\": 0}, {\"repo\": \"MyST-NB\", \"createdAt\": \"2020-07-19T00:00:00\", \"count\": 1}, {\"repo\": \"MyST-Parser\", \"createdAt\": \"2020-06-14T00:00:00\", \"count\": 1}, {\"repo\": \"MyST-Parser\", \"createdAt\": \"2020-06-21T00:00:00\", \"count\": 0}, {\"repo\": \"MyST-Parser\", \"createdAt\": \"2020-06-28T00:00:00\", \"count\": 4}, {\"repo\": \"MyST-Parser\", \"createdAt\": \"2020-07-05T00:00:00\", \"count\": 0}, {\"repo\": \"MyST-Parser\", \"createdAt\": \"2020-07-12T00:00:00\", \"count\": 1}, {\"repo\": \"binder\", \"createdAt\": \"2020-06-28T00:00:00\", \"count\": 1}, {\"repo\": \"binder-data\", \"createdAt\": \"2020-06-21T00:00:00\", \"count\": 1}, {\"repo\": \"enhancement-proposals\", \"createdAt\": \"2020-06-07T00:00:00\", \"count\": 1}, {\"repo\": \"enhancement-proposals\", \"createdAt\": \"2020-06-14T00:00:00\", \"count\": 1}, {\"repo\": \"enhancement-proposals\", \"createdAt\": \"2020-06-21T00:00:00\", \"count\": 1}, {\"repo\": \"governance\", \"createdAt\": \"2020-05-31T00:00:00\", \"count\": 1}, {\"repo\": \"jupyter\", \"createdAt\": \"2020-06-07T00:00:00\", \"count\": 1}, {\"repo\": \"jupyter\", \"createdAt\": \"2020-06-14T00:00:00\", \"count\": 0}, {\"repo\": \"jupyter\", \"createdAt\": \"2020-06-21T00:00:00\", \"count\": 0}, {\"repo\": \"jupyter\", \"createdAt\": \"2020-06-28T00:00:00\", \"count\": 1}, {\"repo\": \"jupyter\", \"createdAt\": \"2020-07-05T00:00:00\", \"count\": 0}, {\"repo\": \"jupyter\", \"createdAt\": \"2020-07-12T00:00:00\", \"count\": 1}, {\"repo\": \"jupyter-book\", \"createdAt\": \"2020-06-14T00:00:00\", \"count\": 3}, {\"repo\": \"jupyter-book\", \"createdAt\": \"2020-06-21T00:00:00\", \"count\": 0}, {\"repo\": \"jupyter-book\", \"createdAt\": \"2020-06-28T00:00:00\", \"count\": 2}, {\"repo\": \"jupyter-book\", \"createdAt\": \"2020-07-05T00:00:00\", \"count\": 1}, {\"repo\": \"jupyter-book\", \"createdAt\": \"2020-07-12T00:00:00\", \"count\": 3}, {\"repo\": \"jupyter-book\", \"createdAt\": \"2020-07-19T00:00:00\", \"count\": 0}, {\"repo\": \"jupyter-book\", \"createdAt\": \"2020-07-26T00:00:00\", \"count\": 1}, {\"repo\": \"jupyter-book\", \"createdAt\": \"2020-08-02T00:00:00\", \"count\": 6}, {\"repo\": \"jupyter-book\", \"createdAt\": \"2020-08-09T00:00:00\", \"count\": 5}, {\"repo\": \"jupyter-sphinx\", \"createdAt\": \"2020-06-28T00:00:00\", \"count\": 1}, {\"repo\": \"jupyterlab\", \"createdAt\": \"2020-08-09T00:00:00\", \"count\": 1}, {\"repo\": \"meta\", \"createdAt\": \"2020-08-02T00:00:00\", \"count\": 2}, {\"repo\": \"meta\", \"createdAt\": \"2020-08-09T00:00:00\", \"count\": 1}, {\"repo\": \"mybinder.org-deploy\", \"createdAt\": \"2020-07-19T00:00:00\", \"count\": 1}, {\"repo\": \"nbgitpuller\", \"createdAt\": \"2020-06-28T00:00:00\", \"count\": 1}, {\"repo\": \"nbgitpuller\", \"createdAt\": \"2020-07-05T00:00:00\", \"count\": 2}, {\"repo\": \"sphinx-book-theme\", \"createdAt\": \"2020-06-14T00:00:00\", \"count\": 1}, {\"repo\": \"sphinx-book-theme\", \"createdAt\": \"2020-06-21T00:00:00\", \"count\": 1}, {\"repo\": \"sphinx-book-theme\", \"createdAt\": \"2020-06-28T00:00:00\", \"count\": 2}, {\"repo\": \"sphinx-book-theme\", \"createdAt\": \"2020-07-05T00:00:00\", \"count\": 3}, {\"repo\": \"sphinx-book-theme\", \"createdAt\": \"2020-07-12T00:00:00\", \"count\": 1}, {\"repo\": \"sphinx-book-theme\", \"createdAt\": \"2020-07-19T00:00:00\", \"count\": 0}, {\"repo\": \"sphinx-book-theme\", \"createdAt\": \"2020-07-26T00:00:00\", \"count\": 1}, {\"repo\": \"sphinx-book-theme\", \"createdAt\": \"2020-08-02T00:00:00\", \"count\": 1}, {\"repo\": \"sphinx-book-theme\", \"createdAt\": \"2020-08-09T00:00:00\", \"count\": 5}, {\"repo\": \"sphinx-thebe\", \"createdAt\": \"2020-07-05T00:00:00\", \"count\": 3}, {\"repo\": \"sphinx-thebe\", \"createdAt\": \"2020-07-12T00:00:00\", \"count\": 2}, {\"repo\": \"sphinx-togglebutton\", \"createdAt\": \"2020-08-09T00:00:00\", \"count\": 3}, {\"repo\": \"team-compass\", \"createdAt\": \"2020-06-14T00:00:00\", \"count\": 1}, {\"repo\": \"team-compass\", \"createdAt\": \"2020-06-21T00:00:00\", \"count\": 0}, {\"repo\": \"team-compass\", \"createdAt\": \"2020-06-28T00:00:00\", \"count\": 1}, {\"repo\": \"thebe\", \"createdAt\": \"2020-06-21T00:00:00\", \"count\": 1}, {\"repo\": \"thebe\", \"createdAt\": \"2020-06-28T00:00:00\", \"count\": 1}, {\"repo\": \"zero-to-jupyterhub-k8s\", \"createdAt\": \"2020-07-05T00:00:00\", \"count\": 1}], \"data-6c54747201ba7c4a9ad2cd19fe2eab46\": [{\"createdAt\": \"2020-05-31T00:00:00\", \"count\": 2}, {\"createdAt\": \"2020-06-07T00:00:00\", \"count\": 3}, {\"createdAt\": \"2020-06-14T00:00:00\", \"count\": 11}, {\"createdAt\": \"2020-06-21T00:00:00\", \"count\": 4}, {\"createdAt\": \"2020-06-28T00:00:00\", \"count\": 15}, {\"createdAt\": \"2020-07-05T00:00:00\", \"count\": 11}, {\"createdAt\": \"2020-07-12T00:00:00\", \"count\": 8}, {\"createdAt\": \"2020-07-19T00:00:00\", \"count\": 2}, {\"createdAt\": \"2020-07-26T00:00:00\", \"count\": 2}, {\"createdAt\": \"2020-08-02T00:00:00\", \"count\": 11}, {\"createdAt\": \"2020-08-09T00:00:00\", \"count\": 15}]}}, {\"mode\": \"vega-lite\"});\n",
       "</script>"
      ],
      "text/plain": [
       "alt.LayerChart(...)"
      ]
     },
     "execution_count": 14,
     "metadata": {},
     "output_type": "execute_result"
    }
   ],
   "source": [
    "prs_time = prs.groupby('repo').resample('W', on='createdAt').count()['author'].reset_index()\n",
    "prs_time = prs_time.rename(columns={'author': 'count'})\n",
    "prs_time_total = prs_time.groupby('createdAt').agg({\"count\": \"sum\"}).reset_index()\n",
    "\n",
    "ch1 = alt.Chart(prs_time, width=600).mark_line().encode(\n",
    "    x='createdAt',\n",
    "    y='count',\n",
    "    color='repo',\n",
    "    tooltip=\"repo\"\n",
    ")\n",
    "\n",
    "ch2 = alt.Chart(prs_time_total, width=600).mark_line(color=\"black\").encode(\n",
    "    x='createdAt',\n",
    "    y='count',\n",
    ")\n",
    "\n",
    "ch1 + ch2"
   ]
  },
  {
   "cell_type": "code",
   "execution_count": 15,
   "metadata": {
    "execution": {
     "iopub.execute_input": "2020-08-09T15:25:15.245180Z",
     "iopub.status.busy": "2020-08-09T15:25:15.244582Z",
     "iopub.status.idle": "2020-08-09T15:25:15.335766Z",
     "shell.execute_reply": "2020-08-09T15:25:15.336187Z"
    },
    "papermill": {
     "duration": 0.114996,
     "end_time": "2020-08-09T15:25:15.336341",
     "exception": false,
     "start_time": "2020-08-09T15:25:15.221345",
     "status": "completed"
    },
    "tags": [
     "hide_input"
    ]
   },
   "outputs": [
    {
     "data": {
      "text/html": [
       "\n",
       "<div id=\"altair-viz-30cde5abf82544a593d7c3bfd7862893\"></div>\n",
       "<script type=\"text/javascript\">\n",
       "  (function(spec, embedOpt){\n",
       "    let outputDiv = document.currentScript.previousElementSibling;\n",
       "    if (outputDiv.id !== \"altair-viz-30cde5abf82544a593d7c3bfd7862893\") {\n",
       "      outputDiv = document.getElementById(\"altair-viz-30cde5abf82544a593d7c3bfd7862893\");\n",
       "    }\n",
       "    const paths = {\n",
       "      \"vega\": \"https://cdn.jsdelivr.net/npm//vega@5?noext\",\n",
       "      \"vega-lib\": \"https://cdn.jsdelivr.net/npm//vega-lib?noext\",\n",
       "      \"vega-lite\": \"https://cdn.jsdelivr.net/npm//vega-lite@4.8.1?noext\",\n",
       "      \"vega-embed\": \"https://cdn.jsdelivr.net/npm//vega-embed@6?noext\",\n",
       "    };\n",
       "\n",
       "    function loadScript(lib) {\n",
       "      return new Promise(function(resolve, reject) {\n",
       "        var s = document.createElement('script');\n",
       "        s.src = paths[lib];\n",
       "        s.async = true;\n",
       "        s.onload = () => resolve(paths[lib]);\n",
       "        s.onerror = () => reject(`Error loading script: ${paths[lib]}`);\n",
       "        document.getElementsByTagName(\"head\")[0].appendChild(s);\n",
       "      });\n",
       "    }\n",
       "\n",
       "    function showError(err) {\n",
       "      outputDiv.innerHTML = `<div class=\"error\" style=\"color:red;\">${err}</div>`;\n",
       "      throw err;\n",
       "    }\n",
       "\n",
       "    function displayChart(vegaEmbed) {\n",
       "      vegaEmbed(outputDiv, spec, embedOpt)\n",
       "        .catch(err => showError(`Javascript Error: ${err.message}<br>This usually means there's a typo in your chart specification. See the javascript console for the full traceback.`));\n",
       "    }\n",
       "\n",
       "    if(typeof define === \"function\" && define.amd) {\n",
       "      requirejs.config({paths});\n",
       "      require([\"vega-embed\"], displayChart, err => showError(`Error loading script: ${err.message}`));\n",
       "    } else if (typeof vegaEmbed === \"function\") {\n",
       "      displayChart(vegaEmbed);\n",
       "    } else {\n",
       "      loadScript(\"vega\")\n",
       "        .then(() => loadScript(\"vega-lite\"))\n",
       "        .then(() => loadScript(\"vega-embed\"))\n",
       "        .catch(showError)\n",
       "        .then(() => displayChart(vegaEmbed));\n",
       "    }\n",
       "  })({\"config\": {\"axisLeft\": {\"labelFontSize\": 15}, \"axisBottom\": {\"labelFontSize\": 15}}, \"data\": {\"name\": \"data-104bdd6e31118a0c97a7e877b735b75a\"}, \"mark\": \"line\", \"encoding\": {\"color\": {\"type\": \"nominal\", \"field\": \"repo\"}, \"tooltip\": {\"type\": \"nominal\", \"field\": \"repo\"}, \"x\": {\"type\": \"temporal\", \"field\": \"closedAt\"}, \"y\": {\"type\": \"quantitative\", \"field\": \"count\"}}, \"width\": 600, \"$schema\": \"https://vega.github.io/schema/vega-lite/v4.8.1.json\", \"datasets\": {\"data-104bdd6e31118a0c97a7e877b735b75a\": [{\"repo\": \".github\", \"closedAt\": \"2020-07-05T00:00:00\", \"count\": 1}, {\"repo\": \".github\", \"closedAt\": \"2020-07-12T00:00:00\", \"count\": 0}, {\"repo\": \".github\", \"closedAt\": \"2020-07-19T00:00:00\", \"count\": 0}, {\"repo\": \".github\", \"closedAt\": \"2020-07-26T00:00:00\", \"count\": 0}, {\"repo\": \".github\", \"closedAt\": \"2020-08-02T00:00:00\", \"count\": 0}, {\"repo\": \".github\", \"closedAt\": \"2020-08-09T00:00:00\", \"count\": 3}, {\"repo\": \"MyST-NB\", \"closedAt\": \"2020-06-14T00:00:00\", \"count\": 6}, {\"repo\": \"MyST-NB\", \"closedAt\": \"2020-06-21T00:00:00\", \"count\": 2}, {\"repo\": \"MyST-NB\", \"closedAt\": \"2020-06-28T00:00:00\", \"count\": 1}, {\"repo\": \"MyST-NB\", \"closedAt\": \"2020-07-05T00:00:00\", \"count\": 0}, {\"repo\": \"MyST-NB\", \"closedAt\": \"2020-07-12T00:00:00\", \"count\": 0}, {\"repo\": \"MyST-NB\", \"closedAt\": \"2020-07-19T00:00:00\", \"count\": 1}, {\"repo\": \"MyST-Parser\", \"closedAt\": \"2020-06-14T00:00:00\", \"count\": 2}, {\"repo\": \"MyST-Parser\", \"closedAt\": \"2020-06-21T00:00:00\", \"count\": 1}, {\"repo\": \"MyST-Parser\", \"closedAt\": \"2020-06-28T00:00:00\", \"count\": 1}, {\"repo\": \"MyST-Parser\", \"closedAt\": \"2020-07-05T00:00:00\", \"count\": 0}, {\"repo\": \"MyST-Parser\", \"closedAt\": \"2020-07-12T00:00:00\", \"count\": 1}, {\"repo\": \"MyST-Parser\", \"closedAt\": \"2020-07-19T00:00:00\", \"count\": 1}, {\"repo\": \"binder\", \"closedAt\": \"2020-06-28T00:00:00\", \"count\": 1}, {\"repo\": \"binder\", \"closedAt\": \"2020-07-05T00:00:00\", \"count\": 0}, {\"repo\": \"binder\", \"closedAt\": \"2020-07-12T00:00:00\", \"count\": 0}, {\"repo\": \"binder\", \"closedAt\": \"2020-07-19T00:00:00\", \"count\": 2}, {\"repo\": \"binder\", \"closedAt\": \"2020-07-26T00:00:00\", \"count\": 1}, {\"repo\": \"binder\", \"closedAt\": \"2020-08-02T00:00:00\", \"count\": 0}, {\"repo\": \"binder\", \"closedAt\": \"2020-08-09T00:00:00\", \"count\": 1}, {\"repo\": \"binder-data\", \"closedAt\": \"2020-06-21T00:00:00\", \"count\": 1}, {\"repo\": \"dockerspawner\", \"closedAt\": \"2020-06-28T00:00:00\", \"count\": 2}, {\"repo\": \"jupyter\", \"closedAt\": \"2020-06-14T00:00:00\", \"count\": 1}, {\"repo\": \"jupyter\", \"closedAt\": \"2020-06-21T00:00:00\", \"count\": 1}, {\"repo\": \"jupyter\", \"closedAt\": \"2020-06-28T00:00:00\", \"count\": 1}, {\"repo\": \"jupyter\", \"closedAt\": \"2020-07-05T00:00:00\", \"count\": 2}, {\"repo\": \"jupyter\", \"closedAt\": \"2020-07-12T00:00:00\", \"count\": 2}, {\"repo\": \"jupyter\", \"closedAt\": \"2020-07-19T00:00:00\", \"count\": 0}, {\"repo\": \"jupyter\", \"closedAt\": \"2020-07-26T00:00:00\", \"count\": 1}, {\"repo\": \"jupyter-book\", \"closedAt\": \"2020-06-14T00:00:00\", \"count\": 5}, {\"repo\": \"jupyter-book\", \"closedAt\": \"2020-06-21T00:00:00\", \"count\": 2}, {\"repo\": \"jupyter-book\", \"closedAt\": \"2020-06-28T00:00:00\", \"count\": 4}, {\"repo\": \"jupyter-book\", \"closedAt\": \"2020-07-05T00:00:00\", \"count\": 2}, {\"repo\": \"jupyter-book\", \"closedAt\": \"2020-07-12T00:00:00\", \"count\": 2}, {\"repo\": \"jupyter-book\", \"closedAt\": \"2020-07-19T00:00:00\", \"count\": 2}, {\"repo\": \"jupyter-book\", \"closedAt\": \"2020-07-26T00:00:00\", \"count\": 6}, {\"repo\": \"jupyter-book\", \"closedAt\": \"2020-08-02T00:00:00\", \"count\": 6}, {\"repo\": \"jupyter-book\", \"closedAt\": \"2020-08-09T00:00:00\", \"count\": 11}, {\"repo\": \"jupyter-cache\", \"closedAt\": \"2020-06-21T00:00:00\", \"count\": 1}, {\"repo\": \"jupyter-cache\", \"closedAt\": \"2020-06-28T00:00:00\", \"count\": 1}, {\"repo\": \"jupyter.github.io\", \"closedAt\": \"2020-06-28T00:00:00\", \"count\": 1}, {\"repo\": \"jupyter.github.io\", \"closedAt\": \"2020-07-05T00:00:00\", \"count\": 0}, {\"repo\": \"jupyter.github.io\", \"closedAt\": \"2020-07-12T00:00:00\", \"count\": 0}, {\"repo\": \"jupyter.github.io\", \"closedAt\": \"2020-07-19T00:00:00\", \"count\": 2}, {\"repo\": \"jupyter.github.io\", \"closedAt\": \"2020-07-26T00:00:00\", \"count\": 1}, {\"repo\": \"jupyterhub\", \"closedAt\": \"2020-07-12T00:00:00\", \"count\": 1}, {\"repo\": \"markdown-it-myst\", \"closedAt\": \"2020-08-09T00:00:00\", \"count\": 1}, {\"repo\": \"meta\", \"closedAt\": \"2020-06-21T00:00:00\", \"count\": 1}, {\"repo\": \"meta\", \"closedAt\": \"2020-06-28T00:00:00\", \"count\": 0}, {\"repo\": \"meta\", \"closedAt\": \"2020-07-05T00:00:00\", \"count\": 0}, {\"repo\": \"meta\", \"closedAt\": \"2020-07-12T00:00:00\", \"count\": 0}, {\"repo\": \"meta\", \"closedAt\": \"2020-07-19T00:00:00\", \"count\": 0}, {\"repo\": \"meta\", \"closedAt\": \"2020-07-26T00:00:00\", \"count\": 0}, {\"repo\": \"meta\", \"closedAt\": \"2020-08-02T00:00:00\", \"count\": 2}, {\"repo\": \"mybinder.org-deploy\", \"closedAt\": \"2020-07-19T00:00:00\", \"count\": 1}, {\"repo\": \"mybinder.org-deploy\", \"closedAt\": \"2020-07-26T00:00:00\", \"count\": 1}, {\"repo\": \"nbgitpuller\", \"closedAt\": \"2020-06-28T00:00:00\", \"count\": 1}, {\"repo\": \"nbgitpuller\", \"closedAt\": \"2020-07-05T00:00:00\", \"count\": 3}, {\"repo\": \"nbgitpuller\", \"closedAt\": \"2020-07-12T00:00:00\", \"count\": 1}, {\"repo\": \"quantecon-mini-example\", \"closedAt\": \"2020-06-21T00:00:00\", \"count\": 1}, {\"repo\": \"repo2docker\", \"closedAt\": \"2020-06-14T00:00:00\", \"count\": 1}, {\"repo\": \"repo2docker-action\", \"closedAt\": \"2020-07-26T00:00:00\", \"count\": 1}, {\"repo\": \"sphinx-book-theme\", \"closedAt\": \"2020-06-14T00:00:00\", \"count\": 1}, {\"repo\": \"sphinx-book-theme\", \"closedAt\": \"2020-06-21T00:00:00\", \"count\": 2}, {\"repo\": \"sphinx-book-theme\", \"closedAt\": \"2020-06-28T00:00:00\", \"count\": 2}, {\"repo\": \"sphinx-book-theme\", \"closedAt\": \"2020-07-05T00:00:00\", \"count\": 3}, {\"repo\": \"sphinx-book-theme\", \"closedAt\": \"2020-07-12T00:00:00\", \"count\": 0}, {\"repo\": \"sphinx-book-theme\", \"closedAt\": \"2020-07-19T00:00:00\", \"count\": 4}, {\"repo\": \"sphinx-book-theme\", \"closedAt\": \"2020-07-26T00:00:00\", \"count\": 1}, {\"repo\": \"sphinx-book-theme\", \"closedAt\": \"2020-08-02T00:00:00\", \"count\": 1}, {\"repo\": \"sphinx-book-theme\", \"closedAt\": \"2020-08-09T00:00:00\", \"count\": 10}, {\"repo\": \"sphinx-copybutton\", \"closedAt\": \"2020-06-21T00:00:00\", \"count\": 2}, {\"repo\": \"sphinx-copybutton\", \"closedAt\": \"2020-06-28T00:00:00\", \"count\": 0}, {\"repo\": \"sphinx-copybutton\", \"closedAt\": \"2020-07-05T00:00:00\", \"count\": 0}, {\"repo\": \"sphinx-copybutton\", \"closedAt\": \"2020-07-12T00:00:00\", \"count\": 0}, {\"repo\": \"sphinx-copybutton\", \"closedAt\": \"2020-07-19T00:00:00\", \"count\": 0}, {\"repo\": \"sphinx-copybutton\", \"closedAt\": \"2020-07-26T00:00:00\", \"count\": 2}, {\"repo\": \"sphinx-thebe\", \"closedAt\": \"2020-07-05T00:00:00\", \"count\": 3}, {\"repo\": \"sphinx-thebe\", \"closedAt\": \"2020-07-12T00:00:00\", \"count\": 1}, {\"repo\": \"sphinx-thebe\", \"closedAt\": \"2020-07-19T00:00:00\", \"count\": 1}, {\"repo\": \"sphinx-togglebutton\", \"closedAt\": \"2020-08-09T00:00:00\", \"count\": 3}, {\"repo\": \"team-compass\", \"closedAt\": \"2020-06-28T00:00:00\", \"count\": 2}, {\"repo\": \"team-compass\", \"closedAt\": \"2020-07-05T00:00:00\", \"count\": 1}, {\"repo\": \"team-compass\", \"closedAt\": \"2020-07-12T00:00:00\", \"count\": 0}, {\"repo\": \"team-compass\", \"closedAt\": \"2020-07-19T00:00:00\", \"count\": 0}, {\"repo\": \"team-compass\", \"closedAt\": \"2020-07-26T00:00:00\", \"count\": 1}, {\"repo\": \"thebe\", \"closedAt\": \"2020-07-12T00:00:00\", \"count\": 1}, {\"repo\": \"zero-to-jupyterhub-k8s\", \"closedAt\": \"2020-07-05T00:00:00\", \"count\": 1}]}}, {\"mode\": \"vega-lite\"});\n",
       "</script>"
      ],
      "text/plain": [
       "alt.Chart(...)"
      ]
     },
     "execution_count": 15,
     "metadata": {},
     "output_type": "execute_result"
    }
   ],
   "source": [
    "closed_by_time = closed_by.groupby('repo').resample('W', on='closedAt').count()['author'].reset_index()\n",
    "closed_by_time = closed_by_time.rename(columns={'author': 'count'})\n",
    "\n",
    "alt.Chart(closed_by_time, width=600).mark_line().encode(\n",
    "    x='closedAt',\n",
    "    y='count',\n",
    "    color='repo',\n",
    "    tooltip=\"repo\"\n",
    ")"
   ]
  },
  {
   "cell_type": "markdown",
   "metadata": {
    "papermill": {
     "duration": 0.015834,
     "end_time": "2020-08-09T15:25:15.367393",
     "exception": false,
     "start_time": "2020-08-09T15:25:15.351559",
     "status": "completed"
    },
    "tags": []
   },
   "source": [
    "# By type over time"
   ]
  },
  {
   "cell_type": "code",
   "execution_count": 16,
   "metadata": {
    "execution": {
     "iopub.execute_input": "2020-08-09T15:25:15.411614Z",
     "iopub.status.busy": "2020-08-09T15:25:15.411096Z",
     "iopub.status.idle": "2020-08-09T15:25:15.422416Z",
     "shell.execute_reply": "2020-08-09T15:25:15.421975Z"
    },
    "papermill": {
     "duration": 0.038276,
     "end_time": "2020-08-09T15:25:15.422528",
     "exception": false,
     "start_time": "2020-08-09T15:25:15.384252",
     "status": "completed"
    },
    "tags": [
     "remove_cell"
    ]
   },
   "outputs": [],
   "source": [
    "prs_time = prs[['author', 'createdAt']].resample('W', on='createdAt').count()['author'].reset_index()\n",
    "prs_time = prs_time.rename(columns={'author': 'prs'})\n",
    "comments_time = comments[['author', 'createdAt']].resample('W', on='createdAt').count()['author'].reset_index()\n",
    "comments_time = comments_time.rename(columns={'author': 'comments'})\n",
    "\n",
    "total_time = pd.merge(prs_time, comments_time, on='createdAt', how='outer')\n",
    "total_time = total_time.melt(id_vars='createdAt', var_name=\"kind\", value_name=\"count\")\n"
   ]
  },
  {
   "cell_type": "code",
   "execution_count": 17,
   "metadata": {
    "execution": {
     "iopub.execute_input": "2020-08-09T15:25:15.466845Z",
     "iopub.status.busy": "2020-08-09T15:25:15.461741Z",
     "iopub.status.idle": "2020-08-09T15:25:15.480530Z",
     "shell.execute_reply": "2020-08-09T15:25:15.481061Z"
    },
    "papermill": {
     "duration": 0.042895,
     "end_time": "2020-08-09T15:25:15.481192",
     "exception": false,
     "start_time": "2020-08-09T15:25:15.438297",
     "status": "completed"
    },
    "tags": [
     "hide_input"
    ]
   },
   "outputs": [
    {
     "data": {
      "text/html": [
       "\n",
       "<div id=\"altair-viz-bcee533f86cc4bf4bbe2face32dec011\"></div>\n",
       "<script type=\"text/javascript\">\n",
       "  (function(spec, embedOpt){\n",
       "    let outputDiv = document.currentScript.previousElementSibling;\n",
       "    if (outputDiv.id !== \"altair-viz-bcee533f86cc4bf4bbe2face32dec011\") {\n",
       "      outputDiv = document.getElementById(\"altair-viz-bcee533f86cc4bf4bbe2face32dec011\");\n",
       "    }\n",
       "    const paths = {\n",
       "      \"vega\": \"https://cdn.jsdelivr.net/npm//vega@5?noext\",\n",
       "      \"vega-lib\": \"https://cdn.jsdelivr.net/npm//vega-lib?noext\",\n",
       "      \"vega-lite\": \"https://cdn.jsdelivr.net/npm//vega-lite@4.8.1?noext\",\n",
       "      \"vega-embed\": \"https://cdn.jsdelivr.net/npm//vega-embed@6?noext\",\n",
       "    };\n",
       "\n",
       "    function loadScript(lib) {\n",
       "      return new Promise(function(resolve, reject) {\n",
       "        var s = document.createElement('script');\n",
       "        s.src = paths[lib];\n",
       "        s.async = true;\n",
       "        s.onload = () => resolve(paths[lib]);\n",
       "        s.onerror = () => reject(`Error loading script: ${paths[lib]}`);\n",
       "        document.getElementsByTagName(\"head\")[0].appendChild(s);\n",
       "      });\n",
       "    }\n",
       "\n",
       "    function showError(err) {\n",
       "      outputDiv.innerHTML = `<div class=\"error\" style=\"color:red;\">${err}</div>`;\n",
       "      throw err;\n",
       "    }\n",
       "\n",
       "    function displayChart(vegaEmbed) {\n",
       "      vegaEmbed(outputDiv, spec, embedOpt)\n",
       "        .catch(err => showError(`Javascript Error: ${err.message}<br>This usually means there's a typo in your chart specification. See the javascript console for the full traceback.`));\n",
       "    }\n",
       "\n",
       "    if(typeof define === \"function\" && define.amd) {\n",
       "      requirejs.config({paths});\n",
       "      require([\"vega-embed\"], displayChart, err => showError(`Error loading script: ${err.message}`));\n",
       "    } else if (typeof vegaEmbed === \"function\") {\n",
       "      displayChart(vegaEmbed);\n",
       "    } else {\n",
       "      loadScript(\"vega\")\n",
       "        .then(() => loadScript(\"vega-lite\"))\n",
       "        .then(() => loadScript(\"vega-embed\"))\n",
       "        .catch(showError)\n",
       "        .then(() => displayChart(vegaEmbed));\n",
       "    }\n",
       "  })({\"config\": {\"axisLeft\": {\"labelFontSize\": 15}, \"axisBottom\": {\"labelFontSize\": 15}}, \"data\": {\"name\": \"data-0658df993cf76ef76a14e954514668ea\"}, \"mark\": \"line\", \"encoding\": {\"color\": {\"type\": \"nominal\", \"field\": \"kind\"}, \"x\": {\"type\": \"temporal\", \"field\": \"createdAt\"}, \"y\": {\"type\": \"quantitative\", \"field\": \"count\"}}, \"width\": 600, \"$schema\": \"https://vega.github.io/schema/vega-lite/v4.8.1.json\", \"datasets\": {\"data-0658df993cf76ef76a14e954514668ea\": [{\"createdAt\": \"2020-05-31T00:00:00\", \"kind\": \"prs\", \"count\": 2.0}, {\"createdAt\": \"2020-06-07T00:00:00\", \"kind\": \"prs\", \"count\": 3.0}, {\"createdAt\": \"2020-06-14T00:00:00\", \"kind\": \"prs\", \"count\": 11.0}, {\"createdAt\": \"2020-06-21T00:00:00\", \"kind\": \"prs\", \"count\": 4.0}, {\"createdAt\": \"2020-06-28T00:00:00\", \"kind\": \"prs\", \"count\": 15.0}, {\"createdAt\": \"2020-07-05T00:00:00\", \"kind\": \"prs\", \"count\": 11.0}, {\"createdAt\": \"2020-07-12T00:00:00\", \"kind\": \"prs\", \"count\": 8.0}, {\"createdAt\": \"2020-07-19T00:00:00\", \"kind\": \"prs\", \"count\": 2.0}, {\"createdAt\": \"2020-07-26T00:00:00\", \"kind\": \"prs\", \"count\": 2.0}, {\"createdAt\": \"2020-08-02T00:00:00\", \"kind\": \"prs\", \"count\": 11.0}, {\"createdAt\": \"2020-08-09T00:00:00\", \"kind\": \"prs\", \"count\": 15.0}, {\"createdAt\": \"2020-05-31T00:00:00\", \"kind\": \"comments\", \"count\": null}, {\"createdAt\": \"2020-06-07T00:00:00\", \"kind\": \"comments\", \"count\": null}, {\"createdAt\": \"2020-06-14T00:00:00\", \"kind\": \"comments\", \"count\": 56.0}, {\"createdAt\": \"2020-06-21T00:00:00\", \"kind\": \"comments\", \"count\": 84.0}, {\"createdAt\": \"2020-06-28T00:00:00\", \"kind\": \"comments\", \"count\": 83.0}, {\"createdAt\": \"2020-07-05T00:00:00\", \"kind\": \"comments\", \"count\": 78.0}, {\"createdAt\": \"2020-07-12T00:00:00\", \"kind\": \"comments\", \"count\": 73.0}, {\"createdAt\": \"2020-07-19T00:00:00\", \"kind\": \"comments\", \"count\": 115.0}, {\"createdAt\": \"2020-07-26T00:00:00\", \"kind\": \"comments\", \"count\": 114.0}, {\"createdAt\": \"2020-08-02T00:00:00\", \"kind\": \"comments\", \"count\": 117.0}, {\"createdAt\": \"2020-08-09T00:00:00\", \"kind\": \"comments\", \"count\": 127.0}]}}, {\"mode\": \"vega-lite\"});\n",
       "</script>"
      ],
      "text/plain": [
       "alt.Chart(...)"
      ]
     },
     "execution_count": 17,
     "metadata": {},
     "output_type": "execute_result"
    }
   ],
   "source": [
    "alt.Chart(total_time, width=600).mark_line().encode(\n",
    "    x='createdAt',\n",
    "    y='count',\n",
    "    color='kind'\n",
    ")"
   ]
  }
 ],
 "metadata": {
  "kernelspec": {
   "display_name": "Python 3",
   "language": "python",
   "name": "python3"
  },
  "language_info": {
   "codemirror_mode": {
    "name": "ipython",
    "version": 3
   },
   "file_extension": ".py",
   "mimetype": "text/x-python",
   "name": "python",
   "nbconvert_exporter": "python",
   "pygments_lexer": "ipython3",
   "version": "3.7.8"
  },
  "papermill": {
   "duration": 3.338986,
   "end_time": "2020-08-09T15:25:15.807808",
   "environment_variables": {},
   "exception": null,
   "input_path": "./person.ipynb",
   "output_path": "people/choldgraf.ipynb",
   "parameters": {
    "n_days": 60,
    "person": "choldgraf"
   },
   "start_time": "2020-08-09T15:25:12.468822",
   "version": "2.1.2"
  },
  "widgets": {
   "application/vnd.jupyter.widget-state+json": {
    "state": {},
    "version_major": 2,
    "version_minor": 0
   }
  }
 },
 "nbformat": 4,
 "nbformat_minor": 4
}