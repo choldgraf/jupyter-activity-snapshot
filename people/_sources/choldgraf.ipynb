{
 "cells": [
  {
   "cell_type": "markdown",
   "metadata": {
    "papermill": {
     "duration": 0.013181,
     "end_time": "2020-09-27T01:28:02.445452",
     "exception": false,
     "start_time": "2020-09-27T01:28:02.432271",
     "status": "completed"
    },
    "tags": []
   },
   "source": [
    "# Report for choldgraf"
   ]
  },
  {
   "cell_type": "code",
   "execution_count": 1,
   "metadata": {
    "execution": {
     "iopub.execute_input": "2020-09-27T01:28:02.480585Z",
     "iopub.status.busy": "2020-09-27T01:28:02.479961Z",
     "iopub.status.idle": "2020-09-27T01:28:03.435555Z",
     "shell.execute_reply": "2020-09-27T01:28:03.434556Z"
    },
    "papermill": {
     "duration": 0.97614,
     "end_time": "2020-09-27T01:28:03.435871",
     "exception": false,
     "start_time": "2020-09-27T01:28:02.459731",
     "status": "completed"
    },
    "tags": [
     "remove_cell"
    ]
   },
   "outputs": [],
   "source": [
    "import seaborn as sns\n",
    "import pandas as pd\n",
    "import numpy as np\n",
    "import altair as alt\n",
    "from markdown import markdown\n",
    "from IPython.display import Markdown\n",
    "from ipywidgets.widgets import HTML, Tab\n",
    "from ipywidgets import widgets\n",
    "from datetime import timedelta\n",
    "from matplotlib import pyplot as plt\n",
    "import os.path as op\n",
    "\n",
    "from mycode import alt_theme\n",
    "from warnings import simplefilter\n",
    "simplefilter('ignore')"
   ]
  },
  {
   "cell_type": "code",
   "execution_count": 2,
   "metadata": {
    "execution": {
     "iopub.execute_input": "2020-09-27T01:28:03.470110Z",
     "iopub.status.busy": "2020-09-27T01:28:03.469553Z",
     "iopub.status.idle": "2020-09-27T01:28:03.473488Z",
     "shell.execute_reply": "2020-09-27T01:28:03.472984Z"
    },
    "papermill": {
     "duration": 0.0213,
     "end_time": "2020-09-27T01:28:03.473610",
     "exception": false,
     "start_time": "2020-09-27T01:28:03.452310",
     "status": "completed"
    },
    "tags": [
     "remove_cell"
    ]
   },
   "outputs": [],
   "source": [
    "def author_url(author):\n",
    "    return f\"https://github.com/{author}\""
   ]
  },
  {
   "cell_type": "code",
   "execution_count": 3,
   "metadata": {
    "execution": {
     "iopub.execute_input": "2020-09-27T01:28:03.503440Z",
     "iopub.status.busy": "2020-09-27T01:28:03.502890Z",
     "iopub.status.idle": "2020-09-27T01:28:03.505365Z",
     "shell.execute_reply": "2020-09-27T01:28:03.504915Z"
    },
    "papermill": {
     "duration": 0.019601,
     "end_time": "2020-09-27T01:28:03.505481",
     "exception": false,
     "start_time": "2020-09-27T01:28:03.485880",
     "status": "completed"
    },
    "tags": [
     "parameters",
     "hide_input"
    ]
   },
   "outputs": [],
   "source": [
    "# Parameters\n",
    "fmt_date = \"{:%Y-%m-%d}\"\n",
    "\n",
    "n_days = 30 * 2\n",
    "start_date = fmt_date.format(pd.datetime.today() - timedelta(days=n_days))\n",
    "end_date = fmt_date.format(pd.datetime.today())\n",
    "\n",
    "renderer = \"html\"\n",
    "person = \"jasongrout\""
   ]
  },
  {
   "cell_type": "code",
   "execution_count": 4,
   "metadata": {
    "execution": {
     "iopub.execute_input": "2020-09-27T01:28:03.534155Z",
     "iopub.status.busy": "2020-09-27T01:28:03.533605Z",
     "iopub.status.idle": "2020-09-27T01:28:03.535359Z",
     "shell.execute_reply": "2020-09-27T01:28:03.535906Z"
    },
    "papermill": {
     "duration": 0.018208,
     "end_time": "2020-09-27T01:28:03.536040",
     "exception": false,
     "start_time": "2020-09-27T01:28:03.517832",
     "status": "completed"
    },
    "tags": [
     "injected-parameters",
     "remove-cell"
    ]
   },
   "outputs": [],
   "source": [
    "# Parameters\n",
    "person = \"choldgraf\"\n",
    "n_days = 60\n"
   ]
  },
  {
   "cell_type": "code",
   "execution_count": 5,
   "metadata": {
    "execution": {
     "iopub.execute_input": "2020-09-27T01:28:03.567055Z",
     "iopub.status.busy": "2020-09-27T01:28:03.566506Z",
     "iopub.status.idle": "2020-09-27T01:28:03.568980Z",
     "shell.execute_reply": "2020-09-27T01:28:03.569544Z"
    },
    "papermill": {
     "duration": 0.021276,
     "end_time": "2020-09-27T01:28:03.569682",
     "exception": false,
     "start_time": "2020-09-27T01:28:03.548406",
     "status": "completed"
    },
    "tags": [
     "remove_cell"
    ]
   },
   "outputs": [
    {
     "data": {
      "text/plain": [
       "ThemeRegistry.enable('my_theme')"
      ]
     },
     "execution_count": 5,
     "metadata": {},
     "output_type": "execute_result"
    }
   ],
   "source": [
    "alt.renderers.enable(renderer);\n",
    "alt.themes.register('my_theme', alt_theme)\n",
    "alt.themes.enable(\"my_theme\")"
   ]
  },
  {
   "cell_type": "markdown",
   "metadata": {
    "papermill": {
     "duration": 0.013251,
     "end_time": "2020-09-27T01:28:03.597333",
     "exception": false,
     "start_time": "2020-09-27T01:28:03.584082",
     "status": "completed"
    },
    "tags": []
   },
   "source": [
    "## Load data"
   ]
  },
  {
   "cell_type": "code",
   "execution_count": 6,
   "metadata": {
    "execution": {
     "iopub.execute_input": "2020-09-27T01:28:03.630216Z",
     "iopub.status.busy": "2020-09-27T01:28:03.629656Z",
     "iopub.status.idle": "2020-09-27T01:28:03.827272Z",
     "shell.execute_reply": "2020-09-27T01:28:03.826612Z"
    },
    "papermill": {
     "duration": 0.216699,
     "end_time": "2020-09-27T01:28:03.827417",
     "exception": false,
     "start_time": "2020-09-27T01:28:03.610718",
     "status": "completed"
    },
    "tags": [
     "remove_cell"
    ]
   },
   "outputs": [],
   "source": [
    "from pathlib import Path\n",
    "path_data = Path(\"./\")\n",
    "comments = pd.read_csv(path_data.joinpath('comments.csv'), index_col=0)\n",
    "issues = pd.read_csv(path_data.joinpath('issues.csv'), index_col=0)\n",
    "prs = pd.read_csv(path_data.joinpath('prs.csv'), index_col=0)\n",
    "\n",
    "comments = comments.query('author == @person').drop_duplicates()\n",
    "issues = issues.query('author == @person').drop_duplicates()\n",
    "closed_by = prs.query('mergedBy == @person')\n",
    "prs = prs.query('author == @person').drop_duplicates()"
   ]
  },
  {
   "cell_type": "code",
   "execution_count": 7,
   "metadata": {
    "execution": {
     "iopub.execute_input": "2020-09-27T01:28:03.892746Z",
     "iopub.status.busy": "2020-09-27T01:28:03.879852Z",
     "iopub.status.idle": "2020-09-27T01:28:03.916291Z",
     "shell.execute_reply": "2020-09-27T01:28:03.916964Z"
    },
    "papermill": {
     "duration": 0.074261,
     "end_time": "2020-09-27T01:28:03.917192",
     "exception": false,
     "start_time": "2020-09-27T01:28:03.842931",
     "status": "completed"
    },
    "tags": [
     "remove_cell"
    ]
   },
   "outputs": [],
   "source": [
    "# Time columns\n",
    "# Also drop dates outside of our range\n",
    "time_columns = ['updatedAt', 'createdAt', 'closedAt']\n",
    "for col in time_columns:\n",
    "    for item in [comments, issues, prs, closed_by]:\n",
    "        if col not in item.columns:\n",
    "            continue\n",
    "        dt = pd.to_datetime(item[col]).dt.tz_localize(None)\n",
    "        item[col] = dt\n",
    "        item.query(\"updatedAt < @end_date and updatedAt > @start_date\", inplace=True)"
   ]
  },
  {
   "cell_type": "markdown",
   "metadata": {
    "papermill": {
     "duration": 0.013436,
     "end_time": "2020-09-27T01:28:03.944336",
     "exception": false,
     "start_time": "2020-09-27T01:28:03.930900",
     "status": "completed"
    },
    "tags": []
   },
   "source": [
    "# Repository summaries"
   ]
  },
  {
   "cell_type": "code",
   "execution_count": 8,
   "metadata": {
    "execution": {
     "iopub.execute_input": "2020-09-27T01:28:03.987168Z",
     "iopub.status.busy": "2020-09-27T01:28:03.986588Z",
     "iopub.status.idle": "2020-09-27T01:28:03.998632Z",
     "shell.execute_reply": "2020-09-27T01:28:03.998141Z"
    },
    "papermill": {
     "duration": 0.039495,
     "end_time": "2020-09-27T01:28:03.998766",
     "exception": false,
     "start_time": "2020-09-27T01:28:03.959271",
     "status": "completed"
    },
    "tags": [
     "remove_cell"
    ]
   },
   "outputs": [],
   "source": [
    "summaries = []\n",
    "for idata, name in [(issues, 'issues'), (prs, 'prs'), (comments, 'comments')]:\n",
    "    idata = idata.groupby([\"repo\", \"org\"]).agg({'id': \"count\"}).reset_index().rename(columns={'id': 'count'})\n",
    "    idata[\"kind\"] = name\n",
    "    summaries.append(idata)\n",
    "summaries = pd.concat(summaries)"
   ]
  },
  {
   "cell_type": "code",
   "execution_count": 9,
   "metadata": {
    "execution": {
     "iopub.execute_input": "2020-09-27T01:28:04.033846Z",
     "iopub.status.busy": "2020-09-27T01:28:04.033286Z",
     "iopub.status.idle": "2020-09-27T01:28:04.040062Z",
     "shell.execute_reply": "2020-09-27T01:28:04.039479Z"
    },
    "papermill": {
     "duration": 0.028021,
     "end_time": "2020-09-27T01:28:04.040188",
     "exception": false,
     "start_time": "2020-09-27T01:28:04.012167",
     "status": "completed"
    },
    "tags": [
     "remove_cell"
    ]
   },
   "outputs": [],
   "source": [
    "repo_summaries = summaries.groupby([\"repo\", \"kind\"]).agg({\"count\": \"sum\"}).reset_index()\n",
    "org_summaries = summaries.groupby([\"org\", \"kind\"]).agg({\"count\": \"sum\"}).reset_index()"
   ]
  },
  {
   "cell_type": "code",
   "execution_count": 10,
   "metadata": {
    "execution": {
     "iopub.execute_input": "2020-09-27T01:28:04.072992Z",
     "iopub.status.busy": "2020-09-27T01:28:04.072312Z",
     "iopub.status.idle": "2020-09-27T01:28:04.074788Z",
     "shell.execute_reply": "2020-09-27T01:28:04.074306Z"
    },
    "papermill": {
     "duration": 0.021069,
     "end_time": "2020-09-27T01:28:04.075009",
     "exception": false,
     "start_time": "2020-09-27T01:28:04.053940",
     "status": "completed"
    },
    "tags": [
     "remove_cell"
    ]
   },
   "outputs": [],
   "source": [
    "repo_summaries['logcount'] = np.log(repo_summaries[\"count\"])"
   ]
  },
  {
   "cell_type": "code",
   "execution_count": 11,
   "metadata": {
    "execution": {
     "iopub.execute_input": "2020-09-27T01:28:04.133458Z",
     "iopub.status.busy": "2020-09-27T01:28:04.117934Z",
     "iopub.status.idle": "2020-09-27T01:28:04.162260Z",
     "shell.execute_reply": "2020-09-27T01:28:04.161642Z"
    },
    "papermill": {
     "duration": 0.071839,
     "end_time": "2020-09-27T01:28:04.162398",
     "exception": false,
     "start_time": "2020-09-27T01:28:04.090559",
     "status": "completed"
    },
    "tags": [
     "hide_input"
    ]
   },
   "outputs": [
    {
     "data": {
      "text/html": [
       "\n",
       "<div id=\"altair-viz-34bfd44f3a2545bf8cb781e50528c452\"></div>\n",
       "<script type=\"text/javascript\">\n",
       "  (function(spec, embedOpt){\n",
       "    let outputDiv = document.currentScript.previousElementSibling;\n",
       "    if (outputDiv.id !== \"altair-viz-34bfd44f3a2545bf8cb781e50528c452\") {\n",
       "      outputDiv = document.getElementById(\"altair-viz-34bfd44f3a2545bf8cb781e50528c452\");\n",
       "    }\n",
       "    const paths = {\n",
       "      \"vega\": \"https://cdn.jsdelivr.net/npm//vega@5?noext\",\n",
       "      \"vega-lib\": \"https://cdn.jsdelivr.net/npm//vega-lib?noext\",\n",
       "      \"vega-lite\": \"https://cdn.jsdelivr.net/npm//vega-lite@4.8.1?noext\",\n",
       "      \"vega-embed\": \"https://cdn.jsdelivr.net/npm//vega-embed@6?noext\",\n",
       "    };\n",
       "\n",
       "    function loadScript(lib) {\n",
       "      return new Promise(function(resolve, reject) {\n",
       "        var s = document.createElement('script');\n",
       "        s.src = paths[lib];\n",
       "        s.async = true;\n",
       "        s.onload = () => resolve(paths[lib]);\n",
       "        s.onerror = () => reject(`Error loading script: ${paths[lib]}`);\n",
       "        document.getElementsByTagName(\"head\")[0].appendChild(s);\n",
       "      });\n",
       "    }\n",
       "\n",
       "    function showError(err) {\n",
       "      outputDiv.innerHTML = `<div class=\"error\" style=\"color:red;\">${err}</div>`;\n",
       "      throw err;\n",
       "    }\n",
       "\n",
       "    function displayChart(vegaEmbed) {\n",
       "      vegaEmbed(outputDiv, spec, embedOpt)\n",
       "        .catch(err => showError(`Javascript Error: ${err.message}<br>This usually means there's a typo in your chart specification. See the javascript console for the full traceback.`));\n",
       "    }\n",
       "\n",
       "    if(typeof define === \"function\" && define.amd) {\n",
       "      requirejs.config({paths});\n",
       "      require([\"vega-embed\"], displayChart, err => showError(`Error loading script: ${err.message}`));\n",
       "    } else if (typeof vegaEmbed === \"function\") {\n",
       "      displayChart(vegaEmbed);\n",
       "    } else {\n",
       "      loadScript(\"vega\")\n",
       "        .then(() => loadScript(\"vega-lite\"))\n",
       "        .then(() => loadScript(\"vega-embed\"))\n",
       "        .catch(showError)\n",
       "        .then(() => displayChart(vegaEmbed));\n",
       "    }\n",
       "  })({\"config\": {\"axisLeft\": {\"labelFontSize\": 15}, \"axisBottom\": {\"labelFontSize\": 15}}, \"hconcat\": [{\"mark\": \"bar\", \"encoding\": {\"color\": {\"type\": \"nominal\", \"field\": \"kind\"}, \"tooltip\": {\"type\": \"nominal\", \"field\": \"kind\"}, \"x\": {\"type\": \"nominal\", \"field\": \"repo\"}, \"y\": {\"type\": \"quantitative\", \"field\": \"count\"}}, \"title\": \"Activity per repository\", \"width\": 600}, {\"mark\": \"bar\", \"encoding\": {\"color\": {\"type\": \"nominal\", \"field\": \"kind\"}, \"tooltip\": {\"type\": \"nominal\", \"field\": \"kind\"}, \"x\": {\"type\": \"nominal\", \"field\": \"repo\"}, \"y\": {\"type\": \"quantitative\", \"field\": \"logcount\"}}, \"title\": \"Log activity per repository\", \"width\": 600}], \"data\": {\"name\": \"data-a2c8440a78a3e218aec8408cf6a14200\"}, \"$schema\": \"https://vega.github.io/schema/vega-lite/v4.8.1.json\", \"datasets\": {\"data-a2c8440a78a3e218aec8408cf6a14200\": [{\"repo\": \".github\", \"kind\": \"comments\", \"count\": 4, \"logcount\": 1.3862943611198906}, {\"repo\": \".github\", \"kind\": \"prs\", \"count\": 2, \"logcount\": 0.6931471805599453}, {\"repo\": \"MyST-NB\", \"kind\": \"comments\", \"count\": 23, \"logcount\": 3.1354942159291497}, {\"repo\": \"MyST-NB\", \"kind\": \"issues\", \"count\": 4, \"logcount\": 1.3862943611198906}, {\"repo\": \"MyST-Parser\", \"kind\": \"comments\", \"count\": 27, \"logcount\": 3.295836866004329}, {\"repo\": \"MyST-Parser\", \"kind\": \"issues\", \"count\": 3, \"logcount\": 1.0986122886681098}, {\"repo\": \"MyST-Parser\", \"kind\": \"prs\", \"count\": 3, \"logcount\": 1.0986122886681098}, {\"repo\": \"accessibility\", \"kind\": \"comments\", \"count\": 1, \"logcount\": 0.0}, {\"repo\": \"accessibility\", \"kind\": \"issues\", \"count\": 1, \"logcount\": 0.0}, {\"repo\": \"binder\", \"kind\": \"comments\", \"count\": 9, \"logcount\": 2.1972245773362196}, {\"repo\": \"enhancement-proposals\", \"kind\": \"comments\", \"count\": 8, \"logcount\": 2.0794415416798357}, {\"repo\": \"enhancement-proposals\", \"kind\": \"prs\", \"count\": 1, \"logcount\": 0.0}, {\"repo\": \"github-activity\", \"kind\": \"comments\", \"count\": 3, \"logcount\": 1.0986122886681098}, {\"repo\": \"github-activity\", \"kind\": \"issues\", \"count\": 1, \"logcount\": 0.0}, {\"repo\": \"github-activity\", \"kind\": \"prs\", \"count\": 2, \"logcount\": 0.6931471805599453}, {\"repo\": \"governance\", \"kind\": \"comments\", \"count\": 1, \"logcount\": 0.0}, {\"repo\": \"jupyter\", \"kind\": \"comments\", \"count\": 2, \"logcount\": 0.6931471805599453}, {\"repo\": \"jupyter\", \"kind\": \"issues\", \"count\": 1, \"logcount\": 0.0}, {\"repo\": \"jupyter\", \"kind\": \"prs\", \"count\": 1, \"logcount\": 0.0}, {\"repo\": \"jupyter-book\", \"kind\": \"comments\", \"count\": 188, \"logcount\": 5.236441962829949}, {\"repo\": \"jupyter-book\", \"kind\": \"issues\", \"count\": 10, \"logcount\": 2.302585092994046}, {\"repo\": \"jupyter-book\", \"kind\": \"prs\", \"count\": 21, \"logcount\": 3.044522437723423}, {\"repo\": \"jupyter-cache\", \"kind\": \"comments\", \"count\": 2, \"logcount\": 0.6931471805599453}, {\"repo\": \"jupyter-sphinx\", \"kind\": \"comments\", \"count\": 7, \"logcount\": 1.9459101490553132}, {\"repo\": \"jupyter-sphinx\", \"kind\": \"issues\", \"count\": 1, \"logcount\": 0.0}, {\"repo\": \"jupyter-sphinx\", \"kind\": \"prs\", \"count\": 2, \"logcount\": 0.6931471805599453}, {\"repo\": \"jupyter.github.io\", \"kind\": \"comments\", \"count\": 3, \"logcount\": 1.0986122886681098}, {\"repo\": \"jupyterlab\", \"kind\": \"comments\", \"count\": 2, \"logcount\": 0.6931471805599453}, {\"repo\": \"jupyterlab\", \"kind\": \"issues\", \"count\": 3, \"logcount\": 1.0986122886681098}, {\"repo\": \"jupyterlab\", \"kind\": \"prs\", \"count\": 1, \"logcount\": 0.0}, {\"repo\": \"mappings\", \"kind\": \"issues\", \"count\": 1, \"logcount\": 0.0}, {\"repo\": \"markdown-it-myst\", \"kind\": \"comments\", \"count\": 11, \"logcount\": 2.3978952727983707}, {\"repo\": \"markdown-it-myst\", \"kind\": \"issues\", \"count\": 1, \"logcount\": 0.0}, {\"repo\": \"markdown-it-py\", \"kind\": \"comments\", \"count\": 10, \"logcount\": 2.302585092994046}, {\"repo\": \"meta\", \"kind\": \"comments\", \"count\": 24, \"logcount\": 3.1780538303479458}, {\"repo\": \"meta\", \"kind\": \"issues\", \"count\": 14, \"logcount\": 2.6390573296152584}, {\"repo\": \"meta\", \"kind\": \"prs\", \"count\": 5, \"logcount\": 1.6094379124341003}, {\"repo\": \"mybinder.org-deploy\", \"kind\": \"comments\", \"count\": 6, \"logcount\": 1.791759469228055}, {\"repo\": \"mybinder.org-deploy\", \"kind\": \"issues\", \"count\": 1, \"logcount\": 0.0}, {\"repo\": \"nbclient\", \"kind\": \"comments\", \"count\": 1, \"logcount\": 0.0}, {\"repo\": \"nbconvert\", \"kind\": \"comments\", \"count\": 2, \"logcount\": 0.6931471805599453}, {\"repo\": \"nbconvert\", \"kind\": \"issues\", \"count\": 1, \"logcount\": 0.0}, {\"repo\": \"nbgrader\", \"kind\": \"comments\", \"count\": 1, \"logcount\": 0.0}, {\"repo\": \"quantecon-example\", \"kind\": \"comments\", \"count\": 1, \"logcount\": 0.0}, {\"repo\": \"repo2docker\", \"kind\": \"issues\", \"count\": 2, \"logcount\": 0.6931471805599453}, {\"repo\": \"repo2docker-action\", \"kind\": \"comments\", \"count\": 2, \"logcount\": 0.6931471805599453}, {\"repo\": \"sphinx-autobuild\", \"kind\": \"comments\", \"count\": 1, \"logcount\": 0.0}, {\"repo\": \"sphinx-book-theme\", \"kind\": \"comments\", \"count\": 108, \"logcount\": 4.68213122712422}, {\"repo\": \"sphinx-book-theme\", \"kind\": \"issues\", \"count\": 8, \"logcount\": 2.0794415416798357}, {\"repo\": \"sphinx-book-theme\", \"kind\": \"prs\", \"count\": 15, \"logcount\": 2.70805020110221}, {\"repo\": \"sphinx-comments\", \"kind\": \"comments\", \"count\": 9, \"logcount\": 2.1972245773362196}, {\"repo\": \"sphinx-comments\", \"kind\": \"issues\", \"count\": 4, \"logcount\": 1.3862943611198906}, {\"repo\": \"sphinx-comments\", \"kind\": \"prs\", \"count\": 5, \"logcount\": 1.6094379124341003}, {\"repo\": \"sphinx-copybutton\", \"kind\": \"comments\", \"count\": 3, \"logcount\": 1.0986122886681098}, {\"repo\": \"sphinx-panels\", \"kind\": \"comments\", \"count\": 2, \"logcount\": 0.6931471805599453}, {\"repo\": \"sphinx-panels\", \"kind\": \"issues\", \"count\": 2, \"logcount\": 0.6931471805599453}, {\"repo\": \"sphinx-tabs\", \"kind\": \"comments\", \"count\": 2, \"logcount\": 0.6931471805599453}, {\"repo\": \"sphinx-thebe\", \"kind\": \"comments\", \"count\": 1, \"logcount\": 0.0}, {\"repo\": \"sphinx-thebe\", \"kind\": \"issues\", \"count\": 1, \"logcount\": 0.0}, {\"repo\": \"sphinx-thebe\", \"kind\": \"prs\", \"count\": 1, \"logcount\": 0.0}, {\"repo\": \"sphinx-togglebutton\", \"kind\": \"comments\", \"count\": 3, \"logcount\": 1.0986122886681098}, {\"repo\": \"sphinx-togglebutton\", \"kind\": \"prs\", \"count\": 4, \"logcount\": 1.3862943611198906}, {\"repo\": \"sphinxcontrib-prettyproof\", \"kind\": \"comments\", \"count\": 10, \"logcount\": 2.302585092994046}, {\"repo\": \"sphinxcontrib-prettyproof\", \"kind\": \"issues\", \"count\": 2, \"logcount\": 0.6931471805599453}, {\"repo\": \"team-compass\", \"kind\": \"comments\", \"count\": 6, \"logcount\": 1.791759469228055}, {\"repo\": \"team-compass\", \"kind\": \"issues\", \"count\": 1, \"logcount\": 0.0}, {\"repo\": \"the-littlest-jupyterhub\", \"kind\": \"issues\", \"count\": 1, \"logcount\": 0.0}, {\"repo\": \"thebe\", \"kind\": \"comments\", \"count\": 8, \"logcount\": 2.0794415416798357}, {\"repo\": \"thebe\", \"kind\": \"issues\", \"count\": 5, \"logcount\": 1.6094379124341003}, {\"repo\": \"thebe\", \"kind\": \"prs\", \"count\": 1, \"logcount\": 0.0}, {\"repo\": \"voila\", \"kind\": \"issues\", \"count\": 2, \"logcount\": 0.6931471805599453}]}}, {\"mode\": \"vega-lite\"});\n",
       "</script>"
      ],
      "text/plain": [
       "alt.HConcatChart(...)"
      ]
     },
     "execution_count": 11,
     "metadata": {},
     "output_type": "execute_result"
    }
   ],
   "source": [
    "ch1 = alt.Chart(repo_summaries, width=600, title=\"Activity per repository\").mark_bar().encode(\n",
    "    x='repo',\n",
    "    y='count',\n",
    "    color='kind',\n",
    "    tooltip=\"kind\"\n",
    ")\n",
    "\n",
    "ch2 = alt.Chart(repo_summaries, width=600, title=\"Log activity per repository\").mark_bar().encode(\n",
    "    x='repo',\n",
    "    y='logcount',\n",
    "    color='kind',\n",
    "    tooltip=\"kind\"\n",
    ")\n",
    "\n",
    "ch1 | ch2"
   ]
  },
  {
   "cell_type": "code",
   "execution_count": 12,
   "metadata": {
    "execution": {
     "iopub.execute_input": "2020-09-27T01:28:04.210736Z",
     "iopub.status.busy": "2020-09-27T01:28:04.205574Z",
     "iopub.status.idle": "2020-09-27T01:28:04.223081Z",
     "shell.execute_reply": "2020-09-27T01:28:04.223647Z"
    },
    "papermill": {
     "duration": 0.046461,
     "end_time": "2020-09-27T01:28:04.223816",
     "exception": false,
     "start_time": "2020-09-27T01:28:04.177355",
     "status": "completed"
    },
    "tags": [
     "hide_input"
    ]
   },
   "outputs": [
    {
     "data": {
      "text/html": [
       "\n",
       "<div id=\"altair-viz-7617b82d0038496b8c2e048000c63b69\"></div>\n",
       "<script type=\"text/javascript\">\n",
       "  (function(spec, embedOpt){\n",
       "    let outputDiv = document.currentScript.previousElementSibling;\n",
       "    if (outputDiv.id !== \"altair-viz-7617b82d0038496b8c2e048000c63b69\") {\n",
       "      outputDiv = document.getElementById(\"altair-viz-7617b82d0038496b8c2e048000c63b69\");\n",
       "    }\n",
       "    const paths = {\n",
       "      \"vega\": \"https://cdn.jsdelivr.net/npm//vega@5?noext\",\n",
       "      \"vega-lib\": \"https://cdn.jsdelivr.net/npm//vega-lib?noext\",\n",
       "      \"vega-lite\": \"https://cdn.jsdelivr.net/npm//vega-lite@4.8.1?noext\",\n",
       "      \"vega-embed\": \"https://cdn.jsdelivr.net/npm//vega-embed@6?noext\",\n",
       "    };\n",
       "\n",
       "    function loadScript(lib) {\n",
       "      return new Promise(function(resolve, reject) {\n",
       "        var s = document.createElement('script');\n",
       "        s.src = paths[lib];\n",
       "        s.async = true;\n",
       "        s.onload = () => resolve(paths[lib]);\n",
       "        s.onerror = () => reject(`Error loading script: ${paths[lib]}`);\n",
       "        document.getElementsByTagName(\"head\")[0].appendChild(s);\n",
       "      });\n",
       "    }\n",
       "\n",
       "    function showError(err) {\n",
       "      outputDiv.innerHTML = `<div class=\"error\" style=\"color:red;\">${err}</div>`;\n",
       "      throw err;\n",
       "    }\n",
       "\n",
       "    function displayChart(vegaEmbed) {\n",
       "      vegaEmbed(outputDiv, spec, embedOpt)\n",
       "        .catch(err => showError(`Javascript Error: ${err.message}<br>This usually means there's a typo in your chart specification. See the javascript console for the full traceback.`));\n",
       "    }\n",
       "\n",
       "    if(typeof define === \"function\" && define.amd) {\n",
       "      requirejs.config({paths});\n",
       "      require([\"vega-embed\"], displayChart, err => showError(`Error loading script: ${err.message}`));\n",
       "    } else if (typeof vegaEmbed === \"function\") {\n",
       "      displayChart(vegaEmbed);\n",
       "    } else {\n",
       "      loadScript(\"vega\")\n",
       "        .then(() => loadScript(\"vega-lite\"))\n",
       "        .then(() => loadScript(\"vega-embed\"))\n",
       "        .catch(showError)\n",
       "        .then(() => displayChart(vegaEmbed));\n",
       "    }\n",
       "  })({\"config\": {\"axisLeft\": {\"labelFontSize\": 15}, \"axisBottom\": {\"labelFontSize\": 15}}, \"data\": {\"name\": \"data-2886d2e5caec05b57a9f0a7b140f74e1\"}, \"mark\": \"bar\", \"encoding\": {\"color\": {\"type\": \"nominal\", \"field\": \"kind\"}, \"tooltip\": {\"type\": \"nominal\", \"field\": \"org\"}, \"x\": {\"type\": \"nominal\", \"field\": \"org\"}, \"y\": {\"type\": \"quantitative\", \"field\": \"count\"}}, \"width\": 600, \"$schema\": \"https://vega.github.io/schema/vega-lite/v4.8.1.json\", \"datasets\": {\"data-2886d2e5caec05b57a9f0a7b140f74e1\": [{\"org\": \"executablebooks\", \"kind\": \"comments\", \"count\": 440}, {\"org\": \"executablebooks\", \"kind\": \"issues\", \"count\": 56}, {\"org\": \"executablebooks\", \"kind\": \"prs\", \"count\": 58}, {\"org\": \"jupyter\", \"kind\": \"comments\", \"count\": 26}, {\"org\": \"jupyter\", \"kind\": \"issues\", \"count\": 4}, {\"org\": \"jupyter\", \"kind\": \"prs\", \"count\": 4}, {\"org\": \"jupyterhub\", \"kind\": \"comments\", \"count\": 22}, {\"org\": \"jupyterhub\", \"kind\": \"issues\", \"count\": 5}, {\"org\": \"jupyterhub\", \"kind\": \"prs\", \"count\": 1}, {\"org\": \"jupyterlab\", \"kind\": \"comments\", \"count\": 3}, {\"org\": \"jupyterlab\", \"kind\": \"issues\", \"count\": 3}, {\"org\": \"jupyterlab\", \"kind\": \"prs\", \"count\": 1}, {\"org\": \"voila-dashboards\", \"kind\": \"issues\", \"count\": 2}]}}, {\"mode\": \"vega-lite\"});\n",
       "</script>"
      ],
      "text/plain": [
       "alt.Chart(...)"
      ]
     },
     "execution_count": 12,
     "metadata": {},
     "output_type": "execute_result"
    }
   ],
   "source": [
    "alt.Chart(org_summaries, width=600).mark_bar().encode(\n",
    "    x='org',\n",
    "    y='count',\n",
    "    color='kind',\n",
    "    tooltip=\"org\"\n",
    ")"
   ]
  },
  {
   "cell_type": "markdown",
   "metadata": {
    "papermill": {
     "duration": 0.016287,
     "end_time": "2020-09-27T01:28:04.256704",
     "exception": false,
     "start_time": "2020-09-27T01:28:04.240417",
     "status": "completed"
    },
    "tags": []
   },
   "source": [
    "# By repository over time"
   ]
  },
  {
   "cell_type": "markdown",
   "metadata": {
    "papermill": {
     "duration": 0.015049,
     "end_time": "2020-09-27T01:28:04.287508",
     "exception": false,
     "start_time": "2020-09-27T01:28:04.272459",
     "status": "completed"
    },
    "tags": []
   },
   "source": [
    "## Comments"
   ]
  },
  {
   "cell_type": "code",
   "execution_count": 13,
   "metadata": {
    "execution": {
     "iopub.execute_input": "2020-09-27T01:28:04.326037Z",
     "iopub.status.busy": "2020-09-27T01:28:04.325467Z",
     "iopub.status.idle": "2020-09-27T01:28:04.456765Z",
     "shell.execute_reply": "2020-09-27T01:28:04.457658Z"
    },
    "papermill": {
     "duration": 0.155429,
     "end_time": "2020-09-27T01:28:04.457878",
     "exception": false,
     "start_time": "2020-09-27T01:28:04.302449",
     "status": "completed"
    },
    "tags": [
     "hide_input"
    ]
   },
   "outputs": [
    {
     "data": {
      "text/html": [
       "\n",
       "<div id=\"altair-viz-f1347d8bc52546f4a9c361664bb2d3e2\"></div>\n",
       "<script type=\"text/javascript\">\n",
       "  (function(spec, embedOpt){\n",
       "    let outputDiv = document.currentScript.previousElementSibling;\n",
       "    if (outputDiv.id !== \"altair-viz-f1347d8bc52546f4a9c361664bb2d3e2\") {\n",
       "      outputDiv = document.getElementById(\"altair-viz-f1347d8bc52546f4a9c361664bb2d3e2\");\n",
       "    }\n",
       "    const paths = {\n",
       "      \"vega\": \"https://cdn.jsdelivr.net/npm//vega@5?noext\",\n",
       "      \"vega-lib\": \"https://cdn.jsdelivr.net/npm//vega-lib?noext\",\n",
       "      \"vega-lite\": \"https://cdn.jsdelivr.net/npm//vega-lite@4.8.1?noext\",\n",
       "      \"vega-embed\": \"https://cdn.jsdelivr.net/npm//vega-embed@6?noext\",\n",
       "    };\n",
       "\n",
       "    function loadScript(lib) {\n",
       "      return new Promise(function(resolve, reject) {\n",
       "        var s = document.createElement('script');\n",
       "        s.src = paths[lib];\n",
       "        s.async = true;\n",
       "        s.onload = () => resolve(paths[lib]);\n",
       "        s.onerror = () => reject(`Error loading script: ${paths[lib]}`);\n",
       "        document.getElementsByTagName(\"head\")[0].appendChild(s);\n",
       "      });\n",
       "    }\n",
       "\n",
       "    function showError(err) {\n",
       "      outputDiv.innerHTML = `<div class=\"error\" style=\"color:red;\">${err}</div>`;\n",
       "      throw err;\n",
       "    }\n",
       "\n",
       "    function displayChart(vegaEmbed) {\n",
       "      vegaEmbed(outputDiv, spec, embedOpt)\n",
       "        .catch(err => showError(`Javascript Error: ${err.message}<br>This usually means there's a typo in your chart specification. See the javascript console for the full traceback.`));\n",
       "    }\n",
       "\n",
       "    if(typeof define === \"function\" && define.amd) {\n",
       "      requirejs.config({paths});\n",
       "      require([\"vega-embed\"], displayChart, err => showError(`Error loading script: ${err.message}`));\n",
       "    } else if (typeof vegaEmbed === \"function\") {\n",
       "      displayChart(vegaEmbed);\n",
       "    } else {\n",
       "      loadScript(\"vega\")\n",
       "        .then(() => loadScript(\"vega-lite\"))\n",
       "        .then(() => loadScript(\"vega-embed\"))\n",
       "        .catch(showError)\n",
       "        .then(() => displayChart(vegaEmbed));\n",
       "    }\n",
       "  })({\"config\": {\"axisLeft\": {\"labelFontSize\": 15}, \"axisBottom\": {\"labelFontSize\": 15}}, \"layer\": [{\"data\": {\"name\": \"data-50f23ae2902748eca04659829046512c\"}, \"mark\": \"line\", \"encoding\": {\"color\": {\"type\": \"nominal\", \"field\": \"repo\"}, \"tooltip\": {\"type\": \"nominal\", \"field\": \"repo\"}, \"x\": {\"type\": \"temporal\", \"field\": \"createdAt\"}, \"y\": {\"type\": \"quantitative\", \"field\": \"count\"}}, \"width\": 600}, {\"data\": {\"name\": \"data-0b81c8ca7f902ce372c754872ed3c3d2\"}, \"mark\": {\"type\": \"line\", \"color\": \"black\"}, \"encoding\": {\"x\": {\"type\": \"temporal\", \"field\": \"createdAt\"}, \"y\": {\"type\": \"quantitative\", \"field\": \"count\"}}, \"width\": 600}], \"$schema\": \"https://vega.github.io/schema/vega-lite/v4.8.1.json\", \"datasets\": {\"data-50f23ae2902748eca04659829046512c\": [{\"repo\": \".github\", \"createdAt\": \"2020-08-02T00:00:00\", \"count\": 1}, {\"repo\": \".github\", \"createdAt\": \"2020-08-09T00:00:00\", \"count\": 3}, {\"repo\": \"MyST-NB\", \"createdAt\": \"2020-08-09T00:00:00\", \"count\": 7}, {\"repo\": \"MyST-NB\", \"createdAt\": \"2020-08-16T00:00:00\", \"count\": 7}, {\"repo\": \"MyST-NB\", \"createdAt\": \"2020-08-23T00:00:00\", \"count\": 1}, {\"repo\": \"MyST-NB\", \"createdAt\": \"2020-08-30T00:00:00\", \"count\": 1}, {\"repo\": \"MyST-NB\", \"createdAt\": \"2020-09-06T00:00:00\", \"count\": 2}, {\"repo\": \"MyST-NB\", \"createdAt\": \"2020-09-13T00:00:00\", \"count\": 0}, {\"repo\": \"MyST-NB\", \"createdAt\": \"2020-09-20T00:00:00\", \"count\": 0}, {\"repo\": \"MyST-NB\", \"createdAt\": \"2020-09-27T00:00:00\", \"count\": 5}, {\"repo\": \"MyST-Parser\", \"createdAt\": \"2020-08-02T00:00:00\", \"count\": 1}, {\"repo\": \"MyST-Parser\", \"createdAt\": \"2020-08-09T00:00:00\", \"count\": 7}, {\"repo\": \"MyST-Parser\", \"createdAt\": \"2020-08-16T00:00:00\", \"count\": 4}, {\"repo\": \"MyST-Parser\", \"createdAt\": \"2020-08-23T00:00:00\", \"count\": 1}, {\"repo\": \"MyST-Parser\", \"createdAt\": \"2020-08-30T00:00:00\", \"count\": 0}, {\"repo\": \"MyST-Parser\", \"createdAt\": \"2020-09-06T00:00:00\", \"count\": 1}, {\"repo\": \"MyST-Parser\", \"createdAt\": \"2020-09-13T00:00:00\", \"count\": 0}, {\"repo\": \"MyST-Parser\", \"createdAt\": \"2020-09-20T00:00:00\", \"count\": 2}, {\"repo\": \"MyST-Parser\", \"createdAt\": \"2020-09-27T00:00:00\", \"count\": 11}, {\"repo\": \"accessibility\", \"createdAt\": \"2020-08-09T00:00:00\", \"count\": 1}, {\"repo\": \"binder\", \"createdAt\": \"2020-08-09T00:00:00\", \"count\": 3}, {\"repo\": \"binder\", \"createdAt\": \"2020-08-16T00:00:00\", \"count\": 2}, {\"repo\": \"binder\", \"createdAt\": \"2020-08-23T00:00:00\", \"count\": 1}, {\"repo\": \"binder\", \"createdAt\": \"2020-08-30T00:00:00\", \"count\": 0}, {\"repo\": \"binder\", \"createdAt\": \"2020-09-06T00:00:00\", \"count\": 3}, {\"repo\": \"enhancement-proposals\", \"createdAt\": \"2020-08-16T00:00:00\", \"count\": 4}, {\"repo\": \"enhancement-proposals\", \"createdAt\": \"2020-08-23T00:00:00\", \"count\": 0}, {\"repo\": \"enhancement-proposals\", \"createdAt\": \"2020-08-30T00:00:00\", \"count\": 0}, {\"repo\": \"enhancement-proposals\", \"createdAt\": \"2020-09-06T00:00:00\", \"count\": 2}, {\"repo\": \"enhancement-proposals\", \"createdAt\": \"2020-09-13T00:00:00\", \"count\": 0}, {\"repo\": \"enhancement-proposals\", \"createdAt\": \"2020-09-20T00:00:00\", \"count\": 1}, {\"repo\": \"enhancement-proposals\", \"createdAt\": \"2020-09-27T00:00:00\", \"count\": 1}, {\"repo\": \"github-activity\", \"createdAt\": \"2020-08-09T00:00:00\", \"count\": 1}, {\"repo\": \"github-activity\", \"createdAt\": \"2020-08-16T00:00:00\", \"count\": 2}, {\"repo\": \"governance\", \"createdAt\": \"2020-08-09T00:00:00\", \"count\": 1}, {\"repo\": \"jupyter\", \"createdAt\": \"2020-09-20T00:00:00\", \"count\": 2}, {\"repo\": \"jupyter-book\", \"createdAt\": \"2020-08-02T00:00:00\", \"count\": 44}, {\"repo\": \"jupyter-book\", \"createdAt\": \"2020-08-09T00:00:00\", \"count\": 48}, {\"repo\": \"jupyter-book\", \"createdAt\": \"2020-08-16T00:00:00\", \"count\": 25}, {\"repo\": \"jupyter-book\", \"createdAt\": \"2020-08-23T00:00:00\", \"count\": 7}, {\"repo\": \"jupyter-book\", \"createdAt\": \"2020-08-30T00:00:00\", \"count\": 7}, {\"repo\": \"jupyter-book\", \"createdAt\": \"2020-09-06T00:00:00\", \"count\": 19}, {\"repo\": \"jupyter-book\", \"createdAt\": \"2020-09-13T00:00:00\", \"count\": 7}, {\"repo\": \"jupyter-book\", \"createdAt\": \"2020-09-20T00:00:00\", \"count\": 12}, {\"repo\": \"jupyter-book\", \"createdAt\": \"2020-09-27T00:00:00\", \"count\": 19}, {\"repo\": \"jupyter-cache\", \"createdAt\": \"2020-09-27T00:00:00\", \"count\": 2}, {\"repo\": \"jupyter-sphinx\", \"createdAt\": \"2020-08-30T00:00:00\", \"count\": 2}, {\"repo\": \"jupyter-sphinx\", \"createdAt\": \"2020-09-06T00:00:00\", \"count\": 0}, {\"repo\": \"jupyter-sphinx\", \"createdAt\": \"2020-09-13T00:00:00\", \"count\": 0}, {\"repo\": \"jupyter-sphinx\", \"createdAt\": \"2020-09-20T00:00:00\", \"count\": 0}, {\"repo\": \"jupyter-sphinx\", \"createdAt\": \"2020-09-27T00:00:00\", \"count\": 5}, {\"repo\": \"jupyter.github.io\", \"createdAt\": \"2020-09-13T00:00:00\", \"count\": 2}, {\"repo\": \"jupyter.github.io\", \"createdAt\": \"2020-09-20T00:00:00\", \"count\": 1}, {\"repo\": \"jupyterlab\", \"createdAt\": \"2020-09-06T00:00:00\", \"count\": 1}, {\"repo\": \"jupyterlab\", \"createdAt\": \"2020-09-13T00:00:00\", \"count\": 0}, {\"repo\": \"jupyterlab\", \"createdAt\": \"2020-09-20T00:00:00\", \"count\": 0}, {\"repo\": \"jupyterlab\", \"createdAt\": \"2020-09-27T00:00:00\", \"count\": 1}, {\"repo\": \"markdown-it-myst\", \"createdAt\": \"2020-08-02T00:00:00\", \"count\": 7}, {\"repo\": \"markdown-it-myst\", \"createdAt\": \"2020-08-09T00:00:00\", \"count\": 4}, {\"repo\": \"markdown-it-py\", \"createdAt\": \"2020-08-09T00:00:00\", \"count\": 5}, {\"repo\": \"markdown-it-py\", \"createdAt\": \"2020-08-16T00:00:00\", \"count\": 4}, {\"repo\": \"markdown-it-py\", \"createdAt\": \"2020-08-23T00:00:00\", \"count\": 0}, {\"repo\": \"markdown-it-py\", \"createdAt\": \"2020-08-30T00:00:00\", \"count\": 0}, {\"repo\": \"markdown-it-py\", \"createdAt\": \"2020-09-06T00:00:00\", \"count\": 0}, {\"repo\": \"markdown-it-py\", \"createdAt\": \"2020-09-13T00:00:00\", \"count\": 0}, {\"repo\": \"markdown-it-py\", \"createdAt\": \"2020-09-20T00:00:00\", \"count\": 0}, {\"repo\": \"markdown-it-py\", \"createdAt\": \"2020-09-27T00:00:00\", \"count\": 1}, {\"repo\": \"meta\", \"createdAt\": \"2020-08-02T00:00:00\", \"count\": 2}, {\"repo\": \"meta\", \"createdAt\": \"2020-08-09T00:00:00\", \"count\": 5}, {\"repo\": \"meta\", \"createdAt\": \"2020-08-16T00:00:00\", \"count\": 8}, {\"repo\": \"meta\", \"createdAt\": \"2020-08-23T00:00:00\", \"count\": 2}, {\"repo\": \"meta\", \"createdAt\": \"2020-08-30T00:00:00\", \"count\": 0}, {\"repo\": \"meta\", \"createdAt\": \"2020-09-06T00:00:00\", \"count\": 0}, {\"repo\": \"meta\", \"createdAt\": \"2020-09-13T00:00:00\", \"count\": 1}, {\"repo\": \"meta\", \"createdAt\": \"2020-09-20T00:00:00\", \"count\": 3}, {\"repo\": \"meta\", \"createdAt\": \"2020-09-27T00:00:00\", \"count\": 3}, {\"repo\": \"mybinder.org-deploy\", \"createdAt\": \"2020-08-23T00:00:00\", \"count\": 1}, {\"repo\": \"mybinder.org-deploy\", \"createdAt\": \"2020-08-30T00:00:00\", \"count\": 0}, {\"repo\": \"mybinder.org-deploy\", \"createdAt\": \"2020-09-06T00:00:00\", \"count\": 0}, {\"repo\": \"mybinder.org-deploy\", \"createdAt\": \"2020-09-13T00:00:00\", \"count\": 0}, {\"repo\": \"mybinder.org-deploy\", \"createdAt\": \"2020-09-20T00:00:00\", \"count\": 1}, {\"repo\": \"mybinder.org-deploy\", \"createdAt\": \"2020-09-27T00:00:00\", \"count\": 4}, {\"repo\": \"nbclient\", \"createdAt\": \"2020-09-13T00:00:00\", \"count\": 1}, {\"repo\": \"nbconvert\", \"createdAt\": \"2020-09-13T00:00:00\", \"count\": 2}, {\"repo\": \"nbgrader\", \"createdAt\": \"2020-08-23T00:00:00\", \"count\": 1}, {\"repo\": \"quantecon-example\", \"createdAt\": \"2020-08-02T00:00:00\", \"count\": 1}, {\"repo\": \"repo2docker-action\", \"createdAt\": \"2020-08-02T00:00:00\", \"count\": 2}, {\"repo\": \"sphinx-autobuild\", \"createdAt\": \"2020-08-16T00:00:00\", \"count\": 1}, {\"repo\": \"sphinx-book-theme\", \"createdAt\": \"2020-08-02T00:00:00\", \"count\": 9}, {\"repo\": \"sphinx-book-theme\", \"createdAt\": \"2020-08-09T00:00:00\", \"count\": 46}, {\"repo\": \"sphinx-book-theme\", \"createdAt\": \"2020-08-16T00:00:00\", \"count\": 10}, {\"repo\": \"sphinx-book-theme\", \"createdAt\": \"2020-08-23T00:00:00\", \"count\": 4}, {\"repo\": \"sphinx-book-theme\", \"createdAt\": \"2020-08-30T00:00:00\", \"count\": 6}, {\"repo\": \"sphinx-book-theme\", \"createdAt\": \"2020-09-06T00:00:00\", \"count\": 5}, {\"repo\": \"sphinx-book-theme\", \"createdAt\": \"2020-09-13T00:00:00\", \"count\": 4}, {\"repo\": \"sphinx-book-theme\", \"createdAt\": \"2020-09-20T00:00:00\", \"count\": 2}, {\"repo\": \"sphinx-book-theme\", \"createdAt\": \"2020-09-27T00:00:00\", \"count\": 22}, {\"repo\": \"sphinx-comments\", \"createdAt\": \"2020-08-09T00:00:00\", \"count\": 4}, {\"repo\": \"sphinx-comments\", \"createdAt\": \"2020-08-16T00:00:00\", \"count\": 3}, {\"repo\": \"sphinx-comments\", \"createdAt\": \"2020-08-23T00:00:00\", \"count\": 0}, {\"repo\": \"sphinx-comments\", \"createdAt\": \"2020-08-30T00:00:00\", \"count\": 0}, {\"repo\": \"sphinx-comments\", \"createdAt\": \"2020-09-06T00:00:00\", \"count\": 0}, {\"repo\": \"sphinx-comments\", \"createdAt\": \"2020-09-13T00:00:00\", \"count\": 0}, {\"repo\": \"sphinx-comments\", \"createdAt\": \"2020-09-20T00:00:00\", \"count\": 1}, {\"repo\": \"sphinx-comments\", \"createdAt\": \"2020-09-27T00:00:00\", \"count\": 1}, {\"repo\": \"sphinx-copybutton\", \"createdAt\": \"2020-09-27T00:00:00\", \"count\": 3}, {\"repo\": \"sphinx-panels\", \"createdAt\": \"2020-09-13T00:00:00\", \"count\": 1}, {\"repo\": \"sphinx-panels\", \"createdAt\": \"2020-09-20T00:00:00\", \"count\": 0}, {\"repo\": \"sphinx-panels\", \"createdAt\": \"2020-09-27T00:00:00\", \"count\": 1}, {\"repo\": \"sphinx-tabs\", \"createdAt\": \"2020-08-23T00:00:00\", \"count\": 2}, {\"repo\": \"sphinx-thebe\", \"createdAt\": \"2020-08-16T00:00:00\", \"count\": 1}, {\"repo\": \"sphinx-togglebutton\", \"createdAt\": \"2020-09-13T00:00:00\", \"count\": 3}, {\"repo\": \"sphinxcontrib-prettyproof\", \"createdAt\": \"2020-09-27T00:00:00\", \"count\": 10}, {\"repo\": \"team-compass\", \"createdAt\": \"2020-08-02T00:00:00\", \"count\": 1}, {\"repo\": \"team-compass\", \"createdAt\": \"2020-08-09T00:00:00\", \"count\": 2}, {\"repo\": \"team-compass\", \"createdAt\": \"2020-08-16T00:00:00\", \"count\": 0}, {\"repo\": \"team-compass\", \"createdAt\": \"2020-08-23T00:00:00\", \"count\": 1}, {\"repo\": \"team-compass\", \"createdAt\": \"2020-08-30T00:00:00\", \"count\": 0}, {\"repo\": \"team-compass\", \"createdAt\": \"2020-09-06T00:00:00\", \"count\": 1}, {\"repo\": \"team-compass\", \"createdAt\": \"2020-09-13T00:00:00\", \"count\": 0}, {\"repo\": \"team-compass\", \"createdAt\": \"2020-09-20T00:00:00\", \"count\": 1}, {\"repo\": \"thebe\", \"createdAt\": \"2020-08-16T00:00:00\", \"count\": 6}, {\"repo\": \"thebe\", \"createdAt\": \"2020-08-23T00:00:00\", \"count\": 0}, {\"repo\": \"thebe\", \"createdAt\": \"2020-08-30T00:00:00\", \"count\": 1}, {\"repo\": \"thebe\", \"createdAt\": \"2020-09-06T00:00:00\", \"count\": 0}, {\"repo\": \"thebe\", \"createdAt\": \"2020-09-13T00:00:00\", \"count\": 0}, {\"repo\": \"thebe\", \"createdAt\": \"2020-09-20T00:00:00\", \"count\": 0}, {\"repo\": \"thebe\", \"createdAt\": \"2020-09-27T00:00:00\", \"count\": 1}], \"data-0b81c8ca7f902ce372c754872ed3c3d2\": [{\"createdAt\": \"2020-08-02T00:00:00\", \"count\": 68}, {\"createdAt\": \"2020-08-09T00:00:00\", \"count\": 137}, {\"createdAt\": \"2020-08-16T00:00:00\", \"count\": 77}, {\"createdAt\": \"2020-08-23T00:00:00\", \"count\": 21}, {\"createdAt\": \"2020-08-30T00:00:00\", \"count\": 17}, {\"createdAt\": \"2020-09-06T00:00:00\", \"count\": 34}, {\"createdAt\": \"2020-09-13T00:00:00\", \"count\": 21}, {\"createdAt\": \"2020-09-20T00:00:00\", \"count\": 26}, {\"createdAt\": \"2020-09-27T00:00:00\", \"count\": 90}]}}, {\"mode\": \"vega-lite\"});\n",
       "</script>"
      ],
      "text/plain": [
       "alt.LayerChart(...)"
      ]
     },
     "execution_count": 13,
     "metadata": {},
     "output_type": "execute_result"
    }
   ],
   "source": [
    "comments_time = comments.groupby('repo').resample('W', on='createdAt').count()['author'].reset_index()\n",
    "comments_time = comments_time.rename(columns={'author': 'count'})\n",
    "comments_time_total = comments_time.groupby('createdAt').agg({\"count\": \"sum\"}).reset_index()\n",
    "ch1 = alt.Chart(comments_time, width=600).mark_line().encode(\n",
    "    x='createdAt',\n",
    "    y='count',\n",
    "    color='repo',\n",
    "    tooltip=\"repo\"\n",
    ")\n",
    "\n",
    "ch2 = alt.Chart(comments_time_total, width=600).mark_line(color=\"black\").encode(\n",
    "    x='createdAt',\n",
    "    y='count',\n",
    ")\n",
    "\n",
    "ch1 + ch2"
   ]
  },
  {
   "cell_type": "markdown",
   "metadata": {
    "papermill": {
     "duration": 0.016928,
     "end_time": "2020-09-27T01:28:04.493368",
     "exception": false,
     "start_time": "2020-09-27T01:28:04.476440",
     "status": "completed"
    },
    "tags": []
   },
   "source": [
    "## PRs"
   ]
  },
  {
   "cell_type": "code",
   "execution_count": 14,
   "metadata": {
    "execution": {
     "iopub.execute_input": "2020-09-27T01:28:04.535160Z",
     "iopub.status.busy": "2020-09-27T01:28:04.534572Z",
     "iopub.status.idle": "2020-09-27T01:28:04.619968Z",
     "shell.execute_reply": "2020-09-27T01:28:04.620937Z"
    },
    "papermill": {
     "duration": 0.111705,
     "end_time": "2020-09-27T01:28:04.621196",
     "exception": false,
     "start_time": "2020-09-27T01:28:04.509491",
     "status": "completed"
    },
    "tags": [
     "hide_input"
    ]
   },
   "outputs": [
    {
     "data": {
      "text/html": [
       "\n",
       "<div id=\"altair-viz-3de67e962b734f79bb3c034628457c12\"></div>\n",
       "<script type=\"text/javascript\">\n",
       "  (function(spec, embedOpt){\n",
       "    let outputDiv = document.currentScript.previousElementSibling;\n",
       "    if (outputDiv.id !== \"altair-viz-3de67e962b734f79bb3c034628457c12\") {\n",
       "      outputDiv = document.getElementById(\"altair-viz-3de67e962b734f79bb3c034628457c12\");\n",
       "    }\n",
       "    const paths = {\n",
       "      \"vega\": \"https://cdn.jsdelivr.net/npm//vega@5?noext\",\n",
       "      \"vega-lib\": \"https://cdn.jsdelivr.net/npm//vega-lib?noext\",\n",
       "      \"vega-lite\": \"https://cdn.jsdelivr.net/npm//vega-lite@4.8.1?noext\",\n",
       "      \"vega-embed\": \"https://cdn.jsdelivr.net/npm//vega-embed@6?noext\",\n",
       "    };\n",
       "\n",
       "    function loadScript(lib) {\n",
       "      return new Promise(function(resolve, reject) {\n",
       "        var s = document.createElement('script');\n",
       "        s.src = paths[lib];\n",
       "        s.async = true;\n",
       "        s.onload = () => resolve(paths[lib]);\n",
       "        s.onerror = () => reject(`Error loading script: ${paths[lib]}`);\n",
       "        document.getElementsByTagName(\"head\")[0].appendChild(s);\n",
       "      });\n",
       "    }\n",
       "\n",
       "    function showError(err) {\n",
       "      outputDiv.innerHTML = `<div class=\"error\" style=\"color:red;\">${err}</div>`;\n",
       "      throw err;\n",
       "    }\n",
       "\n",
       "    function displayChart(vegaEmbed) {\n",
       "      vegaEmbed(outputDiv, spec, embedOpt)\n",
       "        .catch(err => showError(`Javascript Error: ${err.message}<br>This usually means there's a typo in your chart specification. See the javascript console for the full traceback.`));\n",
       "    }\n",
       "\n",
       "    if(typeof define === \"function\" && define.amd) {\n",
       "      requirejs.config({paths});\n",
       "      require([\"vega-embed\"], displayChart, err => showError(`Error loading script: ${err.message}`));\n",
       "    } else if (typeof vegaEmbed === \"function\") {\n",
       "      displayChart(vegaEmbed);\n",
       "    } else {\n",
       "      loadScript(\"vega\")\n",
       "        .then(() => loadScript(\"vega-lite\"))\n",
       "        .then(() => loadScript(\"vega-embed\"))\n",
       "        .catch(showError)\n",
       "        .then(() => displayChart(vegaEmbed));\n",
       "    }\n",
       "  })({\"config\": {\"axisLeft\": {\"labelFontSize\": 15}, \"axisBottom\": {\"labelFontSize\": 15}}, \"layer\": [{\"data\": {\"name\": \"data-41668ef022133adc986f3b36deb0055d\"}, \"mark\": \"line\", \"encoding\": {\"color\": {\"type\": \"nominal\", \"field\": \"repo\"}, \"tooltip\": {\"type\": \"nominal\", \"field\": \"repo\"}, \"x\": {\"type\": \"temporal\", \"field\": \"createdAt\"}, \"y\": {\"type\": \"quantitative\", \"field\": \"count\"}}, \"width\": 600}, {\"data\": {\"name\": \"data-6683afe07dae7700b5633f5e575bdd98\"}, \"mark\": {\"type\": \"line\", \"color\": \"black\"}, \"encoding\": {\"x\": {\"type\": \"temporal\", \"field\": \"createdAt\"}, \"y\": {\"type\": \"quantitative\", \"field\": \"count\"}}, \"width\": 600}], \"$schema\": \"https://vega.github.io/schema/vega-lite/v4.8.1.json\", \"datasets\": {\"data-41668ef022133adc986f3b36deb0055d\": [{\"repo\": \".github\", \"createdAt\": \"2020-08-02T00:00:00\", \"count\": 2}, {\"repo\": \"MyST-Parser\", \"createdAt\": \"2020-09-20T00:00:00\", \"count\": 1}, {\"repo\": \"MyST-Parser\", \"createdAt\": \"2020-09-27T00:00:00\", \"count\": 2}, {\"repo\": \"enhancement-proposals\", \"createdAt\": \"2020-08-30T00:00:00\", \"count\": 1}, {\"repo\": \"github-activity\", \"createdAt\": \"2020-08-09T00:00:00\", \"count\": 2}, {\"repo\": \"jupyter\", \"createdAt\": \"2020-09-20T00:00:00\", \"count\": 1}, {\"repo\": \"jupyter-book\", \"createdAt\": \"2020-08-02T00:00:00\", \"count\": 5}, {\"repo\": \"jupyter-book\", \"createdAt\": \"2020-08-09T00:00:00\", \"count\": 5}, {\"repo\": \"jupyter-book\", \"createdAt\": \"2020-08-16T00:00:00\", \"count\": 2}, {\"repo\": \"jupyter-book\", \"createdAt\": \"2020-08-23T00:00:00\", \"count\": 0}, {\"repo\": \"jupyter-book\", \"createdAt\": \"2020-08-30T00:00:00\", \"count\": 1}, {\"repo\": \"jupyter-book\", \"createdAt\": \"2020-09-06T00:00:00\", \"count\": 3}, {\"repo\": \"jupyter-book\", \"createdAt\": \"2020-09-13T00:00:00\", \"count\": 0}, {\"repo\": \"jupyter-book\", \"createdAt\": \"2020-09-20T00:00:00\", \"count\": 3}, {\"repo\": \"jupyter-book\", \"createdAt\": \"2020-09-27T00:00:00\", \"count\": 2}, {\"repo\": \"jupyter-sphinx\", \"createdAt\": \"2020-06-28T00:00:00\", \"count\": 1}, {\"repo\": \"jupyter-sphinx\", \"createdAt\": \"2020-07-05T00:00:00\", \"count\": 0}, {\"repo\": \"jupyter-sphinx\", \"createdAt\": \"2020-07-12T00:00:00\", \"count\": 0}, {\"repo\": \"jupyter-sphinx\", \"createdAt\": \"2020-07-19T00:00:00\", \"count\": 0}, {\"repo\": \"jupyter-sphinx\", \"createdAt\": \"2020-07-26T00:00:00\", \"count\": 0}, {\"repo\": \"jupyter-sphinx\", \"createdAt\": \"2020-08-02T00:00:00\", \"count\": 0}, {\"repo\": \"jupyter-sphinx\", \"createdAt\": \"2020-08-09T00:00:00\", \"count\": 0}, {\"repo\": \"jupyter-sphinx\", \"createdAt\": \"2020-08-16T00:00:00\", \"count\": 0}, {\"repo\": \"jupyter-sphinx\", \"createdAt\": \"2020-08-23T00:00:00\", \"count\": 0}, {\"repo\": \"jupyter-sphinx\", \"createdAt\": \"2020-08-30T00:00:00\", \"count\": 0}, {\"repo\": \"jupyter-sphinx\", \"createdAt\": \"2020-09-06T00:00:00\", \"count\": 0}, {\"repo\": \"jupyter-sphinx\", \"createdAt\": \"2020-09-13T00:00:00\", \"count\": 0}, {\"repo\": \"jupyter-sphinx\", \"createdAt\": \"2020-09-20T00:00:00\", \"count\": 0}, {\"repo\": \"jupyter-sphinx\", \"createdAt\": \"2020-09-27T00:00:00\", \"count\": 1}, {\"repo\": \"jupyterlab\", \"createdAt\": \"2020-08-09T00:00:00\", \"count\": 1}, {\"repo\": \"meta\", \"createdAt\": \"2020-08-02T00:00:00\", \"count\": 2}, {\"repo\": \"meta\", \"createdAt\": \"2020-08-09T00:00:00\", \"count\": 1}, {\"repo\": \"meta\", \"createdAt\": \"2020-08-16T00:00:00\", \"count\": 0}, {\"repo\": \"meta\", \"createdAt\": \"2020-08-23T00:00:00\", \"count\": 0}, {\"repo\": \"meta\", \"createdAt\": \"2020-08-30T00:00:00\", \"count\": 0}, {\"repo\": \"meta\", \"createdAt\": \"2020-09-06T00:00:00\", \"count\": 1}, {\"repo\": \"meta\", \"createdAt\": \"2020-09-13T00:00:00\", \"count\": 1}, {\"repo\": \"sphinx-book-theme\", \"createdAt\": \"2020-08-02T00:00:00\", \"count\": 1}, {\"repo\": \"sphinx-book-theme\", \"createdAt\": \"2020-08-09T00:00:00\", \"count\": 7}, {\"repo\": \"sphinx-book-theme\", \"createdAt\": \"2020-08-16T00:00:00\", \"count\": 2}, {\"repo\": \"sphinx-book-theme\", \"createdAt\": \"2020-08-23T00:00:00\", \"count\": 1}, {\"repo\": \"sphinx-book-theme\", \"createdAt\": \"2020-08-30T00:00:00\", \"count\": 0}, {\"repo\": \"sphinx-book-theme\", \"createdAt\": \"2020-09-06T00:00:00\", \"count\": 1}, {\"repo\": \"sphinx-book-theme\", \"createdAt\": \"2020-09-13T00:00:00\", \"count\": 0}, {\"repo\": \"sphinx-book-theme\", \"createdAt\": \"2020-09-20T00:00:00\", \"count\": 0}, {\"repo\": \"sphinx-book-theme\", \"createdAt\": \"2020-09-27T00:00:00\", \"count\": 3}, {\"repo\": \"sphinx-comments\", \"createdAt\": \"2020-08-16T00:00:00\", \"count\": 4}, {\"repo\": \"sphinx-comments\", \"createdAt\": \"2020-08-23T00:00:00\", \"count\": 0}, {\"repo\": \"sphinx-comments\", \"createdAt\": \"2020-08-30T00:00:00\", \"count\": 0}, {\"repo\": \"sphinx-comments\", \"createdAt\": \"2020-09-06T00:00:00\", \"count\": 0}, {\"repo\": \"sphinx-comments\", \"createdAt\": \"2020-09-13T00:00:00\", \"count\": 0}, {\"repo\": \"sphinx-comments\", \"createdAt\": \"2020-09-20T00:00:00\", \"count\": 0}, {\"repo\": \"sphinx-comments\", \"createdAt\": \"2020-09-27T00:00:00\", \"count\": 1}, {\"repo\": \"sphinx-thebe\", \"createdAt\": \"2020-08-16T00:00:00\", \"count\": 1}, {\"repo\": \"sphinx-togglebutton\", \"createdAt\": \"2020-08-09T00:00:00\", \"count\": 3}, {\"repo\": \"sphinx-togglebutton\", \"createdAt\": \"2020-08-16T00:00:00\", \"count\": 0}, {\"repo\": \"sphinx-togglebutton\", \"createdAt\": \"2020-08-23T00:00:00\", \"count\": 0}, {\"repo\": \"sphinx-togglebutton\", \"createdAt\": \"2020-08-30T00:00:00\", \"count\": 0}, {\"repo\": \"sphinx-togglebutton\", \"createdAt\": \"2020-09-06T00:00:00\", \"count\": 0}, {\"repo\": \"sphinx-togglebutton\", \"createdAt\": \"2020-09-13T00:00:00\", \"count\": 1}, {\"repo\": \"thebe\", \"createdAt\": \"2020-08-16T00:00:00\", \"count\": 1}], \"data-6683afe07dae7700b5633f5e575bdd98\": [{\"createdAt\": \"2020-06-28T00:00:00\", \"count\": 1}, {\"createdAt\": \"2020-07-05T00:00:00\", \"count\": 0}, {\"createdAt\": \"2020-07-12T00:00:00\", \"count\": 0}, {\"createdAt\": \"2020-07-19T00:00:00\", \"count\": 0}, {\"createdAt\": \"2020-07-26T00:00:00\", \"count\": 0}, {\"createdAt\": \"2020-08-02T00:00:00\", \"count\": 10}, {\"createdAt\": \"2020-08-09T00:00:00\", \"count\": 19}, {\"createdAt\": \"2020-08-16T00:00:00\", \"count\": 10}, {\"createdAt\": \"2020-08-23T00:00:00\", \"count\": 1}, {\"createdAt\": \"2020-08-30T00:00:00\", \"count\": 2}, {\"createdAt\": \"2020-09-06T00:00:00\", \"count\": 5}, {\"createdAt\": \"2020-09-13T00:00:00\", \"count\": 2}, {\"createdAt\": \"2020-09-20T00:00:00\", \"count\": 5}, {\"createdAt\": \"2020-09-27T00:00:00\", \"count\": 9}]}}, {\"mode\": \"vega-lite\"});\n",
       "</script>"
      ],
      "text/plain": [
       "alt.LayerChart(...)"
      ]
     },
     "execution_count": 14,
     "metadata": {},
     "output_type": "execute_result"
    }
   ],
   "source": [
    "prs_time = prs.groupby('repo').resample('W', on='createdAt').count()['author'].reset_index()\n",
    "prs_time = prs_time.rename(columns={'author': 'count'})\n",
    "prs_time_total = prs_time.groupby('createdAt').agg({\"count\": \"sum\"}).reset_index()\n",
    "\n",
    "ch1 = alt.Chart(prs_time, width=600).mark_line().encode(\n",
    "    x='createdAt',\n",
    "    y='count',\n",
    "    color='repo',\n",
    "    tooltip=\"repo\"\n",
    ")\n",
    "\n",
    "ch2 = alt.Chart(prs_time_total, width=600).mark_line(color=\"black\").encode(\n",
    "    x='createdAt',\n",
    "    y='count',\n",
    ")\n",
    "\n",
    "ch1 + ch2"
   ]
  },
  {
   "cell_type": "code",
   "execution_count": 15,
   "metadata": {
    "execution": {
     "iopub.execute_input": "2020-09-27T01:28:04.680457Z",
     "iopub.status.busy": "2020-09-27T01:28:04.673932Z",
     "iopub.status.idle": "2020-09-27T01:28:04.744648Z",
     "shell.execute_reply": "2020-09-27T01:28:04.744001Z"
    },
    "papermill": {
     "duration": 0.102698,
     "end_time": "2020-09-27T01:28:04.744792",
     "exception": false,
     "start_time": "2020-09-27T01:28:04.642094",
     "status": "completed"
    },
    "tags": [
     "hide_input"
    ]
   },
   "outputs": [
    {
     "data": {
      "text/html": [
       "\n",
       "<div id=\"altair-viz-7ff0d339d94946028e98741555d9d940\"></div>\n",
       "<script type=\"text/javascript\">\n",
       "  (function(spec, embedOpt){\n",
       "    let outputDiv = document.currentScript.previousElementSibling;\n",
       "    if (outputDiv.id !== \"altair-viz-7ff0d339d94946028e98741555d9d940\") {\n",
       "      outputDiv = document.getElementById(\"altair-viz-7ff0d339d94946028e98741555d9d940\");\n",
       "    }\n",
       "    const paths = {\n",
       "      \"vega\": \"https://cdn.jsdelivr.net/npm//vega@5?noext\",\n",
       "      \"vega-lib\": \"https://cdn.jsdelivr.net/npm//vega-lib?noext\",\n",
       "      \"vega-lite\": \"https://cdn.jsdelivr.net/npm//vega-lite@4.8.1?noext\",\n",
       "      \"vega-embed\": \"https://cdn.jsdelivr.net/npm//vega-embed@6?noext\",\n",
       "    };\n",
       "\n",
       "    function loadScript(lib) {\n",
       "      return new Promise(function(resolve, reject) {\n",
       "        var s = document.createElement('script');\n",
       "        s.src = paths[lib];\n",
       "        s.async = true;\n",
       "        s.onload = () => resolve(paths[lib]);\n",
       "        s.onerror = () => reject(`Error loading script: ${paths[lib]}`);\n",
       "        document.getElementsByTagName(\"head\")[0].appendChild(s);\n",
       "      });\n",
       "    }\n",
       "\n",
       "    function showError(err) {\n",
       "      outputDiv.innerHTML = `<div class=\"error\" style=\"color:red;\">${err}</div>`;\n",
       "      throw err;\n",
       "    }\n",
       "\n",
       "    function displayChart(vegaEmbed) {\n",
       "      vegaEmbed(outputDiv, spec, embedOpt)\n",
       "        .catch(err => showError(`Javascript Error: ${err.message}<br>This usually means there's a typo in your chart specification. See the javascript console for the full traceback.`));\n",
       "    }\n",
       "\n",
       "    if(typeof define === \"function\" && define.amd) {\n",
       "      requirejs.config({paths});\n",
       "      require([\"vega-embed\"], displayChart, err => showError(`Error loading script: ${err.message}`));\n",
       "    } else if (typeof vegaEmbed === \"function\") {\n",
       "      displayChart(vegaEmbed);\n",
       "    } else {\n",
       "      loadScript(\"vega\")\n",
       "        .then(() => loadScript(\"vega-lite\"))\n",
       "        .then(() => loadScript(\"vega-embed\"))\n",
       "        .catch(showError)\n",
       "        .then(() => displayChart(vegaEmbed));\n",
       "    }\n",
       "  })({\"config\": {\"axisLeft\": {\"labelFontSize\": 15}, \"axisBottom\": {\"labelFontSize\": 15}}, \"data\": {\"name\": \"data-6868e5cdbe3ed73c5bc76af21e779367\"}, \"mark\": \"line\", \"encoding\": {\"color\": {\"type\": \"nominal\", \"field\": \"repo\"}, \"tooltip\": {\"type\": \"nominal\", \"field\": \"repo\"}, \"x\": {\"type\": \"temporal\", \"field\": \"closedAt\"}, \"y\": {\"type\": \"quantitative\", \"field\": \"count\"}}, \"width\": 600, \"$schema\": \"https://vega.github.io/schema/vega-lite/v4.8.1.json\", \"datasets\": {\"data-6868e5cdbe3ed73c5bc76af21e779367\": [{\"repo\": \".github\", \"closedAt\": \"2020-08-09T00:00:00\", \"count\": 3}, {\"repo\": \".github\", \"closedAt\": \"2020-08-16T00:00:00\", \"count\": 0}, {\"repo\": \".github\", \"closedAt\": \"2020-08-23T00:00:00\", \"count\": 0}, {\"repo\": \".github\", \"closedAt\": \"2020-08-30T00:00:00\", \"count\": 1}, {\"repo\": \"MyST-NB\", \"closedAt\": \"2020-09-06T00:00:00\", \"count\": 1}, {\"repo\": \"MyST-Parser\", \"closedAt\": \"2020-09-20T00:00:00\", \"count\": 1}, {\"repo\": \"MyST-Parser\", \"closedAt\": \"2020-09-27T00:00:00\", \"count\": 1}, {\"repo\": \"binder\", \"closedAt\": \"2020-08-09T00:00:00\", \"count\": 1}, {\"repo\": \"binder\", \"closedAt\": \"2020-08-16T00:00:00\", \"count\": 2}, {\"repo\": \"enhancement-proposals\", \"closedAt\": \"2020-08-30T00:00:00\", \"count\": 1}, {\"repo\": \"github-activity\", \"closedAt\": \"2020-08-09T00:00:00\", \"count\": 2}, {\"repo\": \"jupyter-book\", \"closedAt\": \"2020-08-02T00:00:00\", \"count\": 5}, {\"repo\": \"jupyter-book\", \"closedAt\": \"2020-08-09T00:00:00\", \"count\": 12}, {\"repo\": \"jupyter-book\", \"closedAt\": \"2020-08-16T00:00:00\", \"count\": 2}, {\"repo\": \"jupyter-book\", \"closedAt\": \"2020-08-23T00:00:00\", \"count\": 1}, {\"repo\": \"jupyter-book\", \"closedAt\": \"2020-08-30T00:00:00\", \"count\": 0}, {\"repo\": \"jupyter-book\", \"closedAt\": \"2020-09-06T00:00:00\", \"count\": 3}, {\"repo\": \"jupyter-book\", \"closedAt\": \"2020-09-13T00:00:00\", \"count\": 0}, {\"repo\": \"jupyter-book\", \"closedAt\": \"2020-09-20T00:00:00\", \"count\": 3}, {\"repo\": \"jupyter-book\", \"closedAt\": \"2020-09-27T00:00:00\", \"count\": 3}, {\"repo\": \"jupyter-sphinx\", \"closedAt\": \"2020-09-27T00:00:00\", \"count\": 1}, {\"repo\": \"markdown-it-myst\", \"closedAt\": \"2020-08-09T00:00:00\", \"count\": 1}, {\"repo\": \"meta\", \"closedAt\": \"2020-08-02T00:00:00\", \"count\": 2}, {\"repo\": \"meta\", \"closedAt\": \"2020-08-09T00:00:00\", \"count\": 0}, {\"repo\": \"meta\", \"closedAt\": \"2020-08-16T00:00:00\", \"count\": 1}, {\"repo\": \"meta\", \"closedAt\": \"2020-08-23T00:00:00\", \"count\": 0}, {\"repo\": \"meta\", \"closedAt\": \"2020-08-30T00:00:00\", \"count\": 0}, {\"repo\": \"meta\", \"closedAt\": \"2020-09-06T00:00:00\", \"count\": 0}, {\"repo\": \"meta\", \"closedAt\": \"2020-09-13T00:00:00\", \"count\": 2}, {\"repo\": \"nbclient\", \"closedAt\": \"2020-09-13T00:00:00\", \"count\": 1}, {\"repo\": \"sphinx-book-theme\", \"closedAt\": \"2020-08-02T00:00:00\", \"count\": 1}, {\"repo\": \"sphinx-book-theme\", \"closedAt\": \"2020-08-09T00:00:00\", \"count\": 12}, {\"repo\": \"sphinx-book-theme\", \"closedAt\": \"2020-08-16T00:00:00\", \"count\": 3}, {\"repo\": \"sphinx-book-theme\", \"closedAt\": \"2020-08-23T00:00:00\", \"count\": 0}, {\"repo\": \"sphinx-book-theme\", \"closedAt\": \"2020-08-30T00:00:00\", \"count\": 0}, {\"repo\": \"sphinx-book-theme\", \"closedAt\": \"2020-09-06T00:00:00\", \"count\": 2}, {\"repo\": \"sphinx-book-theme\", \"closedAt\": \"2020-09-13T00:00:00\", \"count\": 1}, {\"repo\": \"sphinx-book-theme\", \"closedAt\": \"2020-09-20T00:00:00\", \"count\": 0}, {\"repo\": \"sphinx-book-theme\", \"closedAt\": \"2020-09-27T00:00:00\", \"count\": 4}, {\"repo\": \"sphinx-comments\", \"closedAt\": \"2020-08-16T00:00:00\", \"count\": 4}, {\"repo\": \"sphinx-comments\", \"closedAt\": \"2020-08-23T00:00:00\", \"count\": 0}, {\"repo\": \"sphinx-comments\", \"closedAt\": \"2020-08-30T00:00:00\", \"count\": 0}, {\"repo\": \"sphinx-comments\", \"closedAt\": \"2020-09-06T00:00:00\", \"count\": 0}, {\"repo\": \"sphinx-comments\", \"closedAt\": \"2020-09-13T00:00:00\", \"count\": 0}, {\"repo\": \"sphinx-comments\", \"closedAt\": \"2020-09-20T00:00:00\", \"count\": 0}, {\"repo\": \"sphinx-comments\", \"closedAt\": \"2020-09-27T00:00:00\", \"count\": 1}, {\"repo\": \"sphinx-copybutton\", \"closedAt\": \"2020-09-27T00:00:00\", \"count\": 1}, {\"repo\": \"sphinx-thebe\", \"closedAt\": \"2020-08-16T00:00:00\", \"count\": 1}, {\"repo\": \"sphinx-togglebutton\", \"closedAt\": \"2020-08-09T00:00:00\", \"count\": 3}, {\"repo\": \"sphinx-togglebutton\", \"closedAt\": \"2020-08-16T00:00:00\", \"count\": 0}, {\"repo\": \"sphinx-togglebutton\", \"closedAt\": \"2020-08-23T00:00:00\", \"count\": 0}, {\"repo\": \"sphinx-togglebutton\", \"closedAt\": \"2020-08-30T00:00:00\", \"count\": 0}, {\"repo\": \"sphinx-togglebutton\", \"closedAt\": \"2020-09-06T00:00:00\", \"count\": 0}, {\"repo\": \"sphinx-togglebutton\", \"closedAt\": \"2020-09-13T00:00:00\", \"count\": 2}, {\"repo\": \"sphinxcontrib-prettyproof\", \"closedAt\": \"2020-09-27T00:00:00\", \"count\": 1}, {\"repo\": \"thebe\", \"closedAt\": \"2020-08-16T00:00:00\", \"count\": 1}]}}, {\"mode\": \"vega-lite\"});\n",
       "</script>"
      ],
      "text/plain": [
       "alt.Chart(...)"
      ]
     },
     "execution_count": 15,
     "metadata": {},
     "output_type": "execute_result"
    }
   ],
   "source": [
    "closed_by_time = closed_by.groupby('repo').resample('W', on='closedAt').count()['author'].reset_index()\n",
    "closed_by_time = closed_by_time.rename(columns={'author': 'count'})\n",
    "\n",
    "alt.Chart(closed_by_time, width=600).mark_line().encode(\n",
    "    x='closedAt',\n",
    "    y='count',\n",
    "    color='repo',\n",
    "    tooltip=\"repo\"\n",
    ")"
   ]
  },
  {
   "cell_type": "markdown",
   "metadata": {
    "papermill": {
     "duration": 0.016908,
     "end_time": "2020-09-27T01:28:04.778655",
     "exception": false,
     "start_time": "2020-09-27T01:28:04.761747",
     "status": "completed"
    },
    "tags": []
   },
   "source": [
    "# By type over time"
   ]
  },
  {
   "cell_type": "code",
   "execution_count": 16,
   "metadata": {
    "execution": {
     "iopub.execute_input": "2020-09-27T01:28:04.829664Z",
     "iopub.status.busy": "2020-09-27T01:28:04.829055Z",
     "iopub.status.idle": "2020-09-27T01:28:04.843756Z",
     "shell.execute_reply": "2020-09-27T01:28:04.842636Z"
    },
    "papermill": {
     "duration": 0.046399,
     "end_time": "2020-09-27T01:28:04.843898",
     "exception": false,
     "start_time": "2020-09-27T01:28:04.797499",
     "status": "completed"
    },
    "tags": [
     "remove_cell"
    ]
   },
   "outputs": [],
   "source": [
    "prs_time = prs[['author', 'createdAt']].resample('W', on='createdAt').count()['author'].reset_index()\n",
    "prs_time = prs_time.rename(columns={'author': 'prs'})\n",
    "comments_time = comments[['author', 'createdAt']].resample('W', on='createdAt').count()['author'].reset_index()\n",
    "comments_time = comments_time.rename(columns={'author': 'comments'})\n",
    "\n",
    "total_time = pd.merge(prs_time, comments_time, on='createdAt', how='outer')\n",
    "total_time = total_time.melt(id_vars='createdAt', var_name=\"kind\", value_name=\"count\")\n"
   ]
  },
  {
   "cell_type": "code",
   "execution_count": 17,
   "metadata": {
    "execution": {
     "iopub.execute_input": "2020-09-27T01:28:04.904171Z",
     "iopub.status.busy": "2020-09-27T01:28:04.898618Z",
     "iopub.status.idle": "2020-09-27T01:28:04.908627Z",
     "shell.execute_reply": "2020-09-27T01:28:04.909082Z"
    },
    "papermill": {
     "duration": 0.047586,
     "end_time": "2020-09-27T01:28:04.909253",
     "exception": false,
     "start_time": "2020-09-27T01:28:04.861667",
     "status": "completed"
    },
    "tags": [
     "hide_input"
    ]
   },
   "outputs": [
    {
     "data": {
      "text/html": [
       "\n",
       "<div id=\"altair-viz-eb71b02ae64f495cba37fcca443feb57\"></div>\n",
       "<script type=\"text/javascript\">\n",
       "  (function(spec, embedOpt){\n",
       "    let outputDiv = document.currentScript.previousElementSibling;\n",
       "    if (outputDiv.id !== \"altair-viz-eb71b02ae64f495cba37fcca443feb57\") {\n",
       "      outputDiv = document.getElementById(\"altair-viz-eb71b02ae64f495cba37fcca443feb57\");\n",
       "    }\n",
       "    const paths = {\n",
       "      \"vega\": \"https://cdn.jsdelivr.net/npm//vega@5?noext\",\n",
       "      \"vega-lib\": \"https://cdn.jsdelivr.net/npm//vega-lib?noext\",\n",
       "      \"vega-lite\": \"https://cdn.jsdelivr.net/npm//vega-lite@4.8.1?noext\",\n",
       "      \"vega-embed\": \"https://cdn.jsdelivr.net/npm//vega-embed@6?noext\",\n",
       "    };\n",
       "\n",
       "    function loadScript(lib) {\n",
       "      return new Promise(function(resolve, reject) {\n",
       "        var s = document.createElement('script');\n",
       "        s.src = paths[lib];\n",
       "        s.async = true;\n",
       "        s.onload = () => resolve(paths[lib]);\n",
       "        s.onerror = () => reject(`Error loading script: ${paths[lib]}`);\n",
       "        document.getElementsByTagName(\"head\")[0].appendChild(s);\n",
       "      });\n",
       "    }\n",
       "\n",
       "    function showError(err) {\n",
       "      outputDiv.innerHTML = `<div class=\"error\" style=\"color:red;\">${err}</div>`;\n",
       "      throw err;\n",
       "    }\n",
       "\n",
       "    function displayChart(vegaEmbed) {\n",
       "      vegaEmbed(outputDiv, spec, embedOpt)\n",
       "        .catch(err => showError(`Javascript Error: ${err.message}<br>This usually means there's a typo in your chart specification. See the javascript console for the full traceback.`));\n",
       "    }\n",
       "\n",
       "    if(typeof define === \"function\" && define.amd) {\n",
       "      requirejs.config({paths});\n",
       "      require([\"vega-embed\"], displayChart, err => showError(`Error loading script: ${err.message}`));\n",
       "    } else if (typeof vegaEmbed === \"function\") {\n",
       "      displayChart(vegaEmbed);\n",
       "    } else {\n",
       "      loadScript(\"vega\")\n",
       "        .then(() => loadScript(\"vega-lite\"))\n",
       "        .then(() => loadScript(\"vega-embed\"))\n",
       "        .catch(showError)\n",
       "        .then(() => displayChart(vegaEmbed));\n",
       "    }\n",
       "  })({\"config\": {\"axisLeft\": {\"labelFontSize\": 15}, \"axisBottom\": {\"labelFontSize\": 15}}, \"data\": {\"name\": \"data-43cfe594172eb355c068aa2a9d1c716f\"}, \"mark\": \"line\", \"encoding\": {\"color\": {\"type\": \"nominal\", \"field\": \"kind\"}, \"x\": {\"type\": \"temporal\", \"field\": \"createdAt\"}, \"y\": {\"type\": \"quantitative\", \"field\": \"count\"}}, \"width\": 600, \"$schema\": \"https://vega.github.io/schema/vega-lite/v4.8.1.json\", \"datasets\": {\"data-43cfe594172eb355c068aa2a9d1c716f\": [{\"createdAt\": \"2020-06-28T00:00:00\", \"kind\": \"prs\", \"count\": 1.0}, {\"createdAt\": \"2020-07-05T00:00:00\", \"kind\": \"prs\", \"count\": 0.0}, {\"createdAt\": \"2020-07-12T00:00:00\", \"kind\": \"prs\", \"count\": 0.0}, {\"createdAt\": \"2020-07-19T00:00:00\", \"kind\": \"prs\", \"count\": 0.0}, {\"createdAt\": \"2020-07-26T00:00:00\", \"kind\": \"prs\", \"count\": 0.0}, {\"createdAt\": \"2020-08-02T00:00:00\", \"kind\": \"prs\", \"count\": 10.0}, {\"createdAt\": \"2020-08-09T00:00:00\", \"kind\": \"prs\", \"count\": 19.0}, {\"createdAt\": \"2020-08-16T00:00:00\", \"kind\": \"prs\", \"count\": 10.0}, {\"createdAt\": \"2020-08-23T00:00:00\", \"kind\": \"prs\", \"count\": 1.0}, {\"createdAt\": \"2020-08-30T00:00:00\", \"kind\": \"prs\", \"count\": 2.0}, {\"createdAt\": \"2020-09-06T00:00:00\", \"kind\": \"prs\", \"count\": 5.0}, {\"createdAt\": \"2020-09-13T00:00:00\", \"kind\": \"prs\", \"count\": 2.0}, {\"createdAt\": \"2020-09-20T00:00:00\", \"kind\": \"prs\", \"count\": 5.0}, {\"createdAt\": \"2020-09-27T00:00:00\", \"kind\": \"prs\", \"count\": 9.0}, {\"createdAt\": \"2020-06-28T00:00:00\", \"kind\": \"comments\", \"count\": null}, {\"createdAt\": \"2020-07-05T00:00:00\", \"kind\": \"comments\", \"count\": null}, {\"createdAt\": \"2020-07-12T00:00:00\", \"kind\": \"comments\", \"count\": null}, {\"createdAt\": \"2020-07-19T00:00:00\", \"kind\": \"comments\", \"count\": null}, {\"createdAt\": \"2020-07-26T00:00:00\", \"kind\": \"comments\", \"count\": null}, {\"createdAt\": \"2020-08-02T00:00:00\", \"kind\": \"comments\", \"count\": 68.0}, {\"createdAt\": \"2020-08-09T00:00:00\", \"kind\": \"comments\", \"count\": 137.0}, {\"createdAt\": \"2020-08-16T00:00:00\", \"kind\": \"comments\", \"count\": 77.0}, {\"createdAt\": \"2020-08-23T00:00:00\", \"kind\": \"comments\", \"count\": 21.0}, {\"createdAt\": \"2020-08-30T00:00:00\", \"kind\": \"comments\", \"count\": 17.0}, {\"createdAt\": \"2020-09-06T00:00:00\", \"kind\": \"comments\", \"count\": 34.0}, {\"createdAt\": \"2020-09-13T00:00:00\", \"kind\": \"comments\", \"count\": 21.0}, {\"createdAt\": \"2020-09-20T00:00:00\", \"kind\": \"comments\", \"count\": 26.0}, {\"createdAt\": \"2020-09-27T00:00:00\", \"kind\": \"comments\", \"count\": 90.0}]}}, {\"mode\": \"vega-lite\"});\n",
       "</script>"
      ],
      "text/plain": [
       "alt.Chart(...)"
      ]
     },
     "execution_count": 17,
     "metadata": {},
     "output_type": "execute_result"
    }
   ],
   "source": [
    "alt.Chart(total_time, width=600).mark_line().encode(\n",
    "    x='createdAt',\n",
    "    y='count',\n",
    "    color='kind'\n",
    ")"
   ]
  }
 ],
 "metadata": {
  "kernelspec": {
   "display_name": "Python 3",
   "language": "python",
   "name": "python3"
  },
  "language_info": {
   "codemirror_mode": {
    "name": "ipython",
    "version": 3
   },
   "file_extension": ".py",
   "mimetype": "text/x-python",
   "name": "python",
   "nbconvert_exporter": "python",
   "pygments_lexer": "ipython3",
   "version": "3.7.9"
  },
  "papermill": {
   "default_parameters": {},
   "duration": 3.588882,
   "end_time": "2020-09-27T01:28:05.340015",
   "environment_variables": {},
   "exception": null,
   "input_path": "./person.ipynb",
   "output_path": "people/choldgraf.ipynb",
   "parameters": {
    "n_days": 60,
    "person": "choldgraf"
   },
   "start_time": "2020-09-27T01:28:01.751133",
   "version": "2.2.0"
  },
  "widgets": {
   "application/vnd.jupyter.widget-state+json": {
    "state": {},
    "version_major": 2,
    "version_minor": 0
   }
  }
 },
 "nbformat": 4,
 "nbformat_minor": 4
}