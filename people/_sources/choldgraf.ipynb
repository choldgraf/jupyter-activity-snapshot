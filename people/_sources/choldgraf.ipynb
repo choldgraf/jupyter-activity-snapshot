{
 "cells": [
  {
   "cell_type": "markdown",
   "metadata": {
    "papermill": {
     "duration": 0.013386,
     "end_time": "2020-12-08T01:39:34.022145",
     "exception": false,
     "start_time": "2020-12-08T01:39:34.008759",
     "status": "completed"
    },
    "tags": []
   },
   "source": [
    "# Report for choldgraf"
   ]
  },
  {
   "cell_type": "code",
   "execution_count": 1,
   "metadata": {
    "execution": {
     "iopub.execute_input": "2020-12-08T01:39:34.052321Z",
     "iopub.status.busy": "2020-12-08T01:39:34.051676Z",
     "iopub.status.idle": "2020-12-08T01:39:34.796414Z",
     "shell.execute_reply": "2020-12-08T01:39:34.795327Z"
    },
    "papermill": {
     "duration": 0.763962,
     "end_time": "2020-12-08T01:39:34.796796",
     "exception": false,
     "start_time": "2020-12-08T01:39:34.032834",
     "status": "completed"
    },
    "tags": [
     "remove_cell"
    ]
   },
   "outputs": [],
   "source": [
    "import seaborn as sns\n",
    "import pandas as pd\n",
    "import numpy as np\n",
    "import altair as alt\n",
    "from markdown import markdown\n",
    "from IPython.display import Markdown\n",
    "from ipywidgets.widgets import HTML, Tab\n",
    "from ipywidgets import widgets\n",
    "from datetime import timedelta\n",
    "from matplotlib import pyplot as plt\n",
    "import os.path as op\n",
    "\n",
    "from mycode import alt_theme\n",
    "from warnings import simplefilter\n",
    "simplefilter('ignore')"
   ]
  },
  {
   "cell_type": "code",
   "execution_count": 2,
   "metadata": {
    "execution": {
     "iopub.execute_input": "2020-12-08T01:39:34.825526Z",
     "iopub.status.busy": "2020-12-08T01:39:34.824712Z",
     "iopub.status.idle": "2020-12-08T01:39:34.828876Z",
     "shell.execute_reply": "2020-12-08T01:39:34.828508Z"
    },
    "papermill": {
     "duration": 0.019236,
     "end_time": "2020-12-08T01:39:34.828984",
     "exception": false,
     "start_time": "2020-12-08T01:39:34.809748",
     "status": "completed"
    },
    "tags": [
     "remove_cell"
    ]
   },
   "outputs": [],
   "source": [
    "def author_url(author):\n",
    "    return f\"https://github.com/{author}\""
   ]
  },
  {
   "cell_type": "code",
   "execution_count": 3,
   "metadata": {
    "execution": {
     "iopub.execute_input": "2020-12-08T01:39:34.852963Z",
     "iopub.status.busy": "2020-12-08T01:39:34.852332Z",
     "iopub.status.idle": "2020-12-08T01:39:34.853610Z",
     "shell.execute_reply": "2020-12-08T01:39:34.854085Z"
    },
    "papermill": {
     "duration": 0.015187,
     "end_time": "2020-12-08T01:39:34.854251",
     "exception": false,
     "start_time": "2020-12-08T01:39:34.839064",
     "status": "completed"
    },
    "tags": [
     "parameters",
     "hide_input"
    ]
   },
   "outputs": [],
   "source": [
    "# Parameters\n",
    "fmt_date = \"{:%Y-%m-%d}\"\n",
    "\n",
    "n_days = 30 * 2\n",
    "start_date = fmt_date.format(pd.datetime.today() - timedelta(days=n_days))\n",
    "end_date = fmt_date.format(pd.datetime.today())\n",
    "\n",
    "renderer = \"html\"\n",
    "person = \"jasongrout\""
   ]
  },
  {
   "cell_type": "code",
   "execution_count": 4,
   "metadata": {
    "execution": {
     "iopub.execute_input": "2020-12-08T01:39:34.879086Z",
     "iopub.status.busy": "2020-12-08T01:39:34.878460Z",
     "iopub.status.idle": "2020-12-08T01:39:34.879756Z",
     "shell.execute_reply": "2020-12-08T01:39:34.880163Z"
    },
    "papermill": {
     "duration": 0.015152,
     "end_time": "2020-12-08T01:39:34.880284",
     "exception": false,
     "start_time": "2020-12-08T01:39:34.865132",
     "status": "completed"
    },
    "tags": [
     "injected-parameters",
     "remove-cell"
    ]
   },
   "outputs": [],
   "source": [
    "# Parameters\n",
    "person = \"choldgraf\"\n",
    "n_days = 60\n"
   ]
  },
  {
   "cell_type": "code",
   "execution_count": 5,
   "metadata": {
    "execution": {
     "iopub.execute_input": "2020-12-08T01:39:34.907706Z",
     "iopub.status.busy": "2020-12-08T01:39:34.906982Z",
     "iopub.status.idle": "2020-12-08T01:39:34.909557Z",
     "shell.execute_reply": "2020-12-08T01:39:34.910131Z"
    },
    "papermill": {
     "duration": 0.020859,
     "end_time": "2020-12-08T01:39:34.910329",
     "exception": false,
     "start_time": "2020-12-08T01:39:34.889470",
     "status": "completed"
    },
    "tags": [
     "remove_cell"
    ]
   },
   "outputs": [
    {
     "data": {
      "text/plain": [
       "ThemeRegistry.enable('my_theme')"
      ]
     },
     "execution_count": 5,
     "metadata": {},
     "output_type": "execute_result"
    }
   ],
   "source": [
    "alt.renderers.enable(renderer);\n",
    "alt.themes.register('my_theme', alt_theme)\n",
    "alt.themes.enable(\"my_theme\")"
   ]
  },
  {
   "cell_type": "markdown",
   "metadata": {
    "papermill": {
     "duration": 0.010697,
     "end_time": "2020-12-08T01:39:34.932202",
     "exception": false,
     "start_time": "2020-12-08T01:39:34.921505",
     "status": "completed"
    },
    "tags": []
   },
   "source": [
    "## Load data"
   ]
  },
  {
   "cell_type": "code",
   "execution_count": 6,
   "metadata": {
    "execution": {
     "iopub.execute_input": "2020-12-08T01:39:34.957307Z",
     "iopub.status.busy": "2020-12-08T01:39:34.956894Z",
     "iopub.status.idle": "2020-12-08T01:39:35.100181Z",
     "shell.execute_reply": "2020-12-08T01:39:35.099248Z"
    },
    "papermill": {
     "duration": 0.157732,
     "end_time": "2020-12-08T01:39:35.100463",
     "exception": false,
     "start_time": "2020-12-08T01:39:34.942731",
     "status": "completed"
    },
    "tags": [
     "remove_cell"
    ]
   },
   "outputs": [],
   "source": [
    "from pathlib import Path\n",
    "path_data = Path(\"./\")\n",
    "comments = pd.read_csv(path_data.joinpath('comments.csv'), index_col=0)\n",
    "issues = pd.read_csv(path_data.joinpath('issues.csv'), index_col=0)\n",
    "prs = pd.read_csv(path_data.joinpath('prs.csv'), index_col=0)\n",
    "\n",
    "comments = comments.query('author == @person').drop_duplicates()\n",
    "issues = issues.query('author == @person').drop_duplicates()\n",
    "closed_by = prs.query('mergedBy == @person')\n",
    "prs = prs.query('author == @person').drop_duplicates()"
   ]
  },
  {
   "cell_type": "code",
   "execution_count": 7,
   "metadata": {
    "execution": {
     "iopub.execute_input": "2020-12-08T01:39:35.137830Z",
     "iopub.status.busy": "2020-12-08T01:39:35.137232Z",
     "iopub.status.idle": "2020-12-08T01:39:35.175864Z",
     "shell.execute_reply": "2020-12-08T01:39:35.176523Z"
    },
    "papermill": {
     "duration": 0.06329,
     "end_time": "2020-12-08T01:39:35.176766",
     "exception": false,
     "start_time": "2020-12-08T01:39:35.113476",
     "status": "completed"
    },
    "tags": [
     "remove_cell"
    ]
   },
   "outputs": [],
   "source": [
    "# Time columns\n",
    "# Also drop dates outside of our range\n",
    "time_columns = ['updatedAt', 'createdAt', 'closedAt']\n",
    "for col in time_columns:\n",
    "    for item in [comments, issues, prs, closed_by]:\n",
    "        if col not in item.columns:\n",
    "            continue\n",
    "        dt = pd.to_datetime(item[col]).dt.tz_localize(None)\n",
    "        item[col] = dt\n",
    "        item.query(\"updatedAt < @end_date and updatedAt > @start_date\", inplace=True)"
   ]
  },
  {
   "cell_type": "markdown",
   "metadata": {
    "papermill": {
     "duration": 0.010564,
     "end_time": "2020-12-08T01:39:35.200060",
     "exception": false,
     "start_time": "2020-12-08T01:39:35.189496",
     "status": "completed"
    },
    "tags": []
   },
   "source": [
    "## Repository summaries"
   ]
  },
  {
   "cell_type": "code",
   "execution_count": 8,
   "metadata": {
    "execution": {
     "iopub.execute_input": "2020-12-08T01:39:35.227914Z",
     "iopub.status.busy": "2020-12-08T01:39:35.227458Z",
     "iopub.status.idle": "2020-12-08T01:39:35.239553Z",
     "shell.execute_reply": "2020-12-08T01:39:35.239194Z"
    },
    "papermill": {
     "duration": 0.02911,
     "end_time": "2020-12-08T01:39:35.239659",
     "exception": false,
     "start_time": "2020-12-08T01:39:35.210549",
     "status": "completed"
    },
    "tags": [
     "remove_cell"
    ]
   },
   "outputs": [],
   "source": [
    "summaries = []\n",
    "for idata, name in [(issues, 'issues'), (prs, 'prs'), (comments, 'comments')]:\n",
    "    idata = idata.groupby([\"repo\", \"org\"]).agg({'id': \"count\"}).reset_index().rename(columns={'id': 'count'})\n",
    "    idata[\"kind\"] = name\n",
    "    summaries.append(idata)\n",
    "summaries = pd.concat(summaries)"
   ]
  },
  {
   "cell_type": "code",
   "execution_count": 9,
   "metadata": {
    "execution": {
     "iopub.execute_input": "2020-12-08T01:39:35.265005Z",
     "iopub.status.busy": "2020-12-08T01:39:35.264587Z",
     "iopub.status.idle": "2020-12-08T01:39:35.273234Z",
     "shell.execute_reply": "2020-12-08T01:39:35.272765Z"
    },
    "papermill": {
     "duration": 0.021809,
     "end_time": "2020-12-08T01:39:35.273368",
     "exception": false,
     "start_time": "2020-12-08T01:39:35.251559",
     "status": "completed"
    },
    "tags": [
     "remove_cell"
    ]
   },
   "outputs": [],
   "source": [
    "repo_summaries = summaries.groupby([\"repo\", \"kind\"]).agg({\"count\": \"sum\"}).reset_index()\n",
    "org_summaries = summaries.groupby([\"org\", \"kind\"]).agg({\"count\": \"sum\"}).reset_index()"
   ]
  },
  {
   "cell_type": "code",
   "execution_count": 10,
   "metadata": {
    "execution": {
     "iopub.execute_input": "2020-12-08T01:39:35.300122Z",
     "iopub.status.busy": "2020-12-08T01:39:35.299470Z",
     "iopub.status.idle": "2020-12-08T01:39:35.300834Z",
     "shell.execute_reply": "2020-12-08T01:39:35.301364Z"
    },
    "papermill": {
     "duration": 0.017403,
     "end_time": "2020-12-08T01:39:35.301539",
     "exception": false,
     "start_time": "2020-12-08T01:39:35.284136",
     "status": "completed"
    },
    "tags": [
     "remove_cell"
    ]
   },
   "outputs": [],
   "source": [
    "repo_summaries['logcount'] = np.log(repo_summaries[\"count\"])"
   ]
  },
  {
   "cell_type": "code",
   "execution_count": 11,
   "metadata": {
    "execution": {
     "iopub.execute_input": "2020-12-08T01:39:35.351349Z",
     "iopub.status.busy": "2020-12-08T01:39:35.345699Z",
     "iopub.status.idle": "2020-12-08T01:39:35.364161Z",
     "shell.execute_reply": "2020-12-08T01:39:35.363805Z"
    },
    "papermill": {
     "duration": 0.05159,
     "end_time": "2020-12-08T01:39:35.364272",
     "exception": false,
     "start_time": "2020-12-08T01:39:35.312682",
     "status": "completed"
    },
    "tags": [
     "hide_input"
    ]
   },
   "outputs": [
    {
     "data": {
      "text/html": [
       "\n",
       "<div id=\"altair-viz-1fc73ff8be8340918d76dc594090c117\"></div>\n",
       "<script type=\"text/javascript\">\n",
       "  (function(spec, embedOpt){\n",
       "    let outputDiv = document.currentScript.previousElementSibling;\n",
       "    if (outputDiv.id !== \"altair-viz-1fc73ff8be8340918d76dc594090c117\") {\n",
       "      outputDiv = document.getElementById(\"altair-viz-1fc73ff8be8340918d76dc594090c117\");\n",
       "    }\n",
       "    const paths = {\n",
       "      \"vega\": \"https://cdn.jsdelivr.net/npm//vega@5?noext\",\n",
       "      \"vega-lib\": \"https://cdn.jsdelivr.net/npm//vega-lib?noext\",\n",
       "      \"vega-lite\": \"https://cdn.jsdelivr.net/npm//vega-lite@4.8.1?noext\",\n",
       "      \"vega-embed\": \"https://cdn.jsdelivr.net/npm//vega-embed@6?noext\",\n",
       "    };\n",
       "\n",
       "    function loadScript(lib) {\n",
       "      return new Promise(function(resolve, reject) {\n",
       "        var s = document.createElement('script');\n",
       "        s.src = paths[lib];\n",
       "        s.async = true;\n",
       "        s.onload = () => resolve(paths[lib]);\n",
       "        s.onerror = () => reject(`Error loading script: ${paths[lib]}`);\n",
       "        document.getElementsByTagName(\"head\")[0].appendChild(s);\n",
       "      });\n",
       "    }\n",
       "\n",
       "    function showError(err) {\n",
       "      outputDiv.innerHTML = `<div class=\"error\" style=\"color:red;\">${err}</div>`;\n",
       "      throw err;\n",
       "    }\n",
       "\n",
       "    function displayChart(vegaEmbed) {\n",
       "      vegaEmbed(outputDiv, spec, embedOpt)\n",
       "        .catch(err => showError(`Javascript Error: ${err.message}<br>This usually means there's a typo in your chart specification. See the javascript console for the full traceback.`));\n",
       "    }\n",
       "\n",
       "    if(typeof define === \"function\" && define.amd) {\n",
       "      requirejs.config({paths});\n",
       "      require([\"vega-embed\"], displayChart, err => showError(`Error loading script: ${err.message}`));\n",
       "    } else if (typeof vegaEmbed === \"function\") {\n",
       "      displayChart(vegaEmbed);\n",
       "    } else {\n",
       "      loadScript(\"vega\")\n",
       "        .then(() => loadScript(\"vega-lite\"))\n",
       "        .then(() => loadScript(\"vega-embed\"))\n",
       "        .catch(showError)\n",
       "        .then(() => displayChart(vegaEmbed));\n",
       "    }\n",
       "  })({\"config\": {\"axisLeft\": {\"labelFontSize\": 15}, \"axisBottom\": {\"labelFontSize\": 15}}, \"hconcat\": [{\"mark\": \"bar\", \"encoding\": {\"color\": {\"type\": \"nominal\", \"field\": \"kind\"}, \"tooltip\": {\"type\": \"nominal\", \"field\": \"kind\"}, \"x\": {\"type\": \"nominal\", \"field\": \"repo\"}, \"y\": {\"type\": \"quantitative\", \"field\": \"count\"}}, \"title\": \"Activity per repository\", \"width\": 600}, {\"mark\": \"bar\", \"encoding\": {\"color\": {\"type\": \"nominal\", \"field\": \"kind\"}, \"tooltip\": {\"type\": \"nominal\", \"field\": \"kind\"}, \"x\": {\"type\": \"nominal\", \"field\": \"repo\"}, \"y\": {\"type\": \"quantitative\", \"field\": \"logcount\"}}, \"title\": \"Log activity per repository\", \"width\": 600}], \"data\": {\"name\": \"data-d746c408287ee1d5445a33f7f8dbfdf3\"}, \"$schema\": \"https://vega.github.io/schema/vega-lite/v4.8.1.json\", \"datasets\": {\"data-d746c408287ee1d5445a33f7f8dbfdf3\": [{\"repo\": \".github\", \"kind\": \"prs\", \"count\": 1, \"logcount\": 0.0}, {\"repo\": \"MyST-NB\", \"kind\": \"comments\", \"count\": 14, \"logcount\": 2.6390573296152584}, {\"repo\": \"MyST-NB\", \"kind\": \"prs\", \"count\": 2, \"logcount\": 0.6931471805599453}, {\"repo\": \"MyST-Parser\", \"kind\": \"comments\", \"count\": 6, \"logcount\": 1.791759469228055}, {\"repo\": \"MyST-Parser\", \"kind\": \"issues\", \"count\": 3, \"logcount\": 1.0986122886681098}, {\"repo\": \"accessibility\", \"kind\": \"comments\", \"count\": 1, \"logcount\": 0.0}, {\"repo\": \"binder\", \"kind\": \"comments\", \"count\": 8, \"logcount\": 2.0794415416798357}, {\"repo\": \"binder\", \"kind\": \"issues\", \"count\": 1, \"logcount\": 0.0}, {\"repo\": \"binder\", \"kind\": \"prs\", \"count\": 2, \"logcount\": 0.6931471805599453}, {\"repo\": \"binderhub\", \"kind\": \"comments\", \"count\": 6, \"logcount\": 1.791759469228055}, {\"repo\": \"binderhub\", \"kind\": \"prs\", \"count\": 1, \"logcount\": 0.0}, {\"repo\": \"distinguished-contributors\", \"kind\": \"issues\", \"count\": 1, \"logcount\": 0.0}, {\"repo\": \"github-activity\", \"kind\": \"comments\", \"count\": 9, \"logcount\": 2.1972245773362196}, {\"repo\": \"governance\", \"kind\": \"comments\", \"count\": 3, \"logcount\": 1.0986122886681098}, {\"repo\": \"jupyter\", \"kind\": \"comments\", \"count\": 1, \"logcount\": 0.0}, {\"repo\": \"jupyter-book\", \"kind\": \"comments\", \"count\": 122, \"logcount\": 4.804021044733257}, {\"repo\": \"jupyter-book\", \"kind\": \"issues\", \"count\": 9, \"logcount\": 2.1972245773362196}, {\"repo\": \"jupyter-book\", \"kind\": \"prs\", \"count\": 15, \"logcount\": 2.70805020110221}, {\"repo\": \"jupyter-cache\", \"kind\": \"comments\", \"count\": 3, \"logcount\": 1.0986122886681098}, {\"repo\": \"jupyterbook-latex\", \"kind\": \"comments\", \"count\": 4, \"logcount\": 1.3862943611198906}, {\"repo\": \"jupyterlab\", \"kind\": \"comments\", \"count\": 3, \"logcount\": 1.0986122886681098}, {\"repo\": \"markdown-it-myst\", \"kind\": \"comments\", \"count\": 3, \"logcount\": 1.0986122886681098}, {\"repo\": \"markdown-it-myst\", \"kind\": \"issues\", \"count\": 2, \"logcount\": 0.6931471805599453}, {\"repo\": \"markdown-it-py\", \"kind\": \"comments\", \"count\": 3, \"logcount\": 1.0986122886681098}, {\"repo\": \"meta\", \"kind\": \"comments\", \"count\": 16, \"logcount\": 2.772588722239781}, {\"repo\": \"meta\", \"kind\": \"issues\", \"count\": 7, \"logcount\": 1.9459101490553132}, {\"repo\": \"meta\", \"kind\": \"prs\", \"count\": 2, \"logcount\": 0.6931471805599453}, {\"repo\": \"mybinder.org-deploy\", \"kind\": \"comments\", \"count\": 8, \"logcount\": 2.0794415416798357}, {\"repo\": \"mybinder.org-deploy\", \"kind\": \"issues\", \"count\": 2, \"logcount\": 0.6931471805599453}, {\"repo\": \"nbclient\", \"kind\": \"comments\", \"count\": 3, \"logcount\": 1.0986122886681098}, {\"repo\": \"notebook\", \"kind\": \"comments\", \"count\": 1, \"logcount\": 0.0}, {\"repo\": \"sphinx-book-theme\", \"kind\": \"comments\", \"count\": 80, \"logcount\": 4.382026634673881}, {\"repo\": \"sphinx-book-theme\", \"kind\": \"issues\", \"count\": 5, \"logcount\": 1.6094379124341003}, {\"repo\": \"sphinx-book-theme\", \"kind\": \"prs\", \"count\": 10, \"logcount\": 2.302585092994046}, {\"repo\": \"sphinx-conditional-asset\", \"kind\": \"prs\", \"count\": 2, \"logcount\": 0.6931471805599453}, {\"repo\": \"sphinx-copybutton\", \"kind\": \"comments\", \"count\": 5, \"logcount\": 1.6094379124341003}, {\"repo\": \"sphinx-copybutton\", \"kind\": \"issues\", \"count\": 1, \"logcount\": 0.0}, {\"repo\": \"sphinx-copybutton\", \"kind\": \"prs\", \"count\": 3, \"logcount\": 1.0986122886681098}, {\"repo\": \"sphinx-exercise\", \"kind\": \"comments\", \"count\": 6, \"logcount\": 1.791759469228055}, {\"repo\": \"sphinx-exercise\", \"kind\": \"issues\", \"count\": 3, \"logcount\": 1.0986122886681098}, {\"repo\": \"sphinx-panels\", \"kind\": \"comments\", \"count\": 11, \"logcount\": 2.3978952727983707}, {\"repo\": \"sphinx-panels\", \"kind\": \"issues\", \"count\": 3, \"logcount\": 1.0986122886681098}, {\"repo\": \"sphinx-panels\", \"kind\": \"prs\", \"count\": 2, \"logcount\": 0.6931471805599453}, {\"repo\": \"sphinx-proof\", \"kind\": \"comments\", \"count\": 1, \"logcount\": 0.0}, {\"repo\": \"sphinx-thebe\", \"kind\": \"comments\", \"count\": 9, \"logcount\": 2.1972245773362196}, {\"repo\": \"sphinx-thebe\", \"kind\": \"issues\", \"count\": 2, \"logcount\": 0.6931471805599453}, {\"repo\": \"sphinx-thebe\", \"kind\": \"prs\", \"count\": 1, \"logcount\": 0.0}, {\"repo\": \"sphinx-togglebutton\", \"kind\": \"comments\", \"count\": 11, \"logcount\": 2.3978952727983707}, {\"repo\": \"sphinx-togglebutton\", \"kind\": \"issues\", \"count\": 1, \"logcount\": 0.0}, {\"repo\": \"sphinx-togglebutton\", \"kind\": \"prs\", \"count\": 1, \"logcount\": 0.0}, {\"repo\": \"team-compass\", \"kind\": \"comments\", \"count\": 19, \"logcount\": 2.9444389791664403}, {\"repo\": \"team-compass\", \"kind\": \"issues\", \"count\": 2, \"logcount\": 0.6931471805599453}, {\"repo\": \"the-littlest-jupyterhub\", \"kind\": \"comments\", \"count\": 1, \"logcount\": 0.0}, {\"repo\": \"thebe\", \"kind\": \"comments\", \"count\": 46, \"logcount\": 3.828641396489095}, {\"repo\": \"thebe\", \"kind\": \"issues\", \"count\": 3, \"logcount\": 1.0986122886681098}, {\"repo\": \"thebe\", \"kind\": \"prs\", \"count\": 3, \"logcount\": 1.0986122886681098}, {\"repo\": \"zero-to-jupyterhub-k8s\", \"kind\": \"comments\", \"count\": 9, \"logcount\": 2.1972245773362196}, {\"repo\": \"zero-to-jupyterhub-k8s\", \"kind\": \"issues\", \"count\": 1, \"logcount\": 0.0}, {\"repo\": \"zero-to-jupyterhub-k8s\", \"kind\": \"prs\", \"count\": 1, \"logcount\": 0.0}]}}, {\"mode\": \"vega-lite\"});\n",
       "</script>"
      ],
      "text/plain": [
       "alt.HConcatChart(...)"
      ]
     },
     "execution_count": 11,
     "metadata": {},
     "output_type": "execute_result"
    }
   ],
   "source": [
    "ch1 = alt.Chart(repo_summaries, width=600, title=\"Activity per repository\").mark_bar().encode(\n",
    "    x='repo',\n",
    "    y='count',\n",
    "    color='kind',\n",
    "    tooltip=\"kind\"\n",
    ")\n",
    "\n",
    "ch2 = alt.Chart(repo_summaries, width=600, title=\"Log activity per repository\").mark_bar().encode(\n",
    "    x='repo',\n",
    "    y='logcount',\n",
    "    color='kind',\n",
    "    tooltip=\"kind\"\n",
    ")\n",
    "\n",
    "ch1 | ch2"
   ]
  },
  {
   "cell_type": "code",
   "execution_count": 12,
   "metadata": {
    "execution": {
     "iopub.execute_input": "2020-12-08T01:39:35.389585Z",
     "iopub.status.busy": "2020-12-08T01:39:35.389136Z",
     "iopub.status.idle": "2020-12-08T01:39:35.408322Z",
     "shell.execute_reply": "2020-12-08T01:39:35.408699Z"
    },
    "papermill": {
     "duration": 0.032526,
     "end_time": "2020-12-08T01:39:35.408843",
     "exception": false,
     "start_time": "2020-12-08T01:39:35.376317",
     "status": "completed"
    },
    "tags": [
     "hide_input"
    ]
   },
   "outputs": [
    {
     "data": {
      "text/html": [
       "\n",
       "<div id=\"altair-viz-38c495fc4917455caa2ecc7982f785a9\"></div>\n",
       "<script type=\"text/javascript\">\n",
       "  (function(spec, embedOpt){\n",
       "    let outputDiv = document.currentScript.previousElementSibling;\n",
       "    if (outputDiv.id !== \"altair-viz-38c495fc4917455caa2ecc7982f785a9\") {\n",
       "      outputDiv = document.getElementById(\"altair-viz-38c495fc4917455caa2ecc7982f785a9\");\n",
       "    }\n",
       "    const paths = {\n",
       "      \"vega\": \"https://cdn.jsdelivr.net/npm//vega@5?noext\",\n",
       "      \"vega-lib\": \"https://cdn.jsdelivr.net/npm//vega-lib?noext\",\n",
       "      \"vega-lite\": \"https://cdn.jsdelivr.net/npm//vega-lite@4.8.1?noext\",\n",
       "      \"vega-embed\": \"https://cdn.jsdelivr.net/npm//vega-embed@6?noext\",\n",
       "    };\n",
       "\n",
       "    function loadScript(lib) {\n",
       "      return new Promise(function(resolve, reject) {\n",
       "        var s = document.createElement('script');\n",
       "        s.src = paths[lib];\n",
       "        s.async = true;\n",
       "        s.onload = () => resolve(paths[lib]);\n",
       "        s.onerror = () => reject(`Error loading script: ${paths[lib]}`);\n",
       "        document.getElementsByTagName(\"head\")[0].appendChild(s);\n",
       "      });\n",
       "    }\n",
       "\n",
       "    function showError(err) {\n",
       "      outputDiv.innerHTML = `<div class=\"error\" style=\"color:red;\">${err}</div>`;\n",
       "      throw err;\n",
       "    }\n",
       "\n",
       "    function displayChart(vegaEmbed) {\n",
       "      vegaEmbed(outputDiv, spec, embedOpt)\n",
       "        .catch(err => showError(`Javascript Error: ${err.message}<br>This usually means there's a typo in your chart specification. See the javascript console for the full traceback.`));\n",
       "    }\n",
       "\n",
       "    if(typeof define === \"function\" && define.amd) {\n",
       "      requirejs.config({paths});\n",
       "      require([\"vega-embed\"], displayChart, err => showError(`Error loading script: ${err.message}`));\n",
       "    } else if (typeof vegaEmbed === \"function\") {\n",
       "      displayChart(vegaEmbed);\n",
       "    } else {\n",
       "      loadScript(\"vega\")\n",
       "        .then(() => loadScript(\"vega-lite\"))\n",
       "        .then(() => loadScript(\"vega-embed\"))\n",
       "        .catch(showError)\n",
       "        .then(() => displayChart(vegaEmbed));\n",
       "    }\n",
       "  })({\"config\": {\"axisLeft\": {\"labelFontSize\": 15}, \"axisBottom\": {\"labelFontSize\": 15}}, \"data\": {\"name\": \"data-74873154317bba131d2ced5700259f65\"}, \"mark\": \"bar\", \"encoding\": {\"color\": {\"type\": \"nominal\", \"field\": \"kind\"}, \"tooltip\": {\"type\": \"nominal\", \"field\": \"org\"}, \"x\": {\"type\": \"nominal\", \"field\": \"org\"}, \"y\": {\"type\": \"quantitative\", \"field\": \"count\"}}, \"width\": 600, \"$schema\": \"https://vega.github.io/schema/vega-lite/v4.8.1.json\", \"datasets\": {\"data-74873154317bba131d2ced5700259f65\": [{\"org\": \"executablebooks\", \"kind\": \"comments\", \"count\": 349}, {\"org\": \"executablebooks\", \"kind\": \"issues\", \"count\": 39}, {\"org\": \"executablebooks\", \"kind\": \"prs\", \"count\": 42}, {\"org\": \"jupyter\", \"kind\": \"comments\", \"count\": 9}, {\"org\": \"jupyter\", \"kind\": \"issues\", \"count\": 1}, {\"org\": \"jupyterhub\", \"kind\": \"comments\", \"count\": 45}, {\"org\": \"jupyterhub\", \"kind\": \"issues\", \"count\": 5}, {\"org\": \"jupyterhub\", \"kind\": \"prs\", \"count\": 4}, {\"org\": \"jupyterlab\", \"kind\": \"comments\", \"count\": 9}, {\"org\": \"jupyterlab\", \"kind\": \"issues\", \"count\": 1}]}}, {\"mode\": \"vega-lite\"});\n",
       "</script>"
      ],
      "text/plain": [
       "alt.Chart(...)"
      ]
     },
     "execution_count": 12,
     "metadata": {},
     "output_type": "execute_result"
    }
   ],
   "source": [
    "alt.Chart(org_summaries, width=600).mark_bar().encode(\n",
    "    x='org',\n",
    "    y='count',\n",
    "    color='kind',\n",
    "    tooltip=\"org\"\n",
    ")"
   ]
  },
  {
   "cell_type": "markdown",
   "metadata": {
    "papermill": {
     "duration": 0.011753,
     "end_time": "2020-12-08T01:39:35.433883",
     "exception": false,
     "start_time": "2020-12-08T01:39:35.422130",
     "status": "completed"
    },
    "tags": []
   },
   "source": [
    "## By repository over time"
   ]
  },
  {
   "cell_type": "markdown",
   "metadata": {
    "papermill": {
     "duration": 0.012114,
     "end_time": "2020-12-08T01:39:35.457497",
     "exception": false,
     "start_time": "2020-12-08T01:39:35.445383",
     "status": "completed"
    },
    "tags": []
   },
   "source": [
    "### Comments"
   ]
  },
  {
   "cell_type": "code",
   "execution_count": 13,
   "metadata": {
    "execution": {
     "iopub.execute_input": "2020-12-08T01:39:35.487387Z",
     "iopub.status.busy": "2020-12-08T01:39:35.486974Z",
     "iopub.status.idle": "2020-12-08T01:39:35.583308Z",
     "shell.execute_reply": "2020-12-08T01:39:35.584159Z"
    },
    "papermill": {
     "duration": 0.115985,
     "end_time": "2020-12-08T01:39:35.584447",
     "exception": false,
     "start_time": "2020-12-08T01:39:35.468462",
     "status": "completed"
    },
    "tags": [
     "hide_input"
    ]
   },
   "outputs": [
    {
     "data": {
      "text/html": [
       "\n",
       "<div id=\"altair-viz-9b833b11961a4aa0af0ff40d4a354dfe\"></div>\n",
       "<script type=\"text/javascript\">\n",
       "  (function(spec, embedOpt){\n",
       "    let outputDiv = document.currentScript.previousElementSibling;\n",
       "    if (outputDiv.id !== \"altair-viz-9b833b11961a4aa0af0ff40d4a354dfe\") {\n",
       "      outputDiv = document.getElementById(\"altair-viz-9b833b11961a4aa0af0ff40d4a354dfe\");\n",
       "    }\n",
       "    const paths = {\n",
       "      \"vega\": \"https://cdn.jsdelivr.net/npm//vega@5?noext\",\n",
       "      \"vega-lib\": \"https://cdn.jsdelivr.net/npm//vega-lib?noext\",\n",
       "      \"vega-lite\": \"https://cdn.jsdelivr.net/npm//vega-lite@4.8.1?noext\",\n",
       "      \"vega-embed\": \"https://cdn.jsdelivr.net/npm//vega-embed@6?noext\",\n",
       "    };\n",
       "\n",
       "    function loadScript(lib) {\n",
       "      return new Promise(function(resolve, reject) {\n",
       "        var s = document.createElement('script');\n",
       "        s.src = paths[lib];\n",
       "        s.async = true;\n",
       "        s.onload = () => resolve(paths[lib]);\n",
       "        s.onerror = () => reject(`Error loading script: ${paths[lib]}`);\n",
       "        document.getElementsByTagName(\"head\")[0].appendChild(s);\n",
       "      });\n",
       "    }\n",
       "\n",
       "    function showError(err) {\n",
       "      outputDiv.innerHTML = `<div class=\"error\" style=\"color:red;\">${err}</div>`;\n",
       "      throw err;\n",
       "    }\n",
       "\n",
       "    function displayChart(vegaEmbed) {\n",
       "      vegaEmbed(outputDiv, spec, embedOpt)\n",
       "        .catch(err => showError(`Javascript Error: ${err.message}<br>This usually means there's a typo in your chart specification. See the javascript console for the full traceback.`));\n",
       "    }\n",
       "\n",
       "    if(typeof define === \"function\" && define.amd) {\n",
       "      requirejs.config({paths});\n",
       "      require([\"vega-embed\"], displayChart, err => showError(`Error loading script: ${err.message}`));\n",
       "    } else if (typeof vegaEmbed === \"function\") {\n",
       "      displayChart(vegaEmbed);\n",
       "    } else {\n",
       "      loadScript(\"vega\")\n",
       "        .then(() => loadScript(\"vega-lite\"))\n",
       "        .then(() => loadScript(\"vega-embed\"))\n",
       "        .catch(showError)\n",
       "        .then(() => displayChart(vegaEmbed));\n",
       "    }\n",
       "  })({\"config\": {\"axisLeft\": {\"labelFontSize\": 15}, \"axisBottom\": {\"labelFontSize\": 15}}, \"layer\": [{\"data\": {\"name\": \"data-5bf00ebcecc4475661ce361c3bfb933d\"}, \"mark\": \"line\", \"encoding\": {\"color\": {\"type\": \"nominal\", \"field\": \"repo\"}, \"tooltip\": {\"type\": \"nominal\", \"field\": \"repo\"}, \"x\": {\"type\": \"temporal\", \"field\": \"createdAt\"}, \"y\": {\"type\": \"quantitative\", \"field\": \"count\"}}, \"width\": 600}, {\"data\": {\"name\": \"data-200976b671ec01ec3a9fa82d29bc5095\"}, \"mark\": {\"type\": \"line\", \"color\": \"black\"}, \"encoding\": {\"x\": {\"type\": \"temporal\", \"field\": \"createdAt\"}, \"y\": {\"type\": \"quantitative\", \"field\": \"count\"}}, \"width\": 600}], \"$schema\": \"https://vega.github.io/schema/vega-lite/v4.8.1.json\", \"datasets\": {\"data-5bf00ebcecc4475661ce361c3bfb933d\": [{\"repo\": \"MyST-NB\", \"createdAt\": \"2020-10-18T00:00:00\", \"count\": 1}, {\"repo\": \"MyST-NB\", \"createdAt\": \"2020-10-25T00:00:00\", \"count\": 3}, {\"repo\": \"MyST-NB\", \"createdAt\": \"2020-11-01T00:00:00\", \"count\": 2}, {\"repo\": \"MyST-NB\", \"createdAt\": \"2020-11-08T00:00:00\", \"count\": 6}, {\"repo\": \"MyST-NB\", \"createdAt\": \"2020-11-15T00:00:00\", \"count\": 0}, {\"repo\": \"MyST-NB\", \"createdAt\": \"2020-11-22T00:00:00\", \"count\": 2}, {\"repo\": \"MyST-Parser\", \"createdAt\": \"2020-10-18T00:00:00\", \"count\": 1}, {\"repo\": \"MyST-Parser\", \"createdAt\": \"2020-10-25T00:00:00\", \"count\": 2}, {\"repo\": \"MyST-Parser\", \"createdAt\": \"2020-11-01T00:00:00\", \"count\": 2}, {\"repo\": \"MyST-Parser\", \"createdAt\": \"2020-11-08T00:00:00\", \"count\": 0}, {\"repo\": \"MyST-Parser\", \"createdAt\": \"2020-11-15T00:00:00\", \"count\": 0}, {\"repo\": \"MyST-Parser\", \"createdAt\": \"2020-11-22T00:00:00\", \"count\": 1}, {\"repo\": \"accessibility\", \"createdAt\": \"2020-10-18T00:00:00\", \"count\": 1}, {\"repo\": \"binder\", \"createdAt\": \"2020-10-11T00:00:00\", \"count\": 1}, {\"repo\": \"binder\", \"createdAt\": \"2020-10-18T00:00:00\", \"count\": 3}, {\"repo\": \"binder\", \"createdAt\": \"2020-10-25T00:00:00\", \"count\": 1}, {\"repo\": \"binder\", \"createdAt\": \"2020-11-01T00:00:00\", \"count\": 0}, {\"repo\": \"binder\", \"createdAt\": \"2020-11-08T00:00:00\", \"count\": 0}, {\"repo\": \"binder\", \"createdAt\": \"2020-11-15T00:00:00\", \"count\": 2}, {\"repo\": \"binder\", \"createdAt\": \"2020-11-22T00:00:00\", \"count\": 1}, {\"repo\": \"binderhub\", \"createdAt\": \"2020-10-18T00:00:00\", \"count\": 1}, {\"repo\": \"binderhub\", \"createdAt\": \"2020-10-25T00:00:00\", \"count\": 1}, {\"repo\": \"binderhub\", \"createdAt\": \"2020-11-01T00:00:00\", \"count\": 4}, {\"repo\": \"github-activity\", \"createdAt\": \"2020-10-11T00:00:00\", \"count\": 2}, {\"repo\": \"github-activity\", \"createdAt\": \"2020-10-18T00:00:00\", \"count\": 0}, {\"repo\": \"github-activity\", \"createdAt\": \"2020-10-25T00:00:00\", \"count\": 0}, {\"repo\": \"github-activity\", \"createdAt\": \"2020-11-01T00:00:00\", \"count\": 7}, {\"repo\": \"governance\", \"createdAt\": \"2020-10-18T00:00:00\", \"count\": 1}, {\"repo\": \"governance\", \"createdAt\": \"2020-10-25T00:00:00\", \"count\": 1}, {\"repo\": \"governance\", \"createdAt\": \"2020-11-01T00:00:00\", \"count\": 0}, {\"repo\": \"governance\", \"createdAt\": \"2020-11-08T00:00:00\", \"count\": 0}, {\"repo\": \"governance\", \"createdAt\": \"2020-11-15T00:00:00\", \"count\": 0}, {\"repo\": \"governance\", \"createdAt\": \"2020-11-22T00:00:00\", \"count\": 1}, {\"repo\": \"jupyter\", \"createdAt\": \"2020-11-01T00:00:00\", \"count\": 1}, {\"repo\": \"jupyter-book\", \"createdAt\": \"2020-10-11T00:00:00\", \"count\": 13}, {\"repo\": \"jupyter-book\", \"createdAt\": \"2020-10-18T00:00:00\", \"count\": 19}, {\"repo\": \"jupyter-book\", \"createdAt\": \"2020-10-25T00:00:00\", \"count\": 7}, {\"repo\": \"jupyter-book\", \"createdAt\": \"2020-11-01T00:00:00\", \"count\": 19}, {\"repo\": \"jupyter-book\", \"createdAt\": \"2020-11-08T00:00:00\", \"count\": 14}, {\"repo\": \"jupyter-book\", \"createdAt\": \"2020-11-15T00:00:00\", \"count\": 17}, {\"repo\": \"jupyter-book\", \"createdAt\": \"2020-11-22T00:00:00\", \"count\": 18}, {\"repo\": \"jupyter-book\", \"createdAt\": \"2020-11-29T00:00:00\", \"count\": 9}, {\"repo\": \"jupyter-book\", \"createdAt\": \"2020-12-06T00:00:00\", \"count\": 6}, {\"repo\": \"jupyter-cache\", \"createdAt\": \"2020-11-15T00:00:00\", \"count\": 1}, {\"repo\": \"jupyter-cache\", \"createdAt\": \"2020-11-22T00:00:00\", \"count\": 2}, {\"repo\": \"jupyterbook-latex\", \"createdAt\": \"2020-11-15T00:00:00\", \"count\": 2}, {\"repo\": \"jupyterbook-latex\", \"createdAt\": \"2020-11-22T00:00:00\", \"count\": 2}, {\"repo\": \"jupyterlab\", \"createdAt\": \"2020-11-15T00:00:00\", \"count\": 1}, {\"repo\": \"jupyterlab\", \"createdAt\": \"2020-11-22T00:00:00\", \"count\": 1}, {\"repo\": \"jupyterlab\", \"createdAt\": \"2020-11-29T00:00:00\", \"count\": 1}, {\"repo\": \"markdown-it-myst\", \"createdAt\": \"2020-11-22T00:00:00\", \"count\": 2}, {\"repo\": \"markdown-it-myst\", \"createdAt\": \"2020-11-29T00:00:00\", \"count\": 0}, {\"repo\": \"markdown-it-myst\", \"createdAt\": \"2020-12-06T00:00:00\", \"count\": 1}, {\"repo\": \"markdown-it-py\", \"createdAt\": \"2020-10-25T00:00:00\", \"count\": 2}, {\"repo\": \"markdown-it-py\", \"createdAt\": \"2020-11-01T00:00:00\", \"count\": 0}, {\"repo\": \"markdown-it-py\", \"createdAt\": \"2020-11-08T00:00:00\", \"count\": 1}, {\"repo\": \"meta\", \"createdAt\": \"2020-10-18T00:00:00\", \"count\": 6}, {\"repo\": \"meta\", \"createdAt\": \"2020-10-25T00:00:00\", \"count\": 0}, {\"repo\": \"meta\", \"createdAt\": \"2020-11-01T00:00:00\", \"count\": 0}, {\"repo\": \"meta\", \"createdAt\": \"2020-11-08T00:00:00\", \"count\": 0}, {\"repo\": \"meta\", \"createdAt\": \"2020-11-15T00:00:00\", \"count\": 0}, {\"repo\": \"meta\", \"createdAt\": \"2020-11-22T00:00:00\", \"count\": 0}, {\"repo\": \"meta\", \"createdAt\": \"2020-11-29T00:00:00\", \"count\": 1}, {\"repo\": \"meta\", \"createdAt\": \"2020-12-06T00:00:00\", \"count\": 9}, {\"repo\": \"mybinder.org-deploy\", \"createdAt\": \"2020-10-18T00:00:00\", \"count\": 1}, {\"repo\": \"mybinder.org-deploy\", \"createdAt\": \"2020-10-25T00:00:00\", \"count\": 3}, {\"repo\": \"mybinder.org-deploy\", \"createdAt\": \"2020-11-01T00:00:00\", \"count\": 0}, {\"repo\": \"mybinder.org-deploy\", \"createdAt\": \"2020-11-08T00:00:00\", \"count\": 2}, {\"repo\": \"mybinder.org-deploy\", \"createdAt\": \"2020-11-15T00:00:00\", \"count\": 0}, {\"repo\": \"mybinder.org-deploy\", \"createdAt\": \"2020-11-22T00:00:00\", \"count\": 1}, {\"repo\": \"mybinder.org-deploy\", \"createdAt\": \"2020-11-29T00:00:00\", \"count\": 0}, {\"repo\": \"mybinder.org-deploy\", \"createdAt\": \"2020-12-06T00:00:00\", \"count\": 1}, {\"repo\": \"nbclient\", \"createdAt\": \"2020-11-08T00:00:00\", \"count\": 3}, {\"repo\": \"notebook\", \"createdAt\": \"2020-11-15T00:00:00\", \"count\": 1}, {\"repo\": \"sphinx-book-theme\", \"createdAt\": \"2020-10-11T00:00:00\", \"count\": 2}, {\"repo\": \"sphinx-book-theme\", \"createdAt\": \"2020-10-18T00:00:00\", \"count\": 17}, {\"repo\": \"sphinx-book-theme\", \"createdAt\": \"2020-10-25T00:00:00\", \"count\": 9}, {\"repo\": \"sphinx-book-theme\", \"createdAt\": \"2020-11-01T00:00:00\", \"count\": 8}, {\"repo\": \"sphinx-book-theme\", \"createdAt\": \"2020-11-08T00:00:00\", \"count\": 14}, {\"repo\": \"sphinx-book-theme\", \"createdAt\": \"2020-11-15T00:00:00\", \"count\": 19}, {\"repo\": \"sphinx-book-theme\", \"createdAt\": \"2020-11-22T00:00:00\", \"count\": 4}, {\"repo\": \"sphinx-book-theme\", \"createdAt\": \"2020-11-29T00:00:00\", \"count\": 1}, {\"repo\": \"sphinx-book-theme\", \"createdAt\": \"2020-12-06T00:00:00\", \"count\": 5}, {\"repo\": \"sphinx-book-theme\", \"createdAt\": \"2020-12-13T00:00:00\", \"count\": 1}, {\"repo\": \"sphinx-copybutton\", \"createdAt\": \"2020-11-08T00:00:00\", \"count\": 1}, {\"repo\": \"sphinx-copybutton\", \"createdAt\": \"2020-11-15T00:00:00\", \"count\": 0}, {\"repo\": \"sphinx-copybutton\", \"createdAt\": \"2020-11-22T00:00:00\", \"count\": 1}, {\"repo\": \"sphinx-copybutton\", \"createdAt\": \"2020-11-29T00:00:00\", \"count\": 0}, {\"repo\": \"sphinx-copybutton\", \"createdAt\": \"2020-12-06T00:00:00\", \"count\": 2}, {\"repo\": \"sphinx-copybutton\", \"createdAt\": \"2020-12-13T00:00:00\", \"count\": 1}, {\"repo\": \"sphinx-exercise\", \"createdAt\": \"2020-10-11T00:00:00\", \"count\": 3}, {\"repo\": \"sphinx-exercise\", \"createdAt\": \"2020-10-18T00:00:00\", \"count\": 2}, {\"repo\": \"sphinx-exercise\", \"createdAt\": \"2020-10-25T00:00:00\", \"count\": 0}, {\"repo\": \"sphinx-exercise\", \"createdAt\": \"2020-11-01T00:00:00\", \"count\": 0}, {\"repo\": \"sphinx-exercise\", \"createdAt\": \"2020-11-08T00:00:00\", \"count\": 0}, {\"repo\": \"sphinx-exercise\", \"createdAt\": \"2020-11-15T00:00:00\", \"count\": 0}, {\"repo\": \"sphinx-exercise\", \"createdAt\": \"2020-11-22T00:00:00\", \"count\": 0}, {\"repo\": \"sphinx-exercise\", \"createdAt\": \"2020-11-29T00:00:00\", \"count\": 1}, {\"repo\": \"sphinx-panels\", \"createdAt\": \"2020-10-11T00:00:00\", \"count\": 1}, {\"repo\": \"sphinx-panels\", \"createdAt\": \"2020-10-18T00:00:00\", \"count\": 8}, {\"repo\": \"sphinx-panels\", \"createdAt\": \"2020-10-25T00:00:00\", \"count\": 2}, {\"repo\": \"sphinx-proof\", \"createdAt\": \"2020-10-11T00:00:00\", \"count\": 1}, {\"repo\": \"sphinx-thebe\", \"createdAt\": \"2020-10-18T00:00:00\", \"count\": 1}, {\"repo\": \"sphinx-thebe\", \"createdAt\": \"2020-10-25T00:00:00\", \"count\": 8}, {\"repo\": \"sphinx-togglebutton\", \"createdAt\": \"2020-10-25T00:00:00\", \"count\": 11}, {\"repo\": \"team-compass\", \"createdAt\": \"2020-10-18T00:00:00\", \"count\": 1}, {\"repo\": \"team-compass\", \"createdAt\": \"2020-10-25T00:00:00\", \"count\": 1}, {\"repo\": \"team-compass\", \"createdAt\": \"2020-11-01T00:00:00\", \"count\": 10}, {\"repo\": \"team-compass\", \"createdAt\": \"2020-11-08T00:00:00\", \"count\": 3}, {\"repo\": \"team-compass\", \"createdAt\": \"2020-11-15T00:00:00\", \"count\": 3}, {\"repo\": \"team-compass\", \"createdAt\": \"2020-11-22T00:00:00\", \"count\": 1}, {\"repo\": \"the-littlest-jupyterhub\", \"createdAt\": \"2020-10-25T00:00:00\", \"count\": 1}, {\"repo\": \"thebe\", \"createdAt\": \"2020-10-18T00:00:00\", \"count\": 22}, {\"repo\": \"thebe\", \"createdAt\": \"2020-10-25T00:00:00\", \"count\": 12}, {\"repo\": \"thebe\", \"createdAt\": \"2020-11-01T00:00:00\", \"count\": 11}, {\"repo\": \"thebe\", \"createdAt\": \"2020-11-08T00:00:00\", \"count\": 1}, {\"repo\": \"zero-to-jupyterhub-k8s\", \"createdAt\": \"2020-10-11T00:00:00\", \"count\": 1}, {\"repo\": \"zero-to-jupyterhub-k8s\", \"createdAt\": \"2020-10-18T00:00:00\", \"count\": 3}, {\"repo\": \"zero-to-jupyterhub-k8s\", \"createdAt\": \"2020-10-25T00:00:00\", \"count\": 2}, {\"repo\": \"zero-to-jupyterhub-k8s\", \"createdAt\": \"2020-11-01T00:00:00\", \"count\": 3}], \"data-200976b671ec01ec3a9fa82d29bc5095\": [{\"createdAt\": \"2020-10-11T00:00:00\", \"count\": 24}, {\"createdAt\": \"2020-10-18T00:00:00\", \"count\": 88}, {\"createdAt\": \"2020-10-25T00:00:00\", \"count\": 66}, {\"createdAt\": \"2020-11-01T00:00:00\", \"count\": 67}, {\"createdAt\": \"2020-11-08T00:00:00\", \"count\": 45}, {\"createdAt\": \"2020-11-15T00:00:00\", \"count\": 46}, {\"createdAt\": \"2020-11-22T00:00:00\", \"count\": 37}, {\"createdAt\": \"2020-11-29T00:00:00\", \"count\": 13}, {\"createdAt\": \"2020-12-06T00:00:00\", \"count\": 24}, {\"createdAt\": \"2020-12-13T00:00:00\", \"count\": 2}]}}, {\"mode\": \"vega-lite\"});\n",
       "</script>"
      ],
      "text/plain": [
       "alt.LayerChart(...)"
      ]
     },
     "execution_count": 13,
     "metadata": {},
     "output_type": "execute_result"
    }
   ],
   "source": [
    "comments_time = comments.groupby('repo').resample('W', on='createdAt').count()['author'].reset_index()\n",
    "comments_time = comments_time.rename(columns={'author': 'count'})\n",
    "comments_time_total = comments_time.groupby('createdAt').agg({\"count\": \"sum\"}).reset_index()\n",
    "ch1 = alt.Chart(comments_time, width=600).mark_line().encode(\n",
    "    x='createdAt',\n",
    "    y='count',\n",
    "    color='repo',\n",
    "    tooltip=\"repo\"\n",
    ")\n",
    "\n",
    "ch2 = alt.Chart(comments_time_total, width=600).mark_line(color=\"black\").encode(\n",
    "    x='createdAt',\n",
    "    y='count',\n",
    ")\n",
    "\n",
    "ch1 + ch2"
   ]
  },
  {
   "cell_type": "markdown",
   "metadata": {
    "papermill": {
     "duration": 0.014726,
     "end_time": "2020-12-08T01:39:35.613966",
     "exception": false,
     "start_time": "2020-12-08T01:39:35.599240",
     "status": "completed"
    },
    "tags": []
   },
   "source": [
    "### PRs"
   ]
  },
  {
   "cell_type": "code",
   "execution_count": 14,
   "metadata": {
    "execution": {
     "iopub.execute_input": "2020-12-08T01:39:35.646380Z",
     "iopub.status.busy": "2020-12-08T01:39:35.645962Z",
     "iopub.status.idle": "2020-12-08T01:39:35.718207Z",
     "shell.execute_reply": "2020-12-08T01:39:35.719025Z"
    },
    "papermill": {
     "duration": 0.093141,
     "end_time": "2020-12-08T01:39:35.719309",
     "exception": false,
     "start_time": "2020-12-08T01:39:35.626168",
     "status": "completed"
    },
    "tags": [
     "hide_input"
    ]
   },
   "outputs": [
    {
     "data": {
      "text/html": [
       "\n",
       "<div id=\"altair-viz-244345a8e9a04119aecaff28a974beda\"></div>\n",
       "<script type=\"text/javascript\">\n",
       "  (function(spec, embedOpt){\n",
       "    let outputDiv = document.currentScript.previousElementSibling;\n",
       "    if (outputDiv.id !== \"altair-viz-244345a8e9a04119aecaff28a974beda\") {\n",
       "      outputDiv = document.getElementById(\"altair-viz-244345a8e9a04119aecaff28a974beda\");\n",
       "    }\n",
       "    const paths = {\n",
       "      \"vega\": \"https://cdn.jsdelivr.net/npm//vega@5?noext\",\n",
       "      \"vega-lib\": \"https://cdn.jsdelivr.net/npm//vega-lib?noext\",\n",
       "      \"vega-lite\": \"https://cdn.jsdelivr.net/npm//vega-lite@4.8.1?noext\",\n",
       "      \"vega-embed\": \"https://cdn.jsdelivr.net/npm//vega-embed@6?noext\",\n",
       "    };\n",
       "\n",
       "    function loadScript(lib) {\n",
       "      return new Promise(function(resolve, reject) {\n",
       "        var s = document.createElement('script');\n",
       "        s.src = paths[lib];\n",
       "        s.async = true;\n",
       "        s.onload = () => resolve(paths[lib]);\n",
       "        s.onerror = () => reject(`Error loading script: ${paths[lib]}`);\n",
       "        document.getElementsByTagName(\"head\")[0].appendChild(s);\n",
       "      });\n",
       "    }\n",
       "\n",
       "    function showError(err) {\n",
       "      outputDiv.innerHTML = `<div class=\"error\" style=\"color:red;\">${err}</div>`;\n",
       "      throw err;\n",
       "    }\n",
       "\n",
       "    function displayChart(vegaEmbed) {\n",
       "      vegaEmbed(outputDiv, spec, embedOpt)\n",
       "        .catch(err => showError(`Javascript Error: ${err.message}<br>This usually means there's a typo in your chart specification. See the javascript console for the full traceback.`));\n",
       "    }\n",
       "\n",
       "    if(typeof define === \"function\" && define.amd) {\n",
       "      requirejs.config({paths});\n",
       "      require([\"vega-embed\"], displayChart, err => showError(`Error loading script: ${err.message}`));\n",
       "    } else if (typeof vegaEmbed === \"function\") {\n",
       "      displayChart(vegaEmbed);\n",
       "    } else {\n",
       "      loadScript(\"vega\")\n",
       "        .then(() => loadScript(\"vega-lite\"))\n",
       "        .then(() => loadScript(\"vega-embed\"))\n",
       "        .catch(showError)\n",
       "        .then(() => displayChart(vegaEmbed));\n",
       "    }\n",
       "  })({\"config\": {\"axisLeft\": {\"labelFontSize\": 15}, \"axisBottom\": {\"labelFontSize\": 15}}, \"layer\": [{\"data\": {\"name\": \"data-8206cedd0b89650fdb98f72d815ef2c9\"}, \"mark\": \"line\", \"encoding\": {\"color\": {\"type\": \"nominal\", \"field\": \"repo\"}, \"tooltip\": {\"type\": \"nominal\", \"field\": \"repo\"}, \"x\": {\"type\": \"temporal\", \"field\": \"createdAt\"}, \"y\": {\"type\": \"quantitative\", \"field\": \"count\"}}, \"width\": 600}, {\"data\": {\"name\": \"data-a9d8936addb57d6ab70fb13bb3d0a260\"}, \"mark\": {\"type\": \"line\", \"color\": \"black\"}, \"encoding\": {\"x\": {\"type\": \"temporal\", \"field\": \"createdAt\"}, \"y\": {\"type\": \"quantitative\", \"field\": \"count\"}}, \"width\": 600}], \"$schema\": \"https://vega.github.io/schema/vega-lite/v4.8.1.json\", \"datasets\": {\"data-8206cedd0b89650fdb98f72d815ef2c9\": [{\"repo\": \".github\", \"createdAt\": \"2020-11-08T00:00:00\", \"count\": 1}, {\"repo\": \"MyST-NB\", \"createdAt\": \"2020-10-11T00:00:00\", \"count\": 1}, {\"repo\": \"MyST-NB\", \"createdAt\": \"2020-10-18T00:00:00\", \"count\": 0}, {\"repo\": \"MyST-NB\", \"createdAt\": \"2020-10-25T00:00:00\", \"count\": 0}, {\"repo\": \"MyST-NB\", \"createdAt\": \"2020-11-01T00:00:00\", \"count\": 0}, {\"repo\": \"MyST-NB\", \"createdAt\": \"2020-11-08T00:00:00\", \"count\": 0}, {\"repo\": \"MyST-NB\", \"createdAt\": \"2020-11-15T00:00:00\", \"count\": 0}, {\"repo\": \"MyST-NB\", \"createdAt\": \"2020-11-22T00:00:00\", \"count\": 1}, {\"repo\": \"binder\", \"createdAt\": \"2020-10-04T00:00:00\", \"count\": 1}, {\"repo\": \"binder\", \"createdAt\": \"2020-10-11T00:00:00\", \"count\": 0}, {\"repo\": \"binder\", \"createdAt\": \"2020-10-18T00:00:00\", \"count\": 1}, {\"repo\": \"binderhub\", \"createdAt\": \"2020-10-04T00:00:00\", \"count\": 1}, {\"repo\": \"jupyter-book\", \"createdAt\": \"2020-08-30T00:00:00\", \"count\": 1}, {\"repo\": \"jupyter-book\", \"createdAt\": \"2020-09-06T00:00:00\", \"count\": 0}, {\"repo\": \"jupyter-book\", \"createdAt\": \"2020-09-13T00:00:00\", \"count\": 0}, {\"repo\": \"jupyter-book\", \"createdAt\": \"2020-09-20T00:00:00\", \"count\": 0}, {\"repo\": \"jupyter-book\", \"createdAt\": \"2020-09-27T00:00:00\", \"count\": 0}, {\"repo\": \"jupyter-book\", \"createdAt\": \"2020-10-04T00:00:00\", \"count\": 0}, {\"repo\": \"jupyter-book\", \"createdAt\": \"2020-10-11T00:00:00\", \"count\": 3}, {\"repo\": \"jupyter-book\", \"createdAt\": \"2020-10-18T00:00:00\", \"count\": 2}, {\"repo\": \"jupyter-book\", \"createdAt\": \"2020-10-25T00:00:00\", \"count\": 0}, {\"repo\": \"jupyter-book\", \"createdAt\": \"2020-11-01T00:00:00\", \"count\": 0}, {\"repo\": \"jupyter-book\", \"createdAt\": \"2020-11-08T00:00:00\", \"count\": 4}, {\"repo\": \"jupyter-book\", \"createdAt\": \"2020-11-15T00:00:00\", \"count\": 4}, {\"repo\": \"jupyter-book\", \"createdAt\": \"2020-11-22T00:00:00\", \"count\": 0}, {\"repo\": \"jupyter-book\", \"createdAt\": \"2020-11-29T00:00:00\", \"count\": 1}, {\"repo\": \"meta\", \"createdAt\": \"2020-11-29T00:00:00\", \"count\": 1}, {\"repo\": \"meta\", \"createdAt\": \"2020-12-06T00:00:00\", \"count\": 1}, {\"repo\": \"sphinx-book-theme\", \"createdAt\": \"2020-10-11T00:00:00\", \"count\": 1}, {\"repo\": \"sphinx-book-theme\", \"createdAt\": \"2020-10-18T00:00:00\", \"count\": 1}, {\"repo\": \"sphinx-book-theme\", \"createdAt\": \"2020-10-25T00:00:00\", \"count\": 0}, {\"repo\": \"sphinx-book-theme\", \"createdAt\": \"2020-11-01T00:00:00\", \"count\": 2}, {\"repo\": \"sphinx-book-theme\", \"createdAt\": \"2020-11-08T00:00:00\", \"count\": 3}, {\"repo\": \"sphinx-book-theme\", \"createdAt\": \"2020-11-15T00:00:00\", \"count\": 2}, {\"repo\": \"sphinx-book-theme\", \"createdAt\": \"2020-11-22T00:00:00\", \"count\": 0}, {\"repo\": \"sphinx-book-theme\", \"createdAt\": \"2020-11-29T00:00:00\", \"count\": 0}, {\"repo\": \"sphinx-book-theme\", \"createdAt\": \"2020-12-06T00:00:00\", \"count\": 1}, {\"repo\": \"sphinx-conditional-asset\", \"createdAt\": \"2020-10-25T00:00:00\", \"count\": 2}, {\"repo\": \"sphinx-copybutton\", \"createdAt\": \"2020-11-08T00:00:00\", \"count\": 1}, {\"repo\": \"sphinx-copybutton\", \"createdAt\": \"2020-11-15T00:00:00\", \"count\": 0}, {\"repo\": \"sphinx-copybutton\", \"createdAt\": \"2020-11-22T00:00:00\", \"count\": 0}, {\"repo\": \"sphinx-copybutton\", \"createdAt\": \"2020-11-29T00:00:00\", \"count\": 0}, {\"repo\": \"sphinx-copybutton\", \"createdAt\": \"2020-12-06T00:00:00\", \"count\": 2}, {\"repo\": \"sphinx-panels\", \"createdAt\": \"2020-10-04T00:00:00\", \"count\": 1}, {\"repo\": \"sphinx-panels\", \"createdAt\": \"2020-10-11T00:00:00\", \"count\": 0}, {\"repo\": \"sphinx-panels\", \"createdAt\": \"2020-10-18T00:00:00\", \"count\": 0}, {\"repo\": \"sphinx-panels\", \"createdAt\": \"2020-10-25T00:00:00\", \"count\": 1}, {\"repo\": \"sphinx-thebe\", \"createdAt\": \"2020-10-25T00:00:00\", \"count\": 1}, {\"repo\": \"sphinx-togglebutton\", \"createdAt\": \"2020-10-25T00:00:00\", \"count\": 1}, {\"repo\": \"thebe\", \"createdAt\": \"2020-10-18T00:00:00\", \"count\": 1}, {\"repo\": \"thebe\", \"createdAt\": \"2020-10-25T00:00:00\", \"count\": 1}, {\"repo\": \"thebe\", \"createdAt\": \"2020-11-01T00:00:00\", \"count\": 1}, {\"repo\": \"zero-to-jupyterhub-k8s\", \"createdAt\": \"2020-11-08T00:00:00\", \"count\": 1}], \"data-a9d8936addb57d6ab70fb13bb3d0a260\": [{\"createdAt\": \"2020-08-30T00:00:00\", \"count\": 1}, {\"createdAt\": \"2020-09-06T00:00:00\", \"count\": 0}, {\"createdAt\": \"2020-09-13T00:00:00\", \"count\": 0}, {\"createdAt\": \"2020-09-20T00:00:00\", \"count\": 0}, {\"createdAt\": \"2020-09-27T00:00:00\", \"count\": 0}, {\"createdAt\": \"2020-10-04T00:00:00\", \"count\": 3}, {\"createdAt\": \"2020-10-11T00:00:00\", \"count\": 5}, {\"createdAt\": \"2020-10-18T00:00:00\", \"count\": 5}, {\"createdAt\": \"2020-10-25T00:00:00\", \"count\": 6}, {\"createdAt\": \"2020-11-01T00:00:00\", \"count\": 3}, {\"createdAt\": \"2020-11-08T00:00:00\", \"count\": 10}, {\"createdAt\": \"2020-11-15T00:00:00\", \"count\": 6}, {\"createdAt\": \"2020-11-22T00:00:00\", \"count\": 1}, {\"createdAt\": \"2020-11-29T00:00:00\", \"count\": 2}, {\"createdAt\": \"2020-12-06T00:00:00\", \"count\": 4}]}}, {\"mode\": \"vega-lite\"});\n",
       "</script>"
      ],
      "text/plain": [
       "alt.LayerChart(...)"
      ]
     },
     "execution_count": 14,
     "metadata": {},
     "output_type": "execute_result"
    }
   ],
   "source": [
    "prs_time = prs.groupby('repo').resample('W', on='createdAt').count()['author'].reset_index()\n",
    "prs_time = prs_time.rename(columns={'author': 'count'})\n",
    "prs_time_total = prs_time.groupby('createdAt').agg({\"count\": \"sum\"}).reset_index()\n",
    "\n",
    "ch1 = alt.Chart(prs_time, width=600).mark_line().encode(\n",
    "    x='createdAt',\n",
    "    y='count',\n",
    "    color='repo',\n",
    "    tooltip=\"repo\"\n",
    ")\n",
    "\n",
    "ch2 = alt.Chart(prs_time_total, width=600).mark_line(color=\"black\").encode(\n",
    "    x='createdAt',\n",
    "    y='count',\n",
    ")\n",
    "\n",
    "ch1 + ch2"
   ]
  },
  {
   "cell_type": "code",
   "execution_count": 15,
   "metadata": {
    "execution": {
     "iopub.execute_input": "2020-12-08T01:39:35.768189Z",
     "iopub.status.busy": "2020-12-08T01:39:35.762784Z",
     "iopub.status.idle": "2020-12-08T01:39:35.818890Z",
     "shell.execute_reply": "2020-12-08T01:39:35.819711Z"
    },
    "papermill": {
     "duration": 0.083691,
     "end_time": "2020-12-08T01:39:35.819995",
     "exception": false,
     "start_time": "2020-12-08T01:39:35.736304",
     "status": "completed"
    },
    "tags": [
     "hide_input"
    ]
   },
   "outputs": [
    {
     "data": {
      "text/html": [
       "\n",
       "<div id=\"altair-viz-4704a93a073b4353bce037b107d882a6\"></div>\n",
       "<script type=\"text/javascript\">\n",
       "  (function(spec, embedOpt){\n",
       "    let outputDiv = document.currentScript.previousElementSibling;\n",
       "    if (outputDiv.id !== \"altair-viz-4704a93a073b4353bce037b107d882a6\") {\n",
       "      outputDiv = document.getElementById(\"altair-viz-4704a93a073b4353bce037b107d882a6\");\n",
       "    }\n",
       "    const paths = {\n",
       "      \"vega\": \"https://cdn.jsdelivr.net/npm//vega@5?noext\",\n",
       "      \"vega-lib\": \"https://cdn.jsdelivr.net/npm//vega-lib?noext\",\n",
       "      \"vega-lite\": \"https://cdn.jsdelivr.net/npm//vega-lite@4.8.1?noext\",\n",
       "      \"vega-embed\": \"https://cdn.jsdelivr.net/npm//vega-embed@6?noext\",\n",
       "    };\n",
       "\n",
       "    function loadScript(lib) {\n",
       "      return new Promise(function(resolve, reject) {\n",
       "        var s = document.createElement('script');\n",
       "        s.src = paths[lib];\n",
       "        s.async = true;\n",
       "        s.onload = () => resolve(paths[lib]);\n",
       "        s.onerror = () => reject(`Error loading script: ${paths[lib]}`);\n",
       "        document.getElementsByTagName(\"head\")[0].appendChild(s);\n",
       "      });\n",
       "    }\n",
       "\n",
       "    function showError(err) {\n",
       "      outputDiv.innerHTML = `<div class=\"error\" style=\"color:red;\">${err}</div>`;\n",
       "      throw err;\n",
       "    }\n",
       "\n",
       "    function displayChart(vegaEmbed) {\n",
       "      vegaEmbed(outputDiv, spec, embedOpt)\n",
       "        .catch(err => showError(`Javascript Error: ${err.message}<br>This usually means there's a typo in your chart specification. See the javascript console for the full traceback.`));\n",
       "    }\n",
       "\n",
       "    if(typeof define === \"function\" && define.amd) {\n",
       "      requirejs.config({paths});\n",
       "      require([\"vega-embed\"], displayChart, err => showError(`Error loading script: ${err.message}`));\n",
       "    } else if (typeof vegaEmbed === \"function\") {\n",
       "      displayChart(vegaEmbed);\n",
       "    } else {\n",
       "      loadScript(\"vega\")\n",
       "        .then(() => loadScript(\"vega-lite\"))\n",
       "        .then(() => loadScript(\"vega-embed\"))\n",
       "        .catch(showError)\n",
       "        .then(() => displayChart(vegaEmbed));\n",
       "    }\n",
       "  })({\"config\": {\"axisLeft\": {\"labelFontSize\": 15}, \"axisBottom\": {\"labelFontSize\": 15}}, \"data\": {\"name\": \"data-2f1685e7846794b69d54231894a7ad96\"}, \"mark\": \"line\", \"encoding\": {\"color\": {\"type\": \"nominal\", \"field\": \"repo\"}, \"tooltip\": {\"type\": \"nominal\", \"field\": \"repo\"}, \"x\": {\"type\": \"temporal\", \"field\": \"closedAt\"}, \"y\": {\"type\": \"quantitative\", \"field\": \"count\"}}, \"width\": 600, \"$schema\": \"https://vega.github.io/schema/vega-lite/v4.8.1.json\", \"datasets\": {\"data-2f1685e7846794b69d54231894a7ad96\": [{\"repo\": \".github\", \"closedAt\": \"2020-11-08T00:00:00\", \"count\": 1}, {\"repo\": \"MyST-NB\", \"closedAt\": \"2020-11-08T00:00:00\", \"count\": 1}, {\"repo\": \"MyST-NB\", \"closedAt\": \"2020-11-15T00:00:00\", \"count\": 0}, {\"repo\": \"MyST-NB\", \"closedAt\": \"2020-11-22T00:00:00\", \"count\": 3}, {\"repo\": \"binder\", \"closedAt\": \"2020-10-18T00:00:00\", \"count\": 1}, {\"repo\": \"binder\", \"closedAt\": \"2020-10-25T00:00:00\", \"count\": 1}, {\"repo\": \"binder\", \"closedAt\": \"2020-11-01T00:00:00\", \"count\": 0}, {\"repo\": \"binder\", \"closedAt\": \"2020-11-08T00:00:00\", \"count\": 0}, {\"repo\": \"binder\", \"closedAt\": \"2020-11-15T00:00:00\", \"count\": 1}, {\"repo\": \"binder\", \"closedAt\": \"2020-11-22T00:00:00\", \"count\": 1}, {\"repo\": \"binderhub\", \"closedAt\": \"2020-11-01T00:00:00\", \"count\": 1}, {\"repo\": \"github-activity\", \"closedAt\": \"2020-10-11T00:00:00\", \"count\": 1}, {\"repo\": \"github-activity\", \"closedAt\": \"2020-10-18T00:00:00\", \"count\": 0}, {\"repo\": \"github-activity\", \"closedAt\": \"2020-10-25T00:00:00\", \"count\": 0}, {\"repo\": \"github-activity\", \"closedAt\": \"2020-11-01T00:00:00\", \"count\": 4}, {\"repo\": \"jupyter\", \"closedAt\": \"2020-11-01T00:00:00\", \"count\": 1}, {\"repo\": \"jupyter-book\", \"closedAt\": \"2020-10-11T00:00:00\", \"count\": 5}, {\"repo\": \"jupyter-book\", \"closedAt\": \"2020-10-18T00:00:00\", \"count\": 8}, {\"repo\": \"jupyter-book\", \"closedAt\": \"2020-10-25T00:00:00\", \"count\": 1}, {\"repo\": \"jupyter-book\", \"closedAt\": \"2020-11-01T00:00:00\", \"count\": 2}, {\"repo\": \"jupyter-book\", \"closedAt\": \"2020-11-08T00:00:00\", \"count\": 4}, {\"repo\": \"jupyter-book\", \"closedAt\": \"2020-11-15T00:00:00\", \"count\": 4}, {\"repo\": \"jupyter-book\", \"closedAt\": \"2020-11-22T00:00:00\", \"count\": 3}, {\"repo\": \"jupyter-book\", \"closedAt\": \"2020-11-29T00:00:00\", \"count\": 4}, {\"repo\": \"jupyter-book\", \"closedAt\": \"2020-12-06T00:00:00\", \"count\": 2}, {\"repo\": \"meta\", \"closedAt\": \"2020-11-29T00:00:00\", \"count\": 1}, {\"repo\": \"meta\", \"closedAt\": \"2020-12-06T00:00:00\", \"count\": 8}, {\"repo\": \"mybinder.org-deploy\", \"closedAt\": \"2020-10-18T00:00:00\", \"count\": 1}, {\"repo\": \"mybinder.org-deploy\", \"closedAt\": \"2020-10-25T00:00:00\", \"count\": 0}, {\"repo\": \"mybinder.org-deploy\", \"closedAt\": \"2020-11-01T00:00:00\", \"count\": 0}, {\"repo\": \"mybinder.org-deploy\", \"closedAt\": \"2020-11-08T00:00:00\", \"count\": 0}, {\"repo\": \"mybinder.org-deploy\", \"closedAt\": \"2020-11-15T00:00:00\", \"count\": 0}, {\"repo\": \"mybinder.org-deploy\", \"closedAt\": \"2020-11-22T00:00:00\", \"count\": 0}, {\"repo\": \"mybinder.org-deploy\", \"closedAt\": \"2020-11-29T00:00:00\", \"count\": 0}, {\"repo\": \"mybinder.org-deploy\", \"closedAt\": \"2020-12-06T00:00:00\", \"count\": 1}, {\"repo\": \"sphinx-book-theme\", \"closedAt\": \"2020-10-18T00:00:00\", \"count\": 3}, {\"repo\": \"sphinx-book-theme\", \"closedAt\": \"2020-10-25T00:00:00\", \"count\": 1}, {\"repo\": \"sphinx-book-theme\", \"closedAt\": \"2020-11-01T00:00:00\", \"count\": 4}, {\"repo\": \"sphinx-book-theme\", \"closedAt\": \"2020-11-08T00:00:00\", \"count\": 5}, {\"repo\": \"sphinx-book-theme\", \"closedAt\": \"2020-11-15T00:00:00\", \"count\": 4}, {\"repo\": \"sphinx-book-theme\", \"closedAt\": \"2020-11-22T00:00:00\", \"count\": 1}, {\"repo\": \"sphinx-book-theme\", \"closedAt\": \"2020-11-29T00:00:00\", \"count\": 2}, {\"repo\": \"sphinx-book-theme\", \"closedAt\": \"2020-12-06T00:00:00\", \"count\": 2}, {\"repo\": \"sphinx-conditional-asset\", \"closedAt\": \"2020-10-25T00:00:00\", \"count\": 2}, {\"repo\": \"sphinx-copybutton\", \"closedAt\": \"2020-11-08T00:00:00\", \"count\": 1}, {\"repo\": \"sphinx-copybutton\", \"closedAt\": \"2020-11-15T00:00:00\", \"count\": 0}, {\"repo\": \"sphinx-copybutton\", \"closedAt\": \"2020-11-22T00:00:00\", \"count\": 1}, {\"repo\": \"sphinx-copybutton\", \"closedAt\": \"2020-11-29T00:00:00\", \"count\": 0}, {\"repo\": \"sphinx-copybutton\", \"closedAt\": \"2020-12-06T00:00:00\", \"count\": 1}, {\"repo\": \"sphinx-copybutton\", \"closedAt\": \"2020-12-13T00:00:00\", \"count\": 1}, {\"repo\": \"sphinx-panels\", \"closedAt\": \"2020-10-18T00:00:00\", \"count\": 1}, {\"repo\": \"sphinx-thebe\", \"closedAt\": \"2020-10-18T00:00:00\", \"count\": 1}, {\"repo\": \"sphinx-thebe\", \"closedAt\": \"2020-10-25T00:00:00\", \"count\": 2}, {\"repo\": \"sphinx-togglebutton\", \"closedAt\": \"2020-10-25T00:00:00\", \"count\": 3}, {\"repo\": \"thebe\", \"closedAt\": \"2020-10-18T00:00:00\", \"count\": 5}, {\"repo\": \"thebe\", \"closedAt\": \"2020-10-25T00:00:00\", \"count\": 3}, {\"repo\": \"thebe\", \"closedAt\": \"2020-11-01T00:00:00\", \"count\": 1}]}}, {\"mode\": \"vega-lite\"});\n",
       "</script>"
      ],
      "text/plain": [
       "alt.Chart(...)"
      ]
     },
     "execution_count": 15,
     "metadata": {},
     "output_type": "execute_result"
    }
   ],
   "source": [
    "closed_by_time = closed_by.groupby('repo').resample('W', on='closedAt').count()['author'].reset_index()\n",
    "closed_by_time = closed_by_time.rename(columns={'author': 'count'})\n",
    "\n",
    "alt.Chart(closed_by_time, width=600).mark_line().encode(\n",
    "    x='closedAt',\n",
    "    y='count',\n",
    "    color='repo',\n",
    "    tooltip=\"repo\"\n",
    ")"
   ]
  },
  {
   "cell_type": "markdown",
   "metadata": {
    "papermill": {
     "duration": 0.012483,
     "end_time": "2020-12-08T01:39:35.844516",
     "exception": false,
     "start_time": "2020-12-08T01:39:35.832033",
     "status": "completed"
    },
    "tags": []
   },
   "source": [
    "## By type over time"
   ]
  },
  {
   "cell_type": "code",
   "execution_count": 16,
   "metadata": {
    "execution": {
     "iopub.execute_input": "2020-12-08T01:39:35.887684Z",
     "iopub.status.busy": "2020-12-08T01:39:35.887128Z",
     "iopub.status.idle": "2020-12-08T01:39:35.897189Z",
     "shell.execute_reply": "2020-12-08T01:39:35.896687Z"
    },
    "papermill": {
     "duration": 0.038911,
     "end_time": "2020-12-08T01:39:35.897331",
     "exception": false,
     "start_time": "2020-12-08T01:39:35.858420",
     "status": "completed"
    },
    "tags": [
     "remove_cell"
    ]
   },
   "outputs": [],
   "source": [
    "prs_time = prs[['author', 'createdAt']].resample('W', on='createdAt').count()['author'].reset_index()\n",
    "prs_time = prs_time.rename(columns={'author': 'prs'})\n",
    "comments_time = comments[['author', 'createdAt']].resample('W', on='createdAt').count()['author'].reset_index()\n",
    "comments_time = comments_time.rename(columns={'author': 'comments'})\n",
    "\n",
    "total_time = pd.merge(prs_time, comments_time, on='createdAt', how='outer')\n",
    "total_time = total_time.melt(id_vars='createdAt', var_name=\"kind\", value_name=\"count\")\n"
   ]
  },
  {
   "cell_type": "code",
   "execution_count": 17,
   "metadata": {
    "execution": {
     "iopub.execute_input": "2020-12-08T01:39:35.946338Z",
     "iopub.status.busy": "2020-12-08T01:39:35.943148Z",
     "iopub.status.idle": "2020-12-08T01:39:35.951152Z",
     "shell.execute_reply": "2020-12-08T01:39:35.950598Z"
    },
    "papermill": {
     "duration": 0.042218,
     "end_time": "2020-12-08T01:39:35.951287",
     "exception": false,
     "start_time": "2020-12-08T01:39:35.909069",
     "status": "completed"
    },
    "tags": [
     "hide_input"
    ]
   },
   "outputs": [
    {
     "data": {
      "text/html": [
       "\n",
       "<div id=\"altair-viz-99521ac08b4f4752ad0da00ba6cfb85c\"></div>\n",
       "<script type=\"text/javascript\">\n",
       "  (function(spec, embedOpt){\n",
       "    let outputDiv = document.currentScript.previousElementSibling;\n",
       "    if (outputDiv.id !== \"altair-viz-99521ac08b4f4752ad0da00ba6cfb85c\") {\n",
       "      outputDiv = document.getElementById(\"altair-viz-99521ac08b4f4752ad0da00ba6cfb85c\");\n",
       "    }\n",
       "    const paths = {\n",
       "      \"vega\": \"https://cdn.jsdelivr.net/npm//vega@5?noext\",\n",
       "      \"vega-lib\": \"https://cdn.jsdelivr.net/npm//vega-lib?noext\",\n",
       "      \"vega-lite\": \"https://cdn.jsdelivr.net/npm//vega-lite@4.8.1?noext\",\n",
       "      \"vega-embed\": \"https://cdn.jsdelivr.net/npm//vega-embed@6?noext\",\n",
       "    };\n",
       "\n",
       "    function loadScript(lib) {\n",
       "      return new Promise(function(resolve, reject) {\n",
       "        var s = document.createElement('script');\n",
       "        s.src = paths[lib];\n",
       "        s.async = true;\n",
       "        s.onload = () => resolve(paths[lib]);\n",
       "        s.onerror = () => reject(`Error loading script: ${paths[lib]}`);\n",
       "        document.getElementsByTagName(\"head\")[0].appendChild(s);\n",
       "      });\n",
       "    }\n",
       "\n",
       "    function showError(err) {\n",
       "      outputDiv.innerHTML = `<div class=\"error\" style=\"color:red;\">${err}</div>`;\n",
       "      throw err;\n",
       "    }\n",
       "\n",
       "    function displayChart(vegaEmbed) {\n",
       "      vegaEmbed(outputDiv, spec, embedOpt)\n",
       "        .catch(err => showError(`Javascript Error: ${err.message}<br>This usually means there's a typo in your chart specification. See the javascript console for the full traceback.`));\n",
       "    }\n",
       "\n",
       "    if(typeof define === \"function\" && define.amd) {\n",
       "      requirejs.config({paths});\n",
       "      require([\"vega-embed\"], displayChart, err => showError(`Error loading script: ${err.message}`));\n",
       "    } else if (typeof vegaEmbed === \"function\") {\n",
       "      displayChart(vegaEmbed);\n",
       "    } else {\n",
       "      loadScript(\"vega\")\n",
       "        .then(() => loadScript(\"vega-lite\"))\n",
       "        .then(() => loadScript(\"vega-embed\"))\n",
       "        .catch(showError)\n",
       "        .then(() => displayChart(vegaEmbed));\n",
       "    }\n",
       "  })({\"config\": {\"axisLeft\": {\"labelFontSize\": 15}, \"axisBottom\": {\"labelFontSize\": 15}}, \"data\": {\"name\": \"data-976182206a765e4c7b41ac0120d7a5a5\"}, \"mark\": \"line\", \"encoding\": {\"color\": {\"type\": \"nominal\", \"field\": \"kind\"}, \"x\": {\"type\": \"temporal\", \"field\": \"createdAt\"}, \"y\": {\"type\": \"quantitative\", \"field\": \"count\"}}, \"width\": 600, \"$schema\": \"https://vega.github.io/schema/vega-lite/v4.8.1.json\", \"datasets\": {\"data-976182206a765e4c7b41ac0120d7a5a5\": [{\"createdAt\": \"2020-08-30T00:00:00\", \"kind\": \"prs\", \"count\": 1.0}, {\"createdAt\": \"2020-09-06T00:00:00\", \"kind\": \"prs\", \"count\": 0.0}, {\"createdAt\": \"2020-09-13T00:00:00\", \"kind\": \"prs\", \"count\": 0.0}, {\"createdAt\": \"2020-09-20T00:00:00\", \"kind\": \"prs\", \"count\": 0.0}, {\"createdAt\": \"2020-09-27T00:00:00\", \"kind\": \"prs\", \"count\": 0.0}, {\"createdAt\": \"2020-10-04T00:00:00\", \"kind\": \"prs\", \"count\": 3.0}, {\"createdAt\": \"2020-10-11T00:00:00\", \"kind\": \"prs\", \"count\": 5.0}, {\"createdAt\": \"2020-10-18T00:00:00\", \"kind\": \"prs\", \"count\": 5.0}, {\"createdAt\": \"2020-10-25T00:00:00\", \"kind\": \"prs\", \"count\": 6.0}, {\"createdAt\": \"2020-11-01T00:00:00\", \"kind\": \"prs\", \"count\": 3.0}, {\"createdAt\": \"2020-11-08T00:00:00\", \"kind\": \"prs\", \"count\": 10.0}, {\"createdAt\": \"2020-11-15T00:00:00\", \"kind\": \"prs\", \"count\": 6.0}, {\"createdAt\": \"2020-11-22T00:00:00\", \"kind\": \"prs\", \"count\": 1.0}, {\"createdAt\": \"2020-11-29T00:00:00\", \"kind\": \"prs\", \"count\": 2.0}, {\"createdAt\": \"2020-12-06T00:00:00\", \"kind\": \"prs\", \"count\": 4.0}, {\"createdAt\": \"2020-12-13T00:00:00\", \"kind\": \"prs\", \"count\": null}, {\"createdAt\": \"2020-08-30T00:00:00\", \"kind\": \"comments\", \"count\": null}, {\"createdAt\": \"2020-09-06T00:00:00\", \"kind\": \"comments\", \"count\": null}, {\"createdAt\": \"2020-09-13T00:00:00\", \"kind\": \"comments\", \"count\": null}, {\"createdAt\": \"2020-09-20T00:00:00\", \"kind\": \"comments\", \"count\": null}, {\"createdAt\": \"2020-09-27T00:00:00\", \"kind\": \"comments\", \"count\": null}, {\"createdAt\": \"2020-10-04T00:00:00\", \"kind\": \"comments\", \"count\": null}, {\"createdAt\": \"2020-10-11T00:00:00\", \"kind\": \"comments\", \"count\": 24.0}, {\"createdAt\": \"2020-10-18T00:00:00\", \"kind\": \"comments\", \"count\": 88.0}, {\"createdAt\": \"2020-10-25T00:00:00\", \"kind\": \"comments\", \"count\": 66.0}, {\"createdAt\": \"2020-11-01T00:00:00\", \"kind\": \"comments\", \"count\": 67.0}, {\"createdAt\": \"2020-11-08T00:00:00\", \"kind\": \"comments\", \"count\": 45.0}, {\"createdAt\": \"2020-11-15T00:00:00\", \"kind\": \"comments\", \"count\": 46.0}, {\"createdAt\": \"2020-11-22T00:00:00\", \"kind\": \"comments\", \"count\": 37.0}, {\"createdAt\": \"2020-11-29T00:00:00\", \"kind\": \"comments\", \"count\": 13.0}, {\"createdAt\": \"2020-12-06T00:00:00\", \"kind\": \"comments\", \"count\": 24.0}, {\"createdAt\": \"2020-12-13T00:00:00\", \"kind\": \"comments\", \"count\": 2.0}]}}, {\"mode\": \"vega-lite\"});\n",
       "</script>"
      ],
      "text/plain": [
       "alt.Chart(...)"
      ]
     },
     "execution_count": 17,
     "metadata": {},
     "output_type": "execute_result"
    }
   ],
   "source": [
    "alt.Chart(total_time, width=600).mark_line().encode(\n",
    "    x='createdAt',\n",
    "    y='count',\n",
    "    color='kind'\n",
    ")"
   ]
  }
 ],
 "metadata": {
  "kernelspec": {
   "display_name": "Python 3",
   "language": "python",
   "name": "python3"
  },
  "language_info": {
   "codemirror_mode": {
    "name": "ipython",
    "version": 3
   },
   "file_extension": ".py",
   "mimetype": "text/x-python",
   "name": "python",
   "nbconvert_exporter": "python",
   "pygments_lexer": "ipython3",
   "version": "3.7.9"
  },
  "papermill": {
   "default_parameters": {},
   "duration": 2.857318,
   "end_time": "2020-12-08T01:39:36.275235",
   "environment_variables": {},
   "exception": null,
   "input_path": "./person.ipynb",
   "output_path": "people/choldgraf.ipynb",
   "parameters": {
    "n_days": 60,
    "person": "choldgraf"
   },
   "start_time": "2020-12-08T01:39:33.417917",
   "version": "2.2.2"
  },
  "widgets": {
   "application/vnd.jupyter.widget-state+json": {
    "state": {},
    "version_major": 2,
    "version_minor": 0
   }
  }
 },
 "nbformat": 4,
 "nbformat_minor": 4
}