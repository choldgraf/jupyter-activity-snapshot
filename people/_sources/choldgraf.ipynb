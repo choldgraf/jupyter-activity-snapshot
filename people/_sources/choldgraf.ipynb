{
 "cells": [
  {
   "cell_type": "markdown",
   "metadata": {
    "papermill": {
     "duration": 0.016067,
     "end_time": "2020-10-18T01:41:38.979496",
     "exception": false,
     "start_time": "2020-10-18T01:41:38.963429",
     "status": "completed"
    },
    "tags": []
   },
   "source": [
    "# Report for choldgraf"
   ]
  },
  {
   "cell_type": "code",
   "execution_count": 1,
   "metadata": {
    "execution": {
     "iopub.execute_input": "2020-10-18T01:41:39.014731Z",
     "iopub.status.busy": "2020-10-18T01:41:39.014122Z",
     "iopub.status.idle": "2020-10-18T01:41:39.907430Z",
     "shell.execute_reply": "2020-10-18T01:41:39.907984Z"
    },
    "papermill": {
     "duration": 0.915412,
     "end_time": "2020-10-18T01:41:39.908355",
     "exception": false,
     "start_time": "2020-10-18T01:41:38.992943",
     "status": "completed"
    },
    "tags": [
     "remove_cell"
    ]
   },
   "outputs": [],
   "source": [
    "import seaborn as sns\n",
    "import pandas as pd\n",
    "import numpy as np\n",
    "import altair as alt\n",
    "from markdown import markdown\n",
    "from IPython.display import Markdown\n",
    "from ipywidgets.widgets import HTML, Tab\n",
    "from ipywidgets import widgets\n",
    "from datetime import timedelta\n",
    "from matplotlib import pyplot as plt\n",
    "import os.path as op\n",
    "\n",
    "from mycode import alt_theme\n",
    "from warnings import simplefilter\n",
    "simplefilter('ignore')"
   ]
  },
  {
   "cell_type": "code",
   "execution_count": 2,
   "metadata": {
    "execution": {
     "iopub.execute_input": "2020-10-18T01:41:39.943787Z",
     "iopub.status.busy": "2020-10-18T01:41:39.942679Z",
     "iopub.status.idle": "2020-10-18T01:41:39.944759Z",
     "shell.execute_reply": "2020-10-18T01:41:39.945464Z"
    },
    "papermill": {
     "duration": 0.022314,
     "end_time": "2020-10-18T01:41:39.945717",
     "exception": false,
     "start_time": "2020-10-18T01:41:39.923403",
     "status": "completed"
    },
    "tags": [
     "remove_cell"
    ]
   },
   "outputs": [],
   "source": [
    "def author_url(author):\n",
    "    return f\"https://github.com/{author}\""
   ]
  },
  {
   "cell_type": "code",
   "execution_count": 3,
   "metadata": {
    "execution": {
     "iopub.execute_input": "2020-10-18T01:41:39.975660Z",
     "iopub.status.busy": "2020-10-18T01:41:39.974864Z",
     "iopub.status.idle": "2020-10-18T01:41:39.976507Z",
     "shell.execute_reply": "2020-10-18T01:41:39.977128Z"
    },
    "papermill": {
     "duration": 0.019239,
     "end_time": "2020-10-18T01:41:39.977331",
     "exception": false,
     "start_time": "2020-10-18T01:41:39.958092",
     "status": "completed"
    },
    "tags": [
     "parameters",
     "hide_input"
    ]
   },
   "outputs": [],
   "source": [
    "# Parameters\n",
    "fmt_date = \"{:%Y-%m-%d}\"\n",
    "\n",
    "n_days = 30 * 2\n",
    "start_date = fmt_date.format(pd.datetime.today() - timedelta(days=n_days))\n",
    "end_date = fmt_date.format(pd.datetime.today())\n",
    "\n",
    "renderer = \"html\"\n",
    "person = \"jasongrout\""
   ]
  },
  {
   "cell_type": "code",
   "execution_count": 4,
   "metadata": {
    "execution": {
     "iopub.execute_input": "2020-10-18T01:41:40.004359Z",
     "iopub.status.busy": "2020-10-18T01:41:40.003820Z",
     "iopub.status.idle": "2020-10-18T01:41:40.006174Z",
     "shell.execute_reply": "2020-10-18T01:41:40.005622Z"
    },
    "papermill": {
     "duration": 0.01681,
     "end_time": "2020-10-18T01:41:40.006331",
     "exception": false,
     "start_time": "2020-10-18T01:41:39.989521",
     "status": "completed"
    },
    "tags": [
     "injected-parameters",
     "remove-cell"
    ]
   },
   "outputs": [],
   "source": [
    "# Parameters\n",
    "person = \"choldgraf\"\n",
    "n_days = 60\n"
   ]
  },
  {
   "cell_type": "code",
   "execution_count": 5,
   "metadata": {
    "execution": {
     "iopub.execute_input": "2020-10-18T01:41:40.037863Z",
     "iopub.status.busy": "2020-10-18T01:41:40.037130Z",
     "iopub.status.idle": "2020-10-18T01:41:40.039248Z",
     "shell.execute_reply": "2020-10-18T01:41:40.039679Z"
    },
    "papermill": {
     "duration": 0.021608,
     "end_time": "2020-10-18T01:41:40.039832",
     "exception": false,
     "start_time": "2020-10-18T01:41:40.018224",
     "status": "completed"
    },
    "tags": [
     "remove_cell"
    ]
   },
   "outputs": [
    {
     "data": {
      "text/plain": [
       "ThemeRegistry.enable('my_theme')"
      ]
     },
     "execution_count": 5,
     "metadata": {},
     "output_type": "execute_result"
    }
   ],
   "source": [
    "alt.renderers.enable(renderer);\n",
    "alt.themes.register('my_theme', alt_theme)\n",
    "alt.themes.enable(\"my_theme\")"
   ]
  },
  {
   "cell_type": "markdown",
   "metadata": {
    "papermill": {
     "duration": 0.012711,
     "end_time": "2020-10-18T01:41:40.065900",
     "exception": false,
     "start_time": "2020-10-18T01:41:40.053189",
     "status": "completed"
    },
    "tags": []
   },
   "source": [
    "## Load data"
   ]
  },
  {
   "cell_type": "code",
   "execution_count": 6,
   "metadata": {
    "execution": {
     "iopub.execute_input": "2020-10-18T01:41:40.095931Z",
     "iopub.status.busy": "2020-10-18T01:41:40.095388Z",
     "iopub.status.idle": "2020-10-18T01:41:40.290991Z",
     "shell.execute_reply": "2020-10-18T01:41:40.290443Z"
    },
    "papermill": {
     "duration": 0.212601,
     "end_time": "2020-10-18T01:41:40.291160",
     "exception": false,
     "start_time": "2020-10-18T01:41:40.078559",
     "status": "completed"
    },
    "tags": [
     "remove_cell"
    ]
   },
   "outputs": [],
   "source": [
    "from pathlib import Path\n",
    "path_data = Path(\"./\")\n",
    "comments = pd.read_csv(path_data.joinpath('comments.csv'), index_col=0)\n",
    "issues = pd.read_csv(path_data.joinpath('issues.csv'), index_col=0)\n",
    "prs = pd.read_csv(path_data.joinpath('prs.csv'), index_col=0)\n",
    "\n",
    "comments = comments.query('author == @person').drop_duplicates()\n",
    "issues = issues.query('author == @person').drop_duplicates()\n",
    "closed_by = prs.query('mergedBy == @person')\n",
    "prs = prs.query('author == @person').drop_duplicates()"
   ]
  },
  {
   "cell_type": "code",
   "execution_count": 7,
   "metadata": {
    "execution": {
     "iopub.execute_input": "2020-10-18T01:41:40.330145Z",
     "iopub.status.busy": "2020-10-18T01:41:40.329287Z",
     "iopub.status.idle": "2020-10-18T01:41:40.374770Z",
     "shell.execute_reply": "2020-10-18T01:41:40.373857Z"
    },
    "papermill": {
     "duration": 0.069831,
     "end_time": "2020-10-18T01:41:40.375028",
     "exception": false,
     "start_time": "2020-10-18T01:41:40.305197",
     "status": "completed"
    },
    "tags": [
     "remove_cell"
    ]
   },
   "outputs": [],
   "source": [
    "# Time columns\n",
    "# Also drop dates outside of our range\n",
    "time_columns = ['updatedAt', 'createdAt', 'closedAt']\n",
    "for col in time_columns:\n",
    "    for item in [comments, issues, prs, closed_by]:\n",
    "        if col not in item.columns:\n",
    "            continue\n",
    "        dt = pd.to_datetime(item[col]).dt.tz_localize(None)\n",
    "        item[col] = dt\n",
    "        item.query(\"updatedAt < @end_date and updatedAt > @start_date\", inplace=True)"
   ]
  },
  {
   "cell_type": "markdown",
   "metadata": {
    "papermill": {
     "duration": 0.012197,
     "end_time": "2020-10-18T01:41:40.402763",
     "exception": false,
     "start_time": "2020-10-18T01:41:40.390566",
     "status": "completed"
    },
    "tags": []
   },
   "source": [
    "# Repository summaries"
   ]
  },
  {
   "cell_type": "code",
   "execution_count": 8,
   "metadata": {
    "execution": {
     "iopub.execute_input": "2020-10-18T01:41:40.434626Z",
     "iopub.status.busy": "2020-10-18T01:41:40.434015Z",
     "iopub.status.idle": "2020-10-18T01:41:40.452531Z",
     "shell.execute_reply": "2020-10-18T01:41:40.452003Z"
    },
    "papermill": {
     "duration": 0.036305,
     "end_time": "2020-10-18T01:41:40.452684",
     "exception": false,
     "start_time": "2020-10-18T01:41:40.416379",
     "status": "completed"
    },
    "tags": [
     "remove_cell"
    ]
   },
   "outputs": [],
   "source": [
    "summaries = []\n",
    "for idata, name in [(issues, 'issues'), (prs, 'prs'), (comments, 'comments')]:\n",
    "    idata = idata.groupby([\"repo\", \"org\"]).agg({'id': \"count\"}).reset_index().rename(columns={'id': 'count'})\n",
    "    idata[\"kind\"] = name\n",
    "    summaries.append(idata)\n",
    "summaries = pd.concat(summaries)"
   ]
  },
  {
   "cell_type": "code",
   "execution_count": 9,
   "metadata": {
    "execution": {
     "iopub.execute_input": "2020-10-18T01:41:40.489493Z",
     "iopub.status.busy": "2020-10-18T01:41:40.488948Z",
     "iopub.status.idle": "2020-10-18T01:41:40.491213Z",
     "shell.execute_reply": "2020-10-18T01:41:40.490775Z"
    },
    "papermill": {
     "duration": 0.02624,
     "end_time": "2020-10-18T01:41:40.491355",
     "exception": false,
     "start_time": "2020-10-18T01:41:40.465115",
     "status": "completed"
    },
    "tags": [
     "remove_cell"
    ]
   },
   "outputs": [],
   "source": [
    "repo_summaries = summaries.groupby([\"repo\", \"kind\"]).agg({\"count\": \"sum\"}).reset_index()\n",
    "org_summaries = summaries.groupby([\"org\", \"kind\"]).agg({\"count\": \"sum\"}).reset_index()"
   ]
  },
  {
   "cell_type": "code",
   "execution_count": 10,
   "metadata": {
    "execution": {
     "iopub.execute_input": "2020-10-18T01:41:40.522552Z",
     "iopub.status.busy": "2020-10-18T01:41:40.521988Z",
     "iopub.status.idle": "2020-10-18T01:41:40.524388Z",
     "shell.execute_reply": "2020-10-18T01:41:40.524916Z"
    },
    "papermill": {
     "duration": 0.021468,
     "end_time": "2020-10-18T01:41:40.525075",
     "exception": false,
     "start_time": "2020-10-18T01:41:40.503607",
     "status": "completed"
    },
    "tags": [
     "remove_cell"
    ]
   },
   "outputs": [],
   "source": [
    "repo_summaries['logcount'] = np.log(repo_summaries[\"count\"])"
   ]
  },
  {
   "cell_type": "code",
   "execution_count": 11,
   "metadata": {
    "execution": {
     "iopub.execute_input": "2020-10-18T01:41:40.556319Z",
     "iopub.status.busy": "2020-10-18T01:41:40.555776Z",
     "iopub.status.idle": "2020-10-18T01:41:40.606558Z",
     "shell.execute_reply": "2020-10-18T01:41:40.607011Z"
    },
    "papermill": {
     "duration": 0.067922,
     "end_time": "2020-10-18T01:41:40.607172",
     "exception": false,
     "start_time": "2020-10-18T01:41:40.539250",
     "status": "completed"
    },
    "tags": [
     "hide_input"
    ]
   },
   "outputs": [
    {
     "data": {
      "text/html": [
       "\n",
       "<div id=\"altair-viz-d5b47ac510394a5dbdc872fec6b4e1bb\"></div>\n",
       "<script type=\"text/javascript\">\n",
       "  (function(spec, embedOpt){\n",
       "    let outputDiv = document.currentScript.previousElementSibling;\n",
       "    if (outputDiv.id !== \"altair-viz-d5b47ac510394a5dbdc872fec6b4e1bb\") {\n",
       "      outputDiv = document.getElementById(\"altair-viz-d5b47ac510394a5dbdc872fec6b4e1bb\");\n",
       "    }\n",
       "    const paths = {\n",
       "      \"vega\": \"https://cdn.jsdelivr.net/npm//vega@5?noext\",\n",
       "      \"vega-lib\": \"https://cdn.jsdelivr.net/npm//vega-lib?noext\",\n",
       "      \"vega-lite\": \"https://cdn.jsdelivr.net/npm//vega-lite@4.8.1?noext\",\n",
       "      \"vega-embed\": \"https://cdn.jsdelivr.net/npm//vega-embed@6?noext\",\n",
       "    };\n",
       "\n",
       "    function loadScript(lib) {\n",
       "      return new Promise(function(resolve, reject) {\n",
       "        var s = document.createElement('script');\n",
       "        s.src = paths[lib];\n",
       "        s.async = true;\n",
       "        s.onload = () => resolve(paths[lib]);\n",
       "        s.onerror = () => reject(`Error loading script: ${paths[lib]}`);\n",
       "        document.getElementsByTagName(\"head\")[0].appendChild(s);\n",
       "      });\n",
       "    }\n",
       "\n",
       "    function showError(err) {\n",
       "      outputDiv.innerHTML = `<div class=\"error\" style=\"color:red;\">${err}</div>`;\n",
       "      throw err;\n",
       "    }\n",
       "\n",
       "    function displayChart(vegaEmbed) {\n",
       "      vegaEmbed(outputDiv, spec, embedOpt)\n",
       "        .catch(err => showError(`Javascript Error: ${err.message}<br>This usually means there's a typo in your chart specification. See the javascript console for the full traceback.`));\n",
       "    }\n",
       "\n",
       "    if(typeof define === \"function\" && define.amd) {\n",
       "      requirejs.config({paths});\n",
       "      require([\"vega-embed\"], displayChart, err => showError(`Error loading script: ${err.message}`));\n",
       "    } else if (typeof vegaEmbed === \"function\") {\n",
       "      displayChart(vegaEmbed);\n",
       "    } else {\n",
       "      loadScript(\"vega\")\n",
       "        .then(() => loadScript(\"vega-lite\"))\n",
       "        .then(() => loadScript(\"vega-embed\"))\n",
       "        .catch(showError)\n",
       "        .then(() => displayChart(vegaEmbed));\n",
       "    }\n",
       "  })({\"config\": {\"axisLeft\": {\"labelFontSize\": 15}, \"axisBottom\": {\"labelFontSize\": 15}}, \"hconcat\": [{\"mark\": \"bar\", \"encoding\": {\"color\": {\"type\": \"nominal\", \"field\": \"kind\"}, \"tooltip\": {\"type\": \"nominal\", \"field\": \"kind\"}, \"x\": {\"type\": \"nominal\", \"field\": \"repo\"}, \"y\": {\"type\": \"quantitative\", \"field\": \"count\"}}, \"title\": \"Activity per repository\", \"width\": 600}, {\"mark\": \"bar\", \"encoding\": {\"color\": {\"type\": \"nominal\", \"field\": \"kind\"}, \"tooltip\": {\"type\": \"nominal\", \"field\": \"kind\"}, \"x\": {\"type\": \"nominal\", \"field\": \"repo\"}, \"y\": {\"type\": \"quantitative\", \"field\": \"logcount\"}}, \"title\": \"Log activity per repository\", \"width\": 600}], \"data\": {\"name\": \"data-3cfafd595ee2f24bb4fdc94368edd061\"}, \"$schema\": \"https://vega.github.io/schema/vega-lite/v4.8.1.json\", \"datasets\": {\"data-3cfafd595ee2f24bb4fdc94368edd061\": [{\"repo\": \".github\", \"kind\": \"comments\", \"count\": 1, \"logcount\": 0.0}, {\"repo\": \"MyST-NB\", \"kind\": \"comments\", \"count\": 13, \"logcount\": 2.5649493574615367}, {\"repo\": \"MyST-NB\", \"kind\": \"issues\", \"count\": 3, \"logcount\": 1.0986122886681098}, {\"repo\": \"MyST-NB\", \"kind\": \"prs\", \"count\": 1, \"logcount\": 0.0}, {\"repo\": \"MyST-Parser\", \"kind\": \"comments\", \"count\": 17, \"logcount\": 2.833213344056216}, {\"repo\": \"MyST-Parser\", \"kind\": \"issues\", \"count\": 5, \"logcount\": 1.6094379124341003}, {\"repo\": \"MyST-Parser\", \"kind\": \"prs\", \"count\": 3, \"logcount\": 1.0986122886681098}, {\"repo\": \"accessibility\", \"kind\": \"comments\", \"count\": 1, \"logcount\": 0.0}, {\"repo\": \"binder\", \"kind\": \"comments\", \"count\": 7, \"logcount\": 1.9459101490553132}, {\"repo\": \"binder\", \"kind\": \"issues\", \"count\": 1, \"logcount\": 0.0}, {\"repo\": \"binder\", \"kind\": \"prs\", \"count\": 2, \"logcount\": 0.6931471805599453}, {\"repo\": \"binderhub\", \"kind\": \"comments\", \"count\": 3, \"logcount\": 1.0986122886681098}, {\"repo\": \"binderhub\", \"kind\": \"issues\", \"count\": 1, \"logcount\": 0.0}, {\"repo\": \"binderhub\", \"kind\": \"prs\", \"count\": 1, \"logcount\": 0.0}, {\"repo\": \"cookiecutter-jupyter-book\", \"kind\": \"comments\", \"count\": 1, \"logcount\": 0.0}, {\"repo\": \"enhancement-proposals\", \"kind\": \"comments\", \"count\": 4, \"logcount\": 1.3862943611198906}, {\"repo\": \"enhancement-proposals\", \"kind\": \"prs\", \"count\": 1, \"logcount\": 0.0}, {\"repo\": \"github-activity\", \"kind\": \"comments\", \"count\": 2, \"logcount\": 0.6931471805599453}, {\"repo\": \"governance\", \"kind\": \"comments\", \"count\": 2, \"logcount\": 0.6931471805599453}, {\"repo\": \"jupyter\", \"kind\": \"comments\", \"count\": 3, \"logcount\": 1.0986122886681098}, {\"repo\": \"jupyter\", \"kind\": \"issues\", \"count\": 1, \"logcount\": 0.0}, {\"repo\": \"jupyter\", \"kind\": \"prs\", \"count\": 1, \"logcount\": 0.0}, {\"repo\": \"jupyter-book\", \"kind\": \"comments\", \"count\": 145, \"logcount\": 4.976733742420574}, {\"repo\": \"jupyter-book\", \"kind\": \"issues\", \"count\": 9, \"logcount\": 2.1972245773362196}, {\"repo\": \"jupyter-book\", \"kind\": \"prs\", \"count\": 16, \"logcount\": 2.772588722239781}, {\"repo\": \"jupyter-cache\", \"kind\": \"comments\", \"count\": 2, \"logcount\": 0.6931471805599453}, {\"repo\": \"jupyter-sphinx\", \"kind\": \"comments\", \"count\": 6, \"logcount\": 1.791759469228055}, {\"repo\": \"jupyter-sphinx\", \"kind\": \"issues\", \"count\": 1, \"logcount\": 0.0}, {\"repo\": \"jupyter-sphinx\", \"kind\": \"prs\", \"count\": 2, \"logcount\": 0.6931471805599453}, {\"repo\": \"jupyter.github.io\", \"kind\": \"comments\", \"count\": 3, \"logcount\": 1.0986122886681098}, {\"repo\": \"jupyterhub\", \"kind\": \"comments\", \"count\": 1, \"logcount\": 0.0}, {\"repo\": \"jupyterlab\", \"kind\": \"comments\", \"count\": 7, \"logcount\": 1.9459101490553132}, {\"repo\": \"jupyterlab\", \"kind\": \"issues\", \"count\": 2, \"logcount\": 0.6931471805599453}, {\"repo\": \"markdown-it-py\", \"kind\": \"comments\", \"count\": 1, \"logcount\": 0.0}, {\"repo\": \"meta\", \"kind\": \"comments\", \"count\": 26, \"logcount\": 3.258096538021482}, {\"repo\": \"meta\", \"kind\": \"issues\", \"count\": 8, \"logcount\": 2.0794415416798357}, {\"repo\": \"meta\", \"kind\": \"prs\", \"count\": 2, \"logcount\": 0.6931471805599453}, {\"repo\": \"mybinder.org-deploy\", \"kind\": \"comments\", \"count\": 9, \"logcount\": 2.1972245773362196}, {\"repo\": \"mybinder.org-deploy\", \"kind\": \"issues\", \"count\": 1, \"logcount\": 0.0}, {\"repo\": \"mybinder.org-deploy\", \"kind\": \"prs\", \"count\": 1, \"logcount\": 0.0}, {\"repo\": \"nbclient\", \"kind\": \"comments\", \"count\": 1, \"logcount\": 0.0}, {\"repo\": \"nbconvert\", \"kind\": \"comments\", \"count\": 2, \"logcount\": 0.6931471805599453}, {\"repo\": \"nbconvert\", \"kind\": \"issues\", \"count\": 1, \"logcount\": 0.0}, {\"repo\": \"nbgitpuller\", \"kind\": \"comments\", \"count\": 2, \"logcount\": 0.6931471805599453}, {\"repo\": \"nbgitpuller\", \"kind\": \"issues\", \"count\": 2, \"logcount\": 0.6931471805599453}, {\"repo\": \"repo2docker\", \"kind\": \"issues\", \"count\": 1, \"logcount\": 0.0}, {\"repo\": \"sphinx-book-theme\", \"kind\": \"comments\", \"count\": 72, \"logcount\": 4.276666119016055}, {\"repo\": \"sphinx-book-theme\", \"kind\": \"issues\", \"count\": 4, \"logcount\": 1.3862943611198906}, {\"repo\": \"sphinx-book-theme\", \"kind\": \"prs\", \"count\": 12, \"logcount\": 2.4849066497880004}, {\"repo\": \"sphinx-comments\", \"kind\": \"comments\", \"count\": 1, \"logcount\": 0.0}, {\"repo\": \"sphinx-comments\", \"kind\": \"issues\", \"count\": 2, \"logcount\": 0.6931471805599453}, {\"repo\": \"sphinx-comments\", \"kind\": \"prs\", \"count\": 2, \"logcount\": 0.6931471805599453}, {\"repo\": \"sphinx-conditional-asset\", \"kind\": \"comments\", \"count\": 3, \"logcount\": 1.0986122886681098}, {\"repo\": \"sphinx-conditional-asset\", \"kind\": \"issues\", \"count\": 1, \"logcount\": 0.0}, {\"repo\": \"sphinx-copybutton\", \"kind\": \"comments\", \"count\": 5, \"logcount\": 1.6094379124341003}, {\"repo\": \"sphinx-exercise\", \"kind\": \"comments\", \"count\": 15, \"logcount\": 2.70805020110221}, {\"repo\": \"sphinx-exercise\", \"kind\": \"issues\", \"count\": 8, \"logcount\": 2.0794415416798357}, {\"repo\": \"sphinx-panels\", \"kind\": \"comments\", \"count\": 12, \"logcount\": 2.4849066497880004}, {\"repo\": \"sphinx-panels\", \"kind\": \"issues\", \"count\": 3, \"logcount\": 1.0986122886681098}, {\"repo\": \"sphinx-panels\", \"kind\": \"prs\", \"count\": 1, \"logcount\": 0.0}, {\"repo\": \"sphinx-proof\", \"kind\": \"comments\", \"count\": 13, \"logcount\": 2.5649493574615367}, {\"repo\": \"sphinx-proof\", \"kind\": \"issues\", \"count\": 2, \"logcount\": 0.6931471805599453}, {\"repo\": \"sphinx-thebe\", \"kind\": \"comments\", \"count\": 1, \"logcount\": 0.0}, {\"repo\": \"sphinx-thebe\", \"kind\": \"prs\", \"count\": 1, \"logcount\": 0.0}, {\"repo\": \"sphinx-togglebutton\", \"kind\": \"comments\", \"count\": 4, \"logcount\": 1.3862943611198906}, {\"repo\": \"sphinx-togglebutton\", \"kind\": \"prs\", \"count\": 1, \"logcount\": 0.0}, {\"repo\": \"team-compass\", \"kind\": \"comments\", \"count\": 7, \"logcount\": 1.9459101490553132}, {\"repo\": \"team-compass\", \"kind\": \"issues\", \"count\": 1, \"logcount\": 0.0}, {\"repo\": \"the-littlest-jupyterhub\", \"kind\": \"issues\", \"count\": 1, \"logcount\": 0.0}, {\"repo\": \"thebe\", \"kind\": \"comments\", \"count\": 25, \"logcount\": 3.2188758248682006}, {\"repo\": \"thebe\", \"kind\": \"prs\", \"count\": 1, \"logcount\": 0.0}, {\"repo\": \"voila\", \"kind\": \"issues\", \"count\": 2, \"logcount\": 0.6931471805599453}, {\"repo\": \"zero-to-jupyterhub-k8s\", \"kind\": \"comments\", \"count\": 10, \"logcount\": 2.302585092994046}, {\"repo\": \"zero-to-jupyterhub-k8s\", \"kind\": \"issues\", \"count\": 13, \"logcount\": 2.5649493574615367}, {\"repo\": \"zero-to-jupyterhub-k8s\", \"kind\": \"prs\", \"count\": 1, \"logcount\": 0.0}]}}, {\"mode\": \"vega-lite\"});\n",
       "</script>"
      ],
      "text/plain": [
       "alt.HConcatChart(...)"
      ]
     },
     "execution_count": 11,
     "metadata": {},
     "output_type": "execute_result"
    }
   ],
   "source": [
    "ch1 = alt.Chart(repo_summaries, width=600, title=\"Activity per repository\").mark_bar().encode(\n",
    "    x='repo',\n",
    "    y='count',\n",
    "    color='kind',\n",
    "    tooltip=\"kind\"\n",
    ")\n",
    "\n",
    "ch2 = alt.Chart(repo_summaries, width=600, title=\"Log activity per repository\").mark_bar().encode(\n",
    "    x='repo',\n",
    "    y='logcount',\n",
    "    color='kind',\n",
    "    tooltip=\"kind\"\n",
    ")\n",
    "\n",
    "ch1 | ch2"
   ]
  },
  {
   "cell_type": "code",
   "execution_count": 12,
   "metadata": {
    "execution": {
     "iopub.execute_input": "2020-10-18T01:41:40.662386Z",
     "iopub.status.busy": "2020-10-18T01:41:40.646099Z",
     "iopub.status.idle": "2020-10-18T01:41:40.664628Z",
     "shell.execute_reply": "2020-10-18T01:41:40.665065Z"
    },
    "papermill": {
     "duration": 0.044869,
     "end_time": "2020-10-18T01:41:40.665226",
     "exception": false,
     "start_time": "2020-10-18T01:41:40.620357",
     "status": "completed"
    },
    "tags": [
     "hide_input"
    ]
   },
   "outputs": [
    {
     "data": {
      "text/html": [
       "\n",
       "<div id=\"altair-viz-06adc6126131471c853138df75488871\"></div>\n",
       "<script type=\"text/javascript\">\n",
       "  (function(spec, embedOpt){\n",
       "    let outputDiv = document.currentScript.previousElementSibling;\n",
       "    if (outputDiv.id !== \"altair-viz-06adc6126131471c853138df75488871\") {\n",
       "      outputDiv = document.getElementById(\"altair-viz-06adc6126131471c853138df75488871\");\n",
       "    }\n",
       "    const paths = {\n",
       "      \"vega\": \"https://cdn.jsdelivr.net/npm//vega@5?noext\",\n",
       "      \"vega-lib\": \"https://cdn.jsdelivr.net/npm//vega-lib?noext\",\n",
       "      \"vega-lite\": \"https://cdn.jsdelivr.net/npm//vega-lite@4.8.1?noext\",\n",
       "      \"vega-embed\": \"https://cdn.jsdelivr.net/npm//vega-embed@6?noext\",\n",
       "    };\n",
       "\n",
       "    function loadScript(lib) {\n",
       "      return new Promise(function(resolve, reject) {\n",
       "        var s = document.createElement('script');\n",
       "        s.src = paths[lib];\n",
       "        s.async = true;\n",
       "        s.onload = () => resolve(paths[lib]);\n",
       "        s.onerror = () => reject(`Error loading script: ${paths[lib]}`);\n",
       "        document.getElementsByTagName(\"head\")[0].appendChild(s);\n",
       "      });\n",
       "    }\n",
       "\n",
       "    function showError(err) {\n",
       "      outputDiv.innerHTML = `<div class=\"error\" style=\"color:red;\">${err}</div>`;\n",
       "      throw err;\n",
       "    }\n",
       "\n",
       "    function displayChart(vegaEmbed) {\n",
       "      vegaEmbed(outputDiv, spec, embedOpt)\n",
       "        .catch(err => showError(`Javascript Error: ${err.message}<br>This usually means there's a typo in your chart specification. See the javascript console for the full traceback.`));\n",
       "    }\n",
       "\n",
       "    if(typeof define === \"function\" && define.amd) {\n",
       "      requirejs.config({paths});\n",
       "      require([\"vega-embed\"], displayChart, err => showError(`Error loading script: ${err.message}`));\n",
       "    } else if (typeof vegaEmbed === \"function\") {\n",
       "      displayChart(vegaEmbed);\n",
       "    } else {\n",
       "      loadScript(\"vega\")\n",
       "        .then(() => loadScript(\"vega-lite\"))\n",
       "        .then(() => loadScript(\"vega-embed\"))\n",
       "        .catch(showError)\n",
       "        .then(() => displayChart(vegaEmbed));\n",
       "    }\n",
       "  })({\"config\": {\"axisLeft\": {\"labelFontSize\": 15}, \"axisBottom\": {\"labelFontSize\": 15}}, \"data\": {\"name\": \"data-b2e133738a7e68e92ce73d94b1bda62c\"}, \"mark\": \"bar\", \"encoding\": {\"color\": {\"type\": \"nominal\", \"field\": \"kind\"}, \"tooltip\": {\"type\": \"nominal\", \"field\": \"org\"}, \"x\": {\"type\": \"nominal\", \"field\": \"org\"}, \"y\": {\"type\": \"quantitative\", \"field\": \"count\"}}, \"width\": 600, \"$schema\": \"https://vega.github.io/schema/vega-lite/v4.8.1.json\", \"datasets\": {\"data-b2e133738a7e68e92ce73d94b1bda62c\": [{\"org\": \"executablebooks\", \"kind\": \"comments\", \"count\": 358}, {\"org\": \"executablebooks\", \"kind\": \"issues\", \"count\": 45}, {\"org\": \"executablebooks\", \"kind\": \"prs\", \"count\": 40}, {\"org\": \"jupyter\", \"kind\": \"comments\", \"count\": 22}, {\"org\": \"jupyter\", \"kind\": \"issues\", \"count\": 3}, {\"org\": \"jupyter\", \"kind\": \"prs\", \"count\": 4}, {\"org\": \"jupyterhub\", \"kind\": \"comments\", \"count\": 37}, {\"org\": \"jupyterhub\", \"kind\": \"issues\", \"count\": 21}, {\"org\": \"jupyterhub\", \"kind\": \"prs\", \"count\": 5}, {\"org\": \"jupyterlab\", \"kind\": \"comments\", \"count\": 10}, {\"org\": \"jupyterlab\", \"kind\": \"issues\", \"count\": 2}, {\"org\": \"voila-dashboards\", \"kind\": \"issues\", \"count\": 2}]}}, {\"mode\": \"vega-lite\"});\n",
       "</script>"
      ],
      "text/plain": [
       "alt.Chart(...)"
      ]
     },
     "execution_count": 12,
     "metadata": {},
     "output_type": "execute_result"
    }
   ],
   "source": [
    "alt.Chart(org_summaries, width=600).mark_bar().encode(\n",
    "    x='org',\n",
    "    y='count',\n",
    "    color='kind',\n",
    "    tooltip=\"org\"\n",
    ")"
   ]
  },
  {
   "cell_type": "markdown",
   "metadata": {
    "papermill": {
     "duration": 0.014316,
     "end_time": "2020-10-18T01:41:40.694537",
     "exception": false,
     "start_time": "2020-10-18T01:41:40.680221",
     "status": "completed"
    },
    "tags": []
   },
   "source": [
    "# By repository over time"
   ]
  },
  {
   "cell_type": "markdown",
   "metadata": {
    "papermill": {
     "duration": 0.013333,
     "end_time": "2020-10-18T01:41:40.721575",
     "exception": false,
     "start_time": "2020-10-18T01:41:40.708242",
     "status": "completed"
    },
    "tags": []
   },
   "source": [
    "## Comments"
   ]
  },
  {
   "cell_type": "code",
   "execution_count": 13,
   "metadata": {
    "execution": {
     "iopub.execute_input": "2020-10-18T01:41:40.756958Z",
     "iopub.status.busy": "2020-10-18T01:41:40.756414Z",
     "iopub.status.idle": "2020-10-18T01:41:40.884141Z",
     "shell.execute_reply": "2020-10-18T01:41:40.884969Z"
    },
    "papermill": {
     "duration": 0.150181,
     "end_time": "2020-10-18T01:41:40.885275",
     "exception": false,
     "start_time": "2020-10-18T01:41:40.735094",
     "status": "completed"
    },
    "tags": [
     "hide_input"
    ]
   },
   "outputs": [
    {
     "data": {
      "text/html": [
       "\n",
       "<div id=\"altair-viz-968dcab7a63742aabbbfc3d009a143bb\"></div>\n",
       "<script type=\"text/javascript\">\n",
       "  (function(spec, embedOpt){\n",
       "    let outputDiv = document.currentScript.previousElementSibling;\n",
       "    if (outputDiv.id !== \"altair-viz-968dcab7a63742aabbbfc3d009a143bb\") {\n",
       "      outputDiv = document.getElementById(\"altair-viz-968dcab7a63742aabbbfc3d009a143bb\");\n",
       "    }\n",
       "    const paths = {\n",
       "      \"vega\": \"https://cdn.jsdelivr.net/npm//vega@5?noext\",\n",
       "      \"vega-lib\": \"https://cdn.jsdelivr.net/npm//vega-lib?noext\",\n",
       "      \"vega-lite\": \"https://cdn.jsdelivr.net/npm//vega-lite@4.8.1?noext\",\n",
       "      \"vega-embed\": \"https://cdn.jsdelivr.net/npm//vega-embed@6?noext\",\n",
       "    };\n",
       "\n",
       "    function loadScript(lib) {\n",
       "      return new Promise(function(resolve, reject) {\n",
       "        var s = document.createElement('script');\n",
       "        s.src = paths[lib];\n",
       "        s.async = true;\n",
       "        s.onload = () => resolve(paths[lib]);\n",
       "        s.onerror = () => reject(`Error loading script: ${paths[lib]}`);\n",
       "        document.getElementsByTagName(\"head\")[0].appendChild(s);\n",
       "      });\n",
       "    }\n",
       "\n",
       "    function showError(err) {\n",
       "      outputDiv.innerHTML = `<div class=\"error\" style=\"color:red;\">${err}</div>`;\n",
       "      throw err;\n",
       "    }\n",
       "\n",
       "    function displayChart(vegaEmbed) {\n",
       "      vegaEmbed(outputDiv, spec, embedOpt)\n",
       "        .catch(err => showError(`Javascript Error: ${err.message}<br>This usually means there's a typo in your chart specification. See the javascript console for the full traceback.`));\n",
       "    }\n",
       "\n",
       "    if(typeof define === \"function\" && define.amd) {\n",
       "      requirejs.config({paths});\n",
       "      require([\"vega-embed\"], displayChart, err => showError(`Error loading script: ${err.message}`));\n",
       "    } else if (typeof vegaEmbed === \"function\") {\n",
       "      displayChart(vegaEmbed);\n",
       "    } else {\n",
       "      loadScript(\"vega\")\n",
       "        .then(() => loadScript(\"vega-lite\"))\n",
       "        .then(() => loadScript(\"vega-embed\"))\n",
       "        .catch(showError)\n",
       "        .then(() => displayChart(vegaEmbed));\n",
       "    }\n",
       "  })({\"config\": {\"axisLeft\": {\"labelFontSize\": 15}, \"axisBottom\": {\"labelFontSize\": 15}}, \"layer\": [{\"data\": {\"name\": \"data-b70033a1be371fcb12dee37e8dbb631c\"}, \"mark\": \"line\", \"encoding\": {\"color\": {\"type\": \"nominal\", \"field\": \"repo\"}, \"tooltip\": {\"type\": \"nominal\", \"field\": \"repo\"}, \"x\": {\"type\": \"temporal\", \"field\": \"createdAt\"}, \"y\": {\"type\": \"quantitative\", \"field\": \"count\"}}, \"width\": 600}, {\"data\": {\"name\": \"data-6730b4f42c58046351e455cc86ed2cee\"}, \"mark\": {\"type\": \"line\", \"color\": \"black\"}, \"encoding\": {\"x\": {\"type\": \"temporal\", \"field\": \"createdAt\"}, \"y\": {\"type\": \"quantitative\", \"field\": \"count\"}}, \"width\": 600}], \"$schema\": \"https://vega.github.io/schema/vega-lite/v4.8.1.json\", \"datasets\": {\"data-b70033a1be371fcb12dee37e8dbb631c\": [{\"repo\": \".github\", \"createdAt\": \"2020-10-11T00:00:00\", \"count\": 1}, {\"repo\": \"MyST-NB\", \"createdAt\": \"2020-08-30T00:00:00\", \"count\": 1}, {\"repo\": \"MyST-NB\", \"createdAt\": \"2020-09-06T00:00:00\", \"count\": 2}, {\"repo\": \"MyST-NB\", \"createdAt\": \"2020-09-13T00:00:00\", \"count\": 0}, {\"repo\": \"MyST-NB\", \"createdAt\": \"2020-09-20T00:00:00\", \"count\": 0}, {\"repo\": \"MyST-NB\", \"createdAt\": \"2020-09-27T00:00:00\", \"count\": 5}, {\"repo\": \"MyST-NB\", \"createdAt\": \"2020-10-04T00:00:00\", \"count\": 2}, {\"repo\": \"MyST-NB\", \"createdAt\": \"2020-10-11T00:00:00\", \"count\": 2}, {\"repo\": \"MyST-NB\", \"createdAt\": \"2020-10-18T00:00:00\", \"count\": 1}, {\"repo\": \"MyST-Parser\", \"createdAt\": \"2020-08-23T00:00:00\", \"count\": 1}, {\"repo\": \"MyST-Parser\", \"createdAt\": \"2020-08-30T00:00:00\", \"count\": 0}, {\"repo\": \"MyST-Parser\", \"createdAt\": \"2020-09-06T00:00:00\", \"count\": 1}, {\"repo\": \"MyST-Parser\", \"createdAt\": \"2020-09-13T00:00:00\", \"count\": 0}, {\"repo\": \"MyST-Parser\", \"createdAt\": \"2020-09-20T00:00:00\", \"count\": 1}, {\"repo\": \"MyST-Parser\", \"createdAt\": \"2020-09-27T00:00:00\", \"count\": 11}, {\"repo\": \"MyST-Parser\", \"createdAt\": \"2020-10-04T00:00:00\", \"count\": 1}, {\"repo\": \"MyST-Parser\", \"createdAt\": \"2020-10-11T00:00:00\", \"count\": 1}, {\"repo\": \"MyST-Parser\", \"createdAt\": \"2020-10-18T00:00:00\", \"count\": 1}, {\"repo\": \"accessibility\", \"createdAt\": \"2020-10-18T00:00:00\", \"count\": 1}, {\"repo\": \"binder\", \"createdAt\": \"2020-09-06T00:00:00\", \"count\": 3}, {\"repo\": \"binder\", \"createdAt\": \"2020-09-13T00:00:00\", \"count\": 0}, {\"repo\": \"binder\", \"createdAt\": \"2020-09-20T00:00:00\", \"count\": 0}, {\"repo\": \"binder\", \"createdAt\": \"2020-09-27T00:00:00\", \"count\": 0}, {\"repo\": \"binder\", \"createdAt\": \"2020-10-04T00:00:00\", \"count\": 0}, {\"repo\": \"binder\", \"createdAt\": \"2020-10-11T00:00:00\", \"count\": 1}, {\"repo\": \"binder\", \"createdAt\": \"2020-10-18T00:00:00\", \"count\": 3}, {\"repo\": \"binderhub\", \"createdAt\": \"2020-10-04T00:00:00\", \"count\": 2}, {\"repo\": \"binderhub\", \"createdAt\": \"2020-10-11T00:00:00\", \"count\": 0}, {\"repo\": \"binderhub\", \"createdAt\": \"2020-10-18T00:00:00\", \"count\": 1}, {\"repo\": \"cookiecutter-jupyter-book\", \"createdAt\": \"2020-10-04T00:00:00\", \"count\": 1}, {\"repo\": \"enhancement-proposals\", \"createdAt\": \"2020-09-06T00:00:00\", \"count\": 2}, {\"repo\": \"enhancement-proposals\", \"createdAt\": \"2020-09-13T00:00:00\", \"count\": 0}, {\"repo\": \"enhancement-proposals\", \"createdAt\": \"2020-09-20T00:00:00\", \"count\": 1}, {\"repo\": \"enhancement-proposals\", \"createdAt\": \"2020-09-27T00:00:00\", \"count\": 1}, {\"repo\": \"github-activity\", \"createdAt\": \"2020-10-11T00:00:00\", \"count\": 2}, {\"repo\": \"governance\", \"createdAt\": \"2020-10-18T00:00:00\", \"count\": 2}, {\"repo\": \"jupyter\", \"createdAt\": \"2020-09-20T00:00:00\", \"count\": 2}, {\"repo\": \"jupyter\", \"createdAt\": \"2020-09-27T00:00:00\", \"count\": 0}, {\"repo\": \"jupyter\", \"createdAt\": \"2020-10-04T00:00:00\", \"count\": 0}, {\"repo\": \"jupyter\", \"createdAt\": \"2020-10-11T00:00:00\", \"count\": 1}, {\"repo\": \"jupyter-book\", \"createdAt\": \"2020-08-23T00:00:00\", \"count\": 2}, {\"repo\": \"jupyter-book\", \"createdAt\": \"2020-08-30T00:00:00\", \"count\": 7}, {\"repo\": \"jupyter-book\", \"createdAt\": \"2020-09-06T00:00:00\", \"count\": 18}, {\"repo\": \"jupyter-book\", \"createdAt\": \"2020-09-13T00:00:00\", \"count\": 6}, {\"repo\": \"jupyter-book\", \"createdAt\": \"2020-09-20T00:00:00\", \"count\": 12}, {\"repo\": \"jupyter-book\", \"createdAt\": \"2020-09-27T00:00:00\", \"count\": 18}, {\"repo\": \"jupyter-book\", \"createdAt\": \"2020-10-04T00:00:00\", \"count\": 26}, {\"repo\": \"jupyter-book\", \"createdAt\": \"2020-10-11T00:00:00\", \"count\": 37}, {\"repo\": \"jupyter-book\", \"createdAt\": \"2020-10-18T00:00:00\", \"count\": 19}, {\"repo\": \"jupyter-cache\", \"createdAt\": \"2020-09-27T00:00:00\", \"count\": 2}, {\"repo\": \"jupyter-sphinx\", \"createdAt\": \"2020-08-30T00:00:00\", \"count\": 1}, {\"repo\": \"jupyter-sphinx\", \"createdAt\": \"2020-09-06T00:00:00\", \"count\": 0}, {\"repo\": \"jupyter-sphinx\", \"createdAt\": \"2020-09-13T00:00:00\", \"count\": 0}, {\"repo\": \"jupyter-sphinx\", \"createdAt\": \"2020-09-20T00:00:00\", \"count\": 0}, {\"repo\": \"jupyter-sphinx\", \"createdAt\": \"2020-09-27T00:00:00\", \"count\": 5}, {\"repo\": \"jupyter.github.io\", \"createdAt\": \"2020-09-13T00:00:00\", \"count\": 2}, {\"repo\": \"jupyter.github.io\", \"createdAt\": \"2020-09-20T00:00:00\", \"count\": 1}, {\"repo\": \"jupyterhub\", \"createdAt\": \"2020-10-11T00:00:00\", \"count\": 1}, {\"repo\": \"jupyterlab\", \"createdAt\": \"2020-09-06T00:00:00\", \"count\": 1}, {\"repo\": \"jupyterlab\", \"createdAt\": \"2020-09-13T00:00:00\", \"count\": 0}, {\"repo\": \"jupyterlab\", \"createdAt\": \"2020-09-20T00:00:00\", \"count\": 0}, {\"repo\": \"jupyterlab\", \"createdAt\": \"2020-09-27T00:00:00\", \"count\": 1}, {\"repo\": \"jupyterlab\", \"createdAt\": \"2020-10-04T00:00:00\", \"count\": 0}, {\"repo\": \"jupyterlab\", \"createdAt\": \"2020-10-11T00:00:00\", \"count\": 4}, {\"repo\": \"jupyterlab\", \"createdAt\": \"2020-10-18T00:00:00\", \"count\": 1}, {\"repo\": \"markdown-it-py\", \"createdAt\": \"2020-09-27T00:00:00\", \"count\": 1}, {\"repo\": \"meta\", \"createdAt\": \"2020-09-13T00:00:00\", \"count\": 1}, {\"repo\": \"meta\", \"createdAt\": \"2020-09-20T00:00:00\", \"count\": 3}, {\"repo\": \"meta\", \"createdAt\": \"2020-09-27T00:00:00\", \"count\": 3}, {\"repo\": \"meta\", \"createdAt\": \"2020-10-04T00:00:00\", \"count\": 10}, {\"repo\": \"meta\", \"createdAt\": \"2020-10-11T00:00:00\", \"count\": 3}, {\"repo\": \"meta\", \"createdAt\": \"2020-10-18T00:00:00\", \"count\": 6}, {\"repo\": \"mybinder.org-deploy\", \"createdAt\": \"2020-09-20T00:00:00\", \"count\": 1}, {\"repo\": \"mybinder.org-deploy\", \"createdAt\": \"2020-09-27T00:00:00\", \"count\": 4}, {\"repo\": \"mybinder.org-deploy\", \"createdAt\": \"2020-10-04T00:00:00\", \"count\": 2}, {\"repo\": \"mybinder.org-deploy\", \"createdAt\": \"2020-10-11T00:00:00\", \"count\": 1}, {\"repo\": \"mybinder.org-deploy\", \"createdAt\": \"2020-10-18T00:00:00\", \"count\": 1}, {\"repo\": \"nbclient\", \"createdAt\": \"2020-09-13T00:00:00\", \"count\": 1}, {\"repo\": \"nbconvert\", \"createdAt\": \"2020-09-13T00:00:00\", \"count\": 2}, {\"repo\": \"nbgitpuller\", \"createdAt\": \"2020-10-04T00:00:00\", \"count\": 2}, {\"repo\": \"sphinx-book-theme\", \"createdAt\": \"2020-08-30T00:00:00\", \"count\": 5}, {\"repo\": \"sphinx-book-theme\", \"createdAt\": \"2020-09-06T00:00:00\", \"count\": 5}, {\"repo\": \"sphinx-book-theme\", \"createdAt\": \"2020-09-13T00:00:00\", \"count\": 3}, {\"repo\": \"sphinx-book-theme\", \"createdAt\": \"2020-09-20T00:00:00\", \"count\": 2}, {\"repo\": \"sphinx-book-theme\", \"createdAt\": \"2020-09-27T00:00:00\", \"count\": 22}, {\"repo\": \"sphinx-book-theme\", \"createdAt\": \"2020-10-04T00:00:00\", \"count\": 9}, {\"repo\": \"sphinx-book-theme\", \"createdAt\": \"2020-10-11T00:00:00\", \"count\": 9}, {\"repo\": \"sphinx-book-theme\", \"createdAt\": \"2020-10-18T00:00:00\", \"count\": 17}, {\"repo\": \"sphinx-comments\", \"createdAt\": \"2020-09-27T00:00:00\", \"count\": 1}, {\"repo\": \"sphinx-conditional-asset\", \"createdAt\": \"2020-10-11T00:00:00\", \"count\": 3}, {\"repo\": \"sphinx-copybutton\", \"createdAt\": \"2020-09-27T00:00:00\", \"count\": 3}, {\"repo\": \"sphinx-copybutton\", \"createdAt\": \"2020-10-04T00:00:00\", \"count\": 1}, {\"repo\": \"sphinx-copybutton\", \"createdAt\": \"2020-10-11T00:00:00\", \"count\": 1}, {\"repo\": \"sphinx-exercise\", \"createdAt\": \"2020-09-27T00:00:00\", \"count\": 2}, {\"repo\": \"sphinx-exercise\", \"createdAt\": \"2020-10-04T00:00:00\", \"count\": 1}, {\"repo\": \"sphinx-exercise\", \"createdAt\": \"2020-10-11T00:00:00\", \"count\": 6}, {\"repo\": \"sphinx-exercise\", \"createdAt\": \"2020-10-18T00:00:00\", \"count\": 6}, {\"repo\": \"sphinx-panels\", \"createdAt\": \"2020-09-13T00:00:00\", \"count\": 1}, {\"repo\": \"sphinx-panels\", \"createdAt\": \"2020-09-20T00:00:00\", \"count\": 0}, {\"repo\": \"sphinx-panels\", \"createdAt\": \"2020-09-27T00:00:00\", \"count\": 1}, {\"repo\": \"sphinx-panels\", \"createdAt\": \"2020-10-04T00:00:00\", \"count\": 1}, {\"repo\": \"sphinx-panels\", \"createdAt\": \"2020-10-11T00:00:00\", \"count\": 1}, {\"repo\": \"sphinx-panels\", \"createdAt\": \"2020-10-18T00:00:00\", \"count\": 8}, {\"repo\": \"sphinx-proof\", \"createdAt\": \"2020-09-27T00:00:00\", \"count\": 10}, {\"repo\": \"sphinx-proof\", \"createdAt\": \"2020-10-04T00:00:00\", \"count\": 2}, {\"repo\": \"sphinx-proof\", \"createdAt\": \"2020-10-11T00:00:00\", \"count\": 1}, {\"repo\": \"sphinx-thebe\", \"createdAt\": \"2020-10-18T00:00:00\", \"count\": 1}, {\"repo\": \"sphinx-togglebutton\", \"createdAt\": \"2020-09-13T00:00:00\", \"count\": 3}, {\"repo\": \"sphinx-togglebutton\", \"createdAt\": \"2020-09-20T00:00:00\", \"count\": 0}, {\"repo\": \"sphinx-togglebutton\", \"createdAt\": \"2020-09-27T00:00:00\", \"count\": 0}, {\"repo\": \"sphinx-togglebutton\", \"createdAt\": \"2020-10-04T00:00:00\", \"count\": 1}, {\"repo\": \"team-compass\", \"createdAt\": \"2020-09-06T00:00:00\", \"count\": 1}, {\"repo\": \"team-compass\", \"createdAt\": \"2020-09-13T00:00:00\", \"count\": 0}, {\"repo\": \"team-compass\", \"createdAt\": \"2020-09-20T00:00:00\", \"count\": 1}, {\"repo\": \"team-compass\", \"createdAt\": \"2020-09-27T00:00:00\", \"count\": 0}, {\"repo\": \"team-compass\", \"createdAt\": \"2020-10-04T00:00:00\", \"count\": 2}, {\"repo\": \"team-compass\", \"createdAt\": \"2020-10-11T00:00:00\", \"count\": 2}, {\"repo\": \"team-compass\", \"createdAt\": \"2020-10-18T00:00:00\", \"count\": 1}, {\"repo\": \"thebe\", \"createdAt\": \"2020-08-30T00:00:00\", \"count\": 1}, {\"repo\": \"thebe\", \"createdAt\": \"2020-09-06T00:00:00\", \"count\": 0}, {\"repo\": \"thebe\", \"createdAt\": \"2020-09-13T00:00:00\", \"count\": 0}, {\"repo\": \"thebe\", \"createdAt\": \"2020-09-20T00:00:00\", \"count\": 0}, {\"repo\": \"thebe\", \"createdAt\": \"2020-09-27T00:00:00\", \"count\": 1}, {\"repo\": \"thebe\", \"createdAt\": \"2020-10-04T00:00:00\", \"count\": 2}, {\"repo\": \"thebe\", \"createdAt\": \"2020-10-11T00:00:00\", \"count\": 1}, {\"repo\": \"thebe\", \"createdAt\": \"2020-10-18T00:00:00\", \"count\": 20}, {\"repo\": \"zero-to-jupyterhub-k8s\", \"createdAt\": \"2020-10-11T00:00:00\", \"count\": 8}, {\"repo\": \"zero-to-jupyterhub-k8s\", \"createdAt\": \"2020-10-18T00:00:00\", \"count\": 2}], \"data-6730b4f42c58046351e455cc86ed2cee\": [{\"createdAt\": \"2020-08-23T00:00:00\", \"count\": 3}, {\"createdAt\": \"2020-08-30T00:00:00\", \"count\": 15}, {\"createdAt\": \"2020-09-06T00:00:00\", \"count\": 33}, {\"createdAt\": \"2020-09-13T00:00:00\", \"count\": 19}, {\"createdAt\": \"2020-09-20T00:00:00\", \"count\": 24}, {\"createdAt\": \"2020-09-27T00:00:00\", \"count\": 91}, {\"createdAt\": \"2020-10-04T00:00:00\", \"count\": 65}, {\"createdAt\": \"2020-10-11T00:00:00\", \"count\": 86}, {\"createdAt\": \"2020-10-18T00:00:00\", \"count\": 91}]}}, {\"mode\": \"vega-lite\"});\n",
       "</script>"
      ],
      "text/plain": [
       "alt.LayerChart(...)"
      ]
     },
     "execution_count": 13,
     "metadata": {},
     "output_type": "execute_result"
    }
   ],
   "source": [
    "comments_time = comments.groupby('repo').resample('W', on='createdAt').count()['author'].reset_index()\n",
    "comments_time = comments_time.rename(columns={'author': 'count'})\n",
    "comments_time_total = comments_time.groupby('createdAt').agg({\"count\": \"sum\"}).reset_index()\n",
    "ch1 = alt.Chart(comments_time, width=600).mark_line().encode(\n",
    "    x='createdAt',\n",
    "    y='count',\n",
    "    color='repo',\n",
    "    tooltip=\"repo\"\n",
    ")\n",
    "\n",
    "ch2 = alt.Chart(comments_time_total, width=600).mark_line(color=\"black\").encode(\n",
    "    x='createdAt',\n",
    "    y='count',\n",
    ")\n",
    "\n",
    "ch1 + ch2"
   ]
  },
  {
   "cell_type": "markdown",
   "metadata": {
    "papermill": {
     "duration": 0.014477,
     "end_time": "2020-10-18T01:41:40.916514",
     "exception": false,
     "start_time": "2020-10-18T01:41:40.902037",
     "status": "completed"
    },
    "tags": []
   },
   "source": [
    "## PRs"
   ]
  },
  {
   "cell_type": "code",
   "execution_count": 14,
   "metadata": {
    "execution": {
     "iopub.execute_input": "2020-10-18T01:41:40.954801Z",
     "iopub.status.busy": "2020-10-18T01:41:40.954229Z",
     "iopub.status.idle": "2020-10-18T01:41:41.037526Z",
     "shell.execute_reply": "2020-10-18T01:41:41.038299Z"
    },
    "papermill": {
     "duration": 0.107704,
     "end_time": "2020-10-18T01:41:41.038624",
     "exception": false,
     "start_time": "2020-10-18T01:41:40.930920",
     "status": "completed"
    },
    "tags": [
     "hide_input"
    ]
   },
   "outputs": [
    {
     "data": {
      "text/html": [
       "\n",
       "<div id=\"altair-viz-543db48108544416b9a39ad6fabcfb91\"></div>\n",
       "<script type=\"text/javascript\">\n",
       "  (function(spec, embedOpt){\n",
       "    let outputDiv = document.currentScript.previousElementSibling;\n",
       "    if (outputDiv.id !== \"altair-viz-543db48108544416b9a39ad6fabcfb91\") {\n",
       "      outputDiv = document.getElementById(\"altair-viz-543db48108544416b9a39ad6fabcfb91\");\n",
       "    }\n",
       "    const paths = {\n",
       "      \"vega\": \"https://cdn.jsdelivr.net/npm//vega@5?noext\",\n",
       "      \"vega-lib\": \"https://cdn.jsdelivr.net/npm//vega-lib?noext\",\n",
       "      \"vega-lite\": \"https://cdn.jsdelivr.net/npm//vega-lite@4.8.1?noext\",\n",
       "      \"vega-embed\": \"https://cdn.jsdelivr.net/npm//vega-embed@6?noext\",\n",
       "    };\n",
       "\n",
       "    function loadScript(lib) {\n",
       "      return new Promise(function(resolve, reject) {\n",
       "        var s = document.createElement('script');\n",
       "        s.src = paths[lib];\n",
       "        s.async = true;\n",
       "        s.onload = () => resolve(paths[lib]);\n",
       "        s.onerror = () => reject(`Error loading script: ${paths[lib]}`);\n",
       "        document.getElementsByTagName(\"head\")[0].appendChild(s);\n",
       "      });\n",
       "    }\n",
       "\n",
       "    function showError(err) {\n",
       "      outputDiv.innerHTML = `<div class=\"error\" style=\"color:red;\">${err}</div>`;\n",
       "      throw err;\n",
       "    }\n",
       "\n",
       "    function displayChart(vegaEmbed) {\n",
       "      vegaEmbed(outputDiv, spec, embedOpt)\n",
       "        .catch(err => showError(`Javascript Error: ${err.message}<br>This usually means there's a typo in your chart specification. See the javascript console for the full traceback.`));\n",
       "    }\n",
       "\n",
       "    if(typeof define === \"function\" && define.amd) {\n",
       "      requirejs.config({paths});\n",
       "      require([\"vega-embed\"], displayChart, err => showError(`Error loading script: ${err.message}`));\n",
       "    } else if (typeof vegaEmbed === \"function\") {\n",
       "      displayChart(vegaEmbed);\n",
       "    } else {\n",
       "      loadScript(\"vega\")\n",
       "        .then(() => loadScript(\"vega-lite\"))\n",
       "        .then(() => loadScript(\"vega-embed\"))\n",
       "        .catch(showError)\n",
       "        .then(() => displayChart(vegaEmbed));\n",
       "    }\n",
       "  })({\"config\": {\"axisLeft\": {\"labelFontSize\": 15}, \"axisBottom\": {\"labelFontSize\": 15}}, \"layer\": [{\"data\": {\"name\": \"data-c2adcf8302394faea8d6522b5b3d5e74\"}, \"mark\": \"line\", \"encoding\": {\"color\": {\"type\": \"nominal\", \"field\": \"repo\"}, \"tooltip\": {\"type\": \"nominal\", \"field\": \"repo\"}, \"x\": {\"type\": \"temporal\", \"field\": \"createdAt\"}, \"y\": {\"type\": \"quantitative\", \"field\": \"count\"}}, \"width\": 600}, {\"data\": {\"name\": \"data-6ebd3163d3f705b0c8a8866cf71c9303\"}, \"mark\": {\"type\": \"line\", \"color\": \"black\"}, \"encoding\": {\"x\": {\"type\": \"temporal\", \"field\": \"createdAt\"}, \"y\": {\"type\": \"quantitative\", \"field\": \"count\"}}, \"width\": 600}], \"$schema\": \"https://vega.github.io/schema/vega-lite/v4.8.1.json\", \"datasets\": {\"data-c2adcf8302394faea8d6522b5b3d5e74\": [{\"repo\": \"MyST-NB\", \"createdAt\": \"2020-10-11T00:00:00\", \"count\": 1}, {\"repo\": \"MyST-Parser\", \"createdAt\": \"2020-09-20T00:00:00\", \"count\": 1}, {\"repo\": \"MyST-Parser\", \"createdAt\": \"2020-09-27T00:00:00\", \"count\": 2}, {\"repo\": \"binder\", \"createdAt\": \"2020-10-04T00:00:00\", \"count\": 1}, {\"repo\": \"binder\", \"createdAt\": \"2020-10-11T00:00:00\", \"count\": 0}, {\"repo\": \"binder\", \"createdAt\": \"2020-10-18T00:00:00\", \"count\": 1}, {\"repo\": \"binderhub\", \"createdAt\": \"2020-10-04T00:00:00\", \"count\": 1}, {\"repo\": \"enhancement-proposals\", \"createdAt\": \"2020-08-30T00:00:00\", \"count\": 1}, {\"repo\": \"jupyter\", \"createdAt\": \"2020-09-20T00:00:00\", \"count\": 1}, {\"repo\": \"jupyter-book\", \"createdAt\": \"2020-08-16T00:00:00\", \"count\": 1}, {\"repo\": \"jupyter-book\", \"createdAt\": \"2020-08-23T00:00:00\", \"count\": 0}, {\"repo\": \"jupyter-book\", \"createdAt\": \"2020-08-30T00:00:00\", \"count\": 1}, {\"repo\": \"jupyter-book\", \"createdAt\": \"2020-09-06T00:00:00\", \"count\": 3}, {\"repo\": \"jupyter-book\", \"createdAt\": \"2020-09-13T00:00:00\", \"count\": 0}, {\"repo\": \"jupyter-book\", \"createdAt\": \"2020-09-20T00:00:00\", \"count\": 3}, {\"repo\": \"jupyter-book\", \"createdAt\": \"2020-09-27T00:00:00\", \"count\": 2}, {\"repo\": \"jupyter-book\", \"createdAt\": \"2020-10-04T00:00:00\", \"count\": 0}, {\"repo\": \"jupyter-book\", \"createdAt\": \"2020-10-11T00:00:00\", \"count\": 4}, {\"repo\": \"jupyter-book\", \"createdAt\": \"2020-10-18T00:00:00\", \"count\": 2}, {\"repo\": \"jupyter-sphinx\", \"createdAt\": \"2020-06-28T00:00:00\", \"count\": 1}, {\"repo\": \"jupyter-sphinx\", \"createdAt\": \"2020-07-05T00:00:00\", \"count\": 0}, {\"repo\": \"jupyter-sphinx\", \"createdAt\": \"2020-07-12T00:00:00\", \"count\": 0}, {\"repo\": \"jupyter-sphinx\", \"createdAt\": \"2020-07-19T00:00:00\", \"count\": 0}, {\"repo\": \"jupyter-sphinx\", \"createdAt\": \"2020-07-26T00:00:00\", \"count\": 0}, {\"repo\": \"jupyter-sphinx\", \"createdAt\": \"2020-08-02T00:00:00\", \"count\": 0}, {\"repo\": \"jupyter-sphinx\", \"createdAt\": \"2020-08-09T00:00:00\", \"count\": 0}, {\"repo\": \"jupyter-sphinx\", \"createdAt\": \"2020-08-16T00:00:00\", \"count\": 0}, {\"repo\": \"jupyter-sphinx\", \"createdAt\": \"2020-08-23T00:00:00\", \"count\": 0}, {\"repo\": \"jupyter-sphinx\", \"createdAt\": \"2020-08-30T00:00:00\", \"count\": 0}, {\"repo\": \"jupyter-sphinx\", \"createdAt\": \"2020-09-06T00:00:00\", \"count\": 0}, {\"repo\": \"jupyter-sphinx\", \"createdAt\": \"2020-09-13T00:00:00\", \"count\": 0}, {\"repo\": \"jupyter-sphinx\", \"createdAt\": \"2020-09-20T00:00:00\", \"count\": 0}, {\"repo\": \"jupyter-sphinx\", \"createdAt\": \"2020-09-27T00:00:00\", \"count\": 1}, {\"repo\": \"meta\", \"createdAt\": \"2020-09-06T00:00:00\", \"count\": 1}, {\"repo\": \"meta\", \"createdAt\": \"2020-09-13T00:00:00\", \"count\": 1}, {\"repo\": \"mybinder.org-deploy\", \"createdAt\": \"2020-10-11T00:00:00\", \"count\": 1}, {\"repo\": \"sphinx-book-theme\", \"createdAt\": \"2020-08-23T00:00:00\", \"count\": 1}, {\"repo\": \"sphinx-book-theme\", \"createdAt\": \"2020-08-30T00:00:00\", \"count\": 0}, {\"repo\": \"sphinx-book-theme\", \"createdAt\": \"2020-09-06T00:00:00\", \"count\": 1}, {\"repo\": \"sphinx-book-theme\", \"createdAt\": \"2020-09-13T00:00:00\", \"count\": 0}, {\"repo\": \"sphinx-book-theme\", \"createdAt\": \"2020-09-20T00:00:00\", \"count\": 0}, {\"repo\": \"sphinx-book-theme\", \"createdAt\": \"2020-09-27T00:00:00\", \"count\": 3}, {\"repo\": \"sphinx-book-theme\", \"createdAt\": \"2020-10-04T00:00:00\", \"count\": 1}, {\"repo\": \"sphinx-book-theme\", \"createdAt\": \"2020-10-11T00:00:00\", \"count\": 5}, {\"repo\": \"sphinx-book-theme\", \"createdAt\": \"2020-10-18T00:00:00\", \"count\": 1}, {\"repo\": \"sphinx-comments\", \"createdAt\": \"2020-09-27T00:00:00\", \"count\": 1}, {\"repo\": \"sphinx-comments\", \"createdAt\": \"2020-10-04T00:00:00\", \"count\": 1}, {\"repo\": \"sphinx-panels\", \"createdAt\": \"2020-10-04T00:00:00\", \"count\": 1}, {\"repo\": \"sphinx-thebe\", \"createdAt\": \"2020-10-11T00:00:00\", \"count\": 1}, {\"repo\": \"sphinx-togglebutton\", \"createdAt\": \"2020-09-13T00:00:00\", \"count\": 1}, {\"repo\": \"thebe\", \"createdAt\": \"2020-10-18T00:00:00\", \"count\": 1}, {\"repo\": \"zero-to-jupyterhub-k8s\", \"createdAt\": \"2020-10-11T00:00:00\", \"count\": 1}], \"data-6ebd3163d3f705b0c8a8866cf71c9303\": [{\"createdAt\": \"2020-06-28T00:00:00\", \"count\": 1}, {\"createdAt\": \"2020-07-05T00:00:00\", \"count\": 0}, {\"createdAt\": \"2020-07-12T00:00:00\", \"count\": 0}, {\"createdAt\": \"2020-07-19T00:00:00\", \"count\": 0}, {\"createdAt\": \"2020-07-26T00:00:00\", \"count\": 0}, {\"createdAt\": \"2020-08-02T00:00:00\", \"count\": 0}, {\"createdAt\": \"2020-08-09T00:00:00\", \"count\": 0}, {\"createdAt\": \"2020-08-16T00:00:00\", \"count\": 1}, {\"createdAt\": \"2020-08-23T00:00:00\", \"count\": 1}, {\"createdAt\": \"2020-08-30T00:00:00\", \"count\": 2}, {\"createdAt\": \"2020-09-06T00:00:00\", \"count\": 5}, {\"createdAt\": \"2020-09-13T00:00:00\", \"count\": 2}, {\"createdAt\": \"2020-09-20T00:00:00\", \"count\": 5}, {\"createdAt\": \"2020-09-27T00:00:00\", \"count\": 9}, {\"createdAt\": \"2020-10-04T00:00:00\", \"count\": 5}, {\"createdAt\": \"2020-10-11T00:00:00\", \"count\": 13}, {\"createdAt\": \"2020-10-18T00:00:00\", \"count\": 5}]}}, {\"mode\": \"vega-lite\"});\n",
       "</script>"
      ],
      "text/plain": [
       "alt.LayerChart(...)"
      ]
     },
     "execution_count": 14,
     "metadata": {},
     "output_type": "execute_result"
    }
   ],
   "source": [
    "prs_time = prs.groupby('repo').resample('W', on='createdAt').count()['author'].reset_index()\n",
    "prs_time = prs_time.rename(columns={'author': 'count'})\n",
    "prs_time_total = prs_time.groupby('createdAt').agg({\"count\": \"sum\"}).reset_index()\n",
    "\n",
    "ch1 = alt.Chart(prs_time, width=600).mark_line().encode(\n",
    "    x='createdAt',\n",
    "    y='count',\n",
    "    color='repo',\n",
    "    tooltip=\"repo\"\n",
    ")\n",
    "\n",
    "ch2 = alt.Chart(prs_time_total, width=600).mark_line(color=\"black\").encode(\n",
    "    x='createdAt',\n",
    "    y='count',\n",
    ")\n",
    "\n",
    "ch1 + ch2"
   ]
  },
  {
   "cell_type": "code",
   "execution_count": 15,
   "metadata": {
    "execution": {
     "iopub.execute_input": "2020-10-18T01:41:41.091981Z",
     "iopub.status.busy": "2020-10-18T01:41:41.090463Z",
     "iopub.status.idle": "2020-10-18T01:41:41.162873Z",
     "shell.execute_reply": "2020-10-18T01:41:41.163321Z"
    },
    "papermill": {
     "duration": 0.107082,
     "end_time": "2020-10-18T01:41:41.163503",
     "exception": false,
     "start_time": "2020-10-18T01:41:41.056421",
     "status": "completed"
    },
    "tags": [
     "hide_input"
    ]
   },
   "outputs": [
    {
     "data": {
      "text/html": [
       "\n",
       "<div id=\"altair-viz-28371458e62247a4aaf216479a35327b\"></div>\n",
       "<script type=\"text/javascript\">\n",
       "  (function(spec, embedOpt){\n",
       "    let outputDiv = document.currentScript.previousElementSibling;\n",
       "    if (outputDiv.id !== \"altair-viz-28371458e62247a4aaf216479a35327b\") {\n",
       "      outputDiv = document.getElementById(\"altair-viz-28371458e62247a4aaf216479a35327b\");\n",
       "    }\n",
       "    const paths = {\n",
       "      \"vega\": \"https://cdn.jsdelivr.net/npm//vega@5?noext\",\n",
       "      \"vega-lib\": \"https://cdn.jsdelivr.net/npm//vega-lib?noext\",\n",
       "      \"vega-lite\": \"https://cdn.jsdelivr.net/npm//vega-lite@4.8.1?noext\",\n",
       "      \"vega-embed\": \"https://cdn.jsdelivr.net/npm//vega-embed@6?noext\",\n",
       "    };\n",
       "\n",
       "    function loadScript(lib) {\n",
       "      return new Promise(function(resolve, reject) {\n",
       "        var s = document.createElement('script');\n",
       "        s.src = paths[lib];\n",
       "        s.async = true;\n",
       "        s.onload = () => resolve(paths[lib]);\n",
       "        s.onerror = () => reject(`Error loading script: ${paths[lib]}`);\n",
       "        document.getElementsByTagName(\"head\")[0].appendChild(s);\n",
       "      });\n",
       "    }\n",
       "\n",
       "    function showError(err) {\n",
       "      outputDiv.innerHTML = `<div class=\"error\" style=\"color:red;\">${err}</div>`;\n",
       "      throw err;\n",
       "    }\n",
       "\n",
       "    function displayChart(vegaEmbed) {\n",
       "      vegaEmbed(outputDiv, spec, embedOpt)\n",
       "        .catch(err => showError(`Javascript Error: ${err.message}<br>This usually means there's a typo in your chart specification. See the javascript console for the full traceback.`));\n",
       "    }\n",
       "\n",
       "    if(typeof define === \"function\" && define.amd) {\n",
       "      requirejs.config({paths});\n",
       "      require([\"vega-embed\"], displayChart, err => showError(`Error loading script: ${err.message}`));\n",
       "    } else if (typeof vegaEmbed === \"function\") {\n",
       "      displayChart(vegaEmbed);\n",
       "    } else {\n",
       "      loadScript(\"vega\")\n",
       "        .then(() => loadScript(\"vega-lite\"))\n",
       "        .then(() => loadScript(\"vega-embed\"))\n",
       "        .catch(showError)\n",
       "        .then(() => displayChart(vegaEmbed));\n",
       "    }\n",
       "  })({\"config\": {\"axisLeft\": {\"labelFontSize\": 15}, \"axisBottom\": {\"labelFontSize\": 15}}, \"data\": {\"name\": \"data-bffd8bafa749f4b9859b2aa955915a5e\"}, \"mark\": \"line\", \"encoding\": {\"color\": {\"type\": \"nominal\", \"field\": \"repo\"}, \"tooltip\": {\"type\": \"nominal\", \"field\": \"repo\"}, \"x\": {\"type\": \"temporal\", \"field\": \"closedAt\"}, \"y\": {\"type\": \"quantitative\", \"field\": \"count\"}}, \"width\": 600, \"$schema\": \"https://vega.github.io/schema/vega-lite/v4.8.1.json\", \"datasets\": {\"data-bffd8bafa749f4b9859b2aa955915a5e\": [{\"repo\": \".github\", \"closedAt\": \"2020-08-30T00:00:00\", \"count\": 1}, {\"repo\": \"MyST-NB\", \"closedAt\": \"2020-09-06T00:00:00\", \"count\": 1}, {\"repo\": \"MyST-Parser\", \"closedAt\": \"2020-09-20T00:00:00\", \"count\": 1}, {\"repo\": \"MyST-Parser\", \"closedAt\": \"2020-09-27T00:00:00\", \"count\": 1}, {\"repo\": \"MyST-Parser\", \"closedAt\": \"2020-10-04T00:00:00\", \"count\": 0}, {\"repo\": \"MyST-Parser\", \"closedAt\": \"2020-10-11T00:00:00\", \"count\": 1}, {\"repo\": \"binder\", \"closedAt\": \"2020-10-18T00:00:00\", \"count\": 1}, {\"repo\": \"enhancement-proposals\", \"closedAt\": \"2020-08-30T00:00:00\", \"count\": 1}, {\"repo\": \"github-activity\", \"closedAt\": \"2020-10-11T00:00:00\", \"count\": 1}, {\"repo\": \"jupyter\", \"closedAt\": \"2020-10-11T00:00:00\", \"count\": 1}, {\"repo\": \"jupyter-book\", \"closedAt\": \"2020-09-06T00:00:00\", \"count\": 3}, {\"repo\": \"jupyter-book\", \"closedAt\": \"2020-09-13T00:00:00\", \"count\": 0}, {\"repo\": \"jupyter-book\", \"closedAt\": \"2020-09-20T00:00:00\", \"count\": 3}, {\"repo\": \"jupyter-book\", \"closedAt\": \"2020-09-27T00:00:00\", \"count\": 3}, {\"repo\": \"jupyter-book\", \"closedAt\": \"2020-10-04T00:00:00\", \"count\": 0}, {\"repo\": \"jupyter-book\", \"closedAt\": \"2020-10-11T00:00:00\", \"count\": 7}, {\"repo\": \"jupyter-book\", \"closedAt\": \"2020-10-18T00:00:00\", \"count\": 8}, {\"repo\": \"jupyter-sphinx\", \"closedAt\": \"2020-09-27T00:00:00\", \"count\": 1}, {\"repo\": \"meta\", \"closedAt\": \"2020-09-13T00:00:00\", \"count\": 2}, {\"repo\": \"mybinder.org-deploy\", \"closedAt\": \"2020-10-18T00:00:00\", \"count\": 1}, {\"repo\": \"nbclient\", \"closedAt\": \"2020-09-13T00:00:00\", \"count\": 1}, {\"repo\": \"sphinx-book-theme\", \"closedAt\": \"2020-09-06T00:00:00\", \"count\": 2}, {\"repo\": \"sphinx-book-theme\", \"closedAt\": \"2020-09-13T00:00:00\", \"count\": 1}, {\"repo\": \"sphinx-book-theme\", \"closedAt\": \"2020-09-20T00:00:00\", \"count\": 0}, {\"repo\": \"sphinx-book-theme\", \"closedAt\": \"2020-09-27T00:00:00\", \"count\": 4}, {\"repo\": \"sphinx-book-theme\", \"closedAt\": \"2020-10-04T00:00:00\", \"count\": 2}, {\"repo\": \"sphinx-book-theme\", \"closedAt\": \"2020-10-11T00:00:00\", \"count\": 5}, {\"repo\": \"sphinx-book-theme\", \"closedAt\": \"2020-10-18T00:00:00\", \"count\": 3}, {\"repo\": \"sphinx-comments\", \"closedAt\": \"2020-09-27T00:00:00\", \"count\": 1}, {\"repo\": \"sphinx-copybutton\", \"closedAt\": \"2020-09-27T00:00:00\", \"count\": 1}, {\"repo\": \"sphinx-panels\", \"closedAt\": \"2020-10-18T00:00:00\", \"count\": 1}, {\"repo\": \"sphinx-proof\", \"closedAt\": \"2020-09-27T00:00:00\", \"count\": 1}, {\"repo\": \"sphinx-thebe\", \"closedAt\": \"2020-10-18T00:00:00\", \"count\": 1}, {\"repo\": \"sphinx-togglebutton\", \"closedAt\": \"2020-09-13T00:00:00\", \"count\": 2}, {\"repo\": \"team-compass\", \"closedAt\": \"2020-10-11T00:00:00\", \"count\": 1}, {\"repo\": \"thebe\", \"closedAt\": \"2020-10-18T00:00:00\", \"count\": 4}]}}, {\"mode\": \"vega-lite\"});\n",
       "</script>"
      ],
      "text/plain": [
       "alt.Chart(...)"
      ]
     },
     "execution_count": 15,
     "metadata": {},
     "output_type": "execute_result"
    }
   ],
   "source": [
    "closed_by_time = closed_by.groupby('repo').resample('W', on='closedAt').count()['author'].reset_index()\n",
    "closed_by_time = closed_by_time.rename(columns={'author': 'count'})\n",
    "\n",
    "alt.Chart(closed_by_time, width=600).mark_line().encode(\n",
    "    x='closedAt',\n",
    "    y='count',\n",
    "    color='repo',\n",
    "    tooltip=\"repo\"\n",
    ")"
   ]
  },
  {
   "cell_type": "markdown",
   "metadata": {
    "papermill": {
     "duration": 0.01575,
     "end_time": "2020-10-18T01:41:41.194702",
     "exception": false,
     "start_time": "2020-10-18T01:41:41.178952",
     "status": "completed"
    },
    "tags": []
   },
   "source": [
    "# By type over time"
   ]
  },
  {
   "cell_type": "code",
   "execution_count": 16,
   "metadata": {
    "execution": {
     "iopub.execute_input": "2020-10-18T01:41:41.232666Z",
     "iopub.status.busy": "2020-10-18T01:41:41.232082Z",
     "iopub.status.idle": "2020-10-18T01:41:41.253233Z",
     "shell.execute_reply": "2020-10-18T01:41:41.252720Z"
    },
    "papermill": {
     "duration": 0.04158,
     "end_time": "2020-10-18T01:41:41.253373",
     "exception": false,
     "start_time": "2020-10-18T01:41:41.211793",
     "status": "completed"
    },
    "tags": [
     "remove_cell"
    ]
   },
   "outputs": [],
   "source": [
    "prs_time = prs[['author', 'createdAt']].resample('W', on='createdAt').count()['author'].reset_index()\n",
    "prs_time = prs_time.rename(columns={'author': 'prs'})\n",
    "comments_time = comments[['author', 'createdAt']].resample('W', on='createdAt').count()['author'].reset_index()\n",
    "comments_time = comments_time.rename(columns={'author': 'comments'})\n",
    "\n",
    "total_time = pd.merge(prs_time, comments_time, on='createdAt', how='outer')\n",
    "total_time = total_time.melt(id_vars='createdAt', var_name=\"kind\", value_name=\"count\")\n"
   ]
  },
  {
   "cell_type": "code",
   "execution_count": 17,
   "metadata": {
    "execution": {
     "iopub.execute_input": "2020-10-18T01:41:41.304225Z",
     "iopub.status.busy": "2020-10-18T01:41:41.299028Z",
     "iopub.status.idle": "2020-10-18T01:41:41.315779Z",
     "shell.execute_reply": "2020-10-18T01:41:41.315307Z"
    },
    "papermill": {
     "duration": 0.046178,
     "end_time": "2020-10-18T01:41:41.315935",
     "exception": false,
     "start_time": "2020-10-18T01:41:41.269757",
     "status": "completed"
    },
    "tags": [
     "hide_input"
    ]
   },
   "outputs": [
    {
     "data": {
      "text/html": [
       "\n",
       "<div id=\"altair-viz-6762916ebe7145638f7487fa2216ada7\"></div>\n",
       "<script type=\"text/javascript\">\n",
       "  (function(spec, embedOpt){\n",
       "    let outputDiv = document.currentScript.previousElementSibling;\n",
       "    if (outputDiv.id !== \"altair-viz-6762916ebe7145638f7487fa2216ada7\") {\n",
       "      outputDiv = document.getElementById(\"altair-viz-6762916ebe7145638f7487fa2216ada7\");\n",
       "    }\n",
       "    const paths = {\n",
       "      \"vega\": \"https://cdn.jsdelivr.net/npm//vega@5?noext\",\n",
       "      \"vega-lib\": \"https://cdn.jsdelivr.net/npm//vega-lib?noext\",\n",
       "      \"vega-lite\": \"https://cdn.jsdelivr.net/npm//vega-lite@4.8.1?noext\",\n",
       "      \"vega-embed\": \"https://cdn.jsdelivr.net/npm//vega-embed@6?noext\",\n",
       "    };\n",
       "\n",
       "    function loadScript(lib) {\n",
       "      return new Promise(function(resolve, reject) {\n",
       "        var s = document.createElement('script');\n",
       "        s.src = paths[lib];\n",
       "        s.async = true;\n",
       "        s.onload = () => resolve(paths[lib]);\n",
       "        s.onerror = () => reject(`Error loading script: ${paths[lib]}`);\n",
       "        document.getElementsByTagName(\"head\")[0].appendChild(s);\n",
       "      });\n",
       "    }\n",
       "\n",
       "    function showError(err) {\n",
       "      outputDiv.innerHTML = `<div class=\"error\" style=\"color:red;\">${err}</div>`;\n",
       "      throw err;\n",
       "    }\n",
       "\n",
       "    function displayChart(vegaEmbed) {\n",
       "      vegaEmbed(outputDiv, spec, embedOpt)\n",
       "        .catch(err => showError(`Javascript Error: ${err.message}<br>This usually means there's a typo in your chart specification. See the javascript console for the full traceback.`));\n",
       "    }\n",
       "\n",
       "    if(typeof define === \"function\" && define.amd) {\n",
       "      requirejs.config({paths});\n",
       "      require([\"vega-embed\"], displayChart, err => showError(`Error loading script: ${err.message}`));\n",
       "    } else if (typeof vegaEmbed === \"function\") {\n",
       "      displayChart(vegaEmbed);\n",
       "    } else {\n",
       "      loadScript(\"vega\")\n",
       "        .then(() => loadScript(\"vega-lite\"))\n",
       "        .then(() => loadScript(\"vega-embed\"))\n",
       "        .catch(showError)\n",
       "        .then(() => displayChart(vegaEmbed));\n",
       "    }\n",
       "  })({\"config\": {\"axisLeft\": {\"labelFontSize\": 15}, \"axisBottom\": {\"labelFontSize\": 15}}, \"data\": {\"name\": \"data-37e6dd0b643403a1b378234cf01a3bc7\"}, \"mark\": \"line\", \"encoding\": {\"color\": {\"type\": \"nominal\", \"field\": \"kind\"}, \"x\": {\"type\": \"temporal\", \"field\": \"createdAt\"}, \"y\": {\"type\": \"quantitative\", \"field\": \"count\"}}, \"width\": 600, \"$schema\": \"https://vega.github.io/schema/vega-lite/v4.8.1.json\", \"datasets\": {\"data-37e6dd0b643403a1b378234cf01a3bc7\": [{\"createdAt\": \"2020-06-28T00:00:00\", \"kind\": \"prs\", \"count\": 1.0}, {\"createdAt\": \"2020-07-05T00:00:00\", \"kind\": \"prs\", \"count\": 0.0}, {\"createdAt\": \"2020-07-12T00:00:00\", \"kind\": \"prs\", \"count\": 0.0}, {\"createdAt\": \"2020-07-19T00:00:00\", \"kind\": \"prs\", \"count\": 0.0}, {\"createdAt\": \"2020-07-26T00:00:00\", \"kind\": \"prs\", \"count\": 0.0}, {\"createdAt\": \"2020-08-02T00:00:00\", \"kind\": \"prs\", \"count\": 0.0}, {\"createdAt\": \"2020-08-09T00:00:00\", \"kind\": \"prs\", \"count\": 0.0}, {\"createdAt\": \"2020-08-16T00:00:00\", \"kind\": \"prs\", \"count\": 1.0}, {\"createdAt\": \"2020-08-23T00:00:00\", \"kind\": \"prs\", \"count\": 1.0}, {\"createdAt\": \"2020-08-30T00:00:00\", \"kind\": \"prs\", \"count\": 2.0}, {\"createdAt\": \"2020-09-06T00:00:00\", \"kind\": \"prs\", \"count\": 5.0}, {\"createdAt\": \"2020-09-13T00:00:00\", \"kind\": \"prs\", \"count\": 2.0}, {\"createdAt\": \"2020-09-20T00:00:00\", \"kind\": \"prs\", \"count\": 5.0}, {\"createdAt\": \"2020-09-27T00:00:00\", \"kind\": \"prs\", \"count\": 9.0}, {\"createdAt\": \"2020-10-04T00:00:00\", \"kind\": \"prs\", \"count\": 5.0}, {\"createdAt\": \"2020-10-11T00:00:00\", \"kind\": \"prs\", \"count\": 13.0}, {\"createdAt\": \"2020-10-18T00:00:00\", \"kind\": \"prs\", \"count\": 5.0}, {\"createdAt\": \"2020-06-28T00:00:00\", \"kind\": \"comments\", \"count\": null}, {\"createdAt\": \"2020-07-05T00:00:00\", \"kind\": \"comments\", \"count\": null}, {\"createdAt\": \"2020-07-12T00:00:00\", \"kind\": \"comments\", \"count\": null}, {\"createdAt\": \"2020-07-19T00:00:00\", \"kind\": \"comments\", \"count\": null}, {\"createdAt\": \"2020-07-26T00:00:00\", \"kind\": \"comments\", \"count\": null}, {\"createdAt\": \"2020-08-02T00:00:00\", \"kind\": \"comments\", \"count\": null}, {\"createdAt\": \"2020-08-09T00:00:00\", \"kind\": \"comments\", \"count\": null}, {\"createdAt\": \"2020-08-16T00:00:00\", \"kind\": \"comments\", \"count\": null}, {\"createdAt\": \"2020-08-23T00:00:00\", \"kind\": \"comments\", \"count\": 3.0}, {\"createdAt\": \"2020-08-30T00:00:00\", \"kind\": \"comments\", \"count\": 15.0}, {\"createdAt\": \"2020-09-06T00:00:00\", \"kind\": \"comments\", \"count\": 33.0}, {\"createdAt\": \"2020-09-13T00:00:00\", \"kind\": \"comments\", \"count\": 19.0}, {\"createdAt\": \"2020-09-20T00:00:00\", \"kind\": \"comments\", \"count\": 24.0}, {\"createdAt\": \"2020-09-27T00:00:00\", \"kind\": \"comments\", \"count\": 91.0}, {\"createdAt\": \"2020-10-04T00:00:00\", \"kind\": \"comments\", \"count\": 65.0}, {\"createdAt\": \"2020-10-11T00:00:00\", \"kind\": \"comments\", \"count\": 86.0}, {\"createdAt\": \"2020-10-18T00:00:00\", \"kind\": \"comments\", \"count\": 91.0}]}}, {\"mode\": \"vega-lite\"});\n",
       "</script>"
      ],
      "text/plain": [
       "alt.Chart(...)"
      ]
     },
     "execution_count": 17,
     "metadata": {},
     "output_type": "execute_result"
    }
   ],
   "source": [
    "alt.Chart(total_time, width=600).mark_line().encode(\n",
    "    x='createdAt',\n",
    "    y='count',\n",
    "    color='kind'\n",
    ")"
   ]
  }
 ],
 "metadata": {
  "kernelspec": {
   "display_name": "Python 3",
   "language": "python",
   "name": "python3"
  },
  "language_info": {
   "codemirror_mode": {
    "name": "ipython",
    "version": 3
   },
   "file_extension": ".py",
   "mimetype": "text/x-python",
   "name": "python",
   "nbconvert_exporter": "python",
   "pygments_lexer": "ipython3",
   "version": "3.7.9"
  },
  "papermill": {
   "default_parameters": {},
   "duration": 3.433217,
   "end_time": "2020-10-18T01:41:41.745466",
   "environment_variables": {},
   "exception": null,
   "input_path": "./person.ipynb",
   "output_path": "people/choldgraf.ipynb",
   "parameters": {
    "n_days": 60,
    "person": "choldgraf"
   },
   "start_time": "2020-10-18T01:41:38.312249",
   "version": "2.2.0"
  },
  "widgets": {
   "application/vnd.jupyter.widget-state+json": {
    "state": {},
    "version_major": 2,
    "version_minor": 0
   }
  }
 },
 "nbformat": 4,
 "nbformat_minor": 4
}