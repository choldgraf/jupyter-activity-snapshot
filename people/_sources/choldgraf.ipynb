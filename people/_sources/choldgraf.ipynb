{
 "cells": [
  {
   "cell_type": "markdown",
   "metadata": {
    "papermill": {
     "duration": 0.013072,
     "end_time": "2020-07-21T01:14:09.874502",
     "exception": false,
     "start_time": "2020-07-21T01:14:09.861430",
     "status": "completed"
    },
    "tags": []
   },
   "source": [
    "# Report for choldgraf"
   ]
  },
  {
   "cell_type": "code",
   "execution_count": 1,
   "metadata": {
    "execution": {
     "iopub.execute_input": "2020-07-21T01:14:09.909041Z",
     "iopub.status.busy": "2020-07-21T01:14:09.908449Z",
     "iopub.status.idle": "2020-07-21T01:14:10.853545Z",
     "shell.execute_reply": "2020-07-21T01:14:10.852978Z"
    },
    "papermill": {
     "duration": 0.965342,
     "end_time": "2020-07-21T01:14:10.853706",
     "exception": false,
     "start_time": "2020-07-21T01:14:09.888364",
     "status": "completed"
    },
    "tags": [
     "remove_cell"
    ]
   },
   "outputs": [],
   "source": [
    "import seaborn as sns\n",
    "import pandas as pd\n",
    "import numpy as np\n",
    "import altair as alt\n",
    "from markdown import markdown\n",
    "from IPython.display import Markdown\n",
    "from ipywidgets.widgets import HTML, Tab\n",
    "from ipywidgets import widgets\n",
    "from datetime import timedelta\n",
    "from matplotlib import pyplot as plt\n",
    "import os.path as op\n",
    "\n",
    "from mycode import alt_theme\n",
    "from warnings import simplefilter\n",
    "simplefilter('ignore')"
   ]
  },
  {
   "cell_type": "code",
   "execution_count": 2,
   "metadata": {
    "execution": {
     "iopub.execute_input": "2020-07-21T01:14:10.887181Z",
     "iopub.status.busy": "2020-07-21T01:14:10.886570Z",
     "iopub.status.idle": "2020-07-21T01:14:10.888473Z",
     "shell.execute_reply": "2020-07-21T01:14:10.888942Z"
    },
    "papermill": {
     "duration": 0.021082,
     "end_time": "2020-07-21T01:14:10.889118",
     "exception": false,
     "start_time": "2020-07-21T01:14:10.868036",
     "status": "completed"
    },
    "tags": [
     "remove_cell"
    ]
   },
   "outputs": [],
   "source": [
    "def author_url(author):\n",
    "    return f\"https://github.com/{author}\""
   ]
  },
  {
   "cell_type": "code",
   "execution_count": 3,
   "metadata": {
    "execution": {
     "iopub.execute_input": "2020-07-21T01:14:10.920726Z",
     "iopub.status.busy": "2020-07-21T01:14:10.920129Z",
     "iopub.status.idle": "2020-07-21T01:14:10.922885Z",
     "shell.execute_reply": "2020-07-21T01:14:10.922251Z"
    },
    "papermill": {
     "duration": 0.021291,
     "end_time": "2020-07-21T01:14:10.923018",
     "exception": false,
     "start_time": "2020-07-21T01:14:10.901727",
     "status": "completed"
    },
    "tags": [
     "parameters",
     "hide_input"
    ]
   },
   "outputs": [],
   "source": [
    "# Parameters\n",
    "fmt_date = \"{:%Y-%m-%d}\"\n",
    "\n",
    "n_days = 30 * 2\n",
    "start_date = fmt_date.format(pd.datetime.today() - timedelta(days=n_days))\n",
    "end_date = fmt_date.format(pd.datetime.today())\n",
    "\n",
    "renderer = \"html\"\n",
    "person = \"jasongrout\""
   ]
  },
  {
   "cell_type": "code",
   "execution_count": 4,
   "metadata": {
    "execution": {
     "iopub.execute_input": "2020-07-21T01:14:10.953699Z",
     "iopub.status.busy": "2020-07-21T01:14:10.953016Z",
     "iopub.status.idle": "2020-07-21T01:14:10.954717Z",
     "shell.execute_reply": "2020-07-21T01:14:10.955306Z"
    },
    "papermill": {
     "duration": 0.019416,
     "end_time": "2020-07-21T01:14:10.955540",
     "exception": false,
     "start_time": "2020-07-21T01:14:10.936124",
     "status": "completed"
    },
    "tags": [
     "injected-parameters",
     "remove-cell"
    ]
   },
   "outputs": [],
   "source": [
    "# Parameters\n",
    "person = \"choldgraf\"\n",
    "n_days = 60\n"
   ]
  },
  {
   "cell_type": "code",
   "execution_count": 5,
   "metadata": {
    "execution": {
     "iopub.execute_input": "2020-07-21T01:14:10.990177Z",
     "iopub.status.busy": "2020-07-21T01:14:10.989609Z",
     "iopub.status.idle": "2020-07-21T01:14:10.992651Z",
     "shell.execute_reply": "2020-07-21T01:14:10.992058Z"
    },
    "papermill": {
     "duration": 0.022999,
     "end_time": "2020-07-21T01:14:10.992794",
     "exception": false,
     "start_time": "2020-07-21T01:14:10.969795",
     "status": "completed"
    },
    "tags": [
     "remove_cell"
    ]
   },
   "outputs": [
    {
     "data": {
      "text/plain": [
       "ThemeRegistry.enable('my_theme')"
      ]
     },
     "execution_count": 5,
     "metadata": {},
     "output_type": "execute_result"
    }
   ],
   "source": [
    "alt.renderers.enable(renderer);\n",
    "alt.themes.register('my_theme', alt_theme)\n",
    "alt.themes.enable(\"my_theme\")"
   ]
  },
  {
   "cell_type": "markdown",
   "metadata": {
    "papermill": {
     "duration": 0.012848,
     "end_time": "2020-07-21T01:14:11.018534",
     "exception": false,
     "start_time": "2020-07-21T01:14:11.005686",
     "status": "completed"
    },
    "tags": []
   },
   "source": [
    "## Load data"
   ]
  },
  {
   "cell_type": "code",
   "execution_count": 6,
   "metadata": {
    "execution": {
     "iopub.execute_input": "2020-07-21T01:14:11.052126Z",
     "iopub.status.busy": "2020-07-21T01:14:11.051531Z",
     "iopub.status.idle": "2020-07-21T01:14:11.241834Z",
     "shell.execute_reply": "2020-07-21T01:14:11.241323Z"
    },
    "papermill": {
     "duration": 0.210511,
     "end_time": "2020-07-21T01:14:11.241974",
     "exception": false,
     "start_time": "2020-07-21T01:14:11.031463",
     "status": "completed"
    },
    "tags": [
     "remove_cell"
    ]
   },
   "outputs": [],
   "source": [
    "from pathlib import Path\n",
    "path_data = Path(\"./\")\n",
    "comments = pd.read_csv(path_data.joinpath('comments.csv'), index_col=0)\n",
    "issues = pd.read_csv(path_data.joinpath('issues.csv'), index_col=0)\n",
    "prs = pd.read_csv(path_data.joinpath('prs.csv'), index_col=0)\n",
    "\n",
    "comments = comments.query('author == @person').drop_duplicates()\n",
    "issues = issues.query('author == @person').drop_duplicates()\n",
    "closed_by = prs.query('mergedBy == @person')\n",
    "prs = prs.query('author == @person').drop_duplicates()"
   ]
  },
  {
   "cell_type": "code",
   "execution_count": 7,
   "metadata": {
    "execution": {
     "iopub.execute_input": "2020-07-21T01:14:11.280875Z",
     "iopub.status.busy": "2020-07-21T01:14:11.280268Z",
     "iopub.status.idle": "2020-07-21T01:14:11.332113Z",
     "shell.execute_reply": "2020-07-21T01:14:11.332620Z"
    },
    "papermill": {
     "duration": 0.07572,
     "end_time": "2020-07-21T01:14:11.332810",
     "exception": false,
     "start_time": "2020-07-21T01:14:11.257090",
     "status": "completed"
    },
    "tags": [
     "remove_cell"
    ]
   },
   "outputs": [],
   "source": [
    "# Time columns\n",
    "# Also drop dates outside of our range\n",
    "time_columns = ['updatedAt', 'createdAt', 'closedAt']\n",
    "for col in time_columns:\n",
    "    for item in [comments, issues, prs, closed_by]:\n",
    "        if col not in item.columns:\n",
    "            continue\n",
    "        dt = pd.to_datetime(item[col]).dt.tz_localize(None)\n",
    "        item[col] = dt\n",
    "        item.query(\"updatedAt < @end_date and updatedAt > @start_date\", inplace=True)"
   ]
  },
  {
   "cell_type": "markdown",
   "metadata": {
    "papermill": {
     "duration": 0.013744,
     "end_time": "2020-07-21T01:14:11.360602",
     "exception": false,
     "start_time": "2020-07-21T01:14:11.346858",
     "status": "completed"
    },
    "tags": []
   },
   "source": [
    "# Repository summaries"
   ]
  },
  {
   "cell_type": "code",
   "execution_count": 8,
   "metadata": {
    "execution": {
     "iopub.execute_input": "2020-07-21T01:14:11.410105Z",
     "iopub.status.busy": "2020-07-21T01:14:11.403410Z",
     "iopub.status.idle": "2020-07-21T01:14:11.419494Z",
     "shell.execute_reply": "2020-07-21T01:14:11.418793Z"
    },
    "papermill": {
     "duration": 0.044137,
     "end_time": "2020-07-21T01:14:11.419635",
     "exception": false,
     "start_time": "2020-07-21T01:14:11.375498",
     "status": "completed"
    },
    "tags": [
     "remove_cell"
    ]
   },
   "outputs": [],
   "source": [
    "summaries = []\n",
    "for idata, name in [(issues, 'issues'), (prs, 'prs'), (comments, 'comments')]:\n",
    "    idata = idata.groupby([\"repo\", \"org\"]).agg({'id': \"count\"}).reset_index().rename(columns={'id': 'count'})\n",
    "    idata[\"kind\"] = name\n",
    "    summaries.append(idata)\n",
    "summaries = pd.concat(summaries)"
   ]
  },
  {
   "cell_type": "code",
   "execution_count": 9,
   "metadata": {
    "execution": {
     "iopub.execute_input": "2020-07-21T01:14:11.456810Z",
     "iopub.status.busy": "2020-07-21T01:14:11.456256Z",
     "iopub.status.idle": "2020-07-21T01:14:11.461877Z",
     "shell.execute_reply": "2020-07-21T01:14:11.461329Z"
    },
    "papermill": {
     "duration": 0.028865,
     "end_time": "2020-07-21T01:14:11.462003",
     "exception": false,
     "start_time": "2020-07-21T01:14:11.433138",
     "status": "completed"
    },
    "tags": [
     "remove_cell"
    ]
   },
   "outputs": [],
   "source": [
    "repo_summaries = summaries.groupby([\"repo\", \"kind\"]).agg({\"count\": \"sum\"}).reset_index()\n",
    "org_summaries = summaries.groupby([\"org\", \"kind\"]).agg({\"count\": \"sum\"}).reset_index()"
   ]
  },
  {
   "cell_type": "code",
   "execution_count": 10,
   "metadata": {
    "execution": {
     "iopub.execute_input": "2020-07-21T01:14:11.497193Z",
     "iopub.status.busy": "2020-07-21T01:14:11.496518Z",
     "iopub.status.idle": "2020-07-21T01:14:11.499426Z",
     "shell.execute_reply": "2020-07-21T01:14:11.498948Z"
    },
    "papermill": {
     "duration": 0.022119,
     "end_time": "2020-07-21T01:14:11.499557",
     "exception": false,
     "start_time": "2020-07-21T01:14:11.477438",
     "status": "completed"
    },
    "tags": [
     "remove_cell"
    ]
   },
   "outputs": [],
   "source": [
    "repo_summaries['logcount'] = np.log(repo_summaries[\"count\"])"
   ]
  },
  {
   "cell_type": "code",
   "execution_count": 11,
   "metadata": {
    "execution": {
     "iopub.execute_input": "2020-07-21T01:14:11.554211Z",
     "iopub.status.busy": "2020-07-21T01:14:11.544234Z",
     "iopub.status.idle": "2020-07-21T01:14:11.585508Z",
     "shell.execute_reply": "2020-07-21T01:14:11.585035Z"
    },
    "papermill": {
     "duration": 0.072923,
     "end_time": "2020-07-21T01:14:11.585642",
     "exception": false,
     "start_time": "2020-07-21T01:14:11.512719",
     "status": "completed"
    },
    "tags": [
     "hide_input"
    ]
   },
   "outputs": [
    {
     "data": {
      "text/html": [
       "\n",
       "<div id=\"altair-viz-b258200a5e084cfb8b0c045bb9046ce5\"></div>\n",
       "<script type=\"text/javascript\">\n",
       "  (function(spec, embedOpt){\n",
       "    let outputDiv = document.currentScript.previousElementSibling;\n",
       "    if (outputDiv.id !== \"altair-viz-b258200a5e084cfb8b0c045bb9046ce5\") {\n",
       "      outputDiv = document.getElementById(\"altair-viz-b258200a5e084cfb8b0c045bb9046ce5\");\n",
       "    }\n",
       "    const paths = {\n",
       "      \"vega\": \"https://cdn.jsdelivr.net/npm//vega@5?noext\",\n",
       "      \"vega-lib\": \"https://cdn.jsdelivr.net/npm//vega-lib?noext\",\n",
       "      \"vega-lite\": \"https://cdn.jsdelivr.net/npm//vega-lite@4.8.1?noext\",\n",
       "      \"vega-embed\": \"https://cdn.jsdelivr.net/npm//vega-embed@6?noext\",\n",
       "    };\n",
       "\n",
       "    function loadScript(lib) {\n",
       "      return new Promise(function(resolve, reject) {\n",
       "        var s = document.createElement('script');\n",
       "        s.src = paths[lib];\n",
       "        s.async = true;\n",
       "        s.onload = () => resolve(paths[lib]);\n",
       "        s.onerror = () => reject(`Error loading script: ${paths[lib]}`);\n",
       "        document.getElementsByTagName(\"head\")[0].appendChild(s);\n",
       "      });\n",
       "    }\n",
       "\n",
       "    function showError(err) {\n",
       "      outputDiv.innerHTML = `<div class=\"error\" style=\"color:red;\">${err}</div>`;\n",
       "      throw err;\n",
       "    }\n",
       "\n",
       "    function displayChart(vegaEmbed) {\n",
       "      vegaEmbed(outputDiv, spec, embedOpt)\n",
       "        .catch(err => showError(`Javascript Error: ${err.message}<br>This usually means there's a typo in your chart specification. See the javascript console for the full traceback.`));\n",
       "    }\n",
       "\n",
       "    if(typeof define === \"function\" && define.amd) {\n",
       "      requirejs.config({paths});\n",
       "      require([\"vega-embed\"], displayChart, err => showError(`Error loading script: ${err.message}`));\n",
       "    } else if (typeof vegaEmbed === \"function\") {\n",
       "      displayChart(vegaEmbed);\n",
       "    } else {\n",
       "      loadScript(\"vega\")\n",
       "        .then(() => loadScript(\"vega-lite\"))\n",
       "        .then(() => loadScript(\"vega-embed\"))\n",
       "        .catch(showError)\n",
       "        .then(() => displayChart(vegaEmbed));\n",
       "    }\n",
       "  })({\"config\": {\"axisLeft\": {\"labelFontSize\": 15}, \"axisBottom\": {\"labelFontSize\": 15}}, \"hconcat\": [{\"mark\": \"bar\", \"encoding\": {\"color\": {\"type\": \"nominal\", \"field\": \"kind\"}, \"tooltip\": {\"type\": \"nominal\", \"field\": \"kind\"}, \"x\": {\"type\": \"nominal\", \"field\": \"repo\"}, \"y\": {\"type\": \"quantitative\", \"field\": \"count\"}}, \"title\": \"Activity per repository\", \"width\": 600}, {\"mark\": \"bar\", \"encoding\": {\"color\": {\"type\": \"nominal\", \"field\": \"kind\"}, \"tooltip\": {\"type\": \"nominal\", \"field\": \"kind\"}, \"x\": {\"type\": \"nominal\", \"field\": \"repo\"}, \"y\": {\"type\": \"quantitative\", \"field\": \"logcount\"}}, \"title\": \"Log activity per repository\", \"width\": 600}], \"data\": {\"name\": \"data-6fc9b186b09dc050e4349eeffdac35c9\"}, \"$schema\": \"https://vega.github.io/schema/vega-lite/v4.8.1.json\", \"datasets\": {\"data-6fc9b186b09dc050e4349eeffdac35c9\": [{\"repo\": \".github\", \"kind\": \"comments\", \"count\": 6, \"logcount\": 1.791759469228055}, {\"repo\": \"MyST-NB\", \"kind\": \"comments\", \"count\": 47, \"logcount\": 3.8501476017100584}, {\"repo\": \"MyST-NB\", \"kind\": \"issues\", \"count\": 7, \"logcount\": 1.9459101490553132}, {\"repo\": \"MyST-NB\", \"kind\": \"prs\", \"count\": 9, \"logcount\": 2.1972245773362196}, {\"repo\": \"MyST-Parser\", \"kind\": \"comments\", \"count\": 67, \"logcount\": 4.204692619390966}, {\"repo\": \"MyST-Parser\", \"kind\": \"issues\", \"count\": 6, \"logcount\": 1.791759469228055}, {\"repo\": \"MyST-Parser\", \"kind\": \"prs\", \"count\": 9, \"logcount\": 2.1972245773362196}, {\"repo\": \"binder\", \"kind\": \"comments\", \"count\": 7, \"logcount\": 1.9459101490553132}, {\"repo\": \"binder\", \"kind\": \"issues\", \"count\": 2, \"logcount\": 0.6931471805599453}, {\"repo\": \"binder\", \"kind\": \"prs\", \"count\": 1, \"logcount\": 0.0}, {\"repo\": \"binder-data\", \"kind\": \"prs\", \"count\": 1, \"logcount\": 0.0}, {\"repo\": \"design\", \"kind\": \"comments\", \"count\": 1, \"logcount\": 0.0}, {\"repo\": \"dockerspawner\", \"kind\": \"comments\", \"count\": 3, \"logcount\": 1.0986122886681098}, {\"repo\": \"enhancement-proposals\", \"kind\": \"comments\", \"count\": 16, \"logcount\": 2.772588722239781}, {\"repo\": \"enhancement-proposals\", \"kind\": \"issues\", \"count\": 1, \"logcount\": 0.0}, {\"repo\": \"enhancement-proposals\", \"kind\": \"prs\", \"count\": 3, \"logcount\": 1.0986122886681098}, {\"repo\": \"governance\", \"kind\": \"comments\", \"count\": 9, \"logcount\": 2.1972245773362196}, {\"repo\": \"governance\", \"kind\": \"prs\", \"count\": 1, \"logcount\": 0.0}, {\"repo\": \"jupyter\", \"kind\": \"comments\", \"count\": 40, \"logcount\": 3.6888794541139363}, {\"repo\": \"jupyter\", \"kind\": \"issues\", \"count\": 2, \"logcount\": 0.6931471805599453}, {\"repo\": \"jupyter\", \"kind\": \"prs\", \"count\": 3, \"logcount\": 1.0986122886681098}, {\"repo\": \"jupyter-book\", \"kind\": \"comments\", \"count\": 312, \"logcount\": 5.7430031878094825}, {\"repo\": \"jupyter-book\", \"kind\": \"issues\", \"count\": 7, \"logcount\": 1.9459101490553132}, {\"repo\": \"jupyter-book\", \"kind\": \"prs\", \"count\": 18, \"logcount\": 2.8903717578961645}, {\"repo\": \"jupyter-cache\", \"kind\": \"comments\", \"count\": 11, \"logcount\": 2.3978952727983707}, {\"repo\": \"jupyter-cache\", \"kind\": \"issues\", \"count\": 2, \"logcount\": 0.6931471805599453}, {\"repo\": \"jupyter-sphinx\", \"kind\": \"comments\", \"count\": 5, \"logcount\": 1.6094379124341003}, {\"repo\": \"jupyter-sphinx\", \"kind\": \"issues\", \"count\": 1, \"logcount\": 0.0}, {\"repo\": \"jupyter-sphinx\", \"kind\": \"prs\", \"count\": 1, \"logcount\": 0.0}, {\"repo\": \"jupyter.github.io\", \"kind\": \"comments\", \"count\": 6, \"logcount\": 1.791759469228055}, {\"repo\": \"jupyterhub\", \"kind\": \"comments\", \"count\": 6, \"logcount\": 1.791759469228055}, {\"repo\": \"jupyterhub\", \"kind\": \"issues\", \"count\": 2, \"logcount\": 0.6931471805599453}, {\"repo\": \"jupyterlab\", \"kind\": \"comments\", \"count\": 10, \"logcount\": 2.302585092994046}, {\"repo\": \"jupyterlab\", \"kind\": \"issues\", \"count\": 2, \"logcount\": 0.6931471805599453}, {\"repo\": \"jupyterlab-latex\", \"kind\": \"issues\", \"count\": 1, \"logcount\": 0.0}, {\"repo\": \"markdown-it-py\", \"kind\": \"comments\", \"count\": 1, \"logcount\": 0.0}, {\"repo\": \"meta\", \"kind\": \"comments\", \"count\": 20, \"logcount\": 2.995732273553991}, {\"repo\": \"meta\", \"kind\": \"issues\", \"count\": 6, \"logcount\": 1.791759469228055}, {\"repo\": \"meta\", \"kind\": \"prs\", \"count\": 1, \"logcount\": 0.0}, {\"repo\": \"mybinder.org-deploy\", \"kind\": \"comments\", \"count\": 30, \"logcount\": 3.4011973816621555}, {\"repo\": \"mybinder.org-deploy\", \"kind\": \"issues\", \"count\": 3, \"logcount\": 1.0986122886681098}, {\"repo\": \"mybinder.org-deploy\", \"kind\": \"prs\", \"count\": 1, \"logcount\": 0.0}, {\"repo\": \"myst-language-support\", \"kind\": \"issues\", \"count\": 1, \"logcount\": 0.0}, {\"repo\": \"nbclient\", \"kind\": \"comments\", \"count\": 25, \"logcount\": 3.2188758248682006}, {\"repo\": \"nbclient\", \"kind\": \"issues\", \"count\": 2, \"logcount\": 0.6931471805599453}, {\"repo\": \"nbconvert\", \"kind\": \"comments\", \"count\": 2, \"logcount\": 0.6931471805599453}, {\"repo\": \"nbconvert\", \"kind\": \"issues\", \"count\": 1, \"logcount\": 0.0}, {\"repo\": \"nbgitpuller\", \"kind\": \"comments\", \"count\": 13, \"logcount\": 2.5649493574615367}, {\"repo\": \"nbgitpuller\", \"kind\": \"issues\", \"count\": 4, \"logcount\": 1.3862943611198906}, {\"repo\": \"nbgitpuller\", \"kind\": \"prs\", \"count\": 3, \"logcount\": 1.0986122886681098}, {\"repo\": \"nbgrader\", \"kind\": \"comments\", \"count\": 1, \"logcount\": 0.0}, {\"repo\": \"quantecon-mini-example\", \"kind\": \"comments\", \"count\": 1, \"logcount\": 0.0}, {\"repo\": \"repo2docker\", \"kind\": \"comments\", \"count\": 9, \"logcount\": 2.1972245773362196}, {\"repo\": \"repo2docker\", \"kind\": \"issues\", \"count\": 2, \"logcount\": 0.6931471805599453}, {\"repo\": \"rtc\", \"kind\": \"comments\", \"count\": 1, \"logcount\": 0.0}, {\"repo\": \"sphinx-book-theme\", \"kind\": \"comments\", \"count\": 52, \"logcount\": 3.9512437185814275}, {\"repo\": \"sphinx-book-theme\", \"kind\": \"issues\", \"count\": 2, \"logcount\": 0.6931471805599453}, {\"repo\": \"sphinx-book-theme\", \"kind\": \"prs\", \"count\": 14, \"logcount\": 2.6390573296152584}, {\"repo\": \"sphinx-copybutton\", \"kind\": \"comments\", \"count\": 9, \"logcount\": 2.1972245773362196}, {\"repo\": \"sphinx-thebe\", \"kind\": \"comments\", \"count\": 18, \"logcount\": 2.8903717578961645}, {\"repo\": \"sphinx-thebe\", \"kind\": \"issues\", \"count\": 1, \"logcount\": 0.0}, {\"repo\": \"sphinx-thebe\", \"kind\": \"prs\", \"count\": 5, \"logcount\": 1.6094379124341003}, {\"repo\": \"sphinx-togglebutton\", \"kind\": \"prs\", \"count\": 1, \"logcount\": 0.0}, {\"repo\": \"team-compass\", \"kind\": \"comments\", \"count\": 45, \"logcount\": 3.8066624897703196}, {\"repo\": \"team-compass\", \"kind\": \"issues\", \"count\": 6, \"logcount\": 1.791759469228055}, {\"repo\": \"team-compass\", \"kind\": \"prs\", \"count\": 2, \"logcount\": 0.6931471805599453}, {\"repo\": \"zero-to-jupyterhub-k8s\", \"kind\": \"comments\", \"count\": 4, \"logcount\": 1.3862943611198906}, {\"repo\": \"zero-to-jupyterhub-k8s\", \"kind\": \"issues\", \"count\": 7, \"logcount\": 1.9459101490553132}, {\"repo\": \"zero-to-jupyterhub-k8s\", \"kind\": \"prs\", \"count\": 1, \"logcount\": 0.0}]}}, {\"mode\": \"vega-lite\"});\n",
       "</script>"
      ],
      "text/plain": [
       "alt.HConcatChart(...)"
      ]
     },
     "execution_count": 11,
     "metadata": {},
     "output_type": "execute_result"
    }
   ],
   "source": [
    "ch1 = alt.Chart(repo_summaries, width=600, title=\"Activity per repository\").mark_bar().encode(\n",
    "    x='repo',\n",
    "    y='count',\n",
    "    color='kind',\n",
    "    tooltip=\"kind\"\n",
    ")\n",
    "\n",
    "ch2 = alt.Chart(repo_summaries, width=600, title=\"Log activity per repository\").mark_bar().encode(\n",
    "    x='repo',\n",
    "    y='logcount',\n",
    "    color='kind',\n",
    "    tooltip=\"kind\"\n",
    ")\n",
    "\n",
    "ch1 | ch2"
   ]
  },
  {
   "cell_type": "code",
   "execution_count": 12,
   "metadata": {
    "execution": {
     "iopub.execute_input": "2020-07-21T01:14:11.648772Z",
     "iopub.status.busy": "2020-07-21T01:14:11.636597Z",
     "iopub.status.idle": "2020-07-21T01:14:11.651050Z",
     "shell.execute_reply": "2020-07-21T01:14:11.651620Z"
    },
    "papermill": {
     "duration": 0.051152,
     "end_time": "2020-07-21T01:14:11.651783",
     "exception": false,
     "start_time": "2020-07-21T01:14:11.600631",
     "status": "completed"
    },
    "tags": [
     "hide_input"
    ]
   },
   "outputs": [
    {
     "data": {
      "text/html": [
       "\n",
       "<div id=\"altair-viz-dbd2c01ed4ec4e21931d3ae0dc6340df\"></div>\n",
       "<script type=\"text/javascript\">\n",
       "  (function(spec, embedOpt){\n",
       "    let outputDiv = document.currentScript.previousElementSibling;\n",
       "    if (outputDiv.id !== \"altair-viz-dbd2c01ed4ec4e21931d3ae0dc6340df\") {\n",
       "      outputDiv = document.getElementById(\"altair-viz-dbd2c01ed4ec4e21931d3ae0dc6340df\");\n",
       "    }\n",
       "    const paths = {\n",
       "      \"vega\": \"https://cdn.jsdelivr.net/npm//vega@5?noext\",\n",
       "      \"vega-lib\": \"https://cdn.jsdelivr.net/npm//vega-lib?noext\",\n",
       "      \"vega-lite\": \"https://cdn.jsdelivr.net/npm//vega-lite@4.8.1?noext\",\n",
       "      \"vega-embed\": \"https://cdn.jsdelivr.net/npm//vega-embed@6?noext\",\n",
       "    };\n",
       "\n",
       "    function loadScript(lib) {\n",
       "      return new Promise(function(resolve, reject) {\n",
       "        var s = document.createElement('script');\n",
       "        s.src = paths[lib];\n",
       "        s.async = true;\n",
       "        s.onload = () => resolve(paths[lib]);\n",
       "        s.onerror = () => reject(`Error loading script: ${paths[lib]}`);\n",
       "        document.getElementsByTagName(\"head\")[0].appendChild(s);\n",
       "      });\n",
       "    }\n",
       "\n",
       "    function showError(err) {\n",
       "      outputDiv.innerHTML = `<div class=\"error\" style=\"color:red;\">${err}</div>`;\n",
       "      throw err;\n",
       "    }\n",
       "\n",
       "    function displayChart(vegaEmbed) {\n",
       "      vegaEmbed(outputDiv, spec, embedOpt)\n",
       "        .catch(err => showError(`Javascript Error: ${err.message}<br>This usually means there's a typo in your chart specification. See the javascript console for the full traceback.`));\n",
       "    }\n",
       "\n",
       "    if(typeof define === \"function\" && define.amd) {\n",
       "      requirejs.config({paths});\n",
       "      require([\"vega-embed\"], displayChart, err => showError(`Error loading script: ${err.message}`));\n",
       "    } else if (typeof vegaEmbed === \"function\") {\n",
       "      displayChart(vegaEmbed);\n",
       "    } else {\n",
       "      loadScript(\"vega\")\n",
       "        .then(() => loadScript(\"vega-lite\"))\n",
       "        .then(() => loadScript(\"vega-embed\"))\n",
       "        .catch(showError)\n",
       "        .then(() => displayChart(vegaEmbed));\n",
       "    }\n",
       "  })({\"config\": {\"axisLeft\": {\"labelFontSize\": 15}, \"axisBottom\": {\"labelFontSize\": 15}}, \"data\": {\"name\": \"data-277dd95a6e5278a96b2bf1fce62eaf4e\"}, \"mark\": \"bar\", \"encoding\": {\"color\": {\"type\": \"nominal\", \"field\": \"kind\"}, \"tooltip\": {\"type\": \"nominal\", \"field\": \"org\"}, \"x\": {\"type\": \"nominal\", \"field\": \"org\"}, \"y\": {\"type\": \"quantitative\", \"field\": \"count\"}}, \"width\": 600, \"$schema\": \"https://vega.github.io/schema/vega-lite/v4.8.1.json\", \"datasets\": {\"data-277dd95a6e5278a96b2bf1fce62eaf4e\": [{\"org\": \"executablebooks\", \"kind\": \"comments\", \"count\": 538}, {\"org\": \"executablebooks\", \"kind\": \"issues\", \"count\": 32}, {\"org\": \"executablebooks\", \"kind\": \"prs\", \"count\": 57}, {\"org\": \"jupyter\", \"kind\": \"comments\", \"count\": 114}, {\"org\": \"jupyter\", \"kind\": \"issues\", \"count\": 9}, {\"org\": \"jupyter\", \"kind\": \"prs\", \"count\": 8}, {\"org\": \"jupyterhub\", \"kind\": \"comments\", \"count\": 107}, {\"org\": \"jupyterhub\", \"kind\": \"issues\", \"count\": 24}, {\"org\": \"jupyterhub\", \"kind\": \"prs\", \"count\": 9}, {\"org\": \"jupyterlab\", \"kind\": \"comments\", \"count\": 18}, {\"org\": \"jupyterlab\", \"kind\": \"issues\", \"count\": 3}]}}, {\"mode\": \"vega-lite\"});\n",
       "</script>"
      ],
      "text/plain": [
       "alt.Chart(...)"
      ]
     },
     "execution_count": 12,
     "metadata": {},
     "output_type": "execute_result"
    }
   ],
   "source": [
    "alt.Chart(org_summaries, width=600).mark_bar().encode(\n",
    "    x='org',\n",
    "    y='count',\n",
    "    color='kind',\n",
    "    tooltip=\"org\"\n",
    ")"
   ]
  },
  {
   "cell_type": "markdown",
   "metadata": {
    "papermill": {
     "duration": 0.015051,
     "end_time": "2020-07-21T01:14:11.682110",
     "exception": false,
     "start_time": "2020-07-21T01:14:11.667059",
     "status": "completed"
    },
    "tags": []
   },
   "source": [
    "# By repository over time"
   ]
  },
  {
   "cell_type": "markdown",
   "metadata": {
    "papermill": {
     "duration": 0.014507,
     "end_time": "2020-07-21T01:14:11.712348",
     "exception": false,
     "start_time": "2020-07-21T01:14:11.697841",
     "status": "completed"
    },
    "tags": []
   },
   "source": [
    "## Comments"
   ]
  },
  {
   "cell_type": "code",
   "execution_count": 13,
   "metadata": {
    "execution": {
     "iopub.execute_input": "2020-07-21T01:14:11.752851Z",
     "iopub.status.busy": "2020-07-21T01:14:11.752259Z",
     "iopub.status.idle": "2020-07-21T01:14:11.915104Z",
     "shell.execute_reply": "2020-07-21T01:14:11.914493Z"
    },
    "papermill": {
     "duration": 0.186657,
     "end_time": "2020-07-21T01:14:11.915239",
     "exception": false,
     "start_time": "2020-07-21T01:14:11.728582",
     "status": "completed"
    },
    "tags": [
     "hide_input"
    ]
   },
   "outputs": [
    {
     "data": {
      "text/html": [
       "\n",
       "<div id=\"altair-viz-5ee9c6add2744dc19a0ae3a6615b6567\"></div>\n",
       "<script type=\"text/javascript\">\n",
       "  (function(spec, embedOpt){\n",
       "    let outputDiv = document.currentScript.previousElementSibling;\n",
       "    if (outputDiv.id !== \"altair-viz-5ee9c6add2744dc19a0ae3a6615b6567\") {\n",
       "      outputDiv = document.getElementById(\"altair-viz-5ee9c6add2744dc19a0ae3a6615b6567\");\n",
       "    }\n",
       "    const paths = {\n",
       "      \"vega\": \"https://cdn.jsdelivr.net/npm//vega@5?noext\",\n",
       "      \"vega-lib\": \"https://cdn.jsdelivr.net/npm//vega-lib?noext\",\n",
       "      \"vega-lite\": \"https://cdn.jsdelivr.net/npm//vega-lite@4.8.1?noext\",\n",
       "      \"vega-embed\": \"https://cdn.jsdelivr.net/npm//vega-embed@6?noext\",\n",
       "    };\n",
       "\n",
       "    function loadScript(lib) {\n",
       "      return new Promise(function(resolve, reject) {\n",
       "        var s = document.createElement('script');\n",
       "        s.src = paths[lib];\n",
       "        s.async = true;\n",
       "        s.onload = () => resolve(paths[lib]);\n",
       "        s.onerror = () => reject(`Error loading script: ${paths[lib]}`);\n",
       "        document.getElementsByTagName(\"head\")[0].appendChild(s);\n",
       "      });\n",
       "    }\n",
       "\n",
       "    function showError(err) {\n",
       "      outputDiv.innerHTML = `<div class=\"error\" style=\"color:red;\">${err}</div>`;\n",
       "      throw err;\n",
       "    }\n",
       "\n",
       "    function displayChart(vegaEmbed) {\n",
       "      vegaEmbed(outputDiv, spec, embedOpt)\n",
       "        .catch(err => showError(`Javascript Error: ${err.message}<br>This usually means there's a typo in your chart specification. See the javascript console for the full traceback.`));\n",
       "    }\n",
       "\n",
       "    if(typeof define === \"function\" && define.amd) {\n",
       "      requirejs.config({paths});\n",
       "      require([\"vega-embed\"], displayChart, err => showError(`Error loading script: ${err.message}`));\n",
       "    } else if (typeof vegaEmbed === \"function\") {\n",
       "      displayChart(vegaEmbed);\n",
       "    } else {\n",
       "      loadScript(\"vega\")\n",
       "        .then(() => loadScript(\"vega-lite\"))\n",
       "        .then(() => loadScript(\"vega-embed\"))\n",
       "        .catch(showError)\n",
       "        .then(() => displayChart(vegaEmbed));\n",
       "    }\n",
       "  })({\"config\": {\"axisLeft\": {\"labelFontSize\": 15}, \"axisBottom\": {\"labelFontSize\": 15}}, \"layer\": [{\"data\": {\"name\": \"data-584491411aab9c7651e8e0201b90206f\"}, \"mark\": \"line\", \"encoding\": {\"color\": {\"type\": \"nominal\", \"field\": \"repo\"}, \"tooltip\": {\"type\": \"nominal\", \"field\": \"repo\"}, \"x\": {\"type\": \"temporal\", \"field\": \"createdAt\"}, \"y\": {\"type\": \"quantitative\", \"field\": \"count\"}}, \"width\": 600}, {\"data\": {\"name\": \"data-a3ab705a204f5b97f85bce526cb1ea17\"}, \"mark\": {\"type\": \"line\", \"color\": \"black\"}, \"encoding\": {\"x\": {\"type\": \"temporal\", \"field\": \"createdAt\"}, \"y\": {\"type\": \"quantitative\", \"field\": \"count\"}}, \"width\": 600}], \"$schema\": \"https://vega.github.io/schema/vega-lite/v4.8.1.json\", \"datasets\": {\"data-584491411aab9c7651e8e0201b90206f\": [{\"repo\": \".github\", \"createdAt\": \"2020-05-31T00:00:00\", \"count\": 1}, {\"repo\": \".github\", \"createdAt\": \"2020-06-07T00:00:00\", \"count\": 2}, {\"repo\": \".github\", \"createdAt\": \"2020-06-14T00:00:00\", \"count\": 1}, {\"repo\": \".github\", \"createdAt\": \"2020-06-21T00:00:00\", \"count\": 1}, {\"repo\": \".github\", \"createdAt\": \"2020-06-28T00:00:00\", \"count\": 0}, {\"repo\": \".github\", \"createdAt\": \"2020-07-05T00:00:00\", \"count\": 1}, {\"repo\": \"MyST-NB\", \"createdAt\": \"2020-05-24T00:00:00\", \"count\": 1}, {\"repo\": \"MyST-NB\", \"createdAt\": \"2020-05-31T00:00:00\", \"count\": 8}, {\"repo\": \"MyST-NB\", \"createdAt\": \"2020-06-07T00:00:00\", \"count\": 9}, {\"repo\": \"MyST-NB\", \"createdAt\": \"2020-06-14T00:00:00\", \"count\": 7}, {\"repo\": \"MyST-NB\", \"createdAt\": \"2020-06-21T00:00:00\", \"count\": 8}, {\"repo\": \"MyST-NB\", \"createdAt\": \"2020-06-28T00:00:00\", \"count\": 0}, {\"repo\": \"MyST-NB\", \"createdAt\": \"2020-07-05T00:00:00\", \"count\": 4}, {\"repo\": \"MyST-NB\", \"createdAt\": \"2020-07-12T00:00:00\", \"count\": 5}, {\"repo\": \"MyST-NB\", \"createdAt\": \"2020-07-19T00:00:00\", \"count\": 5}, {\"repo\": \"MyST-Parser\", \"createdAt\": \"2020-05-24T00:00:00\", \"count\": 2}, {\"repo\": \"MyST-Parser\", \"createdAt\": \"2020-05-31T00:00:00\", \"count\": 10}, {\"repo\": \"MyST-Parser\", \"createdAt\": \"2020-06-07T00:00:00\", \"count\": 12}, {\"repo\": \"MyST-Parser\", \"createdAt\": \"2020-06-14T00:00:00\", \"count\": 14}, {\"repo\": \"MyST-Parser\", \"createdAt\": \"2020-06-21T00:00:00\", \"count\": 3}, {\"repo\": \"MyST-Parser\", \"createdAt\": \"2020-06-28T00:00:00\", \"count\": 14}, {\"repo\": \"MyST-Parser\", \"createdAt\": \"2020-07-05T00:00:00\", \"count\": 0}, {\"repo\": \"MyST-Parser\", \"createdAt\": \"2020-07-12T00:00:00\", \"count\": 4}, {\"repo\": \"MyST-Parser\", \"createdAt\": \"2020-07-19T00:00:00\", \"count\": 8}, {\"repo\": \"binder\", \"createdAt\": \"2020-06-21T00:00:00\", \"count\": 1}, {\"repo\": \"binder\", \"createdAt\": \"2020-06-28T00:00:00\", \"count\": 0}, {\"repo\": \"binder\", \"createdAt\": \"2020-07-05T00:00:00\", \"count\": 0}, {\"repo\": \"binder\", \"createdAt\": \"2020-07-12T00:00:00\", \"count\": 0}, {\"repo\": \"binder\", \"createdAt\": \"2020-07-19T00:00:00\", \"count\": 5}, {\"repo\": \"binder\", \"createdAt\": \"2020-07-26T00:00:00\", \"count\": 1}, {\"repo\": \"design\", \"createdAt\": \"2020-05-31T00:00:00\", \"count\": 1}, {\"repo\": \"dockerspawner\", \"createdAt\": \"2020-06-21T00:00:00\", \"count\": 1}, {\"repo\": \"dockerspawner\", \"createdAt\": \"2020-06-28T00:00:00\", \"count\": 2}, {\"repo\": \"enhancement-proposals\", \"createdAt\": \"2020-05-31T00:00:00\", \"count\": 3}, {\"repo\": \"enhancement-proposals\", \"createdAt\": \"2020-06-07T00:00:00\", \"count\": 1}, {\"repo\": \"enhancement-proposals\", \"createdAt\": \"2020-06-14T00:00:00\", \"count\": 3}, {\"repo\": \"enhancement-proposals\", \"createdAt\": \"2020-06-21T00:00:00\", \"count\": 8}, {\"repo\": \"enhancement-proposals\", \"createdAt\": \"2020-06-28T00:00:00\", \"count\": 1}, {\"repo\": \"governance\", \"createdAt\": \"2020-05-24T00:00:00\", \"count\": 1}, {\"repo\": \"governance\", \"createdAt\": \"2020-05-31T00:00:00\", \"count\": 2}, {\"repo\": \"governance\", \"createdAt\": \"2020-06-07T00:00:00\", \"count\": 1}, {\"repo\": \"governance\", \"createdAt\": \"2020-06-14T00:00:00\", \"count\": 0}, {\"repo\": \"governance\", \"createdAt\": \"2020-06-21T00:00:00\", \"count\": 0}, {\"repo\": \"governance\", \"createdAt\": \"2020-06-28T00:00:00\", \"count\": 3}, {\"repo\": \"governance\", \"createdAt\": \"2020-07-05T00:00:00\", \"count\": 1}, {\"repo\": \"governance\", \"createdAt\": \"2020-07-12T00:00:00\", \"count\": 0}, {\"repo\": \"governance\", \"createdAt\": \"2020-07-19T00:00:00\", \"count\": 1}, {\"repo\": \"jupyter\", \"createdAt\": \"2020-06-14T00:00:00\", \"count\": 7}, {\"repo\": \"jupyter\", \"createdAt\": \"2020-06-21T00:00:00\", \"count\": 7}, {\"repo\": \"jupyter\", \"createdAt\": \"2020-06-28T00:00:00\", \"count\": 3}, {\"repo\": \"jupyter\", \"createdAt\": \"2020-07-05T00:00:00\", \"count\": 11}, {\"repo\": \"jupyter\", \"createdAt\": \"2020-07-12T00:00:00\", \"count\": 6}, {\"repo\": \"jupyter\", \"createdAt\": \"2020-07-19T00:00:00\", \"count\": 6}, {\"repo\": \"jupyter-book\", \"createdAt\": \"2020-05-24T00:00:00\", \"count\": 15}, {\"repo\": \"jupyter-book\", \"createdAt\": \"2020-05-31T00:00:00\", \"count\": 50}, {\"repo\": \"jupyter-book\", \"createdAt\": \"2020-06-07T00:00:00\", \"count\": 67}, {\"repo\": \"jupyter-book\", \"createdAt\": \"2020-06-14T00:00:00\", \"count\": 28}, {\"repo\": \"jupyter-book\", \"createdAt\": \"2020-06-21T00:00:00\", \"count\": 20}, {\"repo\": \"jupyter-book\", \"createdAt\": \"2020-06-28T00:00:00\", \"count\": 22}, {\"repo\": \"jupyter-book\", \"createdAt\": \"2020-07-05T00:00:00\", \"count\": 27}, {\"repo\": \"jupyter-book\", \"createdAt\": \"2020-07-12T00:00:00\", \"count\": 36}, {\"repo\": \"jupyter-book\", \"createdAt\": \"2020-07-19T00:00:00\", \"count\": 46}, {\"repo\": \"jupyter-book\", \"createdAt\": \"2020-07-26T00:00:00\", \"count\": 1}, {\"repo\": \"jupyter-cache\", \"createdAt\": \"2020-05-24T00:00:00\", \"count\": 2}, {\"repo\": \"jupyter-cache\", \"createdAt\": \"2020-05-31T00:00:00\", \"count\": 3}, {\"repo\": \"jupyter-cache\", \"createdAt\": \"2020-06-07T00:00:00\", \"count\": 0}, {\"repo\": \"jupyter-cache\", \"createdAt\": \"2020-06-14T00:00:00\", \"count\": 2}, {\"repo\": \"jupyter-cache\", \"createdAt\": \"2020-06-21T00:00:00\", \"count\": 3}, {\"repo\": \"jupyter-cache\", \"createdAt\": \"2020-06-28T00:00:00\", \"count\": 1}, {\"repo\": \"jupyter-sphinx\", \"createdAt\": \"2020-05-31T00:00:00\", \"count\": 2}, {\"repo\": \"jupyter-sphinx\", \"createdAt\": \"2020-06-07T00:00:00\", \"count\": 0}, {\"repo\": \"jupyter-sphinx\", \"createdAt\": \"2020-06-14T00:00:00\", \"count\": 0}, {\"repo\": \"jupyter-sphinx\", \"createdAt\": \"2020-06-21T00:00:00\", \"count\": 0}, {\"repo\": \"jupyter-sphinx\", \"createdAt\": \"2020-06-28T00:00:00\", \"count\": 1}, {\"repo\": \"jupyter-sphinx\", \"createdAt\": \"2020-07-05T00:00:00\", \"count\": 2}, {\"repo\": \"jupyter.github.io\", \"createdAt\": \"2020-06-21T00:00:00\", \"count\": 3}, {\"repo\": \"jupyter.github.io\", \"createdAt\": \"2020-06-28T00:00:00\", \"count\": 1}, {\"repo\": \"jupyter.github.io\", \"createdAt\": \"2020-07-05T00:00:00\", \"count\": 1}, {\"repo\": \"jupyter.github.io\", \"createdAt\": \"2020-07-12T00:00:00\", \"count\": 0}, {\"repo\": \"jupyter.github.io\", \"createdAt\": \"2020-07-19T00:00:00\", \"count\": 1}, {\"repo\": \"jupyterhub\", \"createdAt\": \"2020-06-21T00:00:00\", \"count\": 3}, {\"repo\": \"jupyterhub\", \"createdAt\": \"2020-06-28T00:00:00\", \"count\": 0}, {\"repo\": \"jupyterhub\", \"createdAt\": \"2020-07-05T00:00:00\", \"count\": 2}, {\"repo\": \"jupyterhub\", \"createdAt\": \"2020-07-12T00:00:00\", \"count\": 1}, {\"repo\": \"jupyterlab\", \"createdAt\": \"2020-06-21T00:00:00\", \"count\": 1}, {\"repo\": \"jupyterlab\", \"createdAt\": \"2020-06-28T00:00:00\", \"count\": 0}, {\"repo\": \"jupyterlab\", \"createdAt\": \"2020-07-05T00:00:00\", \"count\": 1}, {\"repo\": \"jupyterlab\", \"createdAt\": \"2020-07-12T00:00:00\", \"count\": 4}, {\"repo\": \"jupyterlab\", \"createdAt\": \"2020-07-19T00:00:00\", \"count\": 4}, {\"repo\": \"markdown-it-py\", \"createdAt\": \"2020-05-31T00:00:00\", \"count\": 1}, {\"repo\": \"meta\", \"createdAt\": \"2020-05-31T00:00:00\", \"count\": 1}, {\"repo\": \"meta\", \"createdAt\": \"2020-06-07T00:00:00\", \"count\": 2}, {\"repo\": \"meta\", \"createdAt\": \"2020-06-14T00:00:00\", \"count\": 0}, {\"repo\": \"meta\", \"createdAt\": \"2020-06-21T00:00:00\", \"count\": 1}, {\"repo\": \"meta\", \"createdAt\": \"2020-06-28T00:00:00\", \"count\": 4}, {\"repo\": \"meta\", \"createdAt\": \"2020-07-05T00:00:00\", \"count\": 0}, {\"repo\": \"meta\", \"createdAt\": \"2020-07-12T00:00:00\", \"count\": 0}, {\"repo\": \"meta\", \"createdAt\": \"2020-07-19T00:00:00\", \"count\": 7}, {\"repo\": \"meta\", \"createdAt\": \"2020-07-26T00:00:00\", \"count\": 5}, {\"repo\": \"mybinder.org-deploy\", \"createdAt\": \"2020-05-24T00:00:00\", \"count\": 4}, {\"repo\": \"mybinder.org-deploy\", \"createdAt\": \"2020-05-31T00:00:00\", \"count\": 2}, {\"repo\": \"mybinder.org-deploy\", \"createdAt\": \"2020-06-07T00:00:00\", \"count\": 2}, {\"repo\": \"mybinder.org-deploy\", \"createdAt\": \"2020-06-14T00:00:00\", \"count\": 1}, {\"repo\": \"mybinder.org-deploy\", \"createdAt\": \"2020-06-21T00:00:00\", \"count\": 3}, {\"repo\": \"mybinder.org-deploy\", \"createdAt\": \"2020-06-28T00:00:00\", \"count\": 3}, {\"repo\": \"mybinder.org-deploy\", \"createdAt\": \"2020-07-05T00:00:00\", \"count\": 5}, {\"repo\": \"mybinder.org-deploy\", \"createdAt\": \"2020-07-12T00:00:00\", \"count\": 2}, {\"repo\": \"mybinder.org-deploy\", \"createdAt\": \"2020-07-19T00:00:00\", \"count\": 8}, {\"repo\": \"nbclient\", \"createdAt\": \"2020-05-24T00:00:00\", \"count\": 2}, {\"repo\": \"nbclient\", \"createdAt\": \"2020-05-31T00:00:00\", \"count\": 5}, {\"repo\": \"nbclient\", \"createdAt\": \"2020-06-07T00:00:00\", \"count\": 2}, {\"repo\": \"nbclient\", \"createdAt\": \"2020-06-14T00:00:00\", \"count\": 5}, {\"repo\": \"nbclient\", \"createdAt\": \"2020-06-21T00:00:00\", \"count\": 6}, {\"repo\": \"nbclient\", \"createdAt\": \"2020-06-28T00:00:00\", \"count\": 1}, {\"repo\": \"nbclient\", \"createdAt\": \"2020-07-05T00:00:00\", \"count\": 3}, {\"repo\": \"nbclient\", \"createdAt\": \"2020-07-12T00:00:00\", \"count\": 1}, {\"repo\": \"nbconvert\", \"createdAt\": \"2020-06-21T00:00:00\", \"count\": 1}, {\"repo\": \"nbconvert\", \"createdAt\": \"2020-06-28T00:00:00\", \"count\": 0}, {\"repo\": \"nbconvert\", \"createdAt\": \"2020-07-05T00:00:00\", \"count\": 1}, {\"repo\": \"nbgitpuller\", \"createdAt\": \"2020-06-28T00:00:00\", \"count\": 4}, {\"repo\": \"nbgitpuller\", \"createdAt\": \"2020-07-05T00:00:00\", \"count\": 8}, {\"repo\": \"nbgitpuller\", \"createdAt\": \"2020-07-12T00:00:00\", \"count\": 1}, {\"repo\": \"nbgrader\", \"createdAt\": \"2020-06-28T00:00:00\", \"count\": 1}, {\"repo\": \"quantecon-mini-example\", \"createdAt\": \"2020-06-21T00:00:00\", \"count\": 1}, {\"repo\": \"repo2docker\", \"createdAt\": \"2020-06-14T00:00:00\", \"count\": 4}, {\"repo\": \"repo2docker\", \"createdAt\": \"2020-06-21T00:00:00\", \"count\": 0}, {\"repo\": \"repo2docker\", \"createdAt\": \"2020-06-28T00:00:00\", \"count\": 2}, {\"repo\": \"repo2docker\", \"createdAt\": \"2020-07-05T00:00:00\", \"count\": 0}, {\"repo\": \"repo2docker\", \"createdAt\": \"2020-07-12T00:00:00\", \"count\": 3}, {\"repo\": \"rtc\", \"createdAt\": \"2020-07-19T00:00:00\", \"count\": 1}, {\"repo\": \"sphinx-book-theme\", \"createdAt\": \"2020-05-24T00:00:00\", \"count\": 4}, {\"repo\": \"sphinx-book-theme\", \"createdAt\": \"2020-05-31T00:00:00\", \"count\": 15}, {\"repo\": \"sphinx-book-theme\", \"createdAt\": \"2020-06-07T00:00:00\", \"count\": 11}, {\"repo\": \"sphinx-book-theme\", \"createdAt\": \"2020-06-14T00:00:00\", \"count\": 4}, {\"repo\": \"sphinx-book-theme\", \"createdAt\": \"2020-06-21T00:00:00\", \"count\": 4}, {\"repo\": \"sphinx-book-theme\", \"createdAt\": \"2020-06-28T00:00:00\", \"count\": 9}, {\"repo\": \"sphinx-book-theme\", \"createdAt\": \"2020-07-05T00:00:00\", \"count\": 0}, {\"repo\": \"sphinx-book-theme\", \"createdAt\": \"2020-07-12T00:00:00\", \"count\": 0}, {\"repo\": \"sphinx-book-theme\", \"createdAt\": \"2020-07-19T00:00:00\", \"count\": 5}, {\"repo\": \"sphinx-copybutton\", \"createdAt\": \"2020-05-31T00:00:00\", \"count\": 1}, {\"repo\": \"sphinx-copybutton\", \"createdAt\": \"2020-06-07T00:00:00\", \"count\": 1}, {\"repo\": \"sphinx-copybutton\", \"createdAt\": \"2020-06-14T00:00:00\", \"count\": 0}, {\"repo\": \"sphinx-copybutton\", \"createdAt\": \"2020-06-21T00:00:00\", \"count\": 4}, {\"repo\": \"sphinx-copybutton\", \"createdAt\": \"2020-06-28T00:00:00\", \"count\": 1}, {\"repo\": \"sphinx-copybutton\", \"createdAt\": \"2020-07-05T00:00:00\", \"count\": 0}, {\"repo\": \"sphinx-copybutton\", \"createdAt\": \"2020-07-12T00:00:00\", \"count\": 0}, {\"repo\": \"sphinx-copybutton\", \"createdAt\": \"2020-07-19T00:00:00\", \"count\": 2}, {\"repo\": \"sphinx-thebe\", \"createdAt\": \"2020-06-21T00:00:00\", \"count\": 8}, {\"repo\": \"sphinx-thebe\", \"createdAt\": \"2020-06-28T00:00:00\", \"count\": 3}, {\"repo\": \"sphinx-thebe\", \"createdAt\": \"2020-07-05T00:00:00\", \"count\": 6}, {\"repo\": \"sphinx-thebe\", \"createdAt\": \"2020-07-12T00:00:00\", \"count\": 1}, {\"repo\": \"team-compass\", \"createdAt\": \"2020-05-31T00:00:00\", \"count\": 1}, {\"repo\": \"team-compass\", \"createdAt\": \"2020-06-07T00:00:00\", \"count\": 6}, {\"repo\": \"team-compass\", \"createdAt\": \"2020-06-14T00:00:00\", \"count\": 6}, {\"repo\": \"team-compass\", \"createdAt\": \"2020-06-21T00:00:00\", \"count\": 6}, {\"repo\": \"team-compass\", \"createdAt\": \"2020-06-28T00:00:00\", \"count\": 3}, {\"repo\": \"team-compass\", \"createdAt\": \"2020-07-05T00:00:00\", \"count\": 3}, {\"repo\": \"team-compass\", \"createdAt\": \"2020-07-12T00:00:00\", \"count\": 4}, {\"repo\": \"team-compass\", \"createdAt\": \"2020-07-19T00:00:00\", \"count\": 14}, {\"repo\": \"team-compass\", \"createdAt\": \"2020-07-26T00:00:00\", \"count\": 2}, {\"repo\": \"zero-to-jupyterhub-k8s\", \"createdAt\": \"2020-06-14T00:00:00\", \"count\": 2}, {\"repo\": \"zero-to-jupyterhub-k8s\", \"createdAt\": \"2020-06-21T00:00:00\", \"count\": 0}, {\"repo\": \"zero-to-jupyterhub-k8s\", \"createdAt\": \"2020-06-28T00:00:00\", \"count\": 0}, {\"repo\": \"zero-to-jupyterhub-k8s\", \"createdAt\": \"2020-07-05T00:00:00\", \"count\": 2}], \"data-a3ab705a204f5b97f85bce526cb1ea17\": [{\"createdAt\": \"2020-05-24T00:00:00\", \"count\": 31}, {\"createdAt\": \"2020-05-31T00:00:00\", \"count\": 106}, {\"createdAt\": \"2020-06-07T00:00:00\", \"count\": 116}, {\"createdAt\": \"2020-06-14T00:00:00\", \"count\": 84}, {\"createdAt\": \"2020-06-21T00:00:00\", \"count\": 93}, {\"createdAt\": \"2020-06-28T00:00:00\", \"count\": 79}, {\"createdAt\": \"2020-07-05T00:00:00\", \"count\": 78}, {\"createdAt\": \"2020-07-12T00:00:00\", \"count\": 68}, {\"createdAt\": \"2020-07-19T00:00:00\", \"count\": 113}, {\"createdAt\": \"2020-07-26T00:00:00\", \"count\": 9}]}}, {\"mode\": \"vega-lite\"});\n",
       "</script>"
      ],
      "text/plain": [
       "alt.LayerChart(...)"
      ]
     },
     "execution_count": 13,
     "metadata": {},
     "output_type": "execute_result"
    }
   ],
   "source": [
    "comments_time = comments.groupby('repo').resample('W', on='createdAt').count()['author'].reset_index()\n",
    "comments_time = comments_time.rename(columns={'author': 'count'})\n",
    "comments_time_total = comments_time.groupby('createdAt').agg({\"count\": \"sum\"}).reset_index()\n",
    "ch1 = alt.Chart(comments_time, width=600).mark_line().encode(\n",
    "    x='createdAt',\n",
    "    y='count',\n",
    "    color='repo',\n",
    "    tooltip=\"repo\"\n",
    ")\n",
    "\n",
    "ch2 = alt.Chart(comments_time_total, width=600).mark_line(color=\"black\").encode(\n",
    "    x='createdAt',\n",
    "    y='count',\n",
    ")\n",
    "\n",
    "ch1 + ch2"
   ]
  },
  {
   "cell_type": "markdown",
   "metadata": {
    "papermill": {
     "duration": 0.015367,
     "end_time": "2020-07-21T01:14:11.947048",
     "exception": false,
     "start_time": "2020-07-21T01:14:11.931681",
     "status": "completed"
    },
    "tags": []
   },
   "source": [
    "## PRs"
   ]
  },
  {
   "cell_type": "code",
   "execution_count": 14,
   "metadata": {
    "execution": {
     "iopub.execute_input": "2020-07-21T01:14:12.026486Z",
     "iopub.status.busy": "2020-07-21T01:14:12.012273Z",
     "iopub.status.idle": "2020-07-21T01:14:12.100077Z",
     "shell.execute_reply": "2020-07-21T01:14:12.099533Z"
    },
    "papermill": {
     "duration": 0.136344,
     "end_time": "2020-07-21T01:14:12.100223",
     "exception": false,
     "start_time": "2020-07-21T01:14:11.963879",
     "status": "completed"
    },
    "tags": [
     "hide_input"
    ]
   },
   "outputs": [
    {
     "data": {
      "text/html": [
       "\n",
       "<div id=\"altair-viz-1a498f96aa4e4c65b22a75a7a785058e\"></div>\n",
       "<script type=\"text/javascript\">\n",
       "  (function(spec, embedOpt){\n",
       "    let outputDiv = document.currentScript.previousElementSibling;\n",
       "    if (outputDiv.id !== \"altair-viz-1a498f96aa4e4c65b22a75a7a785058e\") {\n",
       "      outputDiv = document.getElementById(\"altair-viz-1a498f96aa4e4c65b22a75a7a785058e\");\n",
       "    }\n",
       "    const paths = {\n",
       "      \"vega\": \"https://cdn.jsdelivr.net/npm//vega@5?noext\",\n",
       "      \"vega-lib\": \"https://cdn.jsdelivr.net/npm//vega-lib?noext\",\n",
       "      \"vega-lite\": \"https://cdn.jsdelivr.net/npm//vega-lite@4.8.1?noext\",\n",
       "      \"vega-embed\": \"https://cdn.jsdelivr.net/npm//vega-embed@6?noext\",\n",
       "    };\n",
       "\n",
       "    function loadScript(lib) {\n",
       "      return new Promise(function(resolve, reject) {\n",
       "        var s = document.createElement('script');\n",
       "        s.src = paths[lib];\n",
       "        s.async = true;\n",
       "        s.onload = () => resolve(paths[lib]);\n",
       "        s.onerror = () => reject(`Error loading script: ${paths[lib]}`);\n",
       "        document.getElementsByTagName(\"head\")[0].appendChild(s);\n",
       "      });\n",
       "    }\n",
       "\n",
       "    function showError(err) {\n",
       "      outputDiv.innerHTML = `<div class=\"error\" style=\"color:red;\">${err}</div>`;\n",
       "      throw err;\n",
       "    }\n",
       "\n",
       "    function displayChart(vegaEmbed) {\n",
       "      vegaEmbed(outputDiv, spec, embedOpt)\n",
       "        .catch(err => showError(`Javascript Error: ${err.message}<br>This usually means there's a typo in your chart specification. See the javascript console for the full traceback.`));\n",
       "    }\n",
       "\n",
       "    if(typeof define === \"function\" && define.amd) {\n",
       "      requirejs.config({paths});\n",
       "      require([\"vega-embed\"], displayChart, err => showError(`Error loading script: ${err.message}`));\n",
       "    } else if (typeof vegaEmbed === \"function\") {\n",
       "      displayChart(vegaEmbed);\n",
       "    } else {\n",
       "      loadScript(\"vega\")\n",
       "        .then(() => loadScript(\"vega-lite\"))\n",
       "        .then(() => loadScript(\"vega-embed\"))\n",
       "        .catch(showError)\n",
       "        .then(() => displayChart(vegaEmbed));\n",
       "    }\n",
       "  })({\"config\": {\"axisLeft\": {\"labelFontSize\": 15}, \"axisBottom\": {\"labelFontSize\": 15}}, \"layer\": [{\"data\": {\"name\": \"data-82dc7be88fc122f217c52681a16d5bda\"}, \"mark\": \"line\", \"encoding\": {\"color\": {\"type\": \"nominal\", \"field\": \"repo\"}, \"tooltip\": {\"type\": \"nominal\", \"field\": \"repo\"}, \"x\": {\"type\": \"temporal\", \"field\": \"createdAt\"}, \"y\": {\"type\": \"quantitative\", \"field\": \"count\"}}, \"width\": 600}, {\"data\": {\"name\": \"data-da1d392e9ec3b733aed2555c17d5f589\"}, \"mark\": {\"type\": \"line\", \"color\": \"black\"}, \"encoding\": {\"x\": {\"type\": \"temporal\", \"field\": \"createdAt\"}, \"y\": {\"type\": \"quantitative\", \"field\": \"count\"}}, \"width\": 600}], \"$schema\": \"https://vega.github.io/schema/vega-lite/v4.8.1.json\", \"datasets\": {\"data-82dc7be88fc122f217c52681a16d5bda\": [{\"repo\": \"MyST-NB\", \"createdAt\": \"2020-05-31T00:00:00\", \"count\": 1}, {\"repo\": \"MyST-NB\", \"createdAt\": \"2020-06-07T00:00:00\", \"count\": 1}, {\"repo\": \"MyST-NB\", \"createdAt\": \"2020-06-14T00:00:00\", \"count\": 4}, {\"repo\": \"MyST-NB\", \"createdAt\": \"2020-06-21T00:00:00\", \"count\": 0}, {\"repo\": \"MyST-NB\", \"createdAt\": \"2020-06-28T00:00:00\", \"count\": 1}, {\"repo\": \"MyST-NB\", \"createdAt\": \"2020-07-05T00:00:00\", \"count\": 1}, {\"repo\": \"MyST-NB\", \"createdAt\": \"2020-07-12T00:00:00\", \"count\": 0}, {\"repo\": \"MyST-NB\", \"createdAt\": \"2020-07-19T00:00:00\", \"count\": 1}, {\"repo\": \"MyST-Parser\", \"createdAt\": \"2020-05-31T00:00:00\", \"count\": 2}, {\"repo\": \"MyST-Parser\", \"createdAt\": \"2020-06-07T00:00:00\", \"count\": 1}, {\"repo\": \"MyST-Parser\", \"createdAt\": \"2020-06-14T00:00:00\", \"count\": 1}, {\"repo\": \"MyST-Parser\", \"createdAt\": \"2020-06-21T00:00:00\", \"count\": 0}, {\"repo\": \"MyST-Parser\", \"createdAt\": \"2020-06-28T00:00:00\", \"count\": 4}, {\"repo\": \"MyST-Parser\", \"createdAt\": \"2020-07-05T00:00:00\", \"count\": 0}, {\"repo\": \"MyST-Parser\", \"createdAt\": \"2020-07-12T00:00:00\", \"count\": 1}, {\"repo\": \"binder\", \"createdAt\": \"2020-06-28T00:00:00\", \"count\": 1}, {\"repo\": \"binder-data\", \"createdAt\": \"2020-06-21T00:00:00\", \"count\": 1}, {\"repo\": \"enhancement-proposals\", \"createdAt\": \"2020-06-07T00:00:00\", \"count\": 1}, {\"repo\": \"enhancement-proposals\", \"createdAt\": \"2020-06-14T00:00:00\", \"count\": 1}, {\"repo\": \"enhancement-proposals\", \"createdAt\": \"2020-06-21T00:00:00\", \"count\": 1}, {\"repo\": \"governance\", \"createdAt\": \"2020-05-31T00:00:00\", \"count\": 1}, {\"repo\": \"jupyter\", \"createdAt\": \"2020-06-07T00:00:00\", \"count\": 1}, {\"repo\": \"jupyter\", \"createdAt\": \"2020-06-14T00:00:00\", \"count\": 0}, {\"repo\": \"jupyter\", \"createdAt\": \"2020-06-21T00:00:00\", \"count\": 0}, {\"repo\": \"jupyter\", \"createdAt\": \"2020-06-28T00:00:00\", \"count\": 1}, {\"repo\": \"jupyter\", \"createdAt\": \"2020-07-05T00:00:00\", \"count\": 0}, {\"repo\": \"jupyter\", \"createdAt\": \"2020-07-12T00:00:00\", \"count\": 1}, {\"repo\": \"jupyter-book\", \"createdAt\": \"2020-05-24T00:00:00\", \"count\": 3}, {\"repo\": \"jupyter-book\", \"createdAt\": \"2020-05-31T00:00:00\", \"count\": 3}, {\"repo\": \"jupyter-book\", \"createdAt\": \"2020-06-07T00:00:00\", \"count\": 4}, {\"repo\": \"jupyter-book\", \"createdAt\": \"2020-06-14T00:00:00\", \"count\": 3}, {\"repo\": \"jupyter-book\", \"createdAt\": \"2020-06-21T00:00:00\", \"count\": 0}, {\"repo\": \"jupyter-book\", \"createdAt\": \"2020-06-28T00:00:00\", \"count\": 2}, {\"repo\": \"jupyter-book\", \"createdAt\": \"2020-07-05T00:00:00\", \"count\": 1}, {\"repo\": \"jupyter-book\", \"createdAt\": \"2020-07-12T00:00:00\", \"count\": 2}, {\"repo\": \"jupyter-sphinx\", \"createdAt\": \"2020-06-28T00:00:00\", \"count\": 1}, {\"repo\": \"meta\", \"createdAt\": \"2020-06-07T00:00:00\", \"count\": 1}, {\"repo\": \"mybinder.org-deploy\", \"createdAt\": \"2020-07-19T00:00:00\", \"count\": 1}, {\"repo\": \"nbgitpuller\", \"createdAt\": \"2020-06-28T00:00:00\", \"count\": 1}, {\"repo\": \"nbgitpuller\", \"createdAt\": \"2020-07-05T00:00:00\", \"count\": 2}, {\"repo\": \"sphinx-book-theme\", \"createdAt\": \"2020-05-31T00:00:00\", \"count\": 4}, {\"repo\": \"sphinx-book-theme\", \"createdAt\": \"2020-06-07T00:00:00\", \"count\": 2}, {\"repo\": \"sphinx-book-theme\", \"createdAt\": \"2020-06-14T00:00:00\", \"count\": 1}, {\"repo\": \"sphinx-book-theme\", \"createdAt\": \"2020-06-21T00:00:00\", \"count\": 1}, {\"repo\": \"sphinx-book-theme\", \"createdAt\": \"2020-06-28T00:00:00\", \"count\": 2}, {\"repo\": \"sphinx-book-theme\", \"createdAt\": \"2020-07-05T00:00:00\", \"count\": 3}, {\"repo\": \"sphinx-book-theme\", \"createdAt\": \"2020-07-12T00:00:00\", \"count\": 1}, {\"repo\": \"sphinx-thebe\", \"createdAt\": \"2020-07-05T00:00:00\", \"count\": 3}, {\"repo\": \"sphinx-thebe\", \"createdAt\": \"2020-07-12T00:00:00\", \"count\": 2}, {\"repo\": \"sphinx-togglebutton\", \"createdAt\": \"2020-06-14T00:00:00\", \"count\": 1}, {\"repo\": \"team-compass\", \"createdAt\": \"2020-06-14T00:00:00\", \"count\": 1}, {\"repo\": \"team-compass\", \"createdAt\": \"2020-06-21T00:00:00\", \"count\": 0}, {\"repo\": \"team-compass\", \"createdAt\": \"2020-06-28T00:00:00\", \"count\": 1}, {\"repo\": \"zero-to-jupyterhub-k8s\", \"createdAt\": \"2020-07-05T00:00:00\", \"count\": 1}], \"data-da1d392e9ec3b733aed2555c17d5f589\": [{\"createdAt\": \"2020-05-24T00:00:00\", \"count\": 3}, {\"createdAt\": \"2020-05-31T00:00:00\", \"count\": 11}, {\"createdAt\": \"2020-06-07T00:00:00\", \"count\": 11}, {\"createdAt\": \"2020-06-14T00:00:00\", \"count\": 12}, {\"createdAt\": \"2020-06-21T00:00:00\", \"count\": 3}, {\"createdAt\": \"2020-06-28T00:00:00\", \"count\": 14}, {\"createdAt\": \"2020-07-05T00:00:00\", \"count\": 11}, {\"createdAt\": \"2020-07-12T00:00:00\", \"count\": 7}, {\"createdAt\": \"2020-07-19T00:00:00\", \"count\": 2}]}}, {\"mode\": \"vega-lite\"});\n",
       "</script>"
      ],
      "text/plain": [
       "alt.LayerChart(...)"
      ]
     },
     "execution_count": 14,
     "metadata": {},
     "output_type": "execute_result"
    }
   ],
   "source": [
    "prs_time = prs.groupby('repo').resample('W', on='createdAt').count()['author'].reset_index()\n",
    "prs_time = prs_time.rename(columns={'author': 'count'})\n",
    "prs_time_total = prs_time.groupby('createdAt').agg({\"count\": \"sum\"}).reset_index()\n",
    "\n",
    "ch1 = alt.Chart(prs_time, width=600).mark_line().encode(\n",
    "    x='createdAt',\n",
    "    y='count',\n",
    "    color='repo',\n",
    "    tooltip=\"repo\"\n",
    ")\n",
    "\n",
    "ch2 = alt.Chart(prs_time_total, width=600).mark_line(color=\"black\").encode(\n",
    "    x='createdAt',\n",
    "    y='count',\n",
    ")\n",
    "\n",
    "ch1 + ch2"
   ]
  },
  {
   "cell_type": "code",
   "execution_count": 15,
   "metadata": {
    "execution": {
     "iopub.execute_input": "2020-07-21T01:14:12.140472Z",
     "iopub.status.busy": "2020-07-21T01:14:12.139817Z",
     "iopub.status.idle": "2020-07-21T01:14:12.255065Z",
     "shell.execute_reply": "2020-07-21T01:14:12.254439Z"
    },
    "papermill": {
     "duration": 0.13856,
     "end_time": "2020-07-21T01:14:12.255200",
     "exception": false,
     "start_time": "2020-07-21T01:14:12.116640",
     "status": "completed"
    },
    "tags": [
     "hide_input"
    ]
   },
   "outputs": [
    {
     "data": {
      "text/html": [
       "\n",
       "<div id=\"altair-viz-580d45633f5f4b10a32d3eb41d97eea0\"></div>\n",
       "<script type=\"text/javascript\">\n",
       "  (function(spec, embedOpt){\n",
       "    let outputDiv = document.currentScript.previousElementSibling;\n",
       "    if (outputDiv.id !== \"altair-viz-580d45633f5f4b10a32d3eb41d97eea0\") {\n",
       "      outputDiv = document.getElementById(\"altair-viz-580d45633f5f4b10a32d3eb41d97eea0\");\n",
       "    }\n",
       "    const paths = {\n",
       "      \"vega\": \"https://cdn.jsdelivr.net/npm//vega@5?noext\",\n",
       "      \"vega-lib\": \"https://cdn.jsdelivr.net/npm//vega-lib?noext\",\n",
       "      \"vega-lite\": \"https://cdn.jsdelivr.net/npm//vega-lite@4.8.1?noext\",\n",
       "      \"vega-embed\": \"https://cdn.jsdelivr.net/npm//vega-embed@6?noext\",\n",
       "    };\n",
       "\n",
       "    function loadScript(lib) {\n",
       "      return new Promise(function(resolve, reject) {\n",
       "        var s = document.createElement('script');\n",
       "        s.src = paths[lib];\n",
       "        s.async = true;\n",
       "        s.onload = () => resolve(paths[lib]);\n",
       "        s.onerror = () => reject(`Error loading script: ${paths[lib]}`);\n",
       "        document.getElementsByTagName(\"head\")[0].appendChild(s);\n",
       "      });\n",
       "    }\n",
       "\n",
       "    function showError(err) {\n",
       "      outputDiv.innerHTML = `<div class=\"error\" style=\"color:red;\">${err}</div>`;\n",
       "      throw err;\n",
       "    }\n",
       "\n",
       "    function displayChart(vegaEmbed) {\n",
       "      vegaEmbed(outputDiv, spec, embedOpt)\n",
       "        .catch(err => showError(`Javascript Error: ${err.message}<br>This usually means there's a typo in your chart specification. See the javascript console for the full traceback.`));\n",
       "    }\n",
       "\n",
       "    if(typeof define === \"function\" && define.amd) {\n",
       "      requirejs.config({paths});\n",
       "      require([\"vega-embed\"], displayChart, err => showError(`Error loading script: ${err.message}`));\n",
       "    } else if (typeof vegaEmbed === \"function\") {\n",
       "      displayChart(vegaEmbed);\n",
       "    } else {\n",
       "      loadScript(\"vega\")\n",
       "        .then(() => loadScript(\"vega-lite\"))\n",
       "        .then(() => loadScript(\"vega-embed\"))\n",
       "        .catch(showError)\n",
       "        .then(() => displayChart(vegaEmbed));\n",
       "    }\n",
       "  })({\"config\": {\"axisLeft\": {\"labelFontSize\": 15}, \"axisBottom\": {\"labelFontSize\": 15}}, \"data\": {\"name\": \"data-870490f0b5fc658cc711453834dda5e3\"}, \"mark\": \"line\", \"encoding\": {\"color\": {\"type\": \"nominal\", \"field\": \"repo\"}, \"tooltip\": {\"type\": \"nominal\", \"field\": \"repo\"}, \"x\": {\"type\": \"temporal\", \"field\": \"closedAt\"}, \"y\": {\"type\": \"quantitative\", \"field\": \"count\"}}, \"width\": 600, \"$schema\": \"https://vega.github.io/schema/vega-lite/v4.8.1.json\", \"datasets\": {\"data-870490f0b5fc658cc711453834dda5e3\": [{\"repo\": \".github\", \"closedAt\": \"2020-07-05T00:00:00\", \"count\": 1}, {\"repo\": \"MyST-NB\", \"closedAt\": \"2020-06-14T00:00:00\", \"count\": 6}, {\"repo\": \"MyST-NB\", \"closedAt\": \"2020-06-21T00:00:00\", \"count\": 2}, {\"repo\": \"MyST-NB\", \"closedAt\": \"2020-06-28T00:00:00\", \"count\": 1}, {\"repo\": \"MyST-NB\", \"closedAt\": \"2020-07-05T00:00:00\", \"count\": 0}, {\"repo\": \"MyST-NB\", \"closedAt\": \"2020-07-12T00:00:00\", \"count\": 0}, {\"repo\": \"MyST-NB\", \"closedAt\": \"2020-07-19T00:00:00\", \"count\": 1}, {\"repo\": \"MyST-Parser\", \"closedAt\": \"2020-05-31T00:00:00\", \"count\": 2}, {\"repo\": \"MyST-Parser\", \"closedAt\": \"2020-06-07T00:00:00\", \"count\": 2}, {\"repo\": \"MyST-Parser\", \"closedAt\": \"2020-06-14T00:00:00\", \"count\": 2}, {\"repo\": \"MyST-Parser\", \"closedAt\": \"2020-06-21T00:00:00\", \"count\": 1}, {\"repo\": \"MyST-Parser\", \"closedAt\": \"2020-06-28T00:00:00\", \"count\": 1}, {\"repo\": \"MyST-Parser\", \"closedAt\": \"2020-07-05T00:00:00\", \"count\": 0}, {\"repo\": \"MyST-Parser\", \"closedAt\": \"2020-07-12T00:00:00\", \"count\": 1}, {\"repo\": \"MyST-Parser\", \"closedAt\": \"2020-07-19T00:00:00\", \"count\": 1}, {\"repo\": \"binder\", \"closedAt\": \"2020-06-28T00:00:00\", \"count\": 1}, {\"repo\": \"binder\", \"closedAt\": \"2020-07-05T00:00:00\", \"count\": 0}, {\"repo\": \"binder\", \"closedAt\": \"2020-07-12T00:00:00\", \"count\": 0}, {\"repo\": \"binder\", \"closedAt\": \"2020-07-19T00:00:00\", \"count\": 2}, {\"repo\": \"binder\", \"closedAt\": \"2020-07-26T00:00:00\", \"count\": 1}, {\"repo\": \"binder-data\", \"closedAt\": \"2020-06-21T00:00:00\", \"count\": 1}, {\"repo\": \"dockerspawner\", \"closedAt\": \"2020-06-28T00:00:00\", \"count\": 2}, {\"repo\": \"jupyter\", \"closedAt\": \"2020-06-14T00:00:00\", \"count\": 2}, {\"repo\": \"jupyter\", \"closedAt\": \"2020-06-21T00:00:00\", \"count\": 1}, {\"repo\": \"jupyter\", \"closedAt\": \"2020-06-28T00:00:00\", \"count\": 1}, {\"repo\": \"jupyter\", \"closedAt\": \"2020-07-05T00:00:00\", \"count\": 2}, {\"repo\": \"jupyter\", \"closedAt\": \"2020-07-12T00:00:00\", \"count\": 2}, {\"repo\": \"jupyter-book\", \"closedAt\": \"2020-05-24T00:00:00\", \"count\": 4}, {\"repo\": \"jupyter-book\", \"closedAt\": \"2020-05-31T00:00:00\", \"count\": 11}, {\"repo\": \"jupyter-book\", \"closedAt\": \"2020-06-07T00:00:00\", \"count\": 9}, {\"repo\": \"jupyter-book\", \"closedAt\": \"2020-06-14T00:00:00\", \"count\": 5}, {\"repo\": \"jupyter-book\", \"closedAt\": \"2020-06-21T00:00:00\", \"count\": 2}, {\"repo\": \"jupyter-book\", \"closedAt\": \"2020-06-28T00:00:00\", \"count\": 4}, {\"repo\": \"jupyter-book\", \"closedAt\": \"2020-07-05T00:00:00\", \"count\": 2}, {\"repo\": \"jupyter-book\", \"closedAt\": \"2020-07-12T00:00:00\", \"count\": 2}, {\"repo\": \"jupyter-book\", \"closedAt\": \"2020-07-19T00:00:00\", \"count\": 2}, {\"repo\": \"jupyter-cache\", \"closedAt\": \"2020-06-21T00:00:00\", \"count\": 1}, {\"repo\": \"jupyter-cache\", \"closedAt\": \"2020-06-28T00:00:00\", \"count\": 1}, {\"repo\": \"jupyter.github.io\", \"closedAt\": \"2020-06-28T00:00:00\", \"count\": 1}, {\"repo\": \"jupyter.github.io\", \"closedAt\": \"2020-07-05T00:00:00\", \"count\": 0}, {\"repo\": \"jupyter.github.io\", \"closedAt\": \"2020-07-12T00:00:00\", \"count\": 0}, {\"repo\": \"jupyter.github.io\", \"closedAt\": \"2020-07-19T00:00:00\", \"count\": 2}, {\"repo\": \"jupyterhub\", \"closedAt\": \"2020-07-12T00:00:00\", \"count\": 1}, {\"repo\": \"meta\", \"closedAt\": \"2020-06-07T00:00:00\", \"count\": 1}, {\"repo\": \"meta\", \"closedAt\": \"2020-06-14T00:00:00\", \"count\": 0}, {\"repo\": \"meta\", \"closedAt\": \"2020-06-21T00:00:00\", \"count\": 1}, {\"repo\": \"mybinder.org-deploy\", \"closedAt\": \"2020-05-24T00:00:00\", \"count\": 1}, {\"repo\": \"mybinder.org-deploy\", \"closedAt\": \"2020-05-31T00:00:00\", \"count\": 1}, {\"repo\": \"mybinder.org-deploy\", \"closedAt\": \"2020-06-07T00:00:00\", \"count\": 0}, {\"repo\": \"mybinder.org-deploy\", \"closedAt\": \"2020-06-14T00:00:00\", \"count\": 0}, {\"repo\": \"mybinder.org-deploy\", \"closedAt\": \"2020-06-21T00:00:00\", \"count\": 0}, {\"repo\": \"mybinder.org-deploy\", \"closedAt\": \"2020-06-28T00:00:00\", \"count\": 0}, {\"repo\": \"mybinder.org-deploy\", \"closedAt\": \"2020-07-05T00:00:00\", \"count\": 0}, {\"repo\": \"mybinder.org-deploy\", \"closedAt\": \"2020-07-12T00:00:00\", \"count\": 0}, {\"repo\": \"mybinder.org-deploy\", \"closedAt\": \"2020-07-19T00:00:00\", \"count\": 1}, {\"repo\": \"nbgitpuller\", \"closedAt\": \"2020-06-28T00:00:00\", \"count\": 1}, {\"repo\": \"nbgitpuller\", \"closedAt\": \"2020-07-05T00:00:00\", \"count\": 3}, {\"repo\": \"nbgitpuller\", \"closedAt\": \"2020-07-12T00:00:00\", \"count\": 1}, {\"repo\": \"quantecon-mini-example\", \"closedAt\": \"2020-06-21T00:00:00\", \"count\": 1}, {\"repo\": \"repo2docker\", \"closedAt\": \"2020-06-14T00:00:00\", \"count\": 1}, {\"repo\": \"sphinx-book-theme\", \"closedAt\": \"2020-05-24T00:00:00\", \"count\": 1}, {\"repo\": \"sphinx-book-theme\", \"closedAt\": \"2020-05-31T00:00:00\", \"count\": 3}, {\"repo\": \"sphinx-book-theme\", \"closedAt\": \"2020-06-07T00:00:00\", \"count\": 2}, {\"repo\": \"sphinx-book-theme\", \"closedAt\": \"2020-06-14T00:00:00\", \"count\": 1}, {\"repo\": \"sphinx-book-theme\", \"closedAt\": \"2020-06-21T00:00:00\", \"count\": 2}, {\"repo\": \"sphinx-book-theme\", \"closedAt\": \"2020-06-28T00:00:00\", \"count\": 2}, {\"repo\": \"sphinx-book-theme\", \"closedAt\": \"2020-07-05T00:00:00\", \"count\": 3}, {\"repo\": \"sphinx-book-theme\", \"closedAt\": \"2020-07-12T00:00:00\", \"count\": 0}, {\"repo\": \"sphinx-book-theme\", \"closedAt\": \"2020-07-19T00:00:00\", \"count\": 4}, {\"repo\": \"sphinx-copybutton\", \"closedAt\": \"2020-06-21T00:00:00\", \"count\": 2}, {\"repo\": \"sphinx-thebe\", \"closedAt\": \"2020-07-05T00:00:00\", \"count\": 3}, {\"repo\": \"sphinx-thebe\", \"closedAt\": \"2020-07-12T00:00:00\", \"count\": 1}, {\"repo\": \"sphinx-thebe\", \"closedAt\": \"2020-07-19T00:00:00\", \"count\": 1}, {\"repo\": \"sphinx-togglebutton\", \"closedAt\": \"2020-06-14T00:00:00\", \"count\": 1}, {\"repo\": \"team-compass\", \"closedAt\": \"2020-06-28T00:00:00\", \"count\": 2}, {\"repo\": \"team-compass\", \"closedAt\": \"2020-07-05T00:00:00\", \"count\": 1}, {\"repo\": \"zero-to-jupyterhub-k8s\", \"closedAt\": \"2020-07-05T00:00:00\", \"count\": 1}]}}, {\"mode\": \"vega-lite\"});\n",
       "</script>"
      ],
      "text/plain": [
       "alt.Chart(...)"
      ]
     },
     "execution_count": 15,
     "metadata": {},
     "output_type": "execute_result"
    }
   ],
   "source": [
    "closed_by_time = closed_by.groupby('repo').resample('W', on='closedAt').count()['author'].reset_index()\n",
    "closed_by_time = closed_by_time.rename(columns={'author': 'count'})\n",
    "\n",
    "alt.Chart(closed_by_time, width=600).mark_line().encode(\n",
    "    x='closedAt',\n",
    "    y='count',\n",
    "    color='repo',\n",
    "    tooltip=\"repo\"\n",
    ")"
   ]
  },
  {
   "cell_type": "markdown",
   "metadata": {
    "papermill": {
     "duration": 0.016178,
     "end_time": "2020-07-21T01:14:12.289100",
     "exception": false,
     "start_time": "2020-07-21T01:14:12.272922",
     "status": "completed"
    },
    "tags": []
   },
   "source": [
    "# By type over time"
   ]
  },
  {
   "cell_type": "code",
   "execution_count": 16,
   "metadata": {
    "execution": {
     "iopub.execute_input": "2020-07-21T01:14:12.337102Z",
     "iopub.status.busy": "2020-07-21T01:14:12.336552Z",
     "iopub.status.idle": "2020-07-21T01:14:12.351172Z",
     "shell.execute_reply": "2020-07-21T01:14:12.350765Z"
    },
    "papermill": {
     "duration": 0.045906,
     "end_time": "2020-07-21T01:14:12.351288",
     "exception": false,
     "start_time": "2020-07-21T01:14:12.305382",
     "status": "completed"
    },
    "tags": [
     "remove_cell"
    ]
   },
   "outputs": [],
   "source": [
    "prs_time = prs[['author', 'createdAt']].resample('W', on='createdAt').count()['author'].reset_index()\n",
    "prs_time = prs_time.rename(columns={'author': 'prs'})\n",
    "comments_time = comments[['author', 'createdAt']].resample('W', on='createdAt').count()['author'].reset_index()\n",
    "comments_time = comments_time.rename(columns={'author': 'comments'})\n",
    "\n",
    "total_time = pd.merge(prs_time, comments_time, on='createdAt', how='outer')\n",
    "total_time = total_time.melt(id_vars='createdAt', var_name=\"kind\", value_name=\"count\")\n"
   ]
  },
  {
   "cell_type": "code",
   "execution_count": 17,
   "metadata": {
    "execution": {
     "iopub.execute_input": "2020-07-21T01:14:12.408605Z",
     "iopub.status.busy": "2020-07-21T01:14:12.397153Z",
     "iopub.status.idle": "2020-07-21T01:14:12.410889Z",
     "shell.execute_reply": "2020-07-21T01:14:12.411458Z"
    },
    "papermill": {
     "duration": 0.043856,
     "end_time": "2020-07-21T01:14:12.411627",
     "exception": false,
     "start_time": "2020-07-21T01:14:12.367771",
     "status": "completed"
    },
    "tags": [
     "hide_input"
    ]
   },
   "outputs": [
    {
     "data": {
      "text/html": [
       "\n",
       "<div id=\"altair-viz-961d88f439824cc88316752e5baaca04\"></div>\n",
       "<script type=\"text/javascript\">\n",
       "  (function(spec, embedOpt){\n",
       "    let outputDiv = document.currentScript.previousElementSibling;\n",
       "    if (outputDiv.id !== \"altair-viz-961d88f439824cc88316752e5baaca04\") {\n",
       "      outputDiv = document.getElementById(\"altair-viz-961d88f439824cc88316752e5baaca04\");\n",
       "    }\n",
       "    const paths = {\n",
       "      \"vega\": \"https://cdn.jsdelivr.net/npm//vega@5?noext\",\n",
       "      \"vega-lib\": \"https://cdn.jsdelivr.net/npm//vega-lib?noext\",\n",
       "      \"vega-lite\": \"https://cdn.jsdelivr.net/npm//vega-lite@4.8.1?noext\",\n",
       "      \"vega-embed\": \"https://cdn.jsdelivr.net/npm//vega-embed@6?noext\",\n",
       "    };\n",
       "\n",
       "    function loadScript(lib) {\n",
       "      return new Promise(function(resolve, reject) {\n",
       "        var s = document.createElement('script');\n",
       "        s.src = paths[lib];\n",
       "        s.async = true;\n",
       "        s.onload = () => resolve(paths[lib]);\n",
       "        s.onerror = () => reject(`Error loading script: ${paths[lib]}`);\n",
       "        document.getElementsByTagName(\"head\")[0].appendChild(s);\n",
       "      });\n",
       "    }\n",
       "\n",
       "    function showError(err) {\n",
       "      outputDiv.innerHTML = `<div class=\"error\" style=\"color:red;\">${err}</div>`;\n",
       "      throw err;\n",
       "    }\n",
       "\n",
       "    function displayChart(vegaEmbed) {\n",
       "      vegaEmbed(outputDiv, spec, embedOpt)\n",
       "        .catch(err => showError(`Javascript Error: ${err.message}<br>This usually means there's a typo in your chart specification. See the javascript console for the full traceback.`));\n",
       "    }\n",
       "\n",
       "    if(typeof define === \"function\" && define.amd) {\n",
       "      requirejs.config({paths});\n",
       "      require([\"vega-embed\"], displayChart, err => showError(`Error loading script: ${err.message}`));\n",
       "    } else if (typeof vegaEmbed === \"function\") {\n",
       "      displayChart(vegaEmbed);\n",
       "    } else {\n",
       "      loadScript(\"vega\")\n",
       "        .then(() => loadScript(\"vega-lite\"))\n",
       "        .then(() => loadScript(\"vega-embed\"))\n",
       "        .catch(showError)\n",
       "        .then(() => displayChart(vegaEmbed));\n",
       "    }\n",
       "  })({\"config\": {\"axisLeft\": {\"labelFontSize\": 15}, \"axisBottom\": {\"labelFontSize\": 15}}, \"data\": {\"name\": \"data-d4d365fae19ec5b09754b933e269824b\"}, \"mark\": \"line\", \"encoding\": {\"color\": {\"type\": \"nominal\", \"field\": \"kind\"}, \"x\": {\"type\": \"temporal\", \"field\": \"createdAt\"}, \"y\": {\"type\": \"quantitative\", \"field\": \"count\"}}, \"width\": 600, \"$schema\": \"https://vega.github.io/schema/vega-lite/v4.8.1.json\", \"datasets\": {\"data-d4d365fae19ec5b09754b933e269824b\": [{\"createdAt\": \"2020-05-24T00:00:00\", \"kind\": \"prs\", \"count\": 3.0}, {\"createdAt\": \"2020-05-31T00:00:00\", \"kind\": \"prs\", \"count\": 11.0}, {\"createdAt\": \"2020-06-07T00:00:00\", \"kind\": \"prs\", \"count\": 11.0}, {\"createdAt\": \"2020-06-14T00:00:00\", \"kind\": \"prs\", \"count\": 12.0}, {\"createdAt\": \"2020-06-21T00:00:00\", \"kind\": \"prs\", \"count\": 3.0}, {\"createdAt\": \"2020-06-28T00:00:00\", \"kind\": \"prs\", \"count\": 14.0}, {\"createdAt\": \"2020-07-05T00:00:00\", \"kind\": \"prs\", \"count\": 11.0}, {\"createdAt\": \"2020-07-12T00:00:00\", \"kind\": \"prs\", \"count\": 7.0}, {\"createdAt\": \"2020-07-19T00:00:00\", \"kind\": \"prs\", \"count\": 2.0}, {\"createdAt\": \"2020-07-26T00:00:00\", \"kind\": \"prs\", \"count\": null}, {\"createdAt\": \"2020-05-24T00:00:00\", \"kind\": \"comments\", \"count\": 31.0}, {\"createdAt\": \"2020-05-31T00:00:00\", \"kind\": \"comments\", \"count\": 106.0}, {\"createdAt\": \"2020-06-07T00:00:00\", \"kind\": \"comments\", \"count\": 116.0}, {\"createdAt\": \"2020-06-14T00:00:00\", \"kind\": \"comments\", \"count\": 84.0}, {\"createdAt\": \"2020-06-21T00:00:00\", \"kind\": \"comments\", \"count\": 93.0}, {\"createdAt\": \"2020-06-28T00:00:00\", \"kind\": \"comments\", \"count\": 79.0}, {\"createdAt\": \"2020-07-05T00:00:00\", \"kind\": \"comments\", \"count\": 78.0}, {\"createdAt\": \"2020-07-12T00:00:00\", \"kind\": \"comments\", \"count\": 68.0}, {\"createdAt\": \"2020-07-19T00:00:00\", \"kind\": \"comments\", \"count\": 113.0}, {\"createdAt\": \"2020-07-26T00:00:00\", \"kind\": \"comments\", \"count\": 9.0}]}}, {\"mode\": \"vega-lite\"});\n",
       "</script>"
      ],
      "text/plain": [
       "alt.Chart(...)"
      ]
     },
     "execution_count": 17,
     "metadata": {},
     "output_type": "execute_result"
    }
   ],
   "source": [
    "alt.Chart(total_time, width=600).mark_line().encode(\n",
    "    x='createdAt',\n",
    "    y='count',\n",
    "    color='kind'\n",
    ")"
   ]
  }
 ],
 "metadata": {
  "kernelspec": {
   "display_name": "Python 3",
   "language": "python",
   "name": "python3"
  },
  "language_info": {
   "codemirror_mode": {
    "name": "ipython",
    "version": 3
   },
   "file_extension": ".py",
   "mimetype": "text/x-python",
   "name": "python",
   "nbconvert_exporter": "python",
   "pygments_lexer": "ipython3",
   "version": "3.7.8"
  },
  "papermill": {
   "duration": 3.651905,
   "end_time": "2020-07-21T01:14:12.841715",
   "environment_variables": {},
   "exception": null,
   "input_path": "./person.ipynb",
   "output_path": "people/choldgraf.ipynb",
   "parameters": {
    "n_days": 60,
    "person": "choldgraf"
   },
   "start_time": "2020-07-21T01:14:09.189810",
   "version": "2.1.2"
  },
  "widgets": {
   "application/vnd.jupyter.widget-state+json": {
    "state": {},
    "version_major": 2,
    "version_minor": 0
   }
  }
 },
 "nbformat": 4,
 "nbformat_minor": 4
}