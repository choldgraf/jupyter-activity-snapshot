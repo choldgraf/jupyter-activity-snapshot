{
 "cells": [
  {
   "cell_type": "markdown",
   "metadata": {
    "papermill": {
     "duration": 0.014991,
     "end_time": "2020-07-11T01:13:43.833464",
     "exception": false,
     "start_time": "2020-07-11T01:13:43.818473",
     "status": "completed"
    },
    "tags": []
   },
   "source": [
    "# Report for choldgraf"
   ]
  },
  {
   "cell_type": "code",
   "execution_count": 1,
   "metadata": {
    "execution": {
     "iopub.execute_input": "2020-07-11T01:13:43.870542Z",
     "iopub.status.busy": "2020-07-11T01:13:43.869854Z",
     "iopub.status.idle": "2020-07-11T01:13:44.888607Z",
     "shell.execute_reply": "2020-07-11T01:13:44.887915Z"
    },
    "papermill": {
     "duration": 1.039321,
     "end_time": "2020-07-11T01:13:44.888763",
     "exception": false,
     "start_time": "2020-07-11T01:13:43.849442",
     "status": "completed"
    },
    "tags": [
     "remove_cell"
    ]
   },
   "outputs": [],
   "source": [
    "import seaborn as sns\n",
    "import pandas as pd\n",
    "import numpy as np\n",
    "import altair as alt\n",
    "from markdown import markdown\n",
    "from IPython.display import Markdown\n",
    "from ipywidgets.widgets import HTML, Tab\n",
    "from ipywidgets import widgets\n",
    "from datetime import timedelta\n",
    "from matplotlib import pyplot as plt\n",
    "import os.path as op\n",
    "\n",
    "from mycode import alt_theme\n",
    "from warnings import simplefilter\n",
    "simplefilter('ignore')"
   ]
  },
  {
   "cell_type": "code",
   "execution_count": 2,
   "metadata": {
    "execution": {
     "iopub.execute_input": "2020-07-11T01:13:44.927529Z",
     "iopub.status.busy": "2020-07-11T01:13:44.926903Z",
     "iopub.status.idle": "2020-07-11T01:13:44.929626Z",
     "shell.execute_reply": "2020-07-11T01:13:44.929024Z"
    },
    "papermill": {
     "duration": 0.024082,
     "end_time": "2020-07-11T01:13:44.929764",
     "exception": false,
     "start_time": "2020-07-11T01:13:44.905682",
     "status": "completed"
    },
    "tags": [
     "remove_cell"
    ]
   },
   "outputs": [],
   "source": [
    "def author_url(author):\n",
    "    return f\"https://github.com/{author}\""
   ]
  },
  {
   "cell_type": "code",
   "execution_count": 3,
   "metadata": {
    "execution": {
     "iopub.execute_input": "2020-07-11T01:13:44.964616Z",
     "iopub.status.busy": "2020-07-11T01:13:44.963972Z",
     "iopub.status.idle": "2020-07-11T01:13:44.967437Z",
     "shell.execute_reply": "2020-07-11T01:13:44.966899Z"
    },
    "papermill": {
     "duration": 0.023918,
     "end_time": "2020-07-11T01:13:44.967577",
     "exception": false,
     "start_time": "2020-07-11T01:13:44.943659",
     "status": "completed"
    },
    "tags": [
     "parameters",
     "hide_input"
    ]
   },
   "outputs": [],
   "source": [
    "# Parameters\n",
    "fmt_date = \"{:%Y-%m-%d}\"\n",
    "\n",
    "n_days = 30 * 2\n",
    "start_date = fmt_date.format(pd.datetime.today() - timedelta(days=n_days))\n",
    "end_date = fmt_date.format(pd.datetime.today())\n",
    "\n",
    "renderer = \"html\"\n",
    "person = \"jasongrout\""
   ]
  },
  {
   "cell_type": "code",
   "execution_count": 4,
   "metadata": {
    "execution": {
     "iopub.execute_input": "2020-07-11T01:13:45.000696Z",
     "iopub.status.busy": "2020-07-11T01:13:45.000075Z",
     "iopub.status.idle": "2020-07-11T01:13:45.002217Z",
     "shell.execute_reply": "2020-07-11T01:13:45.002857Z"
    },
    "papermill": {
     "duration": 0.021062,
     "end_time": "2020-07-11T01:13:45.003014",
     "exception": false,
     "start_time": "2020-07-11T01:13:44.981952",
     "status": "completed"
    },
    "tags": [
     "injected-parameters",
     "remove-cell"
    ]
   },
   "outputs": [],
   "source": [
    "# Parameters\n",
    "person = \"choldgraf\"\n",
    "n_days = 60\n"
   ]
  },
  {
   "cell_type": "code",
   "execution_count": 5,
   "metadata": {
    "execution": {
     "iopub.execute_input": "2020-07-11T01:13:45.041085Z",
     "iopub.status.busy": "2020-07-11T01:13:45.040436Z",
     "iopub.status.idle": "2020-07-11T01:13:45.043883Z",
     "shell.execute_reply": "2020-07-11T01:13:45.043299Z"
    },
    "papermill": {
     "duration": 0.025335,
     "end_time": "2020-07-11T01:13:45.044024",
     "exception": false,
     "start_time": "2020-07-11T01:13:45.018689",
     "status": "completed"
    },
    "tags": [
     "remove_cell"
    ]
   },
   "outputs": [
    {
     "data": {
      "text/plain": [
       "ThemeRegistry.enable('my_theme')"
      ]
     },
     "execution_count": 5,
     "metadata": {},
     "output_type": "execute_result"
    }
   ],
   "source": [
    "alt.renderers.enable(renderer);\n",
    "alt.themes.register('my_theme', alt_theme)\n",
    "alt.themes.enable(\"my_theme\")"
   ]
  },
  {
   "cell_type": "markdown",
   "metadata": {
    "papermill": {
     "duration": 0.014669,
     "end_time": "2020-07-11T01:13:45.075654",
     "exception": false,
     "start_time": "2020-07-11T01:13:45.060985",
     "status": "completed"
    },
    "tags": []
   },
   "source": [
    "## Load data"
   ]
  },
  {
   "cell_type": "code",
   "execution_count": 6,
   "metadata": {
    "execution": {
     "iopub.execute_input": "2020-07-11T01:13:45.112274Z",
     "iopub.status.busy": "2020-07-11T01:13:45.111634Z",
     "iopub.status.idle": "2020-07-11T01:13:45.289403Z",
     "shell.execute_reply": "2020-07-11T01:13:45.288807Z"
    },
    "papermill": {
     "duration": 0.199265,
     "end_time": "2020-07-11T01:13:45.289562",
     "exception": false,
     "start_time": "2020-07-11T01:13:45.090297",
     "status": "completed"
    },
    "tags": [
     "remove_cell"
    ]
   },
   "outputs": [],
   "source": [
    "from pathlib import Path\n",
    "path_data = Path(\"./\")\n",
    "comments = pd.read_csv(path_data.joinpath('comments.csv'), index_col=0)\n",
    "issues = pd.read_csv(path_data.joinpath('issues.csv'), index_col=0)\n",
    "prs = pd.read_csv(path_data.joinpath('prs.csv'), index_col=0)\n",
    "\n",
    "comments = comments.query('author == @person').drop_duplicates()\n",
    "issues = issues.query('author == @person').drop_duplicates()\n",
    "closed_by = prs.query('mergedBy == @person')\n",
    "prs = prs.query('author == @person').drop_duplicates()"
   ]
  },
  {
   "cell_type": "code",
   "execution_count": 7,
   "metadata": {
    "execution": {
     "iopub.execute_input": "2020-07-11T01:13:45.341862Z",
     "iopub.status.busy": "2020-07-11T01:13:45.332105Z",
     "iopub.status.idle": "2020-07-11T01:13:45.396571Z",
     "shell.execute_reply": "2020-07-11T01:13:45.395787Z"
    },
    "papermill": {
     "duration": 0.090694,
     "end_time": "2020-07-11T01:13:45.396722",
     "exception": false,
     "start_time": "2020-07-11T01:13:45.306028",
     "status": "completed"
    },
    "tags": [
     "remove_cell"
    ]
   },
   "outputs": [],
   "source": [
    "# Time columns\n",
    "# Also drop dates outside of our range\n",
    "time_columns = ['updatedAt', 'createdAt', 'closedAt']\n",
    "for col in time_columns:\n",
    "    for item in [comments, issues, prs, closed_by]:\n",
    "        if col not in item.columns:\n",
    "            continue\n",
    "        dt = pd.to_datetime(item[col]).dt.tz_localize(None)\n",
    "        item[col] = dt\n",
    "        item.query(\"updatedAt < @end_date and updatedAt > @start_date\", inplace=True)"
   ]
  },
  {
   "cell_type": "markdown",
   "metadata": {
    "papermill": {
     "duration": 0.015886,
     "end_time": "2020-07-11T01:13:45.434894",
     "exception": false,
     "start_time": "2020-07-11T01:13:45.419008",
     "status": "completed"
    },
    "tags": []
   },
   "source": [
    "# Repository summaries"
   ]
  },
  {
   "cell_type": "code",
   "execution_count": 8,
   "metadata": {
    "execution": {
     "iopub.execute_input": "2020-07-11T01:13:45.478344Z",
     "iopub.status.busy": "2020-07-11T01:13:45.477471Z",
     "iopub.status.idle": "2020-07-11T01:13:45.495652Z",
     "shell.execute_reply": "2020-07-11T01:13:45.494995Z"
    },
    "papermill": {
     "duration": 0.045795,
     "end_time": "2020-07-11T01:13:45.495797",
     "exception": false,
     "start_time": "2020-07-11T01:13:45.450002",
     "status": "completed"
    },
    "tags": [
     "remove_cell"
    ]
   },
   "outputs": [],
   "source": [
    "summaries = []\n",
    "for idata, name in [(issues, 'issues'), (prs, 'prs'), (comments, 'comments')]:\n",
    "    idata = idata.groupby([\"repo\", \"org\"]).agg({'id': \"count\"}).reset_index().rename(columns={'id': 'count'})\n",
    "    idata[\"kind\"] = name\n",
    "    summaries.append(idata)\n",
    "summaries = pd.concat(summaries)"
   ]
  },
  {
   "cell_type": "code",
   "execution_count": 9,
   "metadata": {
    "execution": {
     "iopub.execute_input": "2020-07-11T01:13:45.538072Z",
     "iopub.status.busy": "2020-07-11T01:13:45.537246Z",
     "iopub.status.idle": "2020-07-11T01:13:45.544829Z",
     "shell.execute_reply": "2020-07-11T01:13:45.545489Z"
    },
    "papermill": {
     "duration": 0.034656,
     "end_time": "2020-07-11T01:13:45.545669",
     "exception": false,
     "start_time": "2020-07-11T01:13:45.511013",
     "status": "completed"
    },
    "tags": [
     "remove_cell"
    ]
   },
   "outputs": [],
   "source": [
    "repo_summaries = summaries.groupby([\"repo\", \"kind\"]).agg({\"count\": \"sum\"}).reset_index()\n",
    "org_summaries = summaries.groupby([\"org\", \"kind\"]).agg({\"count\": \"sum\"}).reset_index()"
   ]
  },
  {
   "cell_type": "code",
   "execution_count": 10,
   "metadata": {
    "execution": {
     "iopub.execute_input": "2020-07-11T01:13:45.587055Z",
     "iopub.status.busy": "2020-07-11T01:13:45.586386Z",
     "iopub.status.idle": "2020-07-11T01:13:45.589187Z",
     "shell.execute_reply": "2020-07-11T01:13:45.588529Z"
    },
    "papermill": {
     "duration": 0.026159,
     "end_time": "2020-07-11T01:13:45.589327",
     "exception": false,
     "start_time": "2020-07-11T01:13:45.563168",
     "status": "completed"
    },
    "tags": [
     "remove_cell"
    ]
   },
   "outputs": [],
   "source": [
    "repo_summaries['logcount'] = np.log(repo_summaries[\"count\"])"
   ]
  },
  {
   "cell_type": "code",
   "execution_count": 11,
   "metadata": {
    "execution": {
     "iopub.execute_input": "2020-07-11T01:13:45.654602Z",
     "iopub.status.busy": "2020-07-11T01:13:45.644145Z",
     "iopub.status.idle": "2020-07-11T01:13:45.690333Z",
     "shell.execute_reply": "2020-07-11T01:13:45.689673Z"
    },
    "papermill": {
     "duration": 0.085319,
     "end_time": "2020-07-11T01:13:45.690510",
     "exception": false,
     "start_time": "2020-07-11T01:13:45.605191",
     "status": "completed"
    },
    "tags": [
     "hide_input"
    ]
   },
   "outputs": [
    {
     "data": {
      "text/html": [
       "\n",
       "<div id=\"altair-viz-ad8ca3dd07b9457d920f51f9b9889bf5\"></div>\n",
       "<script type=\"text/javascript\">\n",
       "  (function(spec, embedOpt){\n",
       "    let outputDiv = document.currentScript.previousElementSibling;\n",
       "    if (outputDiv.id !== \"altair-viz-ad8ca3dd07b9457d920f51f9b9889bf5\") {\n",
       "      outputDiv = document.getElementById(\"altair-viz-ad8ca3dd07b9457d920f51f9b9889bf5\");\n",
       "    }\n",
       "    const paths = {\n",
       "      \"vega\": \"https://cdn.jsdelivr.net/npm//vega@5?noext\",\n",
       "      \"vega-lib\": \"https://cdn.jsdelivr.net/npm//vega-lib?noext\",\n",
       "      \"vega-lite\": \"https://cdn.jsdelivr.net/npm//vega-lite@4.8.1?noext\",\n",
       "      \"vega-embed\": \"https://cdn.jsdelivr.net/npm//vega-embed@6?noext\",\n",
       "    };\n",
       "\n",
       "    function loadScript(lib) {\n",
       "      return new Promise(function(resolve, reject) {\n",
       "        var s = document.createElement('script');\n",
       "        s.src = paths[lib];\n",
       "        s.async = true;\n",
       "        s.onload = () => resolve(paths[lib]);\n",
       "        s.onerror = () => reject(`Error loading script: ${paths[lib]}`);\n",
       "        document.getElementsByTagName(\"head\")[0].appendChild(s);\n",
       "      });\n",
       "    }\n",
       "\n",
       "    function showError(err) {\n",
       "      outputDiv.innerHTML = `<div class=\"error\" style=\"color:red;\">${err}</div>`;\n",
       "      throw err;\n",
       "    }\n",
       "\n",
       "    function displayChart(vegaEmbed) {\n",
       "      vegaEmbed(outputDiv, spec, embedOpt)\n",
       "        .catch(err => showError(`Javascript Error: ${err.message}<br>This usually means there's a typo in your chart specification. See the javascript console for the full traceback.`));\n",
       "    }\n",
       "\n",
       "    if(typeof define === \"function\" && define.amd) {\n",
       "      requirejs.config({paths});\n",
       "      require([\"vega-embed\"], displayChart, err => showError(`Error loading script: ${err.message}`));\n",
       "    } else if (typeof vegaEmbed === \"function\") {\n",
       "      displayChart(vegaEmbed);\n",
       "    } else {\n",
       "      loadScript(\"vega\")\n",
       "        .then(() => loadScript(\"vega-lite\"))\n",
       "        .then(() => loadScript(\"vega-embed\"))\n",
       "        .catch(showError)\n",
       "        .then(() => displayChart(vegaEmbed));\n",
       "    }\n",
       "  })({\"config\": {\"axisLeft\": {\"labelFontSize\": 15}, \"axisBottom\": {\"labelFontSize\": 15}}, \"hconcat\": [{\"mark\": \"bar\", \"encoding\": {\"color\": {\"type\": \"nominal\", \"field\": \"kind\"}, \"tooltip\": {\"type\": \"nominal\", \"field\": \"kind\"}, \"x\": {\"type\": \"nominal\", \"field\": \"repo\"}, \"y\": {\"type\": \"quantitative\", \"field\": \"count\"}}, \"title\": \"Activity per repository\", \"width\": 600}, {\"mark\": \"bar\", \"encoding\": {\"color\": {\"type\": \"nominal\", \"field\": \"kind\"}, \"tooltip\": {\"type\": \"nominal\", \"field\": \"kind\"}, \"x\": {\"type\": \"nominal\", \"field\": \"repo\"}, \"y\": {\"type\": \"quantitative\", \"field\": \"logcount\"}}, \"title\": \"Log activity per repository\", \"width\": 600}], \"data\": {\"name\": \"data-1983c7088931de4dcb29b3be2f13b990\"}, \"$schema\": \"https://vega.github.io/schema/vega-lite/v4.8.1.json\", \"datasets\": {\"data-1983c7088931de4dcb29b3be2f13b990\": [{\"repo\": \".github\", \"kind\": \"comments\", \"count\": 6, \"logcount\": 1.791759469228055}, {\"repo\": \"MyST-NB\", \"kind\": \"comments\", \"count\": 57, \"logcount\": 4.04305126783455}, {\"repo\": \"MyST-NB\", \"kind\": \"issues\", \"count\": 9, \"logcount\": 2.1972245773362196}, {\"repo\": \"MyST-NB\", \"kind\": \"prs\", \"count\": 10, \"logcount\": 2.302585092994046}, {\"repo\": \"MyST-Parser\", \"kind\": \"comments\", \"count\": 60, \"logcount\": 4.0943445622221}, {\"repo\": \"MyST-Parser\", \"kind\": \"issues\", \"count\": 6, \"logcount\": 1.791759469228055}, {\"repo\": \"MyST-Parser\", \"kind\": \"prs\", \"count\": 10, \"logcount\": 2.302585092994046}, {\"repo\": \"binder\", \"kind\": \"comments\", \"count\": 4, \"logcount\": 1.3862943611198906}, {\"repo\": \"binder\", \"kind\": \"prs\", \"count\": 1, \"logcount\": 0.0}, {\"repo\": \"binder-data\", \"kind\": \"prs\", \"count\": 1, \"logcount\": 0.0}, {\"repo\": \"design\", \"kind\": \"comments\", \"count\": 1, \"logcount\": 0.0}, {\"repo\": \"dockerspawner\", \"kind\": \"comments\", \"count\": 3, \"logcount\": 1.0986122886681098}, {\"repo\": \"enhancement-proposals\", \"kind\": \"comments\", \"count\": 17, \"logcount\": 2.833213344056216}, {\"repo\": \"enhancement-proposals\", \"kind\": \"issues\", \"count\": 1, \"logcount\": 0.0}, {\"repo\": \"enhancement-proposals\", \"kind\": \"prs\", \"count\": 3, \"logcount\": 1.0986122886681098}, {\"repo\": \"governance\", \"kind\": \"comments\", \"count\": 12, \"logcount\": 2.4849066497880004}, {\"repo\": \"governance\", \"kind\": \"prs\", \"count\": 2, \"logcount\": 0.6931471805599453}, {\"repo\": \"ipython\", \"kind\": \"comments\", \"count\": 1, \"logcount\": 0.0}, {\"repo\": \"jupyter\", \"kind\": \"comments\", \"count\": 35, \"logcount\": 3.5553480614894135}, {\"repo\": \"jupyter\", \"kind\": \"issues\", \"count\": 2, \"logcount\": 0.6931471805599453}, {\"repo\": \"jupyter\", \"kind\": \"prs\", \"count\": 3, \"logcount\": 1.0986122886681098}, {\"repo\": \"jupyter-book\", \"kind\": \"comments\", \"count\": 348, \"logcount\": 5.8522024797744745}, {\"repo\": \"jupyter-book\", \"kind\": \"issues\", \"count\": 19, \"logcount\": 2.9444389791664403}, {\"repo\": \"jupyter-book\", \"kind\": \"prs\", \"count\": 24, \"logcount\": 3.1780538303479458}, {\"repo\": \"jupyter-cache\", \"kind\": \"comments\", \"count\": 13, \"logcount\": 2.5649493574615367}, {\"repo\": \"jupyter-cache\", \"kind\": \"issues\", \"count\": 2, \"logcount\": 0.6931471805599453}, {\"repo\": \"jupyter-cache\", \"kind\": \"prs\", \"count\": 1, \"logcount\": 0.0}, {\"repo\": \"jupyter-sphinx\", \"kind\": \"comments\", \"count\": 6, \"logcount\": 1.791759469228055}, {\"repo\": \"jupyter-sphinx\", \"kind\": \"issues\", \"count\": 1, \"logcount\": 0.0}, {\"repo\": \"jupyter-sphinx\", \"kind\": \"prs\", \"count\": 1, \"logcount\": 0.0}, {\"repo\": \"jupyter.github.io\", \"kind\": \"comments\", \"count\": 11, \"logcount\": 2.3978952727983707}, {\"repo\": \"jupyter.github.io\", \"kind\": \"prs\", \"count\": 1, \"logcount\": 0.0}, {\"repo\": \"jupyterhub\", \"kind\": \"comments\", \"count\": 6, \"logcount\": 1.791759469228055}, {\"repo\": \"jupyterhub\", \"kind\": \"issues\", \"count\": 2, \"logcount\": 0.6931471805599453}, {\"repo\": \"jupyterlab\", \"kind\": \"comments\", \"count\": 6, \"logcount\": 1.791759469228055}, {\"repo\": \"jupyterlab\", \"kind\": \"issues\", \"count\": 2, \"logcount\": 0.6931471805599453}, {\"repo\": \"jupyterlab-latex\", \"kind\": \"issues\", \"count\": 1, \"logcount\": 0.0}, {\"repo\": \"markdown-it-py\", \"kind\": \"comments\", \"count\": 1, \"logcount\": 0.0}, {\"repo\": \"meta\", \"kind\": \"comments\", \"count\": 11, \"logcount\": 2.3978952727983707}, {\"repo\": \"meta\", \"kind\": \"issues\", \"count\": 6, \"logcount\": 1.791759469228055}, {\"repo\": \"meta\", \"kind\": \"prs\", \"count\": 1, \"logcount\": 0.0}, {\"repo\": \"mybinder.org-deploy\", \"kind\": \"comments\", \"count\": 32, \"logcount\": 3.4657359027997265}, {\"repo\": \"mybinder.org-deploy\", \"kind\": \"issues\", \"count\": 1, \"logcount\": 0.0}, {\"repo\": \"mybinder.org-deploy\", \"kind\": \"prs\", \"count\": 1, \"logcount\": 0.0}, {\"repo\": \"myst-language-support\", \"kind\": \"issues\", \"count\": 1, \"logcount\": 0.0}, {\"repo\": \"nbclient\", \"kind\": \"comments\", \"count\": 39, \"logcount\": 3.6635616461296463}, {\"repo\": \"nbclient\", \"kind\": \"issues\", \"count\": 2, \"logcount\": 0.6931471805599453}, {\"repo\": \"nbclient\", \"kind\": \"prs\", \"count\": 1, \"logcount\": 0.0}, {\"repo\": \"nbconvert\", \"kind\": \"comments\", \"count\": 2, \"logcount\": 0.6931471805599453}, {\"repo\": \"nbconvert\", \"kind\": \"issues\", \"count\": 1, \"logcount\": 0.0}, {\"repo\": \"nbformat\", \"kind\": \"comments\", \"count\": 2, \"logcount\": 0.6931471805599453}, {\"repo\": \"nbgitpuller\", \"kind\": \"comments\", \"count\": 13, \"logcount\": 2.5649493574615367}, {\"repo\": \"nbgitpuller\", \"kind\": \"issues\", \"count\": 4, \"logcount\": 1.3862943611198906}, {\"repo\": \"nbgitpuller\", \"kind\": \"prs\", \"count\": 3, \"logcount\": 1.0986122886681098}, {\"repo\": \"nbgrader\", \"kind\": \"comments\", \"count\": 1, \"logcount\": 0.0}, {\"repo\": \"quantecon-mini-example\", \"kind\": \"comments\", \"count\": 1, \"logcount\": 0.0}, {\"repo\": \"repo2docker\", \"kind\": \"comments\", \"count\": 10, \"logcount\": 2.302585092994046}, {\"repo\": \"repo2docker\", \"kind\": \"issues\", \"count\": 2, \"logcount\": 0.6931471805599453}, {\"repo\": \"sphinx-book-theme\", \"kind\": \"comments\", \"count\": 66, \"logcount\": 4.189654742026425}, {\"repo\": \"sphinx-book-theme\", \"kind\": \"issues\", \"count\": 4, \"logcount\": 1.3862943611198906}, {\"repo\": \"sphinx-book-theme\", \"kind\": \"prs\", \"count\": 19, \"logcount\": 2.9444389791664403}, {\"repo\": \"sphinx-copybutton\", \"kind\": \"comments\", \"count\": 7, \"logcount\": 1.9459101490553132}, {\"repo\": \"sphinx-panels\", \"kind\": \"comments\", \"count\": 14, \"logcount\": 2.6390573296152584}, {\"repo\": \"sphinx-panels\", \"kind\": \"issues\", \"count\": 1, \"logcount\": 0.0}, {\"repo\": \"sphinx-thebelab\", \"kind\": \"comments\", \"count\": 18, \"logcount\": 2.8903717578961645}, {\"repo\": \"sphinx-thebelab\", \"kind\": \"issues\", \"count\": 1, \"logcount\": 0.0}, {\"repo\": \"sphinx-thebelab\", \"kind\": \"prs\", \"count\": 4, \"logcount\": 1.3862943611198906}, {\"repo\": \"sphinx-togglebutton\", \"kind\": \"prs\", \"count\": 1, \"logcount\": 0.0}, {\"repo\": \"tcs_to_jb\", \"kind\": \"comments\", \"count\": 7, \"logcount\": 1.9459101490553132}, {\"repo\": \"team-compass\", \"kind\": \"comments\", \"count\": 37, \"logcount\": 3.6109179126442243}, {\"repo\": \"team-compass\", \"kind\": \"issues\", \"count\": 7, \"logcount\": 1.9459101490553132}, {\"repo\": \"team-compass\", \"kind\": \"prs\", \"count\": 2, \"logcount\": 0.6931471805599453}, {\"repo\": \"zero-to-jupyterhub-k8s\", \"kind\": \"comments\", \"count\": 6, \"logcount\": 1.791759469228055}, {\"repo\": \"zero-to-jupyterhub-k8s\", \"kind\": \"issues\", \"count\": 7, \"logcount\": 1.9459101490553132}, {\"repo\": \"zero-to-jupyterhub-k8s\", \"kind\": \"prs\", \"count\": 1, \"logcount\": 0.0}]}}, {\"mode\": \"vega-lite\"});\n",
       "</script>"
      ],
      "text/plain": [
       "alt.HConcatChart(...)"
      ]
     },
     "execution_count": 11,
     "metadata": {},
     "output_type": "execute_result"
    }
   ],
   "source": [
    "ch1 = alt.Chart(repo_summaries, width=600, title=\"Activity per repository\").mark_bar().encode(\n",
    "    x='repo',\n",
    "    y='count',\n",
    "    color='kind',\n",
    "    tooltip=\"kind\"\n",
    ")\n",
    "\n",
    "ch2 = alt.Chart(repo_summaries, width=600, title=\"Log activity per repository\").mark_bar().encode(\n",
    "    x='repo',\n",
    "    y='logcount',\n",
    "    color='kind',\n",
    "    tooltip=\"kind\"\n",
    ")\n",
    "\n",
    "ch1 | ch2"
   ]
  },
  {
   "cell_type": "code",
   "execution_count": 12,
   "metadata": {
    "execution": {
     "iopub.execute_input": "2020-07-11T01:13:45.740981Z",
     "iopub.status.busy": "2020-07-11T01:13:45.735828Z",
     "iopub.status.idle": "2020-07-11T01:13:45.760649Z",
     "shell.execute_reply": "2020-07-11T01:13:45.761282Z"
    },
    "papermill": {
     "duration": 0.052519,
     "end_time": "2020-07-11T01:13:45.761454",
     "exception": false,
     "start_time": "2020-07-11T01:13:45.708935",
     "status": "completed"
    },
    "tags": [
     "hide_input"
    ]
   },
   "outputs": [
    {
     "data": {
      "text/html": [
       "\n",
       "<div id=\"altair-viz-53645c8b022f4daeba24cf935c3b2d0f\"></div>\n",
       "<script type=\"text/javascript\">\n",
       "  (function(spec, embedOpt){\n",
       "    let outputDiv = document.currentScript.previousElementSibling;\n",
       "    if (outputDiv.id !== \"altair-viz-53645c8b022f4daeba24cf935c3b2d0f\") {\n",
       "      outputDiv = document.getElementById(\"altair-viz-53645c8b022f4daeba24cf935c3b2d0f\");\n",
       "    }\n",
       "    const paths = {\n",
       "      \"vega\": \"https://cdn.jsdelivr.net/npm//vega@5?noext\",\n",
       "      \"vega-lib\": \"https://cdn.jsdelivr.net/npm//vega-lib?noext\",\n",
       "      \"vega-lite\": \"https://cdn.jsdelivr.net/npm//vega-lite@4.8.1?noext\",\n",
       "      \"vega-embed\": \"https://cdn.jsdelivr.net/npm//vega-embed@6?noext\",\n",
       "    };\n",
       "\n",
       "    function loadScript(lib) {\n",
       "      return new Promise(function(resolve, reject) {\n",
       "        var s = document.createElement('script');\n",
       "        s.src = paths[lib];\n",
       "        s.async = true;\n",
       "        s.onload = () => resolve(paths[lib]);\n",
       "        s.onerror = () => reject(`Error loading script: ${paths[lib]}`);\n",
       "        document.getElementsByTagName(\"head\")[0].appendChild(s);\n",
       "      });\n",
       "    }\n",
       "\n",
       "    function showError(err) {\n",
       "      outputDiv.innerHTML = `<div class=\"error\" style=\"color:red;\">${err}</div>`;\n",
       "      throw err;\n",
       "    }\n",
       "\n",
       "    function displayChart(vegaEmbed) {\n",
       "      vegaEmbed(outputDiv, spec, embedOpt)\n",
       "        .catch(err => showError(`Javascript Error: ${err.message}<br>This usually means there's a typo in your chart specification. See the javascript console for the full traceback.`));\n",
       "    }\n",
       "\n",
       "    if(typeof define === \"function\" && define.amd) {\n",
       "      requirejs.config({paths});\n",
       "      require([\"vega-embed\"], displayChart, err => showError(`Error loading script: ${err.message}`));\n",
       "    } else if (typeof vegaEmbed === \"function\") {\n",
       "      displayChart(vegaEmbed);\n",
       "    } else {\n",
       "      loadScript(\"vega\")\n",
       "        .then(() => loadScript(\"vega-lite\"))\n",
       "        .then(() => loadScript(\"vega-embed\"))\n",
       "        .catch(showError)\n",
       "        .then(() => displayChart(vegaEmbed));\n",
       "    }\n",
       "  })({\"config\": {\"axisLeft\": {\"labelFontSize\": 15}, \"axisBottom\": {\"labelFontSize\": 15}}, \"data\": {\"name\": \"data-772581aadcc0b81ba35027ebbe589592\"}, \"mark\": \"bar\", \"encoding\": {\"color\": {\"type\": \"nominal\", \"field\": \"kind\"}, \"tooltip\": {\"type\": \"nominal\", \"field\": \"org\"}, \"x\": {\"type\": \"nominal\", \"field\": \"org\"}, \"y\": {\"type\": \"quantitative\", \"field\": \"count\"}}, \"width\": 600, \"$schema\": \"https://vega.github.io/schema/vega-lite/v4.8.1.json\", \"datasets\": {\"data-772581aadcc0b81ba35027ebbe589592\": [{\"org\": \"executablebooks\", \"kind\": \"comments\", \"count\": 603}, {\"org\": \"executablebooks\", \"kind\": \"issues\", \"count\": 49}, {\"org\": \"executablebooks\", \"kind\": \"prs\", \"count\": 70}, {\"org\": \"ipython\", \"kind\": \"comments\", \"count\": 1}, {\"org\": \"jupyter\", \"kind\": \"comments\", \"count\": 136}, {\"org\": \"jupyter\", \"kind\": \"issues\", \"count\": 9}, {\"org\": \"jupyter\", \"kind\": \"prs\", \"count\": 11}, {\"org\": \"jupyterhub\", \"kind\": \"comments\", \"count\": 96}, {\"org\": \"jupyterhub\", \"kind\": \"issues\", \"count\": 21}, {\"org\": \"jupyterhub\", \"kind\": \"prs\", \"count\": 9}, {\"org\": \"jupyterlab\", \"kind\": \"comments\", \"count\": 17}, {\"org\": \"jupyterlab\", \"kind\": \"issues\", \"count\": 3}]}}, {\"mode\": \"vega-lite\"});\n",
       "</script>"
      ],
      "text/plain": [
       "alt.Chart(...)"
      ]
     },
     "execution_count": 12,
     "metadata": {},
     "output_type": "execute_result"
    }
   ],
   "source": [
    "alt.Chart(org_summaries, width=600).mark_bar().encode(\n",
    "    x='org',\n",
    "    y='count',\n",
    "    color='kind',\n",
    "    tooltip=\"org\"\n",
    ")"
   ]
  },
  {
   "cell_type": "markdown",
   "metadata": {
    "papermill": {
     "duration": 0.019918,
     "end_time": "2020-07-11T01:13:45.797747",
     "exception": false,
     "start_time": "2020-07-11T01:13:45.777829",
     "status": "completed"
    },
    "tags": []
   },
   "source": [
    "# By repository over time"
   ]
  },
  {
   "cell_type": "markdown",
   "metadata": {
    "papermill": {
     "duration": 0.023055,
     "end_time": "2020-07-11T01:13:45.841975",
     "exception": false,
     "start_time": "2020-07-11T01:13:45.818920",
     "status": "completed"
    },
    "tags": []
   },
   "source": [
    "## Comments"
   ]
  },
  {
   "cell_type": "code",
   "execution_count": 13,
   "metadata": {
    "execution": {
     "iopub.execute_input": "2020-07-11T01:13:45.886471Z",
     "iopub.status.busy": "2020-07-11T01:13:45.885803Z",
     "iopub.status.idle": "2020-07-11T01:13:46.093085Z",
     "shell.execute_reply": "2020-07-11T01:13:46.093613Z"
    },
    "papermill": {
     "duration": 0.231488,
     "end_time": "2020-07-11T01:13:46.093789",
     "exception": false,
     "start_time": "2020-07-11T01:13:45.862301",
     "status": "completed"
    },
    "tags": [
     "hide_input"
    ]
   },
   "outputs": [
    {
     "data": {
      "text/html": [
       "\n",
       "<div id=\"altair-viz-b6c99d79770844d69792c9c548c8db8e\"></div>\n",
       "<script type=\"text/javascript\">\n",
       "  (function(spec, embedOpt){\n",
       "    let outputDiv = document.currentScript.previousElementSibling;\n",
       "    if (outputDiv.id !== \"altair-viz-b6c99d79770844d69792c9c548c8db8e\") {\n",
       "      outputDiv = document.getElementById(\"altair-viz-b6c99d79770844d69792c9c548c8db8e\");\n",
       "    }\n",
       "    const paths = {\n",
       "      \"vega\": \"https://cdn.jsdelivr.net/npm//vega@5?noext\",\n",
       "      \"vega-lib\": \"https://cdn.jsdelivr.net/npm//vega-lib?noext\",\n",
       "      \"vega-lite\": \"https://cdn.jsdelivr.net/npm//vega-lite@4.8.1?noext\",\n",
       "      \"vega-embed\": \"https://cdn.jsdelivr.net/npm//vega-embed@6?noext\",\n",
       "    };\n",
       "\n",
       "    function loadScript(lib) {\n",
       "      return new Promise(function(resolve, reject) {\n",
       "        var s = document.createElement('script');\n",
       "        s.src = paths[lib];\n",
       "        s.async = true;\n",
       "        s.onload = () => resolve(paths[lib]);\n",
       "        s.onerror = () => reject(`Error loading script: ${paths[lib]}`);\n",
       "        document.getElementsByTagName(\"head\")[0].appendChild(s);\n",
       "      });\n",
       "    }\n",
       "\n",
       "    function showError(err) {\n",
       "      outputDiv.innerHTML = `<div class=\"error\" style=\"color:red;\">${err}</div>`;\n",
       "      throw err;\n",
       "    }\n",
       "\n",
       "    function displayChart(vegaEmbed) {\n",
       "      vegaEmbed(outputDiv, spec, embedOpt)\n",
       "        .catch(err => showError(`Javascript Error: ${err.message}<br>This usually means there's a typo in your chart specification. See the javascript console for the full traceback.`));\n",
       "    }\n",
       "\n",
       "    if(typeof define === \"function\" && define.amd) {\n",
       "      requirejs.config({paths});\n",
       "      require([\"vega-embed\"], displayChart, err => showError(`Error loading script: ${err.message}`));\n",
       "    } else if (typeof vegaEmbed === \"function\") {\n",
       "      displayChart(vegaEmbed);\n",
       "    } else {\n",
       "      loadScript(\"vega\")\n",
       "        .then(() => loadScript(\"vega-lite\"))\n",
       "        .then(() => loadScript(\"vega-embed\"))\n",
       "        .catch(showError)\n",
       "        .then(() => displayChart(vegaEmbed));\n",
       "    }\n",
       "  })({\"config\": {\"axisLeft\": {\"labelFontSize\": 15}, \"axisBottom\": {\"labelFontSize\": 15}}, \"layer\": [{\"data\": {\"name\": \"data-eb9a381f28cc7263e2432ac4a2bcb5b1\"}, \"mark\": \"line\", \"encoding\": {\"color\": {\"type\": \"nominal\", \"field\": \"repo\"}, \"tooltip\": {\"type\": \"nominal\", \"field\": \"repo\"}, \"x\": {\"type\": \"temporal\", \"field\": \"createdAt\"}, \"y\": {\"type\": \"quantitative\", \"field\": \"count\"}}, \"width\": 600}, {\"data\": {\"name\": \"data-180515e694d98ad355ab9687bb70b1dc\"}, \"mark\": {\"type\": \"line\", \"color\": \"black\"}, \"encoding\": {\"x\": {\"type\": \"temporal\", \"field\": \"createdAt\"}, \"y\": {\"type\": \"quantitative\", \"field\": \"count\"}}, \"width\": 600}], \"$schema\": \"https://vega.github.io/schema/vega-lite/v4.8.1.json\", \"datasets\": {\"data-eb9a381f28cc7263e2432ac4a2bcb5b1\": [{\"repo\": \".github\", \"createdAt\": \"2020-05-31T00:00:00\", \"count\": 1}, {\"repo\": \".github\", \"createdAt\": \"2020-06-07T00:00:00\", \"count\": 2}, {\"repo\": \".github\", \"createdAt\": \"2020-06-14T00:00:00\", \"count\": 1}, {\"repo\": \".github\", \"createdAt\": \"2020-06-21T00:00:00\", \"count\": 1}, {\"repo\": \".github\", \"createdAt\": \"2020-06-28T00:00:00\", \"count\": 0}, {\"repo\": \".github\", \"createdAt\": \"2020-07-05T00:00:00\", \"count\": 1}, {\"repo\": \"MyST-NB\", \"createdAt\": \"2020-05-17T00:00:00\", \"count\": 8}, {\"repo\": \"MyST-NB\", \"createdAt\": \"2020-05-24T00:00:00\", \"count\": 8}, {\"repo\": \"MyST-NB\", \"createdAt\": \"2020-05-31T00:00:00\", \"count\": 8}, {\"repo\": \"MyST-NB\", \"createdAt\": \"2020-06-07T00:00:00\", \"count\": 9}, {\"repo\": \"MyST-NB\", \"createdAt\": \"2020-06-14T00:00:00\", \"count\": 7}, {\"repo\": \"MyST-NB\", \"createdAt\": \"2020-06-21T00:00:00\", \"count\": 8}, {\"repo\": \"MyST-NB\", \"createdAt\": \"2020-06-28T00:00:00\", \"count\": 0}, {\"repo\": \"MyST-NB\", \"createdAt\": \"2020-07-05T00:00:00\", \"count\": 4}, {\"repo\": \"MyST-NB\", \"createdAt\": \"2020-07-12T00:00:00\", \"count\": 5}, {\"repo\": \"MyST-Parser\", \"createdAt\": \"2020-05-24T00:00:00\", \"count\": 3}, {\"repo\": \"MyST-Parser\", \"createdAt\": \"2020-05-31T00:00:00\", \"count\": 10}, {\"repo\": \"MyST-Parser\", \"createdAt\": \"2020-06-07T00:00:00\", \"count\": 12}, {\"repo\": \"MyST-Parser\", \"createdAt\": \"2020-06-14T00:00:00\", \"count\": 14}, {\"repo\": \"MyST-Parser\", \"createdAt\": \"2020-06-21T00:00:00\", \"count\": 3}, {\"repo\": \"MyST-Parser\", \"createdAt\": \"2020-06-28T00:00:00\", \"count\": 14}, {\"repo\": \"MyST-Parser\", \"createdAt\": \"2020-07-05T00:00:00\", \"count\": 0}, {\"repo\": \"MyST-Parser\", \"createdAt\": \"2020-07-12T00:00:00\", \"count\": 4}, {\"repo\": \"binder\", \"createdAt\": \"2020-05-17T00:00:00\", \"count\": 3}, {\"repo\": \"binder\", \"createdAt\": \"2020-05-24T00:00:00\", \"count\": 0}, {\"repo\": \"binder\", \"createdAt\": \"2020-05-31T00:00:00\", \"count\": 0}, {\"repo\": \"binder\", \"createdAt\": \"2020-06-07T00:00:00\", \"count\": 0}, {\"repo\": \"binder\", \"createdAt\": \"2020-06-14T00:00:00\", \"count\": 0}, {\"repo\": \"binder\", \"createdAt\": \"2020-06-21T00:00:00\", \"count\": 1}, {\"repo\": \"design\", \"createdAt\": \"2020-05-31T00:00:00\", \"count\": 1}, {\"repo\": \"dockerspawner\", \"createdAt\": \"2020-06-21T00:00:00\", \"count\": 1}, {\"repo\": \"dockerspawner\", \"createdAt\": \"2020-06-28T00:00:00\", \"count\": 2}, {\"repo\": \"enhancement-proposals\", \"createdAt\": \"2020-05-17T00:00:00\", \"count\": 1}, {\"repo\": \"enhancement-proposals\", \"createdAt\": \"2020-05-24T00:00:00\", \"count\": 0}, {\"repo\": \"enhancement-proposals\", \"createdAt\": \"2020-05-31T00:00:00\", \"count\": 3}, {\"repo\": \"enhancement-proposals\", \"createdAt\": \"2020-06-07T00:00:00\", \"count\": 1}, {\"repo\": \"enhancement-proposals\", \"createdAt\": \"2020-06-14T00:00:00\", \"count\": 3}, {\"repo\": \"enhancement-proposals\", \"createdAt\": \"2020-06-21T00:00:00\", \"count\": 8}, {\"repo\": \"enhancement-proposals\", \"createdAt\": \"2020-06-28T00:00:00\", \"count\": 1}, {\"repo\": \"governance\", \"createdAt\": \"2020-05-24T00:00:00\", \"count\": 5}, {\"repo\": \"governance\", \"createdAt\": \"2020-05-31T00:00:00\", \"count\": 2}, {\"repo\": \"governance\", \"createdAt\": \"2020-06-07T00:00:00\", \"count\": 1}, {\"repo\": \"governance\", \"createdAt\": \"2020-06-14T00:00:00\", \"count\": 0}, {\"repo\": \"governance\", \"createdAt\": \"2020-06-21T00:00:00\", \"count\": 0}, {\"repo\": \"governance\", \"createdAt\": \"2020-06-28T00:00:00\", \"count\": 3}, {\"repo\": \"governance\", \"createdAt\": \"2020-07-05T00:00:00\", \"count\": 1}, {\"repo\": \"ipython\", \"createdAt\": \"2020-05-17T00:00:00\", \"count\": 1}, {\"repo\": \"jupyter\", \"createdAt\": \"2020-05-17T00:00:00\", \"count\": 1}, {\"repo\": \"jupyter\", \"createdAt\": \"2020-05-24T00:00:00\", \"count\": 0}, {\"repo\": \"jupyter\", \"createdAt\": \"2020-05-31T00:00:00\", \"count\": 0}, {\"repo\": \"jupyter\", \"createdAt\": \"2020-06-07T00:00:00\", \"count\": 0}, {\"repo\": \"jupyter\", \"createdAt\": \"2020-06-14T00:00:00\", \"count\": 7}, {\"repo\": \"jupyter\", \"createdAt\": \"2020-06-21T00:00:00\", \"count\": 7}, {\"repo\": \"jupyter\", \"createdAt\": \"2020-06-28T00:00:00\", \"count\": 3}, {\"repo\": \"jupyter\", \"createdAt\": \"2020-07-05T00:00:00\", \"count\": 11}, {\"repo\": \"jupyter\", \"createdAt\": \"2020-07-12T00:00:00\", \"count\": 6}, {\"repo\": \"jupyter-book\", \"createdAt\": \"2020-05-17T00:00:00\", \"count\": 63}, {\"repo\": \"jupyter-book\", \"createdAt\": \"2020-05-24T00:00:00\", \"count\": 35}, {\"repo\": \"jupyter-book\", \"createdAt\": \"2020-05-31T00:00:00\", \"count\": 52}, {\"repo\": \"jupyter-book\", \"createdAt\": \"2020-06-07T00:00:00\", \"count\": 69}, {\"repo\": \"jupyter-book\", \"createdAt\": \"2020-06-14T00:00:00\", \"count\": 28}, {\"repo\": \"jupyter-book\", \"createdAt\": \"2020-06-21T00:00:00\", \"count\": 20}, {\"repo\": \"jupyter-book\", \"createdAt\": \"2020-06-28T00:00:00\", \"count\": 23}, {\"repo\": \"jupyter-book\", \"createdAt\": \"2020-07-05T00:00:00\", \"count\": 27}, {\"repo\": \"jupyter-book\", \"createdAt\": \"2020-07-12T00:00:00\", \"count\": 31}, {\"repo\": \"jupyter-cache\", \"createdAt\": \"2020-05-17T00:00:00\", \"count\": 1}, {\"repo\": \"jupyter-cache\", \"createdAt\": \"2020-05-24T00:00:00\", \"count\": 2}, {\"repo\": \"jupyter-cache\", \"createdAt\": \"2020-05-31T00:00:00\", \"count\": 3}, {\"repo\": \"jupyter-cache\", \"createdAt\": \"2020-06-07T00:00:00\", \"count\": 0}, {\"repo\": \"jupyter-cache\", \"createdAt\": \"2020-06-14T00:00:00\", \"count\": 3}, {\"repo\": \"jupyter-cache\", \"createdAt\": \"2020-06-21T00:00:00\", \"count\": 3}, {\"repo\": \"jupyter-cache\", \"createdAt\": \"2020-06-28T00:00:00\", \"count\": 1}, {\"repo\": \"jupyter-sphinx\", \"createdAt\": \"2020-05-17T00:00:00\", \"count\": 1}, {\"repo\": \"jupyter-sphinx\", \"createdAt\": \"2020-05-24T00:00:00\", \"count\": 0}, {\"repo\": \"jupyter-sphinx\", \"createdAt\": \"2020-05-31T00:00:00\", \"count\": 2}, {\"repo\": \"jupyter-sphinx\", \"createdAt\": \"2020-06-07T00:00:00\", \"count\": 0}, {\"repo\": \"jupyter-sphinx\", \"createdAt\": \"2020-06-14T00:00:00\", \"count\": 0}, {\"repo\": \"jupyter-sphinx\", \"createdAt\": \"2020-06-21T00:00:00\", \"count\": 0}, {\"repo\": \"jupyter-sphinx\", \"createdAt\": \"2020-06-28T00:00:00\", \"count\": 1}, {\"repo\": \"jupyter-sphinx\", \"createdAt\": \"2020-07-05T00:00:00\", \"count\": 2}, {\"repo\": \"jupyter.github.io\", \"createdAt\": \"2020-05-17T00:00:00\", \"count\": 6}, {\"repo\": \"jupyter.github.io\", \"createdAt\": \"2020-05-24T00:00:00\", \"count\": 0}, {\"repo\": \"jupyter.github.io\", \"createdAt\": \"2020-05-31T00:00:00\", \"count\": 0}, {\"repo\": \"jupyter.github.io\", \"createdAt\": \"2020-06-07T00:00:00\", \"count\": 0}, {\"repo\": \"jupyter.github.io\", \"createdAt\": \"2020-06-14T00:00:00\", \"count\": 0}, {\"repo\": \"jupyter.github.io\", \"createdAt\": \"2020-06-21T00:00:00\", \"count\": 3}, {\"repo\": \"jupyter.github.io\", \"createdAt\": \"2020-06-28T00:00:00\", \"count\": 1}, {\"repo\": \"jupyter.github.io\", \"createdAt\": \"2020-07-05T00:00:00\", \"count\": 1}, {\"repo\": \"jupyterhub\", \"createdAt\": \"2020-06-21T00:00:00\", \"count\": 3}, {\"repo\": \"jupyterhub\", \"createdAt\": \"2020-06-28T00:00:00\", \"count\": 0}, {\"repo\": \"jupyterhub\", \"createdAt\": \"2020-07-05T00:00:00\", \"count\": 2}, {\"repo\": \"jupyterhub\", \"createdAt\": \"2020-07-12T00:00:00\", \"count\": 1}, {\"repo\": \"jupyterlab\", \"createdAt\": \"2020-06-21T00:00:00\", \"count\": 1}, {\"repo\": \"jupyterlab\", \"createdAt\": \"2020-06-28T00:00:00\", \"count\": 0}, {\"repo\": \"jupyterlab\", \"createdAt\": \"2020-07-05T00:00:00\", \"count\": 1}, {\"repo\": \"jupyterlab\", \"createdAt\": \"2020-07-12T00:00:00\", \"count\": 4}, {\"repo\": \"markdown-it-py\", \"createdAt\": \"2020-05-31T00:00:00\", \"count\": 1}, {\"repo\": \"meta\", \"createdAt\": \"2020-05-17T00:00:00\", \"count\": 2}, {\"repo\": \"meta\", \"createdAt\": \"2020-05-24T00:00:00\", \"count\": 1}, {\"repo\": \"meta\", \"createdAt\": \"2020-05-31T00:00:00\", \"count\": 1}, {\"repo\": \"meta\", \"createdAt\": \"2020-06-07T00:00:00\", \"count\": 2}, {\"repo\": \"meta\", \"createdAt\": \"2020-06-14T00:00:00\", \"count\": 0}, {\"repo\": \"meta\", \"createdAt\": \"2020-06-21T00:00:00\", \"count\": 1}, {\"repo\": \"meta\", \"createdAt\": \"2020-06-28T00:00:00\", \"count\": 4}, {\"repo\": \"mybinder.org-deploy\", \"createdAt\": \"2020-05-17T00:00:00\", \"count\": 2}, {\"repo\": \"mybinder.org-deploy\", \"createdAt\": \"2020-05-24T00:00:00\", \"count\": 11}, {\"repo\": \"mybinder.org-deploy\", \"createdAt\": \"2020-05-31T00:00:00\", \"count\": 3}, {\"repo\": \"mybinder.org-deploy\", \"createdAt\": \"2020-06-07T00:00:00\", \"count\": 2}, {\"repo\": \"mybinder.org-deploy\", \"createdAt\": \"2020-06-14T00:00:00\", \"count\": 1}, {\"repo\": \"mybinder.org-deploy\", \"createdAt\": \"2020-06-21T00:00:00\", \"count\": 3}, {\"repo\": \"mybinder.org-deploy\", \"createdAt\": \"2020-06-28T00:00:00\", \"count\": 3}, {\"repo\": \"mybinder.org-deploy\", \"createdAt\": \"2020-07-05T00:00:00\", \"count\": 5}, {\"repo\": \"mybinder.org-deploy\", \"createdAt\": \"2020-07-12T00:00:00\", \"count\": 2}, {\"repo\": \"nbclient\", \"createdAt\": \"2020-05-17T00:00:00\", \"count\": 6}, {\"repo\": \"nbclient\", \"createdAt\": \"2020-05-24T00:00:00\", \"count\": 10}, {\"repo\": \"nbclient\", \"createdAt\": \"2020-05-31T00:00:00\", \"count\": 5}, {\"repo\": \"nbclient\", \"createdAt\": \"2020-06-07T00:00:00\", \"count\": 2}, {\"repo\": \"nbclient\", \"createdAt\": \"2020-06-14T00:00:00\", \"count\": 5}, {\"repo\": \"nbclient\", \"createdAt\": \"2020-06-21T00:00:00\", \"count\": 6}, {\"repo\": \"nbclient\", \"createdAt\": \"2020-06-28T00:00:00\", \"count\": 1}, {\"repo\": \"nbclient\", \"createdAt\": \"2020-07-05T00:00:00\", \"count\": 3}, {\"repo\": \"nbclient\", \"createdAt\": \"2020-07-12T00:00:00\", \"count\": 1}, {\"repo\": \"nbconvert\", \"createdAt\": \"2020-06-21T00:00:00\", \"count\": 1}, {\"repo\": \"nbconvert\", \"createdAt\": \"2020-06-28T00:00:00\", \"count\": 0}, {\"repo\": \"nbconvert\", \"createdAt\": \"2020-07-05T00:00:00\", \"count\": 1}, {\"repo\": \"nbformat\", \"createdAt\": \"2020-05-17T00:00:00\", \"count\": 2}, {\"repo\": \"nbgitpuller\", \"createdAt\": \"2020-06-28T00:00:00\", \"count\": 4}, {\"repo\": \"nbgitpuller\", \"createdAt\": \"2020-07-05T00:00:00\", \"count\": 8}, {\"repo\": \"nbgitpuller\", \"createdAt\": \"2020-07-12T00:00:00\", \"count\": 1}, {\"repo\": \"nbgrader\", \"createdAt\": \"2020-06-28T00:00:00\", \"count\": 1}, {\"repo\": \"quantecon-mini-example\", \"createdAt\": \"2020-06-21T00:00:00\", \"count\": 1}, {\"repo\": \"repo2docker\", \"createdAt\": \"2020-05-17T00:00:00\", \"count\": 1}, {\"repo\": \"repo2docker\", \"createdAt\": \"2020-05-24T00:00:00\", \"count\": 0}, {\"repo\": \"repo2docker\", \"createdAt\": \"2020-05-31T00:00:00\", \"count\": 0}, {\"repo\": \"repo2docker\", \"createdAt\": \"2020-06-07T00:00:00\", \"count\": 0}, {\"repo\": \"repo2docker\", \"createdAt\": \"2020-06-14T00:00:00\", \"count\": 4}, {\"repo\": \"repo2docker\", \"createdAt\": \"2020-06-21T00:00:00\", \"count\": 0}, {\"repo\": \"repo2docker\", \"createdAt\": \"2020-06-28T00:00:00\", \"count\": 2}, {\"repo\": \"repo2docker\", \"createdAt\": \"2020-07-05T00:00:00\", \"count\": 0}, {\"repo\": \"repo2docker\", \"createdAt\": \"2020-07-12T00:00:00\", \"count\": 3}, {\"repo\": \"sphinx-book-theme\", \"createdAt\": \"2020-05-17T00:00:00\", \"count\": 10}, {\"repo\": \"sphinx-book-theme\", \"createdAt\": \"2020-05-24T00:00:00\", \"count\": 13}, {\"repo\": \"sphinx-book-theme\", \"createdAt\": \"2020-05-31T00:00:00\", \"count\": 15}, {\"repo\": \"sphinx-book-theme\", \"createdAt\": \"2020-06-07T00:00:00\", \"count\": 11}, {\"repo\": \"sphinx-book-theme\", \"createdAt\": \"2020-06-14T00:00:00\", \"count\": 4}, {\"repo\": \"sphinx-book-theme\", \"createdAt\": \"2020-06-21T00:00:00\", \"count\": 4}, {\"repo\": \"sphinx-book-theme\", \"createdAt\": \"2020-06-28T00:00:00\", \"count\": 9}, {\"repo\": \"sphinx-copybutton\", \"createdAt\": \"2020-05-31T00:00:00\", \"count\": 1}, {\"repo\": \"sphinx-copybutton\", \"createdAt\": \"2020-06-07T00:00:00\", \"count\": 1}, {\"repo\": \"sphinx-copybutton\", \"createdAt\": \"2020-06-14T00:00:00\", \"count\": 0}, {\"repo\": \"sphinx-copybutton\", \"createdAt\": \"2020-06-21T00:00:00\", \"count\": 4}, {\"repo\": \"sphinx-copybutton\", \"createdAt\": \"2020-06-28T00:00:00\", \"count\": 1}, {\"repo\": \"sphinx-panels\", \"createdAt\": \"2020-05-17T00:00:00\", \"count\": 13}, {\"repo\": \"sphinx-panels\", \"createdAt\": \"2020-05-24T00:00:00\", \"count\": 1}, {\"repo\": \"sphinx-thebelab\", \"createdAt\": \"2020-06-21T00:00:00\", \"count\": 8}, {\"repo\": \"sphinx-thebelab\", \"createdAt\": \"2020-06-28T00:00:00\", \"count\": 3}, {\"repo\": \"sphinx-thebelab\", \"createdAt\": \"2020-07-05T00:00:00\", \"count\": 6}, {\"repo\": \"sphinx-thebelab\", \"createdAt\": \"2020-07-12T00:00:00\", \"count\": 1}, {\"repo\": \"tcs_to_jb\", \"createdAt\": \"2020-05-24T00:00:00\", \"count\": 7}, {\"repo\": \"team-compass\", \"createdAt\": \"2020-05-17T00:00:00\", \"count\": 3}, {\"repo\": \"team-compass\", \"createdAt\": \"2020-05-24T00:00:00\", \"count\": 4}, {\"repo\": \"team-compass\", \"createdAt\": \"2020-05-31T00:00:00\", \"count\": 1}, {\"repo\": \"team-compass\", \"createdAt\": \"2020-06-07T00:00:00\", \"count\": 6}, {\"repo\": \"team-compass\", \"createdAt\": \"2020-06-14T00:00:00\", \"count\": 6}, {\"repo\": \"team-compass\", \"createdAt\": \"2020-06-21T00:00:00\", \"count\": 6}, {\"repo\": \"team-compass\", \"createdAt\": \"2020-06-28T00:00:00\", \"count\": 3}, {\"repo\": \"team-compass\", \"createdAt\": \"2020-07-05T00:00:00\", \"count\": 3}, {\"repo\": \"team-compass\", \"createdAt\": \"2020-07-12T00:00:00\", \"count\": 5}, {\"repo\": \"zero-to-jupyterhub-k8s\", \"createdAt\": \"2020-05-17T00:00:00\", \"count\": 1}, {\"repo\": \"zero-to-jupyterhub-k8s\", \"createdAt\": \"2020-05-24T00:00:00\", \"count\": 1}, {\"repo\": \"zero-to-jupyterhub-k8s\", \"createdAt\": \"2020-05-31T00:00:00\", \"count\": 0}, {\"repo\": \"zero-to-jupyterhub-k8s\", \"createdAt\": \"2020-06-07T00:00:00\", \"count\": 0}, {\"repo\": \"zero-to-jupyterhub-k8s\", \"createdAt\": \"2020-06-14T00:00:00\", \"count\": 2}, {\"repo\": \"zero-to-jupyterhub-k8s\", \"createdAt\": \"2020-06-21T00:00:00\", \"count\": 0}, {\"repo\": \"zero-to-jupyterhub-k8s\", \"createdAt\": \"2020-06-28T00:00:00\", \"count\": 0}, {\"repo\": \"zero-to-jupyterhub-k8s\", \"createdAt\": \"2020-07-05T00:00:00\", \"count\": 2}], \"data-180515e694d98ad355ab9687bb70b1dc\": [{\"createdAt\": \"2020-05-17T00:00:00\", \"count\": 125}, {\"createdAt\": \"2020-05-24T00:00:00\", \"count\": 101}, {\"createdAt\": \"2020-05-31T00:00:00\", \"count\": 109}, {\"createdAt\": \"2020-06-07T00:00:00\", \"count\": 118}, {\"createdAt\": \"2020-06-14T00:00:00\", \"count\": 85}, {\"createdAt\": \"2020-06-21T00:00:00\", \"count\": 93}, {\"createdAt\": \"2020-06-28T00:00:00\", \"count\": 80}, {\"createdAt\": \"2020-07-05T00:00:00\", \"count\": 78}, {\"createdAt\": \"2020-07-12T00:00:00\", \"count\": 64}]}}, {\"mode\": \"vega-lite\"});\n",
       "</script>"
      ],
      "text/plain": [
       "alt.LayerChart(...)"
      ]
     },
     "execution_count": 13,
     "metadata": {},
     "output_type": "execute_result"
    }
   ],
   "source": [
    "comments_time = comments.groupby('repo').resample('W', on='createdAt').count()['author'].reset_index()\n",
    "comments_time = comments_time.rename(columns={'author': 'count'})\n",
    "comments_time_total = comments_time.groupby('createdAt').agg({\"count\": \"sum\"}).reset_index()\n",
    "ch1 = alt.Chart(comments_time, width=600).mark_line().encode(\n",
    "    x='createdAt',\n",
    "    y='count',\n",
    "    color='repo',\n",
    "    tooltip=\"repo\"\n",
    ")\n",
    "\n",
    "ch2 = alt.Chart(comments_time_total, width=600).mark_line(color=\"black\").encode(\n",
    "    x='createdAt',\n",
    "    y='count',\n",
    ")\n",
    "\n",
    "ch1 + ch2"
   ]
  },
  {
   "cell_type": "markdown",
   "metadata": {
    "papermill": {
     "duration": 0.017818,
     "end_time": "2020-07-11T01:13:46.130805",
     "exception": false,
     "start_time": "2020-07-11T01:13:46.112987",
     "status": "completed"
    },
    "tags": []
   },
   "source": [
    "## PRs"
   ]
  },
  {
   "cell_type": "code",
   "execution_count": 14,
   "metadata": {
    "execution": {
     "iopub.execute_input": "2020-07-11T01:13:46.174396Z",
     "iopub.status.busy": "2020-07-11T01:13:46.173477Z",
     "iopub.status.idle": "2020-07-11T01:13:46.314332Z",
     "shell.execute_reply": "2020-07-11T01:13:46.314991Z"
    },
    "papermill": {
     "duration": 0.166539,
     "end_time": "2020-07-11T01:13:46.315164",
     "exception": false,
     "start_time": "2020-07-11T01:13:46.148625",
     "status": "completed"
    },
    "tags": [
     "hide_input"
    ]
   },
   "outputs": [
    {
     "data": {
      "text/html": [
       "\n",
       "<div id=\"altair-viz-340b05bf09644a6996a7a7cff9a6b6a5\"></div>\n",
       "<script type=\"text/javascript\">\n",
       "  (function(spec, embedOpt){\n",
       "    let outputDiv = document.currentScript.previousElementSibling;\n",
       "    if (outputDiv.id !== \"altair-viz-340b05bf09644a6996a7a7cff9a6b6a5\") {\n",
       "      outputDiv = document.getElementById(\"altair-viz-340b05bf09644a6996a7a7cff9a6b6a5\");\n",
       "    }\n",
       "    const paths = {\n",
       "      \"vega\": \"https://cdn.jsdelivr.net/npm//vega@5?noext\",\n",
       "      \"vega-lib\": \"https://cdn.jsdelivr.net/npm//vega-lib?noext\",\n",
       "      \"vega-lite\": \"https://cdn.jsdelivr.net/npm//vega-lite@4.8.1?noext\",\n",
       "      \"vega-embed\": \"https://cdn.jsdelivr.net/npm//vega-embed@6?noext\",\n",
       "    };\n",
       "\n",
       "    function loadScript(lib) {\n",
       "      return new Promise(function(resolve, reject) {\n",
       "        var s = document.createElement('script');\n",
       "        s.src = paths[lib];\n",
       "        s.async = true;\n",
       "        s.onload = () => resolve(paths[lib]);\n",
       "        s.onerror = () => reject(`Error loading script: ${paths[lib]}`);\n",
       "        document.getElementsByTagName(\"head\")[0].appendChild(s);\n",
       "      });\n",
       "    }\n",
       "\n",
       "    function showError(err) {\n",
       "      outputDiv.innerHTML = `<div class=\"error\" style=\"color:red;\">${err}</div>`;\n",
       "      throw err;\n",
       "    }\n",
       "\n",
       "    function displayChart(vegaEmbed) {\n",
       "      vegaEmbed(outputDiv, spec, embedOpt)\n",
       "        .catch(err => showError(`Javascript Error: ${err.message}<br>This usually means there's a typo in your chart specification. See the javascript console for the full traceback.`));\n",
       "    }\n",
       "\n",
       "    if(typeof define === \"function\" && define.amd) {\n",
       "      requirejs.config({paths});\n",
       "      require([\"vega-embed\"], displayChart, err => showError(`Error loading script: ${err.message}`));\n",
       "    } else if (typeof vegaEmbed === \"function\") {\n",
       "      displayChart(vegaEmbed);\n",
       "    } else {\n",
       "      loadScript(\"vega\")\n",
       "        .then(() => loadScript(\"vega-lite\"))\n",
       "        .then(() => loadScript(\"vega-embed\"))\n",
       "        .catch(showError)\n",
       "        .then(() => displayChart(vegaEmbed));\n",
       "    }\n",
       "  })({\"config\": {\"axisLeft\": {\"labelFontSize\": 15}, \"axisBottom\": {\"labelFontSize\": 15}}, \"layer\": [{\"data\": {\"name\": \"data-b7632e91903110bec72434c5f134a0ff\"}, \"mark\": \"line\", \"encoding\": {\"color\": {\"type\": \"nominal\", \"field\": \"repo\"}, \"tooltip\": {\"type\": \"nominal\", \"field\": \"repo\"}, \"x\": {\"type\": \"temporal\", \"field\": \"createdAt\"}, \"y\": {\"type\": \"quantitative\", \"field\": \"count\"}}, \"width\": 600}, {\"data\": {\"name\": \"data-1a7e25934a3f58fbb3817fc3565a35d3\"}, \"mark\": {\"type\": \"line\", \"color\": \"black\"}, \"encoding\": {\"x\": {\"type\": \"temporal\", \"field\": \"createdAt\"}, \"y\": {\"type\": \"quantitative\", \"field\": \"count\"}}, \"width\": 600}], \"$schema\": \"https://vega.github.io/schema/vega-lite/v4.8.1.json\", \"datasets\": {\"data-b7632e91903110bec72434c5f134a0ff\": [{\"repo\": \"MyST-NB\", \"createdAt\": \"2020-05-10T00:00:00\", \"count\": 1}, {\"repo\": \"MyST-NB\", \"createdAt\": \"2020-05-17T00:00:00\", \"count\": 1}, {\"repo\": \"MyST-NB\", \"createdAt\": \"2020-05-24T00:00:00\", \"count\": 0}, {\"repo\": \"MyST-NB\", \"createdAt\": \"2020-05-31T00:00:00\", \"count\": 1}, {\"repo\": \"MyST-NB\", \"createdAt\": \"2020-06-07T00:00:00\", \"count\": 1}, {\"repo\": \"MyST-NB\", \"createdAt\": \"2020-06-14T00:00:00\", \"count\": 4}, {\"repo\": \"MyST-NB\", \"createdAt\": \"2020-06-21T00:00:00\", \"count\": 0}, {\"repo\": \"MyST-NB\", \"createdAt\": \"2020-06-28T00:00:00\", \"count\": 1}, {\"repo\": \"MyST-NB\", \"createdAt\": \"2020-07-05T00:00:00\", \"count\": 1}, {\"repo\": \"MyST-Parser\", \"createdAt\": \"2020-05-17T00:00:00\", \"count\": 1}, {\"repo\": \"MyST-Parser\", \"createdAt\": \"2020-05-24T00:00:00\", \"count\": 0}, {\"repo\": \"MyST-Parser\", \"createdAt\": \"2020-05-31T00:00:00\", \"count\": 2}, {\"repo\": \"MyST-Parser\", \"createdAt\": \"2020-06-07T00:00:00\", \"count\": 1}, {\"repo\": \"MyST-Parser\", \"createdAt\": \"2020-06-14T00:00:00\", \"count\": 1}, {\"repo\": \"MyST-Parser\", \"createdAt\": \"2020-06-21T00:00:00\", \"count\": 0}, {\"repo\": \"MyST-Parser\", \"createdAt\": \"2020-06-28T00:00:00\", \"count\": 4}, {\"repo\": \"MyST-Parser\", \"createdAt\": \"2020-07-05T00:00:00\", \"count\": 0}, {\"repo\": \"MyST-Parser\", \"createdAt\": \"2020-07-12T00:00:00\", \"count\": 1}, {\"repo\": \"binder\", \"createdAt\": \"2020-06-28T00:00:00\", \"count\": 1}, {\"repo\": \"binder-data\", \"createdAt\": \"2020-06-21T00:00:00\", \"count\": 1}, {\"repo\": \"enhancement-proposals\", \"createdAt\": \"2020-06-07T00:00:00\", \"count\": 1}, {\"repo\": \"enhancement-proposals\", \"createdAt\": \"2020-06-14T00:00:00\", \"count\": 1}, {\"repo\": \"enhancement-proposals\", \"createdAt\": \"2020-06-21T00:00:00\", \"count\": 1}, {\"repo\": \"governance\", \"createdAt\": \"2020-05-24T00:00:00\", \"count\": 1}, {\"repo\": \"governance\", \"createdAt\": \"2020-05-31T00:00:00\", \"count\": 1}, {\"repo\": \"jupyter\", \"createdAt\": \"2020-06-07T00:00:00\", \"count\": 1}, {\"repo\": \"jupyter\", \"createdAt\": \"2020-06-14T00:00:00\", \"count\": 0}, {\"repo\": \"jupyter\", \"createdAt\": \"2020-06-21T00:00:00\", \"count\": 0}, {\"repo\": \"jupyter\", \"createdAt\": \"2020-06-28T00:00:00\", \"count\": 1}, {\"repo\": \"jupyter\", \"createdAt\": \"2020-07-05T00:00:00\", \"count\": 0}, {\"repo\": \"jupyter\", \"createdAt\": \"2020-07-12T00:00:00\", \"count\": 1}, {\"repo\": \"jupyter-book\", \"createdAt\": \"2020-05-03T00:00:00\", \"count\": 1}, {\"repo\": \"jupyter-book\", \"createdAt\": \"2020-05-10T00:00:00\", \"count\": 0}, {\"repo\": \"jupyter-book\", \"createdAt\": \"2020-05-17T00:00:00\", \"count\": 5}, {\"repo\": \"jupyter-book\", \"createdAt\": \"2020-05-24T00:00:00\", \"count\": 4}, {\"repo\": \"jupyter-book\", \"createdAt\": \"2020-05-31T00:00:00\", \"count\": 3}, {\"repo\": \"jupyter-book\", \"createdAt\": \"2020-06-07T00:00:00\", \"count\": 4}, {\"repo\": \"jupyter-book\", \"createdAt\": \"2020-06-14T00:00:00\", \"count\": 3}, {\"repo\": \"jupyter-book\", \"createdAt\": \"2020-06-21T00:00:00\", \"count\": 0}, {\"repo\": \"jupyter-book\", \"createdAt\": \"2020-06-28T00:00:00\", \"count\": 2}, {\"repo\": \"jupyter-book\", \"createdAt\": \"2020-07-05T00:00:00\", \"count\": 1}, {\"repo\": \"jupyter-book\", \"createdAt\": \"2020-07-12T00:00:00\", \"count\": 1}, {\"repo\": \"jupyter-cache\", \"createdAt\": \"2020-05-17T00:00:00\", \"count\": 1}, {\"repo\": \"jupyter-sphinx\", \"createdAt\": \"2020-06-28T00:00:00\", \"count\": 1}, {\"repo\": \"jupyter.github.io\", \"createdAt\": \"2020-05-17T00:00:00\", \"count\": 1}, {\"repo\": \"meta\", \"createdAt\": \"2020-06-07T00:00:00\", \"count\": 1}, {\"repo\": \"mybinder.org-deploy\", \"createdAt\": \"2020-05-24T00:00:00\", \"count\": 1}, {\"repo\": \"nbclient\", \"createdAt\": \"2020-05-17T00:00:00\", \"count\": 1}, {\"repo\": \"nbgitpuller\", \"createdAt\": \"2020-06-28T00:00:00\", \"count\": 1}, {\"repo\": \"nbgitpuller\", \"createdAt\": \"2020-07-05T00:00:00\", \"count\": 2}, {\"repo\": \"sphinx-book-theme\", \"createdAt\": \"2020-05-17T00:00:00\", \"count\": 2}, {\"repo\": \"sphinx-book-theme\", \"createdAt\": \"2020-05-24T00:00:00\", \"count\": 4}, {\"repo\": \"sphinx-book-theme\", \"createdAt\": \"2020-05-31T00:00:00\", \"count\": 4}, {\"repo\": \"sphinx-book-theme\", \"createdAt\": \"2020-06-07T00:00:00\", \"count\": 2}, {\"repo\": \"sphinx-book-theme\", \"createdAt\": \"2020-06-14T00:00:00\", \"count\": 1}, {\"repo\": \"sphinx-book-theme\", \"createdAt\": \"2020-06-21T00:00:00\", \"count\": 1}, {\"repo\": \"sphinx-book-theme\", \"createdAt\": \"2020-06-28T00:00:00\", \"count\": 2}, {\"repo\": \"sphinx-book-theme\", \"createdAt\": \"2020-07-05T00:00:00\", \"count\": 3}, {\"repo\": \"sphinx-thebelab\", \"createdAt\": \"2020-07-05T00:00:00\", \"count\": 3}, {\"repo\": \"sphinx-thebelab\", \"createdAt\": \"2020-07-12T00:00:00\", \"count\": 1}, {\"repo\": \"sphinx-togglebutton\", \"createdAt\": \"2020-06-14T00:00:00\", \"count\": 1}, {\"repo\": \"team-compass\", \"createdAt\": \"2020-06-14T00:00:00\", \"count\": 1}, {\"repo\": \"team-compass\", \"createdAt\": \"2020-06-21T00:00:00\", \"count\": 0}, {\"repo\": \"team-compass\", \"createdAt\": \"2020-06-28T00:00:00\", \"count\": 1}, {\"repo\": \"zero-to-jupyterhub-k8s\", \"createdAt\": \"2020-07-05T00:00:00\", \"count\": 1}], \"data-1a7e25934a3f58fbb3817fc3565a35d3\": [{\"createdAt\": \"2020-05-03T00:00:00\", \"count\": 1}, {\"createdAt\": \"2020-05-10T00:00:00\", \"count\": 1}, {\"createdAt\": \"2020-05-17T00:00:00\", \"count\": 12}, {\"createdAt\": \"2020-05-24T00:00:00\", \"count\": 10}, {\"createdAt\": \"2020-05-31T00:00:00\", \"count\": 11}, {\"createdAt\": \"2020-06-07T00:00:00\", \"count\": 11}, {\"createdAt\": \"2020-06-14T00:00:00\", \"count\": 12}, {\"createdAt\": \"2020-06-21T00:00:00\", \"count\": 3}, {\"createdAt\": \"2020-06-28T00:00:00\", \"count\": 14}, {\"createdAt\": \"2020-07-05T00:00:00\", \"count\": 11}, {\"createdAt\": \"2020-07-12T00:00:00\", \"count\": 4}]}}, {\"mode\": \"vega-lite\"});\n",
       "</script>"
      ],
      "text/plain": [
       "alt.LayerChart(...)"
      ]
     },
     "execution_count": 14,
     "metadata": {},
     "output_type": "execute_result"
    }
   ],
   "source": [
    "prs_time = prs.groupby('repo').resample('W', on='createdAt').count()['author'].reset_index()\n",
    "prs_time = prs_time.rename(columns={'author': 'count'})\n",
    "prs_time_total = prs_time.groupby('createdAt').agg({\"count\": \"sum\"}).reset_index()\n",
    "\n",
    "ch1 = alt.Chart(prs_time, width=600).mark_line().encode(\n",
    "    x='createdAt',\n",
    "    y='count',\n",
    "    color='repo',\n",
    "    tooltip=\"repo\"\n",
    ")\n",
    "\n",
    "ch2 = alt.Chart(prs_time_total, width=600).mark_line(color=\"black\").encode(\n",
    "    x='createdAt',\n",
    "    y='count',\n",
    ")\n",
    "\n",
    "ch1 + ch2"
   ]
  },
  {
   "cell_type": "code",
   "execution_count": 15,
   "metadata": {
    "execution": {
     "iopub.execute_input": "2020-07-11T01:13:46.361584Z",
     "iopub.status.busy": "2020-07-11T01:13:46.360958Z",
     "iopub.status.idle": "2020-07-11T01:13:46.511595Z",
     "shell.execute_reply": "2020-07-11T01:13:46.512299Z"
    },
    "papermill": {
     "duration": 0.177968,
     "end_time": "2020-07-11T01:13:46.512507",
     "exception": false,
     "start_time": "2020-07-11T01:13:46.334539",
     "status": "completed"
    },
    "tags": [
     "hide_input"
    ]
   },
   "outputs": [
    {
     "data": {
      "text/html": [
       "\n",
       "<div id=\"altair-viz-0a513010e74c486ebf66c54e49aeda34\"></div>\n",
       "<script type=\"text/javascript\">\n",
       "  (function(spec, embedOpt){\n",
       "    let outputDiv = document.currentScript.previousElementSibling;\n",
       "    if (outputDiv.id !== \"altair-viz-0a513010e74c486ebf66c54e49aeda34\") {\n",
       "      outputDiv = document.getElementById(\"altair-viz-0a513010e74c486ebf66c54e49aeda34\");\n",
       "    }\n",
       "    const paths = {\n",
       "      \"vega\": \"https://cdn.jsdelivr.net/npm//vega@5?noext\",\n",
       "      \"vega-lib\": \"https://cdn.jsdelivr.net/npm//vega-lib?noext\",\n",
       "      \"vega-lite\": \"https://cdn.jsdelivr.net/npm//vega-lite@4.8.1?noext\",\n",
       "      \"vega-embed\": \"https://cdn.jsdelivr.net/npm//vega-embed@6?noext\",\n",
       "    };\n",
       "\n",
       "    function loadScript(lib) {\n",
       "      return new Promise(function(resolve, reject) {\n",
       "        var s = document.createElement('script');\n",
       "        s.src = paths[lib];\n",
       "        s.async = true;\n",
       "        s.onload = () => resolve(paths[lib]);\n",
       "        s.onerror = () => reject(`Error loading script: ${paths[lib]}`);\n",
       "        document.getElementsByTagName(\"head\")[0].appendChild(s);\n",
       "      });\n",
       "    }\n",
       "\n",
       "    function showError(err) {\n",
       "      outputDiv.innerHTML = `<div class=\"error\" style=\"color:red;\">${err}</div>`;\n",
       "      throw err;\n",
       "    }\n",
       "\n",
       "    function displayChart(vegaEmbed) {\n",
       "      vegaEmbed(outputDiv, spec, embedOpt)\n",
       "        .catch(err => showError(`Javascript Error: ${err.message}<br>This usually means there's a typo in your chart specification. See the javascript console for the full traceback.`));\n",
       "    }\n",
       "\n",
       "    if(typeof define === \"function\" && define.amd) {\n",
       "      requirejs.config({paths});\n",
       "      require([\"vega-embed\"], displayChart, err => showError(`Error loading script: ${err.message}`));\n",
       "    } else if (typeof vegaEmbed === \"function\") {\n",
       "      displayChart(vegaEmbed);\n",
       "    } else {\n",
       "      loadScript(\"vega\")\n",
       "        .then(() => loadScript(\"vega-lite\"))\n",
       "        .then(() => loadScript(\"vega-embed\"))\n",
       "        .catch(showError)\n",
       "        .then(() => displayChart(vegaEmbed));\n",
       "    }\n",
       "  })({\"config\": {\"axisLeft\": {\"labelFontSize\": 15}, \"axisBottom\": {\"labelFontSize\": 15}}, \"data\": {\"name\": \"data-cedb9d7ec087da2d1b037d3da572ac52\"}, \"mark\": \"line\", \"encoding\": {\"color\": {\"type\": \"nominal\", \"field\": \"repo\"}, \"tooltip\": {\"type\": \"nominal\", \"field\": \"repo\"}, \"x\": {\"type\": \"temporal\", \"field\": \"closedAt\"}, \"y\": {\"type\": \"quantitative\", \"field\": \"count\"}}, \"width\": 600, \"$schema\": \"https://vega.github.io/schema/vega-lite/v4.8.1.json\", \"datasets\": {\"data-cedb9d7ec087da2d1b037d3da572ac52\": [{\"repo\": \".github\", \"closedAt\": \"2020-07-05T00:00:00\", \"count\": 1}, {\"repo\": \"MyST-NB\", \"closedAt\": \"2020-05-17T00:00:00\", \"count\": 2}, {\"repo\": \"MyST-NB\", \"closedAt\": \"2020-05-24T00:00:00\", \"count\": 1}, {\"repo\": \"MyST-NB\", \"closedAt\": \"2020-05-31T00:00:00\", \"count\": 0}, {\"repo\": \"MyST-NB\", \"closedAt\": \"2020-06-07T00:00:00\", \"count\": 0}, {\"repo\": \"MyST-NB\", \"closedAt\": \"2020-06-14T00:00:00\", \"count\": 6}, {\"repo\": \"MyST-NB\", \"closedAt\": \"2020-06-21T00:00:00\", \"count\": 2}, {\"repo\": \"MyST-NB\", \"closedAt\": \"2020-06-28T00:00:00\", \"count\": 1}, {\"repo\": \"MyST-Parser\", \"closedAt\": \"2020-05-31T00:00:00\", \"count\": 2}, {\"repo\": \"MyST-Parser\", \"closedAt\": \"2020-06-07T00:00:00\", \"count\": 2}, {\"repo\": \"MyST-Parser\", \"closedAt\": \"2020-06-14T00:00:00\", \"count\": 2}, {\"repo\": \"MyST-Parser\", \"closedAt\": \"2020-06-21T00:00:00\", \"count\": 1}, {\"repo\": \"MyST-Parser\", \"closedAt\": \"2020-06-28T00:00:00\", \"count\": 1}, {\"repo\": \"MyST-Parser\", \"closedAt\": \"2020-07-05T00:00:00\", \"count\": 0}, {\"repo\": \"MyST-Parser\", \"closedAt\": \"2020-07-12T00:00:00\", \"count\": 1}, {\"repo\": \"binder\", \"closedAt\": \"2020-06-28T00:00:00\", \"count\": 1}, {\"repo\": \"binder-data\", \"closedAt\": \"2020-06-21T00:00:00\", \"count\": 1}, {\"repo\": \"dockerspawner\", \"closedAt\": \"2020-06-28T00:00:00\", \"count\": 2}, {\"repo\": \"jupyter\", \"closedAt\": \"2020-05-17T00:00:00\", \"count\": 1}, {\"repo\": \"jupyter\", \"closedAt\": \"2020-05-24T00:00:00\", \"count\": 0}, {\"repo\": \"jupyter\", \"closedAt\": \"2020-05-31T00:00:00\", \"count\": 0}, {\"repo\": \"jupyter\", \"closedAt\": \"2020-06-07T00:00:00\", \"count\": 0}, {\"repo\": \"jupyter\", \"closedAt\": \"2020-06-14T00:00:00\", \"count\": 2}, {\"repo\": \"jupyter\", \"closedAt\": \"2020-06-21T00:00:00\", \"count\": 1}, {\"repo\": \"jupyter\", \"closedAt\": \"2020-06-28T00:00:00\", \"count\": 1}, {\"repo\": \"jupyter\", \"closedAt\": \"2020-07-05T00:00:00\", \"count\": 2}, {\"repo\": \"jupyter\", \"closedAt\": \"2020-07-12T00:00:00\", \"count\": 2}, {\"repo\": \"jupyter-book\", \"closedAt\": \"2020-05-17T00:00:00\", \"count\": 13}, {\"repo\": \"jupyter-book\", \"closedAt\": \"2020-05-24T00:00:00\", \"count\": 5}, {\"repo\": \"jupyter-book\", \"closedAt\": \"2020-05-31T00:00:00\", \"count\": 11}, {\"repo\": \"jupyter-book\", \"closedAt\": \"2020-06-07T00:00:00\", \"count\": 9}, {\"repo\": \"jupyter-book\", \"closedAt\": \"2020-06-14T00:00:00\", \"count\": 5}, {\"repo\": \"jupyter-book\", \"closedAt\": \"2020-06-21T00:00:00\", \"count\": 2}, {\"repo\": \"jupyter-book\", \"closedAt\": \"2020-06-28T00:00:00\", \"count\": 4}, {\"repo\": \"jupyter-book\", \"closedAt\": \"2020-07-05T00:00:00\", \"count\": 2}, {\"repo\": \"jupyter-book\", \"closedAt\": \"2020-07-12T00:00:00\", \"count\": 1}, {\"repo\": \"jupyter-cache\", \"closedAt\": \"2020-06-21T00:00:00\", \"count\": 1}, {\"repo\": \"jupyter-cache\", \"closedAt\": \"2020-06-28T00:00:00\", \"count\": 1}, {\"repo\": \"jupyter.github.io\", \"closedAt\": \"2020-05-17T00:00:00\", \"count\": 3}, {\"repo\": \"jupyter.github.io\", \"closedAt\": \"2020-05-24T00:00:00\", \"count\": 0}, {\"repo\": \"jupyter.github.io\", \"closedAt\": \"2020-05-31T00:00:00\", \"count\": 0}, {\"repo\": \"jupyter.github.io\", \"closedAt\": \"2020-06-07T00:00:00\", \"count\": 0}, {\"repo\": \"jupyter.github.io\", \"closedAt\": \"2020-06-14T00:00:00\", \"count\": 0}, {\"repo\": \"jupyter.github.io\", \"closedAt\": \"2020-06-21T00:00:00\", \"count\": 0}, {\"repo\": \"jupyter.github.io\", \"closedAt\": \"2020-06-28T00:00:00\", \"count\": 1}, {\"repo\": \"jupyterhub\", \"closedAt\": \"2020-07-12T00:00:00\", \"count\": 1}, {\"repo\": \"meta\", \"closedAt\": \"2020-06-07T00:00:00\", \"count\": 1}, {\"repo\": \"meta\", \"closedAt\": \"2020-06-14T00:00:00\", \"count\": 0}, {\"repo\": \"meta\", \"closedAt\": \"2020-06-21T00:00:00\", \"count\": 1}, {\"repo\": \"mybinder.org-deploy\", \"closedAt\": \"2020-05-17T00:00:00\", \"count\": 1}, {\"repo\": \"mybinder.org-deploy\", \"closedAt\": \"2020-05-24T00:00:00\", \"count\": 3}, {\"repo\": \"mybinder.org-deploy\", \"closedAt\": \"2020-05-31T00:00:00\", \"count\": 1}, {\"repo\": \"nbclient\", \"closedAt\": \"2020-05-17T00:00:00\", \"count\": 1}, {\"repo\": \"nbclient\", \"closedAt\": \"2020-05-24T00:00:00\", \"count\": 1}, {\"repo\": \"nbgitpuller\", \"closedAt\": \"2020-06-28T00:00:00\", \"count\": 1}, {\"repo\": \"nbgitpuller\", \"closedAt\": \"2020-07-05T00:00:00\", \"count\": 3}, {\"repo\": \"nbgitpuller\", \"closedAt\": \"2020-07-12T00:00:00\", \"count\": 1}, {\"repo\": \"quantecon-mini-example\", \"closedAt\": \"2020-06-21T00:00:00\", \"count\": 1}, {\"repo\": \"repo2docker\", \"closedAt\": \"2020-05-17T00:00:00\", \"count\": 1}, {\"repo\": \"repo2docker\", \"closedAt\": \"2020-05-24T00:00:00\", \"count\": 0}, {\"repo\": \"repo2docker\", \"closedAt\": \"2020-05-31T00:00:00\", \"count\": 0}, {\"repo\": \"repo2docker\", \"closedAt\": \"2020-06-07T00:00:00\", \"count\": 0}, {\"repo\": \"repo2docker\", \"closedAt\": \"2020-06-14T00:00:00\", \"count\": 1}, {\"repo\": \"sphinx-book-theme\", \"closedAt\": \"2020-05-17T00:00:00\", \"count\": 3}, {\"repo\": \"sphinx-book-theme\", \"closedAt\": \"2020-05-24T00:00:00\", \"count\": 4}, {\"repo\": \"sphinx-book-theme\", \"closedAt\": \"2020-05-31T00:00:00\", \"count\": 3}, {\"repo\": \"sphinx-book-theme\", \"closedAt\": \"2020-06-07T00:00:00\", \"count\": 2}, {\"repo\": \"sphinx-book-theme\", \"closedAt\": \"2020-06-14T00:00:00\", \"count\": 1}, {\"repo\": \"sphinx-book-theme\", \"closedAt\": \"2020-06-21T00:00:00\", \"count\": 2}, {\"repo\": \"sphinx-book-theme\", \"closedAt\": \"2020-06-28T00:00:00\", \"count\": 2}, {\"repo\": \"sphinx-book-theme\", \"closedAt\": \"2020-07-05T00:00:00\", \"count\": 3}, {\"repo\": \"sphinx-copybutton\", \"closedAt\": \"2020-06-21T00:00:00\", \"count\": 2}, {\"repo\": \"sphinx-thebelab\", \"closedAt\": \"2020-07-05T00:00:00\", \"count\": 3}, {\"repo\": \"sphinx-thebelab\", \"closedAt\": \"2020-07-12T00:00:00\", \"count\": 1}, {\"repo\": \"sphinx-togglebutton\", \"closedAt\": \"2020-06-14T00:00:00\", \"count\": 1}, {\"repo\": \"team-compass\", \"closedAt\": \"2020-06-28T00:00:00\", \"count\": 2}, {\"repo\": \"team-compass\", \"closedAt\": \"2020-07-05T00:00:00\", \"count\": 1}, {\"repo\": \"zero-to-jupyterhub-k8s\", \"closedAt\": \"2020-07-05T00:00:00\", \"count\": 1}]}}, {\"mode\": \"vega-lite\"});\n",
       "</script>"
      ],
      "text/plain": [
       "alt.Chart(...)"
      ]
     },
     "execution_count": 15,
     "metadata": {},
     "output_type": "execute_result"
    }
   ],
   "source": [
    "closed_by_time = closed_by.groupby('repo').resample('W', on='closedAt').count()['author'].reset_index()\n",
    "closed_by_time = closed_by_time.rename(columns={'author': 'count'})\n",
    "\n",
    "alt.Chart(closed_by_time, width=600).mark_line().encode(\n",
    "    x='closedAt',\n",
    "    y='count',\n",
    "    color='repo',\n",
    "    tooltip=\"repo\"\n",
    ")"
   ]
  },
  {
   "cell_type": "markdown",
   "metadata": {
    "papermill": {
     "duration": 0.018638,
     "end_time": "2020-07-11T01:13:46.550579",
     "exception": false,
     "start_time": "2020-07-11T01:13:46.531941",
     "status": "completed"
    },
    "tags": []
   },
   "source": [
    "# By type over time"
   ]
  },
  {
   "cell_type": "code",
   "execution_count": 16,
   "metadata": {
    "execution": {
     "iopub.execute_input": "2020-07-11T01:13:46.601355Z",
     "iopub.status.busy": "2020-07-11T01:13:46.600430Z",
     "iopub.status.idle": "2020-07-11T01:13:46.625958Z",
     "shell.execute_reply": "2020-07-11T01:13:46.625400Z"
    },
    "papermill": {
     "duration": 0.054854,
     "end_time": "2020-07-11T01:13:46.626106",
     "exception": false,
     "start_time": "2020-07-11T01:13:46.571252",
     "status": "completed"
    },
    "tags": [
     "remove_cell"
    ]
   },
   "outputs": [],
   "source": [
    "prs_time = prs[['author', 'createdAt']].resample('W', on='createdAt').count()['author'].reset_index()\n",
    "prs_time = prs_time.rename(columns={'author': 'prs'})\n",
    "comments_time = comments[['author', 'createdAt']].resample('W', on='createdAt').count()['author'].reset_index()\n",
    "comments_time = comments_time.rename(columns={'author': 'comments'})\n",
    "\n",
    "total_time = pd.merge(prs_time, comments_time, on='createdAt', how='outer')\n",
    "total_time = total_time.melt(id_vars='createdAt', var_name=\"kind\", value_name=\"count\")\n"
   ]
  },
  {
   "cell_type": "code",
   "execution_count": 17,
   "metadata": {
    "execution": {
     "iopub.execute_input": "2020-07-11T01:13:46.690332Z",
     "iopub.status.busy": "2020-07-11T01:13:46.670679Z",
     "iopub.status.idle": "2020-07-11T01:13:46.692871Z",
     "shell.execute_reply": "2020-07-11T01:13:46.693548Z"
    },
    "papermill": {
     "duration": 0.049144,
     "end_time": "2020-07-11T01:13:46.693703",
     "exception": false,
     "start_time": "2020-07-11T01:13:46.644559",
     "status": "completed"
    },
    "tags": [
     "hide_input"
    ]
   },
   "outputs": [
    {
     "data": {
      "text/html": [
       "\n",
       "<div id=\"altair-viz-b00bf8c9c5bc44ae9c5aef808064da3e\"></div>\n",
       "<script type=\"text/javascript\">\n",
       "  (function(spec, embedOpt){\n",
       "    let outputDiv = document.currentScript.previousElementSibling;\n",
       "    if (outputDiv.id !== \"altair-viz-b00bf8c9c5bc44ae9c5aef808064da3e\") {\n",
       "      outputDiv = document.getElementById(\"altair-viz-b00bf8c9c5bc44ae9c5aef808064da3e\");\n",
       "    }\n",
       "    const paths = {\n",
       "      \"vega\": \"https://cdn.jsdelivr.net/npm//vega@5?noext\",\n",
       "      \"vega-lib\": \"https://cdn.jsdelivr.net/npm//vega-lib?noext\",\n",
       "      \"vega-lite\": \"https://cdn.jsdelivr.net/npm//vega-lite@4.8.1?noext\",\n",
       "      \"vega-embed\": \"https://cdn.jsdelivr.net/npm//vega-embed@6?noext\",\n",
       "    };\n",
       "\n",
       "    function loadScript(lib) {\n",
       "      return new Promise(function(resolve, reject) {\n",
       "        var s = document.createElement('script');\n",
       "        s.src = paths[lib];\n",
       "        s.async = true;\n",
       "        s.onload = () => resolve(paths[lib]);\n",
       "        s.onerror = () => reject(`Error loading script: ${paths[lib]}`);\n",
       "        document.getElementsByTagName(\"head\")[0].appendChild(s);\n",
       "      });\n",
       "    }\n",
       "\n",
       "    function showError(err) {\n",
       "      outputDiv.innerHTML = `<div class=\"error\" style=\"color:red;\">${err}</div>`;\n",
       "      throw err;\n",
       "    }\n",
       "\n",
       "    function displayChart(vegaEmbed) {\n",
       "      vegaEmbed(outputDiv, spec, embedOpt)\n",
       "        .catch(err => showError(`Javascript Error: ${err.message}<br>This usually means there's a typo in your chart specification. See the javascript console for the full traceback.`));\n",
       "    }\n",
       "\n",
       "    if(typeof define === \"function\" && define.amd) {\n",
       "      requirejs.config({paths});\n",
       "      require([\"vega-embed\"], displayChart, err => showError(`Error loading script: ${err.message}`));\n",
       "    } else if (typeof vegaEmbed === \"function\") {\n",
       "      displayChart(vegaEmbed);\n",
       "    } else {\n",
       "      loadScript(\"vega\")\n",
       "        .then(() => loadScript(\"vega-lite\"))\n",
       "        .then(() => loadScript(\"vega-embed\"))\n",
       "        .catch(showError)\n",
       "        .then(() => displayChart(vegaEmbed));\n",
       "    }\n",
       "  })({\"config\": {\"axisLeft\": {\"labelFontSize\": 15}, \"axisBottom\": {\"labelFontSize\": 15}}, \"data\": {\"name\": \"data-849e1db5ce1034c46778b133ffc42117\"}, \"mark\": \"line\", \"encoding\": {\"color\": {\"type\": \"nominal\", \"field\": \"kind\"}, \"x\": {\"type\": \"temporal\", \"field\": \"createdAt\"}, \"y\": {\"type\": \"quantitative\", \"field\": \"count\"}}, \"width\": 600, \"$schema\": \"https://vega.github.io/schema/vega-lite/v4.8.1.json\", \"datasets\": {\"data-849e1db5ce1034c46778b133ffc42117\": [{\"createdAt\": \"2020-05-03T00:00:00\", \"kind\": \"prs\", \"count\": 1.0}, {\"createdAt\": \"2020-05-10T00:00:00\", \"kind\": \"prs\", \"count\": 1.0}, {\"createdAt\": \"2020-05-17T00:00:00\", \"kind\": \"prs\", \"count\": 12.0}, {\"createdAt\": \"2020-05-24T00:00:00\", \"kind\": \"prs\", \"count\": 10.0}, {\"createdAt\": \"2020-05-31T00:00:00\", \"kind\": \"prs\", \"count\": 11.0}, {\"createdAt\": \"2020-06-07T00:00:00\", \"kind\": \"prs\", \"count\": 11.0}, {\"createdAt\": \"2020-06-14T00:00:00\", \"kind\": \"prs\", \"count\": 12.0}, {\"createdAt\": \"2020-06-21T00:00:00\", \"kind\": \"prs\", \"count\": 3.0}, {\"createdAt\": \"2020-06-28T00:00:00\", \"kind\": \"prs\", \"count\": 14.0}, {\"createdAt\": \"2020-07-05T00:00:00\", \"kind\": \"prs\", \"count\": 11.0}, {\"createdAt\": \"2020-07-12T00:00:00\", \"kind\": \"prs\", \"count\": 4.0}, {\"createdAt\": \"2020-05-03T00:00:00\", \"kind\": \"comments\", \"count\": null}, {\"createdAt\": \"2020-05-10T00:00:00\", \"kind\": \"comments\", \"count\": null}, {\"createdAt\": \"2020-05-17T00:00:00\", \"kind\": \"comments\", \"count\": 125.0}, {\"createdAt\": \"2020-05-24T00:00:00\", \"kind\": \"comments\", \"count\": 101.0}, {\"createdAt\": \"2020-05-31T00:00:00\", \"kind\": \"comments\", \"count\": 109.0}, {\"createdAt\": \"2020-06-07T00:00:00\", \"kind\": \"comments\", \"count\": 118.0}, {\"createdAt\": \"2020-06-14T00:00:00\", \"kind\": \"comments\", \"count\": 85.0}, {\"createdAt\": \"2020-06-21T00:00:00\", \"kind\": \"comments\", \"count\": 93.0}, {\"createdAt\": \"2020-06-28T00:00:00\", \"kind\": \"comments\", \"count\": 80.0}, {\"createdAt\": \"2020-07-05T00:00:00\", \"kind\": \"comments\", \"count\": 78.0}, {\"createdAt\": \"2020-07-12T00:00:00\", \"kind\": \"comments\", \"count\": 64.0}]}}, {\"mode\": \"vega-lite\"});\n",
       "</script>"
      ],
      "text/plain": [
       "alt.Chart(...)"
      ]
     },
     "execution_count": 17,
     "metadata": {},
     "output_type": "execute_result"
    }
   ],
   "source": [
    "alt.Chart(total_time, width=600).mark_line().encode(\n",
    "    x='createdAt',\n",
    "    y='count',\n",
    "    color='kind'\n",
    ")"
   ]
  }
 ],
 "metadata": {
  "kernelspec": {
   "display_name": "Python 3",
   "language": "python",
   "name": "python3"
  },
  "language_info": {
   "codemirror_mode": {
    "name": "ipython",
    "version": 3
   },
   "file_extension": ".py",
   "mimetype": "text/x-python",
   "name": "python",
   "nbconvert_exporter": "python",
   "pygments_lexer": "ipython3",
   "version": "3.7.8"
  },
  "papermill": {
   "duration": 4.003385,
   "end_time": "2020-07-11T01:13:47.023525",
   "environment_variables": {},
   "exception": null,
   "input_path": "./person.ipynb",
   "output_path": "people/choldgraf.ipynb",
   "parameters": {
    "n_days": 60,
    "person": "choldgraf"
   },
   "start_time": "2020-07-11T01:13:43.020140",
   "version": "2.1.2"
  },
  "widgets": {
   "application/vnd.jupyter.widget-state+json": {
    "state": {},
    "version_major": 2,
    "version_minor": 0
   }
  }
 },
 "nbformat": 4,
 "nbformat_minor": 4
}