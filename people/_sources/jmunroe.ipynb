{
 "cells": [
  {
   "cell_type": "markdown",
   "id": "233374c9",
   "metadata": {
    "papermill": {
     "duration": 0.005052,
     "end_time": "2023-03-06T14:45:03.417107",
     "exception": false,
     "start_time": "2023-03-06T14:45:03.412055",
     "status": "completed"
    },
    "tags": []
   },
   "source": [
    "# Report for jmunroe"
   ]
  },
  {
   "cell_type": "code",
   "execution_count": 1,
   "id": "b3777d80",
   "metadata": {
    "execution": {
     "iopub.execute_input": "2023-03-06T14:45:03.429776Z",
     "iopub.status.busy": "2023-03-06T14:45:03.429180Z",
     "iopub.status.idle": "2023-03-06T14:45:04.263758Z",
     "shell.execute_reply": "2023-03-06T14:45:04.263035Z"
    },
    "papermill": {
     "duration": 0.84404,
     "end_time": "2023-03-06T14:45:04.265949",
     "exception": false,
     "start_time": "2023-03-06T14:45:03.421909",
     "status": "completed"
    },
    "tags": [
     "remove_cell"
    ]
   },
   "outputs": [],
   "source": [
    "import seaborn as sns\n",
    "import pandas as pd\n",
    "import numpy as np\n",
    "import altair as alt\n",
    "from markdown import markdown\n",
    "from IPython.display import Markdown\n",
    "from ipywidgets.widgets import HTML, Tab\n",
    "from ipywidgets import widgets\n",
    "from datetime import timedelta\n",
    "from matplotlib import pyplot as plt\n",
    "import os.path as op\n",
    "\n",
    "from mycode import alt_theme\n",
    "from warnings import simplefilter\n",
    "simplefilter('ignore')"
   ]
  },
  {
   "cell_type": "code",
   "execution_count": 2,
   "id": "38699359",
   "metadata": {
    "execution": {
     "iopub.execute_input": "2023-03-06T14:45:04.280050Z",
     "iopub.status.busy": "2023-03-06T14:45:04.279252Z",
     "iopub.status.idle": "2023-03-06T14:45:04.282841Z",
     "shell.execute_reply": "2023-03-06T14:45:04.282305Z"
    },
    "papermill": {
     "duration": 0.0134,
     "end_time": "2023-03-06T14:45:04.284836",
     "exception": false,
     "start_time": "2023-03-06T14:45:04.271436",
     "status": "completed"
    },
    "tags": [
     "remove_cell"
    ]
   },
   "outputs": [],
   "source": [
    "def author_url(author):\n",
    "    return f\"https://github.com/{author}\""
   ]
  },
  {
   "cell_type": "code",
   "execution_count": 3,
   "id": "afa18c2e",
   "metadata": {
    "execution": {
     "iopub.execute_input": "2023-03-06T14:45:04.294465Z",
     "iopub.status.busy": "2023-03-06T14:45:04.293756Z",
     "iopub.status.idle": "2023-03-06T14:45:04.298090Z",
     "shell.execute_reply": "2023-03-06T14:45:04.297348Z"
    },
    "papermill": {
     "duration": 0.010983,
     "end_time": "2023-03-06T14:45:04.299802",
     "exception": false,
     "start_time": "2023-03-06T14:45:04.288819",
     "status": "completed"
    },
    "tags": [
     "parameters",
     "hide_input"
    ]
   },
   "outputs": [],
   "source": [
    "# Parameters\n",
    "fmt_date = \"{:%Y-%m-%d}\"\n",
    "\n",
    "n_days = 30 * 60\n",
    "start_date = fmt_date.format(pd.datetime.today() - timedelta(days=n_days))\n",
    "end_date = fmt_date.format(pd.datetime.today())\n",
    "\n",
    "renderer = \"html\"\n",
    "person = \"damianavila\""
   ]
  },
  {
   "cell_type": "code",
   "execution_count": 4,
   "id": "54173299",
   "metadata": {
    "execution": {
     "iopub.execute_input": "2023-03-06T14:45:04.309030Z",
     "iopub.status.busy": "2023-03-06T14:45:04.308596Z",
     "iopub.status.idle": "2023-03-06T14:45:04.311740Z",
     "shell.execute_reply": "2023-03-06T14:45:04.311116Z"
    },
    "papermill": {
     "duration": 0.009622,
     "end_time": "2023-03-06T14:45:04.313449",
     "exception": false,
     "start_time": "2023-03-06T14:45:04.303827",
     "status": "completed"
    },
    "tags": [
     "injected-parameters",
     "remove-cell"
    ]
   },
   "outputs": [],
   "source": [
    "# Parameters\n",
    "person = \"jmunroe\"\n",
    "n_days = 90\n"
   ]
  },
  {
   "cell_type": "code",
   "execution_count": 5,
   "id": "22634426",
   "metadata": {
    "execution": {
     "iopub.execute_input": "2023-03-06T14:45:04.324196Z",
     "iopub.status.busy": "2023-03-06T14:45:04.323687Z",
     "iopub.status.idle": "2023-03-06T14:45:04.331775Z",
     "shell.execute_reply": "2023-03-06T14:45:04.331180Z"
    },
    "papermill": {
     "duration": 0.014701,
     "end_time": "2023-03-06T14:45:04.333381",
     "exception": false,
     "start_time": "2023-03-06T14:45:04.318680",
     "status": "completed"
    },
    "tags": [
     "remove_cell"
    ]
   },
   "outputs": [
    {
     "data": {
      "text/plain": [
       "ThemeRegistry.enable('my_theme')"
      ]
     },
     "execution_count": 5,
     "metadata": {},
     "output_type": "execute_result"
    }
   ],
   "source": [
    "alt.renderers.enable(renderer);\n",
    "alt.themes.register('my_theme', alt_theme)\n",
    "alt.themes.enable(\"my_theme\")"
   ]
  },
  {
   "cell_type": "markdown",
   "id": "9b4385a7",
   "metadata": {
    "papermill": {
     "duration": 0.003943,
     "end_time": "2023-03-06T14:45:04.341345",
     "exception": false,
     "start_time": "2023-03-06T14:45:04.337402",
     "status": "completed"
    },
    "tags": []
   },
   "source": [
    "## Load data"
   ]
  },
  {
   "cell_type": "code",
   "execution_count": 6,
   "id": "3bc959e1",
   "metadata": {
    "execution": {
     "iopub.execute_input": "2023-03-06T14:45:04.350736Z",
     "iopub.status.busy": "2023-03-06T14:45:04.350342Z",
     "iopub.status.idle": "2023-03-06T14:45:04.476229Z",
     "shell.execute_reply": "2023-03-06T14:45:04.475404Z"
    },
    "papermill": {
     "duration": 0.133063,
     "end_time": "2023-03-06T14:45:04.478343",
     "exception": false,
     "start_time": "2023-03-06T14:45:04.345280",
     "status": "completed"
    },
    "tags": [
     "remove_cell"
    ]
   },
   "outputs": [],
   "source": [
    "from pathlib import Path\n",
    "path_data = Path(\"./\")\n",
    "comments = pd.read_csv(path_data.joinpath('../data/comments.csv'), index_col=0)\n",
    "issues = pd.read_csv(path_data.joinpath('../data/issues.csv'), index_col=0)\n",
    "prs = pd.read_csv(path_data.joinpath('../data/prs.csv'), index_col=0)\n",
    "\n",
    "comments = comments.query('author == @person').drop_duplicates()\n",
    "issues = issues.query('author == @person').drop_duplicates()\n",
    "closed_by = prs.query('mergedBy == @person')\n",
    "prs = prs.query('author == @person').drop_duplicates()"
   ]
  },
  {
   "cell_type": "code",
   "execution_count": 7,
   "id": "9ed982bc",
   "metadata": {
    "execution": {
     "iopub.execute_input": "2023-03-06T14:45:04.491574Z",
     "iopub.status.busy": "2023-03-06T14:45:04.491300Z",
     "iopub.status.idle": "2023-03-06T14:45:04.496210Z",
     "shell.execute_reply": "2023-03-06T14:45:04.495438Z"
    },
    "papermill": {
     "duration": 0.01449,
     "end_time": "2023-03-06T14:45:04.497912",
     "exception": false,
     "start_time": "2023-03-06T14:45:04.483422",
     "status": "completed"
    },
    "tags": []
   },
   "outputs": [],
   "source": [
    "if len(prs) == 0:\n",
    "    import sys\n",
    "    print(f\"Empty data for {person}, skipping...\")\n",
    "    sys.exit(0)"
   ]
  },
  {
   "cell_type": "code",
   "execution_count": 8,
   "id": "083e51ce",
   "metadata": {
    "execution": {
     "iopub.execute_input": "2023-03-06T14:45:04.508766Z",
     "iopub.status.busy": "2023-03-06T14:45:04.508537Z",
     "iopub.status.idle": "2023-03-06T14:45:04.555769Z",
     "shell.execute_reply": "2023-03-06T14:45:04.555030Z"
    },
    "papermill": {
     "duration": 0.055656,
     "end_time": "2023-03-06T14:45:04.557736",
     "exception": false,
     "start_time": "2023-03-06T14:45:04.502080",
     "status": "completed"
    },
    "tags": [
     "remove_cell"
    ]
   },
   "outputs": [],
   "source": [
    "# Time columns\n",
    "# Also drop dates outside of our range\n",
    "time_columns = ['updatedAt', 'createdAt', 'closedAt']\n",
    "for col in time_columns:\n",
    "    for item in [comments, issues, prs, closed_by]:\n",
    "        if col not in item.columns:\n",
    "            continue\n",
    "        dt = pd.to_datetime(item[col]).dt.tz_localize(None)\n",
    "        item.loc[:, col] = dt\n",
    "        item.query(\"updatedAt < @end_date and updatedAt > @start_date\", inplace=True)"
   ]
  },
  {
   "cell_type": "markdown",
   "id": "36399da3",
   "metadata": {
    "papermill": {
     "duration": 0.00461,
     "end_time": "2023-03-06T14:45:04.566897",
     "exception": false,
     "start_time": "2023-03-06T14:45:04.562287",
     "status": "completed"
    },
    "tags": []
   },
   "source": [
    "## Repository summaries"
   ]
  },
  {
   "cell_type": "code",
   "execution_count": 9,
   "id": "69a31e7a",
   "metadata": {
    "execution": {
     "iopub.execute_input": "2023-03-06T14:45:04.576835Z",
     "iopub.status.busy": "2023-03-06T14:45:04.576594Z",
     "iopub.status.idle": "2023-03-06T14:45:04.591455Z",
     "shell.execute_reply": "2023-03-06T14:45:04.590734Z"
    },
    "papermill": {
     "duration": 0.0227,
     "end_time": "2023-03-06T14:45:04.593782",
     "exception": false,
     "start_time": "2023-03-06T14:45:04.571082",
     "status": "completed"
    },
    "tags": [
     "remove_cell"
    ]
   },
   "outputs": [],
   "source": [
    "summaries = []\n",
    "for idata, name in [(issues, 'issues'), (prs, 'prs'), (comments, 'comments')]:\n",
    "    idata = idata.groupby([\"repo\", \"org\"]).agg({'id': \"count\"}).reset_index().rename(columns={'id': 'count'})\n",
    "    idata[\"kind\"] = name\n",
    "    summaries.append(idata)\n",
    "summaries = pd.concat(summaries)"
   ]
  },
  {
   "cell_type": "code",
   "execution_count": 10,
   "id": "c4d1cfb3",
   "metadata": {
    "execution": {
     "iopub.execute_input": "2023-03-06T14:45:04.606846Z",
     "iopub.status.busy": "2023-03-06T14:45:04.606170Z",
     "iopub.status.idle": "2023-03-06T14:45:04.614717Z",
     "shell.execute_reply": "2023-03-06T14:45:04.614126Z"
    },
    "papermill": {
     "duration": 0.017292,
     "end_time": "2023-03-06T14:45:04.616414",
     "exception": false,
     "start_time": "2023-03-06T14:45:04.599122",
     "status": "completed"
    },
    "tags": [
     "remove_cell"
    ]
   },
   "outputs": [],
   "source": [
    "repo_summaries = summaries.groupby([\"repo\", \"kind\"]).agg({\"count\": \"sum\"}).reset_index()\n",
    "org_summaries = summaries.groupby([\"org\", \"kind\"]).agg({\"count\": \"sum\"}).reset_index()"
   ]
  },
  {
   "cell_type": "code",
   "execution_count": 11,
   "id": "f92f371a",
   "metadata": {
    "execution": {
     "iopub.execute_input": "2023-03-06T14:45:04.626189Z",
     "iopub.status.busy": "2023-03-06T14:45:04.625635Z",
     "iopub.status.idle": "2023-03-06T14:45:04.629608Z",
     "shell.execute_reply": "2023-03-06T14:45:04.628961Z"
    },
    "papermill": {
     "duration": 0.010593,
     "end_time": "2023-03-06T14:45:04.631155",
     "exception": false,
     "start_time": "2023-03-06T14:45:04.620562",
     "status": "completed"
    },
    "tags": [
     "remove_cell"
    ]
   },
   "outputs": [],
   "source": [
    "repo_summaries['logcount'] = np.log(repo_summaries[\"count\"])"
   ]
  },
  {
   "cell_type": "code",
   "execution_count": 12,
   "id": "7cb50064",
   "metadata": {
    "execution": {
     "iopub.execute_input": "2023-03-06T14:45:04.640848Z",
     "iopub.status.busy": "2023-03-06T14:45:04.640280Z",
     "iopub.status.idle": "2023-03-06T14:45:04.729648Z",
     "shell.execute_reply": "2023-03-06T14:45:04.728916Z"
    },
    "papermill": {
     "duration": 0.096085,
     "end_time": "2023-03-06T14:45:04.731393",
     "exception": false,
     "start_time": "2023-03-06T14:45:04.635308",
     "status": "completed"
    },
    "tags": [
     "hide_input"
    ]
   },
   "outputs": [
    {
     "data": {
      "text/html": [
       "\n",
       "<div id=\"altair-viz-15ac5775fc6a49d58ab392b02bb602aa\"></div>\n",
       "<script type=\"text/javascript\">\n",
       "  var VEGA_DEBUG = (typeof VEGA_DEBUG == \"undefined\") ? {} : VEGA_DEBUG;\n",
       "  (function(spec, embedOpt){\n",
       "    let outputDiv = document.currentScript.previousElementSibling;\n",
       "    if (outputDiv.id !== \"altair-viz-15ac5775fc6a49d58ab392b02bb602aa\") {\n",
       "      outputDiv = document.getElementById(\"altair-viz-15ac5775fc6a49d58ab392b02bb602aa\");\n",
       "    }\n",
       "    const paths = {\n",
       "      \"vega\": \"https://cdn.jsdelivr.net/npm//vega@5?noext\",\n",
       "      \"vega-lib\": \"https://cdn.jsdelivr.net/npm//vega-lib?noext\",\n",
       "      \"vega-lite\": \"https://cdn.jsdelivr.net/npm//vega-lite@4.17.0?noext\",\n",
       "      \"vega-embed\": \"https://cdn.jsdelivr.net/npm//vega-embed@6?noext\",\n",
       "    };\n",
       "\n",
       "    function maybeLoadScript(lib, version) {\n",
       "      var key = `${lib.replace(\"-\", \"\")}_version`;\n",
       "      return (VEGA_DEBUG[key] == version) ?\n",
       "        Promise.resolve(paths[lib]) :\n",
       "        new Promise(function(resolve, reject) {\n",
       "          var s = document.createElement('script');\n",
       "          document.getElementsByTagName(\"head\")[0].appendChild(s);\n",
       "          s.async = true;\n",
       "          s.onload = () => {\n",
       "            VEGA_DEBUG[key] = version;\n",
       "            return resolve(paths[lib]);\n",
       "          };\n",
       "          s.onerror = () => reject(`Error loading script: ${paths[lib]}`);\n",
       "          s.src = paths[lib];\n",
       "        });\n",
       "    }\n",
       "\n",
       "    function showError(err) {\n",
       "      outputDiv.innerHTML = `<div class=\"error\" style=\"color:red;\">${err}</div>`;\n",
       "      throw err;\n",
       "    }\n",
       "\n",
       "    function displayChart(vegaEmbed) {\n",
       "      vegaEmbed(outputDiv, spec, embedOpt)\n",
       "        .catch(err => showError(`Javascript Error: ${err.message}<br>This usually means there's a typo in your chart specification. See the javascript console for the full traceback.`));\n",
       "    }\n",
       "\n",
       "    if(typeof define === \"function\" && define.amd) {\n",
       "      requirejs.config({paths});\n",
       "      require([\"vega-embed\"], displayChart, err => showError(`Error loading script: ${err.message}`));\n",
       "    } else {\n",
       "      maybeLoadScript(\"vega\", \"5\")\n",
       "        .then(() => maybeLoadScript(\"vega-lite\", \"4.17.0\"))\n",
       "        .then(() => maybeLoadScript(\"vega-embed\", \"6\"))\n",
       "        .catch(showError)\n",
       "        .then(() => displayChart(vegaEmbed));\n",
       "    }\n",
       "  })({\"config\": {\"axisLeft\": {\"labelFontSize\": 15}, \"axisBottom\": {\"labelFontSize\": 15}}, \"hconcat\": [{\"mark\": \"bar\", \"encoding\": {\"color\": {\"field\": \"kind\", \"type\": \"nominal\"}, \"tooltip\": {\"field\": \"kind\", \"type\": \"nominal\"}, \"x\": {\"field\": \"repo\", \"type\": \"nominal\"}, \"y\": {\"field\": \"count\", \"type\": \"quantitative\"}}, \"title\": \"Activity per repository\", \"width\": 600}, {\"mark\": \"bar\", \"encoding\": {\"color\": {\"field\": \"kind\", \"type\": \"nominal\"}, \"tooltip\": {\"field\": \"kind\", \"type\": \"nominal\"}, \"x\": {\"field\": \"repo\", \"type\": \"nominal\"}, \"y\": {\"field\": \"logcount\", \"type\": \"quantitative\"}}, \"title\": \"Log activity per repository\", \"width\": 600}], \"data\": {\"name\": \"data-7343ba9493cde8e515990b4a0614c289\"}, \"$schema\": \"https://vega.github.io/schema/vega-lite/v4.17.0.json\", \"datasets\": {\"data-7343ba9493cde8e515990b4a0614c289\": [{\"repo\": \"infrastructure\", \"kind\": \"comments\", \"count\": 20, \"logcount\": 2.995732273553991}, {\"repo\": \"infrastructure\", \"kind\": \"issues\", \"count\": 10, \"logcount\": 2.3025850929940455}, {\"repo\": \"leads\", \"kind\": \"comments\", \"count\": 22, \"logcount\": 3.0910424533583156}, {\"repo\": \"leads\", \"kind\": \"issues\", \"count\": 7, \"logcount\": 1.9459101490553132}, {\"repo\": \"meta\", \"kind\": \"comments\", \"count\": 21, \"logcount\": 3.044522437723423}, {\"repo\": \"meta\", \"kind\": \"issues\", \"count\": 6, \"logcount\": 1.791759469228055}, {\"repo\": \"researchdelight-image\", \"kind\": \"issues\", \"count\": 4, \"logcount\": 1.3862943611198906}, {\"repo\": \"researchdelight-image\", \"kind\": \"prs\", \"count\": 1, \"logcount\": 0.0}, {\"repo\": \"team-compass\", \"kind\": \"comments\", \"count\": 18, \"logcount\": 2.8903717578961645}, {\"repo\": \"team-compass\", \"kind\": \"issues\", \"count\": 6, \"logcount\": 1.791759469228055}]}}, {\"mode\": \"vega-lite\"});\n",
       "</script>"
      ],
      "text/plain": [
       "alt.HConcatChart(...)"
      ]
     },
     "execution_count": 12,
     "metadata": {},
     "output_type": "execute_result"
    }
   ],
   "source": [
    "ch1 = alt.Chart(repo_summaries, width=600, title=\"Activity per repository\").mark_bar().encode(\n",
    "    x='repo',\n",
    "    y='count',\n",
    "    color='kind',\n",
    "    tooltip=\"kind\"\n",
    ")\n",
    "\n",
    "ch2 = alt.Chart(repo_summaries, width=600, title=\"Log activity per repository\").mark_bar().encode(\n",
    "    x='repo',\n",
    "    y='logcount',\n",
    "    color='kind',\n",
    "    tooltip=\"kind\"\n",
    ")\n",
    "\n",
    "ch1 | ch2"
   ]
  },
  {
   "cell_type": "code",
   "execution_count": 13,
   "id": "34560572",
   "metadata": {
    "execution": {
     "iopub.execute_input": "2023-03-06T14:45:04.743727Z",
     "iopub.status.busy": "2023-03-06T14:45:04.743233Z",
     "iopub.status.idle": "2023-03-06T14:45:04.789052Z",
     "shell.execute_reply": "2023-03-06T14:45:04.788284Z"
    },
    "papermill": {
     "duration": 0.053838,
     "end_time": "2023-03-06T14:45:04.791393",
     "exception": false,
     "start_time": "2023-03-06T14:45:04.737555",
     "status": "completed"
    },
    "tags": [
     "hide_input"
    ]
   },
   "outputs": [
    {
     "data": {
      "text/html": [
       "\n",
       "<div id=\"altair-viz-ce186b31bad74076896c6b2ebffd83e2\"></div>\n",
       "<script type=\"text/javascript\">\n",
       "  var VEGA_DEBUG = (typeof VEGA_DEBUG == \"undefined\") ? {} : VEGA_DEBUG;\n",
       "  (function(spec, embedOpt){\n",
       "    let outputDiv = document.currentScript.previousElementSibling;\n",
       "    if (outputDiv.id !== \"altair-viz-ce186b31bad74076896c6b2ebffd83e2\") {\n",
       "      outputDiv = document.getElementById(\"altair-viz-ce186b31bad74076896c6b2ebffd83e2\");\n",
       "    }\n",
       "    const paths = {\n",
       "      \"vega\": \"https://cdn.jsdelivr.net/npm//vega@5?noext\",\n",
       "      \"vega-lib\": \"https://cdn.jsdelivr.net/npm//vega-lib?noext\",\n",
       "      \"vega-lite\": \"https://cdn.jsdelivr.net/npm//vega-lite@4.17.0?noext\",\n",
       "      \"vega-embed\": \"https://cdn.jsdelivr.net/npm//vega-embed@6?noext\",\n",
       "    };\n",
       "\n",
       "    function maybeLoadScript(lib, version) {\n",
       "      var key = `${lib.replace(\"-\", \"\")}_version`;\n",
       "      return (VEGA_DEBUG[key] == version) ?\n",
       "        Promise.resolve(paths[lib]) :\n",
       "        new Promise(function(resolve, reject) {\n",
       "          var s = document.createElement('script');\n",
       "          document.getElementsByTagName(\"head\")[0].appendChild(s);\n",
       "          s.async = true;\n",
       "          s.onload = () => {\n",
       "            VEGA_DEBUG[key] = version;\n",
       "            return resolve(paths[lib]);\n",
       "          };\n",
       "          s.onerror = () => reject(`Error loading script: ${paths[lib]}`);\n",
       "          s.src = paths[lib];\n",
       "        });\n",
       "    }\n",
       "\n",
       "    function showError(err) {\n",
       "      outputDiv.innerHTML = `<div class=\"error\" style=\"color:red;\">${err}</div>`;\n",
       "      throw err;\n",
       "    }\n",
       "\n",
       "    function displayChart(vegaEmbed) {\n",
       "      vegaEmbed(outputDiv, spec, embedOpt)\n",
       "        .catch(err => showError(`Javascript Error: ${err.message}<br>This usually means there's a typo in your chart specification. See the javascript console for the full traceback.`));\n",
       "    }\n",
       "\n",
       "    if(typeof define === \"function\" && define.amd) {\n",
       "      requirejs.config({paths});\n",
       "      require([\"vega-embed\"], displayChart, err => showError(`Error loading script: ${err.message}`));\n",
       "    } else {\n",
       "      maybeLoadScript(\"vega\", \"5\")\n",
       "        .then(() => maybeLoadScript(\"vega-lite\", \"4.17.0\"))\n",
       "        .then(() => maybeLoadScript(\"vega-embed\", \"6\"))\n",
       "        .catch(showError)\n",
       "        .then(() => displayChart(vegaEmbed));\n",
       "    }\n",
       "  })({\"config\": {\"axisLeft\": {\"labelFontSize\": 15}, \"axisBottom\": {\"labelFontSize\": 15}}, \"data\": {\"name\": \"data-c6e82add1904fc3b13198aa6afef39b9\"}, \"mark\": \"bar\", \"encoding\": {\"color\": {\"field\": \"kind\", \"type\": \"nominal\"}, \"tooltip\": {\"field\": \"org\", \"type\": \"nominal\"}, \"x\": {\"field\": \"org\", \"type\": \"nominal\"}, \"y\": {\"field\": \"count\", \"type\": \"quantitative\"}}, \"width\": 600, \"$schema\": \"https://vega.github.io/schema/vega-lite/v4.17.0.json\", \"datasets\": {\"data-c6e82add1904fc3b13198aa6afef39b9\": [{\"org\": \"2i2c-org\", \"kind\": \"comments\", \"count\": 81}, {\"org\": \"2i2c-org\", \"kind\": \"issues\", \"count\": 33}, {\"org\": \"2i2c-org\", \"kind\": \"prs\", \"count\": 1}]}}, {\"mode\": \"vega-lite\"});\n",
       "</script>"
      ],
      "text/plain": [
       "alt.Chart(...)"
      ]
     },
     "execution_count": 13,
     "metadata": {},
     "output_type": "execute_result"
    }
   ],
   "source": [
    "alt.Chart(org_summaries, width=600).mark_bar().encode(\n",
    "    x='org',\n",
    "    y='count',\n",
    "    color='kind',\n",
    "    tooltip=\"org\"\n",
    ")"
   ]
  },
  {
   "cell_type": "markdown",
   "id": "f16e8799",
   "metadata": {
    "papermill": {
     "duration": 0.004772,
     "end_time": "2023-03-06T14:45:04.800994",
     "exception": false,
     "start_time": "2023-03-06T14:45:04.796222",
     "status": "completed"
    },
    "tags": []
   },
   "source": [
    "## By repository over time"
   ]
  },
  {
   "cell_type": "markdown",
   "id": "e27012c8",
   "metadata": {
    "papermill": {
     "duration": 0.004734,
     "end_time": "2023-03-06T14:45:04.810406",
     "exception": false,
     "start_time": "2023-03-06T14:45:04.805672",
     "status": "completed"
    },
    "tags": []
   },
   "source": [
    "### Comments"
   ]
  },
  {
   "cell_type": "code",
   "execution_count": 14,
   "id": "68160e53",
   "metadata": {
    "execution": {
     "iopub.execute_input": "2023-03-06T14:45:04.821455Z",
     "iopub.status.busy": "2023-03-06T14:45:04.820855Z",
     "iopub.status.idle": "2023-03-06T14:45:04.916835Z",
     "shell.execute_reply": "2023-03-06T14:45:04.915977Z"
    },
    "papermill": {
     "duration": 0.103877,
     "end_time": "2023-03-06T14:45:04.918918",
     "exception": false,
     "start_time": "2023-03-06T14:45:04.815041",
     "status": "completed"
    },
    "tags": [
     "hide_input"
    ]
   },
   "outputs": [
    {
     "data": {
      "text/html": [
       "\n",
       "<div id=\"altair-viz-aaad19e4ebd846aeaf0160d50c02ae2b\"></div>\n",
       "<script type=\"text/javascript\">\n",
       "  var VEGA_DEBUG = (typeof VEGA_DEBUG == \"undefined\") ? {} : VEGA_DEBUG;\n",
       "  (function(spec, embedOpt){\n",
       "    let outputDiv = document.currentScript.previousElementSibling;\n",
       "    if (outputDiv.id !== \"altair-viz-aaad19e4ebd846aeaf0160d50c02ae2b\") {\n",
       "      outputDiv = document.getElementById(\"altair-viz-aaad19e4ebd846aeaf0160d50c02ae2b\");\n",
       "    }\n",
       "    const paths = {\n",
       "      \"vega\": \"https://cdn.jsdelivr.net/npm//vega@5?noext\",\n",
       "      \"vega-lib\": \"https://cdn.jsdelivr.net/npm//vega-lib?noext\",\n",
       "      \"vega-lite\": \"https://cdn.jsdelivr.net/npm//vega-lite@4.17.0?noext\",\n",
       "      \"vega-embed\": \"https://cdn.jsdelivr.net/npm//vega-embed@6?noext\",\n",
       "    };\n",
       "\n",
       "    function maybeLoadScript(lib, version) {\n",
       "      var key = `${lib.replace(\"-\", \"\")}_version`;\n",
       "      return (VEGA_DEBUG[key] == version) ?\n",
       "        Promise.resolve(paths[lib]) :\n",
       "        new Promise(function(resolve, reject) {\n",
       "          var s = document.createElement('script');\n",
       "          document.getElementsByTagName(\"head\")[0].appendChild(s);\n",
       "          s.async = true;\n",
       "          s.onload = () => {\n",
       "            VEGA_DEBUG[key] = version;\n",
       "            return resolve(paths[lib]);\n",
       "          };\n",
       "          s.onerror = () => reject(`Error loading script: ${paths[lib]}`);\n",
       "          s.src = paths[lib];\n",
       "        });\n",
       "    }\n",
       "\n",
       "    function showError(err) {\n",
       "      outputDiv.innerHTML = `<div class=\"error\" style=\"color:red;\">${err}</div>`;\n",
       "      throw err;\n",
       "    }\n",
       "\n",
       "    function displayChart(vegaEmbed) {\n",
       "      vegaEmbed(outputDiv, spec, embedOpt)\n",
       "        .catch(err => showError(`Javascript Error: ${err.message}<br>This usually means there's a typo in your chart specification. See the javascript console for the full traceback.`));\n",
       "    }\n",
       "\n",
       "    if(typeof define === \"function\" && define.amd) {\n",
       "      requirejs.config({paths});\n",
       "      require([\"vega-embed\"], displayChart, err => showError(`Error loading script: ${err.message}`));\n",
       "    } else {\n",
       "      maybeLoadScript(\"vega\", \"5\")\n",
       "        .then(() => maybeLoadScript(\"vega-lite\", \"4.17.0\"))\n",
       "        .then(() => maybeLoadScript(\"vega-embed\", \"6\"))\n",
       "        .catch(showError)\n",
       "        .then(() => displayChart(vegaEmbed));\n",
       "    }\n",
       "  })({\"config\": {\"axisLeft\": {\"labelFontSize\": 15}, \"axisBottom\": {\"labelFontSize\": 15}}, \"layer\": [{\"data\": {\"name\": \"data-4d78397b0f843aa6d7e679bffb8b1812\"}, \"mark\": \"line\", \"encoding\": {\"color\": {\"field\": \"repo\", \"type\": \"nominal\"}, \"tooltip\": {\"field\": \"repo\", \"type\": \"nominal\"}, \"x\": {\"field\": \"createdAt\", \"type\": \"temporal\"}, \"y\": {\"field\": \"count\", \"type\": \"quantitative\"}}, \"width\": 600}, {\"data\": {\"name\": \"data-343d8c9bc888ab15b00c8504dd947989\"}, \"mark\": {\"type\": \"line\", \"color\": \"black\"}, \"encoding\": {\"x\": {\"field\": \"createdAt\", \"type\": \"temporal\"}, \"y\": {\"field\": \"count\", \"type\": \"quantitative\"}}, \"width\": 600}], \"$schema\": \"https://vega.github.io/schema/vega-lite/v4.17.0.json\", \"datasets\": {\"data-4d78397b0f843aa6d7e679bffb8b1812\": [{\"repo\": \"infrastructure\", \"createdAt\": \"2022-10-30T00:00:00\", \"count\": 1}, {\"repo\": \"infrastructure\", \"createdAt\": \"2022-11-06T00:00:00\", \"count\": 1}, {\"repo\": \"infrastructure\", \"createdAt\": \"2022-11-13T00:00:00\", \"count\": 0}, {\"repo\": \"infrastructure\", \"createdAt\": \"2022-11-20T00:00:00\", \"count\": 0}, {\"repo\": \"infrastructure\", \"createdAt\": \"2022-11-27T00:00:00\", \"count\": 2}, {\"repo\": \"infrastructure\", \"createdAt\": \"2022-12-04T00:00:00\", \"count\": 0}, {\"repo\": \"infrastructure\", \"createdAt\": \"2022-12-11T00:00:00\", \"count\": 4}, {\"repo\": \"infrastructure\", \"createdAt\": \"2022-12-18T00:00:00\", \"count\": 2}, {\"repo\": \"infrastructure\", \"createdAt\": \"2022-12-25T00:00:00\", \"count\": 0}, {\"repo\": \"infrastructure\", \"createdAt\": \"2023-01-01T00:00:00\", \"count\": 0}, {\"repo\": \"infrastructure\", \"createdAt\": \"2023-01-08T00:00:00\", \"count\": 0}, {\"repo\": \"infrastructure\", \"createdAt\": \"2023-01-15T00:00:00\", \"count\": 0}, {\"repo\": \"infrastructure\", \"createdAt\": \"2023-01-22T00:00:00\", \"count\": 1}, {\"repo\": \"infrastructure\", \"createdAt\": \"2023-01-29T00:00:00\", \"count\": 3}, {\"repo\": \"infrastructure\", \"createdAt\": \"2023-02-05T00:00:00\", \"count\": 2}, {\"repo\": \"infrastructure\", \"createdAt\": \"2023-02-12T00:00:00\", \"count\": 3}, {\"repo\": \"infrastructure\", \"createdAt\": \"2023-02-19T00:00:00\", \"count\": 1}, {\"repo\": \"leads\", \"createdAt\": \"2022-07-24T00:00:00\", \"count\": 1}, {\"repo\": \"leads\", \"createdAt\": \"2022-07-31T00:00:00\", \"count\": 1}, {\"repo\": \"leads\", \"createdAt\": \"2022-08-07T00:00:00\", \"count\": 0}, {\"repo\": \"leads\", \"createdAt\": \"2022-08-14T00:00:00\", \"count\": 0}, {\"repo\": \"leads\", \"createdAt\": \"2022-08-21T00:00:00\", \"count\": 1}, {\"repo\": \"leads\", \"createdAt\": \"2022-08-28T00:00:00\", \"count\": 0}, {\"repo\": \"leads\", \"createdAt\": \"2022-09-04T00:00:00\", \"count\": 0}, {\"repo\": \"leads\", \"createdAt\": \"2022-09-11T00:00:00\", \"count\": 0}, {\"repo\": \"leads\", \"createdAt\": \"2022-09-18T00:00:00\", \"count\": 1}, {\"repo\": \"leads\", \"createdAt\": \"2022-09-25T00:00:00\", \"count\": 0}, {\"repo\": \"leads\", \"createdAt\": \"2022-10-02T00:00:00\", \"count\": 0}, {\"repo\": \"leads\", \"createdAt\": \"2022-10-09T00:00:00\", \"count\": 0}, {\"repo\": \"leads\", \"createdAt\": \"2022-10-16T00:00:00\", \"count\": 0}, {\"repo\": \"leads\", \"createdAt\": \"2022-10-23T00:00:00\", \"count\": 2}, {\"repo\": \"leads\", \"createdAt\": \"2022-10-30T00:00:00\", \"count\": 0}, {\"repo\": \"leads\", \"createdAt\": \"2022-11-06T00:00:00\", \"count\": 0}, {\"repo\": \"leads\", \"createdAt\": \"2022-11-13T00:00:00\", \"count\": 1}, {\"repo\": \"leads\", \"createdAt\": \"2022-11-20T00:00:00\", \"count\": 0}, {\"repo\": \"leads\", \"createdAt\": \"2022-11-27T00:00:00\", \"count\": 0}, {\"repo\": \"leads\", \"createdAt\": \"2022-12-04T00:00:00\", \"count\": 0}, {\"repo\": \"leads\", \"createdAt\": \"2022-12-11T00:00:00\", \"count\": 0}, {\"repo\": \"leads\", \"createdAt\": \"2022-12-18T00:00:00\", \"count\": 0}, {\"repo\": \"leads\", \"createdAt\": \"2022-12-25T00:00:00\", \"count\": 0}, {\"repo\": \"leads\", \"createdAt\": \"2023-01-01T00:00:00\", \"count\": 0}, {\"repo\": \"leads\", \"createdAt\": \"2023-01-08T00:00:00\", \"count\": 0}, {\"repo\": \"leads\", \"createdAt\": \"2023-01-15T00:00:00\", \"count\": 4}, {\"repo\": \"leads\", \"createdAt\": \"2023-01-22T00:00:00\", \"count\": 0}, {\"repo\": \"leads\", \"createdAt\": \"2023-01-29T00:00:00\", \"count\": 0}, {\"repo\": \"leads\", \"createdAt\": \"2023-02-05T00:00:00\", \"count\": 4}, {\"repo\": \"leads\", \"createdAt\": \"2023-02-12T00:00:00\", \"count\": 0}, {\"repo\": \"leads\", \"createdAt\": \"2023-02-19T00:00:00\", \"count\": 4}, {\"repo\": \"leads\", \"createdAt\": \"2023-02-26T00:00:00\", \"count\": 2}, {\"repo\": \"leads\", \"createdAt\": \"2023-03-05T00:00:00\", \"count\": 1}, {\"repo\": \"meta\", \"createdAt\": \"2022-10-23T00:00:00\", \"count\": 1}, {\"repo\": \"meta\", \"createdAt\": \"2022-10-30T00:00:00\", \"count\": 0}, {\"repo\": \"meta\", \"createdAt\": \"2022-11-06T00:00:00\", \"count\": 0}, {\"repo\": \"meta\", \"createdAt\": \"2022-11-13T00:00:00\", \"count\": 0}, {\"repo\": \"meta\", \"createdAt\": \"2022-11-20T00:00:00\", \"count\": 0}, {\"repo\": \"meta\", \"createdAt\": \"2022-11-27T00:00:00\", \"count\": 0}, {\"repo\": \"meta\", \"createdAt\": \"2022-12-04T00:00:00\", \"count\": 1}, {\"repo\": \"meta\", \"createdAt\": \"2022-12-11T00:00:00\", \"count\": 1}, {\"repo\": \"meta\", \"createdAt\": \"2022-12-18T00:00:00\", \"count\": 0}, {\"repo\": \"meta\", \"createdAt\": \"2022-12-25T00:00:00\", \"count\": 0}, {\"repo\": \"meta\", \"createdAt\": \"2023-01-01T00:00:00\", \"count\": 0}, {\"repo\": \"meta\", \"createdAt\": \"2023-01-08T00:00:00\", \"count\": 0}, {\"repo\": \"meta\", \"createdAt\": \"2023-01-15T00:00:00\", \"count\": 0}, {\"repo\": \"meta\", \"createdAt\": \"2023-01-22T00:00:00\", \"count\": 4}, {\"repo\": \"meta\", \"createdAt\": \"2023-01-29T00:00:00\", \"count\": 2}, {\"repo\": \"meta\", \"createdAt\": \"2023-02-05T00:00:00\", \"count\": 2}, {\"repo\": \"meta\", \"createdAt\": \"2023-02-12T00:00:00\", \"count\": 2}, {\"repo\": \"meta\", \"createdAt\": \"2023-02-19T00:00:00\", \"count\": 1}, {\"repo\": \"meta\", \"createdAt\": \"2023-02-26T00:00:00\", \"count\": 0}, {\"repo\": \"meta\", \"createdAt\": \"2023-03-05T00:00:00\", \"count\": 7}, {\"repo\": \"team-compass\", \"createdAt\": \"2022-07-24T00:00:00\", \"count\": 2}, {\"repo\": \"team-compass\", \"createdAt\": \"2022-07-31T00:00:00\", \"count\": 0}, {\"repo\": \"team-compass\", \"createdAt\": \"2022-08-07T00:00:00\", \"count\": 0}, {\"repo\": \"team-compass\", \"createdAt\": \"2022-08-14T00:00:00\", \"count\": 0}, {\"repo\": \"team-compass\", \"createdAt\": \"2022-08-21T00:00:00\", \"count\": 0}, {\"repo\": \"team-compass\", \"createdAt\": \"2022-08-28T00:00:00\", \"count\": 0}, {\"repo\": \"team-compass\", \"createdAt\": \"2022-09-04T00:00:00\", \"count\": 0}, {\"repo\": \"team-compass\", \"createdAt\": \"2022-09-11T00:00:00\", \"count\": 0}, {\"repo\": \"team-compass\", \"createdAt\": \"2022-09-18T00:00:00\", \"count\": 0}, {\"repo\": \"team-compass\", \"createdAt\": \"2022-09-25T00:00:00\", \"count\": 0}, {\"repo\": \"team-compass\", \"createdAt\": \"2022-10-02T00:00:00\", \"count\": 0}, {\"repo\": \"team-compass\", \"createdAt\": \"2022-10-09T00:00:00\", \"count\": 0}, {\"repo\": \"team-compass\", \"createdAt\": \"2022-10-16T00:00:00\", \"count\": 0}, {\"repo\": \"team-compass\", \"createdAt\": \"2022-10-23T00:00:00\", \"count\": 0}, {\"repo\": \"team-compass\", \"createdAt\": \"2022-10-30T00:00:00\", \"count\": 4}, {\"repo\": \"team-compass\", \"createdAt\": \"2022-11-06T00:00:00\", \"count\": 2}, {\"repo\": \"team-compass\", \"createdAt\": \"2022-11-13T00:00:00\", \"count\": 0}, {\"repo\": \"team-compass\", \"createdAt\": \"2022-11-20T00:00:00\", \"count\": 0}, {\"repo\": \"team-compass\", \"createdAt\": \"2022-11-27T00:00:00\", \"count\": 0}, {\"repo\": \"team-compass\", \"createdAt\": \"2022-12-04T00:00:00\", \"count\": 0}, {\"repo\": \"team-compass\", \"createdAt\": \"2022-12-11T00:00:00\", \"count\": 0}, {\"repo\": \"team-compass\", \"createdAt\": \"2022-12-18T00:00:00\", \"count\": 0}, {\"repo\": \"team-compass\", \"createdAt\": \"2022-12-25T00:00:00\", \"count\": 0}, {\"repo\": \"team-compass\", \"createdAt\": \"2023-01-01T00:00:00\", \"count\": 0}, {\"repo\": \"team-compass\", \"createdAt\": \"2023-01-08T00:00:00\", \"count\": 0}, {\"repo\": \"team-compass\", \"createdAt\": \"2023-01-15T00:00:00\", \"count\": 0}, {\"repo\": \"team-compass\", \"createdAt\": \"2023-01-22T00:00:00\", \"count\": 0}, {\"repo\": \"team-compass\", \"createdAt\": \"2023-01-29T00:00:00\", \"count\": 1}, {\"repo\": \"team-compass\", \"createdAt\": \"2023-02-05T00:00:00\", \"count\": 3}, {\"repo\": \"team-compass\", \"createdAt\": \"2023-02-12T00:00:00\", \"count\": 3}, {\"repo\": \"team-compass\", \"createdAt\": \"2023-02-19T00:00:00\", \"count\": 3}], \"data-343d8c9bc888ab15b00c8504dd947989\": [{\"createdAt\": \"2022-07-24T00:00:00\", \"count\": 3}, {\"createdAt\": \"2022-07-31T00:00:00\", \"count\": 1}, {\"createdAt\": \"2022-08-07T00:00:00\", \"count\": 0}, {\"createdAt\": \"2022-08-14T00:00:00\", \"count\": 0}, {\"createdAt\": \"2022-08-21T00:00:00\", \"count\": 1}, {\"createdAt\": \"2022-08-28T00:00:00\", \"count\": 0}, {\"createdAt\": \"2022-09-04T00:00:00\", \"count\": 0}, {\"createdAt\": \"2022-09-11T00:00:00\", \"count\": 0}, {\"createdAt\": \"2022-09-18T00:00:00\", \"count\": 1}, {\"createdAt\": \"2022-09-25T00:00:00\", \"count\": 0}, {\"createdAt\": \"2022-10-02T00:00:00\", \"count\": 0}, {\"createdAt\": \"2022-10-09T00:00:00\", \"count\": 0}, {\"createdAt\": \"2022-10-16T00:00:00\", \"count\": 0}, {\"createdAt\": \"2022-10-23T00:00:00\", \"count\": 3}, {\"createdAt\": \"2022-10-30T00:00:00\", \"count\": 5}, {\"createdAt\": \"2022-11-06T00:00:00\", \"count\": 3}, {\"createdAt\": \"2022-11-13T00:00:00\", \"count\": 1}, {\"createdAt\": \"2022-11-20T00:00:00\", \"count\": 0}, {\"createdAt\": \"2022-11-27T00:00:00\", \"count\": 2}, {\"createdAt\": \"2022-12-04T00:00:00\", \"count\": 1}, {\"createdAt\": \"2022-12-11T00:00:00\", \"count\": 5}, {\"createdAt\": \"2022-12-18T00:00:00\", \"count\": 2}, {\"createdAt\": \"2022-12-25T00:00:00\", \"count\": 0}, {\"createdAt\": \"2023-01-01T00:00:00\", \"count\": 0}, {\"createdAt\": \"2023-01-08T00:00:00\", \"count\": 0}, {\"createdAt\": \"2023-01-15T00:00:00\", \"count\": 4}, {\"createdAt\": \"2023-01-22T00:00:00\", \"count\": 5}, {\"createdAt\": \"2023-01-29T00:00:00\", \"count\": 6}, {\"createdAt\": \"2023-02-05T00:00:00\", \"count\": 11}, {\"createdAt\": \"2023-02-12T00:00:00\", \"count\": 8}, {\"createdAt\": \"2023-02-19T00:00:00\", \"count\": 9}, {\"createdAt\": \"2023-02-26T00:00:00\", \"count\": 2}, {\"createdAt\": \"2023-03-05T00:00:00\", \"count\": 8}]}}, {\"mode\": \"vega-lite\"});\n",
       "</script>"
      ],
      "text/plain": [
       "alt.LayerChart(...)"
      ]
     },
     "execution_count": 14,
     "metadata": {},
     "output_type": "execute_result"
    }
   ],
   "source": [
    "comments_time = comments.groupby('repo').resample('W', on='createdAt').count()['author'].reset_index()\n",
    "comments_time = comments_time.rename(columns={'author': 'count'})\n",
    "comments_time_total = comments_time.groupby('createdAt').agg({\"count\": \"sum\"}).reset_index()\n",
    "ch1 = alt.Chart(comments_time, width=600).mark_line().encode(\n",
    "    x='createdAt',\n",
    "    y='count',\n",
    "    color='repo',\n",
    "    tooltip=\"repo\"\n",
    ")\n",
    "\n",
    "ch2 = alt.Chart(comments_time_total, width=600).mark_line(color=\"black\").encode(\n",
    "    x='createdAt',\n",
    "    y='count',\n",
    ")\n",
    "\n",
    "ch1 + ch2"
   ]
  },
  {
   "cell_type": "markdown",
   "id": "f29654e3",
   "metadata": {
    "papermill": {
     "duration": 0.005232,
     "end_time": "2023-03-06T14:45:04.931467",
     "exception": false,
     "start_time": "2023-03-06T14:45:04.926235",
     "status": "completed"
    },
    "tags": []
   },
   "source": [
    "### PRs"
   ]
  },
  {
   "cell_type": "code",
   "execution_count": 15,
   "id": "f9ef525e",
   "metadata": {
    "execution": {
     "iopub.execute_input": "2023-03-06T14:45:04.943391Z",
     "iopub.status.busy": "2023-03-06T14:45:04.942640Z",
     "iopub.status.idle": "2023-03-06T14:45:05.027189Z",
     "shell.execute_reply": "2023-03-06T14:45:05.026411Z"
    },
    "papermill": {
     "duration": 0.092687,
     "end_time": "2023-03-06T14:45:05.029158",
     "exception": false,
     "start_time": "2023-03-06T14:45:04.936471",
     "status": "completed"
    },
    "tags": [
     "hide_input"
    ]
   },
   "outputs": [
    {
     "data": {
      "text/html": [
       "\n",
       "<div id=\"altair-viz-994d052050c041cebcd862c6642142f3\"></div>\n",
       "<script type=\"text/javascript\">\n",
       "  var VEGA_DEBUG = (typeof VEGA_DEBUG == \"undefined\") ? {} : VEGA_DEBUG;\n",
       "  (function(spec, embedOpt){\n",
       "    let outputDiv = document.currentScript.previousElementSibling;\n",
       "    if (outputDiv.id !== \"altair-viz-994d052050c041cebcd862c6642142f3\") {\n",
       "      outputDiv = document.getElementById(\"altair-viz-994d052050c041cebcd862c6642142f3\");\n",
       "    }\n",
       "    const paths = {\n",
       "      \"vega\": \"https://cdn.jsdelivr.net/npm//vega@5?noext\",\n",
       "      \"vega-lib\": \"https://cdn.jsdelivr.net/npm//vega-lib?noext\",\n",
       "      \"vega-lite\": \"https://cdn.jsdelivr.net/npm//vega-lite@4.17.0?noext\",\n",
       "      \"vega-embed\": \"https://cdn.jsdelivr.net/npm//vega-embed@6?noext\",\n",
       "    };\n",
       "\n",
       "    function maybeLoadScript(lib, version) {\n",
       "      var key = `${lib.replace(\"-\", \"\")}_version`;\n",
       "      return (VEGA_DEBUG[key] == version) ?\n",
       "        Promise.resolve(paths[lib]) :\n",
       "        new Promise(function(resolve, reject) {\n",
       "          var s = document.createElement('script');\n",
       "          document.getElementsByTagName(\"head\")[0].appendChild(s);\n",
       "          s.async = true;\n",
       "          s.onload = () => {\n",
       "            VEGA_DEBUG[key] = version;\n",
       "            return resolve(paths[lib]);\n",
       "          };\n",
       "          s.onerror = () => reject(`Error loading script: ${paths[lib]}`);\n",
       "          s.src = paths[lib];\n",
       "        });\n",
       "    }\n",
       "\n",
       "    function showError(err) {\n",
       "      outputDiv.innerHTML = `<div class=\"error\" style=\"color:red;\">${err}</div>`;\n",
       "      throw err;\n",
       "    }\n",
       "\n",
       "    function displayChart(vegaEmbed) {\n",
       "      vegaEmbed(outputDiv, spec, embedOpt)\n",
       "        .catch(err => showError(`Javascript Error: ${err.message}<br>This usually means there's a typo in your chart specification. See the javascript console for the full traceback.`));\n",
       "    }\n",
       "\n",
       "    if(typeof define === \"function\" && define.amd) {\n",
       "      requirejs.config({paths});\n",
       "      require([\"vega-embed\"], displayChart, err => showError(`Error loading script: ${err.message}`));\n",
       "    } else {\n",
       "      maybeLoadScript(\"vega\", \"5\")\n",
       "        .then(() => maybeLoadScript(\"vega-lite\", \"4.17.0\"))\n",
       "        .then(() => maybeLoadScript(\"vega-embed\", \"6\"))\n",
       "        .catch(showError)\n",
       "        .then(() => displayChart(vegaEmbed));\n",
       "    }\n",
       "  })({\"config\": {\"axisLeft\": {\"labelFontSize\": 15}, \"axisBottom\": {\"labelFontSize\": 15}}, \"layer\": [{\"data\": {\"name\": \"data-bb0501464be3af3bdd28b5c6c5432861\"}, \"mark\": \"line\", \"encoding\": {\"color\": {\"field\": \"repo\", \"type\": \"nominal\"}, \"tooltip\": {\"field\": \"repo\", \"type\": \"nominal\"}, \"x\": {\"field\": \"createdAt\", \"type\": \"temporal\"}, \"y\": {\"field\": \"count\", \"type\": \"quantitative\"}}, \"width\": 600}, {\"data\": {\"name\": \"data-348b175b8a63f0006421a3ffd2859744\"}, \"mark\": {\"type\": \"line\", \"color\": \"black\"}, \"encoding\": {\"x\": {\"field\": \"createdAt\", \"type\": \"temporal\"}, \"y\": {\"field\": \"count\", \"type\": \"quantitative\"}}, \"width\": 600}], \"$schema\": \"https://vega.github.io/schema/vega-lite/v4.17.0.json\", \"datasets\": {\"data-bb0501464be3af3bdd28b5c6c5432861\": [{\"repo\": \"researchdelight-image\", \"createdAt\": \"2022-12-11T00:00:00\", \"count\": 1}], \"data-348b175b8a63f0006421a3ffd2859744\": [{\"createdAt\": \"2022-12-11T00:00:00\", \"count\": 1}]}}, {\"mode\": \"vega-lite\"});\n",
       "</script>"
      ],
      "text/plain": [
       "alt.LayerChart(...)"
      ]
     },
     "execution_count": 15,
     "metadata": {},
     "output_type": "execute_result"
    }
   ],
   "source": [
    "prs_time = prs.groupby('repo').resample('W', on='createdAt').count()['author'].reset_index()\n",
    "prs_time = prs_time.rename(columns={'author': 'count'})\n",
    "prs_time_total = prs_time.groupby('createdAt').agg({\"count\": \"sum\"}).reset_index()\n",
    "\n",
    "ch1 = alt.Chart(prs_time, width=600).mark_line().encode(\n",
    "    x='createdAt',\n",
    "    y='count',\n",
    "    color='repo',\n",
    "    tooltip=\"repo\"\n",
    ")\n",
    "\n",
    "ch2 = alt.Chart(prs_time_total, width=600).mark_line(color=\"black\").encode(\n",
    "    x='createdAt',\n",
    "    y='count',\n",
    ")\n",
    "\n",
    "ch1 + ch2"
   ]
  },
  {
   "cell_type": "code",
   "execution_count": 16,
   "id": "0dd49838",
   "metadata": {
    "execution": {
     "iopub.execute_input": "2023-03-06T14:45:05.041461Z",
     "iopub.status.busy": "2023-03-06T14:45:05.040820Z",
     "iopub.status.idle": "2023-03-06T14:45:05.101074Z",
     "shell.execute_reply": "2023-03-06T14:45:05.100369Z"
    },
    "papermill": {
     "duration": 0.068307,
     "end_time": "2023-03-06T14:45:05.102830",
     "exception": false,
     "start_time": "2023-03-06T14:45:05.034523",
     "status": "completed"
    },
    "tags": [
     "hide_input"
    ]
   },
   "outputs": [
    {
     "data": {
      "text/html": [
       "\n",
       "<div id=\"altair-viz-c7837247b3354b2eab8b359b49d5889b\"></div>\n",
       "<script type=\"text/javascript\">\n",
       "  var VEGA_DEBUG = (typeof VEGA_DEBUG == \"undefined\") ? {} : VEGA_DEBUG;\n",
       "  (function(spec, embedOpt){\n",
       "    let outputDiv = document.currentScript.previousElementSibling;\n",
       "    if (outputDiv.id !== \"altair-viz-c7837247b3354b2eab8b359b49d5889b\") {\n",
       "      outputDiv = document.getElementById(\"altair-viz-c7837247b3354b2eab8b359b49d5889b\");\n",
       "    }\n",
       "    const paths = {\n",
       "      \"vega\": \"https://cdn.jsdelivr.net/npm//vega@5?noext\",\n",
       "      \"vega-lib\": \"https://cdn.jsdelivr.net/npm//vega-lib?noext\",\n",
       "      \"vega-lite\": \"https://cdn.jsdelivr.net/npm//vega-lite@4.17.0?noext\",\n",
       "      \"vega-embed\": \"https://cdn.jsdelivr.net/npm//vega-embed@6?noext\",\n",
       "    };\n",
       "\n",
       "    function maybeLoadScript(lib, version) {\n",
       "      var key = `${lib.replace(\"-\", \"\")}_version`;\n",
       "      return (VEGA_DEBUG[key] == version) ?\n",
       "        Promise.resolve(paths[lib]) :\n",
       "        new Promise(function(resolve, reject) {\n",
       "          var s = document.createElement('script');\n",
       "          document.getElementsByTagName(\"head\")[0].appendChild(s);\n",
       "          s.async = true;\n",
       "          s.onload = () => {\n",
       "            VEGA_DEBUG[key] = version;\n",
       "            return resolve(paths[lib]);\n",
       "          };\n",
       "          s.onerror = () => reject(`Error loading script: ${paths[lib]}`);\n",
       "          s.src = paths[lib];\n",
       "        });\n",
       "    }\n",
       "\n",
       "    function showError(err) {\n",
       "      outputDiv.innerHTML = `<div class=\"error\" style=\"color:red;\">${err}</div>`;\n",
       "      throw err;\n",
       "    }\n",
       "\n",
       "    function displayChart(vegaEmbed) {\n",
       "      vegaEmbed(outputDiv, spec, embedOpt)\n",
       "        .catch(err => showError(`Javascript Error: ${err.message}<br>This usually means there's a typo in your chart specification. See the javascript console for the full traceback.`));\n",
       "    }\n",
       "\n",
       "    if(typeof define === \"function\" && define.amd) {\n",
       "      requirejs.config({paths});\n",
       "      require([\"vega-embed\"], displayChart, err => showError(`Error loading script: ${err.message}`));\n",
       "    } else {\n",
       "      maybeLoadScript(\"vega\", \"5\")\n",
       "        .then(() => maybeLoadScript(\"vega-lite\", \"4.17.0\"))\n",
       "        .then(() => maybeLoadScript(\"vega-embed\", \"6\"))\n",
       "        .catch(showError)\n",
       "        .then(() => displayChart(vegaEmbed));\n",
       "    }\n",
       "  })({\"config\": {\"axisLeft\": {\"labelFontSize\": 15}, \"axisBottom\": {\"labelFontSize\": 15}}, \"data\": {\"name\": \"data-aa581d0d065fcb6ba40fabd19e2fc22e\"}, \"mark\": \"line\", \"encoding\": {\"color\": {\"field\": \"repo\", \"type\": \"nominal\"}, \"tooltip\": {\"field\": \"repo\", \"type\": \"nominal\"}, \"x\": {\"field\": \"closedAt\", \"type\": \"temporal\"}, \"y\": {\"field\": \"count\", \"type\": \"quantitative\"}}, \"width\": 600, \"$schema\": \"https://vega.github.io/schema/vega-lite/v4.17.0.json\", \"datasets\": {\"data-aa581d0d065fcb6ba40fabd19e2fc22e\": [{\"repo\": \"researchdelight-image\", \"closedAt\": \"2022-12-11T00:00:00\", \"count\": 1}, {\"repo\": \"team-compass\", \"closedAt\": \"2023-02-05T00:00:00\", \"count\": 1}, {\"repo\": \"team-compass\", \"closedAt\": \"2023-02-12T00:00:00\", \"count\": 1}]}}, {\"mode\": \"vega-lite\"});\n",
       "</script>"
      ],
      "text/plain": [
       "alt.Chart(...)"
      ]
     },
     "execution_count": 16,
     "metadata": {},
     "output_type": "execute_result"
    }
   ],
   "source": [
    "closed_by_time = closed_by.groupby('repo').resample('W', on='closedAt').count()['author'].reset_index()\n",
    "closed_by_time = closed_by_time.rename(columns={'author': 'count'})\n",
    "\n",
    "alt.Chart(closed_by_time, width=600).mark_line().encode(\n",
    "    x='closedAt',\n",
    "    y='count',\n",
    "    color='repo',\n",
    "    tooltip=\"repo\"\n",
    ")"
   ]
  },
  {
   "cell_type": "markdown",
   "id": "319f134a",
   "metadata": {
    "papermill": {
     "duration": 0.00768,
     "end_time": "2023-03-06T14:45:05.116730",
     "exception": false,
     "start_time": "2023-03-06T14:45:05.109050",
     "status": "completed"
    },
    "tags": []
   },
   "source": [
    "## By type over time"
   ]
  },
  {
   "cell_type": "code",
   "execution_count": 17,
   "id": "939a83a4",
   "metadata": {
    "execution": {
     "iopub.execute_input": "2023-03-06T14:45:05.129445Z",
     "iopub.status.busy": "2023-03-06T14:45:05.128576Z",
     "iopub.status.idle": "2023-03-06T14:45:05.146393Z",
     "shell.execute_reply": "2023-03-06T14:45:05.145766Z"
    },
    "papermill": {
     "duration": 0.026119,
     "end_time": "2023-03-06T14:45:05.148145",
     "exception": false,
     "start_time": "2023-03-06T14:45:05.122026",
     "status": "completed"
    },
    "tags": [
     "remove_cell"
    ]
   },
   "outputs": [],
   "source": [
    "prs_time = prs[['author', 'createdAt']].resample('W', on='createdAt').count()['author'].reset_index()\n",
    "prs_time = prs_time.rename(columns={'author': 'prs'})\n",
    "comments_time = comments[['author', 'createdAt']].resample('W', on='createdAt').count()['author'].reset_index()\n",
    "comments_time = comments_time.rename(columns={'author': 'comments'})\n",
    "\n",
    "total_time = pd.merge(prs_time, comments_time, on='createdAt', how='outer')\n",
    "total_time = total_time.melt(id_vars='createdAt', var_name=\"kind\", value_name=\"count\")\n"
   ]
  },
  {
   "cell_type": "code",
   "execution_count": 18,
   "id": "2e2a45ac",
   "metadata": {
    "execution": {
     "iopub.execute_input": "2023-03-06T14:45:05.160076Z",
     "iopub.status.busy": "2023-03-06T14:45:05.159839Z",
     "iopub.status.idle": "2023-03-06T14:45:05.202589Z",
     "shell.execute_reply": "2023-03-06T14:45:05.201750Z"
    },
    "papermill": {
     "duration": 0.051004,
     "end_time": "2023-03-06T14:45:05.204510",
     "exception": false,
     "start_time": "2023-03-06T14:45:05.153506",
     "status": "completed"
    },
    "tags": [
     "hide_input"
    ]
   },
   "outputs": [
    {
     "data": {
      "text/html": [
       "\n",
       "<div id=\"altair-viz-6f8c48679197457a8646e3f4835b5411\"></div>\n",
       "<script type=\"text/javascript\">\n",
       "  var VEGA_DEBUG = (typeof VEGA_DEBUG == \"undefined\") ? {} : VEGA_DEBUG;\n",
       "  (function(spec, embedOpt){\n",
       "    let outputDiv = document.currentScript.previousElementSibling;\n",
       "    if (outputDiv.id !== \"altair-viz-6f8c48679197457a8646e3f4835b5411\") {\n",
       "      outputDiv = document.getElementById(\"altair-viz-6f8c48679197457a8646e3f4835b5411\");\n",
       "    }\n",
       "    const paths = {\n",
       "      \"vega\": \"https://cdn.jsdelivr.net/npm//vega@5?noext\",\n",
       "      \"vega-lib\": \"https://cdn.jsdelivr.net/npm//vega-lib?noext\",\n",
       "      \"vega-lite\": \"https://cdn.jsdelivr.net/npm//vega-lite@4.17.0?noext\",\n",
       "      \"vega-embed\": \"https://cdn.jsdelivr.net/npm//vega-embed@6?noext\",\n",
       "    };\n",
       "\n",
       "    function maybeLoadScript(lib, version) {\n",
       "      var key = `${lib.replace(\"-\", \"\")}_version`;\n",
       "      return (VEGA_DEBUG[key] == version) ?\n",
       "        Promise.resolve(paths[lib]) :\n",
       "        new Promise(function(resolve, reject) {\n",
       "          var s = document.createElement('script');\n",
       "          document.getElementsByTagName(\"head\")[0].appendChild(s);\n",
       "          s.async = true;\n",
       "          s.onload = () => {\n",
       "            VEGA_DEBUG[key] = version;\n",
       "            return resolve(paths[lib]);\n",
       "          };\n",
       "          s.onerror = () => reject(`Error loading script: ${paths[lib]}`);\n",
       "          s.src = paths[lib];\n",
       "        });\n",
       "    }\n",
       "\n",
       "    function showError(err) {\n",
       "      outputDiv.innerHTML = `<div class=\"error\" style=\"color:red;\">${err}</div>`;\n",
       "      throw err;\n",
       "    }\n",
       "\n",
       "    function displayChart(vegaEmbed) {\n",
       "      vegaEmbed(outputDiv, spec, embedOpt)\n",
       "        .catch(err => showError(`Javascript Error: ${err.message}<br>This usually means there's a typo in your chart specification. See the javascript console for the full traceback.`));\n",
       "    }\n",
       "\n",
       "    if(typeof define === \"function\" && define.amd) {\n",
       "      requirejs.config({paths});\n",
       "      require([\"vega-embed\"], displayChart, err => showError(`Error loading script: ${err.message}`));\n",
       "    } else {\n",
       "      maybeLoadScript(\"vega\", \"5\")\n",
       "        .then(() => maybeLoadScript(\"vega-lite\", \"4.17.0\"))\n",
       "        .then(() => maybeLoadScript(\"vega-embed\", \"6\"))\n",
       "        .catch(showError)\n",
       "        .then(() => displayChart(vegaEmbed));\n",
       "    }\n",
       "  })({\"config\": {\"axisLeft\": {\"labelFontSize\": 15}, \"axisBottom\": {\"labelFontSize\": 15}}, \"data\": {\"name\": \"data-e565ca83ded5ae664188c2bc9350fe96\"}, \"mark\": \"line\", \"encoding\": {\"color\": {\"field\": \"kind\", \"type\": \"nominal\"}, \"x\": {\"field\": \"createdAt\", \"type\": \"temporal\"}, \"y\": {\"field\": \"count\", \"type\": \"quantitative\"}}, \"width\": 600, \"$schema\": \"https://vega.github.io/schema/vega-lite/v4.17.0.json\", \"datasets\": {\"data-e565ca83ded5ae664188c2bc9350fe96\": [{\"createdAt\": \"2022-12-11T00:00:00\", \"kind\": \"prs\", \"count\": 1.0}, {\"createdAt\": \"2022-07-24T00:00:00\", \"kind\": \"prs\", \"count\": null}, {\"createdAt\": \"2022-07-31T00:00:00\", \"kind\": \"prs\", \"count\": null}, {\"createdAt\": \"2022-08-07T00:00:00\", \"kind\": \"prs\", \"count\": null}, {\"createdAt\": \"2022-08-14T00:00:00\", \"kind\": \"prs\", \"count\": null}, {\"createdAt\": \"2022-08-21T00:00:00\", \"kind\": \"prs\", \"count\": null}, {\"createdAt\": \"2022-08-28T00:00:00\", \"kind\": \"prs\", \"count\": null}, {\"createdAt\": \"2022-09-04T00:00:00\", \"kind\": \"prs\", \"count\": null}, {\"createdAt\": \"2022-09-11T00:00:00\", \"kind\": \"prs\", \"count\": null}, {\"createdAt\": \"2022-09-18T00:00:00\", \"kind\": \"prs\", \"count\": null}, {\"createdAt\": \"2022-09-25T00:00:00\", \"kind\": \"prs\", \"count\": null}, {\"createdAt\": \"2022-10-02T00:00:00\", \"kind\": \"prs\", \"count\": null}, {\"createdAt\": \"2022-10-09T00:00:00\", \"kind\": \"prs\", \"count\": null}, {\"createdAt\": \"2022-10-16T00:00:00\", \"kind\": \"prs\", \"count\": null}, {\"createdAt\": \"2022-10-23T00:00:00\", \"kind\": \"prs\", \"count\": null}, {\"createdAt\": \"2022-10-30T00:00:00\", \"kind\": \"prs\", \"count\": null}, {\"createdAt\": \"2022-11-06T00:00:00\", \"kind\": \"prs\", \"count\": null}, {\"createdAt\": \"2022-11-13T00:00:00\", \"kind\": \"prs\", \"count\": null}, {\"createdAt\": \"2022-11-20T00:00:00\", \"kind\": \"prs\", \"count\": null}, {\"createdAt\": \"2022-11-27T00:00:00\", \"kind\": \"prs\", \"count\": null}, {\"createdAt\": \"2022-12-04T00:00:00\", \"kind\": \"prs\", \"count\": null}, {\"createdAt\": \"2022-12-18T00:00:00\", \"kind\": \"prs\", \"count\": null}, {\"createdAt\": \"2022-12-25T00:00:00\", \"kind\": \"prs\", \"count\": null}, {\"createdAt\": \"2023-01-01T00:00:00\", \"kind\": \"prs\", \"count\": null}, {\"createdAt\": \"2023-01-08T00:00:00\", \"kind\": \"prs\", \"count\": null}, {\"createdAt\": \"2023-01-15T00:00:00\", \"kind\": \"prs\", \"count\": null}, {\"createdAt\": \"2023-01-22T00:00:00\", \"kind\": \"prs\", \"count\": null}, {\"createdAt\": \"2023-01-29T00:00:00\", \"kind\": \"prs\", \"count\": null}, {\"createdAt\": \"2023-02-05T00:00:00\", \"kind\": \"prs\", \"count\": null}, {\"createdAt\": \"2023-02-12T00:00:00\", \"kind\": \"prs\", \"count\": null}, {\"createdAt\": \"2023-02-19T00:00:00\", \"kind\": \"prs\", \"count\": null}, {\"createdAt\": \"2023-02-26T00:00:00\", \"kind\": \"prs\", \"count\": null}, {\"createdAt\": \"2023-03-05T00:00:00\", \"kind\": \"prs\", \"count\": null}, {\"createdAt\": \"2022-12-11T00:00:00\", \"kind\": \"comments\", \"count\": 5.0}, {\"createdAt\": \"2022-07-24T00:00:00\", \"kind\": \"comments\", \"count\": 3.0}, {\"createdAt\": \"2022-07-31T00:00:00\", \"kind\": \"comments\", \"count\": 1.0}, {\"createdAt\": \"2022-08-07T00:00:00\", \"kind\": \"comments\", \"count\": 0.0}, {\"createdAt\": \"2022-08-14T00:00:00\", \"kind\": \"comments\", \"count\": 0.0}, {\"createdAt\": \"2022-08-21T00:00:00\", \"kind\": \"comments\", \"count\": 1.0}, {\"createdAt\": \"2022-08-28T00:00:00\", \"kind\": \"comments\", \"count\": 0.0}, {\"createdAt\": \"2022-09-04T00:00:00\", \"kind\": \"comments\", \"count\": 0.0}, {\"createdAt\": \"2022-09-11T00:00:00\", \"kind\": \"comments\", \"count\": 0.0}, {\"createdAt\": \"2022-09-18T00:00:00\", \"kind\": \"comments\", \"count\": 1.0}, {\"createdAt\": \"2022-09-25T00:00:00\", \"kind\": \"comments\", \"count\": 0.0}, {\"createdAt\": \"2022-10-02T00:00:00\", \"kind\": \"comments\", \"count\": 0.0}, {\"createdAt\": \"2022-10-09T00:00:00\", \"kind\": \"comments\", \"count\": 0.0}, {\"createdAt\": \"2022-10-16T00:00:00\", \"kind\": \"comments\", \"count\": 0.0}, {\"createdAt\": \"2022-10-23T00:00:00\", \"kind\": \"comments\", \"count\": 3.0}, {\"createdAt\": \"2022-10-30T00:00:00\", \"kind\": \"comments\", \"count\": 5.0}, {\"createdAt\": \"2022-11-06T00:00:00\", \"kind\": \"comments\", \"count\": 3.0}, {\"createdAt\": \"2022-11-13T00:00:00\", \"kind\": \"comments\", \"count\": 1.0}, {\"createdAt\": \"2022-11-20T00:00:00\", \"kind\": \"comments\", \"count\": 0.0}, {\"createdAt\": \"2022-11-27T00:00:00\", \"kind\": \"comments\", \"count\": 2.0}, {\"createdAt\": \"2022-12-04T00:00:00\", \"kind\": \"comments\", \"count\": 1.0}, {\"createdAt\": \"2022-12-18T00:00:00\", \"kind\": \"comments\", \"count\": 2.0}, {\"createdAt\": \"2022-12-25T00:00:00\", \"kind\": \"comments\", \"count\": 0.0}, {\"createdAt\": \"2023-01-01T00:00:00\", \"kind\": \"comments\", \"count\": 0.0}, {\"createdAt\": \"2023-01-08T00:00:00\", \"kind\": \"comments\", \"count\": 0.0}, {\"createdAt\": \"2023-01-15T00:00:00\", \"kind\": \"comments\", \"count\": 4.0}, {\"createdAt\": \"2023-01-22T00:00:00\", \"kind\": \"comments\", \"count\": 5.0}, {\"createdAt\": \"2023-01-29T00:00:00\", \"kind\": \"comments\", \"count\": 6.0}, {\"createdAt\": \"2023-02-05T00:00:00\", \"kind\": \"comments\", \"count\": 11.0}, {\"createdAt\": \"2023-02-12T00:00:00\", \"kind\": \"comments\", \"count\": 8.0}, {\"createdAt\": \"2023-02-19T00:00:00\", \"kind\": \"comments\", \"count\": 9.0}, {\"createdAt\": \"2023-02-26T00:00:00\", \"kind\": \"comments\", \"count\": 2.0}, {\"createdAt\": \"2023-03-05T00:00:00\", \"kind\": \"comments\", \"count\": 8.0}]}}, {\"mode\": \"vega-lite\"});\n",
       "</script>"
      ],
      "text/plain": [
       "alt.Chart(...)"
      ]
     },
     "execution_count": 18,
     "metadata": {},
     "output_type": "execute_result"
    }
   ],
   "source": [
    "alt.Chart(total_time, width=600).mark_line().encode(\n",
    "    x='createdAt',\n",
    "    y='count',\n",
    "    color='kind'\n",
    ")"
   ]
  },
  {
   "cell_type": "code",
   "execution_count": null,
   "id": "73b7b167",
   "metadata": {
    "papermill": {
     "duration": 0.007872,
     "end_time": "2023-03-06T14:45:05.219621",
     "exception": false,
     "start_time": "2023-03-06T14:45:05.211749",
     "status": "completed"
    },
    "tags": []
   },
   "outputs": [],
   "source": []
  },
  {
   "cell_type": "code",
   "execution_count": null,
   "id": "598c3437",
   "metadata": {
    "papermill": {
     "duration": 0.005542,
     "end_time": "2023-03-06T14:45:05.230711",
     "exception": false,
     "start_time": "2023-03-06T14:45:05.225169",
     "status": "completed"
    },
    "tags": []
   },
   "outputs": [],
   "source": []
  }
 ],
 "metadata": {
  "kernelspec": {
   "display_name": "Python 3 (ipykernel)",
   "language": "python",
   "name": "python3"
  },
  "language_info": {
   "codemirror_mode": {
    "name": "ipython",
    "version": 3
   },
   "file_extension": ".py",
   "mimetype": "text/x-python",
   "name": "python",
   "nbconvert_exporter": "python",
   "pygments_lexer": "ipython3",
   "version": "3.9.16"
  },
  "papermill": {
   "default_parameters": {},
   "duration": 3.236523,
   "end_time": "2023-03-06T14:45:05.655195",
   "environment_variables": {},
   "exception": null,
   "input_path": "./templates/person_report.ipynb",
   "output_path": "generated/people/jmunroe.ipynb",
   "parameters": {
    "n_days": 90,
    "person": "jmunroe"
   },
   "start_time": "2023-03-06T14:45:02.418672",
   "version": "2.4.0"
  },
  "widgets": {
   "application/vnd.jupyter.widget-state+json": {
    "state": {},
    "version_major": 2,
    "version_minor": 0
   }
  }
 },
 "nbformat": 4,
 "nbformat_minor": 5
}