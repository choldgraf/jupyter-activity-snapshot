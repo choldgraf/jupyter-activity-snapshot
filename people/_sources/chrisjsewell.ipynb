{
 "cells": [
  {
   "cell_type": "markdown",
   "id": "981a1c52",
   "metadata": {
    "papermill": {
     "duration": 0.004823,
     "end_time": "2023-03-06T14:44:33.916768",
     "exception": false,
     "start_time": "2023-03-06T14:44:33.911945",
     "status": "completed"
    },
    "tags": []
   },
   "source": [
    "# Report for chrisjsewell"
   ]
  },
  {
   "cell_type": "code",
   "execution_count": 1,
   "id": "194b6043",
   "metadata": {
    "execution": {
     "iopub.execute_input": "2023-03-06T14:44:33.930161Z",
     "iopub.status.busy": "2023-03-06T14:44:33.929553Z",
     "iopub.status.idle": "2023-03-06T14:44:34.802345Z",
     "shell.execute_reply": "2023-03-06T14:44:34.801566Z"
    },
    "papermill": {
     "duration": 0.883048,
     "end_time": "2023-03-06T14:44:34.804859",
     "exception": false,
     "start_time": "2023-03-06T14:44:33.921811",
     "status": "completed"
    },
    "tags": [
     "remove_cell"
    ]
   },
   "outputs": [],
   "source": [
    "import seaborn as sns\n",
    "import pandas as pd\n",
    "import numpy as np\n",
    "import altair as alt\n",
    "from markdown import markdown\n",
    "from IPython.display import Markdown\n",
    "from ipywidgets.widgets import HTML, Tab\n",
    "from ipywidgets import widgets\n",
    "from datetime import timedelta\n",
    "from matplotlib import pyplot as plt\n",
    "import os.path as op\n",
    "\n",
    "from mycode import alt_theme\n",
    "from warnings import simplefilter\n",
    "simplefilter('ignore')"
   ]
  },
  {
   "cell_type": "code",
   "execution_count": 2,
   "id": "bb7f50b7",
   "metadata": {
    "execution": {
     "iopub.execute_input": "2023-03-06T14:44:34.817492Z",
     "iopub.status.busy": "2023-03-06T14:44:34.816666Z",
     "iopub.status.idle": "2023-03-06T14:44:34.820435Z",
     "shell.execute_reply": "2023-03-06T14:44:34.819764Z"
    },
    "papermill": {
     "duration": 0.012496,
     "end_time": "2023-03-06T14:44:34.822142",
     "exception": false,
     "start_time": "2023-03-06T14:44:34.809646",
     "status": "completed"
    },
    "tags": [
     "remove_cell"
    ]
   },
   "outputs": [],
   "source": [
    "def author_url(author):\n",
    "    return f\"https://github.com/{author}\""
   ]
  },
  {
   "cell_type": "code",
   "execution_count": 3,
   "id": "6f93316d",
   "metadata": {
    "execution": {
     "iopub.execute_input": "2023-03-06T14:44:34.831314Z",
     "iopub.status.busy": "2023-03-06T14:44:34.831079Z",
     "iopub.status.idle": "2023-03-06T14:44:34.835009Z",
     "shell.execute_reply": "2023-03-06T14:44:34.834318Z"
    },
    "papermill": {
     "duration": 0.010507,
     "end_time": "2023-03-06T14:44:34.836732",
     "exception": false,
     "start_time": "2023-03-06T14:44:34.826225",
     "status": "completed"
    },
    "tags": [
     "parameters",
     "hide_input"
    ]
   },
   "outputs": [],
   "source": [
    "# Parameters\n",
    "fmt_date = \"{:%Y-%m-%d}\"\n",
    "\n",
    "n_days = 30 * 60\n",
    "start_date = fmt_date.format(pd.datetime.today() - timedelta(days=n_days))\n",
    "end_date = fmt_date.format(pd.datetime.today())\n",
    "\n",
    "renderer = \"html\"\n",
    "person = \"damianavila\""
   ]
  },
  {
   "cell_type": "code",
   "execution_count": 4,
   "id": "23232a6f",
   "metadata": {
    "execution": {
     "iopub.execute_input": "2023-03-06T14:44:34.845915Z",
     "iopub.status.busy": "2023-03-06T14:44:34.845332Z",
     "iopub.status.idle": "2023-03-06T14:44:34.848579Z",
     "shell.execute_reply": "2023-03-06T14:44:34.847952Z"
    },
    "papermill": {
     "duration": 0.009611,
     "end_time": "2023-03-06T14:44:34.850174",
     "exception": false,
     "start_time": "2023-03-06T14:44:34.840563",
     "status": "completed"
    },
    "tags": [
     "injected-parameters",
     "remove-cell"
    ]
   },
   "outputs": [],
   "source": [
    "# Parameters\n",
    "person = \"chrisjsewell\"\n",
    "n_days = 90\n"
   ]
  },
  {
   "cell_type": "code",
   "execution_count": 5,
   "id": "f203822b",
   "metadata": {
    "execution": {
     "iopub.execute_input": "2023-03-06T14:44:34.859458Z",
     "iopub.status.busy": "2023-03-06T14:44:34.858886Z",
     "iopub.status.idle": "2023-03-06T14:44:34.866144Z",
     "shell.execute_reply": "2023-03-06T14:44:34.865457Z"
    },
    "papermill": {
     "duration": 0.013478,
     "end_time": "2023-03-06T14:44:34.867669",
     "exception": false,
     "start_time": "2023-03-06T14:44:34.854191",
     "status": "completed"
    },
    "tags": [
     "remove_cell"
    ]
   },
   "outputs": [
    {
     "data": {
      "text/plain": [
       "ThemeRegistry.enable('my_theme')"
      ]
     },
     "execution_count": 5,
     "metadata": {},
     "output_type": "execute_result"
    }
   ],
   "source": [
    "alt.renderers.enable(renderer);\n",
    "alt.themes.register('my_theme', alt_theme)\n",
    "alt.themes.enable(\"my_theme\")"
   ]
  },
  {
   "cell_type": "markdown",
   "id": "f1e13114",
   "metadata": {
    "papermill": {
     "duration": 0.003969,
     "end_time": "2023-03-06T14:44:34.875679",
     "exception": false,
     "start_time": "2023-03-06T14:44:34.871710",
     "status": "completed"
    },
    "tags": []
   },
   "source": [
    "## Load data"
   ]
  },
  {
   "cell_type": "code",
   "execution_count": 6,
   "id": "e8ac6983",
   "metadata": {
    "execution": {
     "iopub.execute_input": "2023-03-06T14:44:34.885133Z",
     "iopub.status.busy": "2023-03-06T14:44:34.884661Z",
     "iopub.status.idle": "2023-03-06T14:44:35.010268Z",
     "shell.execute_reply": "2023-03-06T14:44:35.009542Z"
    },
    "papermill": {
     "duration": 0.132617,
     "end_time": "2023-03-06T14:44:35.012364",
     "exception": false,
     "start_time": "2023-03-06T14:44:34.879747",
     "status": "completed"
    },
    "tags": [
     "remove_cell"
    ]
   },
   "outputs": [],
   "source": [
    "from pathlib import Path\n",
    "path_data = Path(\"./\")\n",
    "comments = pd.read_csv(path_data.joinpath('../data/comments.csv'), index_col=0)\n",
    "issues = pd.read_csv(path_data.joinpath('../data/issues.csv'), index_col=0)\n",
    "prs = pd.read_csv(path_data.joinpath('../data/prs.csv'), index_col=0)\n",
    "\n",
    "comments = comments.query('author == @person').drop_duplicates()\n",
    "issues = issues.query('author == @person').drop_duplicates()\n",
    "closed_by = prs.query('mergedBy == @person')\n",
    "prs = prs.query('author == @person').drop_duplicates()"
   ]
  },
  {
   "cell_type": "code",
   "execution_count": 7,
   "id": "afc9ce09",
   "metadata": {
    "execution": {
     "iopub.execute_input": "2023-03-06T14:44:35.026449Z",
     "iopub.status.busy": "2023-03-06T14:44:35.025707Z",
     "iopub.status.idle": "2023-03-06T14:44:35.029329Z",
     "shell.execute_reply": "2023-03-06T14:44:35.028785Z"
    },
    "papermill": {
     "duration": 0.013034,
     "end_time": "2023-03-06T14:44:35.031085",
     "exception": false,
     "start_time": "2023-03-06T14:44:35.018051",
     "status": "completed"
    },
    "tags": []
   },
   "outputs": [],
   "source": [
    "if len(prs) == 0:\n",
    "    import sys\n",
    "    print(f\"Empty data for {person}, skipping...\")\n",
    "    sys.exit(0)"
   ]
  },
  {
   "cell_type": "code",
   "execution_count": 8,
   "id": "bf9e3ad3",
   "metadata": {
    "execution": {
     "iopub.execute_input": "2023-03-06T14:44:35.041344Z",
     "iopub.status.busy": "2023-03-06T14:44:35.040722Z",
     "iopub.status.idle": "2023-03-06T14:44:35.089853Z",
     "shell.execute_reply": "2023-03-06T14:44:35.089147Z"
    },
    "papermill": {
     "duration": 0.05628,
     "end_time": "2023-03-06T14:44:35.091937",
     "exception": false,
     "start_time": "2023-03-06T14:44:35.035657",
     "status": "completed"
    },
    "tags": [
     "remove_cell"
    ]
   },
   "outputs": [],
   "source": [
    "# Time columns\n",
    "# Also drop dates outside of our range\n",
    "time_columns = ['updatedAt', 'createdAt', 'closedAt']\n",
    "for col in time_columns:\n",
    "    for item in [comments, issues, prs, closed_by]:\n",
    "        if col not in item.columns:\n",
    "            continue\n",
    "        dt = pd.to_datetime(item[col]).dt.tz_localize(None)\n",
    "        item.loc[:, col] = dt\n",
    "        item.query(\"updatedAt < @end_date and updatedAt > @start_date\", inplace=True)"
   ]
  },
  {
   "cell_type": "markdown",
   "id": "22c761a3",
   "metadata": {
    "papermill": {
     "duration": 0.0043,
     "end_time": "2023-03-06T14:44:35.100663",
     "exception": false,
     "start_time": "2023-03-06T14:44:35.096363",
     "status": "completed"
    },
    "tags": []
   },
   "source": [
    "## Repository summaries"
   ]
  },
  {
   "cell_type": "code",
   "execution_count": 9,
   "id": "46340de1",
   "metadata": {
    "execution": {
     "iopub.execute_input": "2023-03-06T14:44:35.110825Z",
     "iopub.status.busy": "2023-03-06T14:44:35.110198Z",
     "iopub.status.idle": "2023-03-06T14:44:35.127123Z",
     "shell.execute_reply": "2023-03-06T14:44:35.126483Z"
    },
    "papermill": {
     "duration": 0.023878,
     "end_time": "2023-03-06T14:44:35.128819",
     "exception": false,
     "start_time": "2023-03-06T14:44:35.104941",
     "status": "completed"
    },
    "tags": [
     "remove_cell"
    ]
   },
   "outputs": [],
   "source": [
    "summaries = []\n",
    "for idata, name in [(issues, 'issues'), (prs, 'prs'), (comments, 'comments')]:\n",
    "    idata = idata.groupby([\"repo\", \"org\"]).agg({'id': \"count\"}).reset_index().rename(columns={'id': 'count'})\n",
    "    idata[\"kind\"] = name\n",
    "    summaries.append(idata)\n",
    "summaries = pd.concat(summaries)"
   ]
  },
  {
   "cell_type": "code",
   "execution_count": 10,
   "id": "085df0fa",
   "metadata": {
    "execution": {
     "iopub.execute_input": "2023-03-06T14:44:35.141747Z",
     "iopub.status.busy": "2023-03-06T14:44:35.141057Z",
     "iopub.status.idle": "2023-03-06T14:44:35.150495Z",
     "shell.execute_reply": "2023-03-06T14:44:35.149879Z"
    },
    "papermill": {
     "duration": 0.018303,
     "end_time": "2023-03-06T14:44:35.152160",
     "exception": false,
     "start_time": "2023-03-06T14:44:35.133857",
     "status": "completed"
    },
    "tags": [
     "remove_cell"
    ]
   },
   "outputs": [],
   "source": [
    "repo_summaries = summaries.groupby([\"repo\", \"kind\"]).agg({\"count\": \"sum\"}).reset_index()\n",
    "org_summaries = summaries.groupby([\"org\", \"kind\"]).agg({\"count\": \"sum\"}).reset_index()"
   ]
  },
  {
   "cell_type": "code",
   "execution_count": 11,
   "id": "a522e421",
   "metadata": {
    "execution": {
     "iopub.execute_input": "2023-03-06T14:44:35.162183Z",
     "iopub.status.busy": "2023-03-06T14:44:35.161715Z",
     "iopub.status.idle": "2023-03-06T14:44:35.165880Z",
     "shell.execute_reply": "2023-03-06T14:44:35.165209Z"
    },
    "papermill": {
     "duration": 0.010869,
     "end_time": "2023-03-06T14:44:35.167438",
     "exception": false,
     "start_time": "2023-03-06T14:44:35.156569",
     "status": "completed"
    },
    "tags": [
     "remove_cell"
    ]
   },
   "outputs": [],
   "source": [
    "repo_summaries['logcount'] = np.log(repo_summaries[\"count\"])"
   ]
  },
  {
   "cell_type": "code",
   "execution_count": 12,
   "id": "cca8268f",
   "metadata": {
    "execution": {
     "iopub.execute_input": "2023-03-06T14:44:35.177142Z",
     "iopub.status.busy": "2023-03-06T14:44:35.176695Z",
     "iopub.status.idle": "2023-03-06T14:44:35.263754Z",
     "shell.execute_reply": "2023-03-06T14:44:35.262939Z"
    },
    "papermill": {
     "duration": 0.094414,
     "end_time": "2023-03-06T14:44:35.266075",
     "exception": false,
     "start_time": "2023-03-06T14:44:35.171661",
     "status": "completed"
    },
    "tags": [
     "hide_input"
    ]
   },
   "outputs": [
    {
     "data": {
      "text/html": [
       "\n",
       "<div id=\"altair-viz-f974a94c7b40469da5aeb17cdd6bb762\"></div>\n",
       "<script type=\"text/javascript\">\n",
       "  var VEGA_DEBUG = (typeof VEGA_DEBUG == \"undefined\") ? {} : VEGA_DEBUG;\n",
       "  (function(spec, embedOpt){\n",
       "    let outputDiv = document.currentScript.previousElementSibling;\n",
       "    if (outputDiv.id !== \"altair-viz-f974a94c7b40469da5aeb17cdd6bb762\") {\n",
       "      outputDiv = document.getElementById(\"altair-viz-f974a94c7b40469da5aeb17cdd6bb762\");\n",
       "    }\n",
       "    const paths = {\n",
       "      \"vega\": \"https://cdn.jsdelivr.net/npm//vega@5?noext\",\n",
       "      \"vega-lib\": \"https://cdn.jsdelivr.net/npm//vega-lib?noext\",\n",
       "      \"vega-lite\": \"https://cdn.jsdelivr.net/npm//vega-lite@4.17.0?noext\",\n",
       "      \"vega-embed\": \"https://cdn.jsdelivr.net/npm//vega-embed@6?noext\",\n",
       "    };\n",
       "\n",
       "    function maybeLoadScript(lib, version) {\n",
       "      var key = `${lib.replace(\"-\", \"\")}_version`;\n",
       "      return (VEGA_DEBUG[key] == version) ?\n",
       "        Promise.resolve(paths[lib]) :\n",
       "        new Promise(function(resolve, reject) {\n",
       "          var s = document.createElement('script');\n",
       "          document.getElementsByTagName(\"head\")[0].appendChild(s);\n",
       "          s.async = true;\n",
       "          s.onload = () => {\n",
       "            VEGA_DEBUG[key] = version;\n",
       "            return resolve(paths[lib]);\n",
       "          };\n",
       "          s.onerror = () => reject(`Error loading script: ${paths[lib]}`);\n",
       "          s.src = paths[lib];\n",
       "        });\n",
       "    }\n",
       "\n",
       "    function showError(err) {\n",
       "      outputDiv.innerHTML = `<div class=\"error\" style=\"color:red;\">${err}</div>`;\n",
       "      throw err;\n",
       "    }\n",
       "\n",
       "    function displayChart(vegaEmbed) {\n",
       "      vegaEmbed(outputDiv, spec, embedOpt)\n",
       "        .catch(err => showError(`Javascript Error: ${err.message}<br>This usually means there's a typo in your chart specification. See the javascript console for the full traceback.`));\n",
       "    }\n",
       "\n",
       "    if(typeof define === \"function\" && define.amd) {\n",
       "      requirejs.config({paths});\n",
       "      require([\"vega-embed\"], displayChart, err => showError(`Error loading script: ${err.message}`));\n",
       "    } else {\n",
       "      maybeLoadScript(\"vega\", \"5\")\n",
       "        .then(() => maybeLoadScript(\"vega-lite\", \"4.17.0\"))\n",
       "        .then(() => maybeLoadScript(\"vega-embed\", \"6\"))\n",
       "        .catch(showError)\n",
       "        .then(() => displayChart(vegaEmbed));\n",
       "    }\n",
       "  })({\"config\": {\"axisLeft\": {\"labelFontSize\": 15}, \"axisBottom\": {\"labelFontSize\": 15}}, \"hconcat\": [{\"mark\": \"bar\", \"encoding\": {\"color\": {\"field\": \"kind\", \"type\": \"nominal\"}, \"tooltip\": {\"field\": \"kind\", \"type\": \"nominal\"}, \"x\": {\"field\": \"repo\", \"type\": \"nominal\"}, \"y\": {\"field\": \"count\", \"type\": \"quantitative\"}}, \"title\": \"Activity per repository\", \"width\": 600}, {\"mark\": \"bar\", \"encoding\": {\"color\": {\"field\": \"kind\", \"type\": \"nominal\"}, \"tooltip\": {\"field\": \"kind\", \"type\": \"nominal\"}, \"x\": {\"field\": \"repo\", \"type\": \"nominal\"}, \"y\": {\"field\": \"logcount\", \"type\": \"quantitative\"}}, \"title\": \"Log activity per repository\", \"width\": 600}], \"data\": {\"name\": \"data-ccb8a300040102a34cc41ad3bdb5e54f\"}, \"$schema\": \"https://vega.github.io/schema/vega-lite/v4.17.0.json\", \"datasets\": {\"data-ccb8a300040102a34cc41ad3bdb5e54f\": [{\"repo\": \"MyST-NB\", \"kind\": \"comments\", \"count\": 1, \"logcount\": 0.0}, {\"repo\": \"MyST-Parser\", \"kind\": \"comments\", \"count\": 126, \"logcount\": 4.836281906951478}, {\"repo\": \"MyST-Parser\", \"kind\": \"issues\", \"count\": 4, \"logcount\": 1.3862943611198906}, {\"repo\": \"MyST-Parser\", \"kind\": \"prs\", \"count\": 43, \"logcount\": 3.7612001156935624}, {\"repo\": \"jupyter-book\", \"kind\": \"comments\", \"count\": 17, \"logcount\": 2.833213344056216}, {\"repo\": \"jupyterlab-myst\", \"kind\": \"comments\", \"count\": 5, \"logcount\": 1.6094379124341003}, {\"repo\": \"markdown-it-py\", \"kind\": \"comments\", \"count\": 12, \"logcount\": 2.4849066497880004}, {\"repo\": \"markdown-it-py\", \"kind\": \"prs\", \"count\": 10, \"logcount\": 2.3025850929940455}, {\"repo\": \"mdit-py-plugins\", \"kind\": \"comments\", \"count\": 8, \"logcount\": 2.0794415416798357}, {\"repo\": \"mdit-py-plugins\", \"kind\": \"prs\", \"count\": 9, \"logcount\": 2.197224577336219}, {\"repo\": \"meta\", \"kind\": \"comments\", \"count\": 25, \"logcount\": 3.2188758248682006}, {\"repo\": \"meta\", \"kind\": \"issues\", \"count\": 3, \"logcount\": 1.0986122886681096}, {\"repo\": \"myst-enhancement-proposals\", \"kind\": \"comments\", \"count\": 42, \"logcount\": 3.737669618283368}, {\"repo\": \"myst-enhancement-proposals\", \"kind\": \"prs\", \"count\": 3, \"logcount\": 1.0986122886681096}, {\"repo\": \"myst-spec\", \"kind\": \"comments\", \"count\": 12, \"logcount\": 2.4849066497880004}, {\"repo\": \"myst-spec\", \"kind\": \"issues\", \"count\": 2, \"logcount\": 0.6931471805599453}, {\"repo\": \"rst-to-myst\", \"kind\": \"comments\", \"count\": 7, \"logcount\": 1.9459101490553132}, {\"repo\": \"rst-to-myst\", \"kind\": \"prs\", \"count\": 5, \"logcount\": 1.6094379124341003}, {\"repo\": \"sphinx-book-theme\", \"kind\": \"comments\", \"count\": 7, \"logcount\": 1.9459101490553132}, {\"repo\": \"sphinx-book-theme\", \"kind\": \"issues\", \"count\": 2, \"logcount\": 0.6931471805599453}, {\"repo\": \"sphinx-design\", \"kind\": \"comments\", \"count\": 5, \"logcount\": 1.6094379124341003}, {\"repo\": \"sphinx-design\", \"kind\": \"prs\", \"count\": 1, \"logcount\": 0.0}]}}, {\"mode\": \"vega-lite\"});\n",
       "</script>"
      ],
      "text/plain": [
       "alt.HConcatChart(...)"
      ]
     },
     "execution_count": 12,
     "metadata": {},
     "output_type": "execute_result"
    }
   ],
   "source": [
    "ch1 = alt.Chart(repo_summaries, width=600, title=\"Activity per repository\").mark_bar().encode(\n",
    "    x='repo',\n",
    "    y='count',\n",
    "    color='kind',\n",
    "    tooltip=\"kind\"\n",
    ")\n",
    "\n",
    "ch2 = alt.Chart(repo_summaries, width=600, title=\"Log activity per repository\").mark_bar().encode(\n",
    "    x='repo',\n",
    "    y='logcount',\n",
    "    color='kind',\n",
    "    tooltip=\"kind\"\n",
    ")\n",
    "\n",
    "ch1 | ch2"
   ]
  },
  {
   "cell_type": "code",
   "execution_count": 13,
   "id": "bcfef22f",
   "metadata": {
    "execution": {
     "iopub.execute_input": "2023-03-06T14:44:35.279457Z",
     "iopub.status.busy": "2023-03-06T14:44:35.278772Z",
     "iopub.status.idle": "2023-03-06T14:44:35.326497Z",
     "shell.execute_reply": "2023-03-06T14:44:35.325727Z"
    },
    "papermill": {
     "duration": 0.057014,
     "end_time": "2023-03-06T14:44:35.328645",
     "exception": false,
     "start_time": "2023-03-06T14:44:35.271631",
     "status": "completed"
    },
    "tags": [
     "hide_input"
    ]
   },
   "outputs": [
    {
     "data": {
      "text/html": [
       "\n",
       "<div id=\"altair-viz-924b31139d6d4bb9835651aa679a70ff\"></div>\n",
       "<script type=\"text/javascript\">\n",
       "  var VEGA_DEBUG = (typeof VEGA_DEBUG == \"undefined\") ? {} : VEGA_DEBUG;\n",
       "  (function(spec, embedOpt){\n",
       "    let outputDiv = document.currentScript.previousElementSibling;\n",
       "    if (outputDiv.id !== \"altair-viz-924b31139d6d4bb9835651aa679a70ff\") {\n",
       "      outputDiv = document.getElementById(\"altair-viz-924b31139d6d4bb9835651aa679a70ff\");\n",
       "    }\n",
       "    const paths = {\n",
       "      \"vega\": \"https://cdn.jsdelivr.net/npm//vega@5?noext\",\n",
       "      \"vega-lib\": \"https://cdn.jsdelivr.net/npm//vega-lib?noext\",\n",
       "      \"vega-lite\": \"https://cdn.jsdelivr.net/npm//vega-lite@4.17.0?noext\",\n",
       "      \"vega-embed\": \"https://cdn.jsdelivr.net/npm//vega-embed@6?noext\",\n",
       "    };\n",
       "\n",
       "    function maybeLoadScript(lib, version) {\n",
       "      var key = `${lib.replace(\"-\", \"\")}_version`;\n",
       "      return (VEGA_DEBUG[key] == version) ?\n",
       "        Promise.resolve(paths[lib]) :\n",
       "        new Promise(function(resolve, reject) {\n",
       "          var s = document.createElement('script');\n",
       "          document.getElementsByTagName(\"head\")[0].appendChild(s);\n",
       "          s.async = true;\n",
       "          s.onload = () => {\n",
       "            VEGA_DEBUG[key] = version;\n",
       "            return resolve(paths[lib]);\n",
       "          };\n",
       "          s.onerror = () => reject(`Error loading script: ${paths[lib]}`);\n",
       "          s.src = paths[lib];\n",
       "        });\n",
       "    }\n",
       "\n",
       "    function showError(err) {\n",
       "      outputDiv.innerHTML = `<div class=\"error\" style=\"color:red;\">${err}</div>`;\n",
       "      throw err;\n",
       "    }\n",
       "\n",
       "    function displayChart(vegaEmbed) {\n",
       "      vegaEmbed(outputDiv, spec, embedOpt)\n",
       "        .catch(err => showError(`Javascript Error: ${err.message}<br>This usually means there's a typo in your chart specification. See the javascript console for the full traceback.`));\n",
       "    }\n",
       "\n",
       "    if(typeof define === \"function\" && define.amd) {\n",
       "      requirejs.config({paths});\n",
       "      require([\"vega-embed\"], displayChart, err => showError(`Error loading script: ${err.message}`));\n",
       "    } else {\n",
       "      maybeLoadScript(\"vega\", \"5\")\n",
       "        .then(() => maybeLoadScript(\"vega-lite\", \"4.17.0\"))\n",
       "        .then(() => maybeLoadScript(\"vega-embed\", \"6\"))\n",
       "        .catch(showError)\n",
       "        .then(() => displayChart(vegaEmbed));\n",
       "    }\n",
       "  })({\"config\": {\"axisLeft\": {\"labelFontSize\": 15}, \"axisBottom\": {\"labelFontSize\": 15}}, \"data\": {\"name\": \"data-cef7881bdc5ed8017607afa3f8a94659\"}, \"mark\": \"bar\", \"encoding\": {\"color\": {\"field\": \"kind\", \"type\": \"nominal\"}, \"tooltip\": {\"field\": \"org\", \"type\": \"nominal\"}, \"x\": {\"field\": \"org\", \"type\": \"nominal\"}, \"y\": {\"field\": \"count\", \"type\": \"quantitative\"}}, \"width\": 600, \"$schema\": \"https://vega.github.io/schema/vega-lite/v4.17.0.json\", \"datasets\": {\"data-cef7881bdc5ed8017607afa3f8a94659\": [{\"org\": \"executablebooks\", \"kind\": \"comments\", \"count\": 267}, {\"org\": \"executablebooks\", \"kind\": \"issues\", \"count\": 11}, {\"org\": \"executablebooks\", \"kind\": \"prs\", \"count\": 71}]}}, {\"mode\": \"vega-lite\"});\n",
       "</script>"
      ],
      "text/plain": [
       "alt.Chart(...)"
      ]
     },
     "execution_count": 13,
     "metadata": {},
     "output_type": "execute_result"
    }
   ],
   "source": [
    "alt.Chart(org_summaries, width=600).mark_bar().encode(\n",
    "    x='org',\n",
    "    y='count',\n",
    "    color='kind',\n",
    "    tooltip=\"org\"\n",
    ")"
   ]
  },
  {
   "cell_type": "markdown",
   "id": "22a13707",
   "metadata": {
    "papermill": {
     "duration": 0.004783,
     "end_time": "2023-03-06T14:44:35.338390",
     "exception": false,
     "start_time": "2023-03-06T14:44:35.333607",
     "status": "completed"
    },
    "tags": []
   },
   "source": [
    "## By repository over time"
   ]
  },
  {
   "cell_type": "markdown",
   "id": "13bd889e",
   "metadata": {
    "papermill": {
     "duration": 0.004644,
     "end_time": "2023-03-06T14:44:35.347800",
     "exception": false,
     "start_time": "2023-03-06T14:44:35.343156",
     "status": "completed"
    },
    "tags": []
   },
   "source": [
    "### Comments"
   ]
  },
  {
   "cell_type": "code",
   "execution_count": 14,
   "id": "3b6922dc",
   "metadata": {
    "execution": {
     "iopub.execute_input": "2023-03-06T14:44:35.358894Z",
     "iopub.status.busy": "2023-03-06T14:44:35.358190Z",
     "iopub.status.idle": "2023-03-06T14:44:35.482786Z",
     "shell.execute_reply": "2023-03-06T14:44:35.481939Z"
    },
    "papermill": {
     "duration": 0.132309,
     "end_time": "2023-03-06T14:44:35.484733",
     "exception": false,
     "start_time": "2023-03-06T14:44:35.352424",
     "status": "completed"
    },
    "tags": [
     "hide_input"
    ]
   },
   "outputs": [
    {
     "data": {
      "text/html": [
       "\n",
       "<div id=\"altair-viz-2a9cda3f11914c0abc776c592fe5719e\"></div>\n",
       "<script type=\"text/javascript\">\n",
       "  var VEGA_DEBUG = (typeof VEGA_DEBUG == \"undefined\") ? {} : VEGA_DEBUG;\n",
       "  (function(spec, embedOpt){\n",
       "    let outputDiv = document.currentScript.previousElementSibling;\n",
       "    if (outputDiv.id !== \"altair-viz-2a9cda3f11914c0abc776c592fe5719e\") {\n",
       "      outputDiv = document.getElementById(\"altair-viz-2a9cda3f11914c0abc776c592fe5719e\");\n",
       "    }\n",
       "    const paths = {\n",
       "      \"vega\": \"https://cdn.jsdelivr.net/npm//vega@5?noext\",\n",
       "      \"vega-lib\": \"https://cdn.jsdelivr.net/npm//vega-lib?noext\",\n",
       "      \"vega-lite\": \"https://cdn.jsdelivr.net/npm//vega-lite@4.17.0?noext\",\n",
       "      \"vega-embed\": \"https://cdn.jsdelivr.net/npm//vega-embed@6?noext\",\n",
       "    };\n",
       "\n",
       "    function maybeLoadScript(lib, version) {\n",
       "      var key = `${lib.replace(\"-\", \"\")}_version`;\n",
       "      return (VEGA_DEBUG[key] == version) ?\n",
       "        Promise.resolve(paths[lib]) :\n",
       "        new Promise(function(resolve, reject) {\n",
       "          var s = document.createElement('script');\n",
       "          document.getElementsByTagName(\"head\")[0].appendChild(s);\n",
       "          s.async = true;\n",
       "          s.onload = () => {\n",
       "            VEGA_DEBUG[key] = version;\n",
       "            return resolve(paths[lib]);\n",
       "          };\n",
       "          s.onerror = () => reject(`Error loading script: ${paths[lib]}`);\n",
       "          s.src = paths[lib];\n",
       "        });\n",
       "    }\n",
       "\n",
       "    function showError(err) {\n",
       "      outputDiv.innerHTML = `<div class=\"error\" style=\"color:red;\">${err}</div>`;\n",
       "      throw err;\n",
       "    }\n",
       "\n",
       "    function displayChart(vegaEmbed) {\n",
       "      vegaEmbed(outputDiv, spec, embedOpt)\n",
       "        .catch(err => showError(`Javascript Error: ${err.message}<br>This usually means there's a typo in your chart specification. See the javascript console for the full traceback.`));\n",
       "    }\n",
       "\n",
       "    if(typeof define === \"function\" && define.amd) {\n",
       "      requirejs.config({paths});\n",
       "      require([\"vega-embed\"], displayChart, err => showError(`Error loading script: ${err.message}`));\n",
       "    } else {\n",
       "      maybeLoadScript(\"vega\", \"5\")\n",
       "        .then(() => maybeLoadScript(\"vega-lite\", \"4.17.0\"))\n",
       "        .then(() => maybeLoadScript(\"vega-embed\", \"6\"))\n",
       "        .catch(showError)\n",
       "        .then(() => displayChart(vegaEmbed));\n",
       "    }\n",
       "  })({\"config\": {\"axisLeft\": {\"labelFontSize\": 15}, \"axisBottom\": {\"labelFontSize\": 15}}, \"layer\": [{\"data\": {\"name\": \"data-bc6097d033bdb018e692e9368040584a\"}, \"mark\": \"line\", \"encoding\": {\"color\": {\"field\": \"repo\", \"type\": \"nominal\"}, \"tooltip\": {\"field\": \"repo\", \"type\": \"nominal\"}, \"x\": {\"field\": \"createdAt\", \"type\": \"temporal\"}, \"y\": {\"field\": \"count\", \"type\": \"quantitative\"}}, \"width\": 600}, {\"data\": {\"name\": \"data-3834bb1014609a6772a9670ef839c69d\"}, \"mark\": {\"type\": \"line\", \"color\": \"black\"}, \"encoding\": {\"x\": {\"field\": \"createdAt\", \"type\": \"temporal\"}, \"y\": {\"field\": \"count\", \"type\": \"quantitative\"}}, \"width\": 600}], \"$schema\": \"https://vega.github.io/schema/vega-lite/v4.17.0.json\", \"datasets\": {\"data-bc6097d033bdb018e692e9368040584a\": [{\"repo\": \"MyST-NB\", \"createdAt\": \"2022-12-18T00:00:00\", \"count\": 1}, {\"repo\": \"MyST-Parser\", \"createdAt\": \"2020-02-16T00:00:00\", \"count\": 1}, {\"repo\": \"MyST-Parser\", \"createdAt\": \"2020-02-23T00:00:00\", \"count\": 0}, {\"repo\": \"MyST-Parser\", \"createdAt\": \"2020-03-01T00:00:00\", \"count\": 0}, {\"repo\": \"MyST-Parser\", \"createdAt\": \"2020-03-08T00:00:00\", \"count\": 0}, {\"repo\": \"MyST-Parser\", \"createdAt\": \"2020-03-15T00:00:00\", \"count\": 0}, {\"repo\": \"MyST-Parser\", \"createdAt\": \"2020-03-22T00:00:00\", \"count\": 0}, {\"repo\": \"MyST-Parser\", \"createdAt\": \"2020-03-29T00:00:00\", \"count\": 0}, {\"repo\": \"MyST-Parser\", \"createdAt\": \"2020-04-05T00:00:00\", \"count\": 0}, {\"repo\": \"MyST-Parser\", \"createdAt\": \"2020-04-12T00:00:00\", \"count\": 0}, {\"repo\": \"MyST-Parser\", \"createdAt\": \"2020-04-19T00:00:00\", \"count\": 0}, {\"repo\": \"MyST-Parser\", \"createdAt\": \"2020-04-26T00:00:00\", \"count\": 0}, {\"repo\": \"MyST-Parser\", \"createdAt\": \"2020-05-03T00:00:00\", \"count\": 0}, {\"repo\": \"MyST-Parser\", \"createdAt\": \"2020-05-10T00:00:00\", \"count\": 0}, {\"repo\": \"MyST-Parser\", \"createdAt\": \"2020-05-17T00:00:00\", \"count\": 0}, {\"repo\": \"MyST-Parser\", \"createdAt\": \"2020-05-24T00:00:00\", \"count\": 0}, {\"repo\": \"MyST-Parser\", \"createdAt\": \"2020-05-31T00:00:00\", \"count\": 0}, {\"repo\": \"MyST-Parser\", \"createdAt\": \"2020-06-07T00:00:00\", \"count\": 0}, {\"repo\": \"MyST-Parser\", \"createdAt\": \"2020-06-14T00:00:00\", \"count\": 0}, {\"repo\": \"MyST-Parser\", \"createdAt\": \"2020-06-21T00:00:00\", \"count\": 0}, {\"repo\": \"MyST-Parser\", \"createdAt\": \"2020-06-28T00:00:00\", \"count\": 0}, {\"repo\": \"MyST-Parser\", \"createdAt\": \"2020-07-05T00:00:00\", \"count\": 0}, {\"repo\": \"MyST-Parser\", \"createdAt\": \"2020-07-12T00:00:00\", \"count\": 0}, {\"repo\": \"MyST-Parser\", \"createdAt\": \"2020-07-19T00:00:00\", \"count\": 0}, {\"repo\": \"MyST-Parser\", \"createdAt\": \"2020-07-26T00:00:00\", \"count\": 0}, {\"repo\": \"MyST-Parser\", \"createdAt\": \"2020-08-02T00:00:00\", \"count\": 0}, {\"repo\": \"MyST-Parser\", \"createdAt\": \"2020-08-09T00:00:00\", \"count\": 0}, {\"repo\": \"MyST-Parser\", \"createdAt\": \"2020-08-16T00:00:00\", \"count\": 0}, {\"repo\": \"MyST-Parser\", \"createdAt\": \"2020-08-23T00:00:00\", \"count\": 0}, {\"repo\": \"MyST-Parser\", \"createdAt\": \"2020-08-30T00:00:00\", \"count\": 0}, {\"repo\": \"MyST-Parser\", \"createdAt\": \"2020-09-06T00:00:00\", \"count\": 0}, {\"repo\": \"MyST-Parser\", \"createdAt\": \"2020-09-13T00:00:00\", \"count\": 0}, {\"repo\": \"MyST-Parser\", \"createdAt\": \"2020-09-20T00:00:00\", \"count\": 0}, {\"repo\": \"MyST-Parser\", \"createdAt\": \"2020-09-27T00:00:00\", \"count\": 0}, {\"repo\": \"MyST-Parser\", \"createdAt\": \"2020-10-04T00:00:00\", \"count\": 0}, {\"repo\": \"MyST-Parser\", \"createdAt\": \"2020-10-11T00:00:00\", \"count\": 0}, {\"repo\": \"MyST-Parser\", \"createdAt\": \"2020-10-18T00:00:00\", \"count\": 0}, {\"repo\": \"MyST-Parser\", \"createdAt\": \"2020-10-25T00:00:00\", \"count\": 0}, {\"repo\": \"MyST-Parser\", \"createdAt\": \"2020-11-01T00:00:00\", \"count\": 0}, {\"repo\": \"MyST-Parser\", \"createdAt\": \"2020-11-08T00:00:00\", \"count\": 0}, {\"repo\": \"MyST-Parser\", \"createdAt\": \"2020-11-15T00:00:00\", \"count\": 0}, {\"repo\": \"MyST-Parser\", \"createdAt\": \"2020-11-22T00:00:00\", \"count\": 0}, {\"repo\": \"MyST-Parser\", \"createdAt\": \"2020-11-29T00:00:00\", \"count\": 0}, {\"repo\": \"MyST-Parser\", \"createdAt\": \"2020-12-06T00:00:00\", \"count\": 0}, {\"repo\": \"MyST-Parser\", \"createdAt\": \"2020-12-13T00:00:00\", \"count\": 0}, {\"repo\": \"MyST-Parser\", \"createdAt\": \"2020-12-20T00:00:00\", \"count\": 0}, {\"repo\": \"MyST-Parser\", \"createdAt\": \"2020-12-27T00:00:00\", \"count\": 0}, {\"repo\": \"MyST-Parser\", \"createdAt\": \"2021-01-03T00:00:00\", \"count\": 0}, {\"repo\": \"MyST-Parser\", \"createdAt\": \"2021-01-10T00:00:00\", \"count\": 0}, {\"repo\": \"MyST-Parser\", \"createdAt\": \"2021-01-17T00:00:00\", \"count\": 1}, {\"repo\": \"MyST-Parser\", \"createdAt\": \"2021-01-24T00:00:00\", \"count\": 3}, {\"repo\": \"MyST-Parser\", \"createdAt\": \"2021-01-31T00:00:00\", \"count\": 0}, {\"repo\": \"MyST-Parser\", \"createdAt\": \"2021-02-07T00:00:00\", \"count\": 0}, {\"repo\": \"MyST-Parser\", \"createdAt\": \"2021-02-14T00:00:00\", \"count\": 0}, {\"repo\": \"MyST-Parser\", \"createdAt\": \"2021-02-21T00:00:00\", \"count\": 1}, {\"repo\": \"MyST-Parser\", \"createdAt\": \"2021-02-28T00:00:00\", \"count\": 0}, {\"repo\": \"MyST-Parser\", \"createdAt\": \"2021-03-07T00:00:00\", \"count\": 0}, {\"repo\": \"MyST-Parser\", \"createdAt\": \"2021-03-14T00:00:00\", \"count\": 0}, {\"repo\": \"MyST-Parser\", \"createdAt\": \"2021-03-21T00:00:00\", \"count\": 0}, {\"repo\": \"MyST-Parser\", \"createdAt\": \"2021-03-28T00:00:00\", \"count\": 0}, {\"repo\": \"MyST-Parser\", \"createdAt\": \"2021-04-04T00:00:00\", \"count\": 0}, {\"repo\": \"MyST-Parser\", \"createdAt\": \"2021-04-11T00:00:00\", \"count\": 0}, {\"repo\": \"MyST-Parser\", \"createdAt\": \"2021-04-18T00:00:00\", \"count\": 0}, {\"repo\": \"MyST-Parser\", \"createdAt\": \"2021-04-25T00:00:00\", \"count\": 0}, {\"repo\": \"MyST-Parser\", \"createdAt\": \"2021-05-02T00:00:00\", \"count\": 2}, {\"repo\": \"MyST-Parser\", \"createdAt\": \"2021-05-09T00:00:00\", \"count\": 0}, {\"repo\": \"MyST-Parser\", \"createdAt\": \"2021-05-16T00:00:00\", \"count\": 0}, {\"repo\": \"MyST-Parser\", \"createdAt\": \"2021-05-23T00:00:00\", \"count\": 0}, {\"repo\": \"MyST-Parser\", \"createdAt\": \"2021-05-30T00:00:00\", \"count\": 0}, {\"repo\": \"MyST-Parser\", \"createdAt\": \"2021-06-06T00:00:00\", \"count\": 0}, {\"repo\": \"MyST-Parser\", \"createdAt\": \"2021-06-13T00:00:00\", \"count\": 0}, {\"repo\": \"MyST-Parser\", \"createdAt\": \"2021-06-20T00:00:00\", \"count\": 0}, {\"repo\": \"MyST-Parser\", \"createdAt\": \"2021-06-27T00:00:00\", \"count\": 0}, {\"repo\": \"MyST-Parser\", \"createdAt\": \"2021-07-04T00:00:00\", \"count\": 0}, {\"repo\": \"MyST-Parser\", \"createdAt\": \"2021-07-11T00:00:00\", \"count\": 0}, {\"repo\": \"MyST-Parser\", \"createdAt\": \"2021-07-18T00:00:00\", \"count\": 1}, {\"repo\": \"MyST-Parser\", \"createdAt\": \"2021-07-25T00:00:00\", \"count\": 0}, {\"repo\": \"MyST-Parser\", \"createdAt\": \"2021-08-01T00:00:00\", \"count\": 0}, {\"repo\": \"MyST-Parser\", \"createdAt\": \"2021-08-08T00:00:00\", \"count\": 0}, {\"repo\": \"MyST-Parser\", \"createdAt\": \"2021-08-15T00:00:00\", \"count\": 0}, {\"repo\": \"MyST-Parser\", \"createdAt\": \"2021-08-22T00:00:00\", \"count\": 0}, {\"repo\": \"MyST-Parser\", \"createdAt\": \"2021-08-29T00:00:00\", \"count\": 0}, {\"repo\": \"MyST-Parser\", \"createdAt\": \"2021-09-05T00:00:00\", \"count\": 0}, {\"repo\": \"MyST-Parser\", \"createdAt\": \"2021-09-12T00:00:00\", \"count\": 0}, {\"repo\": \"MyST-Parser\", \"createdAt\": \"2021-09-19T00:00:00\", \"count\": 0}, {\"repo\": \"MyST-Parser\", \"createdAt\": \"2021-09-26T00:00:00\", \"count\": 0}, {\"repo\": \"MyST-Parser\", \"createdAt\": \"2021-10-03T00:00:00\", \"count\": 2}, {\"repo\": \"MyST-Parser\", \"createdAt\": \"2021-10-10T00:00:00\", \"count\": 0}, {\"repo\": \"MyST-Parser\", \"createdAt\": \"2021-10-17T00:00:00\", \"count\": 0}, {\"repo\": \"MyST-Parser\", \"createdAt\": \"2021-10-24T00:00:00\", \"count\": 0}, {\"repo\": \"MyST-Parser\", \"createdAt\": \"2021-10-31T00:00:00\", \"count\": 0}, {\"repo\": \"MyST-Parser\", \"createdAt\": \"2021-11-07T00:00:00\", \"count\": 0}, {\"repo\": \"MyST-Parser\", \"createdAt\": \"2021-11-14T00:00:00\", \"count\": 0}, {\"repo\": \"MyST-Parser\", \"createdAt\": \"2021-11-21T00:00:00\", \"count\": 0}, {\"repo\": \"MyST-Parser\", \"createdAt\": \"2021-11-28T00:00:00\", \"count\": 0}, {\"repo\": \"MyST-Parser\", \"createdAt\": \"2021-12-05T00:00:00\", \"count\": 0}, {\"repo\": \"MyST-Parser\", \"createdAt\": \"2021-12-12T00:00:00\", \"count\": 0}, {\"repo\": \"MyST-Parser\", \"createdAt\": \"2021-12-19T00:00:00\", \"count\": 0}, {\"repo\": \"MyST-Parser\", \"createdAt\": \"2021-12-26T00:00:00\", \"count\": 0}, {\"repo\": \"MyST-Parser\", \"createdAt\": \"2022-01-02T00:00:00\", \"count\": 2}, {\"repo\": \"MyST-Parser\", \"createdAt\": \"2022-01-09T00:00:00\", \"count\": 0}, {\"repo\": \"MyST-Parser\", \"createdAt\": \"2022-01-16T00:00:00\", \"count\": 1}, {\"repo\": \"MyST-Parser\", \"createdAt\": \"2022-01-23T00:00:00\", \"count\": 0}, {\"repo\": \"MyST-Parser\", \"createdAt\": \"2022-01-30T00:00:00\", \"count\": 0}, {\"repo\": \"MyST-Parser\", \"createdAt\": \"2022-02-06T00:00:00\", \"count\": 0}, {\"repo\": \"MyST-Parser\", \"createdAt\": \"2022-02-13T00:00:00\", \"count\": 2}, {\"repo\": \"MyST-Parser\", \"createdAt\": \"2022-02-20T00:00:00\", \"count\": 0}, {\"repo\": \"MyST-Parser\", \"createdAt\": \"2022-02-27T00:00:00\", \"count\": 0}, {\"repo\": \"MyST-Parser\", \"createdAt\": \"2022-03-06T00:00:00\", \"count\": 0}, {\"repo\": \"MyST-Parser\", \"createdAt\": \"2022-03-13T00:00:00\", \"count\": 0}, {\"repo\": \"MyST-Parser\", \"createdAt\": \"2022-03-20T00:00:00\", \"count\": 0}, {\"repo\": \"MyST-Parser\", \"createdAt\": \"2022-03-27T00:00:00\", \"count\": 0}, {\"repo\": \"MyST-Parser\", \"createdAt\": \"2022-04-03T00:00:00\", \"count\": 0}, {\"repo\": \"MyST-Parser\", \"createdAt\": \"2022-04-10T00:00:00\", \"count\": 0}, {\"repo\": \"MyST-Parser\", \"createdAt\": \"2022-04-17T00:00:00\", \"count\": 0}, {\"repo\": \"MyST-Parser\", \"createdAt\": \"2022-04-24T00:00:00\", \"count\": 0}, {\"repo\": \"MyST-Parser\", \"createdAt\": \"2022-05-01T00:00:00\", \"count\": 0}, {\"repo\": \"MyST-Parser\", \"createdAt\": \"2022-05-08T00:00:00\", \"count\": 0}, {\"repo\": \"MyST-Parser\", \"createdAt\": \"2022-05-15T00:00:00\", \"count\": 0}, {\"repo\": \"MyST-Parser\", \"createdAt\": \"2022-05-22T00:00:00\", \"count\": 0}, {\"repo\": \"MyST-Parser\", \"createdAt\": \"2022-05-29T00:00:00\", \"count\": 0}, {\"repo\": \"MyST-Parser\", \"createdAt\": \"2022-06-05T00:00:00\", \"count\": 0}, {\"repo\": \"MyST-Parser\", \"createdAt\": \"2022-06-12T00:00:00\", \"count\": 0}, {\"repo\": \"MyST-Parser\", \"createdAt\": \"2022-06-19T00:00:00\", \"count\": 0}, {\"repo\": \"MyST-Parser\", \"createdAt\": \"2022-06-26T00:00:00\", \"count\": 0}, {\"repo\": \"MyST-Parser\", \"createdAt\": \"2022-07-03T00:00:00\", \"count\": 0}, {\"repo\": \"MyST-Parser\", \"createdAt\": \"2022-07-10T00:00:00\", \"count\": 0}, {\"repo\": \"MyST-Parser\", \"createdAt\": \"2022-07-17T00:00:00\", \"count\": 0}, {\"repo\": \"MyST-Parser\", \"createdAt\": \"2022-07-24T00:00:00\", \"count\": 0}, {\"repo\": \"MyST-Parser\", \"createdAt\": \"2022-07-31T00:00:00\", \"count\": 0}, {\"repo\": \"MyST-Parser\", \"createdAt\": \"2022-08-07T00:00:00\", \"count\": 0}, {\"repo\": \"MyST-Parser\", \"createdAt\": \"2022-08-14T00:00:00\", \"count\": 0}, {\"repo\": \"MyST-Parser\", \"createdAt\": \"2022-08-21T00:00:00\", \"count\": 0}, {\"repo\": \"MyST-Parser\", \"createdAt\": \"2022-08-28T00:00:00\", \"count\": 0}, {\"repo\": \"MyST-Parser\", \"createdAt\": \"2022-09-04T00:00:00\", \"count\": 0}, {\"repo\": \"MyST-Parser\", \"createdAt\": \"2022-09-11T00:00:00\", \"count\": 0}, {\"repo\": \"MyST-Parser\", \"createdAt\": \"2022-09-18T00:00:00\", \"count\": 0}, {\"repo\": \"MyST-Parser\", \"createdAt\": \"2022-09-25T00:00:00\", \"count\": 0}, {\"repo\": \"MyST-Parser\", \"createdAt\": \"2022-10-02T00:00:00\", \"count\": 0}, {\"repo\": \"MyST-Parser\", \"createdAt\": \"2022-10-09T00:00:00\", \"count\": 0}, {\"repo\": \"MyST-Parser\", \"createdAt\": \"2022-10-16T00:00:00\", \"count\": 0}, {\"repo\": \"MyST-Parser\", \"createdAt\": \"2022-10-23T00:00:00\", \"count\": 1}, {\"repo\": \"MyST-Parser\", \"createdAt\": \"2022-10-30T00:00:00\", \"count\": 0}, {\"repo\": \"MyST-Parser\", \"createdAt\": \"2022-11-06T00:00:00\", \"count\": 0}, {\"repo\": \"MyST-Parser\", \"createdAt\": \"2022-11-13T00:00:00\", \"count\": 0}, {\"repo\": \"MyST-Parser\", \"createdAt\": \"2022-11-20T00:00:00\", \"count\": 0}, {\"repo\": \"MyST-Parser\", \"createdAt\": \"2022-11-27T00:00:00\", \"count\": 0}, {\"repo\": \"MyST-Parser\", \"createdAt\": \"2022-12-04T00:00:00\", \"count\": 0}, {\"repo\": \"MyST-Parser\", \"createdAt\": \"2022-12-11T00:00:00\", \"count\": 1}, {\"repo\": \"MyST-Parser\", \"createdAt\": \"2022-12-18T00:00:00\", \"count\": 0}, {\"repo\": \"MyST-Parser\", \"createdAt\": \"2022-12-25T00:00:00\", \"count\": 0}, {\"repo\": \"MyST-Parser\", \"createdAt\": \"2023-01-01T00:00:00\", \"count\": 0}, {\"repo\": \"MyST-Parser\", \"createdAt\": \"2023-01-08T00:00:00\", \"count\": 1}, {\"repo\": \"MyST-Parser\", \"createdAt\": \"2023-01-15T00:00:00\", \"count\": 23}, {\"repo\": \"MyST-Parser\", \"createdAt\": \"2023-01-22T00:00:00\", \"count\": 0}, {\"repo\": \"MyST-Parser\", \"createdAt\": \"2023-01-29T00:00:00\", \"count\": 0}, {\"repo\": \"MyST-Parser\", \"createdAt\": \"2023-02-05T00:00:00\", \"count\": 0}, {\"repo\": \"MyST-Parser\", \"createdAt\": \"2023-02-12T00:00:00\", \"count\": 13}, {\"repo\": \"MyST-Parser\", \"createdAt\": \"2023-02-19T00:00:00\", \"count\": 5}, {\"repo\": \"MyST-Parser\", \"createdAt\": \"2023-02-26T00:00:00\", \"count\": 36}, {\"repo\": \"MyST-Parser\", \"createdAt\": \"2023-03-05T00:00:00\", \"count\": 30}, {\"repo\": \"jupyter-book\", \"createdAt\": \"2022-09-04T00:00:00\", \"count\": 2}, {\"repo\": \"jupyter-book\", \"createdAt\": \"2022-09-11T00:00:00\", \"count\": 0}, {\"repo\": \"jupyter-book\", \"createdAt\": \"2022-09-18T00:00:00\", \"count\": 0}, {\"repo\": \"jupyter-book\", \"createdAt\": \"2022-09-25T00:00:00\", \"count\": 0}, {\"repo\": \"jupyter-book\", \"createdAt\": \"2022-10-02T00:00:00\", \"count\": 1}, {\"repo\": \"jupyter-book\", \"createdAt\": \"2022-10-09T00:00:00\", \"count\": 0}, {\"repo\": \"jupyter-book\", \"createdAt\": \"2022-10-16T00:00:00\", \"count\": 0}, {\"repo\": \"jupyter-book\", \"createdAt\": \"2022-10-23T00:00:00\", \"count\": 0}, {\"repo\": \"jupyter-book\", \"createdAt\": \"2022-10-30T00:00:00\", \"count\": 0}, {\"repo\": \"jupyter-book\", \"createdAt\": \"2022-11-06T00:00:00\", \"count\": 0}, {\"repo\": \"jupyter-book\", \"createdAt\": \"2022-11-13T00:00:00\", \"count\": 0}, {\"repo\": \"jupyter-book\", \"createdAt\": \"2022-11-20T00:00:00\", \"count\": 0}, {\"repo\": \"jupyter-book\", \"createdAt\": \"2022-11-27T00:00:00\", \"count\": 0}, {\"repo\": \"jupyter-book\", \"createdAt\": \"2022-12-04T00:00:00\", \"count\": 0}, {\"repo\": \"jupyter-book\", \"createdAt\": \"2022-12-11T00:00:00\", \"count\": 0}, {\"repo\": \"jupyter-book\", \"createdAt\": \"2022-12-18T00:00:00\", \"count\": 0}, {\"repo\": \"jupyter-book\", \"createdAt\": \"2022-12-25T00:00:00\", \"count\": 0}, {\"repo\": \"jupyter-book\", \"createdAt\": \"2023-01-01T00:00:00\", \"count\": 0}, {\"repo\": \"jupyter-book\", \"createdAt\": \"2023-01-08T00:00:00\", \"count\": 0}, {\"repo\": \"jupyter-book\", \"createdAt\": \"2023-01-15T00:00:00\", \"count\": 0}, {\"repo\": \"jupyter-book\", \"createdAt\": \"2023-01-22T00:00:00\", \"count\": 0}, {\"repo\": \"jupyter-book\", \"createdAt\": \"2023-01-29T00:00:00\", \"count\": 0}, {\"repo\": \"jupyter-book\", \"createdAt\": \"2023-02-05T00:00:00\", \"count\": 0}, {\"repo\": \"jupyter-book\", \"createdAt\": \"2023-02-12T00:00:00\", \"count\": 0}, {\"repo\": \"jupyter-book\", \"createdAt\": \"2023-02-19T00:00:00\", \"count\": 0}, {\"repo\": \"jupyter-book\", \"createdAt\": \"2023-02-26T00:00:00\", \"count\": 3}, {\"repo\": \"jupyter-book\", \"createdAt\": \"2023-03-05T00:00:00\", \"count\": 11}, {\"repo\": \"jupyterlab-myst\", \"createdAt\": \"2023-01-15T00:00:00\", \"count\": 5}, {\"repo\": \"markdown-it-py\", \"createdAt\": \"2021-10-03T00:00:00\", \"count\": 1}, {\"repo\": \"markdown-it-py\", \"createdAt\": \"2021-10-10T00:00:00\", \"count\": 0}, {\"repo\": \"markdown-it-py\", \"createdAt\": \"2021-10-17T00:00:00\", \"count\": 0}, {\"repo\": \"markdown-it-py\", \"createdAt\": \"2021-10-24T00:00:00\", \"count\": 0}, {\"repo\": \"markdown-it-py\", \"createdAt\": \"2021-10-31T00:00:00\", \"count\": 0}, {\"repo\": \"markdown-it-py\", \"createdAt\": \"2021-11-07T00:00:00\", \"count\": 0}, {\"repo\": \"markdown-it-py\", \"createdAt\": \"2021-11-14T00:00:00\", \"count\": 0}, {\"repo\": \"markdown-it-py\", \"createdAt\": \"2021-11-21T00:00:00\", \"count\": 0}, {\"repo\": \"markdown-it-py\", \"createdAt\": \"2021-11-28T00:00:00\", \"count\": 0}, {\"repo\": \"markdown-it-py\", \"createdAt\": \"2021-12-05T00:00:00\", \"count\": 0}, {\"repo\": \"markdown-it-py\", \"createdAt\": \"2021-12-12T00:00:00\", \"count\": 0}, {\"repo\": \"markdown-it-py\", \"createdAt\": \"2021-12-19T00:00:00\", \"count\": 0}, {\"repo\": \"markdown-it-py\", \"createdAt\": \"2021-12-26T00:00:00\", \"count\": 0}, {\"repo\": \"markdown-it-py\", \"createdAt\": \"2022-01-02T00:00:00\", \"count\": 0}, {\"repo\": \"markdown-it-py\", \"createdAt\": \"2022-01-09T00:00:00\", \"count\": 0}, {\"repo\": \"markdown-it-py\", \"createdAt\": \"2022-01-16T00:00:00\", \"count\": 0}, {\"repo\": \"markdown-it-py\", \"createdAt\": \"2022-01-23T00:00:00\", \"count\": 0}, {\"repo\": \"markdown-it-py\", \"createdAt\": \"2022-01-30T00:00:00\", \"count\": 0}, {\"repo\": \"markdown-it-py\", \"createdAt\": \"2022-02-06T00:00:00\", \"count\": 0}, {\"repo\": \"markdown-it-py\", \"createdAt\": \"2022-02-13T00:00:00\", \"count\": 0}, {\"repo\": \"markdown-it-py\", \"createdAt\": \"2022-02-20T00:00:00\", \"count\": 0}, {\"repo\": \"markdown-it-py\", \"createdAt\": \"2022-02-27T00:00:00\", \"count\": 0}, {\"repo\": \"markdown-it-py\", \"createdAt\": \"2022-03-06T00:00:00\", \"count\": 0}, {\"repo\": \"markdown-it-py\", \"createdAt\": \"2022-03-13T00:00:00\", \"count\": 0}, {\"repo\": \"markdown-it-py\", \"createdAt\": \"2022-03-20T00:00:00\", \"count\": 0}, {\"repo\": \"markdown-it-py\", \"createdAt\": \"2022-03-27T00:00:00\", \"count\": 0}, {\"repo\": \"markdown-it-py\", \"createdAt\": \"2022-04-03T00:00:00\", \"count\": 0}, {\"repo\": \"markdown-it-py\", \"createdAt\": \"2022-04-10T00:00:00\", \"count\": 0}, {\"repo\": \"markdown-it-py\", \"createdAt\": \"2022-04-17T00:00:00\", \"count\": 0}, {\"repo\": \"markdown-it-py\", \"createdAt\": \"2022-04-24T00:00:00\", \"count\": 0}, {\"repo\": \"markdown-it-py\", \"createdAt\": \"2022-05-01T00:00:00\", \"count\": 0}, {\"repo\": \"markdown-it-py\", \"createdAt\": \"2022-05-08T00:00:00\", \"count\": 0}, {\"repo\": \"markdown-it-py\", \"createdAt\": \"2022-05-15T00:00:00\", \"count\": 1}, {\"repo\": \"markdown-it-py\", \"createdAt\": \"2022-05-22T00:00:00\", \"count\": 0}, {\"repo\": \"markdown-it-py\", \"createdAt\": \"2022-05-29T00:00:00\", \"count\": 0}, {\"repo\": \"markdown-it-py\", \"createdAt\": \"2022-06-05T00:00:00\", \"count\": 0}, {\"repo\": \"markdown-it-py\", \"createdAt\": \"2022-06-12T00:00:00\", \"count\": 0}, {\"repo\": \"markdown-it-py\", \"createdAt\": \"2022-06-19T00:00:00\", \"count\": 0}, {\"repo\": \"markdown-it-py\", \"createdAt\": \"2022-06-26T00:00:00\", \"count\": 0}, {\"repo\": \"markdown-it-py\", \"createdAt\": \"2022-07-03T00:00:00\", \"count\": 0}, {\"repo\": \"markdown-it-py\", \"createdAt\": \"2022-07-10T00:00:00\", \"count\": 0}, {\"repo\": \"markdown-it-py\", \"createdAt\": \"2022-07-17T00:00:00\", \"count\": 0}, {\"repo\": \"markdown-it-py\", \"createdAt\": \"2022-07-24T00:00:00\", \"count\": 0}, {\"repo\": \"markdown-it-py\", \"createdAt\": \"2022-07-31T00:00:00\", \"count\": 0}, {\"repo\": \"markdown-it-py\", \"createdAt\": \"2022-08-07T00:00:00\", \"count\": 0}, {\"repo\": \"markdown-it-py\", \"createdAt\": \"2022-08-14T00:00:00\", \"count\": 0}, {\"repo\": \"markdown-it-py\", \"createdAt\": \"2022-08-21T00:00:00\", \"count\": 0}, {\"repo\": \"markdown-it-py\", \"createdAt\": \"2022-08-28T00:00:00\", \"count\": 0}, {\"repo\": \"markdown-it-py\", \"createdAt\": \"2022-09-04T00:00:00\", \"count\": 0}, {\"repo\": \"markdown-it-py\", \"createdAt\": \"2022-09-11T00:00:00\", \"count\": 0}, {\"repo\": \"markdown-it-py\", \"createdAt\": \"2022-09-18T00:00:00\", \"count\": 0}, {\"repo\": \"markdown-it-py\", \"createdAt\": \"2022-09-25T00:00:00\", \"count\": 0}, {\"repo\": \"markdown-it-py\", \"createdAt\": \"2022-10-02T00:00:00\", \"count\": 0}, {\"repo\": \"markdown-it-py\", \"createdAt\": \"2022-10-09T00:00:00\", \"count\": 0}, {\"repo\": \"markdown-it-py\", \"createdAt\": \"2022-10-16T00:00:00\", \"count\": 0}, {\"repo\": \"markdown-it-py\", \"createdAt\": \"2022-10-23T00:00:00\", \"count\": 1}, {\"repo\": \"markdown-it-py\", \"createdAt\": \"2022-10-30T00:00:00\", \"count\": 0}, {\"repo\": \"markdown-it-py\", \"createdAt\": \"2022-11-06T00:00:00\", \"count\": 0}, {\"repo\": \"markdown-it-py\", \"createdAt\": \"2022-11-13T00:00:00\", \"count\": 0}, {\"repo\": \"markdown-it-py\", \"createdAt\": \"2022-11-20T00:00:00\", \"count\": 0}, {\"repo\": \"markdown-it-py\", \"createdAt\": \"2022-11-27T00:00:00\", \"count\": 0}, {\"repo\": \"markdown-it-py\", \"createdAt\": \"2022-12-04T00:00:00\", \"count\": 0}, {\"repo\": \"markdown-it-py\", \"createdAt\": \"2022-12-11T00:00:00\", \"count\": 0}, {\"repo\": \"markdown-it-py\", \"createdAt\": \"2022-12-18T00:00:00\", \"count\": 0}, {\"repo\": \"markdown-it-py\", \"createdAt\": \"2022-12-25T00:00:00\", \"count\": 0}, {\"repo\": \"markdown-it-py\", \"createdAt\": \"2023-01-01T00:00:00\", \"count\": 0}, {\"repo\": \"markdown-it-py\", \"createdAt\": \"2023-01-08T00:00:00\", \"count\": 0}, {\"repo\": \"markdown-it-py\", \"createdAt\": \"2023-01-15T00:00:00\", \"count\": 0}, {\"repo\": \"markdown-it-py\", \"createdAt\": \"2023-01-22T00:00:00\", \"count\": 0}, {\"repo\": \"markdown-it-py\", \"createdAt\": \"2023-01-29T00:00:00\", \"count\": 0}, {\"repo\": \"markdown-it-py\", \"createdAt\": \"2023-02-05T00:00:00\", \"count\": 0}, {\"repo\": \"markdown-it-py\", \"createdAt\": \"2023-02-12T00:00:00\", \"count\": 0}, {\"repo\": \"markdown-it-py\", \"createdAt\": \"2023-02-19T00:00:00\", \"count\": 0}, {\"repo\": \"markdown-it-py\", \"createdAt\": \"2023-02-26T00:00:00\", \"count\": 9}, {\"repo\": \"mdit-py-plugins\", \"createdAt\": \"2023-01-15T00:00:00\", \"count\": 3}, {\"repo\": \"mdit-py-plugins\", \"createdAt\": \"2023-01-22T00:00:00\", \"count\": 0}, {\"repo\": \"mdit-py-plugins\", \"createdAt\": \"2023-01-29T00:00:00\", \"count\": 0}, {\"repo\": \"mdit-py-plugins\", \"createdAt\": \"2023-02-05T00:00:00\", \"count\": 0}, {\"repo\": \"mdit-py-plugins\", \"createdAt\": \"2023-02-12T00:00:00\", \"count\": 0}, {\"repo\": \"mdit-py-plugins\", \"createdAt\": \"2023-02-19T00:00:00\", \"count\": 4}, {\"repo\": \"mdit-py-plugins\", \"createdAt\": \"2023-02-26T00:00:00\", \"count\": 0}, {\"repo\": \"mdit-py-plugins\", \"createdAt\": \"2023-03-05T00:00:00\", \"count\": 1}, {\"repo\": \"meta\", \"createdAt\": \"2020-02-23T00:00:00\", \"count\": 5}, {\"repo\": \"meta\", \"createdAt\": \"2020-03-01T00:00:00\", \"count\": 0}, {\"repo\": \"meta\", \"createdAt\": \"2020-03-08T00:00:00\", \"count\": 0}, {\"repo\": \"meta\", \"createdAt\": \"2020-03-15T00:00:00\", \"count\": 0}, {\"repo\": \"meta\", \"createdAt\": \"2020-03-22T00:00:00\", \"count\": 0}, {\"repo\": \"meta\", \"createdAt\": \"2020-03-29T00:00:00\", \"count\": 0}, {\"repo\": \"meta\", \"createdAt\": \"2020-04-05T00:00:00\", \"count\": 0}, {\"repo\": \"meta\", \"createdAt\": \"2020-04-12T00:00:00\", \"count\": 0}, {\"repo\": \"meta\", \"createdAt\": \"2020-04-19T00:00:00\", \"count\": 0}, {\"repo\": \"meta\", \"createdAt\": \"2020-04-26T00:00:00\", \"count\": 0}, {\"repo\": \"meta\", \"createdAt\": \"2020-05-03T00:00:00\", \"count\": 0}, {\"repo\": \"meta\", \"createdAt\": \"2020-05-10T00:00:00\", \"count\": 0}, {\"repo\": \"meta\", \"createdAt\": \"2020-05-17T00:00:00\", \"count\": 0}, {\"repo\": \"meta\", \"createdAt\": \"2020-05-24T00:00:00\", \"count\": 0}, {\"repo\": \"meta\", \"createdAt\": \"2020-05-31T00:00:00\", \"count\": 2}, {\"repo\": \"meta\", \"createdAt\": \"2020-06-07T00:00:00\", \"count\": 1}, {\"repo\": \"meta\", \"createdAt\": \"2020-06-14T00:00:00\", \"count\": 0}, {\"repo\": \"meta\", \"createdAt\": \"2020-06-21T00:00:00\", \"count\": 0}, {\"repo\": \"meta\", \"createdAt\": \"2020-06-28T00:00:00\", \"count\": 0}, {\"repo\": \"meta\", \"createdAt\": \"2020-07-05T00:00:00\", \"count\": 0}, {\"repo\": \"meta\", \"createdAt\": \"2020-07-12T00:00:00\", \"count\": 0}, {\"repo\": \"meta\", \"createdAt\": \"2020-07-19T00:00:00\", \"count\": 0}, {\"repo\": \"meta\", \"createdAt\": \"2020-07-26T00:00:00\", \"count\": 0}, {\"repo\": \"meta\", \"createdAt\": \"2020-08-02T00:00:00\", \"count\": 0}, {\"repo\": \"meta\", \"createdAt\": \"2020-08-09T00:00:00\", \"count\": 1}, {\"repo\": \"meta\", \"createdAt\": \"2020-08-16T00:00:00\", \"count\": 1}, {\"repo\": \"meta\", \"createdAt\": \"2020-08-23T00:00:00\", \"count\": 0}, {\"repo\": \"meta\", \"createdAt\": \"2020-08-30T00:00:00\", \"count\": 0}, {\"repo\": \"meta\", \"createdAt\": \"2020-09-06T00:00:00\", \"count\": 0}, {\"repo\": \"meta\", \"createdAt\": \"2020-09-13T00:00:00\", \"count\": 0}, {\"repo\": \"meta\", \"createdAt\": \"2020-09-20T00:00:00\", \"count\": 0}, {\"repo\": \"meta\", \"createdAt\": \"2020-09-27T00:00:00\", \"count\": 0}, {\"repo\": \"meta\", \"createdAt\": \"2020-10-04T00:00:00\", \"count\": 0}, {\"repo\": \"meta\", \"createdAt\": \"2020-10-11T00:00:00\", \"count\": 0}, {\"repo\": \"meta\", \"createdAt\": \"2020-10-18T00:00:00\", \"count\": 0}, {\"repo\": \"meta\", \"createdAt\": \"2020-10-25T00:00:00\", \"count\": 0}, {\"repo\": \"meta\", \"createdAt\": \"2020-11-01T00:00:00\", \"count\": 0}, {\"repo\": \"meta\", \"createdAt\": \"2020-11-08T00:00:00\", \"count\": 0}, {\"repo\": \"meta\", \"createdAt\": \"2020-11-15T00:00:00\", \"count\": 0}, {\"repo\": \"meta\", \"createdAt\": \"2020-11-22T00:00:00\", \"count\": 0}, {\"repo\": \"meta\", \"createdAt\": \"2020-11-29T00:00:00\", \"count\": 2}, {\"repo\": \"meta\", \"createdAt\": \"2020-12-06T00:00:00\", \"count\": 0}, {\"repo\": \"meta\", \"createdAt\": \"2020-12-13T00:00:00\", \"count\": 0}, {\"repo\": \"meta\", \"createdAt\": \"2020-12-20T00:00:00\", \"count\": 0}, {\"repo\": \"meta\", \"createdAt\": \"2020-12-27T00:00:00\", \"count\": 0}, {\"repo\": \"meta\", \"createdAt\": \"2021-01-03T00:00:00\", \"count\": 0}, {\"repo\": \"meta\", \"createdAt\": \"2021-01-10T00:00:00\", \"count\": 0}, {\"repo\": \"meta\", \"createdAt\": \"2021-01-17T00:00:00\", \"count\": 0}, {\"repo\": \"meta\", \"createdAt\": \"2021-01-24T00:00:00\", \"count\": 0}, {\"repo\": \"meta\", \"createdAt\": \"2021-01-31T00:00:00\", \"count\": 0}, {\"repo\": \"meta\", \"createdAt\": \"2021-02-07T00:00:00\", \"count\": 0}, {\"repo\": \"meta\", \"createdAt\": \"2021-02-14T00:00:00\", \"count\": 0}, {\"repo\": \"meta\", \"createdAt\": \"2021-02-21T00:00:00\", \"count\": 0}, {\"repo\": \"meta\", \"createdAt\": \"2021-02-28T00:00:00\", \"count\": 0}, {\"repo\": \"meta\", \"createdAt\": \"2021-03-07T00:00:00\", \"count\": 0}, {\"repo\": \"meta\", \"createdAt\": \"2021-03-14T00:00:00\", \"count\": 0}, {\"repo\": \"meta\", \"createdAt\": \"2021-03-21T00:00:00\", \"count\": 0}, {\"repo\": \"meta\", \"createdAt\": \"2021-03-28T00:00:00\", \"count\": 0}, {\"repo\": \"meta\", \"createdAt\": \"2021-04-04T00:00:00\", \"count\": 0}, {\"repo\": \"meta\", \"createdAt\": \"2021-04-11T00:00:00\", \"count\": 2}, {\"repo\": \"meta\", \"createdAt\": \"2021-04-18T00:00:00\", \"count\": 0}, {\"repo\": \"meta\", \"createdAt\": \"2021-04-25T00:00:00\", \"count\": 0}, {\"repo\": \"meta\", \"createdAt\": \"2021-05-02T00:00:00\", \"count\": 4}, {\"repo\": \"meta\", \"createdAt\": \"2021-05-09T00:00:00\", \"count\": 1}, {\"repo\": \"meta\", \"createdAt\": \"2021-05-16T00:00:00\", \"count\": 0}, {\"repo\": \"meta\", \"createdAt\": \"2021-05-23T00:00:00\", \"count\": 1}, {\"repo\": \"meta\", \"createdAt\": \"2021-05-30T00:00:00\", \"count\": 0}, {\"repo\": \"meta\", \"createdAt\": \"2021-06-06T00:00:00\", \"count\": 0}, {\"repo\": \"meta\", \"createdAt\": \"2021-06-13T00:00:00\", \"count\": 0}, {\"repo\": \"meta\", \"createdAt\": \"2021-06-20T00:00:00\", \"count\": 0}, {\"repo\": \"meta\", \"createdAt\": \"2021-06-27T00:00:00\", \"count\": 0}, {\"repo\": \"meta\", \"createdAt\": \"2021-07-04T00:00:00\", \"count\": 0}, {\"repo\": \"meta\", \"createdAt\": \"2021-07-11T00:00:00\", \"count\": 0}, {\"repo\": \"meta\", \"createdAt\": \"2021-07-18T00:00:00\", \"count\": 0}, {\"repo\": \"meta\", \"createdAt\": \"2021-07-25T00:00:00\", \"count\": 0}, {\"repo\": \"meta\", \"createdAt\": \"2021-08-01T00:00:00\", \"count\": 1}, {\"repo\": \"meta\", \"createdAt\": \"2021-08-08T00:00:00\", \"count\": 3}, {\"repo\": \"meta\", \"createdAt\": \"2021-08-15T00:00:00\", \"count\": 0}, {\"repo\": \"meta\", \"createdAt\": \"2021-08-22T00:00:00\", \"count\": 0}, {\"repo\": \"meta\", \"createdAt\": \"2021-08-29T00:00:00\", \"count\": 0}, {\"repo\": \"meta\", \"createdAt\": \"2021-09-05T00:00:00\", \"count\": 0}, {\"repo\": \"meta\", \"createdAt\": \"2021-09-12T00:00:00\", \"count\": 0}, {\"repo\": \"meta\", \"createdAt\": \"2021-09-19T00:00:00\", \"count\": 0}, {\"repo\": \"meta\", \"createdAt\": \"2021-09-26T00:00:00\", \"count\": 0}, {\"repo\": \"meta\", \"createdAt\": \"2021-10-03T00:00:00\", \"count\": 0}, {\"repo\": \"meta\", \"createdAt\": \"2021-10-10T00:00:00\", \"count\": 0}, {\"repo\": \"meta\", \"createdAt\": \"2021-10-17T00:00:00\", \"count\": 0}, {\"repo\": \"meta\", \"createdAt\": \"2021-10-24T00:00:00\", \"count\": 0}, {\"repo\": \"meta\", \"createdAt\": \"2021-10-31T00:00:00\", \"count\": 0}, {\"repo\": \"meta\", \"createdAt\": \"2021-11-07T00:00:00\", \"count\": 0}, {\"repo\": \"meta\", \"createdAt\": \"2021-11-14T00:00:00\", \"count\": 0}, {\"repo\": \"meta\", \"createdAt\": \"2021-11-21T00:00:00\", \"count\": 0}, {\"repo\": \"meta\", \"createdAt\": \"2021-11-28T00:00:00\", \"count\": 0}, {\"repo\": \"meta\", \"createdAt\": \"2021-12-05T00:00:00\", \"count\": 0}, {\"repo\": \"meta\", \"createdAt\": \"2021-12-12T00:00:00\", \"count\": 0}, {\"repo\": \"meta\", \"createdAt\": \"2021-12-19T00:00:00\", \"count\": 0}, {\"repo\": \"meta\", \"createdAt\": \"2021-12-26T00:00:00\", \"count\": 0}, {\"repo\": \"meta\", \"createdAt\": \"2022-01-02T00:00:00\", \"count\": 0}, {\"repo\": \"meta\", \"createdAt\": \"2022-01-09T00:00:00\", \"count\": 0}, {\"repo\": \"meta\", \"createdAt\": \"2022-01-16T00:00:00\", \"count\": 0}, {\"repo\": \"meta\", \"createdAt\": \"2022-01-23T00:00:00\", \"count\": 0}, {\"repo\": \"meta\", \"createdAt\": \"2022-01-30T00:00:00\", \"count\": 0}, {\"repo\": \"meta\", \"createdAt\": \"2022-02-06T00:00:00\", \"count\": 0}, {\"repo\": \"meta\", \"createdAt\": \"2022-02-13T00:00:00\", \"count\": 0}, {\"repo\": \"meta\", \"createdAt\": \"2022-02-20T00:00:00\", \"count\": 0}, {\"repo\": \"meta\", \"createdAt\": \"2022-02-27T00:00:00\", \"count\": 0}, {\"repo\": \"meta\", \"createdAt\": \"2022-03-06T00:00:00\", \"count\": 0}, {\"repo\": \"meta\", \"createdAt\": \"2022-03-13T00:00:00\", \"count\": 0}, {\"repo\": \"meta\", \"createdAt\": \"2022-03-20T00:00:00\", \"count\": 0}, {\"repo\": \"meta\", \"createdAt\": \"2022-03-27T00:00:00\", \"count\": 0}, {\"repo\": \"meta\", \"createdAt\": \"2022-04-03T00:00:00\", \"count\": 0}, {\"repo\": \"meta\", \"createdAt\": \"2022-04-10T00:00:00\", \"count\": 0}, {\"repo\": \"meta\", \"createdAt\": \"2022-04-17T00:00:00\", \"count\": 0}, {\"repo\": \"meta\", \"createdAt\": \"2022-04-24T00:00:00\", \"count\": 0}, {\"repo\": \"meta\", \"createdAt\": \"2022-05-01T00:00:00\", \"count\": 0}, {\"repo\": \"meta\", \"createdAt\": \"2022-05-08T00:00:00\", \"count\": 0}, {\"repo\": \"meta\", \"createdAt\": \"2022-05-15T00:00:00\", \"count\": 0}, {\"repo\": \"meta\", \"createdAt\": \"2022-05-22T00:00:00\", \"count\": 0}, {\"repo\": \"meta\", \"createdAt\": \"2022-05-29T00:00:00\", \"count\": 0}, {\"repo\": \"meta\", \"createdAt\": \"2022-06-05T00:00:00\", \"count\": 0}, {\"repo\": \"meta\", \"createdAt\": \"2022-06-12T00:00:00\", \"count\": 0}, {\"repo\": \"meta\", \"createdAt\": \"2022-06-19T00:00:00\", \"count\": 0}, {\"repo\": \"meta\", \"createdAt\": \"2022-06-26T00:00:00\", \"count\": 0}, {\"repo\": \"meta\", \"createdAt\": \"2022-07-03T00:00:00\", \"count\": 0}, {\"repo\": \"meta\", \"createdAt\": \"2022-07-10T00:00:00\", \"count\": 0}, {\"repo\": \"meta\", \"createdAt\": \"2022-07-17T00:00:00\", \"count\": 0}, {\"repo\": \"meta\", \"createdAt\": \"2022-07-24T00:00:00\", \"count\": 0}, {\"repo\": \"meta\", \"createdAt\": \"2022-07-31T00:00:00\", \"count\": 0}, {\"repo\": \"meta\", \"createdAt\": \"2022-08-07T00:00:00\", \"count\": 0}, {\"repo\": \"meta\", \"createdAt\": \"2022-08-14T00:00:00\", \"count\": 0}, {\"repo\": \"meta\", \"createdAt\": \"2022-08-21T00:00:00\", \"count\": 0}, {\"repo\": \"meta\", \"createdAt\": \"2022-08-28T00:00:00\", \"count\": 0}, {\"repo\": \"meta\", \"createdAt\": \"2022-09-04T00:00:00\", \"count\": 0}, {\"repo\": \"meta\", \"createdAt\": \"2022-09-11T00:00:00\", \"count\": 0}, {\"repo\": \"meta\", \"createdAt\": \"2022-09-18T00:00:00\", \"count\": 0}, {\"repo\": \"meta\", \"createdAt\": \"2022-09-25T00:00:00\", \"count\": 0}, {\"repo\": \"meta\", \"createdAt\": \"2022-10-02T00:00:00\", \"count\": 0}, {\"repo\": \"meta\", \"createdAt\": \"2022-10-09T00:00:00\", \"count\": 0}, {\"repo\": \"meta\", \"createdAt\": \"2022-10-16T00:00:00\", \"count\": 1}, {\"repo\": \"myst-enhancement-proposals\", \"createdAt\": \"2023-02-12T00:00:00\", \"count\": 1}, {\"repo\": \"myst-enhancement-proposals\", \"createdAt\": \"2023-02-19T00:00:00\", \"count\": 0}, {\"repo\": \"myst-enhancement-proposals\", \"createdAt\": \"2023-02-26T00:00:00\", \"count\": 9}, {\"repo\": \"myst-enhancement-proposals\", \"createdAt\": \"2023-03-05T00:00:00\", \"count\": 32}, {\"repo\": \"myst-spec\", \"createdAt\": \"2023-02-26T00:00:00\", \"count\": 9}, {\"repo\": \"myst-spec\", \"createdAt\": \"2023-03-05T00:00:00\", \"count\": 3}, {\"repo\": \"rst-to-myst\", \"createdAt\": \"2022-12-11T00:00:00\", \"count\": 4}, {\"repo\": \"rst-to-myst\", \"createdAt\": \"2022-12-18T00:00:00\", \"count\": 0}, {\"repo\": \"rst-to-myst\", \"createdAt\": \"2022-12-25T00:00:00\", \"count\": 0}, {\"repo\": \"rst-to-myst\", \"createdAt\": \"2023-01-01T00:00:00\", \"count\": 0}, {\"repo\": \"rst-to-myst\", \"createdAt\": \"2023-01-08T00:00:00\", \"count\": 0}, {\"repo\": \"rst-to-myst\", \"createdAt\": \"2023-01-15T00:00:00\", \"count\": 1}, {\"repo\": \"rst-to-myst\", \"createdAt\": \"2023-01-22T00:00:00\", \"count\": 2}, {\"repo\": \"sphinx-book-theme\", \"createdAt\": \"2020-08-09T00:00:00\", \"count\": 1}, {\"repo\": \"sphinx-book-theme\", \"createdAt\": \"2020-08-16T00:00:00\", \"count\": 1}, {\"repo\": \"sphinx-book-theme\", \"createdAt\": \"2020-08-23T00:00:00\", \"count\": 0}, {\"repo\": \"sphinx-book-theme\", \"createdAt\": \"2020-08-30T00:00:00\", \"count\": 0}, {\"repo\": \"sphinx-book-theme\", \"createdAt\": \"2020-09-06T00:00:00\", \"count\": 0}, {\"repo\": \"sphinx-book-theme\", \"createdAt\": \"2020-09-13T00:00:00\", \"count\": 0}, {\"repo\": \"sphinx-book-theme\", \"createdAt\": \"2020-09-20T00:00:00\", \"count\": 0}, {\"repo\": \"sphinx-book-theme\", \"createdAt\": \"2020-09-27T00:00:00\", \"count\": 0}, {\"repo\": \"sphinx-book-theme\", \"createdAt\": \"2020-10-04T00:00:00\", \"count\": 0}, {\"repo\": \"sphinx-book-theme\", \"createdAt\": \"2020-10-11T00:00:00\", \"count\": 0}, {\"repo\": \"sphinx-book-theme\", \"createdAt\": \"2020-10-18T00:00:00\", \"count\": 0}, {\"repo\": \"sphinx-book-theme\", \"createdAt\": \"2020-10-25T00:00:00\", \"count\": 0}, {\"repo\": \"sphinx-book-theme\", \"createdAt\": \"2020-11-01T00:00:00\", \"count\": 0}, {\"repo\": \"sphinx-book-theme\", \"createdAt\": \"2020-11-08T00:00:00\", \"count\": 0}, {\"repo\": \"sphinx-book-theme\", \"createdAt\": \"2020-11-15T00:00:00\", \"count\": 0}, {\"repo\": \"sphinx-book-theme\", \"createdAt\": \"2020-11-22T00:00:00\", \"count\": 0}, {\"repo\": \"sphinx-book-theme\", \"createdAt\": \"2020-11-29T00:00:00\", \"count\": 0}, {\"repo\": \"sphinx-book-theme\", \"createdAt\": \"2020-12-06T00:00:00\", \"count\": 0}, {\"repo\": \"sphinx-book-theme\", \"createdAt\": \"2020-12-13T00:00:00\", \"count\": 0}, {\"repo\": \"sphinx-book-theme\", \"createdAt\": \"2020-12-20T00:00:00\", \"count\": 0}, {\"repo\": \"sphinx-book-theme\", \"createdAt\": \"2020-12-27T00:00:00\", \"count\": 0}, {\"repo\": \"sphinx-book-theme\", \"createdAt\": \"2021-01-03T00:00:00\", \"count\": 0}, {\"repo\": \"sphinx-book-theme\", \"createdAt\": \"2021-01-10T00:00:00\", \"count\": 0}, {\"repo\": \"sphinx-book-theme\", \"createdAt\": \"2021-01-17T00:00:00\", \"count\": 0}, {\"repo\": \"sphinx-book-theme\", \"createdAt\": \"2021-01-24T00:00:00\", \"count\": 0}, {\"repo\": \"sphinx-book-theme\", \"createdAt\": \"2021-01-31T00:00:00\", \"count\": 0}, {\"repo\": \"sphinx-book-theme\", \"createdAt\": \"2021-02-07T00:00:00\", \"count\": 0}, {\"repo\": \"sphinx-book-theme\", \"createdAt\": \"2021-02-14T00:00:00\", \"count\": 0}, {\"repo\": \"sphinx-book-theme\", \"createdAt\": \"2021-02-21T00:00:00\", \"count\": 0}, {\"repo\": \"sphinx-book-theme\", \"createdAt\": \"2021-02-28T00:00:00\", \"count\": 0}, {\"repo\": \"sphinx-book-theme\", \"createdAt\": \"2021-03-07T00:00:00\", \"count\": 0}, {\"repo\": \"sphinx-book-theme\", \"createdAt\": \"2021-03-14T00:00:00\", \"count\": 0}, {\"repo\": \"sphinx-book-theme\", \"createdAt\": \"2021-03-21T00:00:00\", \"count\": 0}, {\"repo\": \"sphinx-book-theme\", \"createdAt\": \"2021-03-28T00:00:00\", \"count\": 0}, {\"repo\": \"sphinx-book-theme\", \"createdAt\": \"2021-04-04T00:00:00\", \"count\": 0}, {\"repo\": \"sphinx-book-theme\", \"createdAt\": \"2021-04-11T00:00:00\", \"count\": 0}, {\"repo\": \"sphinx-book-theme\", \"createdAt\": \"2021-04-18T00:00:00\", \"count\": 0}, {\"repo\": \"sphinx-book-theme\", \"createdAt\": \"2021-04-25T00:00:00\", \"count\": 0}, {\"repo\": \"sphinx-book-theme\", \"createdAt\": \"2021-05-02T00:00:00\", \"count\": 0}, {\"repo\": \"sphinx-book-theme\", \"createdAt\": \"2021-05-09T00:00:00\", \"count\": 0}, {\"repo\": \"sphinx-book-theme\", \"createdAt\": \"2021-05-16T00:00:00\", \"count\": 0}, {\"repo\": \"sphinx-book-theme\", \"createdAt\": \"2021-05-23T00:00:00\", \"count\": 0}, {\"repo\": \"sphinx-book-theme\", \"createdAt\": \"2021-05-30T00:00:00\", \"count\": 0}, {\"repo\": \"sphinx-book-theme\", \"createdAt\": \"2021-06-06T00:00:00\", \"count\": 0}, {\"repo\": \"sphinx-book-theme\", \"createdAt\": \"2021-06-13T00:00:00\", \"count\": 0}, {\"repo\": \"sphinx-book-theme\", \"createdAt\": \"2021-06-20T00:00:00\", \"count\": 0}, {\"repo\": \"sphinx-book-theme\", \"createdAt\": \"2021-06-27T00:00:00\", \"count\": 0}, {\"repo\": \"sphinx-book-theme\", \"createdAt\": \"2021-07-04T00:00:00\", \"count\": 0}, {\"repo\": \"sphinx-book-theme\", \"createdAt\": \"2021-07-11T00:00:00\", \"count\": 0}, {\"repo\": \"sphinx-book-theme\", \"createdAt\": \"2021-07-18T00:00:00\", \"count\": 0}, {\"repo\": \"sphinx-book-theme\", \"createdAt\": \"2021-07-25T00:00:00\", \"count\": 0}, {\"repo\": \"sphinx-book-theme\", \"createdAt\": \"2021-08-01T00:00:00\", \"count\": 0}, {\"repo\": \"sphinx-book-theme\", \"createdAt\": \"2021-08-08T00:00:00\", \"count\": 0}, {\"repo\": \"sphinx-book-theme\", \"createdAt\": \"2021-08-15T00:00:00\", \"count\": 0}, {\"repo\": \"sphinx-book-theme\", \"createdAt\": \"2021-08-22T00:00:00\", \"count\": 0}, {\"repo\": \"sphinx-book-theme\", \"createdAt\": \"2021-08-29T00:00:00\", \"count\": 0}, {\"repo\": \"sphinx-book-theme\", \"createdAt\": \"2021-09-05T00:00:00\", \"count\": 0}, {\"repo\": \"sphinx-book-theme\", \"createdAt\": \"2021-09-12T00:00:00\", \"count\": 0}, {\"repo\": \"sphinx-book-theme\", \"createdAt\": \"2021-09-19T00:00:00\", \"count\": 0}, {\"repo\": \"sphinx-book-theme\", \"createdAt\": \"2021-09-26T00:00:00\", \"count\": 0}, {\"repo\": \"sphinx-book-theme\", \"createdAt\": \"2021-10-03T00:00:00\", \"count\": 0}, {\"repo\": \"sphinx-book-theme\", \"createdAt\": \"2021-10-10T00:00:00\", \"count\": 0}, {\"repo\": \"sphinx-book-theme\", \"createdAt\": \"2021-10-17T00:00:00\", \"count\": 0}, {\"repo\": \"sphinx-book-theme\", \"createdAt\": \"2021-10-24T00:00:00\", \"count\": 0}, {\"repo\": \"sphinx-book-theme\", \"createdAt\": \"2021-10-31T00:00:00\", \"count\": 0}, {\"repo\": \"sphinx-book-theme\", \"createdAt\": \"2021-11-07T00:00:00\", \"count\": 0}, {\"repo\": \"sphinx-book-theme\", \"createdAt\": \"2021-11-14T00:00:00\", \"count\": 0}, {\"repo\": \"sphinx-book-theme\", \"createdAt\": \"2021-11-21T00:00:00\", \"count\": 0}, {\"repo\": \"sphinx-book-theme\", \"createdAt\": \"2021-11-28T00:00:00\", \"count\": 0}, {\"repo\": \"sphinx-book-theme\", \"createdAt\": \"2021-12-05T00:00:00\", \"count\": 0}, {\"repo\": \"sphinx-book-theme\", \"createdAt\": \"2021-12-12T00:00:00\", \"count\": 0}, {\"repo\": \"sphinx-book-theme\", \"createdAt\": \"2021-12-19T00:00:00\", \"count\": 0}, {\"repo\": \"sphinx-book-theme\", \"createdAt\": \"2021-12-26T00:00:00\", \"count\": 0}, {\"repo\": \"sphinx-book-theme\", \"createdAt\": \"2022-01-02T00:00:00\", \"count\": 0}, {\"repo\": \"sphinx-book-theme\", \"createdAt\": \"2022-01-09T00:00:00\", \"count\": 0}, {\"repo\": \"sphinx-book-theme\", \"createdAt\": \"2022-01-16T00:00:00\", \"count\": 0}, {\"repo\": \"sphinx-book-theme\", \"createdAt\": \"2022-01-23T00:00:00\", \"count\": 0}, {\"repo\": \"sphinx-book-theme\", \"createdAt\": \"2022-01-30T00:00:00\", \"count\": 0}, {\"repo\": \"sphinx-book-theme\", \"createdAt\": \"2022-02-06T00:00:00\", \"count\": 0}, {\"repo\": \"sphinx-book-theme\", \"createdAt\": \"2022-02-13T00:00:00\", \"count\": 0}, {\"repo\": \"sphinx-book-theme\", \"createdAt\": \"2022-02-20T00:00:00\", \"count\": 0}, {\"repo\": \"sphinx-book-theme\", \"createdAt\": \"2022-02-27T00:00:00\", \"count\": 0}, {\"repo\": \"sphinx-book-theme\", \"createdAt\": \"2022-03-06T00:00:00\", \"count\": 0}, {\"repo\": \"sphinx-book-theme\", \"createdAt\": \"2022-03-13T00:00:00\", \"count\": 0}, {\"repo\": \"sphinx-book-theme\", \"createdAt\": \"2022-03-20T00:00:00\", \"count\": 0}, {\"repo\": \"sphinx-book-theme\", \"createdAt\": \"2022-03-27T00:00:00\", \"count\": 0}, {\"repo\": \"sphinx-book-theme\", \"createdAt\": \"2022-04-03T00:00:00\", \"count\": 0}, {\"repo\": \"sphinx-book-theme\", \"createdAt\": \"2022-04-10T00:00:00\", \"count\": 0}, {\"repo\": \"sphinx-book-theme\", \"createdAt\": \"2022-04-17T00:00:00\", \"count\": 0}, {\"repo\": \"sphinx-book-theme\", \"createdAt\": \"2022-04-24T00:00:00\", \"count\": 0}, {\"repo\": \"sphinx-book-theme\", \"createdAt\": \"2022-05-01T00:00:00\", \"count\": 0}, {\"repo\": \"sphinx-book-theme\", \"createdAt\": \"2022-05-08T00:00:00\", \"count\": 0}, {\"repo\": \"sphinx-book-theme\", \"createdAt\": \"2022-05-15T00:00:00\", \"count\": 0}, {\"repo\": \"sphinx-book-theme\", \"createdAt\": \"2022-05-22T00:00:00\", \"count\": 0}, {\"repo\": \"sphinx-book-theme\", \"createdAt\": \"2022-05-29T00:00:00\", \"count\": 0}, {\"repo\": \"sphinx-book-theme\", \"createdAt\": \"2022-06-05T00:00:00\", \"count\": 0}, {\"repo\": \"sphinx-book-theme\", \"createdAt\": \"2022-06-12T00:00:00\", \"count\": 0}, {\"repo\": \"sphinx-book-theme\", \"createdAt\": \"2022-06-19T00:00:00\", \"count\": 0}, {\"repo\": \"sphinx-book-theme\", \"createdAt\": \"2022-06-26T00:00:00\", \"count\": 0}, {\"repo\": \"sphinx-book-theme\", \"createdAt\": \"2022-07-03T00:00:00\", \"count\": 0}, {\"repo\": \"sphinx-book-theme\", \"createdAt\": \"2022-07-10T00:00:00\", \"count\": 0}, {\"repo\": \"sphinx-book-theme\", \"createdAt\": \"2022-07-17T00:00:00\", \"count\": 0}, {\"repo\": \"sphinx-book-theme\", \"createdAt\": \"2022-07-24T00:00:00\", \"count\": 0}, {\"repo\": \"sphinx-book-theme\", \"createdAt\": \"2022-07-31T00:00:00\", \"count\": 0}, {\"repo\": \"sphinx-book-theme\", \"createdAt\": \"2022-08-07T00:00:00\", \"count\": 0}, {\"repo\": \"sphinx-book-theme\", \"createdAt\": \"2022-08-14T00:00:00\", \"count\": 0}, {\"repo\": \"sphinx-book-theme\", \"createdAt\": \"2022-08-21T00:00:00\", \"count\": 0}, {\"repo\": \"sphinx-book-theme\", \"createdAt\": \"2022-08-28T00:00:00\", \"count\": 0}, {\"repo\": \"sphinx-book-theme\", \"createdAt\": \"2022-09-04T00:00:00\", \"count\": 0}, {\"repo\": \"sphinx-book-theme\", \"createdAt\": \"2022-09-11T00:00:00\", \"count\": 0}, {\"repo\": \"sphinx-book-theme\", \"createdAt\": \"2022-09-18T00:00:00\", \"count\": 0}, {\"repo\": \"sphinx-book-theme\", \"createdAt\": \"2022-09-25T00:00:00\", \"count\": 0}, {\"repo\": \"sphinx-book-theme\", \"createdAt\": \"2022-10-02T00:00:00\", \"count\": 0}, {\"repo\": \"sphinx-book-theme\", \"createdAt\": \"2022-10-09T00:00:00\", \"count\": 0}, {\"repo\": \"sphinx-book-theme\", \"createdAt\": \"2022-10-16T00:00:00\", \"count\": 0}, {\"repo\": \"sphinx-book-theme\", \"createdAt\": \"2022-10-23T00:00:00\", \"count\": 0}, {\"repo\": \"sphinx-book-theme\", \"createdAt\": \"2022-10-30T00:00:00\", \"count\": 0}, {\"repo\": \"sphinx-book-theme\", \"createdAt\": \"2022-11-06T00:00:00\", \"count\": 0}, {\"repo\": \"sphinx-book-theme\", \"createdAt\": \"2022-11-13T00:00:00\", \"count\": 0}, {\"repo\": \"sphinx-book-theme\", \"createdAt\": \"2022-11-20T00:00:00\", \"count\": 0}, {\"repo\": \"sphinx-book-theme\", \"createdAt\": \"2022-11-27T00:00:00\", \"count\": 0}, {\"repo\": \"sphinx-book-theme\", \"createdAt\": \"2022-12-04T00:00:00\", \"count\": 0}, {\"repo\": \"sphinx-book-theme\", \"createdAt\": \"2022-12-11T00:00:00\", \"count\": 0}, {\"repo\": \"sphinx-book-theme\", \"createdAt\": \"2022-12-18T00:00:00\", \"count\": 0}, {\"repo\": \"sphinx-book-theme\", \"createdAt\": \"2022-12-25T00:00:00\", \"count\": 0}, {\"repo\": \"sphinx-book-theme\", \"createdAt\": \"2023-01-01T00:00:00\", \"count\": 0}, {\"repo\": \"sphinx-book-theme\", \"createdAt\": \"2023-01-08T00:00:00\", \"count\": 0}, {\"repo\": \"sphinx-book-theme\", \"createdAt\": \"2023-01-15T00:00:00\", \"count\": 0}, {\"repo\": \"sphinx-book-theme\", \"createdAt\": \"2023-01-22T00:00:00\", \"count\": 0}, {\"repo\": \"sphinx-book-theme\", \"createdAt\": \"2023-01-29T00:00:00\", \"count\": 0}, {\"repo\": \"sphinx-book-theme\", \"createdAt\": \"2023-02-05T00:00:00\", \"count\": 0}, {\"repo\": \"sphinx-book-theme\", \"createdAt\": \"2023-02-12T00:00:00\", \"count\": 0}, {\"repo\": \"sphinx-book-theme\", \"createdAt\": \"2023-02-19T00:00:00\", \"count\": 0}, {\"repo\": \"sphinx-book-theme\", \"createdAt\": \"2023-02-26T00:00:00\", \"count\": 3}, {\"repo\": \"sphinx-book-theme\", \"createdAt\": \"2023-03-05T00:00:00\", \"count\": 2}, {\"repo\": \"sphinx-design\", \"createdAt\": \"2022-04-24T00:00:00\", \"count\": 1}, {\"repo\": \"sphinx-design\", \"createdAt\": \"2022-05-01T00:00:00\", \"count\": 0}, {\"repo\": \"sphinx-design\", \"createdAt\": \"2022-05-08T00:00:00\", \"count\": 0}, {\"repo\": \"sphinx-design\", \"createdAt\": \"2022-05-15T00:00:00\", \"count\": 0}, {\"repo\": \"sphinx-design\", \"createdAt\": \"2022-05-22T00:00:00\", \"count\": 0}, {\"repo\": \"sphinx-design\", \"createdAt\": \"2022-05-29T00:00:00\", \"count\": 0}, {\"repo\": \"sphinx-design\", \"createdAt\": \"2022-06-05T00:00:00\", \"count\": 0}, {\"repo\": \"sphinx-design\", \"createdAt\": \"2022-06-12T00:00:00\", \"count\": 0}, {\"repo\": \"sphinx-design\", \"createdAt\": \"2022-06-19T00:00:00\", \"count\": 0}, {\"repo\": \"sphinx-design\", \"createdAt\": \"2022-06-26T00:00:00\", \"count\": 0}, {\"repo\": \"sphinx-design\", \"createdAt\": \"2022-07-03T00:00:00\", \"count\": 0}, {\"repo\": \"sphinx-design\", \"createdAt\": \"2022-07-10T00:00:00\", \"count\": 0}, {\"repo\": \"sphinx-design\", \"createdAt\": \"2022-07-17T00:00:00\", \"count\": 0}, {\"repo\": \"sphinx-design\", \"createdAt\": \"2022-07-24T00:00:00\", \"count\": 0}, {\"repo\": \"sphinx-design\", \"createdAt\": \"2022-07-31T00:00:00\", \"count\": 0}, {\"repo\": \"sphinx-design\", \"createdAt\": \"2022-08-07T00:00:00\", \"count\": 0}, {\"repo\": \"sphinx-design\", \"createdAt\": \"2022-08-14T00:00:00\", \"count\": 0}, {\"repo\": \"sphinx-design\", \"createdAt\": \"2022-08-21T00:00:00\", \"count\": 0}, {\"repo\": \"sphinx-design\", \"createdAt\": \"2022-08-28T00:00:00\", \"count\": 0}, {\"repo\": \"sphinx-design\", \"createdAt\": \"2022-09-04T00:00:00\", \"count\": 0}, {\"repo\": \"sphinx-design\", \"createdAt\": \"2022-09-11T00:00:00\", \"count\": 0}, {\"repo\": \"sphinx-design\", \"createdAt\": \"2022-09-18T00:00:00\", \"count\": 0}, {\"repo\": \"sphinx-design\", \"createdAt\": \"2022-09-25T00:00:00\", \"count\": 0}, {\"repo\": \"sphinx-design\", \"createdAt\": \"2022-10-02T00:00:00\", \"count\": 0}, {\"repo\": \"sphinx-design\", \"createdAt\": \"2022-10-09T00:00:00\", \"count\": 0}, {\"repo\": \"sphinx-design\", \"createdAt\": \"2022-10-16T00:00:00\", \"count\": 0}, {\"repo\": \"sphinx-design\", \"createdAt\": \"2022-10-23T00:00:00\", \"count\": 0}, {\"repo\": \"sphinx-design\", \"createdAt\": \"2022-10-30T00:00:00\", \"count\": 0}, {\"repo\": \"sphinx-design\", \"createdAt\": \"2022-11-06T00:00:00\", \"count\": 0}, {\"repo\": \"sphinx-design\", \"createdAt\": \"2022-11-13T00:00:00\", \"count\": 0}, {\"repo\": \"sphinx-design\", \"createdAt\": \"2022-11-20T00:00:00\", \"count\": 0}, {\"repo\": \"sphinx-design\", \"createdAt\": \"2022-11-27T00:00:00\", \"count\": 0}, {\"repo\": \"sphinx-design\", \"createdAt\": \"2022-12-04T00:00:00\", \"count\": 0}, {\"repo\": \"sphinx-design\", \"createdAt\": \"2022-12-11T00:00:00\", \"count\": 1}, {\"repo\": \"sphinx-design\", \"createdAt\": \"2022-12-18T00:00:00\", \"count\": 2}, {\"repo\": \"sphinx-design\", \"createdAt\": \"2022-12-25T00:00:00\", \"count\": 0}, {\"repo\": \"sphinx-design\", \"createdAt\": \"2023-01-01T00:00:00\", \"count\": 0}, {\"repo\": \"sphinx-design\", \"createdAt\": \"2023-01-08T00:00:00\", \"count\": 0}, {\"repo\": \"sphinx-design\", \"createdAt\": \"2023-01-15T00:00:00\", \"count\": 1}], \"data-3834bb1014609a6772a9670ef839c69d\": [{\"createdAt\": \"2020-02-16T00:00:00\", \"count\": 1}, {\"createdAt\": \"2020-02-23T00:00:00\", \"count\": 5}, {\"createdAt\": \"2020-03-01T00:00:00\", \"count\": 0}, {\"createdAt\": \"2020-03-08T00:00:00\", \"count\": 0}, {\"createdAt\": \"2020-03-15T00:00:00\", \"count\": 0}, {\"createdAt\": \"2020-03-22T00:00:00\", \"count\": 0}, {\"createdAt\": \"2020-03-29T00:00:00\", \"count\": 0}, {\"createdAt\": \"2020-04-05T00:00:00\", \"count\": 0}, {\"createdAt\": \"2020-04-12T00:00:00\", \"count\": 0}, {\"createdAt\": \"2020-04-19T00:00:00\", \"count\": 0}, {\"createdAt\": \"2020-04-26T00:00:00\", \"count\": 0}, {\"createdAt\": \"2020-05-03T00:00:00\", \"count\": 0}, {\"createdAt\": \"2020-05-10T00:00:00\", \"count\": 0}, {\"createdAt\": \"2020-05-17T00:00:00\", \"count\": 0}, {\"createdAt\": \"2020-05-24T00:00:00\", \"count\": 0}, {\"createdAt\": \"2020-05-31T00:00:00\", \"count\": 2}, {\"createdAt\": \"2020-06-07T00:00:00\", \"count\": 1}, {\"createdAt\": \"2020-06-14T00:00:00\", \"count\": 0}, {\"createdAt\": \"2020-06-21T00:00:00\", \"count\": 0}, {\"createdAt\": \"2020-06-28T00:00:00\", \"count\": 0}, {\"createdAt\": \"2020-07-05T00:00:00\", \"count\": 0}, {\"createdAt\": \"2020-07-12T00:00:00\", \"count\": 0}, {\"createdAt\": \"2020-07-19T00:00:00\", \"count\": 0}, {\"createdAt\": \"2020-07-26T00:00:00\", \"count\": 0}, {\"createdAt\": \"2020-08-02T00:00:00\", \"count\": 0}, {\"createdAt\": \"2020-08-09T00:00:00\", \"count\": 2}, {\"createdAt\": \"2020-08-16T00:00:00\", \"count\": 2}, {\"createdAt\": \"2020-08-23T00:00:00\", \"count\": 0}, {\"createdAt\": \"2020-08-30T00:00:00\", \"count\": 0}, {\"createdAt\": \"2020-09-06T00:00:00\", \"count\": 0}, {\"createdAt\": \"2020-09-13T00:00:00\", \"count\": 0}, {\"createdAt\": \"2020-09-20T00:00:00\", \"count\": 0}, {\"createdAt\": \"2020-09-27T00:00:00\", \"count\": 0}, {\"createdAt\": \"2020-10-04T00:00:00\", \"count\": 0}, {\"createdAt\": \"2020-10-11T00:00:00\", \"count\": 0}, {\"createdAt\": \"2020-10-18T00:00:00\", \"count\": 0}, {\"createdAt\": \"2020-10-25T00:00:00\", \"count\": 0}, {\"createdAt\": \"2020-11-01T00:00:00\", \"count\": 0}, {\"createdAt\": \"2020-11-08T00:00:00\", \"count\": 0}, {\"createdAt\": \"2020-11-15T00:00:00\", \"count\": 0}, {\"createdAt\": \"2020-11-22T00:00:00\", \"count\": 0}, {\"createdAt\": \"2020-11-29T00:00:00\", \"count\": 2}, {\"createdAt\": \"2020-12-06T00:00:00\", \"count\": 0}, {\"createdAt\": \"2020-12-13T00:00:00\", \"count\": 0}, {\"createdAt\": \"2020-12-20T00:00:00\", \"count\": 0}, {\"createdAt\": \"2020-12-27T00:00:00\", \"count\": 0}, {\"createdAt\": \"2021-01-03T00:00:00\", \"count\": 0}, {\"createdAt\": \"2021-01-10T00:00:00\", \"count\": 0}, {\"createdAt\": \"2021-01-17T00:00:00\", \"count\": 1}, {\"createdAt\": \"2021-01-24T00:00:00\", \"count\": 3}, {\"createdAt\": \"2021-01-31T00:00:00\", \"count\": 0}, {\"createdAt\": \"2021-02-07T00:00:00\", \"count\": 0}, {\"createdAt\": \"2021-02-14T00:00:00\", \"count\": 0}, {\"createdAt\": \"2021-02-21T00:00:00\", \"count\": 1}, {\"createdAt\": \"2021-02-28T00:00:00\", \"count\": 0}, {\"createdAt\": \"2021-03-07T00:00:00\", \"count\": 0}, {\"createdAt\": \"2021-03-14T00:00:00\", \"count\": 0}, {\"createdAt\": \"2021-03-21T00:00:00\", \"count\": 0}, {\"createdAt\": \"2021-03-28T00:00:00\", \"count\": 0}, {\"createdAt\": \"2021-04-04T00:00:00\", \"count\": 0}, {\"createdAt\": \"2021-04-11T00:00:00\", \"count\": 2}, {\"createdAt\": \"2021-04-18T00:00:00\", \"count\": 0}, {\"createdAt\": \"2021-04-25T00:00:00\", \"count\": 0}, {\"createdAt\": \"2021-05-02T00:00:00\", \"count\": 6}, {\"createdAt\": \"2021-05-09T00:00:00\", \"count\": 1}, {\"createdAt\": \"2021-05-16T00:00:00\", \"count\": 0}, {\"createdAt\": \"2021-05-23T00:00:00\", \"count\": 1}, {\"createdAt\": \"2021-05-30T00:00:00\", \"count\": 0}, {\"createdAt\": \"2021-06-06T00:00:00\", \"count\": 0}, {\"createdAt\": \"2021-06-13T00:00:00\", \"count\": 0}, {\"createdAt\": \"2021-06-20T00:00:00\", \"count\": 0}, {\"createdAt\": \"2021-06-27T00:00:00\", \"count\": 0}, {\"createdAt\": \"2021-07-04T00:00:00\", \"count\": 0}, {\"createdAt\": \"2021-07-11T00:00:00\", \"count\": 0}, {\"createdAt\": \"2021-07-18T00:00:00\", \"count\": 1}, {\"createdAt\": \"2021-07-25T00:00:00\", \"count\": 0}, {\"createdAt\": \"2021-08-01T00:00:00\", \"count\": 1}, {\"createdAt\": \"2021-08-08T00:00:00\", \"count\": 3}, {\"createdAt\": \"2021-08-15T00:00:00\", \"count\": 0}, {\"createdAt\": \"2021-08-22T00:00:00\", \"count\": 0}, {\"createdAt\": \"2021-08-29T00:00:00\", \"count\": 0}, {\"createdAt\": \"2021-09-05T00:00:00\", \"count\": 0}, {\"createdAt\": \"2021-09-12T00:00:00\", \"count\": 0}, {\"createdAt\": \"2021-09-19T00:00:00\", \"count\": 0}, {\"createdAt\": \"2021-09-26T00:00:00\", \"count\": 0}, {\"createdAt\": \"2021-10-03T00:00:00\", \"count\": 3}, {\"createdAt\": \"2021-10-10T00:00:00\", \"count\": 0}, {\"createdAt\": \"2021-10-17T00:00:00\", \"count\": 0}, {\"createdAt\": \"2021-10-24T00:00:00\", \"count\": 0}, {\"createdAt\": \"2021-10-31T00:00:00\", \"count\": 0}, {\"createdAt\": \"2021-11-07T00:00:00\", \"count\": 0}, {\"createdAt\": \"2021-11-14T00:00:00\", \"count\": 0}, {\"createdAt\": \"2021-11-21T00:00:00\", \"count\": 0}, {\"createdAt\": \"2021-11-28T00:00:00\", \"count\": 0}, {\"createdAt\": \"2021-12-05T00:00:00\", \"count\": 0}, {\"createdAt\": \"2021-12-12T00:00:00\", \"count\": 0}, {\"createdAt\": \"2021-12-19T00:00:00\", \"count\": 0}, {\"createdAt\": \"2021-12-26T00:00:00\", \"count\": 0}, {\"createdAt\": \"2022-01-02T00:00:00\", \"count\": 2}, {\"createdAt\": \"2022-01-09T00:00:00\", \"count\": 0}, {\"createdAt\": \"2022-01-16T00:00:00\", \"count\": 1}, {\"createdAt\": \"2022-01-23T00:00:00\", \"count\": 0}, {\"createdAt\": \"2022-01-30T00:00:00\", \"count\": 0}, {\"createdAt\": \"2022-02-06T00:00:00\", \"count\": 0}, {\"createdAt\": \"2022-02-13T00:00:00\", \"count\": 2}, {\"createdAt\": \"2022-02-20T00:00:00\", \"count\": 0}, {\"createdAt\": \"2022-02-27T00:00:00\", \"count\": 0}, {\"createdAt\": \"2022-03-06T00:00:00\", \"count\": 0}, {\"createdAt\": \"2022-03-13T00:00:00\", \"count\": 0}, {\"createdAt\": \"2022-03-20T00:00:00\", \"count\": 0}, {\"createdAt\": \"2022-03-27T00:00:00\", \"count\": 0}, {\"createdAt\": \"2022-04-03T00:00:00\", \"count\": 0}, {\"createdAt\": \"2022-04-10T00:00:00\", \"count\": 0}, {\"createdAt\": \"2022-04-17T00:00:00\", \"count\": 0}, {\"createdAt\": \"2022-04-24T00:00:00\", \"count\": 1}, {\"createdAt\": \"2022-05-01T00:00:00\", \"count\": 0}, {\"createdAt\": \"2022-05-08T00:00:00\", \"count\": 0}, {\"createdAt\": \"2022-05-15T00:00:00\", \"count\": 1}, {\"createdAt\": \"2022-05-22T00:00:00\", \"count\": 0}, {\"createdAt\": \"2022-05-29T00:00:00\", \"count\": 0}, {\"createdAt\": \"2022-06-05T00:00:00\", \"count\": 0}, {\"createdAt\": \"2022-06-12T00:00:00\", \"count\": 0}, {\"createdAt\": \"2022-06-19T00:00:00\", \"count\": 0}, {\"createdAt\": \"2022-06-26T00:00:00\", \"count\": 0}, {\"createdAt\": \"2022-07-03T00:00:00\", \"count\": 0}, {\"createdAt\": \"2022-07-10T00:00:00\", \"count\": 0}, {\"createdAt\": \"2022-07-17T00:00:00\", \"count\": 0}, {\"createdAt\": \"2022-07-24T00:00:00\", \"count\": 0}, {\"createdAt\": \"2022-07-31T00:00:00\", \"count\": 0}, {\"createdAt\": \"2022-08-07T00:00:00\", \"count\": 0}, {\"createdAt\": \"2022-08-14T00:00:00\", \"count\": 0}, {\"createdAt\": \"2022-08-21T00:00:00\", \"count\": 0}, {\"createdAt\": \"2022-08-28T00:00:00\", \"count\": 0}, {\"createdAt\": \"2022-09-04T00:00:00\", \"count\": 2}, {\"createdAt\": \"2022-09-11T00:00:00\", \"count\": 0}, {\"createdAt\": \"2022-09-18T00:00:00\", \"count\": 0}, {\"createdAt\": \"2022-09-25T00:00:00\", \"count\": 0}, {\"createdAt\": \"2022-10-02T00:00:00\", \"count\": 1}, {\"createdAt\": \"2022-10-09T00:00:00\", \"count\": 0}, {\"createdAt\": \"2022-10-16T00:00:00\", \"count\": 1}, {\"createdAt\": \"2022-10-23T00:00:00\", \"count\": 2}, {\"createdAt\": \"2022-10-30T00:00:00\", \"count\": 0}, {\"createdAt\": \"2022-11-06T00:00:00\", \"count\": 0}, {\"createdAt\": \"2022-11-13T00:00:00\", \"count\": 0}, {\"createdAt\": \"2022-11-20T00:00:00\", \"count\": 0}, {\"createdAt\": \"2022-11-27T00:00:00\", \"count\": 0}, {\"createdAt\": \"2022-12-04T00:00:00\", \"count\": 0}, {\"createdAt\": \"2022-12-11T00:00:00\", \"count\": 6}, {\"createdAt\": \"2022-12-18T00:00:00\", \"count\": 3}, {\"createdAt\": \"2022-12-25T00:00:00\", \"count\": 0}, {\"createdAt\": \"2023-01-01T00:00:00\", \"count\": 0}, {\"createdAt\": \"2023-01-08T00:00:00\", \"count\": 1}, {\"createdAt\": \"2023-01-15T00:00:00\", \"count\": 33}, {\"createdAt\": \"2023-01-22T00:00:00\", \"count\": 2}, {\"createdAt\": \"2023-01-29T00:00:00\", \"count\": 0}, {\"createdAt\": \"2023-02-05T00:00:00\", \"count\": 0}, {\"createdAt\": \"2023-02-12T00:00:00\", \"count\": 14}, {\"createdAt\": \"2023-02-19T00:00:00\", \"count\": 9}, {\"createdAt\": \"2023-02-26T00:00:00\", \"count\": 69}, {\"createdAt\": \"2023-03-05T00:00:00\", \"count\": 79}]}}, {\"mode\": \"vega-lite\"});\n",
       "</script>"
      ],
      "text/plain": [
       "alt.LayerChart(...)"
      ]
     },
     "execution_count": 14,
     "metadata": {},
     "output_type": "execute_result"
    }
   ],
   "source": [
    "comments_time = comments.groupby('repo').resample('W', on='createdAt').count()['author'].reset_index()\n",
    "comments_time = comments_time.rename(columns={'author': 'count'})\n",
    "comments_time_total = comments_time.groupby('createdAt').agg({\"count\": \"sum\"}).reset_index()\n",
    "ch1 = alt.Chart(comments_time, width=600).mark_line().encode(\n",
    "    x='createdAt',\n",
    "    y='count',\n",
    "    color='repo',\n",
    "    tooltip=\"repo\"\n",
    ")\n",
    "\n",
    "ch2 = alt.Chart(comments_time_total, width=600).mark_line(color=\"black\").encode(\n",
    "    x='createdAt',\n",
    "    y='count',\n",
    ")\n",
    "\n",
    "ch1 + ch2"
   ]
  },
  {
   "cell_type": "markdown",
   "id": "10c71725",
   "metadata": {
    "papermill": {
     "duration": 0.005539,
     "end_time": "2023-03-06T14:44:35.496715",
     "exception": false,
     "start_time": "2023-03-06T14:44:35.491176",
     "status": "completed"
    },
    "tags": []
   },
   "source": [
    "### PRs"
   ]
  },
  {
   "cell_type": "code",
   "execution_count": 15,
   "id": "bc21fbde",
   "metadata": {
    "execution": {
     "iopub.execute_input": "2023-03-06T14:44:35.508965Z",
     "iopub.status.busy": "2023-03-06T14:44:35.508459Z",
     "iopub.status.idle": "2023-03-06T14:44:35.607077Z",
     "shell.execute_reply": "2023-03-06T14:44:35.606275Z"
    },
    "papermill": {
     "duration": 0.107302,
     "end_time": "2023-03-06T14:44:35.609509",
     "exception": false,
     "start_time": "2023-03-06T14:44:35.502207",
     "status": "completed"
    },
    "tags": [
     "hide_input"
    ]
   },
   "outputs": [
    {
     "data": {
      "text/html": [
       "\n",
       "<div id=\"altair-viz-c8abf81937fb47a2b3db4f63d2d76c44\"></div>\n",
       "<script type=\"text/javascript\">\n",
       "  var VEGA_DEBUG = (typeof VEGA_DEBUG == \"undefined\") ? {} : VEGA_DEBUG;\n",
       "  (function(spec, embedOpt){\n",
       "    let outputDiv = document.currentScript.previousElementSibling;\n",
       "    if (outputDiv.id !== \"altair-viz-c8abf81937fb47a2b3db4f63d2d76c44\") {\n",
       "      outputDiv = document.getElementById(\"altair-viz-c8abf81937fb47a2b3db4f63d2d76c44\");\n",
       "    }\n",
       "    const paths = {\n",
       "      \"vega\": \"https://cdn.jsdelivr.net/npm//vega@5?noext\",\n",
       "      \"vega-lib\": \"https://cdn.jsdelivr.net/npm//vega-lib?noext\",\n",
       "      \"vega-lite\": \"https://cdn.jsdelivr.net/npm//vega-lite@4.17.0?noext\",\n",
       "      \"vega-embed\": \"https://cdn.jsdelivr.net/npm//vega-embed@6?noext\",\n",
       "    };\n",
       "\n",
       "    function maybeLoadScript(lib, version) {\n",
       "      var key = `${lib.replace(\"-\", \"\")}_version`;\n",
       "      return (VEGA_DEBUG[key] == version) ?\n",
       "        Promise.resolve(paths[lib]) :\n",
       "        new Promise(function(resolve, reject) {\n",
       "          var s = document.createElement('script');\n",
       "          document.getElementsByTagName(\"head\")[0].appendChild(s);\n",
       "          s.async = true;\n",
       "          s.onload = () => {\n",
       "            VEGA_DEBUG[key] = version;\n",
       "            return resolve(paths[lib]);\n",
       "          };\n",
       "          s.onerror = () => reject(`Error loading script: ${paths[lib]}`);\n",
       "          s.src = paths[lib];\n",
       "        });\n",
       "    }\n",
       "\n",
       "    function showError(err) {\n",
       "      outputDiv.innerHTML = `<div class=\"error\" style=\"color:red;\">${err}</div>`;\n",
       "      throw err;\n",
       "    }\n",
       "\n",
       "    function displayChart(vegaEmbed) {\n",
       "      vegaEmbed(outputDiv, spec, embedOpt)\n",
       "        .catch(err => showError(`Javascript Error: ${err.message}<br>This usually means there's a typo in your chart specification. See the javascript console for the full traceback.`));\n",
       "    }\n",
       "\n",
       "    if(typeof define === \"function\" && define.amd) {\n",
       "      requirejs.config({paths});\n",
       "      require([\"vega-embed\"], displayChart, err => showError(`Error loading script: ${err.message}`));\n",
       "    } else {\n",
       "      maybeLoadScript(\"vega\", \"5\")\n",
       "        .then(() => maybeLoadScript(\"vega-lite\", \"4.17.0\"))\n",
       "        .then(() => maybeLoadScript(\"vega-embed\", \"6\"))\n",
       "        .catch(showError)\n",
       "        .then(() => displayChart(vegaEmbed));\n",
       "    }\n",
       "  })({\"config\": {\"axisLeft\": {\"labelFontSize\": 15}, \"axisBottom\": {\"labelFontSize\": 15}}, \"layer\": [{\"data\": {\"name\": \"data-1c71ae8883dff92a160fbe7eb6b2fbaa\"}, \"mark\": \"line\", \"encoding\": {\"color\": {\"field\": \"repo\", \"type\": \"nominal\"}, \"tooltip\": {\"field\": \"repo\", \"type\": \"nominal\"}, \"x\": {\"field\": \"createdAt\", \"type\": \"temporal\"}, \"y\": {\"field\": \"count\", \"type\": \"quantitative\"}}, \"width\": 600}, {\"data\": {\"name\": \"data-6520f79ebb3588206cc215e3c3da7723\"}, \"mark\": {\"type\": \"line\", \"color\": \"black\"}, \"encoding\": {\"x\": {\"field\": \"createdAt\", \"type\": \"temporal\"}, \"y\": {\"field\": \"count\", \"type\": \"quantitative\"}}, \"width\": 600}], \"$schema\": \"https://vega.github.io/schema/vega-lite/v4.17.0.json\", \"datasets\": {\"data-1c71ae8883dff92a160fbe7eb6b2fbaa\": [{\"repo\": \"MyST-Parser\", \"createdAt\": \"2022-12-18T00:00:00\", \"count\": 3}, {\"repo\": \"MyST-Parser\", \"createdAt\": \"2022-12-25T00:00:00\", \"count\": 0}, {\"repo\": \"MyST-Parser\", \"createdAt\": \"2023-01-01T00:00:00\", \"count\": 0}, {\"repo\": \"MyST-Parser\", \"createdAt\": \"2023-01-08T00:00:00\", \"count\": 8}, {\"repo\": \"MyST-Parser\", \"createdAt\": \"2023-01-15T00:00:00\", \"count\": 11}, {\"repo\": \"MyST-Parser\", \"createdAt\": \"2023-01-22T00:00:00\", \"count\": 0}, {\"repo\": \"MyST-Parser\", \"createdAt\": \"2023-01-29T00:00:00\", \"count\": 0}, {\"repo\": \"MyST-Parser\", \"createdAt\": \"2023-02-05T00:00:00\", \"count\": 0}, {\"repo\": \"MyST-Parser\", \"createdAt\": \"2023-02-12T00:00:00\", \"count\": 2}, {\"repo\": \"MyST-Parser\", \"createdAt\": \"2023-02-19T00:00:00\", \"count\": 3}, {\"repo\": \"MyST-Parser\", \"createdAt\": \"2023-02-26T00:00:00\", \"count\": 12}, {\"repo\": \"MyST-Parser\", \"createdAt\": \"2023-03-05T00:00:00\", \"count\": 4}, {\"repo\": \"markdown-it-py\", \"createdAt\": \"2023-02-26T00:00:00\", \"count\": 10}, {\"repo\": \"mdit-py-plugins\", \"createdAt\": \"2022-12-11T00:00:00\", \"count\": 1}, {\"repo\": \"mdit-py-plugins\", \"createdAt\": \"2022-12-18T00:00:00\", \"count\": 0}, {\"repo\": \"mdit-py-plugins\", \"createdAt\": \"2022-12-25T00:00:00\", \"count\": 0}, {\"repo\": \"mdit-py-plugins\", \"createdAt\": \"2023-01-01T00:00:00\", \"count\": 0}, {\"repo\": \"mdit-py-plugins\", \"createdAt\": \"2023-01-08T00:00:00\", \"count\": 0}, {\"repo\": \"mdit-py-plugins\", \"createdAt\": \"2023-01-15T00:00:00\", \"count\": 0}, {\"repo\": \"mdit-py-plugins\", \"createdAt\": \"2023-01-22T00:00:00\", \"count\": 0}, {\"repo\": \"mdit-py-plugins\", \"createdAt\": \"2023-01-29T00:00:00\", \"count\": 0}, {\"repo\": \"mdit-py-plugins\", \"createdAt\": \"2023-02-05T00:00:00\", \"count\": 0}, {\"repo\": \"mdit-py-plugins\", \"createdAt\": \"2023-02-12T00:00:00\", \"count\": 0}, {\"repo\": \"mdit-py-plugins\", \"createdAt\": \"2023-02-19T00:00:00\", \"count\": 6}, {\"repo\": \"mdit-py-plugins\", \"createdAt\": \"2023-02-26T00:00:00\", \"count\": 1}, {\"repo\": \"mdit-py-plugins\", \"createdAt\": \"2023-03-05T00:00:00\", \"count\": 1}, {\"repo\": \"myst-enhancement-proposals\", \"createdAt\": \"2023-03-05T00:00:00\", \"count\": 3}, {\"repo\": \"rst-to-myst\", \"createdAt\": \"2022-12-11T00:00:00\", \"count\": 2}, {\"repo\": \"rst-to-myst\", \"createdAt\": \"2022-12-18T00:00:00\", \"count\": 0}, {\"repo\": \"rst-to-myst\", \"createdAt\": \"2022-12-25T00:00:00\", \"count\": 0}, {\"repo\": \"rst-to-myst\", \"createdAt\": \"2023-01-01T00:00:00\", \"count\": 0}, {\"repo\": \"rst-to-myst\", \"createdAt\": \"2023-01-08T00:00:00\", \"count\": 0}, {\"repo\": \"rst-to-myst\", \"createdAt\": \"2023-01-15T00:00:00\", \"count\": 0}, {\"repo\": \"rst-to-myst\", \"createdAt\": \"2023-01-22T00:00:00\", \"count\": 3}, {\"repo\": \"sphinx-design\", \"createdAt\": \"2023-03-05T00:00:00\", \"count\": 1}], \"data-6520f79ebb3588206cc215e3c3da7723\": [{\"createdAt\": \"2022-12-11T00:00:00\", \"count\": 3}, {\"createdAt\": \"2022-12-18T00:00:00\", \"count\": 3}, {\"createdAt\": \"2022-12-25T00:00:00\", \"count\": 0}, {\"createdAt\": \"2023-01-01T00:00:00\", \"count\": 0}, {\"createdAt\": \"2023-01-08T00:00:00\", \"count\": 8}, {\"createdAt\": \"2023-01-15T00:00:00\", \"count\": 11}, {\"createdAt\": \"2023-01-22T00:00:00\", \"count\": 3}, {\"createdAt\": \"2023-01-29T00:00:00\", \"count\": 0}, {\"createdAt\": \"2023-02-05T00:00:00\", \"count\": 0}, {\"createdAt\": \"2023-02-12T00:00:00\", \"count\": 2}, {\"createdAt\": \"2023-02-19T00:00:00\", \"count\": 9}, {\"createdAt\": \"2023-02-26T00:00:00\", \"count\": 23}, {\"createdAt\": \"2023-03-05T00:00:00\", \"count\": 9}]}}, {\"mode\": \"vega-lite\"});\n",
       "</script>"
      ],
      "text/plain": [
       "alt.LayerChart(...)"
      ]
     },
     "execution_count": 15,
     "metadata": {},
     "output_type": "execute_result"
    }
   ],
   "source": [
    "prs_time = prs.groupby('repo').resample('W', on='createdAt').count()['author'].reset_index()\n",
    "prs_time = prs_time.rename(columns={'author': 'count'})\n",
    "prs_time_total = prs_time.groupby('createdAt').agg({\"count\": \"sum\"}).reset_index()\n",
    "\n",
    "ch1 = alt.Chart(prs_time, width=600).mark_line().encode(\n",
    "    x='createdAt',\n",
    "    y='count',\n",
    "    color='repo',\n",
    "    tooltip=\"repo\"\n",
    ")\n",
    "\n",
    "ch2 = alt.Chart(prs_time_total, width=600).mark_line(color=\"black\").encode(\n",
    "    x='createdAt',\n",
    "    y='count',\n",
    ")\n",
    "\n",
    "ch1 + ch2"
   ]
  },
  {
   "cell_type": "code",
   "execution_count": 16,
   "id": "469de995",
   "metadata": {
    "execution": {
     "iopub.execute_input": "2023-03-06T14:44:35.622657Z",
     "iopub.status.busy": "2023-03-06T14:44:35.622370Z",
     "iopub.status.idle": "2023-03-06T14:44:35.692177Z",
     "shell.execute_reply": "2023-03-06T14:44:35.691420Z"
    },
    "papermill": {
     "duration": 0.078587,
     "end_time": "2023-03-06T14:44:35.694311",
     "exception": false,
     "start_time": "2023-03-06T14:44:35.615724",
     "status": "completed"
    },
    "tags": [
     "hide_input"
    ]
   },
   "outputs": [
    {
     "data": {
      "text/html": [
       "\n",
       "<div id=\"altair-viz-c3dce2e2588e4e33beed937be8ef3016\"></div>\n",
       "<script type=\"text/javascript\">\n",
       "  var VEGA_DEBUG = (typeof VEGA_DEBUG == \"undefined\") ? {} : VEGA_DEBUG;\n",
       "  (function(spec, embedOpt){\n",
       "    let outputDiv = document.currentScript.previousElementSibling;\n",
       "    if (outputDiv.id !== \"altair-viz-c3dce2e2588e4e33beed937be8ef3016\") {\n",
       "      outputDiv = document.getElementById(\"altair-viz-c3dce2e2588e4e33beed937be8ef3016\");\n",
       "    }\n",
       "    const paths = {\n",
       "      \"vega\": \"https://cdn.jsdelivr.net/npm//vega@5?noext\",\n",
       "      \"vega-lib\": \"https://cdn.jsdelivr.net/npm//vega-lib?noext\",\n",
       "      \"vega-lite\": \"https://cdn.jsdelivr.net/npm//vega-lite@4.17.0?noext\",\n",
       "      \"vega-embed\": \"https://cdn.jsdelivr.net/npm//vega-embed@6?noext\",\n",
       "    };\n",
       "\n",
       "    function maybeLoadScript(lib, version) {\n",
       "      var key = `${lib.replace(\"-\", \"\")}_version`;\n",
       "      return (VEGA_DEBUG[key] == version) ?\n",
       "        Promise.resolve(paths[lib]) :\n",
       "        new Promise(function(resolve, reject) {\n",
       "          var s = document.createElement('script');\n",
       "          document.getElementsByTagName(\"head\")[0].appendChild(s);\n",
       "          s.async = true;\n",
       "          s.onload = () => {\n",
       "            VEGA_DEBUG[key] = version;\n",
       "            return resolve(paths[lib]);\n",
       "          };\n",
       "          s.onerror = () => reject(`Error loading script: ${paths[lib]}`);\n",
       "          s.src = paths[lib];\n",
       "        });\n",
       "    }\n",
       "\n",
       "    function showError(err) {\n",
       "      outputDiv.innerHTML = `<div class=\"error\" style=\"color:red;\">${err}</div>`;\n",
       "      throw err;\n",
       "    }\n",
       "\n",
       "    function displayChart(vegaEmbed) {\n",
       "      vegaEmbed(outputDiv, spec, embedOpt)\n",
       "        .catch(err => showError(`Javascript Error: ${err.message}<br>This usually means there's a typo in your chart specification. See the javascript console for the full traceback.`));\n",
       "    }\n",
       "\n",
       "    if(typeof define === \"function\" && define.amd) {\n",
       "      requirejs.config({paths});\n",
       "      require([\"vega-embed\"], displayChart, err => showError(`Error loading script: ${err.message}`));\n",
       "    } else {\n",
       "      maybeLoadScript(\"vega\", \"5\")\n",
       "        .then(() => maybeLoadScript(\"vega-lite\", \"4.17.0\"))\n",
       "        .then(() => maybeLoadScript(\"vega-embed\", \"6\"))\n",
       "        .catch(showError)\n",
       "        .then(() => displayChart(vegaEmbed));\n",
       "    }\n",
       "  })({\"config\": {\"axisLeft\": {\"labelFontSize\": 15}, \"axisBottom\": {\"labelFontSize\": 15}}, \"data\": {\"name\": \"data-c91e16bfe087be6f46546bb724d8c431\"}, \"mark\": \"line\", \"encoding\": {\"color\": {\"field\": \"repo\", \"type\": \"nominal\"}, \"tooltip\": {\"field\": \"repo\", \"type\": \"nominal\"}, \"x\": {\"field\": \"closedAt\", \"type\": \"temporal\"}, \"y\": {\"field\": \"count\", \"type\": \"quantitative\"}}, \"width\": 600, \"$schema\": \"https://vega.github.io/schema/vega-lite/v4.17.0.json\", \"datasets\": {\"data-c91e16bfe087be6f46546bb724d8c431\": [{\"repo\": \"MyST-Parser\", \"closedAt\": \"2023-01-08T00:00:00\", \"count\": 12}, {\"repo\": \"MyST-Parser\", \"closedAt\": \"2023-01-15T00:00:00\", \"count\": 10}, {\"repo\": \"MyST-Parser\", \"closedAt\": \"2023-01-22T00:00:00\", \"count\": 2}, {\"repo\": \"MyST-Parser\", \"closedAt\": \"2023-01-29T00:00:00\", \"count\": 0}, {\"repo\": \"MyST-Parser\", \"closedAt\": \"2023-02-05T00:00:00\", \"count\": 0}, {\"repo\": \"MyST-Parser\", \"closedAt\": \"2023-02-12T00:00:00\", \"count\": 2}, {\"repo\": \"MyST-Parser\", \"closedAt\": \"2023-02-19T00:00:00\", \"count\": 3}, {\"repo\": \"MyST-Parser\", \"closedAt\": \"2023-02-26T00:00:00\", \"count\": 10}, {\"repo\": \"MyST-Parser\", \"closedAt\": \"2023-03-05T00:00:00\", \"count\": 5}, {\"repo\": \"markdown-it-plugin-template\", \"closedAt\": \"2023-01-15T00:00:00\", \"count\": 1}, {\"repo\": \"markdown-it-py\", \"closedAt\": \"2023-01-29T00:00:00\", \"count\": 1}, {\"repo\": \"markdown-it-py\", \"closedAt\": \"2023-02-05T00:00:00\", \"count\": 0}, {\"repo\": \"markdown-it-py\", \"closedAt\": \"2023-02-12T00:00:00\", \"count\": 0}, {\"repo\": \"markdown-it-py\", \"closedAt\": \"2023-02-19T00:00:00\", \"count\": 0}, {\"repo\": \"markdown-it-py\", \"closedAt\": \"2023-02-26T00:00:00\", \"count\": 12}, {\"repo\": \"mdit-py-plugins\", \"closedAt\": \"2022-12-11T00:00:00\", \"count\": 1}, {\"repo\": \"mdit-py-plugins\", \"closedAt\": \"2022-12-18T00:00:00\", \"count\": 0}, {\"repo\": \"mdit-py-plugins\", \"closedAt\": \"2022-12-25T00:00:00\", \"count\": 0}, {\"repo\": \"mdit-py-plugins\", \"closedAt\": \"2023-01-01T00:00:00\", \"count\": 0}, {\"repo\": \"mdit-py-plugins\", \"closedAt\": \"2023-01-08T00:00:00\", \"count\": 0}, {\"repo\": \"mdit-py-plugins\", \"closedAt\": \"2023-01-15T00:00:00\", \"count\": 0}, {\"repo\": \"mdit-py-plugins\", \"closedAt\": \"2023-01-22T00:00:00\", \"count\": 0}, {\"repo\": \"mdit-py-plugins\", \"closedAt\": \"2023-01-29T00:00:00\", \"count\": 0}, {\"repo\": \"mdit-py-plugins\", \"closedAt\": \"2023-02-05T00:00:00\", \"count\": 0}, {\"repo\": \"mdit-py-plugins\", \"closedAt\": \"2023-02-12T00:00:00\", \"count\": 0}, {\"repo\": \"mdit-py-plugins\", \"closedAt\": \"2023-02-19T00:00:00\", \"count\": 6}, {\"repo\": \"mdit-py-plugins\", \"closedAt\": \"2023-02-26T00:00:00\", \"count\": 0}, {\"repo\": \"mdit-py-plugins\", \"closedAt\": \"2023-03-05T00:00:00\", \"count\": 2}, {\"repo\": \"rst-to-myst\", \"closedAt\": \"2022-12-11T00:00:00\", \"count\": 3}, {\"repo\": \"rst-to-myst\", \"closedAt\": \"2022-12-18T00:00:00\", \"count\": 0}, {\"repo\": \"rst-to-myst\", \"closedAt\": \"2022-12-25T00:00:00\", \"count\": 0}, {\"repo\": \"rst-to-myst\", \"closedAt\": \"2023-01-01T00:00:00\", \"count\": 0}, {\"repo\": \"rst-to-myst\", \"closedAt\": \"2023-01-08T00:00:00\", \"count\": 0}, {\"repo\": \"rst-to-myst\", \"closedAt\": \"2023-01-15T00:00:00\", \"count\": 2}, {\"repo\": \"rst-to-myst\", \"closedAt\": \"2023-01-22T00:00:00\", \"count\": 4}, {\"repo\": \"sphinx-design\", \"closedAt\": \"2022-12-11T00:00:00\", \"count\": 1}]}}, {\"mode\": \"vega-lite\"});\n",
       "</script>"
      ],
      "text/plain": [
       "alt.Chart(...)"
      ]
     },
     "execution_count": 16,
     "metadata": {},
     "output_type": "execute_result"
    }
   ],
   "source": [
    "closed_by_time = closed_by.groupby('repo').resample('W', on='closedAt').count()['author'].reset_index()\n",
    "closed_by_time = closed_by_time.rename(columns={'author': 'count'})\n",
    "\n",
    "alt.Chart(closed_by_time, width=600).mark_line().encode(\n",
    "    x='closedAt',\n",
    "    y='count',\n",
    "    color='repo',\n",
    "    tooltip=\"repo\"\n",
    ")"
   ]
  },
  {
   "cell_type": "markdown",
   "id": "0a546b95",
   "metadata": {
    "papermill": {
     "duration": 0.00733,
     "end_time": "2023-03-06T14:44:35.709484",
     "exception": false,
     "start_time": "2023-03-06T14:44:35.702154",
     "status": "completed"
    },
    "tags": []
   },
   "source": [
    "## By type over time"
   ]
  },
  {
   "cell_type": "code",
   "execution_count": 17,
   "id": "cbed6a5e",
   "metadata": {
    "execution": {
     "iopub.execute_input": "2023-03-06T14:44:35.722211Z",
     "iopub.status.busy": "2023-03-06T14:44:35.721932Z",
     "iopub.status.idle": "2023-03-06T14:44:35.741829Z",
     "shell.execute_reply": "2023-03-06T14:44:35.741202Z"
    },
    "papermill": {
     "duration": 0.028304,
     "end_time": "2023-03-06T14:44:35.743442",
     "exception": false,
     "start_time": "2023-03-06T14:44:35.715138",
     "status": "completed"
    },
    "tags": [
     "remove_cell"
    ]
   },
   "outputs": [],
   "source": [
    "prs_time = prs[['author', 'createdAt']].resample('W', on='createdAt').count()['author'].reset_index()\n",
    "prs_time = prs_time.rename(columns={'author': 'prs'})\n",
    "comments_time = comments[['author', 'createdAt']].resample('W', on='createdAt').count()['author'].reset_index()\n",
    "comments_time = comments_time.rename(columns={'author': 'comments'})\n",
    "\n",
    "total_time = pd.merge(prs_time, comments_time, on='createdAt', how='outer')\n",
    "total_time = total_time.melt(id_vars='createdAt', var_name=\"kind\", value_name=\"count\")\n"
   ]
  },
  {
   "cell_type": "code",
   "execution_count": 18,
   "id": "d1f6f411",
   "metadata": {
    "execution": {
     "iopub.execute_input": "2023-03-06T14:44:35.756331Z",
     "iopub.status.busy": "2023-03-06T14:44:35.755864Z",
     "iopub.status.idle": "2023-03-06T14:44:35.800254Z",
     "shell.execute_reply": "2023-03-06T14:44:35.799400Z"
    },
    "papermill": {
     "duration": 0.052963,
     "end_time": "2023-03-06T14:44:35.802135",
     "exception": false,
     "start_time": "2023-03-06T14:44:35.749172",
     "status": "completed"
    },
    "tags": [
     "hide_input"
    ]
   },
   "outputs": [
    {
     "data": {
      "text/html": [
       "\n",
       "<div id=\"altair-viz-74722b3f521842c6bd5f55a19198e45c\"></div>\n",
       "<script type=\"text/javascript\">\n",
       "  var VEGA_DEBUG = (typeof VEGA_DEBUG == \"undefined\") ? {} : VEGA_DEBUG;\n",
       "  (function(spec, embedOpt){\n",
       "    let outputDiv = document.currentScript.previousElementSibling;\n",
       "    if (outputDiv.id !== \"altair-viz-74722b3f521842c6bd5f55a19198e45c\") {\n",
       "      outputDiv = document.getElementById(\"altair-viz-74722b3f521842c6bd5f55a19198e45c\");\n",
       "    }\n",
       "    const paths = {\n",
       "      \"vega\": \"https://cdn.jsdelivr.net/npm//vega@5?noext\",\n",
       "      \"vega-lib\": \"https://cdn.jsdelivr.net/npm//vega-lib?noext\",\n",
       "      \"vega-lite\": \"https://cdn.jsdelivr.net/npm//vega-lite@4.17.0?noext\",\n",
       "      \"vega-embed\": \"https://cdn.jsdelivr.net/npm//vega-embed@6?noext\",\n",
       "    };\n",
       "\n",
       "    function maybeLoadScript(lib, version) {\n",
       "      var key = `${lib.replace(\"-\", \"\")}_version`;\n",
       "      return (VEGA_DEBUG[key] == version) ?\n",
       "        Promise.resolve(paths[lib]) :\n",
       "        new Promise(function(resolve, reject) {\n",
       "          var s = document.createElement('script');\n",
       "          document.getElementsByTagName(\"head\")[0].appendChild(s);\n",
       "          s.async = true;\n",
       "          s.onload = () => {\n",
       "            VEGA_DEBUG[key] = version;\n",
       "            return resolve(paths[lib]);\n",
       "          };\n",
       "          s.onerror = () => reject(`Error loading script: ${paths[lib]}`);\n",
       "          s.src = paths[lib];\n",
       "        });\n",
       "    }\n",
       "\n",
       "    function showError(err) {\n",
       "      outputDiv.innerHTML = `<div class=\"error\" style=\"color:red;\">${err}</div>`;\n",
       "      throw err;\n",
       "    }\n",
       "\n",
       "    function displayChart(vegaEmbed) {\n",
       "      vegaEmbed(outputDiv, spec, embedOpt)\n",
       "        .catch(err => showError(`Javascript Error: ${err.message}<br>This usually means there's a typo in your chart specification. See the javascript console for the full traceback.`));\n",
       "    }\n",
       "\n",
       "    if(typeof define === \"function\" && define.amd) {\n",
       "      requirejs.config({paths});\n",
       "      require([\"vega-embed\"], displayChart, err => showError(`Error loading script: ${err.message}`));\n",
       "    } else {\n",
       "      maybeLoadScript(\"vega\", \"5\")\n",
       "        .then(() => maybeLoadScript(\"vega-lite\", \"4.17.0\"))\n",
       "        .then(() => maybeLoadScript(\"vega-embed\", \"6\"))\n",
       "        .catch(showError)\n",
       "        .then(() => displayChart(vegaEmbed));\n",
       "    }\n",
       "  })({\"config\": {\"axisLeft\": {\"labelFontSize\": 15}, \"axisBottom\": {\"labelFontSize\": 15}}, \"data\": {\"name\": \"data-e1ba1351b88bccd9249e6c3649ea693a\"}, \"mark\": \"line\", \"encoding\": {\"color\": {\"field\": \"kind\", \"type\": \"nominal\"}, \"x\": {\"field\": \"createdAt\", \"type\": \"temporal\"}, \"y\": {\"field\": \"count\", \"type\": \"quantitative\"}}, \"width\": 600, \"$schema\": \"https://vega.github.io/schema/vega-lite/v4.17.0.json\", \"datasets\": {\"data-e1ba1351b88bccd9249e6c3649ea693a\": [{\"createdAt\": \"2022-12-11T00:00:00\", \"kind\": \"prs\", \"count\": 3.0}, {\"createdAt\": \"2022-12-18T00:00:00\", \"kind\": \"prs\", \"count\": 3.0}, {\"createdAt\": \"2022-12-25T00:00:00\", \"kind\": \"prs\", \"count\": 0.0}, {\"createdAt\": \"2023-01-01T00:00:00\", \"kind\": \"prs\", \"count\": 0.0}, {\"createdAt\": \"2023-01-08T00:00:00\", \"kind\": \"prs\", \"count\": 8.0}, {\"createdAt\": \"2023-01-15T00:00:00\", \"kind\": \"prs\", \"count\": 11.0}, {\"createdAt\": \"2023-01-22T00:00:00\", \"kind\": \"prs\", \"count\": 3.0}, {\"createdAt\": \"2023-01-29T00:00:00\", \"kind\": \"prs\", \"count\": 0.0}, {\"createdAt\": \"2023-02-05T00:00:00\", \"kind\": \"prs\", \"count\": 0.0}, {\"createdAt\": \"2023-02-12T00:00:00\", \"kind\": \"prs\", \"count\": 2.0}, {\"createdAt\": \"2023-02-19T00:00:00\", \"kind\": \"prs\", \"count\": 9.0}, {\"createdAt\": \"2023-02-26T00:00:00\", \"kind\": \"prs\", \"count\": 23.0}, {\"createdAt\": \"2023-03-05T00:00:00\", \"kind\": \"prs\", \"count\": 9.0}, {\"createdAt\": \"2020-02-16T00:00:00\", \"kind\": \"prs\", \"count\": null}, {\"createdAt\": \"2020-02-23T00:00:00\", \"kind\": \"prs\", \"count\": null}, {\"createdAt\": \"2020-03-01T00:00:00\", \"kind\": \"prs\", \"count\": null}, {\"createdAt\": \"2020-03-08T00:00:00\", \"kind\": \"prs\", \"count\": null}, {\"createdAt\": \"2020-03-15T00:00:00\", \"kind\": \"prs\", \"count\": null}, {\"createdAt\": \"2020-03-22T00:00:00\", \"kind\": \"prs\", \"count\": null}, {\"createdAt\": \"2020-03-29T00:00:00\", \"kind\": \"prs\", \"count\": null}, {\"createdAt\": \"2020-04-05T00:00:00\", \"kind\": \"prs\", \"count\": null}, {\"createdAt\": \"2020-04-12T00:00:00\", \"kind\": \"prs\", \"count\": null}, {\"createdAt\": \"2020-04-19T00:00:00\", \"kind\": \"prs\", \"count\": null}, {\"createdAt\": \"2020-04-26T00:00:00\", \"kind\": \"prs\", \"count\": null}, {\"createdAt\": \"2020-05-03T00:00:00\", \"kind\": \"prs\", \"count\": null}, {\"createdAt\": \"2020-05-10T00:00:00\", \"kind\": \"prs\", \"count\": null}, {\"createdAt\": \"2020-05-17T00:00:00\", \"kind\": \"prs\", \"count\": null}, {\"createdAt\": \"2020-05-24T00:00:00\", \"kind\": \"prs\", \"count\": null}, {\"createdAt\": \"2020-05-31T00:00:00\", \"kind\": \"prs\", \"count\": null}, {\"createdAt\": \"2020-06-07T00:00:00\", \"kind\": \"prs\", \"count\": null}, {\"createdAt\": \"2020-06-14T00:00:00\", \"kind\": \"prs\", \"count\": null}, {\"createdAt\": \"2020-06-21T00:00:00\", \"kind\": \"prs\", \"count\": null}, {\"createdAt\": \"2020-06-28T00:00:00\", \"kind\": \"prs\", \"count\": null}, {\"createdAt\": \"2020-07-05T00:00:00\", \"kind\": \"prs\", \"count\": null}, {\"createdAt\": \"2020-07-12T00:00:00\", \"kind\": \"prs\", \"count\": null}, {\"createdAt\": \"2020-07-19T00:00:00\", \"kind\": \"prs\", \"count\": null}, {\"createdAt\": \"2020-07-26T00:00:00\", \"kind\": \"prs\", \"count\": null}, {\"createdAt\": \"2020-08-02T00:00:00\", \"kind\": \"prs\", \"count\": null}, {\"createdAt\": \"2020-08-09T00:00:00\", \"kind\": \"prs\", \"count\": null}, {\"createdAt\": \"2020-08-16T00:00:00\", \"kind\": \"prs\", \"count\": null}, {\"createdAt\": \"2020-08-23T00:00:00\", \"kind\": \"prs\", \"count\": null}, {\"createdAt\": \"2020-08-30T00:00:00\", \"kind\": \"prs\", \"count\": null}, {\"createdAt\": \"2020-09-06T00:00:00\", \"kind\": \"prs\", \"count\": null}, {\"createdAt\": \"2020-09-13T00:00:00\", \"kind\": \"prs\", \"count\": null}, {\"createdAt\": \"2020-09-20T00:00:00\", \"kind\": \"prs\", \"count\": null}, {\"createdAt\": \"2020-09-27T00:00:00\", \"kind\": \"prs\", \"count\": null}, {\"createdAt\": \"2020-10-04T00:00:00\", \"kind\": \"prs\", \"count\": null}, {\"createdAt\": \"2020-10-11T00:00:00\", \"kind\": \"prs\", \"count\": null}, {\"createdAt\": \"2020-10-18T00:00:00\", \"kind\": \"prs\", \"count\": null}, {\"createdAt\": \"2020-10-25T00:00:00\", \"kind\": \"prs\", \"count\": null}, {\"createdAt\": \"2020-11-01T00:00:00\", \"kind\": \"prs\", \"count\": null}, {\"createdAt\": \"2020-11-08T00:00:00\", \"kind\": \"prs\", \"count\": null}, {\"createdAt\": \"2020-11-15T00:00:00\", \"kind\": \"prs\", \"count\": null}, {\"createdAt\": \"2020-11-22T00:00:00\", \"kind\": \"prs\", \"count\": null}, {\"createdAt\": \"2020-11-29T00:00:00\", \"kind\": \"prs\", \"count\": null}, {\"createdAt\": \"2020-12-06T00:00:00\", \"kind\": \"prs\", \"count\": null}, {\"createdAt\": \"2020-12-13T00:00:00\", \"kind\": \"prs\", \"count\": null}, {\"createdAt\": \"2020-12-20T00:00:00\", \"kind\": \"prs\", \"count\": null}, {\"createdAt\": \"2020-12-27T00:00:00\", \"kind\": \"prs\", \"count\": null}, {\"createdAt\": \"2021-01-03T00:00:00\", \"kind\": \"prs\", \"count\": null}, {\"createdAt\": \"2021-01-10T00:00:00\", \"kind\": \"prs\", \"count\": null}, {\"createdAt\": \"2021-01-17T00:00:00\", \"kind\": \"prs\", \"count\": null}, {\"createdAt\": \"2021-01-24T00:00:00\", \"kind\": \"prs\", \"count\": null}, {\"createdAt\": \"2021-01-31T00:00:00\", \"kind\": \"prs\", \"count\": null}, {\"createdAt\": \"2021-02-07T00:00:00\", \"kind\": \"prs\", \"count\": null}, {\"createdAt\": \"2021-02-14T00:00:00\", \"kind\": \"prs\", \"count\": null}, {\"createdAt\": \"2021-02-21T00:00:00\", \"kind\": \"prs\", \"count\": null}, {\"createdAt\": \"2021-02-28T00:00:00\", \"kind\": \"prs\", \"count\": null}, {\"createdAt\": \"2021-03-07T00:00:00\", \"kind\": \"prs\", \"count\": null}, {\"createdAt\": \"2021-03-14T00:00:00\", \"kind\": \"prs\", \"count\": null}, {\"createdAt\": \"2021-03-21T00:00:00\", \"kind\": \"prs\", \"count\": null}, {\"createdAt\": \"2021-03-28T00:00:00\", \"kind\": \"prs\", \"count\": null}, {\"createdAt\": \"2021-04-04T00:00:00\", \"kind\": \"prs\", \"count\": null}, {\"createdAt\": \"2021-04-11T00:00:00\", \"kind\": \"prs\", \"count\": null}, {\"createdAt\": \"2021-04-18T00:00:00\", \"kind\": \"prs\", \"count\": null}, {\"createdAt\": \"2021-04-25T00:00:00\", \"kind\": \"prs\", \"count\": null}, {\"createdAt\": \"2021-05-02T00:00:00\", \"kind\": \"prs\", \"count\": null}, {\"createdAt\": \"2021-05-09T00:00:00\", \"kind\": \"prs\", \"count\": null}, {\"createdAt\": \"2021-05-16T00:00:00\", \"kind\": \"prs\", \"count\": null}, {\"createdAt\": \"2021-05-23T00:00:00\", \"kind\": \"prs\", \"count\": null}, {\"createdAt\": \"2021-05-30T00:00:00\", \"kind\": \"prs\", \"count\": null}, {\"createdAt\": \"2021-06-06T00:00:00\", \"kind\": \"prs\", \"count\": null}, {\"createdAt\": \"2021-06-13T00:00:00\", \"kind\": \"prs\", \"count\": null}, {\"createdAt\": \"2021-06-20T00:00:00\", \"kind\": \"prs\", \"count\": null}, {\"createdAt\": \"2021-06-27T00:00:00\", \"kind\": \"prs\", \"count\": null}, {\"createdAt\": \"2021-07-04T00:00:00\", \"kind\": \"prs\", \"count\": null}, {\"createdAt\": \"2021-07-11T00:00:00\", \"kind\": \"prs\", \"count\": null}, {\"createdAt\": \"2021-07-18T00:00:00\", \"kind\": \"prs\", \"count\": null}, {\"createdAt\": \"2021-07-25T00:00:00\", \"kind\": \"prs\", \"count\": null}, {\"createdAt\": \"2021-08-01T00:00:00\", \"kind\": \"prs\", \"count\": null}, {\"createdAt\": \"2021-08-08T00:00:00\", \"kind\": \"prs\", \"count\": null}, {\"createdAt\": \"2021-08-15T00:00:00\", \"kind\": \"prs\", \"count\": null}, {\"createdAt\": \"2021-08-22T00:00:00\", \"kind\": \"prs\", \"count\": null}, {\"createdAt\": \"2021-08-29T00:00:00\", \"kind\": \"prs\", \"count\": null}, {\"createdAt\": \"2021-09-05T00:00:00\", \"kind\": \"prs\", \"count\": null}, {\"createdAt\": \"2021-09-12T00:00:00\", \"kind\": \"prs\", \"count\": null}, {\"createdAt\": \"2021-09-19T00:00:00\", \"kind\": \"prs\", \"count\": null}, {\"createdAt\": \"2021-09-26T00:00:00\", \"kind\": \"prs\", \"count\": null}, {\"createdAt\": \"2021-10-03T00:00:00\", \"kind\": \"prs\", \"count\": null}, {\"createdAt\": \"2021-10-10T00:00:00\", \"kind\": \"prs\", \"count\": null}, {\"createdAt\": \"2021-10-17T00:00:00\", \"kind\": \"prs\", \"count\": null}, {\"createdAt\": \"2021-10-24T00:00:00\", \"kind\": \"prs\", \"count\": null}, {\"createdAt\": \"2021-10-31T00:00:00\", \"kind\": \"prs\", \"count\": null}, {\"createdAt\": \"2021-11-07T00:00:00\", \"kind\": \"prs\", \"count\": null}, {\"createdAt\": \"2021-11-14T00:00:00\", \"kind\": \"prs\", \"count\": null}, {\"createdAt\": \"2021-11-21T00:00:00\", \"kind\": \"prs\", \"count\": null}, {\"createdAt\": \"2021-11-28T00:00:00\", \"kind\": \"prs\", \"count\": null}, {\"createdAt\": \"2021-12-05T00:00:00\", \"kind\": \"prs\", \"count\": null}, {\"createdAt\": \"2021-12-12T00:00:00\", \"kind\": \"prs\", \"count\": null}, {\"createdAt\": \"2021-12-19T00:00:00\", \"kind\": \"prs\", \"count\": null}, {\"createdAt\": \"2021-12-26T00:00:00\", \"kind\": \"prs\", \"count\": null}, {\"createdAt\": \"2022-01-02T00:00:00\", \"kind\": \"prs\", \"count\": null}, {\"createdAt\": \"2022-01-09T00:00:00\", \"kind\": \"prs\", \"count\": null}, {\"createdAt\": \"2022-01-16T00:00:00\", \"kind\": \"prs\", \"count\": null}, {\"createdAt\": \"2022-01-23T00:00:00\", \"kind\": \"prs\", \"count\": null}, {\"createdAt\": \"2022-01-30T00:00:00\", \"kind\": \"prs\", \"count\": null}, {\"createdAt\": \"2022-02-06T00:00:00\", \"kind\": \"prs\", \"count\": null}, {\"createdAt\": \"2022-02-13T00:00:00\", \"kind\": \"prs\", \"count\": null}, {\"createdAt\": \"2022-02-20T00:00:00\", \"kind\": \"prs\", \"count\": null}, {\"createdAt\": \"2022-02-27T00:00:00\", \"kind\": \"prs\", \"count\": null}, {\"createdAt\": \"2022-03-06T00:00:00\", \"kind\": \"prs\", \"count\": null}, {\"createdAt\": \"2022-03-13T00:00:00\", \"kind\": \"prs\", \"count\": null}, {\"createdAt\": \"2022-03-20T00:00:00\", \"kind\": \"prs\", \"count\": null}, {\"createdAt\": \"2022-03-27T00:00:00\", \"kind\": \"prs\", \"count\": null}, {\"createdAt\": \"2022-04-03T00:00:00\", \"kind\": \"prs\", \"count\": null}, {\"createdAt\": \"2022-04-10T00:00:00\", \"kind\": \"prs\", \"count\": null}, {\"createdAt\": \"2022-04-17T00:00:00\", \"kind\": \"prs\", \"count\": null}, {\"createdAt\": \"2022-04-24T00:00:00\", \"kind\": \"prs\", \"count\": null}, {\"createdAt\": \"2022-05-01T00:00:00\", \"kind\": \"prs\", \"count\": null}, {\"createdAt\": \"2022-05-08T00:00:00\", \"kind\": \"prs\", \"count\": null}, {\"createdAt\": \"2022-05-15T00:00:00\", \"kind\": \"prs\", \"count\": null}, {\"createdAt\": \"2022-05-22T00:00:00\", \"kind\": \"prs\", \"count\": null}, {\"createdAt\": \"2022-05-29T00:00:00\", \"kind\": \"prs\", \"count\": null}, {\"createdAt\": \"2022-06-05T00:00:00\", \"kind\": \"prs\", \"count\": null}, {\"createdAt\": \"2022-06-12T00:00:00\", \"kind\": \"prs\", \"count\": null}, {\"createdAt\": \"2022-06-19T00:00:00\", \"kind\": \"prs\", \"count\": null}, {\"createdAt\": \"2022-06-26T00:00:00\", \"kind\": \"prs\", \"count\": null}, {\"createdAt\": \"2022-07-03T00:00:00\", \"kind\": \"prs\", \"count\": null}, {\"createdAt\": \"2022-07-10T00:00:00\", \"kind\": \"prs\", \"count\": null}, {\"createdAt\": \"2022-07-17T00:00:00\", \"kind\": \"prs\", \"count\": null}, {\"createdAt\": \"2022-07-24T00:00:00\", \"kind\": \"prs\", \"count\": null}, {\"createdAt\": \"2022-07-31T00:00:00\", \"kind\": \"prs\", \"count\": null}, {\"createdAt\": \"2022-08-07T00:00:00\", \"kind\": \"prs\", \"count\": null}, {\"createdAt\": \"2022-08-14T00:00:00\", \"kind\": \"prs\", \"count\": null}, {\"createdAt\": \"2022-08-21T00:00:00\", \"kind\": \"prs\", \"count\": null}, {\"createdAt\": \"2022-08-28T00:00:00\", \"kind\": \"prs\", \"count\": null}, {\"createdAt\": \"2022-09-04T00:00:00\", \"kind\": \"prs\", \"count\": null}, {\"createdAt\": \"2022-09-11T00:00:00\", \"kind\": \"prs\", \"count\": null}, {\"createdAt\": \"2022-09-18T00:00:00\", \"kind\": \"prs\", \"count\": null}, {\"createdAt\": \"2022-09-25T00:00:00\", \"kind\": \"prs\", \"count\": null}, {\"createdAt\": \"2022-10-02T00:00:00\", \"kind\": \"prs\", \"count\": null}, {\"createdAt\": \"2022-10-09T00:00:00\", \"kind\": \"prs\", \"count\": null}, {\"createdAt\": \"2022-10-16T00:00:00\", \"kind\": \"prs\", \"count\": null}, {\"createdAt\": \"2022-10-23T00:00:00\", \"kind\": \"prs\", \"count\": null}, {\"createdAt\": \"2022-10-30T00:00:00\", \"kind\": \"prs\", \"count\": null}, {\"createdAt\": \"2022-11-06T00:00:00\", \"kind\": \"prs\", \"count\": null}, {\"createdAt\": \"2022-11-13T00:00:00\", \"kind\": \"prs\", \"count\": null}, {\"createdAt\": \"2022-11-20T00:00:00\", \"kind\": \"prs\", \"count\": null}, {\"createdAt\": \"2022-11-27T00:00:00\", \"kind\": \"prs\", \"count\": null}, {\"createdAt\": \"2022-12-04T00:00:00\", \"kind\": \"prs\", \"count\": null}, {\"createdAt\": \"2022-12-11T00:00:00\", \"kind\": \"comments\", \"count\": 6.0}, {\"createdAt\": \"2022-12-18T00:00:00\", \"kind\": \"comments\", \"count\": 3.0}, {\"createdAt\": \"2022-12-25T00:00:00\", \"kind\": \"comments\", \"count\": 0.0}, {\"createdAt\": \"2023-01-01T00:00:00\", \"kind\": \"comments\", \"count\": 0.0}, {\"createdAt\": \"2023-01-08T00:00:00\", \"kind\": \"comments\", \"count\": 1.0}, {\"createdAt\": \"2023-01-15T00:00:00\", \"kind\": \"comments\", \"count\": 33.0}, {\"createdAt\": \"2023-01-22T00:00:00\", \"kind\": \"comments\", \"count\": 2.0}, {\"createdAt\": \"2023-01-29T00:00:00\", \"kind\": \"comments\", \"count\": 0.0}, {\"createdAt\": \"2023-02-05T00:00:00\", \"kind\": \"comments\", \"count\": 0.0}, {\"createdAt\": \"2023-02-12T00:00:00\", \"kind\": \"comments\", \"count\": 14.0}, {\"createdAt\": \"2023-02-19T00:00:00\", \"kind\": \"comments\", \"count\": 9.0}, {\"createdAt\": \"2023-02-26T00:00:00\", \"kind\": \"comments\", \"count\": 69.0}, {\"createdAt\": \"2023-03-05T00:00:00\", \"kind\": \"comments\", \"count\": 79.0}, {\"createdAt\": \"2020-02-16T00:00:00\", \"kind\": \"comments\", \"count\": 1.0}, {\"createdAt\": \"2020-02-23T00:00:00\", \"kind\": \"comments\", \"count\": 5.0}, {\"createdAt\": \"2020-03-01T00:00:00\", \"kind\": \"comments\", \"count\": 0.0}, {\"createdAt\": \"2020-03-08T00:00:00\", \"kind\": \"comments\", \"count\": 0.0}, {\"createdAt\": \"2020-03-15T00:00:00\", \"kind\": \"comments\", \"count\": 0.0}, {\"createdAt\": \"2020-03-22T00:00:00\", \"kind\": \"comments\", \"count\": 0.0}, {\"createdAt\": \"2020-03-29T00:00:00\", \"kind\": \"comments\", \"count\": 0.0}, {\"createdAt\": \"2020-04-05T00:00:00\", \"kind\": \"comments\", \"count\": 0.0}, {\"createdAt\": \"2020-04-12T00:00:00\", \"kind\": \"comments\", \"count\": 0.0}, {\"createdAt\": \"2020-04-19T00:00:00\", \"kind\": \"comments\", \"count\": 0.0}, {\"createdAt\": \"2020-04-26T00:00:00\", \"kind\": \"comments\", \"count\": 0.0}, {\"createdAt\": \"2020-05-03T00:00:00\", \"kind\": \"comments\", \"count\": 0.0}, {\"createdAt\": \"2020-05-10T00:00:00\", \"kind\": \"comments\", \"count\": 0.0}, {\"createdAt\": \"2020-05-17T00:00:00\", \"kind\": \"comments\", \"count\": 0.0}, {\"createdAt\": \"2020-05-24T00:00:00\", \"kind\": \"comments\", \"count\": 0.0}, {\"createdAt\": \"2020-05-31T00:00:00\", \"kind\": \"comments\", \"count\": 2.0}, {\"createdAt\": \"2020-06-07T00:00:00\", \"kind\": \"comments\", \"count\": 1.0}, {\"createdAt\": \"2020-06-14T00:00:00\", \"kind\": \"comments\", \"count\": 0.0}, {\"createdAt\": \"2020-06-21T00:00:00\", \"kind\": \"comments\", \"count\": 0.0}, {\"createdAt\": \"2020-06-28T00:00:00\", \"kind\": \"comments\", \"count\": 0.0}, {\"createdAt\": \"2020-07-05T00:00:00\", \"kind\": \"comments\", \"count\": 0.0}, {\"createdAt\": \"2020-07-12T00:00:00\", \"kind\": \"comments\", \"count\": 0.0}, {\"createdAt\": \"2020-07-19T00:00:00\", \"kind\": \"comments\", \"count\": 0.0}, {\"createdAt\": \"2020-07-26T00:00:00\", \"kind\": \"comments\", \"count\": 0.0}, {\"createdAt\": \"2020-08-02T00:00:00\", \"kind\": \"comments\", \"count\": 0.0}, {\"createdAt\": \"2020-08-09T00:00:00\", \"kind\": \"comments\", \"count\": 2.0}, {\"createdAt\": \"2020-08-16T00:00:00\", \"kind\": \"comments\", \"count\": 2.0}, {\"createdAt\": \"2020-08-23T00:00:00\", \"kind\": \"comments\", \"count\": 0.0}, {\"createdAt\": \"2020-08-30T00:00:00\", \"kind\": \"comments\", \"count\": 0.0}, {\"createdAt\": \"2020-09-06T00:00:00\", \"kind\": \"comments\", \"count\": 0.0}, {\"createdAt\": \"2020-09-13T00:00:00\", \"kind\": \"comments\", \"count\": 0.0}, {\"createdAt\": \"2020-09-20T00:00:00\", \"kind\": \"comments\", \"count\": 0.0}, {\"createdAt\": \"2020-09-27T00:00:00\", \"kind\": \"comments\", \"count\": 0.0}, {\"createdAt\": \"2020-10-04T00:00:00\", \"kind\": \"comments\", \"count\": 0.0}, {\"createdAt\": \"2020-10-11T00:00:00\", \"kind\": \"comments\", \"count\": 0.0}, {\"createdAt\": \"2020-10-18T00:00:00\", \"kind\": \"comments\", \"count\": 0.0}, {\"createdAt\": \"2020-10-25T00:00:00\", \"kind\": \"comments\", \"count\": 0.0}, {\"createdAt\": \"2020-11-01T00:00:00\", \"kind\": \"comments\", \"count\": 0.0}, {\"createdAt\": \"2020-11-08T00:00:00\", \"kind\": \"comments\", \"count\": 0.0}, {\"createdAt\": \"2020-11-15T00:00:00\", \"kind\": \"comments\", \"count\": 0.0}, {\"createdAt\": \"2020-11-22T00:00:00\", \"kind\": \"comments\", \"count\": 0.0}, {\"createdAt\": \"2020-11-29T00:00:00\", \"kind\": \"comments\", \"count\": 2.0}, {\"createdAt\": \"2020-12-06T00:00:00\", \"kind\": \"comments\", \"count\": 0.0}, {\"createdAt\": \"2020-12-13T00:00:00\", \"kind\": \"comments\", \"count\": 0.0}, {\"createdAt\": \"2020-12-20T00:00:00\", \"kind\": \"comments\", \"count\": 0.0}, {\"createdAt\": \"2020-12-27T00:00:00\", \"kind\": \"comments\", \"count\": 0.0}, {\"createdAt\": \"2021-01-03T00:00:00\", \"kind\": \"comments\", \"count\": 0.0}, {\"createdAt\": \"2021-01-10T00:00:00\", \"kind\": \"comments\", \"count\": 0.0}, {\"createdAt\": \"2021-01-17T00:00:00\", \"kind\": \"comments\", \"count\": 1.0}, {\"createdAt\": \"2021-01-24T00:00:00\", \"kind\": \"comments\", \"count\": 3.0}, {\"createdAt\": \"2021-01-31T00:00:00\", \"kind\": \"comments\", \"count\": 0.0}, {\"createdAt\": \"2021-02-07T00:00:00\", \"kind\": \"comments\", \"count\": 0.0}, {\"createdAt\": \"2021-02-14T00:00:00\", \"kind\": \"comments\", \"count\": 0.0}, {\"createdAt\": \"2021-02-21T00:00:00\", \"kind\": \"comments\", \"count\": 1.0}, {\"createdAt\": \"2021-02-28T00:00:00\", \"kind\": \"comments\", \"count\": 0.0}, {\"createdAt\": \"2021-03-07T00:00:00\", \"kind\": \"comments\", \"count\": 0.0}, {\"createdAt\": \"2021-03-14T00:00:00\", \"kind\": \"comments\", \"count\": 0.0}, {\"createdAt\": \"2021-03-21T00:00:00\", \"kind\": \"comments\", \"count\": 0.0}, {\"createdAt\": \"2021-03-28T00:00:00\", \"kind\": \"comments\", \"count\": 0.0}, {\"createdAt\": \"2021-04-04T00:00:00\", \"kind\": \"comments\", \"count\": 0.0}, {\"createdAt\": \"2021-04-11T00:00:00\", \"kind\": \"comments\", \"count\": 2.0}, {\"createdAt\": \"2021-04-18T00:00:00\", \"kind\": \"comments\", \"count\": 0.0}, {\"createdAt\": \"2021-04-25T00:00:00\", \"kind\": \"comments\", \"count\": 0.0}, {\"createdAt\": \"2021-05-02T00:00:00\", \"kind\": \"comments\", \"count\": 6.0}, {\"createdAt\": \"2021-05-09T00:00:00\", \"kind\": \"comments\", \"count\": 1.0}, {\"createdAt\": \"2021-05-16T00:00:00\", \"kind\": \"comments\", \"count\": 0.0}, {\"createdAt\": \"2021-05-23T00:00:00\", \"kind\": \"comments\", \"count\": 1.0}, {\"createdAt\": \"2021-05-30T00:00:00\", \"kind\": \"comments\", \"count\": 0.0}, {\"createdAt\": \"2021-06-06T00:00:00\", \"kind\": \"comments\", \"count\": 0.0}, {\"createdAt\": \"2021-06-13T00:00:00\", \"kind\": \"comments\", \"count\": 0.0}, {\"createdAt\": \"2021-06-20T00:00:00\", \"kind\": \"comments\", \"count\": 0.0}, {\"createdAt\": \"2021-06-27T00:00:00\", \"kind\": \"comments\", \"count\": 0.0}, {\"createdAt\": \"2021-07-04T00:00:00\", \"kind\": \"comments\", \"count\": 0.0}, {\"createdAt\": \"2021-07-11T00:00:00\", \"kind\": \"comments\", \"count\": 0.0}, {\"createdAt\": \"2021-07-18T00:00:00\", \"kind\": \"comments\", \"count\": 1.0}, {\"createdAt\": \"2021-07-25T00:00:00\", \"kind\": \"comments\", \"count\": 0.0}, {\"createdAt\": \"2021-08-01T00:00:00\", \"kind\": \"comments\", \"count\": 1.0}, {\"createdAt\": \"2021-08-08T00:00:00\", \"kind\": \"comments\", \"count\": 3.0}, {\"createdAt\": \"2021-08-15T00:00:00\", \"kind\": \"comments\", \"count\": 0.0}, {\"createdAt\": \"2021-08-22T00:00:00\", \"kind\": \"comments\", \"count\": 0.0}, {\"createdAt\": \"2021-08-29T00:00:00\", \"kind\": \"comments\", \"count\": 0.0}, {\"createdAt\": \"2021-09-05T00:00:00\", \"kind\": \"comments\", \"count\": 0.0}, {\"createdAt\": \"2021-09-12T00:00:00\", \"kind\": \"comments\", \"count\": 0.0}, {\"createdAt\": \"2021-09-19T00:00:00\", \"kind\": \"comments\", \"count\": 0.0}, {\"createdAt\": \"2021-09-26T00:00:00\", \"kind\": \"comments\", \"count\": 0.0}, {\"createdAt\": \"2021-10-03T00:00:00\", \"kind\": \"comments\", \"count\": 3.0}, {\"createdAt\": \"2021-10-10T00:00:00\", \"kind\": \"comments\", \"count\": 0.0}, {\"createdAt\": \"2021-10-17T00:00:00\", \"kind\": \"comments\", \"count\": 0.0}, {\"createdAt\": \"2021-10-24T00:00:00\", \"kind\": \"comments\", \"count\": 0.0}, {\"createdAt\": \"2021-10-31T00:00:00\", \"kind\": \"comments\", \"count\": 0.0}, {\"createdAt\": \"2021-11-07T00:00:00\", \"kind\": \"comments\", \"count\": 0.0}, {\"createdAt\": \"2021-11-14T00:00:00\", \"kind\": \"comments\", \"count\": 0.0}, {\"createdAt\": \"2021-11-21T00:00:00\", \"kind\": \"comments\", \"count\": 0.0}, {\"createdAt\": \"2021-11-28T00:00:00\", \"kind\": \"comments\", \"count\": 0.0}, {\"createdAt\": \"2021-12-05T00:00:00\", \"kind\": \"comments\", \"count\": 0.0}, {\"createdAt\": \"2021-12-12T00:00:00\", \"kind\": \"comments\", \"count\": 0.0}, {\"createdAt\": \"2021-12-19T00:00:00\", \"kind\": \"comments\", \"count\": 0.0}, {\"createdAt\": \"2021-12-26T00:00:00\", \"kind\": \"comments\", \"count\": 0.0}, {\"createdAt\": \"2022-01-02T00:00:00\", \"kind\": \"comments\", \"count\": 2.0}, {\"createdAt\": \"2022-01-09T00:00:00\", \"kind\": \"comments\", \"count\": 0.0}, {\"createdAt\": \"2022-01-16T00:00:00\", \"kind\": \"comments\", \"count\": 1.0}, {\"createdAt\": \"2022-01-23T00:00:00\", \"kind\": \"comments\", \"count\": 0.0}, {\"createdAt\": \"2022-01-30T00:00:00\", \"kind\": \"comments\", \"count\": 0.0}, {\"createdAt\": \"2022-02-06T00:00:00\", \"kind\": \"comments\", \"count\": 0.0}, {\"createdAt\": \"2022-02-13T00:00:00\", \"kind\": \"comments\", \"count\": 2.0}, {\"createdAt\": \"2022-02-20T00:00:00\", \"kind\": \"comments\", \"count\": 0.0}, {\"createdAt\": \"2022-02-27T00:00:00\", \"kind\": \"comments\", \"count\": 0.0}, {\"createdAt\": \"2022-03-06T00:00:00\", \"kind\": \"comments\", \"count\": 0.0}, {\"createdAt\": \"2022-03-13T00:00:00\", \"kind\": \"comments\", \"count\": 0.0}, {\"createdAt\": \"2022-03-20T00:00:00\", \"kind\": \"comments\", \"count\": 0.0}, {\"createdAt\": \"2022-03-27T00:00:00\", \"kind\": \"comments\", \"count\": 0.0}, {\"createdAt\": \"2022-04-03T00:00:00\", \"kind\": \"comments\", \"count\": 0.0}, {\"createdAt\": \"2022-04-10T00:00:00\", \"kind\": \"comments\", \"count\": 0.0}, {\"createdAt\": \"2022-04-17T00:00:00\", \"kind\": \"comments\", \"count\": 0.0}, {\"createdAt\": \"2022-04-24T00:00:00\", \"kind\": \"comments\", \"count\": 1.0}, {\"createdAt\": \"2022-05-01T00:00:00\", \"kind\": \"comments\", \"count\": 0.0}, {\"createdAt\": \"2022-05-08T00:00:00\", \"kind\": \"comments\", \"count\": 0.0}, {\"createdAt\": \"2022-05-15T00:00:00\", \"kind\": \"comments\", \"count\": 1.0}, {\"createdAt\": \"2022-05-22T00:00:00\", \"kind\": \"comments\", \"count\": 0.0}, {\"createdAt\": \"2022-05-29T00:00:00\", \"kind\": \"comments\", \"count\": 0.0}, {\"createdAt\": \"2022-06-05T00:00:00\", \"kind\": \"comments\", \"count\": 0.0}, {\"createdAt\": \"2022-06-12T00:00:00\", \"kind\": \"comments\", \"count\": 0.0}, {\"createdAt\": \"2022-06-19T00:00:00\", \"kind\": \"comments\", \"count\": 0.0}, {\"createdAt\": \"2022-06-26T00:00:00\", \"kind\": \"comments\", \"count\": 0.0}, {\"createdAt\": \"2022-07-03T00:00:00\", \"kind\": \"comments\", \"count\": 0.0}, {\"createdAt\": \"2022-07-10T00:00:00\", \"kind\": \"comments\", \"count\": 0.0}, {\"createdAt\": \"2022-07-17T00:00:00\", \"kind\": \"comments\", \"count\": 0.0}, {\"createdAt\": \"2022-07-24T00:00:00\", \"kind\": \"comments\", \"count\": 0.0}, {\"createdAt\": \"2022-07-31T00:00:00\", \"kind\": \"comments\", \"count\": 0.0}, {\"createdAt\": \"2022-08-07T00:00:00\", \"kind\": \"comments\", \"count\": 0.0}, {\"createdAt\": \"2022-08-14T00:00:00\", \"kind\": \"comments\", \"count\": 0.0}, {\"createdAt\": \"2022-08-21T00:00:00\", \"kind\": \"comments\", \"count\": 0.0}, {\"createdAt\": \"2022-08-28T00:00:00\", \"kind\": \"comments\", \"count\": 0.0}, {\"createdAt\": \"2022-09-04T00:00:00\", \"kind\": \"comments\", \"count\": 2.0}, {\"createdAt\": \"2022-09-11T00:00:00\", \"kind\": \"comments\", \"count\": 0.0}, {\"createdAt\": \"2022-09-18T00:00:00\", \"kind\": \"comments\", \"count\": 0.0}, {\"createdAt\": \"2022-09-25T00:00:00\", \"kind\": \"comments\", \"count\": 0.0}, {\"createdAt\": \"2022-10-02T00:00:00\", \"kind\": \"comments\", \"count\": 1.0}, {\"createdAt\": \"2022-10-09T00:00:00\", \"kind\": \"comments\", \"count\": 0.0}, {\"createdAt\": \"2022-10-16T00:00:00\", \"kind\": \"comments\", \"count\": 1.0}, {\"createdAt\": \"2022-10-23T00:00:00\", \"kind\": \"comments\", \"count\": 2.0}, {\"createdAt\": \"2022-10-30T00:00:00\", \"kind\": \"comments\", \"count\": 0.0}, {\"createdAt\": \"2022-11-06T00:00:00\", \"kind\": \"comments\", \"count\": 0.0}, {\"createdAt\": \"2022-11-13T00:00:00\", \"kind\": \"comments\", \"count\": 0.0}, {\"createdAt\": \"2022-11-20T00:00:00\", \"kind\": \"comments\", \"count\": 0.0}, {\"createdAt\": \"2022-11-27T00:00:00\", \"kind\": \"comments\", \"count\": 0.0}, {\"createdAt\": \"2022-12-04T00:00:00\", \"kind\": \"comments\", \"count\": 0.0}]}}, {\"mode\": \"vega-lite\"});\n",
       "</script>"
      ],
      "text/plain": [
       "alt.Chart(...)"
      ]
     },
     "execution_count": 18,
     "metadata": {},
     "output_type": "execute_result"
    }
   ],
   "source": [
    "alt.Chart(total_time, width=600).mark_line().encode(\n",
    "    x='createdAt',\n",
    "    y='count',\n",
    "    color='kind'\n",
    ")"
   ]
  },
  {
   "cell_type": "code",
   "execution_count": null,
   "id": "4c4d8f17",
   "metadata": {
    "papermill": {
     "duration": 0.00784,
     "end_time": "2023-03-06T14:44:35.818905",
     "exception": false,
     "start_time": "2023-03-06T14:44:35.811065",
     "status": "completed"
    },
    "tags": []
   },
   "outputs": [],
   "source": []
  },
  {
   "cell_type": "code",
   "execution_count": null,
   "id": "eca1b1e8",
   "metadata": {
    "papermill": {
     "duration": 0.006266,
     "end_time": "2023-03-06T14:44:35.831297",
     "exception": false,
     "start_time": "2023-03-06T14:44:35.825031",
     "status": "completed"
    },
    "tags": []
   },
   "outputs": [],
   "source": []
  }
 ],
 "metadata": {
  "kernelspec": {
   "display_name": "Python 3 (ipykernel)",
   "language": "python",
   "name": "python3"
  },
  "language_info": {
   "codemirror_mode": {
    "name": "ipython",
    "version": 3
   },
   "file_extension": ".py",
   "mimetype": "text/x-python",
   "name": "python",
   "nbconvert_exporter": "python",
   "pygments_lexer": "ipython3",
   "version": "3.9.16"
  },
  "papermill": {
   "default_parameters": {},
   "duration": 3.229217,
   "end_time": "2023-03-06T14:44:36.156244",
   "environment_variables": {},
   "exception": null,
   "input_path": "./templates/person_report.ipynb",
   "output_path": "generated/people/chrisjsewell.ipynb",
   "parameters": {
    "n_days": 90,
    "person": "chrisjsewell"
   },
   "start_time": "2023-03-06T14:44:32.927027",
   "version": "2.4.0"
  },
  "widgets": {
   "application/vnd.jupyter.widget-state+json": {
    "state": {},
    "version_major": 2,
    "version_minor": 0
   }
  }
 },
 "nbformat": 4,
 "nbformat_minor": 5
}