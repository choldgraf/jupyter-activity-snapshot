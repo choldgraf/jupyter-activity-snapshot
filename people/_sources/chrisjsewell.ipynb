{
 "cells": [
  {
   "cell_type": "markdown",
   "id": "52e46715",
   "metadata": {
    "papermill": {
     "duration": 0.017112,
     "end_time": "2021-09-24T01:32:32.853251",
     "exception": false,
     "start_time": "2021-09-24T01:32:32.836139",
     "status": "completed"
    },
    "tags": []
   },
   "source": [
    "# Report for chrisjsewell"
   ]
  },
  {
   "cell_type": "code",
   "execution_count": 1,
   "id": "a9fff1be",
   "metadata": {
    "execution": {
     "iopub.execute_input": "2021-09-24T01:32:32.903275Z",
     "iopub.status.busy": "2021-09-24T01:32:32.898740Z",
     "iopub.status.idle": "2021-09-24T01:32:33.996568Z",
     "shell.execute_reply": "2021-09-24T01:32:33.995780Z"
    },
    "papermill": {
     "duration": 1.125575,
     "end_time": "2021-09-24T01:32:33.996795",
     "exception": false,
     "start_time": "2021-09-24T01:32:32.871220",
     "status": "completed"
    },
    "tags": [
     "remove_cell"
    ]
   },
   "outputs": [],
   "source": [
    "import seaborn as sns\n",
    "import pandas as pd\n",
    "import numpy as np\n",
    "import altair as alt\n",
    "from markdown import markdown\n",
    "from IPython.display import Markdown\n",
    "from ipywidgets.widgets import HTML, Tab\n",
    "from ipywidgets import widgets\n",
    "from datetime import timedelta\n",
    "from matplotlib import pyplot as plt\n",
    "import os.path as op\n",
    "\n",
    "from mycode import alt_theme\n",
    "from warnings import simplefilter\n",
    "simplefilter('ignore')"
   ]
  },
  {
   "cell_type": "code",
   "execution_count": 2,
   "id": "c58c8bf6",
   "metadata": {
    "execution": {
     "iopub.execute_input": "2021-09-24T01:32:34.034639Z",
     "iopub.status.busy": "2021-09-24T01:32:34.034003Z",
     "iopub.status.idle": "2021-09-24T01:32:34.036580Z",
     "shell.execute_reply": "2021-09-24T01:32:34.036047Z"
    },
    "papermill": {
     "duration": 0.022429,
     "end_time": "2021-09-24T01:32:34.036714",
     "exception": false,
     "start_time": "2021-09-24T01:32:34.014285",
     "status": "completed"
    },
    "tags": [
     "remove_cell"
    ]
   },
   "outputs": [],
   "source": [
    "def author_url(author):\n",
    "    return f\"https://github.com/{author}\""
   ]
  },
  {
   "cell_type": "code",
   "execution_count": 3,
   "id": "aa6c9cee",
   "metadata": {
    "execution": {
     "iopub.execute_input": "2021-09-24T01:32:34.072345Z",
     "iopub.status.busy": "2021-09-24T01:32:34.071606Z",
     "iopub.status.idle": "2021-09-24T01:32:34.074204Z",
     "shell.execute_reply": "2021-09-24T01:32:34.073695Z"
    },
    "papermill": {
     "duration": 0.023149,
     "end_time": "2021-09-24T01:32:34.074328",
     "exception": false,
     "start_time": "2021-09-24T01:32:34.051179",
     "status": "completed"
    },
    "tags": [
     "parameters",
     "hide_input"
    ]
   },
   "outputs": [],
   "source": [
    "# Parameters\n",
    "fmt_date = \"{:%Y-%m-%d}\"\n",
    "\n",
    "n_days = 30 * 2\n",
    "start_date = fmt_date.format(pd.datetime.today() - timedelta(days=n_days))\n",
    "end_date = fmt_date.format(pd.datetime.today())\n",
    "\n",
    "renderer = \"html\"\n",
    "person = \"jasongrout\""
   ]
  },
  {
   "cell_type": "code",
   "execution_count": 4,
   "id": "b33188cc",
   "metadata": {
    "execution": {
     "iopub.execute_input": "2021-09-24T01:32:34.110331Z",
     "iopub.status.busy": "2021-09-24T01:32:34.109722Z",
     "iopub.status.idle": "2021-09-24T01:32:34.113343Z",
     "shell.execute_reply": "2021-09-24T01:32:34.112699Z"
    },
    "papermill": {
     "duration": 0.022694,
     "end_time": "2021-09-24T01:32:34.113482",
     "exception": false,
     "start_time": "2021-09-24T01:32:34.090788",
     "status": "completed"
    },
    "tags": [
     "injected-parameters",
     "remove-cell"
    ]
   },
   "outputs": [],
   "source": [
    "# Parameters\n",
    "person = \"chrisjsewell\"\n",
    "n_days = 60\n"
   ]
  },
  {
   "cell_type": "code",
   "execution_count": 5,
   "id": "53dc585c",
   "metadata": {
    "execution": {
     "iopub.execute_input": "2021-09-24T01:32:34.155638Z",
     "iopub.status.busy": "2021-09-24T01:32:34.154942Z",
     "iopub.status.idle": "2021-09-24T01:32:34.157981Z",
     "shell.execute_reply": "2021-09-24T01:32:34.158560Z"
    },
    "papermill": {
     "duration": 0.02843,
     "end_time": "2021-09-24T01:32:34.158721",
     "exception": false,
     "start_time": "2021-09-24T01:32:34.130291",
     "status": "completed"
    },
    "tags": [
     "remove_cell"
    ]
   },
   "outputs": [
    {
     "data": {
      "text/plain": [
       "ThemeRegistry.enable('my_theme')"
      ]
     },
     "execution_count": 5,
     "metadata": {},
     "output_type": "execute_result"
    }
   ],
   "source": [
    "alt.renderers.enable(renderer);\n",
    "alt.themes.register('my_theme', alt_theme)\n",
    "alt.themes.enable(\"my_theme\")"
   ]
  },
  {
   "cell_type": "markdown",
   "id": "a3453b80",
   "metadata": {
    "papermill": {
     "duration": 0.015839,
     "end_time": "2021-09-24T01:32:34.190639",
     "exception": false,
     "start_time": "2021-09-24T01:32:34.174800",
     "status": "completed"
    },
    "tags": []
   },
   "source": [
    "## Load data"
   ]
  },
  {
   "cell_type": "code",
   "execution_count": 6,
   "id": "c7139958",
   "metadata": {
    "execution": {
     "iopub.execute_input": "2021-09-24T01:32:34.229047Z",
     "iopub.status.busy": "2021-09-24T01:32:34.228422Z",
     "iopub.status.idle": "2021-09-24T01:32:34.402861Z",
     "shell.execute_reply": "2021-09-24T01:32:34.402257Z"
    },
    "papermill": {
     "duration": 0.196512,
     "end_time": "2021-09-24T01:32:34.403031",
     "exception": false,
     "start_time": "2021-09-24T01:32:34.206519",
     "status": "completed"
    },
    "tags": [
     "remove_cell"
    ]
   },
   "outputs": [],
   "source": [
    "from pathlib import Path\n",
    "path_data = Path(\"./\")\n",
    "comments = pd.read_csv(path_data.joinpath('comments.csv'), index_col=0)\n",
    "issues = pd.read_csv(path_data.joinpath('issues.csv'), index_col=0)\n",
    "prs = pd.read_csv(path_data.joinpath('prs.csv'), index_col=0)\n",
    "\n",
    "comments = comments.query('author == @person').drop_duplicates()\n",
    "issues = issues.query('author == @person').drop_duplicates()\n",
    "closed_by = prs.query('mergedBy == @person')\n",
    "prs = prs.query('author == @person').drop_duplicates()"
   ]
  },
  {
   "cell_type": "code",
   "execution_count": 7,
   "id": "9bb0817a",
   "metadata": {
    "execution": {
     "iopub.execute_input": "2021-09-24T01:32:34.444135Z",
     "iopub.status.busy": "2021-09-24T01:32:34.443244Z",
     "iopub.status.idle": "2021-09-24T01:32:34.506299Z",
     "shell.execute_reply": "2021-09-24T01:32:34.505710Z"
    },
    "papermill": {
     "duration": 0.084183,
     "end_time": "2021-09-24T01:32:34.506461",
     "exception": false,
     "start_time": "2021-09-24T01:32:34.422278",
     "status": "completed"
    },
    "tags": [
     "remove_cell"
    ]
   },
   "outputs": [],
   "source": [
    "# Time columns\n",
    "# Also drop dates outside of our range\n",
    "time_columns = ['updatedAt', 'createdAt', 'closedAt']\n",
    "for col in time_columns:\n",
    "    for item in [comments, issues, prs, closed_by]:\n",
    "        if col not in item.columns:\n",
    "            continue\n",
    "        dt = pd.to_datetime(item[col]).dt.tz_localize(None)\n",
    "        item[col] = dt\n",
    "        item.query(\"updatedAt < @end_date and updatedAt > @start_date\", inplace=True)"
   ]
  },
  {
   "cell_type": "markdown",
   "id": "22a651e2",
   "metadata": {
    "papermill": {
     "duration": 0.01709,
     "end_time": "2021-09-24T01:32:34.540588",
     "exception": false,
     "start_time": "2021-09-24T01:32:34.523498",
     "status": "completed"
    },
    "tags": []
   },
   "source": [
    "## Repository summaries"
   ]
  },
  {
   "cell_type": "code",
   "execution_count": 8,
   "id": "df9b3674",
   "metadata": {
    "execution": {
     "iopub.execute_input": "2021-09-24T01:32:34.579392Z",
     "iopub.status.busy": "2021-09-24T01:32:34.578738Z",
     "iopub.status.idle": "2021-09-24T01:32:34.600390Z",
     "shell.execute_reply": "2021-09-24T01:32:34.600938Z"
    },
    "papermill": {
     "duration": 0.042232,
     "end_time": "2021-09-24T01:32:34.601100",
     "exception": false,
     "start_time": "2021-09-24T01:32:34.558868",
     "status": "completed"
    },
    "tags": [
     "remove_cell"
    ]
   },
   "outputs": [],
   "source": [
    "summaries = []\n",
    "for idata, name in [(issues, 'issues'), (prs, 'prs'), (comments, 'comments')]:\n",
    "    idata = idata.groupby([\"repo\", \"org\"]).agg({'id': \"count\"}).reset_index().rename(columns={'id': 'count'})\n",
    "    idata[\"kind\"] = name\n",
    "    summaries.append(idata)\n",
    "summaries = pd.concat(summaries)"
   ]
  },
  {
   "cell_type": "code",
   "execution_count": 9,
   "id": "db710e97",
   "metadata": {
    "execution": {
     "iopub.execute_input": "2021-09-24T01:32:34.646802Z",
     "iopub.status.busy": "2021-09-24T01:32:34.646141Z",
     "iopub.status.idle": "2021-09-24T01:32:34.655600Z",
     "shell.execute_reply": "2021-09-24T01:32:34.656373Z"
    },
    "papermill": {
     "duration": 0.037064,
     "end_time": "2021-09-24T01:32:34.656575",
     "exception": false,
     "start_time": "2021-09-24T01:32:34.619511",
     "status": "completed"
    },
    "tags": [
     "remove_cell"
    ]
   },
   "outputs": [],
   "source": [
    "repo_summaries = summaries.groupby([\"repo\", \"kind\"]).agg({\"count\": \"sum\"}).reset_index()\n",
    "org_summaries = summaries.groupby([\"org\", \"kind\"]).agg({\"count\": \"sum\"}).reset_index()"
   ]
  },
  {
   "cell_type": "code",
   "execution_count": 10,
   "id": "1086179d",
   "metadata": {
    "execution": {
     "iopub.execute_input": "2021-09-24T01:32:34.697476Z",
     "iopub.status.busy": "2021-09-24T01:32:34.696620Z",
     "iopub.status.idle": "2021-09-24T01:32:34.701503Z",
     "shell.execute_reply": "2021-09-24T01:32:34.701991Z"
    },
    "papermill": {
     "duration": 0.027369,
     "end_time": "2021-09-24T01:32:34.702172",
     "exception": false,
     "start_time": "2021-09-24T01:32:34.674803",
     "status": "completed"
    },
    "tags": [
     "remove_cell"
    ]
   },
   "outputs": [],
   "source": [
    "repo_summaries['logcount'] = np.log(repo_summaries[\"count\"])"
   ]
  },
  {
   "cell_type": "code",
   "execution_count": 11,
   "id": "4f79bc44",
   "metadata": {
    "execution": {
     "iopub.execute_input": "2021-09-24T01:32:34.762082Z",
     "iopub.status.busy": "2021-09-24T01:32:34.751643Z",
     "iopub.status.idle": "2021-09-24T01:32:34.801059Z",
     "shell.execute_reply": "2021-09-24T01:32:34.801562Z"
    },
    "papermill": {
     "duration": 0.081571,
     "end_time": "2021-09-24T01:32:34.801733",
     "exception": false,
     "start_time": "2021-09-24T01:32:34.720162",
     "status": "completed"
    },
    "tags": [
     "hide_input"
    ]
   },
   "outputs": [
    {
     "data": {
      "text/html": [
       "\n",
       "<div id=\"altair-viz-b1c18b172d9a4728800603f8f646a6aa\"></div>\n",
       "<script type=\"text/javascript\">\n",
       "  (function(spec, embedOpt){\n",
       "    let outputDiv = document.currentScript.previousElementSibling;\n",
       "    if (outputDiv.id !== \"altair-viz-b1c18b172d9a4728800603f8f646a6aa\") {\n",
       "      outputDiv = document.getElementById(\"altair-viz-b1c18b172d9a4728800603f8f646a6aa\");\n",
       "    }\n",
       "    const paths = {\n",
       "      \"vega\": \"https://cdn.jsdelivr.net/npm//vega@5?noext\",\n",
       "      \"vega-lib\": \"https://cdn.jsdelivr.net/npm//vega-lib?noext\",\n",
       "      \"vega-lite\": \"https://cdn.jsdelivr.net/npm//vega-lite@4.8.1?noext\",\n",
       "      \"vega-embed\": \"https://cdn.jsdelivr.net/npm//vega-embed@6?noext\",\n",
       "    };\n",
       "\n",
       "    function loadScript(lib) {\n",
       "      return new Promise(function(resolve, reject) {\n",
       "        var s = document.createElement('script');\n",
       "        s.src = paths[lib];\n",
       "        s.async = true;\n",
       "        s.onload = () => resolve(paths[lib]);\n",
       "        s.onerror = () => reject(`Error loading script: ${paths[lib]}`);\n",
       "        document.getElementsByTagName(\"head\")[0].appendChild(s);\n",
       "      });\n",
       "    }\n",
       "\n",
       "    function showError(err) {\n",
       "      outputDiv.innerHTML = `<div class=\"error\" style=\"color:red;\">${err}</div>`;\n",
       "      throw err;\n",
       "    }\n",
       "\n",
       "    function displayChart(vegaEmbed) {\n",
       "      vegaEmbed(outputDiv, spec, embedOpt)\n",
       "        .catch(err => showError(`Javascript Error: ${err.message}<br>This usually means there's a typo in your chart specification. See the javascript console for the full traceback.`));\n",
       "    }\n",
       "\n",
       "    if(typeof define === \"function\" && define.amd) {\n",
       "      requirejs.config({paths});\n",
       "      require([\"vega-embed\"], displayChart, err => showError(`Error loading script: ${err.message}`));\n",
       "    } else if (typeof vegaEmbed === \"function\") {\n",
       "      displayChart(vegaEmbed);\n",
       "    } else {\n",
       "      loadScript(\"vega\")\n",
       "        .then(() => loadScript(\"vega-lite\"))\n",
       "        .then(() => loadScript(\"vega-embed\"))\n",
       "        .catch(showError)\n",
       "        .then(() => displayChart(vegaEmbed));\n",
       "    }\n",
       "  })({\"config\": {\"axisLeft\": {\"labelFontSize\": 15}, \"axisBottom\": {\"labelFontSize\": 15}}, \"hconcat\": [{\"mark\": \"bar\", \"encoding\": {\"color\": {\"type\": \"nominal\", \"field\": \"kind\"}, \"tooltip\": {\"type\": \"nominal\", \"field\": \"kind\"}, \"x\": {\"type\": \"nominal\", \"field\": \"repo\"}, \"y\": {\"type\": \"quantitative\", \"field\": \"count\"}}, \"title\": \"Activity per repository\", \"width\": 600}, {\"mark\": \"bar\", \"encoding\": {\"color\": {\"type\": \"nominal\", \"field\": \"kind\"}, \"tooltip\": {\"type\": \"nominal\", \"field\": \"kind\"}, \"x\": {\"type\": \"nominal\", \"field\": \"repo\"}, \"y\": {\"type\": \"quantitative\", \"field\": \"logcount\"}}, \"title\": \"Log activity per repository\", \"width\": 600}], \"data\": {\"name\": \"data-daa36e39cc2a24232def13a2ae42faf4\"}, \"$schema\": \"https://vega.github.io/schema/vega-lite/v4.8.1.json\", \"datasets\": {\"data-daa36e39cc2a24232def13a2ae42faf4\": [{\"repo\": \"MyST-NB\", \"kind\": \"comments\", \"count\": 14, \"logcount\": 2.6390573296152584}, {\"repo\": \"MyST-Parser\", \"kind\": \"comments\", \"count\": 29, \"logcount\": 3.367295829986474}, {\"repo\": \"MyST-Parser\", \"kind\": \"issues\", \"count\": 1, \"logcount\": 0.0}, {\"repo\": \"MyST-Parser\", \"kind\": \"prs\", \"count\": 3, \"logcount\": 1.0986122886681098}, {\"repo\": \"extension-proposals\", \"kind\": \"prs\", \"count\": 1, \"logcount\": 0.0}, {\"repo\": \"jupyter-book\", \"kind\": \"comments\", \"count\": 24, \"logcount\": 3.1780538303479458}, {\"repo\": \"jupyter-book\", \"kind\": \"prs\", \"count\": 1, \"logcount\": 0.0}, {\"repo\": \"jupyter-cache\", \"kind\": \"comments\", \"count\": 6, \"logcount\": 1.791759469228055}, {\"repo\": \"jupyter-cache\", \"kind\": \"issues\", \"count\": 1, \"logcount\": 0.0}, {\"repo\": \"jupyter-cache\", \"kind\": \"prs\", \"count\": 4, \"logcount\": 1.3862943611198906}, {\"repo\": \"jupyterlab\", \"kind\": \"comments\", \"count\": 1, \"logcount\": 0.0}, {\"repo\": \"jupyterlab-myst\", \"kind\": \"comments\", \"count\": 7, \"logcount\": 1.9459101490553132}, {\"repo\": \"jupyterlab-myst\", \"kind\": \"issues\", \"count\": 1, \"logcount\": 0.0}, {\"repo\": \"markdown-it-amsmath\", \"kind\": \"comments\", \"count\": 1, \"logcount\": 0.0}, {\"repo\": \"markdown-it-docutils\", \"kind\": \"comments\", \"count\": 3, \"logcount\": 1.0986122886681098}, {\"repo\": \"markdown-it-dollarmath\", \"kind\": \"comments\", \"count\": 1, \"logcount\": 0.0}, {\"repo\": \"markdown-it-py\", \"kind\": \"comments\", \"count\": 6, \"logcount\": 1.791759469228055}, {\"repo\": \"mdformat\", \"kind\": \"comments\", \"count\": 1, \"logcount\": 0.0}, {\"repo\": \"meta\", \"kind\": \"comments\", \"count\": 13, \"logcount\": 2.5649493574615367}, {\"repo\": \"meta\", \"kind\": \"prs\", \"count\": 1, \"logcount\": 0.0}, {\"repo\": \"nbclient\", \"kind\": \"comments\", \"count\": 9, \"logcount\": 2.1972245773362196}, {\"repo\": \"nbclient\", \"kind\": \"prs\", \"count\": 3, \"logcount\": 1.0986122886681098}, {\"repo\": \"nbformat\", \"kind\": \"prs\", \"count\": 1, \"logcount\": 0.0}, {\"repo\": \"rst-to-myst\", \"kind\": \"comments\", \"count\": 4, \"logcount\": 1.3862943611198906}, {\"repo\": \"rst-to-myst\", \"kind\": \"prs\", \"count\": 2, \"logcount\": 0.6931471805599453}, {\"repo\": \"sphinx-book-theme\", \"kind\": \"comments\", \"count\": 26, \"logcount\": 3.258096538021482}, {\"repo\": \"sphinx-book-theme\", \"kind\": \"issues\", \"count\": 2, \"logcount\": 0.6931471805599453}, {\"repo\": \"sphinx-book-theme\", \"kind\": \"prs\", \"count\": 3, \"logcount\": 1.0986122886681098}, {\"repo\": \"sphinx-design\", \"kind\": \"comments\", \"count\": 12, \"logcount\": 2.4849066497880004}, {\"repo\": \"sphinx-design\", \"kind\": \"prs\", \"count\": 13, \"logcount\": 2.5649493574615367}, {\"repo\": \"sphinx-external-toc\", \"kind\": \"comments\", \"count\": 1, \"logcount\": 0.0}, {\"repo\": \"sphinx-external-toc\", \"kind\": \"prs\", \"count\": 1, \"logcount\": 0.0}, {\"repo\": \"sphinx-panels\", \"kind\": \"comments\", \"count\": 6, \"logcount\": 1.791759469228055}, {\"repo\": \"sphinx-panels\", \"kind\": \"issues\", \"count\": 1, \"logcount\": 0.0}, {\"repo\": \"sphinx-tabs\", \"kind\": \"comments\", \"count\": 1, \"logcount\": 0.0}, {\"repo\": \"web-compile\", \"kind\": \"comments\", \"count\": 1, \"logcount\": 0.0}, {\"repo\": \"web-compile\", \"kind\": \"prs\", \"count\": 1, \"logcount\": 0.0}]}}, {\"mode\": \"vega-lite\"});\n",
       "</script>"
      ],
      "text/plain": [
       "alt.HConcatChart(...)"
      ]
     },
     "execution_count": 11,
     "metadata": {},
     "output_type": "execute_result"
    }
   ],
   "source": [
    "ch1 = alt.Chart(repo_summaries, width=600, title=\"Activity per repository\").mark_bar().encode(\n",
    "    x='repo',\n",
    "    y='count',\n",
    "    color='kind',\n",
    "    tooltip=\"kind\"\n",
    ")\n",
    "\n",
    "ch2 = alt.Chart(repo_summaries, width=600, title=\"Log activity per repository\").mark_bar().encode(\n",
    "    x='repo',\n",
    "    y='logcount',\n",
    "    color='kind',\n",
    "    tooltip=\"kind\"\n",
    ")\n",
    "\n",
    "ch1 | ch2"
   ]
  },
  {
   "cell_type": "code",
   "execution_count": 12,
   "id": "d2b7f88a",
   "metadata": {
    "execution": {
     "iopub.execute_input": "2021-09-24T01:32:34.859201Z",
     "iopub.status.busy": "2021-09-24T01:32:34.848991Z",
     "iopub.status.idle": "2021-09-24T01:32:34.872991Z",
     "shell.execute_reply": "2021-09-24T01:32:34.873486Z"
    },
    "papermill": {
     "duration": 0.051601,
     "end_time": "2021-09-24T01:32:34.873647",
     "exception": false,
     "start_time": "2021-09-24T01:32:34.822046",
     "status": "completed"
    },
    "tags": [
     "hide_input"
    ]
   },
   "outputs": [
    {
     "data": {
      "text/html": [
       "\n",
       "<div id=\"altair-viz-8193932a84394217a57a2ae5c3dea53f\"></div>\n",
       "<script type=\"text/javascript\">\n",
       "  (function(spec, embedOpt){\n",
       "    let outputDiv = document.currentScript.previousElementSibling;\n",
       "    if (outputDiv.id !== \"altair-viz-8193932a84394217a57a2ae5c3dea53f\") {\n",
       "      outputDiv = document.getElementById(\"altair-viz-8193932a84394217a57a2ae5c3dea53f\");\n",
       "    }\n",
       "    const paths = {\n",
       "      \"vega\": \"https://cdn.jsdelivr.net/npm//vega@5?noext\",\n",
       "      \"vega-lib\": \"https://cdn.jsdelivr.net/npm//vega-lib?noext\",\n",
       "      \"vega-lite\": \"https://cdn.jsdelivr.net/npm//vega-lite@4.8.1?noext\",\n",
       "      \"vega-embed\": \"https://cdn.jsdelivr.net/npm//vega-embed@6?noext\",\n",
       "    };\n",
       "\n",
       "    function loadScript(lib) {\n",
       "      return new Promise(function(resolve, reject) {\n",
       "        var s = document.createElement('script');\n",
       "        s.src = paths[lib];\n",
       "        s.async = true;\n",
       "        s.onload = () => resolve(paths[lib]);\n",
       "        s.onerror = () => reject(`Error loading script: ${paths[lib]}`);\n",
       "        document.getElementsByTagName(\"head\")[0].appendChild(s);\n",
       "      });\n",
       "    }\n",
       "\n",
       "    function showError(err) {\n",
       "      outputDiv.innerHTML = `<div class=\"error\" style=\"color:red;\">${err}</div>`;\n",
       "      throw err;\n",
       "    }\n",
       "\n",
       "    function displayChart(vegaEmbed) {\n",
       "      vegaEmbed(outputDiv, spec, embedOpt)\n",
       "        .catch(err => showError(`Javascript Error: ${err.message}<br>This usually means there's a typo in your chart specification. See the javascript console for the full traceback.`));\n",
       "    }\n",
       "\n",
       "    if(typeof define === \"function\" && define.amd) {\n",
       "      requirejs.config({paths});\n",
       "      require([\"vega-embed\"], displayChart, err => showError(`Error loading script: ${err.message}`));\n",
       "    } else if (typeof vegaEmbed === \"function\") {\n",
       "      displayChart(vegaEmbed);\n",
       "    } else {\n",
       "      loadScript(\"vega\")\n",
       "        .then(() => loadScript(\"vega-lite\"))\n",
       "        .then(() => loadScript(\"vega-embed\"))\n",
       "        .catch(showError)\n",
       "        .then(() => displayChart(vegaEmbed));\n",
       "    }\n",
       "  })({\"config\": {\"axisLeft\": {\"labelFontSize\": 15}, \"axisBottom\": {\"labelFontSize\": 15}}, \"data\": {\"name\": \"data-ed235d3926e0f1ed7d0d423b1bdbe595\"}, \"mark\": \"bar\", \"encoding\": {\"color\": {\"type\": \"nominal\", \"field\": \"kind\"}, \"tooltip\": {\"type\": \"nominal\", \"field\": \"org\"}, \"x\": {\"type\": \"nominal\", \"field\": \"org\"}, \"y\": {\"type\": \"quantitative\", \"field\": \"count\"}}, \"width\": 600, \"$schema\": \"https://vega.github.io/schema/vega-lite/v4.8.1.json\", \"datasets\": {\"data-ed235d3926e0f1ed7d0d423b1bdbe595\": [{\"org\": \"executablebooks\", \"kind\": \"comments\", \"count\": 156}, {\"org\": \"executablebooks\", \"kind\": \"issues\", \"count\": 6}, {\"org\": \"executablebooks\", \"kind\": \"prs\", \"count\": 30}, {\"org\": \"jupyter\", \"kind\": \"comments\", \"count\": 9}, {\"org\": \"jupyter\", \"kind\": \"prs\", \"count\": 4}, {\"org\": \"jupyterlab\", \"kind\": \"comments\", \"count\": 1}]}}, {\"mode\": \"vega-lite\"});\n",
       "</script>"
      ],
      "text/plain": [
       "alt.Chart(...)"
      ]
     },
     "execution_count": 12,
     "metadata": {},
     "output_type": "execute_result"
    }
   ],
   "source": [
    "alt.Chart(org_summaries, width=600).mark_bar().encode(\n",
    "    x='org',\n",
    "    y='count',\n",
    "    color='kind',\n",
    "    tooltip=\"org\"\n",
    ")"
   ]
  },
  {
   "cell_type": "markdown",
   "id": "5d79d48e",
   "metadata": {
    "papermill": {
     "duration": 0.01808,
     "end_time": "2021-09-24T01:32:34.909316",
     "exception": false,
     "start_time": "2021-09-24T01:32:34.891236",
     "status": "completed"
    },
    "tags": []
   },
   "source": [
    "## By repository over time"
   ]
  },
  {
   "cell_type": "markdown",
   "id": "95b35c20",
   "metadata": {
    "papermill": {
     "duration": 0.018793,
     "end_time": "2021-09-24T01:32:34.948380",
     "exception": false,
     "start_time": "2021-09-24T01:32:34.929587",
     "status": "completed"
    },
    "tags": []
   },
   "source": [
    "### Comments"
   ]
  },
  {
   "cell_type": "code",
   "execution_count": 13,
   "id": "10fb887d",
   "metadata": {
    "execution": {
     "iopub.execute_input": "2021-09-24T01:32:34.991833Z",
     "iopub.status.busy": "2021-09-24T01:32:34.991165Z",
     "iopub.status.idle": "2021-09-24T01:32:35.101694Z",
     "shell.execute_reply": "2021-09-24T01:32:35.102198Z"
    },
    "papermill": {
     "duration": 0.135741,
     "end_time": "2021-09-24T01:32:35.102443",
     "exception": false,
     "start_time": "2021-09-24T01:32:34.966702",
     "status": "completed"
    },
    "tags": [
     "hide_input"
    ]
   },
   "outputs": [
    {
     "data": {
      "text/html": [
       "\n",
       "<div id=\"altair-viz-817e1e5773514ac093f779d1f45dacb6\"></div>\n",
       "<script type=\"text/javascript\">\n",
       "  (function(spec, embedOpt){\n",
       "    let outputDiv = document.currentScript.previousElementSibling;\n",
       "    if (outputDiv.id !== \"altair-viz-817e1e5773514ac093f779d1f45dacb6\") {\n",
       "      outputDiv = document.getElementById(\"altair-viz-817e1e5773514ac093f779d1f45dacb6\");\n",
       "    }\n",
       "    const paths = {\n",
       "      \"vega\": \"https://cdn.jsdelivr.net/npm//vega@5?noext\",\n",
       "      \"vega-lib\": \"https://cdn.jsdelivr.net/npm//vega-lib?noext\",\n",
       "      \"vega-lite\": \"https://cdn.jsdelivr.net/npm//vega-lite@4.8.1?noext\",\n",
       "      \"vega-embed\": \"https://cdn.jsdelivr.net/npm//vega-embed@6?noext\",\n",
       "    };\n",
       "\n",
       "    function loadScript(lib) {\n",
       "      return new Promise(function(resolve, reject) {\n",
       "        var s = document.createElement('script');\n",
       "        s.src = paths[lib];\n",
       "        s.async = true;\n",
       "        s.onload = () => resolve(paths[lib]);\n",
       "        s.onerror = () => reject(`Error loading script: ${paths[lib]}`);\n",
       "        document.getElementsByTagName(\"head\")[0].appendChild(s);\n",
       "      });\n",
       "    }\n",
       "\n",
       "    function showError(err) {\n",
       "      outputDiv.innerHTML = `<div class=\"error\" style=\"color:red;\">${err}</div>`;\n",
       "      throw err;\n",
       "    }\n",
       "\n",
       "    function displayChart(vegaEmbed) {\n",
       "      vegaEmbed(outputDiv, spec, embedOpt)\n",
       "        .catch(err => showError(`Javascript Error: ${err.message}<br>This usually means there's a typo in your chart specification. See the javascript console for the full traceback.`));\n",
       "    }\n",
       "\n",
       "    if(typeof define === \"function\" && define.amd) {\n",
       "      requirejs.config({paths});\n",
       "      require([\"vega-embed\"], displayChart, err => showError(`Error loading script: ${err.message}`));\n",
       "    } else if (typeof vegaEmbed === \"function\") {\n",
       "      displayChart(vegaEmbed);\n",
       "    } else {\n",
       "      loadScript(\"vega\")\n",
       "        .then(() => loadScript(\"vega-lite\"))\n",
       "        .then(() => loadScript(\"vega-embed\"))\n",
       "        .catch(showError)\n",
       "        .then(() => displayChart(vegaEmbed));\n",
       "    }\n",
       "  })({\"config\": {\"axisLeft\": {\"labelFontSize\": 15}, \"axisBottom\": {\"labelFontSize\": 15}}, \"layer\": [{\"data\": {\"name\": \"data-fb15c961e5b199906823cbb16b17dafb\"}, \"mark\": \"line\", \"encoding\": {\"color\": {\"type\": \"nominal\", \"field\": \"repo\"}, \"tooltip\": {\"type\": \"nominal\", \"field\": \"repo\"}, \"x\": {\"type\": \"temporal\", \"field\": \"createdAt\"}, \"y\": {\"type\": \"quantitative\", \"field\": \"count\"}}, \"width\": 600}, {\"data\": {\"name\": \"data-f2679470ef7be7a610cc6c805d0331ae\"}, \"mark\": {\"type\": \"line\", \"color\": \"black\"}, \"encoding\": {\"x\": {\"type\": \"temporal\", \"field\": \"createdAt\"}, \"y\": {\"type\": \"quantitative\", \"field\": \"count\"}}, \"width\": 600}], \"$schema\": \"https://vega.github.io/schema/vega-lite/v4.8.1.json\", \"datasets\": {\"data-fb15c961e5b199906823cbb16b17dafb\": [{\"repo\": \"MyST-NB\", \"createdAt\": \"2021-08-08T00:00:00\", \"count\": 2}, {\"repo\": \"MyST-NB\", \"createdAt\": \"2021-08-15T00:00:00\", \"count\": 0}, {\"repo\": \"MyST-NB\", \"createdAt\": \"2021-08-22T00:00:00\", \"count\": 0}, {\"repo\": \"MyST-NB\", \"createdAt\": \"2021-08-29T00:00:00\", \"count\": 9}, {\"repo\": \"MyST-NB\", \"createdAt\": \"2021-09-05T00:00:00\", \"count\": 2}, {\"repo\": \"MyST-NB\", \"createdAt\": \"2021-09-12T00:00:00\", \"count\": 0}, {\"repo\": \"MyST-NB\", \"createdAt\": \"2021-09-19T00:00:00\", \"count\": 1}, {\"repo\": \"MyST-Parser\", \"createdAt\": \"2021-08-15T00:00:00\", \"count\": 7}, {\"repo\": \"MyST-Parser\", \"createdAt\": \"2021-08-22T00:00:00\", \"count\": 11}, {\"repo\": \"MyST-Parser\", \"createdAt\": \"2021-08-29T00:00:00\", \"count\": 3}, {\"repo\": \"MyST-Parser\", \"createdAt\": \"2021-09-05T00:00:00\", \"count\": 1}, {\"repo\": \"MyST-Parser\", \"createdAt\": \"2021-09-12T00:00:00\", \"count\": 2}, {\"repo\": \"MyST-Parser\", \"createdAt\": \"2021-09-19T00:00:00\", \"count\": 1}, {\"repo\": \"MyST-Parser\", \"createdAt\": \"2021-09-26T00:00:00\", \"count\": 4}, {\"repo\": \"jupyter-book\", \"createdAt\": \"2021-08-08T00:00:00\", \"count\": 2}, {\"repo\": \"jupyter-book\", \"createdAt\": \"2021-08-15T00:00:00\", \"count\": 6}, {\"repo\": \"jupyter-book\", \"createdAt\": \"2021-08-22T00:00:00\", \"count\": 4}, {\"repo\": \"jupyter-book\", \"createdAt\": \"2021-08-29T00:00:00\", \"count\": 3}, {\"repo\": \"jupyter-book\", \"createdAt\": \"2021-09-05T00:00:00\", \"count\": 8}, {\"repo\": \"jupyter-book\", \"createdAt\": \"2021-09-12T00:00:00\", \"count\": 0}, {\"repo\": \"jupyter-book\", \"createdAt\": \"2021-09-19T00:00:00\", \"count\": 1}, {\"repo\": \"jupyter-cache\", \"createdAt\": \"2021-08-01T00:00:00\", \"count\": 1}, {\"repo\": \"jupyter-cache\", \"createdAt\": \"2021-08-08T00:00:00\", \"count\": 4}, {\"repo\": \"jupyter-cache\", \"createdAt\": \"2021-08-15T00:00:00\", \"count\": 0}, {\"repo\": \"jupyter-cache\", \"createdAt\": \"2021-08-22T00:00:00\", \"count\": 0}, {\"repo\": \"jupyter-cache\", \"createdAt\": \"2021-08-29T00:00:00\", \"count\": 1}, {\"repo\": \"jupyterlab\", \"createdAt\": \"2021-09-19T00:00:00\", \"count\": 1}, {\"repo\": \"jupyterlab-myst\", \"createdAt\": \"2021-09-19T00:00:00\", \"count\": 7}, {\"repo\": \"markdown-it-amsmath\", \"createdAt\": \"2021-09-12T00:00:00\", \"count\": 1}, {\"repo\": \"markdown-it-docutils\", \"createdAt\": \"2021-08-08T00:00:00\", \"count\": 3}, {\"repo\": \"markdown-it-dollarmath\", \"createdAt\": \"2021-09-12T00:00:00\", \"count\": 1}, {\"repo\": \"markdown-it-py\", \"createdAt\": \"2021-08-22T00:00:00\", \"count\": 1}, {\"repo\": \"markdown-it-py\", \"createdAt\": \"2021-08-29T00:00:00\", \"count\": 0}, {\"repo\": \"markdown-it-py\", \"createdAt\": \"2021-09-05T00:00:00\", \"count\": 0}, {\"repo\": \"markdown-it-py\", \"createdAt\": \"2021-09-12T00:00:00\", \"count\": 2}, {\"repo\": \"markdown-it-py\", \"createdAt\": \"2021-09-19T00:00:00\", \"count\": 3}, {\"repo\": \"mdformat\", \"createdAt\": \"2021-09-05T00:00:00\", \"count\": 1}, {\"repo\": \"meta\", \"createdAt\": \"2021-08-01T00:00:00\", \"count\": 3}, {\"repo\": \"meta\", \"createdAt\": \"2021-08-08T00:00:00\", \"count\": 7}, {\"repo\": \"meta\", \"createdAt\": \"2021-08-15T00:00:00\", \"count\": 1}, {\"repo\": \"meta\", \"createdAt\": \"2021-08-22T00:00:00\", \"count\": 0}, {\"repo\": \"meta\", \"createdAt\": \"2021-08-29T00:00:00\", \"count\": 0}, {\"repo\": \"meta\", \"createdAt\": \"2021-09-05T00:00:00\", \"count\": 0}, {\"repo\": \"meta\", \"createdAt\": \"2021-09-12T00:00:00\", \"count\": 1}, {\"repo\": \"meta\", \"createdAt\": \"2021-09-19T00:00:00\", \"count\": 0}, {\"repo\": \"meta\", \"createdAt\": \"2021-09-26T00:00:00\", \"count\": 1}, {\"repo\": \"nbclient\", \"createdAt\": \"2021-08-08T00:00:00\", \"count\": 2}, {\"repo\": \"nbclient\", \"createdAt\": \"2021-08-15T00:00:00\", \"count\": 0}, {\"repo\": \"nbclient\", \"createdAt\": \"2021-08-22T00:00:00\", \"count\": 0}, {\"repo\": \"nbclient\", \"createdAt\": \"2021-08-29T00:00:00\", \"count\": 0}, {\"repo\": \"nbclient\", \"createdAt\": \"2021-09-05T00:00:00\", \"count\": 0}, {\"repo\": \"nbclient\", \"createdAt\": \"2021-09-12T00:00:00\", \"count\": 0}, {\"repo\": \"nbclient\", \"createdAt\": \"2021-09-19T00:00:00\", \"count\": 7}, {\"repo\": \"rst-to-myst\", \"createdAt\": \"2021-08-22T00:00:00\", \"count\": 1}, {\"repo\": \"rst-to-myst\", \"createdAt\": \"2021-08-29T00:00:00\", \"count\": 0}, {\"repo\": \"rst-to-myst\", \"createdAt\": \"2021-09-05T00:00:00\", \"count\": 0}, {\"repo\": \"rst-to-myst\", \"createdAt\": \"2021-09-12T00:00:00\", \"count\": 0}, {\"repo\": \"rst-to-myst\", \"createdAt\": \"2021-09-19T00:00:00\", \"count\": 3}, {\"repo\": \"sphinx-book-theme\", \"createdAt\": \"2021-08-08T00:00:00\", \"count\": 11}, {\"repo\": \"sphinx-book-theme\", \"createdAt\": \"2021-08-15T00:00:00\", \"count\": 1}, {\"repo\": \"sphinx-book-theme\", \"createdAt\": \"2021-08-22T00:00:00\", \"count\": 5}, {\"repo\": \"sphinx-book-theme\", \"createdAt\": \"2021-08-29T00:00:00\", \"count\": 3}, {\"repo\": \"sphinx-book-theme\", \"createdAt\": \"2021-09-05T00:00:00\", \"count\": 4}, {\"repo\": \"sphinx-book-theme\", \"createdAt\": \"2021-09-12T00:00:00\", \"count\": 0}, {\"repo\": \"sphinx-book-theme\", \"createdAt\": \"2021-09-19T00:00:00\", \"count\": 0}, {\"repo\": \"sphinx-book-theme\", \"createdAt\": \"2021-09-26T00:00:00\", \"count\": 2}, {\"repo\": \"sphinx-design\", \"createdAt\": \"2021-08-08T00:00:00\", \"count\": 3}, {\"repo\": \"sphinx-design\", \"createdAt\": \"2021-08-15T00:00:00\", \"count\": 3}, {\"repo\": \"sphinx-design\", \"createdAt\": \"2021-08-22T00:00:00\", \"count\": 3}, {\"repo\": \"sphinx-design\", \"createdAt\": \"2021-08-29T00:00:00\", \"count\": 1}, {\"repo\": \"sphinx-design\", \"createdAt\": \"2021-09-05T00:00:00\", \"count\": 0}, {\"repo\": \"sphinx-design\", \"createdAt\": \"2021-09-12T00:00:00\", \"count\": 1}, {\"repo\": \"sphinx-design\", \"createdAt\": \"2021-09-19T00:00:00\", \"count\": 1}, {\"repo\": \"sphinx-external-toc\", \"createdAt\": \"2021-08-01T00:00:00\", \"count\": 1}, {\"repo\": \"sphinx-panels\", \"createdAt\": \"2021-08-01T00:00:00\", \"count\": 1}, {\"repo\": \"sphinx-panels\", \"createdAt\": \"2021-08-08T00:00:00\", \"count\": 1}, {\"repo\": \"sphinx-panels\", \"createdAt\": \"2021-08-15T00:00:00\", \"count\": 1}, {\"repo\": \"sphinx-panels\", \"createdAt\": \"2021-08-22T00:00:00\", \"count\": 1}, {\"repo\": \"sphinx-panels\", \"createdAt\": \"2021-08-29T00:00:00\", \"count\": 2}, {\"repo\": \"sphinx-tabs\", \"createdAt\": \"2021-09-12T00:00:00\", \"count\": 1}, {\"repo\": \"web-compile\", \"createdAt\": \"2021-09-26T00:00:00\", \"count\": 1}], \"data-f2679470ef7be7a610cc6c805d0331ae\": [{\"createdAt\": \"2021-08-01T00:00:00\", \"count\": 6}, {\"createdAt\": \"2021-08-08T00:00:00\", \"count\": 35}, {\"createdAt\": \"2021-08-15T00:00:00\", \"count\": 19}, {\"createdAt\": \"2021-08-22T00:00:00\", \"count\": 26}, {\"createdAt\": \"2021-08-29T00:00:00\", \"count\": 22}, {\"createdAt\": \"2021-09-05T00:00:00\", \"count\": 16}, {\"createdAt\": \"2021-09-12T00:00:00\", \"count\": 9}, {\"createdAt\": \"2021-09-19T00:00:00\", \"count\": 25}, {\"createdAt\": \"2021-09-26T00:00:00\", \"count\": 8}]}}, {\"mode\": \"vega-lite\"});\n",
       "</script>"
      ],
      "text/plain": [
       "alt.LayerChart(...)"
      ]
     },
     "execution_count": 13,
     "metadata": {},
     "output_type": "execute_result"
    }
   ],
   "source": [
    "comments_time = comments.groupby('repo').resample('W', on='createdAt').count()['author'].reset_index()\n",
    "comments_time = comments_time.rename(columns={'author': 'count'})\n",
    "comments_time_total = comments_time.groupby('createdAt').agg({\"count\": \"sum\"}).reset_index()\n",
    "ch1 = alt.Chart(comments_time, width=600).mark_line().encode(\n",
    "    x='createdAt',\n",
    "    y='count',\n",
    "    color='repo',\n",
    "    tooltip=\"repo\"\n",
    ")\n",
    "\n",
    "ch2 = alt.Chart(comments_time_total, width=600).mark_line(color=\"black\").encode(\n",
    "    x='createdAt',\n",
    "    y='count',\n",
    ")\n",
    "\n",
    "ch1 + ch2"
   ]
  },
  {
   "cell_type": "markdown",
   "id": "5a5f2572",
   "metadata": {
    "papermill": {
     "duration": 0.018594,
     "end_time": "2021-09-24T01:32:35.141519",
     "exception": false,
     "start_time": "2021-09-24T01:32:35.122925",
     "status": "completed"
    },
    "tags": []
   },
   "source": [
    "### PRs"
   ]
  },
  {
   "cell_type": "code",
   "execution_count": 14,
   "id": "bed0d2db",
   "metadata": {
    "execution": {
     "iopub.execute_input": "2021-09-24T01:32:35.188909Z",
     "iopub.status.busy": "2021-09-24T01:32:35.188275Z",
     "iopub.status.idle": "2021-09-24T01:32:35.280324Z",
     "shell.execute_reply": "2021-09-24T01:32:35.280852Z"
    },
    "papermill": {
     "duration": 0.120947,
     "end_time": "2021-09-24T01:32:35.281045",
     "exception": false,
     "start_time": "2021-09-24T01:32:35.160098",
     "status": "completed"
    },
    "tags": [
     "hide_input"
    ]
   },
   "outputs": [
    {
     "data": {
      "text/html": [
       "\n",
       "<div id=\"altair-viz-3e282c114e5e44c794a2489792667881\"></div>\n",
       "<script type=\"text/javascript\">\n",
       "  (function(spec, embedOpt){\n",
       "    let outputDiv = document.currentScript.previousElementSibling;\n",
       "    if (outputDiv.id !== \"altair-viz-3e282c114e5e44c794a2489792667881\") {\n",
       "      outputDiv = document.getElementById(\"altair-viz-3e282c114e5e44c794a2489792667881\");\n",
       "    }\n",
       "    const paths = {\n",
       "      \"vega\": \"https://cdn.jsdelivr.net/npm//vega@5?noext\",\n",
       "      \"vega-lib\": \"https://cdn.jsdelivr.net/npm//vega-lib?noext\",\n",
       "      \"vega-lite\": \"https://cdn.jsdelivr.net/npm//vega-lite@4.8.1?noext\",\n",
       "      \"vega-embed\": \"https://cdn.jsdelivr.net/npm//vega-embed@6?noext\",\n",
       "    };\n",
       "\n",
       "    function loadScript(lib) {\n",
       "      return new Promise(function(resolve, reject) {\n",
       "        var s = document.createElement('script');\n",
       "        s.src = paths[lib];\n",
       "        s.async = true;\n",
       "        s.onload = () => resolve(paths[lib]);\n",
       "        s.onerror = () => reject(`Error loading script: ${paths[lib]}`);\n",
       "        document.getElementsByTagName(\"head\")[0].appendChild(s);\n",
       "      });\n",
       "    }\n",
       "\n",
       "    function showError(err) {\n",
       "      outputDiv.innerHTML = `<div class=\"error\" style=\"color:red;\">${err}</div>`;\n",
       "      throw err;\n",
       "    }\n",
       "\n",
       "    function displayChart(vegaEmbed) {\n",
       "      vegaEmbed(outputDiv, spec, embedOpt)\n",
       "        .catch(err => showError(`Javascript Error: ${err.message}<br>This usually means there's a typo in your chart specification. See the javascript console for the full traceback.`));\n",
       "    }\n",
       "\n",
       "    if(typeof define === \"function\" && define.amd) {\n",
       "      requirejs.config({paths});\n",
       "      require([\"vega-embed\"], displayChart, err => showError(`Error loading script: ${err.message}`));\n",
       "    } else if (typeof vegaEmbed === \"function\") {\n",
       "      displayChart(vegaEmbed);\n",
       "    } else {\n",
       "      loadScript(\"vega\")\n",
       "        .then(() => loadScript(\"vega-lite\"))\n",
       "        .then(() => loadScript(\"vega-embed\"))\n",
       "        .catch(showError)\n",
       "        .then(() => displayChart(vegaEmbed));\n",
       "    }\n",
       "  })({\"config\": {\"axisLeft\": {\"labelFontSize\": 15}, \"axisBottom\": {\"labelFontSize\": 15}}, \"layer\": [{\"data\": {\"name\": \"data-8e19e73b80a081c48c15e048beeb6b1c\"}, \"mark\": \"line\", \"encoding\": {\"color\": {\"type\": \"nominal\", \"field\": \"repo\"}, \"tooltip\": {\"type\": \"nominal\", \"field\": \"repo\"}, \"x\": {\"type\": \"temporal\", \"field\": \"createdAt\"}, \"y\": {\"type\": \"quantitative\", \"field\": \"count\"}}, \"width\": 600}, {\"data\": {\"name\": \"data-e47cc1f9ee4f9bbc58f0931eeb520439\"}, \"mark\": {\"type\": \"line\", \"color\": \"black\"}, \"encoding\": {\"x\": {\"type\": \"temporal\", \"field\": \"createdAt\"}, \"y\": {\"type\": \"quantitative\", \"field\": \"count\"}}, \"width\": 600}], \"$schema\": \"https://vega.github.io/schema/vega-lite/v4.8.1.json\", \"datasets\": {\"data-8e19e73b80a081c48c15e048beeb6b1c\": [{\"repo\": \"MyST-Parser\", \"createdAt\": \"2021-08-08T00:00:00\", \"count\": 1}, {\"repo\": \"MyST-Parser\", \"createdAt\": \"2021-08-15T00:00:00\", \"count\": 0}, {\"repo\": \"MyST-Parser\", \"createdAt\": \"2021-08-22T00:00:00\", \"count\": 1}, {\"repo\": \"MyST-Parser\", \"createdAt\": \"2021-08-29T00:00:00\", \"count\": 1}, {\"repo\": \"extension-proposals\", \"createdAt\": \"2021-09-19T00:00:00\", \"count\": 1}, {\"repo\": \"jupyter-book\", \"createdAt\": \"2021-08-15T00:00:00\", \"count\": 1}, {\"repo\": \"jupyter-cache\", \"createdAt\": \"2021-08-01T00:00:00\", \"count\": 3}, {\"repo\": \"jupyter-cache\", \"createdAt\": \"2021-08-08T00:00:00\", \"count\": 1}, {\"repo\": \"meta\", \"createdAt\": \"2021-08-08T00:00:00\", \"count\": 1}, {\"repo\": \"nbclient\", \"createdAt\": \"2021-08-08T00:00:00\", \"count\": 1}, {\"repo\": \"nbclient\", \"createdAt\": \"2021-08-15T00:00:00\", \"count\": 0}, {\"repo\": \"nbclient\", \"createdAt\": \"2021-08-22T00:00:00\", \"count\": 0}, {\"repo\": \"nbclient\", \"createdAt\": \"2021-08-29T00:00:00\", \"count\": 0}, {\"repo\": \"nbclient\", \"createdAt\": \"2021-09-05T00:00:00\", \"count\": 0}, {\"repo\": \"nbclient\", \"createdAt\": \"2021-09-12T00:00:00\", \"count\": 0}, {\"repo\": \"nbclient\", \"createdAt\": \"2021-09-19T00:00:00\", \"count\": 2}, {\"repo\": \"nbformat\", \"createdAt\": \"2021-09-19T00:00:00\", \"count\": 1}, {\"repo\": \"rst-to-myst\", \"createdAt\": \"2021-08-22T00:00:00\", \"count\": 2}, {\"repo\": \"sphinx-book-theme\", \"createdAt\": \"2021-08-08T00:00:00\", \"count\": 2}, {\"repo\": \"sphinx-book-theme\", \"createdAt\": \"2021-08-15T00:00:00\", \"count\": 0}, {\"repo\": \"sphinx-book-theme\", \"createdAt\": \"2021-08-22T00:00:00\", \"count\": 1}, {\"repo\": \"sphinx-design\", \"createdAt\": \"2021-08-01T00:00:00\", \"count\": 3}, {\"repo\": \"sphinx-design\", \"createdAt\": \"2021-08-08T00:00:00\", \"count\": 7}, {\"repo\": \"sphinx-design\", \"createdAt\": \"2021-08-15T00:00:00\", \"count\": 2}, {\"repo\": \"sphinx-design\", \"createdAt\": \"2021-08-22T00:00:00\", \"count\": 1}, {\"repo\": \"sphinx-external-toc\", \"createdAt\": \"2021-08-01T00:00:00\", \"count\": 1}, {\"repo\": \"web-compile\", \"createdAt\": \"2021-09-26T00:00:00\", \"count\": 1}], \"data-e47cc1f9ee4f9bbc58f0931eeb520439\": [{\"createdAt\": \"2021-08-01T00:00:00\", \"count\": 7}, {\"createdAt\": \"2021-08-08T00:00:00\", \"count\": 13}, {\"createdAt\": \"2021-08-15T00:00:00\", \"count\": 3}, {\"createdAt\": \"2021-08-22T00:00:00\", \"count\": 5}, {\"createdAt\": \"2021-08-29T00:00:00\", \"count\": 1}, {\"createdAt\": \"2021-09-05T00:00:00\", \"count\": 0}, {\"createdAt\": \"2021-09-12T00:00:00\", \"count\": 0}, {\"createdAt\": \"2021-09-19T00:00:00\", \"count\": 4}, {\"createdAt\": \"2021-09-26T00:00:00\", \"count\": 1}]}}, {\"mode\": \"vega-lite\"});\n",
       "</script>"
      ],
      "text/plain": [
       "alt.LayerChart(...)"
      ]
     },
     "execution_count": 14,
     "metadata": {},
     "output_type": "execute_result"
    }
   ],
   "source": [
    "prs_time = prs.groupby('repo').resample('W', on='createdAt').count()['author'].reset_index()\n",
    "prs_time = prs_time.rename(columns={'author': 'count'})\n",
    "prs_time_total = prs_time.groupby('createdAt').agg({\"count\": \"sum\"}).reset_index()\n",
    "\n",
    "ch1 = alt.Chart(prs_time, width=600).mark_line().encode(\n",
    "    x='createdAt',\n",
    "    y='count',\n",
    "    color='repo',\n",
    "    tooltip=\"repo\"\n",
    ")\n",
    "\n",
    "ch2 = alt.Chart(prs_time_total, width=600).mark_line(color=\"black\").encode(\n",
    "    x='createdAt',\n",
    "    y='count',\n",
    ")\n",
    "\n",
    "ch1 + ch2"
   ]
  },
  {
   "cell_type": "code",
   "execution_count": 15,
   "id": "7702eb25",
   "metadata": {
    "execution": {
     "iopub.execute_input": "2021-09-24T01:32:35.324805Z",
     "iopub.status.busy": "2021-09-24T01:32:35.323982Z",
     "iopub.status.idle": "2021-09-24T01:32:35.402082Z",
     "shell.execute_reply": "2021-09-24T01:32:35.402618Z"
    },
    "papermill": {
     "duration": 0.101534,
     "end_time": "2021-09-24T01:32:35.402786",
     "exception": false,
     "start_time": "2021-09-24T01:32:35.301252",
     "status": "completed"
    },
    "tags": [
     "hide_input"
    ]
   },
   "outputs": [
    {
     "data": {
      "text/html": [
       "\n",
       "<div id=\"altair-viz-1ef16a8661fb492b91bd3097f7ccbbc6\"></div>\n",
       "<script type=\"text/javascript\">\n",
       "  (function(spec, embedOpt){\n",
       "    let outputDiv = document.currentScript.previousElementSibling;\n",
       "    if (outputDiv.id !== \"altair-viz-1ef16a8661fb492b91bd3097f7ccbbc6\") {\n",
       "      outputDiv = document.getElementById(\"altair-viz-1ef16a8661fb492b91bd3097f7ccbbc6\");\n",
       "    }\n",
       "    const paths = {\n",
       "      \"vega\": \"https://cdn.jsdelivr.net/npm//vega@5?noext\",\n",
       "      \"vega-lib\": \"https://cdn.jsdelivr.net/npm//vega-lib?noext\",\n",
       "      \"vega-lite\": \"https://cdn.jsdelivr.net/npm//vega-lite@4.8.1?noext\",\n",
       "      \"vega-embed\": \"https://cdn.jsdelivr.net/npm//vega-embed@6?noext\",\n",
       "    };\n",
       "\n",
       "    function loadScript(lib) {\n",
       "      return new Promise(function(resolve, reject) {\n",
       "        var s = document.createElement('script');\n",
       "        s.src = paths[lib];\n",
       "        s.async = true;\n",
       "        s.onload = () => resolve(paths[lib]);\n",
       "        s.onerror = () => reject(`Error loading script: ${paths[lib]}`);\n",
       "        document.getElementsByTagName(\"head\")[0].appendChild(s);\n",
       "      });\n",
       "    }\n",
       "\n",
       "    function showError(err) {\n",
       "      outputDiv.innerHTML = `<div class=\"error\" style=\"color:red;\">${err}</div>`;\n",
       "      throw err;\n",
       "    }\n",
       "\n",
       "    function displayChart(vegaEmbed) {\n",
       "      vegaEmbed(outputDiv, spec, embedOpt)\n",
       "        .catch(err => showError(`Javascript Error: ${err.message}<br>This usually means there's a typo in your chart specification. See the javascript console for the full traceback.`));\n",
       "    }\n",
       "\n",
       "    if(typeof define === \"function\" && define.amd) {\n",
       "      requirejs.config({paths});\n",
       "      require([\"vega-embed\"], displayChart, err => showError(`Error loading script: ${err.message}`));\n",
       "    } else if (typeof vegaEmbed === \"function\") {\n",
       "      displayChart(vegaEmbed);\n",
       "    } else {\n",
       "      loadScript(\"vega\")\n",
       "        .then(() => loadScript(\"vega-lite\"))\n",
       "        .then(() => loadScript(\"vega-embed\"))\n",
       "        .catch(showError)\n",
       "        .then(() => displayChart(vegaEmbed));\n",
       "    }\n",
       "  })({\"config\": {\"axisLeft\": {\"labelFontSize\": 15}, \"axisBottom\": {\"labelFontSize\": 15}}, \"data\": {\"name\": \"data-87b5954197e858a0d5839b5c7844e622\"}, \"mark\": \"line\", \"encoding\": {\"color\": {\"type\": \"nominal\", \"field\": \"repo\"}, \"tooltip\": {\"type\": \"nominal\", \"field\": \"repo\"}, \"x\": {\"type\": \"temporal\", \"field\": \"closedAt\"}, \"y\": {\"type\": \"quantitative\", \"field\": \"count\"}}, \"width\": 600, \"$schema\": \"https://vega.github.io/schema/vega-lite/v4.8.1.json\", \"datasets\": {\"data-87b5954197e858a0d5839b5c7844e622\": [{\"repo\": \"MyST-Parser\", \"closedAt\": \"2021-08-08T00:00:00\", \"count\": 1}, {\"repo\": \"MyST-Parser\", \"closedAt\": \"2021-08-15T00:00:00\", \"count\": 0}, {\"repo\": \"MyST-Parser\", \"closedAt\": \"2021-08-22T00:00:00\", \"count\": 1}, {\"repo\": \"MyST-Parser\", \"closedAt\": \"2021-08-29T00:00:00\", \"count\": 1}, {\"repo\": \"MyST-Parser\", \"closedAt\": \"2021-09-05T00:00:00\", \"count\": 1}, {\"repo\": \"jupyter-cache\", \"closedAt\": \"2021-08-01T00:00:00\", \"count\": 4}, {\"repo\": \"markdown-it-amsmath\", \"closedAt\": \"2021-09-12T00:00:00\", \"count\": 2}, {\"repo\": \"markdown-it-docutils\", \"closedAt\": \"2021-09-12T00:00:00\", \"count\": 1}, {\"repo\": \"markdown-it-py\", \"closedAt\": \"2021-08-22T00:00:00\", \"count\": 1}, {\"repo\": \"markdown-it-py\", \"closedAt\": \"2021-08-29T00:00:00\", \"count\": 0}, {\"repo\": \"markdown-it-py\", \"closedAt\": \"2021-09-05T00:00:00\", \"count\": 0}, {\"repo\": \"markdown-it-py\", \"closedAt\": \"2021-09-12T00:00:00\", \"count\": 1}, {\"repo\": \"mdit-py-plugins\", \"closedAt\": \"2021-09-12T00:00:00\", \"count\": 1}, {\"repo\": \"meta\", \"closedAt\": \"2021-08-08T00:00:00\", \"count\": 3}, {\"repo\": \"meta\", \"closedAt\": \"2021-08-15T00:00:00\", \"count\": 1}, {\"repo\": \"meta\", \"closedAt\": \"2021-08-22T00:00:00\", \"count\": 0}, {\"repo\": \"meta\", \"closedAt\": \"2021-08-29T00:00:00\", \"count\": 0}, {\"repo\": \"meta\", \"closedAt\": \"2021-09-05T00:00:00\", \"count\": 0}, {\"repo\": \"meta\", \"closedAt\": \"2021-09-12T00:00:00\", \"count\": 1}, {\"repo\": \"rst-to-myst\", \"closedAt\": \"2021-08-22T00:00:00\", \"count\": 2}, {\"repo\": \"sphinx-book-theme\", \"closedAt\": \"2021-08-08T00:00:00\", \"count\": 1}, {\"repo\": \"sphinx-design\", \"closedAt\": \"2021-08-01T00:00:00\", \"count\": 3}, {\"repo\": \"sphinx-design\", \"closedAt\": \"2021-08-08T00:00:00\", \"count\": 7}, {\"repo\": \"sphinx-design\", \"closedAt\": \"2021-08-15T00:00:00\", \"count\": 3}, {\"repo\": \"sphinx-design\", \"closedAt\": \"2021-08-22T00:00:00\", \"count\": 1}, {\"repo\": \"sphinx-external-toc\", \"closedAt\": \"2021-08-01T00:00:00\", \"count\": 1}, {\"repo\": \"web-compile\", \"closedAt\": \"2021-09-26T00:00:00\", \"count\": 2}]}}, {\"mode\": \"vega-lite\"});\n",
       "</script>"
      ],
      "text/plain": [
       "alt.Chart(...)"
      ]
     },
     "execution_count": 15,
     "metadata": {},
     "output_type": "execute_result"
    }
   ],
   "source": [
    "closed_by_time = closed_by.groupby('repo').resample('W', on='closedAt').count()['author'].reset_index()\n",
    "closed_by_time = closed_by_time.rename(columns={'author': 'count'})\n",
    "\n",
    "alt.Chart(closed_by_time, width=600).mark_line().encode(\n",
    "    x='closedAt',\n",
    "    y='count',\n",
    "    color='repo',\n",
    "    tooltip=\"repo\"\n",
    ")"
   ]
  },
  {
   "cell_type": "markdown",
   "id": "887b25c1",
   "metadata": {
    "papermill": {
     "duration": 0.020766,
     "end_time": "2021-09-24T01:32:35.442813",
     "exception": false,
     "start_time": "2021-09-24T01:32:35.422047",
     "status": "completed"
    },
    "tags": []
   },
   "source": [
    "## By type over time"
   ]
  },
  {
   "cell_type": "code",
   "execution_count": 16,
   "id": "c1626fdb",
   "metadata": {
    "execution": {
     "iopub.execute_input": "2021-09-24T01:32:35.488154Z",
     "iopub.status.busy": "2021-09-24T01:32:35.487352Z",
     "iopub.status.idle": "2021-09-24T01:32:35.508322Z",
     "shell.execute_reply": "2021-09-24T01:32:35.508792Z"
    },
    "papermill": {
     "duration": 0.044311,
     "end_time": "2021-09-24T01:32:35.508978",
     "exception": false,
     "start_time": "2021-09-24T01:32:35.464667",
     "status": "completed"
    },
    "tags": [
     "remove_cell"
    ]
   },
   "outputs": [],
   "source": [
    "prs_time = prs[['author', 'createdAt']].resample('W', on='createdAt').count()['author'].reset_index()\n",
    "prs_time = prs_time.rename(columns={'author': 'prs'})\n",
    "comments_time = comments[['author', 'createdAt']].resample('W', on='createdAt').count()['author'].reset_index()\n",
    "comments_time = comments_time.rename(columns={'author': 'comments'})\n",
    "\n",
    "total_time = pd.merge(prs_time, comments_time, on='createdAt', how='outer')\n",
    "total_time = total_time.melt(id_vars='createdAt', var_name=\"kind\", value_name=\"count\")\n"
   ]
  },
  {
   "cell_type": "code",
   "execution_count": 17,
   "id": "1718c39a",
   "metadata": {
    "execution": {
     "iopub.execute_input": "2021-09-24T01:32:35.573858Z",
     "iopub.status.busy": "2021-09-24T01:32:35.573180Z",
     "iopub.status.idle": "2021-09-24T01:32:35.577512Z",
     "shell.execute_reply": "2021-09-24T01:32:35.576941Z"
    },
    "papermill": {
     "duration": 0.049047,
     "end_time": "2021-09-24T01:32:35.577647",
     "exception": false,
     "start_time": "2021-09-24T01:32:35.528600",
     "status": "completed"
    },
    "tags": [
     "hide_input"
    ]
   },
   "outputs": [
    {
     "data": {
      "text/html": [
       "\n",
       "<div id=\"altair-viz-a3b59ba8a4944b379249e31ceb6aba82\"></div>\n",
       "<script type=\"text/javascript\">\n",
       "  (function(spec, embedOpt){\n",
       "    let outputDiv = document.currentScript.previousElementSibling;\n",
       "    if (outputDiv.id !== \"altair-viz-a3b59ba8a4944b379249e31ceb6aba82\") {\n",
       "      outputDiv = document.getElementById(\"altair-viz-a3b59ba8a4944b379249e31ceb6aba82\");\n",
       "    }\n",
       "    const paths = {\n",
       "      \"vega\": \"https://cdn.jsdelivr.net/npm//vega@5?noext\",\n",
       "      \"vega-lib\": \"https://cdn.jsdelivr.net/npm//vega-lib?noext\",\n",
       "      \"vega-lite\": \"https://cdn.jsdelivr.net/npm//vega-lite@4.8.1?noext\",\n",
       "      \"vega-embed\": \"https://cdn.jsdelivr.net/npm//vega-embed@6?noext\",\n",
       "    };\n",
       "\n",
       "    function loadScript(lib) {\n",
       "      return new Promise(function(resolve, reject) {\n",
       "        var s = document.createElement('script');\n",
       "        s.src = paths[lib];\n",
       "        s.async = true;\n",
       "        s.onload = () => resolve(paths[lib]);\n",
       "        s.onerror = () => reject(`Error loading script: ${paths[lib]}`);\n",
       "        document.getElementsByTagName(\"head\")[0].appendChild(s);\n",
       "      });\n",
       "    }\n",
       "\n",
       "    function showError(err) {\n",
       "      outputDiv.innerHTML = `<div class=\"error\" style=\"color:red;\">${err}</div>`;\n",
       "      throw err;\n",
       "    }\n",
       "\n",
       "    function displayChart(vegaEmbed) {\n",
       "      vegaEmbed(outputDiv, spec, embedOpt)\n",
       "        .catch(err => showError(`Javascript Error: ${err.message}<br>This usually means there's a typo in your chart specification. See the javascript console for the full traceback.`));\n",
       "    }\n",
       "\n",
       "    if(typeof define === \"function\" && define.amd) {\n",
       "      requirejs.config({paths});\n",
       "      require([\"vega-embed\"], displayChart, err => showError(`Error loading script: ${err.message}`));\n",
       "    } else if (typeof vegaEmbed === \"function\") {\n",
       "      displayChart(vegaEmbed);\n",
       "    } else {\n",
       "      loadScript(\"vega\")\n",
       "        .then(() => loadScript(\"vega-lite\"))\n",
       "        .then(() => loadScript(\"vega-embed\"))\n",
       "        .catch(showError)\n",
       "        .then(() => displayChart(vegaEmbed));\n",
       "    }\n",
       "  })({\"config\": {\"axisLeft\": {\"labelFontSize\": 15}, \"axisBottom\": {\"labelFontSize\": 15}}, \"data\": {\"name\": \"data-3bc551c0b6a2af9548f6fb14e8faccb7\"}, \"mark\": \"line\", \"encoding\": {\"color\": {\"type\": \"nominal\", \"field\": \"kind\"}, \"x\": {\"type\": \"temporal\", \"field\": \"createdAt\"}, \"y\": {\"type\": \"quantitative\", \"field\": \"count\"}}, \"width\": 600, \"$schema\": \"https://vega.github.io/schema/vega-lite/v4.8.1.json\", \"datasets\": {\"data-3bc551c0b6a2af9548f6fb14e8faccb7\": [{\"createdAt\": \"2021-08-01T00:00:00\", \"kind\": \"prs\", \"count\": 7}, {\"createdAt\": \"2021-08-08T00:00:00\", \"kind\": \"prs\", \"count\": 13}, {\"createdAt\": \"2021-08-15T00:00:00\", \"kind\": \"prs\", \"count\": 3}, {\"createdAt\": \"2021-08-22T00:00:00\", \"kind\": \"prs\", \"count\": 5}, {\"createdAt\": \"2021-08-29T00:00:00\", \"kind\": \"prs\", \"count\": 1}, {\"createdAt\": \"2021-09-05T00:00:00\", \"kind\": \"prs\", \"count\": 0}, {\"createdAt\": \"2021-09-12T00:00:00\", \"kind\": \"prs\", \"count\": 0}, {\"createdAt\": \"2021-09-19T00:00:00\", \"kind\": \"prs\", \"count\": 4}, {\"createdAt\": \"2021-09-26T00:00:00\", \"kind\": \"prs\", \"count\": 1}, {\"createdAt\": \"2021-08-01T00:00:00\", \"kind\": \"comments\", \"count\": 6}, {\"createdAt\": \"2021-08-08T00:00:00\", \"kind\": \"comments\", \"count\": 35}, {\"createdAt\": \"2021-08-15T00:00:00\", \"kind\": \"comments\", \"count\": 19}, {\"createdAt\": \"2021-08-22T00:00:00\", \"kind\": \"comments\", \"count\": 26}, {\"createdAt\": \"2021-08-29T00:00:00\", \"kind\": \"comments\", \"count\": 22}, {\"createdAt\": \"2021-09-05T00:00:00\", \"kind\": \"comments\", \"count\": 16}, {\"createdAt\": \"2021-09-12T00:00:00\", \"kind\": \"comments\", \"count\": 9}, {\"createdAt\": \"2021-09-19T00:00:00\", \"kind\": \"comments\", \"count\": 25}, {\"createdAt\": \"2021-09-26T00:00:00\", \"kind\": \"comments\", \"count\": 8}]}}, {\"mode\": \"vega-lite\"});\n",
       "</script>"
      ],
      "text/plain": [
       "alt.Chart(...)"
      ]
     },
     "execution_count": 17,
     "metadata": {},
     "output_type": "execute_result"
    }
   ],
   "source": [
    "alt.Chart(total_time, width=600).mark_line().encode(\n",
    "    x='createdAt',\n",
    "    y='count',\n",
    "    color='kind'\n",
    ")"
   ]
  }
 ],
 "metadata": {
  "kernelspec": {
   "display_name": "Python 3",
   "language": "python",
   "name": "python3"
  },
  "language_info": {
   "codemirror_mode": {
    "name": "ipython",
    "version": 3
   },
   "file_extension": ".py",
   "mimetype": "text/x-python",
   "name": "python",
   "nbconvert_exporter": "python",
   "pygments_lexer": "ipython3",
   "version": "3.7.12"
  },
  "papermill": {
   "default_parameters": {},
   "duration": 4.184233,
   "end_time": "2021-09-24T01:32:35.910099",
   "environment_variables": {},
   "exception": null,
   "input_path": "./person.ipynb",
   "output_path": "people/chrisjsewell.ipynb",
   "parameters": {
    "n_days": 60,
    "person": "chrisjsewell"
   },
   "start_time": "2021-09-24T01:32:31.725866",
   "version": "2.3.3"
  },
  "widgets": {
   "application/vnd.jupyter.widget-state+json": {
    "state": {},
    "version_major": 2,
    "version_minor": 0
   }
  }
 },
 "nbformat": 4,
 "nbformat_minor": 5
}