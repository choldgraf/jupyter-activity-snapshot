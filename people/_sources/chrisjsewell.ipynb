{
 "cells": [
  {
   "cell_type": "markdown",
   "id": "absolute-reply",
   "metadata": {
    "papermill": {
     "duration": 0.014503,
     "end_time": "2021-02-04T01:40:37.500788",
     "exception": false,
     "start_time": "2021-02-04T01:40:37.486285",
     "status": "completed"
    },
    "tags": []
   },
   "source": [
    "# Report for chrisjsewell"
   ]
  },
  {
   "cell_type": "code",
   "execution_count": 1,
   "id": "olympic-application",
   "metadata": {
    "execution": {
     "iopub.execute_input": "2021-02-04T01:40:37.539628Z",
     "iopub.status.busy": "2021-02-04T01:40:37.539058Z",
     "iopub.status.idle": "2021-02-04T01:40:38.453765Z",
     "shell.execute_reply": "2021-02-04T01:40:38.453150Z"
    },
    "papermill": {
     "duration": 0.937151,
     "end_time": "2021-02-04T01:40:38.453972",
     "exception": false,
     "start_time": "2021-02-04T01:40:37.516821",
     "status": "completed"
    },
    "tags": [
     "remove_cell"
    ]
   },
   "outputs": [],
   "source": [
    "import seaborn as sns\n",
    "import pandas as pd\n",
    "import numpy as np\n",
    "import altair as alt\n",
    "from markdown import markdown\n",
    "from IPython.display import Markdown\n",
    "from ipywidgets.widgets import HTML, Tab\n",
    "from ipywidgets import widgets\n",
    "from datetime import timedelta\n",
    "from matplotlib import pyplot as plt\n",
    "import os.path as op\n",
    "\n",
    "from mycode import alt_theme\n",
    "from warnings import simplefilter\n",
    "simplefilter('ignore')"
   ]
  },
  {
   "cell_type": "code",
   "execution_count": 2,
   "id": "alpha-reliance",
   "metadata": {
    "execution": {
     "iopub.execute_input": "2021-02-04T01:40:38.489406Z",
     "iopub.status.busy": "2021-02-04T01:40:38.488801Z",
     "iopub.status.idle": "2021-02-04T01:40:38.491442Z",
     "shell.execute_reply": "2021-02-04T01:40:38.490875Z"
    },
    "papermill": {
     "duration": 0.020957,
     "end_time": "2021-02-04T01:40:38.491580",
     "exception": false,
     "start_time": "2021-02-04T01:40:38.470623",
     "status": "completed"
    },
    "tags": [
     "remove_cell"
    ]
   },
   "outputs": [],
   "source": [
    "def author_url(author):\n",
    "    return f\"https://github.com/{author}\""
   ]
  },
  {
   "cell_type": "code",
   "execution_count": 3,
   "id": "chicken-biodiversity",
   "metadata": {
    "execution": {
     "iopub.execute_input": "2021-02-04T01:40:38.527458Z",
     "iopub.status.busy": "2021-02-04T01:40:38.526865Z",
     "iopub.status.idle": "2021-02-04T01:40:38.529745Z",
     "shell.execute_reply": "2021-02-04T01:40:38.530188Z"
    },
    "papermill": {
     "duration": 0.024281,
     "end_time": "2021-02-04T01:40:38.530401",
     "exception": false,
     "start_time": "2021-02-04T01:40:38.506120",
     "status": "completed"
    },
    "tags": [
     "parameters",
     "hide_input"
    ]
   },
   "outputs": [],
   "source": [
    "# Parameters\n",
    "fmt_date = \"{:%Y-%m-%d}\"\n",
    "\n",
    "n_days = 30 * 2\n",
    "start_date = fmt_date.format(pd.datetime.today() - timedelta(days=n_days))\n",
    "end_date = fmt_date.format(pd.datetime.today())\n",
    "\n",
    "renderer = \"html\"\n",
    "person = \"jasongrout\""
   ]
  },
  {
   "cell_type": "code",
   "execution_count": 4,
   "id": "meaningful-answer",
   "metadata": {
    "execution": {
     "iopub.execute_input": "2021-02-04T01:40:38.564970Z",
     "iopub.status.busy": "2021-02-04T01:40:38.564411Z",
     "iopub.status.idle": "2021-02-04T01:40:38.566223Z",
     "shell.execute_reply": "2021-02-04T01:40:38.566734Z"
    },
    "papermill": {
     "duration": 0.019982,
     "end_time": "2021-02-04T01:40:38.566889",
     "exception": false,
     "start_time": "2021-02-04T01:40:38.546907",
     "status": "completed"
    },
    "tags": [
     "injected-parameters",
     "remove-cell"
    ]
   },
   "outputs": [],
   "source": [
    "# Parameters\n",
    "person = \"chrisjsewell\"\n",
    "n_days = 60\n"
   ]
  },
  {
   "cell_type": "code",
   "execution_count": 5,
   "id": "impressed-poetry",
   "metadata": {
    "execution": {
     "iopub.execute_input": "2021-02-04T01:40:38.607644Z",
     "iopub.status.busy": "2021-02-04T01:40:38.607059Z",
     "iopub.status.idle": "2021-02-04T01:40:38.609584Z",
     "shell.execute_reply": "2021-02-04T01:40:38.610076Z"
    },
    "papermill": {
     "duration": 0.027615,
     "end_time": "2021-02-04T01:40:38.610234",
     "exception": false,
     "start_time": "2021-02-04T01:40:38.582619",
     "status": "completed"
    },
    "tags": [
     "remove_cell"
    ]
   },
   "outputs": [
    {
     "data": {
      "text/plain": [
       "ThemeRegistry.enable('my_theme')"
      ]
     },
     "execution_count": 5,
     "metadata": {},
     "output_type": "execute_result"
    }
   ],
   "source": [
    "alt.renderers.enable(renderer);\n",
    "alt.themes.register('my_theme', alt_theme)\n",
    "alt.themes.enable(\"my_theme\")"
   ]
  },
  {
   "cell_type": "markdown",
   "id": "allied-raising",
   "metadata": {
    "papermill": {
     "duration": 0.015003,
     "end_time": "2021-02-04T01:40:38.639867",
     "exception": false,
     "start_time": "2021-02-04T01:40:38.624864",
     "status": "completed"
    },
    "tags": []
   },
   "source": [
    "## Load data"
   ]
  },
  {
   "cell_type": "code",
   "execution_count": 6,
   "id": "derived-entry",
   "metadata": {
    "execution": {
     "iopub.execute_input": "2021-02-04T01:40:38.677116Z",
     "iopub.status.busy": "2021-02-04T01:40:38.676463Z",
     "iopub.status.idle": "2021-02-04T01:40:38.834948Z",
     "shell.execute_reply": "2021-02-04T01:40:38.835466Z"
    },
    "papermill": {
     "duration": 0.179646,
     "end_time": "2021-02-04T01:40:38.835675",
     "exception": false,
     "start_time": "2021-02-04T01:40:38.656029",
     "status": "completed"
    },
    "tags": [
     "remove_cell"
    ]
   },
   "outputs": [],
   "source": [
    "from pathlib import Path\n",
    "path_data = Path(\"./\")\n",
    "comments = pd.read_csv(path_data.joinpath('comments.csv'), index_col=0)\n",
    "issues = pd.read_csv(path_data.joinpath('issues.csv'), index_col=0)\n",
    "prs = pd.read_csv(path_data.joinpath('prs.csv'), index_col=0)\n",
    "\n",
    "comments = comments.query('author == @person').drop_duplicates()\n",
    "issues = issues.query('author == @person').drop_duplicates()\n",
    "closed_by = prs.query('mergedBy == @person')\n",
    "prs = prs.query('author == @person').drop_duplicates()"
   ]
  },
  {
   "cell_type": "code",
   "execution_count": 7,
   "id": "african-eagle",
   "metadata": {
    "execution": {
     "iopub.execute_input": "2021-02-04T01:40:38.899865Z",
     "iopub.status.busy": "2021-02-04T01:40:38.892378Z",
     "iopub.status.idle": "2021-02-04T01:40:38.925096Z",
     "shell.execute_reply": "2021-02-04T01:40:38.925541Z"
    },
    "papermill": {
     "duration": 0.073522,
     "end_time": "2021-02-04T01:40:38.925705",
     "exception": false,
     "start_time": "2021-02-04T01:40:38.852183",
     "status": "completed"
    },
    "tags": [
     "remove_cell"
    ]
   },
   "outputs": [],
   "source": [
    "# Time columns\n",
    "# Also drop dates outside of our range\n",
    "time_columns = ['updatedAt', 'createdAt', 'closedAt']\n",
    "for col in time_columns:\n",
    "    for item in [comments, issues, prs, closed_by]:\n",
    "        if col not in item.columns:\n",
    "            continue\n",
    "        dt = pd.to_datetime(item[col]).dt.tz_localize(None)\n",
    "        item[col] = dt\n",
    "        item.query(\"updatedAt < @end_date and updatedAt > @start_date\", inplace=True)"
   ]
  },
  {
   "cell_type": "markdown",
   "id": "polar-particular",
   "metadata": {
    "papermill": {
     "duration": 0.015146,
     "end_time": "2021-02-04T01:40:38.955455",
     "exception": false,
     "start_time": "2021-02-04T01:40:38.940309",
     "status": "completed"
    },
    "tags": []
   },
   "source": [
    "## Repository summaries"
   ]
  },
  {
   "cell_type": "code",
   "execution_count": 8,
   "id": "sharing-friendly",
   "metadata": {
    "execution": {
     "iopub.execute_input": "2021-02-04T01:40:38.990831Z",
     "iopub.status.busy": "2021-02-04T01:40:38.990218Z",
     "iopub.status.idle": "2021-02-04T01:40:39.013126Z",
     "shell.execute_reply": "2021-02-04T01:40:39.012604Z"
    },
    "papermill": {
     "duration": 0.041381,
     "end_time": "2021-02-04T01:40:39.013278",
     "exception": false,
     "start_time": "2021-02-04T01:40:38.971897",
     "status": "completed"
    },
    "tags": [
     "remove_cell"
    ]
   },
   "outputs": [],
   "source": [
    "summaries = []\n",
    "for idata, name in [(issues, 'issues'), (prs, 'prs'), (comments, 'comments')]:\n",
    "    idata = idata.groupby([\"repo\", \"org\"]).agg({'id': \"count\"}).reset_index().rename(columns={'id': 'count'})\n",
    "    idata[\"kind\"] = name\n",
    "    summaries.append(idata)\n",
    "summaries = pd.concat(summaries)"
   ]
  },
  {
   "cell_type": "code",
   "execution_count": 9,
   "id": "level-prize",
   "metadata": {
    "execution": {
     "iopub.execute_input": "2021-02-04T01:40:39.051559Z",
     "iopub.status.busy": "2021-02-04T01:40:39.050992Z",
     "iopub.status.idle": "2021-02-04T01:40:39.058216Z",
     "shell.execute_reply": "2021-02-04T01:40:39.058734Z"
    },
    "papermill": {
     "duration": 0.03028,
     "end_time": "2021-02-04T01:40:39.058896",
     "exception": false,
     "start_time": "2021-02-04T01:40:39.028616",
     "status": "completed"
    },
    "tags": [
     "remove_cell"
    ]
   },
   "outputs": [],
   "source": [
    "repo_summaries = summaries.groupby([\"repo\", \"kind\"]).agg({\"count\": \"sum\"}).reset_index()\n",
    "org_summaries = summaries.groupby([\"org\", \"kind\"]).agg({\"count\": \"sum\"}).reset_index()"
   ]
  },
  {
   "cell_type": "code",
   "execution_count": 10,
   "id": "worse-merchandise",
   "metadata": {
    "execution": {
     "iopub.execute_input": "2021-02-04T01:40:39.096078Z",
     "iopub.status.busy": "2021-02-04T01:40:39.095515Z",
     "iopub.status.idle": "2021-02-04T01:40:39.099751Z",
     "shell.execute_reply": "2021-02-04T01:40:39.100218Z"
    },
    "papermill": {
     "duration": 0.0245,
     "end_time": "2021-02-04T01:40:39.100376",
     "exception": false,
     "start_time": "2021-02-04T01:40:39.075876",
     "status": "completed"
    },
    "tags": [
     "remove_cell"
    ]
   },
   "outputs": [],
   "source": [
    "repo_summaries['logcount'] = np.log(repo_summaries[\"count\"])"
   ]
  },
  {
   "cell_type": "code",
   "execution_count": 11,
   "id": "mobile-concentration",
   "metadata": {
    "execution": {
     "iopub.execute_input": "2021-02-04T01:40:39.152998Z",
     "iopub.status.busy": "2021-02-04T01:40:39.142833Z",
     "iopub.status.idle": "2021-02-04T01:40:39.184836Z",
     "shell.execute_reply": "2021-02-04T01:40:39.185307Z"
    },
    "papermill": {
     "duration": 0.070165,
     "end_time": "2021-02-04T01:40:39.185477",
     "exception": false,
     "start_time": "2021-02-04T01:40:39.115312",
     "status": "completed"
    },
    "tags": [
     "hide_input"
    ]
   },
   "outputs": [
    {
     "data": {
      "text/html": [
       "\n",
       "<div id=\"altair-viz-2aa41f0bc2904a5d919e002fa714e93d\"></div>\n",
       "<script type=\"text/javascript\">\n",
       "  (function(spec, embedOpt){\n",
       "    let outputDiv = document.currentScript.previousElementSibling;\n",
       "    if (outputDiv.id !== \"altair-viz-2aa41f0bc2904a5d919e002fa714e93d\") {\n",
       "      outputDiv = document.getElementById(\"altair-viz-2aa41f0bc2904a5d919e002fa714e93d\");\n",
       "    }\n",
       "    const paths = {\n",
       "      \"vega\": \"https://cdn.jsdelivr.net/npm//vega@5?noext\",\n",
       "      \"vega-lib\": \"https://cdn.jsdelivr.net/npm//vega-lib?noext\",\n",
       "      \"vega-lite\": \"https://cdn.jsdelivr.net/npm//vega-lite@4.8.1?noext\",\n",
       "      \"vega-embed\": \"https://cdn.jsdelivr.net/npm//vega-embed@6?noext\",\n",
       "    };\n",
       "\n",
       "    function loadScript(lib) {\n",
       "      return new Promise(function(resolve, reject) {\n",
       "        var s = document.createElement('script');\n",
       "        s.src = paths[lib];\n",
       "        s.async = true;\n",
       "        s.onload = () => resolve(paths[lib]);\n",
       "        s.onerror = () => reject(`Error loading script: ${paths[lib]}`);\n",
       "        document.getElementsByTagName(\"head\")[0].appendChild(s);\n",
       "      });\n",
       "    }\n",
       "\n",
       "    function showError(err) {\n",
       "      outputDiv.innerHTML = `<div class=\"error\" style=\"color:red;\">${err}</div>`;\n",
       "      throw err;\n",
       "    }\n",
       "\n",
       "    function displayChart(vegaEmbed) {\n",
       "      vegaEmbed(outputDiv, spec, embedOpt)\n",
       "        .catch(err => showError(`Javascript Error: ${err.message}<br>This usually means there's a typo in your chart specification. See the javascript console for the full traceback.`));\n",
       "    }\n",
       "\n",
       "    if(typeof define === \"function\" && define.amd) {\n",
       "      requirejs.config({paths});\n",
       "      require([\"vega-embed\"], displayChart, err => showError(`Error loading script: ${err.message}`));\n",
       "    } else if (typeof vegaEmbed === \"function\") {\n",
       "      displayChart(vegaEmbed);\n",
       "    } else {\n",
       "      loadScript(\"vega\")\n",
       "        .then(() => loadScript(\"vega-lite\"))\n",
       "        .then(() => loadScript(\"vega-embed\"))\n",
       "        .catch(showError)\n",
       "        .then(() => displayChart(vegaEmbed));\n",
       "    }\n",
       "  })({\"config\": {\"axisLeft\": {\"labelFontSize\": 15}, \"axisBottom\": {\"labelFontSize\": 15}}, \"hconcat\": [{\"mark\": \"bar\", \"encoding\": {\"color\": {\"type\": \"nominal\", \"field\": \"kind\"}, \"tooltip\": {\"type\": \"nominal\", \"field\": \"kind\"}, \"x\": {\"type\": \"nominal\", \"field\": \"repo\"}, \"y\": {\"type\": \"quantitative\", \"field\": \"count\"}}, \"title\": \"Activity per repository\", \"width\": 600}, {\"mark\": \"bar\", \"encoding\": {\"color\": {\"type\": \"nominal\", \"field\": \"kind\"}, \"tooltip\": {\"type\": \"nominal\", \"field\": \"kind\"}, \"x\": {\"type\": \"nominal\", \"field\": \"repo\"}, \"y\": {\"type\": \"quantitative\", \"field\": \"logcount\"}}, \"title\": \"Log activity per repository\", \"width\": 600}], \"data\": {\"name\": \"data-45fd97d4615f4f238d4c7e1a099d2970\"}, \"$schema\": \"https://vega.github.io/schema/vega-lite/v4.8.1.json\", \"datasets\": {\"data-45fd97d4615f4f238d4c7e1a099d2970\": [{\"repo\": \"MyST-NB\", \"kind\": \"comments\", \"count\": 14, \"logcount\": 2.6390573296152584}, {\"repo\": \"MyST-NB\", \"kind\": \"issues\", \"count\": 1, \"logcount\": 0.0}, {\"repo\": \"MyST-NB\", \"kind\": \"prs\", \"count\": 4, \"logcount\": 1.3862943611198906}, {\"repo\": \"MyST-Parser\", \"kind\": \"comments\", \"count\": 39, \"logcount\": 3.6635616461296463}, {\"repo\": \"MyST-Parser\", \"kind\": \"issues\", \"count\": 3, \"logcount\": 1.0986122886681098}, {\"repo\": \"MyST-Parser\", \"kind\": \"prs\", \"count\": 15, \"logcount\": 2.70805020110221}, {\"repo\": \"jupyter-book\", \"kind\": \"comments\", \"count\": 69, \"logcount\": 4.23410650459726}, {\"repo\": \"jupyter-book\", \"kind\": \"issues\", \"count\": 3, \"logcount\": 1.0986122886681098}, {\"repo\": \"jupyter-book\", \"kind\": \"prs\", \"count\": 1, \"logcount\": 0.0}, {\"repo\": \"jupyter-cache\", \"kind\": \"comments\", \"count\": 1, \"logcount\": 0.0}, {\"repo\": \"jupyter-cache\", \"kind\": \"prs\", \"count\": 1, \"logcount\": 0.0}, {\"repo\": \"markdown-it-py\", \"kind\": \"comments\", \"count\": 28, \"logcount\": 3.332204510175204}, {\"repo\": \"markdown-it-py\", \"kind\": \"issues\", \"count\": 5, \"logcount\": 1.6094379124341003}, {\"repo\": \"markdown-it-py\", \"kind\": \"prs\", \"count\": 7, \"logcount\": 1.9459101490553132}, {\"repo\": \"mdformat-tables\", \"kind\": \"comments\", \"count\": 1, \"logcount\": 0.0}, {\"repo\": \"mdformat-tables\", \"kind\": \"prs\", \"count\": 1, \"logcount\": 0.0}, {\"repo\": \"mdit-py-plugins\", \"kind\": \"comments\", \"count\": 4, \"logcount\": 1.3862943611198906}, {\"repo\": \"mdit-py-plugins\", \"kind\": \"issues\", \"count\": 1, \"logcount\": 0.0}, {\"repo\": \"mdit-py-plugins\", \"kind\": \"prs\", \"count\": 2, \"logcount\": 0.6931471805599453}, {\"repo\": \"meta\", \"kind\": \"comments\", \"count\": 11, \"logcount\": 2.3978952727983707}, {\"repo\": \"meta\", \"kind\": \"prs\", \"count\": 1, \"logcount\": 0.0}, {\"repo\": \"rst-to-myst\", \"kind\": \"comments\", \"count\": 8, \"logcount\": 2.0794415416798357}, {\"repo\": \"rst-to-myst\", \"kind\": \"issues\", \"count\": 4, \"logcount\": 1.3862943611198906}, {\"repo\": \"rst-to-myst\", \"kind\": \"prs\", \"count\": 6, \"logcount\": 1.791759469228055}, {\"repo\": \"sphinx-book-theme\", \"kind\": \"comments\", \"count\": 6, \"logcount\": 1.791759469228055}, {\"repo\": \"sphinx-book-theme\", \"kind\": \"issues\", \"count\": 2, \"logcount\": 0.6931471805599453}, {\"repo\": \"sphinx-book-theme\", \"kind\": \"prs\", \"count\": 3, \"logcount\": 1.0986122886681098}, {\"repo\": \"sphinx-copybutton\", \"kind\": \"comments\", \"count\": 3, \"logcount\": 1.0986122886681098}, {\"repo\": \"sphinx-tabs\", \"kind\": \"comments\", \"count\": 4, \"logcount\": 1.3862943611198906}, {\"repo\": \"zero-to-jupyterhub-k8s\", \"kind\": \"comments\", \"count\": 1, \"logcount\": 0.0}]}}, {\"mode\": \"vega-lite\"});\n",
       "</script>"
      ],
      "text/plain": [
       "alt.HConcatChart(...)"
      ]
     },
     "execution_count": 11,
     "metadata": {},
     "output_type": "execute_result"
    }
   ],
   "source": [
    "ch1 = alt.Chart(repo_summaries, width=600, title=\"Activity per repository\").mark_bar().encode(\n",
    "    x='repo',\n",
    "    y='count',\n",
    "    color='kind',\n",
    "    tooltip=\"kind\"\n",
    ")\n",
    "\n",
    "ch2 = alt.Chart(repo_summaries, width=600, title=\"Log activity per repository\").mark_bar().encode(\n",
    "    x='repo',\n",
    "    y='logcount',\n",
    "    color='kind',\n",
    "    tooltip=\"kind\"\n",
    ")\n",
    "\n",
    "ch1 | ch2"
   ]
  },
  {
   "cell_type": "code",
   "execution_count": 12,
   "id": "alpine-tract",
   "metadata": {
    "execution": {
     "iopub.execute_input": "2021-02-04T01:40:39.246350Z",
     "iopub.status.busy": "2021-02-04T01:40:39.236320Z",
     "iopub.status.idle": "2021-02-04T01:40:39.256144Z",
     "shell.execute_reply": "2021-02-04T01:40:39.256656Z"
    },
    "papermill": {
     "duration": 0.0538,
     "end_time": "2021-02-04T01:40:39.256816",
     "exception": false,
     "start_time": "2021-02-04T01:40:39.203016",
     "status": "completed"
    },
    "tags": [
     "hide_input"
    ]
   },
   "outputs": [
    {
     "data": {
      "text/html": [
       "\n",
       "<div id=\"altair-viz-22d877a04eca4e1a81e1a3832135b878\"></div>\n",
       "<script type=\"text/javascript\">\n",
       "  (function(spec, embedOpt){\n",
       "    let outputDiv = document.currentScript.previousElementSibling;\n",
       "    if (outputDiv.id !== \"altair-viz-22d877a04eca4e1a81e1a3832135b878\") {\n",
       "      outputDiv = document.getElementById(\"altair-viz-22d877a04eca4e1a81e1a3832135b878\");\n",
       "    }\n",
       "    const paths = {\n",
       "      \"vega\": \"https://cdn.jsdelivr.net/npm//vega@5?noext\",\n",
       "      \"vega-lib\": \"https://cdn.jsdelivr.net/npm//vega-lib?noext\",\n",
       "      \"vega-lite\": \"https://cdn.jsdelivr.net/npm//vega-lite@4.8.1?noext\",\n",
       "      \"vega-embed\": \"https://cdn.jsdelivr.net/npm//vega-embed@6?noext\",\n",
       "    };\n",
       "\n",
       "    function loadScript(lib) {\n",
       "      return new Promise(function(resolve, reject) {\n",
       "        var s = document.createElement('script');\n",
       "        s.src = paths[lib];\n",
       "        s.async = true;\n",
       "        s.onload = () => resolve(paths[lib]);\n",
       "        s.onerror = () => reject(`Error loading script: ${paths[lib]}`);\n",
       "        document.getElementsByTagName(\"head\")[0].appendChild(s);\n",
       "      });\n",
       "    }\n",
       "\n",
       "    function showError(err) {\n",
       "      outputDiv.innerHTML = `<div class=\"error\" style=\"color:red;\">${err}</div>`;\n",
       "      throw err;\n",
       "    }\n",
       "\n",
       "    function displayChart(vegaEmbed) {\n",
       "      vegaEmbed(outputDiv, spec, embedOpt)\n",
       "        .catch(err => showError(`Javascript Error: ${err.message}<br>This usually means there's a typo in your chart specification. See the javascript console for the full traceback.`));\n",
       "    }\n",
       "\n",
       "    if(typeof define === \"function\" && define.amd) {\n",
       "      requirejs.config({paths});\n",
       "      require([\"vega-embed\"], displayChart, err => showError(`Error loading script: ${err.message}`));\n",
       "    } else if (typeof vegaEmbed === \"function\") {\n",
       "      displayChart(vegaEmbed);\n",
       "    } else {\n",
       "      loadScript(\"vega\")\n",
       "        .then(() => loadScript(\"vega-lite\"))\n",
       "        .then(() => loadScript(\"vega-embed\"))\n",
       "        .catch(showError)\n",
       "        .then(() => displayChart(vegaEmbed));\n",
       "    }\n",
       "  })({\"config\": {\"axisLeft\": {\"labelFontSize\": 15}, \"axisBottom\": {\"labelFontSize\": 15}}, \"data\": {\"name\": \"data-89692d86d54dfc132e52229fa49b255a\"}, \"mark\": \"bar\", \"encoding\": {\"color\": {\"type\": \"nominal\", \"field\": \"kind\"}, \"tooltip\": {\"type\": \"nominal\", \"field\": \"org\"}, \"x\": {\"type\": \"nominal\", \"field\": \"org\"}, \"y\": {\"type\": \"quantitative\", \"field\": \"count\"}}, \"width\": 600, \"$schema\": \"https://vega.github.io/schema/vega-lite/v4.8.1.json\", \"datasets\": {\"data-89692d86d54dfc132e52229fa49b255a\": [{\"org\": \"executablebooks\", \"kind\": \"comments\", \"count\": 188}, {\"org\": \"executablebooks\", \"kind\": \"issues\", \"count\": 19}, {\"org\": \"executablebooks\", \"kind\": \"prs\", \"count\": 41}, {\"org\": \"jupyterhub\", \"kind\": \"comments\", \"count\": 1}]}}, {\"mode\": \"vega-lite\"});\n",
       "</script>"
      ],
      "text/plain": [
       "alt.Chart(...)"
      ]
     },
     "execution_count": 12,
     "metadata": {},
     "output_type": "execute_result"
    }
   ],
   "source": [
    "alt.Chart(org_summaries, width=600).mark_bar().encode(\n",
    "    x='org',\n",
    "    y='count',\n",
    "    color='kind',\n",
    "    tooltip=\"org\"\n",
    ")"
   ]
  },
  {
   "cell_type": "markdown",
   "id": "unlike-matrix",
   "metadata": {
    "papermill": {
     "duration": 0.016721,
     "end_time": "2021-02-04T01:40:39.292179",
     "exception": false,
     "start_time": "2021-02-04T01:40:39.275458",
     "status": "completed"
    },
    "tags": []
   },
   "source": [
    "## By repository over time"
   ]
  },
  {
   "cell_type": "markdown",
   "id": "nutritional-campaign",
   "metadata": {
    "papermill": {
     "duration": 0.019365,
     "end_time": "2021-02-04T01:40:39.330241",
     "exception": false,
     "start_time": "2021-02-04T01:40:39.310876",
     "status": "completed"
    },
    "tags": []
   },
   "source": [
    "### Comments"
   ]
  },
  {
   "cell_type": "code",
   "execution_count": 13,
   "id": "reverse-private",
   "metadata": {
    "execution": {
     "iopub.execute_input": "2021-02-04T01:40:39.369463Z",
     "iopub.status.busy": "2021-02-04T01:40:39.368823Z",
     "iopub.status.idle": "2021-02-04T01:40:39.457782Z",
     "shell.execute_reply": "2021-02-04T01:40:39.457103Z"
    },
    "papermill": {
     "duration": 0.111064,
     "end_time": "2021-02-04T01:40:39.458016",
     "exception": false,
     "start_time": "2021-02-04T01:40:39.346952",
     "status": "completed"
    },
    "tags": [
     "hide_input"
    ]
   },
   "outputs": [
    {
     "data": {
      "text/html": [
       "\n",
       "<div id=\"altair-viz-7b2579fdcf4e4abcb5730577c4b2c37f\"></div>\n",
       "<script type=\"text/javascript\">\n",
       "  (function(spec, embedOpt){\n",
       "    let outputDiv = document.currentScript.previousElementSibling;\n",
       "    if (outputDiv.id !== \"altair-viz-7b2579fdcf4e4abcb5730577c4b2c37f\") {\n",
       "      outputDiv = document.getElementById(\"altair-viz-7b2579fdcf4e4abcb5730577c4b2c37f\");\n",
       "    }\n",
       "    const paths = {\n",
       "      \"vega\": \"https://cdn.jsdelivr.net/npm//vega@5?noext\",\n",
       "      \"vega-lib\": \"https://cdn.jsdelivr.net/npm//vega-lib?noext\",\n",
       "      \"vega-lite\": \"https://cdn.jsdelivr.net/npm//vega-lite@4.8.1?noext\",\n",
       "      \"vega-embed\": \"https://cdn.jsdelivr.net/npm//vega-embed@6?noext\",\n",
       "    };\n",
       "\n",
       "    function loadScript(lib) {\n",
       "      return new Promise(function(resolve, reject) {\n",
       "        var s = document.createElement('script');\n",
       "        s.src = paths[lib];\n",
       "        s.async = true;\n",
       "        s.onload = () => resolve(paths[lib]);\n",
       "        s.onerror = () => reject(`Error loading script: ${paths[lib]}`);\n",
       "        document.getElementsByTagName(\"head\")[0].appendChild(s);\n",
       "      });\n",
       "    }\n",
       "\n",
       "    function showError(err) {\n",
       "      outputDiv.innerHTML = `<div class=\"error\" style=\"color:red;\">${err}</div>`;\n",
       "      throw err;\n",
       "    }\n",
       "\n",
       "    function displayChart(vegaEmbed) {\n",
       "      vegaEmbed(outputDiv, spec, embedOpt)\n",
       "        .catch(err => showError(`Javascript Error: ${err.message}<br>This usually means there's a typo in your chart specification. See the javascript console for the full traceback.`));\n",
       "    }\n",
       "\n",
       "    if(typeof define === \"function\" && define.amd) {\n",
       "      requirejs.config({paths});\n",
       "      require([\"vega-embed\"], displayChart, err => showError(`Error loading script: ${err.message}`));\n",
       "    } else if (typeof vegaEmbed === \"function\") {\n",
       "      displayChart(vegaEmbed);\n",
       "    } else {\n",
       "      loadScript(\"vega\")\n",
       "        .then(() => loadScript(\"vega-lite\"))\n",
       "        .then(() => loadScript(\"vega-embed\"))\n",
       "        .catch(showError)\n",
       "        .then(() => displayChart(vegaEmbed));\n",
       "    }\n",
       "  })({\"config\": {\"axisLeft\": {\"labelFontSize\": 15}, \"axisBottom\": {\"labelFontSize\": 15}}, \"layer\": [{\"data\": {\"name\": \"data-44993c3be727cbadf5eaa844d5097d71\"}, \"mark\": \"line\", \"encoding\": {\"color\": {\"type\": \"nominal\", \"field\": \"repo\"}, \"tooltip\": {\"type\": \"nominal\", \"field\": \"repo\"}, \"x\": {\"type\": \"temporal\", \"field\": \"createdAt\"}, \"y\": {\"type\": \"quantitative\", \"field\": \"count\"}}, \"width\": 600}, {\"data\": {\"name\": \"data-746b6b7241c51fd24f3684ae9c7de375\"}, \"mark\": {\"type\": \"line\", \"color\": \"black\"}, \"encoding\": {\"x\": {\"type\": \"temporal\", \"field\": \"createdAt\"}, \"y\": {\"type\": \"quantitative\", \"field\": \"count\"}}, \"width\": 600}], \"$schema\": \"https://vega.github.io/schema/vega-lite/v4.8.1.json\", \"datasets\": {\"data-44993c3be727cbadf5eaa844d5097d71\": [{\"repo\": \"MyST-NB\", \"createdAt\": \"2020-12-20T00:00:00\", \"count\": 2}, {\"repo\": \"MyST-NB\", \"createdAt\": \"2020-12-27T00:00:00\", \"count\": 2}, {\"repo\": \"MyST-NB\", \"createdAt\": \"2021-01-03T00:00:00\", \"count\": 1}, {\"repo\": \"MyST-NB\", \"createdAt\": \"2021-01-10T00:00:00\", \"count\": 0}, {\"repo\": \"MyST-NB\", \"createdAt\": \"2021-01-17T00:00:00\", \"count\": 4}, {\"repo\": \"MyST-NB\", \"createdAt\": \"2021-01-24T00:00:00\", \"count\": 4}, {\"repo\": \"MyST-NB\", \"createdAt\": \"2021-01-31T00:00:00\", \"count\": 1}, {\"repo\": \"MyST-Parser\", \"createdAt\": \"2020-12-20T00:00:00\", \"count\": 12}, {\"repo\": \"MyST-Parser\", \"createdAt\": \"2020-12-27T00:00:00\", \"count\": 0}, {\"repo\": \"MyST-Parser\", \"createdAt\": \"2021-01-03T00:00:00\", \"count\": 7}, {\"repo\": \"MyST-Parser\", \"createdAt\": \"2021-01-10T00:00:00\", \"count\": 6}, {\"repo\": \"MyST-Parser\", \"createdAt\": \"2021-01-17T00:00:00\", \"count\": 6}, {\"repo\": \"MyST-Parser\", \"createdAt\": \"2021-01-24T00:00:00\", \"count\": 7}, {\"repo\": \"MyST-Parser\", \"createdAt\": \"2021-01-31T00:00:00\", \"count\": 1}, {\"repo\": \"jupyter-book\", \"createdAt\": \"2020-12-13T00:00:00\", \"count\": 8}, {\"repo\": \"jupyter-book\", \"createdAt\": \"2020-12-20T00:00:00\", \"count\": 6}, {\"repo\": \"jupyter-book\", \"createdAt\": \"2020-12-27T00:00:00\", \"count\": 3}, {\"repo\": \"jupyter-book\", \"createdAt\": \"2021-01-03T00:00:00\", \"count\": 10}, {\"repo\": \"jupyter-book\", \"createdAt\": \"2021-01-10T00:00:00\", \"count\": 13}, {\"repo\": \"jupyter-book\", \"createdAt\": \"2021-01-17T00:00:00\", \"count\": 7}, {\"repo\": \"jupyter-book\", \"createdAt\": \"2021-01-24T00:00:00\", \"count\": 14}, {\"repo\": \"jupyter-book\", \"createdAt\": \"2021-01-31T00:00:00\", \"count\": 2}, {\"repo\": \"jupyter-book\", \"createdAt\": \"2021-02-07T00:00:00\", \"count\": 6}, {\"repo\": \"jupyter-cache\", \"createdAt\": \"2021-01-17T00:00:00\", \"count\": 1}, {\"repo\": \"markdown-it-py\", \"createdAt\": \"2020-12-13T00:00:00\", \"count\": 4}, {\"repo\": \"markdown-it-py\", \"createdAt\": \"2020-12-20T00:00:00\", \"count\": 8}, {\"repo\": \"markdown-it-py\", \"createdAt\": \"2020-12-27T00:00:00\", \"count\": 4}, {\"repo\": \"markdown-it-py\", \"createdAt\": \"2021-01-03T00:00:00\", \"count\": 7}, {\"repo\": \"markdown-it-py\", \"createdAt\": \"2021-01-10T00:00:00\", \"count\": 3}, {\"repo\": \"markdown-it-py\", \"createdAt\": \"2021-01-17T00:00:00\", \"count\": 2}, {\"repo\": \"mdformat-tables\", \"createdAt\": \"2020-12-13T00:00:00\", \"count\": 1}, {\"repo\": \"mdit-py-plugins\", \"createdAt\": \"2020-12-20T00:00:00\", \"count\": 2}, {\"repo\": \"mdit-py-plugins\", \"createdAt\": \"2020-12-27T00:00:00\", \"count\": 0}, {\"repo\": \"mdit-py-plugins\", \"createdAt\": \"2021-01-03T00:00:00\", \"count\": 2}, {\"repo\": \"meta\", \"createdAt\": \"2020-12-27T00:00:00\", \"count\": 3}, {\"repo\": \"meta\", \"createdAt\": \"2021-01-03T00:00:00\", \"count\": 1}, {\"repo\": \"meta\", \"createdAt\": \"2021-01-10T00:00:00\", \"count\": 0}, {\"repo\": \"meta\", \"createdAt\": \"2021-01-17T00:00:00\", \"count\": 1}, {\"repo\": \"meta\", \"createdAt\": \"2021-01-24T00:00:00\", \"count\": 1}, {\"repo\": \"meta\", \"createdAt\": \"2021-01-31T00:00:00\", \"count\": 5}, {\"repo\": \"rst-to-myst\", \"createdAt\": \"2021-01-10T00:00:00\", \"count\": 8}, {\"repo\": \"sphinx-book-theme\", \"createdAt\": \"2021-01-24T00:00:00\", \"count\": 5}, {\"repo\": \"sphinx-book-theme\", \"createdAt\": \"2021-01-31T00:00:00\", \"count\": 0}, {\"repo\": \"sphinx-book-theme\", \"createdAt\": \"2021-02-07T00:00:00\", \"count\": 1}, {\"repo\": \"sphinx-copybutton\", \"createdAt\": \"2020-12-06T00:00:00\", \"count\": 3}, {\"repo\": \"sphinx-tabs\", \"createdAt\": \"2021-01-24T00:00:00\", \"count\": 4}, {\"repo\": \"zero-to-jupyterhub-k8s\", \"createdAt\": \"2021-01-03T00:00:00\", \"count\": 1}], \"data-746b6b7241c51fd24f3684ae9c7de375\": [{\"createdAt\": \"2020-12-06T00:00:00\", \"count\": 3}, {\"createdAt\": \"2020-12-13T00:00:00\", \"count\": 13}, {\"createdAt\": \"2020-12-20T00:00:00\", \"count\": 30}, {\"createdAt\": \"2020-12-27T00:00:00\", \"count\": 12}, {\"createdAt\": \"2021-01-03T00:00:00\", \"count\": 29}, {\"createdAt\": \"2021-01-10T00:00:00\", \"count\": 30}, {\"createdAt\": \"2021-01-17T00:00:00\", \"count\": 21}, {\"createdAt\": \"2021-01-24T00:00:00\", \"count\": 35}, {\"createdAt\": \"2021-01-31T00:00:00\", \"count\": 9}, {\"createdAt\": \"2021-02-07T00:00:00\", \"count\": 7}]}}, {\"mode\": \"vega-lite\"});\n",
       "</script>"
      ],
      "text/plain": [
       "alt.LayerChart(...)"
      ]
     },
     "execution_count": 13,
     "metadata": {},
     "output_type": "execute_result"
    }
   ],
   "source": [
    "comments_time = comments.groupby('repo').resample('W', on='createdAt').count()['author'].reset_index()\n",
    "comments_time = comments_time.rename(columns={'author': 'count'})\n",
    "comments_time_total = comments_time.groupby('createdAt').agg({\"count\": \"sum\"}).reset_index()\n",
    "ch1 = alt.Chart(comments_time, width=600).mark_line().encode(\n",
    "    x='createdAt',\n",
    "    y='count',\n",
    "    color='repo',\n",
    "    tooltip=\"repo\"\n",
    ")\n",
    "\n",
    "ch2 = alt.Chart(comments_time_total, width=600).mark_line(color=\"black\").encode(\n",
    "    x='createdAt',\n",
    "    y='count',\n",
    ")\n",
    "\n",
    "ch1 + ch2"
   ]
  },
  {
   "cell_type": "markdown",
   "id": "printable-copper",
   "metadata": {
    "papermill": {
     "duration": 0.022177,
     "end_time": "2021-02-04T01:40:39.507008",
     "exception": false,
     "start_time": "2021-02-04T01:40:39.484831",
     "status": "completed"
    },
    "tags": []
   },
   "source": [
    "### PRs"
   ]
  },
  {
   "cell_type": "code",
   "execution_count": 14,
   "id": "otherwise-catalyst",
   "metadata": {
    "execution": {
     "iopub.execute_input": "2021-02-04T01:40:39.561588Z",
     "iopub.status.busy": "2021-02-04T01:40:39.561028Z",
     "iopub.status.idle": "2021-02-04T01:40:39.624533Z",
     "shell.execute_reply": "2021-02-04T01:40:39.625030Z"
    },
    "papermill": {
     "duration": 0.100551,
     "end_time": "2021-02-04T01:40:39.625198",
     "exception": false,
     "start_time": "2021-02-04T01:40:39.524647",
     "status": "completed"
    },
    "tags": [
     "hide_input"
    ]
   },
   "outputs": [
    {
     "data": {
      "text/html": [
       "\n",
       "<div id=\"altair-viz-587a436240224adfb0414296adfb0163\"></div>\n",
       "<script type=\"text/javascript\">\n",
       "  (function(spec, embedOpt){\n",
       "    let outputDiv = document.currentScript.previousElementSibling;\n",
       "    if (outputDiv.id !== \"altair-viz-587a436240224adfb0414296adfb0163\") {\n",
       "      outputDiv = document.getElementById(\"altair-viz-587a436240224adfb0414296adfb0163\");\n",
       "    }\n",
       "    const paths = {\n",
       "      \"vega\": \"https://cdn.jsdelivr.net/npm//vega@5?noext\",\n",
       "      \"vega-lib\": \"https://cdn.jsdelivr.net/npm//vega-lib?noext\",\n",
       "      \"vega-lite\": \"https://cdn.jsdelivr.net/npm//vega-lite@4.8.1?noext\",\n",
       "      \"vega-embed\": \"https://cdn.jsdelivr.net/npm//vega-embed@6?noext\",\n",
       "    };\n",
       "\n",
       "    function loadScript(lib) {\n",
       "      return new Promise(function(resolve, reject) {\n",
       "        var s = document.createElement('script');\n",
       "        s.src = paths[lib];\n",
       "        s.async = true;\n",
       "        s.onload = () => resolve(paths[lib]);\n",
       "        s.onerror = () => reject(`Error loading script: ${paths[lib]}`);\n",
       "        document.getElementsByTagName(\"head\")[0].appendChild(s);\n",
       "      });\n",
       "    }\n",
       "\n",
       "    function showError(err) {\n",
       "      outputDiv.innerHTML = `<div class=\"error\" style=\"color:red;\">${err}</div>`;\n",
       "      throw err;\n",
       "    }\n",
       "\n",
       "    function displayChart(vegaEmbed) {\n",
       "      vegaEmbed(outputDiv, spec, embedOpt)\n",
       "        .catch(err => showError(`Javascript Error: ${err.message}<br>This usually means there's a typo in your chart specification. See the javascript console for the full traceback.`));\n",
       "    }\n",
       "\n",
       "    if(typeof define === \"function\" && define.amd) {\n",
       "      requirejs.config({paths});\n",
       "      require([\"vega-embed\"], displayChart, err => showError(`Error loading script: ${err.message}`));\n",
       "    } else if (typeof vegaEmbed === \"function\") {\n",
       "      displayChart(vegaEmbed);\n",
       "    } else {\n",
       "      loadScript(\"vega\")\n",
       "        .then(() => loadScript(\"vega-lite\"))\n",
       "        .then(() => loadScript(\"vega-embed\"))\n",
       "        .catch(showError)\n",
       "        .then(() => displayChart(vegaEmbed));\n",
       "    }\n",
       "  })({\"config\": {\"axisLeft\": {\"labelFontSize\": 15}, \"axisBottom\": {\"labelFontSize\": 15}}, \"layer\": [{\"data\": {\"name\": \"data-2c68b00c63b2b91ce535abb6efbc0fb2\"}, \"mark\": \"line\", \"encoding\": {\"color\": {\"type\": \"nominal\", \"field\": \"repo\"}, \"tooltip\": {\"type\": \"nominal\", \"field\": \"repo\"}, \"x\": {\"type\": \"temporal\", \"field\": \"createdAt\"}, \"y\": {\"type\": \"quantitative\", \"field\": \"count\"}}, \"width\": 600}, {\"data\": {\"name\": \"data-11f3cb0849384db8763f84ba4149ae49\"}, \"mark\": {\"type\": \"line\", \"color\": \"black\"}, \"encoding\": {\"x\": {\"type\": \"temporal\", \"field\": \"createdAt\"}, \"y\": {\"type\": \"quantitative\", \"field\": \"count\"}}, \"width\": 600}], \"$schema\": \"https://vega.github.io/schema/vega-lite/v4.8.1.json\", \"datasets\": {\"data-2c68b00c63b2b91ce535abb6efbc0fb2\": [{\"repo\": \"MyST-NB\", \"createdAt\": \"2020-12-20T00:00:00\", \"count\": 1}, {\"repo\": \"MyST-NB\", \"createdAt\": \"2020-12-27T00:00:00\", \"count\": 0}, {\"repo\": \"MyST-NB\", \"createdAt\": \"2021-01-03T00:00:00\", \"count\": 0}, {\"repo\": \"MyST-NB\", \"createdAt\": \"2021-01-10T00:00:00\", \"count\": 0}, {\"repo\": \"MyST-NB\", \"createdAt\": \"2021-01-17T00:00:00\", \"count\": 0}, {\"repo\": \"MyST-NB\", \"createdAt\": \"2021-01-24T00:00:00\", \"count\": 3}, {\"repo\": \"MyST-Parser\", \"createdAt\": \"2020-12-20T00:00:00\", \"count\": 2}, {\"repo\": \"MyST-Parser\", \"createdAt\": \"2020-12-27T00:00:00\", \"count\": 0}, {\"repo\": \"MyST-Parser\", \"createdAt\": \"2021-01-03T00:00:00\", \"count\": 2}, {\"repo\": \"MyST-Parser\", \"createdAt\": \"2021-01-10T00:00:00\", \"count\": 1}, {\"repo\": \"MyST-Parser\", \"createdAt\": \"2021-01-17T00:00:00\", \"count\": 2}, {\"repo\": \"MyST-Parser\", \"createdAt\": \"2021-01-24T00:00:00\", \"count\": 8}, {\"repo\": \"jupyter-book\", \"createdAt\": \"2021-02-07T00:00:00\", \"count\": 1}, {\"repo\": \"jupyter-cache\", \"createdAt\": \"2021-01-17T00:00:00\", \"count\": 1}, {\"repo\": \"markdown-it-py\", \"createdAt\": \"2020-12-13T00:00:00\", \"count\": 2}, {\"repo\": \"markdown-it-py\", \"createdAt\": \"2020-12-20T00:00:00\", \"count\": 4}, {\"repo\": \"markdown-it-py\", \"createdAt\": \"2020-12-27T00:00:00\", \"count\": 0}, {\"repo\": \"markdown-it-py\", \"createdAt\": \"2021-01-03T00:00:00\", \"count\": 1}, {\"repo\": \"mdformat-tables\", \"createdAt\": \"2020-12-13T00:00:00\", \"count\": 1}, {\"repo\": \"mdit-py-plugins\", \"createdAt\": \"2020-12-20T00:00:00\", \"count\": 2}, {\"repo\": \"meta\", \"createdAt\": \"2020-12-27T00:00:00\", \"count\": 1}, {\"repo\": \"rst-to-myst\", \"createdAt\": \"2021-01-03T00:00:00\", \"count\": 5}, {\"repo\": \"rst-to-myst\", \"createdAt\": \"2021-01-10T00:00:00\", \"count\": 1}, {\"repo\": \"sphinx-book-theme\", \"createdAt\": \"2021-01-03T00:00:00\", \"count\": 1}, {\"repo\": \"sphinx-book-theme\", \"createdAt\": \"2021-01-10T00:00:00\", \"count\": 0}, {\"repo\": \"sphinx-book-theme\", \"createdAt\": \"2021-01-17T00:00:00\", \"count\": 0}, {\"repo\": \"sphinx-book-theme\", \"createdAt\": \"2021-01-24T00:00:00\", \"count\": 2}], \"data-11f3cb0849384db8763f84ba4149ae49\": [{\"createdAt\": \"2020-12-13T00:00:00\", \"count\": 3}, {\"createdAt\": \"2020-12-20T00:00:00\", \"count\": 9}, {\"createdAt\": \"2020-12-27T00:00:00\", \"count\": 1}, {\"createdAt\": \"2021-01-03T00:00:00\", \"count\": 9}, {\"createdAt\": \"2021-01-10T00:00:00\", \"count\": 2}, {\"createdAt\": \"2021-01-17T00:00:00\", \"count\": 3}, {\"createdAt\": \"2021-01-24T00:00:00\", \"count\": 13}, {\"createdAt\": \"2021-02-07T00:00:00\", \"count\": 1}]}}, {\"mode\": \"vega-lite\"});\n",
       "</script>"
      ],
      "text/plain": [
       "alt.LayerChart(...)"
      ]
     },
     "execution_count": 14,
     "metadata": {},
     "output_type": "execute_result"
    }
   ],
   "source": [
    "prs_time = prs.groupby('repo').resample('W', on='createdAt').count()['author'].reset_index()\n",
    "prs_time = prs_time.rename(columns={'author': 'count'})\n",
    "prs_time_total = prs_time.groupby('createdAt').agg({\"count\": \"sum\"}).reset_index()\n",
    "\n",
    "ch1 = alt.Chart(prs_time, width=600).mark_line().encode(\n",
    "    x='createdAt',\n",
    "    y='count',\n",
    "    color='repo',\n",
    "    tooltip=\"repo\"\n",
    ")\n",
    "\n",
    "ch2 = alt.Chart(prs_time_total, width=600).mark_line(color=\"black\").encode(\n",
    "    x='createdAt',\n",
    "    y='count',\n",
    ")\n",
    "\n",
    "ch1 + ch2"
   ]
  },
  {
   "cell_type": "code",
   "execution_count": 15,
   "id": "mobile-viking",
   "metadata": {
    "execution": {
     "iopub.execute_input": "2021-02-04T01:40:39.676962Z",
     "iopub.status.busy": "2021-02-04T01:40:39.676393Z",
     "iopub.status.idle": "2021-02-04T01:40:39.731987Z",
     "shell.execute_reply": "2021-02-04T01:40:39.732594Z"
    },
    "papermill": {
     "duration": 0.085373,
     "end_time": "2021-02-04T01:40:39.732761",
     "exception": false,
     "start_time": "2021-02-04T01:40:39.647388",
     "status": "completed"
    },
    "tags": [
     "hide_input"
    ]
   },
   "outputs": [
    {
     "data": {
      "text/html": [
       "\n",
       "<div id=\"altair-viz-ccce3219832a42ae870db9a817c8e927\"></div>\n",
       "<script type=\"text/javascript\">\n",
       "  (function(spec, embedOpt){\n",
       "    let outputDiv = document.currentScript.previousElementSibling;\n",
       "    if (outputDiv.id !== \"altair-viz-ccce3219832a42ae870db9a817c8e927\") {\n",
       "      outputDiv = document.getElementById(\"altair-viz-ccce3219832a42ae870db9a817c8e927\");\n",
       "    }\n",
       "    const paths = {\n",
       "      \"vega\": \"https://cdn.jsdelivr.net/npm//vega@5?noext\",\n",
       "      \"vega-lib\": \"https://cdn.jsdelivr.net/npm//vega-lib?noext\",\n",
       "      \"vega-lite\": \"https://cdn.jsdelivr.net/npm//vega-lite@4.8.1?noext\",\n",
       "      \"vega-embed\": \"https://cdn.jsdelivr.net/npm//vega-embed@6?noext\",\n",
       "    };\n",
       "\n",
       "    function loadScript(lib) {\n",
       "      return new Promise(function(resolve, reject) {\n",
       "        var s = document.createElement('script');\n",
       "        s.src = paths[lib];\n",
       "        s.async = true;\n",
       "        s.onload = () => resolve(paths[lib]);\n",
       "        s.onerror = () => reject(`Error loading script: ${paths[lib]}`);\n",
       "        document.getElementsByTagName(\"head\")[0].appendChild(s);\n",
       "      });\n",
       "    }\n",
       "\n",
       "    function showError(err) {\n",
       "      outputDiv.innerHTML = `<div class=\"error\" style=\"color:red;\">${err}</div>`;\n",
       "      throw err;\n",
       "    }\n",
       "\n",
       "    function displayChart(vegaEmbed) {\n",
       "      vegaEmbed(outputDiv, spec, embedOpt)\n",
       "        .catch(err => showError(`Javascript Error: ${err.message}<br>This usually means there's a typo in your chart specification. See the javascript console for the full traceback.`));\n",
       "    }\n",
       "\n",
       "    if(typeof define === \"function\" && define.amd) {\n",
       "      requirejs.config({paths});\n",
       "      require([\"vega-embed\"], displayChart, err => showError(`Error loading script: ${err.message}`));\n",
       "    } else if (typeof vegaEmbed === \"function\") {\n",
       "      displayChart(vegaEmbed);\n",
       "    } else {\n",
       "      loadScript(\"vega\")\n",
       "        .then(() => loadScript(\"vega-lite\"))\n",
       "        .then(() => loadScript(\"vega-embed\"))\n",
       "        .catch(showError)\n",
       "        .then(() => displayChart(vegaEmbed));\n",
       "    }\n",
       "  })({\"config\": {\"axisLeft\": {\"labelFontSize\": 15}, \"axisBottom\": {\"labelFontSize\": 15}}, \"data\": {\"name\": \"data-b26b0766f702c09d72d7f6c6008d6873\"}, \"mark\": \"line\", \"encoding\": {\"color\": {\"type\": \"nominal\", \"field\": \"repo\"}, \"tooltip\": {\"type\": \"nominal\", \"field\": \"repo\"}, \"x\": {\"type\": \"temporal\", \"field\": \"closedAt\"}, \"y\": {\"type\": \"quantitative\", \"field\": \"count\"}}, \"width\": 600, \"$schema\": \"https://vega.github.io/schema/vega-lite/v4.8.1.json\", \"datasets\": {\"data-b26b0766f702c09d72d7f6c6008d6873\": [{\"repo\": \"MyST-NB\", \"closedAt\": \"2020-12-27T00:00:00\", \"count\": 1}, {\"repo\": \"MyST-NB\", \"closedAt\": \"2021-01-03T00:00:00\", \"count\": 1}, {\"repo\": \"MyST-NB\", \"closedAt\": \"2021-01-10T00:00:00\", \"count\": 0}, {\"repo\": \"MyST-NB\", \"closedAt\": \"2021-01-17T00:00:00\", \"count\": 0}, {\"repo\": \"MyST-NB\", \"closedAt\": \"2021-01-24T00:00:00\", \"count\": 2}, {\"repo\": \"MyST-Parser\", \"closedAt\": \"2020-12-20T00:00:00\", \"count\": 3}, {\"repo\": \"MyST-Parser\", \"closedAt\": \"2020-12-27T00:00:00\", \"count\": 0}, {\"repo\": \"MyST-Parser\", \"closedAt\": \"2021-01-03T00:00:00\", \"count\": 2}, {\"repo\": \"MyST-Parser\", \"closedAt\": \"2021-01-10T00:00:00\", \"count\": 0}, {\"repo\": \"MyST-Parser\", \"closedAt\": \"2021-01-17T00:00:00\", \"count\": 3}, {\"repo\": \"MyST-Parser\", \"closedAt\": \"2021-01-24T00:00:00\", \"count\": 8}, {\"repo\": \"jupyter-book\", \"closedAt\": \"2021-01-17T00:00:00\", \"count\": 1}, {\"repo\": \"jupyter-book\", \"closedAt\": \"2021-01-24T00:00:00\", \"count\": 0}, {\"repo\": \"jupyter-book\", \"closedAt\": \"2021-01-31T00:00:00\", \"count\": 0}, {\"repo\": \"jupyter-book\", \"closedAt\": \"2021-02-07T00:00:00\", \"count\": 1}, {\"repo\": \"jupyter-cache\", \"closedAt\": \"2021-01-17T00:00:00\", \"count\": 2}, {\"repo\": \"markdown-it-py\", \"closedAt\": \"2020-12-13T00:00:00\", \"count\": 6}, {\"repo\": \"markdown-it-py\", \"closedAt\": \"2020-12-20T00:00:00\", \"count\": 11}, {\"repo\": \"markdown-it-py\", \"closedAt\": \"2020-12-27T00:00:00\", \"count\": 2}, {\"repo\": \"markdown-it-py\", \"closedAt\": \"2021-01-03T00:00:00\", \"count\": 5}, {\"repo\": \"markdown-it-py\", \"closedAt\": \"2021-01-10T00:00:00\", \"count\": 0}, {\"repo\": \"markdown-it-py\", \"closedAt\": \"2021-01-17T00:00:00\", \"count\": 1}, {\"repo\": \"mdformat-tables\", \"closedAt\": \"2020-12-13T00:00:00\", \"count\": 1}, {\"repo\": \"mdit-py-plugins\", \"closedAt\": \"2020-12-20T00:00:00\", \"count\": 3}, {\"repo\": \"meta\", \"closedAt\": \"2020-12-27T00:00:00\", \"count\": 1}, {\"repo\": \"meta\", \"closedAt\": \"2021-01-03T00:00:00\", \"count\": 1}, {\"repo\": \"meta\", \"closedAt\": \"2021-01-10T00:00:00\", \"count\": 0}, {\"repo\": \"meta\", \"closedAt\": \"2021-01-17T00:00:00\", \"count\": 1}, {\"repo\": \"meta\", \"closedAt\": \"2021-01-24T00:00:00\", \"count\": 1}, {\"repo\": \"meta\", \"closedAt\": \"2021-01-31T00:00:00\", \"count\": 3}, {\"repo\": \"rst-to-myst\", \"closedAt\": \"2021-01-03T00:00:00\", \"count\": 5}, {\"repo\": \"rst-to-myst\", \"closedAt\": \"2021-01-10T00:00:00\", \"count\": 1}, {\"repo\": \"sphinx-book-theme\", \"closedAt\": \"2021-01-03T00:00:00\", \"count\": 1}, {\"repo\": \"sphinx-book-theme\", \"closedAt\": \"2021-01-10T00:00:00\", \"count\": 0}, {\"repo\": \"sphinx-book-theme\", \"closedAt\": \"2021-01-17T00:00:00\", \"count\": 0}, {\"repo\": \"sphinx-book-theme\", \"closedAt\": \"2021-01-24T00:00:00\", \"count\": 2}]}}, {\"mode\": \"vega-lite\"});\n",
       "</script>"
      ],
      "text/plain": [
       "alt.Chart(...)"
      ]
     },
     "execution_count": 15,
     "metadata": {},
     "output_type": "execute_result"
    }
   ],
   "source": [
    "closed_by_time = closed_by.groupby('repo').resample('W', on='closedAt').count()['author'].reset_index()\n",
    "closed_by_time = closed_by_time.rename(columns={'author': 'count'})\n",
    "\n",
    "alt.Chart(closed_by_time, width=600).mark_line().encode(\n",
    "    x='closedAt',\n",
    "    y='count',\n",
    "    color='repo',\n",
    "    tooltip=\"repo\"\n",
    ")"
   ]
  },
  {
   "cell_type": "markdown",
   "id": "packed-newark",
   "metadata": {
    "papermill": {
     "duration": 0.019948,
     "end_time": "2021-02-04T01:40:39.773064",
     "exception": false,
     "start_time": "2021-02-04T01:40:39.753116",
     "status": "completed"
    },
    "tags": []
   },
   "source": [
    "## By type over time"
   ]
  },
  {
   "cell_type": "code",
   "execution_count": 16,
   "id": "serial-darwin",
   "metadata": {
    "execution": {
     "iopub.execute_input": "2021-02-04T01:40:39.824507Z",
     "iopub.status.busy": "2021-02-04T01:40:39.823657Z",
     "iopub.status.idle": "2021-02-04T01:40:39.841051Z",
     "shell.execute_reply": "2021-02-04T01:40:39.841696Z"
    },
    "papermill": {
     "duration": 0.048707,
     "end_time": "2021-02-04T01:40:39.841866",
     "exception": false,
     "start_time": "2021-02-04T01:40:39.793159",
     "status": "completed"
    },
    "tags": [
     "remove_cell"
    ]
   },
   "outputs": [],
   "source": [
    "prs_time = prs[['author', 'createdAt']].resample('W', on='createdAt').count()['author'].reset_index()\n",
    "prs_time = prs_time.rename(columns={'author': 'prs'})\n",
    "comments_time = comments[['author', 'createdAt']].resample('W', on='createdAt').count()['author'].reset_index()\n",
    "comments_time = comments_time.rename(columns={'author': 'comments'})\n",
    "\n",
    "total_time = pd.merge(prs_time, comments_time, on='createdAt', how='outer')\n",
    "total_time = total_time.melt(id_vars='createdAt', var_name=\"kind\", value_name=\"count\")\n"
   ]
  },
  {
   "cell_type": "code",
   "execution_count": 17,
   "id": "seven-split",
   "metadata": {
    "execution": {
     "iopub.execute_input": "2021-02-04T01:40:39.903748Z",
     "iopub.status.busy": "2021-02-04T01:40:39.895932Z",
     "iopub.status.idle": "2021-02-04T01:40:39.907276Z",
     "shell.execute_reply": "2021-02-04T01:40:39.906768Z"
    },
    "papermill": {
     "duration": 0.04557,
     "end_time": "2021-02-04T01:40:39.907522",
     "exception": false,
     "start_time": "2021-02-04T01:40:39.861952",
     "status": "completed"
    },
    "tags": [
     "hide_input"
    ]
   },
   "outputs": [
    {
     "data": {
      "text/html": [
       "\n",
       "<div id=\"altair-viz-94ef9001e7bf4bcda43e8b545769a6f7\"></div>\n",
       "<script type=\"text/javascript\">\n",
       "  (function(spec, embedOpt){\n",
       "    let outputDiv = document.currentScript.previousElementSibling;\n",
       "    if (outputDiv.id !== \"altair-viz-94ef9001e7bf4bcda43e8b545769a6f7\") {\n",
       "      outputDiv = document.getElementById(\"altair-viz-94ef9001e7bf4bcda43e8b545769a6f7\");\n",
       "    }\n",
       "    const paths = {\n",
       "      \"vega\": \"https://cdn.jsdelivr.net/npm//vega@5?noext\",\n",
       "      \"vega-lib\": \"https://cdn.jsdelivr.net/npm//vega-lib?noext\",\n",
       "      \"vega-lite\": \"https://cdn.jsdelivr.net/npm//vega-lite@4.8.1?noext\",\n",
       "      \"vega-embed\": \"https://cdn.jsdelivr.net/npm//vega-embed@6?noext\",\n",
       "    };\n",
       "\n",
       "    function loadScript(lib) {\n",
       "      return new Promise(function(resolve, reject) {\n",
       "        var s = document.createElement('script');\n",
       "        s.src = paths[lib];\n",
       "        s.async = true;\n",
       "        s.onload = () => resolve(paths[lib]);\n",
       "        s.onerror = () => reject(`Error loading script: ${paths[lib]}`);\n",
       "        document.getElementsByTagName(\"head\")[0].appendChild(s);\n",
       "      });\n",
       "    }\n",
       "\n",
       "    function showError(err) {\n",
       "      outputDiv.innerHTML = `<div class=\"error\" style=\"color:red;\">${err}</div>`;\n",
       "      throw err;\n",
       "    }\n",
       "\n",
       "    function displayChart(vegaEmbed) {\n",
       "      vegaEmbed(outputDiv, spec, embedOpt)\n",
       "        .catch(err => showError(`Javascript Error: ${err.message}<br>This usually means there's a typo in your chart specification. See the javascript console for the full traceback.`));\n",
       "    }\n",
       "\n",
       "    if(typeof define === \"function\" && define.amd) {\n",
       "      requirejs.config({paths});\n",
       "      require([\"vega-embed\"], displayChart, err => showError(`Error loading script: ${err.message}`));\n",
       "    } else if (typeof vegaEmbed === \"function\") {\n",
       "      displayChart(vegaEmbed);\n",
       "    } else {\n",
       "      loadScript(\"vega\")\n",
       "        .then(() => loadScript(\"vega-lite\"))\n",
       "        .then(() => loadScript(\"vega-embed\"))\n",
       "        .catch(showError)\n",
       "        .then(() => displayChart(vegaEmbed));\n",
       "    }\n",
       "  })({\"config\": {\"axisLeft\": {\"labelFontSize\": 15}, \"axisBottom\": {\"labelFontSize\": 15}}, \"data\": {\"name\": \"data-170c965b3478487a5d92ae5cd9de0020\"}, \"mark\": \"line\", \"encoding\": {\"color\": {\"type\": \"nominal\", \"field\": \"kind\"}, \"x\": {\"type\": \"temporal\", \"field\": \"createdAt\"}, \"y\": {\"type\": \"quantitative\", \"field\": \"count\"}}, \"width\": 600, \"$schema\": \"https://vega.github.io/schema/vega-lite/v4.8.1.json\", \"datasets\": {\"data-170c965b3478487a5d92ae5cd9de0020\": [{\"createdAt\": \"2020-12-13T00:00:00\", \"kind\": \"prs\", \"count\": 3.0}, {\"createdAt\": \"2020-12-20T00:00:00\", \"kind\": \"prs\", \"count\": 9.0}, {\"createdAt\": \"2020-12-27T00:00:00\", \"kind\": \"prs\", \"count\": 1.0}, {\"createdAt\": \"2021-01-03T00:00:00\", \"kind\": \"prs\", \"count\": 9.0}, {\"createdAt\": \"2021-01-10T00:00:00\", \"kind\": \"prs\", \"count\": 2.0}, {\"createdAt\": \"2021-01-17T00:00:00\", \"kind\": \"prs\", \"count\": 3.0}, {\"createdAt\": \"2021-01-24T00:00:00\", \"kind\": \"prs\", \"count\": 13.0}, {\"createdAt\": \"2021-01-31T00:00:00\", \"kind\": \"prs\", \"count\": 0.0}, {\"createdAt\": \"2021-02-07T00:00:00\", \"kind\": \"prs\", \"count\": 1.0}, {\"createdAt\": \"2020-12-06T00:00:00\", \"kind\": \"prs\", \"count\": null}, {\"createdAt\": \"2020-12-13T00:00:00\", \"kind\": \"comments\", \"count\": 13.0}, {\"createdAt\": \"2020-12-20T00:00:00\", \"kind\": \"comments\", \"count\": 30.0}, {\"createdAt\": \"2020-12-27T00:00:00\", \"kind\": \"comments\", \"count\": 12.0}, {\"createdAt\": \"2021-01-03T00:00:00\", \"kind\": \"comments\", \"count\": 29.0}, {\"createdAt\": \"2021-01-10T00:00:00\", \"kind\": \"comments\", \"count\": 30.0}, {\"createdAt\": \"2021-01-17T00:00:00\", \"kind\": \"comments\", \"count\": 21.0}, {\"createdAt\": \"2021-01-24T00:00:00\", \"kind\": \"comments\", \"count\": 35.0}, {\"createdAt\": \"2021-01-31T00:00:00\", \"kind\": \"comments\", \"count\": 9.0}, {\"createdAt\": \"2021-02-07T00:00:00\", \"kind\": \"comments\", \"count\": 7.0}, {\"createdAt\": \"2020-12-06T00:00:00\", \"kind\": \"comments\", \"count\": 3.0}]}}, {\"mode\": \"vega-lite\"});\n",
       "</script>"
      ],
      "text/plain": [
       "alt.Chart(...)"
      ]
     },
     "execution_count": 17,
     "metadata": {},
     "output_type": "execute_result"
    }
   ],
   "source": [
    "alt.Chart(total_time, width=600).mark_line().encode(\n",
    "    x='createdAt',\n",
    "    y='count',\n",
    "    color='kind'\n",
    ")"
   ]
  }
 ],
 "metadata": {
  "kernelspec": {
   "display_name": "Python 3",
   "language": "python",
   "name": "python3"
  },
  "language_info": {
   "codemirror_mode": {
    "name": "ipython",
    "version": 3
   },
   "file_extension": ".py",
   "mimetype": "text/x-python",
   "name": "python",
   "nbconvert_exporter": "python",
   "pygments_lexer": "ipython3",
   "version": "3.7.9"
  },
  "papermill": {
   "default_parameters": {},
   "duration": 3.76453,
   "end_time": "2021-02-04T01:40:40.337430",
   "environment_variables": {},
   "exception": null,
   "input_path": "./person.ipynb",
   "output_path": "people/chrisjsewell.ipynb",
   "parameters": {
    "n_days": 60,
    "person": "chrisjsewell"
   },
   "start_time": "2021-02-04T01:40:36.572900",
   "version": "2.3.2"
  },
  "widgets": {
   "application/vnd.jupyter.widget-state+json": {
    "state": {},
    "version_major": 2,
    "version_minor": 0
   }
  }
 },
 "nbformat": 4,
 "nbformat_minor": 5
}